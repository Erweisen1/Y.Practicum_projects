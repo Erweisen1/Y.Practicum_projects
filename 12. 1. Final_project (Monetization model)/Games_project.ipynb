{
 "cells": [
  {
   "cell_type": "markdown",
   "metadata": {
    "toc": true
   },
   "source": [
    "<h1>Содержание<span class=\"tocSkip\"></span></h1>\n",
    "<div class=\"toc\"><ul class=\"toc-item\"><li><span><a href=\"#Модель-монетизации-игрового-приложения-&quot;Космические-братья&quot;\" data-toc-modified-id=\"Модель-монетизации-игрового-приложения-&quot;Космические-братья&quot;-1\">Модель монетизации игрового приложения \"Космические братья\"</a></span></li><li><span><a href=\"#Материалы\" data-toc-modified-id=\"Материалы-2\">Материалы</a></span></li><li><span><a href=\"#Описание-проекта\" data-toc-modified-id=\"Описание-проекта-3\">Описание проекта</a></span></li><li><span><a href=\"#Загрузка-данных\" data-toc-modified-id=\"Загрузка-данных-4\">Загрузка данных</a></span></li><li><span><a href=\"#Предобработка-данных\" data-toc-modified-id=\"Предобработка-данных-5\">Предобработка данных</a></span><ul class=\"toc-item\"><li><ul class=\"toc-item\"><li><span><a href=\"#Таблица-game_actions\" data-toc-modified-id=\"Таблица-game_actions-5.0.1\">Таблица game_actions</a></span></li><li><span><a href=\"#Таблица-costs\" data-toc-modified-id=\"Таблица-costs-5.0.2\">Таблица costs</a></span></li><li><span><a href=\"#Таблица-user_source\" data-toc-modified-id=\"Таблица-user_source-5.0.3\">Таблица user_source</a></span></li></ul></li><li><span><a href=\"#Вывод\" data-toc-modified-id=\"Вывод-5.1\">Вывод</a></span></li></ul></li><li><span><a href=\"#Исследовательский-анализ-данных\" data-toc-modified-id=\"Исследовательский-анализ-данных-6\">Исследовательский анализ данных</a></span><ul class=\"toc-item\"><li><span><a href=\"#Игровые-показатели\" data-toc-modified-id=\"Игровые-показатели-6.1\">Игровые показатели</a></span><ul class=\"toc-item\"><li><span><a href=\"#Активность-по-дням\" data-toc-modified-id=\"Активность-по-дням-6.1.1\">Активность по дням</a></span></li><li><span><a href=\"#Распространенность-зданий\" data-toc-modified-id=\"Распространенность-зданий-6.1.2\">Распространенность зданий</a></span></li><li><span><a href=\"#Распространенность-событий\" data-toc-modified-id=\"Распространенность-событий-6.1.3\">Распространенность событий</a></span></li></ul></li><li><span><a href=\"#Показатели-рекламной-активности\" data-toc-modified-id=\"Показатели-рекламной-активности-6.2\">Показатели рекламной активности</a></span><ul class=\"toc-item\"><li><span><a href=\"#Количество-уникальных-пользователей-из-источников\" data-toc-modified-id=\"Количество-уникальных-пользователей-из-источников-6.2.1\">Количество уникальных пользователей из источников</a></span></li><li><span><a href=\"#Затраты-на-продвижение\" data-toc-modified-id=\"Затраты-на-продвижение-6.2.2\">Затраты на продвижение</a></span></li><li><span><a href=\"#Стоимость-привлечения-пользователя\" data-toc-modified-id=\"Стоимость-привлечения-пользователя-6.2.3\">Стоимость привлечения пользователя</a></span></li></ul></li><li><span><a href=\"#Вывод\" data-toc-modified-id=\"Вывод-6.3\">Вывод</a></span></li></ul></li><li><span><a href=\"#Проверка-гипотез\" data-toc-modified-id=\"Проверка-гипотез-7\">Проверка гипотез</a></span><ul class=\"toc-item\"><li><span><a href=\"#Гипотеза-о-различии-среднего-времени-прохождения-между-пользователями,-завершающих-уровень-разными-способами\" data-toc-modified-id=\"Гипотеза-о-различии-среднего-времени-прохождения-между-пользователями,-завершающих-уровень-разными-способами-7.1\">Гипотеза о различии среднего времени прохождения между пользователями, завершающих уровень разными способами</a></span></li><li><span><a href=\"#Гипотеза-о-различии-среднего-времени-прохождения-между-пользователями-из-разных-источников\" data-toc-modified-id=\"Гипотеза-о-различии-среднего-времени-прохождения-между-пользователями-из-разных-источников-7.2\">Гипотеза о различии среднего времени прохождения между пользователями из разных источников</a></span></li><li><span><a href=\"#Вывод\" data-toc-modified-id=\"Вывод-7.3\">Вывод</a></span></li></ul></li><li><span><a href=\"#Построение-модели-монетизации\" data-toc-modified-id=\"Построение-модели-монетизации-8\">Построение модели монетизации</a></span></li><li><span><a href=\"#Общие-выводы-и-рекомендации\" data-toc-modified-id=\"Общие-выводы-и-рекомендации-9\">Общие выводы и рекомендации</a></span></li></ul></div>"
   ]
  },
  {
   "cell_type": "markdown",
   "metadata": {},
   "source": [
    "# Модель монетизации игрового приложения \"Космические братья\""
   ]
  },
  {
   "cell_type": "markdown",
   "metadata": {},
   "source": [
    "# Материалы\n",
    "\n",
    "* Презентация: https://drive.google.com/file/d/1m9zI1HwAL-bpB5DzW-q7uLeb_qgQ4SAn/view?usp=sharing\n",
    "* Дашборд: https://public.tableau.com/app/profile/darina5490/viz/Game_monetizaton_model/sheet4?publish=yes"
   ]
  },
  {
   "cell_type": "markdown",
   "metadata": {},
   "source": [
    "# Описание проекта\n",
    "\n",
    "**Задача:**\n",
    "\n",
    "Сформировать модель монетизации игрового приложения, выбрать оптимальное время для запуска игры и рассчитать её окупаемость при разных сценариях. \n",
    "\n",
    "**Описание данных:**\n",
    "\n",
    "В датасете содержатся данные первых пользователей приложения — когорты пользователей, которые начали пользоваться приложением в период с 4 по 10 мая включительно.\n",
    "\n",
    "Датасет ***game_actions.csv***:\n",
    "\n",
    "- `event_datetime` — время события;\n",
    "- `event` — одно из трёх событий:\n",
    "    1. `building` — объект построен,\n",
    "    2. `finished_stage_1` — первый уровень завершён,\n",
    "    3. `project` — проект завершён;\n",
    "- `building_type` — один из трёх типов здания:\n",
    "    1. `assembly_shop` — сборочный цех,\n",
    "    2. `spaceport` — космопорт,\n",
    "    3. `research_center` — исследовательский центр;\n",
    "- `user_id` — идентификатор пользователя;\n",
    "- `project_type` — тип реализованного проекта;\n",
    "\n",
    "Помимо основного датасета есть два датасета с информацией о рекламных активностях. \n",
    "\n",
    "Датасет ***ad_costs.csv*** содержит колонки:\n",
    "\n",
    "- `day` - день, в который был совершен клик по объявлению\n",
    "- `source` - источник трафика\n",
    "- `cost` - стоимость кликов\n",
    "\n",
    "Датасет ***user_source.csv*** содержит колонки:\n",
    "\n",
    "- `user_id` - идентификатор пользователя\n",
    "- `source` - источников, с которого пришёл пользователь, установивший приложение"
   ]
  },
  {
   "cell_type": "markdown",
   "metadata": {},
   "source": [
    "# Загрузка данных"
   ]
  },
  {
   "cell_type": "code",
   "execution_count": 1,
   "metadata": {},
   "outputs": [],
   "source": [
    "# импорт библиотек\n",
    "import pandas as pd\n",
    "import matplotlib.pyplot as plt\n",
    "import numpy as np\n",
    "import seaborn as sns\n",
    "from scipy import stats as st\n",
    "from sklearn.model_selection import train_test_split\n",
    "from sklearn.preprocessing import StandardScaler\n",
    "from sklearn.linear_model import LogisticRegression\n",
    "from sklearn.metrics import accuracy_score, precision_score, recall_score, f1_score"
   ]
  },
  {
   "cell_type": "code",
   "execution_count": 2,
   "metadata": {},
   "outputs": [],
   "source": [
    "df_game_actions = pd.read_csv('/datasets/game_actions.csv')\n",
    "df_costs = pd.read_csv('/datasets/ad_costs.csv')\n",
    "df_user_source = pd.read_csv('/datasets/user_source.csv')"
   ]
  },
  {
   "cell_type": "markdown",
   "metadata": {},
   "source": [
    "# Предобработка данных\n"
   ]
  },
  {
   "cell_type": "code",
   "execution_count": 3,
   "metadata": {
    "scrolled": false
   },
   "outputs": [],
   "source": [
    "def df_info(df):   \n",
    "    print('Первые 5 строк таблицы:')\n",
    "    display(df.head())\n",
    "    print('=' * 35)\n",
    "    print('Общая информация о данных:')\n",
    "    print(df.info())\n",
    "    print('=' * 35)\n",
    "    print('Количество дубликатов:', df.duplicated().sum())\n",
    "    print('=' * 35)\n",
    "    print('Количество пропусков:\\n', df.isna().sum(), sep='')"
   ]
  },
  {
   "cell_type": "markdown",
   "metadata": {},
   "source": [
    "### Таблица game_actions"
   ]
  },
  {
   "cell_type": "code",
   "execution_count": 4,
   "metadata": {
    "scrolled": false
   },
   "outputs": [
    {
     "name": "stdout",
     "output_type": "stream",
     "text": [
      "Первые 5 строк таблицы:\n"
     ]
    },
    {
     "data": {
      "text/html": [
       "<div>\n",
       "<style scoped>\n",
       "    .dataframe tbody tr th:only-of-type {\n",
       "        vertical-align: middle;\n",
       "    }\n",
       "\n",
       "    .dataframe tbody tr th {\n",
       "        vertical-align: top;\n",
       "    }\n",
       "\n",
       "    .dataframe thead th {\n",
       "        text-align: right;\n",
       "    }\n",
       "</style>\n",
       "<table border=\"1\" class=\"dataframe\">\n",
       "  <thead>\n",
       "    <tr style=\"text-align: right;\">\n",
       "      <th></th>\n",
       "      <th>event_datetime</th>\n",
       "      <th>event</th>\n",
       "      <th>building_type</th>\n",
       "      <th>user_id</th>\n",
       "      <th>project_type</th>\n",
       "    </tr>\n",
       "  </thead>\n",
       "  <tbody>\n",
       "    <tr>\n",
       "      <th>0</th>\n",
       "      <td>2020-05-04 00:00:01</td>\n",
       "      <td>building</td>\n",
       "      <td>assembly_shop</td>\n",
       "      <td>55e92310-cb8e-4754-b622-597e124b03de</td>\n",
       "      <td>NaN</td>\n",
       "    </tr>\n",
       "    <tr>\n",
       "      <th>1</th>\n",
       "      <td>2020-05-04 00:00:03</td>\n",
       "      <td>building</td>\n",
       "      <td>assembly_shop</td>\n",
       "      <td>c07b1c10-f477-44dc-81dc-ec82254b1347</td>\n",
       "      <td>NaN</td>\n",
       "    </tr>\n",
       "    <tr>\n",
       "      <th>2</th>\n",
       "      <td>2020-05-04 00:00:16</td>\n",
       "      <td>building</td>\n",
       "      <td>assembly_shop</td>\n",
       "      <td>6edd42cc-e753-4ff6-a947-2107cd560710</td>\n",
       "      <td>NaN</td>\n",
       "    </tr>\n",
       "    <tr>\n",
       "      <th>3</th>\n",
       "      <td>2020-05-04 00:00:16</td>\n",
       "      <td>building</td>\n",
       "      <td>assembly_shop</td>\n",
       "      <td>92c69003-d60a-444a-827f-8cc51bf6bf4c</td>\n",
       "      <td>NaN</td>\n",
       "    </tr>\n",
       "    <tr>\n",
       "      <th>4</th>\n",
       "      <td>2020-05-04 00:00:35</td>\n",
       "      <td>building</td>\n",
       "      <td>assembly_shop</td>\n",
       "      <td>cdc6bb92-0ccb-4490-9866-ef142f09139d</td>\n",
       "      <td>NaN</td>\n",
       "    </tr>\n",
       "  </tbody>\n",
       "</table>\n",
       "</div>"
      ],
      "text/plain": [
       "        event_datetime     event  building_type  \\\n",
       "0  2020-05-04 00:00:01  building  assembly_shop   \n",
       "1  2020-05-04 00:00:03  building  assembly_shop   \n",
       "2  2020-05-04 00:00:16  building  assembly_shop   \n",
       "3  2020-05-04 00:00:16  building  assembly_shop   \n",
       "4  2020-05-04 00:00:35  building  assembly_shop   \n",
       "\n",
       "                                user_id project_type  \n",
       "0  55e92310-cb8e-4754-b622-597e124b03de          NaN  \n",
       "1  c07b1c10-f477-44dc-81dc-ec82254b1347          NaN  \n",
       "2  6edd42cc-e753-4ff6-a947-2107cd560710          NaN  \n",
       "3  92c69003-d60a-444a-827f-8cc51bf6bf4c          NaN  \n",
       "4  cdc6bb92-0ccb-4490-9866-ef142f09139d          NaN  "
      ]
     },
     "metadata": {},
     "output_type": "display_data"
    },
    {
     "name": "stdout",
     "output_type": "stream",
     "text": [
      "===================================\n",
      "Общая информация о данных:\n",
      "<class 'pandas.core.frame.DataFrame'>\n",
      "RangeIndex: 135640 entries, 0 to 135639\n",
      "Data columns (total 5 columns):\n",
      " #   Column          Non-Null Count   Dtype \n",
      "---  ------          --------------   ----- \n",
      " 0   event_datetime  135640 non-null  object\n",
      " 1   event           135640 non-null  object\n",
      " 2   building_type   127957 non-null  object\n",
      " 3   user_id         135640 non-null  object\n",
      " 4   project_type    1866 non-null    object\n",
      "dtypes: object(5)\n",
      "memory usage: 5.2+ MB\n",
      "None\n",
      "===================================\n",
      "Количество дубликатов: 1\n",
      "===================================\n",
      "Количество пропусков:\n",
      "event_datetime         0\n",
      "event                  0\n",
      "building_type       7683\n",
      "user_id                0\n",
      "project_type      133774\n",
      "dtype: int64\n"
     ]
    }
   ],
   "source": [
    "df_info(df_game_actions)"
   ]
  },
  {
   "cell_type": "markdown",
   "metadata": {},
   "source": [
    "Посмотрим, все ли пропуски в `building_type` соответствуют событиям, отличным от `building`, т.е. событиям `finished_stage_1` и `project`."
   ]
  },
  {
   "cell_type": "code",
   "execution_count": 5,
   "metadata": {},
   "outputs": [
    {
     "data": {
      "text/plain": [
       "7683"
      ]
     },
     "execution_count": 5,
     "metadata": {},
     "output_type": "execute_result"
    }
   ],
   "source": [
    "len(df_game_actions.query('building_type.isnull() & (event == \"finished_stage_1\" | event == \"project\")'))"
   ]
  },
  {
   "cell_type": "markdown",
   "metadata": {},
   "source": [
    "Проверим, все ли пропуски в `project_type` соответствуют событиям, отличным от `project`, т.е. событиям `building` и `finished_stage_1`."
   ]
  },
  {
   "cell_type": "code",
   "execution_count": 6,
   "metadata": {},
   "outputs": [
    {
     "data": {
      "text/plain": [
       "133774"
      ]
     },
     "execution_count": 6,
     "metadata": {},
     "output_type": "execute_result"
    }
   ],
   "source": [
    "len(df_game_actions.query('event != \"project\" & project_type.isnull()'))"
   ]
  },
  {
   "cell_type": "markdown",
   "metadata": {},
   "source": [
    "**Вывод:**\n",
    "\n",
    "* Необходимо поменять тип данных в колонке `event_datetime`\n",
    "* Обнаружен один дубликат, его надо удалить\n",
    "* В столбце `building_type` обнаружено 7683 пропущенных значения, однако это связано с тем, что если пользователь совершает событие, отличное от `building`, т.е. `finished_stage_1` или `project`, то строительство объекта не происходит и поэтому в строке остается пропуск. Удалять их не будем.\n",
    "* В столбце `project_type` обнаружено 133774 пропущенных значения, но они соответствуют событиям, отличным от `project`, поэтому удалять их не будем."
   ]
  },
  {
   "cell_type": "code",
   "execution_count": 7,
   "metadata": {
    "scrolled": true
   },
   "outputs": [
    {
     "name": "stdout",
     "output_type": "stream",
     "text": [
      "<class 'pandas.core.frame.DataFrame'>\n",
      "Int64Index: 135639 entries, 0 to 135639\n",
      "Data columns (total 5 columns):\n",
      " #   Column          Non-Null Count   Dtype         \n",
      "---  ------          --------------   -----         \n",
      " 0   event_datetime  135639 non-null  datetime64[ns]\n",
      " 1   event           135639 non-null  object        \n",
      " 2   building_type   127956 non-null  object        \n",
      " 3   user_id         135639 non-null  object        \n",
      " 4   project_type    1866 non-null    object        \n",
      "dtypes: datetime64[ns](1), object(4)\n",
      "memory usage: 6.2+ MB\n"
     ]
    }
   ],
   "source": [
    "df_game_actions['event_datetime'] = df_game_actions['event_datetime'].astype('datetime64')\n",
    "df_game_actions = df_game_actions.drop_duplicates()\n",
    "df_game_actions.info()"
   ]
  },
  {
   "cell_type": "code",
   "execution_count": 8,
   "metadata": {
    "scrolled": true
   },
   "outputs": [
    {
     "name": "stdout",
     "output_type": "stream",
     "text": [
      "Количество уникальных пользователей:  13576\n",
      "Время первой записи для таблицы game_actions:  2020-05-04 00:00:01\n",
      "Время последней записи для таблицы game_actions:  2020-06-05 12:32:49\n"
     ]
    }
   ],
   "source": [
    "print('Количество уникальных пользователей: ', df_game_actions.user_id.nunique())\n",
    "print('Время первой записи для таблицы game_actions: ', min(df_game_actions.event_datetime))\n",
    "print('Время последней записи для таблицы game_actions: ', max(df_game_actions.event_datetime))"
   ]
  },
  {
   "cell_type": "markdown",
   "metadata": {},
   "source": [
    "### Таблица costs"
   ]
  },
  {
   "cell_type": "code",
   "execution_count": 9,
   "metadata": {},
   "outputs": [
    {
     "name": "stdout",
     "output_type": "stream",
     "text": [
      "Первые 5 строк таблицы:\n"
     ]
    },
    {
     "data": {
      "text/html": [
       "<div>\n",
       "<style scoped>\n",
       "    .dataframe tbody tr th:only-of-type {\n",
       "        vertical-align: middle;\n",
       "    }\n",
       "\n",
       "    .dataframe tbody tr th {\n",
       "        vertical-align: top;\n",
       "    }\n",
       "\n",
       "    .dataframe thead th {\n",
       "        text-align: right;\n",
       "    }\n",
       "</style>\n",
       "<table border=\"1\" class=\"dataframe\">\n",
       "  <thead>\n",
       "    <tr style=\"text-align: right;\">\n",
       "      <th></th>\n",
       "      <th>source</th>\n",
       "      <th>day</th>\n",
       "      <th>cost</th>\n",
       "    </tr>\n",
       "  </thead>\n",
       "  <tbody>\n",
       "    <tr>\n",
       "      <th>0</th>\n",
       "      <td>facebook_ads</td>\n",
       "      <td>2020-05-03</td>\n",
       "      <td>935.882786</td>\n",
       "    </tr>\n",
       "    <tr>\n",
       "      <th>1</th>\n",
       "      <td>facebook_ads</td>\n",
       "      <td>2020-05-04</td>\n",
       "      <td>548.354480</td>\n",
       "    </tr>\n",
       "    <tr>\n",
       "      <th>2</th>\n",
       "      <td>facebook_ads</td>\n",
       "      <td>2020-05-05</td>\n",
       "      <td>260.185754</td>\n",
       "    </tr>\n",
       "    <tr>\n",
       "      <th>3</th>\n",
       "      <td>facebook_ads</td>\n",
       "      <td>2020-05-06</td>\n",
       "      <td>177.982200</td>\n",
       "    </tr>\n",
       "    <tr>\n",
       "      <th>4</th>\n",
       "      <td>facebook_ads</td>\n",
       "      <td>2020-05-07</td>\n",
       "      <td>111.766796</td>\n",
       "    </tr>\n",
       "  </tbody>\n",
       "</table>\n",
       "</div>"
      ],
      "text/plain": [
       "         source         day        cost\n",
       "0  facebook_ads  2020-05-03  935.882786\n",
       "1  facebook_ads  2020-05-04  548.354480\n",
       "2  facebook_ads  2020-05-05  260.185754\n",
       "3  facebook_ads  2020-05-06  177.982200\n",
       "4  facebook_ads  2020-05-07  111.766796"
      ]
     },
     "metadata": {},
     "output_type": "display_data"
    },
    {
     "name": "stdout",
     "output_type": "stream",
     "text": [
      "===================================\n",
      "Общая информация о данных:\n",
      "<class 'pandas.core.frame.DataFrame'>\n",
      "RangeIndex: 28 entries, 0 to 27\n",
      "Data columns (total 3 columns):\n",
      " #   Column  Non-Null Count  Dtype  \n",
      "---  ------  --------------  -----  \n",
      " 0   source  28 non-null     object \n",
      " 1   day     28 non-null     object \n",
      " 2   cost    28 non-null     float64\n",
      "dtypes: float64(1), object(2)\n",
      "memory usage: 800.0+ bytes\n",
      "None\n",
      "===================================\n",
      "Количество дубликатов: 0\n",
      "===================================\n",
      "Количество пропусков:\n",
      "source    0\n",
      "day       0\n",
      "cost      0\n",
      "dtype: int64\n"
     ]
    }
   ],
   "source": [
    "# Таблица costs\n",
    "df_info(df_costs)"
   ]
  },
  {
   "cell_type": "markdown",
   "metadata": {},
   "source": [
    "**Вывод:**\n",
    "\n",
    "* Дубликатов и пропусков нет\n",
    "* Необходимо изменить тип данных в колонке `day`"
   ]
  },
  {
   "cell_type": "code",
   "execution_count": 10,
   "metadata": {
    "scrolled": true
   },
   "outputs": [
    {
     "name": "stdout",
     "output_type": "stream",
     "text": [
      "<class 'pandas.core.frame.DataFrame'>\n",
      "RangeIndex: 28 entries, 0 to 27\n",
      "Data columns (total 3 columns):\n",
      " #   Column  Non-Null Count  Dtype         \n",
      "---  ------  --------------  -----         \n",
      " 0   source  28 non-null     object        \n",
      " 1   day     28 non-null     datetime64[ns]\n",
      " 2   cost    28 non-null     float64       \n",
      "dtypes: datetime64[ns](1), float64(1), object(1)\n",
      "memory usage: 800.0+ bytes\n"
     ]
    }
   ],
   "source": [
    "df_costs['day'] = df_costs['day'].astype('datetime64')\n",
    "df_costs.info()"
   ]
  },
  {
   "cell_type": "code",
   "execution_count": 11,
   "metadata": {
    "scrolled": true
   },
   "outputs": [
    {
     "name": "stdout",
     "output_type": "stream",
     "text": [
      "Время первой записи для таблицы costs:  2020-05-03 00:00:00\n",
      "Время последней записи для таблицы costs:  2020-05-09 00:00:00\n"
     ]
    }
   ],
   "source": [
    "print('Время первой записи для таблицы costs: ', min(df_costs.day))\n",
    "print('Время последней записи для таблицы costs: ', max(df_costs.day))"
   ]
  },
  {
   "cell_type": "markdown",
   "metadata": {},
   "source": [
    "### Таблица user_source"
   ]
  },
  {
   "cell_type": "code",
   "execution_count": 12,
   "metadata": {},
   "outputs": [
    {
     "name": "stdout",
     "output_type": "stream",
     "text": [
      "Первые 5 строк таблицы:\n"
     ]
    },
    {
     "data": {
      "text/html": [
       "<div>\n",
       "<style scoped>\n",
       "    .dataframe tbody tr th:only-of-type {\n",
       "        vertical-align: middle;\n",
       "    }\n",
       "\n",
       "    .dataframe tbody tr th {\n",
       "        vertical-align: top;\n",
       "    }\n",
       "\n",
       "    .dataframe thead th {\n",
       "        text-align: right;\n",
       "    }\n",
       "</style>\n",
       "<table border=\"1\" class=\"dataframe\">\n",
       "  <thead>\n",
       "    <tr style=\"text-align: right;\">\n",
       "      <th></th>\n",
       "      <th>user_id</th>\n",
       "      <th>source</th>\n",
       "    </tr>\n",
       "  </thead>\n",
       "  <tbody>\n",
       "    <tr>\n",
       "      <th>0</th>\n",
       "      <td>0001f83c-c6ac-4621-b7f0-8a28b283ac30</td>\n",
       "      <td>facebook_ads</td>\n",
       "    </tr>\n",
       "    <tr>\n",
       "      <th>1</th>\n",
       "      <td>00151b4f-ba38-44a8-a650-d7cf130a0105</td>\n",
       "      <td>yandex_direct</td>\n",
       "    </tr>\n",
       "    <tr>\n",
       "      <th>2</th>\n",
       "      <td>001aaea6-3d14-43f1-8ca8-7f48820f17aa</td>\n",
       "      <td>youtube_channel_reklama</td>\n",
       "    </tr>\n",
       "    <tr>\n",
       "      <th>3</th>\n",
       "      <td>001d39dc-366c-4021-9604-6a3b9ff01e25</td>\n",
       "      <td>instagram_new_adverts</td>\n",
       "    </tr>\n",
       "    <tr>\n",
       "      <th>4</th>\n",
       "      <td>002f508f-67b6-479f-814b-b05f00d4e995</td>\n",
       "      <td>facebook_ads</td>\n",
       "    </tr>\n",
       "  </tbody>\n",
       "</table>\n",
       "</div>"
      ],
      "text/plain": [
       "                                user_id                   source\n",
       "0  0001f83c-c6ac-4621-b7f0-8a28b283ac30             facebook_ads\n",
       "1  00151b4f-ba38-44a8-a650-d7cf130a0105            yandex_direct\n",
       "2  001aaea6-3d14-43f1-8ca8-7f48820f17aa  youtube_channel_reklama\n",
       "3  001d39dc-366c-4021-9604-6a3b9ff01e25    instagram_new_adverts\n",
       "4  002f508f-67b6-479f-814b-b05f00d4e995             facebook_ads"
      ]
     },
     "metadata": {},
     "output_type": "display_data"
    },
    {
     "name": "stdout",
     "output_type": "stream",
     "text": [
      "===================================\n",
      "Общая информация о данных:\n",
      "<class 'pandas.core.frame.DataFrame'>\n",
      "RangeIndex: 13576 entries, 0 to 13575\n",
      "Data columns (total 2 columns):\n",
      " #   Column   Non-Null Count  Dtype \n",
      "---  ------   --------------  ----- \n",
      " 0   user_id  13576 non-null  object\n",
      " 1   source   13576 non-null  object\n",
      "dtypes: object(2)\n",
      "memory usage: 212.2+ KB\n",
      "None\n",
      "===================================\n",
      "Количество дубликатов: 0\n",
      "===================================\n",
      "Количество пропусков:\n",
      "user_id    0\n",
      "source     0\n",
      "dtype: int64\n"
     ]
    }
   ],
   "source": [
    "# Таблица user_source\n",
    "df_info(df_user_source)"
   ]
  },
  {
   "cell_type": "markdown",
   "metadata": {},
   "source": [
    "**Вывод:** \n",
    "\n",
    "* Пропусков и дубликатов нет\n",
    "* Предобработка не требуется"
   ]
  },
  {
   "cell_type": "markdown",
   "metadata": {},
   "source": [
    "## Вывод\n",
    "\n",
    "Были предоставлены следующие таблицы: \n",
    "1. `game_actions`\n",
    "2. `costs`\n",
    "3. `user_source`\n",
    "\n",
    "Во всех датафреймах качественные данные с минимальным количеством ошибок и недочетов:\n",
    "\n",
    "* Для `game_actions` потребовалось лишь изменить тип данных в столбце с датой и удалить один дубликат. Так же были обнаружены пропущенные значения в двух колонках,  однако это связано с игровым сценарием.\n",
    "\n",
    "* Для `costs` изменен тип данных в колонке `day`."
   ]
  },
  {
   "cell_type": "markdown",
   "metadata": {},
   "source": [
    "# Исследовательский анализ данных"
   ]
  },
  {
   "cell_type": "markdown",
   "metadata": {},
   "source": [
    "## Игровые показатели"
   ]
  },
  {
   "cell_type": "markdown",
   "metadata": {},
   "source": [
    "### Активность по дням\n",
    "\n",
    "Проанализируем количество уникальных пользователей и событий по дням:"
   ]
  },
  {
   "cell_type": "code",
   "execution_count": 13,
   "metadata": {},
   "outputs": [
    {
     "data": {
      "image/png": "[encoded data removed]",
      "text/plain": [
       "<Figure size 1440x360 with 1 Axes>"
      ]
     },
     "metadata": {},
     "output_type": "display_data"
    },
    {
     "data": {
      "text/html": [
       "<div>\n",
       "<style scoped>\n",
       "    .dataframe tbody tr th:only-of-type {\n",
       "        vertical-align: middle;\n",
       "    }\n",
       "\n",
       "    .dataframe tbody tr th {\n",
       "        vertical-align: top;\n",
       "    }\n",
       "\n",
       "    .dataframe thead th {\n",
       "        text-align: right;\n",
       "    }\n",
       "</style>\n",
       "<table border=\"1\" class=\"dataframe\">\n",
       "  <thead>\n",
       "    <tr style=\"text-align: right;\">\n",
       "      <th></th>\n",
       "      <th>user_id</th>\n",
       "    </tr>\n",
       "    <tr>\n",
       "      <th>event_day</th>\n",
       "      <th></th>\n",
       "    </tr>\n",
       "  </thead>\n",
       "  <tbody>\n",
       "    <tr>\n",
       "      <th>2020-05-10</th>\n",
       "      <td>9219</td>\n",
       "    </tr>\n",
       "    <tr>\n",
       "      <th>2020-05-09</th>\n",
       "      <td>8394</td>\n",
       "    </tr>\n",
       "    <tr>\n",
       "      <th>2020-05-08</th>\n",
       "      <td>7891</td>\n",
       "    </tr>\n",
       "    <tr>\n",
       "      <th>2020-05-07</th>\n",
       "      <td>7384</td>\n",
       "    </tr>\n",
       "    <tr>\n",
       "      <th>2020-05-06</th>\n",
       "      <td>6854</td>\n",
       "    </tr>\n",
       "  </tbody>\n",
       "</table>\n",
       "</div>"
      ],
      "text/plain": [
       "            user_id\n",
       "event_day          \n",
       "2020-05-10     9219\n",
       "2020-05-09     8394\n",
       "2020-05-08     7891\n",
       "2020-05-07     7384\n",
       "2020-05-06     6854"
      ]
     },
     "metadata": {},
     "output_type": "display_data"
    }
   ],
   "source": [
    "df_game_actions['event_day'] = df_game_actions['event_datetime'].dt.date\n",
    "df_dau_users = df_game_actions.groupby('event_day').agg({'user_id': 'nunique'})\n",
    "\n",
    "sns.set_style(\"whitegrid\")\n",
    "plt.figure(figsize=(20,5))\n",
    "sns.lineplot(data=df_dau_users, x='event_day', y='user_id', color='r')\n",
    "plt.title('Количество уникальных пользователей')\n",
    "plt.xlabel('Дата')\n",
    "plt.ylabel('Кол-во, чел.')\n",
    "plt.show()\n",
    "\n",
    "display(df_dau_users.sort_values(by='user_id', ascending=False).head())"
   ]
  },
  {
   "cell_type": "code",
   "execution_count": 14,
   "metadata": {
    "scrolled": false
   },
   "outputs": [
    {
     "data": {
      "image/png": "[encoded data removed]",
      "text/plain": [
       "<Figure size 1440x360 with 1 Axes>"
      ]
     },
     "metadata": {},
     "output_type": "display_data"
    },
    {
     "data": {
      "text/html": [
       "<div>\n",
       "<style scoped>\n",
       "    .dataframe tbody tr th:only-of-type {\n",
       "        vertical-align: middle;\n",
       "    }\n",
       "\n",
       "    .dataframe tbody tr th {\n",
       "        vertical-align: top;\n",
       "    }\n",
       "\n",
       "    .dataframe thead th {\n",
       "        text-align: right;\n",
       "    }\n",
       "</style>\n",
       "<table border=\"1\" class=\"dataframe\">\n",
       "  <thead>\n",
       "    <tr style=\"text-align: right;\">\n",
       "      <th></th>\n",
       "      <th>event</th>\n",
       "    </tr>\n",
       "    <tr>\n",
       "      <th>event_day</th>\n",
       "      <th></th>\n",
       "    </tr>\n",
       "  </thead>\n",
       "  <tbody>\n",
       "    <tr>\n",
       "      <th>2020-05-10</th>\n",
       "      <td>15207</td>\n",
       "    </tr>\n",
       "    <tr>\n",
       "      <th>2020-05-09</th>\n",
       "      <td>13129</td>\n",
       "    </tr>\n",
       "    <tr>\n",
       "      <th>2020-05-08</th>\n",
       "      <td>12059</td>\n",
       "    </tr>\n",
       "    <tr>\n",
       "      <th>2020-05-07</th>\n",
       "      <td>10858</td>\n",
       "    </tr>\n",
       "    <tr>\n",
       "      <th>2020-05-06</th>\n",
       "      <td>9925</td>\n",
       "    </tr>\n",
       "  </tbody>\n",
       "</table>\n",
       "</div>"
      ],
      "text/plain": [
       "            event\n",
       "event_day        \n",
       "2020-05-10  15207\n",
       "2020-05-09  13129\n",
       "2020-05-08  12059\n",
       "2020-05-07  10858\n",
       "2020-05-06   9925"
      ]
     },
     "metadata": {},
     "output_type": "display_data"
    }
   ],
   "source": [
    "df_game_actions['event_day'] = df_game_actions['event_datetime'].dt.date\n",
    "df_dau_events = df_game_actions.groupby('event_day').agg({'event': 'count'})\n",
    "\n",
    "sns.set_style(\"whitegrid\")\n",
    "plt.figure(figsize=(20,5))\n",
    "sns.lineplot(data=df_dau_events, x='event_day', y='event', color='r')\n",
    "plt.title('Количество событий')\n",
    "plt.xlabel('Дата')\n",
    "plt.ylabel('Кол-во, шт.')\n",
    "plt.show()\n",
    "\n",
    "display(df_dau_events.sort_values(by='event', ascending=False).head())"
   ]
  },
  {
   "cell_type": "markdown",
   "metadata": {},
   "source": [
    "**Вывод:**\n",
    "\n",
    "Наибольшее количество уникальных пользователей зарегистрировано `2020-05-10` - 9219 человека, при этом в этот же день было совершено наибольшее количество игровых событий - 15207 шт. Однако после 10-го мая активность резко начинает падать, возможно, это связано с прекращением рекламных кампаний."
   ]
  },
  {
   "cell_type": "markdown",
   "metadata": {},
   "source": [
    "### Распространенность зданий\n",
    "\n",
    "Посмотрим, какой тип зданий наиболее распространен, а какой не пользуется популярностью"
   ]
  },
  {
   "cell_type": "code",
   "execution_count": 15,
   "metadata": {},
   "outputs": [
    {
     "data": {
      "image/png": "[encoded data removed]",
      "text/plain": [
       "<Figure size 432x288 with 1 Axes>"
      ]
     },
     "metadata": {},
     "output_type": "display_data"
    },
    {
     "data": {
      "text/html": [
       "<div>\n",
       "<style scoped>\n",
       "    .dataframe tbody tr th:only-of-type {\n",
       "        vertical-align: middle;\n",
       "    }\n",
       "\n",
       "    .dataframe tbody tr th {\n",
       "        vertical-align: top;\n",
       "    }\n",
       "\n",
       "    .dataframe thead th {\n",
       "        text-align: right;\n",
       "    }\n",
       "</style>\n",
       "<table border=\"1\" class=\"dataframe\">\n",
       "  <thead>\n",
       "    <tr style=\"text-align: right;\">\n",
       "      <th></th>\n",
       "      <th>building_type</th>\n",
       "      <th>count</th>\n",
       "    </tr>\n",
       "  </thead>\n",
       "  <tbody>\n",
       "    <tr>\n",
       "      <th>0</th>\n",
       "      <td>spaceport</td>\n",
       "      <td>59325</td>\n",
       "    </tr>\n",
       "    <tr>\n",
       "      <th>1</th>\n",
       "      <td>assembly_shop</td>\n",
       "      <td>54494</td>\n",
       "    </tr>\n",
       "    <tr>\n",
       "      <th>2</th>\n",
       "      <td>research_center</td>\n",
       "      <td>14137</td>\n",
       "    </tr>\n",
       "  </tbody>\n",
       "</table>\n",
       "</div>"
      ],
      "text/plain": [
       "     building_type  count\n",
       "0        spaceport  59325\n",
       "1    assembly_shop  54494\n",
       "2  research_center  14137"
      ]
     },
     "metadata": {},
     "output_type": "display_data"
    }
   ],
   "source": [
    "df_buildings = df_game_actions.groupby('building_type')['user_id'].count().sort_values(ascending=False).reset_index()\n",
    "df_buildings.columns = ['building_type', 'count']\n",
    "\n",
    "sns.barplot(data=df_buildings, x='building_type', y='count', palette=\"rocket_r\")\n",
    "plt.title('Распространенность зданий')\n",
    "plt.xlabel('Игровое здание')\n",
    "plt.ylabel('Частота')\n",
    "plt.show()\n",
    "\n",
    "display(df_buildings)"
   ]
  },
  {
   "cell_type": "code",
   "execution_count": 16,
   "metadata": {},
   "outputs": [
    {
     "name": "stdout",
     "output_type": "stream",
     "text": [
      "Количество построек среди пользователей:\n",
      "count    13576.000000\n",
      "mean         9.425162\n",
      "std          3.860800\n",
      "min          1.000000\n",
      "25%          6.000000\n",
      "50%         10.000000\n",
      "75%         12.000000\n",
      "max         20.000000\n",
      "Name: buildings_count, dtype: float64\n"
     ]
    },
    {
     "data": {
      "image/png": "[encoded data removed]",
      "text/plain": [
       "<Figure size 720x360 with 1 Axes>"
      ]
     },
     "metadata": {},
     "output_type": "display_data"
    }
   ],
   "source": [
    "# Количество зданий, построенных каждым пользователем\n",
    "df_buildings_total = df_game_actions.query('event == \"building\"')\\\n",
    "                                    .groupby('user_id')['building_type'].count().reset_index()\n",
    "df_buildings_total.columns = ['user_id', 'buildings_count']\n",
    "print('Количество построек среди пользователей:\\n', df_buildings_total['buildings_count'].describe(), sep='')\n",
    "\n",
    "plt.figure(figsize=(10, 5))\n",
    "sns.histplot(data=df_buildings_total, x='buildings_count', kde=True, bins=20)\n",
    "plt.title('Распределение количества построек')\n",
    "plt.xlabel('Количество')\n",
    "plt.ylabel('Частота')\n",
    "plt.show()"
   ]
  },
  {
   "cell_type": "code",
   "execution_count": 17,
   "metadata": {},
   "outputs": [
    {
     "name": "stdout",
     "output_type": "stream",
     "text": [
      "Количество уникальных пользователей, построивших здание:\n"
     ]
    },
    {
     "data": {
      "text/html": [
       "<div>\n",
       "<style scoped>\n",
       "    .dataframe tbody tr th:only-of-type {\n",
       "        vertical-align: middle;\n",
       "    }\n",
       "\n",
       "    .dataframe tbody tr th {\n",
       "        vertical-align: top;\n",
       "    }\n",
       "\n",
       "    .dataframe thead th {\n",
       "        text-align: right;\n",
       "    }\n",
       "</style>\n",
       "<table border=\"1\" class=\"dataframe\">\n",
       "  <thead>\n",
       "    <tr style=\"text-align: right;\">\n",
       "      <th></th>\n",
       "      <th>building_type</th>\n",
       "      <th>user_id</th>\n",
       "    </tr>\n",
       "  </thead>\n",
       "  <tbody>\n",
       "    <tr>\n",
       "      <th>0</th>\n",
       "      <td>assembly_shop</td>\n",
       "      <td>13576</td>\n",
       "    </tr>\n",
       "    <tr>\n",
       "      <th>1</th>\n",
       "      <td>spaceport</td>\n",
       "      <td>13231</td>\n",
       "    </tr>\n",
       "    <tr>\n",
       "      <th>2</th>\n",
       "      <td>research_center</td>\n",
       "      <td>7671</td>\n",
       "    </tr>\n",
       "  </tbody>\n",
       "</table>\n",
       "</div>"
      ],
      "text/plain": [
       "     building_type  user_id\n",
       "0    assembly_shop    13576\n",
       "1        spaceport    13231\n",
       "2  research_center     7671"
      ]
     },
     "metadata": {},
     "output_type": "display_data"
    }
   ],
   "source": [
    "df_buildings_users = df_game_actions.groupby('building_type').agg({'user_id': 'nunique'}) \\\n",
    "                                    .sort_values(by='user_id', ascending=False).reset_index()\n",
    "print('Количество уникальных пользователей, построивших здание:')\n",
    "display(df_buildings_users)"
   ]
  },
  {
   "cell_type": "markdown",
   "metadata": {},
   "source": [
    "**Вывод:**\n",
    "\n",
    "* Наиболее часто игроки выбирают `spaceport` - этот объект построили 59325 раз. Следующим по популярности идет `assembly_shop` - был построен 54494 раз. И наименьшее количество построек - это `research_center`, построили всего 14137 раз.\n",
    "\n",
    "* В среднем на пользователя приходится 9 - 10 построенных зданий\n",
    "\n",
    "* Минимальное количество построенных зданий у одного пользователя - 1, максимальное - 20\n",
    "\n",
    "* Присутствует спад на 6-ом построенном здании, это может быть связано с тем, что ближе к постройке 6-го здания часть пользователей могли разобраться в тонкостях игры и завершить уровень через убийство врага."
   ]
  },
  {
   "cell_type": "markdown",
   "metadata": {},
   "source": [
    "### Распространенность событий"
   ]
  },
  {
   "cell_type": "code",
   "execution_count": 18,
   "metadata": {},
   "outputs": [
    {
     "data": {
      "image/png": "[encoded data removed]",
      "text/plain": [
       "<Figure size 432x288 with 1 Axes>"
      ]
     },
     "metadata": {},
     "output_type": "display_data"
    },
    {
     "data": {
      "text/html": [
       "<div>\n",
       "<style scoped>\n",
       "    .dataframe tbody tr th:only-of-type {\n",
       "        vertical-align: middle;\n",
       "    }\n",
       "\n",
       "    .dataframe tbody tr th {\n",
       "        vertical-align: top;\n",
       "    }\n",
       "\n",
       "    .dataframe thead th {\n",
       "        text-align: right;\n",
       "    }\n",
       "</style>\n",
       "<table border=\"1\" class=\"dataframe\">\n",
       "  <thead>\n",
       "    <tr style=\"text-align: right;\">\n",
       "      <th></th>\n",
       "      <th>event</th>\n",
       "      <th>count</th>\n",
       "    </tr>\n",
       "  </thead>\n",
       "  <tbody>\n",
       "    <tr>\n",
       "      <th>0</th>\n",
       "      <td>building</td>\n",
       "      <td>127956</td>\n",
       "    </tr>\n",
       "    <tr>\n",
       "      <th>1</th>\n",
       "      <td>finished_stage_1</td>\n",
       "      <td>5817</td>\n",
       "    </tr>\n",
       "    <tr>\n",
       "      <th>2</th>\n",
       "      <td>project</td>\n",
       "      <td>1866</td>\n",
       "    </tr>\n",
       "  </tbody>\n",
       "</table>\n",
       "</div>"
      ],
      "text/plain": [
       "              event   count\n",
       "0          building  127956\n",
       "1  finished_stage_1    5817\n",
       "2           project    1866"
      ]
     },
     "metadata": {},
     "output_type": "display_data"
    }
   ],
   "source": [
    "df_events = df_game_actions.groupby('event')['user_id'].count().sort_values(ascending=False).reset_index()\n",
    "df_events.columns = ['event', 'count']\n",
    "\n",
    "sns.barplot(data=df_events, x='event', y='count', palette=\"rocket_r\")\n",
    "plt.title('Распространенность событий')\n",
    "plt.xlabel('Игровое событие')\n",
    "plt.ylabel('Частота')\n",
    "plt.show()\n",
    "\n",
    "display(df_events)"
   ]
  },
  {
   "cell_type": "code",
   "execution_count": 19,
   "metadata": {},
   "outputs": [
    {
     "name": "stdout",
     "output_type": "stream",
     "text": [
      "Количество уникальных пользователей, совершивших событие:\n"
     ]
    },
    {
     "data": {
      "text/html": [
       "<div>\n",
       "<style scoped>\n",
       "    .dataframe tbody tr th:only-of-type {\n",
       "        vertical-align: middle;\n",
       "    }\n",
       "\n",
       "    .dataframe tbody tr th {\n",
       "        vertical-align: top;\n",
       "    }\n",
       "\n",
       "    .dataframe thead th {\n",
       "        text-align: right;\n",
       "    }\n",
       "</style>\n",
       "<table border=\"1\" class=\"dataframe\">\n",
       "  <thead>\n",
       "    <tr style=\"text-align: right;\">\n",
       "      <th></th>\n",
       "      <th>event</th>\n",
       "      <th>user_id</th>\n",
       "    </tr>\n",
       "  </thead>\n",
       "  <tbody>\n",
       "    <tr>\n",
       "      <th>0</th>\n",
       "      <td>building</td>\n",
       "      <td>13576</td>\n",
       "    </tr>\n",
       "    <tr>\n",
       "      <th>1</th>\n",
       "      <td>finished_stage_1</td>\n",
       "      <td>5817</td>\n",
       "    </tr>\n",
       "    <tr>\n",
       "      <th>2</th>\n",
       "      <td>project</td>\n",
       "      <td>1866</td>\n",
       "    </tr>\n",
       "  </tbody>\n",
       "</table>\n",
       "</div>"
      ],
      "text/plain": [
       "              event  user_id\n",
       "0          building    13576\n",
       "1  finished_stage_1     5817\n",
       "2           project     1866"
      ]
     },
     "metadata": {},
     "output_type": "display_data"
    }
   ],
   "source": [
    "df_events_users = df_game_actions.groupby('event').agg({'user_id': 'nunique'}) \\\n",
    "                                    .sort_values(by='user_id', ascending=False).reset_index()\n",
    "print('Количество уникальных пользователей, совершивших событие:')\n",
    "display(df_events_users)"
   ]
  },
  {
   "cell_type": "markdown",
   "metadata": {},
   "source": [
    "**Вывод:**\n",
    "\n",
    "Наиболее часто совершаемое событие `building` - оно произошло 127956 раз. Следующим по популярности идет `finished_stage_1` - был совершен 5817 раз. И наименьшее количество событий - это `project`, произошло всего 1856 раз."
   ]
  },
  {
   "cell_type": "markdown",
   "metadata": {},
   "source": [
    "## Показатели рекламной активности"
   ]
  },
  {
   "cell_type": "markdown",
   "metadata": {},
   "source": [
    "### Количество уникальных пользователей из источников\n",
    "\n",
    "Посмотрим, из каких источников приходило больше всего пользователей"
   ]
  },
  {
   "cell_type": "code",
   "execution_count": 20,
   "metadata": {},
   "outputs": [
    {
     "data": {
      "image/png": "[encoded data removed]",
      "text/plain": [
       "<Figure size 720x360 with 1 Axes>"
      ]
     },
     "metadata": {},
     "output_type": "display_data"
    },
    {
     "data": {
      "text/html": [
       "<div>\n",
       "<style scoped>\n",
       "    .dataframe tbody tr th:only-of-type {\n",
       "        vertical-align: middle;\n",
       "    }\n",
       "\n",
       "    .dataframe tbody tr th {\n",
       "        vertical-align: top;\n",
       "    }\n",
       "\n",
       "    .dataframe thead th {\n",
       "        text-align: right;\n",
       "    }\n",
       "</style>\n",
       "<table border=\"1\" class=\"dataframe\">\n",
       "  <thead>\n",
       "    <tr style=\"text-align: right;\">\n",
       "      <th></th>\n",
       "      <th>source</th>\n",
       "      <th>user_id</th>\n",
       "    </tr>\n",
       "  </thead>\n",
       "  <tbody>\n",
       "    <tr>\n",
       "      <th>0</th>\n",
       "      <td>yandex_direct</td>\n",
       "      <td>4817</td>\n",
       "    </tr>\n",
       "    <tr>\n",
       "      <th>1</th>\n",
       "      <td>instagram_new_adverts</td>\n",
       "      <td>3347</td>\n",
       "    </tr>\n",
       "    <tr>\n",
       "      <th>2</th>\n",
       "      <td>facebook_ads</td>\n",
       "      <td>2726</td>\n",
       "    </tr>\n",
       "    <tr>\n",
       "      <th>3</th>\n",
       "      <td>youtube_channel_reklama</td>\n",
       "      <td>2686</td>\n",
       "    </tr>\n",
       "  </tbody>\n",
       "</table>\n",
       "</div>"
      ],
      "text/plain": [
       "                    source  user_id\n",
       "0            yandex_direct     4817\n",
       "1    instagram_new_adverts     3347\n",
       "2             facebook_ads     2726\n",
       "3  youtube_channel_reklama     2686"
      ]
     },
     "metadata": {},
     "output_type": "display_data"
    }
   ],
   "source": [
    "df_clicks_source = df_user_source.groupby('source').agg({'user_id': 'nunique'}) \\\n",
    "                                 .sort_values(by='user_id', ascending=False).reset_index()\n",
    "\n",
    "sns.set_style(\"whitegrid\")\n",
    "plt.figure(figsize=(10,5))\n",
    "sns.barplot(data=df_clicks_source, x='source', y='user_id', palette=\"rocket\")\n",
    "plt.title('Количество уникальных пользователей по источникам')\n",
    "plt.xlabel('Источник')\n",
    "plt.ylabel('Кол-во, чел.')\n",
    "plt.show()\n",
    "\n",
    "display(df_clicks_source)"
   ]
  },
  {
   "cell_type": "markdown",
   "metadata": {},
   "source": [
    "**Вывод:**\n",
    "\n",
    "Наибольшее количество пользователей пришло из `yandex_direct` - 4817 человек, меньше всего - из `youtube`, 2686 пользователя."
   ]
  },
  {
   "cell_type": "markdown",
   "metadata": {},
   "source": [
    "### Затраты на продвижение\n",
    "\n",
    "Посчитаем стоимость рекламы и как был распределен бюджет между источниками"
   ]
  },
  {
   "cell_type": "code",
   "execution_count": 21,
   "metadata": {},
   "outputs": [
    {
     "data": {
      "image/png": "[encoded data removed]",
      "text/plain": [
       "<Figure size 720x360 with 1 Axes>"
      ]
     },
     "metadata": {},
     "output_type": "display_data"
    },
    {
     "name": "stdout",
     "output_type": "stream",
     "text": [
      "Всего на рекламу было потрачено: 7603.58\n",
      "Распределение затрат на рекламу:\n"
     ]
    },
    {
     "data": {
      "text/html": [
       "<div>\n",
       "<style scoped>\n",
       "    .dataframe tbody tr th:only-of-type {\n",
       "        vertical-align: middle;\n",
       "    }\n",
       "\n",
       "    .dataframe tbody tr th {\n",
       "        vertical-align: top;\n",
       "    }\n",
       "\n",
       "    .dataframe thead th {\n",
       "        text-align: right;\n",
       "    }\n",
       "</style>\n",
       "<table border=\"1\" class=\"dataframe\">\n",
       "  <thead>\n",
       "    <tr style=\"text-align: right;\">\n",
       "      <th></th>\n",
       "      <th>source</th>\n",
       "      <th>cost</th>\n",
       "      <th>part, %</th>\n",
       "    </tr>\n",
       "  </thead>\n",
       "  <tbody>\n",
       "    <tr>\n",
       "      <th>2</th>\n",
       "      <td>yandex_direct</td>\n",
       "      <td>2233.11</td>\n",
       "      <td>29.37</td>\n",
       "    </tr>\n",
       "    <tr>\n",
       "      <th>1</th>\n",
       "      <td>instagram_new_adverts</td>\n",
       "      <td>2161.44</td>\n",
       "      <td>28.43</td>\n",
       "    </tr>\n",
       "    <tr>\n",
       "      <th>0</th>\n",
       "      <td>facebook_ads</td>\n",
       "      <td>2140.90</td>\n",
       "      <td>28.16</td>\n",
       "    </tr>\n",
       "    <tr>\n",
       "      <th>3</th>\n",
       "      <td>youtube_channel_reklama</td>\n",
       "      <td>1068.12</td>\n",
       "      <td>14.05</td>\n",
       "    </tr>\n",
       "  </tbody>\n",
       "</table>\n",
       "</div>"
      ],
      "text/plain": [
       "                    source     cost  part, %\n",
       "2            yandex_direct  2233.11    29.37\n",
       "1    instagram_new_adverts  2161.44    28.43\n",
       "0             facebook_ads  2140.90    28.16\n",
       "3  youtube_channel_reklama  1068.12    14.05"
      ]
     },
     "execution_count": 21,
     "metadata": {},
     "output_type": "execute_result"
    }
   ],
   "source": [
    "df_costs_sum = df_costs.groupby('source')['cost'].sum().reset_index().sort_values(by='cost', ascending=False)\n",
    "df_costs_sum['part, %'] = df_costs_sum['cost'] / df_costs_sum.cost.sum() * 100\n",
    "df_costs_sum = round(df_costs_sum, 2)\n",
    "\n",
    "sns.set_style(\"whitegrid\")\n",
    "plt.figure(figsize=(10,5))\n",
    "sns.barplot(data=df_costs_sum, x='source', y='cost', palette=\"rocket\")\n",
    "plt.title('Затраты на рекламу')\n",
    "plt.xlabel('Источник')\n",
    "plt.ylabel('Стоимость, у.е.')\n",
    "plt.show()\n",
    "\n",
    "print('Всего на рекламу было потрачено:', round(df_costs['cost'].sum(), 2))\n",
    "print('Распределение затрат на рекламу:')\n",
    "df_costs_sum"
   ]
  },
  {
   "cell_type": "markdown",
   "metadata": {},
   "source": [
    "**Вывод:**\n",
    "\n",
    "Больше всего средств было потрачено на `yandex_direct` - 2233.11 у.е. (что составляет 29.37% от всех трат), следом идет `instagram` - 2161.44 у.е. (28.43%), `facebook` - 2140.90 у.е. (28.16%) и наименьше всего на `youtube` - 1068.12 (14.05%)"
   ]
  },
  {
   "cell_type": "markdown",
   "metadata": {},
   "source": [
    "### Стоимость привлечения пользователя\n",
    "\n",
    "Посмотрим, сколько стоило привлечение пользователя из каждого источника"
   ]
  },
  {
   "cell_type": "code",
   "execution_count": 22,
   "metadata": {},
   "outputs": [
    {
     "data": {
      "image/png": "[encoded data removed]",
      "text/plain": [
       "<Figure size 720x360 with 1 Axes>"
      ]
     },
     "metadata": {},
     "output_type": "display_data"
    },
    {
     "data": {
      "text/html": [
       "<div>\n",
       "<style scoped>\n",
       "    .dataframe tbody tr th:only-of-type {\n",
       "        vertical-align: middle;\n",
       "    }\n",
       "\n",
       "    .dataframe tbody tr th {\n",
       "        vertical-align: top;\n",
       "    }\n",
       "\n",
       "    .dataframe thead th {\n",
       "        text-align: right;\n",
       "    }\n",
       "</style>\n",
       "<table border=\"1\" class=\"dataframe\">\n",
       "  <thead>\n",
       "    <tr style=\"text-align: right;\">\n",
       "      <th></th>\n",
       "      <th>source</th>\n",
       "      <th>user_id</th>\n",
       "      <th>cost</th>\n",
       "      <th>cac</th>\n",
       "    </tr>\n",
       "  </thead>\n",
       "  <tbody>\n",
       "    <tr>\n",
       "      <th>2</th>\n",
       "      <td>facebook_ads</td>\n",
       "      <td>2726</td>\n",
       "      <td>2140.90</td>\n",
       "      <td>0.79</td>\n",
       "    </tr>\n",
       "    <tr>\n",
       "      <th>1</th>\n",
       "      <td>instagram_new_adverts</td>\n",
       "      <td>3347</td>\n",
       "      <td>2161.44</td>\n",
       "      <td>0.65</td>\n",
       "    </tr>\n",
       "    <tr>\n",
       "      <th>0</th>\n",
       "      <td>yandex_direct</td>\n",
       "      <td>4817</td>\n",
       "      <td>2233.11</td>\n",
       "      <td>0.46</td>\n",
       "    </tr>\n",
       "    <tr>\n",
       "      <th>3</th>\n",
       "      <td>youtube_channel_reklama</td>\n",
       "      <td>2686</td>\n",
       "      <td>1068.12</td>\n",
       "      <td>0.40</td>\n",
       "    </tr>\n",
       "  </tbody>\n",
       "</table>\n",
       "</div>"
      ],
      "text/plain": [
       "                    source  user_id     cost   cac\n",
       "2             facebook_ads     2726  2140.90  0.79\n",
       "1    instagram_new_adverts     3347  2161.44  0.65\n",
       "0            yandex_direct     4817  2233.11  0.46\n",
       "3  youtube_channel_reklama     2686  1068.12  0.40"
      ]
     },
     "execution_count": 22,
     "metadata": {},
     "output_type": "execute_result"
    }
   ],
   "source": [
    "df_cac = df_clicks_source.merge(df_costs_sum[['source','cost']], on='source')\n",
    "df_cac['cac'] = round(df_cac['cost'] / df_cac['user_id'], 2)\n",
    "df_cac = df_cac.sort_values(by='cac', ascending=False)\n",
    "\n",
    "sns.set_style(\"whitegrid\")\n",
    "plt.figure(figsize=(10,5))\n",
    "sns.barplot(data=df_cac, x='source', y='cac', palette=\"rocket\")\n",
    "plt.title('Стоимость привлечения пользователя')\n",
    "plt.xlabel('Источник')\n",
    "plt.ylabel('Стоимость, у.е.')\n",
    "plt.show()\n",
    "\n",
    "df_cac"
   ]
  },
  {
   "cell_type": "markdown",
   "metadata": {},
   "source": [
    "**Вывод:**\n",
    "\n",
    "Самый дорогой источник - `facebook`, стоимость привлечения пользователя через него составила 0.79 у.е.\n",
    "\n",
    "Наиболее дешевый способ привлечения пользователей - `youtube`, 0.4 у.е. за человека."
   ]
  },
  {
   "cell_type": "markdown",
   "metadata": {},
   "source": [
    "## Вывод\n",
    "\n",
    "* Было выявлено, что до `2020-05-10` включительно пользовательская активность росла, затем достигла в этот день пика и после начала резко падать. Это может быть связано с прекращением рекламной кампании.\n",
    "\n",
    "* В игре пользователи наибольшее количество раз строили `объекты`, при этом отдавая предпочтение `космопорту`\n",
    "\n",
    "* Больше всего пользователей приходит из `yandex_direct`, при этом затраты на `yandex_direct` самые большие (29.37% от общих трат)\n",
    "\n",
    "* Самое дорогое привлечение пользователей у источника `facebook`, самое дешевое - `yandex`\n",
    "\n",
    "**Рекомендации:**\n",
    "\n",
    "Следует отдать предпочтение рекламе в наиболее эффективном источнике, приводящем больше всего пользователей, т.е в `yandex` и сократить траты на `facebook`."
   ]
  },
  {
   "cell_type": "markdown",
   "metadata": {},
   "source": [
    "# Проверка гипотез\n"
   ]
  },
  {
   "cell_type": "markdown",
   "metadata": {},
   "source": [
    "## Гипотеза о различии среднего времени прохождения между пользователями, завершающих уровень разными способами\n",
    "\n",
    "Проверим гипотезу различия времени прохождения уровня между пользователями, которые заканчивают уровень через реализацию проекта, и пользователями, которые заканчивают уровень победой над другим игроком.\n",
    "\n",
    "* H0 - нулевая гипотеза - различия среднего времени прохождения уровня между пользователями, которые заканчивают уровень через реализацию проекта, и пользователями, которые заканчивают уровень победой над другим игроком **нет**\n",
    "\n",
    "* H1 - альтернативная гипотеза - различия среднего времени прохождения уровня между пользователями, которые заканчивают уровень через реализацию проекта, и пользователями, которые заканчивают уровень победой над другим игроком **есть**"
   ]
  },
  {
   "cell_type": "code",
   "execution_count": 23,
   "metadata": {
    "scrolled": true
   },
   "outputs": [
    {
     "data": {
      "text/plain": [
       "(5817, 8)"
      ]
     },
     "execution_count": 23,
     "metadata": {},
     "output_type": "execute_result"
    }
   ],
   "source": [
    "start_day = df_game_actions.groupby('user_id')['event_datetime'].min().reset_index()\n",
    "start_day.columns = ['user_id', 'start_day']\n",
    "start_day['start_day'] = start_day['start_day'].astype('datetime64')\n",
    "\n",
    "df_finish_users = df_game_actions.query('event == \"finished_stage_1\" | event == \"project\"')\\\n",
    "                                 .drop_duplicates(subset='user_id')\n",
    "df_finish_users = df_finish_users.merge(start_day, how='inner', on='user_id')\n",
    "df_finish_users['finish_time_seconds'] = (df_finish_users['event_datetime'] - df_finish_users['start_day']) \\\n",
    "                                         .dt.total_seconds()\n",
    "df_finish_users.shape"
   ]
  },
  {
   "cell_type": "code",
   "execution_count": 24,
   "metadata": {},
   "outputs": [
    {
     "name": "stdout",
     "output_type": "stream",
     "text": [
      "Дисперсии отличаются на  21.31\n"
     ]
    }
   ],
   "source": [
    "project_sample = df_finish_users.query('event == \"project\"')['finish_time_seconds']\n",
    "victory_sample = df_finish_users.query('event == \"finished_stage_1\"')['finish_time_seconds']\n",
    "\n",
    "print('Дисперсии отличаются на ', round((100 - np.var(project_sample, ddof=1) / np.var(victory_sample, ddof=1)*100), 2))"
   ]
  },
  {
   "cell_type": "markdown",
   "metadata": {},
   "source": [
    "Для проверки гипотез выберем Т-критерий Стьюдента. Так как дисперсии различаются, то примем equal_var = **False**."
   ]
  },
  {
   "cell_type": "code",
   "execution_count": 26,
   "metadata": {},
   "outputs": [
    {
     "name": "stdout",
     "output_type": "stream",
     "text": [
      "p-значение: 2.424543748576802e-13\n",
      "Отвергаем нулевую гипотезу\n"
     ]
    }
   ],
   "source": [
    "alpha = .05 \n",
    "\n",
    "results = st.ttest_ind(project_sample, victory_sample, equal_var = False)\n",
    "\n",
    "print('p-значение:', results.pvalue)\n",
    "\n",
    "if (results.pvalue < alpha):\n",
    "    print(\"Отвергаем нулевую гипотезу\")\n",
    "else:\n",
    "    print(\"Не получилось отвергнуть нулевую гипотезу\")"
   ]
  },
  {
   "cell_type": "markdown",
   "metadata": {},
   "source": [
    "**Вывод:**\n",
    "\n",
    "Гипотеза подтвердилась: различия по среднему времени прохождения уровня между пользователями, которые заканчивают уровень через реализацию проекта, и пользователями, которые заканчивают уровень победой над другим игроком **есть**. "
   ]
  },
  {
   "cell_type": "markdown",
   "metadata": {},
   "source": [
    "## Гипотеза о различии среднего времени прохождения между пользователями из разных источников\n",
    "\n",
    "Проверим гипотезу различия времени прохождения уровня между пользователями, которые пришли из `yandex` и пользователями, которые пришли из `instagram`\n",
    "\n",
    "* H0 - нулевая гипотеза - различия среднего времени прохождения уровня между пользователями, которые пришли из `yandex` и пользователями, которые пришли из `instagram` **нет**\n",
    "\n",
    "* H1 - альтернативная гипотеза - различия среднего времени прохождения уровня между пользователями, которые пришли из `yandex` и пользователями, которые пришли из `instagram` **есть**"
   ]
  },
  {
   "cell_type": "code",
   "execution_count": 27,
   "metadata": {
    "scrolled": true
   },
   "outputs": [
    {
     "data": {
      "text/html": [
       "<div>\n",
       "<style scoped>\n",
       "    .dataframe tbody tr th:only-of-type {\n",
       "        vertical-align: middle;\n",
       "    }\n",
       "\n",
       "    .dataframe tbody tr th {\n",
       "        vertical-align: top;\n",
       "    }\n",
       "\n",
       "    .dataframe thead th {\n",
       "        text-align: right;\n",
       "    }\n",
       "</style>\n",
       "<table border=\"1\" class=\"dataframe\">\n",
       "  <thead>\n",
       "    <tr style=\"text-align: right;\">\n",
       "      <th></th>\n",
       "      <th>event_datetime</th>\n",
       "      <th>event</th>\n",
       "      <th>building_type</th>\n",
       "      <th>user_id</th>\n",
       "      <th>project_type</th>\n",
       "      <th>event_day</th>\n",
       "      <th>start_day</th>\n",
       "      <th>finish_time_seconds</th>\n",
       "      <th>source</th>\n",
       "    </tr>\n",
       "  </thead>\n",
       "  <tbody>\n",
       "    <tr>\n",
       "      <th>0</th>\n",
       "      <td>2020-05-04 19:47:29</td>\n",
       "      <td>finished_stage_1</td>\n",
       "      <td>NaN</td>\n",
       "      <td>ced7b368-818f-48f6-9461-2346de0892c5</td>\n",
       "      <td>NaN</td>\n",
       "      <td>2020-05-04</td>\n",
       "      <td>2020-05-04 00:13:21</td>\n",
       "      <td>70448.0</td>\n",
       "      <td>instagram_new_adverts</td>\n",
       "    </tr>\n",
       "    <tr>\n",
       "      <th>1</th>\n",
       "      <td>2020-05-05 13:22:09</td>\n",
       "      <td>finished_stage_1</td>\n",
       "      <td>NaN</td>\n",
       "      <td>7ef7fc89-2779-46ea-b328-9e5035b83af5</td>\n",
       "      <td>NaN</td>\n",
       "      <td>2020-05-05</td>\n",
       "      <td>2020-05-04 00:22:48</td>\n",
       "      <td>133161.0</td>\n",
       "      <td>facebook_ads</td>\n",
       "    </tr>\n",
       "    <tr>\n",
       "      <th>2</th>\n",
       "      <td>2020-05-05 18:54:37</td>\n",
       "      <td>finished_stage_1</td>\n",
       "      <td>NaN</td>\n",
       "      <td>70db22b3-c2f4-43bc-94ea-51c8d2904a29</td>\n",
       "      <td>NaN</td>\n",
       "      <td>2020-05-05</td>\n",
       "      <td>2020-05-04 13:41:55</td>\n",
       "      <td>105162.0</td>\n",
       "      <td>youtube_channel_reklama</td>\n",
       "    </tr>\n",
       "    <tr>\n",
       "      <th>3</th>\n",
       "      <td>2020-05-05 21:27:29</td>\n",
       "      <td>finished_stage_1</td>\n",
       "      <td>NaN</td>\n",
       "      <td>903fc9ef-ba97-4b12-9d5c-ac8d602fbd8b</td>\n",
       "      <td>NaN</td>\n",
       "      <td>2020-05-05</td>\n",
       "      <td>2020-05-04 00:57:02</td>\n",
       "      <td>160227.0</td>\n",
       "      <td>youtube_channel_reklama</td>\n",
       "    </tr>\n",
       "    <tr>\n",
       "      <th>4</th>\n",
       "      <td>2020-05-06 06:02:22</td>\n",
       "      <td>finished_stage_1</td>\n",
       "      <td>NaN</td>\n",
       "      <td>58e077ba-feb1-4556-a5a0-d96bd04efa39</td>\n",
       "      <td>NaN</td>\n",
       "      <td>2020-05-06</td>\n",
       "      <td>2020-05-04 19:23:40</td>\n",
       "      <td>124722.0</td>\n",
       "      <td>facebook_ads</td>\n",
       "    </tr>\n",
       "  </tbody>\n",
       "</table>\n",
       "</div>"
      ],
      "text/plain": [
       "       event_datetime             event building_type  \\\n",
       "0 2020-05-04 19:47:29  finished_stage_1           NaN   \n",
       "1 2020-05-05 13:22:09  finished_stage_1           NaN   \n",
       "2 2020-05-05 18:54:37  finished_stage_1           NaN   \n",
       "3 2020-05-05 21:27:29  finished_stage_1           NaN   \n",
       "4 2020-05-06 06:02:22  finished_stage_1           NaN   \n",
       "\n",
       "                                user_id project_type   event_day  \\\n",
       "0  ced7b368-818f-48f6-9461-2346de0892c5          NaN  2020-05-04   \n",
       "1  7ef7fc89-2779-46ea-b328-9e5035b83af5          NaN  2020-05-05   \n",
       "2  70db22b3-c2f4-43bc-94ea-51c8d2904a29          NaN  2020-05-05   \n",
       "3  903fc9ef-ba97-4b12-9d5c-ac8d602fbd8b          NaN  2020-05-05   \n",
       "4  58e077ba-feb1-4556-a5a0-d96bd04efa39          NaN  2020-05-06   \n",
       "\n",
       "            start_day  finish_time_seconds                   source  \n",
       "0 2020-05-04 00:13:21              70448.0    instagram_new_adverts  \n",
       "1 2020-05-04 00:22:48             133161.0             facebook_ads  \n",
       "2 2020-05-04 13:41:55             105162.0  youtube_channel_reklama  \n",
       "3 2020-05-04 00:57:02             160227.0  youtube_channel_reklama  \n",
       "4 2020-05-04 19:23:40             124722.0             facebook_ads  "
      ]
     },
     "metadata": {},
     "output_type": "display_data"
    },
    {
     "data": {
      "text/plain": [
       "array(['instagram_new_adverts', 'facebook_ads', 'youtube_channel_reklama',\n",
       "       'yandex_direct'], dtype=object)"
      ]
     },
     "execution_count": 27,
     "metadata": {},
     "output_type": "execute_result"
    }
   ],
   "source": [
    "df_finish_users = df_finish_users.merge(df_user_source, on='user_id')\n",
    "display(df_finish_users.head())\n",
    "df_finish_users['source'].unique()"
   ]
  },
  {
   "cell_type": "code",
   "execution_count": 28,
   "metadata": {},
   "outputs": [
    {
     "name": "stdout",
     "output_type": "stream",
     "text": [
      "Дисперсии отличаются на  2.06\n"
     ]
    }
   ],
   "source": [
    "yandex_users_sample = df_finish_users.query('source == \"yandex_direct\"')['finish_time_seconds']\n",
    "facebook_sample = df_finish_users.query('source == \"facebook_ads\"')['finish_time_seconds']\n",
    "\n",
    "print('Дисперсии отличаются на ', round((100 - np.var(facebook_sample, ddof=1) / np.var(yandex_users_sample, ddof=1)*100), 2))"
   ]
  },
  {
   "cell_type": "markdown",
   "metadata": {},
   "source": [
    "Для проверки гипотез выберем Т-критерий Стьюдента. Так как дисперсии различаются, то примем equal_var = **False**."
   ]
  },
  {
   "cell_type": "code",
   "execution_count": 29,
   "metadata": {},
   "outputs": [
    {
     "name": "stdout",
     "output_type": "stream",
     "text": [
      "p-значение: 0.8175556525172447\n",
      "Не получилось отвергнуть нулевую гипотезу\n"
     ]
    }
   ],
   "source": [
    "alpha = .05 \n",
    "\n",
    "results = st.ttest_ind(yandex_users_sample, facebook_sample, equal_var = False)\n",
    "\n",
    "print('p-значение:', results.pvalue)\n",
    "\n",
    "if (results.pvalue < alpha):\n",
    "    print(\"Отвергаем нулевую гипотезу\")\n",
    "else:\n",
    "    print(\"Не получилось отвергнуть нулевую гипотезу\")"
   ]
  },
  {
   "cell_type": "markdown",
   "metadata": {},
   "source": [
    "**Вывод:**\n",
    "\n",
    "Отсутствуют статистически значимые различия по времени прохождения между двумя группами пользователей, пришедших из `yandex` или `facebook`."
   ]
  },
  {
   "cell_type": "markdown",
   "metadata": {},
   "source": [
    "## Вывод\n",
    "\n",
    "* Подтверждена гипотеза о различии среднего времени прохождения уровня между пользователями, которые заканчивают уровень через реализацию проекта, и пользователями, которые заканчивают уровень победой над другим игроком.\n",
    "\n",
    "* Гипотезу о различии времени прохождения уровня между пользователями, которые пришли из yandex и пользователями, которые пришли из instagram, подтвердить не удалось"
   ]
  },
  {
   "cell_type": "markdown",
   "metadata": {},
   "source": [
    "# Построение модели монетизации"
   ]
  },
  {
   "cell_type": "code",
   "execution_count": 30,
   "metadata": {},
   "outputs": [],
   "source": [
    "# Добавим время жизни пользователя в неделях\n",
    "df_game_actions = df_game_actions.merge(start_day, on='user_id')\n",
    "df_game_actions = df_game_actions.merge(df_user_source, on='user_id')\n",
    "df_game_actions['date'] = df_game_actions['event_datetime'].dt.date\n",
    "df_game_actions['start_date'] = df_game_actions['start_day'].dt.date \n",
    "df_game_actions['lifetime'] = ((df_game_actions['date'] - df_game_actions['start_date'])\n",
    "                                       / np.timedelta64(1,'W')).round().astype('int')"
   ]
  },
  {
   "cell_type": "code",
   "execution_count": 31,
   "metadata": {
    "scrolled": false
   },
   "outputs": [
    {
     "data": {
      "text/html": [
       "<div>\n",
       "<style scoped>\n",
       "    .dataframe tbody tr th:only-of-type {\n",
       "        vertical-align: middle;\n",
       "    }\n",
       "\n",
       "    .dataframe tbody tr th {\n",
       "        vertical-align: top;\n",
       "    }\n",
       "\n",
       "    .dataframe thead th {\n",
       "        text-align: right;\n",
       "    }\n",
       "</style>\n",
       "<table border=\"1\" class=\"dataframe\">\n",
       "  <thead>\n",
       "    <tr style=\"text-align: right;\">\n",
       "      <th>lifetime</th>\n",
       "      <th>0</th>\n",
       "      <th>1</th>\n",
       "      <th>2</th>\n",
       "      <th>3</th>\n",
       "      <th>4</th>\n",
       "    </tr>\n",
       "    <tr>\n",
       "      <th>source</th>\n",
       "      <th></th>\n",
       "      <th></th>\n",
       "      <th></th>\n",
       "      <th></th>\n",
       "      <th></th>\n",
       "    </tr>\n",
       "  </thead>\n",
       "  <tbody>\n",
       "    <tr>\n",
       "      <th>facebook_ads</th>\n",
       "      <td>1.0</td>\n",
       "      <td>0.962583</td>\n",
       "      <td>0.502201</td>\n",
       "      <td>0.067865</td>\n",
       "      <td>0.004402</td>\n",
       "    </tr>\n",
       "    <tr>\n",
       "      <th>instagram_new_adverts</th>\n",
       "      <td>1.0</td>\n",
       "      <td>0.965641</td>\n",
       "      <td>0.510009</td>\n",
       "      <td>0.064834</td>\n",
       "      <td>0.003884</td>\n",
       "    </tr>\n",
       "    <tr>\n",
       "      <th>yandex_direct</th>\n",
       "      <td>1.0</td>\n",
       "      <td>0.957858</td>\n",
       "      <td>0.484949</td>\n",
       "      <td>0.062487</td>\n",
       "      <td>0.003944</td>\n",
       "    </tr>\n",
       "    <tr>\n",
       "      <th>youtube_channel_reklama</th>\n",
       "      <td>1.0</td>\n",
       "      <td>0.953090</td>\n",
       "      <td>0.499628</td>\n",
       "      <td>0.064036</td>\n",
       "      <td>0.002606</td>\n",
       "    </tr>\n",
       "    <tr>\n",
       "      <th>mean</th>\n",
       "      <td>1.0</td>\n",
       "      <td>0.959793</td>\n",
       "      <td>0.499197</td>\n",
       "      <td>0.064805</td>\n",
       "      <td>0.003709</td>\n",
       "    </tr>\n",
       "  </tbody>\n",
       "</table>\n",
       "</div>"
      ],
      "text/plain": [
       "lifetime                   0         1         2         3         4\n",
       "source                                                              \n",
       "facebook_ads             1.0  0.962583  0.502201  0.067865  0.004402\n",
       "instagram_new_adverts    1.0  0.965641  0.510009  0.064834  0.003884\n",
       "yandex_direct            1.0  0.957858  0.484949  0.062487  0.003944\n",
       "youtube_channel_reklama  1.0  0.953090  0.499628  0.064036  0.002606\n",
       "mean                     1.0  0.959793  0.499197  0.064805  0.003709"
      ]
     },
     "execution_count": 31,
     "metadata": {},
     "output_type": "execute_result"
    }
   ],
   "source": [
    "# Retention Rate по источникам рекламы\n",
    "df_lifetime_source = df_game_actions.groupby(['source','lifetime'])['user_id'].nunique().reset_index() \\\n",
    "                                     .rename(columns={'user_id':'count_users'})\n",
    "\n",
    "df_lifetime_size_source = df_lifetime_source.query('lifetime == 0')[['source','count_users']] \\\n",
    "                                        .rename(columns={'count_users':'cohort_users'})\n",
    "\n",
    "df_lifetime_source = df_lifetime_source.merge(df_lifetime_size_source, on='source')\n",
    "df_lifetime_source['retention'] = df_lifetime_source['count_users'] / df_lifetime_source['cohort_users']\n",
    "\n",
    "df_retention = df_lifetime_source.pivot_table(index='source', columns='lifetime', values='retention', aggfunc='sum')\n",
    "df_retention.loc['mean'] = df_retention.mean()\n",
    "df_retention"
   ]
  },
  {
   "cell_type": "code",
   "execution_count": 32,
   "metadata": {},
   "outputs": [
    {
     "name": "stdout",
     "output_type": "stream",
     "text": [
      "Всего уникальных пользователей: 13576\n",
      "Всего на рекламу было потрачено: 7603.58\n",
      "Минимальная стоимость привлечения пользователя (источник youtube): 0.4\n",
      "Максимальная стоимость привлечения пользователя (источник facebook): 0.79\n",
      "Среднее количество построек на пользователя: 9.4\n",
      "Средняя стоимость привлечения пользователя: 0.56\n",
      "Средний отток пользователей: 49.92%\n"
     ]
    }
   ],
   "source": [
    "total_users = df_game_actions['user_id'].nunique()\n",
    "print('Всего уникальных пользователей:', total_users)\n",
    "total_cost = round(df_costs['cost'].sum(), 2)\n",
    "print('Всего на рекламу было потрачено:', total_cost)\n",
    "cac_mean = round(total_cost / total_users, 2)\n",
    "print('Минимальная стоимость привлечения пользователя (источник youtube):', df_cac['cac'].min())\n",
    "print('Максимальная стоимость привлечения пользователя (источник facebook):', df_cac['cac'].max())\n",
    "print('Среднее количество построек на пользователя:', round(df_buildings_total['buildings_count'].mean(), 1))\n",
    "print('Средняя стоимость привлечения пользователя:', cac_mean)\n",
    "print('Средний отток пользователей: ', round(df_retention[2][-1] * 100, 2), '%', sep='')"
   ]
  },
  {
   "cell_type": "markdown",
   "metadata": {},
   "source": [
    "Заказчик зафиксировал стоимость 1 рекламного ролика равной 0.07. На момент исследования cредняя стоимость привлечения пользователей составляет 0.56, а среднее количество построек, которое строят пользователи - 9.\n",
    "\n",
    "Предположим, что затраты на привлечение пользователей останутся прежними, тогда составим функцию, определяющую процент окупаемости вложений в рекламу, на вход которой будет подаваться стоимость показа одного рекламного ролика и число построенных игроком объектов, после которых будет начинать показываться реклама."
   ]
  },
  {
   "cell_type": "code",
   "execution_count": 33,
   "metadata": {},
   "outputs": [
    {
     "name": "stdout",
     "output_type": "stream",
     "text": [
      "При показе рекламы начиная с выбора 1-й постройки, когда у пользователя уже есть 0 построек, вложения в рекламу окупаются на:   117.8%\n",
      "При показе рекламы начиная с выбора 2-й постройки, когда у пользователя уже есть 1 построек, вложения в рекламу окупаются на:   105.3%\n",
      "При показе рекламы начиная с выбора 3-й постройки, когда у пользователя уже есть 2 построек, вложения в рекламу окупаются на:   92.9%\n",
      "При показе рекламы начиная с выбора 4-й постройки, когда у пользователя уже есть 3 построек, вложения в рекламу окупаются на:   80.7%\n",
      "При показе рекламы начиная с выбора 5-й постройки, когда у пользователя уже есть 4 построек, вложения в рекламу окупаются на:   69.0%\n",
      "При показе рекламы начиная с выбора 6-й постройки, когда у пользователя уже есть 5 построек, вложения в рекламу окупаются на:   58.0%\n",
      "При показе рекламы начиная с выбора 7-й постройки, когда у пользователя уже есть 6 построек, вложения в рекламу окупаются на:   48.0%\n",
      "При показе рекламы начиная с выбора 8-й постройки, когда у пользователя уже есть 7 построек, вложения в рекламу окупаются на:   39.2%\n",
      "При показе рекламы начиная с выбора 9-й постройки, когда у пользователя уже есть 8 построек, вложения в рекламу окупаются на:   30.6%\n"
     ]
    }
   ],
   "source": [
    "add_cost = 0.07\n",
    "def monetization_model(cost, n):\n",
    "    df_buildings_total['version_count'] = df_buildings_total['buildings_count'] - n + 1\n",
    "    count_buildings = df_buildings_total.query('version_count > 0')['version_count'].sum()\n",
    "    payback_percent =  round(count_buildings * cost / total_cost * 100, 1)\n",
    "    print('При показе рекламы начиная с выбора ', n, '-й постройки, когда у пользователя уже есть ',\\\n",
    "          n - 1,' построек, вложения в рекламу окупаются на:   ', payback_percent, '%', sep='')\n",
    "    \n",
    "for i in range(1, 10):\n",
    "    monetization_model(add_cost, i)"
   ]
  },
  {
   "cell_type": "markdown",
   "metadata": {},
   "source": [
    "**Вывод:**\n",
    "\n",
    "Из предложенных вариантов показа рекламы, наилучшим решением будет показывать рекламу начиная с выбора 1-й постройки."
   ]
  },
  {
   "cell_type": "markdown",
   "metadata": {},
   "source": [
    "# Общие выводы и рекомендации"
   ]
  },
  {
   "cell_type": "markdown",
   "metadata": {},
   "source": [
    "Для исследования были предоставлены 3 таблицы с данными о пользовательской активности в игре, информация об источниках, из которых пришел пользователь, и о кликах по объявлениям.\n",
    "\n",
    "Во всех датафреймах качественные данные с минимальным количеством ошибок и недочетов.\n",
    "\n",
    "**Пользовательская активность:**\n",
    "\n",
    "* До `2020-05-10` включительно пользовательская активность росла, затем достигла в этот день пика и после резко падает. Это может быть связано с прекращением рекламной кампании.\n",
    "\n",
    "* В игре пользователи наибольшее количество раз строили `объекты`, при этом отдавая предпочтение `космопорту`\n",
    "\n",
    "**Рекламные источники:**\n",
    "\n",
    "* Больше всего пользователей приходит из `yandex_direct`, при этом затраты на `yandex_direct` самые большие.\n",
    "\n",
    "* Самое дорогое привлечение пользователей у источника `facebook`, самое дешевое - `yandex`\n",
    "\n",
    "**Проверка гипотез:**\n",
    "\n",
    "* Есть различия по времени прохождения между двумя группами пользователей, завершающих уровень через убийство врага и через проект.\n",
    "\n",
    "* Нет различий по времени прохождения между двумя группами пользователей, пришедших из `yandex` или `instagram`.\n",
    "\n",
    "**Модель монетизации:**\n",
    "\n",
    "* Была сформирована модель монетизации, и самым лучшим вариантом оказалось предлагать рекламу начиная с выбора 1-ой постройки\n",
    "\n",
    "**Рекомендации:**\n",
    "\n",
    "* Следует отдать предпочтение рекламе в `yandex` и сократить траты на `facebook`\n",
    "\n",
    "* Начинать показывать рекламу начиная выбора 1-ой постройки, чтобы выйти на окупаемость\n"
   ]
  }
 ],
 "metadata": {
  "ExecuteTimeLog": [
   {
    "duration": 42,
    "start_time": "2022-04-07T11:21:20.952Z"
   },
   {
    "duration": 1577,
    "start_time": "2022-04-07T11:21:25.028Z"
   },
   {
    "duration": 1449,
    "start_time": "2022-04-07T11:21:26.607Z"
   },
   {
    "duration": 78,
    "start_time": "2022-04-07T11:43:24.336Z"
   },
   {
    "duration": 35,
    "start_time": "2022-04-07T11:43:37.710Z"
   },
   {
    "duration": 267,
    "start_time": "2022-04-07T11:44:45.857Z"
   },
   {
    "duration": 50,
    "start_time": "2022-04-07T11:45:53.330Z"
   },
   {
    "duration": 60,
    "start_time": "2022-04-07T11:46:11.654Z"
   },
   {
    "duration": 63,
    "start_time": "2022-04-07T11:46:37.046Z"
   },
   {
    "duration": 60,
    "start_time": "2022-04-07T11:47:15.056Z"
   },
   {
    "duration": 76,
    "start_time": "2022-04-07T11:47:26.710Z"
   },
   {
    "duration": 14,
    "start_time": "2022-04-07T11:48:16.710Z"
   },
   {
    "duration": 35,
    "start_time": "2022-04-07T11:51:11.923Z"
   },
   {
    "duration": 872,
    "start_time": "2022-04-07T11:51:20.996Z"
   },
   {
    "duration": 12,
    "start_time": "2022-04-07T11:51:37.165Z"
   },
   {
    "duration": 18,
    "start_time": "2022-04-07T11:52:29.948Z"
   },
   {
    "duration": 16,
    "start_time": "2022-04-07T11:54:05.608Z"
   },
   {
    "duration": 13,
    "start_time": "2022-04-07T11:54:13.920Z"
   },
   {
    "duration": 15,
    "start_time": "2022-04-07T11:56:33.934Z"
   },
   {
    "duration": 15,
    "start_time": "2022-04-07T11:56:37.582Z"
   },
   {
    "duration": 14,
    "start_time": "2022-04-07T11:57:03.446Z"
   },
   {
    "duration": 14,
    "start_time": "2022-04-07T11:57:11.598Z"
   },
   {
    "duration": 15,
    "start_time": "2022-04-07T11:57:30.918Z"
   },
   {
    "duration": 15,
    "start_time": "2022-04-07T11:57:39.373Z"
   },
   {
    "duration": 16,
    "start_time": "2022-04-07T11:57:53.269Z"
   },
   {
    "duration": 15,
    "start_time": "2022-04-07T11:57:58.573Z"
   },
   {
    "duration": 18,
    "start_time": "2022-04-07T11:58:03.358Z"
   },
   {
    "duration": 21,
    "start_time": "2022-04-07T11:58:09.301Z"
   },
   {
    "duration": 19,
    "start_time": "2022-04-07T11:58:22.572Z"
   },
   {
    "duration": 18,
    "start_time": "2022-04-07T11:58:46.117Z"
   },
   {
    "duration": 25,
    "start_time": "2022-04-07T12:00:34.875Z"
   },
   {
    "duration": 17,
    "start_time": "2022-04-07T12:00:45.539Z"
   },
   {
    "duration": 17,
    "start_time": "2022-04-07T12:01:00.892Z"
   },
   {
    "duration": 16,
    "start_time": "2022-04-07T12:01:09.653Z"
   },
   {
    "duration": 18,
    "start_time": "2022-04-07T12:01:16.211Z"
   },
   {
    "duration": 18,
    "start_time": "2022-04-07T12:01:20.946Z"
   },
   {
    "duration": 18,
    "start_time": "2022-04-07T12:01:27.779Z"
   },
   {
    "duration": 4,
    "start_time": "2022-04-07T12:01:44.355Z"
   },
   {
    "duration": 268,
    "start_time": "2022-04-07T12:02:30.009Z"
   },
   {
    "duration": 15,
    "start_time": "2022-04-07T12:04:07.529Z"
   },
   {
    "duration": 125,
    "start_time": "2022-04-07T12:04:17.130Z"
   },
   {
    "duration": 5,
    "start_time": "2022-04-07T12:04:42.441Z"
   },
   {
    "duration": 126,
    "start_time": "2022-04-07T12:04:46.032Z"
   },
   {
    "duration": 4,
    "start_time": "2022-04-07T12:04:53.351Z"
   },
   {
    "duration": 120,
    "start_time": "2022-04-07T12:04:53.615Z"
   },
   {
    "duration": 68,
    "start_time": "2022-04-07T12:43:56.096Z"
   },
   {
    "duration": 81,
    "start_time": "2022-04-07T12:45:35.823Z"
   },
   {
    "duration": 73,
    "start_time": "2022-04-07T12:45:47.086Z"
   },
   {
    "duration": 17,
    "start_time": "2022-04-07T12:57:06.198Z"
   },
   {
    "duration": 16,
    "start_time": "2022-04-07T12:57:10.678Z"
   },
   {
    "duration": 12,
    "start_time": "2022-04-07T13:00:38.620Z"
   },
   {
    "duration": 3,
    "start_time": "2022-04-07T13:00:45.756Z"
   },
   {
    "duration": 9,
    "start_time": "2022-04-07T13:00:54.243Z"
   },
   {
    "duration": 22,
    "start_time": "2022-04-07T13:01:43.027Z"
   },
   {
    "duration": 8,
    "start_time": "2022-04-07T13:11:05.587Z"
   },
   {
    "duration": 347,
    "start_time": "2022-04-07T13:11:09.499Z"
   },
   {
    "duration": 342,
    "start_time": "2022-04-07T13:12:04.122Z"
   },
   {
    "duration": 338,
    "start_time": "2022-04-07T13:12:44.097Z"
   },
   {
    "duration": 10,
    "start_time": "2022-04-07T13:17:47.469Z"
   },
   {
    "duration": 4,
    "start_time": "2022-04-07T13:18:31.790Z"
   },
   {
    "duration": 1816,
    "start_time": "2022-04-07T14:31:27.744Z"
   },
   {
    "duration": 1455,
    "start_time": "2022-04-07T14:31:29.562Z"
   },
   {
    "duration": 5,
    "start_time": "2022-04-07T14:31:31.019Z"
   },
   {
    "duration": 159,
    "start_time": "2022-04-07T14:31:31.026Z"
   },
   {
    "duration": 143,
    "start_time": "2022-04-07T14:31:31.187Z"
   },
   {
    "duration": 398,
    "start_time": "2022-04-07T14:31:31.332Z"
   },
   {
    "duration": 18,
    "start_time": "2022-04-07T14:31:31.732Z"
   },
   {
    "duration": 10,
    "start_time": "2022-04-07T14:31:31.752Z"
   },
   {
    "duration": 7,
    "start_time": "2022-04-07T14:31:31.763Z"
   },
   {
    "duration": 51,
    "start_time": "2022-04-07T14:31:31.772Z"
   },
   {
    "duration": 144,
    "start_time": "2022-04-07T14:47:54.347Z"
   },
   {
    "duration": 88,
    "start_time": "2022-04-07T14:48:02.548Z"
   },
   {
    "duration": 93,
    "start_time": "2022-04-07T14:48:08.254Z"
   },
   {
    "duration": 89,
    "start_time": "2022-04-07T14:48:26.774Z"
   },
   {
    "duration": 313,
    "start_time": "2022-04-07T16:43:17.926Z"
   },
   {
    "duration": 293,
    "start_time": "2022-04-07T16:43:53.088Z"
   },
   {
    "duration": 332,
    "start_time": "2022-04-07T16:44:09.975Z"
   },
   {
    "duration": 295,
    "start_time": "2022-04-07T16:44:33.374Z"
   },
   {
    "duration": 323,
    "start_time": "2022-04-07T16:44:39.374Z"
   },
   {
    "duration": 352,
    "start_time": "2022-04-07T16:44:55.110Z"
   },
   {
    "duration": 419,
    "start_time": "2022-04-07T16:45:16.782Z"
   },
   {
    "duration": 330,
    "start_time": "2022-04-07T16:45:30.550Z"
   },
   {
    "duration": 341,
    "start_time": "2022-04-07T16:46:16.477Z"
   },
   {
    "duration": 336,
    "start_time": "2022-04-07T16:46:30.861Z"
   },
   {
    "duration": 567,
    "start_time": "2022-04-07T16:56:42.371Z"
   },
   {
    "duration": 70,
    "start_time": "2022-04-07T16:57:28.972Z"
   },
   {
    "duration": 314,
    "start_time": "2022-04-07T16:57:44.845Z"
   },
   {
    "duration": 106,
    "start_time": "2022-04-07T17:07:56.098Z"
   },
   {
    "duration": 357,
    "start_time": "2022-04-07T17:07:59.716Z"
   },
   {
    "duration": 98,
    "start_time": "2022-04-07T17:08:12.535Z"
   },
   {
    "duration": 560,
    "start_time": "2022-04-07T17:08:19.452Z"
   },
   {
    "duration": 575,
    "start_time": "2022-04-07T17:08:29.644Z"
   },
   {
    "duration": 577,
    "start_time": "2022-04-07T17:08:43.476Z"
   },
   {
    "duration": 537,
    "start_time": "2022-04-07T17:08:57.188Z"
   },
   {
    "duration": 1585,
    "start_time": "2022-04-07T18:48:50.337Z"
   },
   {
    "duration": 240,
    "start_time": "2022-04-07T18:48:51.924Z"
   },
   {
    "duration": 4,
    "start_time": "2022-04-07T18:48:52.165Z"
   },
   {
    "duration": 135,
    "start_time": "2022-04-07T18:48:52.171Z"
   },
   {
    "duration": 121,
    "start_time": "2022-04-07T18:48:52.308Z"
   },
   {
    "duration": 389,
    "start_time": "2022-04-07T18:48:52.431Z"
   },
   {
    "duration": 18,
    "start_time": "2022-04-07T18:48:52.822Z"
   },
   {
    "duration": 11,
    "start_time": "2022-04-07T18:48:52.841Z"
   },
   {
    "duration": 4,
    "start_time": "2022-04-07T18:48:52.854Z"
   },
   {
    "duration": 52,
    "start_time": "2022-04-07T18:48:52.860Z"
   },
   {
    "duration": 412,
    "start_time": "2022-04-07T18:48:52.914Z"
   },
   {
    "duration": 355,
    "start_time": "2022-04-07T18:48:53.328Z"
   },
   {
    "duration": 141,
    "start_time": "2022-04-07T18:53:00.888Z"
   },
   {
    "duration": 19,
    "start_time": "2022-04-07T18:53:09.597Z"
   },
   {
    "duration": 23,
    "start_time": "2022-04-07T18:53:13.695Z"
   },
   {
    "duration": 24,
    "start_time": "2022-04-07T18:53:36.851Z"
   },
   {
    "duration": 21,
    "start_time": "2022-04-07T18:53:42.846Z"
   },
   {
    "duration": 23,
    "start_time": "2022-04-07T18:53:49.079Z"
   },
   {
    "duration": 23,
    "start_time": "2022-04-07T18:54:13.546Z"
   },
   {
    "duration": 21,
    "start_time": "2022-04-07T18:54:21.368Z"
   },
   {
    "duration": 22,
    "start_time": "2022-04-07T18:54:46.142Z"
   },
   {
    "duration": 338,
    "start_time": "2022-04-07T18:56:00.918Z"
   },
   {
    "duration": 354,
    "start_time": "2022-04-07T18:56:08.549Z"
   },
   {
    "duration": 127,
    "start_time": "2022-04-07T18:56:45.941Z"
   },
   {
    "duration": 131,
    "start_time": "2022-04-07T18:57:30.772Z"
   },
   {
    "duration": 35,
    "start_time": "2022-04-07T18:58:06.436Z"
   },
   {
    "duration": 197,
    "start_time": "2022-04-07T18:58:42.858Z"
   },
   {
    "duration": 125,
    "start_time": "2022-04-07T18:58:51.915Z"
   },
   {
    "duration": 135,
    "start_time": "2022-04-07T19:01:30.172Z"
   },
   {
    "duration": 198,
    "start_time": "2022-04-07T19:02:58.935Z"
   },
   {
    "duration": 15,
    "start_time": "2022-04-07T20:30:51.424Z"
   },
   {
    "duration": 128,
    "start_time": "2022-04-07T20:32:40.704Z"
   },
   {
    "duration": 130,
    "start_time": "2022-04-07T20:33:05.519Z"
   },
   {
    "duration": 1461,
    "start_time": "2022-04-07T23:05:37.059Z"
   },
   {
    "duration": 241,
    "start_time": "2022-04-07T23:05:38.522Z"
   },
   {
    "duration": 3,
    "start_time": "2022-04-07T23:05:38.765Z"
   },
   {
    "duration": 138,
    "start_time": "2022-04-07T23:05:38.770Z"
   },
   {
    "duration": 131,
    "start_time": "2022-04-07T23:05:38.909Z"
   },
   {
    "duration": 386,
    "start_time": "2022-04-07T23:05:39.042Z"
   },
   {
    "duration": 18,
    "start_time": "2022-04-07T23:05:39.429Z"
   },
   {
    "duration": 10,
    "start_time": "2022-04-07T23:05:39.449Z"
   },
   {
    "duration": 6,
    "start_time": "2022-04-07T23:05:39.461Z"
   },
   {
    "duration": 50,
    "start_time": "2022-04-07T23:05:39.469Z"
   },
   {
    "duration": 413,
    "start_time": "2022-04-07T23:05:39.521Z"
   },
   {
    "duration": 323,
    "start_time": "2022-04-07T23:05:39.935Z"
   },
   {
    "duration": 137,
    "start_time": "2022-04-07T23:05:40.260Z"
   },
   {
    "duration": 140,
    "start_time": "2022-04-07T23:05:40.401Z"
   },
   {
    "duration": 11,
    "start_time": "2022-04-07T23:53:03.704Z"
   },
   {
    "duration": 148,
    "start_time": "2022-04-07T23:54:15.553Z"
   },
   {
    "duration": 42,
    "start_time": "2022-04-07T23:54:25.943Z"
   },
   {
    "duration": 47,
    "start_time": "2022-04-07T23:54:34.646Z"
   },
   {
    "duration": 52,
    "start_time": "2022-04-07T23:55:21.880Z"
   },
   {
    "duration": 49,
    "start_time": "2022-04-07T23:55:41.529Z"
   },
   {
    "duration": 48,
    "start_time": "2022-04-07T23:55:53.207Z"
   },
   {
    "duration": 45,
    "start_time": "2022-04-07T23:58:33.780Z"
   },
   {
    "duration": 50,
    "start_time": "2022-04-07T23:58:39.971Z"
   },
   {
    "duration": 49,
    "start_time": "2022-04-07T23:58:51.387Z"
   },
   {
    "duration": 45,
    "start_time": "2022-04-07T23:59:47.434Z"
   },
   {
    "duration": 46,
    "start_time": "2022-04-08T00:00:27.704Z"
   },
   {
    "duration": 9,
    "start_time": "2022-04-08T00:15:26.094Z"
   },
   {
    "duration": 9,
    "start_time": "2022-04-08T00:15:36.110Z"
   },
   {
    "duration": 14,
    "start_time": "2022-04-08T00:18:23.820Z"
   },
   {
    "duration": 9,
    "start_time": "2022-04-08T00:18:38.788Z"
   },
   {
    "duration": 8,
    "start_time": "2022-04-08T00:19:10.038Z"
   },
   {
    "duration": 199,
    "start_time": "2022-04-08T00:23:29.328Z"
   },
   {
    "duration": 202,
    "start_time": "2022-04-08T00:23:42.136Z"
   },
   {
    "duration": 25,
    "start_time": "2022-04-08T00:23:51.018Z"
   },
   {
    "duration": 17,
    "start_time": "2022-04-08T00:24:39.263Z"
   },
   {
    "duration": 13,
    "start_time": "2022-04-08T00:24:45.448Z"
   },
   {
    "duration": 14,
    "start_time": "2022-04-08T00:24:56.201Z"
   },
   {
    "duration": 146,
    "start_time": "2022-04-08T00:25:47.594Z"
   },
   {
    "duration": 188,
    "start_time": "2022-04-08T00:25:54.281Z"
   },
   {
    "duration": 131,
    "start_time": "2022-04-08T00:26:04.384Z"
   },
   {
    "duration": 136,
    "start_time": "2022-04-08T00:26:17.759Z"
   },
   {
    "duration": 126,
    "start_time": "2022-04-08T00:27:03.310Z"
   },
   {
    "duration": 9,
    "start_time": "2022-04-08T00:33:42.561Z"
   },
   {
    "duration": 4,
    "start_time": "2022-04-08T00:34:07.446Z"
   },
   {
    "duration": 4,
    "start_time": "2022-04-08T00:34:31.696Z"
   },
   {
    "duration": 254,
    "start_time": "2022-04-08T00:34:49.087Z"
   },
   {
    "duration": 4,
    "start_time": "2022-04-08T00:34:54.446Z"
   },
   {
    "duration": 4,
    "start_time": "2022-04-08T00:34:58.438Z"
   },
   {
    "duration": 8,
    "start_time": "2022-04-08T00:39:24.620Z"
   },
   {
    "duration": 11,
    "start_time": "2022-04-08T00:40:50.204Z"
   },
   {
    "duration": 12,
    "start_time": "2022-04-08T00:41:18.118Z"
   },
   {
    "duration": 11,
    "start_time": "2022-04-08T00:41:47.155Z"
   },
   {
    "duration": 12,
    "start_time": "2022-04-08T00:42:05.458Z"
   },
   {
    "duration": 10,
    "start_time": "2022-04-08T00:42:10.929Z"
   },
   {
    "duration": 10,
    "start_time": "2022-04-08T00:42:33.651Z"
   },
   {
    "duration": 1560,
    "start_time": "2022-04-08T00:42:53.157Z"
   },
   {
    "duration": 257,
    "start_time": "2022-04-08T00:42:54.719Z"
   },
   {
    "duration": 3,
    "start_time": "2022-04-08T00:42:54.978Z"
   },
   {
    "duration": 140,
    "start_time": "2022-04-08T00:42:54.983Z"
   },
   {
    "duration": 127,
    "start_time": "2022-04-08T00:42:55.125Z"
   },
   {
    "duration": 459,
    "start_time": "2022-04-08T00:42:55.254Z"
   },
   {
    "duration": 16,
    "start_time": "2022-04-08T00:42:55.715Z"
   },
   {
    "duration": 10,
    "start_time": "2022-04-08T00:42:55.732Z"
   },
   {
    "duration": 14,
    "start_time": "2022-04-08T00:42:55.743Z"
   },
   {
    "duration": 43,
    "start_time": "2022-04-08T00:42:55.760Z"
   },
   {
    "duration": 397,
    "start_time": "2022-04-08T00:42:55.805Z"
   },
   {
    "duration": 302,
    "start_time": "2022-04-08T00:42:56.204Z"
   },
   {
    "duration": 133,
    "start_time": "2022-04-08T00:42:56.507Z"
   },
   {
    "duration": 61,
    "start_time": "2022-04-08T00:42:56.641Z"
   },
   {
    "duration": 135,
    "start_time": "2022-04-08T00:42:56.704Z"
   },
   {
    "duration": 47,
    "start_time": "2022-04-08T00:42:56.840Z"
   },
   {
    "duration": 134,
    "start_time": "2022-04-08T00:42:56.901Z"
   },
   {
    "duration": 7,
    "start_time": "2022-04-08T00:42:57.037Z"
   },
   {
    "duration": 118,
    "start_time": "2022-04-08T00:42:57.045Z"
   },
   {
    "duration": 12,
    "start_time": "2022-04-08T00:43:06.042Z"
   },
   {
    "duration": 16,
    "start_time": "2022-04-08T00:43:16.725Z"
   },
   {
    "duration": 9,
    "start_time": "2022-04-08T00:43:25.476Z"
   },
   {
    "duration": 9,
    "start_time": "2022-04-08T00:43:37.300Z"
   },
   {
    "duration": 15,
    "start_time": "2022-04-08T00:43:47.164Z"
   },
   {
    "duration": 12,
    "start_time": "2022-04-08T00:44:15.602Z"
   },
   {
    "duration": 15,
    "start_time": "2022-04-08T00:44:31.258Z"
   },
   {
    "duration": 17,
    "start_time": "2022-04-08T00:45:31.251Z"
   },
   {
    "duration": 22,
    "start_time": "2022-04-08T00:46:12.729Z"
   },
   {
    "duration": 133,
    "start_time": "2022-04-08T00:46:50.633Z"
   },
   {
    "duration": 202,
    "start_time": "2022-04-08T00:47:00.046Z"
   },
   {
    "duration": 132,
    "start_time": "2022-04-08T00:47:04.753Z"
   },
   {
    "duration": 138,
    "start_time": "2022-04-08T00:47:08.936Z"
   },
   {
    "duration": 129,
    "start_time": "2022-04-08T00:47:28.050Z"
   },
   {
    "duration": 127,
    "start_time": "2022-04-08T00:47:35.256Z"
   },
   {
    "duration": 9,
    "start_time": "2022-04-08T01:05:39.345Z"
   },
   {
    "duration": 7,
    "start_time": "2022-04-08T01:06:48.296Z"
   },
   {
    "duration": 14,
    "start_time": "2022-04-08T01:07:06.887Z"
   },
   {
    "duration": 13,
    "start_time": "2022-04-08T01:07:18.874Z"
   },
   {
    "duration": 8,
    "start_time": "2022-04-08T01:08:00.377Z"
   },
   {
    "duration": 14,
    "start_time": "2022-04-08T01:08:04.896Z"
   },
   {
    "duration": 15,
    "start_time": "2022-04-08T01:17:58.832Z"
   },
   {
    "duration": 14,
    "start_time": "2022-04-08T01:18:08.592Z"
   },
   {
    "duration": 135,
    "start_time": "2022-04-08T01:18:35.952Z"
   },
   {
    "duration": 14,
    "start_time": "2022-04-08T01:18:53.960Z"
   },
   {
    "duration": 145,
    "start_time": "2022-04-08T01:19:09.495Z"
   },
   {
    "duration": 137,
    "start_time": "2022-04-08T01:19:27.007Z"
   },
   {
    "duration": 141,
    "start_time": "2022-04-08T01:19:43.614Z"
   },
   {
    "duration": 2124,
    "start_time": "2022-04-08T12:39:20.639Z"
   },
   {
    "duration": 547,
    "start_time": "2022-04-08T12:39:22.766Z"
   },
   {
    "duration": 6,
    "start_time": "2022-04-08T12:39:23.315Z"
   },
   {
    "duration": 191,
    "start_time": "2022-04-08T12:39:23.324Z"
   },
   {
    "duration": 180,
    "start_time": "2022-04-08T12:39:23.517Z"
   },
   {
    "duration": 509,
    "start_time": "2022-04-08T12:39:23.699Z"
   },
   {
    "duration": 42,
    "start_time": "2022-04-08T12:39:24.210Z"
   },
   {
    "duration": 47,
    "start_time": "2022-04-08T12:39:24.255Z"
   },
   {
    "duration": 12,
    "start_time": "2022-04-08T12:39:24.305Z"
   },
   {
    "duration": 59,
    "start_time": "2022-04-08T12:39:24.321Z"
   },
   {
    "duration": 1011,
    "start_time": "2022-04-08T12:39:24.383Z"
   },
   {
    "duration": 576,
    "start_time": "2022-04-08T12:39:25.397Z"
   },
   {
    "duration": 241,
    "start_time": "2022-04-08T12:39:25.975Z"
   },
   {
    "duration": 89,
    "start_time": "2022-04-08T12:39:26.218Z"
   },
   {
    "duration": 232,
    "start_time": "2022-04-08T12:39:26.309Z"
   },
   {
    "duration": 81,
    "start_time": "2022-04-08T12:39:26.544Z"
   },
   {
    "duration": 269,
    "start_time": "2022-04-08T12:39:26.627Z"
   },
   {
    "duration": 268,
    "start_time": "2022-04-08T12:39:26.899Z"
   },
   {
    "duration": 368,
    "start_time": "2022-04-08T12:39:27.170Z"
   },
   {
    "duration": 41,
    "start_time": "2022-04-08T13:36:02.579Z"
   },
   {
    "duration": 15,
    "start_time": "2022-04-08T13:36:24.563Z"
   },
   {
    "duration": 26,
    "start_time": "2022-04-08T13:39:03.042Z"
   },
   {
    "duration": 41,
    "start_time": "2022-04-08T13:39:11.761Z"
   },
   {
    "duration": 44,
    "start_time": "2022-04-08T13:39:48.497Z"
   },
   {
    "duration": 26,
    "start_time": "2022-04-08T13:39:56.521Z"
   },
   {
    "duration": 40,
    "start_time": "2022-04-08T13:42:32.567Z"
   },
   {
    "duration": 187,
    "start_time": "2022-04-08T13:46:14.691Z"
   },
   {
    "duration": 36,
    "start_time": "2022-04-08T13:46:23.638Z"
   },
   {
    "duration": 2082,
    "start_time": "2022-04-08T13:46:53.308Z"
   },
   {
    "duration": 299,
    "start_time": "2022-04-08T13:46:55.392Z"
   },
   {
    "duration": 6,
    "start_time": "2022-04-08T13:46:55.693Z"
   },
   {
    "duration": 207,
    "start_time": "2022-04-08T13:46:55.702Z"
   },
   {
    "duration": 188,
    "start_time": "2022-04-08T13:46:55.911Z"
   },
   {
    "duration": 502,
    "start_time": "2022-04-08T13:46:56.102Z"
   },
   {
    "duration": 28,
    "start_time": "2022-04-08T13:46:56.606Z"
   },
   {
    "duration": 44,
    "start_time": "2022-04-08T13:46:56.636Z"
   },
   {
    "duration": 10,
    "start_time": "2022-04-08T13:46:56.682Z"
   },
   {
    "duration": 33,
    "start_time": "2022-04-08T13:46:56.695Z"
   },
   {
    "duration": 718,
    "start_time": "2022-04-08T13:46:56.731Z"
   },
   {
    "duration": 547,
    "start_time": "2022-04-08T13:46:57.452Z"
   },
   {
    "duration": 331,
    "start_time": "2022-04-08T13:46:58.002Z"
   },
   {
    "duration": 85,
    "start_time": "2022-04-08T13:46:58.336Z"
   },
   {
    "duration": 227,
    "start_time": "2022-04-08T13:46:58.423Z"
   },
   {
    "duration": 76,
    "start_time": "2022-04-08T13:46:58.652Z"
   },
   {
    "duration": 255,
    "start_time": "2022-04-08T13:46:58.730Z"
   },
   {
    "duration": 243,
    "start_time": "2022-04-08T13:46:58.987Z"
   },
   {
    "duration": 337,
    "start_time": "2022-04-08T13:46:59.232Z"
   },
   {
    "duration": 151,
    "start_time": "2022-04-08T15:37:38.886Z"
   },
   {
    "duration": 75,
    "start_time": "2022-04-08T15:37:58.351Z"
   },
   {
    "duration": 84,
    "start_time": "2022-04-08T15:38:04.952Z"
   },
   {
    "duration": 71,
    "start_time": "2022-04-08T15:38:52.014Z"
   },
   {
    "duration": 76,
    "start_time": "2022-04-08T15:38:58.646Z"
   },
   {
    "duration": 81,
    "start_time": "2022-04-08T15:39:10.609Z"
   },
   {
    "duration": 1719,
    "start_time": "2022-04-08T15:39:27.709Z"
   },
   {
    "duration": 286,
    "start_time": "2022-04-08T15:39:29.430Z"
   },
   {
    "duration": 6,
    "start_time": "2022-04-08T15:39:29.719Z"
   },
   {
    "duration": 204,
    "start_time": "2022-04-08T15:39:29.728Z"
   },
   {
    "duration": 198,
    "start_time": "2022-04-08T15:39:29.935Z"
   },
   {
    "duration": 574,
    "start_time": "2022-04-08T15:39:30.135Z"
   },
   {
    "duration": 29,
    "start_time": "2022-04-08T15:39:30.712Z"
   },
   {
    "duration": 38,
    "start_time": "2022-04-08T15:39:30.744Z"
   },
   {
    "duration": 22,
    "start_time": "2022-04-08T15:39:30.785Z"
   },
   {
    "duration": 56,
    "start_time": "2022-04-08T15:39:30.811Z"
   },
   {
    "duration": 756,
    "start_time": "2022-04-08T15:39:30.870Z"
   },
   {
    "duration": 560,
    "start_time": "2022-04-08T15:39:31.628Z"
   },
   {
    "duration": 234,
    "start_time": "2022-04-08T15:39:32.190Z"
   },
   {
    "duration": 88,
    "start_time": "2022-04-08T15:39:32.426Z"
   },
   {
    "duration": 237,
    "start_time": "2022-04-08T15:39:32.516Z"
   },
   {
    "duration": 71,
    "start_time": "2022-04-08T15:39:32.767Z"
   },
   {
    "duration": 278,
    "start_time": "2022-04-08T15:39:32.841Z"
   },
   {
    "duration": 276,
    "start_time": "2022-04-08T15:39:33.121Z"
   },
   {
    "duration": 398,
    "start_time": "2022-04-08T15:39:33.400Z"
   },
   {
    "duration": 116,
    "start_time": "2022-04-08T15:39:33.801Z"
   },
   {
    "duration": 86,
    "start_time": "2022-04-08T15:40:20.394Z"
   },
   {
    "duration": 82,
    "start_time": "2022-04-08T15:42:12.031Z"
   },
   {
    "duration": 83,
    "start_time": "2022-04-08T15:42:22.501Z"
   },
   {
    "duration": 86,
    "start_time": "2022-04-08T15:45:56.199Z"
   },
   {
    "duration": 89,
    "start_time": "2022-04-08T15:46:46.425Z"
   },
   {
    "duration": 93,
    "start_time": "2022-04-08T15:46:57.274Z"
   },
   {
    "duration": 86,
    "start_time": "2022-04-08T15:47:17.297Z"
   },
   {
    "duration": 80,
    "start_time": "2022-04-08T15:47:27.305Z"
   },
   {
    "duration": 81,
    "start_time": "2022-04-08T15:48:15.049Z"
   },
   {
    "duration": 83,
    "start_time": "2022-04-08T15:48:24.745Z"
   },
   {
    "duration": 78,
    "start_time": "2022-04-08T15:48:40.223Z"
   },
   {
    "duration": 13,
    "start_time": "2022-04-08T15:55:51.297Z"
   },
   {
    "duration": 160,
    "start_time": "2022-04-08T15:56:49.627Z"
   },
   {
    "duration": 15,
    "start_time": "2022-04-08T15:57:05.913Z"
   },
   {
    "duration": 7,
    "start_time": "2022-04-08T16:07:26.898Z"
   },
   {
    "duration": 7,
    "start_time": "2022-04-08T16:08:13.526Z"
   },
   {
    "duration": 81,
    "start_time": "2022-04-08T16:09:28.087Z"
   },
   {
    "duration": 80,
    "start_time": "2022-04-08T16:09:32.703Z"
   },
   {
    "duration": 82,
    "start_time": "2022-04-08T16:09:37.157Z"
   },
   {
    "duration": 31,
    "start_time": "2022-04-08T16:17:58.743Z"
   },
   {
    "duration": 23,
    "start_time": "2022-04-08T16:40:48.892Z"
   },
   {
    "duration": 34,
    "start_time": "2022-04-08T16:40:58.180Z"
   },
   {
    "duration": 35,
    "start_time": "2022-04-08T16:41:01.862Z"
   },
   {
    "duration": 2057,
    "start_time": "2022-04-08T16:41:19.671Z"
   },
   {
    "duration": 320,
    "start_time": "2022-04-08T16:41:21.731Z"
   },
   {
    "duration": 5,
    "start_time": "2022-04-08T16:41:22.053Z"
   },
   {
    "duration": 217,
    "start_time": "2022-04-08T16:41:22.061Z"
   },
   {
    "duration": 191,
    "start_time": "2022-04-08T16:41:22.281Z"
   },
   {
    "duration": 595,
    "start_time": "2022-04-08T16:41:22.474Z"
   },
   {
    "duration": 39,
    "start_time": "2022-04-08T16:41:23.072Z"
   },
   {
    "duration": 17,
    "start_time": "2022-04-08T16:41:23.113Z"
   },
   {
    "duration": 46,
    "start_time": "2022-04-08T16:41:23.132Z"
   },
   {
    "duration": 39,
    "start_time": "2022-04-08T16:41:23.182Z"
   },
   {
    "duration": 725,
    "start_time": "2022-04-08T16:41:23.223Z"
   },
   {
    "duration": 559,
    "start_time": "2022-04-08T16:41:23.951Z"
   },
   {
    "duration": 236,
    "start_time": "2022-04-08T16:41:24.512Z"
   },
   {
    "duration": 85,
    "start_time": "2022-04-08T16:41:24.750Z"
   },
   {
    "duration": 236,
    "start_time": "2022-04-08T16:41:24.837Z"
   },
   {
    "duration": 113,
    "start_time": "2022-04-08T16:41:25.077Z"
   },
   {
    "duration": 256,
    "start_time": "2022-04-08T16:41:25.192Z"
   },
   {
    "duration": 249,
    "start_time": "2022-04-08T16:41:25.450Z"
   },
   {
    "duration": 379,
    "start_time": "2022-04-08T16:41:25.701Z"
   },
   {
    "duration": 116,
    "start_time": "2022-04-08T16:41:26.082Z"
   },
   {
    "duration": 15,
    "start_time": "2022-04-08T16:41:26.200Z"
   },
   {
    "duration": 7,
    "start_time": "2022-04-08T16:41:26.217Z"
   },
   {
    "duration": 67,
    "start_time": "2022-04-08T16:41:26.227Z"
   },
   {
    "duration": 179,
    "start_time": "2022-04-08T16:41:26.296Z"
   },
   {
    "duration": 1648,
    "start_time": "2022-04-08T16:42:20.306Z"
   },
   {
    "duration": 1814,
    "start_time": "2022-04-08T16:42:33.442Z"
   },
   {
    "duration": 284,
    "start_time": "2022-04-08T16:42:35.258Z"
   },
   {
    "duration": 6,
    "start_time": "2022-04-08T16:42:35.544Z"
   },
   {
    "duration": 205,
    "start_time": "2022-04-08T16:42:35.553Z"
   },
   {
    "duration": 185,
    "start_time": "2022-04-08T16:42:35.760Z"
   },
   {
    "duration": 497,
    "start_time": "2022-04-08T16:42:35.947Z"
   },
   {
    "duration": 39,
    "start_time": "2022-04-08T16:42:36.446Z"
   },
   {
    "duration": 17,
    "start_time": "2022-04-08T16:42:36.487Z"
   },
   {
    "duration": 6,
    "start_time": "2022-04-08T16:42:36.506Z"
   },
   {
    "duration": 72,
    "start_time": "2022-04-08T16:42:36.516Z"
   },
   {
    "duration": 688,
    "start_time": "2022-04-08T16:42:36.590Z"
   },
   {
    "duration": 544,
    "start_time": "2022-04-08T16:42:37.280Z"
   },
   {
    "duration": 234,
    "start_time": "2022-04-08T16:42:37.826Z"
   },
   {
    "duration": 75,
    "start_time": "2022-04-08T16:42:38.067Z"
   },
   {
    "duration": 228,
    "start_time": "2022-04-08T16:42:38.168Z"
   },
   {
    "duration": 83,
    "start_time": "2022-04-08T16:42:38.399Z"
   },
   {
    "duration": 256,
    "start_time": "2022-04-08T16:42:38.484Z"
   },
   {
    "duration": 251,
    "start_time": "2022-04-08T16:42:38.742Z"
   },
   {
    "duration": 346,
    "start_time": "2022-04-08T16:42:38.995Z"
   },
   {
    "duration": 106,
    "start_time": "2022-04-08T16:42:39.343Z"
   },
   {
    "duration": 25,
    "start_time": "2022-04-08T16:42:39.451Z"
   },
   {
    "duration": 11,
    "start_time": "2022-04-08T16:42:39.479Z"
   },
   {
    "duration": 33,
    "start_time": "2022-04-08T16:42:39.492Z"
   },
   {
    "duration": 54,
    "start_time": "2022-04-08T16:42:39.527Z"
   },
   {
    "duration": 1661,
    "start_time": "2022-04-08T16:42:53.638Z"
   },
   {
    "duration": 1783,
    "start_time": "2022-04-08T16:43:03.819Z"
   },
   {
    "duration": 275,
    "start_time": "2022-04-08T16:43:05.604Z"
   },
   {
    "duration": 5,
    "start_time": "2022-04-08T16:43:05.882Z"
   },
   {
    "duration": 226,
    "start_time": "2022-04-08T16:43:05.889Z"
   },
   {
    "duration": 187,
    "start_time": "2022-04-08T16:43:06.117Z"
   },
   {
    "duration": 514,
    "start_time": "2022-04-08T16:43:06.307Z"
   },
   {
    "duration": 25,
    "start_time": "2022-04-08T16:43:06.823Z"
   },
   {
    "duration": 15,
    "start_time": "2022-04-08T16:43:06.867Z"
   },
   {
    "duration": 8,
    "start_time": "2022-04-08T16:43:06.884Z"
   },
   {
    "duration": 34,
    "start_time": "2022-04-08T16:43:06.896Z"
   },
   {
    "duration": 736,
    "start_time": "2022-04-08T16:43:06.932Z"
   },
   {
    "duration": 533,
    "start_time": "2022-04-08T16:43:07.671Z"
   },
   {
    "duration": 227,
    "start_time": "2022-04-08T16:43:08.206Z"
   },
   {
    "duration": 87,
    "start_time": "2022-04-08T16:43:08.435Z"
   },
   {
    "duration": 229,
    "start_time": "2022-04-08T16:43:08.525Z"
   },
   {
    "duration": 76,
    "start_time": "2022-04-08T16:43:08.756Z"
   },
   {
    "duration": 252,
    "start_time": "2022-04-08T16:43:08.835Z"
   },
   {
    "duration": 250,
    "start_time": "2022-04-08T16:43:09.090Z"
   },
   {
    "duration": 335,
    "start_time": "2022-04-08T16:43:09.343Z"
   },
   {
    "duration": 108,
    "start_time": "2022-04-08T16:43:09.681Z"
   },
   {
    "duration": 16,
    "start_time": "2022-04-08T16:43:09.793Z"
   },
   {
    "duration": 7,
    "start_time": "2022-04-08T16:43:09.812Z"
   },
   {
    "duration": 210,
    "start_time": "2022-04-08T16:43:09.822Z"
   },
   {
    "duration": 0,
    "start_time": "2022-04-08T16:43:10.035Z"
   },
   {
    "duration": 1489,
    "start_time": "2022-04-08T16:43:19.361Z"
   },
   {
    "duration": 1784,
    "start_time": "2022-04-08T16:43:30.168Z"
   },
   {
    "duration": 287,
    "start_time": "2022-04-08T16:43:31.956Z"
   },
   {
    "duration": 6,
    "start_time": "2022-04-08T16:43:32.245Z"
   },
   {
    "duration": 200,
    "start_time": "2022-04-08T16:43:32.254Z"
   },
   {
    "duration": 187,
    "start_time": "2022-04-08T16:43:32.456Z"
   },
   {
    "duration": 517,
    "start_time": "2022-04-08T16:43:32.645Z"
   },
   {
    "duration": 27,
    "start_time": "2022-04-08T16:43:33.167Z"
   },
   {
    "duration": 17,
    "start_time": "2022-04-08T16:43:33.196Z"
   },
   {
    "duration": 7,
    "start_time": "2022-04-08T16:43:33.215Z"
   },
   {
    "duration": 72,
    "start_time": "2022-04-08T16:43:33.226Z"
   },
   {
    "duration": 723,
    "start_time": "2022-04-08T16:43:33.300Z"
   },
   {
    "duration": 569,
    "start_time": "2022-04-08T16:43:34.026Z"
   },
   {
    "duration": 231,
    "start_time": "2022-04-08T16:43:34.598Z"
   },
   {
    "duration": 88,
    "start_time": "2022-04-08T16:43:34.831Z"
   },
   {
    "duration": 233,
    "start_time": "2022-04-08T16:43:34.921Z"
   },
   {
    "duration": 77,
    "start_time": "2022-04-08T16:43:35.156Z"
   },
   {
    "duration": 249,
    "start_time": "2022-04-08T16:43:35.236Z"
   },
   {
    "duration": 250,
    "start_time": "2022-04-08T16:43:35.488Z"
   },
   {
    "duration": 348,
    "start_time": "2022-04-08T16:43:35.741Z"
   },
   {
    "duration": 111,
    "start_time": "2022-04-08T16:43:36.092Z"
   },
   {
    "duration": 18,
    "start_time": "2022-04-08T16:43:36.206Z"
   },
   {
    "duration": 7,
    "start_time": "2022-04-08T16:43:36.226Z"
   },
   {
    "duration": 62,
    "start_time": "2022-04-08T16:43:36.236Z"
   },
   {
    "duration": 53,
    "start_time": "2022-04-08T16:43:36.301Z"
   },
   {
    "duration": 166,
    "start_time": "2022-04-08T16:44:33.892Z"
   },
   {
    "duration": 15,
    "start_time": "2022-04-08T16:44:59.336Z"
   },
   {
    "duration": 15,
    "start_time": "2022-04-08T16:45:44.422Z"
   },
   {
    "duration": 6,
    "start_time": "2022-04-08T16:46:53.023Z"
   },
   {
    "duration": 27,
    "start_time": "2022-04-08T17:40:18.449Z"
   },
   {
    "duration": 12,
    "start_time": "2022-04-08T17:42:02.090Z"
   },
   {
    "duration": 88,
    "start_time": "2022-04-08T17:42:09.769Z"
   },
   {
    "duration": 94,
    "start_time": "2022-04-08T17:53:26.843Z"
   },
   {
    "duration": 79,
    "start_time": "2022-04-08T17:53:42.672Z"
   },
   {
    "duration": 6364,
    "start_time": "2022-04-08T17:53:53.975Z"
   },
   {
    "duration": 6920,
    "start_time": "2022-04-08T17:54:19.198Z"
   },
   {
    "duration": 6309,
    "start_time": "2022-04-08T17:54:45.887Z"
   },
   {
    "duration": 44010,
    "start_time": "2022-04-08T17:56:16.835Z"
   },
   {
    "duration": 40535,
    "start_time": "2022-04-08T17:59:17.306Z"
   },
   {
    "duration": 40083,
    "start_time": "2022-04-08T18:01:51.506Z"
   },
   {
    "duration": 40005,
    "start_time": "2022-04-08T18:04:23.112Z"
   },
   {
    "duration": 40560,
    "start_time": "2022-04-08T18:05:27.655Z"
   },
   {
    "duration": 89,
    "start_time": "2022-04-08T18:41:08.041Z"
   },
   {
    "duration": 41687,
    "start_time": "2022-04-08T18:41:16.671Z"
   },
   {
    "duration": 41899,
    "start_time": "2022-04-08T18:43:09.096Z"
   },
   {
    "duration": 41790,
    "start_time": "2022-04-08T18:44:24.543Z"
   },
   {
    "duration": 41669,
    "start_time": "2022-04-08T18:45:22.878Z"
   },
   {
    "duration": 65327,
    "start_time": "2022-04-08T18:46:47.542Z"
   },
   {
    "duration": 47693,
    "start_time": "2022-04-08T18:48:57.779Z"
   },
   {
    "duration": 42541,
    "start_time": "2022-04-08T18:51:05.211Z"
   },
   {
    "duration": 42735,
    "start_time": "2022-04-08T18:57:14.662Z"
   },
   {
    "duration": 40987,
    "start_time": "2022-04-08T18:58:40.924Z"
   },
   {
    "duration": 1956,
    "start_time": "2022-04-08T19:00:11.752Z"
   },
   {
    "duration": 294,
    "start_time": "2022-04-08T19:00:13.711Z"
   },
   {
    "duration": 6,
    "start_time": "2022-04-08T19:00:14.008Z"
   },
   {
    "duration": 209,
    "start_time": "2022-04-08T19:00:14.017Z"
   },
   {
    "duration": 193,
    "start_time": "2022-04-08T19:00:14.229Z"
   },
   {
    "duration": 528,
    "start_time": "2022-04-08T19:00:14.425Z"
   },
   {
    "duration": 30,
    "start_time": "2022-04-08T19:00:14.956Z"
   },
   {
    "duration": 16,
    "start_time": "2022-04-08T19:00:14.989Z"
   },
   {
    "duration": 17,
    "start_time": "2022-04-08T19:00:15.007Z"
   },
   {
    "duration": 68,
    "start_time": "2022-04-08T19:00:15.028Z"
   },
   {
    "duration": 805,
    "start_time": "2022-04-08T19:00:15.099Z"
   },
   {
    "duration": 546,
    "start_time": "2022-04-08T19:00:15.906Z"
   },
   {
    "duration": 239,
    "start_time": "2022-04-08T19:00:16.455Z"
   },
   {
    "duration": 85,
    "start_time": "2022-04-08T19:00:16.696Z"
   },
   {
    "duration": 234,
    "start_time": "2022-04-08T19:00:16.784Z"
   },
   {
    "duration": 86,
    "start_time": "2022-04-08T19:00:17.020Z"
   },
   {
    "duration": 261,
    "start_time": "2022-04-08T19:00:17.109Z"
   },
   {
    "duration": 255,
    "start_time": "2022-04-08T19:00:17.372Z"
   },
   {
    "duration": 358,
    "start_time": "2022-04-08T19:00:17.630Z"
   },
   {
    "duration": 114,
    "start_time": "2022-04-08T19:00:17.990Z"
   },
   {
    "duration": 15,
    "start_time": "2022-04-08T19:00:18.106Z"
   },
   {
    "duration": 6,
    "start_time": "2022-04-08T19:00:18.124Z"
   },
   {
    "duration": 60,
    "start_time": "2022-04-08T19:00:18.132Z"
   },
   {
    "duration": 16,
    "start_time": "2022-04-08T19:00:18.194Z"
   },
   {
    "duration": 6,
    "start_time": "2022-04-08T19:00:18.212Z"
   },
   {
    "duration": 41623,
    "start_time": "2022-04-08T19:00:18.220Z"
   },
   {
    "duration": 46314,
    "start_time": "2022-04-08T19:01:19.588Z"
   },
   {
    "duration": 7,
    "start_time": "2022-04-08T19:08:43.488Z"
   },
   {
    "duration": 41763,
    "start_time": "2022-04-08T19:08:53.022Z"
   },
   {
    "duration": 46423,
    "start_time": "2022-04-08T19:12:34.053Z"
   },
   {
    "duration": 45326,
    "start_time": "2022-04-08T19:14:03.066Z"
   },
   {
    "duration": 0,
    "start_time": "2022-04-08T19:18:11.825Z"
   },
   {
    "duration": 41529,
    "start_time": "2022-04-08T19:18:45.382Z"
   },
   {
    "duration": 41526,
    "start_time": "2022-04-08T19:20:45.852Z"
   },
   {
    "duration": 39199,
    "start_time": "2022-04-08T19:23:03.404Z"
   },
   {
    "duration": 39367,
    "start_time": "2022-04-08T19:27:41.144Z"
   },
   {
    "duration": 42258,
    "start_time": "2022-04-08T19:31:58.518Z"
   },
   {
    "duration": 42794,
    "start_time": "2022-04-08T19:35:02.682Z"
   },
   {
    "duration": 45197,
    "start_time": "2022-04-08T19:38:55.181Z"
   },
   {
    "duration": 42993,
    "start_time": "2022-04-08T19:56:25.063Z"
   },
   {
    "duration": 43673,
    "start_time": "2022-04-08T19:57:34.559Z"
   },
   {
    "duration": 42737,
    "start_time": "2022-04-08T19:59:52.637Z"
   },
   {
    "duration": 1909,
    "start_time": "2022-04-08T20:30:23.924Z"
   },
   {
    "duration": 280,
    "start_time": "2022-04-08T20:30:25.836Z"
   },
   {
    "duration": 7,
    "start_time": "2022-04-08T20:30:26.119Z"
   },
   {
    "duration": 213,
    "start_time": "2022-04-08T20:30:26.130Z"
   },
   {
    "duration": 194,
    "start_time": "2022-04-08T20:30:26.345Z"
   },
   {
    "duration": 495,
    "start_time": "2022-04-08T20:30:26.542Z"
   },
   {
    "duration": 34,
    "start_time": "2022-04-08T20:30:27.040Z"
   },
   {
    "duration": 14,
    "start_time": "2022-04-08T20:30:27.077Z"
   },
   {
    "duration": 6,
    "start_time": "2022-04-08T20:30:27.094Z"
   },
   {
    "duration": 78,
    "start_time": "2022-04-08T20:30:27.104Z"
   },
   {
    "duration": 670,
    "start_time": "2022-04-08T20:30:27.184Z"
   },
   {
    "duration": 533,
    "start_time": "2022-04-08T20:30:27.856Z"
   },
   {
    "duration": 232,
    "start_time": "2022-04-08T20:30:28.393Z"
   },
   {
    "duration": 91,
    "start_time": "2022-04-08T20:30:28.628Z"
   },
   {
    "duration": 231,
    "start_time": "2022-04-08T20:30:28.723Z"
   },
   {
    "duration": 75,
    "start_time": "2022-04-08T20:30:28.956Z"
   },
   {
    "duration": 246,
    "start_time": "2022-04-08T20:30:29.034Z"
   },
   {
    "duration": 252,
    "start_time": "2022-04-08T20:30:29.283Z"
   },
   {
    "duration": 445,
    "start_time": "2022-04-08T20:30:29.537Z"
   },
   {
    "duration": 112,
    "start_time": "2022-04-08T20:30:29.984Z"
   },
   {
    "duration": 15,
    "start_time": "2022-04-08T20:30:30.098Z"
   },
   {
    "duration": 6,
    "start_time": "2022-04-08T20:30:30.115Z"
   },
   {
    "duration": 63,
    "start_time": "2022-04-08T20:30:30.123Z"
   },
   {
    "duration": 18,
    "start_time": "2022-04-08T20:30:30.188Z"
   },
   {
    "duration": 6,
    "start_time": "2022-04-08T20:30:30.208Z"
   },
   {
    "duration": 45607,
    "start_time": "2022-04-08T20:30:30.216Z"
   },
   {
    "duration": 2181,
    "start_time": "2022-04-09T10:34:44.896Z"
   },
   {
    "duration": 286,
    "start_time": "2022-04-09T10:34:47.080Z"
   },
   {
    "duration": 5,
    "start_time": "2022-04-09T10:34:47.369Z"
   },
   {
    "duration": 210,
    "start_time": "2022-04-09T10:34:47.377Z"
   },
   {
    "duration": 186,
    "start_time": "2022-04-09T10:34:47.590Z"
   },
   {
    "duration": 512,
    "start_time": "2022-04-09T10:34:47.779Z"
   },
   {
    "duration": 28,
    "start_time": "2022-04-09T10:34:48.294Z"
   },
   {
    "duration": 16,
    "start_time": "2022-04-09T10:34:48.324Z"
   },
   {
    "duration": 7,
    "start_time": "2022-04-09T10:34:48.368Z"
   },
   {
    "duration": 36,
    "start_time": "2022-04-09T10:34:48.380Z"
   },
   {
    "duration": 754,
    "start_time": "2022-04-09T10:34:48.419Z"
   },
   {
    "duration": 563,
    "start_time": "2022-04-09T10:34:49.175Z"
   },
   {
    "duration": 231,
    "start_time": "2022-04-09T10:34:49.741Z"
   },
   {
    "duration": 92,
    "start_time": "2022-04-09T10:34:49.975Z"
   },
   {
    "duration": 231,
    "start_time": "2022-04-09T10:34:50.070Z"
   },
   {
    "duration": 90,
    "start_time": "2022-04-09T10:34:50.304Z"
   },
   {
    "duration": 260,
    "start_time": "2022-04-09T10:34:50.397Z"
   },
   {
    "duration": 323,
    "start_time": "2022-04-09T10:34:50.660Z"
   },
   {
    "duration": 284,
    "start_time": "2022-04-09T10:34:50.985Z"
   },
   {
    "duration": 119,
    "start_time": "2022-04-09T10:34:51.272Z"
   },
   {
    "duration": 17,
    "start_time": "2022-04-09T10:34:51.394Z"
   },
   {
    "duration": 8,
    "start_time": "2022-04-09T10:34:51.413Z"
   },
   {
    "duration": 74,
    "start_time": "2022-04-09T10:34:51.424Z"
   },
   {
    "duration": 19,
    "start_time": "2022-04-09T10:34:51.500Z"
   },
   {
    "duration": 19,
    "start_time": "2022-04-09T10:34:51.521Z"
   },
   {
    "duration": 41780,
    "start_time": "2022-04-09T10:34:51.543Z"
   },
   {
    "duration": 43699,
    "start_time": "2022-04-09T11:02:44.468Z"
   },
   {
    "duration": 44353,
    "start_time": "2022-04-09T11:04:13.152Z"
   },
   {
    "duration": 45863,
    "start_time": "2022-04-09T11:05:26.167Z"
   },
   {
    "duration": 44466,
    "start_time": "2022-04-09T11:08:06.677Z"
   },
   {
    "duration": 47987,
    "start_time": "2022-04-09T11:11:04.689Z"
   },
   {
    "duration": 45203,
    "start_time": "2022-04-09T11:12:07.522Z"
   },
   {
    "duration": 45433,
    "start_time": "2022-04-09T11:13:02.770Z"
   },
   {
    "duration": 45615,
    "start_time": "2022-04-09T11:14:17.104Z"
   },
   {
    "duration": 43694,
    "start_time": "2022-04-09T11:19:27.765Z"
   },
   {
    "duration": 14,
    "start_time": "2022-04-09T11:21:33.146Z"
   },
   {
    "duration": 14,
    "start_time": "2022-04-09T11:44:48.187Z"
   },
   {
    "duration": 5,
    "start_time": "2022-04-09T11:45:53.837Z"
   },
   {
    "duration": 13,
    "start_time": "2022-04-09T11:46:00.588Z"
   },
   {
    "duration": 17,
    "start_time": "2022-04-09T11:46:09.885Z"
   },
   {
    "duration": 2194,
    "start_time": "2022-04-09T11:46:19.546Z"
   },
   {
    "duration": 287,
    "start_time": "2022-04-09T11:46:21.742Z"
   },
   {
    "duration": 5,
    "start_time": "2022-04-09T11:46:22.032Z"
   },
   {
    "duration": 215,
    "start_time": "2022-04-09T11:46:22.041Z"
   },
   {
    "duration": 186,
    "start_time": "2022-04-09T11:46:22.259Z"
   },
   {
    "duration": 525,
    "start_time": "2022-04-09T11:46:22.448Z"
   },
   {
    "duration": 27,
    "start_time": "2022-04-09T11:46:22.975Z"
   },
   {
    "duration": 16,
    "start_time": "2022-04-09T11:46:23.004Z"
   },
   {
    "duration": 47,
    "start_time": "2022-04-09T11:46:23.022Z"
   },
   {
    "duration": 38,
    "start_time": "2022-04-09T11:46:23.074Z"
   },
   {
    "duration": 1015,
    "start_time": "2022-04-09T11:46:23.115Z"
   },
   {
    "duration": 556,
    "start_time": "2022-04-09T11:46:24.133Z"
   },
   {
    "duration": 239,
    "start_time": "2022-04-09T11:46:24.691Z"
   },
   {
    "duration": 86,
    "start_time": "2022-04-09T11:46:24.932Z"
   },
   {
    "duration": 242,
    "start_time": "2022-04-09T11:46:25.020Z"
   },
   {
    "duration": 72,
    "start_time": "2022-04-09T11:46:25.268Z"
   },
   {
    "duration": 279,
    "start_time": "2022-04-09T11:46:25.343Z"
   },
   {
    "duration": 295,
    "start_time": "2022-04-09T11:46:25.624Z"
   },
   {
    "duration": 506,
    "start_time": "2022-04-09T11:46:25.922Z"
   },
   {
    "duration": 111,
    "start_time": "2022-04-09T11:46:26.430Z"
   },
   {
    "duration": 32,
    "start_time": "2022-04-09T11:46:26.543Z"
   },
   {
    "duration": 7,
    "start_time": "2022-04-09T11:46:26.577Z"
   },
   {
    "duration": 83,
    "start_time": "2022-04-09T11:46:26.586Z"
   },
   {
    "duration": 20,
    "start_time": "2022-04-09T11:46:26.672Z"
   },
   {
    "duration": 7,
    "start_time": "2022-04-09T11:46:26.694Z"
   },
   {
    "duration": 74179,
    "start_time": "2022-04-09T11:46:26.704Z"
   },
   {
    "duration": 165,
    "start_time": "2022-04-09T11:47:40.885Z"
   },
   {
    "duration": 0,
    "start_time": "2022-04-09T11:47:41.052Z"
   },
   {
    "duration": 32,
    "start_time": "2022-04-09T11:47:53.995Z"
   },
   {
    "duration": 30,
    "start_time": "2022-04-09T11:48:21.707Z"
   },
   {
    "duration": 49,
    "start_time": "2022-04-09T11:48:27.440Z"
   },
   {
    "duration": 15,
    "start_time": "2022-04-09T11:49:10.664Z"
   },
   {
    "duration": 2750,
    "start_time": "2022-04-09T11:52:46.217Z"
   },
   {
    "duration": 405,
    "start_time": "2022-04-09T11:52:48.971Z"
   },
   {
    "duration": 7,
    "start_time": "2022-04-09T11:52:49.379Z"
   },
   {
    "duration": 231,
    "start_time": "2022-04-09T11:52:49.390Z"
   },
   {
    "duration": 192,
    "start_time": "2022-04-09T11:52:49.623Z"
   },
   {
    "duration": 497,
    "start_time": "2022-04-09T11:52:49.817Z"
   },
   {
    "duration": 27,
    "start_time": "2022-04-09T11:52:50.316Z"
   },
   {
    "duration": 33,
    "start_time": "2022-04-09T11:52:50.346Z"
   },
   {
    "duration": 5,
    "start_time": "2022-04-09T11:52:50.381Z"
   },
   {
    "duration": 39,
    "start_time": "2022-04-09T11:52:50.390Z"
   },
   {
    "duration": 726,
    "start_time": "2022-04-09T11:52:50.430Z"
   },
   {
    "duration": 539,
    "start_time": "2022-04-09T11:52:51.159Z"
   },
   {
    "duration": 229,
    "start_time": "2022-04-09T11:52:51.700Z"
   },
   {
    "duration": 83,
    "start_time": "2022-04-09T11:52:51.931Z"
   },
   {
    "duration": 228,
    "start_time": "2022-04-09T11:52:52.016Z"
   },
   {
    "duration": 79,
    "start_time": "2022-04-09T11:52:52.246Z"
   },
   {
    "duration": 263,
    "start_time": "2022-04-09T11:52:52.329Z"
   },
   {
    "duration": 332,
    "start_time": "2022-04-09T11:52:52.595Z"
   },
   {
    "duration": 284,
    "start_time": "2022-04-09T11:52:52.929Z"
   },
   {
    "duration": 115,
    "start_time": "2022-04-09T11:52:53.215Z"
   },
   {
    "duration": 17,
    "start_time": "2022-04-09T11:52:53.332Z"
   },
   {
    "duration": 21,
    "start_time": "2022-04-09T11:52:53.352Z"
   },
   {
    "duration": 45,
    "start_time": "2022-04-09T11:52:53.376Z"
   },
   {
    "duration": 54,
    "start_time": "2022-04-09T11:52:53.425Z"
   },
   {
    "duration": 8,
    "start_time": "2022-04-09T11:52:53.482Z"
   },
   {
    "duration": 44546,
    "start_time": "2022-04-09T11:52:53.492Z"
   },
   {
    "duration": 1140,
    "start_time": "2022-04-09T11:53:38.041Z"
   },
   {
    "duration": 98,
    "start_time": "2022-04-09T11:53:39.192Z"
   },
   {
    "duration": 582,
    "start_time": "2022-04-09T11:55:03.387Z"
   },
   {
    "duration": 608,
    "start_time": "2022-04-09T11:55:26.561Z"
   },
   {
    "duration": 440,
    "start_time": "2022-04-09T11:57:12.544Z"
   },
   {
    "duration": 15,
    "start_time": "2022-04-09T11:57:16.216Z"
   },
   {
    "duration": 2701,
    "start_time": "2022-04-09T11:57:23.832Z"
   },
   {
    "duration": 318,
    "start_time": "2022-04-09T11:57:26.535Z"
   },
   {
    "duration": 5,
    "start_time": "2022-04-09T11:57:26.856Z"
   },
   {
    "duration": 309,
    "start_time": "2022-04-09T11:57:26.864Z"
   },
   {
    "duration": 193,
    "start_time": "2022-04-09T11:57:27.175Z"
   },
   {
    "duration": 571,
    "start_time": "2022-04-09T11:57:27.370Z"
   },
   {
    "duration": 48,
    "start_time": "2022-04-09T11:57:27.944Z"
   },
   {
    "duration": 24,
    "start_time": "2022-04-09T11:57:27.995Z"
   },
   {
    "duration": 48,
    "start_time": "2022-04-09T11:57:28.021Z"
   },
   {
    "duration": 37,
    "start_time": "2022-04-09T11:57:28.074Z"
   },
   {
    "duration": 743,
    "start_time": "2022-04-09T11:57:28.113Z"
   },
   {
    "duration": 561,
    "start_time": "2022-04-09T11:57:28.858Z"
   },
   {
    "duration": 245,
    "start_time": "2022-04-09T11:57:29.423Z"
   },
   {
    "duration": 133,
    "start_time": "2022-04-09T11:57:29.672Z"
   },
   {
    "duration": 383,
    "start_time": "2022-04-09T11:57:29.809Z"
   },
   {
    "duration": 118,
    "start_time": "2022-04-09T11:57:30.195Z"
   },
   {
    "duration": 265,
    "start_time": "2022-04-09T11:57:30.316Z"
   },
   {
    "duration": 343,
    "start_time": "2022-04-09T11:57:30.583Z"
   },
   {
    "duration": 297,
    "start_time": "2022-04-09T11:57:30.929Z"
   },
   {
    "duration": 121,
    "start_time": "2022-04-09T11:57:31.229Z"
   },
   {
    "duration": 29,
    "start_time": "2022-04-09T11:57:31.352Z"
   },
   {
    "duration": 13,
    "start_time": "2022-04-09T11:57:31.383Z"
   },
   {
    "duration": 36,
    "start_time": "2022-04-09T11:57:31.398Z"
   },
   {
    "duration": 17,
    "start_time": "2022-04-09T11:57:31.469Z"
   },
   {
    "duration": 7,
    "start_time": "2022-04-09T11:57:31.488Z"
   },
   {
    "duration": 46285,
    "start_time": "2022-04-09T11:57:31.498Z"
   },
   {
    "duration": 895,
    "start_time": "2022-04-09T11:58:17.785Z"
   },
   {
    "duration": 91,
    "start_time": "2022-04-09T11:58:18.685Z"
   },
   {
    "duration": 782,
    "start_time": "2022-04-09T12:00:07.695Z"
   },
   {
    "duration": 17,
    "start_time": "2022-04-09T12:00:10.310Z"
   },
   {
    "duration": 2079,
    "start_time": "2022-04-09T12:01:33.651Z"
   },
   {
    "duration": 312,
    "start_time": "2022-04-09T12:01:35.733Z"
   },
   {
    "duration": 6,
    "start_time": "2022-04-09T12:01:36.048Z"
   },
   {
    "duration": 258,
    "start_time": "2022-04-09T12:01:36.058Z"
   },
   {
    "duration": 191,
    "start_time": "2022-04-09T12:01:36.319Z"
   },
   {
    "duration": 826,
    "start_time": "2022-04-09T12:01:36.513Z"
   },
   {
    "duration": 45,
    "start_time": "2022-04-09T12:01:37.342Z"
   },
   {
    "duration": 18,
    "start_time": "2022-04-09T12:01:37.389Z"
   },
   {
    "duration": 9,
    "start_time": "2022-04-09T12:01:37.409Z"
   },
   {
    "duration": 85,
    "start_time": "2022-04-09T12:01:37.424Z"
   },
   {
    "duration": 1094,
    "start_time": "2022-04-09T12:01:37.512Z"
   },
   {
    "duration": 862,
    "start_time": "2022-04-09T12:01:38.608Z"
   },
   {
    "duration": 363,
    "start_time": "2022-04-09T12:01:39.473Z"
   },
   {
    "duration": 129,
    "start_time": "2022-04-09T12:01:39.839Z"
   },
   {
    "duration": 249,
    "start_time": "2022-04-09T12:01:39.971Z"
   },
   {
    "duration": 116,
    "start_time": "2022-04-09T12:01:40.223Z"
   },
   {
    "duration": 272,
    "start_time": "2022-04-09T12:01:40.343Z"
   },
   {
    "duration": 490,
    "start_time": "2022-04-09T12:01:40.618Z"
   },
   {
    "duration": 312,
    "start_time": "2022-04-09T12:01:41.111Z"
   },
   {
    "duration": 122,
    "start_time": "2022-04-09T12:01:41.425Z"
   },
   {
    "duration": 30,
    "start_time": "2022-04-09T12:01:41.550Z"
   },
   {
    "duration": 10,
    "start_time": "2022-04-09T12:01:41.583Z"
   },
   {
    "duration": 80,
    "start_time": "2022-04-09T12:01:41.596Z"
   },
   {
    "duration": 24,
    "start_time": "2022-04-09T12:01:41.679Z"
   },
   {
    "duration": 9,
    "start_time": "2022-04-09T12:01:41.706Z"
   },
   {
    "duration": 57236,
    "start_time": "2022-04-09T12:01:41.718Z"
   },
   {
    "duration": 617,
    "start_time": "2022-04-09T12:02:38.957Z"
   },
   {
    "duration": 101,
    "start_time": "2022-04-09T12:02:39.667Z"
   },
   {
    "duration": 76828,
    "start_time": "2022-04-09T12:04:28.806Z"
   },
   {
    "duration": 434,
    "start_time": "2022-04-09T12:05:45.638Z"
   },
   {
    "duration": 192,
    "start_time": "2022-04-09T12:05:46.078Z"
   },
   {
    "duration": 64485,
    "start_time": "2022-04-09T12:06:22.905Z"
   },
   {
    "duration": 584,
    "start_time": "2022-04-09T12:07:27.394Z"
   },
   {
    "duration": 106,
    "start_time": "2022-04-09T12:07:28.067Z"
   },
   {
    "duration": 4,
    "start_time": "2022-04-09T12:20:55.591Z"
   },
   {
    "duration": 352,
    "start_time": "2022-04-09T12:22:02.468Z"
   },
   {
    "duration": 46,
    "start_time": "2022-04-09T12:22:14.962Z"
   },
   {
    "duration": 56,
    "start_time": "2022-04-09T14:17:19.165Z"
   },
   {
    "duration": 37,
    "start_time": "2022-04-09T14:17:52.218Z"
   },
   {
    "duration": 37,
    "start_time": "2022-04-09T14:18:02.221Z"
   },
   {
    "duration": 41,
    "start_time": "2022-04-09T14:20:07.002Z"
   },
   {
    "duration": 49,
    "start_time": "2022-04-09T14:20:22.441Z"
   },
   {
    "duration": 13,
    "start_time": "2022-04-09T15:17:36.197Z"
   },
   {
    "duration": 11,
    "start_time": "2022-04-09T15:17:40.405Z"
   },
   {
    "duration": 16,
    "start_time": "2022-04-09T15:17:46.906Z"
   },
   {
    "duration": 12,
    "start_time": "2022-04-09T15:20:57.384Z"
   },
   {
    "duration": 3035,
    "start_time": "2022-04-09T15:21:04.024Z"
   },
   {
    "duration": 66,
    "start_time": "2022-04-09T15:59:31.299Z"
   },
   {
    "duration": 120,
    "start_time": "2022-04-09T16:00:58.293Z"
   },
   {
    "duration": 1966,
    "start_time": "2022-04-09T16:01:13.219Z"
   },
   {
    "duration": 422,
    "start_time": "2022-04-09T16:01:15.189Z"
   },
   {
    "duration": 7,
    "start_time": "2022-04-09T16:01:15.613Z"
   },
   {
    "duration": 269,
    "start_time": "2022-04-09T16:01:15.624Z"
   },
   {
    "duration": 180,
    "start_time": "2022-04-09T16:01:15.895Z"
   },
   {
    "duration": 491,
    "start_time": "2022-04-09T16:01:16.077Z"
   },
   {
    "duration": 27,
    "start_time": "2022-04-09T16:01:16.570Z"
   },
   {
    "duration": 16,
    "start_time": "2022-04-09T16:01:16.599Z"
   },
   {
    "duration": 7,
    "start_time": "2022-04-09T16:01:16.617Z"
   },
   {
    "duration": 71,
    "start_time": "2022-04-09T16:01:16.628Z"
   },
   {
    "duration": 701,
    "start_time": "2022-04-09T16:01:16.701Z"
   },
   {
    "duration": 552,
    "start_time": "2022-04-09T16:01:17.405Z"
   },
   {
    "duration": 230,
    "start_time": "2022-04-09T16:01:17.959Z"
   },
   {
    "duration": 88,
    "start_time": "2022-04-09T16:01:18.191Z"
   },
   {
    "duration": 228,
    "start_time": "2022-04-09T16:01:18.282Z"
   },
   {
    "duration": 84,
    "start_time": "2022-04-09T16:01:18.512Z"
   },
   {
    "duration": 247,
    "start_time": "2022-04-09T16:01:18.598Z"
   },
   {
    "duration": 335,
    "start_time": "2022-04-09T16:01:18.847Z"
   },
   {
    "duration": 283,
    "start_time": "2022-04-09T16:01:19.185Z"
   },
   {
    "duration": 112,
    "start_time": "2022-04-09T16:01:19.471Z"
   },
   {
    "duration": 17,
    "start_time": "2022-04-09T16:01:19.585Z"
   },
   {
    "duration": 9,
    "start_time": "2022-04-09T16:01:19.604Z"
   },
   {
    "duration": 58,
    "start_time": "2022-04-09T16:01:19.615Z"
   },
   {
    "duration": 15,
    "start_time": "2022-04-09T16:01:19.676Z"
   },
   {
    "duration": 7,
    "start_time": "2022-04-09T16:01:19.693Z"
   },
   {
    "duration": 168,
    "start_time": "2022-04-09T16:01:19.702Z"
   },
   {
    "duration": 31,
    "start_time": "2022-04-09T16:01:19.872Z"
   },
   {
    "duration": 2589,
    "start_time": "2022-04-09T16:16:45.403Z"
   },
   {
    "duration": 1915,
    "start_time": "2022-04-09T16:17:07.929Z"
   },
   {
    "duration": 303,
    "start_time": "2022-04-09T16:17:09.846Z"
   },
   {
    "duration": 5,
    "start_time": "2022-04-09T16:17:10.151Z"
   },
   {
    "duration": 214,
    "start_time": "2022-04-09T16:17:10.159Z"
   },
   {
    "duration": 217,
    "start_time": "2022-04-09T16:17:10.376Z"
   },
   {
    "duration": 533,
    "start_time": "2022-04-09T16:17:10.595Z"
   },
   {
    "duration": 46,
    "start_time": "2022-04-09T16:17:11.130Z"
   },
   {
    "duration": 16,
    "start_time": "2022-04-09T16:17:11.180Z"
   },
   {
    "duration": 5,
    "start_time": "2022-04-09T16:17:11.199Z"
   },
   {
    "duration": 80,
    "start_time": "2022-04-09T16:17:11.208Z"
   },
   {
    "duration": 752,
    "start_time": "2022-04-09T16:17:11.290Z"
   },
   {
    "duration": 603,
    "start_time": "2022-04-09T16:17:12.045Z"
   },
   {
    "duration": 250,
    "start_time": "2022-04-09T16:17:12.650Z"
   },
   {
    "duration": 97,
    "start_time": "2022-04-09T16:17:12.903Z"
   },
   {
    "duration": 242,
    "start_time": "2022-04-09T16:17:13.003Z"
   },
   {
    "duration": 88,
    "start_time": "2022-04-09T16:17:13.247Z"
   },
   {
    "duration": 264,
    "start_time": "2022-04-09T16:17:13.337Z"
   },
   {
    "duration": 353,
    "start_time": "2022-04-09T16:17:13.604Z"
   },
   {
    "duration": 290,
    "start_time": "2022-04-09T16:17:13.959Z"
   },
   {
    "duration": 118,
    "start_time": "2022-04-09T16:17:14.251Z"
   },
   {
    "duration": 15,
    "start_time": "2022-04-09T16:17:14.371Z"
   },
   {
    "duration": 6,
    "start_time": "2022-04-09T16:17:14.389Z"
   },
   {
    "duration": 36,
    "start_time": "2022-04-09T16:17:14.398Z"
   },
   {
    "duration": 17,
    "start_time": "2022-04-09T16:17:14.468Z"
   },
   {
    "duration": 8,
    "start_time": "2022-04-09T16:17:14.487Z"
   },
   {
    "duration": 228,
    "start_time": "2022-04-09T16:17:14.497Z"
   },
   {
    "duration": 43,
    "start_time": "2022-04-09T16:17:14.728Z"
   },
   {
    "duration": 1839,
    "start_time": "2022-04-09T16:17:37.410Z"
   },
   {
    "duration": 1781,
    "start_time": "2022-04-09T16:23:06.402Z"
   },
   {
    "duration": 278,
    "start_time": "2022-04-09T16:23:08.185Z"
   },
   {
    "duration": 5,
    "start_time": "2022-04-09T16:23:08.466Z"
   },
   {
    "duration": 218,
    "start_time": "2022-04-09T16:23:08.475Z"
   },
   {
    "duration": 180,
    "start_time": "2022-04-09T16:23:08.696Z"
   },
   {
    "duration": 492,
    "start_time": "2022-04-09T16:23:08.878Z"
   },
   {
    "duration": 29,
    "start_time": "2022-04-09T16:23:09.372Z"
   },
   {
    "duration": 15,
    "start_time": "2022-04-09T16:23:09.404Z"
   },
   {
    "duration": 47,
    "start_time": "2022-04-09T16:23:09.422Z"
   },
   {
    "duration": 32,
    "start_time": "2022-04-09T16:23:09.474Z"
   },
   {
    "duration": 722,
    "start_time": "2022-04-09T16:23:09.508Z"
   },
   {
    "duration": 544,
    "start_time": "2022-04-09T16:23:10.233Z"
   },
   {
    "duration": 231,
    "start_time": "2022-04-09T16:23:10.780Z"
   },
   {
    "duration": 84,
    "start_time": "2022-04-09T16:23:11.013Z"
   },
   {
    "duration": 234,
    "start_time": "2022-04-09T16:23:11.099Z"
   },
   {
    "duration": 78,
    "start_time": "2022-04-09T16:23:11.335Z"
   },
   {
    "duration": 238,
    "start_time": "2022-04-09T16:23:11.415Z"
   },
   {
    "duration": 302,
    "start_time": "2022-04-09T16:23:11.668Z"
   },
   {
    "duration": 266,
    "start_time": "2022-04-09T16:23:11.972Z"
   },
   {
    "duration": 98,
    "start_time": "2022-04-09T16:23:12.240Z"
   },
   {
    "duration": 30,
    "start_time": "2022-04-09T16:23:12.341Z"
   },
   {
    "duration": 8,
    "start_time": "2022-04-09T16:23:12.373Z"
   },
   {
    "duration": 34,
    "start_time": "2022-04-09T16:23:12.383Z"
   },
   {
    "duration": 50,
    "start_time": "2022-04-09T16:23:12.419Z"
   },
   {
    "duration": 7,
    "start_time": "2022-04-09T16:23:12.472Z"
   },
   {
    "duration": 516,
    "start_time": "2022-04-09T16:23:12.481Z"
   },
   {
    "duration": 34,
    "start_time": "2022-04-09T16:23:13.000Z"
   },
   {
    "duration": 1749,
    "start_time": "2022-04-09T16:34:41.470Z"
   },
   {
    "duration": 20,
    "start_time": "2022-04-09T16:37:10.202Z"
   },
   {
    "duration": 1945,
    "start_time": "2022-04-09T16:40:47.874Z"
   },
   {
    "duration": 288,
    "start_time": "2022-04-09T16:40:49.822Z"
   },
   {
    "duration": 6,
    "start_time": "2022-04-09T16:40:50.112Z"
   },
   {
    "duration": 205,
    "start_time": "2022-04-09T16:40:50.120Z"
   },
   {
    "duration": 188,
    "start_time": "2022-04-09T16:40:50.327Z"
   },
   {
    "duration": 516,
    "start_time": "2022-04-09T16:40:50.517Z"
   },
   {
    "duration": 42,
    "start_time": "2022-04-09T16:40:51.035Z"
   },
   {
    "duration": 15,
    "start_time": "2022-04-09T16:40:51.079Z"
   },
   {
    "duration": 7,
    "start_time": "2022-04-09T16:40:51.096Z"
   },
   {
    "duration": 71,
    "start_time": "2022-04-09T16:40:51.107Z"
   },
   {
    "duration": 1014,
    "start_time": "2022-04-09T16:40:51.181Z"
   },
   {
    "duration": 555,
    "start_time": "2022-04-09T16:40:52.197Z"
   },
   {
    "duration": 237,
    "start_time": "2022-04-09T16:40:52.754Z"
   },
   {
    "duration": 90,
    "start_time": "2022-04-09T16:40:52.993Z"
   },
   {
    "duration": 234,
    "start_time": "2022-04-09T16:40:53.085Z"
   },
   {
    "duration": 84,
    "start_time": "2022-04-09T16:40:53.321Z"
   },
   {
    "duration": 260,
    "start_time": "2022-04-09T16:40:53.407Z"
   },
   {
    "duration": 320,
    "start_time": "2022-04-09T16:40:53.669Z"
   },
   {
    "duration": 298,
    "start_time": "2022-04-09T16:40:53.991Z"
   },
   {
    "duration": 114,
    "start_time": "2022-04-09T16:40:54.292Z"
   },
   {
    "duration": 17,
    "start_time": "2022-04-09T16:40:54.408Z"
   },
   {
    "duration": 8,
    "start_time": "2022-04-09T16:40:54.427Z"
   },
   {
    "duration": 56,
    "start_time": "2022-04-09T16:40:54.437Z"
   },
   {
    "duration": 18,
    "start_time": "2022-04-09T16:40:54.495Z"
   },
   {
    "duration": 7,
    "start_time": "2022-04-09T16:40:54.516Z"
   },
   {
    "duration": 514,
    "start_time": "2022-04-09T16:40:54.525Z"
   },
   {
    "duration": 179,
    "start_time": "2022-04-09T16:40:55.041Z"
   },
   {
    "duration": 0,
    "start_time": "2022-04-09T16:40:55.224Z"
   },
   {
    "duration": 2292,
    "start_time": "2022-04-09T16:43:17.067Z"
   },
   {
    "duration": 1984,
    "start_time": "2022-04-09T16:43:27.430Z"
   },
   {
    "duration": 303,
    "start_time": "2022-04-09T16:43:29.417Z"
   },
   {
    "duration": 5,
    "start_time": "2022-04-09T16:43:29.726Z"
   },
   {
    "duration": 236,
    "start_time": "2022-04-09T16:43:29.734Z"
   },
   {
    "duration": 204,
    "start_time": "2022-04-09T16:43:29.975Z"
   },
   {
    "duration": 566,
    "start_time": "2022-04-09T16:43:30.182Z"
   },
   {
    "duration": 47,
    "start_time": "2022-04-09T16:43:30.751Z"
   },
   {
    "duration": 17,
    "start_time": "2022-04-09T16:43:30.800Z"
   },
   {
    "duration": 49,
    "start_time": "2022-04-09T16:43:30.824Z"
   },
   {
    "duration": 53,
    "start_time": "2022-04-09T16:43:30.876Z"
   },
   {
    "duration": 740,
    "start_time": "2022-04-09T16:43:30.932Z"
   },
   {
    "duration": 562,
    "start_time": "2022-04-09T16:43:31.680Z"
   },
   {
    "duration": 248,
    "start_time": "2022-04-09T16:43:32.245Z"
   },
   {
    "duration": 97,
    "start_time": "2022-04-09T16:43:32.496Z"
   },
   {
    "duration": 241,
    "start_time": "2022-04-09T16:43:32.596Z"
   },
   {
    "duration": 81,
    "start_time": "2022-04-09T16:43:32.839Z"
   },
   {
    "duration": 265,
    "start_time": "2022-04-09T16:43:32.922Z"
   },
   {
    "duration": 368,
    "start_time": "2022-04-09T16:43:33.189Z"
   },
   {
    "duration": 275,
    "start_time": "2022-04-09T16:43:33.559Z"
   },
   {
    "duration": 161,
    "start_time": "2022-04-09T16:43:33.837Z"
   },
   {
    "duration": 21,
    "start_time": "2022-04-09T16:43:34.000Z"
   },
   {
    "duration": 7,
    "start_time": "2022-04-09T16:43:34.024Z"
   },
   {
    "duration": 75,
    "start_time": "2022-04-09T16:43:34.034Z"
   },
   {
    "duration": 19,
    "start_time": "2022-04-09T16:43:34.112Z"
   },
   {
    "duration": 33,
    "start_time": "2022-04-09T16:43:34.134Z"
   },
   {
    "duration": 561,
    "start_time": "2022-04-09T16:43:34.170Z"
   },
   {
    "duration": 257,
    "start_time": "2022-04-09T16:43:34.735Z"
   },
   {
    "duration": 0,
    "start_time": "2022-04-09T16:43:34.994Z"
   },
   {
    "duration": 88,
    "start_time": "2022-04-09T16:46:36.852Z"
   },
   {
    "duration": 75,
    "start_time": "2022-04-09T16:47:02.265Z"
   },
   {
    "duration": 127,
    "start_time": "2022-04-09T16:56:16.225Z"
   },
   {
    "duration": 69,
    "start_time": "2022-04-09T17:26:09.059Z"
   },
   {
    "duration": 95,
    "start_time": "2022-04-09T17:26:12.851Z"
   },
   {
    "duration": 34,
    "start_time": "2022-04-09T17:26:13.027Z"
   },
   {
    "duration": 33,
    "start_time": "2022-04-09T17:26:25.571Z"
   },
   {
    "duration": 35,
    "start_time": "2022-04-09T17:26:46.370Z"
   },
   {
    "duration": 37,
    "start_time": "2022-04-09T17:26:56.657Z"
   },
   {
    "duration": 6,
    "start_time": "2022-04-09T17:33:42.264Z"
   },
   {
    "duration": 5,
    "start_time": "2022-04-09T17:34:31.716Z"
   },
   {
    "duration": 4,
    "start_time": "2022-04-09T17:36:12.699Z"
   },
   {
    "duration": 15,
    "start_time": "2022-04-09T18:00:14.390Z"
   },
   {
    "duration": 5,
    "start_time": "2022-04-09T18:00:17.464Z"
   },
   {
    "duration": 24,
    "start_time": "2022-04-09T18:00:18.494Z"
   },
   {
    "duration": 34,
    "start_time": "2022-04-09T18:00:26.412Z"
   },
   {
    "duration": 5,
    "start_time": "2022-04-09T18:00:27.045Z"
   },
   {
    "duration": 18,
    "start_time": "2022-04-09T18:00:27.707Z"
   },
   {
    "duration": 36,
    "start_time": "2022-04-09T18:00:39.726Z"
   },
   {
    "duration": 5,
    "start_time": "2022-04-09T18:00:41.925Z"
   },
   {
    "duration": 18,
    "start_time": "2022-04-09T18:00:45.390Z"
   },
   {
    "duration": 23,
    "start_time": "2022-04-09T18:02:26.181Z"
   },
   {
    "duration": 6,
    "start_time": "2022-04-09T18:06:10.954Z"
   },
   {
    "duration": 7,
    "start_time": "2022-04-09T18:06:12.175Z"
   },
   {
    "duration": 5,
    "start_time": "2022-04-09T18:10:15.710Z"
   },
   {
    "duration": 119,
    "start_time": "2022-04-09T18:18:33.096Z"
   },
   {
    "duration": 87,
    "start_time": "2022-04-09T18:18:38.839Z"
   },
   {
    "duration": 111,
    "start_time": "2022-04-09T18:18:46.744Z"
   },
   {
    "duration": 79,
    "start_time": "2022-04-09T18:19:12.288Z"
   },
   {
    "duration": 332,
    "start_time": "2022-04-09T18:19:33.840Z"
   },
   {
    "duration": 12,
    "start_time": "2022-04-09T18:20:10.303Z"
   },
   {
    "duration": 77,
    "start_time": "2022-04-09T18:21:13.429Z"
   },
   {
    "duration": 77,
    "start_time": "2022-04-09T18:21:19.533Z"
   },
   {
    "duration": 77,
    "start_time": "2022-04-09T18:21:36.694Z"
   },
   {
    "duration": 11,
    "start_time": "2022-04-09T18:30:23.895Z"
   },
   {
    "duration": 342,
    "start_time": "2022-04-09T18:30:34.461Z"
   },
   {
    "duration": 548,
    "start_time": "2022-04-09T18:30:51.061Z"
   },
   {
    "duration": 578,
    "start_time": "2022-04-09T18:31:05.257Z"
   },
   {
    "duration": 569,
    "start_time": "2022-04-09T18:31:36.038Z"
   },
   {
    "duration": 583,
    "start_time": "2022-04-09T18:31:44.062Z"
   },
   {
    "duration": 590,
    "start_time": "2022-04-09T18:31:49.046Z"
   },
   {
    "duration": 98,
    "start_time": "2022-04-09T18:32:08.086Z"
   },
   {
    "duration": 748,
    "start_time": "2022-04-09T18:32:13.197Z"
   },
   {
    "duration": 249,
    "start_time": "2022-04-09T18:34:13.308Z"
   },
   {
    "duration": 9,
    "start_time": "2022-04-09T18:34:39.725Z"
   },
   {
    "duration": 10,
    "start_time": "2022-04-09T18:35:00.905Z"
   },
   {
    "duration": 2269,
    "start_time": "2022-04-09T18:41:15.975Z"
   },
   {
    "duration": 285,
    "start_time": "2022-04-09T18:41:18.247Z"
   },
   {
    "duration": 5,
    "start_time": "2022-04-09T18:41:18.535Z"
   },
   {
    "duration": 205,
    "start_time": "2022-04-09T18:41:18.543Z"
   },
   {
    "duration": 187,
    "start_time": "2022-04-09T18:41:18.751Z"
   },
   {
    "duration": 501,
    "start_time": "2022-04-09T18:41:18.941Z"
   },
   {
    "duration": 40,
    "start_time": "2022-04-09T18:41:19.445Z"
   },
   {
    "duration": 15,
    "start_time": "2022-04-09T18:41:19.487Z"
   },
   {
    "duration": 8,
    "start_time": "2022-04-09T18:41:19.504Z"
   },
   {
    "duration": 72,
    "start_time": "2022-04-09T18:41:19.516Z"
   },
   {
    "duration": 665,
    "start_time": "2022-04-09T18:41:19.590Z"
   },
   {
    "duration": 537,
    "start_time": "2022-04-09T18:41:20.257Z"
   },
   {
    "duration": 241,
    "start_time": "2022-04-09T18:41:20.796Z"
   },
   {
    "duration": 711,
    "start_time": "2022-04-09T18:41:21.039Z"
   },
   {
    "duration": 80,
    "start_time": "2022-04-09T18:41:21.753Z"
   },
   {
    "duration": 258,
    "start_time": "2022-04-09T18:41:21.836Z"
   },
   {
    "duration": 85,
    "start_time": "2022-04-09T18:41:22.097Z"
   },
   {
    "duration": 322,
    "start_time": "2022-04-09T18:41:22.185Z"
   },
   {
    "duration": 252,
    "start_time": "2022-04-09T18:41:22.510Z"
   },
   {
    "duration": 279,
    "start_time": "2022-04-09T18:41:22.768Z"
   },
   {
    "duration": 92,
    "start_time": "2022-04-09T18:41:23.049Z"
   },
   {
    "duration": 32,
    "start_time": "2022-04-09T18:41:23.144Z"
   },
   {
    "duration": 7,
    "start_time": "2022-04-09T18:41:23.178Z"
   },
   {
    "duration": 36,
    "start_time": "2022-04-09T18:41:23.187Z"
   },
   {
    "duration": 49,
    "start_time": "2022-04-09T18:41:23.225Z"
   },
   {
    "duration": 7,
    "start_time": "2022-04-09T18:41:23.276Z"
   },
   {
    "duration": 502,
    "start_time": "2022-04-09T18:41:23.285Z"
   },
   {
    "duration": 91,
    "start_time": "2022-04-09T18:41:23.792Z"
   },
   {
    "duration": 35,
    "start_time": "2022-04-09T18:41:23.886Z"
   },
   {
    "duration": 4,
    "start_time": "2022-04-09T18:41:23.923Z"
   },
   {
    "duration": 11,
    "start_time": "2022-04-09T18:41:23.929Z"
   },
   {
    "duration": 10,
    "start_time": "2022-04-09T18:41:23.968Z"
   },
   {
    "duration": 6,
    "start_time": "2022-04-09T19:06:59.281Z"
   },
   {
    "duration": 10,
    "start_time": "2022-04-09T19:07:02.001Z"
   },
   {
    "duration": 1982,
    "start_time": "2022-04-09T20:23:00.766Z"
   },
   {
    "duration": 315,
    "start_time": "2022-04-09T20:23:02.751Z"
   },
   {
    "duration": 8,
    "start_time": "2022-04-09T20:23:03.070Z"
   },
   {
    "duration": 228,
    "start_time": "2022-04-09T20:23:03.082Z"
   },
   {
    "duration": 199,
    "start_time": "2022-04-09T20:23:03.312Z"
   },
   {
    "duration": 549,
    "start_time": "2022-04-09T20:23:03.513Z"
   },
   {
    "duration": 29,
    "start_time": "2022-04-09T20:23:04.072Z"
   },
   {
    "duration": 15,
    "start_time": "2022-04-09T20:23:04.103Z"
   },
   {
    "duration": 7,
    "start_time": "2022-04-09T20:23:04.120Z"
   },
   {
    "duration": 40,
    "start_time": "2022-04-09T20:23:04.168Z"
   },
   {
    "duration": 741,
    "start_time": "2022-04-09T20:23:04.211Z"
   },
   {
    "duration": 586,
    "start_time": "2022-04-09T20:23:04.955Z"
   },
   {
    "duration": 256,
    "start_time": "2022-04-09T20:23:05.544Z"
   },
   {
    "duration": 765,
    "start_time": "2022-04-09T20:23:05.803Z"
   },
   {
    "duration": 78,
    "start_time": "2022-04-09T20:23:06.571Z"
   },
   {
    "duration": 244,
    "start_time": "2022-04-09T20:23:06.667Z"
   },
   {
    "duration": 96,
    "start_time": "2022-04-09T20:23:06.915Z"
   },
   {
    "duration": 339,
    "start_time": "2022-04-09T20:23:07.014Z"
   },
   {
    "duration": 257,
    "start_time": "2022-04-09T20:23:07.356Z"
   },
   {
    "duration": 293,
    "start_time": "2022-04-09T20:23:07.616Z"
   },
   {
    "duration": 102,
    "start_time": "2022-04-09T20:23:07.912Z"
   },
   {
    "duration": 15,
    "start_time": "2022-04-09T20:23:08.016Z"
   },
   {
    "duration": 6,
    "start_time": "2022-04-09T20:23:08.033Z"
   },
   {
    "duration": 63,
    "start_time": "2022-04-09T20:23:08.041Z"
   },
   {
    "duration": 16,
    "start_time": "2022-04-09T20:23:08.107Z"
   },
   {
    "duration": 8,
    "start_time": "2022-04-09T20:23:08.125Z"
   },
   {
    "duration": 543,
    "start_time": "2022-04-09T20:23:08.169Z"
   },
   {
    "duration": 99,
    "start_time": "2022-04-09T20:23:08.717Z"
   },
   {
    "duration": 32,
    "start_time": "2022-04-09T20:23:08.819Z"
   },
   {
    "duration": 6,
    "start_time": "2022-04-09T20:23:08.868Z"
   },
   {
    "duration": 12,
    "start_time": "2022-04-09T20:23:08.878Z"
   },
   {
    "duration": 11,
    "start_time": "2022-04-09T20:23:08.892Z"
   },
   {
    "duration": 1906,
    "start_time": "2022-04-09T23:59:22.462Z"
   },
   {
    "duration": 301,
    "start_time": "2022-04-09T23:59:24.372Z"
   },
   {
    "duration": 7,
    "start_time": "2022-04-09T23:59:24.677Z"
   },
   {
    "duration": 241,
    "start_time": "2022-04-09T23:59:24.687Z"
   },
   {
    "duration": 227,
    "start_time": "2022-04-09T23:59:24.930Z"
   },
   {
    "duration": 639,
    "start_time": "2022-04-09T23:59:25.159Z"
   },
   {
    "duration": 30,
    "start_time": "2022-04-09T23:59:25.800Z"
   },
   {
    "duration": 20,
    "start_time": "2022-04-09T23:59:25.873Z"
   },
   {
    "duration": 8,
    "start_time": "2022-04-09T23:59:25.896Z"
   },
   {
    "duration": 77,
    "start_time": "2022-04-09T23:59:25.908Z"
   },
   {
    "duration": 729,
    "start_time": "2022-04-09T23:59:25.987Z"
   },
   {
    "duration": 576,
    "start_time": "2022-04-09T23:59:26.719Z"
   },
   {
    "duration": 227,
    "start_time": "2022-04-09T23:59:27.298Z"
   },
   {
    "duration": 724,
    "start_time": "2022-04-09T23:59:27.528Z"
   },
   {
    "duration": 81,
    "start_time": "2022-04-09T23:59:28.255Z"
   },
   {
    "duration": 246,
    "start_time": "2022-04-09T23:59:28.338Z"
   },
   {
    "duration": 85,
    "start_time": "2022-04-09T23:59:28.586Z"
   },
   {
    "duration": 360,
    "start_time": "2022-04-09T23:59:28.675Z"
   },
   {
    "duration": 265,
    "start_time": "2022-04-09T23:59:29.038Z"
   },
   {
    "duration": 283,
    "start_time": "2022-04-09T23:59:29.305Z"
   },
   {
    "duration": 99,
    "start_time": "2022-04-09T23:59:29.591Z"
   },
   {
    "duration": 15,
    "start_time": "2022-04-09T23:59:29.693Z"
   },
   {
    "duration": 7,
    "start_time": "2022-04-09T23:59:29.710Z"
   },
   {
    "duration": 64,
    "start_time": "2022-04-09T23:59:29.719Z"
   },
   {
    "duration": 17,
    "start_time": "2022-04-09T23:59:29.785Z"
   },
   {
    "duration": 7,
    "start_time": "2022-04-09T23:59:29.805Z"
   },
   {
    "duration": 589,
    "start_time": "2022-04-09T23:59:29.814Z"
   },
   {
    "duration": 102,
    "start_time": "2022-04-09T23:59:30.407Z"
   },
   {
    "duration": 38,
    "start_time": "2022-04-09T23:59:30.511Z"
   },
   {
    "duration": 7,
    "start_time": "2022-04-09T23:59:30.569Z"
   },
   {
    "duration": 17,
    "start_time": "2022-04-09T23:59:30.580Z"
   },
   {
    "duration": 17,
    "start_time": "2022-04-09T23:59:30.600Z"
   },
   {
    "duration": 1871,
    "start_time": "2022-04-10T01:29:39.453Z"
   },
   {
    "duration": 310,
    "start_time": "2022-04-10T01:29:41.327Z"
   },
   {
    "duration": 6,
    "start_time": "2022-04-10T01:29:41.639Z"
   },
   {
    "duration": 220,
    "start_time": "2022-04-10T01:29:41.648Z"
   },
   {
    "duration": 201,
    "start_time": "2022-04-10T01:29:41.872Z"
   },
   {
    "duration": 568,
    "start_time": "2022-04-10T01:29:42.076Z"
   },
   {
    "duration": 44,
    "start_time": "2022-04-10T01:29:42.646Z"
   },
   {
    "duration": 17,
    "start_time": "2022-04-10T01:29:42.693Z"
   },
   {
    "duration": 8,
    "start_time": "2022-04-10T01:29:42.713Z"
   },
   {
    "duration": 39,
    "start_time": "2022-04-10T01:29:42.768Z"
   },
   {
    "duration": 749,
    "start_time": "2022-04-10T01:29:42.809Z"
   },
   {
    "duration": 558,
    "start_time": "2022-04-10T01:29:43.568Z"
   },
   {
    "duration": 234,
    "start_time": "2022-04-10T01:29:44.128Z"
   },
   {
    "duration": 701,
    "start_time": "2022-04-10T01:29:44.364Z"
   },
   {
    "duration": 73,
    "start_time": "2022-04-10T01:29:45.068Z"
   },
   {
    "duration": 251,
    "start_time": "2022-04-10T01:29:45.143Z"
   },
   {
    "duration": 85,
    "start_time": "2022-04-10T01:29:45.396Z"
   },
   {
    "duration": 362,
    "start_time": "2022-04-10T01:29:45.486Z"
   },
   {
    "duration": 258,
    "start_time": "2022-04-10T01:29:45.850Z"
   },
   {
    "duration": 284,
    "start_time": "2022-04-10T01:29:46.111Z"
   },
   {
    "duration": 103,
    "start_time": "2022-04-10T01:29:46.397Z"
   },
   {
    "duration": 15,
    "start_time": "2022-04-10T01:29:46.503Z"
   },
   {
    "duration": 10,
    "start_time": "2022-04-10T01:29:46.520Z"
   },
   {
    "duration": 65,
    "start_time": "2022-04-10T01:29:46.532Z"
   },
   {
    "duration": 19,
    "start_time": "2022-04-10T01:29:46.600Z"
   },
   {
    "duration": 7,
    "start_time": "2022-04-10T01:29:46.621Z"
   },
   {
    "duration": 601,
    "start_time": "2022-04-10T01:29:46.631Z"
   },
   {
    "duration": 101,
    "start_time": "2022-04-10T01:29:47.237Z"
   },
   {
    "duration": 52,
    "start_time": "2022-04-10T01:29:47.341Z"
   },
   {
    "duration": 5,
    "start_time": "2022-04-10T01:29:47.396Z"
   },
   {
    "duration": 9,
    "start_time": "2022-04-10T01:29:47.403Z"
   },
   {
    "duration": 10,
    "start_time": "2022-04-10T01:29:47.414Z"
   },
   {
    "duration": 2417,
    "start_time": "2022-04-10T08:27:33.193Z"
   },
   {
    "duration": 300,
    "start_time": "2022-04-10T08:27:35.613Z"
   },
   {
    "duration": 6,
    "start_time": "2022-04-10T08:27:35.915Z"
   },
   {
    "duration": 207,
    "start_time": "2022-04-10T08:27:35.923Z"
   },
   {
    "duration": 207,
    "start_time": "2022-04-10T08:27:36.134Z"
   },
   {
    "duration": 506,
    "start_time": "2022-04-10T08:27:36.343Z"
   },
   {
    "duration": 41,
    "start_time": "2022-04-10T08:27:36.851Z"
   },
   {
    "duration": 16,
    "start_time": "2022-04-10T08:27:36.894Z"
   },
   {
    "duration": 7,
    "start_time": "2022-04-10T08:27:36.912Z"
   },
   {
    "duration": 76,
    "start_time": "2022-04-10T08:27:36.922Z"
   },
   {
    "duration": 758,
    "start_time": "2022-04-10T08:27:37.001Z"
   },
   {
    "duration": 577,
    "start_time": "2022-04-10T08:27:37.773Z"
   },
   {
    "duration": 264,
    "start_time": "2022-04-10T08:27:38.352Z"
   },
   {
    "duration": 791,
    "start_time": "2022-04-10T08:27:38.621Z"
   },
   {
    "duration": 106,
    "start_time": "2022-04-10T08:27:39.415Z"
   },
   {
    "duration": 236,
    "start_time": "2022-04-10T08:27:39.523Z"
   },
   {
    "duration": 74,
    "start_time": "2022-04-10T08:27:39.769Z"
   },
   {
    "duration": 353,
    "start_time": "2022-04-10T08:27:39.846Z"
   },
   {
    "duration": 265,
    "start_time": "2022-04-10T08:27:40.202Z"
   },
   {
    "duration": 286,
    "start_time": "2022-04-10T08:27:40.470Z"
   },
   {
    "duration": 91,
    "start_time": "2022-04-10T08:27:40.759Z"
   },
   {
    "duration": 29,
    "start_time": "2022-04-10T08:27:40.852Z"
   },
   {
    "duration": 8,
    "start_time": "2022-04-10T08:27:40.884Z"
   },
   {
    "duration": 34,
    "start_time": "2022-04-10T08:27:40.894Z"
   },
   {
    "duration": 21,
    "start_time": "2022-04-10T08:27:40.969Z"
   },
   {
    "duration": 6,
    "start_time": "2022-04-10T08:27:40.993Z"
   },
   {
    "duration": 619,
    "start_time": "2022-04-10T08:27:41.001Z"
   },
   {
    "duration": 102,
    "start_time": "2022-04-10T08:27:41.622Z"
   },
   {
    "duration": 42,
    "start_time": "2022-04-10T08:27:41.727Z"
   },
   {
    "duration": 7,
    "start_time": "2022-04-10T08:27:41.773Z"
   },
   {
    "duration": 10,
    "start_time": "2022-04-10T08:27:41.783Z"
   },
   {
    "duration": 12,
    "start_time": "2022-04-10T08:27:41.795Z"
   },
   {
    "duration": 746,
    "start_time": "2022-04-10T08:33:19.448Z"
   },
   {
    "duration": 608,
    "start_time": "2022-04-10T08:33:23.100Z"
   },
   {
    "duration": 716,
    "start_time": "2022-04-10T08:33:27.835Z"
   },
   {
    "duration": 4,
    "start_time": "2022-04-10T08:41:53.057Z"
   },
   {
    "duration": 7,
    "start_time": "2022-04-10T08:43:19.368Z"
   },
   {
    "duration": 4,
    "start_time": "2022-04-10T08:44:59.399Z"
   },
   {
    "duration": 4,
    "start_time": "2022-04-10T08:45:08.294Z"
   },
   {
    "duration": 2245,
    "start_time": "2022-04-10T09:46:09.698Z"
   },
   {
    "duration": 333,
    "start_time": "2022-04-10T09:46:11.946Z"
   },
   {
    "duration": 6,
    "start_time": "2022-04-10T09:46:12.282Z"
   },
   {
    "duration": 235,
    "start_time": "2022-04-10T09:46:12.291Z"
   },
   {
    "duration": 203,
    "start_time": "2022-04-10T09:46:12.528Z"
   },
   {
    "duration": 553,
    "start_time": "2022-04-10T09:46:12.734Z"
   },
   {
    "duration": 29,
    "start_time": "2022-04-10T09:46:13.289Z"
   },
   {
    "duration": 47,
    "start_time": "2022-04-10T09:46:13.321Z"
   },
   {
    "duration": 20,
    "start_time": "2022-04-10T09:46:13.372Z"
   },
   {
    "duration": 39,
    "start_time": "2022-04-10T09:46:13.396Z"
   },
   {
    "duration": 717,
    "start_time": "2022-04-10T09:46:13.437Z"
   },
   {
    "duration": 525,
    "start_time": "2022-04-10T09:46:14.170Z"
   },
   {
    "duration": 230,
    "start_time": "2022-04-10T09:46:14.698Z"
   },
   {
    "duration": 729,
    "start_time": "2022-04-10T09:46:14.930Z"
   },
   {
    "duration": 77,
    "start_time": "2022-04-10T09:46:15.661Z"
   },
   {
    "duration": 254,
    "start_time": "2022-04-10T09:46:15.740Z"
   },
   {
    "duration": 87,
    "start_time": "2022-04-10T09:46:15.996Z"
   },
   {
    "duration": 350,
    "start_time": "2022-04-10T09:46:16.085Z"
   },
   {
    "duration": 261,
    "start_time": "2022-04-10T09:46:16.438Z"
   },
   {
    "duration": 292,
    "start_time": "2022-04-10T09:46:16.701Z"
   },
   {
    "duration": 100,
    "start_time": "2022-04-10T09:46:16.995Z"
   },
   {
    "duration": 171,
    "start_time": "2022-04-10T09:46:17.098Z"
   },
   {
    "duration": 0,
    "start_time": "2022-04-10T09:46:17.273Z"
   },
   {
    "duration": 0,
    "start_time": "2022-04-10T09:46:17.275Z"
   },
   {
    "duration": 0,
    "start_time": "2022-04-10T09:46:17.277Z"
   },
   {
    "duration": 0,
    "start_time": "2022-04-10T09:46:17.279Z"
   },
   {
    "duration": 0,
    "start_time": "2022-04-10T09:46:17.282Z"
   },
   {
    "duration": 0,
    "start_time": "2022-04-10T09:46:17.284Z"
   },
   {
    "duration": 0,
    "start_time": "2022-04-10T09:46:17.287Z"
   },
   {
    "duration": 0,
    "start_time": "2022-04-10T09:46:17.289Z"
   },
   {
    "duration": 0,
    "start_time": "2022-04-10T09:46:17.292Z"
   },
   {
    "duration": 0,
    "start_time": "2022-04-10T09:46:17.294Z"
   },
   {
    "duration": 0,
    "start_time": "2022-04-10T09:46:17.296Z"
   },
   {
    "duration": 15,
    "start_time": "2022-04-10T09:47:40.950Z"
   },
   {
    "duration": 2309,
    "start_time": "2022-04-10T09:47:46.938Z"
   },
   {
    "duration": 322,
    "start_time": "2022-04-10T09:47:49.250Z"
   },
   {
    "duration": 8,
    "start_time": "2022-04-10T09:47:49.575Z"
   },
   {
    "duration": 237,
    "start_time": "2022-04-10T09:47:49.586Z"
   },
   {
    "duration": 203,
    "start_time": "2022-04-10T09:47:49.826Z"
   },
   {
    "duration": 569,
    "start_time": "2022-04-10T09:47:50.031Z"
   },
   {
    "duration": 29,
    "start_time": "2022-04-10T09:47:50.602Z"
   },
   {
    "duration": 43,
    "start_time": "2022-04-10T09:47:50.633Z"
   },
   {
    "duration": 13,
    "start_time": "2022-04-10T09:47:50.678Z"
   },
   {
    "duration": 36,
    "start_time": "2022-04-10T09:47:50.693Z"
   },
   {
    "duration": 753,
    "start_time": "2022-04-10T09:47:50.732Z"
   },
   {
    "duration": 554,
    "start_time": "2022-04-10T09:47:51.487Z"
   },
   {
    "duration": 244,
    "start_time": "2022-04-10T09:47:52.043Z"
   },
   {
    "duration": 774,
    "start_time": "2022-04-10T09:47:52.293Z"
   },
   {
    "duration": 74,
    "start_time": "2022-04-10T09:47:53.071Z"
   },
   {
    "duration": 253,
    "start_time": "2022-04-10T09:47:53.147Z"
   },
   {
    "duration": 84,
    "start_time": "2022-04-10T09:47:53.402Z"
   },
   {
    "duration": 332,
    "start_time": "2022-04-10T09:47:53.488Z"
   },
   {
    "duration": 265,
    "start_time": "2022-04-10T09:47:53.823Z"
   },
   {
    "duration": 298,
    "start_time": "2022-04-10T09:47:54.091Z"
   },
   {
    "duration": 123,
    "start_time": "2022-04-10T09:47:54.392Z"
   },
   {
    "duration": 15,
    "start_time": "2022-04-10T09:47:54.517Z"
   },
   {
    "duration": 4,
    "start_time": "2022-04-10T09:47:54.534Z"
   },
   {
    "duration": 43,
    "start_time": "2022-04-10T09:47:54.540Z"
   },
   {
    "duration": 45,
    "start_time": "2022-04-10T09:47:54.585Z"
   },
   {
    "duration": 35,
    "start_time": "2022-04-10T09:47:54.633Z"
   },
   {
    "duration": 10,
    "start_time": "2022-04-10T09:47:54.671Z"
   },
   {
    "duration": 561,
    "start_time": "2022-04-10T09:47:54.683Z"
   },
   {
    "duration": 97,
    "start_time": "2022-04-10T09:47:55.247Z"
   },
   {
    "duration": 51,
    "start_time": "2022-04-10T09:47:55.347Z"
   },
   {
    "duration": 7,
    "start_time": "2022-04-10T09:47:55.400Z"
   },
   {
    "duration": 8,
    "start_time": "2022-04-10T09:47:55.408Z"
   },
   {
    "duration": 8,
    "start_time": "2022-04-10T09:47:55.418Z"
   },
   {
    "duration": 47,
    "start_time": "2022-04-10T14:39:23.123Z"
   },
   {
    "duration": 1776,
    "start_time": "2022-04-10T14:39:27.249Z"
   },
   {
    "duration": 251,
    "start_time": "2022-04-10T14:39:29.027Z"
   },
   {
    "duration": 4,
    "start_time": "2022-04-10T14:39:29.280Z"
   },
   {
    "duration": 248,
    "start_time": "2022-04-10T14:39:29.287Z"
   },
   {
    "duration": 27,
    "start_time": "2022-04-10T14:39:29.537Z"
   },
   {
    "duration": 14,
    "start_time": "2022-04-10T14:40:24.629Z"
   },
   {
    "duration": 18,
    "start_time": "2022-04-10T14:41:25.012Z"
   },
   {
    "duration": 16,
    "start_time": "2022-04-10T14:41:42.082Z"
   },
   {
    "duration": 17,
    "start_time": "2022-04-10T14:42:03.064Z"
   },
   {
    "duration": 110,
    "start_time": "2022-04-10T14:42:13.484Z"
   },
   {
    "duration": 26,
    "start_time": "2022-04-10T15:01:39.780Z"
   },
   {
    "duration": 18,
    "start_time": "2022-04-10T15:01:46.372Z"
   },
   {
    "duration": 11,
    "start_time": "2022-04-10T15:08:28.413Z"
   },
   {
    "duration": 11,
    "start_time": "2022-04-10T15:09:09.974Z"
   },
   {
    "duration": 102,
    "start_time": "2022-04-10T15:10:12.428Z"
   },
   {
    "duration": 28,
    "start_time": "2022-04-10T15:10:17.959Z"
   },
   {
    "duration": 24,
    "start_time": "2022-04-10T15:10:26.844Z"
   },
   {
    "duration": 533,
    "start_time": "2022-04-10T15:17:28.061Z"
   },
   {
    "duration": 433,
    "start_time": "2022-04-10T15:17:33.115Z"
   },
   {
    "duration": 433,
    "start_time": "2022-04-10T15:17:39.434Z"
   },
   {
    "duration": 484,
    "start_time": "2022-04-10T15:17:47.406Z"
   },
   {
    "duration": 519,
    "start_time": "2022-04-10T15:17:52.054Z"
   },
   {
    "duration": 731,
    "start_time": "2022-04-10T15:17:56.406Z"
   },
   {
    "duration": 469,
    "start_time": "2022-04-10T15:21:24.095Z"
   },
   {
    "duration": 537,
    "start_time": "2022-04-10T15:21:29.506Z"
   },
   {
    "duration": 676,
    "start_time": "2022-04-10T15:21:35.081Z"
   },
   {
    "duration": 637,
    "start_time": "2022-04-10T15:22:54.331Z"
   },
   {
    "duration": 706,
    "start_time": "2022-04-10T15:23:19.864Z"
   },
   {
    "duration": 652,
    "start_time": "2022-04-10T15:23:27.818Z"
   },
   {
    "duration": 187,
    "start_time": "2022-04-10T15:23:55.890Z"
   },
   {
    "duration": 487,
    "start_time": "2022-04-10T15:24:09.690Z"
   },
   {
    "duration": 527,
    "start_time": "2022-04-10T15:24:21.841Z"
   },
   {
    "duration": 556,
    "start_time": "2022-04-10T15:24:36.802Z"
   },
   {
    "duration": 693,
    "start_time": "2022-04-10T15:26:25.264Z"
   },
   {
    "duration": 534,
    "start_time": "2022-04-10T15:26:50.031Z"
   },
   {
    "duration": 650,
    "start_time": "2022-04-10T15:26:56.303Z"
   },
   {
    "duration": 435,
    "start_time": "2022-04-10T15:27:02.639Z"
   },
   {
    "duration": 2291,
    "start_time": "2022-04-10T16:03:18.827Z"
   },
   {
    "duration": 2352,
    "start_time": "2022-04-10T16:03:58.690Z"
   },
   {
    "duration": 1963,
    "start_time": "2022-04-10T16:04:28.742Z"
   },
   {
    "duration": 250,
    "start_time": "2022-04-10T16:04:30.708Z"
   },
   {
    "duration": 5,
    "start_time": "2022-04-10T16:04:30.959Z"
   },
   {
    "duration": 250,
    "start_time": "2022-04-10T16:04:30.966Z"
   },
   {
    "duration": 37,
    "start_time": "2022-04-10T16:04:31.218Z"
   },
   {
    "duration": 46,
    "start_time": "2022-04-10T16:04:31.257Z"
   },
   {
    "duration": 209,
    "start_time": "2022-04-10T16:04:31.305Z"
   },
   {
    "duration": 608,
    "start_time": "2022-04-10T16:04:31.515Z"
   },
   {
    "duration": 19,
    "start_time": "2022-04-10T16:04:32.125Z"
   },
   {
    "duration": 11,
    "start_time": "2022-04-10T16:04:32.147Z"
   },
   {
    "duration": 6,
    "start_time": "2022-04-10T16:04:32.160Z"
   },
   {
    "duration": 64,
    "start_time": "2022-04-10T16:04:32.168Z"
   },
   {
    "duration": 479,
    "start_time": "2022-04-10T16:04:32.234Z"
   },
   {
    "duration": 336,
    "start_time": "2022-04-10T16:04:32.715Z"
   },
   {
    "duration": 148,
    "start_time": "2022-04-10T16:04:33.054Z"
   },
   {
    "duration": 609,
    "start_time": "2022-04-10T16:04:33.204Z"
   },
   {
    "duration": 54,
    "start_time": "2022-04-10T16:04:33.815Z"
   },
   {
    "duration": 160,
    "start_time": "2022-04-10T16:04:33.871Z"
   },
   {
    "duration": 70,
    "start_time": "2022-04-10T16:04:34.033Z"
   },
   {
    "duration": 260,
    "start_time": "2022-04-10T16:04:34.104Z"
   },
   {
    "duration": 149,
    "start_time": "2022-04-10T16:04:34.366Z"
   },
   {
    "duration": 170,
    "start_time": "2022-04-10T16:04:34.517Z"
   },
   {
    "duration": 76,
    "start_time": "2022-04-10T16:04:34.688Z"
   },
   {
    "duration": 13,
    "start_time": "2022-04-10T16:04:34.766Z"
   },
   {
    "duration": 4,
    "start_time": "2022-04-10T16:04:34.782Z"
   },
   {
    "duration": 15,
    "start_time": "2022-04-10T16:04:34.788Z"
   },
   {
    "duration": 27,
    "start_time": "2022-04-10T16:04:34.805Z"
   },
   {
    "duration": 14,
    "start_time": "2022-04-10T16:04:34.836Z"
   },
   {
    "duration": 7,
    "start_time": "2022-04-10T16:04:34.852Z"
   },
   {
    "duration": 650,
    "start_time": "2022-04-10T16:04:34.861Z"
   },
   {
    "duration": 98,
    "start_time": "2022-04-10T16:04:35.513Z"
   },
   {
    "duration": 32,
    "start_time": "2022-04-10T16:04:35.613Z"
   },
   {
    "duration": 3,
    "start_time": "2022-04-10T16:04:35.648Z"
   },
   {
    "duration": 47,
    "start_time": "2022-04-10T16:04:35.654Z"
   },
   {
    "duration": 11,
    "start_time": "2022-04-10T16:04:35.704Z"
   },
   {
    "duration": 3339,
    "start_time": "2022-04-10T16:04:55.363Z"
   },
   {
    "duration": 1621,
    "start_time": "2022-04-10T16:05:03.574Z"
   },
   {
    "duration": 258,
    "start_time": "2022-04-10T16:05:05.197Z"
   },
   {
    "duration": 5,
    "start_time": "2022-04-10T16:05:05.456Z"
   },
   {
    "duration": 146,
    "start_time": "2022-04-10T16:05:05.463Z"
   },
   {
    "duration": 23,
    "start_time": "2022-04-10T16:05:05.611Z"
   },
   {
    "duration": 24,
    "start_time": "2022-04-10T16:05:05.636Z"
   },
   {
    "duration": 140,
    "start_time": "2022-04-10T16:05:05.662Z"
   },
   {
    "duration": 391,
    "start_time": "2022-04-10T16:05:05.803Z"
   },
   {
    "duration": 18,
    "start_time": "2022-04-10T16:05:06.196Z"
   },
   {
    "duration": 13,
    "start_time": "2022-04-10T16:05:06.217Z"
   },
   {
    "duration": 13,
    "start_time": "2022-04-10T16:05:06.231Z"
   },
   {
    "duration": 65,
    "start_time": "2022-04-10T16:05:06.246Z"
   },
   {
    "duration": 430,
    "start_time": "2022-04-10T16:05:06.313Z"
   },
   {
    "duration": 321,
    "start_time": "2022-04-10T16:05:06.745Z"
   },
   {
    "duration": 145,
    "start_time": "2022-04-10T16:05:07.068Z"
   },
   {
    "duration": 489,
    "start_time": "2022-04-10T16:05:07.215Z"
   },
   {
    "duration": 54,
    "start_time": "2022-04-10T16:05:07.706Z"
   },
   {
    "duration": 153,
    "start_time": "2022-04-10T16:05:07.762Z"
   },
   {
    "duration": 53,
    "start_time": "2022-04-10T16:05:07.917Z"
   },
   {
    "duration": 249,
    "start_time": "2022-04-10T16:05:07.972Z"
   },
   {
    "duration": 162,
    "start_time": "2022-04-10T16:05:08.223Z"
   },
   {
    "duration": 182,
    "start_time": "2022-04-10T16:05:08.387Z"
   },
   {
    "duration": 82,
    "start_time": "2022-04-10T16:05:08.572Z"
   },
   {
    "duration": 13,
    "start_time": "2022-04-10T16:05:08.656Z"
   },
   {
    "duration": 4,
    "start_time": "2022-04-10T16:05:08.670Z"
   },
   {
    "duration": 29,
    "start_time": "2022-04-10T16:05:08.676Z"
   },
   {
    "duration": 42,
    "start_time": "2022-04-10T16:05:08.708Z"
   },
   {
    "duration": 19,
    "start_time": "2022-04-10T16:05:08.755Z"
   },
   {
    "duration": 7,
    "start_time": "2022-04-10T16:05:08.800Z"
   },
   {
    "duration": 381,
    "start_time": "2022-04-10T16:05:08.809Z"
   },
   {
    "duration": 63,
    "start_time": "2022-04-10T16:05:09.192Z"
   },
   {
    "duration": 26,
    "start_time": "2022-04-10T16:05:09.256Z"
   },
   {
    "duration": 21,
    "start_time": "2022-04-10T16:05:09.283Z"
   },
   {
    "duration": 6,
    "start_time": "2022-04-10T16:05:09.306Z"
   },
   {
    "duration": 11,
    "start_time": "2022-04-10T16:05:09.314Z"
   },
   {
    "duration": 2023,
    "start_time": "2022-04-10T16:05:43.428Z"
   },
   {
    "duration": 241,
    "start_time": "2022-04-10T16:05:45.454Z"
   },
   {
    "duration": 4,
    "start_time": "2022-04-10T16:05:45.697Z"
   },
   {
    "duration": 151,
    "start_time": "2022-04-10T16:05:45.704Z"
   },
   {
    "duration": 25,
    "start_time": "2022-04-10T16:05:45.857Z"
   },
   {
    "duration": 37,
    "start_time": "2022-04-10T16:05:45.883Z"
   },
   {
    "duration": 131,
    "start_time": "2022-04-10T16:05:45.922Z"
   },
   {
    "duration": 418,
    "start_time": "2022-04-10T16:05:46.055Z"
   },
   {
    "duration": 27,
    "start_time": "2022-04-10T16:05:46.475Z"
   },
   {
    "duration": 11,
    "start_time": "2022-04-10T16:05:46.505Z"
   },
   {
    "duration": 7,
    "start_time": "2022-04-10T16:05:46.518Z"
   },
   {
    "duration": 44,
    "start_time": "2022-04-10T16:05:46.526Z"
   },
   {
    "duration": 445,
    "start_time": "2022-04-10T16:05:46.572Z"
   },
   {
    "duration": 353,
    "start_time": "2022-04-10T16:05:47.019Z"
   },
   {
    "duration": 227,
    "start_time": "2022-04-10T16:05:47.374Z"
   },
   {
    "duration": 502,
    "start_time": "2022-04-10T16:05:47.603Z"
   },
   {
    "duration": 56,
    "start_time": "2022-04-10T16:05:48.107Z"
   },
   {
    "duration": 152,
    "start_time": "2022-04-10T16:05:48.164Z"
   },
   {
    "duration": 53,
    "start_time": "2022-04-10T16:05:48.318Z"
   },
   {
    "duration": 241,
    "start_time": "2022-04-10T16:05:48.373Z"
   },
   {
    "duration": 163,
    "start_time": "2022-04-10T16:05:48.616Z"
   },
   {
    "duration": 165,
    "start_time": "2022-04-10T16:05:48.781Z"
   },
   {
    "duration": 75,
    "start_time": "2022-04-10T16:05:48.948Z"
   },
   {
    "duration": 12,
    "start_time": "2022-04-10T16:05:49.024Z"
   },
   {
    "duration": 4,
    "start_time": "2022-04-10T16:05:49.037Z"
   },
   {
    "duration": 7,
    "start_time": "2022-04-10T16:05:49.042Z"
   },
   {
    "duration": 59,
    "start_time": "2022-04-10T16:05:49.051Z"
   },
   {
    "duration": 15,
    "start_time": "2022-04-10T16:05:49.113Z"
   },
   {
    "duration": 6,
    "start_time": "2022-04-10T16:05:49.131Z"
   },
   {
    "duration": 662,
    "start_time": "2022-04-10T16:05:49.139Z"
   },
   {
    "duration": 102,
    "start_time": "2022-04-10T16:05:49.804Z"
   },
   {
    "duration": 37,
    "start_time": "2022-04-10T16:05:49.908Z"
   },
   {
    "duration": 4,
    "start_time": "2022-04-10T16:05:49.948Z"
   },
   {
    "duration": 5,
    "start_time": "2022-04-10T16:05:49.954Z"
   },
   {
    "duration": 8,
    "start_time": "2022-04-10T16:05:49.961Z"
   },
   {
    "duration": 187,
    "start_time": "2022-04-10T16:07:48.719Z"
   },
   {
    "duration": 3459,
    "start_time": "2022-04-10T16:07:53.973Z"
   },
   {
    "duration": 3466,
    "start_time": "2022-04-10T16:08:04.035Z"
   },
   {
    "duration": 2137,
    "start_time": "2022-04-10T16:08:15.441Z"
   },
   {
    "duration": 399,
    "start_time": "2022-04-10T16:08:17.580Z"
   },
   {
    "duration": 6,
    "start_time": "2022-04-10T16:08:17.982Z"
   },
   {
    "duration": 282,
    "start_time": "2022-04-10T16:08:17.991Z"
   },
   {
    "duration": 49,
    "start_time": "2022-04-10T16:08:18.276Z"
   },
   {
    "duration": 41,
    "start_time": "2022-04-10T16:08:18.328Z"
   },
   {
    "duration": 248,
    "start_time": "2022-04-10T16:08:18.371Z"
   },
   {
    "duration": 655,
    "start_time": "2022-04-10T16:08:18.621Z"
   },
   {
    "duration": 37,
    "start_time": "2022-04-10T16:08:19.278Z"
   },
   {
    "duration": 17,
    "start_time": "2022-04-10T16:08:19.318Z"
   },
   {
    "duration": 6,
    "start_time": "2022-04-10T16:08:19.337Z"
   },
   {
    "duration": 71,
    "start_time": "2022-04-10T16:08:19.346Z"
   },
   {
    "duration": 749,
    "start_time": "2022-04-10T16:08:19.420Z"
   },
   {
    "duration": 346,
    "start_time": "2022-04-10T16:08:20.171Z"
   },
   {
    "duration": 151,
    "start_time": "2022-04-10T16:08:20.518Z"
   },
   {
    "duration": 535,
    "start_time": "2022-04-10T16:08:20.671Z"
   },
   {
    "duration": 55,
    "start_time": "2022-04-10T16:08:21.209Z"
   },
   {
    "duration": 151,
    "start_time": "2022-04-10T16:08:21.266Z"
   },
   {
    "duration": 53,
    "start_time": "2022-04-10T16:08:21.419Z"
   },
   {
    "duration": 257,
    "start_time": "2022-04-10T16:08:21.474Z"
   },
   {
    "duration": 159,
    "start_time": "2022-04-10T16:08:21.733Z"
   },
   {
    "duration": 268,
    "start_time": "2022-04-10T16:08:21.901Z"
   },
   {
    "duration": 273,
    "start_time": "2022-04-10T16:08:22.171Z"
   },
   {
    "duration": 0,
    "start_time": "2022-04-10T16:08:22.447Z"
   },
   {
    "duration": 0,
    "start_time": "2022-04-10T16:08:22.449Z"
   },
   {
    "duration": 0,
    "start_time": "2022-04-10T16:08:22.451Z"
   },
   {
    "duration": 0,
    "start_time": "2022-04-10T16:08:22.452Z"
   },
   {
    "duration": 0,
    "start_time": "2022-04-10T16:08:22.454Z"
   },
   {
    "duration": 0,
    "start_time": "2022-04-10T16:08:22.456Z"
   },
   {
    "duration": 0,
    "start_time": "2022-04-10T16:08:22.457Z"
   },
   {
    "duration": 0,
    "start_time": "2022-04-10T16:08:22.459Z"
   },
   {
    "duration": 0,
    "start_time": "2022-04-10T16:08:22.460Z"
   },
   {
    "duration": 0,
    "start_time": "2022-04-10T16:08:22.463Z"
   },
   {
    "duration": 0,
    "start_time": "2022-04-10T16:08:22.464Z"
   },
   {
    "duration": 0,
    "start_time": "2022-04-10T16:08:22.465Z"
   },
   {
    "duration": 54,
    "start_time": "2022-04-10T16:08:43.099Z"
   },
   {
    "duration": 51,
    "start_time": "2022-04-10T16:09:03.974Z"
   },
   {
    "duration": 1650,
    "start_time": "2022-04-10T16:09:25.426Z"
   },
   {
    "duration": 249,
    "start_time": "2022-04-10T16:09:27.078Z"
   },
   {
    "duration": 4,
    "start_time": "2022-04-10T16:09:27.329Z"
   },
   {
    "duration": 150,
    "start_time": "2022-04-10T16:09:27.335Z"
   },
   {
    "duration": 48,
    "start_time": "2022-04-10T16:09:27.488Z"
   },
   {
    "duration": 33,
    "start_time": "2022-04-10T16:09:27.540Z"
   },
   {
    "duration": 177,
    "start_time": "2022-04-10T16:09:27.576Z"
   },
   {
    "duration": 610,
    "start_time": "2022-04-10T16:09:27.754Z"
   },
   {
    "duration": 35,
    "start_time": "2022-04-10T16:09:28.366Z"
   },
   {
    "duration": 11,
    "start_time": "2022-04-10T16:09:28.404Z"
   },
   {
    "duration": 8,
    "start_time": "2022-04-10T16:09:28.417Z"
   },
   {
    "duration": 31,
    "start_time": "2022-04-10T16:09:28.426Z"
   },
   {
    "duration": 467,
    "start_time": "2022-04-10T16:09:28.459Z"
   },
   {
    "duration": 334,
    "start_time": "2022-04-10T16:09:28.928Z"
   },
   {
    "duration": 153,
    "start_time": "2022-04-10T16:09:29.264Z"
   },
   {
    "duration": 482,
    "start_time": "2022-04-10T16:09:29.419Z"
   },
   {
    "duration": 56,
    "start_time": "2022-04-10T16:09:29.903Z"
   },
   {
    "duration": 152,
    "start_time": "2022-04-10T16:09:29.960Z"
   },
   {
    "duration": 52,
    "start_time": "2022-04-10T16:09:30.113Z"
   },
   {
    "duration": 244,
    "start_time": "2022-04-10T16:09:30.167Z"
   },
   {
    "duration": 163,
    "start_time": "2022-04-10T16:09:30.413Z"
   },
   {
    "duration": 167,
    "start_time": "2022-04-10T16:09:30.577Z"
   },
   {
    "duration": 56,
    "start_time": "2022-04-10T16:09:30.746Z"
   },
   {
    "duration": 3280,
    "start_time": "2022-04-10T16:09:30.804Z"
   },
   {
    "duration": 0,
    "start_time": "2022-04-10T16:09:34.086Z"
   },
   {
    "duration": 0,
    "start_time": "2022-04-10T16:09:34.088Z"
   },
   {
    "duration": 0,
    "start_time": "2022-04-10T16:09:34.089Z"
   },
   {
    "duration": 0,
    "start_time": "2022-04-10T16:09:34.090Z"
   },
   {
    "duration": 0,
    "start_time": "2022-04-10T16:09:34.091Z"
   },
   {
    "duration": 0,
    "start_time": "2022-04-10T16:09:34.092Z"
   },
   {
    "duration": 0,
    "start_time": "2022-04-10T16:09:34.093Z"
   },
   {
    "duration": 0,
    "start_time": "2022-04-10T16:09:34.094Z"
   },
   {
    "duration": 0,
    "start_time": "2022-04-10T16:09:34.095Z"
   },
   {
    "duration": 0,
    "start_time": "2022-04-10T16:09:34.097Z"
   },
   {
    "duration": 0,
    "start_time": "2022-04-10T16:09:34.099Z"
   },
   {
    "duration": 64,
    "start_time": "2022-04-10T16:10:16.130Z"
   },
   {
    "duration": 52,
    "start_time": "2022-04-10T16:10:38.618Z"
   },
   {
    "duration": 2441,
    "start_time": "2022-04-10T16:11:02.352Z"
   },
   {
    "duration": 50,
    "start_time": "2022-04-10T16:11:11.868Z"
   },
   {
    "duration": 50,
    "start_time": "2022-04-10T16:13:54.399Z"
   },
   {
    "duration": 48,
    "start_time": "2022-04-10T16:14:00.703Z"
   },
   {
    "duration": 1958,
    "start_time": "2022-04-10T16:14:31.871Z"
   },
   {
    "duration": 240,
    "start_time": "2022-04-10T16:14:33.831Z"
   },
   {
    "duration": 5,
    "start_time": "2022-04-10T16:14:34.072Z"
   },
   {
    "duration": 159,
    "start_time": "2022-04-10T16:14:34.079Z"
   },
   {
    "duration": 26,
    "start_time": "2022-04-10T16:14:34.240Z"
   },
   {
    "duration": 23,
    "start_time": "2022-04-10T16:14:34.268Z"
   },
   {
    "duration": 128,
    "start_time": "2022-04-10T16:14:34.292Z"
   },
   {
    "duration": 595,
    "start_time": "2022-04-10T16:14:34.422Z"
   },
   {
    "duration": 23,
    "start_time": "2022-04-10T16:14:35.019Z"
   },
   {
    "duration": 14,
    "start_time": "2022-04-10T16:14:35.046Z"
   },
   {
    "duration": 8,
    "start_time": "2022-04-10T16:14:35.062Z"
   },
   {
    "duration": 38,
    "start_time": "2022-04-10T16:14:35.072Z"
   },
   {
    "duration": 538,
    "start_time": "2022-04-10T16:14:35.112Z"
   },
   {
    "duration": 442,
    "start_time": "2022-04-10T16:14:35.653Z"
   },
   {
    "duration": 147,
    "start_time": "2022-04-10T16:14:36.101Z"
   },
   {
    "duration": 464,
    "start_time": "2022-04-10T16:14:36.250Z"
   },
   {
    "duration": 56,
    "start_time": "2022-04-10T16:14:36.716Z"
   },
   {
    "duration": 162,
    "start_time": "2022-04-10T16:14:36.773Z"
   },
   {
    "duration": 67,
    "start_time": "2022-04-10T16:14:36.937Z"
   },
   {
    "duration": 264,
    "start_time": "2022-04-10T16:14:37.006Z"
   },
   {
    "duration": 154,
    "start_time": "2022-04-10T16:14:37.273Z"
   },
   {
    "duration": 187,
    "start_time": "2022-04-10T16:14:37.429Z"
   },
   {
    "duration": 45,
    "start_time": "2022-04-10T16:14:37.618Z"
   },
   {
    "duration": 3393,
    "start_time": "2022-04-10T16:14:37.664Z"
   },
   {
    "duration": 0,
    "start_time": "2022-04-10T16:14:41.060Z"
   },
   {
    "duration": 0,
    "start_time": "2022-04-10T16:14:41.062Z"
   },
   {
    "duration": 0,
    "start_time": "2022-04-10T16:14:41.063Z"
   },
   {
    "duration": 0,
    "start_time": "2022-04-10T16:14:41.065Z"
   },
   {
    "duration": 0,
    "start_time": "2022-04-10T16:14:41.066Z"
   },
   {
    "duration": 0,
    "start_time": "2022-04-10T16:14:41.067Z"
   },
   {
    "duration": 0,
    "start_time": "2022-04-10T16:14:41.068Z"
   },
   {
    "duration": 0,
    "start_time": "2022-04-10T16:14:41.070Z"
   },
   {
    "duration": 0,
    "start_time": "2022-04-10T16:14:41.071Z"
   },
   {
    "duration": 0,
    "start_time": "2022-04-10T16:14:41.072Z"
   },
   {
    "duration": 0,
    "start_time": "2022-04-10T16:14:41.074Z"
   },
   {
    "duration": 89,
    "start_time": "2022-04-10T16:15:12.036Z"
   },
   {
    "duration": 79,
    "start_time": "2022-04-10T16:15:17.234Z"
   },
   {
    "duration": 75,
    "start_time": "2022-04-10T16:15:27.289Z"
   },
   {
    "duration": 104,
    "start_time": "2022-04-10T16:15:46.619Z"
   },
   {
    "duration": 73,
    "start_time": "2022-04-10T16:16:10.262Z"
   },
   {
    "duration": 51,
    "start_time": "2022-04-10T16:16:56.645Z"
   },
   {
    "duration": 12,
    "start_time": "2022-04-10T16:17:07.386Z"
   },
   {
    "duration": 72,
    "start_time": "2022-04-10T16:18:15.719Z"
   },
   {
    "duration": 80,
    "start_time": "2022-04-10T16:18:25.945Z"
   },
   {
    "duration": 3,
    "start_time": "2022-04-10T16:19:27.523Z"
   },
   {
    "duration": 43,
    "start_time": "2022-04-10T16:21:24.965Z"
   },
   {
    "duration": 47,
    "start_time": "2022-04-10T16:23:48.505Z"
   },
   {
    "duration": 54,
    "start_time": "2022-04-10T16:24:01.468Z"
   },
   {
    "duration": 1998,
    "start_time": "2022-04-10T16:24:12.802Z"
   },
   {
    "duration": 350,
    "start_time": "2022-04-10T16:24:14.802Z"
   },
   {
    "duration": 5,
    "start_time": "2022-04-10T16:24:15.155Z"
   },
   {
    "duration": 175,
    "start_time": "2022-04-10T16:24:15.163Z"
   },
   {
    "duration": 25,
    "start_time": "2022-04-10T16:24:15.340Z"
   },
   {
    "duration": 42,
    "start_time": "2022-04-10T16:24:15.367Z"
   },
   {
    "duration": 134,
    "start_time": "2022-04-10T16:24:15.411Z"
   },
   {
    "duration": 440,
    "start_time": "2022-04-10T16:24:15.547Z"
   },
   {
    "duration": 24,
    "start_time": "2022-04-10T16:24:15.989Z"
   },
   {
    "duration": 11,
    "start_time": "2022-04-10T16:24:16.016Z"
   },
   {
    "duration": 6,
    "start_time": "2022-04-10T16:24:16.029Z"
   },
   {
    "duration": 70,
    "start_time": "2022-04-10T16:24:16.036Z"
   },
   {
    "duration": 494,
    "start_time": "2022-04-10T16:24:16.108Z"
   },
   {
    "duration": 350,
    "start_time": "2022-04-10T16:24:16.604Z"
   },
   {
    "duration": 147,
    "start_time": "2022-04-10T16:24:16.956Z"
   },
   {
    "duration": 511,
    "start_time": "2022-04-10T16:24:17.104Z"
   },
   {
    "duration": 56,
    "start_time": "2022-04-10T16:24:17.617Z"
   },
   {
    "duration": 166,
    "start_time": "2022-04-10T16:24:17.675Z"
   },
   {
    "duration": 61,
    "start_time": "2022-04-10T16:24:17.844Z"
   },
   {
    "duration": 246,
    "start_time": "2022-04-10T16:24:17.907Z"
   },
   {
    "duration": 162,
    "start_time": "2022-04-10T16:24:18.155Z"
   },
   {
    "duration": 183,
    "start_time": "2022-04-10T16:24:18.319Z"
   },
   {
    "duration": 161,
    "start_time": "2022-04-10T16:24:18.504Z"
   },
   {
    "duration": 0,
    "start_time": "2022-04-10T16:24:18.667Z"
   },
   {
    "duration": 0,
    "start_time": "2022-04-10T16:24:18.668Z"
   },
   {
    "duration": 0,
    "start_time": "2022-04-10T16:24:18.669Z"
   },
   {
    "duration": 0,
    "start_time": "2022-04-10T16:24:18.670Z"
   },
   {
    "duration": 0,
    "start_time": "2022-04-10T16:24:18.671Z"
   },
   {
    "duration": 0,
    "start_time": "2022-04-10T16:24:18.672Z"
   },
   {
    "duration": 0,
    "start_time": "2022-04-10T16:24:18.673Z"
   },
   {
    "duration": 0,
    "start_time": "2022-04-10T16:24:18.674Z"
   },
   {
    "duration": 0,
    "start_time": "2022-04-10T16:24:18.675Z"
   },
   {
    "duration": 0,
    "start_time": "2022-04-10T16:24:18.677Z"
   },
   {
    "duration": 0,
    "start_time": "2022-04-10T16:24:18.678Z"
   },
   {
    "duration": 0,
    "start_time": "2022-04-10T16:24:18.701Z"
   },
   {
    "duration": 53,
    "start_time": "2022-04-10T16:25:56.382Z"
   },
   {
    "duration": 12,
    "start_time": "2022-04-10T16:26:03.317Z"
   },
   {
    "duration": 3,
    "start_time": "2022-04-10T16:26:04.925Z"
   },
   {
    "duration": 5,
    "start_time": "2022-04-10T16:26:06.348Z"
   },
   {
    "duration": 1667,
    "start_time": "2022-04-10T16:27:28.688Z"
   },
   {
    "duration": 260,
    "start_time": "2022-04-10T16:27:30.357Z"
   },
   {
    "duration": 4,
    "start_time": "2022-04-10T16:27:30.619Z"
   },
   {
    "duration": 165,
    "start_time": "2022-04-10T16:27:30.626Z"
   },
   {
    "duration": 28,
    "start_time": "2022-04-10T16:27:30.792Z"
   },
   {
    "duration": 25,
    "start_time": "2022-04-10T16:27:30.821Z"
   },
   {
    "duration": 144,
    "start_time": "2022-04-10T16:27:30.847Z"
   },
   {
    "duration": 417,
    "start_time": "2022-04-10T16:27:31.000Z"
   },
   {
    "duration": 20,
    "start_time": "2022-04-10T16:27:31.419Z"
   },
   {
    "duration": 12,
    "start_time": "2022-04-10T16:27:31.443Z"
   },
   {
    "duration": 17,
    "start_time": "2022-04-10T16:27:31.457Z"
   },
   {
    "duration": 25,
    "start_time": "2022-04-10T16:27:31.501Z"
   },
   {
    "duration": 443,
    "start_time": "2022-04-10T16:27:31.529Z"
   },
   {
    "duration": 324,
    "start_time": "2022-04-10T16:27:31.975Z"
   },
   {
    "duration": 141,
    "start_time": "2022-04-10T16:27:32.301Z"
   },
   {
    "duration": 465,
    "start_time": "2022-04-10T16:27:32.444Z"
   },
   {
    "duration": 53,
    "start_time": "2022-04-10T16:27:32.911Z"
   },
   {
    "duration": 151,
    "start_time": "2022-04-10T16:27:32.966Z"
   },
   {
    "duration": 53,
    "start_time": "2022-04-10T16:27:33.118Z"
   },
   {
    "duration": 238,
    "start_time": "2022-04-10T16:27:33.173Z"
   },
   {
    "duration": 151,
    "start_time": "2022-04-10T16:27:33.413Z"
   },
   {
    "duration": 172,
    "start_time": "2022-04-10T16:27:33.566Z"
   },
   {
    "duration": 66,
    "start_time": "2022-04-10T16:27:33.739Z"
   },
   {
    "duration": 12,
    "start_time": "2022-04-10T16:27:33.806Z"
   },
   {
    "duration": 4,
    "start_time": "2022-04-10T16:27:33.820Z"
   },
   {
    "duration": 5,
    "start_time": "2022-04-10T16:27:33.826Z"
   },
   {
    "duration": 25,
    "start_time": "2022-04-10T16:27:33.832Z"
   },
   {
    "duration": 48,
    "start_time": "2022-04-10T16:27:33.860Z"
   },
   {
    "duration": 5,
    "start_time": "2022-04-10T16:27:33.910Z"
   },
   {
    "duration": 364,
    "start_time": "2022-04-10T16:27:33.917Z"
   },
   {
    "duration": 67,
    "start_time": "2022-04-10T16:27:34.282Z"
   },
   {
    "duration": 26,
    "start_time": "2022-04-10T16:27:34.350Z"
   },
   {
    "duration": 4,
    "start_time": "2022-04-10T16:27:34.377Z"
   },
   {
    "duration": 4,
    "start_time": "2022-04-10T16:27:34.401Z"
   },
   {
    "duration": 13,
    "start_time": "2022-04-10T16:27:34.407Z"
   },
   {
    "duration": 11,
    "start_time": "2022-04-10T16:41:41.841Z"
   },
   {
    "duration": 5,
    "start_time": "2022-04-10T16:42:05.389Z"
   },
   {
    "duration": 45,
    "start_time": "2022-04-10T19:42:43.412Z"
   },
   {
    "duration": 41,
    "start_time": "2022-04-10T19:43:59.165Z"
   },
   {
    "duration": 40,
    "start_time": "2022-04-10T19:50:48.903Z"
   },
   {
    "duration": 25,
    "start_time": "2022-04-10T19:51:03.548Z"
   },
   {
    "duration": 86,
    "start_time": "2022-04-10T19:57:40.594Z"
   },
   {
    "duration": 88,
    "start_time": "2022-04-10T19:57:53.249Z"
   },
   {
    "duration": 58,
    "start_time": "2022-04-10T19:57:59.953Z"
   },
   {
    "duration": 93,
    "start_time": "2022-04-10T19:58:23.265Z"
   },
   {
    "duration": 183,
    "start_time": "2022-04-10T19:59:24.494Z"
   },
   {
    "duration": 64,
    "start_time": "2022-04-10T19:59:38.959Z"
   },
   {
    "duration": 9,
    "start_time": "2022-04-10T20:05:17.076Z"
   },
   {
    "duration": 14,
    "start_time": "2022-04-10T20:08:28.313Z"
   },
   {
    "duration": 20,
    "start_time": "2022-04-10T20:09:04.408Z"
   },
   {
    "duration": 121,
    "start_time": "2022-04-10T20:09:27.223Z"
   },
   {
    "duration": 10,
    "start_time": "2022-04-10T20:09:43.327Z"
   },
   {
    "duration": 11,
    "start_time": "2022-04-10T20:20:26.541Z"
   },
   {
    "duration": 9,
    "start_time": "2022-04-10T20:20:39.378Z"
   },
   {
    "duration": 11,
    "start_time": "2022-04-10T20:21:16.540Z"
   },
   {
    "duration": 16,
    "start_time": "2022-04-10T20:21:24.507Z"
   },
   {
    "duration": 11,
    "start_time": "2022-04-10T20:21:28.246Z"
   },
   {
    "duration": 11,
    "start_time": "2022-04-10T20:21:37.972Z"
   },
   {
    "duration": 4,
    "start_time": "2022-04-10T20:25:18.859Z"
   },
   {
    "duration": 43,
    "start_time": "2022-04-10T20:26:08.490Z"
   },
   {
    "duration": 33,
    "start_time": "2022-04-10T20:26:50.289Z"
   },
   {
    "duration": 31,
    "start_time": "2022-04-10T20:26:54.560Z"
   },
   {
    "duration": 36,
    "start_time": "2022-04-10T20:27:07.137Z"
   },
   {
    "duration": 41,
    "start_time": "2022-04-10T20:27:11.608Z"
   },
   {
    "duration": 40,
    "start_time": "2022-04-10T20:27:18.879Z"
   },
   {
    "duration": 38,
    "start_time": "2022-04-10T20:27:34.616Z"
   },
   {
    "duration": 42,
    "start_time": "2022-04-10T20:27:39.758Z"
   },
   {
    "duration": 39,
    "start_time": "2022-04-10T20:29:15.823Z"
   },
   {
    "duration": 42,
    "start_time": "2022-04-10T20:30:28.757Z"
   },
   {
    "duration": 37,
    "start_time": "2022-04-10T20:31:19.229Z"
   },
   {
    "duration": 2069,
    "start_time": "2022-04-10T20:33:11.879Z"
   },
   {
    "duration": 279,
    "start_time": "2022-04-10T20:33:13.950Z"
   },
   {
    "duration": 6,
    "start_time": "2022-04-10T20:33:14.231Z"
   },
   {
    "duration": 163,
    "start_time": "2022-04-10T20:33:14.239Z"
   },
   {
    "duration": 31,
    "start_time": "2022-04-10T20:33:14.404Z"
   },
   {
    "duration": 34,
    "start_time": "2022-04-10T20:33:14.437Z"
   },
   {
    "duration": 199,
    "start_time": "2022-04-10T20:33:14.473Z"
   },
   {
    "duration": 630,
    "start_time": "2022-04-10T20:33:14.674Z"
   },
   {
    "duration": 22,
    "start_time": "2022-04-10T20:33:15.306Z"
   },
   {
    "duration": 18,
    "start_time": "2022-04-10T20:33:15.332Z"
   },
   {
    "duration": 4,
    "start_time": "2022-04-10T20:33:15.352Z"
   },
   {
    "duration": 67,
    "start_time": "2022-04-10T20:33:15.358Z"
   },
   {
    "duration": 475,
    "start_time": "2022-04-10T20:33:15.427Z"
   },
   {
    "duration": 375,
    "start_time": "2022-04-10T20:33:15.905Z"
   },
   {
    "duration": 169,
    "start_time": "2022-04-10T20:33:16.282Z"
   },
   {
    "duration": 543,
    "start_time": "2022-04-10T20:33:16.453Z"
   },
   {
    "duration": 64,
    "start_time": "2022-04-10T20:33:16.999Z"
   },
   {
    "duration": 212,
    "start_time": "2022-04-10T20:33:17.065Z"
   },
   {
    "duration": 85,
    "start_time": "2022-04-10T20:33:17.279Z"
   },
   {
    "duration": 320,
    "start_time": "2022-04-10T20:33:17.366Z"
   },
   {
    "duration": 152,
    "start_time": "2022-04-10T20:33:17.688Z"
   },
   {
    "duration": 251,
    "start_time": "2022-04-10T20:33:17.842Z"
   },
   {
    "duration": 88,
    "start_time": "2022-04-10T20:33:18.095Z"
   },
   {
    "duration": 25,
    "start_time": "2022-04-10T20:33:18.185Z"
   },
   {
    "duration": 5,
    "start_time": "2022-04-10T20:33:18.212Z"
   },
   {
    "duration": 6,
    "start_time": "2022-04-10T20:33:18.219Z"
   },
   {
    "duration": 28,
    "start_time": "2022-04-10T20:33:18.227Z"
   },
   {
    "duration": 46,
    "start_time": "2022-04-10T20:33:18.259Z"
   },
   {
    "duration": 6,
    "start_time": "2022-04-10T20:33:18.308Z"
   },
   {
    "duration": 430,
    "start_time": "2022-04-10T20:33:18.316Z"
   },
   {
    "duration": 75,
    "start_time": "2022-04-10T20:33:18.748Z"
   },
   {
    "duration": 3270,
    "start_time": "2022-04-10T20:33:18.826Z"
   },
   {
    "duration": 0,
    "start_time": "2022-04-10T20:33:22.098Z"
   },
   {
    "duration": 68,
    "start_time": "2022-04-10T20:33:50.164Z"
   },
   {
    "duration": 36,
    "start_time": "2022-04-10T20:33:52.187Z"
   },
   {
    "duration": 1858,
    "start_time": "2022-04-10T20:34:00.820Z"
   },
   {
    "duration": 329,
    "start_time": "2022-04-10T20:34:02.680Z"
   },
   {
    "duration": 6,
    "start_time": "2022-04-10T20:34:03.013Z"
   },
   {
    "duration": 231,
    "start_time": "2022-04-10T20:34:03.021Z"
   },
   {
    "duration": 22,
    "start_time": "2022-04-10T20:34:03.254Z"
   },
   {
    "duration": 34,
    "start_time": "2022-04-10T20:34:03.278Z"
   },
   {
    "duration": 148,
    "start_time": "2022-04-10T20:34:03.314Z"
   },
   {
    "duration": 426,
    "start_time": "2022-04-10T20:34:03.464Z"
   },
   {
    "duration": 30,
    "start_time": "2022-04-10T20:34:03.892Z"
   },
   {
    "duration": 10,
    "start_time": "2022-04-10T20:34:03.924Z"
   },
   {
    "duration": 18,
    "start_time": "2022-04-10T20:34:03.936Z"
   },
   {
    "duration": 37,
    "start_time": "2022-04-10T20:34:03.956Z"
   },
   {
    "duration": 465,
    "start_time": "2022-04-10T20:34:03.995Z"
   },
   {
    "duration": 365,
    "start_time": "2022-04-10T20:34:04.462Z"
   },
   {
    "duration": 163,
    "start_time": "2022-04-10T20:34:04.829Z"
   },
   {
    "duration": 566,
    "start_time": "2022-04-10T20:34:04.994Z"
   },
   {
    "duration": 68,
    "start_time": "2022-04-10T20:34:05.562Z"
   },
   {
    "duration": 157,
    "start_time": "2022-04-10T20:34:05.631Z"
   },
   {
    "duration": 70,
    "start_time": "2022-04-10T20:34:05.790Z"
   },
   {
    "duration": 319,
    "start_time": "2022-04-10T20:34:05.862Z"
   },
   {
    "duration": 188,
    "start_time": "2022-04-10T20:34:06.184Z"
   },
   {
    "duration": 192,
    "start_time": "2022-04-10T20:34:06.374Z"
   },
   {
    "duration": 82,
    "start_time": "2022-04-10T20:34:06.568Z"
   },
   {
    "duration": 13,
    "start_time": "2022-04-10T20:34:06.652Z"
   },
   {
    "duration": 6,
    "start_time": "2022-04-10T20:34:06.672Z"
   },
   {
    "duration": 30,
    "start_time": "2022-04-10T20:34:06.680Z"
   },
   {
    "duration": 36,
    "start_time": "2022-04-10T20:34:06.712Z"
   },
   {
    "duration": 15,
    "start_time": "2022-04-10T20:34:06.752Z"
   },
   {
    "duration": 16,
    "start_time": "2022-04-10T20:34:06.769Z"
   },
   {
    "duration": 616,
    "start_time": "2022-04-10T20:34:06.787Z"
   },
   {
    "duration": 99,
    "start_time": "2022-04-10T20:34:07.408Z"
   },
   {
    "duration": 43,
    "start_time": "2022-04-10T20:34:07.511Z"
   },
   {
    "duration": 70,
    "start_time": "2022-04-10T20:34:07.555Z"
   },
   {
    "duration": 1614,
    "start_time": "2022-04-10T21:55:56.193Z"
   },
   {
    "duration": 323,
    "start_time": "2022-04-10T21:55:57.812Z"
   },
   {
    "duration": 5,
    "start_time": "2022-04-10T21:55:58.137Z"
   },
   {
    "duration": 161,
    "start_time": "2022-04-10T21:55:58.144Z"
   },
   {
    "duration": 27,
    "start_time": "2022-04-10T21:55:58.310Z"
   },
   {
    "duration": 25,
    "start_time": "2022-04-10T21:55:58.339Z"
   },
   {
    "duration": 147,
    "start_time": "2022-04-10T21:55:58.366Z"
   },
   {
    "duration": 432,
    "start_time": "2022-04-10T21:55:58.515Z"
   },
   {
    "duration": 20,
    "start_time": "2022-04-10T21:55:58.949Z"
   },
   {
    "duration": 34,
    "start_time": "2022-04-10T21:55:58.972Z"
   },
   {
    "duration": 8,
    "start_time": "2022-04-10T21:55:59.009Z"
   },
   {
    "duration": 24,
    "start_time": "2022-04-10T21:55:59.019Z"
   },
   {
    "duration": 462,
    "start_time": "2022-04-10T21:55:59.044Z"
   },
   {
    "duration": 342,
    "start_time": "2022-04-10T21:55:59.508Z"
   },
   {
    "duration": 141,
    "start_time": "2022-04-10T21:55:59.852Z"
   },
   {
    "duration": 511,
    "start_time": "2022-04-10T21:55:59.995Z"
   },
   {
    "duration": 55,
    "start_time": "2022-04-10T21:56:00.509Z"
   },
   {
    "duration": 159,
    "start_time": "2022-04-10T21:56:00.566Z"
   },
   {
    "duration": 49,
    "start_time": "2022-04-10T21:56:00.726Z"
   },
   {
    "duration": 254,
    "start_time": "2022-04-10T21:56:00.777Z"
   },
   {
    "duration": 153,
    "start_time": "2022-04-10T21:56:01.033Z"
   },
   {
    "duration": 173,
    "start_time": "2022-04-10T21:56:01.188Z"
   },
   {
    "duration": 80,
    "start_time": "2022-04-10T21:56:01.362Z"
   },
   {
    "duration": 12,
    "start_time": "2022-04-10T21:56:01.443Z"
   },
   {
    "duration": 7,
    "start_time": "2022-04-10T21:56:01.456Z"
   },
   {
    "duration": 22,
    "start_time": "2022-04-10T21:56:01.464Z"
   },
   {
    "duration": 45,
    "start_time": "2022-04-10T21:56:01.487Z"
   },
   {
    "duration": 15,
    "start_time": "2022-04-10T21:56:01.536Z"
   },
   {
    "duration": 5,
    "start_time": "2022-04-10T21:56:01.553Z"
   },
   {
    "duration": 602,
    "start_time": "2022-04-10T21:56:01.561Z"
   },
   {
    "duration": 96,
    "start_time": "2022-04-10T21:56:02.165Z"
   },
   {
    "duration": 54,
    "start_time": "2022-04-10T21:56:02.263Z"
   },
   {
    "duration": 39,
    "start_time": "2022-04-10T21:56:02.319Z"
   },
   {
    "duration": 69,
    "start_time": "2022-04-11T15:29:55.607Z"
   },
   {
    "duration": 1863,
    "start_time": "2022-04-11T15:30:01.866Z"
   },
   {
    "duration": 3136,
    "start_time": "2022-04-11T15:30:03.731Z"
   },
   {
    "duration": 5,
    "start_time": "2022-04-11T15:30:06.869Z"
   },
   {
    "duration": 167,
    "start_time": "2022-04-11T15:30:06.876Z"
   },
   {
    "duration": 32,
    "start_time": "2022-04-11T15:30:07.045Z"
   },
   {
    "duration": 28,
    "start_time": "2022-04-11T15:30:07.080Z"
   },
   {
    "duration": 155,
    "start_time": "2022-04-11T15:30:07.131Z"
   },
   {
    "duration": 444,
    "start_time": "2022-04-11T15:30:07.288Z"
   },
   {
    "duration": 22,
    "start_time": "2022-04-11T15:30:07.734Z"
   },
   {
    "duration": 14,
    "start_time": "2022-04-11T15:30:07.758Z"
   },
   {
    "duration": 15,
    "start_time": "2022-04-11T15:30:07.774Z"
   },
   {
    "duration": 75,
    "start_time": "2022-04-11T15:30:07.791Z"
   },
   {
    "duration": 541,
    "start_time": "2022-04-11T15:30:07.869Z"
   },
   {
    "duration": 406,
    "start_time": "2022-04-11T15:30:08.412Z"
   },
   {
    "duration": 176,
    "start_time": "2022-04-11T15:30:08.821Z"
   },
   {
    "duration": 582,
    "start_time": "2022-04-11T15:30:09.000Z"
   },
   {
    "duration": 68,
    "start_time": "2022-04-11T15:30:09.583Z"
   },
   {
    "duration": 175,
    "start_time": "2022-04-11T15:30:09.653Z"
   },
   {
    "duration": 55,
    "start_time": "2022-04-11T15:30:09.829Z"
   },
   {
    "duration": 286,
    "start_time": "2022-04-11T15:30:09.886Z"
   },
   {
    "duration": 211,
    "start_time": "2022-04-11T15:30:10.174Z"
   },
   {
    "duration": 216,
    "start_time": "2022-04-11T15:30:10.387Z"
   },
   {
    "duration": 70,
    "start_time": "2022-04-11T15:30:10.605Z"
   },
   {
    "duration": 11,
    "start_time": "2022-04-11T15:30:10.677Z"
   },
   {
    "duration": 5,
    "start_time": "2022-04-11T15:30:10.690Z"
   },
   {
    "duration": 9,
    "start_time": "2022-04-11T15:30:10.697Z"
   },
   {
    "duration": 47,
    "start_time": "2022-04-11T15:30:10.708Z"
   },
   {
    "duration": 11,
    "start_time": "2022-04-11T15:30:10.759Z"
   },
   {
    "duration": 5,
    "start_time": "2022-04-11T15:30:10.772Z"
   },
   {
    "duration": 398,
    "start_time": "2022-04-11T15:30:10.779Z"
   },
   {
    "duration": 71,
    "start_time": "2022-04-11T15:30:11.179Z"
   },
   {
    "duration": 29,
    "start_time": "2022-04-11T15:30:11.252Z"
   },
   {
    "duration": 62,
    "start_time": "2022-04-11T15:30:11.283Z"
   },
   {
    "duration": 49,
    "start_time": "2022-04-11T15:30:33.980Z"
   },
   {
    "duration": 41,
    "start_time": "2022-04-11T15:33:41.336Z"
   },
   {
    "duration": 55,
    "start_time": "2022-04-11T15:33:52.680Z"
   },
   {
    "duration": 52,
    "start_time": "2022-04-11T15:34:15.623Z"
   },
   {
    "duration": 46,
    "start_time": "2022-04-11T15:34:20.255Z"
   },
   {
    "duration": 44,
    "start_time": "2022-04-11T15:42:34.746Z"
   },
   {
    "duration": 46,
    "start_time": "2022-04-11T15:42:43.353Z"
   },
   {
    "duration": 42,
    "start_time": "2022-04-11T16:42:26.259Z"
   },
   {
    "duration": 44,
    "start_time": "2022-04-11T16:42:48.873Z"
   },
   {
    "duration": 50,
    "start_time": "2022-04-11T18:11:30.511Z"
   },
   {
    "duration": 38,
    "start_time": "2022-04-11T18:11:41.006Z"
   },
   {
    "duration": 38,
    "start_time": "2022-04-11T18:11:45.873Z"
   },
   {
    "duration": 1524,
    "start_time": "2022-04-11T18:17:51.846Z"
   },
   {
    "duration": 264,
    "start_time": "2022-04-11T18:17:53.372Z"
   },
   {
    "duration": 4,
    "start_time": "2022-04-11T18:17:53.638Z"
   },
   {
    "duration": 156,
    "start_time": "2022-04-11T18:17:53.644Z"
   },
   {
    "duration": 38,
    "start_time": "2022-04-11T18:17:53.802Z"
   },
   {
    "duration": 26,
    "start_time": "2022-04-11T18:17:53.842Z"
   },
   {
    "duration": 148,
    "start_time": "2022-04-11T18:17:53.871Z"
   },
   {
    "duration": 403,
    "start_time": "2022-04-11T18:17:54.021Z"
   },
   {
    "duration": 20,
    "start_time": "2022-04-11T18:17:54.432Z"
   },
   {
    "duration": 12,
    "start_time": "2022-04-11T18:17:54.455Z"
   },
   {
    "duration": 6,
    "start_time": "2022-04-11T18:17:54.469Z"
   },
   {
    "duration": 59,
    "start_time": "2022-04-11T18:17:54.477Z"
   },
   {
    "duration": 469,
    "start_time": "2022-04-11T18:17:54.538Z"
   },
   {
    "duration": 380,
    "start_time": "2022-04-11T18:17:55.009Z"
   },
   {
    "duration": 162,
    "start_time": "2022-04-11T18:17:55.391Z"
   },
   {
    "duration": 618,
    "start_time": "2022-04-11T18:17:55.554Z"
   },
   {
    "duration": 62,
    "start_time": "2022-04-11T18:17:56.174Z"
   },
   {
    "duration": 163,
    "start_time": "2022-04-11T18:17:56.237Z"
   },
   {
    "duration": 61,
    "start_time": "2022-04-11T18:17:56.402Z"
   },
   {
    "duration": 237,
    "start_time": "2022-04-11T18:17:56.465Z"
   },
   {
    "duration": 162,
    "start_time": "2022-04-11T18:17:56.704Z"
   },
   {
    "duration": 195,
    "start_time": "2022-04-11T18:17:56.868Z"
   },
   {
    "duration": 72,
    "start_time": "2022-04-11T18:17:57.065Z"
   },
   {
    "duration": 13,
    "start_time": "2022-04-11T18:17:57.138Z"
   },
   {
    "duration": 6,
    "start_time": "2022-04-11T18:17:57.153Z"
   },
   {
    "duration": 21,
    "start_time": "2022-04-11T18:17:57.160Z"
   },
   {
    "duration": 27,
    "start_time": "2022-04-11T18:17:57.182Z"
   },
   {
    "duration": 26,
    "start_time": "2022-04-11T18:17:57.212Z"
   },
   {
    "duration": 5,
    "start_time": "2022-04-11T18:17:57.240Z"
   },
   {
    "duration": 374,
    "start_time": "2022-04-11T18:17:57.246Z"
   },
   {
    "duration": 64,
    "start_time": "2022-04-11T18:17:57.621Z"
   },
   {
    "duration": 28,
    "start_time": "2022-04-11T18:17:57.686Z"
   },
   {
    "duration": 37,
    "start_time": "2022-04-11T18:17:57.731Z"
   },
   {
    "duration": 3221,
    "start_time": "2022-05-01T14:06:43.067Z"
   },
   {
    "duration": 564,
    "start_time": "2022-05-01T14:06:46.290Z"
   },
   {
    "duration": 4,
    "start_time": "2022-05-01T14:06:46.855Z"
   },
   {
    "duration": 143,
    "start_time": "2022-05-01T14:06:46.861Z"
   },
   {
    "duration": 20,
    "start_time": "2022-05-01T14:06:47.005Z"
   },
   {
    "duration": 22,
    "start_time": "2022-05-01T14:06:47.027Z"
   },
   {
    "duration": 134,
    "start_time": "2022-05-01T14:06:47.051Z"
   },
   {
    "duration": 376,
    "start_time": "2022-05-01T14:06:47.187Z"
   },
   {
    "duration": 23,
    "start_time": "2022-05-01T14:06:47.564Z"
   },
   {
    "duration": 10,
    "start_time": "2022-05-01T14:06:47.589Z"
   },
   {
    "duration": 6,
    "start_time": "2022-05-01T14:06:47.600Z"
   },
   {
    "duration": 27,
    "start_time": "2022-05-01T14:06:47.608Z"
   },
   {
    "duration": 455,
    "start_time": "2022-05-01T14:06:47.636Z"
   },
   {
    "duration": 332,
    "start_time": "2022-05-01T14:06:48.092Z"
   },
   {
    "duration": 145,
    "start_time": "2022-05-01T14:06:48.425Z"
   },
   {
    "duration": 528,
    "start_time": "2022-05-01T14:06:48.573Z"
   },
   {
    "duration": 53,
    "start_time": "2022-05-01T14:06:49.103Z"
   },
   {
    "duration": 157,
    "start_time": "2022-05-01T14:06:49.157Z"
   },
   {
    "duration": 60,
    "start_time": "2022-05-01T14:06:49.315Z"
   },
   {
    "duration": 239,
    "start_time": "2022-05-01T14:06:49.376Z"
   },
   {
    "duration": 158,
    "start_time": "2022-05-01T14:06:49.617Z"
   },
   {
    "duration": 175,
    "start_time": "2022-05-01T14:06:49.776Z"
   },
   {
    "duration": 64,
    "start_time": "2022-05-01T14:06:49.952Z"
   },
   {
    "duration": 12,
    "start_time": "2022-05-01T14:06:50.017Z"
   },
   {
    "duration": 4,
    "start_time": "2022-05-01T14:06:50.031Z"
   },
   {
    "duration": 8,
    "start_time": "2022-05-01T14:06:50.037Z"
   },
   {
    "duration": 48,
    "start_time": "2022-05-01T14:06:50.047Z"
   },
   {
    "duration": 11,
    "start_time": "2022-05-01T14:06:50.098Z"
   },
   {
    "duration": 5,
    "start_time": "2022-05-01T14:06:50.111Z"
   },
   {
    "duration": 364,
    "start_time": "2022-05-01T14:06:50.118Z"
   },
   {
    "duration": 57,
    "start_time": "2022-05-01T14:06:50.484Z"
   },
   {
    "duration": 37,
    "start_time": "2022-05-01T14:06:50.543Z"
   },
   {
    "duration": 34,
    "start_time": "2022-05-01T14:06:50.582Z"
   }
  ],
  "kernelspec": {
   "display_name": "Python 3 (ipykernel)",
   "language": "python",
   "name": "python3"
  },
  "language_info": {
   "codemirror_mode": {
    "name": "ipython",
    "version": 3
   },
   "file_extension": ".py",
   "mimetype": "text/x-python",
   "name": "python",
   "nbconvert_exporter": "python",
   "pygments_lexer": "ipython3",
   "version": "3.9.5"
  },
  "toc": {
   "base_numbering": 1,
   "nav_menu": {},
   "number_sections": false,
   "sideBar": true,
   "skip_h1_title": false,
   "title_cell": "Содержание",
   "title_sidebar": "Содержание",
   "toc_cell": true,
   "toc_position": {
    "height": "calc(100% - 180px)",
    "left": "10px",
    "top": "150px",
    "width": "409.08px"
   },
   "toc_section_display": true,
   "toc_window_display": true
  }
 },
 "nbformat": 4,
 "nbformat_minor": 2
}
