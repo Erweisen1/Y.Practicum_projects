{
 "cells": [
  {
   "cell_type": "markdown",
   "metadata": {
    "toc": true
   },
   "source": [
    "<h1>Содержание<span class=\"tocSkip\"></span></h1>\n",
    "<div class=\"toc\"><ul class=\"toc-item\"><li><span><a href=\"#Изучение-данных\" data-toc-modified-id=\"Изучение-данных-1\">Изучение данных</a></span></li><li><span><a href=\"#Подготовка-данных\" data-toc-modified-id=\"Подготовка-данных-2\">Подготовка данных</a></span><ul class=\"toc-item\"><li><span><a href=\"#Приведение-названий-колонок-к-нижнему-регистру\" data-toc-modified-id=\"Приведение-названий-колонок-к-нижнему-регистру-2.1\">Приведение названий колонок к нижнему регистру</a></span></li><li><span><a href=\"#Обработка-пропущенных-значений-и-типов-данных\" data-toc-modified-id=\"Обработка-пропущенных-значений-и-типов-данных-2.2\">Обработка пропущенных значений и типов данных</a></span></li><li><span><a href=\"#Дополнительные-расчеты\" data-toc-modified-id=\"Дополнительные-расчеты-2.3\">Дополнительные расчеты</a></span></li><li><span><a href=\"#Вывод\" data-toc-modified-id=\"Вывод-2.4\">Вывод</a></span></li></ul></li><li><span><a href=\"#Исследовательский-анализ-данных\" data-toc-modified-id=\"Исследовательский-анализ-данных-3\">Исследовательский анализ данных</a></span><ul class=\"toc-item\"><li><span><a href=\"#Количество-выпускаемых-игр-по-годам\" data-toc-modified-id=\"Количество-выпускаемых-игр-по-годам-3.1\">Количество выпускаемых игр по годам</a></span></li><li><span><a href=\"#Количество-выпускаемых-игр-по-платформам\" data-toc-modified-id=\"Количество-выпускаемых-игр-по-платформам-3.2\">Количество выпускаемых игр по платформам</a></span></li><li><span><a href=\"#Определение-потенциально-прибыльных-платформ\" data-toc-modified-id=\"Определение-потенциально-прибыльных-платформ-3.3\">Определение потенциально прибыльных платформ</a></span></li><li><span><a href=\"#Глобальные-продажи-игр-по-платформам\" data-toc-modified-id=\"Глобальные-продажи-игр-по-платформам-3.4\">Глобальные продажи игр по платформам</a></span></li><li><span><a href=\"#Влияние-отзывов-на-продажи\" data-toc-modified-id=\"Влияние-отзывов-на-продажи-3.5\">Влияние отзывов на продажи</a></span><ul class=\"toc-item\"><li><span><a href=\"#Влияние-отзывов-на-продажи-на-платформе-PS4:\" data-toc-modified-id=\"Влияние-отзывов-на-продажи-на-платформе-PS4:-3.5.1\">Влияние отзывов на продажи на платформе PS4:</a></span></li><li><span><a href=\"#Влияние-отзывов-на-продажи-на-других-платформах:\" data-toc-modified-id=\"Влияние-отзывов-на-продажи-на-других-платформах:-3.5.2\">Влияние отзывов на продажи на других платформах:</a></span></li></ul></li><li><span><a href=\"#Распределение-игр-по-жанрам\" data-toc-modified-id=\"Распределение-игр-по-жанрам-3.6\">Распределение игр по жанрам</a></span></li><li><span><a href=\"#Вывод\" data-toc-modified-id=\"Вывод-3.7\">Вывод</a></span></li></ul></li><li><span><a href=\"#Портрет-пользователя-каждого-региона\" data-toc-modified-id=\"Портрет-пользователя-каждого-региона-4\">Портрет пользователя каждого региона</a></span><ul class=\"toc-item\"><li><span><a href=\"#Самые-популярные-платформы\" data-toc-modified-id=\"Самые-популярные-платформы-4.1\">Самые популярные платформы</a></span></li><li><span><a href=\"#Самые-популярные-жанры\" data-toc-modified-id=\"Самые-популярные-жанры-4.2\">Самые популярные жанры</a></span></li><li><span><a href=\"#Влияние-рейтинга-ESRB-на-продажи\" data-toc-modified-id=\"Влияние-рейтинга-ESRB-на-продажи-4.3\">Влияние рейтинга ESRB на продажи</a></span></li><li><span><a href=\"#Вывод\" data-toc-modified-id=\"Вывод-4.4\">Вывод</a></span></li></ul></li><li><span><a href=\"#Проверка-гипотез\" data-toc-modified-id=\"Проверка-гипотез-5\">Проверка гипотез</a></span><ul class=\"toc-item\"><li><span><a href=\"#Средние-пользовательские-рейтинги-платформ-Xbox-One-и-PC\" data-toc-modified-id=\"Средние-пользовательские-рейтинги-платформ-Xbox-One-и-PC-5.1\">Средние пользовательские рейтинги платформ Xbox One и PC</a></span></li><li><span><a href=\"#Средние-пользовательские-рейтинги-жанров-Action-и-Sports\" data-toc-modified-id=\"Средние-пользовательские-рейтинги-жанров-Action-и-Sports-5.2\">Средние пользовательские рейтинги жанров Action и Sports</a></span></li><li><span><a href=\"#Вывод\" data-toc-modified-id=\"Вывод-5.3\">Вывод</a></span></li></ul></li><li><span><a href=\"#Общий-вывод\" data-toc-modified-id=\"Общий-вывод-6\">Общий вывод</a></span></li></ul></div>"
   ]
  },
  {
   "cell_type": "markdown",
   "metadata": {},
   "source": [
    "# Описание проекта"
   ]
  },
  {
   "cell_type": "markdown",
   "metadata": {},
   "source": [
    "Из открытых источников доступны исторические данные о продажах игр, оценки пользователей и экспертов, жанры и платформы.\n",
    "\n",
    "Перед нами данные до 2016 года. Нужно спланировать кампанию на 2017-й и отработать принцип работы с данными.\n",
    "\n",
    "**Цель:**\n",
    "\n",
    "Выявить определяющие успешность игры закономерности. Это позволит сделать ставку на потенциально популярный продукт и спланировать рекламные кампании.\n"
   ]
  },
  {
   "cell_type": "markdown",
   "metadata": {},
   "source": [
    "##  Изучение данных"
   ]
  },
  {
   "cell_type": "code",
   "execution_count": 1,
   "metadata": {},
   "outputs": [],
   "source": [
    "import pandas as pd\n",
    "import numpy as np\n",
    "import matplotlib.pyplot as plt\n",
    "import seaborn as sns\n",
    "from scipy import stats"
   ]
  },
  {
   "cell_type": "code",
   "execution_count": 2,
   "metadata": {},
   "outputs": [],
   "source": [
    "df_games = pd.read_csv('/datasets/games.csv')"
   ]
  },
  {
   "cell_type": "code",
   "execution_count": 3,
   "metadata": {
    "scrolled": true
   },
   "outputs": [
    {
     "data": {
      "text/html": [
       "<div>\n",
       "<style scoped>\n",
       "    .dataframe tbody tr th:only-of-type {\n",
       "        vertical-align: middle;\n",
       "    }\n",
       "\n",
       "    .dataframe tbody tr th {\n",
       "        vertical-align: top;\n",
       "    }\n",
       "\n",
       "    .dataframe thead th {\n",
       "        text-align: right;\n",
       "    }\n",
       "</style>\n",
       "<table border=\"1\" class=\"dataframe\">\n",
       "  <thead>\n",
       "    <tr style=\"text-align: right;\">\n",
       "      <th></th>\n",
       "      <th>Name</th>\n",
       "      <th>Platform</th>\n",
       "      <th>Year_of_Release</th>\n",
       "      <th>Genre</th>\n",
       "      <th>NA_sales</th>\n",
       "      <th>EU_sales</th>\n",
       "      <th>JP_sales</th>\n",
       "      <th>Other_sales</th>\n",
       "      <th>Critic_Score</th>\n",
       "      <th>User_Score</th>\n",
       "      <th>Rating</th>\n",
       "    </tr>\n",
       "  </thead>\n",
       "  <tbody>\n",
       "    <tr>\n",
       "      <td>0</td>\n",
       "      <td>Wii Sports</td>\n",
       "      <td>Wii</td>\n",
       "      <td>2006.0</td>\n",
       "      <td>Sports</td>\n",
       "      <td>41.36</td>\n",
       "      <td>28.96</td>\n",
       "      <td>3.77</td>\n",
       "      <td>8.45</td>\n",
       "      <td>76.0</td>\n",
       "      <td>8</td>\n",
       "      <td>E</td>\n",
       "    </tr>\n",
       "    <tr>\n",
       "      <td>1</td>\n",
       "      <td>Super Mario Bros.</td>\n",
       "      <td>NES</td>\n",
       "      <td>1985.0</td>\n",
       "      <td>Platform</td>\n",
       "      <td>29.08</td>\n",
       "      <td>3.58</td>\n",
       "      <td>6.81</td>\n",
       "      <td>0.77</td>\n",
       "      <td>NaN</td>\n",
       "      <td>NaN</td>\n",
       "      <td>NaN</td>\n",
       "    </tr>\n",
       "    <tr>\n",
       "      <td>2</td>\n",
       "      <td>Mario Kart Wii</td>\n",
       "      <td>Wii</td>\n",
       "      <td>2008.0</td>\n",
       "      <td>Racing</td>\n",
       "      <td>15.68</td>\n",
       "      <td>12.76</td>\n",
       "      <td>3.79</td>\n",
       "      <td>3.29</td>\n",
       "      <td>82.0</td>\n",
       "      <td>8.3</td>\n",
       "      <td>E</td>\n",
       "    </tr>\n",
       "    <tr>\n",
       "      <td>3</td>\n",
       "      <td>Wii Sports Resort</td>\n",
       "      <td>Wii</td>\n",
       "      <td>2009.0</td>\n",
       "      <td>Sports</td>\n",
       "      <td>15.61</td>\n",
       "      <td>10.93</td>\n",
       "      <td>3.28</td>\n",
       "      <td>2.95</td>\n",
       "      <td>80.0</td>\n",
       "      <td>8</td>\n",
       "      <td>E</td>\n",
       "    </tr>\n",
       "    <tr>\n",
       "      <td>4</td>\n",
       "      <td>Pokemon Red/Pokemon Blue</td>\n",
       "      <td>GB</td>\n",
       "      <td>1996.0</td>\n",
       "      <td>Role-Playing</td>\n",
       "      <td>11.27</td>\n",
       "      <td>8.89</td>\n",
       "      <td>10.22</td>\n",
       "      <td>1.00</td>\n",
       "      <td>NaN</td>\n",
       "      <td>NaN</td>\n",
       "      <td>NaN</td>\n",
       "    </tr>\n",
       "  </tbody>\n",
       "</table>\n",
       "</div>"
      ],
      "text/plain": [
       "                       Name Platform  Year_of_Release         Genre  NA_sales  \\\n",
       "0                Wii Sports      Wii           2006.0        Sports     41.36   \n",
       "1         Super Mario Bros.      NES           1985.0      Platform     29.08   \n",
       "2            Mario Kart Wii      Wii           2008.0        Racing     15.68   \n",
       "3         Wii Sports Resort      Wii           2009.0        Sports     15.61   \n",
       "4  Pokemon Red/Pokemon Blue       GB           1996.0  Role-Playing     11.27   \n",
       "\n",
       "   EU_sales  JP_sales  Other_sales  Critic_Score User_Score Rating  \n",
       "0     28.96      3.77         8.45          76.0          8      E  \n",
       "1      3.58      6.81         0.77           NaN        NaN    NaN  \n",
       "2     12.76      3.79         3.29          82.0        8.3      E  \n",
       "3     10.93      3.28         2.95          80.0          8      E  \n",
       "4      8.89     10.22         1.00           NaN        NaN    NaN  "
      ]
     },
     "execution_count": 3,
     "metadata": {},
     "output_type": "execute_result"
    }
   ],
   "source": [
    "df_games.head()"
   ]
  },
  {
   "cell_type": "code",
   "execution_count": 4,
   "metadata": {},
   "outputs": [
    {
     "data": {
      "text/html": [
       "<div>\n",
       "<style scoped>\n",
       "    .dataframe tbody tr th:only-of-type {\n",
       "        vertical-align: middle;\n",
       "    }\n",
       "\n",
       "    .dataframe tbody tr th {\n",
       "        vertical-align: top;\n",
       "    }\n",
       "\n",
       "    .dataframe thead th {\n",
       "        text-align: right;\n",
       "    }\n",
       "</style>\n",
       "<table border=\"1\" class=\"dataframe\">\n",
       "  <thead>\n",
       "    <tr style=\"text-align: right;\">\n",
       "      <th></th>\n",
       "      <th>Name</th>\n",
       "      <th>Platform</th>\n",
       "      <th>Year_of_Release</th>\n",
       "      <th>Genre</th>\n",
       "      <th>NA_sales</th>\n",
       "      <th>EU_sales</th>\n",
       "      <th>JP_sales</th>\n",
       "      <th>Other_sales</th>\n",
       "      <th>Critic_Score</th>\n",
       "      <th>User_Score</th>\n",
       "      <th>Rating</th>\n",
       "    </tr>\n",
       "  </thead>\n",
       "  <tbody>\n",
       "    <tr>\n",
       "      <td>16710</td>\n",
       "      <td>Samurai Warriors: Sanada Maru</td>\n",
       "      <td>PS3</td>\n",
       "      <td>2016.0</td>\n",
       "      <td>Action</td>\n",
       "      <td>0.00</td>\n",
       "      <td>0.00</td>\n",
       "      <td>0.01</td>\n",
       "      <td>0.0</td>\n",
       "      <td>NaN</td>\n",
       "      <td>NaN</td>\n",
       "      <td>NaN</td>\n",
       "    </tr>\n",
       "    <tr>\n",
       "      <td>16711</td>\n",
       "      <td>LMA Manager 2007</td>\n",
       "      <td>X360</td>\n",
       "      <td>2006.0</td>\n",
       "      <td>Sports</td>\n",
       "      <td>0.00</td>\n",
       "      <td>0.01</td>\n",
       "      <td>0.00</td>\n",
       "      <td>0.0</td>\n",
       "      <td>NaN</td>\n",
       "      <td>NaN</td>\n",
       "      <td>NaN</td>\n",
       "    </tr>\n",
       "    <tr>\n",
       "      <td>16712</td>\n",
       "      <td>Haitaka no Psychedelica</td>\n",
       "      <td>PSV</td>\n",
       "      <td>2016.0</td>\n",
       "      <td>Adventure</td>\n",
       "      <td>0.00</td>\n",
       "      <td>0.00</td>\n",
       "      <td>0.01</td>\n",
       "      <td>0.0</td>\n",
       "      <td>NaN</td>\n",
       "      <td>NaN</td>\n",
       "      <td>NaN</td>\n",
       "    </tr>\n",
       "    <tr>\n",
       "      <td>16713</td>\n",
       "      <td>Spirits &amp; Spells</td>\n",
       "      <td>GBA</td>\n",
       "      <td>2003.0</td>\n",
       "      <td>Platform</td>\n",
       "      <td>0.01</td>\n",
       "      <td>0.00</td>\n",
       "      <td>0.00</td>\n",
       "      <td>0.0</td>\n",
       "      <td>NaN</td>\n",
       "      <td>NaN</td>\n",
       "      <td>NaN</td>\n",
       "    </tr>\n",
       "    <tr>\n",
       "      <td>16714</td>\n",
       "      <td>Winning Post 8 2016</td>\n",
       "      <td>PSV</td>\n",
       "      <td>2016.0</td>\n",
       "      <td>Simulation</td>\n",
       "      <td>0.00</td>\n",
       "      <td>0.00</td>\n",
       "      <td>0.01</td>\n",
       "      <td>0.0</td>\n",
       "      <td>NaN</td>\n",
       "      <td>NaN</td>\n",
       "      <td>NaN</td>\n",
       "    </tr>\n",
       "  </tbody>\n",
       "</table>\n",
       "</div>"
      ],
      "text/plain": [
       "                                Name Platform  Year_of_Release       Genre  \\\n",
       "16710  Samurai Warriors: Sanada Maru      PS3           2016.0      Action   \n",
       "16711               LMA Manager 2007     X360           2006.0      Sports   \n",
       "16712        Haitaka no Psychedelica      PSV           2016.0   Adventure   \n",
       "16713               Spirits & Spells      GBA           2003.0    Platform   \n",
       "16714            Winning Post 8 2016      PSV           2016.0  Simulation   \n",
       "\n",
       "       NA_sales  EU_sales  JP_sales  Other_sales  Critic_Score User_Score  \\\n",
       "16710      0.00      0.00      0.01          0.0           NaN        NaN   \n",
       "16711      0.00      0.01      0.00          0.0           NaN        NaN   \n",
       "16712      0.00      0.00      0.01          0.0           NaN        NaN   \n",
       "16713      0.01      0.00      0.00          0.0           NaN        NaN   \n",
       "16714      0.00      0.00      0.01          0.0           NaN        NaN   \n",
       "\n",
       "      Rating  \n",
       "16710    NaN  \n",
       "16711    NaN  \n",
       "16712    NaN  \n",
       "16713    NaN  \n",
       "16714    NaN  "
      ]
     },
     "execution_count": 4,
     "metadata": {},
     "output_type": "execute_result"
    }
   ],
   "source": [
    "df_games.tail()"
   ]
  },
  {
   "cell_type": "code",
   "execution_count": 5,
   "metadata": {
    "scrolled": false
   },
   "outputs": [
    {
     "name": "stdout",
     "output_type": "stream",
     "text": [
      "<class 'pandas.core.frame.DataFrame'>\n",
      "RangeIndex: 16715 entries, 0 to 16714\n",
      "Data columns (total 11 columns):\n",
      "Name               16713 non-null object\n",
      "Platform           16715 non-null object\n",
      "Year_of_Release    16446 non-null float64\n",
      "Genre              16713 non-null object\n",
      "NA_sales           16715 non-null float64\n",
      "EU_sales           16715 non-null float64\n",
      "JP_sales           16715 non-null float64\n",
      "Other_sales        16715 non-null float64\n",
      "Critic_Score       8137 non-null float64\n",
      "User_Score         10014 non-null object\n",
      "Rating             9949 non-null object\n",
      "dtypes: float64(6), object(5)\n",
      "memory usage: 1.4+ MB\n"
     ]
    }
   ],
   "source": [
    "df_games.info()"
   ]
  },
  {
   "cell_type": "markdown",
   "metadata": {},
   "source": [
    "**Вывод:**\n",
    "\n",
    "Был получен массив данных с информацией за 2016-й год по каждой игре: её название, платформа, год выпуска, жанр, данные по продажам, оценки критиков и пользователей, а так же рейтинг от организации ESRB.\n",
    "\n",
    "Описание данных:\n",
    "\n",
    "* Name — название игры\n",
    "* Platform — платформа\n",
    "* Year_of_Release — год выпуска\n",
    "* Genre — жанр игры\n",
    "* NA_sales — продажи в Северной Америке (миллионы проданных копий)\n",
    "* EU_sales — продажи в Европе (миллионы проданных копий)\n",
    "* JP_sales — продажи в Японии (миллионы проданных копий)\n",
    "* Other_sales — продажи в других странах (миллионы проданных копий)\n",
    "* Critic_Score — оценка критиков (максимум 100)\n",
    "* User_Score — оценка пользователей (максимум 10)\n",
    "* Rating — рейтинг от организации ESRB (англ. Entertainment Software Rating Board). Эта ассоциация определяет рейтинг компьютерных игр и присваивает им подходящую возрастную категорию.\n",
    "\n",
    "Всего в таблице содержится 16715 строк, однако есть пропуски в колонках `Name`, `Year_of_Release`, `Genre`, `Critic_Score`, `User_Score`, `Rating`. Возможно, они возникли из-за отсутствия данных на момент выгрузки. Необходимо их обработать и выяснить причины появления. \n",
    "\n",
    "Так же заметно, что названия колонок записаны не полностью нижним регистром, что может быть неудобно при дальнейшем исследовании. В некоторых столбцах требуется заменить тип данных."
   ]
  },
  {
   "cell_type": "markdown",
   "metadata": {},
   "source": [
    "## Подготовка данных"
   ]
  },
  {
   "cell_type": "markdown",
   "metadata": {},
   "source": [
    "### Приведение названий колонок к нижнему регистру"
   ]
  },
  {
   "cell_type": "code",
   "execution_count": 6,
   "metadata": {
    "scrolled": false
   },
   "outputs": [
    {
     "data": {
      "text/plain": [
       "['name',\n",
       " 'platform',\n",
       " 'year_of_release',\n",
       " 'genre',\n",
       " 'na_sales',\n",
       " 'eu_sales',\n",
       " 'jp_sales',\n",
       " 'other_sales',\n",
       " 'critic_score',\n",
       " 'user_score',\n",
       " 'rating']"
      ]
     },
     "execution_count": 6,
     "metadata": {},
     "output_type": "execute_result"
    }
   ],
   "source": [
    "df_games.columns = [x.lower() for x in df_games.columns]\n",
    "df_games.columns.to_list()"
   ]
  },
  {
   "cell_type": "markdown",
   "metadata": {},
   "source": [
    "### Обработка пропущенных значений и типов данных"
   ]
  },
  {
   "cell_type": "code",
   "execution_count": 7,
   "metadata": {},
   "outputs": [
    {
     "data": {
      "text/html": [
       "<div>\n",
       "<style scoped>\n",
       "    .dataframe tbody tr th:only-of-type {\n",
       "        vertical-align: middle;\n",
       "    }\n",
       "\n",
       "    .dataframe tbody tr th {\n",
       "        vertical-align: top;\n",
       "    }\n",
       "\n",
       "    .dataframe thead th {\n",
       "        text-align: right;\n",
       "    }\n",
       "</style>\n",
       "<table border=\"1\" class=\"dataframe\">\n",
       "  <thead>\n",
       "    <tr style=\"text-align: right;\">\n",
       "      <th></th>\n",
       "      <th>name</th>\n",
       "      <th>platform</th>\n",
       "      <th>year_of_release</th>\n",
       "      <th>genre</th>\n",
       "      <th>na_sales</th>\n",
       "      <th>eu_sales</th>\n",
       "      <th>jp_sales</th>\n",
       "      <th>other_sales</th>\n",
       "      <th>critic_score</th>\n",
       "      <th>user_score</th>\n",
       "      <th>rating</th>\n",
       "    </tr>\n",
       "  </thead>\n",
       "  <tbody>\n",
       "    <tr>\n",
       "      <td>0</td>\n",
       "      <td>Wii Sports</td>\n",
       "      <td>Wii</td>\n",
       "      <td>2006.0</td>\n",
       "      <td>Sports</td>\n",
       "      <td>41.36</td>\n",
       "      <td>28.96</td>\n",
       "      <td>3.77</td>\n",
       "      <td>8.45</td>\n",
       "      <td>76.0</td>\n",
       "      <td>8</td>\n",
       "      <td>E</td>\n",
       "    </tr>\n",
       "    <tr>\n",
       "      <td>1</td>\n",
       "      <td>Super Mario Bros.</td>\n",
       "      <td>NES</td>\n",
       "      <td>1985.0</td>\n",
       "      <td>Platform</td>\n",
       "      <td>29.08</td>\n",
       "      <td>3.58</td>\n",
       "      <td>6.81</td>\n",
       "      <td>0.77</td>\n",
       "      <td>NaN</td>\n",
       "      <td>NaN</td>\n",
       "      <td>NaN</td>\n",
       "    </tr>\n",
       "    <tr>\n",
       "      <td>2</td>\n",
       "      <td>Mario Kart Wii</td>\n",
       "      <td>Wii</td>\n",
       "      <td>2008.0</td>\n",
       "      <td>Racing</td>\n",
       "      <td>15.68</td>\n",
       "      <td>12.76</td>\n",
       "      <td>3.79</td>\n",
       "      <td>3.29</td>\n",
       "      <td>82.0</td>\n",
       "      <td>8.3</td>\n",
       "      <td>E</td>\n",
       "    </tr>\n",
       "    <tr>\n",
       "      <td>3</td>\n",
       "      <td>Wii Sports Resort</td>\n",
       "      <td>Wii</td>\n",
       "      <td>2009.0</td>\n",
       "      <td>Sports</td>\n",
       "      <td>15.61</td>\n",
       "      <td>10.93</td>\n",
       "      <td>3.28</td>\n",
       "      <td>2.95</td>\n",
       "      <td>80.0</td>\n",
       "      <td>8</td>\n",
       "      <td>E</td>\n",
       "    </tr>\n",
       "    <tr>\n",
       "      <td>4</td>\n",
       "      <td>Pokemon Red/Pokemon Blue</td>\n",
       "      <td>GB</td>\n",
       "      <td>1996.0</td>\n",
       "      <td>Role-Playing</td>\n",
       "      <td>11.27</td>\n",
       "      <td>8.89</td>\n",
       "      <td>10.22</td>\n",
       "      <td>1.00</td>\n",
       "      <td>NaN</td>\n",
       "      <td>NaN</td>\n",
       "      <td>NaN</td>\n",
       "    </tr>\n",
       "  </tbody>\n",
       "</table>\n",
       "</div>"
      ],
      "text/plain": [
       "                       name platform  year_of_release         genre  na_sales  \\\n",
       "0                Wii Sports      Wii           2006.0        Sports     41.36   \n",
       "1         Super Mario Bros.      NES           1985.0      Platform     29.08   \n",
       "2            Mario Kart Wii      Wii           2008.0        Racing     15.68   \n",
       "3         Wii Sports Resort      Wii           2009.0        Sports     15.61   \n",
       "4  Pokemon Red/Pokemon Blue       GB           1996.0  Role-Playing     11.27   \n",
       "\n",
       "   eu_sales  jp_sales  other_sales  critic_score user_score rating  \n",
       "0     28.96      3.77         8.45          76.0          8      E  \n",
       "1      3.58      6.81         0.77           NaN        NaN    NaN  \n",
       "2     12.76      3.79         3.29          82.0        8.3      E  \n",
       "3     10.93      3.28         2.95          80.0          8      E  \n",
       "4      8.89     10.22         1.00           NaN        NaN    NaN  "
      ]
     },
     "execution_count": 7,
     "metadata": {},
     "output_type": "execute_result"
    }
   ],
   "source": [
    "df_games.head()"
   ]
  },
  {
   "cell_type": "code",
   "execution_count": 8,
   "metadata": {
    "scrolled": false
   },
   "outputs": [
    {
     "name": "stdout",
     "output_type": "stream",
     "text": [
      "<class 'pandas.core.frame.DataFrame'>\n",
      "RangeIndex: 16715 entries, 0 to 16714\n",
      "Data columns (total 11 columns):\n",
      "name               16713 non-null object\n",
      "platform           16715 non-null object\n",
      "year_of_release    16446 non-null float64\n",
      "genre              16713 non-null object\n",
      "na_sales           16715 non-null float64\n",
      "eu_sales           16715 non-null float64\n",
      "jp_sales           16715 non-null float64\n",
      "other_sales        16715 non-null float64\n",
      "critic_score       8137 non-null float64\n",
      "user_score         10014 non-null object\n",
      "rating             9949 non-null object\n",
      "dtypes: float64(6), object(5)\n",
      "memory usage: 1.4+ MB\n"
     ]
    }
   ],
   "source": [
    "df_games.info()"
   ]
  },
  {
   "cell_type": "markdown",
   "metadata": {},
   "source": [
    "Всего в таблице содержится 16715 строк, однако есть пропуски в колонках Name, Year_of_Release, Genre, Critic_Score, User_Score, Rating. "
   ]
  },
  {
   "cell_type": "markdown",
   "metadata": {},
   "source": [
    "**Информация о названиях игр:**\n",
    "\n",
    "Просмотрим 2 строки с пропущенными значениями в колонке `name`:"
   ]
  },
  {
   "cell_type": "code",
   "execution_count": 9,
   "metadata": {
    "scrolled": false
   },
   "outputs": [
    {
     "data": {
      "text/html": [
       "<div>\n",
       "<style scoped>\n",
       "    .dataframe tbody tr th:only-of-type {\n",
       "        vertical-align: middle;\n",
       "    }\n",
       "\n",
       "    .dataframe tbody tr th {\n",
       "        vertical-align: top;\n",
       "    }\n",
       "\n",
       "    .dataframe thead th {\n",
       "        text-align: right;\n",
       "    }\n",
       "</style>\n",
       "<table border=\"1\" class=\"dataframe\">\n",
       "  <thead>\n",
       "    <tr style=\"text-align: right;\">\n",
       "      <th></th>\n",
       "      <th>name</th>\n",
       "      <th>platform</th>\n",
       "      <th>year_of_release</th>\n",
       "      <th>genre</th>\n",
       "      <th>na_sales</th>\n",
       "      <th>eu_sales</th>\n",
       "      <th>jp_sales</th>\n",
       "      <th>other_sales</th>\n",
       "      <th>critic_score</th>\n",
       "      <th>user_score</th>\n",
       "      <th>rating</th>\n",
       "    </tr>\n",
       "  </thead>\n",
       "  <tbody>\n",
       "    <tr>\n",
       "      <td>659</td>\n",
       "      <td>NaN</td>\n",
       "      <td>GEN</td>\n",
       "      <td>1993.0</td>\n",
       "      <td>NaN</td>\n",
       "      <td>1.78</td>\n",
       "      <td>0.53</td>\n",
       "      <td>0.00</td>\n",
       "      <td>0.08</td>\n",
       "      <td>NaN</td>\n",
       "      <td>NaN</td>\n",
       "      <td>NaN</td>\n",
       "    </tr>\n",
       "    <tr>\n",
       "      <td>14244</td>\n",
       "      <td>NaN</td>\n",
       "      <td>GEN</td>\n",
       "      <td>1993.0</td>\n",
       "      <td>NaN</td>\n",
       "      <td>0.00</td>\n",
       "      <td>0.00</td>\n",
       "      <td>0.03</td>\n",
       "      <td>0.00</td>\n",
       "      <td>NaN</td>\n",
       "      <td>NaN</td>\n",
       "      <td>NaN</td>\n",
       "    </tr>\n",
       "  </tbody>\n",
       "</table>\n",
       "</div>"
      ],
      "text/plain": [
       "      name platform  year_of_release genre  na_sales  eu_sales  jp_sales  \\\n",
       "659    NaN      GEN           1993.0   NaN      1.78      0.53      0.00   \n",
       "14244  NaN      GEN           1993.0   NaN      0.00      0.00      0.03   \n",
       "\n",
       "       other_sales  critic_score user_score rating  \n",
       "659           0.08           NaN        NaN    NaN  \n",
       "14244         0.00           NaN        NaN    NaN  "
      ]
     },
     "execution_count": 9,
     "metadata": {},
     "output_type": "execute_result"
    }
   ],
   "source": [
    "df_games.query('name.isnull()')"
   ]
  },
  {
   "cell_type": "markdown",
   "metadata": {},
   "source": [
    "Эти 2 строки составляют всего 0,01% от всего массива данных, к тому же, половина значений в них - пропуски. Возможно, причина их появления в том, что здесь должна быть информация о старых малоизвестных играх, поэтому им не были проставлены оценки и они не имеют платформы и определенного жанра. Их можно безболезненно удалить из таблицы."
   ]
  },
  {
   "cell_type": "code",
   "execution_count": 10,
   "metadata": {
    "scrolled": false
   },
   "outputs": [
    {
     "name": "stdout",
     "output_type": "stream",
     "text": [
      "<class 'pandas.core.frame.DataFrame'>\n",
      "RangeIndex: 16713 entries, 0 to 16712\n",
      "Data columns (total 11 columns):\n",
      "name               16713 non-null object\n",
      "platform           16713 non-null object\n",
      "year_of_release    16444 non-null float64\n",
      "genre              16713 non-null object\n",
      "na_sales           16713 non-null float64\n",
      "eu_sales           16713 non-null float64\n",
      "jp_sales           16713 non-null float64\n",
      "other_sales        16713 non-null float64\n",
      "critic_score       8137 non-null float64\n",
      "user_score         10014 non-null object\n",
      "rating             9949 non-null object\n",
      "dtypes: float64(6), object(5)\n",
      "memory usage: 1.4+ MB\n"
     ]
    }
   ],
   "source": [
    "df_games = df_games.query('name.notnull()').reset_index(drop=True)\n",
    "df_games.info()"
   ]
  },
  {
   "cell_type": "markdown",
   "metadata": {},
   "source": [
    "**Информация о годе выпуска:**\n",
    "\n",
    "В колонке `year_of_release` указан год выпуска. Необходимо узнать, есть ли ошибки, приводящие к выбросам, чтобы понять, каким способом обработать пропущенные значения."
   ]
  },
  {
   "cell_type": "code",
   "execution_count": 11,
   "metadata": {
    "scrolled": false
   },
   "outputs": [
    {
     "data": {
      "text/plain": [
       "count    16444.000000\n",
       "mean      2006.486256\n",
       "std          5.875525\n",
       "min       1980.000000\n",
       "25%       2003.000000\n",
       "50%       2007.000000\n",
       "75%       2010.000000\n",
       "max       2016.000000\n",
       "Name: year_of_release, dtype: float64"
      ]
     },
     "execution_count": 11,
     "metadata": {},
     "output_type": "execute_result"
    }
   ],
   "source": [
    "df_games['year_of_release'].describe()"
   ]
  },
  {
   "cell_type": "code",
   "execution_count": 12,
   "metadata": {},
   "outputs": [
    {
     "data": {
      "image/png": "[encoded data removed]",
      "text/plain": [
       "<Figure size 720x360 with 1 Axes>"
      ]
     },
     "metadata": {
      "needs_background": "light"
     },
     "output_type": "display_data"
    }
   ],
   "source": [
    "df_games.groupby('year_of_release')['name'].count().plot(kind='bar', figsize=(10,5))\n",
    "plt.title('Год выпуска игр')\n",
    "plt.xlabel('Год')\n",
    "plt.ylabel('Количество')\n",
    "plt.show()"
   ]
  },
  {
   "cell_type": "markdown",
   "metadata": {},
   "source": [
    "Необъяснимых выбросов не обнаружено, а так как множество значений годов выпуска игр имеет относительно небольшой размах, то можно заменить пропуски медианным значением. Так же приведем данные к целому типу.  "
   ]
  },
  {
   "cell_type": "code",
   "execution_count": 13,
   "metadata": {
    "scrolled": false
   },
   "outputs": [
    {
     "name": "stdout",
     "output_type": "stream",
     "text": [
      "<class 'pandas.core.frame.DataFrame'>\n",
      "RangeIndex: 16713 entries, 0 to 16712\n",
      "Data columns (total 11 columns):\n",
      "name               16713 non-null object\n",
      "platform           16713 non-null object\n",
      "year_of_release    16713 non-null int64\n",
      "genre              16713 non-null object\n",
      "na_sales           16713 non-null float64\n",
      "eu_sales           16713 non-null float64\n",
      "jp_sales           16713 non-null float64\n",
      "other_sales        16713 non-null float64\n",
      "critic_score       8137 non-null float64\n",
      "user_score         10014 non-null object\n",
      "rating             9949 non-null object\n",
      "dtypes: float64(5), int64(1), object(5)\n",
      "memory usage: 1.4+ MB\n"
     ]
    }
   ],
   "source": [
    "# Цикл для замены пропущенного года медианным значением внутри каждой платформы\n",
    "for platform_name in df_games['platform'].unique():\n",
    "    nan_platform_strings = df_games['year_of_release'].isna() & (df_games['platform'] == platform_name)\n",
    "    df_games.loc[nan_platform_strings, 'year_of_release'] = df_games.loc[df_games['platform'] == platform_name, 'year_of_release'].mean()\n",
    "    \n",
    "df_games['year_of_release'] = df_games['year_of_release'].astype('int')\n",
    "df_games.info()"
   ]
  },
  {
   "cell_type": "markdown",
   "metadata": {},
   "source": [
    "**Информация об оценке критиков:**\n",
    "\n",
    "В `critic_score` содержатся данные об оценке критиков (максимум 100)."
   ]
  },
  {
   "cell_type": "code",
   "execution_count": 14,
   "metadata": {
    "scrolled": false
   },
   "outputs": [
    {
     "data": {
      "text/html": [
       "<div>\n",
       "<style scoped>\n",
       "    .dataframe tbody tr th:only-of-type {\n",
       "        vertical-align: middle;\n",
       "    }\n",
       "\n",
       "    .dataframe tbody tr th {\n",
       "        vertical-align: top;\n",
       "    }\n",
       "\n",
       "    .dataframe thead th {\n",
       "        text-align: right;\n",
       "    }\n",
       "</style>\n",
       "<table border=\"1\" class=\"dataframe\">\n",
       "  <thead>\n",
       "    <tr style=\"text-align: right;\">\n",
       "      <th></th>\n",
       "      <th>name</th>\n",
       "      <th>platform</th>\n",
       "      <th>year_of_release</th>\n",
       "      <th>genre</th>\n",
       "      <th>na_sales</th>\n",
       "      <th>eu_sales</th>\n",
       "      <th>jp_sales</th>\n",
       "      <th>other_sales</th>\n",
       "      <th>critic_score</th>\n",
       "      <th>user_score</th>\n",
       "      <th>rating</th>\n",
       "    </tr>\n",
       "  </thead>\n",
       "  <tbody>\n",
       "    <tr>\n",
       "      <td>4295</td>\n",
       "      <td>Ghostbusters</td>\n",
       "      <td>2600</td>\n",
       "      <td>1985</td>\n",
       "      <td>Puzzle</td>\n",
       "      <td>0.42</td>\n",
       "      <td>0.03</td>\n",
       "      <td>0.00</td>\n",
       "      <td>0.0</td>\n",
       "      <td>NaN</td>\n",
       "      <td>NaN</td>\n",
       "      <td>NaN</td>\n",
       "    </tr>\n",
       "    <tr>\n",
       "      <td>16338</td>\n",
       "      <td>Jewel Quest II</td>\n",
       "      <td>PC</td>\n",
       "      <td>2007</td>\n",
       "      <td>Puzzle</td>\n",
       "      <td>0.00</td>\n",
       "      <td>0.01</td>\n",
       "      <td>0.00</td>\n",
       "      <td>0.0</td>\n",
       "      <td>NaN</td>\n",
       "      <td>tbd</td>\n",
       "      <td>E</td>\n",
       "    </tr>\n",
       "    <tr>\n",
       "      <td>15493</td>\n",
       "      <td>Arcana Famiglia: Vascello Phantasma no Majutsushi</td>\n",
       "      <td>PSP</td>\n",
       "      <td>2012</td>\n",
       "      <td>Action</td>\n",
       "      <td>0.00</td>\n",
       "      <td>0.00</td>\n",
       "      <td>0.02</td>\n",
       "      <td>0.0</td>\n",
       "      <td>NaN</td>\n",
       "      <td>NaN</td>\n",
       "      <td>NaN</td>\n",
       "    </tr>\n",
       "    <tr>\n",
       "      <td>16077</td>\n",
       "      <td>Football Manager 2007</td>\n",
       "      <td>X360</td>\n",
       "      <td>2009</td>\n",
       "      <td>Sports</td>\n",
       "      <td>0.00</td>\n",
       "      <td>0.01</td>\n",
       "      <td>0.00</td>\n",
       "      <td>0.0</td>\n",
       "      <td>NaN</td>\n",
       "      <td>NaN</td>\n",
       "      <td>NaN</td>\n",
       "    </tr>\n",
       "    <tr>\n",
       "      <td>10540</td>\n",
       "      <td>Metal Gear Solid HD Edition</td>\n",
       "      <td>PS3</td>\n",
       "      <td>2011</td>\n",
       "      <td>Action</td>\n",
       "      <td>0.00</td>\n",
       "      <td>0.00</td>\n",
       "      <td>0.10</td>\n",
       "      <td>0.0</td>\n",
       "      <td>NaN</td>\n",
       "      <td>NaN</td>\n",
       "      <td>NaN</td>\n",
       "    </tr>\n",
       "  </tbody>\n",
       "</table>\n",
       "</div>"
      ],
      "text/plain": [
       "                                                    name platform  \\\n",
       "4295                                        Ghostbusters     2600   \n",
       "16338                                     Jewel Quest II       PC   \n",
       "15493  Arcana Famiglia: Vascello Phantasma no Majutsushi      PSP   \n",
       "16077                              Football Manager 2007     X360   \n",
       "10540                        Metal Gear Solid HD Edition      PS3   \n",
       "\n",
       "       year_of_release   genre  na_sales  eu_sales  jp_sales  other_sales  \\\n",
       "4295              1985  Puzzle      0.42      0.03      0.00          0.0   \n",
       "16338             2007  Puzzle      0.00      0.01      0.00          0.0   \n",
       "15493             2012  Action      0.00      0.00      0.02          0.0   \n",
       "16077             2009  Sports      0.00      0.01      0.00          0.0   \n",
       "10540             2011  Action      0.00      0.00      0.10          0.0   \n",
       "\n",
       "       critic_score user_score rating  \n",
       "4295            NaN        NaN    NaN  \n",
       "16338           NaN        tbd      E  \n",
       "15493           NaN        NaN    NaN  \n",
       "16077           NaN        NaN    NaN  \n",
       "10540           NaN        NaN    NaN  "
      ]
     },
     "execution_count": 14,
     "metadata": {},
     "output_type": "execute_result"
    }
   ],
   "source": [
    "df_games.query('critic_score.isnull()').sample(n=5, random_state=10)"
   ]
  },
  {
   "cell_type": "code",
   "execution_count": 15,
   "metadata": {
    "scrolled": false
   },
   "outputs": [
    {
     "data": {
      "text/plain": [
       "count    8137.000000\n",
       "mean       68.967679\n",
       "std        13.938165\n",
       "min        13.000000\n",
       "25%        60.000000\n",
       "50%        71.000000\n",
       "75%        79.000000\n",
       "max        98.000000\n",
       "Name: critic_score, dtype: float64"
      ]
     },
     "execution_count": 15,
     "metadata": {},
     "output_type": "execute_result"
    }
   ],
   "source": [
    "df_games['critic_score'].describe()"
   ]
  },
  {
   "cell_type": "markdown",
   "metadata": {},
   "source": [
    "Отрицательных значений, которые могли возникнуть из-за ошибки заполнения данных, не обнаружено. При этом, данная колонка содержит 8576 пропусков, что составляет больше половины значений всей таблицы, поэтому удаление этих строк сильно повляет на результаты исследований. Скорее всего, пропуски возникли из-за того, что оценки критиков не были загружены на сайты, с которых собирались данные."
   ]
  },
  {
   "cell_type": "code",
   "execution_count": 16,
   "metadata": {
    "scrolled": false
   },
   "outputs": [
    {
     "data": {
      "text/html": [
       "<div>\n",
       "<style scoped>\n",
       "    .dataframe tbody tr th:only-of-type {\n",
       "        vertical-align: middle;\n",
       "    }\n",
       "\n",
       "    .dataframe tbody tr th {\n",
       "        vertical-align: top;\n",
       "    }\n",
       "\n",
       "    .dataframe thead th {\n",
       "        text-align: right;\n",
       "    }\n",
       "</style>\n",
       "<table border=\"1\" class=\"dataframe\">\n",
       "  <thead>\n",
       "    <tr style=\"text-align: right;\">\n",
       "      <th></th>\n",
       "      <th>name</th>\n",
       "      <th>platform</th>\n",
       "      <th>year_of_release</th>\n",
       "      <th>genre</th>\n",
       "      <th>na_sales</th>\n",
       "      <th>eu_sales</th>\n",
       "      <th>jp_sales</th>\n",
       "      <th>other_sales</th>\n",
       "      <th>critic_score</th>\n",
       "      <th>user_score</th>\n",
       "      <th>rating</th>\n",
       "    </tr>\n",
       "  </thead>\n",
       "  <tbody>\n",
       "    <tr>\n",
       "      <td>0</td>\n",
       "      <td>Wii Sports</td>\n",
       "      <td>Wii</td>\n",
       "      <td>2006</td>\n",
       "      <td>Sports</td>\n",
       "      <td>41.36</td>\n",
       "      <td>28.96</td>\n",
       "      <td>3.77</td>\n",
       "      <td>8.45</td>\n",
       "      <td>76.0</td>\n",
       "      <td>8</td>\n",
       "      <td>E</td>\n",
       "    </tr>\n",
       "    <tr>\n",
       "      <td>1</td>\n",
       "      <td>Super Mario Bros.</td>\n",
       "      <td>NES</td>\n",
       "      <td>1985</td>\n",
       "      <td>Platform</td>\n",
       "      <td>29.08</td>\n",
       "      <td>3.58</td>\n",
       "      <td>6.81</td>\n",
       "      <td>0.77</td>\n",
       "      <td>NaN</td>\n",
       "      <td>NaN</td>\n",
       "      <td>NaN</td>\n",
       "    </tr>\n",
       "    <tr>\n",
       "      <td>2</td>\n",
       "      <td>Mario Kart Wii</td>\n",
       "      <td>Wii</td>\n",
       "      <td>2008</td>\n",
       "      <td>Racing</td>\n",
       "      <td>15.68</td>\n",
       "      <td>12.76</td>\n",
       "      <td>3.79</td>\n",
       "      <td>3.29</td>\n",
       "      <td>82.0</td>\n",
       "      <td>8.3</td>\n",
       "      <td>E</td>\n",
       "    </tr>\n",
       "    <tr>\n",
       "      <td>3</td>\n",
       "      <td>Wii Sports Resort</td>\n",
       "      <td>Wii</td>\n",
       "      <td>2009</td>\n",
       "      <td>Sports</td>\n",
       "      <td>15.61</td>\n",
       "      <td>10.93</td>\n",
       "      <td>3.28</td>\n",
       "      <td>2.95</td>\n",
       "      <td>80.0</td>\n",
       "      <td>8</td>\n",
       "      <td>E</td>\n",
       "    </tr>\n",
       "    <tr>\n",
       "      <td>4</td>\n",
       "      <td>Pokemon Red/Pokemon Blue</td>\n",
       "      <td>GB</td>\n",
       "      <td>1996</td>\n",
       "      <td>Role-Playing</td>\n",
       "      <td>11.27</td>\n",
       "      <td>8.89</td>\n",
       "      <td>10.22</td>\n",
       "      <td>1.00</td>\n",
       "      <td>NaN</td>\n",
       "      <td>NaN</td>\n",
       "      <td>NaN</td>\n",
       "    </tr>\n",
       "  </tbody>\n",
       "</table>\n",
       "</div>"
      ],
      "text/plain": [
       "                       name platform  year_of_release         genre  na_sales  \\\n",
       "0                Wii Sports      Wii             2006        Sports     41.36   \n",
       "1         Super Mario Bros.      NES             1985      Platform     29.08   \n",
       "2            Mario Kart Wii      Wii             2008        Racing     15.68   \n",
       "3         Wii Sports Resort      Wii             2009        Sports     15.61   \n",
       "4  Pokemon Red/Pokemon Blue       GB             1996  Role-Playing     11.27   \n",
       "\n",
       "   eu_sales  jp_sales  other_sales  critic_score user_score rating  \n",
       "0     28.96      3.77         8.45          76.0          8      E  \n",
       "1      3.58      6.81         0.77           NaN        NaN    NaN  \n",
       "2     12.76      3.79         3.29          82.0        8.3      E  \n",
       "3     10.93      3.28         2.95          80.0          8      E  \n",
       "4      8.89     10.22         1.00           NaN        NaN    NaN  "
      ]
     },
     "execution_count": 16,
     "metadata": {},
     "output_type": "execute_result"
    }
   ],
   "source": [
    "# df_games['critic_score'].fillna(df_games['critic_score'].mean(), inplace=True)\n",
    "df_games['critic_score'] = df_games['critic_score'].astype('int', errors='ignore')\n",
    "df_games.head()"
   ]
  },
  {
   "cell_type": "markdown",
   "metadata": {},
   "source": [
    "**Информация об оценке пользователей:**\n",
    "\n",
    "В `user_score` содержатся данные об оценке пользователей (максимум 10)."
   ]
  },
  {
   "cell_type": "code",
   "execution_count": 17,
   "metadata": {},
   "outputs": [
    {
     "data": {
      "text/html": [
       "<div>\n",
       "<style scoped>\n",
       "    .dataframe tbody tr th:only-of-type {\n",
       "        vertical-align: middle;\n",
       "    }\n",
       "\n",
       "    .dataframe tbody tr th {\n",
       "        vertical-align: top;\n",
       "    }\n",
       "\n",
       "    .dataframe thead th {\n",
       "        text-align: right;\n",
       "    }\n",
       "</style>\n",
       "<table border=\"1\" class=\"dataframe\">\n",
       "  <thead>\n",
       "    <tr style=\"text-align: right;\">\n",
       "      <th></th>\n",
       "      <th>name</th>\n",
       "      <th>platform</th>\n",
       "      <th>year_of_release</th>\n",
       "      <th>genre</th>\n",
       "      <th>na_sales</th>\n",
       "      <th>eu_sales</th>\n",
       "      <th>jp_sales</th>\n",
       "      <th>other_sales</th>\n",
       "      <th>critic_score</th>\n",
       "      <th>user_score</th>\n",
       "      <th>rating</th>\n",
       "    </tr>\n",
       "  </thead>\n",
       "  <tbody>\n",
       "    <tr>\n",
       "      <td>14099</td>\n",
       "      <td>Deception III: Dark Delusion</td>\n",
       "      <td>PS</td>\n",
       "      <td>1999</td>\n",
       "      <td>Role-Playing</td>\n",
       "      <td>0.02</td>\n",
       "      <td>0.01</td>\n",
       "      <td>0.00</td>\n",
       "      <td>0.00</td>\n",
       "      <td>NaN</td>\n",
       "      <td>NaN</td>\n",
       "      <td>NaN</td>\n",
       "    </tr>\n",
       "    <tr>\n",
       "      <td>7758</td>\n",
       "      <td>Great Phoenix Wright: Ace Attorney - Naruhodou...</td>\n",
       "      <td>3DS</td>\n",
       "      <td>2015</td>\n",
       "      <td>Action</td>\n",
       "      <td>0.00</td>\n",
       "      <td>0.00</td>\n",
       "      <td>0.19</td>\n",
       "      <td>0.00</td>\n",
       "      <td>NaN</td>\n",
       "      <td>NaN</td>\n",
       "      <td>NaN</td>\n",
       "    </tr>\n",
       "    <tr>\n",
       "      <td>8843</td>\n",
       "      <td>Pro Baseball Spirits 2015</td>\n",
       "      <td>PS3</td>\n",
       "      <td>2015</td>\n",
       "      <td>Action</td>\n",
       "      <td>0.00</td>\n",
       "      <td>0.00</td>\n",
       "      <td>0.15</td>\n",
       "      <td>0.00</td>\n",
       "      <td>NaN</td>\n",
       "      <td>NaN</td>\n",
       "      <td>NaN</td>\n",
       "    </tr>\n",
       "    <tr>\n",
       "      <td>4421</td>\n",
       "      <td>SpongeBob SquarePants: Lights, Camera, Pants!</td>\n",
       "      <td>GC</td>\n",
       "      <td>2005</td>\n",
       "      <td>Misc</td>\n",
       "      <td>0.34</td>\n",
       "      <td>0.09</td>\n",
       "      <td>0.00</td>\n",
       "      <td>0.01</td>\n",
       "      <td>NaN</td>\n",
       "      <td>NaN</td>\n",
       "      <td>NaN</td>\n",
       "    </tr>\n",
       "    <tr>\n",
       "      <td>13602</td>\n",
       "      <td>San-X Land: Theme Park de Asobou!</td>\n",
       "      <td>DS</td>\n",
       "      <td>2006</td>\n",
       "      <td>Action</td>\n",
       "      <td>0.00</td>\n",
       "      <td>0.00</td>\n",
       "      <td>0.04</td>\n",
       "      <td>0.00</td>\n",
       "      <td>NaN</td>\n",
       "      <td>NaN</td>\n",
       "      <td>NaN</td>\n",
       "    </tr>\n",
       "  </tbody>\n",
       "</table>\n",
       "</div>"
      ],
      "text/plain": [
       "                                                    name platform  \\\n",
       "14099                       Deception III: Dark Delusion       PS   \n",
       "7758   Great Phoenix Wright: Ace Attorney - Naruhodou...      3DS   \n",
       "8843                           Pro Baseball Spirits 2015      PS3   \n",
       "4421       SpongeBob SquarePants: Lights, Camera, Pants!       GC   \n",
       "13602                  San-X Land: Theme Park de Asobou!       DS   \n",
       "\n",
       "       year_of_release         genre  na_sales  eu_sales  jp_sales  \\\n",
       "14099             1999  Role-Playing      0.02      0.01      0.00   \n",
       "7758              2015        Action      0.00      0.00      0.19   \n",
       "8843              2015        Action      0.00      0.00      0.15   \n",
       "4421              2005          Misc      0.34      0.09      0.00   \n",
       "13602             2006        Action      0.00      0.00      0.04   \n",
       "\n",
       "       other_sales  critic_score user_score rating  \n",
       "14099         0.00           NaN        NaN    NaN  \n",
       "7758          0.00           NaN        NaN    NaN  \n",
       "8843          0.00           NaN        NaN    NaN  \n",
       "4421          0.01           NaN        NaN    NaN  \n",
       "13602         0.00           NaN        NaN    NaN  "
      ]
     },
     "execution_count": 17,
     "metadata": {},
     "output_type": "execute_result"
    }
   ],
   "source": [
    "df_games.query('user_score.isnull()').sample(n=5, random_state=10)"
   ]
  },
  {
   "cell_type": "code",
   "execution_count": 18,
   "metadata": {
    "scrolled": false
   },
   "outputs": [
    {
     "data": {
      "text/plain": [
       "tbd    2424\n",
       "7.8     324\n",
       "8       290\n",
       "8.2     282\n",
       "8.3     254\n",
       "       ... \n",
       "0.2       2\n",
       "1         2\n",
       "0.7       2\n",
       "9.7       1\n",
       "0         1\n",
       "Name: user_score, Length: 96, dtype: int64"
      ]
     },
     "execution_count": 18,
     "metadata": {},
     "output_type": "execute_result"
    }
   ],
   "source": [
    "df_games['user_score'].value_counts()"
   ]
  },
  {
   "cell_type": "markdown",
   "metadata": {},
   "source": [
    "Наиболее часто встречается значение `tbd`, из-за которого данные имеют тип `object`. Расшифровывается данная аббревиатура как *to be determined*, что может означать, что данные будут выгружены позже. \n",
    "\n",
    "Так как колонку надо привести к типу `float`, то переобозначим значения следующим образом: `tbd` -> `-1`, так как оценка не может быть отрицательной, а нулевое значение уже есть. Таким образом, будет сразу заметно, что это маркер, а не количественное значение. "
   ]
  },
  {
   "cell_type": "code",
   "execution_count": 19,
   "metadata": {},
   "outputs": [
    {
     "data": {
      "text/plain": [
       "7.8    324\n",
       "8      290\n",
       "8.2    282\n",
       "8.3    254\n",
       "8.5    253\n",
       "      ... \n",
       "0.2      2\n",
       "1        2\n",
       "0.7      2\n",
       "9.7      1\n",
       "0        1\n",
       "Name: user_score, Length: 95, dtype: int64"
      ]
     },
     "execution_count": 19,
     "metadata": {},
     "output_type": "execute_result"
    }
   ],
   "source": [
    "df_games['user_score'].replace('tbd', np.nan, inplace=True)\n",
    "df_games['user_score'].value_counts()"
   ]
  },
  {
   "cell_type": "markdown",
   "metadata": {},
   "source": [
    "Колонка содержит нецелые значения, преобразовывать к типу `int` их не надо.  Всего 6699 пропусков, что составляет 40% от всех значений. Возможная причина их появлений в том, что некоторые игры были непопулярны или не вызвали у достаточного количества пользователей впечатлений, поэтому не была проставлена оценка. Изменим тип данных на `float` и заменим пропущенные значения на средние без учета маркера `-1`."
   ]
  },
  {
   "cell_type": "code",
   "execution_count": 20,
   "metadata": {
    "scrolled": false
   },
   "outputs": [
    {
     "name": "stdout",
     "output_type": "stream",
     "text": [
      "<class 'pandas.core.frame.DataFrame'>\n",
      "RangeIndex: 16713 entries, 0 to 16712\n",
      "Data columns (total 11 columns):\n",
      "name               16713 non-null object\n",
      "platform           16713 non-null object\n",
      "year_of_release    16713 non-null int64\n",
      "genre              16713 non-null object\n",
      "na_sales           16713 non-null float64\n",
      "eu_sales           16713 non-null float64\n",
      "jp_sales           16713 non-null float64\n",
      "other_sales        16713 non-null float64\n",
      "critic_score       8137 non-null float64\n",
      "user_score         7590 non-null float64\n",
      "rating             9949 non-null object\n",
      "dtypes: float64(6), int64(1), object(4)\n",
      "memory usage: 1.4+ MB\n"
     ]
    }
   ],
   "source": [
    "df_games['user_score'] = df_games['user_score'].astype('float')\n",
    "# df_games['user_score'].fillna(df_games[df_games['user_score'] != -1]['user_score'].mean(), inplace=True)\n",
    "df_games.info()"
   ]
  },
  {
   "cell_type": "markdown",
   "metadata": {},
   "source": [
    "**Информация о рейтинге:**\n",
    "\n",
    "В колонке `rating`, которая содержит данные о рейтинге от организации ESRB, обнаружено 6764 пропущенных значения. Посмотрим на уникальные значения этого столбца."
   ]
  },
  {
   "cell_type": "code",
   "execution_count": 21,
   "metadata": {
    "scrolled": false
   },
   "outputs": [
    {
     "data": {
      "text/plain": [
       "array(['E', nan, 'M', 'T', 'E10+', 'K-A', 'AO', 'EC', 'RP'], dtype=object)"
      ]
     },
     "metadata": {},
     "output_type": "display_data"
    },
    {
     "data": {
      "text/plain": [
       "E       3990\n",
       "T       2961\n",
       "M       1563\n",
       "E10+    1420\n",
       "EC         8\n",
       "RP         3\n",
       "K-A        3\n",
       "AO         1\n",
       "Name: rating, dtype: int64"
      ]
     },
     "execution_count": 21,
     "metadata": {},
     "output_type": "execute_result"
    }
   ],
   "source": [
    "display(df_games['rating'].unique())\n",
    "df_games['rating'].value_counts()"
   ]
  },
  {
   "cell_type": "markdown",
   "metadata": {},
   "source": [
    "Согласно источнику в википедии Рейтинг игр ESRB имеет следующую классификацию:\n",
    "\n",
    "* «EC» («Early childhood») — «Для детей младшего возраста»\n",
    "* «E» («Everyone») — «Для всех» (Первоначально \"K-A\" (\"Kids to Adults\"))\n",
    "* «E10+» («Everyone 10 and older») — «Для всех от 10 лет и старше»\n",
    "* «T» («Teen») — «Подросткам»\n",
    "* «M» («Mature») — «Для взрослых»\n",
    "* «AO» («Adults Only 18+») — «Только для взрослых»\n",
    "* «RP» («Rating Pending») — «Рейтинг ожидается»"
   ]
  },
  {
   "cell_type": "markdown",
   "metadata": {},
   "source": [
    "* Заменим пропущенные значения на `no rating` для удобства дальнейшего исследования. Так же включим в их множество игры, для которых рейтинг ожидается.\n",
    "* Так как `E` первоначально было `K-A`, то заменим старое значение на новое. \n",
    "* Игру с рейтингом `AO` можно включить в категорию `M`, так как она всего одна и подходит по возрасту.\n",
    "* 8 игр для детей младшего возраста включим в наиболее близкую категорию - для всех от 10 лет и старше."
   ]
  },
  {
   "cell_type": "code",
   "execution_count": 22,
   "metadata": {
    "scrolled": false
   },
   "outputs": [
    {
     "data": {
      "text/plain": [
       "no rating    6767\n",
       "E            3993\n",
       "T            2961\n",
       "M            1564\n",
       "E10+         1428\n",
       "Name: rating, dtype: int64"
      ]
     },
     "execution_count": 22,
     "metadata": {},
     "output_type": "execute_result"
    }
   ],
   "source": [
    "df_games.loc[df_games.loc[:, 'rating'].isnull(), 'rating'] = 'no rating'\n",
    "df_games['rating'] = df_games['rating'].replace('RP', 'no rating')\n",
    "df_games['rating'] = df_games['rating'].replace('K-A', 'E')\n",
    "df_games['rating'] = df_games['rating'].replace('AO', 'M')\n",
    "df_games['rating'] = df_games['rating'].replace('EC', 'E10+')\n",
    "df_games['rating'].value_counts()"
   ]
  },
  {
   "cell_type": "markdown",
   "metadata": {},
   "source": [
    "Возможная причина появления этих пропусков кроется в том, что некоторые игры могли быть известны лишь малому количеству людей, поэтому ESRB не определяла их рейтинг. Так как это категориальные значения, а удаление пропусков сильно повлияет на массив данных (т.к. они составляют 40,5%), то оставим пропущенные значения, заменив их на соответствующую категорию."
   ]
  },
  {
   "cell_type": "markdown",
   "metadata": {},
   "source": [
    "### Дополнительные расчеты"
   ]
  },
  {
   "cell_type": "markdown",
   "metadata": {},
   "source": [
    "Посчитаем суммарные продажи во всех регионах и запишем их в отдельный столбец."
   ]
  },
  {
   "cell_type": "code",
   "execution_count": 23,
   "metadata": {
    "scrolled": true
   },
   "outputs": [
    {
     "data": {
      "text/html": [
       "<div>\n",
       "<style scoped>\n",
       "    .dataframe tbody tr th:only-of-type {\n",
       "        vertical-align: middle;\n",
       "    }\n",
       "\n",
       "    .dataframe tbody tr th {\n",
       "        vertical-align: top;\n",
       "    }\n",
       "\n",
       "    .dataframe thead th {\n",
       "        text-align: right;\n",
       "    }\n",
       "</style>\n",
       "<table border=\"1\" class=\"dataframe\">\n",
       "  <thead>\n",
       "    <tr style=\"text-align: right;\">\n",
       "      <th></th>\n",
       "      <th>name</th>\n",
       "      <th>platform</th>\n",
       "      <th>year_of_release</th>\n",
       "      <th>genre</th>\n",
       "      <th>na_sales</th>\n",
       "      <th>eu_sales</th>\n",
       "      <th>jp_sales</th>\n",
       "      <th>other_sales</th>\n",
       "      <th>critic_score</th>\n",
       "      <th>user_score</th>\n",
       "      <th>rating</th>\n",
       "      <th>total_sales</th>\n",
       "    </tr>\n",
       "  </thead>\n",
       "  <tbody>\n",
       "    <tr>\n",
       "      <td>0</td>\n",
       "      <td>Wii Sports</td>\n",
       "      <td>Wii</td>\n",
       "      <td>2006</td>\n",
       "      <td>Sports</td>\n",
       "      <td>41.36</td>\n",
       "      <td>28.96</td>\n",
       "      <td>3.77</td>\n",
       "      <td>8.45</td>\n",
       "      <td>76.0</td>\n",
       "      <td>8.0</td>\n",
       "      <td>E</td>\n",
       "      <td>82.54</td>\n",
       "    </tr>\n",
       "    <tr>\n",
       "      <td>1</td>\n",
       "      <td>Super Mario Bros.</td>\n",
       "      <td>NES</td>\n",
       "      <td>1985</td>\n",
       "      <td>Platform</td>\n",
       "      <td>29.08</td>\n",
       "      <td>3.58</td>\n",
       "      <td>6.81</td>\n",
       "      <td>0.77</td>\n",
       "      <td>NaN</td>\n",
       "      <td>NaN</td>\n",
       "      <td>no rating</td>\n",
       "      <td>40.24</td>\n",
       "    </tr>\n",
       "    <tr>\n",
       "      <td>2</td>\n",
       "      <td>Mario Kart Wii</td>\n",
       "      <td>Wii</td>\n",
       "      <td>2008</td>\n",
       "      <td>Racing</td>\n",
       "      <td>15.68</td>\n",
       "      <td>12.76</td>\n",
       "      <td>3.79</td>\n",
       "      <td>3.29</td>\n",
       "      <td>82.0</td>\n",
       "      <td>8.3</td>\n",
       "      <td>E</td>\n",
       "      <td>35.52</td>\n",
       "    </tr>\n",
       "    <tr>\n",
       "      <td>3</td>\n",
       "      <td>Wii Sports Resort</td>\n",
       "      <td>Wii</td>\n",
       "      <td>2009</td>\n",
       "      <td>Sports</td>\n",
       "      <td>15.61</td>\n",
       "      <td>10.93</td>\n",
       "      <td>3.28</td>\n",
       "      <td>2.95</td>\n",
       "      <td>80.0</td>\n",
       "      <td>8.0</td>\n",
       "      <td>E</td>\n",
       "      <td>32.77</td>\n",
       "    </tr>\n",
       "    <tr>\n",
       "      <td>4</td>\n",
       "      <td>Pokemon Red/Pokemon Blue</td>\n",
       "      <td>GB</td>\n",
       "      <td>1996</td>\n",
       "      <td>Role-Playing</td>\n",
       "      <td>11.27</td>\n",
       "      <td>8.89</td>\n",
       "      <td>10.22</td>\n",
       "      <td>1.00</td>\n",
       "      <td>NaN</td>\n",
       "      <td>NaN</td>\n",
       "      <td>no rating</td>\n",
       "      <td>31.38</td>\n",
       "    </tr>\n",
       "  </tbody>\n",
       "</table>\n",
       "</div>"
      ],
      "text/plain": [
       "                       name platform  year_of_release         genre  na_sales  \\\n",
       "0                Wii Sports      Wii             2006        Sports     41.36   \n",
       "1         Super Mario Bros.      NES             1985      Platform     29.08   \n",
       "2            Mario Kart Wii      Wii             2008        Racing     15.68   \n",
       "3         Wii Sports Resort      Wii             2009        Sports     15.61   \n",
       "4  Pokemon Red/Pokemon Blue       GB             1996  Role-Playing     11.27   \n",
       "\n",
       "   eu_sales  jp_sales  other_sales  critic_score  user_score     rating  \\\n",
       "0     28.96      3.77         8.45          76.0         8.0          E   \n",
       "1      3.58      6.81         0.77           NaN         NaN  no rating   \n",
       "2     12.76      3.79         3.29          82.0         8.3          E   \n",
       "3     10.93      3.28         2.95          80.0         8.0          E   \n",
       "4      8.89     10.22         1.00           NaN         NaN  no rating   \n",
       "\n",
       "   total_sales  \n",
       "0        82.54  \n",
       "1        40.24  \n",
       "2        35.52  \n",
       "3        32.77  \n",
       "4        31.38  "
      ]
     },
     "execution_count": 23,
     "metadata": {},
     "output_type": "execute_result"
    }
   ],
   "source": [
    "df_games['total_sales'] = df_games['na_sales'] + df_games['eu_sales'] + df_games['jp_sales'] + df_games['other_sales']\n",
    "df_games.head()"
   ]
  },
  {
   "cell_type": "markdown",
   "metadata": {},
   "source": [
    "### Вывод"
   ]
  },
  {
   "cell_type": "markdown",
   "metadata": {},
   "source": [
    "Был получен массив данных, состоящий из 16715 строк, однако были обнаружены и исправлены следующие недочеты:\n",
    "* Названия столбцов записаны не в нижнем регистре\n",
    "* Пропуски в колонках `Name`, `Year_of_Release`, `Genre`, `Critic_Score`, `User_Score`, `Rating`.\n",
    "\n",
    "Первым шагом были приведены названия столбцов в нижний регистр.\n",
    "2 строки с пропущенными значениями в `Name` были удалены, так как это не привело бы к потере значимой части массива данных. Дальнейшее исследование будет проводиться с таблицей из 16713 строк. \n",
    "\n",
    "269 пропусков в `year_of_release` были заменены медианным значением по каждой платформе. В колонках `critic_score` и `user_score` обнаружено 8576 и 6699 соответственно пропущенных значений. Удалить эти строки не получится, так как это сильно повляет на результаты дальнейших исследований, ведь они занимают весомую часть массива данных (около 51% и 40%).\n",
    "\n",
    "В колонке `rating` содержатся категориальные значения, указывающие на рейтинг игр, полученный от организации ESRB. Оставим их как есть по причине того, что игра могла и не получить оценки по причине своей непопулярности.\n",
    "\n",
    "Для дальнейший исследований была добавлена колонка `total_sales`, содержащая информацию о продажах по всем регионам."
   ]
  },
  {
   "cell_type": "markdown",
   "metadata": {},
   "source": [
    "## Исследовательский анализ данных"
   ]
  },
  {
   "cell_type": "markdown",
   "metadata": {},
   "source": [
    "### Количество выпускаемых игр по годам\n",
    "\n",
    "Посмотрим, сколько игр выпускалось в разные годы."
   ]
  },
  {
   "cell_type": "code",
   "execution_count": 24,
   "metadata": {},
   "outputs": [
    {
     "data": {
      "image/png": "[encoded data removed]",
      "text/plain": [
       "<Figure size 720x360 with 1 Axes>"
      ]
     },
     "metadata": {
      "needs_background": "light"
     },
     "output_type": "display_data"
    }
   ],
   "source": [
    "df_games.groupby('year_of_release')['name'].count().plot(kind='bar', grid=True, figsize=(10, 5),\n",
    "                                                        title='Выпуск игр')\n",
    "plt.xlabel('Год выпуска')\n",
    "plt.ylabel('Количество игр')\n",
    "plt.xticks(rotation=45)\n",
    "plt.show()"
   ]
  },
  {
   "cell_type": "markdown",
   "metadata": {},
   "source": [
    "По графику видно, что до 1994 года игры практически не выпускались. Это связано с тем, что в то время техника была плохо развита и недоступна широкому кругу населения, соответственно, игры были непопулярны, поэтому прибыли с их выпуска было мало. \n",
    "\n",
    "С 1995 по 2001 год произошел подъем в индустрии игр, причиной этому может являться то, что в этот период технологии развились и стали распространяться среди людей с средним достатком, игры стали более доступны и выпускать их стало проще.\n",
    "\n",
    "С 2002 по 2011 год происходит резкое повышение количества выпускаемых игр, пик наблюдается в 2007 - 2009 году. Это связано с тем, что различные платформы, на которых можно играть, появились у большого количества населения и люди стали более заинтересованы.\n",
    "\n",
    "После 2011 года происходит спад до уровня 2001 года. Причиной этого может быть то, что конкуренция в индустрии игр возросла, и чтобы выпустить что-то стоящее, нужны годы разработки и много финансовых вложений."
   ]
  },
  {
   "cell_type": "markdown",
   "metadata": {},
   "source": [
    "**Вывод:**\n",
    "\n",
    "Таким образом, не имеет смысла рассматривать данные по выпуску игр раньше 1995 года, так как их выпускалось очень мало. \n",
    "\n",
    "Для дальнейших исследований будем использовать следующий массив данных:"
   ]
  },
  {
   "cell_type": "code",
   "execution_count": 25,
   "metadata": {},
   "outputs": [],
   "source": [
    "df_modern_games = df_games.query('year_of_release >= 1995')"
   ]
  },
  {
   "cell_type": "markdown",
   "metadata": {},
   "source": [
    "### Количество выпускаемых игр по платформам"
   ]
  },
  {
   "cell_type": "markdown",
   "metadata": {},
   "source": [
    "Посмотрим, как менялись продажи по платформам. Выберем платформы с наибольшими суммарными продажами и построим распределение по годам. "
   ]
  },
  {
   "cell_type": "code",
   "execution_count": 26,
   "metadata": {},
   "outputs": [
    {
     "data": {
      "image/png": "[encoded data removed]",
      "text/plain": [
       "<Figure size 720x288 with 1 Axes>"
      ]
     },
     "metadata": {
      "needs_background": "light"
     },
     "output_type": "display_data"
    }
   ],
   "source": [
    "games_sales = df_modern_games.pivot_table(\n",
    "    index='platform', values='total_sales', aggfunc='sum').sort_values(by='total_sales', ascending=False)\n",
    "games_sales.plot(kind='bar', grid=True, figsize=(10, 4), title='Продажи за всё время')\n",
    "plt.xlabel('Платформа')\n",
    "plt.ylabel('Продажи (млн. копий)')\n",
    "plt.xticks(rotation=45)\n",
    "plt.show()"
   ]
  },
  {
   "cell_type": "markdown",
   "metadata": {},
   "source": [
    "По графику видно, что наиболее популярные платформы за все время - PS2, X360, PS3, Wii, DS, PS. Построим для них распределение продаж по годам."
   ]
  },
  {
   "cell_type": "code",
   "execution_count": 27,
   "metadata": {
    "scrolled": false
   },
   "outputs": [
    {
     "data": {
      "image/png": "[encoded data removed]",
      "text/plain": [
       "<Figure size 504x216 with 1 Axes>"
      ]
     },
     "metadata": {
      "needs_background": "light"
     },
     "output_type": "display_data"
    },
    {
     "data": {
      "image/png": "[encoded data removed]",
      "text/plain": [
       "<Figure size 504x216 with 1 Axes>"
      ]
     },
     "metadata": {
      "needs_background": "light"
     },
     "output_type": "display_data"
    },
    {
     "data": {
      "image/png": "[encoded data removed]",
      "text/plain": [
       "<Figure size 504x216 with 1 Axes>"
      ]
     },
     "metadata": {
      "needs_background": "light"
     },
     "output_type": "display_data"
    },
    {
     "data": {
      "image/png": "[encoded data removed]",
      "text/plain": [
       "<Figure size 504x216 with 1 Axes>"
      ]
     },
     "metadata": {
      "needs_background": "light"
     },
     "output_type": "display_data"
    },
    {
     "data": {
      "image/png": "[encoded data removed]",
      "text/plain": [
       "<Figure size 504x216 with 1 Axes>"
      ]
     },
     "metadata": {
      "needs_background": "light"
     },
     "output_type": "display_data"
    },
    {
     "data": {
      "image/png": "[encoded data removed]",
      "text/plain": [
       "<Figure size 504x216 with 1 Axes>"
      ]
     },
     "metadata": {
      "needs_background": "light"
     },
     "output_type": "display_data"
    }
   ],
   "source": [
    "popular_platforms = ['PS2', 'X360', 'PS3', 'Wii', 'DS', 'PS']\n",
    "for platform_name in popular_platforms:\n",
    "    df_modern_games.query('platform == @platform_name').pivot_table(\n",
    "        index='year_of_release', values='total_sales', aggfunc='sum').plot(kind='bar', grid=True, figsize=(7, 3))\n",
    "    plt.title(platform_name)\n",
    "    plt.xlabel('Год выпуска')\n",
    "    plt.ylabel('Продано млн. копий')\n",
    "    plt.xticks(rotation=0)"
   ]
  },
  {
   "cell_type": "markdown",
   "metadata": {},
   "source": [
    "**Вывод:**"
   ]
  },
  {
   "cell_type": "markdown",
   "metadata": {},
   "source": [
    "Наиболее популярные платформы за всё время в порядке убывания соответственно: \n",
    "* PS2 - появилась в 2000 году, к 2009 практически исчезла\n",
    "* X360 - появилась в 2005 году, после 2014 - 2015 исчезает\n",
    "* PS3 - появилась в 2006 году, к 2015 исчезает\n",
    "* Wii - появилась в 2006 году, к 2012 практически исчезла\n",
    "* DS - появилась в 2004 году, исчезает после 2011\n",
    "* PS - появилась в 1995 году, после 2001 исчезает\n",
    "\n",
    "Средни этих платформ быстрее всех ушла Wii, ее популярность резка пошла на спад после пика в 2009 году. Однако остальные платформы увядали более плавно, следовательно, при расчете средней продолжительности существования можно не принимать во внимание эту платформу.\n",
    "Таким образом, платформы в среднем имеют срок жизни около 8 лет.\n",
    "\n",
    "Так как многие новые платформы появляются в 2004 - 2006 годах, а пик игровой индустрии наблюдается в 2007 - 2009 годах, \n",
    "то для построения прогнозов на 2017 год в качестве актуального периода следует рассматривать данные после 2009-го года."
   ]
  },
  {
   "cell_type": "code",
   "execution_count": 28,
   "metadata": {},
   "outputs": [],
   "source": [
    "df_actual_games = df_modern_games.query('year_of_release > 2009').reset_index()"
   ]
  },
  {
   "cell_type": "markdown",
   "metadata": {},
   "source": [
    "### Определение потенциально прибыльных платформ"
   ]
  },
  {
   "cell_type": "markdown",
   "metadata": {},
   "source": [
    "Посмотрим, какие платформы лидируют по продажам, растут или падают. Выберем несколько потенциально прибыльных платформ."
   ]
  },
  {
   "cell_type": "code",
   "execution_count": 29,
   "metadata": {},
   "outputs": [],
   "source": [
    "# Функция, возвращающая таблицу с продажами каждой платформы.\n",
    "def platform_total_sales(platform_name, df):\n",
    "    result = df.query('platform == @platform_name').pivot_table(\n",
    "        index='year_of_release', values='total_sales', aggfunc='sum')\n",
    "    return result"
   ]
  },
  {
   "cell_type": "code",
   "execution_count": 30,
   "metadata": {
    "scrolled": true
   },
   "outputs": [
    {
     "data": {
      "image/png": "[encoded data removed]",
      "text/plain": [
       "<Figure size 1080x360 with 1 Axes>"
      ]
     },
     "metadata": {
      "needs_background": "light"
     },
     "output_type": "display_data"
    }
   ],
   "source": [
    "all_platforms = df_actual_games['platform'].unique()\n",
    "for platform_type in all_platforms:\n",
    "    platform_total_sales(platform_type, df_actual_games)['total_sales'].plot(grid=True, figsize=(15, 5),\n",
    "                                                                             label=platform_type,\n",
    "                                                                            title='Продано всего млн.копий')\n",
    "    plt.legend()"
   ]
  },
  {
   "cell_type": "markdown",
   "metadata": {},
   "source": [
    "Можно видеть спад продаж в целом у всех платформ, однако все еще можно выделить 3 самых перспективных:\n",
    "* PS4\n",
    "* XOne\n",
    "* 3DS"
   ]
  },
  {
   "cell_type": "markdown",
   "metadata": {},
   "source": [
    "### Глобальные продажи игр по платформам"
   ]
  },
  {
   "cell_type": "markdown",
   "metadata": {},
   "source": [
    "Построим график «ящик с усами» по глобальным продажам игр в разбивке по всем платформам. "
   ]
  },
  {
   "cell_type": "code",
   "execution_count": 31,
   "metadata": {
    "scrolled": false
   },
   "outputs": [
    {
     "data": {
      "image/png": "[encoded data removed]",
      "text/plain": [
       "<Figure size 720x360 with 1 Axes>"
      ]
     },
     "metadata": {
      "needs_background": "light"
     },
     "output_type": "display_data"
    }
   ],
   "source": [
    "plt.figure(figsize=(10, 5))\n",
    "sns.boxplot(data=df_actual_games, x='platform', y='total_sales')\n",
    "plt.title('Ящик с усами')\n",
    "plt.xlabel('Платформа')\n",
    "plt.ylabel('Продажи по всем регионам')\n",
    "plt.ylim(0, 5)\n",
    "plt.show()"
   ]
  },
  {
   "cell_type": "markdown",
   "metadata": {},
   "source": [
    "Самые большие продажи по всем регионам наблюдаются у PS4, затем XOne, 3DS и PS3.\n",
    "\n",
    "Самые низкие продажи у PC, PSP и PSV."
   ]
  },
  {
   "cell_type": "markdown",
   "metadata": {},
   "source": [
    "Построим график «ящик с усами» по глобальным продажам игр в разбивке по потенциально прибыльным платформам."
   ]
  },
  {
   "cell_type": "code",
   "execution_count": 32,
   "metadata": {},
   "outputs": [
    {
     "data": {
      "image/png": "[encoded data removed]",
      "text/plain": [
       "<Figure size 720x360 with 1 Axes>"
      ]
     },
     "metadata": {
      "needs_background": "light"
     },
     "output_type": "display_data"
    }
   ],
   "source": [
    "df_top_platforms_sales = df_actual_games.query('(platform == \"PS4\") or (platform == \"XOne\") or (platform == \"3DS\")')\n",
    "plt.figure(figsize=(10, 5))\n",
    "sns.boxplot(data=df_top_platforms_sales, x='platform', y='total_sales')\n",
    "plt.title('Ящик с усами')\n",
    "plt.xlabel('Платформа')\n",
    "plt.ylabel('Продажи по всем регионам')\n",
    "plt.ylim(0, 3)\n",
    "plt.show()"
   ]
  },
  {
   "cell_type": "markdown",
   "metadata": {},
   "source": [
    "Самые большие продажи у PS4, а самые низкие у 3DS. Возможно, это связано с тем, что сама платформа PS4 предлагает лучше функционал и более распространена среди пользователей, поэтому и игр продается больше. "
   ]
  },
  {
   "cell_type": "markdown",
   "metadata": {},
   "source": [
    "### Влияние отзывов на продажи"
   ]
  },
  {
   "cell_type": "markdown",
   "metadata": {},
   "source": [
    "#### Влияние отзывов на продажи на платформе PS4:\n",
    "\n",
    "Посмотрим, как влияют на продажи отзывы пользователей и критиков на примере самой популярной платформы - PS4. Построим диаграмму рассеяния и посчитаем корреляцию между отзывами и продажами. "
   ]
  },
  {
   "cell_type": "code",
   "execution_count": 33,
   "metadata": {},
   "outputs": [
    {
     "name": "stdout",
     "output_type": "stream",
     "text": [
      "Корреляция между отзывами пользователей и продажами платформы PS4: -0.031957110204556424\n"
     ]
    },
    {
     "data": {
      "image/png": "[encoded data removed]",
      "text/plain": [
       "<Figure size 720x360 with 1 Axes>"
      ]
     },
     "metadata": {
      "needs_background": "light"
     },
     "output_type": "display_data"
    }
   ],
   "source": [
    "df_ps4 = df_actual_games.query('platform == \"PS4\"')\n",
    "\n",
    "print('Корреляция между отзывами пользователей и продажами платформы PS4:',\n",
    "      df_ps4['user_score'].corr(df_ps4['total_sales']))\n",
    "plt.figure(figsize=(10, 5))\n",
    "sns.scatterplot(x='user_score', y='total_sales', data=df_ps4)\n",
    "plt.title('Диаграмма размаха')\n",
    "plt.xlabel('Отзывы пользователей')\n",
    "plt.ylabel('Продажи (млн. копий)')\n",
    "plt.show()"
   ]
  },
  {
   "cell_type": "code",
   "execution_count": 34,
   "metadata": {},
   "outputs": [
    {
     "name": "stdout",
     "output_type": "stream",
     "text": [
      "Корреляция между оценкой критиков и продажами платформы PS4: 0.40656790206178095\n"
     ]
    },
    {
     "data": {
      "image/png": "[encoded data removed]",
      "text/plain": [
       "<Figure size 720x360 with 1 Axes>"
      ]
     },
     "metadata": {
      "needs_background": "light"
     },
     "output_type": "display_data"
    }
   ],
   "source": [
    "print('Корреляция между оценкой критиков и продажами платформы PS4:',\n",
    "      df_ps4['critic_score'].corr(df_ps4['total_sales']))\n",
    "plt.figure(figsize=(10, 5))\n",
    "sns.scatterplot(x='critic_score', y='total_sales', data=df_ps4)\n",
    "plt.title('Диаграмма размаха')\n",
    "plt.xlabel('Оценка критиков')\n",
    "plt.ylabel('Продажи (млн. копий)')\n",
    "plt.show()"
   ]
  },
  {
   "cell_type": "markdown",
   "metadata": {},
   "source": [
    "**Промежуточный вывод:** \n",
    "\n",
    "* Отзывы пользователей не имеют связи с продажами игр на платформе PS4, так как корреляция отсутствует.\n",
    "* Отзывы критиков слабо, но все-таки прямо влияют на продажи игр на платформе PS4."
   ]
  },
  {
   "cell_type": "markdown",
   "metadata": {},
   "source": [
    "#### Влияние отзывов на продажи на других платформах:\n",
    "\n",
    "Рассмотрим вторую по популярности платформу - XOne."
   ]
  },
  {
   "cell_type": "code",
   "execution_count": 35,
   "metadata": {
    "scrolled": false
   },
   "outputs": [
    {
     "name": "stdout",
     "output_type": "stream",
     "text": [
      "Корреляция между отзывами пользователей и продажами платформы XOne: -0.06892505328279414\n"
     ]
    },
    {
     "data": {
      "image/png": "[encoded data removed]",
      "text/plain": [
       "<Figure size 720x360 with 1 Axes>"
      ]
     },
     "metadata": {
      "needs_background": "light"
     },
     "output_type": "display_data"
    },
    {
     "name": "stdout",
     "output_type": "stream",
     "text": [
      "Корреляция между оценкой критиков и продажами платформы XOne: 0.4169983280084017\n"
     ]
    },
    {
     "data": {
      "image/png": "[encoded data removed]",
      "text/plain": [
       "<Figure size 720x360 with 1 Axes>"
      ]
     },
     "metadata": {
      "needs_background": "light"
     },
     "output_type": "display_data"
    }
   ],
   "source": [
    "df_xone = df_actual_games.query('platform == \"XOne\"')\n",
    "\n",
    "print('Корреляция между отзывами пользователей и продажами платформы XOne:',\n",
    "      df_xone['user_score'].corr(df_xone['total_sales']))\n",
    "plt.figure(figsize=(10, 5))\n",
    "sns.scatterplot(x='user_score', y='total_sales', data=df_xone)\n",
    "plt.title('Диаграмма размаха')\n",
    "plt.xlabel('Отзывы пользователей')\n",
    "plt.ylabel('Продажи (млн. копий)')\n",
    "plt.show()\n",
    "\n",
    "print('Корреляция между оценкой критиков и продажами платформы XOne:',\n",
    "      df_xone['critic_score'].corr(df_xone['total_sales']))\n",
    "plt.figure(figsize=(10, 5))\n",
    "sns.scatterplot(x='critic_score', y='total_sales', data=df_xone)\n",
    "plt.title('Диаграмма размаха')\n",
    "plt.xlabel('Оценки критиков')\n",
    "plt.ylabel('Продажи (млн. копий)')\n",
    "plt.show()"
   ]
  },
  {
   "cell_type": "markdown",
   "metadata": {},
   "source": [
    "**Промежуточный вывод:** \n",
    "\n",
    "* Отзывы пользователей не имеют связи с продажами игр на платформе XOne, так как корреляция отсутствует.\n",
    "* Отзывы критиков слабо, но все-таки прямо влияют на продажи игр на платформе XOne."
   ]
  },
  {
   "cell_type": "markdown",
   "metadata": {},
   "source": [
    "Рассмотрим третью по популярности платформу - 3DS."
   ]
  },
  {
   "cell_type": "code",
   "execution_count": 36,
   "metadata": {},
   "outputs": [
    {
     "name": "stdout",
     "output_type": "stream",
     "text": [
      "Корреляция между отзывами пользователей и продажами платформы 3DS: -0.06892505328279414\n"
     ]
    },
    {
     "data": {
      "image/png": "[encoded data removed]",
      "text/plain": [
       "<Figure size 720x360 with 1 Axes>"
      ]
     },
     "metadata": {
      "needs_background": "light"
     },
     "output_type": "display_data"
    },
    {
     "name": "stdout",
     "output_type": "stream",
     "text": [
      "Корреляция между оценкой критиков и продажами платформы 3DS: 0.3494009303924131\n"
     ]
    },
    {
     "data": {
      "image/png": "[encoded data removed]",
      "text/plain": [
       "<Figure size 720x360 with 1 Axes>"
      ]
     },
     "metadata": {
      "needs_background": "light"
     },
     "output_type": "display_data"
    }
   ],
   "source": [
    "df_3ds = df_actual_games.query('platform == \"3DS\"')\n",
    "\n",
    "print('Корреляция между отзывами пользователей и продажами платформы 3DS:',\n",
    "      df_xone['user_score'].corr(df_xone['total_sales']))\n",
    "plt.figure(figsize=(10, 5))\n",
    "sns.scatterplot(x='user_score', y='total_sales', data=df_3ds)\n",
    "plt.title('Диаграмма размаха')\n",
    "plt.xlabel('Отзывы пользователей')\n",
    "plt.ylabel('Продажи (млн. копий)')\n",
    "plt.show()\n",
    "\n",
    "print('Корреляция между оценкой критиков и продажами платформы 3DS:',\n",
    "      df_3ds['critic_score'].corr(df_3ds['total_sales']))\n",
    "plt.figure(figsize=(10, 5))\n",
    "sns.scatterplot(x='critic_score', y='total_sales', data=df_xone)\n",
    "plt.title('Диаграмма размаха')\n",
    "plt.xlabel('Оценки критиков')\n",
    "plt.ylabel('Продажи (млн. копий)')\n",
    "plt.show()"
   ]
  },
  {
   "cell_type": "markdown",
   "metadata": {},
   "source": [
    "**Промежуточный вывод:** \n",
    "\n",
    "* Отзывы пользователей не имеют связи с продажами игр на платформе 3DS, так как корреляция отсутствует.\n",
    "* Отзывы критиков практически не влияют на продажи игр на платформе 3DS."
   ]
  },
  {
   "cell_type": "markdown",
   "metadata": {},
   "source": [
    "### Распределение игр по жанрам"
   ]
  },
  {
   "cell_type": "markdown",
   "metadata": {},
   "source": [
    "Посмотрим на общее распределение игр по жанрам."
   ]
  },
  {
   "cell_type": "code",
   "execution_count": 37,
   "metadata": {
    "scrolled": false
   },
   "outputs": [
    {
     "data": {
      "text/html": [
       "<style  type=\"text/css\" >\n",
       "    #T_ee5ca9e2_560c_11ec_92a6_02420a39089brow0_col1 {\n",
       "            width:  10em;\n",
       "             height:  80%;\n",
       "            background:  linear-gradient(90deg,#d65f5f 100.0%, transparent 100.0%);\n",
       "        }    #T_ee5ca9e2_560c_11ec_92a6_02420a39089brow1_col1 {\n",
       "            width:  10em;\n",
       "             height:  80%;\n",
       "            background:  linear-gradient(90deg,#d65f5f 70.0%, transparent 70.0%);\n",
       "        }    #T_ee5ca9e2_560c_11ec_92a6_02420a39089brow2_col1 {\n",
       "            width:  10em;\n",
       "             height:  80%;\n",
       "            background:  linear-gradient(90deg,#d65f5f 47.0%, transparent 47.0%);\n",
       "        }    #T_ee5ca9e2_560c_11ec_92a6_02420a39089brow3_col1 {\n",
       "            width:  10em;\n",
       "             height:  80%;\n",
       "            background:  linear-gradient(90deg,#d65f5f 44.9%, transparent 44.9%);\n",
       "        }    #T_ee5ca9e2_560c_11ec_92a6_02420a39089brow4_col1 {\n",
       "            width:  10em;\n",
       "             height:  80%;\n",
       "            background:  linear-gradient(90deg,#d65f5f 32.9%, transparent 32.9%);\n",
       "        }    #T_ee5ca9e2_560c_11ec_92a6_02420a39089brow5_col1 {\n",
       "            width:  10em;\n",
       "             height:  80%;\n",
       "            background:  linear-gradient(90deg,#d65f5f 15.7%, transparent 15.7%);\n",
       "        }    #T_ee5ca9e2_560c_11ec_92a6_02420a39089brow6_col1 {\n",
       "            width:  10em;\n",
       "             height:  80%;\n",
       "            background:  linear-gradient(90deg,#d65f5f 15.1%, transparent 15.1%);\n",
       "        }    #T_ee5ca9e2_560c_11ec_92a6_02420a39089brow7_col1 {\n",
       "            width:  10em;\n",
       "             height:  80%;\n",
       "            background:  linear-gradient(90deg,#d65f5f 9.3%, transparent 9.3%);\n",
       "        }    #T_ee5ca9e2_560c_11ec_92a6_02420a39089brow8_col1 {\n",
       "            width:  10em;\n",
       "             height:  80%;\n",
       "            background:  linear-gradient(90deg,#d65f5f 7.9%, transparent 7.9%);\n",
       "        }    #T_ee5ca9e2_560c_11ec_92a6_02420a39089brow9_col1 {\n",
       "            width:  10em;\n",
       "             height:  80%;\n",
       "            background:  linear-gradient(90deg,#d65f5f 6.1%, transparent 6.1%);\n",
       "        }    #T_ee5ca9e2_560c_11ec_92a6_02420a39089brow10_col1 {\n",
       "            width:  10em;\n",
       "             height:  80%;\n",
       "            background:  linear-gradient(90deg,#d65f5f 2.3%, transparent 2.3%);\n",
       "        }    #T_ee5ca9e2_560c_11ec_92a6_02420a39089brow11_col1 {\n",
       "            width:  10em;\n",
       "             height:  80%;\n",
       "        }</style><table id=\"T_ee5ca9e2_560c_11ec_92a6_02420a39089b\" ><thead>    <tr>        <th class=\"blank level0\" ></th>        <th class=\"col_heading level0 col0\" >genre</th>        <th class=\"col_heading level0 col1\" >total_sales</th>    </tr></thead><tbody>\n",
       "                <tr>\n",
       "                        <th id=\"T_ee5ca9e2_560c_11ec_92a6_02420a39089blevel0_row0\" class=\"row_heading level0 row0\" >0</th>\n",
       "                        <td id=\"T_ee5ca9e2_560c_11ec_92a6_02420a39089brow0_col0\" class=\"data row0 col0\" >Action</td>\n",
       "                        <td id=\"T_ee5ca9e2_560c_11ec_92a6_02420a39089brow0_col1\" class=\"data row0 col1\" >677.21</td>\n",
       "            </tr>\n",
       "            <tr>\n",
       "                        <th id=\"T_ee5ca9e2_560c_11ec_92a6_02420a39089blevel0_row1\" class=\"row_heading level0 row1\" >1</th>\n",
       "                        <td id=\"T_ee5ca9e2_560c_11ec_92a6_02420a39089brow1_col0\" class=\"data row1 col0\" >Shooter</td>\n",
       "                        <td id=\"T_ee5ca9e2_560c_11ec_92a6_02420a39089brow1_col1\" class=\"data row1 col1\" >480.06</td>\n",
       "            </tr>\n",
       "            <tr>\n",
       "                        <th id=\"T_ee5ca9e2_560c_11ec_92a6_02420a39089blevel0_row2\" class=\"row_heading level0 row2\" >2</th>\n",
       "                        <td id=\"T_ee5ca9e2_560c_11ec_92a6_02420a39089brow2_col0\" class=\"data row2 col0\" >Sports</td>\n",
       "                        <td id=\"T_ee5ca9e2_560c_11ec_92a6_02420a39089brow2_col1\" class=\"data row2 col1\" >329.04</td>\n",
       "            </tr>\n",
       "            <tr>\n",
       "                        <th id=\"T_ee5ca9e2_560c_11ec_92a6_02420a39089blevel0_row3\" class=\"row_heading level0 row3\" >3</th>\n",
       "                        <td id=\"T_ee5ca9e2_560c_11ec_92a6_02420a39089brow3_col0\" class=\"data row3 col0\" >Role-Playing</td>\n",
       "                        <td id=\"T_ee5ca9e2_560c_11ec_92a6_02420a39089brow3_col1\" class=\"data row3 col1\" >315.63</td>\n",
       "            </tr>\n",
       "            <tr>\n",
       "                        <th id=\"T_ee5ca9e2_560c_11ec_92a6_02420a39089blevel0_row4\" class=\"row_heading level0 row4\" >4</th>\n",
       "                        <td id=\"T_ee5ca9e2_560c_11ec_92a6_02420a39089brow4_col0\" class=\"data row4 col0\" >Misc</td>\n",
       "                        <td id=\"T_ee5ca9e2_560c_11ec_92a6_02420a39089brow4_col1\" class=\"data row4 col1\" >236.49</td>\n",
       "            </tr>\n",
       "            <tr>\n",
       "                        <th id=\"T_ee5ca9e2_560c_11ec_92a6_02420a39089blevel0_row5\" class=\"row_heading level0 row5\" >5</th>\n",
       "                        <td id=\"T_ee5ca9e2_560c_11ec_92a6_02420a39089brow5_col0\" class=\"data row5 col0\" >Racing</td>\n",
       "                        <td id=\"T_ee5ca9e2_560c_11ec_92a6_02420a39089brow5_col1\" class=\"data row5 col1\" >123.59</td>\n",
       "            </tr>\n",
       "            <tr>\n",
       "                        <th id=\"T_ee5ca9e2_560c_11ec_92a6_02420a39089blevel0_row6\" class=\"row_heading level0 row6\" >6</th>\n",
       "                        <td id=\"T_ee5ca9e2_560c_11ec_92a6_02420a39089brow6_col0\" class=\"data row6 col0\" >Platform</td>\n",
       "                        <td id=\"T_ee5ca9e2_560c_11ec_92a6_02420a39089brow6_col1\" class=\"data row6 col1\" >120.2</td>\n",
       "            </tr>\n",
       "            <tr>\n",
       "                        <th id=\"T_ee5ca9e2_560c_11ec_92a6_02420a39089blevel0_row7\" class=\"row_heading level0 row7\" >7</th>\n",
       "                        <td id=\"T_ee5ca9e2_560c_11ec_92a6_02420a39089brow7_col0\" class=\"data row7 col0\" >Fighting</td>\n",
       "                        <td id=\"T_ee5ca9e2_560c_11ec_92a6_02420a39089brow7_col1\" class=\"data row7 col1\" >81.59</td>\n",
       "            </tr>\n",
       "            <tr>\n",
       "                        <th id=\"T_ee5ca9e2_560c_11ec_92a6_02420a39089blevel0_row8\" class=\"row_heading level0 row8\" >8</th>\n",
       "                        <td id=\"T_ee5ca9e2_560c_11ec_92a6_02420a39089brow8_col0\" class=\"data row8 col0\" >Simulation</td>\n",
       "                        <td id=\"T_ee5ca9e2_560c_11ec_92a6_02420a39089brow8_col1\" class=\"data row8 col1\" >72.31</td>\n",
       "            </tr>\n",
       "            <tr>\n",
       "                        <th id=\"T_ee5ca9e2_560c_11ec_92a6_02420a39089blevel0_row9\" class=\"row_heading level0 row9\" >9</th>\n",
       "                        <td id=\"T_ee5ca9e2_560c_11ec_92a6_02420a39089brow9_col0\" class=\"data row9 col0\" >Adventure</td>\n",
       "                        <td id=\"T_ee5ca9e2_560c_11ec_92a6_02420a39089brow9_col1\" class=\"data row9 col1\" >61.12</td>\n",
       "            </tr>\n",
       "            <tr>\n",
       "                        <th id=\"T_ee5ca9e2_560c_11ec_92a6_02420a39089blevel0_row10\" class=\"row_heading level0 row10\" >10</th>\n",
       "                        <td id=\"T_ee5ca9e2_560c_11ec_92a6_02420a39089brow10_col0\" class=\"data row10 col0\" >Strategy</td>\n",
       "                        <td id=\"T_ee5ca9e2_560c_11ec_92a6_02420a39089brow10_col1\" class=\"data row10 col1\" >36.01</td>\n",
       "            </tr>\n",
       "            <tr>\n",
       "                        <th id=\"T_ee5ca9e2_560c_11ec_92a6_02420a39089blevel0_row11\" class=\"row_heading level0 row11\" >11</th>\n",
       "                        <td id=\"T_ee5ca9e2_560c_11ec_92a6_02420a39089brow11_col0\" class=\"data row11 col0\" >Puzzle</td>\n",
       "                        <td id=\"T_ee5ca9e2_560c_11ec_92a6_02420a39089brow11_col1\" class=\"data row11 col1\" >20.75</td>\n",
       "            </tr>\n",
       "    </tbody></table>"
      ],
      "text/plain": [
       "<pandas.io.formats.style.Styler at 0x7f7ca17218d0>"
      ]
     },
     "metadata": {},
     "output_type": "display_data"
    }
   ],
   "source": [
    "games_genres = df_actual_games.pivot_table(\n",
    "    index='genre', values='total_sales', aggfunc='sum').sort_values(by='total_sales', ascending=False)\n",
    "games_genres = games_genres.reset_index()\n",
    "display(games_genres.style.bar())"
   ]
  },
  {
   "cell_type": "code",
   "execution_count": 38,
   "metadata": {
    "scrolled": true
   },
   "outputs": [
    {
     "data": {
      "image/png": "[encoded data removed]",
      "text/plain": [
       "<Figure size 864x288 with 1 Axes>"
      ]
     },
     "metadata": {
      "needs_background": "light"
     },
     "output_type": "display_data"
    }
   ],
   "source": [
    "plt.figure(figsize=(12,4))\n",
    "sns.barplot(data=games_genres, x='genre', y='total_sales')\n",
    "plt.title('Распределение по жанрам')\n",
    "plt.xlabel('Жанр')\n",
    "plt.ylabel('Продано млн. копий')\n",
    "plt.show()"
   ]
  },
  {
   "cell_type": "markdown",
   "metadata": {},
   "source": [
    "Наиболее популярен жанр экшен, далее по убыванию популярности идут шутеры и спортивные игры. Наименее популярны пазлы."
   ]
  },
  {
   "cell_type": "markdown",
   "metadata": {},
   "source": [
    "### Вывод"
   ]
  },
  {
   "cell_type": "markdown",
   "metadata": {},
   "source": [
    "Из распределения выпускаемых игр по годам получилось выделить несколько промежутков развития игровой индустрии:\n",
    "* До 1994 года игры практически не выпускались. \n",
    "* С 1995 по 2001 год произошел подъем в индустрии игр.\n",
    "* С 2002 по 2011 год происходит резкое повышение количества выпускаемых игр, пик наблюдается в 2007 - 2009 году. \n",
    "* После 2011 года происходит спад до уровня 2001 года. \n",
    "\n",
    "Рассмотрев время появления и исчезновения популярных платформ, можно видеть, что платформы в среднем имеют срок жизни около 8 лет. А так как а пик игровой индустрии пришелся на 2007 - 2009 года, то для построения прогнозов на 2017 год имеет смысл рассматривать данные после 2009 года. \n",
    "\n",
    "К 2016 году в целом происходит спад продаж вне зависимости от платформы, однако все еще выделяются 3 самых перспективных (в порядке убывания прибыльности):\n",
    "* PS4\n",
    "* XOne\n",
    "* 3DS\n",
    "\n",
    "Оказалось, что отзывы пользователей никак не влияют на продажи игр. Возможно, это связано с тем, что для покупателей это слабый критерий при приобретении игры. Однако связь между оценками критиков все еще может повлиять на продажи, хоть здесь и присутствует очень слабая связь.\n",
    "\n",
    "Самый же популярный жанр за последние 7 лет - `Action`. Наименее востребованный - `Puzzle`."
   ]
  },
  {
   "cell_type": "markdown",
   "metadata": {},
   "source": [
    "## Портрет пользователя каждого региона"
   ]
  },
  {
   "cell_type": "markdown",
   "metadata": {},
   "source": [
    "Определим для пользователя каждого региона (NA, EU, JP):\n",
    "* Самые популярные платформы (топ-5), опишем различия в долях продаж.\n",
    "* Самые популярные жанры (топ-5), поясним разницу.\n",
    "\n",
    "Выясним, влияет ли рейтинг ESRB на продажи в отдельном регионе."
   ]
  },
  {
   "cell_type": "markdown",
   "metadata": {},
   "source": [
    "### Самые популярные платформы"
   ]
  },
  {
   "cell_type": "markdown",
   "metadata": {},
   "source": [
    "Для начала составим таблицу продаж по платформам в регионах."
   ]
  },
  {
   "cell_type": "code",
   "execution_count": 39,
   "metadata": {
    "scrolled": false
   },
   "outputs": [
    {
     "data": {
      "text/html": [
       "<div>\n",
       "<style scoped>\n",
       "    .dataframe tbody tr th:only-of-type {\n",
       "        vertical-align: middle;\n",
       "    }\n",
       "\n",
       "    .dataframe tbody tr th {\n",
       "        vertical-align: top;\n",
       "    }\n",
       "\n",
       "    .dataframe thead th {\n",
       "        text-align: right;\n",
       "    }\n",
       "</style>\n",
       "<table border=\"1\" class=\"dataframe\">\n",
       "  <thead>\n",
       "    <tr style=\"text-align: right;\">\n",
       "      <th></th>\n",
       "      <th>eu_sales</th>\n",
       "      <th>jp_sales</th>\n",
       "      <th>na_sales</th>\n",
       "      <th>total_sales</th>\n",
       "    </tr>\n",
       "    <tr>\n",
       "      <th>platform</th>\n",
       "      <th></th>\n",
       "      <th></th>\n",
       "      <th></th>\n",
       "      <th></th>\n",
       "    </tr>\n",
       "  </thead>\n",
       "  <tbody>\n",
       "    <tr>\n",
       "      <td>PS3</td>\n",
       "      <td>216.68</td>\n",
       "      <td>60.04</td>\n",
       "      <td>232.61</td>\n",
       "      <td>596.05</td>\n",
       "    </tr>\n",
       "    <tr>\n",
       "      <td>X360</td>\n",
       "      <td>163.41</td>\n",
       "      <td>5.46</td>\n",
       "      <td>334.18</td>\n",
       "      <td>550.41</td>\n",
       "    </tr>\n",
       "    <tr>\n",
       "      <td>PS4</td>\n",
       "      <td>141.09</td>\n",
       "      <td>15.96</td>\n",
       "      <td>108.74</td>\n",
       "      <td>314.14</td>\n",
       "    </tr>\n",
       "    <tr>\n",
       "      <td>3DS</td>\n",
       "      <td>61.48</td>\n",
       "      <td>100.67</td>\n",
       "      <td>83.49</td>\n",
       "      <td>259.00</td>\n",
       "    </tr>\n",
       "    <tr>\n",
       "      <td>Wii</td>\n",
       "      <td>65.91</td>\n",
       "      <td>17.75</td>\n",
       "      <td>121.20</td>\n",
       "      <td>222.97</td>\n",
       "    </tr>\n",
       "    <tr>\n",
       "      <td>XOne</td>\n",
       "      <td>51.59</td>\n",
       "      <td>0.34</td>\n",
       "      <td>93.12</td>\n",
       "      <td>159.32</td>\n",
       "    </tr>\n",
       "    <tr>\n",
       "      <td>DS</td>\n",
       "      <td>28.06</td>\n",
       "      <td>27.90</td>\n",
       "      <td>59.66</td>\n",
       "      <td>123.75</td>\n",
       "    </tr>\n",
       "    <tr>\n",
       "      <td>PC</td>\n",
       "      <td>68.82</td>\n",
       "      <td>0.00</td>\n",
       "      <td>39.07</td>\n",
       "      <td>121.96</td>\n",
       "    </tr>\n",
       "    <tr>\n",
       "      <td>WiiU</td>\n",
       "      <td>25.13</td>\n",
       "      <td>13.01</td>\n",
       "      <td>38.10</td>\n",
       "      <td>82.19</td>\n",
       "    </tr>\n",
       "    <tr>\n",
       "      <td>PSP</td>\n",
       "      <td>7.59</td>\n",
       "      <td>42.20</td>\n",
       "      <td>9.65</td>\n",
       "      <td>64.05</td>\n",
       "    </tr>\n",
       "    <tr>\n",
       "      <td>PSV</td>\n",
       "      <td>13.12</td>\n",
       "      <td>21.91</td>\n",
       "      <td>12.58</td>\n",
       "      <td>54.07</td>\n",
       "    </tr>\n",
       "    <tr>\n",
       "      <td>PS2</td>\n",
       "      <td>1.67</td>\n",
       "      <td>0.80</td>\n",
       "      <td>2.32</td>\n",
       "      <td>6.09</td>\n",
       "    </tr>\n",
       "  </tbody>\n",
       "</table>\n",
       "</div>"
      ],
      "text/plain": [
       "          eu_sales  jp_sales  na_sales  total_sales\n",
       "platform                                           \n",
       "PS3         216.68     60.04    232.61       596.05\n",
       "X360        163.41      5.46    334.18       550.41\n",
       "PS4         141.09     15.96    108.74       314.14\n",
       "3DS          61.48    100.67     83.49       259.00\n",
       "Wii          65.91     17.75    121.20       222.97\n",
       "XOne         51.59      0.34     93.12       159.32\n",
       "DS           28.06     27.90     59.66       123.75\n",
       "PC           68.82      0.00     39.07       121.96\n",
       "WiiU         25.13     13.01     38.10        82.19\n",
       "PSP           7.59     42.20      9.65        64.05\n",
       "PSV          13.12     21.91     12.58        54.07\n",
       "PS2           1.67      0.80      2.32         6.09"
      ]
     },
     "execution_count": 39,
     "metadata": {},
     "output_type": "execute_result"
    }
   ],
   "source": [
    "(\n",
    "    df_actual_games.pivot_table(\n",
    "        index='platform', values=['na_sales', 'eu_sales', 'jp_sales', 'total_sales'], aggfunc=sum)\n",
    "    .sort_values(by='total_sales', ascending=False)\n",
    ")"
   ]
  },
  {
   "cell_type": "markdown",
   "metadata": {},
   "source": [
    "Определим 5 самых популярных платформ в каждом регионе."
   ]
  },
  {
   "cell_type": "code",
   "execution_count": 40,
   "metadata": {},
   "outputs": [
    {
     "data": {
      "image/png": "[encoded data removed]",
      "text/plain": [
       "<Figure size 432x288 with 1 Axes>"
      ]
     },
     "metadata": {
      "needs_background": "light"
     },
     "output_type": "display_data"
    }
   ],
   "source": [
    "df_na = df_actual_games.groupby('platform')['na_sales'].sum().sort_values(ascending=False).head()\n",
    "df_na_parts = df_na / df_na.sum() * 100\n",
    "df_na_parts.plot(kind='bar', grid=True)\n",
    "plt.title('Топ-5 платформ по доле на рынке в Северной Америке')\n",
    "plt.xlabel('Платформа')\n",
    "plt.ylabel('Процент от общего числа продаж')\n",
    "plt.xticks(rotation=0)\n",
    "plt.show()"
   ]
  },
  {
   "cell_type": "markdown",
   "metadata": {},
   "source": [
    "В Северной Америке наиболее популярная платформа - `X360`. Её доля на рынке составляет `35%`. Следом, по убыванию популярности, идет `PS3` с долей в `25%`. Третья платформа - `Wii` с долей около `21%`. Следом идут `DS` и `PS4` с `11%` и `9%` соответственно."
   ]
  },
  {
   "cell_type": "code",
   "execution_count": 41,
   "metadata": {},
   "outputs": [
    {
     "data": {
      "image/png": "[encoded data removed]",
      "text/plain": [
       "<Figure size 432x288 with 1 Axes>"
      ]
     },
     "metadata": {
      "needs_background": "light"
     },
     "output_type": "display_data"
    }
   ],
   "source": [
    "df_eu = df_actual_games.groupby('platform')['eu_sales'].sum().sort_values(ascending=False).head()\n",
    "df_eu_parts = df_eu / df_eu.sum() * 100\n",
    "df_eu_parts.plot(kind='bar', grid=True)\n",
    "plt.title('Топ-5 платформ по доле на рынке в Европейском союзе')\n",
    "plt.xlabel('Платформа')\n",
    "plt.ylabel('Процент от общего числа продаж')\n",
    "plt.xticks(rotation=0)\n",
    "plt.show()"
   ]
  },
  {
   "cell_type": "markdown",
   "metadata": {},
   "source": [
    "В Европейском союзе наиболее популярная платформа - `PS3`. Её доля на рынке составляет `32,5%`. Следом, по убыванию популярности, идет `X360` с долей в `24%`. Третья платформа - `PS4` с долей около `17,5%`. Следом идут `Wii` и `PC` с `17%` и `13%` соответственно."
   ]
  },
  {
   "cell_type": "code",
   "execution_count": 42,
   "metadata": {},
   "outputs": [
    {
     "data": {
      "image/png": "[encoded data removed]",
      "text/plain": [
       "<Figure size 432x288 with 1 Axes>"
      ]
     },
     "metadata": {
      "needs_background": "light"
     },
     "output_type": "display_data"
    }
   ],
   "source": [
    "df_jp = df_actual_games.groupby('platform')['jp_sales'].sum().sort_values(ascending=False).head()\n",
    "df_jp_parts = df_jp / df_jp.sum() * 100\n",
    "df_jp_parts.plot(kind='bar', grid=True)\n",
    "plt.title('Топ-5 платформ по доле на рынке в Японии')\n",
    "plt.xlabel('Платформа')\n",
    "plt.ylabel('Процент от общего числа продаж')\n",
    "plt.xticks(rotation=0)\n",
    "plt.show()"
   ]
  },
  {
   "cell_type": "markdown",
   "metadata": {},
   "source": [
    "В Японии наиболее популярная платформа - `3DS`. Её доля на рынке составляет `32,5%`. Следом, по убыванию популярности, идет `PS3` с долей в `23%`. Третья платформа - `DS` с долей около `17,5%`. Следом идут `PSP` и `Wii` с `17%` и `13%` соответственно."
   ]
  },
  {
   "cell_type": "markdown",
   "metadata": {},
   "source": [
    "### Самые популярные жанры"
   ]
  },
  {
   "cell_type": "markdown",
   "metadata": {},
   "source": [
    "Для начала составим таблицу продаж по жанрам в регионах."
   ]
  },
  {
   "cell_type": "code",
   "execution_count": 43,
   "metadata": {},
   "outputs": [
    {
     "data": {
      "text/html": [
       "<div>\n",
       "<style scoped>\n",
       "    .dataframe tbody tr th:only-of-type {\n",
       "        vertical-align: middle;\n",
       "    }\n",
       "\n",
       "    .dataframe tbody tr th {\n",
       "        vertical-align: top;\n",
       "    }\n",
       "\n",
       "    .dataframe thead th {\n",
       "        text-align: right;\n",
       "    }\n",
       "</style>\n",
       "<table border=\"1\" class=\"dataframe\">\n",
       "  <thead>\n",
       "    <tr style=\"text-align: right;\">\n",
       "      <th></th>\n",
       "      <th>eu_sales</th>\n",
       "      <th>jp_sales</th>\n",
       "      <th>na_sales</th>\n",
       "      <th>total_sales</th>\n",
       "    </tr>\n",
       "    <tr>\n",
       "      <th>genre</th>\n",
       "      <th></th>\n",
       "      <th></th>\n",
       "      <th></th>\n",
       "      <th></th>\n",
       "    </tr>\n",
       "  </thead>\n",
       "  <tbody>\n",
       "    <tr>\n",
       "      <td>Action</td>\n",
       "      <td>235.08</td>\n",
       "      <td>72.84</td>\n",
       "      <td>292.16</td>\n",
       "      <td>677.21</td>\n",
       "    </tr>\n",
       "    <tr>\n",
       "      <td>Shooter</td>\n",
       "      <td>171.51</td>\n",
       "      <td>14.05</td>\n",
       "      <td>237.68</td>\n",
       "      <td>480.06</td>\n",
       "    </tr>\n",
       "    <tr>\n",
       "      <td>Sports</td>\n",
       "      <td>117.19</td>\n",
       "      <td>15.53</td>\n",
       "      <td>156.97</td>\n",
       "      <td>329.04</td>\n",
       "    </tr>\n",
       "    <tr>\n",
       "      <td>Role-Playing</td>\n",
       "      <td>75.53</td>\n",
       "      <td>103.70</td>\n",
       "      <td>112.16</td>\n",
       "      <td>315.63</td>\n",
       "    </tr>\n",
       "    <tr>\n",
       "      <td>Misc</td>\n",
       "      <td>66.53</td>\n",
       "      <td>24.29</td>\n",
       "      <td>125.04</td>\n",
       "      <td>236.49</td>\n",
       "    </tr>\n",
       "    <tr>\n",
       "      <td>Racing</td>\n",
       "      <td>55.23</td>\n",
       "      <td>6.70</td>\n",
       "      <td>46.35</td>\n",
       "      <td>123.59</td>\n",
       "    </tr>\n",
       "    <tr>\n",
       "      <td>Platform</td>\n",
       "      <td>38.78</td>\n",
       "      <td>15.81</td>\n",
       "      <td>54.90</td>\n",
       "      <td>120.20</td>\n",
       "    </tr>\n",
       "    <tr>\n",
       "      <td>Fighting</td>\n",
       "      <td>20.33</td>\n",
       "      <td>13.90</td>\n",
       "      <td>39.05</td>\n",
       "      <td>81.59</td>\n",
       "    </tr>\n",
       "    <tr>\n",
       "      <td>Simulation</td>\n",
       "      <td>26.39</td>\n",
       "      <td>13.30</td>\n",
       "      <td>26.91</td>\n",
       "      <td>72.31</td>\n",
       "    </tr>\n",
       "    <tr>\n",
       "      <td>Adventure</td>\n",
       "      <td>18.88</td>\n",
       "      <td>15.69</td>\n",
       "      <td>20.93</td>\n",
       "      <td>61.12</td>\n",
       "    </tr>\n",
       "    <tr>\n",
       "      <td>Strategy</td>\n",
       "      <td>12.52</td>\n",
       "      <td>6.83</td>\n",
       "      <td>13.34</td>\n",
       "      <td>36.01</td>\n",
       "    </tr>\n",
       "    <tr>\n",
       "      <td>Puzzle</td>\n",
       "      <td>6.58</td>\n",
       "      <td>3.40</td>\n",
       "      <td>9.23</td>\n",
       "      <td>20.75</td>\n",
       "    </tr>\n",
       "  </tbody>\n",
       "</table>\n",
       "</div>"
      ],
      "text/plain": [
       "              eu_sales  jp_sales  na_sales  total_sales\n",
       "genre                                                  \n",
       "Action          235.08     72.84    292.16       677.21\n",
       "Shooter         171.51     14.05    237.68       480.06\n",
       "Sports          117.19     15.53    156.97       329.04\n",
       "Role-Playing     75.53    103.70    112.16       315.63\n",
       "Misc             66.53     24.29    125.04       236.49\n",
       "Racing           55.23      6.70     46.35       123.59\n",
       "Platform         38.78     15.81     54.90       120.20\n",
       "Fighting         20.33     13.90     39.05        81.59\n",
       "Simulation       26.39     13.30     26.91        72.31\n",
       "Adventure        18.88     15.69     20.93        61.12\n",
       "Strategy         12.52      6.83     13.34        36.01\n",
       "Puzzle            6.58      3.40      9.23        20.75"
      ]
     },
     "execution_count": 43,
     "metadata": {},
     "output_type": "execute_result"
    }
   ],
   "source": [
    "(\n",
    "    df_actual_games.pivot_table(\n",
    "        index='genre', values=['na_sales', 'eu_sales', 'jp_sales', 'total_sales'], aggfunc=sum)\n",
    "    .sort_values(by='total_sales', ascending=False)\n",
    ")"
   ]
  },
  {
   "cell_type": "markdown",
   "metadata": {},
   "source": [
    "Определим 5 самых популярных жанров в каждом регионе."
   ]
  },
  {
   "cell_type": "code",
   "execution_count": 44,
   "metadata": {
    "scrolled": true
   },
   "outputs": [
    {
     "data": {
      "image/png": "[encoded data removed]",
      "text/plain": [
       "<Figure size 432x288 with 1 Axes>"
      ]
     },
     "metadata": {
      "needs_background": "light"
     },
     "output_type": "display_data"
    }
   ],
   "source": [
    "df_genre_na = df_actual_games.groupby('genre')['na_sales'].sum().sort_values(ascending=False).head()\n",
    "df_genre_na_parts = df_genre_na / df_genre_na.sum() * 100\n",
    "df_genre_na_parts.plot(kind='bar', grid=True)\n",
    "plt.title('Топ-5 жанров по доле на рынке в Северной Америке')\n",
    "plt.xlabel('Жанр')\n",
    "plt.ylabel('Процент от общего числа продаж')\n",
    "plt.xticks(rotation=0)\n",
    "plt.show()"
   ]
  },
  {
   "cell_type": "markdown",
   "metadata": {},
   "source": [
    "В Северной Америке наиболее популярный жанр - `Action`. Его доля на рынке составляет `33%`. Следом, по убыванию популярности, идет `Shooter` с долей в `24%`. Третий жанр - `Sports` с долей около `19%`. Следом идут `Misc` и `Role-Playing` с `13%` и `11%` соответственно."
   ]
  },
  {
   "cell_type": "code",
   "execution_count": 45,
   "metadata": {},
   "outputs": [
    {
     "data": {
      "image/png": "[encoded data removed]",
      "text/plain": [
       "<Figure size 432x288 with 1 Axes>"
      ]
     },
     "metadata": {
      "needs_background": "light"
     },
     "output_type": "display_data"
    }
   ],
   "source": [
    "df_genre_eu = df_actual_games.groupby('genre')['eu_sales'].sum().sort_values(ascending=False).head()\n",
    "df_genre_eu_parts = df_genre_eu / df_genre_eu.sum() * 100\n",
    "df_genre_eu_parts.plot(kind='bar', grid=True)\n",
    "plt.title('Топ-5 жанров по доле на рынке в Европейском союзе')\n",
    "plt.xlabel('Жанр')\n",
    "plt.ylabel('Процент от общего числа продаж')\n",
    "plt.xticks(rotation=0)\n",
    "plt.show()"
   ]
  },
  {
   "cell_type": "markdown",
   "metadata": {},
   "source": [
    "В Европейском союзе наиболее популярный жанр - `Action`. Его доля на рынке составляет `34%`. Следом, по убыванию популярности, идет `Shooter` с долей в `24%`. Третий жанр - `Sports` с долей около `19%`. Следом идут `Misc` и `Role-Playing` с `12%` и `11%` соответственно."
   ]
  },
  {
   "cell_type": "code",
   "execution_count": 46,
   "metadata": {},
   "outputs": [
    {
     "data": {
      "image/png": "[encoded data removed]",
      "text/plain": [
       "<Figure size 432x288 with 1 Axes>"
      ]
     },
     "metadata": {
      "needs_background": "light"
     },
     "output_type": "display_data"
    }
   ],
   "source": [
    "df_genre_jp = df_actual_games.groupby('genre')['jp_sales'].sum().sort_values(ascending=False).head()\n",
    "df_genre_jp_parts = df_genre_jp / df_genre_jp.sum() * 100\n",
    "df_genre_jp_parts.plot(kind='bar', grid=True)\n",
    "plt.title('Топ-5 жанров по доле на рынке в Японии')\n",
    "plt.xlabel('Жанр')\n",
    "plt.ylabel('Процент от общего числа продаж')\n",
    "plt.xticks(rotation=0)\n",
    "plt.show()"
   ]
  },
  {
   "cell_type": "markdown",
   "metadata": {},
   "source": [
    "В Японии наиболее популярный жанр - `Role-Playing`. Его доля на рынке составляет `44%`. Следом, по убыванию популярности, идет `Action` с долей в `30%`. Третий жанр - `Misc` с долей около `11%`. Следом идут `Sports` и `Platform` с `9%` и `6%` соответственно.\n",
    "\n",
    "Возможно, причина такого отличия от европейского и североамериканского рынка в том, что в Японии могут быть более строго подвергнуты цензуре жестокость и убийства, которые являются основными составляющими игр жанра `Action` и `Shooter`. Так же всем известный факт, что в этой стране чрезвычайно высок уровень стресса, поэтому игры жанра `Role-Playing`, где отсутствует какая-либо конкуренция, занимают первое место по популярности среди жанров."
   ]
  },
  {
   "cell_type": "markdown",
   "metadata": {},
   "source": [
    "### Влияние рейтинга ESRB на продажи"
   ]
  },
  {
   "cell_type": "markdown",
   "metadata": {},
   "source": [
    "Для начала составим таблицу продаж по рейтингу в регионах."
   ]
  },
  {
   "cell_type": "code",
   "execution_count": 47,
   "metadata": {},
   "outputs": [
    {
     "data": {
      "text/html": [
       "<div>\n",
       "<style scoped>\n",
       "    .dataframe tbody tr th:only-of-type {\n",
       "        vertical-align: middle;\n",
       "    }\n",
       "\n",
       "    .dataframe tbody tr th {\n",
       "        vertical-align: top;\n",
       "    }\n",
       "\n",
       "    .dataframe thead th {\n",
       "        text-align: right;\n",
       "    }\n",
       "</style>\n",
       "<table border=\"1\" class=\"dataframe\">\n",
       "  <thead>\n",
       "    <tr style=\"text-align: right;\">\n",
       "      <th></th>\n",
       "      <th>eu_sales</th>\n",
       "      <th>jp_sales</th>\n",
       "      <th>na_sales</th>\n",
       "      <th>total_sales</th>\n",
       "    </tr>\n",
       "    <tr>\n",
       "      <th>rating</th>\n",
       "      <th></th>\n",
       "      <th></th>\n",
       "      <th></th>\n",
       "      <th></th>\n",
       "    </tr>\n",
       "  </thead>\n",
       "  <tbody>\n",
       "    <tr>\n",
       "      <td>M</td>\n",
       "      <td>292.79</td>\n",
       "      <td>31.10</td>\n",
       "      <td>383.10</td>\n",
       "      <td>804.26</td>\n",
       "    </tr>\n",
       "    <tr>\n",
       "      <td>E</td>\n",
       "      <td>197.55</td>\n",
       "      <td>47.87</td>\n",
       "      <td>271.56</td>\n",
       "      <td>577.13</td>\n",
       "    </tr>\n",
       "    <tr>\n",
       "      <td>no rating</td>\n",
       "      <td>139.80</td>\n",
       "      <td>171.63</td>\n",
       "      <td>156.10</td>\n",
       "      <td>508.18</td>\n",
       "    </tr>\n",
       "    <tr>\n",
       "      <td>T</td>\n",
       "      <td>114.05</td>\n",
       "      <td>42.22</td>\n",
       "      <td>162.83</td>\n",
       "      <td>358.31</td>\n",
       "    </tr>\n",
       "    <tr>\n",
       "      <td>E10+</td>\n",
       "      <td>100.36</td>\n",
       "      <td>13.22</td>\n",
       "      <td>161.13</td>\n",
       "      <td>306.12</td>\n",
       "    </tr>\n",
       "  </tbody>\n",
       "</table>\n",
       "</div>"
      ],
      "text/plain": [
       "           eu_sales  jp_sales  na_sales  total_sales\n",
       "rating                                              \n",
       "M            292.79     31.10    383.10       804.26\n",
       "E            197.55     47.87    271.56       577.13\n",
       "no rating    139.80    171.63    156.10       508.18\n",
       "T            114.05     42.22    162.83       358.31\n",
       "E10+         100.36     13.22    161.13       306.12"
      ]
     },
     "execution_count": 47,
     "metadata": {},
     "output_type": "execute_result"
    }
   ],
   "source": [
    "(\n",
    "    df_actual_games.pivot_table(\n",
    "        index='rating', values=['na_sales', 'eu_sales', 'jp_sales', 'total_sales'], aggfunc=sum)\n",
    "    .sort_values(by='total_sales', ascending=False)\n",
    ")"
   ]
  },
  {
   "cell_type": "markdown",
   "metadata": {},
   "source": [
    "Описание:\n",
    "- «E» («Everyone») — «Для всех»  \n",
    "- «E10+» («Everyone 10 and older») — «Для всех от 10 лет и старше»\n",
    "- «T» («Teen») — «Подросткам»  \n",
    "- «M» («Mature») — «Для взрослых»  \n",
    "- no rating - рейтинг отсутствует\n",
    "\n",
    "\n",
    "Определим продажи по каждому рейтингу в каждом из регионов."
   ]
  },
  {
   "cell_type": "code",
   "execution_count": 48,
   "metadata": {},
   "outputs": [
    {
     "data": {
      "image/png": "[encoded data removed]",
      "text/plain": [
       "<Figure size 432x288 with 1 Axes>"
      ]
     },
     "metadata": {
      "needs_background": "light"
     },
     "output_type": "display_data"
    }
   ],
   "source": [
    "df_rating_na = df_actual_games.query('rating != \"RP\"').groupby('rating')['na_sales'].sum().sort_values(ascending=False)\n",
    "df_rating_na_parts = df_rating_na / df_rating_na.sum() * 100\n",
    "df_rating_na_parts.plot(kind='bar', grid=True)\n",
    "plt.title('Влияние рейтинга на продажи в Северной Америке')\n",
    "plt.xlabel('Рейтинг')\n",
    "plt.ylabel('Процент от общего числа продаж')\n",
    "plt.xticks(rotation=0)\n",
    "plt.show()"
   ]
  },
  {
   "cell_type": "markdown",
   "metadata": {},
   "source": [
    "В Северной Америке наиболее популярны игры для взрослых, затем, по убыванию популярности, следуют игры для всех, после - подросткам, для всех от 10 лет и старше и игры без рейтинга."
   ]
  },
  {
   "cell_type": "code",
   "execution_count": 49,
   "metadata": {},
   "outputs": [
    {
     "data": {
      "image/png": "[encoded data removed]",
      "text/plain": [
       "<Figure size 432x288 with 1 Axes>"
      ]
     },
     "metadata": {
      "needs_background": "light"
     },
     "output_type": "display_data"
    }
   ],
   "source": [
    "df_rating_eu = df_actual_games.query('rating != \"RP\"').groupby('rating')['eu_sales'].sum().sort_values(ascending=False)\n",
    "df_rating_eu_parts = df_rating_eu / df_rating_eu.sum() * 100\n",
    "df_rating_eu_parts.plot(kind='bar', grid=True)\n",
    "plt.title('Влияние рейтинга на продажи в Европейском союзе')\n",
    "plt.xlabel('Рейтинг')\n",
    "plt.ylabel('Процент от общего числа продаж')\n",
    "plt.xticks(rotation=0)\n",
    "plt.show()"
   ]
  },
  {
   "cell_type": "markdown",
   "metadata": {},
   "source": [
    "В Европейском союзе наблюдается почти та же ситуация, что и в Северной Америке - наиболее популярны игры для взрослых, после - игры для всех, затем игры без рейтинга, игры для подростков и игры для всех от 10 лет."
   ]
  },
  {
   "cell_type": "code",
   "execution_count": 50,
   "metadata": {
    "scrolled": false
   },
   "outputs": [
    {
     "data": {
      "image/png": "[encoded data removed]",
      "text/plain": [
       "<Figure size 432x288 with 1 Axes>"
      ]
     },
     "metadata": {
      "needs_background": "light"
     },
     "output_type": "display_data"
    }
   ],
   "source": [
    "df_rating_jp = df_actual_games.query('rating != \"RP\"').groupby('rating')['jp_sales'].sum().sort_values(ascending=False)\n",
    "df_rating_jp_parts = df_rating_jp / df_rating_jp.sum() * 100\n",
    "df_rating_jp_parts.plot(kind='bar', grid=True)\n",
    "plt.title('Влияние рейтинга на продажи в Японии')\n",
    "plt.xlabel('Рейтинг')\n",
    "plt.ylabel('Процент от общего числа продаж')\n",
    "plt.xticks(rotation=0)\n",
    "plt.show()"
   ]
  },
  {
   "cell_type": "markdown",
   "metadata": {},
   "source": [
    "В Японии игры без определенного рейтинга составляют бОльшую часть рынка, однако после них игры для всех наиболее популярны. Затем следуют игры для подростков, для взрослых и для всех от 10 лет и старше."
   ]
  },
  {
   "cell_type": "markdown",
   "metadata": {},
   "source": [
    "### Вывод"
   ]
  },
  {
   "cell_type": "markdown",
   "metadata": {},
   "source": [
    "Для каждого из регионов характерен различный выбор платформ. \n",
    "\n",
    "Для Северной Америки наиболее популярные платформы: \n",
    "* X360\n",
    "* PS3\n",
    "* Wii\n",
    "* DS\n",
    "* PS4.\n",
    "\n",
    "В Европейском союзе самые распространенные платформы: \n",
    "* PS3\n",
    "* X360\n",
    "* PS4\n",
    "* Wii\n",
    "* PC\n",
    " \n",
    "Для Японии наиболее популярные платформы: \n",
    "* 3DS\n",
    "* PS3 \n",
    "* DS \n",
    "* PSP \n",
    "* Wii\n",
    "\n",
    "То же самое касается и жанров - в каждом регионе распределение по ним отличается.\n",
    "В Северной Америке и Европейском союзе наиболее популярный жанр - Action. Следом идут игры жанров Shooter, Sports, Misc и Role-Playing.\n",
    "\n",
    "В Японии наиболее популярный жанр - Role-Playing. Следом - Action, Misc, Sports и Platform.\n",
    "\n",
    "Что касаемо рейтинга, во всех трех регионах наиболее распространены игры для взрослых, для подростков и для всех. Игры для всех от 10 лет и старше и игры с ожидаемым рейтингом не пользуются спросом."
   ]
  },
  {
   "cell_type": "markdown",
   "metadata": {},
   "source": [
    "## Проверка гипотез"
   ]
  },
  {
   "cell_type": "markdown",
   "metadata": {},
   "source": [
    "### Средние пользовательские рейтинги платформ Xbox One и PC"
   ]
  },
  {
   "cell_type": "markdown",
   "metadata": {},
   "source": [
    "Требуется проверить гипотезу:\n",
    "* Средние пользовательские рейтинги платформ Xbox One и PC одинаковые.\n",
    "\n",
    "Сформулируем следующие гипотезы:\n",
    "\n",
    "H0 (нулевая гипотеза) - средние пользовательские рейтинги платформ Xbox One и PC одинаковы.\n",
    "\n",
    "H1 (альтернативная гипотеза) - средние пользовательские рейтинги платформ Xbox One и PC **не** одинаковы.\n",
    "\n",
    "Решим вопрос о принятии или отвержении нулевой гипотезы по p-value."
   ]
  },
  {
   "cell_type": "code",
   "execution_count": 51,
   "metadata": {
    "scrolled": false
   },
   "outputs": [
    {
     "name": "stdout",
     "output_type": "stream",
     "text": [
      "Дисперсия выборки оценки игр платформы PC: 2.450446015110894\n",
      "Дисперсия выборки оценки игр платформы Xbox One: 1.9069968429360695\n"
     ]
    }
   ],
   "source": [
    "sample_pc = df_actual_games.query('platform == \"PC\" & user_score != -1 & user_score == user_score')['user_score']\n",
    "sample_xbox = df_actual_games.query('platform == \"XOne\" & user_score != -1 & user_score == user_score')['user_score']\n",
    "\n",
    "print('Дисперсия выборки оценки игр платформы PC:', sample_pc.var(ddof=1))\n",
    "print('Дисперсия выборки оценки игр платформы Xbox One:', sample_xbox.var(ddof=1))"
   ]
  },
  {
   "cell_type": "markdown",
   "metadata": {},
   "source": [
    "Дисперсии выборок не равны, значит, проводим тест с соответствующим показателем."
   ]
  },
  {
   "cell_type": "code",
   "execution_count": 52,
   "metadata": {},
   "outputs": [
    {
     "name": "stdout",
     "output_type": "stream",
     "text": [
      "p-значение: 0.9801634129117883\n",
      "Не получилось отвергнуть нулевую гипотезу\n"
     ]
    }
   ],
   "source": [
    "alpha = 0.05\n",
    "result = stats.ttest_ind(sample_pc, sample_xbox, equal_var=False)\n",
    "print('p-значение:', result.pvalue)\n",
    "if result.pvalue < alpha:\n",
    "    print('Принимаем альтернативную гипотезу')\n",
    "else:\n",
    "    print('Не получилось отвергнуть нулевую гипотезу')"
   ]
  },
  {
   "cell_type": "markdown",
   "metadata": {},
   "source": [
    "### Средние пользовательские рейтинги жанров Action и Sports "
   ]
  },
  {
   "cell_type": "markdown",
   "metadata": {},
   "source": [
    "Требуется проверить гипотезу:\n",
    "\n",
    "* Средние пользовательские рейтинги жанров Action и Sports разные.\n",
    "Сформулируем следующие гипотезы:\n",
    "\n",
    "H0 (нулевая гипотеза) - средние пользовательские рейтинги жанров Action и Sports одинаковые.\n",
    "\n",
    "H1 (альтернативная гипотеза) - средние пользовательские рейтинги жанров Action и Sports неодинаковые.\n",
    "\n",
    "Решим вопрос о принятии или отвержении нулевой гипотезы по p-value."
   ]
  },
  {
   "cell_type": "code",
   "execution_count": 53,
   "metadata": {
    "scrolled": false
   },
   "outputs": [
    {
     "name": "stdout",
     "output_type": "stream",
     "text": [
      "Дисперсия выборки оценки игр жанра Action: 1.8405481434660704\n",
      "Дисперсия выборки оценки игр жанра Sports: 2.830450472171991\n"
     ]
    }
   ],
   "source": [
    "sample_action = df_actual_games.query('genre == \"Action\" & user_score != -1 & user_score == user_score')['user_score']\n",
    "sample_sports = df_actual_games.query('genre == \"Sports\" & user_score != -1 & user_score == user_score')['user_score']\n",
    "\n",
    "print('Дисперсия выборки оценки игр жанра Action:', sample_action.var(ddof=1))\n",
    "print('Дисперсия выборки оценки игр жанра Sports:', sample_sports.var(ddof=1))"
   ]
  },
  {
   "cell_type": "markdown",
   "metadata": {},
   "source": [
    "Дисперсии выборок не равны, значит, проводим тест с соответствующим показателем."
   ]
  },
  {
   "cell_type": "code",
   "execution_count": 54,
   "metadata": {},
   "outputs": [
    {
     "name": "stdout",
     "output_type": "stream",
     "text": [
      "p-значение: 1.0044919300861386e-15\n",
      "Принимаем альтернативную гипотезу\n"
     ]
    }
   ],
   "source": [
    "alpha = 0.05\n",
    "result = stats.ttest_ind(sample_action, sample_sports, equal_var=False)\n",
    "print('p-значение:', result.pvalue)\n",
    "if result.pvalue < alpha:\n",
    "    print('Принимаем альтернативную гипотезу')\n",
    "else:\n",
    "    print('Не получилось отвергнуть нулевую гипотезу')"
   ]
  },
  {
   "cell_type": "markdown",
   "metadata": {},
   "source": [
    "### Вывод"
   ]
  },
  {
   "cell_type": "markdown",
   "metadata": {},
   "source": [
    "* Гипотезу о равенстве средних пользовательских рейтингов платформ Xbox One и PC отвергнуть не получилось;\n",
    "* По второй гипотезе мы принимаем альтернативную, т.е. средние пользовательские рейтинги жанров Action и Sports разные."
   ]
  },
  {
   "cell_type": "markdown",
   "metadata": {},
   "source": [
    "## Общий вывод"
   ]
  },
  {
   "cell_type": "markdown",
   "metadata": {},
   "source": [
    "Был получен массив данных из 16715 строк, две из которых были удалены при предобработке данных. Полученная таблица содержит информацию об исторических данных о продажах игр, оценки пользователей и экспертов, жанров и платформ до 2016 года. \n",
    "\n",
    "В ходе подготовки данных были приведены к нижнему регистру названия колонок, было определено, что аббревиатура **TBD** значит *to be determined*, что означает отсутствие данных, сделали ее замену на маркер `-1`. Так же заменены пропущенные значения медианными и средними кроме столбца с оценкой от организации ESRB. Для дальнейших исследований были рассчитаны глобальные продажи по всем регионам для каждой из игр.\n",
    "\n",
    "Из исследовательского анализа данных видно, что в игровой индустрии возможно выделить несколько интервалов: \n",
    "* До 1994 года игры практически не выпускались;\n",
    "* С 1995 по 2001 год - подъем в индустрии игр;\n",
    "* С 2002 по 2011 год - резкое повышение количества выпускаемых игр;\n",
    "* После 2011 года происходит спад до уровня 2001 года.\n",
    "\n",
    "Платформы в среднем имеют срок жизни около 8 лет. А так как а пик игровой индустрии пришелся на 2007 - 2009 года, то для построения прогнозов на 2017 год имеет смысл рассматривать данные после 2009 года.\n",
    "\n",
    "К 2016 году в целом происходит спад продаж вне зависимости от платформы, однако все еще выделяются 3 самых перспективных (в порядке убывания прибыльности): `PS4`, `XOne`, `3DS`.\n",
    "\n",
    "Оказалось, что отзывы пользователей никак не влияют на продажи игр. Однако связь между оценками критиков все еще может повлиять на продажи, хоть здесь и присутствует очень слабая связь.\n",
    "\n",
    "Самый же популярный жанр за последние 7 лет - Action. Наименее востребованный - Puzzle.\n",
    "\n",
    "Что касаемо рейтинга, наиболее распространены игры для взрослых, для подростков и для всех. Игры для всех от 10 лет и старше и игры с ожидаемым рейтингом не пользуются спросом.\n",
    "\n",
    "Таким образом, исходя из всех данных можем предположить, что лучше всего продавать игры жанра `Action` с рейтингом `для взрослых` для таких приставок как `PS4`, `XOne` и `3DS`. "
   ]
  }
 ],
 "metadata": {
  "ExecuteTimeLog": [
   {
    "duration": 92,
    "start_time": "2021-11-29T14:31:13.488Z"
   },
   {
    "duration": 571,
    "start_time": "2021-11-29T14:31:19.853Z"
   },
   {
    "duration": 39,
    "start_time": "2021-11-29T14:31:45.003Z"
   },
   {
    "duration": 18,
    "start_time": "2021-11-29T14:31:52.307Z"
   },
   {
    "duration": 37,
    "start_time": "2021-11-29T14:32:02.597Z"
   },
   {
    "duration": 13,
    "start_time": "2021-11-29T14:32:04.396Z"
   },
   {
    "duration": 9,
    "start_time": "2021-11-29T14:32:51.050Z"
   },
   {
    "duration": 99,
    "start_time": "2021-11-29T14:46:16.873Z"
   },
   {
    "duration": 4,
    "start_time": "2021-11-29T14:57:07.736Z"
   },
   {
    "duration": 4,
    "start_time": "2021-11-29T14:57:13.374Z"
   },
   {
    "duration": 446,
    "start_time": "2021-11-29T14:58:38.669Z"
   },
   {
    "duration": 262,
    "start_time": "2021-11-29T14:58:47.589Z"
   },
   {
    "duration": 261,
    "start_time": "2021-11-29T14:59:04.100Z"
   },
   {
    "duration": 370,
    "start_time": "2021-11-29T14:59:51.147Z"
   },
   {
    "duration": 4,
    "start_time": "2021-11-29T15:01:11.658Z"
   },
   {
    "duration": 4,
    "start_time": "2021-11-29T15:01:27.058Z"
   },
   {
    "duration": 4,
    "start_time": "2021-11-29T15:01:48.698Z"
   },
   {
    "duration": 5,
    "start_time": "2021-11-29T15:01:55.809Z"
   },
   {
    "duration": 5,
    "start_time": "2021-11-29T15:02:10.034Z"
   },
   {
    "duration": 5,
    "start_time": "2021-11-29T15:02:36.521Z"
   },
   {
    "duration": 9,
    "start_time": "2021-11-29T15:54:25.999Z"
   },
   {
    "duration": 4,
    "start_time": "2021-11-29T15:54:41.591Z"
   },
   {
    "duration": 11,
    "start_time": "2021-11-29T15:55:51.447Z"
   },
   {
    "duration": 11,
    "start_time": "2021-11-29T15:56:16.941Z"
   },
   {
    "duration": 38,
    "start_time": "2021-11-29T15:58:56.988Z"
   },
   {
    "duration": 11,
    "start_time": "2021-11-29T15:58:57.773Z"
   },
   {
    "duration": 39,
    "start_time": "2021-11-29T15:59:03.683Z"
   },
   {
    "duration": 13,
    "start_time": "2021-11-29T15:59:05.123Z"
   },
   {
    "duration": 37,
    "start_time": "2021-11-29T15:59:10.819Z"
   },
   {
    "duration": 12,
    "start_time": "2021-11-29T15:59:11.186Z"
   },
   {
    "duration": 13,
    "start_time": "2021-11-29T15:59:14.930Z"
   },
   {
    "duration": 10,
    "start_time": "2021-11-29T15:59:15.178Z"
   },
   {
    "duration": 4,
    "start_time": "2021-11-29T15:59:17.643Z"
   },
   {
    "duration": 12,
    "start_time": "2021-11-29T15:59:18.603Z"
   },
   {
    "duration": 9,
    "start_time": "2021-11-29T15:59:19.091Z"
   },
   {
    "duration": 348,
    "start_time": "2021-11-29T16:04:53.441Z"
   },
   {
    "duration": 291,
    "start_time": "2021-11-29T16:05:36.422Z"
   },
   {
    "duration": 18,
    "start_time": "2021-11-29T16:08:33.708Z"
   },
   {
    "duration": 18,
    "start_time": "2021-11-29T16:50:41.909Z"
   },
   {
    "duration": 13,
    "start_time": "2021-11-29T16:50:56.233Z"
   },
   {
    "duration": 9,
    "start_time": "2021-11-29T16:51:09.841Z"
   },
   {
    "duration": 641,
    "start_time": "2021-11-29T16:51:29.622Z"
   },
   {
    "duration": 38,
    "start_time": "2021-11-29T16:51:30.265Z"
   },
   {
    "duration": 18,
    "start_time": "2021-11-29T16:51:30.305Z"
   },
   {
    "duration": 26,
    "start_time": "2021-11-29T16:51:30.325Z"
   },
   {
    "duration": 35,
    "start_time": "2021-11-29T16:51:30.353Z"
   },
   {
    "duration": 25,
    "start_time": "2021-11-29T16:51:30.390Z"
   },
   {
    "duration": 48,
    "start_time": "2021-11-29T16:51:30.416Z"
   },
   {
    "duration": 48,
    "start_time": "2021-11-29T16:51:30.466Z"
   },
   {
    "duration": 58,
    "start_time": "2021-11-29T16:51:30.516Z"
   },
   {
    "duration": 48,
    "start_time": "2021-11-29T16:51:30.576Z"
   },
   {
    "duration": 12,
    "start_time": "2021-11-29T16:51:54.167Z"
   },
   {
    "duration": 584,
    "start_time": "2021-11-29T16:51:59.856Z"
   },
   {
    "duration": 42,
    "start_time": "2021-11-29T16:52:00.442Z"
   },
   {
    "duration": 20,
    "start_time": "2021-11-29T16:52:00.486Z"
   },
   {
    "duration": 18,
    "start_time": "2021-11-29T16:52:00.508Z"
   },
   {
    "duration": 33,
    "start_time": "2021-11-29T16:52:00.528Z"
   },
   {
    "duration": 17,
    "start_time": "2021-11-29T16:52:00.563Z"
   },
   {
    "duration": 48,
    "start_time": "2021-11-29T16:52:00.582Z"
   },
   {
    "duration": 23,
    "start_time": "2021-11-29T16:52:00.633Z"
   },
   {
    "duration": 26,
    "start_time": "2021-11-29T16:52:00.658Z"
   },
   {
    "duration": 22,
    "start_time": "2021-11-29T16:52:00.686Z"
   },
   {
    "duration": 10,
    "start_time": "2021-11-29T16:53:44.876Z"
   },
   {
    "duration": 7,
    "start_time": "2021-11-29T17:19:26.506Z"
   },
   {
    "duration": 8,
    "start_time": "2021-11-29T17:19:37.419Z"
   },
   {
    "duration": 335,
    "start_time": "2021-11-29T17:25:20.911Z"
   },
   {
    "duration": 6,
    "start_time": "2021-11-29T17:25:26.732Z"
   },
   {
    "duration": 8,
    "start_time": "2021-11-29T17:26:14.063Z"
   },
   {
    "duration": 230,
    "start_time": "2021-11-29T17:26:28.951Z"
   },
   {
    "duration": 234,
    "start_time": "2021-11-29T17:26:37.263Z"
   },
   {
    "duration": 188,
    "start_time": "2021-11-29T17:26:41.695Z"
   },
   {
    "duration": 234,
    "start_time": "2021-11-29T17:26:48.079Z"
   },
   {
    "duration": 215,
    "start_time": "2021-11-29T17:26:56.720Z"
   },
   {
    "duration": 611,
    "start_time": "2021-11-29T17:27:02.886Z"
   },
   {
    "duration": 488,
    "start_time": "2021-11-29T17:27:19.692Z"
   },
   {
    "duration": 2,
    "start_time": "2021-11-29T17:27:35.524Z"
   },
   {
    "duration": 208,
    "start_time": "2021-11-29T17:27:41.878Z"
   },
   {
    "duration": 218,
    "start_time": "2021-11-29T17:28:37.654Z"
   },
   {
    "duration": 444,
    "start_time": "2021-11-29T17:29:51.923Z"
   },
   {
    "duration": 188,
    "start_time": "2021-11-29T17:30:26.251Z"
   },
   {
    "duration": 202,
    "start_time": "2021-11-29T17:30:35.065Z"
   },
   {
    "duration": 21,
    "start_time": "2021-11-29T17:31:05.937Z"
   },
   {
    "duration": 11,
    "start_time": "2021-11-29T17:31:27.651Z"
   },
   {
    "duration": 675,
    "start_time": "2021-11-29T17:32:03.732Z"
   },
   {
    "duration": 38,
    "start_time": "2021-11-29T17:32:04.409Z"
   },
   {
    "duration": 14,
    "start_time": "2021-11-29T17:32:04.449Z"
   },
   {
    "duration": 11,
    "start_time": "2021-11-29T17:32:04.465Z"
   },
   {
    "duration": 10,
    "start_time": "2021-11-29T17:32:04.478Z"
   },
   {
    "duration": 4,
    "start_time": "2021-11-29T17:32:04.490Z"
   },
   {
    "duration": 22,
    "start_time": "2021-11-29T17:32:04.495Z"
   },
   {
    "duration": 30,
    "start_time": "2021-11-29T17:32:04.520Z"
   },
   {
    "duration": 14,
    "start_time": "2021-11-29T17:32:04.552Z"
   },
   {
    "duration": 15,
    "start_time": "2021-11-29T17:32:04.567Z"
   },
   {
    "duration": 7,
    "start_time": "2021-11-29T17:32:04.584Z"
   },
   {
    "duration": 262,
    "start_time": "2021-11-29T17:32:04.593Z"
   },
   {
    "duration": 12,
    "start_time": "2021-11-29T17:32:04.857Z"
   },
   {
    "duration": 10,
    "start_time": "2021-11-29T17:32:28.957Z"
   },
   {
    "duration": 9,
    "start_time": "2021-11-29T17:33:19.190Z"
   },
   {
    "duration": 13,
    "start_time": "2021-11-29T17:33:40.709Z"
   },
   {
    "duration": 12,
    "start_time": "2021-11-29T17:34:08.162Z"
   },
   {
    "duration": 692,
    "start_time": "2021-11-29T17:34:16.660Z"
   },
   {
    "duration": 38,
    "start_time": "2021-11-29T17:34:17.354Z"
   },
   {
    "duration": 16,
    "start_time": "2021-11-29T17:34:17.393Z"
   },
   {
    "duration": 21,
    "start_time": "2021-11-29T17:34:17.411Z"
   },
   {
    "duration": 19,
    "start_time": "2021-11-29T17:34:17.434Z"
   },
   {
    "duration": 7,
    "start_time": "2021-11-29T17:34:17.454Z"
   },
   {
    "duration": 26,
    "start_time": "2021-11-29T17:34:17.463Z"
   },
   {
    "duration": 11,
    "start_time": "2021-11-29T17:34:17.491Z"
   },
   {
    "duration": 15,
    "start_time": "2021-11-29T17:34:17.503Z"
   },
   {
    "duration": 29,
    "start_time": "2021-11-29T17:34:17.519Z"
   },
   {
    "duration": 25,
    "start_time": "2021-11-29T17:34:17.550Z"
   },
   {
    "duration": 233,
    "start_time": "2021-11-29T17:34:17.577Z"
   },
   {
    "duration": 12,
    "start_time": "2021-11-29T17:34:17.812Z"
   },
   {
    "duration": 20,
    "start_time": "2021-11-29T17:34:23.069Z"
   },
   {
    "duration": 11,
    "start_time": "2021-11-29T17:34:31.438Z"
   },
   {
    "duration": 6,
    "start_time": "2021-11-29T17:39:28.688Z"
   },
   {
    "duration": 22,
    "start_time": "2021-11-29T17:40:09.351Z"
   },
   {
    "duration": 7,
    "start_time": "2021-11-29T17:48:01.426Z"
   },
   {
    "duration": 10,
    "start_time": "2021-11-29T17:48:12.211Z"
   },
   {
    "duration": 19,
    "start_time": "2021-11-29T17:51:10.545Z"
   },
   {
    "duration": 11,
    "start_time": "2021-11-29T17:51:11.840Z"
   },
   {
    "duration": 24,
    "start_time": "2021-11-29T17:56:10.434Z"
   },
   {
    "duration": 17,
    "start_time": "2021-11-29T17:56:36.127Z"
   },
   {
    "duration": 720,
    "start_time": "2021-11-29T17:56:44.319Z"
   },
   {
    "duration": 37,
    "start_time": "2021-11-29T17:56:45.041Z"
   },
   {
    "duration": 18,
    "start_time": "2021-11-29T17:56:45.081Z"
   },
   {
    "duration": 39,
    "start_time": "2021-11-29T17:56:45.101Z"
   },
   {
    "duration": 51,
    "start_time": "2021-11-29T17:56:45.142Z"
   },
   {
    "duration": 34,
    "start_time": "2021-11-29T17:56:45.194Z"
   },
   {
    "duration": 24,
    "start_time": "2021-11-29T17:56:45.230Z"
   },
   {
    "duration": 19,
    "start_time": "2021-11-29T17:56:45.257Z"
   },
   {
    "duration": 18,
    "start_time": "2021-11-29T17:56:45.278Z"
   },
   {
    "duration": 17,
    "start_time": "2021-11-29T17:56:45.297Z"
   },
   {
    "duration": 7,
    "start_time": "2021-11-29T17:56:45.316Z"
   },
   {
    "duration": 248,
    "start_time": "2021-11-29T17:56:45.324Z"
   },
   {
    "duration": 14,
    "start_time": "2021-11-29T17:56:45.574Z"
   },
   {
    "duration": 19,
    "start_time": "2021-11-29T17:56:45.590Z"
   },
   {
    "duration": 34,
    "start_time": "2021-11-29T17:56:45.611Z"
   },
   {
    "duration": 24,
    "start_time": "2021-11-29T17:56:45.647Z"
   },
   {
    "duration": 824,
    "start_time": "2021-11-29T17:57:15.726Z"
   },
   {
    "duration": 36,
    "start_time": "2021-11-29T17:57:16.552Z"
   },
   {
    "duration": 28,
    "start_time": "2021-11-29T17:57:16.590Z"
   },
   {
    "duration": 39,
    "start_time": "2021-11-29T17:57:16.620Z"
   },
   {
    "duration": 44,
    "start_time": "2021-11-29T17:57:16.662Z"
   },
   {
    "duration": 24,
    "start_time": "2021-11-29T17:57:16.708Z"
   },
   {
    "duration": 41,
    "start_time": "2021-11-29T17:57:16.733Z"
   },
   {
    "duration": 38,
    "start_time": "2021-11-29T17:57:16.777Z"
   },
   {
    "duration": 30,
    "start_time": "2021-11-29T17:57:16.817Z"
   },
   {
    "duration": 41,
    "start_time": "2021-11-29T17:57:16.849Z"
   },
   {
    "duration": 29,
    "start_time": "2021-11-29T17:57:16.892Z"
   },
   {
    "duration": 235,
    "start_time": "2021-11-29T17:57:16.923Z"
   },
   {
    "duration": 14,
    "start_time": "2021-11-29T17:57:17.160Z"
   },
   {
    "duration": 20,
    "start_time": "2021-11-29T17:57:17.176Z"
   },
   {
    "duration": 16,
    "start_time": "2021-11-29T17:57:17.209Z"
   },
   {
    "duration": 10875,
    "start_time": "2021-11-29T17:57:17.227Z"
   },
   {
    "duration": 9,
    "start_time": "2021-11-29T17:58:40.174Z"
   },
   {
    "duration": 701,
    "start_time": "2021-11-29T17:58:54.016Z"
   },
   {
    "duration": 41,
    "start_time": "2021-11-29T17:58:54.719Z"
   },
   {
    "duration": 15,
    "start_time": "2021-11-29T17:58:54.762Z"
   },
   {
    "duration": 17,
    "start_time": "2021-11-29T17:58:54.779Z"
   },
   {
    "duration": 9,
    "start_time": "2021-11-29T17:58:54.798Z"
   },
   {
    "duration": 10,
    "start_time": "2021-11-29T17:58:54.809Z"
   },
   {
    "duration": 34,
    "start_time": "2021-11-29T17:58:54.820Z"
   },
   {
    "duration": 14,
    "start_time": "2021-11-29T17:58:54.857Z"
   },
   {
    "duration": 14,
    "start_time": "2021-11-29T17:58:54.873Z"
   },
   {
    "duration": 15,
    "start_time": "2021-11-29T17:58:54.889Z"
   },
   {
    "duration": 39,
    "start_time": "2021-11-29T17:58:54.906Z"
   },
   {
    "duration": 236,
    "start_time": "2021-11-29T17:58:54.947Z"
   },
   {
    "duration": 13,
    "start_time": "2021-11-29T17:58:55.185Z"
   },
   {
    "duration": 19,
    "start_time": "2021-11-29T17:58:55.199Z"
   },
   {
    "duration": 33,
    "start_time": "2021-11-29T17:58:55.219Z"
   },
   {
    "duration": 16,
    "start_time": "2021-11-29T17:58:55.253Z"
   },
   {
    "duration": 9,
    "start_time": "2021-11-29T17:59:31.010Z"
   },
   {
    "duration": 668,
    "start_time": "2021-11-29T17:59:42.626Z"
   },
   {
    "duration": 39,
    "start_time": "2021-11-29T17:59:43.295Z"
   },
   {
    "duration": 16,
    "start_time": "2021-11-29T17:59:43.336Z"
   },
   {
    "duration": 21,
    "start_time": "2021-11-29T17:59:43.354Z"
   },
   {
    "duration": 12,
    "start_time": "2021-11-29T17:59:43.377Z"
   },
   {
    "duration": 14,
    "start_time": "2021-11-29T17:59:43.391Z"
   },
   {
    "duration": 29,
    "start_time": "2021-11-29T17:59:43.407Z"
   },
   {
    "duration": 20,
    "start_time": "2021-11-29T17:59:43.439Z"
   },
   {
    "duration": 15,
    "start_time": "2021-11-29T17:59:43.461Z"
   },
   {
    "duration": 15,
    "start_time": "2021-11-29T17:59:43.477Z"
   },
   {
    "duration": 7,
    "start_time": "2021-11-29T17:59:43.494Z"
   },
   {
    "duration": 252,
    "start_time": "2021-11-29T17:59:43.503Z"
   },
   {
    "duration": 11,
    "start_time": "2021-11-29T17:59:43.757Z"
   },
   {
    "duration": 18,
    "start_time": "2021-11-29T17:59:43.770Z"
   },
   {
    "duration": 10,
    "start_time": "2021-11-29T17:59:43.790Z"
   },
   {
    "duration": 11,
    "start_time": "2021-11-29T17:59:43.802Z"
   },
   {
    "duration": 694,
    "start_time": "2021-11-29T17:59:59.062Z"
   },
   {
    "duration": 39,
    "start_time": "2021-11-29T17:59:59.758Z"
   },
   {
    "duration": 14,
    "start_time": "2021-11-29T17:59:59.800Z"
   },
   {
    "duration": 19,
    "start_time": "2021-11-29T17:59:59.816Z"
   },
   {
    "duration": 12,
    "start_time": "2021-11-29T17:59:59.836Z"
   },
   {
    "duration": 5,
    "start_time": "2021-11-29T17:59:59.850Z"
   },
   {
    "duration": 15,
    "start_time": "2021-11-29T17:59:59.856Z"
   },
   {
    "duration": 11,
    "start_time": "2021-11-29T17:59:59.875Z"
   },
   {
    "duration": 28,
    "start_time": "2021-11-29T17:59:59.888Z"
   },
   {
    "duration": 40,
    "start_time": "2021-11-29T17:59:59.918Z"
   },
   {
    "duration": 8,
    "start_time": "2021-11-29T17:59:59.961Z"
   },
   {
    "duration": 258,
    "start_time": "2021-11-29T17:59:59.970Z"
   },
   {
    "duration": 18,
    "start_time": "2021-11-29T18:00:00.231Z"
   },
   {
    "duration": 20,
    "start_time": "2021-11-29T18:00:00.251Z"
   },
   {
    "duration": 8,
    "start_time": "2021-11-29T18:00:00.273Z"
   },
   {
    "duration": 14,
    "start_time": "2021-11-29T18:00:00.283Z"
   },
   {
    "duration": 383,
    "start_time": "2021-11-29T18:01:28.665Z"
   },
   {
    "duration": 686,
    "start_time": "2021-11-29T18:01:38.513Z"
   },
   {
    "duration": 47,
    "start_time": "2021-11-29T18:01:39.201Z"
   },
   {
    "duration": 20,
    "start_time": "2021-11-29T18:01:39.252Z"
   },
   {
    "duration": 21,
    "start_time": "2021-11-29T18:01:39.275Z"
   },
   {
    "duration": 15,
    "start_time": "2021-11-29T18:01:39.298Z"
   },
   {
    "duration": 5,
    "start_time": "2021-11-29T18:01:39.315Z"
   },
   {
    "duration": 37,
    "start_time": "2021-11-29T18:01:39.323Z"
   },
   {
    "duration": 30,
    "start_time": "2021-11-29T18:01:39.362Z"
   },
   {
    "duration": 33,
    "start_time": "2021-11-29T18:01:39.393Z"
   },
   {
    "duration": 24,
    "start_time": "2021-11-29T18:01:39.428Z"
   },
   {
    "duration": 18,
    "start_time": "2021-11-29T18:01:39.453Z"
   },
   {
    "duration": 256,
    "start_time": "2021-11-29T18:01:39.472Z"
   },
   {
    "duration": 20,
    "start_time": "2021-11-29T18:01:39.730Z"
   },
   {
    "duration": 25,
    "start_time": "2021-11-29T18:01:39.752Z"
   },
   {
    "duration": 12,
    "start_time": "2021-11-29T18:01:39.779Z"
   },
   {
    "duration": 356,
    "start_time": "2021-11-29T18:01:39.792Z"
   },
   {
    "duration": 10,
    "start_time": "2021-11-29T18:01:53.348Z"
   },
   {
    "duration": 13,
    "start_time": "2021-11-29T18:02:03.851Z"
   },
   {
    "duration": 14,
    "start_time": "2021-11-29T18:05:27.417Z"
   },
   {
    "duration": 623,
    "start_time": "2021-11-29T18:05:38.882Z"
   },
   {
    "duration": 99,
    "start_time": "2021-11-29T18:05:43.736Z"
   },
   {
    "duration": 458,
    "start_time": "2021-11-29T18:05:51.817Z"
   },
   {
    "duration": 14,
    "start_time": "2021-11-29T18:05:57.796Z"
   },
   {
    "duration": 13,
    "start_time": "2021-11-29T18:06:53.369Z"
   },
   {
    "duration": 520,
    "start_time": "2021-11-29T18:07:02.400Z"
   },
   {
    "duration": 15,
    "start_time": "2021-11-29T18:07:34.248Z"
   },
   {
    "duration": 11,
    "start_time": "2021-11-29T18:08:10.031Z"
   },
   {
    "duration": 848,
    "start_time": "2021-11-29T18:08:18.017Z"
   },
   {
    "duration": 38,
    "start_time": "2021-11-29T18:08:18.868Z"
   },
   {
    "duration": 16,
    "start_time": "2021-11-29T18:08:18.911Z"
   },
   {
    "duration": 20,
    "start_time": "2021-11-29T18:08:18.929Z"
   },
   {
    "duration": 26,
    "start_time": "2021-11-29T18:08:18.951Z"
   },
   {
    "duration": 12,
    "start_time": "2021-11-29T18:08:18.979Z"
   },
   {
    "duration": 12,
    "start_time": "2021-11-29T18:08:18.994Z"
   },
   {
    "duration": 13,
    "start_time": "2021-11-29T18:08:19.008Z"
   },
   {
    "duration": 14,
    "start_time": "2021-11-29T18:08:19.022Z"
   },
   {
    "duration": 14,
    "start_time": "2021-11-29T18:08:19.045Z"
   },
   {
    "duration": 7,
    "start_time": "2021-11-29T18:08:19.061Z"
   },
   {
    "duration": 244,
    "start_time": "2021-11-29T18:08:19.070Z"
   },
   {
    "duration": 11,
    "start_time": "2021-11-29T18:08:19.316Z"
   },
   {
    "duration": 32,
    "start_time": "2021-11-29T18:08:19.329Z"
   },
   {
    "duration": 9,
    "start_time": "2021-11-29T18:08:19.363Z"
   },
   {
    "duration": 14,
    "start_time": "2021-11-29T18:08:19.374Z"
   },
   {
    "duration": 10,
    "start_time": "2021-11-29T18:08:31.075Z"
   },
   {
    "duration": 14,
    "start_time": "2021-11-29T18:09:36.290Z"
   },
   {
    "duration": 680,
    "start_time": "2021-11-29T18:10:40.047Z"
   },
   {
    "duration": 42,
    "start_time": "2021-11-29T18:10:40.729Z"
   },
   {
    "duration": 17,
    "start_time": "2021-11-29T18:10:40.773Z"
   },
   {
    "duration": 18,
    "start_time": "2021-11-29T18:10:40.793Z"
   },
   {
    "duration": 35,
    "start_time": "2021-11-29T18:10:40.813Z"
   },
   {
    "duration": 29,
    "start_time": "2021-11-29T18:10:40.850Z"
   },
   {
    "duration": 32,
    "start_time": "2021-11-29T18:10:40.881Z"
   },
   {
    "duration": 45,
    "start_time": "2021-11-29T18:10:40.917Z"
   },
   {
    "duration": 19,
    "start_time": "2021-11-29T18:10:40.964Z"
   },
   {
    "duration": 39,
    "start_time": "2021-11-29T18:10:40.985Z"
   },
   {
    "duration": 20,
    "start_time": "2021-11-29T18:10:41.026Z"
   },
   {
    "duration": 27,
    "start_time": "2021-11-29T18:10:41.048Z"
   },
   {
    "duration": 267,
    "start_time": "2021-11-29T18:10:41.077Z"
   },
   {
    "duration": 12,
    "start_time": "2021-11-29T18:10:41.346Z"
   },
   {
    "duration": 38,
    "start_time": "2021-11-29T18:10:41.360Z"
   },
   {
    "duration": 22,
    "start_time": "2021-11-29T18:10:41.400Z"
   },
   {
    "duration": 32,
    "start_time": "2021-11-29T18:10:41.424Z"
   },
   {
    "duration": 1468,
    "start_time": "2021-11-29T18:11:59.681Z"
   },
   {
    "duration": 1320,
    "start_time": "2021-11-29T18:12:19.432Z"
   },
   {
    "duration": 1322,
    "start_time": "2021-11-29T18:13:27.888Z"
   },
   {
    "duration": 10,
    "start_time": "2021-11-29T18:13:40.577Z"
   },
   {
    "duration": 716,
    "start_time": "2021-11-29T18:13:48.047Z"
   },
   {
    "duration": 39,
    "start_time": "2021-11-29T18:13:48.765Z"
   },
   {
    "duration": 17,
    "start_time": "2021-11-29T18:13:48.809Z"
   },
   {
    "duration": 23,
    "start_time": "2021-11-29T18:13:48.828Z"
   },
   {
    "duration": 34,
    "start_time": "2021-11-29T18:13:48.853Z"
   },
   {
    "duration": 20,
    "start_time": "2021-11-29T18:13:48.889Z"
   },
   {
    "duration": 43,
    "start_time": "2021-11-29T18:13:48.911Z"
   },
   {
    "duration": 29,
    "start_time": "2021-11-29T18:13:48.955Z"
   },
   {
    "duration": 46,
    "start_time": "2021-11-29T18:13:48.986Z"
   },
   {
    "duration": 18,
    "start_time": "2021-11-29T18:13:49.033Z"
   },
   {
    "duration": 19,
    "start_time": "2021-11-29T18:13:49.053Z"
   },
   {
    "duration": 238,
    "start_time": "2021-11-29T18:13:49.074Z"
   },
   {
    "duration": 12,
    "start_time": "2021-11-29T18:13:49.314Z"
   },
   {
    "duration": 33,
    "start_time": "2021-11-29T18:13:49.327Z"
   },
   {
    "duration": 41,
    "start_time": "2021-11-29T18:13:49.362Z"
   },
   {
    "duration": 28,
    "start_time": "2021-11-29T18:13:49.404Z"
   },
   {
    "duration": 3,
    "start_time": "2021-11-29T18:14:21.675Z"
   },
   {
    "duration": 58,
    "start_time": "2021-11-29T18:14:21.679Z"
   },
   {
    "duration": 13,
    "start_time": "2021-11-29T18:14:21.739Z"
   },
   {
    "duration": 27,
    "start_time": "2021-11-29T18:14:21.754Z"
   },
   {
    "duration": 30,
    "start_time": "2021-11-29T18:14:21.782Z"
   },
   {
    "duration": 10,
    "start_time": "2021-11-29T18:14:21.814Z"
   },
   {
    "duration": 43,
    "start_time": "2021-11-29T18:14:21.825Z"
   },
   {
    "duration": 44,
    "start_time": "2021-11-29T18:14:21.870Z"
   },
   {
    "duration": 50,
    "start_time": "2021-11-29T18:14:21.916Z"
   },
   {
    "duration": 42,
    "start_time": "2021-11-29T18:14:21.968Z"
   },
   {
    "duration": 28,
    "start_time": "2021-11-29T18:14:22.012Z"
   },
   {
    "duration": 263,
    "start_time": "2021-11-29T18:14:22.042Z"
   },
   {
    "duration": 11,
    "start_time": "2021-11-29T18:14:22.307Z"
   },
   {
    "duration": 16,
    "start_time": "2021-11-29T18:14:25.020Z"
   },
   {
    "duration": 9,
    "start_time": "2021-11-29T18:14:44.926Z"
   },
   {
    "duration": 14,
    "start_time": "2021-11-29T18:14:50.816Z"
   },
   {
    "duration": 16,
    "start_time": "2021-11-29T18:40:57.817Z"
   },
   {
    "duration": 15,
    "start_time": "2021-11-29T18:41:10.313Z"
   },
   {
    "duration": 17,
    "start_time": "2021-11-29T18:41:40.095Z"
   },
   {
    "duration": 80,
    "start_time": "2021-11-29T18:41:55.329Z"
   },
   {
    "duration": 10,
    "start_time": "2021-11-29T18:42:20.254Z"
   },
   {
    "duration": 647,
    "start_time": "2021-11-29T18:42:41.084Z"
   },
   {
    "duration": 39,
    "start_time": "2021-11-29T18:42:41.733Z"
   },
   {
    "duration": 16,
    "start_time": "2021-11-29T18:42:41.774Z"
   },
   {
    "duration": 20,
    "start_time": "2021-11-29T18:42:41.792Z"
   },
   {
    "duration": 36,
    "start_time": "2021-11-29T18:42:41.813Z"
   },
   {
    "duration": 32,
    "start_time": "2021-11-29T18:42:41.850Z"
   },
   {
    "duration": 58,
    "start_time": "2021-11-29T18:42:41.884Z"
   },
   {
    "duration": 42,
    "start_time": "2021-11-29T18:42:41.945Z"
   },
   {
    "duration": 49,
    "start_time": "2021-11-29T18:42:41.989Z"
   },
   {
    "duration": 38,
    "start_time": "2021-11-29T18:42:42.040Z"
   },
   {
    "duration": 46,
    "start_time": "2021-11-29T18:42:42.079Z"
   },
   {
    "duration": 250,
    "start_time": "2021-11-29T18:42:42.127Z"
   },
   {
    "duration": 13,
    "start_time": "2021-11-29T18:42:42.379Z"
   },
   {
    "duration": 16,
    "start_time": "2021-11-29T18:42:42.393Z"
   },
   {
    "duration": 33,
    "start_time": "2021-11-29T18:42:42.411Z"
   },
   {
    "duration": 14,
    "start_time": "2021-11-29T18:42:42.446Z"
   },
   {
    "duration": 17,
    "start_time": "2021-11-29T18:42:42.461Z"
   },
   {
    "duration": 8,
    "start_time": "2021-11-29T18:42:42.480Z"
   },
   {
    "duration": 7,
    "start_time": "2021-11-29T18:43:02.504Z"
   },
   {
    "duration": 893,
    "start_time": "2021-11-29T20:36:00.059Z"
   },
   {
    "duration": 23,
    "start_time": "2021-11-29T20:37:34.516Z"
   },
   {
    "duration": 469,
    "start_time": "2021-11-29T20:37:46.596Z"
   },
   {
    "duration": 259,
    "start_time": "2021-11-29T20:38:06.551Z"
   },
   {
    "duration": 3,
    "start_time": "2021-11-29T20:38:20.703Z"
   },
   {
    "duration": 39,
    "start_time": "2021-11-29T20:38:20.708Z"
   },
   {
    "duration": 12,
    "start_time": "2021-11-29T20:38:20.749Z"
   },
   {
    "duration": 18,
    "start_time": "2021-11-29T20:38:20.763Z"
   },
   {
    "duration": 11,
    "start_time": "2021-11-29T20:38:20.783Z"
   },
   {
    "duration": 8,
    "start_time": "2021-11-29T20:38:20.796Z"
   },
   {
    "duration": 19,
    "start_time": "2021-11-29T20:38:20.807Z"
   },
   {
    "duration": 10,
    "start_time": "2021-11-29T20:38:20.844Z"
   },
   {
    "duration": 15,
    "start_time": "2021-11-29T20:38:20.856Z"
   },
   {
    "duration": 15,
    "start_time": "2021-11-29T20:38:20.872Z"
   },
   {
    "duration": 7,
    "start_time": "2021-11-29T20:38:20.888Z"
   },
   {
    "duration": 247,
    "start_time": "2021-11-29T20:38:20.897Z"
   },
   {
    "duration": 11,
    "start_time": "2021-11-29T20:38:21.146Z"
   },
   {
    "duration": 15,
    "start_time": "2021-11-29T20:38:21.158Z"
   },
   {
    "duration": 8,
    "start_time": "2021-11-29T20:38:21.174Z"
   },
   {
    "duration": 13,
    "start_time": "2021-11-29T20:38:21.183Z"
   },
   {
    "duration": 15,
    "start_time": "2021-11-29T20:38:21.197Z"
   },
   {
    "duration": 36,
    "start_time": "2021-11-29T20:38:21.213Z"
   },
   {
    "duration": 9,
    "start_time": "2021-11-29T20:38:24.011Z"
   },
   {
    "duration": 272,
    "start_time": "2021-11-29T20:44:59.614Z"
   },
   {
    "duration": 5,
    "start_time": "2021-11-29T22:49:02.736Z"
   },
   {
    "duration": 134,
    "start_time": "2021-11-29T22:50:49.368Z"
   },
   {
    "duration": 44,
    "start_time": "2021-11-29T22:50:59.070Z"
   },
   {
    "duration": 49,
    "start_time": "2021-11-29T22:53:11.749Z"
   },
   {
    "duration": 3,
    "start_time": "2021-11-29T22:55:39.069Z"
   },
   {
    "duration": 54,
    "start_time": "2021-11-29T22:55:39.074Z"
   },
   {
    "duration": 13,
    "start_time": "2021-11-29T22:55:39.130Z"
   },
   {
    "duration": 27,
    "start_time": "2021-11-29T22:55:39.145Z"
   },
   {
    "duration": 34,
    "start_time": "2021-11-29T22:55:39.174Z"
   },
   {
    "duration": 24,
    "start_time": "2021-11-29T22:55:39.210Z"
   },
   {
    "duration": 33,
    "start_time": "2021-11-29T22:55:39.237Z"
   },
   {
    "duration": 37,
    "start_time": "2021-11-29T22:55:39.272Z"
   },
   {
    "duration": 21,
    "start_time": "2021-11-29T22:55:39.311Z"
   },
   {
    "duration": 16,
    "start_time": "2021-11-29T22:55:39.333Z"
   },
   {
    "duration": 8,
    "start_time": "2021-11-29T22:55:39.351Z"
   },
   {
    "duration": 232,
    "start_time": "2021-11-29T22:55:39.361Z"
   },
   {
    "duration": 12,
    "start_time": "2021-11-29T22:55:39.595Z"
   },
   {
    "duration": 15,
    "start_time": "2021-11-29T22:55:39.609Z"
   },
   {
    "duration": 25,
    "start_time": "2021-11-29T22:55:39.626Z"
   },
   {
    "duration": 13,
    "start_time": "2021-11-29T22:55:39.653Z"
   },
   {
    "duration": 16,
    "start_time": "2021-11-29T22:55:39.668Z"
   },
   {
    "duration": 6,
    "start_time": "2021-11-29T22:55:39.686Z"
   },
   {
    "duration": 9,
    "start_time": "2021-11-29T22:55:39.694Z"
   },
   {
    "duration": 56,
    "start_time": "2021-11-29T22:55:42.178Z"
   },
   {
    "duration": 634,
    "start_time": "2021-11-29T22:56:15.354Z"
   },
   {
    "duration": 39,
    "start_time": "2021-11-29T22:56:15.990Z"
   },
   {
    "duration": 18,
    "start_time": "2021-11-29T22:56:16.034Z"
   },
   {
    "duration": 11,
    "start_time": "2021-11-29T22:56:16.054Z"
   },
   {
    "duration": 12,
    "start_time": "2021-11-29T22:56:16.067Z"
   },
   {
    "duration": 5,
    "start_time": "2021-11-29T22:56:16.080Z"
   },
   {
    "duration": 11,
    "start_time": "2021-11-29T22:56:16.089Z"
   },
   {
    "duration": 48,
    "start_time": "2021-11-29T22:56:16.102Z"
   },
   {
    "duration": 13,
    "start_time": "2021-11-29T22:56:16.152Z"
   },
   {
    "duration": 14,
    "start_time": "2021-11-29T22:56:16.167Z"
   },
   {
    "duration": 7,
    "start_time": "2021-11-29T22:56:16.183Z"
   },
   {
    "duration": 279,
    "start_time": "2021-11-29T22:56:16.191Z"
   },
   {
    "duration": 13,
    "start_time": "2021-11-29T22:56:16.472Z"
   },
   {
    "duration": 16,
    "start_time": "2021-11-29T22:56:16.487Z"
   },
   {
    "duration": 8,
    "start_time": "2021-11-29T22:56:16.505Z"
   },
   {
    "duration": 41,
    "start_time": "2021-11-29T22:56:16.515Z"
   },
   {
    "duration": 17,
    "start_time": "2021-11-29T22:56:16.558Z"
   },
   {
    "duration": 8,
    "start_time": "2021-11-29T22:56:16.576Z"
   },
   {
    "duration": 10,
    "start_time": "2021-11-29T22:56:16.585Z"
   },
   {
    "duration": 92,
    "start_time": "2021-11-29T22:56:16.597Z"
   },
   {
    "duration": 55,
    "start_time": "2021-11-29T22:56:30.965Z"
   },
   {
    "duration": 54,
    "start_time": "2021-11-29T22:56:50.078Z"
   },
   {
    "duration": 9,
    "start_time": "2021-11-29T23:08:53.825Z"
   },
   {
    "duration": 8,
    "start_time": "2021-11-29T23:09:25.377Z"
   },
   {
    "duration": 649,
    "start_time": "2021-11-29T23:12:35.708Z"
   },
   {
    "duration": 36,
    "start_time": "2021-11-29T23:12:36.359Z"
   },
   {
    "duration": 15,
    "start_time": "2021-11-29T23:12:36.397Z"
   },
   {
    "duration": 13,
    "start_time": "2021-11-29T23:12:36.413Z"
   },
   {
    "duration": 46,
    "start_time": "2021-11-29T23:12:36.427Z"
   },
   {
    "duration": 8,
    "start_time": "2021-11-29T23:12:36.475Z"
   },
   {
    "duration": 16,
    "start_time": "2021-11-29T23:12:36.484Z"
   },
   {
    "duration": 16,
    "start_time": "2021-11-29T23:12:36.502Z"
   },
   {
    "duration": 18,
    "start_time": "2021-11-29T23:12:36.520Z"
   },
   {
    "duration": 16,
    "start_time": "2021-11-29T23:12:36.539Z"
   },
   {
    "duration": 7,
    "start_time": "2021-11-29T23:12:36.556Z"
   },
   {
    "duration": 241,
    "start_time": "2021-11-29T23:12:36.565Z"
   },
   {
    "duration": 12,
    "start_time": "2021-11-29T23:12:36.808Z"
   },
   {
    "duration": 32,
    "start_time": "2021-11-29T23:12:36.822Z"
   },
   {
    "duration": 8,
    "start_time": "2021-11-29T23:12:36.856Z"
   },
   {
    "duration": 13,
    "start_time": "2021-11-29T23:12:36.866Z"
   },
   {
    "duration": 15,
    "start_time": "2021-11-29T23:12:36.881Z"
   },
   {
    "duration": 6,
    "start_time": "2021-11-29T23:12:36.898Z"
   },
   {
    "duration": 42,
    "start_time": "2021-11-29T23:12:36.906Z"
   },
   {
    "duration": 56,
    "start_time": "2021-11-29T23:12:36.950Z"
   },
   {
    "duration": 10,
    "start_time": "2021-11-29T23:12:55.081Z"
   },
   {
    "duration": 52,
    "start_time": "2021-11-29T23:13:39.193Z"
   },
   {
    "duration": 52,
    "start_time": "2021-11-29T23:13:52.951Z"
   },
   {
    "duration": 50,
    "start_time": "2021-11-29T23:14:03.104Z"
   },
   {
    "duration": 7,
    "start_time": "2021-11-29T23:16:19.572Z"
   },
   {
    "duration": 9,
    "start_time": "2021-11-29T23:16:38.182Z"
   },
   {
    "duration": 51,
    "start_time": "2021-11-29T23:16:57.877Z"
   },
   {
    "duration": 1110,
    "start_time": "2021-11-29T23:17:07.052Z"
   },
   {
    "duration": 10,
    "start_time": "2021-11-29T23:17:57.894Z"
   },
   {
    "duration": 3,
    "start_time": "2021-11-29T23:18:20.388Z"
   },
   {
    "duration": 48,
    "start_time": "2021-11-29T23:18:20.393Z"
   },
   {
    "duration": 11,
    "start_time": "2021-11-29T23:18:20.443Z"
   },
   {
    "duration": 13,
    "start_time": "2021-11-29T23:18:20.455Z"
   },
   {
    "duration": 10,
    "start_time": "2021-11-29T23:18:20.469Z"
   },
   {
    "duration": 3,
    "start_time": "2021-11-29T23:18:20.481Z"
   },
   {
    "duration": 18,
    "start_time": "2021-11-29T23:18:20.486Z"
   },
   {
    "duration": 9,
    "start_time": "2021-11-29T23:18:20.506Z"
   },
   {
    "duration": 32,
    "start_time": "2021-11-29T23:18:20.517Z"
   },
   {
    "duration": 14,
    "start_time": "2021-11-29T23:18:20.550Z"
   },
   {
    "duration": 6,
    "start_time": "2021-11-29T23:18:20.566Z"
   },
   {
    "duration": 219,
    "start_time": "2021-11-29T23:18:20.575Z"
   },
   {
    "duration": 11,
    "start_time": "2021-11-29T23:18:20.795Z"
   },
   {
    "duration": 14,
    "start_time": "2021-11-29T23:18:20.807Z"
   },
   {
    "duration": 26,
    "start_time": "2021-11-29T23:18:20.823Z"
   },
   {
    "duration": 12,
    "start_time": "2021-11-29T23:18:20.851Z"
   },
   {
    "duration": 15,
    "start_time": "2021-11-29T23:18:20.864Z"
   },
   {
    "duration": 6,
    "start_time": "2021-11-29T23:18:20.880Z"
   },
   {
    "duration": 14,
    "start_time": "2021-11-29T23:18:20.888Z"
   },
   {
    "duration": 319,
    "start_time": "2021-11-29T23:18:20.903Z"
   },
   {
    "duration": 49,
    "start_time": "2021-11-29T23:19:44.983Z"
   },
   {
    "duration": 48,
    "start_time": "2021-11-29T23:20:28.731Z"
   },
   {
    "duration": 985,
    "start_time": "2021-11-29T23:20:35.082Z"
   },
   {
    "duration": 13,
    "start_time": "2021-11-29T23:21:47.681Z"
   },
   {
    "duration": 781,
    "start_time": "2021-11-29T23:31:49.941Z"
   },
   {
    "duration": 36,
    "start_time": "2021-11-29T23:31:50.724Z"
   },
   {
    "duration": 15,
    "start_time": "2021-11-29T23:31:50.762Z"
   },
   {
    "duration": 22,
    "start_time": "2021-11-29T23:31:50.778Z"
   },
   {
    "duration": 24,
    "start_time": "2021-11-29T23:31:50.801Z"
   },
   {
    "duration": 7,
    "start_time": "2021-11-29T23:31:50.827Z"
   },
   {
    "duration": 55,
    "start_time": "2021-11-29T23:31:50.836Z"
   },
   {
    "duration": 21,
    "start_time": "2021-11-29T23:31:50.893Z"
   },
   {
    "duration": 33,
    "start_time": "2021-11-29T23:31:50.917Z"
   },
   {
    "duration": 17,
    "start_time": "2021-11-29T23:31:50.952Z"
   },
   {
    "duration": 9,
    "start_time": "2021-11-29T23:31:50.971Z"
   },
   {
    "duration": 255,
    "start_time": "2021-11-29T23:31:50.981Z"
   },
   {
    "duration": 15,
    "start_time": "2021-11-29T23:31:51.239Z"
   },
   {
    "duration": 16,
    "start_time": "2021-11-29T23:31:51.256Z"
   },
   {
    "duration": 7,
    "start_time": "2021-11-29T23:31:51.273Z"
   },
   {
    "duration": 12,
    "start_time": "2021-11-29T23:31:51.282Z"
   },
   {
    "duration": 15,
    "start_time": "2021-11-29T23:31:51.296Z"
   },
   {
    "duration": 38,
    "start_time": "2021-11-29T23:31:51.312Z"
   },
   {
    "duration": 9,
    "start_time": "2021-11-29T23:31:51.352Z"
   },
   {
    "duration": 18,
    "start_time": "2021-11-29T23:31:51.363Z"
   },
   {
    "duration": 5,
    "start_time": "2021-11-30T00:02:08.520Z"
   },
   {
    "duration": 7,
    "start_time": "2021-11-30T00:07:11.731Z"
   },
   {
    "duration": 8,
    "start_time": "2021-11-30T00:08:00.627Z"
   },
   {
    "duration": 8,
    "start_time": "2021-11-30T00:08:09.493Z"
   },
   {
    "duration": 383,
    "start_time": "2021-11-30T00:08:28.756Z"
   },
   {
    "duration": 9,
    "start_time": "2021-11-30T00:08:33.212Z"
   },
   {
    "duration": 12,
    "start_time": "2021-11-30T00:10:22.777Z"
   },
   {
    "duration": 6,
    "start_time": "2021-11-30T00:16:16.358Z"
   },
   {
    "duration": 11,
    "start_time": "2021-11-30T00:23:26.926Z"
   },
   {
    "duration": 5,
    "start_time": "2021-11-30T00:25:40.940Z"
   },
   {
    "duration": 13,
    "start_time": "2021-11-30T00:25:50.412Z"
   },
   {
    "duration": 15,
    "start_time": "2021-11-30T00:26:03.956Z"
   },
   {
    "duration": 917,
    "start_time": "2021-11-30T10:33:33.088Z"
   },
   {
    "duration": 48,
    "start_time": "2021-11-30T10:33:34.007Z"
   },
   {
    "duration": 22,
    "start_time": "2021-11-30T10:33:34.058Z"
   },
   {
    "duration": 23,
    "start_time": "2021-11-30T10:33:34.084Z"
   },
   {
    "duration": 32,
    "start_time": "2021-11-30T10:33:34.109Z"
   },
   {
    "duration": 6,
    "start_time": "2021-11-30T10:33:34.144Z"
   },
   {
    "duration": 22,
    "start_time": "2021-11-30T10:33:34.152Z"
   },
   {
    "duration": 22,
    "start_time": "2021-11-30T10:33:34.178Z"
   },
   {
    "duration": 28,
    "start_time": "2021-11-30T10:33:34.230Z"
   },
   {
    "duration": 23,
    "start_time": "2021-11-30T10:33:34.260Z"
   },
   {
    "duration": 11,
    "start_time": "2021-11-30T10:33:34.286Z"
   },
   {
    "duration": 427,
    "start_time": "2021-11-30T10:33:34.330Z"
   },
   {
    "duration": 17,
    "start_time": "2021-11-30T10:33:34.759Z"
   },
   {
    "duration": 24,
    "start_time": "2021-11-30T10:33:34.778Z"
   },
   {
    "duration": 11,
    "start_time": "2021-11-30T10:33:34.829Z"
   },
   {
    "duration": 21,
    "start_time": "2021-11-30T10:33:34.842Z"
   },
   {
    "duration": 65,
    "start_time": "2021-11-30T10:33:34.865Z"
   },
   {
    "duration": 11,
    "start_time": "2021-11-30T10:33:34.933Z"
   },
   {
    "duration": 20,
    "start_time": "2021-11-30T10:33:34.946Z"
   },
   {
    "duration": 30,
    "start_time": "2021-11-30T10:33:34.968Z"
   },
   {
    "duration": 38,
    "start_time": "2021-11-30T10:33:35.000Z"
   },
   {
    "duration": 22,
    "start_time": "2021-11-30T10:33:35.040Z"
   },
   {
    "duration": 412,
    "start_time": "2021-11-30T10:33:35.066Z"
   },
   {
    "duration": 520,
    "start_time": "2021-11-30T10:33:41.946Z"
   },
   {
    "duration": 457,
    "start_time": "2021-11-30T10:33:47.649Z"
   },
   {
    "duration": 403,
    "start_time": "2021-11-30T10:33:59.649Z"
   },
   {
    "duration": 378,
    "start_time": "2021-11-30T10:52:20.432Z"
   },
   {
    "duration": 617,
    "start_time": "2021-11-30T10:52:27.770Z"
   },
   {
    "duration": 546,
    "start_time": "2021-11-30T10:52:34.229Z"
   },
   {
    "duration": 619,
    "start_time": "2021-11-30T10:53:24.010Z"
   },
   {
    "duration": 579,
    "start_time": "2021-11-30T10:53:29.852Z"
   },
   {
    "duration": 655,
    "start_time": "2021-11-30T10:54:14.562Z"
   },
   {
    "duration": 568,
    "start_time": "2021-11-30T10:56:20.329Z"
   },
   {
    "duration": 681,
    "start_time": "2021-11-30T10:56:29.230Z"
   },
   {
    "duration": 983,
    "start_time": "2021-11-30T10:57:50.893Z"
   },
   {
    "duration": 1036,
    "start_time": "2021-11-30T10:58:36.093Z"
   },
   {
    "duration": 677,
    "start_time": "2021-11-30T10:58:51.099Z"
   },
   {
    "duration": 876,
    "start_time": "2021-11-30T11:34:31.633Z"
   },
   {
    "duration": 50,
    "start_time": "2021-11-30T11:34:32.516Z"
   },
   {
    "duration": 24,
    "start_time": "2021-11-30T11:34:32.568Z"
   },
   {
    "duration": 41,
    "start_time": "2021-11-30T11:34:32.594Z"
   },
   {
    "duration": 26,
    "start_time": "2021-11-30T11:34:32.638Z"
   },
   {
    "duration": 6,
    "start_time": "2021-11-30T11:34:32.667Z"
   },
   {
    "duration": 22,
    "start_time": "2021-11-30T11:34:32.677Z"
   },
   {
    "duration": 34,
    "start_time": "2021-11-30T11:34:32.702Z"
   },
   {
    "duration": 33,
    "start_time": "2021-11-30T11:34:32.738Z"
   },
   {
    "duration": 24,
    "start_time": "2021-11-30T11:34:32.773Z"
   },
   {
    "duration": 38,
    "start_time": "2021-11-30T11:34:32.800Z"
   },
   {
    "duration": 422,
    "start_time": "2021-11-30T11:34:32.840Z"
   },
   {
    "duration": 18,
    "start_time": "2021-11-30T11:34:33.264Z"
   },
   {
    "duration": 55,
    "start_time": "2021-11-30T11:34:33.285Z"
   },
   {
    "duration": 11,
    "start_time": "2021-11-30T11:34:33.343Z"
   },
   {
    "duration": 22,
    "start_time": "2021-11-30T11:34:33.357Z"
   },
   {
    "duration": 57,
    "start_time": "2021-11-30T11:34:33.381Z"
   },
   {
    "duration": 12,
    "start_time": "2021-11-30T11:34:33.442Z"
   },
   {
    "duration": 18,
    "start_time": "2021-11-30T11:34:33.458Z"
   },
   {
    "duration": 57,
    "start_time": "2021-11-30T11:34:33.478Z"
   },
   {
    "duration": 11,
    "start_time": "2021-11-30T11:34:33.538Z"
   },
   {
    "duration": 22,
    "start_time": "2021-11-30T11:34:33.554Z"
   },
   {
    "duration": 606,
    "start_time": "2021-11-30T11:34:33.578Z"
   },
   {
    "duration": 23,
    "start_time": "2021-11-30T11:34:34.186Z"
   },
   {
    "duration": 21,
    "start_time": "2021-11-30T11:34:45.088Z"
   },
   {
    "duration": 21,
    "start_time": "2021-11-30T11:36:30.326Z"
   },
   {
    "duration": 117,
    "start_time": "2021-11-30T11:40:07.765Z"
   },
   {
    "duration": 96,
    "start_time": "2021-11-30T11:40:13.931Z"
   },
   {
    "duration": 101,
    "start_time": "2021-11-30T11:40:16.809Z"
   },
   {
    "duration": 93,
    "start_time": "2021-11-30T11:40:30.900Z"
   },
   {
    "duration": 88,
    "start_time": "2021-11-30T11:40:45.522Z"
   },
   {
    "duration": 104,
    "start_time": "2021-11-30T11:40:57.259Z"
   },
   {
    "duration": 95,
    "start_time": "2021-11-30T11:41:02.419Z"
   },
   {
    "duration": 80,
    "start_time": "2021-11-30T11:41:08.209Z"
   },
   {
    "duration": 397,
    "start_time": "2021-11-30T11:42:37.617Z"
   },
   {
    "duration": 390,
    "start_time": "2021-11-30T11:42:49.803Z"
   },
   {
    "duration": 307,
    "start_time": "2021-11-30T11:43:00.914Z"
   },
   {
    "duration": 337,
    "start_time": "2021-11-30T11:45:03.872Z"
   },
   {
    "duration": 9,
    "start_time": "2021-11-30T11:48:12.587Z"
   },
   {
    "duration": 9,
    "start_time": "2021-11-30T11:48:32.747Z"
   },
   {
    "duration": 21,
    "start_time": "2021-11-30T11:48:37.469Z"
   },
   {
    "duration": 292,
    "start_time": "2021-11-30T11:48:47.122Z"
   },
   {
    "duration": 849,
    "start_time": "2021-11-30T11:48:55.870Z"
   },
   {
    "duration": 48,
    "start_time": "2021-11-30T11:48:56.721Z"
   },
   {
    "duration": 24,
    "start_time": "2021-11-30T11:48:56.775Z"
   },
   {
    "duration": 41,
    "start_time": "2021-11-30T11:48:56.801Z"
   },
   {
    "duration": 18,
    "start_time": "2021-11-30T11:48:56.845Z"
   },
   {
    "duration": 6,
    "start_time": "2021-11-30T11:48:56.866Z"
   },
   {
    "duration": 22,
    "start_time": "2021-11-30T11:48:56.875Z"
   },
   {
    "duration": 20,
    "start_time": "2021-11-30T11:48:56.930Z"
   },
   {
    "duration": 30,
    "start_time": "2021-11-30T11:48:56.952Z"
   },
   {
    "duration": 23,
    "start_time": "2021-11-30T11:48:56.985Z"
   },
   {
    "duration": 29,
    "start_time": "2021-11-30T11:48:57.010Z"
   },
   {
    "duration": 412,
    "start_time": "2021-11-30T11:48:57.042Z"
   },
   {
    "duration": 17,
    "start_time": "2021-11-30T11:48:57.457Z"
   },
   {
    "duration": 25,
    "start_time": "2021-11-30T11:48:57.477Z"
   },
   {
    "duration": 12,
    "start_time": "2021-11-30T11:48:57.530Z"
   },
   {
    "duration": 21,
    "start_time": "2021-11-30T11:48:57.545Z"
   },
   {
    "duration": 26,
    "start_time": "2021-11-30T11:48:57.568Z"
   },
   {
    "duration": 11,
    "start_time": "2021-11-30T11:48:57.630Z"
   },
   {
    "duration": 15,
    "start_time": "2021-11-30T11:48:57.643Z"
   },
   {
    "duration": 21,
    "start_time": "2021-11-30T11:48:57.660Z"
   },
   {
    "duration": 49,
    "start_time": "2021-11-30T11:48:57.684Z"
   },
   {
    "duration": 22,
    "start_time": "2021-11-30T11:48:57.738Z"
   },
   {
    "duration": 603,
    "start_time": "2021-11-30T11:48:57.763Z"
   },
   {
    "duration": 10,
    "start_time": "2021-11-30T11:48:58.368Z"
   },
   {
    "duration": 24,
    "start_time": "2021-11-30T11:48:58.380Z"
   },
   {
    "duration": 438,
    "start_time": "2021-11-30T11:48:58.430Z"
   },
   {
    "duration": 281,
    "start_time": "2021-11-30T11:49:50.381Z"
   },
   {
    "duration": 20,
    "start_time": "2021-11-30T11:50:01.230Z"
   },
   {
    "duration": 96,
    "start_time": "2021-11-30T11:50:16.216Z"
   },
   {
    "duration": 85,
    "start_time": "2021-11-30T11:50:25.116Z"
   },
   {
    "duration": 99,
    "start_time": "2021-11-30T11:50:31.614Z"
   },
   {
    "duration": 98,
    "start_time": "2021-11-30T11:50:36.579Z"
   },
   {
    "duration": 20,
    "start_time": "2021-11-30T11:50:47.419Z"
   },
   {
    "duration": 22,
    "start_time": "2021-11-30T11:50:59.619Z"
   },
   {
    "duration": 301,
    "start_time": "2021-11-30T11:51:46.717Z"
   },
   {
    "duration": 290,
    "start_time": "2021-11-30T11:52:10.450Z"
   },
   {
    "duration": 342,
    "start_time": "2021-11-30T11:52:51.099Z"
   },
   {
    "duration": 315,
    "start_time": "2021-11-30T11:53:24.836Z"
   },
   {
    "duration": 466,
    "start_time": "2021-11-30T11:53:36.114Z"
   },
   {
    "duration": 901,
    "start_time": "2021-11-30T11:54:50.930Z"
   },
   {
    "duration": 49,
    "start_time": "2021-11-30T11:54:51.833Z"
   },
   {
    "duration": 25,
    "start_time": "2021-11-30T11:54:51.885Z"
   },
   {
    "duration": 32,
    "start_time": "2021-11-30T11:54:51.913Z"
   },
   {
    "duration": 19,
    "start_time": "2021-11-30T11:54:51.948Z"
   },
   {
    "duration": 6,
    "start_time": "2021-11-30T11:54:51.970Z"
   },
   {
    "duration": 25,
    "start_time": "2021-11-30T11:54:51.978Z"
   },
   {
    "duration": 15,
    "start_time": "2021-11-30T11:54:52.031Z"
   },
   {
    "duration": 46,
    "start_time": "2021-11-30T11:54:52.049Z"
   },
   {
    "duration": 44,
    "start_time": "2021-11-30T11:54:52.098Z"
   },
   {
    "duration": 12,
    "start_time": "2021-11-30T11:54:52.145Z"
   },
   {
    "duration": 528,
    "start_time": "2021-11-30T11:54:52.160Z"
   },
   {
    "duration": 18,
    "start_time": "2021-11-30T11:54:52.690Z"
   },
   {
    "duration": 42,
    "start_time": "2021-11-30T11:54:52.710Z"
   },
   {
    "duration": 12,
    "start_time": "2021-11-30T11:54:52.754Z"
   },
   {
    "duration": 20,
    "start_time": "2021-11-30T11:54:52.768Z"
   },
   {
    "duration": 60,
    "start_time": "2021-11-30T11:54:52.790Z"
   },
   {
    "duration": 11,
    "start_time": "2021-11-30T11:54:52.852Z"
   },
   {
    "duration": 25,
    "start_time": "2021-11-30T11:54:52.866Z"
   },
   {
    "duration": 49,
    "start_time": "2021-11-30T11:54:52.894Z"
   },
   {
    "duration": 14,
    "start_time": "2021-11-30T11:54:52.945Z"
   },
   {
    "duration": 23,
    "start_time": "2021-11-30T11:54:52.961Z"
   },
   {
    "duration": 819,
    "start_time": "2021-11-30T11:54:52.989Z"
   },
   {
    "duration": 19,
    "start_time": "2021-11-30T11:54:53.810Z"
   },
   {
    "duration": 22,
    "start_time": "2021-11-30T11:54:53.831Z"
   },
   {
    "duration": 467,
    "start_time": "2021-11-30T11:54:53.855Z"
   },
   {
    "duration": 23,
    "start_time": "2021-11-30T11:55:59.084Z"
   },
   {
    "duration": 522,
    "start_time": "2021-11-30T11:55:59.689Z"
   },
   {
    "duration": 21,
    "start_time": "2021-11-30T11:56:07.322Z"
   },
   {
    "duration": 318,
    "start_time": "2021-11-30T11:56:08.976Z"
   },
   {
    "duration": 19,
    "start_time": "2021-11-30T11:56:18.138Z"
   },
   {
    "duration": 6800,
    "start_time": "2021-11-30T11:56:34.801Z"
   },
   {
    "duration": 22,
    "start_time": "2021-11-30T11:56:43.370Z"
   },
   {
    "duration": 7501,
    "start_time": "2021-11-30T11:56:48.898Z"
   },
   {
    "duration": 7693,
    "start_time": "2021-11-30T11:57:45.625Z"
   },
   {
    "duration": 21,
    "start_time": "2021-11-30T11:58:25.711Z"
   },
   {
    "duration": 6764,
    "start_time": "2021-11-30T11:58:51.464Z"
   },
   {
    "duration": 23,
    "start_time": "2021-11-30T11:59:05.624Z"
   },
   {
    "duration": 10194,
    "start_time": "2021-11-30T11:59:08.582Z"
   },
   {
    "duration": 20,
    "start_time": "2021-11-30T12:00:28.237Z"
   },
   {
    "duration": 327,
    "start_time": "2021-11-30T12:01:36.078Z"
   },
   {
    "duration": 435,
    "start_time": "2021-11-30T12:01:47.837Z"
   },
   {
    "duration": 544,
    "start_time": "2021-11-30T12:01:53.140Z"
   },
   {
    "duration": 471,
    "start_time": "2021-11-30T12:24:26.793Z"
   },
   {
    "duration": 505,
    "start_time": "2021-11-30T12:24:42.512Z"
   },
   {
    "duration": 441,
    "start_time": "2021-11-30T12:26:37.561Z"
   },
   {
    "duration": 9040,
    "start_time": "2021-11-30T12:26:48.830Z"
   },
   {
    "duration": 2726,
    "start_time": "2021-11-30T12:31:07.293Z"
   },
   {
    "duration": 365,
    "start_time": "2021-11-30T12:31:38.947Z"
   },
   {
    "duration": 2388,
    "start_time": "2021-11-30T12:31:54.492Z"
   },
   {
    "duration": 2123,
    "start_time": "2021-11-30T12:32:04.195Z"
   },
   {
    "duration": 2122,
    "start_time": "2021-11-30T12:32:41.524Z"
   },
   {
    "duration": 1854,
    "start_time": "2021-11-30T12:32:57.612Z"
   },
   {
    "duration": 1881,
    "start_time": "2021-11-30T12:33:11.377Z"
   },
   {
    "duration": 2129,
    "start_time": "2021-11-30T12:33:27.890Z"
   },
   {
    "duration": 2001,
    "start_time": "2021-11-30T12:34:00.682Z"
   },
   {
    "duration": 8,
    "start_time": "2021-11-30T13:10:58.626Z"
   },
   {
    "duration": 9,
    "start_time": "2021-11-30T13:13:00.535Z"
   },
   {
    "duration": 901,
    "start_time": "2021-11-30T13:13:08.272Z"
   },
   {
    "duration": 48,
    "start_time": "2021-11-30T13:13:09.176Z"
   },
   {
    "duration": 25,
    "start_time": "2021-11-30T13:13:09.229Z"
   },
   {
    "duration": 22,
    "start_time": "2021-11-30T13:13:09.258Z"
   },
   {
    "duration": 16,
    "start_time": "2021-11-30T13:13:09.283Z"
   },
   {
    "duration": 8,
    "start_time": "2021-11-30T13:13:09.330Z"
   },
   {
    "duration": 23,
    "start_time": "2021-11-30T13:13:09.341Z"
   },
   {
    "duration": 13,
    "start_time": "2021-11-30T13:13:09.369Z"
   },
   {
    "duration": 62,
    "start_time": "2021-11-30T13:13:09.385Z"
   },
   {
    "duration": 28,
    "start_time": "2021-11-30T13:13:09.449Z"
   },
   {
    "duration": 11,
    "start_time": "2021-11-30T13:13:09.479Z"
   },
   {
    "duration": 418,
    "start_time": "2021-11-30T13:13:09.492Z"
   },
   {
    "duration": 31,
    "start_time": "2021-11-30T13:13:09.913Z"
   },
   {
    "duration": 27,
    "start_time": "2021-11-30T13:13:09.946Z"
   },
   {
    "duration": 13,
    "start_time": "2021-11-30T13:13:09.976Z"
   },
   {
    "duration": 58,
    "start_time": "2021-11-30T13:13:09.991Z"
   },
   {
    "duration": 30,
    "start_time": "2021-11-30T13:13:10.052Z"
   },
   {
    "duration": 47,
    "start_time": "2021-11-30T13:13:10.085Z"
   },
   {
    "duration": 15,
    "start_time": "2021-11-30T13:13:10.135Z"
   },
   {
    "duration": 24,
    "start_time": "2021-11-30T13:13:10.153Z"
   },
   {
    "duration": 56,
    "start_time": "2021-11-30T13:13:10.180Z"
   },
   {
    "duration": 23,
    "start_time": "2021-11-30T13:13:10.239Z"
   },
   {
    "duration": 612,
    "start_time": "2021-11-30T13:13:10.268Z"
   },
   {
    "duration": 11,
    "start_time": "2021-11-30T13:13:10.884Z"
   },
   {
    "duration": 570,
    "start_time": "2021-11-30T13:13:10.898Z"
   },
   {
    "duration": 1963,
    "start_time": "2021-11-30T13:13:11.471Z"
   },
   {
    "duration": 10,
    "start_time": "2021-11-30T13:13:13.437Z"
   },
   {
    "duration": 396,
    "start_time": "2021-11-30T13:29:50.996Z"
   },
   {
    "duration": 480,
    "start_time": "2021-11-30T13:30:00.469Z"
   },
   {
    "duration": 4,
    "start_time": "2021-11-30T13:30:08.653Z"
   },
   {
    "duration": 9512,
    "start_time": "2021-11-30T13:30:09.035Z"
   },
   {
    "duration": 8740,
    "start_time": "2021-11-30T13:31:11.514Z"
   },
   {
    "duration": 944,
    "start_time": "2021-11-30T13:35:16.736Z"
   },
   {
    "duration": 779,
    "start_time": "2021-11-30T13:35:42.589Z"
   },
   {
    "duration": 16620,
    "start_time": "2021-11-30T13:35:45.897Z"
   },
   {
    "duration": 4,
    "start_time": "2021-11-30T13:38:59.484Z"
   },
   {
    "duration": 1858,
    "start_time": "2021-11-30T13:39:00.894Z"
   },
   {
    "duration": 848,
    "start_time": "2021-11-30T13:40:09.097Z"
   },
   {
    "duration": 4,
    "start_time": "2021-11-30T13:40:11.146Z"
   },
   {
    "duration": 813,
    "start_time": "2021-11-30T13:40:11.980Z"
   },
   {
    "duration": 4,
    "start_time": "2021-11-30T13:40:31.452Z"
   },
   {
    "duration": 565,
    "start_time": "2021-11-30T13:40:32.189Z"
   },
   {
    "duration": 5,
    "start_time": "2021-11-30T13:42:07.113Z"
   },
   {
    "duration": 947,
    "start_time": "2021-11-30T13:42:07.819Z"
   },
   {
    "duration": 676,
    "start_time": "2021-11-30T13:42:41.755Z"
   },
   {
    "duration": 960,
    "start_time": "2021-11-30T13:42:51.604Z"
   },
   {
    "duration": 855,
    "start_time": "2021-11-30T13:43:50.002Z"
   },
   {
    "duration": 802,
    "start_time": "2021-11-30T13:44:09.159Z"
   },
   {
    "duration": 848,
    "start_time": "2021-11-30T13:44:22.631Z"
   },
   {
    "duration": 849,
    "start_time": "2021-11-30T13:44:33.342Z"
   },
   {
    "duration": 976,
    "start_time": "2021-11-30T13:45:07.160Z"
   },
   {
    "duration": 859,
    "start_time": "2021-11-30T13:45:21.174Z"
   },
   {
    "duration": 909,
    "start_time": "2021-11-30T13:45:48.415Z"
   },
   {
    "duration": 107,
    "start_time": "2021-11-30T13:46:01.850Z"
   },
   {
    "duration": 5,
    "start_time": "2021-11-30T13:46:09.278Z"
   },
   {
    "duration": 966,
    "start_time": "2021-11-30T13:46:10.813Z"
   },
   {
    "duration": 4,
    "start_time": "2021-11-30T13:46:21.108Z"
   },
   {
    "duration": 5,
    "start_time": "2021-11-30T13:47:05.228Z"
   },
   {
    "duration": 893,
    "start_time": "2021-11-30T13:47:05.398Z"
   },
   {
    "duration": 671,
    "start_time": "2021-11-30T13:54:27.719Z"
   },
   {
    "duration": 871,
    "start_time": "2021-11-30T13:54:33.603Z"
   },
   {
    "duration": 297,
    "start_time": "2021-11-30T14:18:04.908Z"
   },
   {
    "duration": 310,
    "start_time": "2021-11-30T14:20:00.587Z"
   },
   {
    "duration": 888,
    "start_time": "2021-11-30T14:20:43.341Z"
   },
   {
    "duration": 3448,
    "start_time": "2021-11-30T14:21:44.705Z"
   },
   {
    "duration": 3191,
    "start_time": "2021-11-30T14:22:19.876Z"
   },
   {
    "duration": 519,
    "start_time": "2021-11-30T14:22:33.145Z"
   },
   {
    "duration": 3325,
    "start_time": "2021-11-30T14:22:43.466Z"
   },
   {
    "duration": 1115,
    "start_time": "2021-11-30T14:23:56.615Z"
   },
   {
    "duration": 680,
    "start_time": "2021-11-30T14:24:57.054Z"
   },
   {
    "duration": 798,
    "start_time": "2021-11-30T14:25:18.934Z"
   },
   {
    "duration": 706,
    "start_time": "2021-11-30T14:25:24.878Z"
   },
   {
    "duration": 673,
    "start_time": "2021-11-30T14:25:54.967Z"
   },
   {
    "duration": 584,
    "start_time": "2021-11-30T14:26:14.670Z"
   },
   {
    "duration": 577,
    "start_time": "2021-11-30T14:26:22.981Z"
   },
   {
    "duration": 580,
    "start_time": "2021-11-30T14:26:28.876Z"
   },
   {
    "duration": 687,
    "start_time": "2021-11-30T14:26:42.516Z"
   },
   {
    "duration": 467,
    "start_time": "2021-11-30T14:29:49.883Z"
   },
   {
    "duration": 2818,
    "start_time": "2021-11-30T14:30:04.859Z"
   },
   {
    "duration": 3,
    "start_time": "2021-11-30T14:30:25.122Z"
   },
   {
    "duration": 579,
    "start_time": "2021-11-30T14:30:46.291Z"
   },
   {
    "duration": 296,
    "start_time": "2021-11-30T14:31:00.609Z"
   },
   {
    "duration": 306,
    "start_time": "2021-11-30T14:31:09.794Z"
   },
   {
    "duration": 125,
    "start_time": "2021-11-30T14:31:16.267Z"
   },
   {
    "duration": 569,
    "start_time": "2021-11-30T14:31:19.914Z"
   },
   {
    "duration": 20,
    "start_time": "2021-11-30T14:32:34.771Z"
   },
   {
    "duration": 33,
    "start_time": "2021-11-30T14:32:49.104Z"
   },
   {
    "duration": 9,
    "start_time": "2021-11-30T14:33:46.306Z"
   },
   {
    "duration": 4,
    "start_time": "2021-11-30T14:33:46.319Z"
   },
   {
    "duration": 832,
    "start_time": "2021-11-30T14:33:54.763Z"
   },
   {
    "duration": 48,
    "start_time": "2021-11-30T14:33:55.597Z"
   },
   {
    "duration": 23,
    "start_time": "2021-11-30T14:33:55.648Z"
   },
   {
    "duration": 21,
    "start_time": "2021-11-30T14:33:55.673Z"
   },
   {
    "duration": 40,
    "start_time": "2021-11-30T14:33:55.696Z"
   },
   {
    "duration": 6,
    "start_time": "2021-11-30T14:33:55.739Z"
   },
   {
    "duration": 29,
    "start_time": "2021-11-30T14:33:55.747Z"
   },
   {
    "duration": 13,
    "start_time": "2021-11-30T14:33:55.780Z"
   },
   {
    "duration": 46,
    "start_time": "2021-11-30T14:33:55.796Z"
   },
   {
    "duration": 22,
    "start_time": "2021-11-30T14:33:55.844Z"
   },
   {
    "duration": 12,
    "start_time": "2021-11-30T14:33:55.869Z"
   },
   {
    "duration": 440,
    "start_time": "2021-11-30T14:33:55.884Z"
   },
   {
    "duration": 16,
    "start_time": "2021-11-30T14:33:56.330Z"
   },
   {
    "duration": 25,
    "start_time": "2021-11-30T14:33:56.348Z"
   },
   {
    "duration": 11,
    "start_time": "2021-11-30T14:33:56.375Z"
   },
   {
    "duration": 58,
    "start_time": "2021-11-30T14:33:56.388Z"
   },
   {
    "duration": 26,
    "start_time": "2021-11-30T14:33:56.449Z"
   },
   {
    "duration": 10,
    "start_time": "2021-11-30T14:33:56.477Z"
   },
   {
    "duration": 47,
    "start_time": "2021-11-30T14:33:56.489Z"
   },
   {
    "duration": 27,
    "start_time": "2021-11-30T14:33:56.539Z"
   },
   {
    "duration": 13,
    "start_time": "2021-11-30T14:33:56.568Z"
   },
   {
    "duration": 50,
    "start_time": "2021-11-30T14:33:56.583Z"
   },
   {
    "duration": 603,
    "start_time": "2021-11-30T14:33:56.637Z"
   },
   {
    "duration": 9,
    "start_time": "2021-11-30T14:33:57.243Z"
   },
   {
    "duration": 589,
    "start_time": "2021-11-30T14:33:57.254Z"
   },
   {
    "duration": 2184,
    "start_time": "2021-11-30T14:33:57.845Z"
   },
   {
    "duration": 11,
    "start_time": "2021-11-30T14:34:00.031Z"
   },
   {
    "duration": 7,
    "start_time": "2021-11-30T14:34:00.045Z"
   },
   {
    "duration": 438,
    "start_time": "2021-11-30T14:34:00.055Z"
   },
   {
    "duration": 810,
    "start_time": "2021-11-30T14:33:59.686Z"
   },
   {
    "duration": 805,
    "start_time": "2021-11-30T14:33:59.692Z"
   },
   {
    "duration": 9,
    "start_time": "2021-11-30T14:34:42.327Z"
   },
   {
    "duration": 34,
    "start_time": "2021-11-30T14:35:47.184Z"
   },
   {
    "duration": 41,
    "start_time": "2021-11-30T14:36:20.223Z"
   },
   {
    "duration": 910,
    "start_time": "2021-11-30T14:36:30.372Z"
   },
   {
    "duration": 842,
    "start_time": "2021-11-30T14:36:39.670Z"
   },
   {
    "duration": 47,
    "start_time": "2021-11-30T14:36:40.514Z"
   },
   {
    "duration": 23,
    "start_time": "2021-11-30T14:36:40.564Z"
   },
   {
    "duration": 59,
    "start_time": "2021-11-30T14:36:40.590Z"
   },
   {
    "duration": 14,
    "start_time": "2021-11-30T14:36:40.652Z"
   },
   {
    "duration": 7,
    "start_time": "2021-11-30T14:36:40.669Z"
   },
   {
    "duration": 55,
    "start_time": "2021-11-30T14:36:40.679Z"
   },
   {
    "duration": 16,
    "start_time": "2021-11-30T14:36:40.740Z"
   },
   {
    "duration": 26,
    "start_time": "2021-11-30T14:36:40.758Z"
   },
   {
    "duration": 51,
    "start_time": "2021-11-30T14:36:40.787Z"
   },
   {
    "duration": 12,
    "start_time": "2021-11-30T14:36:40.841Z"
   },
   {
    "duration": 432,
    "start_time": "2021-11-30T14:36:40.855Z"
   },
   {
    "duration": 18,
    "start_time": "2021-11-30T14:36:41.289Z"
   },
   {
    "duration": 39,
    "start_time": "2021-11-30T14:36:41.309Z"
   },
   {
    "duration": 15,
    "start_time": "2021-11-30T14:36:41.351Z"
   },
   {
    "duration": 21,
    "start_time": "2021-11-30T14:36:41.369Z"
   },
   {
    "duration": 60,
    "start_time": "2021-11-30T14:36:41.392Z"
   },
   {
    "duration": 11,
    "start_time": "2021-11-30T14:36:41.455Z"
   },
   {
    "duration": 16,
    "start_time": "2021-11-30T14:36:41.469Z"
   },
   {
    "duration": 57,
    "start_time": "2021-11-30T14:36:41.488Z"
   },
   {
    "duration": 12,
    "start_time": "2021-11-30T14:36:41.548Z"
   },
   {
    "duration": 22,
    "start_time": "2021-11-30T14:36:41.562Z"
   },
   {
    "duration": 616,
    "start_time": "2021-11-30T14:36:41.628Z"
   },
   {
    "duration": 13,
    "start_time": "2021-11-30T14:36:42.246Z"
   },
   {
    "duration": 608,
    "start_time": "2021-11-30T14:36:42.262Z"
   },
   {
    "duration": 3155,
    "start_time": "2021-11-30T14:36:42.873Z"
   },
   {
    "duration": 14,
    "start_time": "2021-11-30T14:36:46.031Z"
   },
   {
    "duration": 7,
    "start_time": "2021-11-30T14:36:46.049Z"
   },
   {
    "duration": 1465,
    "start_time": "2021-11-30T14:36:46.059Z"
   },
   {
    "duration": 379,
    "start_time": "2021-11-30T14:36:47.530Z"
   },
   {
    "duration": 592,
    "start_time": "2021-11-30T14:37:38.490Z"
   },
   {
    "duration": 661,
    "start_time": "2021-11-30T14:37:48.835Z"
   },
   {
    "duration": 1520,
    "start_time": "2021-11-30T14:37:59.187Z"
   },
   {
    "duration": 67,
    "start_time": "2021-11-30T14:38:00.711Z"
   },
   {
    "duration": 57,
    "start_time": "2021-11-30T14:38:00.782Z"
   },
   {
    "duration": 31,
    "start_time": "2021-11-30T14:38:00.842Z"
   },
   {
    "duration": 19,
    "start_time": "2021-11-30T14:38:00.876Z"
   },
   {
    "duration": 53,
    "start_time": "2021-11-30T14:38:00.897Z"
   },
   {
    "duration": 36,
    "start_time": "2021-11-30T14:38:00.952Z"
   },
   {
    "duration": 34,
    "start_time": "2021-11-30T14:38:00.992Z"
   },
   {
    "duration": 50,
    "start_time": "2021-11-30T14:38:01.030Z"
   },
   {
    "duration": 24,
    "start_time": "2021-11-30T14:38:01.083Z"
   },
   {
    "duration": 19,
    "start_time": "2021-11-30T14:38:01.110Z"
   },
   {
    "duration": 410,
    "start_time": "2021-11-30T14:38:01.131Z"
   },
   {
    "duration": 27,
    "start_time": "2021-11-30T14:38:01.545Z"
   },
   {
    "duration": 63,
    "start_time": "2021-11-30T14:38:01.576Z"
   },
   {
    "duration": 17,
    "start_time": "2021-11-30T14:38:01.642Z"
   },
   {
    "duration": 24,
    "start_time": "2021-11-30T14:38:01.662Z"
   },
   {
    "duration": 61,
    "start_time": "2021-11-30T14:38:01.688Z"
   },
   {
    "duration": 10,
    "start_time": "2021-11-30T14:38:01.751Z"
   },
   {
    "duration": 16,
    "start_time": "2021-11-30T14:38:01.763Z"
   },
   {
    "duration": 50,
    "start_time": "2021-11-30T14:38:01.781Z"
   },
   {
    "duration": 12,
    "start_time": "2021-11-30T14:38:01.834Z"
   },
   {
    "duration": 33,
    "start_time": "2021-11-30T14:38:01.849Z"
   },
   {
    "duration": 630,
    "start_time": "2021-11-30T14:38:01.886Z"
   },
   {
    "duration": 13,
    "start_time": "2021-11-30T14:38:02.519Z"
   },
   {
    "duration": 536,
    "start_time": "2021-11-30T14:38:02.535Z"
   },
   {
    "duration": 2262,
    "start_time": "2021-11-30T14:38:03.074Z"
   },
   {
    "duration": 12,
    "start_time": "2021-11-30T14:38:05.338Z"
   },
   {
    "duration": 4,
    "start_time": "2021-11-30T14:38:05.352Z"
   },
   {
    "duration": 934,
    "start_time": "2021-11-30T14:38:05.358Z"
   },
   {
    "duration": 606,
    "start_time": "2021-11-30T14:38:06.295Z"
   },
   {
    "duration": 708,
    "start_time": "2021-11-30T14:51:32.052Z"
   },
   {
    "duration": 277,
    "start_time": "2021-11-30T14:51:41.502Z"
   },
   {
    "duration": 3296,
    "start_time": "2021-11-30T14:52:03.077Z"
   },
   {
    "duration": 2764,
    "start_time": "2021-11-30T14:52:16.493Z"
   },
   {
    "duration": 2800,
    "start_time": "2021-11-30T14:52:29.993Z"
   },
   {
    "duration": 2836,
    "start_time": "2021-11-30T14:52:56.028Z"
   },
   {
    "duration": 312,
    "start_time": "2021-11-30T14:53:20.884Z"
   },
   {
    "duration": 314,
    "start_time": "2021-11-30T14:53:35.860Z"
   },
   {
    "duration": 290,
    "start_time": "2021-11-30T14:53:42.970Z"
   },
   {
    "duration": 585,
    "start_time": "2021-11-30T14:53:50.742Z"
   },
   {
    "duration": 9,
    "start_time": "2021-11-30T14:55:07.625Z"
   },
   {
    "duration": 664,
    "start_time": "2021-11-30T14:56:00.427Z"
   },
   {
    "duration": 824,
    "start_time": "2021-11-30T14:56:12.163Z"
   },
   {
    "duration": 754,
    "start_time": "2021-11-30T14:58:23.839Z"
   },
   {
    "duration": 939,
    "start_time": "2021-11-30T14:58:33.714Z"
   },
   {
    "duration": 672,
    "start_time": "2021-11-30T14:58:43.111Z"
   },
   {
    "duration": 930,
    "start_time": "2021-11-30T15:00:23.573Z"
   },
   {
    "duration": 708,
    "start_time": "2021-11-30T15:00:29.965Z"
   },
   {
    "duration": 952,
    "start_time": "2021-11-30T15:00:49.656Z"
   },
   {
    "duration": 152,
    "start_time": "2021-11-30T15:05:05.245Z"
   },
   {
    "duration": 147,
    "start_time": "2021-11-30T15:05:25.614Z"
   },
   {
    "duration": 100,
    "start_time": "2021-11-30T15:05:41.240Z"
   },
   {
    "duration": 97,
    "start_time": "2021-11-30T15:05:46.656Z"
   },
   {
    "duration": 99,
    "start_time": "2021-11-30T15:05:51.872Z"
   },
   {
    "duration": 194,
    "start_time": "2021-11-30T15:06:35.680Z"
   },
   {
    "duration": 489,
    "start_time": "2021-11-30T15:08:03.625Z"
   },
   {
    "duration": 317,
    "start_time": "2021-11-30T15:14:55.001Z"
   },
   {
    "duration": 346,
    "start_time": "2021-11-30T15:15:03.176Z"
   },
   {
    "duration": 322,
    "start_time": "2021-11-30T15:15:12.186Z"
   },
   {
    "duration": 11,
    "start_time": "2021-11-30T15:24:37.226Z"
   },
   {
    "duration": 101,
    "start_time": "2021-11-30T15:25:09.745Z"
   },
   {
    "duration": 10,
    "start_time": "2021-11-30T15:25:21.137Z"
   },
   {
    "duration": 13,
    "start_time": "2021-11-30T15:25:49.903Z"
   },
   {
    "duration": 10,
    "start_time": "2021-11-30T15:26:20.303Z"
   },
   {
    "duration": 17,
    "start_time": "2021-11-30T15:27:35.080Z"
   },
   {
    "duration": 318,
    "start_time": "2021-11-30T15:27:59.341Z"
   },
   {
    "duration": 12,
    "start_time": "2021-11-30T15:28:15.271Z"
   },
   {
    "duration": 442,
    "start_time": "2021-11-30T15:29:50.500Z"
   },
   {
    "duration": 431,
    "start_time": "2021-11-30T15:29:56.421Z"
   },
   {
    "duration": 408,
    "start_time": "2021-11-30T15:30:05.740Z"
   },
   {
    "duration": 427,
    "start_time": "2021-11-30T15:30:42.247Z"
   },
   {
    "duration": 630,
    "start_time": "2021-11-30T15:31:44.970Z"
   },
   {
    "duration": 501,
    "start_time": "2021-11-30T15:31:56.259Z"
   },
   {
    "duration": 1534,
    "start_time": "2021-11-30T15:40:23.371Z"
   },
   {
    "duration": 53,
    "start_time": "2021-11-30T15:40:24.909Z"
   },
   {
    "duration": 23,
    "start_time": "2021-11-30T15:40:24.965Z"
   },
   {
    "duration": 45,
    "start_time": "2021-11-30T15:40:24.991Z"
   },
   {
    "duration": 16,
    "start_time": "2021-11-30T15:40:25.039Z"
   },
   {
    "duration": 11,
    "start_time": "2021-11-30T15:40:25.058Z"
   },
   {
    "duration": 21,
    "start_time": "2021-11-30T15:40:25.071Z"
   },
   {
    "duration": 43,
    "start_time": "2021-11-30T15:40:25.096Z"
   },
   {
    "duration": 23,
    "start_time": "2021-11-30T15:40:25.142Z"
   },
   {
    "duration": 23,
    "start_time": "2021-11-30T15:40:25.167Z"
   },
   {
    "duration": 46,
    "start_time": "2021-11-30T15:40:25.192Z"
   },
   {
    "duration": 423,
    "start_time": "2021-11-30T15:40:25.241Z"
   },
   {
    "duration": 17,
    "start_time": "2021-11-30T15:40:25.667Z"
   },
   {
    "duration": 43,
    "start_time": "2021-11-30T15:40:25.686Z"
   },
   {
    "duration": 14,
    "start_time": "2021-11-30T15:40:25.731Z"
   },
   {
    "duration": 22,
    "start_time": "2021-11-30T15:40:25.748Z"
   },
   {
    "duration": 66,
    "start_time": "2021-11-30T15:40:25.772Z"
   },
   {
    "duration": 11,
    "start_time": "2021-11-30T15:40:25.841Z"
   },
   {
    "duration": 13,
    "start_time": "2021-11-30T15:40:25.854Z"
   },
   {
    "duration": 22,
    "start_time": "2021-11-30T15:40:25.870Z"
   },
   {
    "duration": 45,
    "start_time": "2021-11-30T15:40:25.895Z"
   },
   {
    "duration": 25,
    "start_time": "2021-11-30T15:40:25.944Z"
   },
   {
    "duration": 668,
    "start_time": "2021-11-30T15:40:25.975Z"
   },
   {
    "duration": 11,
    "start_time": "2021-11-30T15:40:26.647Z"
   },
   {
    "duration": 551,
    "start_time": "2021-11-30T15:40:26.661Z"
   },
   {
    "duration": 2118,
    "start_time": "2021-11-30T15:40:27.215Z"
   },
   {
    "duration": 15,
    "start_time": "2021-11-30T15:40:29.335Z"
   },
   {
    "duration": 5,
    "start_time": "2021-11-30T15:40:29.352Z"
   },
   {
    "duration": 932,
    "start_time": "2021-11-30T15:40:29.360Z"
   },
   {
    "duration": 611,
    "start_time": "2021-11-30T15:40:30.294Z"
   },
   {
    "duration": 359,
    "start_time": "2021-11-30T15:40:30.907Z"
   },
   {
    "duration": 502,
    "start_time": "2021-11-30T15:40:31.269Z"
   },
   {
    "duration": 497,
    "start_time": "2021-11-30T15:40:31.773Z"
   },
   {
    "duration": 1069,
    "start_time": "2021-11-30T15:44:00.683Z"
   },
   {
    "duration": 960,
    "start_time": "2021-11-30T15:45:27.234Z"
   },
   {
    "duration": 471,
    "start_time": "2021-11-30T16:04:37.716Z"
   },
   {
    "duration": 495,
    "start_time": "2021-11-30T16:05:05.773Z"
   },
   {
    "duration": 557,
    "start_time": "2021-11-30T16:05:29.666Z"
   },
   {
    "duration": 912,
    "start_time": "2021-11-30T16:06:34.712Z"
   },
   {
    "duration": 1054,
    "start_time": "2021-11-30T16:07:21.041Z"
   },
   {
    "duration": 931,
    "start_time": "2021-11-30T16:07:45.915Z"
   },
   {
    "duration": 1603,
    "start_time": "2021-11-30T17:53:30.555Z"
   },
   {
    "duration": 50,
    "start_time": "2021-11-30T17:53:32.161Z"
   },
   {
    "duration": 33,
    "start_time": "2021-11-30T17:53:32.214Z"
   },
   {
    "duration": 55,
    "start_time": "2021-11-30T17:53:32.251Z"
   },
   {
    "duration": 25,
    "start_time": "2021-11-30T17:53:32.308Z"
   },
   {
    "duration": 15,
    "start_time": "2021-11-30T17:53:32.338Z"
   },
   {
    "duration": 22,
    "start_time": "2021-11-30T17:53:32.355Z"
   },
   {
    "duration": 29,
    "start_time": "2021-11-30T17:53:32.381Z"
   },
   {
    "duration": 70,
    "start_time": "2021-11-30T17:53:32.414Z"
   },
   {
    "duration": 25,
    "start_time": "2021-11-30T17:53:32.487Z"
   },
   {
    "duration": 29,
    "start_time": "2021-11-30T17:53:32.515Z"
   },
   {
    "duration": 465,
    "start_time": "2021-11-30T17:53:32.546Z"
   },
   {
    "duration": 28,
    "start_time": "2021-11-30T17:53:33.014Z"
   },
   {
    "duration": 27,
    "start_time": "2021-11-30T17:53:33.047Z"
   },
   {
    "duration": 14,
    "start_time": "2021-11-30T17:53:33.077Z"
   },
   {
    "duration": 67,
    "start_time": "2021-11-30T17:53:33.094Z"
   },
   {
    "duration": 31,
    "start_time": "2021-11-30T17:53:33.164Z"
   },
   {
    "duration": 13,
    "start_time": "2021-11-30T17:53:33.198Z"
   },
   {
    "duration": 25,
    "start_time": "2021-11-30T17:53:33.229Z"
   },
   {
    "duration": 22,
    "start_time": "2021-11-30T17:53:33.256Z"
   },
   {
    "duration": 49,
    "start_time": "2021-11-30T17:53:33.281Z"
   },
   {
    "duration": 23,
    "start_time": "2021-11-30T17:53:33.342Z"
   },
   {
    "duration": 637,
    "start_time": "2021-11-30T17:53:33.370Z"
   },
   {
    "duration": 9,
    "start_time": "2021-11-30T17:53:34.009Z"
   },
   {
    "duration": 627,
    "start_time": "2021-11-30T17:53:34.020Z"
   },
   {
    "duration": 2241,
    "start_time": "2021-11-30T17:53:34.649Z"
   },
   {
    "duration": 10,
    "start_time": "2021-11-30T17:53:36.892Z"
   },
   {
    "duration": 5,
    "start_time": "2021-11-30T17:53:36.904Z"
   },
   {
    "duration": 977,
    "start_time": "2021-11-30T17:53:36.911Z"
   },
   {
    "duration": 653,
    "start_time": "2021-11-30T17:53:37.890Z"
   },
   {
    "duration": 447,
    "start_time": "2021-11-30T17:53:38.547Z"
   },
   {
    "duration": 492,
    "start_time": "2021-11-30T17:53:38.996Z"
   },
   {
    "duration": 579,
    "start_time": "2021-11-30T17:53:39.491Z"
   },
   {
    "duration": 1136,
    "start_time": "2021-11-30T17:53:40.073Z"
   },
   {
    "duration": 991,
    "start_time": "2021-11-30T17:53:41.211Z"
   },
   {
    "duration": 27,
    "start_time": "2021-11-30T17:55:21.632Z"
   },
   {
    "duration": 513,
    "start_time": "2021-11-30T17:56:25.236Z"
   },
   {
    "duration": 322,
    "start_time": "2021-11-30T17:56:30.725Z"
   },
   {
    "duration": 1444,
    "start_time": "2021-11-30T17:57:22.667Z"
   },
   {
    "duration": 53,
    "start_time": "2021-11-30T17:57:24.114Z"
   },
   {
    "duration": 23,
    "start_time": "2021-11-30T17:57:24.170Z"
   },
   {
    "duration": 33,
    "start_time": "2021-11-30T17:57:24.196Z"
   },
   {
    "duration": 16,
    "start_time": "2021-11-30T17:57:24.236Z"
   },
   {
    "duration": 6,
    "start_time": "2021-11-30T17:57:24.254Z"
   },
   {
    "duration": 24,
    "start_time": "2021-11-30T17:57:24.262Z"
   },
   {
    "duration": 50,
    "start_time": "2021-11-30T17:57:24.291Z"
   },
   {
    "duration": 21,
    "start_time": "2021-11-30T17:57:24.344Z"
   },
   {
    "duration": 22,
    "start_time": "2021-11-30T17:57:24.367Z"
   },
   {
    "duration": 46,
    "start_time": "2021-11-30T17:57:24.392Z"
   },
   {
    "duration": 416,
    "start_time": "2021-11-30T17:57:24.441Z"
   },
   {
    "duration": 19,
    "start_time": "2021-11-30T17:57:24.861Z"
   },
   {
    "duration": 59,
    "start_time": "2021-11-30T17:57:24.883Z"
   },
   {
    "duration": 11,
    "start_time": "2021-11-30T17:57:24.945Z"
   },
   {
    "duration": 26,
    "start_time": "2021-11-30T17:57:24.958Z"
   },
   {
    "duration": 51,
    "start_time": "2021-11-30T17:57:24.986Z"
   },
   {
    "duration": 12,
    "start_time": "2021-11-30T17:57:25.039Z"
   },
   {
    "duration": 25,
    "start_time": "2021-11-30T17:57:25.053Z"
   },
   {
    "duration": 30,
    "start_time": "2021-11-30T17:57:25.080Z"
   },
   {
    "duration": 38,
    "start_time": "2021-11-30T17:57:25.112Z"
   },
   {
    "duration": 21,
    "start_time": "2021-11-30T17:57:25.153Z"
   },
   {
    "duration": 632,
    "start_time": "2021-11-30T17:57:25.178Z"
   },
   {
    "duration": 23,
    "start_time": "2021-11-30T17:57:25.813Z"
   },
   {
    "duration": 530,
    "start_time": "2021-11-30T17:57:25.839Z"
   },
   {
    "duration": 2205,
    "start_time": "2021-11-30T17:57:26.372Z"
   },
   {
    "duration": 10,
    "start_time": "2021-11-30T17:57:28.580Z"
   },
   {
    "duration": 6,
    "start_time": "2021-11-30T17:57:28.592Z"
   },
   {
    "duration": 1245,
    "start_time": "2021-11-30T17:57:28.600Z"
   },
   {
    "duration": 614,
    "start_time": "2021-11-30T17:57:29.848Z"
   },
   {
    "duration": 372,
    "start_time": "2021-11-30T17:57:30.465Z"
   },
   {
    "duration": 489,
    "start_time": "2021-11-30T17:57:30.840Z"
   },
   {
    "duration": 489,
    "start_time": "2021-11-30T17:57:31.332Z"
   },
   {
    "duration": 1095,
    "start_time": "2021-11-30T17:57:31.828Z"
   },
   {
    "duration": 974,
    "start_time": "2021-11-30T17:57:32.929Z"
   },
   {
    "duration": 552,
    "start_time": "2021-11-30T17:57:33.905Z"
   },
   {
    "duration": 294,
    "start_time": "2021-11-30T17:58:44.570Z"
   },
   {
    "duration": 26,
    "start_time": "2021-11-30T17:59:16.930Z"
   },
   {
    "duration": 17,
    "start_time": "2021-11-30T18:00:02.958Z"
   },
   {
    "duration": 24,
    "start_time": "2021-11-30T18:00:10.086Z"
   },
   {
    "duration": 439,
    "start_time": "2021-11-30T18:00:17.245Z"
   },
   {
    "duration": 446,
    "start_time": "2021-11-30T18:00:23.125Z"
   },
   {
    "duration": 367,
    "start_time": "2021-11-30T18:00:35.917Z"
   },
   {
    "duration": 382,
    "start_time": "2021-11-30T18:00:40.684Z"
   },
   {
    "duration": 414,
    "start_time": "2021-11-30T18:00:51.036Z"
   },
   {
    "duration": 371,
    "start_time": "2021-11-30T18:00:57.347Z"
   },
   {
    "duration": 401,
    "start_time": "2021-11-30T18:01:02.140Z"
   },
   {
    "duration": 538,
    "start_time": "2021-11-30T18:01:08.195Z"
   },
   {
    "duration": 418,
    "start_time": "2021-11-30T18:02:04.547Z"
   },
   {
    "duration": 404,
    "start_time": "2021-11-30T18:02:11.067Z"
   },
   {
    "duration": 432,
    "start_time": "2021-11-30T18:05:04.721Z"
   },
   {
    "duration": 33,
    "start_time": "2021-11-30T18:05:15.065Z"
   },
   {
    "duration": 409,
    "start_time": "2021-11-30T18:05:19.408Z"
   },
   {
    "duration": 1483,
    "start_time": "2021-11-30T18:06:43.063Z"
   },
   {
    "duration": 49,
    "start_time": "2021-11-30T18:06:44.550Z"
   },
   {
    "duration": 35,
    "start_time": "2021-11-30T18:06:44.603Z"
   },
   {
    "duration": 22,
    "start_time": "2021-11-30T18:06:44.642Z"
   },
   {
    "duration": 14,
    "start_time": "2021-11-30T18:06:44.666Z"
   },
   {
    "duration": 7,
    "start_time": "2021-11-30T18:06:44.683Z"
   },
   {
    "duration": 70,
    "start_time": "2021-11-30T18:06:44.693Z"
   },
   {
    "duration": 14,
    "start_time": "2021-11-30T18:06:44.767Z"
   },
   {
    "duration": 51,
    "start_time": "2021-11-30T18:06:44.784Z"
   },
   {
    "duration": 24,
    "start_time": "2021-11-30T18:06:44.840Z"
   },
   {
    "duration": 18,
    "start_time": "2021-11-30T18:06:44.867Z"
   },
   {
    "duration": 478,
    "start_time": "2021-11-30T18:06:44.889Z"
   },
   {
    "duration": 17,
    "start_time": "2021-11-30T18:06:45.370Z"
   },
   {
    "duration": 52,
    "start_time": "2021-11-30T18:06:45.389Z"
   },
   {
    "duration": 13,
    "start_time": "2021-11-30T18:06:45.443Z"
   },
   {
    "duration": 30,
    "start_time": "2021-11-30T18:06:45.461Z"
   },
   {
    "duration": 62,
    "start_time": "2021-11-30T18:06:45.493Z"
   },
   {
    "duration": 10,
    "start_time": "2021-11-30T18:06:45.557Z"
   },
   {
    "duration": 14,
    "start_time": "2021-11-30T18:06:45.569Z"
   },
   {
    "duration": 60,
    "start_time": "2021-11-30T18:06:45.586Z"
   },
   {
    "duration": 14,
    "start_time": "2021-11-30T18:06:45.649Z"
   },
   {
    "duration": 21,
    "start_time": "2021-11-30T18:06:45.666Z"
   },
   {
    "duration": 914,
    "start_time": "2021-11-30T18:06:45.696Z"
   },
   {
    "duration": 18,
    "start_time": "2021-11-30T18:06:46.612Z"
   },
   {
    "duration": 561,
    "start_time": "2021-11-30T18:06:46.632Z"
   },
   {
    "duration": 2159,
    "start_time": "2021-11-30T18:06:47.195Z"
   },
   {
    "duration": 10,
    "start_time": "2021-11-30T18:06:49.356Z"
   },
   {
    "duration": 7,
    "start_time": "2021-11-30T18:06:49.368Z"
   },
   {
    "duration": 927,
    "start_time": "2021-11-30T18:06:49.377Z"
   },
   {
    "duration": 618,
    "start_time": "2021-11-30T18:06:50.307Z"
   },
   {
    "duration": 357,
    "start_time": "2021-11-30T18:06:50.931Z"
   },
   {
    "duration": 509,
    "start_time": "2021-11-30T18:06:51.290Z"
   },
   {
    "duration": 608,
    "start_time": "2021-11-30T18:06:51.802Z"
   },
   {
    "duration": 1070,
    "start_time": "2021-11-30T18:06:52.413Z"
   },
   {
    "duration": 1114,
    "start_time": "2021-11-30T18:06:53.486Z"
   },
   {
    "duration": 48,
    "start_time": "2021-11-30T18:06:54.602Z"
   },
   {
    "duration": 428,
    "start_time": "2021-11-30T18:06:54.653Z"
   },
   {
    "duration": 781,
    "start_time": "2021-11-30T18:34:08.072Z"
   },
   {
    "duration": 29,
    "start_time": "2021-11-30T18:45:39.402Z"
   },
   {
    "duration": 457,
    "start_time": "2021-11-30T18:46:07.407Z"
   },
   {
    "duration": 25,
    "start_time": "2021-11-30T18:46:13.353Z"
   },
   {
    "duration": 97,
    "start_time": "2021-11-30T18:46:29.345Z"
   },
   {
    "duration": 25,
    "start_time": "2021-11-30T18:46:35.850Z"
   },
   {
    "duration": 105,
    "start_time": "2021-11-30T18:46:59.673Z"
   },
   {
    "duration": 27,
    "start_time": "2021-11-30T18:47:02.809Z"
   },
   {
    "duration": 27,
    "start_time": "2021-11-30T18:50:12.875Z"
   },
   {
    "duration": 1492,
    "start_time": "2021-11-30T18:50:20.109Z"
   },
   {
    "duration": 52,
    "start_time": "2021-11-30T18:50:21.604Z"
   },
   {
    "duration": 23,
    "start_time": "2021-11-30T18:50:21.658Z"
   },
   {
    "duration": 23,
    "start_time": "2021-11-30T18:50:21.684Z"
   },
   {
    "duration": 35,
    "start_time": "2021-11-30T18:50:21.709Z"
   },
   {
    "duration": 6,
    "start_time": "2021-11-30T18:50:21.746Z"
   },
   {
    "duration": 19,
    "start_time": "2021-11-30T18:50:21.755Z"
   },
   {
    "duration": 13,
    "start_time": "2021-11-30T18:50:21.778Z"
   },
   {
    "duration": 60,
    "start_time": "2021-11-30T18:50:21.794Z"
   },
   {
    "duration": 29,
    "start_time": "2021-11-30T18:50:21.856Z"
   },
   {
    "duration": 12,
    "start_time": "2021-11-30T18:50:21.887Z"
   },
   {
    "duration": 445,
    "start_time": "2021-11-30T18:50:21.901Z"
   },
   {
    "duration": 17,
    "start_time": "2021-11-30T18:50:22.348Z"
   },
   {
    "duration": 25,
    "start_time": "2021-11-30T18:50:22.367Z"
   },
   {
    "duration": 44,
    "start_time": "2021-11-30T18:50:22.394Z"
   },
   {
    "duration": 23,
    "start_time": "2021-11-30T18:50:22.441Z"
   },
   {
    "duration": 29,
    "start_time": "2021-11-30T18:50:22.467Z"
   },
   {
    "duration": 42,
    "start_time": "2021-11-30T18:50:22.499Z"
   },
   {
    "duration": 12,
    "start_time": "2021-11-30T18:50:22.544Z"
   },
   {
    "duration": 22,
    "start_time": "2021-11-30T18:50:22.559Z"
   },
   {
    "duration": 48,
    "start_time": "2021-11-30T18:50:22.583Z"
   },
   {
    "duration": 23,
    "start_time": "2021-11-30T18:50:22.637Z"
   },
   {
    "duration": 631,
    "start_time": "2021-11-30T18:50:22.665Z"
   },
   {
    "duration": 9,
    "start_time": "2021-11-30T18:50:23.299Z"
   },
   {
    "duration": 571,
    "start_time": "2021-11-30T18:50:23.310Z"
   },
   {
    "duration": 2107,
    "start_time": "2021-11-30T18:50:23.884Z"
   },
   {
    "duration": 10,
    "start_time": "2021-11-30T18:50:25.993Z"
   },
   {
    "duration": 24,
    "start_time": "2021-11-30T18:50:26.005Z"
   },
   {
    "duration": 920,
    "start_time": "2021-11-30T18:50:26.038Z"
   },
   {
    "duration": 594,
    "start_time": "2021-11-30T18:50:26.961Z"
   },
   {
    "duration": 348,
    "start_time": "2021-11-30T18:50:27.558Z"
   },
   {
    "duration": 478,
    "start_time": "2021-11-30T18:50:27.909Z"
   },
   {
    "duration": 512,
    "start_time": "2021-11-30T18:50:28.390Z"
   },
   {
    "duration": 1053,
    "start_time": "2021-11-30T18:50:28.904Z"
   },
   {
    "duration": 948,
    "start_time": "2021-11-30T18:50:29.959Z"
   },
   {
    "duration": 697,
    "start_time": "2021-11-30T18:50:30.909Z"
   },
   {
    "duration": 437,
    "start_time": "2021-11-30T18:50:31.610Z"
   },
   {
    "duration": 28,
    "start_time": "2021-11-30T18:50:32.050Z"
   },
   {
    "duration": 703,
    "start_time": "2021-11-30T19:02:29.969Z"
   },
   {
    "duration": 293,
    "start_time": "2021-11-30T19:02:47.640Z"
   },
   {
    "duration": 12,
    "start_time": "2021-11-30T19:03:09.738Z"
   },
   {
    "duration": 328,
    "start_time": "2021-11-30T19:11:19.245Z"
   },
   {
    "duration": 321,
    "start_time": "2021-11-30T19:11:46.093Z"
   },
   {
    "duration": 274,
    "start_time": "2021-11-30T19:13:14.658Z"
   },
   {
    "duration": 271,
    "start_time": "2021-11-30T19:14:45.816Z"
   },
   {
    "duration": 379,
    "start_time": "2021-11-30T19:15:18.672Z"
   },
   {
    "duration": 266,
    "start_time": "2021-11-30T19:15:31.053Z"
   },
   {
    "duration": 296,
    "start_time": "2021-11-30T19:15:52.896Z"
   },
   {
    "duration": 252,
    "start_time": "2021-11-30T19:17:35.362Z"
   },
   {
    "duration": 272,
    "start_time": "2021-11-30T19:19:10.789Z"
   },
   {
    "duration": 257,
    "start_time": "2021-11-30T19:19:22.261Z"
   },
   {
    "duration": 260,
    "start_time": "2021-11-30T19:20:52.525Z"
   },
   {
    "duration": 263,
    "start_time": "2021-11-30T19:21:51.954Z"
   },
   {
    "duration": 276,
    "start_time": "2021-11-30T19:22:16.769Z"
   },
   {
    "duration": 281,
    "start_time": "2021-11-30T19:22:17.049Z"
   },
   {
    "duration": 262,
    "start_time": "2021-11-30T19:22:17.338Z"
   },
   {
    "duration": 281,
    "start_time": "2021-11-30T19:30:11.905Z"
   },
   {
    "duration": 341,
    "start_time": "2021-11-30T19:30:19.496Z"
   },
   {
    "duration": 252,
    "start_time": "2021-11-30T19:30:28.299Z"
   },
   {
    "duration": 27,
    "start_time": "2021-11-30T20:24:15.418Z"
   },
   {
    "duration": 267,
    "start_time": "2021-11-30T20:34:32.020Z"
   },
   {
    "duration": 586,
    "start_time": "2021-11-30T20:35:04.310Z"
   },
   {
    "duration": 370,
    "start_time": "2021-11-30T20:35:22.331Z"
   },
   {
    "duration": 277,
    "start_time": "2021-11-30T20:35:41.394Z"
   },
   {
    "duration": 262,
    "start_time": "2021-11-30T20:36:05.405Z"
   },
   {
    "duration": 303,
    "start_time": "2021-11-30T20:36:10.843Z"
   },
   {
    "duration": 280,
    "start_time": "2021-11-30T20:36:21.413Z"
   },
   {
    "duration": 280,
    "start_time": "2021-11-30T20:36:30.013Z"
   },
   {
    "duration": 260,
    "start_time": "2021-11-30T20:36:36.068Z"
   },
   {
    "duration": 269,
    "start_time": "2021-11-30T20:38:04.906Z"
   },
   {
    "duration": 302,
    "start_time": "2021-11-30T20:39:47.426Z"
   },
   {
    "duration": 290,
    "start_time": "2021-11-30T20:40:06.857Z"
   },
   {
    "duration": 268,
    "start_time": "2021-11-30T20:40:13.950Z"
   },
   {
    "duration": 887,
    "start_time": "2021-11-30T20:40:27.065Z"
   },
   {
    "duration": 265,
    "start_time": "2021-11-30T20:40:41.728Z"
   },
   {
    "duration": 262,
    "start_time": "2021-11-30T20:41:08.789Z"
   },
   {
    "duration": 267,
    "start_time": "2021-11-30T20:41:30.549Z"
   },
   {
    "duration": 261,
    "start_time": "2021-11-30T20:41:39.207Z"
   },
   {
    "duration": 263,
    "start_time": "2021-11-30T20:41:44.870Z"
   },
   {
    "duration": 255,
    "start_time": "2021-11-30T20:41:53.984Z"
   },
   {
    "duration": 260,
    "start_time": "2021-11-30T20:41:57.593Z"
   },
   {
    "duration": 260,
    "start_time": "2021-11-30T20:42:02.470Z"
   },
   {
    "duration": 2070,
    "start_time": "2021-11-30T20:42:19.207Z"
   },
   {
    "duration": 500,
    "start_time": "2021-11-30T20:42:27.222Z"
   },
   {
    "duration": 516,
    "start_time": "2021-11-30T20:42:31.838Z"
   },
   {
    "duration": 592,
    "start_time": "2021-11-30T20:42:38.911Z"
   },
   {
    "duration": 261,
    "start_time": "2021-11-30T20:44:20.925Z"
   },
   {
    "duration": 292,
    "start_time": "2021-11-30T20:45:08.330Z"
   },
   {
    "duration": 243,
    "start_time": "2021-11-30T20:45:43.689Z"
   },
   {
    "duration": 260,
    "start_time": "2021-11-30T20:56:08.868Z"
   },
   {
    "duration": 19,
    "start_time": "2021-11-30T22:32:27.662Z"
   },
   {
    "duration": 6,
    "start_time": "2021-11-30T22:32:39.489Z"
   },
   {
    "duration": 24,
    "start_time": "2021-11-30T22:34:48.784Z"
   },
   {
    "duration": 269,
    "start_time": "2021-11-30T22:36:30.402Z"
   },
   {
    "duration": 382,
    "start_time": "2021-11-30T22:37:00.408Z"
   },
   {
    "duration": 277,
    "start_time": "2021-11-30T22:37:28.471Z"
   },
   {
    "duration": 265,
    "start_time": "2021-11-30T22:37:50.181Z"
   },
   {
    "duration": 277,
    "start_time": "2021-11-30T22:38:17.128Z"
   },
   {
    "duration": 282,
    "start_time": "2021-11-30T22:38:25.808Z"
   },
   {
    "duration": 263,
    "start_time": "2021-11-30T22:38:58.463Z"
   },
   {
    "duration": 38,
    "start_time": "2021-11-30T22:44:19.985Z"
   },
   {
    "duration": 18,
    "start_time": "2021-11-30T23:22:12.881Z"
   },
   {
    "duration": 17,
    "start_time": "2021-11-30T23:22:42.789Z"
   },
   {
    "duration": 433,
    "start_time": "2021-11-30T23:25:30.225Z"
   },
   {
    "duration": 4,
    "start_time": "2021-11-30T23:25:59.387Z"
   },
   {
    "duration": 292,
    "start_time": "2021-11-30T23:26:03.112Z"
   },
   {
    "duration": 1486,
    "start_time": "2021-11-30T23:26:20.512Z"
   },
   {
    "duration": 48,
    "start_time": "2021-11-30T23:26:22.000Z"
   },
   {
    "duration": 23,
    "start_time": "2021-11-30T23:26:22.054Z"
   },
   {
    "duration": 20,
    "start_time": "2021-11-30T23:26:22.080Z"
   },
   {
    "duration": 34,
    "start_time": "2021-11-30T23:26:22.103Z"
   },
   {
    "duration": 7,
    "start_time": "2021-11-30T23:26:22.139Z"
   },
   {
    "duration": 22,
    "start_time": "2021-11-30T23:26:22.150Z"
   },
   {
    "duration": 18,
    "start_time": "2021-11-30T23:26:22.175Z"
   },
   {
    "duration": 23,
    "start_time": "2021-11-30T23:26:22.229Z"
   },
   {
    "duration": 23,
    "start_time": "2021-11-30T23:26:22.255Z"
   },
   {
    "duration": 12,
    "start_time": "2021-11-30T23:26:22.280Z"
   },
   {
    "duration": 439,
    "start_time": "2021-11-30T23:26:22.295Z"
   },
   {
    "duration": 16,
    "start_time": "2021-11-30T23:26:22.737Z"
   },
   {
    "duration": 24,
    "start_time": "2021-11-30T23:26:22.756Z"
   },
   {
    "duration": 11,
    "start_time": "2021-11-30T23:26:22.782Z"
   },
   {
    "duration": 20,
    "start_time": "2021-11-30T23:26:22.830Z"
   },
   {
    "duration": 25,
    "start_time": "2021-11-30T23:26:22.853Z"
   },
   {
    "duration": 10,
    "start_time": "2021-11-30T23:26:22.880Z"
   },
   {
    "duration": 41,
    "start_time": "2021-11-30T23:26:22.892Z"
   },
   {
    "duration": 26,
    "start_time": "2021-11-30T23:26:22.936Z"
   },
   {
    "duration": 14,
    "start_time": "2021-11-30T23:26:22.965Z"
   },
   {
    "duration": 60,
    "start_time": "2021-11-30T23:26:22.987Z"
   },
   {
    "duration": 626,
    "start_time": "2021-11-30T23:26:23.051Z"
   },
   {
    "duration": 9,
    "start_time": "2021-11-30T23:26:23.679Z"
   },
   {
    "duration": 521,
    "start_time": "2021-11-30T23:26:23.691Z"
   },
   {
    "duration": 1986,
    "start_time": "2021-11-30T23:26:24.215Z"
   },
   {
    "duration": 12,
    "start_time": "2021-11-30T23:26:26.204Z"
   },
   {
    "duration": 4,
    "start_time": "2021-11-30T23:26:26.230Z"
   },
   {
    "duration": 885,
    "start_time": "2021-11-30T23:26:26.236Z"
   },
   {
    "duration": 576,
    "start_time": "2021-11-30T23:26:27.128Z"
   },
   {
    "duration": 331,
    "start_time": "2021-11-30T23:26:27.707Z"
   },
   {
    "duration": 454,
    "start_time": "2021-11-30T23:26:28.041Z"
   },
   {
    "duration": 503,
    "start_time": "2021-11-30T23:26:28.498Z"
   },
   {
    "duration": 1004,
    "start_time": "2021-11-30T23:26:29.004Z"
   },
   {
    "duration": 942,
    "start_time": "2021-11-30T23:26:30.010Z"
   },
   {
    "duration": 664,
    "start_time": "2021-11-30T23:26:30.955Z"
   },
   {
    "duration": 414,
    "start_time": "2021-11-30T23:26:31.630Z"
   },
   {
    "duration": 25,
    "start_time": "2021-11-30T23:26:32.047Z"
   },
   {
    "duration": 293,
    "start_time": "2021-11-30T23:26:32.074Z"
   },
   {
    "duration": 279,
    "start_time": "2021-11-30T23:26:32.370Z"
   },
   {
    "duration": 264,
    "start_time": "2021-11-30T23:26:32.652Z"
   },
   {
    "duration": 32,
    "start_time": "2021-11-30T23:26:32.919Z"
   },
   {
    "duration": 286,
    "start_time": "2021-11-30T23:26:32.954Z"
   },
   {
    "duration": 363,
    "start_time": "2021-11-30T23:26:33.243Z"
   },
   {
    "duration": 257,
    "start_time": "2021-11-30T23:26:33.608Z"
   },
   {
    "duration": 25,
    "start_time": "2021-11-30T23:26:33.867Z"
   },
   {
    "duration": 280,
    "start_time": "2021-11-30T23:26:33.895Z"
   },
   {
    "duration": 271,
    "start_time": "2021-11-30T23:26:34.178Z"
   },
   {
    "duration": 277,
    "start_time": "2021-11-30T23:26:34.452Z"
   },
   {
    "duration": 16,
    "start_time": "2021-11-30T23:26:34.731Z"
   },
   {
    "duration": 417,
    "start_time": "2021-11-30T23:26:34.750Z"
   },
   {
    "duration": 294,
    "start_time": "2021-11-30T23:26:56.653Z"
   },
   {
    "duration": 4,
    "start_time": "2021-11-30T23:28:41.297Z"
   },
   {
    "duration": 288,
    "start_time": "2021-11-30T23:28:44.443Z"
   },
   {
    "duration": 315,
    "start_time": "2021-11-30T23:29:03.687Z"
   },
   {
    "duration": 8,
    "start_time": "2021-11-30T23:29:12.426Z"
   },
   {
    "duration": 7,
    "start_time": "2021-11-30T23:29:29.674Z"
   },
   {
    "duration": 18,
    "start_time": "2021-11-30T23:45:56.599Z"
   },
   {
    "duration": 19,
    "start_time": "2021-11-30T23:46:10.278Z"
   },
   {
    "duration": 16,
    "start_time": "2021-11-30T23:46:35.615Z"
   },
   {
    "duration": 16,
    "start_time": "2021-11-30T23:46:38.197Z"
   },
   {
    "duration": 7,
    "start_time": "2021-11-30T23:48:15.556Z"
   },
   {
    "duration": 1433,
    "start_time": "2021-12-01T00:08:20.065Z"
   },
   {
    "duration": 53,
    "start_time": "2021-12-01T00:08:21.501Z"
   },
   {
    "duration": 22,
    "start_time": "2021-12-01T00:08:21.557Z"
   },
   {
    "duration": 21,
    "start_time": "2021-12-01T00:08:21.582Z"
   },
   {
    "duration": 35,
    "start_time": "2021-12-01T00:08:21.605Z"
   },
   {
    "duration": 19,
    "start_time": "2021-12-01T00:08:21.642Z"
   },
   {
    "duration": 26,
    "start_time": "2021-12-01T00:08:21.663Z"
   },
   {
    "duration": 25,
    "start_time": "2021-12-01T00:08:21.692Z"
   },
   {
    "duration": 28,
    "start_time": "2021-12-01T00:08:21.728Z"
   },
   {
    "duration": 22,
    "start_time": "2021-12-01T00:08:21.759Z"
   },
   {
    "duration": 16,
    "start_time": "2021-12-01T00:08:21.783Z"
   },
   {
    "duration": 420,
    "start_time": "2021-12-01T00:08:21.802Z"
   },
   {
    "duration": 17,
    "start_time": "2021-12-01T00:08:22.224Z"
   },
   {
    "duration": 27,
    "start_time": "2021-12-01T00:08:22.243Z"
   },
   {
    "duration": 11,
    "start_time": "2021-12-01T00:08:22.272Z"
   },
   {
    "duration": 56,
    "start_time": "2021-12-01T00:08:22.285Z"
   },
   {
    "duration": 25,
    "start_time": "2021-12-01T00:08:22.344Z"
   },
   {
    "duration": 11,
    "start_time": "2021-12-01T00:08:22.372Z"
   },
   {
    "duration": 47,
    "start_time": "2021-12-01T00:08:22.385Z"
   },
   {
    "duration": 24,
    "start_time": "2021-12-01T00:08:22.435Z"
   },
   {
    "duration": 13,
    "start_time": "2021-12-01T00:08:22.461Z"
   },
   {
    "duration": 54,
    "start_time": "2021-12-01T00:08:22.476Z"
   },
   {
    "duration": 696,
    "start_time": "2021-12-01T00:08:22.536Z"
   },
   {
    "duration": 10,
    "start_time": "2021-12-01T00:08:23.235Z"
   },
   {
    "duration": 541,
    "start_time": "2021-12-01T00:08:23.247Z"
   },
   {
    "duration": 1997,
    "start_time": "2021-12-01T00:08:23.791Z"
   },
   {
    "duration": 10,
    "start_time": "2021-12-01T00:08:25.790Z"
   },
   {
    "duration": 6,
    "start_time": "2021-12-01T00:08:25.803Z"
   },
   {
    "duration": 874,
    "start_time": "2021-12-01T00:08:25.828Z"
   },
   {
    "duration": 609,
    "start_time": "2021-12-01T00:08:26.705Z"
   },
   {
    "duration": 341,
    "start_time": "2021-12-01T00:08:27.316Z"
   },
   {
    "duration": 440,
    "start_time": "2021-12-01T00:08:27.659Z"
   },
   {
    "duration": 508,
    "start_time": "2021-12-01T00:08:28.101Z"
   },
   {
    "duration": 1063,
    "start_time": "2021-12-01T00:08:28.611Z"
   },
   {
    "duration": 1006,
    "start_time": "2021-12-01T00:08:29.676Z"
   },
   {
    "duration": 658,
    "start_time": "2021-12-01T00:08:30.684Z"
   },
   {
    "duration": 412,
    "start_time": "2021-12-01T00:08:31.345Z"
   },
   {
    "duration": 28,
    "start_time": "2021-12-01T00:08:31.759Z"
   },
   {
    "duration": 284,
    "start_time": "2021-12-01T00:08:31.789Z"
   },
   {
    "duration": 270,
    "start_time": "2021-12-01T00:08:32.076Z"
   },
   {
    "duration": 261,
    "start_time": "2021-12-01T00:08:32.348Z"
   },
   {
    "duration": 33,
    "start_time": "2021-12-01T00:08:32.611Z"
   },
   {
    "duration": 262,
    "start_time": "2021-12-01T00:08:32.647Z"
   },
   {
    "duration": 369,
    "start_time": "2021-12-01T00:08:32.912Z"
   },
   {
    "duration": 253,
    "start_time": "2021-12-01T00:08:33.284Z"
   },
   {
    "duration": 28,
    "start_time": "2021-12-01T00:08:33.540Z"
   },
   {
    "duration": 283,
    "start_time": "2021-12-01T00:08:33.570Z"
   },
   {
    "duration": 280,
    "start_time": "2021-12-01T00:08:33.856Z"
   },
   {
    "duration": 272,
    "start_time": "2021-12-01T00:08:34.138Z"
   },
   {
    "duration": 21,
    "start_time": "2021-12-01T00:08:34.412Z"
   },
   {
    "duration": 9,
    "start_time": "2021-12-01T00:08:34.436Z"
   },
   {
    "duration": 29,
    "start_time": "2021-12-01T00:08:34.447Z"
   },
   {
    "duration": 6,
    "start_time": "2021-12-01T00:08:34.478Z"
   },
   {
    "duration": 345,
    "start_time": "2021-12-01T08:17:11.027Z"
   },
   {
    "duration": 1474,
    "start_time": "2021-12-01T08:18:01.850Z"
   },
   {
    "duration": 47,
    "start_time": "2021-12-01T08:18:03.326Z"
   },
   {
    "duration": 23,
    "start_time": "2021-12-01T08:18:03.376Z"
   },
   {
    "duration": 23,
    "start_time": "2021-12-01T08:18:03.402Z"
   },
   {
    "duration": 39,
    "start_time": "2021-12-01T08:18:03.428Z"
   },
   {
    "duration": 6,
    "start_time": "2021-12-01T08:18:03.469Z"
   },
   {
    "duration": 19,
    "start_time": "2021-12-01T08:18:03.478Z"
   },
   {
    "duration": 17,
    "start_time": "2021-12-01T08:18:03.500Z"
   },
   {
    "duration": 58,
    "start_time": "2021-12-01T08:18:03.520Z"
   },
   {
    "duration": 23,
    "start_time": "2021-12-01T08:18:03.580Z"
   },
   {
    "duration": 12,
    "start_time": "2021-12-01T08:18:03.605Z"
   },
   {
    "duration": 412,
    "start_time": "2021-12-01T08:18:03.619Z"
   },
   {
    "duration": 29,
    "start_time": "2021-12-01T08:18:04.033Z"
   },
   {
    "duration": 25,
    "start_time": "2021-12-01T08:18:04.064Z"
   },
   {
    "duration": 11,
    "start_time": "2021-12-01T08:18:04.092Z"
   },
   {
    "duration": 56,
    "start_time": "2021-12-01T08:18:04.105Z"
   },
   {
    "duration": 27,
    "start_time": "2021-12-01T08:18:04.163Z"
   },
   {
    "duration": 9,
    "start_time": "2021-12-01T08:18:04.192Z"
   },
   {
    "duration": 14,
    "start_time": "2021-12-01T08:18:04.204Z"
   },
   {
    "duration": 50,
    "start_time": "2021-12-01T08:18:04.220Z"
   },
   {
    "duration": 12,
    "start_time": "2021-12-01T08:18:04.273Z"
   },
   {
    "duration": 22,
    "start_time": "2021-12-01T08:18:04.288Z"
   },
   {
    "duration": 626,
    "start_time": "2021-12-01T08:18:04.317Z"
   },
   {
    "duration": 17,
    "start_time": "2021-12-01T08:18:04.946Z"
   },
   {
    "duration": 521,
    "start_time": "2021-12-01T08:18:04.965Z"
   },
   {
    "duration": 1947,
    "start_time": "2021-12-01T08:18:05.489Z"
   },
   {
    "duration": 20,
    "start_time": "2021-12-01T08:18:07.439Z"
   },
   {
    "duration": 4,
    "start_time": "2021-12-01T08:18:07.461Z"
   },
   {
    "duration": 867,
    "start_time": "2021-12-01T08:18:07.468Z"
   },
   {
    "duration": 570,
    "start_time": "2021-12-01T08:18:08.338Z"
   },
   {
    "duration": 340,
    "start_time": "2021-12-01T08:18:08.911Z"
   },
   {
    "duration": 466,
    "start_time": "2021-12-01T08:18:09.253Z"
   },
   {
    "duration": 493,
    "start_time": "2021-12-01T08:18:09.722Z"
   },
   {
    "duration": 1012,
    "start_time": "2021-12-01T08:18:10.217Z"
   },
   {
    "duration": 902,
    "start_time": "2021-12-01T08:18:11.232Z"
   },
   {
    "duration": 397692,
    "start_time": "2021-12-01T08:18:12.136Z"
   },
   {
    "duration": 417,
    "start_time": "2021-12-01T08:24:49.831Z"
   },
   {
    "duration": 27,
    "start_time": "2021-12-01T08:24:50.251Z"
   },
   {
    "duration": 273,
    "start_time": "2021-12-01T08:24:50.281Z"
   },
   {
    "duration": 392,
    "start_time": "2021-12-01T08:24:50.559Z"
   },
   {
    "duration": 262,
    "start_time": "2021-12-01T08:24:50.954Z"
   },
   {
    "duration": 48,
    "start_time": "2021-12-01T08:24:51.218Z"
   },
   {
    "duration": 391,
    "start_time": "2021-12-01T08:24:51.268Z"
   },
   {
    "duration": 412,
    "start_time": "2021-12-01T08:24:51.662Z"
   },
   {
    "duration": 241,
    "start_time": "2021-12-01T08:24:52.076Z"
   },
   {
    "duration": 24,
    "start_time": "2021-12-01T08:24:52.320Z"
   },
   {
    "duration": 261,
    "start_time": "2021-12-01T08:24:52.347Z"
   },
   {
    "duration": 292,
    "start_time": "2021-12-01T08:24:52.610Z"
   },
   {
    "duration": 274,
    "start_time": "2021-12-01T08:24:52.904Z"
   },
   {
    "duration": 16,
    "start_time": "2021-12-01T08:24:53.180Z"
   },
   {
    "duration": 26,
    "start_time": "2021-12-01T08:24:53.198Z"
   },
   {
    "duration": 32,
    "start_time": "2021-12-01T08:24:53.226Z"
   },
   {
    "duration": 10,
    "start_time": "2021-12-01T08:24:53.260Z"
   },
   {
    "duration": 326,
    "start_time": "2021-12-04T13:13:43.922Z"
   },
   {
    "duration": 1235,
    "start_time": "2021-12-04T13:13:48.549Z"
   },
   {
    "duration": 40,
    "start_time": "2021-12-04T13:13:49.786Z"
   },
   {
    "duration": 19,
    "start_time": "2021-12-04T13:13:49.829Z"
   },
   {
    "duration": 16,
    "start_time": "2021-12-04T13:13:49.853Z"
   },
   {
    "duration": 11,
    "start_time": "2021-12-04T13:13:49.872Z"
   },
   {
    "duration": 5,
    "start_time": "2021-12-04T13:13:49.885Z"
   },
   {
    "duration": 15,
    "start_time": "2021-12-04T13:13:49.892Z"
   },
   {
    "duration": 51,
    "start_time": "2021-12-04T13:13:49.910Z"
   },
   {
    "duration": 26,
    "start_time": "2021-12-04T13:13:49.964Z"
   },
   {
    "duration": 19,
    "start_time": "2021-12-04T13:13:49.992Z"
   },
   {
    "duration": 11,
    "start_time": "2021-12-04T13:13:50.013Z"
   },
   {
    "duration": 270,
    "start_time": "2021-12-04T13:13:57.101Z"
   },
   {
    "duration": 413,
    "start_time": "2021-12-04T13:17:31.576Z"
   },
   {
    "duration": 1458,
    "start_time": "2021-12-04T13:30:09.669Z"
   },
   {
    "duration": 47,
    "start_time": "2021-12-04T13:30:11.130Z"
   },
   {
    "duration": 16,
    "start_time": "2021-12-04T13:30:11.180Z"
   },
   {
    "duration": 14,
    "start_time": "2021-12-04T13:30:11.198Z"
   },
   {
    "duration": 11,
    "start_time": "2021-12-04T13:30:11.214Z"
   },
   {
    "duration": 6,
    "start_time": "2021-12-04T13:30:11.247Z"
   },
   {
    "duration": 12,
    "start_time": "2021-12-04T13:30:11.261Z"
   },
   {
    "duration": 10,
    "start_time": "2021-12-04T13:30:11.276Z"
   },
   {
    "duration": 16,
    "start_time": "2021-12-04T13:30:11.289Z"
   },
   {
    "duration": 47,
    "start_time": "2021-12-04T13:30:11.307Z"
   },
   {
    "duration": 10,
    "start_time": "2021-12-04T13:30:11.356Z"
   },
   {
    "duration": 270,
    "start_time": "2021-12-04T13:30:11.368Z"
   },
   {
    "duration": 26,
    "start_time": "2021-12-04T13:30:11.640Z"
   },
   {
    "duration": 27,
    "start_time": "2021-12-04T13:30:11.668Z"
   },
   {
    "duration": 12,
    "start_time": "2021-12-04T13:30:11.698Z"
   },
   {
    "duration": 50,
    "start_time": "2021-12-04T13:30:11.713Z"
   },
   {
    "duration": 21,
    "start_time": "2021-12-04T13:30:11.765Z"
   },
   {
    "duration": 10,
    "start_time": "2021-12-04T13:30:11.788Z"
   },
   {
    "duration": 12,
    "start_time": "2021-12-04T13:30:11.799Z"
   },
   {
    "duration": 22,
    "start_time": "2021-12-04T13:30:11.849Z"
   },
   {
    "duration": 10,
    "start_time": "2021-12-04T13:30:11.873Z"
   },
   {
    "duration": 16,
    "start_time": "2021-12-04T13:30:11.885Z"
   },
   {
    "duration": 416,
    "start_time": "2021-12-04T13:30:11.905Z"
   },
   {
    "duration": 22,
    "start_time": "2021-12-04T13:30:12.324Z"
   },
   {
    "duration": 411,
    "start_time": "2021-12-04T13:30:12.348Z"
   },
   {
    "duration": 1497,
    "start_time": "2021-12-04T13:30:12.762Z"
   },
   {
    "duration": 10,
    "start_time": "2021-12-04T13:30:14.261Z"
   },
   {
    "duration": 3,
    "start_time": "2021-12-04T13:30:14.273Z"
   },
   {
    "duration": 767,
    "start_time": "2021-12-04T13:30:14.278Z"
   },
   {
    "duration": 613,
    "start_time": "2021-12-04T13:30:15.050Z"
   },
   {
    "duration": 300,
    "start_time": "2021-12-04T13:30:15.665Z"
   },
   {
    "duration": 626,
    "start_time": "2021-12-04T13:30:15.968Z"
   },
   {
    "duration": 389,
    "start_time": "2021-12-04T13:30:16.644Z"
   },
   {
    "duration": 971,
    "start_time": "2021-12-04T13:30:17.035Z"
   },
   {
    "duration": 762,
    "start_time": "2021-12-04T13:30:18.008Z"
   },
   {
    "duration": 1135,
    "start_time": "2021-12-04T13:30:18.773Z"
   },
   {
    "duration": 298,
    "start_time": "2021-12-04T13:30:19.910Z"
   },
   {
    "duration": 36,
    "start_time": "2021-12-04T13:30:20.211Z"
   },
   {
    "duration": 219,
    "start_time": "2021-12-04T13:30:20.249Z"
   },
   {
    "duration": 186,
    "start_time": "2021-12-04T13:30:20.470Z"
   },
   {
    "duration": 198,
    "start_time": "2021-12-04T13:30:20.658Z"
   },
   {
    "duration": 18,
    "start_time": "2021-12-04T13:30:20.858Z"
   },
   {
    "duration": 321,
    "start_time": "2021-12-04T13:30:20.878Z"
   },
   {
    "duration": 183,
    "start_time": "2021-12-04T13:30:21.201Z"
   },
   {
    "duration": 247,
    "start_time": "2021-12-04T13:30:21.387Z"
   },
   {
    "duration": 29,
    "start_time": "2021-12-04T13:30:21.637Z"
   },
   {
    "duration": 196,
    "start_time": "2021-12-04T13:30:21.668Z"
   },
   {
    "duration": 267,
    "start_time": "2021-12-04T13:30:21.866Z"
   },
   {
    "duration": 202,
    "start_time": "2021-12-04T13:30:22.136Z"
   },
   {
    "duration": 24,
    "start_time": "2021-12-04T13:30:22.340Z"
   },
   {
    "duration": 8,
    "start_time": "2021-12-04T13:30:22.366Z"
   },
   {
    "duration": 13,
    "start_time": "2021-12-04T13:30:22.376Z"
   },
   {
    "duration": 5,
    "start_time": "2021-12-04T13:30:22.391Z"
   },
   {
    "duration": 759,
    "start_time": "2021-12-04T13:30:26.124Z"
   },
   {
    "duration": 264,
    "start_time": "2021-12-04T13:30:47.430Z"
   },
   {
    "duration": 1206,
    "start_time": "2021-12-04T13:32:28.119Z"
   },
   {
    "duration": 38,
    "start_time": "2021-12-04T13:32:29.327Z"
   },
   {
    "duration": 24,
    "start_time": "2021-12-04T13:32:29.368Z"
   },
   {
    "duration": 13,
    "start_time": "2021-12-04T13:32:29.394Z"
   },
   {
    "duration": 12,
    "start_time": "2021-12-04T13:32:29.409Z"
   },
   {
    "duration": 25,
    "start_time": "2021-12-04T13:32:29.422Z"
   },
   {
    "duration": 20,
    "start_time": "2021-12-04T13:32:29.456Z"
   },
   {
    "duration": 10,
    "start_time": "2021-12-04T13:32:29.478Z"
   },
   {
    "duration": 15,
    "start_time": "2021-12-04T13:32:29.491Z"
   },
   {
    "duration": 44,
    "start_time": "2021-12-04T13:32:29.508Z"
   },
   {
    "duration": 11,
    "start_time": "2021-12-04T13:32:29.557Z"
   },
   {
    "duration": 270,
    "start_time": "2021-12-04T13:32:29.570Z"
   },
   {
    "duration": 2,
    "start_time": "2021-12-04T13:33:21.687Z"
   },
   {
    "duration": 39,
    "start_time": "2021-12-04T13:33:22.838Z"
   },
   {
    "duration": 12,
    "start_time": "2021-12-04T13:33:24.083Z"
   },
   {
    "duration": 16,
    "start_time": "2021-12-04T13:33:24.449Z"
   },
   {
    "duration": 14,
    "start_time": "2021-12-04T13:33:25.348Z"
   },
   {
    "duration": 5,
    "start_time": "2021-12-04T13:33:27.906Z"
   },
   {
    "duration": 17,
    "start_time": "2021-12-04T13:33:29.240Z"
   },
   {
    "duration": 9,
    "start_time": "2021-12-04T13:33:29.259Z"
   },
   {
    "duration": 20,
    "start_time": "2021-12-04T13:33:30.539Z"
   },
   {
    "duration": 16,
    "start_time": "2021-12-04T13:33:31.457Z"
   },
   {
    "duration": 11,
    "start_time": "2021-12-04T13:33:32.042Z"
   },
   {
    "duration": 236,
    "start_time": "2021-12-04T13:33:32.303Z"
   },
   {
    "duration": 230,
    "start_time": "2021-12-04T13:38:17.326Z"
   },
   {
    "duration": 494,
    "start_time": "2021-12-04T13:39:21.154Z"
   },
   {
    "duration": 22,
    "start_time": "2021-12-04T13:39:48.093Z"
   },
   {
    "duration": 9,
    "start_time": "2021-12-04T13:39:57.328Z"
   },
   {
    "duration": 15,
    "start_time": "2021-12-04T13:40:35.902Z"
   },
   {
    "duration": 819,
    "start_time": "2021-12-04T13:41:25.039Z"
   },
   {
    "duration": 404,
    "start_time": "2021-12-04T13:41:30.442Z"
   },
   {
    "duration": 377,
    "start_time": "2021-12-04T13:41:48.593Z"
   },
   {
    "duration": 357,
    "start_time": "2021-12-04T13:42:06.006Z"
   },
   {
    "duration": 13,
    "start_time": "2021-12-04T13:43:21.705Z"
   },
   {
    "duration": 3,
    "start_time": "2021-12-05T00:56:40.613Z"
   },
   {
    "duration": 35,
    "start_time": "2021-12-05T00:56:40.620Z"
   },
   {
    "duration": 11,
    "start_time": "2021-12-05T00:56:40.657Z"
   },
   {
    "duration": 13,
    "start_time": "2021-12-05T00:56:40.670Z"
   },
   {
    "duration": 10,
    "start_time": "2021-12-05T00:56:40.684Z"
   },
   {
    "duration": 10,
    "start_time": "2021-12-05T00:56:40.696Z"
   },
   {
    "duration": 15,
    "start_time": "2021-12-05T00:56:40.707Z"
   },
   {
    "duration": 24,
    "start_time": "2021-12-05T00:56:40.724Z"
   },
   {
    "duration": 13,
    "start_time": "2021-12-05T00:56:40.750Z"
   },
   {
    "duration": 14,
    "start_time": "2021-12-05T00:56:40.764Z"
   },
   {
    "duration": 7,
    "start_time": "2021-12-05T00:56:40.780Z"
   },
   {
    "duration": 345,
    "start_time": "2021-12-05T00:56:40.788Z"
   },
   {
    "duration": 90,
    "start_time": "2021-12-05T00:56:50.865Z"
   },
   {
    "duration": 102,
    "start_time": "2021-12-05T00:56:59.378Z"
   },
   {
    "duration": 89,
    "start_time": "2021-12-05T00:57:10.286Z"
   },
   {
    "duration": 86,
    "start_time": "2021-12-05T00:57:27.024Z"
   },
   {
    "duration": 464,
    "start_time": "2021-12-05T00:57:35.560Z"
   },
   {
    "duration": 131,
    "start_time": "2021-12-05T00:59:59.919Z"
   },
   {
    "duration": 191,
    "start_time": "2021-12-05T01:02:38.868Z"
   },
   {
    "duration": 24,
    "start_time": "2021-12-05T01:04:28.312Z"
   },
   {
    "duration": 9,
    "start_time": "2021-12-05T01:04:29.013Z"
   },
   {
    "duration": 14,
    "start_time": "2021-12-05T01:04:30.316Z"
   },
   {
    "duration": 18,
    "start_time": "2021-12-05T01:04:34.285Z"
   },
   {
    "duration": 8,
    "start_time": "2021-12-05T01:04:35.373Z"
   },
   {
    "duration": 9,
    "start_time": "2021-12-05T01:04:38.376Z"
   },
   {
    "duration": 2,
    "start_time": "2021-12-05T01:05:18.633Z"
   },
   {
    "duration": 10,
    "start_time": "2021-12-05T01:05:45.601Z"
   },
   {
    "duration": 16,
    "start_time": "2021-12-05T01:06:01.747Z"
   },
   {
    "duration": 3,
    "start_time": "2021-12-05T01:08:32.561Z"
   },
   {
    "duration": 14,
    "start_time": "2021-12-05T01:08:47.400Z"
   },
   {
    "duration": 14,
    "start_time": "2021-12-05T01:08:57.834Z"
   },
   {
    "duration": 14,
    "start_time": "2021-12-05T01:09:33.369Z"
   },
   {
    "duration": 1156,
    "start_time": "2021-12-05T01:09:52.940Z"
   },
   {
    "duration": 38,
    "start_time": "2021-12-05T01:09:54.098Z"
   },
   {
    "duration": 16,
    "start_time": "2021-12-05T01:09:54.138Z"
   },
   {
    "duration": 12,
    "start_time": "2021-12-05T01:09:54.156Z"
   },
   {
    "duration": 14,
    "start_time": "2021-12-05T01:09:54.169Z"
   },
   {
    "duration": 14,
    "start_time": "2021-12-05T01:09:54.184Z"
   },
   {
    "duration": 14,
    "start_time": "2021-12-05T01:09:54.200Z"
   },
   {
    "duration": 14,
    "start_time": "2021-12-05T01:09:54.217Z"
   },
   {
    "duration": 23,
    "start_time": "2021-12-05T01:09:54.233Z"
   },
   {
    "duration": 28,
    "start_time": "2021-12-05T01:09:54.257Z"
   },
   {
    "duration": 8,
    "start_time": "2021-12-05T01:09:54.287Z"
   },
   {
    "duration": 352,
    "start_time": "2021-12-05T01:09:54.296Z"
   },
   {
    "duration": 143,
    "start_time": "2021-12-05T01:09:54.649Z"
   },
   {
    "duration": 16,
    "start_time": "2021-12-05T01:09:54.794Z"
   },
   {
    "duration": 8,
    "start_time": "2021-12-05T01:09:54.812Z"
   },
   {
    "duration": 352,
    "start_time": "2021-12-05T01:09:54.821Z"
   },
   {
    "duration": 3019,
    "start_time": "2021-12-05T01:09:52.156Z"
   },
   {
    "duration": 3009,
    "start_time": "2021-12-05T01:09:52.167Z"
   },
   {
    "duration": 2997,
    "start_time": "2021-12-05T01:09:52.180Z"
   },
   {
    "duration": 2916,
    "start_time": "2021-12-05T01:09:52.262Z"
   },
   {
    "duration": 277,
    "start_time": "2021-12-05T01:09:58.241Z"
   },
   {
    "duration": 3,
    "start_time": "2021-12-05T01:10:11.659Z"
   },
   {
    "duration": 60,
    "start_time": "2021-12-05T01:10:11.667Z"
   },
   {
    "duration": 12,
    "start_time": "2021-12-05T01:10:11.729Z"
   },
   {
    "duration": 26,
    "start_time": "2021-12-05T01:10:11.743Z"
   },
   {
    "duration": 17,
    "start_time": "2021-12-05T01:10:11.771Z"
   },
   {
    "duration": 17,
    "start_time": "2021-12-05T01:10:11.790Z"
   },
   {
    "duration": 33,
    "start_time": "2021-12-05T01:10:11.809Z"
   },
   {
    "duration": 28,
    "start_time": "2021-12-05T01:10:11.844Z"
   },
   {
    "duration": 24,
    "start_time": "2021-12-05T01:10:11.875Z"
   },
   {
    "duration": 15,
    "start_time": "2021-12-05T01:10:11.901Z"
   },
   {
    "duration": 23,
    "start_time": "2021-12-05T01:10:11.918Z"
   },
   {
    "duration": 344,
    "start_time": "2021-12-05T01:10:11.943Z"
   },
   {
    "duration": 129,
    "start_time": "2021-12-05T01:10:12.288Z"
   },
   {
    "duration": 14,
    "start_time": "2021-12-05T01:10:12.419Z"
   },
   {
    "duration": 24,
    "start_time": "2021-12-05T01:10:12.445Z"
   },
   {
    "duration": 339,
    "start_time": "2021-12-05T01:10:12.470Z"
   },
   {
    "duration": 3092,
    "start_time": "2021-12-05T01:10:09.719Z"
   },
   {
    "duration": 3075,
    "start_time": "2021-12-05T01:10:09.737Z"
   },
   {
    "duration": 3063,
    "start_time": "2021-12-05T01:10:09.750Z"
   },
   {
    "duration": 269,
    "start_time": "2021-12-05T01:10:19.484Z"
   },
   {
    "duration": 14,
    "start_time": "2021-12-05T01:16:04.764Z"
   },
   {
    "duration": 14,
    "start_time": "2021-12-05T01:16:11.375Z"
   },
   {
    "duration": 17,
    "start_time": "2021-12-05T01:16:12.857Z"
   },
   {
    "duration": 7,
    "start_time": "2021-12-05T01:16:17.551Z"
   },
   {
    "duration": 9,
    "start_time": "2021-12-05T01:16:23.652Z"
   },
   {
    "duration": 13,
    "start_time": "2021-12-05T01:16:28.167Z"
   },
   {
    "duration": 9,
    "start_time": "2021-12-05T01:17:22.897Z"
   },
   {
    "duration": 14,
    "start_time": "2021-12-05T01:17:32.457Z"
   },
   {
    "duration": 369,
    "start_time": "2021-12-05T01:17:59.827Z"
   },
   {
    "duration": 7,
    "start_time": "2021-12-05T01:18:14.269Z"
   },
   {
    "duration": 291,
    "start_time": "2021-12-05T01:18:27.005Z"
   },
   {
    "duration": 1150,
    "start_time": "2021-12-05T01:18:28.434Z"
   },
   {
    "duration": 6,
    "start_time": "2021-12-05T01:22:25.834Z"
   },
   {
    "duration": 4,
    "start_time": "2021-12-05T01:22:29.453Z"
   },
   {
    "duration": 514,
    "start_time": "2021-12-05T01:22:31.293Z"
   },
   {
    "duration": 320,
    "start_time": "2021-12-05T01:22:40.686Z"
   },
   {
    "duration": 189,
    "start_time": "2021-12-05T01:22:43.063Z"
   },
   {
    "duration": 286,
    "start_time": "2021-12-05T01:26:46.667Z"
   },
   {
    "duration": 399,
    "start_time": "2021-12-05T01:26:47.205Z"
   },
   {
    "duration": 646,
    "start_time": "2021-12-05T01:27:07.915Z"
   },
   {
    "duration": 627,
    "start_time": "2021-12-05T01:27:13.730Z"
   },
   {
    "duration": 671,
    "start_time": "2021-12-05T01:29:41.228Z"
   },
   {
    "duration": 239,
    "start_time": "2021-12-05T01:29:42.847Z"
   },
   {
    "duration": 16,
    "start_time": "2021-12-05T01:30:18.142Z"
   },
   {
    "duration": 153,
    "start_time": "2021-12-05T01:30:19.592Z"
   },
   {
    "duration": 150,
    "start_time": "2021-12-05T01:30:20.828Z"
   },
   {
    "duration": 249,
    "start_time": "2021-12-05T01:30:21.800Z"
   },
   {
    "duration": 17,
    "start_time": "2021-12-05T01:30:23.868Z"
   },
   {
    "duration": 152,
    "start_time": "2021-12-05T01:30:25.246Z"
   },
   {
    "duration": 154,
    "start_time": "2021-12-05T01:30:26.333Z"
   },
   {
    "duration": 148,
    "start_time": "2021-12-05T01:30:27.331Z"
   },
   {
    "duration": 16,
    "start_time": "2021-12-05T01:40:43.625Z"
   },
   {
    "duration": 169,
    "start_time": "2021-12-05T01:40:44.889Z"
   },
   {
    "duration": 179,
    "start_time": "2021-12-05T01:40:47.638Z"
   },
   {
    "duration": 173,
    "start_time": "2021-12-05T01:40:48.885Z"
   },
   {
    "duration": 6,
    "start_time": "2021-12-05T02:03:54.718Z"
   },
   {
    "duration": 17,
    "start_time": "2021-12-05T02:03:55.923Z"
   },
   {
    "duration": 1177,
    "start_time": "2021-12-05T02:08:04.525Z"
   },
   {
    "duration": 41,
    "start_time": "2021-12-05T02:08:05.704Z"
   },
   {
    "duration": 18,
    "start_time": "2021-12-05T02:08:05.747Z"
   },
   {
    "duration": 21,
    "start_time": "2021-12-05T02:08:05.767Z"
   },
   {
    "duration": 44,
    "start_time": "2021-12-05T02:08:05.790Z"
   },
   {
    "duration": 24,
    "start_time": "2021-12-05T02:08:05.836Z"
   },
   {
    "duration": 29,
    "start_time": "2021-12-05T02:08:05.862Z"
   },
   {
    "duration": 37,
    "start_time": "2021-12-05T02:08:05.894Z"
   },
   {
    "duration": 49,
    "start_time": "2021-12-05T02:08:05.933Z"
   },
   {
    "duration": 16,
    "start_time": "2021-12-05T02:08:05.984Z"
   },
   {
    "duration": 54,
    "start_time": "2021-12-05T02:08:06.002Z"
   },
   {
    "duration": 397,
    "start_time": "2021-12-05T02:08:06.058Z"
   },
   {
    "duration": 146,
    "start_time": "2021-12-05T02:08:06.457Z"
   },
   {
    "duration": 15,
    "start_time": "2021-12-05T02:08:06.605Z"
   },
   {
    "duration": 9,
    "start_time": "2021-12-05T02:08:06.622Z"
   },
   {
    "duration": 28,
    "start_time": "2021-12-05T02:08:06.633Z"
   },
   {
    "duration": 17,
    "start_time": "2021-12-05T02:08:06.663Z"
   },
   {
    "duration": 21,
    "start_time": "2021-12-05T02:08:06.682Z"
   },
   {
    "duration": 21,
    "start_time": "2021-12-05T02:08:06.705Z"
   },
   {
    "duration": 38,
    "start_time": "2021-12-05T02:08:06.727Z"
   },
   {
    "duration": 13,
    "start_time": "2021-12-05T02:08:06.767Z"
   },
   {
    "duration": 26,
    "start_time": "2021-12-05T02:08:06.781Z"
   },
   {
    "duration": 371,
    "start_time": "2021-12-05T02:08:06.811Z"
   },
   {
    "duration": 7,
    "start_time": "2021-12-05T02:08:07.184Z"
   },
   {
    "duration": 330,
    "start_time": "2021-12-05T02:08:07.193Z"
   },
   {
    "duration": 1312,
    "start_time": "2021-12-05T02:08:07.525Z"
   },
   {
    "duration": 17,
    "start_time": "2021-12-05T02:08:08.839Z"
   },
   {
    "duration": 3,
    "start_time": "2021-12-05T02:08:08.858Z"
   },
   {
    "duration": 562,
    "start_time": "2021-12-05T02:08:08.863Z"
   },
   {
    "duration": 372,
    "start_time": "2021-12-05T02:08:09.427Z"
   },
   {
    "duration": 216,
    "start_time": "2021-12-05T02:08:09.801Z"
   },
   {
    "duration": 346,
    "start_time": "2021-12-05T02:08:10.019Z"
   },
   {
    "duration": 334,
    "start_time": "2021-12-05T02:08:10.367Z"
   },
   {
    "duration": 777,
    "start_time": "2021-12-05T02:08:10.703Z"
   },
   {
    "duration": 638,
    "start_time": "2021-12-05T02:08:11.482Z"
   },
   {
    "duration": 539,
    "start_time": "2021-12-05T02:08:12.121Z"
   },
   {
    "duration": 246,
    "start_time": "2021-12-05T02:08:12.663Z"
   },
   {
    "duration": 18,
    "start_time": "2021-12-05T02:08:12.910Z"
   },
   {
    "duration": 189,
    "start_time": "2021-12-05T02:08:12.930Z"
   },
   {
    "duration": 184,
    "start_time": "2021-12-05T02:08:13.121Z"
   },
   {
    "duration": 167,
    "start_time": "2021-12-05T02:08:13.307Z"
   },
   {
    "duration": 17,
    "start_time": "2021-12-05T02:08:13.475Z"
   },
   {
    "duration": 176,
    "start_time": "2021-12-05T02:08:13.494Z"
   },
   {
    "duration": 260,
    "start_time": "2021-12-05T02:08:13.671Z"
   },
   {
    "duration": 161,
    "start_time": "2021-12-05T02:08:13.933Z"
   },
   {
    "duration": 2,
    "start_time": "2021-12-05T02:08:14.095Z"
   },
   {
    "duration": 17,
    "start_time": "2021-12-05T02:08:14.099Z"
   },
   {
    "duration": 193,
    "start_time": "2021-12-05T02:08:14.118Z"
   },
   {
    "duration": 188,
    "start_time": "2021-12-05T02:08:14.313Z"
   },
   {
    "duration": 184,
    "start_time": "2021-12-05T02:08:14.504Z"
   },
   {
    "duration": 12,
    "start_time": "2021-12-05T02:08:14.690Z"
   },
   {
    "duration": 29,
    "start_time": "2021-12-05T02:08:14.703Z"
   },
   {
    "duration": 33,
    "start_time": "2021-12-05T02:08:14.733Z"
   },
   {
    "duration": 5,
    "start_time": "2021-12-05T02:08:14.768Z"
   },
   {
    "duration": 21,
    "start_time": "2021-12-05T02:09:04.518Z"
   },
   {
    "duration": 20,
    "start_time": "2021-12-05T02:09:25.220Z"
   },
   {
    "duration": 168,
    "start_time": "2021-12-05T02:09:30.218Z"
   },
   {
    "duration": 168,
    "start_time": "2021-12-05T02:09:31.522Z"
   },
   {
    "duration": 165,
    "start_time": "2021-12-05T02:09:32.522Z"
   },
   {
    "duration": 156,
    "start_time": "2021-12-05T02:09:56.890Z"
   },
   {
    "duration": 162,
    "start_time": "2021-12-05T02:10:17.515Z"
   },
   {
    "duration": 20,
    "start_time": "2021-12-05T02:10:27.081Z"
   },
   {
    "duration": 18,
    "start_time": "2021-12-05T02:10:32.897Z"
   },
   {
    "duration": 152,
    "start_time": "2021-12-05T02:10:37.195Z"
   },
   {
    "duration": 234,
    "start_time": "2021-12-05T02:10:48.274Z"
   },
   {
    "duration": 162,
    "start_time": "2021-12-05T02:10:53.039Z"
   },
   {
    "duration": 151,
    "start_time": "2021-12-05T02:10:58.424Z"
   },
   {
    "duration": 94,
    "start_time": "2021-12-05T02:11:14.569Z"
   },
   {
    "duration": 161,
    "start_time": "2021-12-05T02:11:19.833Z"
   },
   {
    "duration": 1185,
    "start_time": "2021-12-05T02:13:08.793Z"
   },
   {
    "duration": 41,
    "start_time": "2021-12-05T02:13:09.980Z"
   },
   {
    "duration": 16,
    "start_time": "2021-12-05T02:13:10.023Z"
   },
   {
    "duration": 21,
    "start_time": "2021-12-05T02:13:10.045Z"
   },
   {
    "duration": 10,
    "start_time": "2021-12-05T02:13:10.067Z"
   },
   {
    "duration": 4,
    "start_time": "2021-12-05T02:13:10.079Z"
   },
   {
    "duration": 14,
    "start_time": "2021-12-05T02:13:10.085Z"
   },
   {
    "duration": 9,
    "start_time": "2021-12-05T02:13:10.102Z"
   },
   {
    "duration": 55,
    "start_time": "2021-12-05T02:13:10.113Z"
   },
   {
    "duration": 16,
    "start_time": "2021-12-05T02:13:10.170Z"
   },
   {
    "duration": 8,
    "start_time": "2021-12-05T02:13:10.188Z"
   },
   {
    "duration": 380,
    "start_time": "2021-12-05T02:13:10.198Z"
   },
   {
    "duration": 138,
    "start_time": "2021-12-05T02:13:10.579Z"
   },
   {
    "duration": 17,
    "start_time": "2021-12-05T02:13:10.718Z"
   },
   {
    "duration": 19,
    "start_time": "2021-12-05T02:13:10.736Z"
   },
   {
    "duration": 14,
    "start_time": "2021-12-05T02:13:10.757Z"
   },
   {
    "duration": 16,
    "start_time": "2021-12-05T02:13:10.773Z"
   },
   {
    "duration": 7,
    "start_time": "2021-12-05T02:13:10.790Z"
   },
   {
    "duration": 10,
    "start_time": "2021-12-05T02:13:10.799Z"
   },
   {
    "duration": 53,
    "start_time": "2021-12-05T02:13:10.811Z"
   },
   {
    "duration": 9,
    "start_time": "2021-12-05T02:13:10.866Z"
   },
   {
    "duration": 15,
    "start_time": "2021-12-05T02:13:10.877Z"
   },
   {
    "duration": 389,
    "start_time": "2021-12-05T02:13:10.896Z"
   },
   {
    "duration": 7,
    "start_time": "2021-12-05T02:13:11.287Z"
   },
   {
    "duration": 315,
    "start_time": "2021-12-05T02:13:11.295Z"
   },
   {
    "duration": 1287,
    "start_time": "2021-12-05T02:13:11.612Z"
   },
   {
    "duration": 8,
    "start_time": "2021-12-05T02:13:12.901Z"
   },
   {
    "duration": 3,
    "start_time": "2021-12-05T02:13:12.911Z"
   },
   {
    "duration": 575,
    "start_time": "2021-12-05T02:13:12.916Z"
   },
   {
    "duration": 354,
    "start_time": "2021-12-05T02:13:13.493Z"
   },
   {
    "duration": 217,
    "start_time": "2021-12-05T02:13:13.849Z"
   },
   {
    "duration": 318,
    "start_time": "2021-12-05T02:13:14.068Z"
   },
   {
    "duration": 310,
    "start_time": "2021-12-05T02:13:14.387Z"
   },
   {
    "duration": 745,
    "start_time": "2021-12-05T02:13:14.699Z"
   },
   {
    "duration": 649,
    "start_time": "2021-12-05T02:13:15.446Z"
   },
   {
    "duration": 554,
    "start_time": "2021-12-05T02:13:16.097Z"
   },
   {
    "duration": 258,
    "start_time": "2021-12-05T02:13:16.654Z"
   },
   {
    "duration": 37,
    "start_time": "2021-12-05T02:13:16.915Z"
   },
   {
    "duration": 168,
    "start_time": "2021-12-05T02:13:16.954Z"
   },
   {
    "duration": 179,
    "start_time": "2021-12-05T02:13:17.124Z"
   },
   {
    "duration": 180,
    "start_time": "2021-12-05T02:13:17.305Z"
   },
   {
    "duration": 17,
    "start_time": "2021-12-05T02:13:17.488Z"
   },
   {
    "duration": 191,
    "start_time": "2021-12-05T02:13:17.506Z"
   },
   {
    "duration": 256,
    "start_time": "2021-12-05T02:13:17.699Z"
   },
   {
    "duration": 166,
    "start_time": "2021-12-05T02:13:17.958Z"
   },
   {
    "duration": 20,
    "start_time": "2021-12-05T02:13:18.126Z"
   },
   {
    "duration": 174,
    "start_time": "2021-12-05T02:13:18.148Z"
   },
   {
    "duration": 182,
    "start_time": "2021-12-05T02:13:18.324Z"
   },
   {
    "duration": 162,
    "start_time": "2021-12-05T02:13:18.508Z"
   },
   {
    "duration": 11,
    "start_time": "2021-12-05T02:13:18.672Z"
   },
   {
    "duration": 5,
    "start_time": "2021-12-05T02:13:18.685Z"
   },
   {
    "duration": 14,
    "start_time": "2021-12-05T02:13:18.692Z"
   },
   {
    "duration": 5,
    "start_time": "2021-12-05T02:13:18.707Z"
   },
   {
    "duration": 897,
    "start_time": "2021-12-05T16:50:42.509Z"
   },
   {
    "duration": 355,
    "start_time": "2021-12-05T16:50:56.321Z"
   },
   {
    "duration": 1241,
    "start_time": "2021-12-05T16:51:01.165Z"
   },
   {
    "duration": 37,
    "start_time": "2021-12-05T16:51:02.408Z"
   },
   {
    "duration": 13,
    "start_time": "2021-12-05T16:51:02.446Z"
   },
   {
    "duration": 12,
    "start_time": "2021-12-05T16:51:02.461Z"
   },
   {
    "duration": 14,
    "start_time": "2021-12-05T16:51:02.475Z"
   },
   {
    "duration": 6,
    "start_time": "2021-12-05T16:51:02.491Z"
   },
   {
    "duration": 18,
    "start_time": "2021-12-05T16:51:02.499Z"
   },
   {
    "duration": 10,
    "start_time": "2021-12-05T16:51:02.519Z"
   },
   {
    "duration": 13,
    "start_time": "2021-12-05T16:51:02.530Z"
   },
   {
    "duration": 13,
    "start_time": "2021-12-05T16:51:02.544Z"
   },
   {
    "duration": 34,
    "start_time": "2021-12-05T16:51:02.559Z"
   },
   {
    "duration": 325,
    "start_time": "2021-12-05T16:51:02.594Z"
   },
   {
    "duration": 125,
    "start_time": "2021-12-05T16:51:02.920Z"
   },
   {
    "duration": 13,
    "start_time": "2021-12-05T16:51:03.047Z"
   },
   {
    "duration": 7,
    "start_time": "2021-12-05T16:51:03.061Z"
   },
   {
    "duration": 22,
    "start_time": "2021-12-05T16:51:03.069Z"
   },
   {
    "duration": 13,
    "start_time": "2021-12-05T16:51:03.093Z"
   },
   {
    "duration": 6,
    "start_time": "2021-12-05T16:51:03.107Z"
   },
   {
    "duration": 10,
    "start_time": "2021-12-05T16:51:03.114Z"
   },
   {
    "duration": 13,
    "start_time": "2021-12-05T16:51:03.125Z"
   },
   {
    "duration": 7,
    "start_time": "2021-12-05T16:51:03.139Z"
   },
   {
    "duration": 8,
    "start_time": "2021-12-05T16:51:05.100Z"
   },
   {
    "duration": 8,
    "start_time": "2021-12-05T16:51:06.033Z"
   },
   {
    "duration": 6,
    "start_time": "2021-12-05T16:52:01.208Z"
   },
   {
    "duration": 285,
    "start_time": "2021-12-05T16:52:15.746Z"
   },
   {
    "duration": 9,
    "start_time": "2021-12-05T16:52:26.051Z"
   },
   {
    "duration": 234,
    "start_time": "2021-12-05T16:59:42.359Z"
   },
   {
    "duration": 3,
    "start_time": "2021-12-05T16:59:47.380Z"
   },
   {
    "duration": 35,
    "start_time": "2021-12-05T16:59:47.388Z"
   },
   {
    "duration": 10,
    "start_time": "2021-12-05T16:59:47.425Z"
   },
   {
    "duration": 13,
    "start_time": "2021-12-05T16:59:47.437Z"
   },
   {
    "duration": 10,
    "start_time": "2021-12-05T16:59:47.452Z"
   },
   {
    "duration": 4,
    "start_time": "2021-12-05T16:59:47.463Z"
   },
   {
    "duration": 23,
    "start_time": "2021-12-05T16:59:47.468Z"
   },
   {
    "duration": 10,
    "start_time": "2021-12-05T16:59:47.493Z"
   },
   {
    "duration": 12,
    "start_time": "2021-12-05T16:59:47.505Z"
   },
   {
    "duration": 15,
    "start_time": "2021-12-05T16:59:47.519Z"
   },
   {
    "duration": 6,
    "start_time": "2021-12-05T16:59:47.535Z"
   },
   {
    "duration": 369,
    "start_time": "2021-12-05T16:59:47.543Z"
   },
   {
    "duration": 133,
    "start_time": "2021-12-05T16:59:47.913Z"
   },
   {
    "duration": 19,
    "start_time": "2021-12-05T16:59:48.048Z"
   },
   {
    "duration": 23,
    "start_time": "2021-12-05T16:59:48.069Z"
   },
   {
    "duration": 11,
    "start_time": "2021-12-05T16:59:48.094Z"
   },
   {
    "duration": 19,
    "start_time": "2021-12-05T16:59:48.107Z"
   },
   {
    "duration": 9,
    "start_time": "2021-12-05T16:59:48.128Z"
   },
   {
    "duration": 9,
    "start_time": "2021-12-05T16:59:48.139Z"
   },
   {
    "duration": 41,
    "start_time": "2021-12-05T16:59:48.150Z"
   },
   {
    "duration": 9,
    "start_time": "2021-12-05T16:59:48.193Z"
   },
   {
    "duration": 9,
    "start_time": "2021-12-05T16:59:48.204Z"
   },
   {
    "duration": 13,
    "start_time": "2021-12-05T16:59:48.214Z"
   },
   {
    "duration": 363,
    "start_time": "2021-12-05T16:59:48.229Z"
   },
   {
    "duration": 6,
    "start_time": "2021-12-05T16:59:48.594Z"
   },
   {
    "duration": 304,
    "start_time": "2021-12-05T16:59:48.602Z"
   },
   {
    "duration": 1474,
    "start_time": "2021-12-05T16:59:48.908Z"
   },
   {
    "duration": 7,
    "start_time": "2021-12-05T16:59:50.387Z"
   },
   {
    "duration": 3,
    "start_time": "2021-12-05T16:59:50.398Z"
   },
   {
    "duration": 663,
    "start_time": "2021-12-05T16:59:50.403Z"
   },
   {
    "duration": 325,
    "start_time": "2021-12-05T16:59:51.068Z"
   },
   {
    "duration": 188,
    "start_time": "2021-12-05T16:59:51.395Z"
   },
   {
    "duration": 317,
    "start_time": "2021-12-05T16:59:51.585Z"
   },
   {
    "duration": 388,
    "start_time": "2021-12-05T16:59:51.903Z"
   },
   {
    "duration": 612,
    "start_time": "2021-12-05T16:59:52.293Z"
   },
   {
    "duration": 591,
    "start_time": "2021-12-05T16:59:52.906Z"
   },
   {
    "duration": 447,
    "start_time": "2021-12-05T16:59:53.499Z"
   },
   {
    "duration": 244,
    "start_time": "2021-12-05T16:59:53.948Z"
   },
   {
    "duration": 16,
    "start_time": "2021-12-05T16:59:54.193Z"
   },
   {
    "duration": 155,
    "start_time": "2021-12-05T16:59:54.210Z"
   },
   {
    "duration": 150,
    "start_time": "2021-12-05T16:59:54.366Z"
   },
   {
    "duration": 225,
    "start_time": "2021-12-05T16:59:54.517Z"
   },
   {
    "duration": 14,
    "start_time": "2021-12-05T16:59:54.744Z"
   },
   {
    "duration": 152,
    "start_time": "2021-12-05T16:59:54.759Z"
   },
   {
    "duration": 151,
    "start_time": "2021-12-05T16:59:54.913Z"
   },
   {
    "duration": 146,
    "start_time": "2021-12-05T16:59:55.065Z"
   },
   {
    "duration": 15,
    "start_time": "2021-12-05T16:59:55.213Z"
   },
   {
    "duration": 160,
    "start_time": "2021-12-05T16:59:55.229Z"
   },
   {
    "duration": 157,
    "start_time": "2021-12-05T16:59:55.391Z"
   },
   {
    "duration": 148,
    "start_time": "2021-12-05T16:59:59.577Z"
   },
   {
    "duration": 144,
    "start_time": "2021-12-05T17:00:10.178Z"
   },
   {
    "duration": 138,
    "start_time": "2021-12-05T17:00:18.717Z"
   },
   {
    "duration": 14,
    "start_time": "2021-12-05T17:02:59.900Z"
   },
   {
    "duration": 309,
    "start_time": "2021-12-05T17:04:51.604Z"
   },
   {
    "duration": 5,
    "start_time": "2021-12-05T19:03:04.814Z"
   },
   {
    "duration": 9,
    "start_time": "2021-12-05T19:03:05.529Z"
   },
   {
    "duration": 979,
    "start_time": "2021-12-05T19:05:27.025Z"
   },
   {
    "duration": 37,
    "start_time": "2021-12-05T19:05:28.006Z"
   },
   {
    "duration": 14,
    "start_time": "2021-12-05T19:05:28.045Z"
   },
   {
    "duration": 12,
    "start_time": "2021-12-05T19:05:28.061Z"
   },
   {
    "duration": 18,
    "start_time": "2021-12-05T19:05:28.074Z"
   },
   {
    "duration": 5,
    "start_time": "2021-12-05T19:05:28.094Z"
   },
   {
    "duration": 12,
    "start_time": "2021-12-05T19:05:28.100Z"
   },
   {
    "duration": 9,
    "start_time": "2021-12-05T19:05:28.115Z"
   },
   {
    "duration": 15,
    "start_time": "2021-12-05T19:05:28.126Z"
   },
   {
    "duration": 13,
    "start_time": "2021-12-05T19:05:28.143Z"
   },
   {
    "duration": 7,
    "start_time": "2021-12-05T19:05:28.188Z"
   },
   {
    "duration": 322,
    "start_time": "2021-12-05T19:05:28.196Z"
   },
   {
    "duration": 131,
    "start_time": "2021-12-05T19:05:28.520Z"
   },
   {
    "duration": 15,
    "start_time": "2021-12-05T19:05:28.652Z"
   },
   {
    "duration": 20,
    "start_time": "2021-12-05T19:05:28.668Z"
   },
   {
    "duration": 12,
    "start_time": "2021-12-05T19:05:28.690Z"
   },
   {
    "duration": 15,
    "start_time": "2021-12-05T19:05:28.703Z"
   },
   {
    "duration": 6,
    "start_time": "2021-12-05T19:05:28.720Z"
   },
   {
    "duration": 9,
    "start_time": "2021-12-05T19:05:28.728Z"
   },
   {
    "duration": 12,
    "start_time": "2021-12-05T19:05:28.739Z"
   },
   {
    "duration": 40,
    "start_time": "2021-12-05T19:05:28.752Z"
   },
   {
    "duration": 5,
    "start_time": "2021-12-05T19:05:28.794Z"
   },
   {
    "duration": 15,
    "start_time": "2021-12-05T19:05:28.802Z"
   },
   {
    "duration": 6,
    "start_time": "2021-12-05T19:07:54.935Z"
   },
   {
    "duration": 10,
    "start_time": "2021-12-05T19:07:55.568Z"
   },
   {
    "duration": 9,
    "start_time": "2021-12-05T19:10:47.302Z"
   },
   {
    "duration": 2,
    "start_time": "2021-12-05T19:11:06.794Z"
   },
   {
    "duration": 36,
    "start_time": "2021-12-05T19:11:06.801Z"
   },
   {
    "duration": 11,
    "start_time": "2021-12-05T19:11:06.839Z"
   },
   {
    "duration": 13,
    "start_time": "2021-12-05T19:11:06.852Z"
   },
   {
    "duration": 11,
    "start_time": "2021-12-05T19:11:06.866Z"
   },
   {
    "duration": 10,
    "start_time": "2021-12-05T19:11:06.878Z"
   },
   {
    "duration": 10,
    "start_time": "2021-12-05T19:11:06.890Z"
   },
   {
    "duration": 10,
    "start_time": "2021-12-05T19:11:06.901Z"
   },
   {
    "duration": 12,
    "start_time": "2021-12-05T19:11:06.914Z"
   },
   {
    "duration": 13,
    "start_time": "2021-12-05T19:11:06.928Z"
   },
   {
    "duration": 7,
    "start_time": "2021-12-05T19:11:06.942Z"
   },
   {
    "duration": 345,
    "start_time": "2021-12-05T19:11:06.950Z"
   },
   {
    "duration": 119,
    "start_time": "2021-12-05T19:11:07.297Z"
   },
   {
    "duration": 14,
    "start_time": "2021-12-05T19:11:07.418Z"
   },
   {
    "duration": 7,
    "start_time": "2021-12-05T19:11:07.433Z"
   },
   {
    "duration": 10,
    "start_time": "2021-12-05T19:11:07.442Z"
   },
   {
    "duration": 40,
    "start_time": "2021-12-05T19:11:07.453Z"
   },
   {
    "duration": 6,
    "start_time": "2021-12-05T19:11:07.494Z"
   },
   {
    "duration": 13,
    "start_time": "2021-12-05T19:11:07.501Z"
   },
   {
    "duration": 13,
    "start_time": "2021-12-05T19:11:07.515Z"
   },
   {
    "duration": 7,
    "start_time": "2021-12-05T19:11:07.530Z"
   },
   {
    "duration": 4,
    "start_time": "2021-12-05T19:11:07.539Z"
   },
   {
    "duration": 10,
    "start_time": "2021-12-05T19:11:07.545Z"
   },
   {
    "duration": 17,
    "start_time": "2021-12-05T19:15:04.456Z"
   },
   {
    "duration": 16,
    "start_time": "2021-12-05T19:29:57.317Z"
   },
   {
    "duration": 15,
    "start_time": "2021-12-05T19:30:04.769Z"
   },
   {
    "duration": 3,
    "start_time": "2021-12-05T19:30:17.764Z"
   },
   {
    "duration": 36,
    "start_time": "2021-12-05T19:30:17.771Z"
   },
   {
    "duration": 11,
    "start_time": "2021-12-05T19:30:17.808Z"
   },
   {
    "duration": 12,
    "start_time": "2021-12-05T19:30:17.821Z"
   },
   {
    "duration": 10,
    "start_time": "2021-12-05T19:30:17.834Z"
   },
   {
    "duration": 4,
    "start_time": "2021-12-05T19:30:17.846Z"
   },
   {
    "duration": 44,
    "start_time": "2021-12-05T19:30:17.852Z"
   },
   {
    "duration": 9,
    "start_time": "2021-12-05T19:30:17.898Z"
   },
   {
    "duration": 13,
    "start_time": "2021-12-05T19:30:17.908Z"
   },
   {
    "duration": 15,
    "start_time": "2021-12-05T19:30:17.923Z"
   },
   {
    "duration": 7,
    "start_time": "2021-12-05T19:30:17.939Z"
   },
   {
    "duration": 334,
    "start_time": "2021-12-05T19:30:17.947Z"
   },
   {
    "duration": 124,
    "start_time": "2021-12-05T19:30:18.282Z"
   },
   {
    "duration": 14,
    "start_time": "2021-12-05T19:30:18.407Z"
   },
   {
    "duration": 7,
    "start_time": "2021-12-05T19:30:18.423Z"
   },
   {
    "duration": 11,
    "start_time": "2021-12-05T19:30:18.432Z"
   },
   {
    "duration": 18,
    "start_time": "2021-12-05T19:30:18.444Z"
   },
   {
    "duration": 7,
    "start_time": "2021-12-05T19:30:18.487Z"
   },
   {
    "duration": 9,
    "start_time": "2021-12-05T19:30:18.495Z"
   },
   {
    "duration": 12,
    "start_time": "2021-12-05T19:30:18.505Z"
   },
   {
    "duration": 7,
    "start_time": "2021-12-05T19:30:18.518Z"
   },
   {
    "duration": 13,
    "start_time": "2021-12-05T19:30:18.527Z"
   },
   {
    "duration": 1151,
    "start_time": "2021-12-05T19:32:14.776Z"
   },
   {
    "duration": 36,
    "start_time": "2021-12-05T19:32:15.928Z"
   },
   {
    "duration": 14,
    "start_time": "2021-12-05T19:32:15.966Z"
   },
   {
    "duration": 13,
    "start_time": "2021-12-05T19:32:15.981Z"
   },
   {
    "duration": 11,
    "start_time": "2021-12-05T19:32:15.996Z"
   },
   {
    "duration": 4,
    "start_time": "2021-12-05T19:32:16.008Z"
   },
   {
    "duration": 15,
    "start_time": "2021-12-05T19:32:16.014Z"
   },
   {
    "duration": 14,
    "start_time": "2021-12-05T19:32:16.031Z"
   },
   {
    "duration": 13,
    "start_time": "2021-12-05T19:32:16.047Z"
   },
   {
    "duration": 36,
    "start_time": "2021-12-05T19:32:16.061Z"
   },
   {
    "duration": 8,
    "start_time": "2021-12-05T19:32:16.099Z"
   },
   {
    "duration": 328,
    "start_time": "2021-12-05T19:32:16.109Z"
   },
   {
    "duration": 124,
    "start_time": "2021-12-05T19:32:16.439Z"
   },
   {
    "duration": 24,
    "start_time": "2021-12-05T19:32:16.564Z"
   },
   {
    "duration": 8,
    "start_time": "2021-12-05T19:32:16.590Z"
   },
   {
    "duration": 14,
    "start_time": "2021-12-05T19:32:16.600Z"
   },
   {
    "duration": 15,
    "start_time": "2021-12-05T19:32:16.616Z"
   },
   {
    "duration": 12,
    "start_time": "2021-12-05T19:32:16.632Z"
   },
   {
    "duration": 25,
    "start_time": "2021-12-05T19:32:16.645Z"
   },
   {
    "duration": 32,
    "start_time": "2021-12-05T19:32:16.671Z"
   },
   {
    "duration": 28,
    "start_time": "2021-12-05T19:32:16.705Z"
   },
   {
    "duration": 18,
    "start_time": "2021-12-05T19:32:16.735Z"
   },
   {
    "duration": 15,
    "start_time": "2021-12-05T19:32:16.756Z"
   },
   {
    "duration": 314,
    "start_time": "2021-12-05T19:32:16.773Z"
   },
   {
    "duration": 6,
    "start_time": "2021-12-05T19:32:17.089Z"
   },
   {
    "duration": 274,
    "start_time": "2021-12-05T19:32:17.097Z"
   },
   {
    "duration": 1065,
    "start_time": "2021-12-05T19:32:17.372Z"
   },
   {
    "duration": 6,
    "start_time": "2021-12-05T19:32:18.438Z"
   },
   {
    "duration": 4,
    "start_time": "2021-12-05T19:32:18.446Z"
   },
   {
    "duration": 481,
    "start_time": "2021-12-05T19:32:18.451Z"
   },
   {
    "duration": 315,
    "start_time": "2021-12-05T19:32:18.934Z"
   },
   {
    "duration": 193,
    "start_time": "2021-12-05T19:32:19.250Z"
   },
   {
    "duration": 347,
    "start_time": "2021-12-05T19:32:19.444Z"
   },
   {
    "duration": 310,
    "start_time": "2021-12-05T19:32:19.793Z"
   },
   {
    "duration": 690,
    "start_time": "2021-12-05T19:32:20.105Z"
   },
   {
    "duration": 601,
    "start_time": "2021-12-05T19:32:20.797Z"
   },
   {
    "duration": 446,
    "start_time": "2021-12-05T19:32:21.399Z"
   },
   {
    "duration": 320,
    "start_time": "2021-12-05T19:32:21.847Z"
   },
   {
    "duration": 27,
    "start_time": "2021-12-05T19:32:22.169Z"
   },
   {
    "duration": 146,
    "start_time": "2021-12-05T19:32:22.198Z"
   },
   {
    "duration": 145,
    "start_time": "2021-12-05T19:32:22.346Z"
   },
   {
    "duration": 147,
    "start_time": "2021-12-05T19:32:22.493Z"
   },
   {
    "duration": 15,
    "start_time": "2021-12-05T19:32:22.642Z"
   },
   {
    "duration": 229,
    "start_time": "2021-12-05T19:32:22.658Z"
   },
   {
    "duration": 152,
    "start_time": "2021-12-05T19:32:22.889Z"
   },
   {
    "duration": 139,
    "start_time": "2021-12-05T19:32:23.043Z"
   },
   {
    "duration": 14,
    "start_time": "2021-12-05T19:32:23.184Z"
   },
   {
    "duration": 151,
    "start_time": "2021-12-05T19:32:23.200Z"
   },
   {
    "duration": 146,
    "start_time": "2021-12-05T19:32:23.352Z"
   },
   {
    "duration": 141,
    "start_time": "2021-12-05T19:32:23.500Z"
   },
   {
    "duration": 14,
    "start_time": "2021-12-05T20:02:19.662Z"
   },
   {
    "duration": 147,
    "start_time": "2021-12-05T20:02:27.490Z"
   },
   {
    "duration": 14,
    "start_time": "2021-12-05T20:10:29.194Z"
   },
   {
    "duration": 143,
    "start_time": "2021-12-05T20:10:32.505Z"
   },
   {
    "duration": 166,
    "start_time": "2021-12-05T20:10:57.345Z"
   },
   {
    "duration": 134,
    "start_time": "2021-12-05T20:12:30.104Z"
   },
   {
    "duration": 11,
    "start_time": "2021-12-05T20:37:48.417Z"
   },
   {
    "duration": 5,
    "start_time": "2021-12-05T20:37:50.344Z"
   },
   {
    "duration": 989,
    "start_time": "2021-12-05T20:39:13.429Z"
   },
   {
    "duration": 36,
    "start_time": "2021-12-05T20:39:14.420Z"
   },
   {
    "duration": 12,
    "start_time": "2021-12-05T20:39:14.458Z"
   },
   {
    "duration": 16,
    "start_time": "2021-12-05T20:39:14.472Z"
   },
   {
    "duration": 8,
    "start_time": "2021-12-05T20:39:14.490Z"
   },
   {
    "duration": 4,
    "start_time": "2021-12-05T20:39:14.499Z"
   },
   {
    "duration": 12,
    "start_time": "2021-12-05T20:39:14.504Z"
   },
   {
    "duration": 8,
    "start_time": "2021-12-05T20:39:14.518Z"
   },
   {
    "duration": 15,
    "start_time": "2021-12-05T20:39:14.528Z"
   },
   {
    "duration": 46,
    "start_time": "2021-12-05T20:39:14.545Z"
   },
   {
    "duration": 7,
    "start_time": "2021-12-05T20:39:14.593Z"
   },
   {
    "duration": 318,
    "start_time": "2021-12-05T20:39:14.602Z"
   },
   {
    "duration": 121,
    "start_time": "2021-12-05T20:39:14.922Z"
   },
   {
    "duration": 16,
    "start_time": "2021-12-05T20:39:15.044Z"
   },
   {
    "duration": 26,
    "start_time": "2021-12-05T20:39:15.062Z"
   },
   {
    "duration": 12,
    "start_time": "2021-12-05T20:39:15.090Z"
   },
   {
    "duration": 14,
    "start_time": "2021-12-05T20:39:15.104Z"
   },
   {
    "duration": 6,
    "start_time": "2021-12-05T20:39:15.119Z"
   },
   {
    "duration": 9,
    "start_time": "2021-12-05T20:39:15.127Z"
   },
   {
    "duration": 11,
    "start_time": "2021-12-05T20:39:15.137Z"
   },
   {
    "duration": 7,
    "start_time": "2021-12-05T20:39:15.150Z"
   },
   {
    "duration": 13,
    "start_time": "2021-12-05T20:39:15.188Z"
   },
   {
    "duration": 13,
    "start_time": "2021-12-05T20:39:15.204Z"
   },
   {
    "duration": 333,
    "start_time": "2021-12-05T20:39:15.219Z"
   },
   {
    "duration": 6,
    "start_time": "2021-12-05T20:39:15.554Z"
   },
   {
    "duration": 275,
    "start_time": "2021-12-05T20:39:15.562Z"
   },
   {
    "duration": 1098,
    "start_time": "2021-12-05T20:39:15.839Z"
   },
   {
    "duration": 7,
    "start_time": "2021-12-05T20:39:16.939Z"
   },
   {
    "duration": 6,
    "start_time": "2021-12-05T20:39:16.948Z"
   },
   {
    "duration": 582,
    "start_time": "2021-12-05T20:39:16.956Z"
   },
   {
    "duration": 316,
    "start_time": "2021-12-05T20:39:17.539Z"
   },
   {
    "duration": 182,
    "start_time": "2021-12-05T20:39:17.856Z"
   },
   {
    "duration": 314,
    "start_time": "2021-12-05T20:39:18.039Z"
   },
   {
    "duration": 334,
    "start_time": "2021-12-05T20:39:18.354Z"
   },
   {
    "duration": 731,
    "start_time": "2021-12-05T20:39:18.690Z"
   },
   {
    "duration": 607,
    "start_time": "2021-12-05T20:39:19.423Z"
   },
   {
    "duration": 730,
    "start_time": "2021-12-05T20:39:20.031Z"
   },
   {
    "duration": 205,
    "start_time": "2021-12-05T20:39:20.763Z"
   },
   {
    "duration": 19,
    "start_time": "2021-12-05T20:39:20.969Z"
   },
   {
    "duration": 150,
    "start_time": "2021-12-05T20:39:20.990Z"
   },
   {
    "duration": 145,
    "start_time": "2021-12-05T20:39:21.142Z"
   },
   {
    "duration": 144,
    "start_time": "2021-12-05T20:39:21.289Z"
   },
   {
    "duration": 14,
    "start_time": "2021-12-05T20:39:21.435Z"
   },
   {
    "duration": 229,
    "start_time": "2021-12-05T20:39:21.450Z"
   },
   {
    "duration": 155,
    "start_time": "2021-12-05T20:39:21.680Z"
   },
   {
    "duration": 142,
    "start_time": "2021-12-05T20:39:21.837Z"
   },
   {
    "duration": 19,
    "start_time": "2021-12-05T20:39:21.980Z"
   },
   {
    "duration": 151,
    "start_time": "2021-12-05T20:39:22.001Z"
   },
   {
    "duration": 149,
    "start_time": "2021-12-05T20:39:22.154Z"
   },
   {
    "duration": 142,
    "start_time": "2021-12-05T20:39:22.304Z"
   },
   {
    "duration": 11,
    "start_time": "2021-12-05T20:39:22.447Z"
   },
   {
    "duration": 4,
    "start_time": "2021-12-05T20:39:28.904Z"
   },
   {
    "duration": 12,
    "start_time": "2021-12-05T20:42:40.919Z"
   },
   {
    "duration": 5,
    "start_time": "2021-12-05T20:42:42.418Z"
   },
   {
    "duration": 13,
    "start_time": "2021-12-05T20:43:22.967Z"
   },
   {
    "duration": 5,
    "start_time": "2021-12-05T20:43:24.819Z"
   },
   {
    "duration": 12,
    "start_time": "2021-12-05T20:44:23.784Z"
   },
   {
    "duration": 4,
    "start_time": "2021-12-05T20:44:25.073Z"
   },
   {
    "duration": 1052,
    "start_time": "2021-12-05T20:50:00.845Z"
   },
   {
    "duration": 38,
    "start_time": "2021-12-05T20:50:01.899Z"
   },
   {
    "duration": 14,
    "start_time": "2021-12-05T20:50:01.939Z"
   },
   {
    "duration": 15,
    "start_time": "2021-12-05T20:50:01.955Z"
   },
   {
    "duration": 15,
    "start_time": "2021-12-05T20:50:01.972Z"
   },
   {
    "duration": 4,
    "start_time": "2021-12-05T20:50:01.989Z"
   },
   {
    "duration": 16,
    "start_time": "2021-12-05T20:50:01.994Z"
   },
   {
    "duration": 21,
    "start_time": "2021-12-05T20:50:02.012Z"
   },
   {
    "duration": 32,
    "start_time": "2021-12-05T20:50:02.035Z"
   },
   {
    "duration": 13,
    "start_time": "2021-12-05T20:50:02.069Z"
   },
   {
    "duration": 7,
    "start_time": "2021-12-05T20:50:02.084Z"
   },
   {
    "duration": 325,
    "start_time": "2021-12-05T20:50:02.092Z"
   },
   {
    "duration": 128,
    "start_time": "2021-12-05T20:50:02.419Z"
   },
   {
    "duration": 14,
    "start_time": "2021-12-05T20:50:02.549Z"
   },
   {
    "duration": 8,
    "start_time": "2021-12-05T20:50:02.565Z"
   },
   {
    "duration": 11,
    "start_time": "2021-12-05T20:50:02.588Z"
   },
   {
    "duration": 15,
    "start_time": "2021-12-05T20:50:02.601Z"
   },
   {
    "duration": 7,
    "start_time": "2021-12-05T20:50:02.617Z"
   },
   {
    "duration": 10,
    "start_time": "2021-12-05T20:50:02.625Z"
   },
   {
    "duration": 12,
    "start_time": "2021-12-05T20:50:02.637Z"
   },
   {
    "duration": 37,
    "start_time": "2021-12-05T20:50:02.651Z"
   },
   {
    "duration": 15,
    "start_time": "2021-12-05T20:50:02.689Z"
   },
   {
    "duration": 13,
    "start_time": "2021-12-05T20:50:02.707Z"
   },
   {
    "duration": 348,
    "start_time": "2021-12-05T20:50:02.721Z"
   },
   {
    "duration": 16,
    "start_time": "2021-12-05T20:50:03.071Z"
   },
   {
    "duration": 276,
    "start_time": "2021-12-05T20:50:03.089Z"
   },
   {
    "duration": 1091,
    "start_time": "2021-12-05T20:50:03.366Z"
   },
   {
    "duration": 6,
    "start_time": "2021-12-05T20:50:04.458Z"
   },
   {
    "duration": 5,
    "start_time": "2021-12-05T20:50:04.466Z"
   },
   {
    "duration": 486,
    "start_time": "2021-12-05T20:50:04.472Z"
   },
   {
    "duration": 308,
    "start_time": "2021-12-05T20:50:04.960Z"
   },
   {
    "duration": 184,
    "start_time": "2021-12-05T20:50:05.269Z"
   },
   {
    "duration": 317,
    "start_time": "2021-12-05T20:50:05.454Z"
   },
   {
    "duration": 323,
    "start_time": "2021-12-05T20:50:05.772Z"
   },
   {
    "duration": 703,
    "start_time": "2021-12-05T20:50:06.096Z"
   },
   {
    "duration": 705,
    "start_time": "2021-12-05T20:50:06.800Z"
   },
   {
    "duration": 528,
    "start_time": "2021-12-05T20:50:07.506Z"
   },
   {
    "duration": 223,
    "start_time": "2021-12-05T20:50:08.036Z"
   },
   {
    "duration": 16,
    "start_time": "2021-12-05T20:50:08.260Z"
   },
   {
    "duration": 144,
    "start_time": "2021-12-05T20:50:08.287Z"
   },
   {
    "duration": 149,
    "start_time": "2021-12-05T20:50:08.433Z"
   },
   {
    "duration": 149,
    "start_time": "2021-12-05T20:50:08.587Z"
   },
   {
    "duration": 15,
    "start_time": "2021-12-05T20:50:08.737Z"
   },
   {
    "duration": 232,
    "start_time": "2021-12-05T20:50:08.753Z"
   },
   {
    "duration": 146,
    "start_time": "2021-12-05T20:50:08.987Z"
   },
   {
    "duration": 141,
    "start_time": "2021-12-05T20:50:09.134Z"
   },
   {
    "duration": 19,
    "start_time": "2021-12-05T20:50:09.276Z"
   },
   {
    "duration": 150,
    "start_time": "2021-12-05T20:50:09.296Z"
   },
   {
    "duration": 163,
    "start_time": "2021-12-05T20:50:09.447Z"
   },
   {
    "duration": 143,
    "start_time": "2021-12-05T20:50:09.611Z"
   },
   {
    "duration": 13,
    "start_time": "2021-12-05T20:50:09.755Z"
   },
   {
    "duration": 21,
    "start_time": "2021-12-05T20:50:09.769Z"
   },
   {
    "duration": 14,
    "start_time": "2021-12-05T20:50:09.791Z"
   },
   {
    "duration": 4,
    "start_time": "2021-12-05T20:50:09.807Z"
   }
  ],
  "kernelspec": {
   "display_name": "Python 3",
   "language": "python",
   "name": "python3"
  },
  "language_info": {
   "codemirror_mode": {
    "name": "ipython",
    "version": 3
   },
   "file_extension": ".py",
   "mimetype": "text/x-python",
   "name": "python",
   "nbconvert_exporter": "python",
   "pygments_lexer": "ipython3",
   "version": "3.7.8"
  },
  "toc": {
   "base_numbering": 1,
   "nav_menu": {
    "height": "171px",
    "width": "160px"
   },
   "number_sections": false,
   "sideBar": true,
   "skip_h1_title": true,
   "title_cell": "Содержание",
   "title_sidebar": "Contents",
   "toc_cell": true,
   "toc_position": {
    "height": "calc(100% - 180px)",
    "left": "10px",
    "top": "150px",
    "width": "366.391px"
   },
   "toc_section_display": true,
   "toc_window_display": false
  }
 },
 "nbformat": 4,
 "nbformat_minor": 2
}
