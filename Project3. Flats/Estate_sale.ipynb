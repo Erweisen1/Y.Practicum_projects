{
 "cells": [
  {
   "cell_type": "markdown",
   "metadata": {},
   "source": [
    "<div style=\"border-radius: 15px; border: 3px solid indigo; padding: 15px;\">\n",
    "<b> Комментарий ревьюера</b>\n",
    "    \n",
    "Привет! Меня зовут Светлана Носова, я буду проверять твой проект. Если не против, давай общаться на «ты». Если тебе такой стиль общения не нравится, напиши об этом, будем на «вы».\n",
    "\n",
    "Сразу хочу обратить внимание на цветовую разметку:\n",
    "\n",
    "<div class=\"alert alert-success\" style=\"border-radius: 15px; box-shadow: 4px 4px 4px; border: 1px solid \">\n",
    "\n",
    "Зеленым отмечены отличные решения и идеи, которые можно и нужно использовать в будущем.\n",
    "</div>\n",
    "    \n",
    "<div class=\"alert alert-warning\" style=\"border-radius: 15px; box-shadow: 4px 4px 4px; border: 1px solid \">\n",
    "\n",
    "Желтым отмечено то, что можно или нужно оптимизировать, в зависимости от контекста.</div>    \n",
    "    \n",
    "<div class=\"alert alert-danger\" style=\"border-radius: 15px; box-shadow: 4px 4px 4px; border: 1px solid \">\n",
    "\n",
    "Красным  обозначены пропущенные пункты задания и ошибки, которые обязательно надо будет исправить, чтобы результаты были верные.</div> \n",
    "    \n",
    "**Ответы на мои комментарии или доработки по моим рекомендациям попрошу выделить каким-нибудь цветом, кроме перечисленных.**\n",
    "Также я попрошу тебя **не менять, не передвигать и не удалять мои комментарии**, чтобы при последующей проверке мне было проще ориентироваться.\n",
    "    \n",
    "Кроме того, комментарии у меня обозначены как заголовки. Это сбивает содержание, но при последующей проверке я могу снять с них заголовок, если тебе так будет удобнее. При этом они удобны, поскольку ты сразу можешь перейти к ним.   \n",
    "        \n",
    "<hr>\n",
    "    \n",
    "<font color= 'dodgerblue'>**По проекту:**</font> работа очень объемная и непростая, ты молодец. Структура хорошая, много анализа, графиков и выводов. Хорошо проработаны пропущенные значения. В комментариях оставила рекомендации по улучшению проекта, корректировки не займут много времени. Буду ждать работу на повторное ревью.\n",
    "    \n",
    "<hr style=\"border-top: 3px solid purple; \"></hr>\n",
    "Комментарии можешь оставлять с помощью такого кода в Markdown ячейке:\n",
    "    \n",
    "    \n",
    "    <div class=\"alert alert-info\">\n",
    "    <h2> Комментарий студента</h2>\n",
    "\n",
    "    Тут текст.\n",
    "    </div>\n",
    "    \n",
    "    \n",
    "    <font color='red'> Этот код позволяет менять цвет текста. </font>     \n",
    "\n",
    "\n",
    "<font color='red'> Выглядит это так. </font> \n",
    "\n",
    "  \n",
    "   \n",
    "Если не хочешь, чтобы твои комментарии отображались в содержании как заголовки, замени **h2** на **b** или добавь `<a class=\"tocSkip\">` после фразы *Комментарий студента*.\n",
    "\n",
    "\n",
    "\n",
    "О том, как **форматировать текст** в Markdown ячейке или как добавлять ссылки, ты можешь узнать [тут](https://sqlbak.com/blog/jupyter-notebook-markdown-cheatsheet) и [вот тут](https://medium.com/analytics-vidhya/the-ultimate-markdown-guide-for-jupyter-notebook-d5e5abf728fd).\n",
    "</div>   "
   ]
  },
  {
   "cell_type": "markdown",
   "metadata": {},
   "source": [
    "<div class=\"alert alert-info\">\n",
    "<h2> Комментарий студента</h2>\n",
    "\n",
    "Привет! Спасибо за ревью, постаралась подправить некоторые моменты в соответствии с комментариями, так же немного изменила финальный вывод\n",
    "</div>"
   ]
  },
  {
   "cell_type": "markdown",
   "metadata": {},
   "source": [
    "<div style=\"border-radius: 15px; border: 3px solid indigo; padding: 15px;\">\n",
    "<b> Комментарий ревьюера</b>\n",
    "    \n",
    "Отлично :) Вопросов у меня больше нет, поэтому проект я принимаю. Успехов тебе :) </div>"
   ]
  },
  {
   "cell_type": "markdown",
   "metadata": {
    "toc": true
   },
   "source": [
    "<h1>Содержание<span class=\"tocSkip\"></span></h1>\n",
    "<div class=\"toc\"><ul class=\"toc-item\"><li><span><a href=\"#-Комментарий-студента\" data-toc-modified-id=\"-Комментарий-студента-1\"><span class=\"toc-item-num\">1&nbsp;&nbsp;</span> Комментарий студента</a></span></li><li><span><a href=\"#Изучение-данных-из-файла\" data-toc-modified-id=\"Изучение-данных-из-файла-2\"><span class=\"toc-item-num\">2&nbsp;&nbsp;</span>Изучение данных из файла</a></span><ul class=\"toc-item\"><li><span><a href=\"#Вывод\" data-toc-modified-id=\"Вывод-2.1\"><span class=\"toc-item-num\">2.1&nbsp;&nbsp;</span>Вывод</a></span></li></ul></li><li><span><a href=\"#Предобработка-данных\" data-toc-modified-id=\"Предобработка-данных-3\"><span class=\"toc-item-num\">3&nbsp;&nbsp;</span>Предобработка данных</a></span></li><li><span><a href=\"#Расчёты-и-добавление-результатов-в-таблицу\" data-toc-modified-id=\"Расчёты-и-добавление-результатов-в-таблицу-4\"><span class=\"toc-item-num\">4&nbsp;&nbsp;</span>Расчёты и добавление результатов в таблицу</a></span></li><li><span><a href=\"#Исследовательский-анализ-данных\" data-toc-modified-id=\"Исследовательский-анализ-данных-5\"><span class=\"toc-item-num\">5&nbsp;&nbsp;</span>Исследовательский анализ данных</a></span><ul class=\"toc-item\"><li><span><a href=\"#Изучим-площадь,-цены,-число-комнат-и-высоту-потолков\" data-toc-modified-id=\"Изучим-площадь,-цены,-число-комнат-и-высоту-потолков-5.1\"><span class=\"toc-item-num\">5.1&nbsp;&nbsp;</span>Изучим площадь, цены, число комнат и высоту потолков</a></span></li><li><span><a href=\"#Изучим-время-продажи-квартиры\" data-toc-modified-id=\"Изучим-время-продажи-квартиры-5.2\"><span class=\"toc-item-num\">5.2&nbsp;&nbsp;</span>Изучим время продажи квартиры</a></span></li><li><span><a href=\"#Изучим-влияние-различных-факторов-на-стоимость-квартиры\" data-toc-modified-id=\"Изучим-влияние-различных-факторов-на-стоимость-квартиры-5.3\"><span class=\"toc-item-num\">5.3&nbsp;&nbsp;</span>Изучим влияние различных факторов на стоимость квартиры</a></span><ul class=\"toc-item\"><li><span><a href=\"#Изучим-зависимость-цены-от-площади.\" data-toc-modified-id=\"Изучим-зависимость-цены-от-площади.-5.3.1\"><span class=\"toc-item-num\">5.3.1&nbsp;&nbsp;</span>Изучим зависимость цены от площади.</a></span></li><li><span><a href=\"#Изучим-зависимость-цены-от-числа-комнат.\" data-toc-modified-id=\"Изучим-зависимость-цены-от-числа-комнат.-5.3.2\"><span class=\"toc-item-num\">5.3.2&nbsp;&nbsp;</span>Изучим зависимость цены от числа комнат.</a></span></li><li><span><a href=\"#Изучим-зависимость-цены-от-удаленности-от-центра.\" data-toc-modified-id=\"Изучим-зависимость-цены-от-удаленности-от-центра.-5.3.3\"><span class=\"toc-item-num\">5.3.3&nbsp;&nbsp;</span>Изучим зависимость цены от удаленности от центра.</a></span></li><li><span><a href=\"#Изучим-зависимость-цены-от-того,-на-каком-этаже-расположена-квартира.\" data-toc-modified-id=\"Изучим-зависимость-цены-от-того,-на-каком-этаже-расположена-квартира.-5.3.4\"><span class=\"toc-item-num\">5.3.4&nbsp;&nbsp;</span>Изучим зависимость цены от того, на каком этаже расположена квартира.</a></span></li><li><span><a href=\"#Изучим-зависимость-цены-от-дня-недели-размещения.\" data-toc-modified-id=\"Изучим-зависимость-цены-от-дня-недели-размещения.-5.3.5\"><span class=\"toc-item-num\">5.3.5&nbsp;&nbsp;</span>Изучим зависимость цены от дня недели размещения.</a></span></li><li><span><a href=\"#Изучим-зависимость-цены-от-месяца-размещения.\" data-toc-modified-id=\"Изучим-зависимость-цены-от-месяца-размещения.-5.3.6\"><span class=\"toc-item-num\">5.3.6&nbsp;&nbsp;</span>Изучим зависимость цены от месяца размещения.</a></span></li><li><span><a href=\"#Изучим-зависимость-цены-от-года-размещения.\" data-toc-modified-id=\"Изучим-зависимость-цены-от-года-размещения.-5.3.7\"><span class=\"toc-item-num\">5.3.7&nbsp;&nbsp;</span>Изучим зависимость цены от года размещения.</a></span></li></ul></li><li><span><a href=\"#Изучим-стоимость-жилья-по-населенным-пунктам\" data-toc-modified-id=\"Изучим-стоимость-жилья-по-населенным-пунктам-5.4\"><span class=\"toc-item-num\">5.4&nbsp;&nbsp;</span>Изучим стоимость жилья по населенным пунктам</a></span></li><li><span><a href=\"#Выделим-квартиры-в-Санкт-Петербурге-по-информации-о-расстоянии-до-центра.\" data-toc-modified-id=\"Выделим-квартиры-в-Санкт-Петербурге-по-информации-о-расстоянии-до-центра.-5.5\"><span class=\"toc-item-num\">5.5&nbsp;&nbsp;</span>Выделим квартиры в Санкт-Петербурге по информации о расстоянии до центра.</a></span></li></ul></li><li><span><a href=\"#-Комментарий-студента\" data-toc-modified-id=\"-Комментарий-студента-6\"><span class=\"toc-item-num\">6&nbsp;&nbsp;</span> Комментарий студента</a></span><ul class=\"toc-item\"><li><span><a href=\"#Изучим-параметры-по-квартирам-в-центре.\" data-toc-modified-id=\"Изучим-параметры-по-квартирам-в-центре.-6.1\"><span class=\"toc-item-num\">6.1&nbsp;&nbsp;</span>Изучим параметры по квартирам в центре.</a></span><ul class=\"toc-item\"><li><span><a href=\"#Влияние-числа-комнат-на-стоимость.\" data-toc-modified-id=\"Влияние-числа-комнат-на-стоимость.-6.1.1\"><span class=\"toc-item-num\">6.1.1&nbsp;&nbsp;</span>Влияние числа комнат на стоимость.</a></span></li><li><span><a href=\"#Влияние-этажа-на-стоимость.\" data-toc-modified-id=\"Влияние-этажа-на-стоимость.-6.1.2\"><span class=\"toc-item-num\">6.1.2&nbsp;&nbsp;</span>Влияние этажа на стоимость.</a></span></li><li><span><a href=\"#Влияние-удаленности-от-центра-на-стоимость.\" data-toc-modified-id=\"Влияние-удаленности-от-центра-на-стоимость.-6.1.3\"><span class=\"toc-item-num\">6.1.3&nbsp;&nbsp;</span>Влияние удаленности от центра на стоимость.</a></span></li><li><span><a href=\"#Влияние-даты-размещения-объявления-на-стоимость.\" data-toc-modified-id=\"Влияние-даты-размещения-объявления-на-стоимость.-6.1.4\"><span class=\"toc-item-num\">6.1.4&nbsp;&nbsp;</span>Влияние даты размещения объявления на стоимость.</a></span></li></ul></li></ul></li><li><span><a href=\"#Общий-вывод\" data-toc-modified-id=\"Общий-вывод-7\"><span class=\"toc-item-num\">7&nbsp;&nbsp;</span>Общий вывод</a></span></li><li><span><a href=\"#-Комментарий-студента\" data-toc-modified-id=\"-Комментарий-студента-8\"><span class=\"toc-item-num\">8&nbsp;&nbsp;</span> Комментарий студента</a></span></li><li><span><a href=\"#Чек-лист-готовности-проекта\" data-toc-modified-id=\"Чек-лист-готовности-проекта-9\"><span class=\"toc-item-num\">9&nbsp;&nbsp;</span>Чек-лист готовности проекта</a></span></li></ul></div>"
   ]
  },
  {
   "cell_type": "markdown",
   "metadata": {},
   "source": [
    "# Исследование объявлений о продаже квартир\n",
    "\n",
    "В вашем распоряжении данные сервиса Яндекс.Недвижимость — архив объявлений о продаже квартир в Санкт-Петербурге и соседних населённых пунктах за несколько лет. Нужно научиться определять рыночную стоимость объектов недвижимости. Ваша задача — установить параметры. Это позволит построить автоматизированную систему: она отследит аномалии и мошенническую деятельность. \n",
    "\n",
    "По каждой квартире на продажу доступны два вида данных. Первые вписаны пользователем, вторые получены автоматически на основе картографических данных. Например, расстояние до центра, аэропорта, ближайшего парка и водоёма. "
   ]
  },
  {
   "cell_type": "markdown",
   "metadata": {},
   "source": [
    "<div class=\"alert alert-success\" style=\"border-radius: 15px; box-shadow: 4px 4px 4px; border: 1px solid \">\n",
    "<b> Комментарий ревьюера</b>\n",
    "    \n",
    "Правильно делаешь, что не убираешь краткое описание задачи. Это поможет быстро вспомнить, о чем проект, если ты к нему вернешься спустя какое-то время.\n",
    "</div>"
   ]
  },
  {
   "cell_type": "markdown",
   "metadata": {},
   "source": [
    "## Изучение данных из файла"
   ]
  },
  {
   "cell_type": "code",
   "execution_count": 120,
   "metadata": {},
   "outputs": [],
   "source": [
    "import pandas as pd\n",
    "import matplotlib.pyplot as plt"
   ]
  },
  {
   "cell_type": "code",
   "execution_count": 121,
   "metadata": {},
   "outputs": [],
   "source": [
    "apartments = pd.read_csv('/datasets/real_estate_data.csv', sep='\\t').copy()"
   ]
  },
  {
   "cell_type": "code",
   "execution_count": 122,
   "metadata": {
    "scrolled": false
   },
   "outputs": [
    {
     "name": "stdout",
     "output_type": "stream",
     "text": [
      "Первые 5 строк полученного массива данных:\n"
     ]
    },
    {
     "data": {
      "text/html": [
       "<div>\n",
       "<style scoped>\n",
       "    .dataframe tbody tr th:only-of-type {\n",
       "        vertical-align: middle;\n",
       "    }\n",
       "\n",
       "    .dataframe tbody tr th {\n",
       "        vertical-align: top;\n",
       "    }\n",
       "\n",
       "    .dataframe thead th {\n",
       "        text-align: right;\n",
       "    }\n",
       "</style>\n",
       "<table border=\"1\" class=\"dataframe\">\n",
       "  <thead>\n",
       "    <tr style=\"text-align: right;\">\n",
       "      <th></th>\n",
       "      <th>total_images</th>\n",
       "      <th>last_price</th>\n",
       "      <th>total_area</th>\n",
       "      <th>first_day_exposition</th>\n",
       "      <th>rooms</th>\n",
       "      <th>ceiling_height</th>\n",
       "      <th>floors_total</th>\n",
       "      <th>living_area</th>\n",
       "      <th>floor</th>\n",
       "      <th>is_apartment</th>\n",
       "      <th>...</th>\n",
       "      <th>kitchen_area</th>\n",
       "      <th>balcony</th>\n",
       "      <th>locality_name</th>\n",
       "      <th>airports_nearest</th>\n",
       "      <th>cityCenters_nearest</th>\n",
       "      <th>parks_around3000</th>\n",
       "      <th>parks_nearest</th>\n",
       "      <th>ponds_around3000</th>\n",
       "      <th>ponds_nearest</th>\n",
       "      <th>days_exposition</th>\n",
       "    </tr>\n",
       "  </thead>\n",
       "  <tbody>\n",
       "    <tr>\n",
       "      <td>0</td>\n",
       "      <td>20</td>\n",
       "      <td>13000000.0</td>\n",
       "      <td>108.0</td>\n",
       "      <td>2019-03-07T00:00:00</td>\n",
       "      <td>3</td>\n",
       "      <td>2.70</td>\n",
       "      <td>16.0</td>\n",
       "      <td>51.0</td>\n",
       "      <td>8</td>\n",
       "      <td>NaN</td>\n",
       "      <td>...</td>\n",
       "      <td>25.0</td>\n",
       "      <td>NaN</td>\n",
       "      <td>Санкт-Петербург</td>\n",
       "      <td>18863.0</td>\n",
       "      <td>16028.0</td>\n",
       "      <td>1.0</td>\n",
       "      <td>482.0</td>\n",
       "      <td>2.0</td>\n",
       "      <td>755.0</td>\n",
       "      <td>NaN</td>\n",
       "    </tr>\n",
       "    <tr>\n",
       "      <td>1</td>\n",
       "      <td>7</td>\n",
       "      <td>3350000.0</td>\n",
       "      <td>40.4</td>\n",
       "      <td>2018-12-04T00:00:00</td>\n",
       "      <td>1</td>\n",
       "      <td>NaN</td>\n",
       "      <td>11.0</td>\n",
       "      <td>18.6</td>\n",
       "      <td>1</td>\n",
       "      <td>NaN</td>\n",
       "      <td>...</td>\n",
       "      <td>11.0</td>\n",
       "      <td>2.0</td>\n",
       "      <td>посёлок Шушары</td>\n",
       "      <td>12817.0</td>\n",
       "      <td>18603.0</td>\n",
       "      <td>0.0</td>\n",
       "      <td>NaN</td>\n",
       "      <td>0.0</td>\n",
       "      <td>NaN</td>\n",
       "      <td>81.0</td>\n",
       "    </tr>\n",
       "    <tr>\n",
       "      <td>2</td>\n",
       "      <td>10</td>\n",
       "      <td>5196000.0</td>\n",
       "      <td>56.0</td>\n",
       "      <td>2015-08-20T00:00:00</td>\n",
       "      <td>2</td>\n",
       "      <td>NaN</td>\n",
       "      <td>5.0</td>\n",
       "      <td>34.3</td>\n",
       "      <td>4</td>\n",
       "      <td>NaN</td>\n",
       "      <td>...</td>\n",
       "      <td>8.3</td>\n",
       "      <td>0.0</td>\n",
       "      <td>Санкт-Петербург</td>\n",
       "      <td>21741.0</td>\n",
       "      <td>13933.0</td>\n",
       "      <td>1.0</td>\n",
       "      <td>90.0</td>\n",
       "      <td>2.0</td>\n",
       "      <td>574.0</td>\n",
       "      <td>558.0</td>\n",
       "    </tr>\n",
       "    <tr>\n",
       "      <td>3</td>\n",
       "      <td>0</td>\n",
       "      <td>64900000.0</td>\n",
       "      <td>159.0</td>\n",
       "      <td>2015-07-24T00:00:00</td>\n",
       "      <td>3</td>\n",
       "      <td>NaN</td>\n",
       "      <td>14.0</td>\n",
       "      <td>NaN</td>\n",
       "      <td>9</td>\n",
       "      <td>NaN</td>\n",
       "      <td>...</td>\n",
       "      <td>NaN</td>\n",
       "      <td>0.0</td>\n",
       "      <td>Санкт-Петербург</td>\n",
       "      <td>28098.0</td>\n",
       "      <td>6800.0</td>\n",
       "      <td>2.0</td>\n",
       "      <td>84.0</td>\n",
       "      <td>3.0</td>\n",
       "      <td>234.0</td>\n",
       "      <td>424.0</td>\n",
       "    </tr>\n",
       "    <tr>\n",
       "      <td>4</td>\n",
       "      <td>2</td>\n",
       "      <td>10000000.0</td>\n",
       "      <td>100.0</td>\n",
       "      <td>2018-06-19T00:00:00</td>\n",
       "      <td>2</td>\n",
       "      <td>3.03</td>\n",
       "      <td>14.0</td>\n",
       "      <td>32.0</td>\n",
       "      <td>13</td>\n",
       "      <td>NaN</td>\n",
       "      <td>...</td>\n",
       "      <td>41.0</td>\n",
       "      <td>NaN</td>\n",
       "      <td>Санкт-Петербург</td>\n",
       "      <td>31856.0</td>\n",
       "      <td>8098.0</td>\n",
       "      <td>2.0</td>\n",
       "      <td>112.0</td>\n",
       "      <td>1.0</td>\n",
       "      <td>48.0</td>\n",
       "      <td>121.0</td>\n",
       "    </tr>\n",
       "  </tbody>\n",
       "</table>\n",
       "<p>5 rows × 22 columns</p>\n",
       "</div>"
      ],
      "text/plain": [
       "   total_images  last_price  total_area first_day_exposition  rooms  \\\n",
       "0            20  13000000.0       108.0  2019-03-07T00:00:00      3   \n",
       "1             7   3350000.0        40.4  2018-12-04T00:00:00      1   \n",
       "2            10   5196000.0        56.0  2015-08-20T00:00:00      2   \n",
       "3             0  64900000.0       159.0  2015-07-24T00:00:00      3   \n",
       "4             2  10000000.0       100.0  2018-06-19T00:00:00      2   \n",
       "\n",
       "   ceiling_height  floors_total  living_area  floor is_apartment  ...  \\\n",
       "0            2.70          16.0         51.0      8          NaN  ...   \n",
       "1             NaN          11.0         18.6      1          NaN  ...   \n",
       "2             NaN           5.0         34.3      4          NaN  ...   \n",
       "3             NaN          14.0          NaN      9          NaN  ...   \n",
       "4            3.03          14.0         32.0     13          NaN  ...   \n",
       "\n",
       "   kitchen_area  balcony    locality_name  airports_nearest  \\\n",
       "0          25.0      NaN  Санкт-Петербург           18863.0   \n",
       "1          11.0      2.0   посёлок Шушары           12817.0   \n",
       "2           8.3      0.0  Санкт-Петербург           21741.0   \n",
       "3           NaN      0.0  Санкт-Петербург           28098.0   \n",
       "4          41.0      NaN  Санкт-Петербург           31856.0   \n",
       "\n",
       "  cityCenters_nearest  parks_around3000  parks_nearest  ponds_around3000  \\\n",
       "0             16028.0               1.0          482.0               2.0   \n",
       "1             18603.0               0.0            NaN               0.0   \n",
       "2             13933.0               1.0           90.0               2.0   \n",
       "3              6800.0               2.0           84.0               3.0   \n",
       "4              8098.0               2.0          112.0               1.0   \n",
       "\n",
       "   ponds_nearest  days_exposition  \n",
       "0          755.0              NaN  \n",
       "1            NaN             81.0  \n",
       "2          574.0            558.0  \n",
       "3          234.0            424.0  \n",
       "4           48.0            121.0  \n",
       "\n",
       "[5 rows x 22 columns]"
      ]
     },
     "metadata": {},
     "output_type": "display_data"
    },
    {
     "name": "stdout",
     "output_type": "stream",
     "text": [
      "Произвольные 5 строк полученного массива данных:\n"
     ]
    },
    {
     "data": {
      "text/html": [
       "<div>\n",
       "<style scoped>\n",
       "    .dataframe tbody tr th:only-of-type {\n",
       "        vertical-align: middle;\n",
       "    }\n",
       "\n",
       "    .dataframe tbody tr th {\n",
       "        vertical-align: top;\n",
       "    }\n",
       "\n",
       "    .dataframe thead th {\n",
       "        text-align: right;\n",
       "    }\n",
       "</style>\n",
       "<table border=\"1\" class=\"dataframe\">\n",
       "  <thead>\n",
       "    <tr style=\"text-align: right;\">\n",
       "      <th></th>\n",
       "      <th>total_images</th>\n",
       "      <th>last_price</th>\n",
       "      <th>total_area</th>\n",
       "      <th>first_day_exposition</th>\n",
       "      <th>rooms</th>\n",
       "      <th>ceiling_height</th>\n",
       "      <th>floors_total</th>\n",
       "      <th>living_area</th>\n",
       "      <th>floor</th>\n",
       "      <th>is_apartment</th>\n",
       "      <th>...</th>\n",
       "      <th>kitchen_area</th>\n",
       "      <th>balcony</th>\n",
       "      <th>locality_name</th>\n",
       "      <th>airports_nearest</th>\n",
       "      <th>cityCenters_nearest</th>\n",
       "      <th>parks_around3000</th>\n",
       "      <th>parks_nearest</th>\n",
       "      <th>ponds_around3000</th>\n",
       "      <th>ponds_nearest</th>\n",
       "      <th>days_exposition</th>\n",
       "    </tr>\n",
       "  </thead>\n",
       "  <tbody>\n",
       "    <tr>\n",
       "      <td>22564</td>\n",
       "      <td>6</td>\n",
       "      <td>4100000.0</td>\n",
       "      <td>55.0</td>\n",
       "      <td>2016-03-15T00:00:00</td>\n",
       "      <td>2</td>\n",
       "      <td>NaN</td>\n",
       "      <td>12.0</td>\n",
       "      <td>32.0</td>\n",
       "      <td>1</td>\n",
       "      <td>NaN</td>\n",
       "      <td>...</td>\n",
       "      <td>NaN</td>\n",
       "      <td>0.0</td>\n",
       "      <td>Санкт-Петербург</td>\n",
       "      <td>15760.0</td>\n",
       "      <td>15976.0</td>\n",
       "      <td>1.0</td>\n",
       "      <td>719.0</td>\n",
       "      <td>0.0</td>\n",
       "      <td>NaN</td>\n",
       "      <td>183.0</td>\n",
       "    </tr>\n",
       "    <tr>\n",
       "      <td>16617</td>\n",
       "      <td>12</td>\n",
       "      <td>6800000.0</td>\n",
       "      <td>69.0</td>\n",
       "      <td>2018-11-08T00:00:00</td>\n",
       "      <td>2</td>\n",
       "      <td>2.9</td>\n",
       "      <td>5.0</td>\n",
       "      <td>42.0</td>\n",
       "      <td>2</td>\n",
       "      <td>NaN</td>\n",
       "      <td>...</td>\n",
       "      <td>13.0</td>\n",
       "      <td>NaN</td>\n",
       "      <td>Санкт-Петербург</td>\n",
       "      <td>31276.0</td>\n",
       "      <td>5131.0</td>\n",
       "      <td>2.0</td>\n",
       "      <td>172.0</td>\n",
       "      <td>2.0</td>\n",
       "      <td>482.0</td>\n",
       "      <td>107.0</td>\n",
       "    </tr>\n",
       "    <tr>\n",
       "      <td>11628</td>\n",
       "      <td>0</td>\n",
       "      <td>6400000.0</td>\n",
       "      <td>60.4</td>\n",
       "      <td>2016-02-19T00:00:00</td>\n",
       "      <td>2</td>\n",
       "      <td>NaN</td>\n",
       "      <td>5.0</td>\n",
       "      <td>38.6</td>\n",
       "      <td>5</td>\n",
       "      <td>NaN</td>\n",
       "      <td>...</td>\n",
       "      <td>8.0</td>\n",
       "      <td>0.0</td>\n",
       "      <td>Санкт-Петербург</td>\n",
       "      <td>38415.0</td>\n",
       "      <td>7675.0</td>\n",
       "      <td>1.0</td>\n",
       "      <td>568.0</td>\n",
       "      <td>1.0</td>\n",
       "      <td>154.0</td>\n",
       "      <td>188.0</td>\n",
       "    </tr>\n",
       "    <tr>\n",
       "      <td>1984</td>\n",
       "      <td>1</td>\n",
       "      <td>6250000.0</td>\n",
       "      <td>61.0</td>\n",
       "      <td>2016-06-17T00:00:00</td>\n",
       "      <td>3</td>\n",
       "      <td>NaN</td>\n",
       "      <td>9.0</td>\n",
       "      <td>44.0</td>\n",
       "      <td>5</td>\n",
       "      <td>NaN</td>\n",
       "      <td>...</td>\n",
       "      <td>6.3</td>\n",
       "      <td>0.0</td>\n",
       "      <td>Санкт-Петербург</td>\n",
       "      <td>48175.0</td>\n",
       "      <td>16156.0</td>\n",
       "      <td>0.0</td>\n",
       "      <td>NaN</td>\n",
       "      <td>0.0</td>\n",
       "      <td>NaN</td>\n",
       "      <td>60.0</td>\n",
       "    </tr>\n",
       "    <tr>\n",
       "      <td>18017</td>\n",
       "      <td>0</td>\n",
       "      <td>1700000.0</td>\n",
       "      <td>43.7</td>\n",
       "      <td>2017-09-04T00:00:00</td>\n",
       "      <td>2</td>\n",
       "      <td>2.6</td>\n",
       "      <td>5.0</td>\n",
       "      <td>31.1</td>\n",
       "      <td>1</td>\n",
       "      <td>NaN</td>\n",
       "      <td>...</td>\n",
       "      <td>5.3</td>\n",
       "      <td>0.0</td>\n",
       "      <td>поселок Мичуринское</td>\n",
       "      <td>NaN</td>\n",
       "      <td>NaN</td>\n",
       "      <td>NaN</td>\n",
       "      <td>NaN</td>\n",
       "      <td>NaN</td>\n",
       "      <td>NaN</td>\n",
       "      <td>45.0</td>\n",
       "    </tr>\n",
       "  </tbody>\n",
       "</table>\n",
       "<p>5 rows × 22 columns</p>\n",
       "</div>"
      ],
      "text/plain": [
       "       total_images  last_price  total_area first_day_exposition  rooms  \\\n",
       "22564             6   4100000.0        55.0  2016-03-15T00:00:00      2   \n",
       "16617            12   6800000.0        69.0  2018-11-08T00:00:00      2   \n",
       "11628             0   6400000.0        60.4  2016-02-19T00:00:00      2   \n",
       "1984              1   6250000.0        61.0  2016-06-17T00:00:00      3   \n",
       "18017             0   1700000.0        43.7  2017-09-04T00:00:00      2   \n",
       "\n",
       "       ceiling_height  floors_total  living_area  floor is_apartment  ...  \\\n",
       "22564             NaN          12.0         32.0      1          NaN  ...   \n",
       "16617             2.9           5.0         42.0      2          NaN  ...   \n",
       "11628             NaN           5.0         38.6      5          NaN  ...   \n",
       "1984              NaN           9.0         44.0      5          NaN  ...   \n",
       "18017             2.6           5.0         31.1      1          NaN  ...   \n",
       "\n",
       "       kitchen_area  balcony        locality_name  airports_nearest  \\\n",
       "22564           NaN      0.0      Санкт-Петербург           15760.0   \n",
       "16617          13.0      NaN      Санкт-Петербург           31276.0   \n",
       "11628           8.0      0.0      Санкт-Петербург           38415.0   \n",
       "1984            6.3      0.0      Санкт-Петербург           48175.0   \n",
       "18017           5.3      0.0  поселок Мичуринское               NaN   \n",
       "\n",
       "      cityCenters_nearest  parks_around3000  parks_nearest  ponds_around3000  \\\n",
       "22564             15976.0               1.0          719.0               0.0   \n",
       "16617              5131.0               2.0          172.0               2.0   \n",
       "11628              7675.0               1.0          568.0               1.0   \n",
       "1984              16156.0               0.0            NaN               0.0   \n",
       "18017                 NaN               NaN            NaN               NaN   \n",
       "\n",
       "       ponds_nearest  days_exposition  \n",
       "22564            NaN            183.0  \n",
       "16617          482.0            107.0  \n",
       "11628          154.0            188.0  \n",
       "1984             NaN             60.0  \n",
       "18017            NaN             45.0  \n",
       "\n",
       "[5 rows x 22 columns]"
      ]
     },
     "metadata": {},
     "output_type": "display_data"
    },
    {
     "name": "stdout",
     "output_type": "stream",
     "text": [
      "Последние 5 строк полученного массива данных:\n"
     ]
    },
    {
     "data": {
      "text/html": [
       "<div>\n",
       "<style scoped>\n",
       "    .dataframe tbody tr th:only-of-type {\n",
       "        vertical-align: middle;\n",
       "    }\n",
       "\n",
       "    .dataframe tbody tr th {\n",
       "        vertical-align: top;\n",
       "    }\n",
       "\n",
       "    .dataframe thead th {\n",
       "        text-align: right;\n",
       "    }\n",
       "</style>\n",
       "<table border=\"1\" class=\"dataframe\">\n",
       "  <thead>\n",
       "    <tr style=\"text-align: right;\">\n",
       "      <th></th>\n",
       "      <th>total_images</th>\n",
       "      <th>last_price</th>\n",
       "      <th>total_area</th>\n",
       "      <th>first_day_exposition</th>\n",
       "      <th>rooms</th>\n",
       "      <th>ceiling_height</th>\n",
       "      <th>floors_total</th>\n",
       "      <th>living_area</th>\n",
       "      <th>floor</th>\n",
       "      <th>is_apartment</th>\n",
       "      <th>...</th>\n",
       "      <th>kitchen_area</th>\n",
       "      <th>balcony</th>\n",
       "      <th>locality_name</th>\n",
       "      <th>airports_nearest</th>\n",
       "      <th>cityCenters_nearest</th>\n",
       "      <th>parks_around3000</th>\n",
       "      <th>parks_nearest</th>\n",
       "      <th>ponds_around3000</th>\n",
       "      <th>ponds_nearest</th>\n",
       "      <th>days_exposition</th>\n",
       "    </tr>\n",
       "  </thead>\n",
       "  <tbody>\n",
       "    <tr>\n",
       "      <td>23694</td>\n",
       "      <td>9</td>\n",
       "      <td>9700000.0</td>\n",
       "      <td>133.81</td>\n",
       "      <td>2017-03-21T00:00:00</td>\n",
       "      <td>3</td>\n",
       "      <td>3.7</td>\n",
       "      <td>5.0</td>\n",
       "      <td>73.3</td>\n",
       "      <td>3</td>\n",
       "      <td>NaN</td>\n",
       "      <td>...</td>\n",
       "      <td>13.83</td>\n",
       "      <td>NaN</td>\n",
       "      <td>Санкт-Петербург</td>\n",
       "      <td>24665.0</td>\n",
       "      <td>4232.0</td>\n",
       "      <td>1.0</td>\n",
       "      <td>796.0</td>\n",
       "      <td>3.0</td>\n",
       "      <td>381.0</td>\n",
       "      <td>NaN</td>\n",
       "    </tr>\n",
       "    <tr>\n",
       "      <td>23695</td>\n",
       "      <td>14</td>\n",
       "      <td>3100000.0</td>\n",
       "      <td>59.00</td>\n",
       "      <td>2018-01-15T00:00:00</td>\n",
       "      <td>3</td>\n",
       "      <td>NaN</td>\n",
       "      <td>5.0</td>\n",
       "      <td>38.0</td>\n",
       "      <td>4</td>\n",
       "      <td>NaN</td>\n",
       "      <td>...</td>\n",
       "      <td>8.50</td>\n",
       "      <td>NaN</td>\n",
       "      <td>Тосно</td>\n",
       "      <td>NaN</td>\n",
       "      <td>NaN</td>\n",
       "      <td>NaN</td>\n",
       "      <td>NaN</td>\n",
       "      <td>NaN</td>\n",
       "      <td>NaN</td>\n",
       "      <td>45.0</td>\n",
       "    </tr>\n",
       "    <tr>\n",
       "      <td>23696</td>\n",
       "      <td>18</td>\n",
       "      <td>2500000.0</td>\n",
       "      <td>56.70</td>\n",
       "      <td>2018-02-11T00:00:00</td>\n",
       "      <td>2</td>\n",
       "      <td>NaN</td>\n",
       "      <td>3.0</td>\n",
       "      <td>29.7</td>\n",
       "      <td>1</td>\n",
       "      <td>NaN</td>\n",
       "      <td>...</td>\n",
       "      <td>NaN</td>\n",
       "      <td>NaN</td>\n",
       "      <td>село Рождествено</td>\n",
       "      <td>NaN</td>\n",
       "      <td>NaN</td>\n",
       "      <td>NaN</td>\n",
       "      <td>NaN</td>\n",
       "      <td>NaN</td>\n",
       "      <td>NaN</td>\n",
       "      <td>NaN</td>\n",
       "    </tr>\n",
       "    <tr>\n",
       "      <td>23697</td>\n",
       "      <td>13</td>\n",
       "      <td>11475000.0</td>\n",
       "      <td>76.75</td>\n",
       "      <td>2017-03-28T00:00:00</td>\n",
       "      <td>2</td>\n",
       "      <td>3.0</td>\n",
       "      <td>17.0</td>\n",
       "      <td>NaN</td>\n",
       "      <td>12</td>\n",
       "      <td>NaN</td>\n",
       "      <td>...</td>\n",
       "      <td>23.30</td>\n",
       "      <td>2.0</td>\n",
       "      <td>Санкт-Петербург</td>\n",
       "      <td>39140.0</td>\n",
       "      <td>10364.0</td>\n",
       "      <td>2.0</td>\n",
       "      <td>173.0</td>\n",
       "      <td>3.0</td>\n",
       "      <td>196.0</td>\n",
       "      <td>602.0</td>\n",
       "    </tr>\n",
       "    <tr>\n",
       "      <td>23698</td>\n",
       "      <td>4</td>\n",
       "      <td>1350000.0</td>\n",
       "      <td>32.30</td>\n",
       "      <td>2017-07-21T00:00:00</td>\n",
       "      <td>1</td>\n",
       "      <td>2.5</td>\n",
       "      <td>5.0</td>\n",
       "      <td>12.3</td>\n",
       "      <td>1</td>\n",
       "      <td>NaN</td>\n",
       "      <td>...</td>\n",
       "      <td>9.00</td>\n",
       "      <td>NaN</td>\n",
       "      <td>поселок Новый Учхоз</td>\n",
       "      <td>NaN</td>\n",
       "      <td>NaN</td>\n",
       "      <td>NaN</td>\n",
       "      <td>NaN</td>\n",
       "      <td>NaN</td>\n",
       "      <td>NaN</td>\n",
       "      <td>NaN</td>\n",
       "    </tr>\n",
       "  </tbody>\n",
       "</table>\n",
       "<p>5 rows × 22 columns</p>\n",
       "</div>"
      ],
      "text/plain": [
       "       total_images  last_price  total_area first_day_exposition  rooms  \\\n",
       "23694             9   9700000.0      133.81  2017-03-21T00:00:00      3   \n",
       "23695            14   3100000.0       59.00  2018-01-15T00:00:00      3   \n",
       "23696            18   2500000.0       56.70  2018-02-11T00:00:00      2   \n",
       "23697            13  11475000.0       76.75  2017-03-28T00:00:00      2   \n",
       "23698             4   1350000.0       32.30  2017-07-21T00:00:00      1   \n",
       "\n",
       "       ceiling_height  floors_total  living_area  floor is_apartment  ...  \\\n",
       "23694             3.7           5.0         73.3      3          NaN  ...   \n",
       "23695             NaN           5.0         38.0      4          NaN  ...   \n",
       "23696             NaN           3.0         29.7      1          NaN  ...   \n",
       "23697             3.0          17.0          NaN     12          NaN  ...   \n",
       "23698             2.5           5.0         12.3      1          NaN  ...   \n",
       "\n",
       "       kitchen_area  balcony        locality_name  airports_nearest  \\\n",
       "23694         13.83      NaN      Санкт-Петербург           24665.0   \n",
       "23695          8.50      NaN                Тосно               NaN   \n",
       "23696           NaN      NaN     село Рождествено               NaN   \n",
       "23697         23.30      2.0      Санкт-Петербург           39140.0   \n",
       "23698          9.00      NaN  поселок Новый Учхоз               NaN   \n",
       "\n",
       "      cityCenters_nearest  parks_around3000  parks_nearest  ponds_around3000  \\\n",
       "23694              4232.0               1.0          796.0               3.0   \n",
       "23695                 NaN               NaN            NaN               NaN   \n",
       "23696                 NaN               NaN            NaN               NaN   \n",
       "23697             10364.0               2.0          173.0               3.0   \n",
       "23698                 NaN               NaN            NaN               NaN   \n",
       "\n",
       "       ponds_nearest  days_exposition  \n",
       "23694          381.0              NaN  \n",
       "23695            NaN             45.0  \n",
       "23696            NaN              NaN  \n",
       "23697          196.0            602.0  \n",
       "23698            NaN              NaN  \n",
       "\n",
       "[5 rows x 22 columns]"
      ]
     },
     "metadata": {},
     "output_type": "display_data"
    }
   ],
   "source": [
    "print('Первые 5 строк полученного массива данных:')\n",
    "display(apartments.head())\n",
    "\n",
    "print('Произвольные 5 строк полученного массива данных:')\n",
    "display(apartments.sample(n=5, random_state=10))\n",
    "\n",
    "print('Последние 5 строк полученного массива данных:')\n",
    "display(apartments.tail())"
   ]
  },
  {
   "cell_type": "code",
   "execution_count": 123,
   "metadata": {
    "scrolled": false
   },
   "outputs": [
    {
     "name": "stdout",
     "output_type": "stream",
     "text": [
      "<class 'pandas.core.frame.DataFrame'>\n",
      "RangeIndex: 23699 entries, 0 to 23698\n",
      "Data columns (total 22 columns):\n",
      "total_images            23699 non-null int64\n",
      "last_price              23699 non-null float64\n",
      "total_area              23699 non-null float64\n",
      "first_day_exposition    23699 non-null object\n",
      "rooms                   23699 non-null int64\n",
      "ceiling_height          14504 non-null float64\n",
      "floors_total            23613 non-null float64\n",
      "living_area             21796 non-null float64\n",
      "floor                   23699 non-null int64\n",
      "is_apartment            2775 non-null object\n",
      "studio                  23699 non-null bool\n",
      "open_plan               23699 non-null bool\n",
      "kitchen_area            21421 non-null float64\n",
      "balcony                 12180 non-null float64\n",
      "locality_name           23650 non-null object\n",
      "airports_nearest        18157 non-null float64\n",
      "cityCenters_nearest     18180 non-null float64\n",
      "parks_around3000        18181 non-null float64\n",
      "parks_nearest           8079 non-null float64\n",
      "ponds_around3000        18181 non-null float64\n",
      "ponds_nearest           9110 non-null float64\n",
      "days_exposition         20518 non-null float64\n",
      "dtypes: bool(2), float64(14), int64(3), object(3)\n",
      "memory usage: 3.7+ MB\n"
     ]
    }
   ],
   "source": [
    "apartments.info()"
   ]
  },
  {
   "cell_type": "markdown",
   "metadata": {},
   "source": [
    "### Вывод"
   ]
  },
  {
   "cell_type": "markdown",
   "metadata": {},
   "source": [
    "В полученном массиве данных собрана информация о 23699 объявлениях. При этом пропущенные значения отсутствуют лишь в восьми категориях: \n",
    "* Число фотографий\n",
    "* Цена на момент снятия с публикации\n",
    "* Площадь квартиры\n",
    "* Дата публикации\n",
    "* Число комнат\n",
    "* Этаж\n",
    "* Квартира-студия\n",
    "* Свободная планировка\n",
    "\n",
    "Возможно, это связано с тем, что при публикации объявления ввод этих данных был обязателен, а количество фотографий, цена и дата публикации вносились автоматически.\n",
    "\n",
    "Так же были обнаружены неправильные форматы данных в следующих колонках:\n",
    "* `first_day_exposition`- дата публикации, следовательно, правильный тип данных - `datetime`\n",
    "* `floors_total`, `balcony` - количество этажей и балконов не может быть нецелым числом, правильный тип данных - `int`\n",
    "* `is_apartment` - указывает на принадлежность к апартаментам, правильный тип данных - `bool`\n",
    "* `parks_around3000`, `ponds_around3000`, `days_exposition` - так же указывают на количество парков / водоёмов / дней, правильный тип данных - `int`"
   ]
  },
  {
   "cell_type": "markdown",
   "metadata": {},
   "source": [
    "<div class=\"alert alert-success\" style=\"border-radius: 15px; box-shadow: 4px 4px 4px; border: 1px solid \">\n",
    "<b> Комментарий ревьюера</b>\n",
    "    \n",
    "Хорошая вводная часть.</div>"
   ]
  },
  {
   "cell_type": "markdown",
   "metadata": {},
   "source": [
    "## Предобработка данных"
   ]
  },
  {
   "cell_type": "code",
   "execution_count": 124,
   "metadata": {
    "scrolled": false
   },
   "outputs": [
    {
     "data": {
      "text/plain": [
       "['total_images',\n",
       " 'last_price',\n",
       " 'total_area',\n",
       " 'first_day_exposition',\n",
       " 'rooms',\n",
       " 'ceiling_height',\n",
       " 'floors_total',\n",
       " 'living_area',\n",
       " 'floor',\n",
       " 'is_apartment',\n",
       " 'studio',\n",
       " 'open_plan',\n",
       " 'kitchen_area',\n",
       " 'balcony',\n",
       " 'locality_name',\n",
       " 'airports_nearest',\n",
       " 'cityCenters_nearest',\n",
       " 'parks_around3000',\n",
       " 'parks_nearest',\n",
       " 'ponds_around3000',\n",
       " 'ponds_nearest',\n",
       " 'days_exposition']"
      ]
     },
     "execution_count": 124,
     "metadata": {},
     "output_type": "execute_result"
    }
   ],
   "source": [
    "apartments.columns.to_list()"
   ]
  },
  {
   "cell_type": "code",
   "execution_count": 125,
   "metadata": {
    "scrolled": false
   },
   "outputs": [
    {
     "name": "stdout",
     "output_type": "stream",
     "text": [
      "Изначально полученные значения колонки с датой публикации: \n",
      "2018-02-01T00:00:00    368\n",
      "2017-11-10T00:00:00    240\n",
      "2017-10-13T00:00:00    124\n",
      "2017-09-27T00:00:00    111\n",
      "2018-03-26T00:00:00     97\n",
      "                      ... \n",
      "2016-07-22T00:00:00      1\n",
      "2015-03-27T00:00:00      1\n",
      "2015-01-11T00:00:00      1\n",
      "2015-02-14T00:00:00      1\n",
      "2015-03-05T00:00:00      1\n",
      "Name: first_day_exposition, Length: 1491, dtype: int64\n"
     ]
    }
   ],
   "source": [
    "# Просмотрим содержимое колонки с датой публикации.\n",
    "print('Изначально полученные значения колонки с датой публикации: \\n',\n",
    "      apartments['first_day_exposition'].value_counts(), sep='')\n",
    "\n",
    "# Изменим тип данных в first_day_exposition. \n",
    "apartments['first_day_exposition'] = pd.to_datetime(\n",
    "    apartments['first_day_exposition'], format='%Y-%m-%d'\n",
    ")"
   ]
  },
  {
   "cell_type": "code",
   "execution_count": 126,
   "metadata": {
    "scrolled": false
   },
   "outputs": [
    {
     "name": "stdout",
     "output_type": "stream",
     "text": [
      "Изначально полученные значения колонки с количеством этажей в доме: \n",
      "5.0     5788\n",
      "9.0     3761\n",
      "16.0    1376\n",
      "12.0    1362\n",
      "4.0     1200\n",
      "10.0    1174\n",
      "25.0    1075\n",
      "6.0      914\n",
      "17.0     833\n",
      "3.0      668\n",
      "7.0      592\n",
      "14.0     553\n",
      "18.0     505\n",
      "24.0     469\n",
      "8.0      390\n",
      "2.0      383\n",
      "15.0     365\n",
      "23.0     352\n",
      "19.0     339\n",
      "22.0     286\n",
      "20.0     271\n",
      "13.0     229\n",
      "11.0     203\n",
      "27.0     164\n",
      "21.0     158\n",
      "26.0     124\n",
      "NaN       86\n",
      "1.0       25\n",
      "35.0      24\n",
      "28.0      21\n",
      "36.0       3\n",
      "29.0       1\n",
      "60.0       1\n",
      "33.0       1\n",
      "52.0       1\n",
      "37.0       1\n",
      "34.0       1\n",
      "Name: floors_total, dtype: int64\n"
     ]
    }
   ],
   "source": [
    "# Просмотрим содержимое колонки с количеством этажей в доме.\n",
    "print('Изначально полученные значения колонки с количеством этажей в доме: \\n',\n",
    "      apartments['floors_total'].value_counts(dropna=False), sep='')\n",
    "\n",
    "# Заменим пропущенные значения.\n",
    "apartments['floors_total'].fillna(0, inplace=True)\n",
    "\n",
    "# Преобразуем тип данных.\n",
    "apartments['floors_total'] = apartments['floors_total'].astype('uint8')"
   ]
  },
  {
   "cell_type": "code",
   "execution_count": 127,
   "metadata": {
    "scrolled": false
   },
   "outputs": [
    {
     "name": "stdout",
     "output_type": "stream",
     "text": [
      "Изначально полученные значения колонки с количеством балконов: \n",
      "NaN    11519\n",
      "1.0     4195\n",
      "0.0     3758\n",
      "2.0     3659\n",
      "5.0      304\n",
      "4.0      183\n",
      "3.0       81\n",
      "Name: balcony, dtype: int64\n"
     ]
    }
   ],
   "source": [
    "# Просмотрим содержимое колонки с количеством балконов.\n",
    "print('Изначально полученные значения колонки с количеством балконов: \\n',\n",
    "      apartments['balcony'].value_counts(dropna=False), sep='')\n",
    "\n",
    "# Заменим NaN на 0.\n",
    "apartments['balcony'].fillna(0, inplace=True)\n",
    "\n",
    "# Преобразуем тип данных.\n",
    "apartments['balcony'] = apartments['balcony'].astype('uint8')"
   ]
  },
  {
   "cell_type": "code",
   "execution_count": 128,
   "metadata": {},
   "outputs": [],
   "source": [
    "# Заменим пропущенные значения в is_apartment на False.\n",
    "apartments['is_apartment'] = apartments['is_apartment'].fillna(False)"
   ]
  },
  {
   "cell_type": "code",
   "execution_count": 129,
   "metadata": {
    "scrolled": true
   },
   "outputs": [
    {
     "name": "stdout",
     "output_type": "stream",
     "text": [
      "Изначально полученные значения колонки с количеством парков в радиусе 3 км: \n",
      "0.0    10106\n",
      "1.0     5681\n",
      "NaN     5518\n",
      "2.0     1747\n",
      "3.0      647\n",
      "Name: parks_around3000, dtype: int64\n"
     ]
    }
   ],
   "source": [
    "# Просмотрим содержимое колонки с количеством парков в радиусе 3 км.\n",
    "print('Изначально полученные значения колонки с количеством парков в радиусе 3 км: \\n',\n",
    "      apartments['parks_around3000'].value_counts(dropna=False), sep='')\n",
    "\n",
    "# Заменим NaN на 0.\n",
    "apartments['parks_around3000'].fillna(0, inplace=True)\n",
    "\n",
    "# Преобразуем тип данных.\n",
    "apartments['parks_around3000'] = apartments['parks_around3000'].astype('uint8')"
   ]
  },
  {
   "cell_type": "code",
   "execution_count": 130,
   "metadata": {
    "scrolled": true
   },
   "outputs": [
    {
     "name": "stdout",
     "output_type": "stream",
     "text": [
      "Изначально полученные значения колонки с количеством водоёмов в радиусе 3 км: \n",
      "0.0    9071\n",
      "1.0    5717\n",
      "NaN    5518\n",
      "2.0    1892\n",
      "3.0    1501\n",
      "Name: ponds_around3000, dtype: int64\n"
     ]
    }
   ],
   "source": [
    "# Просмотрим содержимое колонки с количеством водоёмов в радиусе 3 км.\n",
    "print('Изначально полученные значения колонки с количеством водоёмов в радиусе 3 км: \\n',\n",
    "      apartments['ponds_around3000'].value_counts(dropna=False), sep='')\n",
    "\n",
    "# Заменим NaN на 0.\n",
    "apartments['ponds_around3000'].fillna(0, inplace=True)\n",
    "\n",
    "# Преобразуем тип данных.\n",
    "apartments['ponds_around3000'] = apartments['ponds_around3000'].astype('uint8')"
   ]
  },
  {
   "cell_type": "code",
   "execution_count": 131,
   "metadata": {
    "scrolled": false
   },
   "outputs": [
    {
     "name": "stdout",
     "output_type": "stream",
     "text": [
      "Изначально полученные значения колонки с количеством дней, в которые было размещено объявление: \n",
      "NaN       3181\n",
      "45.0       880\n",
      "60.0       538\n",
      "7.0        234\n",
      "30.0       208\n",
      "          ... \n",
      "1355.0       1\n",
      "873.0        1\n",
      "730.0        1\n",
      "976.0        1\n",
      "773.0        1\n",
      "Name: days_exposition, Length: 1142, dtype: int64\n"
     ]
    }
   ],
   "source": [
    "# Просмотрим содержимое колонки с количеством дней.\n",
    "print('Изначально полученные значения колонки с количеством дней, в которые было размещено объявление: \\n',\n",
    "      apartments['days_exposition'].value_counts(dropna=False), sep='')\n",
    "\n",
    "# Заменим NaN на 0.\n",
    "apartments['days_exposition'].fillna(0, inplace=True)\n",
    "\n",
    "# Преобразуем тип данных.\n",
    "apartments['days_exposition'] = apartments['days_exposition'].astype('uint16')"
   ]
  },
  {
   "cell_type": "code",
   "execution_count": 132,
   "metadata": {},
   "outputs": [],
   "source": [
    "# Удалим пропуски в колонке с высотой потолков.\n",
    "apartments['ceiling_height'].fillna(apartments['ceiling_height'].median(), inplace=True)\n",
    "\n",
    "# Удалим пропуски в населенных пунктах.\n",
    "apartments['locality_name'].fillna(value='', inplace=True)"
   ]
  },
  {
   "cell_type": "code",
   "execution_count": 133,
   "metadata": {
    "scrolled": false
   },
   "outputs": [
    {
     "name": "stdout",
     "output_type": "stream",
     "text": [
      "<class 'pandas.core.frame.DataFrame'>\n",
      "RangeIndex: 23699 entries, 0 to 23698\n",
      "Data columns (total 22 columns):\n",
      "total_images            23699 non-null int64\n",
      "last_price              23699 non-null float64\n",
      "total_area              23699 non-null float64\n",
      "first_day_exposition    23699 non-null datetime64[ns]\n",
      "rooms                   23699 non-null int64\n",
      "ceiling_height          23699 non-null float64\n",
      "floors_total            23699 non-null uint8\n",
      "living_area             21796 non-null float64\n",
      "floor                   23699 non-null int64\n",
      "is_apartment            23699 non-null bool\n",
      "studio                  23699 non-null bool\n",
      "open_plan               23699 non-null bool\n",
      "kitchen_area            21421 non-null float64\n",
      "balcony                 23699 non-null uint8\n",
      "locality_name           23699 non-null object\n",
      "airports_nearest        18157 non-null float64\n",
      "cityCenters_nearest     18180 non-null float64\n",
      "parks_around3000        23699 non-null uint8\n",
      "parks_nearest           8079 non-null float64\n",
      "ponds_around3000        23699 non-null uint8\n",
      "ponds_nearest           9110 non-null float64\n",
      "days_exposition         23699 non-null uint16\n",
      "dtypes: bool(3), datetime64[ns](1), float64(9), int64(3), object(1), uint16(1), uint8(4)\n",
      "memory usage: 2.7+ MB\n"
     ]
    }
   ],
   "source": [
    "apartments.info()"
   ]
  },
  {
   "cell_type": "markdown",
   "metadata": {},
   "source": [
    "<div class=\"alert alert-success\" style=\"border-radius: 15px; box-shadow: 4px 4px 4px;border: 1px solid \">\n",
    "<b> Комментарий ревьюера</b>\n",
    "    \n",
    "- Хорошо, что удаляешь пропуски в населенных пунктах. Мы не можем быть уверены, что эти квартиры принадлежат Лен. области.\n",
    "\n",
    "\n",
    "\n",
    "- Потолки это довольно стандартизированная величина, поэтому можем безболезненно заменить их медианой.\n",
    "\n",
    "\n",
    " </div>"
   ]
  },
  {
   "cell_type": "markdown",
   "metadata": {},
   "source": [
    "## Расчёты и добавление результатов в таблицу"
   ]
  },
  {
   "cell_type": "code",
   "execution_count": 134,
   "metadata": {
    "scrolled": false
   },
   "outputs": [
    {
     "data": {
      "text/plain": [
       "['total_images',\n",
       " 'last_price',\n",
       " 'total_area',\n",
       " 'first_day_exposition',\n",
       " 'rooms',\n",
       " 'ceiling_height',\n",
       " 'floors_total',\n",
       " 'living_area',\n",
       " 'floor',\n",
       " 'is_apartment',\n",
       " 'studio',\n",
       " 'open_plan',\n",
       " 'kitchen_area',\n",
       " 'balcony',\n",
       " 'locality_name',\n",
       " 'airports_nearest',\n",
       " 'cityCenters_nearest',\n",
       " 'parks_around3000',\n",
       " 'parks_nearest',\n",
       " 'ponds_around3000',\n",
       " 'ponds_nearest',\n",
       " 'days_exposition']"
      ]
     },
     "execution_count": 134,
     "metadata": {},
     "output_type": "execute_result"
    }
   ],
   "source": [
    "apartments.columns.to_list()"
   ]
  },
  {
   "cell_type": "code",
   "execution_count": 135,
   "metadata": {},
   "outputs": [],
   "source": [
    "# Посчитаем и добавим в таблицу цену квадратного метра.\n",
    "apartments['area_price'] = (apartments['last_price'] / apartments['total_area']).round(4)\n",
    "\n",
    "# Добавим в таблицу день недели, месяц и год публикации объявления.\n",
    "apartments['exposition_day'] = pd.DatetimeIndex(apartments['first_day_exposition']).weekday\n",
    "apartments['exposition_month'] = pd.DatetimeIndex(apartments['first_day_exposition']).month\n",
    "apartments['exposition_year'] = pd.DatetimeIndex(apartments['first_day_exposition']).year\n",
    "\n",
    "# Добавим в таблицу группу этажа - первый, последний, другой.\n",
    "def floor_category(row):\n",
    "    if row['floor'] == 1:\n",
    "        return 'первый'\n",
    "    if row['floor'] == row['floors_total']:\n",
    "        return 'последний'\n",
    "    return 'другой'\n",
    "\n",
    "apartments['floor_group'] = apartments.apply(floor_category, axis=1)\n",
    "\n",
    "# Добавим в таблицу соотношение жилой и общей площади.\n",
    "apartments['living_total_area_ratio'] = (apartments['living_area'] / apartments['total_area']).round(4)\n",
    "\n",
    "# Добавим в таблицу отношение площади кухни к общей.\n",
    "apartments['kitchen_total_area_ratio'] = (apartments['kitchen_area'] / apartments['total_area']).round(4)"
   ]
  },
  {
   "cell_type": "code",
   "execution_count": 136,
   "metadata": {},
   "outputs": [
    {
     "name": "stdout",
     "output_type": "stream",
     "text": [
      "<class 'pandas.core.frame.DataFrame'>\n",
      "RangeIndex: 23699 entries, 0 to 23698\n",
      "Data columns (total 29 columns):\n",
      "total_images                23699 non-null int64\n",
      "last_price                  23699 non-null float64\n",
      "total_area                  23699 non-null float64\n",
      "first_day_exposition        23699 non-null datetime64[ns]\n",
      "rooms                       23699 non-null int64\n",
      "ceiling_height              23699 non-null float64\n",
      "floors_total                23699 non-null uint8\n",
      "living_area                 21796 non-null float64\n",
      "floor                       23699 non-null int64\n",
      "is_apartment                23699 non-null bool\n",
      "studio                      23699 non-null bool\n",
      "open_plan                   23699 non-null bool\n",
      "kitchen_area                21421 non-null float64\n",
      "balcony                     23699 non-null uint8\n",
      "locality_name               23699 non-null object\n",
      "airports_nearest            18157 non-null float64\n",
      "cityCenters_nearest         18180 non-null float64\n",
      "parks_around3000            23699 non-null uint8\n",
      "parks_nearest               8079 non-null float64\n",
      "ponds_around3000            23699 non-null uint8\n",
      "ponds_nearest               9110 non-null float64\n",
      "days_exposition             23699 non-null uint16\n",
      "area_price                  23699 non-null float64\n",
      "exposition_day              23699 non-null int64\n",
      "exposition_month            23699 non-null int64\n",
      "exposition_year             23699 non-null int64\n",
      "floor_group                 23699 non-null object\n",
      "living_total_area_ratio     21796 non-null float64\n",
      "kitchen_total_area_ratio    21421 non-null float64\n",
      "dtypes: bool(3), datetime64[ns](1), float64(12), int64(6), object(2), uint16(1), uint8(4)\n",
      "memory usage: 4.0+ MB\n"
     ]
    }
   ],
   "source": [
    "apartments.info()"
   ]
  },
  {
   "cell_type": "markdown",
   "metadata": {},
   "source": [
    "## Исследовательский анализ данных"
   ]
  },
  {
   "cell_type": "markdown",
   "metadata": {},
   "source": [
    "### Изучим площадь, цены, число комнат и высоту потолков"
   ]
  },
  {
   "cell_type": "code",
   "execution_count": 137,
   "metadata": {
    "scrolled": false
   },
   "outputs": [
    {
     "data": {
      "image/png": "[encoded data removed]",
      "text/plain": [
       "<Figure size 360x360 with 1 Axes>"
      ]
     },
     "metadata": {
      "needs_background": "light"
     },
     "output_type": "display_data"
    },
    {
     "data": {
      "text/plain": [
       "count    23699.000000\n",
       "mean        60.348651\n",
       "std         35.654083\n",
       "min         12.000000\n",
       "25%         40.000000\n",
       "50%         52.000000\n",
       "75%         69.900000\n",
       "max        900.000000\n",
       "Name: total_area, dtype: float64"
      ]
     },
     "execution_count": 137,
     "metadata": {},
     "output_type": "execute_result"
    }
   ],
   "source": [
    "# Построим гистограмму для площади.\n",
    "apartments.plot(y='total_area', kind='hist', bins=100, grid=True, figsize=(5, 5),\n",
    "                range=(0, 450), title='Общая площадь', legend=False)\n",
    "plt.xlabel('Площадь (кв.м.)')\n",
    "plt.ylabel('Распространенность')\n",
    "plt.show()\n",
    "apartments['total_area'].describe() "
   ]
  },
  {
   "cell_type": "markdown",
   "metadata": {},
   "source": [
    "`Площадь` - данные имеют распределение Пуассона. Встречается площадь от 12 до 900 кв.метров. Среднее значение - 60 кв.метров, а медианное значение - 60 кв.метров.\n",
    "Есть небольшие выбросы, но они не сильно влияют на данные. "
   ]
  },
  {
   "cell_type": "code",
   "execution_count": 138,
   "metadata": {},
   "outputs": [
    {
     "data": {
      "text/plain": [
       "count    2.369900e+04\n",
       "mean     6.541549e+06\n",
       "std      1.088701e+07\n",
       "min      1.219000e+04\n",
       "25%      3.400000e+06\n",
       "50%      4.650000e+06\n",
       "75%      6.800000e+06\n",
       "max      7.630000e+08\n",
       "Name: last_price, dtype: float64"
      ]
     },
     "execution_count": 138,
     "metadata": {},
     "output_type": "execute_result"
    },
    {
     "data": {
      "image/png": "[encoded data removed]",
      "text/plain": [
       "<Figure size 360x360 with 1 Axes>"
      ]
     },
     "metadata": {
      "needs_background": "light"
     },
     "output_type": "display_data"
    }
   ],
   "source": [
    "# Построим гистограмму для цены.\n",
    "apartments.plot(y='last_price', kind='hist', bins=100, grid=True, figsize=(5, 5), \n",
    "                range=(0, 30000000), title='Цена', legend=False)\n",
    "plt.xlabel('Стоимость (руб.)')\n",
    "plt.ylabel('Распространенность')\n",
    "apartments['last_price'].describe()"
   ]
  },
  {
   "cell_type": "markdown",
   "metadata": {},
   "source": [
    "`Цена` - данные имеют распределение Пуассона. Предлагаются квартиры до 7,6 млн. рублей. Средняя цена 6,5 млн., медианная стоимость - 4,65 млн. рублей. Так же есть минимальное значение 12 190 - скорее всего, была допущена опечатка."
   ]
  },
  {
   "cell_type": "code",
   "execution_count": 139,
   "metadata": {},
   "outputs": [
    {
     "data": {
      "text/plain": [
       "1     8047\n",
       "2     7940\n",
       "3     5814\n",
       "4     1180\n",
       "5      326\n",
       "0      197\n",
       "6      105\n",
       "7       59\n",
       "8       12\n",
       "9        8\n",
       "10       3\n",
       "14       2\n",
       "11       2\n",
       "19       1\n",
       "12       1\n",
       "16       1\n",
       "15       1\n",
       "Name: rooms, dtype: int64"
      ]
     },
     "execution_count": 139,
     "metadata": {},
     "output_type": "execute_result"
    },
    {
     "data": {
      "image/png": "[encoded data removed]",
      "text/plain": [
       "<Figure size 360x360 with 1 Axes>"
      ]
     },
     "metadata": {
      "needs_background": "light"
     },
     "output_type": "display_data"
    }
   ],
   "source": [
    "# Построим гистограмму для числа комнат.\n",
    "apartments.plot(y='rooms', kind='hist', bins=30, grid=True, figsize=(5, 5),\n",
    "                range=(0, 10), title='Число комнат', legend=False)\n",
    "plt.xlabel('Кол-во комнат')\n",
    "plt.ylabel('Распространенность')\n",
    "apartments['rooms'].value_counts()"
   ]
  },
  {
   "cell_type": "markdown",
   "metadata": {},
   "source": [
    "`Число комнат` - предлагаются квартиры с 1 до 19-ти комнат. Наиболее часто встречающиеся значения - 1 и 2. Так же есть несколько нулевых значений, причина появления которых не ясна. Возможно, в данной колонке изначально были заменены пропущенные значения нулями."
   ]
  },
  {
   "cell_type": "code",
   "execution_count": 140,
   "metadata": {},
   "outputs": [
    {
     "data": {
      "text/plain": [
       "count    23699.000000\n",
       "mean         2.724358\n",
       "std          0.988298\n",
       "min          1.000000\n",
       "25%          2.600000\n",
       "50%          2.650000\n",
       "75%          2.700000\n",
       "max        100.000000\n",
       "Name: ceiling_height, dtype: float64"
      ]
     },
     "execution_count": 140,
     "metadata": {},
     "output_type": "execute_result"
    },
    {
     "data": {
      "image/png": "[encoded data removed]",
      "text/plain": [
       "<Figure size 360x360 with 1 Axes>"
      ]
     },
     "metadata": {
      "needs_background": "light"
     },
     "output_type": "display_data"
    }
   ],
   "source": [
    "# Построим гистограмму для высоты потолков.\n",
    "apartments.plot(y='ceiling_height', kind='hist', bins=40, grid=True, figsize=(5, 5),\n",
    "                range=(2, 5), title='Высота потолков', legend=False)\n",
    "plt.xlabel('Высота (м.)')\n",
    "plt.ylabel('Распространенность')\n",
    "apartments['ceiling_height'].describe()"
   ]
  },
  {
   "cell_type": "markdown",
   "metadata": {},
   "source": [
    "`Высота потолков` -  больше всего квартир с потолками около 2.5 м. Среднее значение - 2.7 м., медианная высота - 2.65 м.\n",
    "Так же есть невозможные значения - например, высота 1 м. и 100 метров. Такого быть не может, скорее всего, были допущены опечатки."
   ]
  },
  {
   "cell_type": "markdown",
   "metadata": {},
   "source": [
    "### Изучим время продажи квартиры"
   ]
  },
  {
   "cell_type": "code",
   "execution_count": 141,
   "metadata": {},
   "outputs": [
    {
     "name": "stdout",
     "output_type": "stream",
     "text": [
      "Выведем общее описание значений:\n",
      "count    23699.000000\n",
      "mean       156.608844\n",
      "std        213.546873\n",
      "min          0.000000\n",
      "25%         22.000000\n",
      "50%         74.000000\n",
      "75%        199.000000\n",
      "max       1580.000000\n",
      "Name: days_exposition, dtype: float64\n",
      "\n",
      "Выведем наиболее часто встречающиеся значения:\n",
      "0       3181\n",
      "45       880\n",
      "60       538\n",
      "7        234\n",
      "30       208\n",
      "        ... \n",
      "775        1\n",
      "807        1\n",
      "871        1\n",
      "951        1\n",
      "1175       1\n",
      "Name: days_exposition, Length: 1142, dtype: int64\n"
     ]
    },
    {
     "data": {
      "image/png": "[encoded data removed]",
      "text/plain": [
       "<Figure size 360x360 with 1 Axes>"
      ]
     },
     "metadata": {
      "needs_background": "light"
     },
     "output_type": "display_data"
    }
   ],
   "source": [
    "apartments.plot(y='days_exposition', kind='hist', bins=35, grid=True, figsize=(5, 5),\n",
    "               title='Длительность публикации', legend=False)\n",
    "plt.xlabel('Кол-во дней')\n",
    "plt.ylabel('Распространенность')\n",
    "print('Выведем общее описание значений:\\n',\n",
    "      apartments['days_exposition'].describe(), sep='')\n",
    "print('\\nВыведем наиболее часто встречающиеся значения:\\n',\n",
    "      apartments['days_exposition'].value_counts(), sep='')"
   ]
  },
  {
   "cell_type": "markdown",
   "metadata": {},
   "source": [
    "Данные имеют распределение Пуассона. Среднее значение - 156 дней, медианная продолжительность - 74 дня, что более чем в два раза меньше среднего. Можем считать, что продажи проходят слишком быстро, если на них понадобилось меньше 22-х дней, и слишком долго, если продажи занимают больше 199 дней."
   ]
  },
  {
   "cell_type": "markdown",
   "metadata": {},
   "source": [
    "<div class=\"alert alert-success\" style=\"border-radius: 15px; box-shadow: 4px 4px 4px;border: 1px solid \">\n",
    "<b> Комментарий ревьюера</b>\n",
    "    \n",
    "Согласна.</div>"
   ]
  },
  {
   "cell_type": "code",
   "execution_count": 142,
   "metadata": {},
   "outputs": [
    {
     "name": "stdout",
     "output_type": "stream",
     "text": [
      "Выведем общее описание значений:\n",
      "count    11832.000000\n",
      "mean        86.279074\n",
      "std         47.527855\n",
      "min         23.000000\n",
      "25%         45.000000\n",
      "50%         74.000000\n",
      "75%        119.000000\n",
      "max        198.000000\n",
      "Name: days_exposition, dtype: float64\n",
      "\n",
      "Выведем наиболее часто встречающиеся значения:\n",
      "45     880\n",
      "60     538\n",
      "30     208\n",
      "90     204\n",
      "44     138\n",
      "      ... \n",
      "194     25\n",
      "187     24\n",
      "198     23\n",
      "192     22\n",
      "148     16\n",
      "Name: days_exposition, Length: 176, dtype: int64\n"
     ]
    },
    {
     "data": {
      "image/png": "[encoded data removed]",
      "text/plain": [
       "<Figure size 360x360 with 1 Axes>"
      ]
     },
     "metadata": {
      "needs_background": "light"
     },
     "output_type": "display_data"
    }
   ],
   "source": [
    "# Построим гистограмму без учета нулевых значений, а так же значений, \n",
    "# Выходящих за изначальный межквартильный размах.\n",
    "(\n",
    "    apartments[(apartments['days_exposition'] > 22) & (apartments['days_exposition'] < 199)]\n",
    "    .plot(y='days_exposition', kind='hist', bins=35, grid=True, figsize=(5, 5),\n",
    "         title='Длительность объявления', legend=False)\n",
    ")\n",
    "plt.xlabel('Кол-во дней')\n",
    "plt.ylabel('Распространенность')\n",
    "\n",
    "print('Выведем общее описание значений:\\n',\n",
    "      apartments[(apartments['days_exposition'] > 22) & (apartments['days_exposition'] < 199)]['days_exposition']\n",
    "      .describe(), sep='')\n",
    "\n",
    "print('\\nВыведем наиболее часто встречающиеся значения:\\n',\n",
    "      apartments[(apartments['days_exposition'] > 22) & (apartments['days_exposition'] < 199)]['days_exposition']\n",
    "      .value_counts(), sep='')"
   ]
  },
  {
   "cell_type": "markdown",
   "metadata": {},
   "source": [
    "Так как значительное количество выбросов сильно исказит результаты, то создадим отдельный массив данных без учета объявлений, длительность которых была 30, 45, 60, 90 дней."
   ]
  },
  {
   "cell_type": "code",
   "execution_count": 143,
   "metadata": {},
   "outputs": [
    {
     "name": "stdout",
     "output_type": "stream",
     "text": [
      "Выведем общее описание значений:\n",
      "count    10002.000000\n",
      "mean        92.418916\n",
      "std         48.798487\n",
      "min         23.000000\n",
      "25%         50.000000\n",
      "50%         84.000000\n",
      "75%        130.000000\n",
      "max        198.000000\n",
      "Name: days_exposition, dtype: float64\n",
      "\n",
      "Выведем наиболее часто встречающиеся значения:\n",
      "44     138\n",
      "28     126\n",
      "29     122\n",
      "35     120\n",
      "24     116\n",
      "      ... \n",
      "194     25\n",
      "187     24\n",
      "198     23\n",
      "192     22\n",
      "148     16\n",
      "Name: days_exposition, Length: 172, dtype: int64\n"
     ]
    },
    {
     "data": {
      "image/png": "[encoded data removed]",
      "text/plain": [
       "<Figure size 360x360 with 1 Axes>"
      ]
     },
     "metadata": {
      "needs_background": "light"
     },
     "output_type": "display_data"
    }
   ],
   "source": [
    "good_apartments = apartments.query('days_exposition not in [30, 45, 60, 90]')\n",
    "\n",
    "(\n",
    "    good_apartments[(good_apartments['days_exposition'] > 22) & (good_apartments['days_exposition'] < 199)]\n",
    "    .plot(y='days_exposition', kind='hist', bins=35, grid=True, figsize=(5, 5),\n",
    "         title='Длительность объявления', legend=False)\n",
    ")\n",
    "plt.xlabel('Кол-во дней')\n",
    "plt.ylabel('Распространенность')\n",
    "\n",
    "print('Выведем общее описание значений:\\n',\n",
    "      good_apartments[(good_apartments['days_exposition'] > 22) & (good_apartments['days_exposition'] < 199)]['days_exposition']\n",
    "      .describe(), sep='')\n",
    "\n",
    "print('\\nВыведем наиболее часто встречающиеся значения:\\n',\n",
    "      good_apartments[(good_apartments['days_exposition'] > 22) & (good_apartments['days_exposition'] < 199)]['days_exposition']\n",
    "      .value_counts(), sep='')"
   ]
  },
  {
   "cell_type": "markdown",
   "metadata": {},
   "source": [
    "В данных без выбросов видно, что чем дольше длительность объявления - тем выше вероятность того, что его скоро закроют."
   ]
  },
  {
   "cell_type": "markdown",
   "metadata": {},
   "source": [
    "**Вывод**\n",
    "\n",
    "Выбросы обнаружены на 30, 45, 60, 90 днях. Возможно, как только наступало это количество дней, было необходимо продлевать объявление, о чем пользователи могли забыть. Другой вариант, они продали свою недвижимость раньше, и, соответственно, большинство не сняли публикацию, так как им уже не нужно было заходить на сайт."
   ]
  },
  {
   "cell_type": "markdown",
   "metadata": {},
   "source": [
    "### Изучим влияние различных факторов на стоимость квартиры"
   ]
  },
  {
   "cell_type": "code",
   "execution_count": 144,
   "metadata": {
    "scrolled": false
   },
   "outputs": [
    {
     "data": {
      "text/plain": [
       "['total_images',\n",
       " 'last_price',\n",
       " 'total_area',\n",
       " 'first_day_exposition',\n",
       " 'rooms',\n",
       " 'ceiling_height',\n",
       " 'floors_total',\n",
       " 'living_area',\n",
       " 'floor',\n",
       " 'is_apartment',\n",
       " 'studio',\n",
       " 'open_plan',\n",
       " 'kitchen_area',\n",
       " 'balcony',\n",
       " 'locality_name',\n",
       " 'airports_nearest',\n",
       " 'cityCenters_nearest',\n",
       " 'parks_around3000',\n",
       " 'parks_nearest',\n",
       " 'ponds_around3000',\n",
       " 'ponds_nearest',\n",
       " 'days_exposition',\n",
       " 'area_price',\n",
       " 'exposition_day',\n",
       " 'exposition_month',\n",
       " 'exposition_year',\n",
       " 'floor_group',\n",
       " 'living_total_area_ratio',\n",
       " 'kitchen_total_area_ratio']"
      ]
     },
     "execution_count": 144,
     "metadata": {},
     "output_type": "execute_result"
    }
   ],
   "source": [
    "apartments.columns.to_list()"
   ]
  },
  {
   "cell_type": "markdown",
   "metadata": {},
   "source": [
    "#### Изучим зависимость цены от площади."
   ]
  },
  {
   "cell_type": "code",
   "execution_count": 145,
   "metadata": {
    "scrolled": true
   },
   "outputs": [
    {
     "name": "stdout",
     "output_type": "stream",
     "text": [
      "Коэффициент Пирсона: 0.6537\n"
     ]
    },
    {
     "data": {
      "image/png": "[encoded data removed]",
      "text/plain": [
       "<Figure size 432x288 with 1 Axes>"
      ]
     },
     "metadata": {
      "needs_background": "light"
     },
     "output_type": "display_data"
    }
   ],
   "source": [
    "# Изучим зависимость цены от площади.\n",
    "apartments.plot(x='total_area', y='last_price', kind='scatter', grid=True, alpha=0.5,\n",
    "               title='Зависимость цены от площади')\n",
    "plt.xlabel('Площадь (кв.м.)')\n",
    "plt.ylabel('Стоимость (млн.руб.)')\n",
    "print('Коэффициент Пирсона:',\n",
    "      apartments['total_area'].corr(apartments['last_price']).round(4))"
   ]
  },
  {
   "attachments": {},
   "cell_type": "markdown",
   "metadata": {},
   "source": [
    "<div class=\"alert alert-success\" style=\"border-radius: 15px; box-shadow: 4px 4px 4px;border: 1px solid \">\n",
    "<b> Комментарий ревьюера</b>\n",
    "    \n",
    "Коэфф-т корреляции Пирсона это коэфф-т линейной связи. Ее отсутствие не влечет отсутствие связи как таковой, поскольку последняя может быть нелинейной. Молодец, что еще и на графики смотришь. \n",
    "\n",
    "</div>"
   ]
  },
  {
   "cell_type": "markdown",
   "metadata": {},
   "source": [
    "**Вывод** \n",
    "\n",
    "Между площадью и ценой есть средняя положительная связь, на что указывает коэффициент Пирсона - `0.6537`.\n",
    "Получаем, что с увеличением площади растет и цена, однако не очень сильно."
   ]
  },
  {
   "cell_type": "markdown",
   "metadata": {},
   "source": [
    "#### Изучим зависимость цены от числа комнат."
   ]
  },
  {
   "cell_type": "code",
   "execution_count": 146,
   "metadata": {},
   "outputs": [
    {
     "name": "stdout",
     "output_type": "stream",
     "text": [
      "Коэффициент Пирсона: 0.3633\n",
      "        last_price\n",
      "rooms             \n",
      "0        2700000.0\n",
      "1        3600000.0\n",
      "2        4770169.0\n",
      "3        6200000.0\n",
      "4        9000000.0\n",
      "5       14000000.0\n",
      "6       19000000.0\n",
      "7       24900000.0\n",
      "8       23095000.0\n",
      "9       23750000.0\n",
      "10      23000000.0\n",
      "11      25250000.0\n",
      "12     420000000.0\n",
      "14      26829500.0\n",
      "15      65000000.0\n",
      "16      28500000.0\n",
      "19      32250000.0\n"
     ]
    },
    {
     "data": {
      "image/png": "[encoded data removed]",
      "text/plain": [
       "<Figure size 432x288 with 1 Axes>"
      ]
     },
     "metadata": {
      "needs_background": "light"
     },
     "output_type": "display_data"
    }
   ],
   "source": [
    "# Изучим зависимость цены от числа комнат.\n",
    "apartments_rooms = apartments.pivot_table(index='rooms', values='last_price', aggfunc='median',)\n",
    "apartments_rooms.plot(y='last_price', legend=False, title='Зависимость цены от числа комнат')\n",
    "plt.xlabel('Кол-во комнат')\n",
    "plt.ylabel('Стоимость (млн.руб.)')\n",
    "print('Коэффициент Пирсона:',\n",
    "      apartments['last_price'].corr(apartments['rooms']).round(4))\n",
    "print(apartments_rooms)"
   ]
  },
  {
   "cell_type": "markdown",
   "metadata": {},
   "source": [
    "**Вывод**\n",
    "\n",
    "Между количеством комнат и ценой есть слабая линейная связь, на что указывает коэффициент Пирсона - `0.3633`. Получаем, что с увеличением количества комнат постепенно растет и цена. Однако есть выброс на 12-ти комнатных квартирах - цена на них больше почти в 20 раз. Скорее всего, здесь ошиблись нулями."
   ]
  },
  {
   "cell_type": "markdown",
   "metadata": {},
   "source": [
    "#### Изучим зависимость цены от удаленности от центра."
   ]
  },
  {
   "cell_type": "code",
   "execution_count": 147,
   "metadata": {},
   "outputs": [
    {
     "name": "stdout",
     "output_type": "stream",
     "text": [
      "Коэффициент Пирсона: -0.2067\n"
     ]
    },
    {
     "data": {
      "image/png": "[encoded data removed]",
      "text/plain": [
       "<Figure size 432x288 with 1 Axes>"
      ]
     },
     "metadata": {
      "needs_background": "light"
     },
     "output_type": "display_data"
    }
   ],
   "source": [
    "# Изучим зависимость цены от удаленности от центра.\n",
    "apartments.plot(x='cityCenters_nearest', y='last_price', kind='scatter', grid=True, alpha=0.5,\n",
    "               title='Зависимость цены от удаленности от центра', legend=False)\n",
    "plt.xlabel('Расстояние (км.)')\n",
    "plt.ylabel('Стоимость (млн.руб.)')\n",
    "print('Коэффициент Пирсона:',\n",
    "      apartments['cityCenters_nearest'].corr(apartments['last_price']).round(4))"
   ]
  },
  {
   "cell_type": "markdown",
   "metadata": {},
   "source": [
    "**Вывод**\n",
    "\n",
    "Между ценой и удаленностью от центра есть слабая обратная линейная связь, о чем говорит отрицательный коэффициент Пирсона - `-0.2067`. Получаем, что чем меньше удаленность от центра, тем выше стоимость недвижимости."
   ]
  },
  {
   "cell_type": "markdown",
   "metadata": {},
   "source": [
    "#### Изучим зависимость цены от того, на каком этаже расположена квартира."
   ]
  },
  {
   "cell_type": "code",
   "execution_count": 148,
   "metadata": {
    "scrolled": false
   },
   "outputs": [
    {
     "name": "stdout",
     "output_type": "stream",
     "text": [
      "Выведем медианную стоимость в каждой группе этажей:\n",
      "              last_price\n",
      "floor_group            \n",
      "первый        3900000.0\n",
      "последний     4300000.0\n",
      "другой        4850000.0\n"
     ]
    },
    {
     "data": {
      "text/plain": [
       "Text(0, 0.5, 'Стоимость (руб.)')"
      ]
     },
     "execution_count": 148,
     "metadata": {},
     "output_type": "execute_result"
    },
    {
     "data": {
      "image/png": "[encoded data removed]",
      "text/plain": [
       "<Figure size 432x288 with 1 Axes>"
      ]
     },
     "metadata": {
      "needs_background": "light"
     },
     "output_type": "display_data"
    }
   ],
   "source": [
    "# Изучим зависимость цены от того, на каком этаже расположена квартира.\n",
    "apartments_floor = apartments.pivot_table(index='floor_group', values='last_price', aggfunc='median')\n",
    "print('Выведем медианную стоимость в каждой группе этажей:\\n',\n",
    "      apartments_floor.sort_values(by='last_price'))\n",
    "apartments_floor.plot(y='last_price', title='Зависимость цены от этажа', legend=False)\n",
    "plt.xlabel('Этаж')\n",
    "plt.ylabel('Стоимость (руб.)')"
   ]
  },
  {
   "cell_type": "markdown",
   "metadata": {},
   "source": [
    "**Вывод**\n",
    "\n",
    "Из графика видно, что квартиры на первом этаже дешевле, чем на остальных этажах, а квартиры на последнем этаже дешевле, чем на других (исключая первый). Это может быть связано с тем, что неудобства первого этажа проявляются сильнее, чем последнего."
   ]
  },
  {
   "cell_type": "markdown",
   "metadata": {},
   "source": [
    "#### Изучим зависимость цены от дня недели размещения."
   ]
  },
  {
   "cell_type": "code",
   "execution_count": 149,
   "metadata": {},
   "outputs": [
    {
     "name": "stdout",
     "output_type": "stream",
     "text": [
      "                last_price\n",
      "exposition_day            \n",
      "0                4650000.0\n",
      "1                4730000.0\n",
      "2                4700000.0\n",
      "3                4650000.0\n",
      "4                4585000.0\n",
      "5                4555000.0\n",
      "6                4550000.0\n"
     ]
    },
    {
     "data": {
      "text/plain": [
       "Text(0, 0.5, 'Стоимость (руб.)')"
      ]
     },
     "execution_count": 149,
     "metadata": {},
     "output_type": "execute_result"
    },
    {
     "data": {
      "image/png": "[encoded data removed]",
      "text/plain": [
       "<Figure size 432x288 with 1 Axes>"
      ]
     },
     "metadata": {
      "needs_background": "light"
     },
     "output_type": "display_data"
    }
   ],
   "source": [
    "# Изучим зависимость цены от дня недели размещения.\n",
    "apartments_weekday = apartments.pivot_table(index='exposition_day', values='last_price', aggfunc='median')\n",
    "print(apartments_weekday)\n",
    "apartments_weekday.plot(y='last_price', title='Зависимость цены от дня недели', legend=False)\n",
    "plt.xlabel('День недели')\n",
    "plt.ylabel('Стоимость (руб.)')"
   ]
  },
  {
   "cell_type": "markdown",
   "metadata": {},
   "source": [
    "**Вывод**\n",
    "\n",
    "Наиболее высокие цены наблюдаются во вторник и затем снижаются. Самые низкие цены на выходных. Возможно, в будние дни люди наиболее заинтересованы в недвижимости и просматривают/меняют свои объявления в свободное время на работе или после нее, а в выходные все отдыхают и пользователи заняты более интересными делами, чем продажей недвижимости."
   ]
  },
  {
   "cell_type": "markdown",
   "metadata": {},
   "source": [
    "#### Изучим зависимость цены от месяца размещения."
   ]
  },
  {
   "cell_type": "code",
   "execution_count": 150,
   "metadata": {},
   "outputs": [
    {
     "name": "stdout",
     "output_type": "stream",
     "text": [
      "                  last_price\n",
      "exposition_month            \n",
      "1                  4600000.0\n",
      "2                  4650000.0\n",
      "3                  4650000.0\n",
      "4                  4800000.0\n",
      "5                  4515000.0\n",
      "6                  4400000.0\n",
      "7                  4650000.0\n",
      "8                  4570000.0\n",
      "9                  4700000.0\n",
      "10                 4570000.0\n",
      "11                 4700000.0\n",
      "12                 4700000.0\n"
     ]
    },
    {
     "data": {
      "text/plain": [
       "Text(0, 0.5, 'Стоимость (руб.)')"
      ]
     },
     "execution_count": 150,
     "metadata": {},
     "output_type": "execute_result"
    },
    {
     "data": {
      "image/png": "[encoded data removed]",
      "text/plain": [
       "<Figure size 432x288 with 1 Axes>"
      ]
     },
     "metadata": {
      "needs_background": "light"
     },
     "output_type": "display_data"
    }
   ],
   "source": [
    "# Изучим зависимость цены от месяца размещения.\n",
    "apartments_month = apartments.pivot_table(index='exposition_month', values='last_price', aggfunc='median')\n",
    "print(apartments_month)\n",
    "apartments_month.plot(y='last_price', title='Зависимость цены от месяца', legend=False)\n",
    "plt.xlabel('Месяц')\n",
    "plt.ylabel('Стоимость (руб.)')"
   ]
  },
  {
   "cell_type": "markdown",
   "metadata": {},
   "source": [
    "**Вывод**\n",
    "\n",
    "Наиболее высокая стоимость в апреле, возможно причиной этому является то, что весной более удобно переезжать.\n",
    "Наиболее низкие цены в июне, что может быть связано с тем, что люди отправляются в отпуска и временно живут в другом месте, соответственно происходит уменьшение спроса."
   ]
  },
  {
   "cell_type": "markdown",
   "metadata": {},
   "source": [
    "#### Изучим зависимость цены от года размещения."
   ]
  },
  {
   "cell_type": "code",
   "execution_count": 151,
   "metadata": {},
   "outputs": [
    {
     "name": "stdout",
     "output_type": "stream",
     "text": [
      "                 last_price\n",
      "exposition_year            \n",
      "2014              7700000.0\n",
      "2015              5350000.0\n",
      "2016              4550000.0\n",
      "2017              4500000.0\n",
      "2018              4550000.0\n",
      "2019              5050000.0\n"
     ]
    },
    {
     "data": {
      "text/plain": [
       "Text(0, 0.5, 'Стоимость (руб.)')"
      ]
     },
     "execution_count": 151,
     "metadata": {},
     "output_type": "execute_result"
    },
    {
     "data": {
      "image/png": "[encoded data removed]",
      "text/plain": [
       "<Figure size 432x288 with 1 Axes>"
      ]
     },
     "metadata": {
      "needs_background": "light"
     },
     "output_type": "display_data"
    }
   ],
   "source": [
    "# Изучим зависимость цены от года размещения.\n",
    "apartments_year = apartments.pivot_table(index='exposition_year', values='last_price', aggfunc='median')\n",
    "print(apartments_year)\n",
    "apartments_year.plot(y='last_price', title='Зависимость цены от года', legend=False)\n",
    "plt.xlabel('Год')\n",
    "plt.ylabel('Стоимость (руб.)')"
   ]
  },
  {
   "cell_type": "markdown",
   "metadata": {},
   "source": [
    "**Вывод**\n",
    "\n",
    "По графику можно видеть, что цены на недвижимость начали падать после 2014 года и достигли минимальной отметки к 2016 - 2018 годам, однако после 2018 начали подниматься обратно. Это может быть связано с кризисом."
   ]
  },
  {
   "cell_type": "markdown",
   "metadata": {},
   "source": [
    "### Изучим стоимость жилья по населенным пунктам"
   ]
  },
  {
   "cell_type": "code",
   "execution_count": 152,
   "metadata": {
    "scrolled": false
   },
   "outputs": [
    {
     "name": "stdout",
     "output_type": "stream",
     "text": [
      "Количество объявлений и медианная стоимость кв.метра по населенному пункту:\n"
     ]
    },
    {
     "data": {
      "text/html": [
       "<div>\n",
       "<style scoped>\n",
       "    .dataframe tbody tr th:only-of-type {\n",
       "        vertical-align: middle;\n",
       "    }\n",
       "\n",
       "    .dataframe tbody tr th {\n",
       "        vertical-align: top;\n",
       "    }\n",
       "\n",
       "    .dataframe thead th {\n",
       "        text-align: right;\n",
       "    }\n",
       "</style>\n",
       "<table border=\"1\" class=\"dataframe\">\n",
       "  <thead>\n",
       "    <tr style=\"text-align: right;\">\n",
       "      <th></th>\n",
       "      <th>count</th>\n",
       "      <th>mean</th>\n",
       "    </tr>\n",
       "    <tr>\n",
       "      <th>locality_name</th>\n",
       "      <th></th>\n",
       "      <th></th>\n",
       "    </tr>\n",
       "  </thead>\n",
       "  <tbody>\n",
       "    <tr>\n",
       "      <td>Санкт-Петербург</td>\n",
       "      <td>15721</td>\n",
       "      <td>114849.008794</td>\n",
       "    </tr>\n",
       "    <tr>\n",
       "      <td>посёлок Мурино</td>\n",
       "      <td>522</td>\n",
       "      <td>85752.189197</td>\n",
       "    </tr>\n",
       "    <tr>\n",
       "      <td>посёлок Шушары</td>\n",
       "      <td>440</td>\n",
       "      <td>78677.364217</td>\n",
       "    </tr>\n",
       "    <tr>\n",
       "      <td>Всеволожск</td>\n",
       "      <td>398</td>\n",
       "      <td>68654.473985</td>\n",
       "    </tr>\n",
       "    <tr>\n",
       "      <td>Пушкин</td>\n",
       "      <td>369</td>\n",
       "      <td>103125.819293</td>\n",
       "    </tr>\n",
       "    <tr>\n",
       "      <td>Колпино</td>\n",
       "      <td>338</td>\n",
       "      <td>75424.579096</td>\n",
       "    </tr>\n",
       "    <tr>\n",
       "      <td>посёлок Парголово</td>\n",
       "      <td>327</td>\n",
       "      <td>90175.913455</td>\n",
       "    </tr>\n",
       "    <tr>\n",
       "      <td>Гатчина</td>\n",
       "      <td>307</td>\n",
       "      <td>68746.146762</td>\n",
       "    </tr>\n",
       "    <tr>\n",
       "      <td>деревня Кудрово</td>\n",
       "      <td>299</td>\n",
       "      <td>92473.547575</td>\n",
       "    </tr>\n",
       "    <tr>\n",
       "      <td>Выборг</td>\n",
       "      <td>237</td>\n",
       "      <td>58141.909157</td>\n",
       "    </tr>\n",
       "  </tbody>\n",
       "</table>\n",
       "</div>"
      ],
      "text/plain": [
       "                   count           mean\n",
       "locality_name                          \n",
       "Санкт-Петербург    15721  114849.008794\n",
       "посёлок Мурино       522   85752.189197\n",
       "посёлок Шушары       440   78677.364217\n",
       "Всеволожск           398   68654.473985\n",
       "Пушкин               369  103125.819293\n",
       "Колпино              338   75424.579096\n",
       "посёлок Парголово    327   90175.913455\n",
       "Гатчина              307   68746.146762\n",
       "деревня Кудрово      299   92473.547575\n",
       "Выборг               237   58141.909157"
      ]
     },
     "metadata": {},
     "output_type": "display_data"
    },
    {
     "name": "stdout",
     "output_type": "stream",
     "text": [
      "Самая высокая стоимость за кв.метр:\n"
     ]
    },
    {
     "data": {
      "text/html": [
       "<div>\n",
       "<style scoped>\n",
       "    .dataframe tbody tr th:only-of-type {\n",
       "        vertical-align: middle;\n",
       "    }\n",
       "\n",
       "    .dataframe tbody tr th {\n",
       "        vertical-align: top;\n",
       "    }\n",
       "\n",
       "    .dataframe thead th {\n",
       "        text-align: right;\n",
       "    }\n",
       "</style>\n",
       "<table border=\"1\" class=\"dataframe\">\n",
       "  <thead>\n",
       "    <tr style=\"text-align: right;\">\n",
       "      <th></th>\n",
       "      <th>count</th>\n",
       "      <th>mean</th>\n",
       "    </tr>\n",
       "    <tr>\n",
       "      <th>locality_name</th>\n",
       "      <th></th>\n",
       "      <th></th>\n",
       "    </tr>\n",
       "  </thead>\n",
       "  <tbody>\n",
       "    <tr>\n",
       "      <td>Санкт-Петербург</td>\n",
       "      <td>15721</td>\n",
       "      <td>114849.008794</td>\n",
       "    </tr>\n",
       "  </tbody>\n",
       "</table>\n",
       "</div>"
      ],
      "text/plain": [
       "                 count           mean\n",
       "locality_name                        \n",
       "Санкт-Петербург  15721  114849.008794"
      ]
     },
     "metadata": {},
     "output_type": "display_data"
    },
    {
     "name": "stdout",
     "output_type": "stream",
     "text": [
      "Самая низкая стоимость за кв.метр:\n"
     ]
    },
    {
     "data": {
      "text/html": [
       "<div>\n",
       "<style scoped>\n",
       "    .dataframe tbody tr th:only-of-type {\n",
       "        vertical-align: middle;\n",
       "    }\n",
       "\n",
       "    .dataframe tbody tr th {\n",
       "        vertical-align: top;\n",
       "    }\n",
       "\n",
       "    .dataframe thead th {\n",
       "        text-align: right;\n",
       "    }\n",
       "</style>\n",
       "<table border=\"1\" class=\"dataframe\">\n",
       "  <thead>\n",
       "    <tr style=\"text-align: right;\">\n",
       "      <th></th>\n",
       "      <th>count</th>\n",
       "      <th>mean</th>\n",
       "    </tr>\n",
       "    <tr>\n",
       "      <th>locality_name</th>\n",
       "      <th></th>\n",
       "      <th></th>\n",
       "    </tr>\n",
       "  </thead>\n",
       "  <tbody>\n",
       "    <tr>\n",
       "      <td>Выборг</td>\n",
       "      <td>237</td>\n",
       "      <td>58141.909157</td>\n",
       "    </tr>\n",
       "  </tbody>\n",
       "</table>\n",
       "</div>"
      ],
      "text/plain": [
       "               count          mean\n",
       "locality_name                     \n",
       "Выборг           237  58141.909157"
      ]
     },
     "metadata": {},
     "output_type": "display_data"
    }
   ],
   "source": [
    "apartments['locality_name']\n",
    "apartments_locality = apartments.query('locality_name != \"\"').pivot_table(index = 'locality_name', values='area_price', aggfunc=['count', 'mean'])\n",
    "apartments_locality.columns = ['count', 'mean']\n",
    "apartments_locality = apartments_locality.sort_values(by='count', ascending=False).head(10)\n",
    "print('Количество объявлений и медианная стоимость кв.метра по населенному пункту:')\n",
    "display(apartments_locality)\n",
    "\n",
    "# Найдем самую высокую стоимость.\n",
    "print('Самая высокая стоимость за кв.метр:')\n",
    "display(apartments_locality[apartments_locality['mean'] == apartments_locality['mean'].max()])\n",
    "\n",
    "# Найдем самую низкую стоимость.\n",
    "print('Самая низкая стоимость за кв.метр:')\n",
    "display(apartments_locality[apartments_locality['mean'] == apartments_locality['mean'].min()])"
   ]
  },
  {
   "cell_type": "markdown",
   "metadata": {},
   "source": [
    "**Вывод**\n",
    "\n",
    "Самая высокая стоимость за квадратный метр в `Санкт-Петербурге`, она составляет `114859 руб.`\n",
    "Самая низкая стоимость за квадратный метр в `Выборге`, она составляет `58141 руб.`."
   ]
  },
  {
   "cell_type": "markdown",
   "metadata": {},
   "source": [
    "###  Выделим квартиры в Санкт-Петербурге по информации о расстоянии до центра."
   ]
  },
  {
   "cell_type": "code",
   "execution_count": 153,
   "metadata": {},
   "outputs": [
    {
     "data": {
      "text/plain": [
       "Text(0, 0.5, 'Стоимость (руб.)')"
      ]
     },
     "execution_count": 153,
     "metadata": {},
     "output_type": "execute_result"
    },
    {
     "data": {
      "image/png": "[encoded data removed]",
      "text/plain": [
       "<Figure size 432x288 with 1 Axes>"
      ]
     },
     "metadata": {
      "needs_background": "light"
     },
     "output_type": "display_data"
    }
   ],
   "source": [
    "apartments['cityCenters_nearest_km'] = (apartments['cityCenters_nearest'] / 1000).round()\n",
    "\n",
    "# Заменим пропуски значением 99999.\n",
    "apartments['cityCenters_nearest_km'].fillna(99999, inplace=True)\n",
    "apartments['cityCenters_nearest_km'] = apartments['cityCenters_nearest_km'].astype('int')\n",
    "\n",
    "# Посчитаем среднюю стоимость.\n",
    "apartments_cityCenters = apartments.query('locality_name == \"Санкт-Петербург\" and cityCenters_nearest_km != 99999') \\\n",
    "                        .pivot_table(index='cityCenters_nearest_km', values='area_price', aggfunc='mean')\n",
    "\n",
    "# По полученным результатам построим график.\n",
    "apartments_cityCenters.plot(title='Зависимость стоимости от расстояния до центра', legend=False, grid=True)\n",
    "plt.xlabel('Расстояние (км.)')\n",
    "plt.ylabel('Стоимость (руб.)')"
   ]
  },
  {
   "cell_type": "markdown",
   "metadata": {},
   "source": [
    "**Вывод**\n",
    "\n",
    "График начинает убывать после 3 км., значит центральная зона - до 3 км от центра."
   ]
  },
  {
   "cell_type": "markdown",
   "metadata": {},
   "source": [
    "<div class=\"alert alert-warning\" style=\"border-radius: 15px; box-shadow: 4px 4px 4px; border: 1px solid\">\n",
    "<b> Комментарий ревьюера</b>\n",
    "    \n",
    "Город не такой большой. 6.5 км захватит еще два района, помимо центра. Предлагаю 3 км. Подъем после 3 можно объяснить тем, что тут появляются особые квартиры с большей площадью, например, или с хорошим видом. И это действительно так и есть. Если взять 5 км от центра на север, то попадем на очень и очень дорогую недвижимость с чуть ли не лучшим видом в городе. Хотя это не будет центральным районом. Я тебе предлагаю брать меньший радиус, руководствуясь здравым смыслом: диаметр 13 км это как-то многовато. Понимаю, что формулировка сбивает, но все же :) \n",
    "</div>"
   ]
  },
  {
   "cell_type": "markdown",
   "metadata": {},
   "source": [
    "<div class=\"alert alert-info\">\n",
    "<h2> Комментарий студента</h2>\n",
    "\n",
    "Подправила вывод, так же исправила радиус в последующих исследованиях\n",
    "</div>"
   ]
  },
  {
   "cell_type": "markdown",
   "metadata": {},
   "source": [
    "### Изучим параметры по квартирам в центре."
   ]
  },
  {
   "cell_type": "code",
   "execution_count": 154,
   "metadata": {
    "scrolled": false
   },
   "outputs": [],
   "source": [
    "# Выделим сегмент квартир в центре.\n",
    "apartments_center = apartments.query('cityCenters_nearest_km <= 3 and locality_name == \"Санкт-Петербург\"')"
   ]
  },
  {
   "cell_type": "code",
   "execution_count": 155,
   "metadata": {
    "scrolled": false
   },
   "outputs": [
    {
     "name": "stdout",
     "output_type": "stream",
     "text": [
      "count    879.000000\n",
      "mean      98.632446\n",
      "std       56.543138\n",
      "min       12.000000\n",
      "25%       63.300000\n",
      "50%       85.000000\n",
      "75%      116.500000\n",
      "max      517.000000\n",
      "Name: total_area, dtype: float64\n",
      "count    8.790000e+02\n",
      "mean     1.630205e+07\n",
      "std      2.645654e+07\n",
      "min      2.100000e+06\n",
      "25%      7.300000e+06\n",
      "50%      9.800000e+06\n",
      "75%      1.499500e+07\n",
      "max      4.013000e+08\n",
      "Name: last_price, dtype: float64\n"
     ]
    },
    {
     "data": {
      "text/plain": [
       "Text(0, 0.5, 'Распространенность')"
      ]
     },
     "execution_count": 155,
     "metadata": {},
     "output_type": "execute_result"
    },
    {
     "data": {
      "image/png": "[encoded data removed]",
      "text/plain": [
       "<Figure size 360x360 with 1 Axes>"
      ]
     },
     "metadata": {
      "needs_background": "light"
     },
     "output_type": "display_data"
    },
    {
     "data": {
      "image/png": "[encoded data removed]",
      "text/plain": [
       "<Figure size 360x360 with 1 Axes>"
      ]
     },
     "metadata": {
      "needs_background": "light"
     },
     "output_type": "display_data"
    },
    {
     "data": {
      "image/png": "[encoded data removed]",
      "text/plain": [
       "<Figure size 360x360 with 1 Axes>"
      ]
     },
     "metadata": {
      "needs_background": "light"
     },
     "output_type": "display_data"
    },
    {
     "data": {
      "image/png": "[encoded data removed]",
      "text/plain": [
       "<Figure size 360x360 with 1 Axes>"
      ]
     },
     "metadata": {
      "needs_background": "light"
     },
     "output_type": "display_data"
    }
   ],
   "source": [
    "# Изучим площадь, цену, число комнат, высоту потолков.\n",
    "\n",
    "# Построим гистограмму для площади.\n",
    "print(apartments_center['total_area'].describe())\n",
    "apartments_center.plot(y='total_area', kind='hist', bins=100, grid=True, figsize=(5, 5), range=(0, 450),\n",
    "                      title='Площадь', legend=False)\n",
    "plt.xlabel('Площадь (кв.м.)')\n",
    "plt.ylabel('Распространенность')\n",
    "\n",
    "# Построим гистограмму для цены.\n",
    "print(apartments_center['last_price'].describe())\n",
    "apartments_center.plot(y='last_price', kind='hist', bins=100, grid=True, figsize=(5, 5), range=(0, 30000000),\n",
    "                      title='Стоимость', legend=False)\n",
    "plt.xlabel('Цена (млн.руб.)')\n",
    "plt.ylabel('Распространенность')\n",
    "\n",
    "# Построим гистограмму для числа комнат.\n",
    "apartments_center.plot(y='rooms', kind='hist', bins=30, grid=True, figsize=(5, 5), range=(0, 10),\n",
    "                      title='Число комнат', legend=False)\n",
    "plt.xlabel('Кол-во комнат')\n",
    "plt.ylabel('Распространенность')\n",
    "\n",
    "# Построим гистограмму для высоты потолков.\n",
    "apartments_center.plot(y='ceiling_height', kind='hist', bins=40, grid=True, figsize=(5, 5), range=(2, 5),\n",
    "                      title='Высота потолков', legend=False)\n",
    "plt.xlabel('Высота (м.)')\n",
    "plt.ylabel('Распространенность')"
   ]
  },
  {
   "cell_type": "markdown",
   "metadata": {},
   "source": [
    "**Вывод**\n",
    "\n",
    "Распределение значений в данных по центру в целом не отличается от распределения по всем городам."
   ]
  },
  {
   "cell_type": "markdown",
   "metadata": {},
   "source": [
    "<div class=\"alert alert-success\" style=\"border-radius: 15px; box-shadow: 4px 4px 4px; border: 1px solid\">\n",
    "<b> Комментарий ревьюера</b>\n",
    "    \n",
    "При этом, заметно, что разброс в центре больше. Там квартиры и дороже, и просторнее.</div>"
   ]
  },
  {
   "cell_type": "markdown",
   "metadata": {},
   "source": [
    "#### Влияние числа комнат на стоимость."
   ]
  },
  {
   "cell_type": "code",
   "execution_count": 156,
   "metadata": {
    "scrolled": false
   },
   "outputs": [
    {
     "name": "stdout",
     "output_type": "stream",
     "text": [
      "Коэффициент Пирсона: 0.2403\n",
      "       last_price\n",
      "rooms            \n",
      "0       3150000.0\n",
      "1       5260000.0\n",
      "2       7650000.0\n",
      "3       9300000.0\n",
      "4      12000000.0\n",
      "5      14750000.0\n",
      "6      17500000.0\n",
      "7      27200000.0\n",
      "8      20095000.0\n",
      "9      88000000.0\n",
      "11     25250000.0\n",
      "14     28659000.0\n"
     ]
    },
    {
     "data": {
      "image/png": "[encoded data removed]",
      "text/plain": [
       "<Figure size 432x288 with 1 Axes>"
      ]
     },
     "metadata": {
      "needs_background": "light"
     },
     "output_type": "display_data"
    }
   ],
   "source": [
    "# Изучим зависимость цены от числа комнат.\n",
    "apartments_rooms_center = apartments_center.pivot_table(index='rooms', values='last_price', aggfunc='median')\n",
    "apartments_rooms_center.plot(y='last_price', title='Зависимость цены от числа комнат', legend=False)\n",
    "plt.xlabel('Кол-во комнат')\n",
    "plt.ylabel('Стоимость (млн.руб.)')\n",
    "print('Коэффициент Пирсона:',\n",
    "      apartments_center['last_price'].corr(apartments_center['rooms']).round(4))\n",
    "print(apartments_rooms_center)"
   ]
  },
  {
   "cell_type": "markdown",
   "metadata": {},
   "source": [
    "**Вывод**\n",
    "\n",
    "В отличие от общей выборки, по центру заметен выброс для 15-ти комнатных квартар - цены на них почти в 3 раза выше, чем на 14-ти и 16-ти комнатные. Однако здесь так же прослеживается слабая прямая зависимость стоимости от количества комнат."
   ]
  },
  {
   "cell_type": "markdown",
   "metadata": {},
   "source": [
    "#### Влияние этажа на стоимость."
   ]
  },
  {
   "cell_type": "code",
   "execution_count": 157,
   "metadata": {
    "scrolled": false
   },
   "outputs": [
    {
     "name": "stdout",
     "output_type": "stream",
     "text": [
      "Выведем медианную стоимость в каждой группе этажей:\n",
      "              last_price\n",
      "floor_group            \n",
      "первый        7200000.0\n",
      "последний     9400000.0\n",
      "другой       10545400.0\n"
     ]
    },
    {
     "data": {
      "text/plain": [
       "Text(0, 0.5, 'Стоимость (руб.)')"
      ]
     },
     "execution_count": 157,
     "metadata": {},
     "output_type": "execute_result"
    },
    {
     "data": {
      "image/png": "[encoded data removed]",
      "text/plain": [
       "<Figure size 432x288 with 1 Axes>"
      ]
     },
     "metadata": {
      "needs_background": "light"
     },
     "output_type": "display_data"
    }
   ],
   "source": [
    "# Изучим зависимость цены от того, на каком этаже расположена квартира.\n",
    "apartments_floor_center = apartments_center.pivot_table(index='floor_group', values='last_price', aggfunc='median')\n",
    "print('Выведем медианную стоимость в каждой группе этажей:\\n',\n",
    "      apartments_floor_center.sort_values(by='last_price'))\n",
    "apartments_floor_center.plot(y='last_price', title='Зависимость цены от этажа', legend=False)\n",
    "plt.xlabel('Этаж')\n",
    "plt.ylabel('Стоимость (руб.)')"
   ]
  },
  {
   "cell_type": "markdown",
   "metadata": {},
   "source": [
    "**Вывод**\n",
    "\n",
    "Как и в общей выборке, по центру стоимость квартир на первом этаже является наименьшей, дальше следует стоимость квартир и последнем этаже и самая дорогая недвижимость - расположенная на других этажах."
   ]
  },
  {
   "cell_type": "markdown",
   "metadata": {},
   "source": [
    "<div class=\"alert alert-success\" style=\"border-radius: 15px; box-shadow: 4px 4px 4px; border: 1px solid\">\n",
    "<b> Комментарий ревьюера</b>\n",
    "    \n",
    "Да, тут без сюрпризов.</div>"
   ]
  },
  {
   "cell_type": "markdown",
   "metadata": {},
   "source": [
    "#### Влияние удаленности от центра на стоимость."
   ]
  },
  {
   "cell_type": "code",
   "execution_count": 158,
   "metadata": {
    "scrolled": true
   },
   "outputs": [
    {
     "name": "stdout",
     "output_type": "stream",
     "text": [
      "Коэффициент Пирсона: -0.1647\n"
     ]
    },
    {
     "data": {
      "image/png": "[encoded data removed]",
      "text/plain": [
       "<Figure size 432x288 with 1 Axes>"
      ]
     },
     "metadata": {
      "needs_background": "light"
     },
     "output_type": "display_data"
    }
   ],
   "source": [
    "# Изучим зависимость цены от удаленности от центра.\n",
    "apartments_center.plot(x='cityCenters_nearest', y='last_price', kind='scatter', grid=True, alpha=0.5,\n",
    "               title='Зависимость цены от удаленности от центра', legend=False)\n",
    "plt.xlabel('Расстояние (км.)')\n",
    "plt.ylabel('Стоимость (млн.руб.)')\n",
    "print('Коэффициент Пирсона:',\n",
    "      apartments_center['cityCenters_nearest'].corr(apartments_center['last_price']).round(4))"
   ]
  },
  {
   "cell_type": "markdown",
   "metadata": {},
   "source": [
    "**Вывод**\n",
    "\n",
    "Между ценой и удаленностью от центра почти отсутствует обратная связь, о чем говорит отрицательный коэффициент Пирсона, близкий к нулю - `-0.1647`."
   ]
  },
  {
   "cell_type": "markdown",
   "metadata": {},
   "source": [
    "<div class=\"alert alert-success\" style=\"border-radius: 15px; box-shadow: 4px 4px 4px; border: 1px solid\">\n",
    "<b> Комментарий ревьюера</b>\n",
    "    \n",
    "Коэфф-т почти нулевой, связи нет. Оно и понятно, ведь мы уже в центре :)</div>"
   ]
  },
  {
   "cell_type": "markdown",
   "metadata": {},
   "source": [
    "#### Влияние даты размещения объявления на стоимость."
   ]
  },
  {
   "cell_type": "code",
   "execution_count": 159,
   "metadata": {},
   "outputs": [
    {
     "data": {
      "text/plain": [
       "Text(0, 0.5, 'Стоимость (руб.)')"
      ]
     },
     "execution_count": 159,
     "metadata": {},
     "output_type": "execute_result"
    },
    {
     "data": {
      "image/png": "[encoded data removed]",
      "text/plain": [
       "<Figure size 432x288 with 1 Axes>"
      ]
     },
     "metadata": {
      "needs_background": "light"
     },
     "output_type": "display_data"
    },
    {
     "data": {
      "image/png": "[encoded data removed]",
      "text/plain": [
       "<Figure size 432x288 with 1 Axes>"
      ]
     },
     "metadata": {
      "needs_background": "light"
     },
     "output_type": "display_data"
    },
    {
     "data": {
      "image/png": "[encoded data removed]",
      "text/plain": [
       "<Figure size 432x288 with 1 Axes>"
      ]
     },
     "metadata": {
      "needs_background": "light"
     },
     "output_type": "display_data"
    }
   ],
   "source": [
    "# Изучим зависимость цены от дня недели размещения.\n",
    "apartments_center_weekday = apartments_center.pivot_table(index='exposition_day', values='last_price', aggfunc='median')\n",
    "apartments_center_weekday.plot(y='last_price', title='Зависимость цены от дня недели', legend=False)\n",
    "plt.xlabel('День недели')\n",
    "plt.ylabel('Стоимость (руб.)')\n",
    "\n",
    "# Изучим зависимость цены от месяца размещения.\n",
    "apartments_center_month = apartments_center.pivot_table(index='exposition_month', values='last_price', aggfunc='median')\n",
    "apartments_center_month.plot(y='last_price', title='Зависимость цены от месяца', legend=False)\n",
    "plt.xlabel('Месяц')\n",
    "plt.ylabel('Стоимость (руб.)')\n",
    "\n",
    "# Изучим зависимость цены от года размещения.\n",
    "apartments_center_year = apartments_center.pivot_table(index='exposition_year', values='last_price', aggfunc='median')\n",
    "apartments_center_year.plot(y='last_price', title='Зависимость цены от года', legend=False)\n",
    "plt.xlabel('Год')\n",
    "plt.ylabel('Стоимость (руб.)')"
   ]
  },
  {
   "cell_type": "markdown",
   "metadata": {},
   "source": [
    "**Вывод**\n",
    "\n",
    "В отличие от общей выборки по всем городам, наиболее высокие цены на квартиры наблюдаются по понедельникам, средам, пятницам и воскресеньям. Самая низкая цена - в четверг.\n",
    "\n",
    "Наиболее высокая стоимость по центру города - в январе, когда как по городам - в апреле. Однако в обеих выборках самые низкие цены - в июне.\n",
    "\n",
    "По графику можно видеть, что цены на недвижимость в центре начали падать после 2014 года и достигли минимальной отметки к 2015 - 2018 годам, однако после 2018 начали подниматься обратно. При этом стоимость на недвижимость по всем городам упала до минимума на год позже."
   ]
  },
  {
   "cell_type": "markdown",
   "metadata": {},
   "source": [
    "## Общий вывод"
   ]
  },
  {
   "cell_type": "markdown",
   "metadata": {},
   "source": [
    "В полученном архиве объявлений о продажи недвижимости была произведена замена пропущенных значений, причину появления которых можно было объяснить, остальную часть пропущенных значений требуется уточнить у сотрудников. Для удобства и экономии памяти были заменены типы данных в соответствии со значениями, указанных в колонках.\n",
    "Для дальнейших исследований добавлены в таблицу: цена квадратного метра, даты публикации, группы этажей и соотношение площадей. \n",
    "Построены гистограммы для площади, цен, числа комнат и высоты потолков, из чего можно увидеть выбросы и в каких интервалах лежат значения. \n",
    "\n",
    "Для времени продажи квартир было выяснено, что продажи проходят очень быстро, когда занимают меньше 22-х дней, и слишком долго, если больше 199 дней. На стоимость квартир влияет множество факторов, самый сильный из которых - площадь. Так же было выяснено, что центральным районом можно считать территорию радиусом до 3 км от самого центра. Если же сравнивать этот район с остальными, то общее поведение стоимости квартир отличается, например, по всем городам самые высокие цены по вторникам, а в  центре - по субботам.\n",
    "\n",
    "Так же для центра было характерно снижение цен на квартиры к 2015 году, когда как по всем городам стоимость упала на год позже. \n",
    "Площадь квартир по всем населенным пунктам на 28% ниже, чем в центре, при этом цена на квартиры по всем городам на 51% меньше стоимости недвижимости в центре."
   ]
  },
  {
   "cell_type": "markdown",
   "metadata": {},
   "source": [
    "<div class=\"alert alert-success\" style=\"border-radius: 15px; box-shadow: 4px 4px 4px; border: 1px solid\">\n",
    "<b> Комментарий ревьюера</b>\n",
    "    \n",
    "Вывод хороший. В идеале стоит добавить медианы основных характеристик квартир для центра и для всей выборки, чтобы заказчику было понятно не только то, что квартиры в центре больше и дороже, но и насколько они больше и насколько дороже.\n",
    "</div>"
   ]
  },
  {
   "cell_type": "markdown",
   "metadata": {},
   "source": [
    "<div class=\"alert alert-info\">\n",
    "<h2> Комментарий студента</h2>\n",
    "\n",
    "Подправила вывод, добавила разницу в стоимости и площади квартир \n",
    "</div>"
   ]
  },
  {
   "cell_type": "markdown",
   "metadata": {},
   "source": [
    "## Чек-лист готовности проекта\n",
    "\n",
    "Поставьте 'x' в выполненных пунктах. Далее нажмите Shift+Enter."
   ]
  },
  {
   "cell_type": "markdown",
   "metadata": {},
   "source": [
    "- [x]  открыт файл\n",
    "- [x]  файлы изучены (выведены первые строки, метод info())\n",
    "- [x]  определены пропущенные значения\n",
    "- [x]  заполнены пропущенные значения\n",
    "- [x]  есть пояснение, какие пропущенные значения обнаружены\n",
    "- [x]  изменены типы данных\n",
    "- [x]  есть пояснение, в каких столбцах изменены типы и почему\n",
    "- [x]  посчитано и добавлено в таблицу: цена квадратного метра\n",
    "- [x]  посчитано и добавлено в таблицу: день недели, месяц и год публикации объявления\n",
    "- [x]  посчитано и добавлено в таблицу: этаж квартиры; варианты — первый, последний, другой\n",
    "- [x]  посчитано и добавлено в таблицу: соотношение жилой и общей площади, а также отношение площади кухни к общей\n",
    "- [x]  изучены следующие параметры: площадь, цена, число комнат, высота потолков\n",
    "- [x]  построены гистограммы для каждого параметра\n",
    "- [x]  выполнено задание: \"Изучите время продажи квартиры. Постройте гистограмму. Посчитайте среднее и медиану. Опишите, сколько обычно занимает продажа. Когда можно считать, что продажи прошли очень быстро, а когда необычно долго?\"\n",
    "- [x]  выполнено задание: \"Уберите редкие и выбивающиеся значения. Опишите, какие особенности обнаружили.\"\n",
    "- [x]  выполнено задание: \"Какие факторы больше всего влияют на стоимость квартиры? Изучите, зависит ли цена от квадратного метра, числа комнат, этажа (первого или последнего), удалённости от центра. Также изучите зависимость от даты размещения: дня недели, месяца и года. \"Выберите 10 населённых пунктов с наибольшим числом объявлений. Посчитайте среднюю цену квадратного метра в этих населённых пунктах. Выделите населённые пункты с самой высокой и низкой стоимостью жилья. Эти данные можно найти по имени в столбце '*locality_name'*. \"\n",
    "- [x]  выполнено задание: \"Изучите предложения квартир: для каждой квартиры есть информация о расстоянии до центра. Выделите квартиры в Санкт-Петербурге (*'locality_name'*). Ваша задача — выяснить, какая область входит в центр. Создайте столбец с расстоянием до центра в километрах: округлите до целых значений. После этого посчитайте среднюю цену для каждого километра. Постройте график: он должен показывать, как цена зависит от удалённости от центра. Определите границу, где график сильно меняется — это и будет центральная зона. \"\n",
    "- [x]  выполнено задание: \"Выделите сегмент квартир в центре. Проанализируйте эту территорию и изучите следующие параметры: площадь, цена, число комнат, высота потолков. Также выделите факторы, которые влияют на стоимость квартиры (число комнат, этаж, удалённость от центра, дата размещения объявления). Сделайте выводы. Отличаются ли они от общих выводов по всему городу?\"\n",
    "- [x]  в каждом этапе есть выводы\n",
    "- [x]  есть общий вывод"
   ]
  }
 ],
 "metadata": {
  "ExecuteTimeLog": [
   {
    "duration": 127,
    "start_time": "2021-11-09T08:51:17.269Z"
   },
   {
    "duration": 776,
    "start_time": "2021-11-09T08:51:22.756Z"
   },
   {
    "duration": 76,
    "start_time": "2021-11-09T08:51:52.234Z"
   },
   {
    "duration": 92,
    "start_time": "2021-11-09T08:51:56.802Z"
   },
   {
    "duration": 126,
    "start_time": "2021-11-09T08:52:15.660Z"
   },
   {
    "duration": 80,
    "start_time": "2021-11-09T08:52:19.978Z"
   },
   {
    "duration": 147,
    "start_time": "2021-11-09T09:17:42.387Z"
   },
   {
    "duration": 147,
    "start_time": "2021-11-09T09:51:40.060Z"
   },
   {
    "duration": 369,
    "start_time": "2021-11-09T20:30:25.268Z"
   },
   {
    "duration": 781,
    "start_time": "2021-11-09T20:30:27.824Z"
   },
   {
    "duration": 150,
    "start_time": "2021-11-09T20:30:28.608Z"
   },
   {
    "duration": 16,
    "start_time": "2021-11-09T20:30:28.760Z"
   },
   {
    "duration": 109,
    "start_time": "2021-11-09T20:30:39.115Z"
   },
   {
    "duration": 115,
    "start_time": "2021-11-09T20:34:58.416Z"
   },
   {
    "duration": 86,
    "start_time": "2021-11-09T20:38:03.019Z"
   },
   {
    "duration": 36,
    "start_time": "2021-11-09T20:38:46.594Z"
   },
   {
    "duration": 71,
    "start_time": "2021-11-09T20:39:47.986Z"
   },
   {
    "duration": 301,
    "start_time": "2021-11-09T21:15:04.716Z"
   },
   {
    "duration": 96,
    "start_time": "2021-11-09T21:15:14.702Z"
   },
   {
    "duration": 267,
    "start_time": "2021-11-09T21:41:11.239Z"
   },
   {
    "duration": 6,
    "start_time": "2021-11-09T21:41:18.914Z"
   },
   {
    "duration": 8,
    "start_time": "2021-11-09T21:42:10.255Z"
   },
   {
    "duration": 12,
    "start_time": "2021-11-09T21:51:59.542Z"
   },
   {
    "duration": 38,
    "start_time": "2021-11-09T21:52:12.977Z"
   },
   {
    "duration": 38,
    "start_time": "2021-11-09T21:56:00.077Z"
   },
   {
    "duration": 38,
    "start_time": "2021-11-09T22:11:33.726Z"
   },
   {
    "duration": 10,
    "start_time": "2021-11-09T22:11:59.095Z"
   },
   {
    "duration": 39,
    "start_time": "2021-11-09T22:14:47.235Z"
   },
   {
    "duration": 9,
    "start_time": "2021-11-09T22:16:38.632Z"
   },
   {
    "duration": 10,
    "start_time": "2021-11-09T22:17:06.341Z"
   },
   {
    "duration": 10,
    "start_time": "2021-11-09T22:17:48.119Z"
   },
   {
    "duration": 260,
    "start_time": "2021-11-09T22:21:34.494Z"
   },
   {
    "duration": 727,
    "start_time": "2021-11-09T22:21:46.177Z"
   },
   {
    "duration": 312,
    "start_time": "2021-11-09T22:22:05.461Z"
   },
   {
    "duration": 270,
    "start_time": "2021-11-09T22:22:54.427Z"
   },
   {
    "duration": 13,
    "start_time": "2021-11-09T22:23:39.763Z"
   },
   {
    "duration": 9,
    "start_time": "2021-11-09T22:24:54.834Z"
   },
   {
    "duration": 435,
    "start_time": "2021-11-09T22:25:00.771Z"
   },
   {
    "duration": 7,
    "start_time": "2021-11-09T22:30:26.686Z"
   },
   {
    "duration": 6,
    "start_time": "2021-11-09T22:30:31.429Z"
   },
   {
    "duration": 6,
    "start_time": "2021-11-09T22:33:30.259Z"
   },
   {
    "duration": 8,
    "start_time": "2021-11-09T22:35:48.352Z"
   },
   {
    "duration": 9,
    "start_time": "2021-11-09T22:35:57.704Z"
   },
   {
    "duration": 10,
    "start_time": "2021-11-09T22:36:58.656Z"
   },
   {
    "duration": 10,
    "start_time": "2021-11-09T22:37:11.888Z"
   },
   {
    "duration": 10,
    "start_time": "2021-11-09T22:37:15.672Z"
   },
   {
    "duration": 12,
    "start_time": "2021-11-09T22:37:31.305Z"
   },
   {
    "duration": 8,
    "start_time": "2021-11-09T22:38:22.473Z"
   },
   {
    "duration": 4,
    "start_time": "2021-11-09T22:38:40.453Z"
   },
   {
    "duration": 93,
    "start_time": "2021-11-09T22:38:40.460Z"
   },
   {
    "duration": 81,
    "start_time": "2021-11-09T22:38:40.557Z"
   },
   {
    "duration": 14,
    "start_time": "2021-11-09T22:38:40.641Z"
   },
   {
    "duration": 6,
    "start_time": "2021-11-09T22:38:40.658Z"
   },
   {
    "duration": 60,
    "start_time": "2021-11-09T22:38:40.667Z"
   },
   {
    "duration": 43,
    "start_time": "2021-11-09T22:38:40.730Z"
   },
   {
    "duration": 9,
    "start_time": "2021-11-09T22:38:40.775Z"
   },
   {
    "duration": 6,
    "start_time": "2021-11-09T22:42:33.820Z"
   },
   {
    "duration": 10,
    "start_time": "2021-11-09T22:55:15.318Z"
   },
   {
    "duration": 3,
    "start_time": "2021-11-09T22:55:24.970Z"
   },
   {
    "duration": 96,
    "start_time": "2021-11-09T22:55:24.976Z"
   },
   {
    "duration": 78,
    "start_time": "2021-11-09T22:55:25.076Z"
   },
   {
    "duration": 15,
    "start_time": "2021-11-09T22:55:25.157Z"
   },
   {
    "duration": 6,
    "start_time": "2021-11-09T22:55:25.175Z"
   },
   {
    "duration": 47,
    "start_time": "2021-11-09T22:55:25.183Z"
   },
   {
    "duration": 44,
    "start_time": "2021-11-09T22:55:25.233Z"
   },
   {
    "duration": 50,
    "start_time": "2021-11-09T22:55:25.280Z"
   },
   {
    "duration": 11,
    "start_time": "2021-11-09T22:56:04.729Z"
   },
   {
    "duration": 61,
    "start_time": "2021-11-09T22:57:27.746Z"
   },
   {
    "duration": 12,
    "start_time": "2021-11-09T22:57:39.280Z"
   },
   {
    "duration": 12,
    "start_time": "2021-11-09T22:57:49.057Z"
   },
   {
    "duration": 9,
    "start_time": "2021-11-09T22:58:25.958Z"
   },
   {
    "duration": 9,
    "start_time": "2021-11-09T22:58:59.264Z"
   },
   {
    "duration": 10,
    "start_time": "2021-11-09T23:01:17.422Z"
   },
   {
    "duration": 296,
    "start_time": "2021-11-09T23:02:42.253Z"
   },
   {
    "duration": 12,
    "start_time": "2021-11-09T23:02:55.877Z"
   },
   {
    "duration": 10,
    "start_time": "2021-11-09T23:03:37.156Z"
   },
   {
    "duration": 9,
    "start_time": "2021-11-09T23:03:37.771Z"
   },
   {
    "duration": 9,
    "start_time": "2021-11-09T23:03:38.715Z"
   },
   {
    "duration": 8,
    "start_time": "2021-11-09T23:06:59.633Z"
   },
   {
    "duration": 12,
    "start_time": "2021-11-09T23:08:08.128Z"
   },
   {
    "duration": 4,
    "start_time": "2021-11-09T23:08:20.933Z"
   },
   {
    "duration": 94,
    "start_time": "2021-11-09T23:08:20.939Z"
   },
   {
    "duration": 86,
    "start_time": "2021-11-09T23:08:21.036Z"
   },
   {
    "duration": 16,
    "start_time": "2021-11-09T23:08:21.125Z"
   },
   {
    "duration": 19,
    "start_time": "2021-11-09T23:08:21.143Z"
   },
   {
    "duration": 40,
    "start_time": "2021-11-09T23:08:21.165Z"
   },
   {
    "duration": 19,
    "start_time": "2021-11-09T23:08:21.208Z"
   },
   {
    "duration": 12,
    "start_time": "2021-11-09T23:08:21.230Z"
   },
   {
    "duration": 12,
    "start_time": "2021-11-09T23:08:33.880Z"
   },
   {
    "duration": 6910,
    "start_time": "2021-11-09T23:09:58.014Z"
   },
   {
    "duration": 6940,
    "start_time": "2021-11-09T23:10:05.760Z"
   },
   {
    "duration": 9,
    "start_time": "2021-11-09T23:11:24.855Z"
   },
   {
    "duration": 7208,
    "start_time": "2021-11-09T23:11:34.540Z"
   },
   {
    "duration": 11,
    "start_time": "2021-11-09T23:12:00.613Z"
   },
   {
    "duration": 9,
    "start_time": "2021-11-09T23:12:48.586Z"
   },
   {
    "duration": 10,
    "start_time": "2021-11-09T23:14:24.304Z"
   },
   {
    "duration": 9,
    "start_time": "2021-11-09T23:15:30.719Z"
   },
   {
    "duration": 10,
    "start_time": "2021-11-09T23:15:37.668Z"
   },
   {
    "duration": 14,
    "start_time": "2021-11-09T23:19:38.799Z"
   },
   {
    "duration": 11,
    "start_time": "2021-11-09T23:20:13.478Z"
   },
   {
    "duration": 4,
    "start_time": "2021-11-09T23:20:28.942Z"
   },
   {
    "duration": 87,
    "start_time": "2021-11-09T23:20:28.949Z"
   },
   {
    "duration": 70,
    "start_time": "2021-11-09T23:20:29.039Z"
   },
   {
    "duration": 16,
    "start_time": "2021-11-09T23:20:29.123Z"
   },
   {
    "duration": 5,
    "start_time": "2021-11-09T23:20:29.142Z"
   },
   {
    "duration": 20,
    "start_time": "2021-11-09T23:20:29.149Z"
   },
   {
    "duration": 49,
    "start_time": "2021-11-09T23:20:29.173Z"
   },
   {
    "duration": 11,
    "start_time": "2021-11-09T23:20:29.225Z"
   },
   {
    "duration": 17,
    "start_time": "2021-11-09T23:20:29.238Z"
   },
   {
    "duration": 11,
    "start_time": "2021-11-09T23:20:29.257Z"
   },
   {
    "duration": 13,
    "start_time": "2021-11-09T23:20:31.273Z"
   },
   {
    "duration": 13,
    "start_time": "2021-11-09T23:21:25.973Z"
   },
   {
    "duration": 4,
    "start_time": "2021-11-09T23:21:48.734Z"
   },
   {
    "duration": 91,
    "start_time": "2021-11-09T23:21:48.741Z"
   },
   {
    "duration": 93,
    "start_time": "2021-11-09T23:21:48.835Z"
   },
   {
    "duration": 15,
    "start_time": "2021-11-09T23:21:48.931Z"
   },
   {
    "duration": 6,
    "start_time": "2021-11-09T23:21:48.948Z"
   },
   {
    "duration": 22,
    "start_time": "2021-11-09T23:21:48.956Z"
   },
   {
    "duration": 50,
    "start_time": "2021-11-09T23:21:48.981Z"
   },
   {
    "duration": 11,
    "start_time": "2021-11-09T23:21:49.034Z"
   },
   {
    "duration": 11,
    "start_time": "2021-11-09T23:21:49.048Z"
   },
   {
    "duration": 10,
    "start_time": "2021-11-09T23:21:49.062Z"
   },
   {
    "duration": 57,
    "start_time": "2021-11-09T23:21:49.075Z"
   },
   {
    "duration": 272,
    "start_time": "2021-11-09T23:24:11.691Z"
   },
   {
    "duration": 267,
    "start_time": "2021-11-09T23:24:19.275Z"
   },
   {
    "duration": 7,
    "start_time": "2021-11-09T23:24:37.490Z"
   },
   {
    "duration": 125,
    "start_time": "2021-11-09T23:25:51.916Z"
   },
   {
    "duration": 13,
    "start_time": "2021-11-09T23:26:45.987Z"
   },
   {
    "duration": 3,
    "start_time": "2021-11-09T23:27:01.326Z"
   },
   {
    "duration": 115,
    "start_time": "2021-11-09T23:27:01.332Z"
   },
   {
    "duration": 122,
    "start_time": "2021-11-09T23:27:01.450Z"
   },
   {
    "duration": 16,
    "start_time": "2021-11-09T23:27:01.576Z"
   },
   {
    "duration": 6,
    "start_time": "2021-11-09T23:27:01.623Z"
   },
   {
    "duration": 36,
    "start_time": "2021-11-09T23:27:01.632Z"
   },
   {
    "duration": 21,
    "start_time": "2021-11-09T23:27:01.671Z"
   },
   {
    "duration": 40,
    "start_time": "2021-11-09T23:27:01.694Z"
   },
   {
    "duration": 33,
    "start_time": "2021-11-09T23:27:01.738Z"
   },
   {
    "duration": 23,
    "start_time": "2021-11-09T23:27:01.774Z"
   },
   {
    "duration": 23,
    "start_time": "2021-11-09T23:27:01.800Z"
   },
   {
    "duration": 22,
    "start_time": "2021-11-09T23:27:01.826Z"
   },
   {
    "duration": 37,
    "start_time": "2021-11-09T23:27:01.850Z"
   },
   {
    "duration": 4,
    "start_time": "2021-11-09T23:37:44.989Z"
   },
   {
    "duration": 4,
    "start_time": "2021-11-09T23:42:11.124Z"
   },
   {
    "duration": 93,
    "start_time": "2021-11-09T23:42:11.130Z"
   },
   {
    "duration": 120,
    "start_time": "2021-11-09T23:42:11.226Z"
   },
   {
    "duration": 17,
    "start_time": "2021-11-09T23:42:11.350Z"
   },
   {
    "duration": 6,
    "start_time": "2021-11-09T23:42:11.370Z"
   },
   {
    "duration": 56,
    "start_time": "2021-11-09T23:42:11.378Z"
   },
   {
    "duration": 11,
    "start_time": "2021-11-09T23:42:11.436Z"
   },
   {
    "duration": 9,
    "start_time": "2021-11-09T23:42:11.451Z"
   },
   {
    "duration": 8,
    "start_time": "2021-11-09T23:42:11.463Z"
   },
   {
    "duration": 56,
    "start_time": "2021-11-09T23:42:11.473Z"
   },
   {
    "duration": 10,
    "start_time": "2021-11-09T23:42:11.532Z"
   },
   {
    "duration": 13,
    "start_time": "2021-11-09T23:42:11.545Z"
   },
   {
    "duration": 15,
    "start_time": "2021-11-09T23:42:11.560Z"
   },
   {
    "duration": 36,
    "start_time": "2021-11-09T23:48:55.686Z"
   },
   {
    "duration": 21,
    "start_time": "2021-11-09T23:59:06.056Z"
   },
   {
    "duration": 8,
    "start_time": "2021-11-10T00:05:28.994Z"
   },
   {
    "duration": 6,
    "start_time": "2021-11-10T00:15:24.708Z"
   },
   {
    "duration": 1462,
    "start_time": "2021-11-10T00:18:13.188Z"
   },
   {
    "duration": 904,
    "start_time": "2021-11-10T00:19:35.845Z"
   },
   {
    "duration": 35,
    "start_time": "2021-11-10T00:20:00.708Z"
   },
   {
    "duration": 925,
    "start_time": "2021-11-10T00:21:00.372Z"
   },
   {
    "duration": 35,
    "start_time": "2021-11-10T00:21:01.871Z"
   },
   {
    "duration": 955,
    "start_time": "2021-11-10T00:21:27.084Z"
   },
   {
    "duration": 33,
    "start_time": "2021-11-10T00:21:28.042Z"
   },
   {
    "duration": 2491,
    "start_time": "2021-11-10T00:37:07.067Z"
   },
   {
    "duration": 321,
    "start_time": "2021-11-10T00:38:42.737Z"
   },
   {
    "duration": 264,
    "start_time": "2021-11-10T00:38:52.649Z"
   },
   {
    "duration": 513,
    "start_time": "2021-11-10T00:38:56.609Z"
   },
   {
    "duration": 519,
    "start_time": "2021-11-10T00:39:31.066Z"
   },
   {
    "duration": 511,
    "start_time": "2021-11-10T00:40:13.601Z"
   },
   {
    "duration": 555,
    "start_time": "2021-11-10T00:40:36.567Z"
   },
   {
    "duration": 625,
    "start_time": "2021-11-10T00:40:47.135Z"
   },
   {
    "duration": 17,
    "start_time": "2021-11-10T00:42:48.464Z"
   },
   {
    "duration": 1309,
    "start_time": "2021-11-10T00:43:39.198Z"
   },
   {
    "duration": 96,
    "start_time": "2021-11-10T00:46:11.565Z"
   },
   {
    "duration": 2917,
    "start_time": "2021-11-10T00:46:18.900Z"
   },
   {
    "duration": 1574,
    "start_time": "2021-11-10T00:46:30.501Z"
   },
   {
    "duration": 2476,
    "start_time": "2021-11-10T00:47:07.331Z"
   },
   {
    "duration": 2336,
    "start_time": "2021-11-10T00:47:36.338Z"
   },
   {
    "duration": 2551,
    "start_time": "2021-11-10T00:47:53.234Z"
   },
   {
    "duration": 2368,
    "start_time": "2021-11-10T00:48:06.930Z"
   },
   {
    "duration": 2331,
    "start_time": "2021-11-10T00:48:28.716Z"
   },
   {
    "duration": 2099,
    "start_time": "2021-11-10T00:48:42.202Z"
   },
   {
    "duration": 2525,
    "start_time": "2021-11-10T00:48:52.252Z"
   },
   {
    "duration": 2160,
    "start_time": "2021-11-10T00:49:43.082Z"
   },
   {
    "duration": 2238,
    "start_time": "2021-11-10T00:49:57.787Z"
   },
   {
    "duration": 2399,
    "start_time": "2021-11-10T00:50:11.138Z"
   },
   {
    "duration": 2026,
    "start_time": "2021-11-10T00:50:59.344Z"
   },
   {
    "duration": 2558,
    "start_time": "2021-11-10T00:51:07.704Z"
   },
   {
    "duration": 2420,
    "start_time": "2021-11-10T00:51:25.361Z"
   },
   {
    "duration": 13,
    "start_time": "2021-11-10T00:51:56.753Z"
   },
   {
    "duration": 1990,
    "start_time": "2021-11-10T00:52:58.544Z"
   },
   {
    "duration": 2002,
    "start_time": "2021-11-10T00:53:30.400Z"
   },
   {
    "duration": 2325,
    "start_time": "2021-11-10T00:53:49.886Z"
   },
   {
    "duration": 2045,
    "start_time": "2021-11-10T00:54:08.135Z"
   },
   {
    "duration": 2012,
    "start_time": "2021-11-10T00:54:25.214Z"
   },
   {
    "duration": 2038,
    "start_time": "2021-11-10T00:54:35.334Z"
   },
   {
    "duration": 2337,
    "start_time": "2021-11-10T00:55:22.027Z"
   },
   {
    "duration": 101,
    "start_time": "2021-11-10T11:14:46.567Z"
   },
   {
    "duration": 580,
    "start_time": "2021-11-10T11:25:51.538Z"
   },
   {
    "duration": 793,
    "start_time": "2021-11-10T11:25:58.846Z"
   },
   {
    "duration": 88,
    "start_time": "2021-11-10T11:25:59.642Z"
   },
   {
    "duration": 124,
    "start_time": "2021-11-10T11:25:59.733Z"
   },
   {
    "duration": 36,
    "start_time": "2021-11-10T11:25:59.860Z"
   },
   {
    "duration": 5,
    "start_time": "2021-11-10T11:25:59.899Z"
   },
   {
    "duration": 22,
    "start_time": "2021-11-10T11:25:59.907Z"
   },
   {
    "duration": 54,
    "start_time": "2021-11-10T11:25:59.932Z"
   },
   {
    "duration": 12,
    "start_time": "2021-11-10T11:25:59.988Z"
   },
   {
    "duration": 7,
    "start_time": "2021-11-10T11:26:00.006Z"
   },
   {
    "duration": 43,
    "start_time": "2021-11-10T11:26:00.016Z"
   },
   {
    "duration": 23,
    "start_time": "2021-11-10T11:26:00.062Z"
   },
   {
    "duration": 31,
    "start_time": "2021-11-10T11:26:00.090Z"
   },
   {
    "duration": 41,
    "start_time": "2021-11-10T11:26:00.125Z"
   },
   {
    "duration": 14,
    "start_time": "2021-11-10T11:26:00.179Z"
   },
   {
    "duration": 1022,
    "start_time": "2021-11-10T11:26:00.196Z"
   },
   {
    "duration": 19,
    "start_time": "2021-11-10T11:26:01.221Z"
   },
   {
    "duration": 782,
    "start_time": "2021-11-10T11:26:01.243Z"
   },
   {
    "duration": 654,
    "start_time": "2021-11-10T11:27:19.120Z"
   },
   {
    "duration": 429,
    "start_time": "2021-11-10T11:27:19.781Z"
   },
   {
    "duration": 449,
    "start_time": "2021-11-10T11:27:30.839Z"
   },
   {
    "duration": 645,
    "start_time": "2021-11-10T11:29:17.802Z"
   },
   {
    "duration": 114,
    "start_time": "2021-11-10T11:34:20.169Z"
   },
   {
    "duration": 446,
    "start_time": "2021-11-10T11:35:52.439Z"
   },
   {
    "duration": 419,
    "start_time": "2021-11-10T11:37:01.368Z"
   },
   {
    "duration": 4,
    "start_time": "2021-11-10T11:45:40.450Z"
   },
   {
    "duration": 3,
    "start_time": "2021-11-10T11:46:12.115Z"
   },
   {
    "duration": 99,
    "start_time": "2021-11-10T11:46:12.121Z"
   },
   {
    "duration": 113,
    "start_time": "2021-11-10T11:46:12.222Z"
   },
   {
    "duration": 15,
    "start_time": "2021-11-10T11:46:12.338Z"
   },
   {
    "duration": 30,
    "start_time": "2021-11-10T11:46:12.356Z"
   },
   {
    "duration": 23,
    "start_time": "2021-11-10T11:46:12.389Z"
   },
   {
    "duration": 15,
    "start_time": "2021-11-10T11:46:12.415Z"
   },
   {
    "duration": 51,
    "start_time": "2021-11-10T11:46:12.434Z"
   },
   {
    "duration": 8,
    "start_time": "2021-11-10T11:46:12.487Z"
   },
   {
    "duration": 14,
    "start_time": "2021-11-10T11:46:12.498Z"
   },
   {
    "duration": 12,
    "start_time": "2021-11-10T11:46:12.514Z"
   },
   {
    "duration": 56,
    "start_time": "2021-11-10T11:46:12.529Z"
   },
   {
    "duration": 15,
    "start_time": "2021-11-10T11:46:12.587Z"
   },
   {
    "duration": 5,
    "start_time": "2021-11-10T11:46:12.604Z"
   },
   {
    "duration": 1071,
    "start_time": "2021-11-10T11:46:12.612Z"
   },
   {
    "duration": 18,
    "start_time": "2021-11-10T11:46:13.685Z"
   },
   {
    "duration": 638,
    "start_time": "2021-11-10T11:46:13.705Z"
   },
   {
    "duration": 671,
    "start_time": "2021-11-10T11:46:14.345Z"
   },
   {
    "duration": 458,
    "start_time": "2021-11-10T11:46:15.020Z"
   },
   {
    "duration": 484,
    "start_time": "2021-11-10T11:46:15.483Z"
   },
   {
    "duration": 381,
    "start_time": "2021-11-10T12:03:54.875Z"
   },
   {
    "duration": 11,
    "start_time": "2021-11-10T12:04:01.088Z"
   },
   {
    "duration": 586,
    "start_time": "2021-11-10T12:04:54.616Z"
   },
   {
    "duration": 479,
    "start_time": "2021-11-10T12:05:14.399Z"
   },
   {
    "duration": 667,
    "start_time": "2021-11-10T12:10:36.850Z"
   },
   {
    "duration": 515,
    "start_time": "2021-11-10T12:10:51.379Z"
   },
   {
    "duration": 404,
    "start_time": "2021-11-10T12:13:57.343Z"
   },
   {
    "duration": 511,
    "start_time": "2021-11-10T12:14:07.057Z"
   },
   {
    "duration": 413,
    "start_time": "2021-11-10T12:14:24.927Z"
   },
   {
    "duration": 413,
    "start_time": "2021-11-10T12:17:27.964Z"
   },
   {
    "duration": 445,
    "start_time": "2021-11-10T12:17:47.101Z"
   },
   {
    "duration": 462,
    "start_time": "2021-11-10T12:18:32.140Z"
   },
   {
    "duration": 423,
    "start_time": "2021-11-10T12:18:40.092Z"
   },
   {
    "duration": 442,
    "start_time": "2021-11-10T12:18:46.572Z"
   },
   {
    "duration": 513,
    "start_time": "2021-11-10T12:18:49.916Z"
   },
   {
    "duration": 446,
    "start_time": "2021-11-10T12:19:20.379Z"
   },
   {
    "duration": 441,
    "start_time": "2021-11-10T12:19:30.661Z"
   },
   {
    "duration": 1453,
    "start_time": "2021-11-10T12:25:19.350Z"
   },
   {
    "duration": 95,
    "start_time": "2021-11-10T12:25:52.399Z"
   },
   {
    "duration": 626,
    "start_time": "2021-11-10T12:25:55.829Z"
   },
   {
    "duration": 307,
    "start_time": "2021-11-10T12:26:41.222Z"
   },
   {
    "duration": 310,
    "start_time": "2021-11-10T12:27:05.068Z"
   },
   {
    "duration": 309,
    "start_time": "2021-11-10T12:27:22.124Z"
   },
   {
    "duration": 133,
    "start_time": "2021-11-10T12:28:22.286Z"
   },
   {
    "duration": 309,
    "start_time": "2021-11-10T12:28:29.765Z"
   },
   {
    "duration": 353,
    "start_time": "2021-11-10T12:30:04.506Z"
   },
   {
    "duration": 331,
    "start_time": "2021-11-10T12:30:16.419Z"
   },
   {
    "duration": 405,
    "start_time": "2021-11-10T12:30:23.364Z"
   },
   {
    "duration": 359,
    "start_time": "2021-11-10T12:31:26.581Z"
   },
   {
    "duration": 378,
    "start_time": "2021-11-10T12:31:34.098Z"
   },
   {
    "duration": 426,
    "start_time": "2021-11-10T12:31:48.258Z"
   },
   {
    "duration": 461,
    "start_time": "2021-11-10T12:32:10.976Z"
   },
   {
    "duration": 100,
    "start_time": "2021-11-10T12:32:21.848Z"
   },
   {
    "duration": 469,
    "start_time": "2021-11-10T12:32:35.448Z"
   },
   {
    "duration": 503,
    "start_time": "2021-11-10T12:33:17.394Z"
   },
   {
    "duration": 589,
    "start_time": "2021-11-10T12:33:34.554Z"
   },
   {
    "duration": 469,
    "start_time": "2021-11-10T12:33:50.133Z"
   },
   {
    "duration": 516,
    "start_time": "2021-11-10T12:34:51.496Z"
   },
   {
    "duration": 485,
    "start_time": "2021-11-10T12:35:16.790Z"
   },
   {
    "duration": 477,
    "start_time": "2021-11-10T12:35:31.846Z"
   },
   {
    "duration": 499,
    "start_time": "2021-11-10T12:35:41.414Z"
   },
   {
    "duration": 619,
    "start_time": "2021-11-10T12:36:08.392Z"
   },
   {
    "duration": 6,
    "start_time": "2021-11-10T12:52:00.249Z"
   },
   {
    "duration": 526,
    "start_time": "2021-11-10T12:52:28.769Z"
   },
   {
    "duration": 907,
    "start_time": "2021-11-10T12:52:55.330Z"
   },
   {
    "duration": 773,
    "start_time": "2021-11-10T12:53:18.188Z"
   },
   {
    "duration": 605,
    "start_time": "2021-11-10T12:53:37.848Z"
   },
   {
    "duration": 787,
    "start_time": "2021-11-10T12:53:44.489Z"
   },
   {
    "duration": 740,
    "start_time": "2021-11-10T12:55:27.254Z"
   },
   {
    "duration": 735,
    "start_time": "2021-11-10T12:55:52.326Z"
   },
   {
    "duration": 767,
    "start_time": "2021-11-10T12:57:52.104Z"
   },
   {
    "duration": 817,
    "start_time": "2021-11-10T12:59:46.588Z"
   },
   {
    "duration": 811,
    "start_time": "2021-11-10T12:59:56.438Z"
   },
   {
    "duration": 353,
    "start_time": "2021-11-10T13:18:10.110Z"
   },
   {
    "duration": 714,
    "start_time": "2021-11-10T13:18:58.590Z"
   },
   {
    "duration": 640,
    "start_time": "2021-11-10T13:19:25.144Z"
   },
   {
    "duration": 806,
    "start_time": "2021-11-10T13:19:57.262Z"
   },
   {
    "duration": 797,
    "start_time": "2021-11-10T13:20:52.093Z"
   },
   {
    "duration": 862,
    "start_time": "2021-11-10T13:20:58.180Z"
   },
   {
    "duration": 815,
    "start_time": "2021-11-10T13:21:03.189Z"
   },
   {
    "duration": 629,
    "start_time": "2021-11-10T13:21:20.028Z"
   },
   {
    "duration": 740,
    "start_time": "2021-11-10T13:21:26.340Z"
   },
   {
    "duration": 918,
    "start_time": "2021-11-10T13:50:37.088Z"
   },
   {
    "duration": 99,
    "start_time": "2021-11-10T13:50:38.009Z"
   },
   {
    "duration": 126,
    "start_time": "2021-11-10T13:50:38.111Z"
   },
   {
    "duration": 47,
    "start_time": "2021-11-10T13:50:38.240Z"
   },
   {
    "duration": 7,
    "start_time": "2021-11-10T13:50:38.291Z"
   },
   {
    "duration": 29,
    "start_time": "2021-11-10T13:50:38.301Z"
   },
   {
    "duration": 16,
    "start_time": "2021-11-10T13:50:38.332Z"
   },
   {
    "duration": 51,
    "start_time": "2021-11-10T13:50:38.351Z"
   },
   {
    "duration": 8,
    "start_time": "2021-11-10T13:50:38.408Z"
   },
   {
    "duration": 65,
    "start_time": "2021-11-10T13:50:38.420Z"
   },
   {
    "duration": 14,
    "start_time": "2021-11-10T13:50:38.489Z"
   },
   {
    "duration": 21,
    "start_time": "2021-11-10T13:50:38.506Z"
   },
   {
    "duration": 66,
    "start_time": "2021-11-10T13:50:38.530Z"
   },
   {
    "duration": 6,
    "start_time": "2021-11-10T13:50:38.598Z"
   },
   {
    "duration": 1054,
    "start_time": "2021-11-10T13:50:38.606Z"
   },
   {
    "duration": 35,
    "start_time": "2021-11-10T13:50:39.662Z"
   },
   {
    "duration": 718,
    "start_time": "2021-11-10T13:50:39.700Z"
   },
   {
    "duration": 702,
    "start_time": "2021-11-10T13:50:40.420Z"
   },
   {
    "duration": 440,
    "start_time": "2021-11-10T13:50:41.124Z"
   },
   {
    "duration": 477,
    "start_time": "2021-11-10T13:50:41.566Z"
   },
   {
    "duration": 479,
    "start_time": "2021-11-10T13:50:42.046Z"
   },
   {
    "duration": 494,
    "start_time": "2021-11-10T13:50:42.527Z"
   },
   {
    "duration": 6,
    "start_time": "2021-11-10T13:50:43.023Z"
   },
   {
    "duration": 879,
    "start_time": "2021-11-10T13:50:43.031Z"
   },
   {
    "duration": 612,
    "start_time": "2021-11-10T13:50:43.913Z"
   },
   {
    "duration": 3,
    "start_time": "2021-11-10T13:50:44.528Z"
   },
   {
    "duration": 4,
    "start_time": "2021-11-10T13:50:47.896Z"
   },
   {
    "duration": 86,
    "start_time": "2021-11-10T13:50:48.709Z"
   },
   {
    "duration": 109,
    "start_time": "2021-11-10T13:50:50.510Z"
   },
   {
    "duration": 15,
    "start_time": "2021-11-10T13:50:51.010Z"
   },
   {
    "duration": 5,
    "start_time": "2021-11-10T13:50:52.539Z"
   },
   {
    "duration": 20,
    "start_time": "2021-11-10T13:50:53.052Z"
   },
   {
    "duration": 11,
    "start_time": "2021-11-10T13:50:53.457Z"
   },
   {
    "duration": 17,
    "start_time": "2021-11-10T13:50:53.695Z"
   },
   {
    "duration": 8,
    "start_time": "2021-11-10T13:50:53.936Z"
   },
   {
    "duration": 14,
    "start_time": "2021-11-10T13:50:54.156Z"
   },
   {
    "duration": 11,
    "start_time": "2021-11-10T13:50:54.376Z"
   },
   {
    "duration": 18,
    "start_time": "2021-11-10T13:50:54.585Z"
   },
   {
    "duration": 16,
    "start_time": "2021-11-10T13:50:54.801Z"
   },
   {
    "duration": 9,
    "start_time": "2021-11-10T13:50:55.281Z"
   },
   {
    "duration": 1168,
    "start_time": "2021-11-10T13:50:55.518Z"
   },
   {
    "duration": 20,
    "start_time": "2021-11-10T13:50:56.695Z"
   },
   {
    "duration": 735,
    "start_time": "2021-11-10T13:50:56.718Z"
   },
   {
    "duration": 726,
    "start_time": "2021-11-10T13:50:57.456Z"
   },
   {
    "duration": 450,
    "start_time": "2021-11-10T13:50:58.186Z"
   },
   {
    "duration": 507,
    "start_time": "2021-11-10T13:50:58.639Z"
   },
   {
    "duration": 446,
    "start_time": "2021-11-10T13:50:59.522Z"
   },
   {
    "duration": 563,
    "start_time": "2021-11-10T13:51:00.131Z"
   },
   {
    "duration": 7,
    "start_time": "2021-11-10T13:51:02.024Z"
   },
   {
    "duration": 793,
    "start_time": "2021-11-10T13:51:02.604Z"
   },
   {
    "duration": 619,
    "start_time": "2021-11-10T13:51:05.317Z"
   },
   {
    "duration": 411,
    "start_time": "2021-11-10T13:57:15.908Z"
   },
   {
    "duration": 314,
    "start_time": "2021-11-10T13:57:24.433Z"
   },
   {
    "duration": 7888,
    "start_time": "2021-11-10T13:57:36.977Z"
   },
   {
    "duration": 19,
    "start_time": "2021-11-10T13:58:18.338Z"
   },
   {
    "duration": 20,
    "start_time": "2021-11-10T13:58:36.660Z"
   },
   {
    "duration": 18,
    "start_time": "2021-11-10T14:04:51.245Z"
   },
   {
    "duration": 7752,
    "start_time": "2021-11-10T14:05:07.179Z"
   },
   {
    "duration": -24,
    "start_time": "2021-11-10T14:05:48.941Z"
   },
   {
    "duration": 283,
    "start_time": "2021-11-10T14:06:09.707Z"
   },
   {
    "duration": 338,
    "start_time": "2021-11-10T14:06:54.362Z"
   },
   {
    "duration": 293,
    "start_time": "2021-11-10T14:07:00.066Z"
   },
   {
    "duration": 7386,
    "start_time": "2021-11-10T14:08:54.993Z"
   },
   {
    "duration": 7270,
    "start_time": "2021-11-10T14:09:05.985Z"
   },
   {
    "duration": 295,
    "start_time": "2021-11-10T14:09:16.887Z"
   },
   {
    "duration": 287,
    "start_time": "2021-11-10T14:09:25.503Z"
   },
   {
    "duration": 309,
    "start_time": "2021-11-10T14:09:33.592Z"
   },
   {
    "duration": 294,
    "start_time": "2021-11-10T14:09:51.064Z"
   },
   {
    "duration": 611,
    "start_time": "2021-11-10T14:11:33.662Z"
   },
   {
    "duration": 699,
    "start_time": "2021-11-10T14:11:45.198Z"
   },
   {
    "duration": 281,
    "start_time": "2021-11-10T14:11:50.239Z"
   },
   {
    "duration": 293,
    "start_time": "2021-11-10T14:15:11.475Z"
   },
   {
    "duration": 735,
    "start_time": "2021-11-10T14:15:19.900Z"
   },
   {
    "duration": 347,
    "start_time": "2021-11-10T14:15:21.507Z"
   },
   {
    "duration": 749,
    "start_time": "2021-11-10T14:15:53.187Z"
   },
   {
    "duration": 4,
    "start_time": "2021-11-10T14:20:04.471Z"
   },
   {
    "duration": 300,
    "start_time": "2021-11-10T14:22:15.349Z"
   },
   {
    "duration": 8955,
    "start_time": "2021-11-10T14:22:32.621Z"
   },
   {
    "duration": 1501,
    "start_time": "2021-11-10T14:23:09.438Z"
   },
   {
    "duration": 20,
    "start_time": "2021-11-10T14:24:17.173Z"
   },
   {
    "duration": 22,
    "start_time": "2021-11-10T14:24:42.581Z"
   },
   {
    "duration": 261,
    "start_time": "2021-11-10T14:25:24.346Z"
   },
   {
    "duration": 1425,
    "start_time": "2021-11-10T14:26:03.043Z"
   },
   {
    "duration": 273,
    "start_time": "2021-11-10T14:26:12.748Z"
   },
   {
    "duration": 297,
    "start_time": "2021-11-10T14:26:29.985Z"
   },
   {
    "duration": 272,
    "start_time": "2021-11-10T14:26:37.795Z"
   },
   {
    "duration": 256,
    "start_time": "2021-11-10T14:27:07.665Z"
   },
   {
    "duration": 249,
    "start_time": "2021-11-10T14:27:13.510Z"
   },
   {
    "duration": 335,
    "start_time": "2021-11-10T14:35:47.075Z"
   },
   {
    "duration": 1186,
    "start_time": "2021-11-10T14:43:31.390Z"
   },
   {
    "duration": 16,
    "start_time": "2021-11-10T14:43:32.795Z"
   },
   {
    "duration": 3,
    "start_time": "2021-11-10T14:43:56.045Z"
   },
   {
    "duration": 1745,
    "start_time": "2021-11-10T14:43:56.051Z"
   },
   {
    "duration": 123,
    "start_time": "2021-11-10T14:43:57.798Z"
   },
   {
    "duration": 15,
    "start_time": "2021-11-10T14:43:57.924Z"
   },
   {
    "duration": 6,
    "start_time": "2021-11-10T14:43:57.941Z"
   },
   {
    "duration": 20,
    "start_time": "2021-11-10T14:43:57.983Z"
   },
   {
    "duration": 12,
    "start_time": "2021-11-10T14:43:58.006Z"
   },
   {
    "duration": 11,
    "start_time": "2021-11-10T14:43:58.021Z"
   },
   {
    "duration": 8,
    "start_time": "2021-11-10T14:43:58.083Z"
   },
   {
    "duration": 20,
    "start_time": "2021-11-10T14:43:58.094Z"
   },
   {
    "duration": 11,
    "start_time": "2021-11-10T14:43:58.117Z"
   },
   {
    "duration": 61,
    "start_time": "2021-11-10T14:43:58.130Z"
   },
   {
    "duration": 15,
    "start_time": "2021-11-10T14:43:58.193Z"
   },
   {
    "duration": 5,
    "start_time": "2021-11-10T14:43:58.211Z"
   },
   {
    "duration": 1009,
    "start_time": "2021-11-10T14:43:58.218Z"
   },
   {
    "duration": 19,
    "start_time": "2021-11-10T14:43:59.229Z"
   },
   {
    "duration": 633,
    "start_time": "2021-11-10T14:43:59.251Z"
   },
   {
    "duration": 685,
    "start_time": "2021-11-10T14:43:59.886Z"
   },
   {
    "duration": 429,
    "start_time": "2021-11-10T14:44:00.583Z"
   },
   {
    "duration": 575,
    "start_time": "2021-11-10T14:44:01.015Z"
   },
   {
    "duration": 537,
    "start_time": "2021-11-10T14:44:01.592Z"
   },
   {
    "duration": 521,
    "start_time": "2021-11-10T14:44:02.131Z"
   },
   {
    "duration": 6,
    "start_time": "2021-11-10T14:44:02.655Z"
   },
   {
    "duration": 772,
    "start_time": "2021-11-10T14:44:02.682Z"
   },
   {
    "duration": 312,
    "start_time": "2021-11-10T14:44:03.457Z"
   },
   {
    "duration": 763,
    "start_time": "2021-11-10T14:44:03.772Z"
   },
   {
    "duration": 306,
    "start_time": "2021-11-10T14:44:04.537Z"
   },
   {
    "duration": 338,
    "start_time": "2021-11-10T14:44:04.846Z"
   },
   {
    "duration": 314,
    "start_time": "2021-11-10T14:48:09.440Z"
   },
   {
    "duration": 454,
    "start_time": "2021-11-10T14:48:21.903Z"
   },
   {
    "duration": 311,
    "start_time": "2021-11-10T15:02:27.461Z"
   },
   {
    "duration": 294,
    "start_time": "2021-11-10T15:02:29.934Z"
   },
   {
    "duration": 34,
    "start_time": "2021-11-10T15:23:55.613Z"
   },
   {
    "duration": -53,
    "start_time": "2021-11-10T15:25:06.638Z"
   },
   {
    "duration": 7,
    "start_time": "2021-11-10T15:25:29.541Z"
   },
   {
    "duration": 20,
    "start_time": "2021-11-10T15:27:31.211Z"
   },
   {
    "duration": 22,
    "start_time": "2021-11-10T15:27:49.247Z"
   },
   {
    "duration": 103,
    "start_time": "2021-11-10T15:36:12.663Z"
   },
   {
    "duration": 96,
    "start_time": "2021-11-10T15:38:17.144Z"
   },
   {
    "duration": 29,
    "start_time": "2021-11-10T15:38:23.375Z"
   },
   {
    "duration": 25,
    "start_time": "2021-11-10T15:40:03.133Z"
   },
   {
    "duration": 108,
    "start_time": "2021-11-10T15:40:25.823Z"
   },
   {
    "duration": 26,
    "start_time": "2021-11-10T15:40:29.852Z"
   },
   {
    "duration": 32,
    "start_time": "2021-11-10T17:14:06.152Z"
   },
   {
    "duration": 119,
    "start_time": "2021-11-10T17:14:30.049Z"
   },
   {
    "duration": 32,
    "start_time": "2021-11-10T17:14:33.576Z"
   },
   {
    "duration": 32,
    "start_time": "2021-11-10T17:14:41.384Z"
   },
   {
    "duration": 113,
    "start_time": "2021-11-10T17:15:38.176Z"
   },
   {
    "duration": 364,
    "start_time": "2021-11-10T17:16:08.240Z"
   },
   {
    "duration": 317,
    "start_time": "2021-11-10T17:16:53.438Z"
   },
   {
    "duration": 437,
    "start_time": "2021-11-10T17:17:04.735Z"
   },
   {
    "duration": 28,
    "start_time": "2021-11-10T17:17:26.766Z"
   },
   {
    "duration": 31,
    "start_time": "2021-11-10T17:17:35.141Z"
   },
   {
    "duration": 29,
    "start_time": "2021-11-10T17:17:41.334Z"
   },
   {
    "duration": 717,
    "start_time": "2021-11-10T17:17:50.615Z"
   },
   {
    "duration": 94,
    "start_time": "2021-11-10T17:17:56.268Z"
   },
   {
    "duration": 167,
    "start_time": "2021-11-10T17:18:07.477Z"
   },
   {
    "duration": 31,
    "start_time": "2021-11-10T17:18:14.725Z"
   },
   {
    "duration": 31,
    "start_time": "2021-11-10T17:18:33.292Z"
   },
   {
    "duration": 39,
    "start_time": "2021-11-10T17:19:24.652Z"
   },
   {
    "duration": 37,
    "start_time": "2021-11-10T17:20:04.379Z"
   },
   {
    "duration": 41,
    "start_time": "2021-11-10T17:20:20.835Z"
   },
   {
    "duration": 36,
    "start_time": "2021-11-10T17:20:29.524Z"
   },
   {
    "duration": 40,
    "start_time": "2021-11-10T17:21:00.851Z"
   },
   {
    "duration": 37,
    "start_time": "2021-11-10T17:21:23.210Z"
   },
   {
    "duration": 11,
    "start_time": "2021-11-10T17:46:26.189Z"
   },
   {
    "duration": 9,
    "start_time": "2021-11-10T17:48:34.035Z"
   },
   {
    "duration": 11,
    "start_time": "2021-11-10T17:50:03.706Z"
   },
   {
    "duration": 316,
    "start_time": "2021-11-10T17:50:41.730Z"
   },
   {
    "duration": 20,
    "start_time": "2021-11-10T17:50:47.089Z"
   },
   {
    "duration": 18,
    "start_time": "2021-11-10T17:53:47.735Z"
   },
   {
    "duration": 17,
    "start_time": "2021-11-10T17:55:43.215Z"
   },
   {
    "duration": 16,
    "start_time": "2021-11-10T17:55:48.606Z"
   },
   {
    "duration": 28,
    "start_time": "2021-11-10T17:56:01.549Z"
   },
   {
    "duration": 33,
    "start_time": "2021-11-10T17:56:18.609Z"
   },
   {
    "duration": 30,
    "start_time": "2021-11-10T17:56:36.845Z"
   },
   {
    "duration": 414,
    "start_time": "2021-11-10T17:57:44.350Z"
   },
   {
    "duration": 28,
    "start_time": "2021-11-10T17:57:55.908Z"
   },
   {
    "duration": 35,
    "start_time": "2021-11-10T17:59:16.372Z"
   },
   {
    "duration": 102,
    "start_time": "2021-11-10T17:59:41.653Z"
   },
   {
    "duration": 119,
    "start_time": "2021-11-10T18:00:01.340Z"
   },
   {
    "duration": 33,
    "start_time": "2021-11-10T18:00:08.146Z"
   },
   {
    "duration": 37,
    "start_time": "2021-11-10T18:00:49.083Z"
   },
   {
    "duration": 112,
    "start_time": "2021-11-10T18:01:11.659Z"
   },
   {
    "duration": 99,
    "start_time": "2021-11-10T18:03:06.881Z"
   },
   {
    "duration": 99,
    "start_time": "2021-11-10T18:03:14.769Z"
   },
   {
    "duration": 39,
    "start_time": "2021-11-10T18:03:26.184Z"
   },
   {
    "duration": 331,
    "start_time": "2021-11-10T18:03:55.144Z"
   },
   {
    "duration": 306,
    "start_time": "2021-11-10T18:04:14.024Z"
   },
   {
    "duration": 317,
    "start_time": "2021-11-10T18:05:02.528Z"
   },
   {
    "duration": 355,
    "start_time": "2021-11-10T18:05:10.271Z"
   },
   {
    "duration": 313,
    "start_time": "2021-11-10T18:47:18.743Z"
   },
   {
    "duration": 96,
    "start_time": "2021-11-10T18:53:17.445Z"
   },
   {
    "duration": 326,
    "start_time": "2021-11-10T18:53:32.987Z"
   },
   {
    "duration": 13,
    "start_time": "2021-11-10T18:53:50.421Z"
   },
   {
    "duration": 12,
    "start_time": "2021-11-10T18:54:34.617Z"
   },
   {
    "duration": 344,
    "start_time": "2021-11-10T19:01:48.645Z"
   },
   {
    "duration": 309,
    "start_time": "2021-11-10T19:01:55.788Z"
   },
   {
    "duration": 407,
    "start_time": "2021-11-10T19:02:14.332Z"
   },
   {
    "duration": 429,
    "start_time": "2021-11-10T19:02:22.117Z"
   },
   {
    "duration": 305,
    "start_time": "2021-11-10T19:03:08.677Z"
   },
   {
    "duration": 639,
    "start_time": "2021-11-10T19:03:13.435Z"
   },
   {
    "duration": 2202,
    "start_time": "2021-11-10T19:06:12.987Z"
   },
   {
    "duration": 2104,
    "start_time": "2021-11-10T19:06:43.154Z"
   },
   {
    "duration": 758,
    "start_time": "2021-11-10T19:21:00.675Z"
   },
   {
    "duration": 702,
    "start_time": "2021-11-10T19:21:17.984Z"
   },
   {
    "duration": 273,
    "start_time": "2021-11-10T19:21:38.621Z"
   },
   {
    "duration": 281,
    "start_time": "2021-11-10T19:21:44.593Z"
   },
   {
    "duration": 412,
    "start_time": "2021-11-10T19:26:40.364Z"
   },
   {
    "duration": 711,
    "start_time": "2021-11-10T19:30:58.210Z"
   },
   {
    "duration": 11390,
    "start_time": "2021-11-10T19:31:22.921Z"
   },
   {
    "duration": 297,
    "start_time": "2021-11-10T19:31:37.657Z"
   },
   {
    "duration": 302,
    "start_time": "2021-11-10T19:42:55.791Z"
   },
   {
    "duration": 288,
    "start_time": "2021-11-10T19:43:47.351Z"
   },
   {
    "duration": 473,
    "start_time": "2021-11-10T19:53:40.176Z"
   },
   {
    "duration": 1003,
    "start_time": "2021-11-10T19:55:56.732Z"
   },
   {
    "duration": 880,
    "start_time": "2021-11-10T19:56:21.851Z"
   },
   {
    "duration": 4,
    "start_time": "2021-11-10T20:46:22.048Z"
   },
   {
    "duration": 85,
    "start_time": "2021-11-10T20:46:22.054Z"
   },
   {
    "duration": 116,
    "start_time": "2021-11-10T20:46:22.142Z"
   },
   {
    "duration": 22,
    "start_time": "2021-11-10T20:46:22.284Z"
   },
   {
    "duration": 8,
    "start_time": "2021-11-10T20:46:22.309Z"
   },
   {
    "duration": 75,
    "start_time": "2021-11-10T20:46:22.320Z"
   },
   {
    "duration": 15,
    "start_time": "2021-11-10T20:46:22.401Z"
   },
   {
    "duration": 62,
    "start_time": "2021-11-10T20:46:22.421Z"
   },
   {
    "duration": 7,
    "start_time": "2021-11-10T20:46:22.486Z"
   },
   {
    "duration": 17,
    "start_time": "2021-11-10T20:46:22.496Z"
   },
   {
    "duration": 14,
    "start_time": "2021-11-10T20:46:22.516Z"
   },
   {
    "duration": 63,
    "start_time": "2021-11-10T20:46:22.532Z"
   },
   {
    "duration": 16,
    "start_time": "2021-11-10T20:46:22.598Z"
   },
   {
    "duration": 6,
    "start_time": "2021-11-10T20:46:22.616Z"
   },
   {
    "duration": 1109,
    "start_time": "2021-11-10T20:46:22.625Z"
   },
   {
    "duration": 17,
    "start_time": "2021-11-10T20:46:23.737Z"
   },
   {
    "duration": 634,
    "start_time": "2021-11-10T20:46:23.757Z"
   },
   {
    "duration": 659,
    "start_time": "2021-11-10T20:46:24.394Z"
   },
   {
    "duration": 415,
    "start_time": "2021-11-10T20:46:25.058Z"
   },
   {
    "duration": 454,
    "start_time": "2021-11-10T20:46:25.476Z"
   },
   {
    "duration": 438,
    "start_time": "2021-11-10T20:46:25.933Z"
   },
   {
    "duration": 450,
    "start_time": "2021-11-10T20:46:26.381Z"
   },
   {
    "duration": 6,
    "start_time": "2021-11-10T20:46:26.834Z"
   },
   {
    "duration": 758,
    "start_time": "2021-11-10T20:46:26.842Z"
   },
   {
    "duration": 407,
    "start_time": "2021-11-10T20:46:27.603Z"
   },
   {
    "duration": 717,
    "start_time": "2021-11-10T20:46:28.013Z"
   },
   {
    "duration": 288,
    "start_time": "2021-11-10T20:46:28.733Z"
   },
   {
    "duration": 342,
    "start_time": "2021-11-10T20:46:29.024Z"
   },
   {
    "duration": 338,
    "start_time": "2021-11-10T20:46:29.369Z"
   },
   {
    "duration": 329,
    "start_time": "2021-11-10T20:46:29.710Z"
   },
   {
    "duration": 56,
    "start_time": "2021-11-10T20:46:30.042Z"
   },
   {
    "duration": 354,
    "start_time": "2021-11-10T20:46:30.101Z"
   },
   {
    "duration": 25,
    "start_time": "2021-11-10T20:46:30.458Z"
   },
   {
    "duration": 2177,
    "start_time": "2021-11-10T20:46:30.486Z"
   },
   {
    "duration": 330,
    "start_time": "2021-11-10T20:46:32.666Z"
   },
   {
    "duration": 293,
    "start_time": "2021-11-10T20:46:32.998Z"
   },
   {
    "duration": 451,
    "start_time": "2021-11-10T20:46:33.294Z"
   },
   {
    "duration": 910,
    "start_time": "2021-11-10T20:46:33.747Z"
   },
   {
    "duration": 912,
    "start_time": "2021-11-11T07:42:32.587Z"
   },
   {
    "duration": 88,
    "start_time": "2021-11-11T07:42:33.502Z"
   },
   {
    "duration": 121,
    "start_time": "2021-11-11T07:42:33.593Z"
   },
   {
    "duration": 15,
    "start_time": "2021-11-11T07:42:33.717Z"
   },
   {
    "duration": 35,
    "start_time": "2021-11-11T07:42:33.734Z"
   },
   {
    "duration": 19,
    "start_time": "2021-11-11T07:42:33.771Z"
   },
   {
    "duration": 11,
    "start_time": "2021-11-11T07:42:33.793Z"
   },
   {
    "duration": 13,
    "start_time": "2021-11-11T07:42:33.806Z"
   },
   {
    "duration": 46,
    "start_time": "2021-11-11T07:42:33.823Z"
   },
   {
    "duration": 18,
    "start_time": "2021-11-11T07:42:33.872Z"
   },
   {
    "duration": 9,
    "start_time": "2021-11-11T07:42:33.893Z"
   },
   {
    "duration": 18,
    "start_time": "2021-11-11T07:42:33.905Z"
   },
   {
    "duration": 51,
    "start_time": "2021-11-11T07:42:33.925Z"
   },
   {
    "duration": 6,
    "start_time": "2021-11-11T07:42:33.978Z"
   },
   {
    "duration": 1016,
    "start_time": "2021-11-11T07:42:33.986Z"
   },
   {
    "duration": 25,
    "start_time": "2021-11-11T07:42:35.004Z"
   },
   {
    "duration": 692,
    "start_time": "2021-11-11T07:42:35.032Z"
   },
   {
    "duration": 673,
    "start_time": "2021-11-11T07:42:35.726Z"
   },
   {
    "duration": 424,
    "start_time": "2021-11-11T07:42:36.401Z"
   },
   {
    "duration": 461,
    "start_time": "2021-11-11T07:42:36.827Z"
   },
   {
    "duration": 457,
    "start_time": "2021-11-11T07:42:37.290Z"
   },
   {
    "duration": 453,
    "start_time": "2021-11-11T07:42:37.749Z"
   },
   {
    "duration": 5,
    "start_time": "2021-11-11T07:42:38.205Z"
   },
   {
    "duration": 739,
    "start_time": "2021-11-11T07:42:38.213Z"
   },
   {
    "duration": 302,
    "start_time": "2021-11-11T07:42:38.954Z"
   },
   {
    "duration": 751,
    "start_time": "2021-11-11T07:42:39.258Z"
   },
   {
    "duration": 310,
    "start_time": "2021-11-11T07:42:40.014Z"
   },
   {
    "duration": 411,
    "start_time": "2021-11-11T07:42:40.328Z"
   },
   {
    "duration": 339,
    "start_time": "2021-11-11T07:42:40.742Z"
   },
   {
    "duration": 334,
    "start_time": "2021-11-11T07:42:41.085Z"
   },
   {
    "duration": 56,
    "start_time": "2021-11-11T07:42:41.421Z"
   },
   {
    "duration": 344,
    "start_time": "2021-11-11T07:42:41.479Z"
   },
   {
    "duration": 12,
    "start_time": "2021-11-11T07:42:41.826Z"
   },
   {
    "duration": 2110,
    "start_time": "2021-11-11T07:42:41.840Z"
   },
   {
    "duration": 322,
    "start_time": "2021-11-11T07:42:43.953Z"
   },
   {
    "duration": 305,
    "start_time": "2021-11-11T07:42:44.278Z"
   },
   {
    "duration": 544,
    "start_time": "2021-11-11T07:42:44.585Z"
   },
   {
    "duration": 951,
    "start_time": "2021-11-11T07:42:45.131Z"
   },
   {
    "duration": 34,
    "start_time": "2021-11-11T07:46:56.874Z"
   },
   {
    "duration": 407,
    "start_time": "2021-11-11T13:09:42.935Z"
   },
   {
    "duration": 727,
    "start_time": "2021-11-11T13:09:47.398Z"
   },
   {
    "duration": 67,
    "start_time": "2021-11-11T13:09:48.127Z"
   },
   {
    "duration": 66,
    "start_time": "2021-11-11T13:09:48.196Z"
   },
   {
    "duration": 11,
    "start_time": "2021-11-11T13:09:48.264Z"
   },
   {
    "duration": 33,
    "start_time": "2021-11-11T13:09:48.276Z"
   },
   {
    "duration": 16,
    "start_time": "2021-11-11T13:09:48.310Z"
   },
   {
    "duration": 8,
    "start_time": "2021-11-11T13:09:48.328Z"
   },
   {
    "duration": 13,
    "start_time": "2021-11-11T13:09:51.127Z"
   },
   {
    "duration": 446,
    "start_time": "2021-11-11T13:13:22.446Z"
   },
   {
    "duration": 8,
    "start_time": "2021-11-11T13:13:27.154Z"
   },
   {
    "duration": 12,
    "start_time": "2021-11-11T13:13:39.917Z"
   },
   {
    "duration": 119,
    "start_time": "2021-11-11T13:14:06.675Z"
   },
   {
    "duration": 176,
    "start_time": "2021-11-11T13:14:16.603Z"
   },
   {
    "duration": 8,
    "start_time": "2021-11-11T13:14:24.676Z"
   },
   {
    "duration": 2,
    "start_time": "2021-11-11T13:15:13.337Z"
   },
   {
    "duration": 85,
    "start_time": "2021-11-11T13:15:13.341Z"
   },
   {
    "duration": 80,
    "start_time": "2021-11-11T13:15:13.428Z"
   },
   {
    "duration": 11,
    "start_time": "2021-11-11T13:15:13.510Z"
   },
   {
    "duration": 13,
    "start_time": "2021-11-11T13:15:13.523Z"
   },
   {
    "duration": 22,
    "start_time": "2021-11-11T13:15:13.537Z"
   },
   {
    "duration": 26,
    "start_time": "2021-11-11T13:15:13.561Z"
   },
   {
    "duration": 28,
    "start_time": "2021-11-11T13:15:13.589Z"
   },
   {
    "duration": 9,
    "start_time": "2021-11-11T13:15:13.620Z"
   },
   {
    "duration": 17,
    "start_time": "2021-11-11T13:15:13.632Z"
   },
   {
    "duration": 18,
    "start_time": "2021-11-11T13:15:13.651Z"
   },
   {
    "duration": 10,
    "start_time": "2021-11-11T13:15:17.011Z"
   },
   {
    "duration": 10,
    "start_time": "2021-11-11T13:15:30.997Z"
   },
   {
    "duration": 10,
    "start_time": "2021-11-11T13:17:02.849Z"
   },
   {
    "duration": 10,
    "start_time": "2021-11-11T13:17:07.751Z"
   },
   {
    "duration": 9,
    "start_time": "2021-11-11T13:17:27.739Z"
   },
   {
    "duration": 11,
    "start_time": "2021-11-11T13:17:29.562Z"
   },
   {
    "duration": 6,
    "start_time": "2021-11-11T13:17:40.759Z"
   },
   {
    "duration": 10,
    "start_time": "2021-11-11T13:17:41.398Z"
   },
   {
    "duration": 602,
    "start_time": "2021-11-11T13:20:43.821Z"
   },
   {
    "duration": 13,
    "start_time": "2021-11-11T13:21:37.989Z"
   },
   {
    "duration": 3,
    "start_time": "2021-11-11T13:22:07.715Z"
   },
   {
    "duration": 79,
    "start_time": "2021-11-11T13:22:07.721Z"
   },
   {
    "duration": 69,
    "start_time": "2021-11-11T13:22:07.802Z"
   },
   {
    "duration": 42,
    "start_time": "2021-11-11T13:22:07.874Z"
   },
   {
    "duration": 5,
    "start_time": "2021-11-11T13:22:07.918Z"
   },
   {
    "duration": 21,
    "start_time": "2021-11-11T13:22:07.925Z"
   },
   {
    "duration": 11,
    "start_time": "2021-11-11T13:22:07.949Z"
   },
   {
    "duration": 11,
    "start_time": "2021-11-11T13:22:07.963Z"
   },
   {
    "duration": 33,
    "start_time": "2021-11-11T13:22:07.976Z"
   },
   {
    "duration": 17,
    "start_time": "2021-11-11T13:22:08.011Z"
   },
   {
    "duration": 9,
    "start_time": "2021-11-11T13:22:08.030Z"
   },
   {
    "duration": 10,
    "start_time": "2021-11-11T13:22:08.041Z"
   },
   {
    "duration": 8,
    "start_time": "2021-11-11T13:22:08.053Z"
   },
   {
    "duration": 43,
    "start_time": "2021-11-11T13:22:08.063Z"
   },
   {
    "duration": 5,
    "start_time": "2021-11-11T13:22:08.108Z"
   },
   {
    "duration": 663,
    "start_time": "2021-11-11T13:22:08.114Z"
   },
   {
    "duration": 13,
    "start_time": "2021-11-11T13:22:08.779Z"
   },
   {
    "duration": 396,
    "start_time": "2021-11-11T13:22:08.794Z"
   },
   {
    "duration": 383,
    "start_time": "2021-11-11T13:23:33.391Z"
   },
   {
    "duration": 1998,
    "start_time": "2021-11-11T13:26:12.792Z"
   },
   {
    "duration": 384,
    "start_time": "2021-11-11T13:26:18.057Z"
   },
   {
    "duration": 352,
    "start_time": "2021-11-11T13:27:18.681Z"
   },
   {
    "duration": 811,
    "start_time": "2021-11-11T13:27:36.959Z"
   },
   {
    "duration": 338,
    "start_time": "2021-11-11T13:27:44.017Z"
   },
   {
    "duration": 329,
    "start_time": "2021-11-11T13:28:12.662Z"
   },
   {
    "duration": 692,
    "start_time": "2021-11-11T13:29:20.449Z"
   },
   {
    "duration": 720,
    "start_time": "2021-11-11T13:29:29.789Z"
   },
   {
    "duration": 346,
    "start_time": "2021-11-11T13:30:47.990Z"
   },
   {
    "duration": 618,
    "start_time": "2021-11-11T13:32:38.741Z"
   },
   {
    "duration": 358,
    "start_time": "2021-11-11T13:33:44.467Z"
   },
   {
    "duration": 375,
    "start_time": "2021-11-11T13:33:59.034Z"
   },
   {
    "duration": 351,
    "start_time": "2021-11-11T13:34:17.866Z"
   },
   {
    "duration": 256,
    "start_time": "2021-11-11T13:34:21.281Z"
   },
   {
    "duration": 278,
    "start_time": "2021-11-11T13:35:15.897Z"
   },
   {
    "duration": 329,
    "start_time": "2021-11-11T13:35:31.444Z"
   },
   {
    "duration": 451,
    "start_time": "2021-11-11T13:35:34.370Z"
   },
   {
    "duration": 248,
    "start_time": "2021-11-11T13:35:39.048Z"
   },
   {
    "duration": 272,
    "start_time": "2021-11-11T13:35:55.249Z"
   },
   {
    "duration": 255,
    "start_time": "2021-11-11T13:36:37.267Z"
   },
   {
    "duration": 265,
    "start_time": "2021-11-11T13:36:45.992Z"
   },
   {
    "duration": 242,
    "start_time": "2021-11-11T13:37:37.192Z"
   },
   {
    "duration": 264,
    "start_time": "2021-11-11T13:37:47.970Z"
   },
   {
    "duration": 26,
    "start_time": "2021-11-11T13:41:05.421Z"
   },
   {
    "duration": 255,
    "start_time": "2021-11-11T13:46:20.146Z"
   },
   {
    "duration": 254,
    "start_time": "2021-11-11T13:46:40.258Z"
   },
   {
    "duration": 256,
    "start_time": "2021-11-11T13:46:59.523Z"
   },
   {
    "duration": 9,
    "start_time": "2021-11-11T13:49:50.366Z"
   },
   {
    "duration": 340,
    "start_time": "2021-11-11T13:50:46.804Z"
   },
   {
    "duration": 537,
    "start_time": "2021-11-11T13:55:26.771Z"
   },
   {
    "duration": 561,
    "start_time": "2021-11-11T13:56:15.546Z"
   },
   {
    "duration": 180,
    "start_time": "2021-11-11T13:57:16.743Z"
   },
   {
    "duration": 368,
    "start_time": "2021-11-11T13:58:50.766Z"
   },
   {
    "duration": 194,
    "start_time": "2021-11-11T13:59:13.703Z"
   },
   {
    "duration": 193,
    "start_time": "2021-11-11T13:59:41.878Z"
   },
   {
    "duration": 550,
    "start_time": "2021-11-11T14:02:00.130Z"
   },
   {
    "duration": 556,
    "start_time": "2021-11-11T14:02:51.231Z"
   },
   {
    "duration": 161,
    "start_time": "2021-11-11T14:03:17.929Z"
   },
   {
    "duration": 174,
    "start_time": "2021-11-11T14:09:15.173Z"
   },
   {
    "duration": 191,
    "start_time": "2021-11-11T14:09:39.164Z"
   },
   {
    "duration": 254,
    "start_time": "2021-11-11T14:10:34.502Z"
   },
   {
    "duration": 270,
    "start_time": "2021-11-11T14:11:26.023Z"
   },
   {
    "duration": 196,
    "start_time": "2021-11-11T15:52:44.412Z"
   },
   {
    "duration": 185,
    "start_time": "2021-11-11T15:53:10.702Z"
   },
   {
    "duration": 197,
    "start_time": "2021-11-11T15:53:57.909Z"
   },
   {
    "duration": 183,
    "start_time": "2021-11-11T15:54:08.026Z"
   },
   {
    "duration": 608,
    "start_time": "2021-11-11T16:38:29.699Z"
   },
   {
    "duration": 125,
    "start_time": "2021-11-11T16:38:37.068Z"
   },
   {
    "duration": 115,
    "start_time": "2021-11-11T16:38:47.907Z"
   },
   {
    "duration": 130,
    "start_time": "2021-11-11T16:38:56.276Z"
   },
   {
    "duration": 28,
    "start_time": "2021-11-11T16:39:03.987Z"
   },
   {
    "duration": 378,
    "start_time": "2021-11-11T16:40:27.739Z"
   },
   {
    "duration": 364,
    "start_time": "2021-11-11T16:40:45.426Z"
   },
   {
    "duration": 380,
    "start_time": "2021-11-11T16:51:28.783Z"
   },
   {
    "duration": 5,
    "start_time": "2021-11-11T16:55:20.498Z"
   },
   {
    "duration": 99,
    "start_time": "2021-11-11T16:55:20.505Z"
   },
   {
    "duration": 67,
    "start_time": "2021-11-11T16:55:20.606Z"
   },
   {
    "duration": 37,
    "start_time": "2021-11-11T16:55:20.675Z"
   },
   {
    "duration": 4,
    "start_time": "2021-11-11T16:55:20.714Z"
   },
   {
    "duration": 19,
    "start_time": "2021-11-11T16:55:20.719Z"
   },
   {
    "duration": 9,
    "start_time": "2021-11-11T16:55:20.740Z"
   },
   {
    "duration": 9,
    "start_time": "2021-11-11T16:55:20.751Z"
   },
   {
    "duration": 6,
    "start_time": "2021-11-11T16:55:20.761Z"
   },
   {
    "duration": 44,
    "start_time": "2021-11-11T16:55:20.769Z"
   },
   {
    "duration": 9,
    "start_time": "2021-11-11T16:55:20.815Z"
   },
   {
    "duration": 10,
    "start_time": "2021-11-11T16:55:20.827Z"
   },
   {
    "duration": 7,
    "start_time": "2021-11-11T16:55:20.840Z"
   },
   {
    "duration": 42,
    "start_time": "2021-11-11T16:55:20.849Z"
   },
   {
    "duration": 15,
    "start_time": "2021-11-11T16:55:20.893Z"
   },
   {
    "duration": 623,
    "start_time": "2021-11-11T16:55:20.910Z"
   },
   {
    "duration": 16,
    "start_time": "2021-11-11T16:55:21.535Z"
   },
   {
    "duration": 370,
    "start_time": "2021-11-11T16:55:21.553Z"
   },
   {
    "duration": 447,
    "start_time": "2021-11-11T16:55:21.927Z"
   },
   {
    "duration": 254,
    "start_time": "2021-11-11T16:55:22.376Z"
   },
   {
    "duration": 266,
    "start_time": "2021-11-11T16:55:22.632Z"
   },
   {
    "duration": 257,
    "start_time": "2021-11-11T16:55:22.900Z"
   },
   {
    "duration": 306,
    "start_time": "2021-11-11T16:55:23.159Z"
   },
   {
    "duration": 306,
    "start_time": "2021-11-11T16:55:23.467Z"
   },
   {
    "duration": 38,
    "start_time": "2021-11-11T16:55:23.775Z"
   },
   {
    "duration": 4,
    "start_time": "2021-11-11T16:55:23.815Z"
   },
   {
    "duration": 592,
    "start_time": "2021-11-11T16:55:23.821Z"
   },
   {
    "duration": 202,
    "start_time": "2021-11-11T16:55:24.415Z"
   },
   {
    "duration": 509,
    "start_time": "2021-11-11T16:55:24.619Z"
   },
   {
    "duration": 179,
    "start_time": "2021-11-11T16:55:25.130Z"
   },
   {
    "duration": 305,
    "start_time": "2021-11-11T16:55:25.311Z"
   },
   {
    "duration": 210,
    "start_time": "2021-11-11T16:55:25.618Z"
   },
   {
    "duration": 202,
    "start_time": "2021-11-11T16:55:25.830Z"
   },
   {
    "duration": 355,
    "start_time": "2021-11-11T16:55:29.310Z"
   },
   {
    "duration": 384,
    "start_time": "2021-11-11T16:56:36.990Z"
   },
   {
    "duration": 31,
    "start_time": "2021-11-11T16:57:22.325Z"
   },
   {
    "duration": 27,
    "start_time": "2021-11-11T16:57:40.326Z"
   },
   {
    "duration": 16,
    "start_time": "2021-11-11T16:57:56.486Z"
   },
   {
    "duration": 16,
    "start_time": "2021-11-11T16:58:04.421Z"
   },
   {
    "duration": 369,
    "start_time": "2021-11-11T16:59:13.302Z"
   },
   {
    "duration": 7,
    "start_time": "2021-11-11T16:59:37.148Z"
   },
   {
    "duration": 6,
    "start_time": "2021-11-11T17:00:32.178Z"
   },
   {
    "duration": 12,
    "start_time": "2021-11-11T17:00:32.891Z"
   },
   {
    "duration": 17,
    "start_time": "2021-11-11T17:01:00.708Z"
   },
   {
    "duration": 3,
    "start_time": "2021-11-11T17:01:10.200Z"
   },
   {
    "duration": 102,
    "start_time": "2021-11-11T17:01:10.205Z"
   },
   {
    "duration": 76,
    "start_time": "2021-11-11T17:01:10.309Z"
   },
   {
    "duration": 11,
    "start_time": "2021-11-11T17:01:10.406Z"
   },
   {
    "duration": 16,
    "start_time": "2021-11-11T17:01:10.419Z"
   },
   {
    "duration": 22,
    "start_time": "2021-11-11T17:01:10.436Z"
   },
   {
    "duration": 23,
    "start_time": "2021-11-11T17:01:10.460Z"
   },
   {
    "duration": 34,
    "start_time": "2021-11-11T17:01:10.486Z"
   },
   {
    "duration": 24,
    "start_time": "2021-11-11T17:01:10.522Z"
   },
   {
    "duration": 37,
    "start_time": "2021-11-11T17:01:10.547Z"
   },
   {
    "duration": 32,
    "start_time": "2021-11-11T17:01:10.586Z"
   },
   {
    "duration": 32,
    "start_time": "2021-11-11T17:01:10.620Z"
   },
   {
    "duration": 34,
    "start_time": "2021-11-11T17:01:10.654Z"
   },
   {
    "duration": 21,
    "start_time": "2021-11-11T17:01:10.691Z"
   },
   {
    "duration": 14,
    "start_time": "2021-11-11T17:01:10.714Z"
   },
   {
    "duration": 652,
    "start_time": "2021-11-11T17:01:10.729Z"
   },
   {
    "duration": 26,
    "start_time": "2021-11-11T17:01:11.383Z"
   },
   {
    "duration": 361,
    "start_time": "2021-11-11T17:01:11.411Z"
   },
   {
    "duration": 383,
    "start_time": "2021-11-11T17:01:11.774Z"
   },
   {
    "duration": 249,
    "start_time": "2021-11-11T17:01:12.159Z"
   },
   {
    "duration": 370,
    "start_time": "2021-11-11T17:01:12.410Z"
   },
   {
    "duration": 255,
    "start_time": "2021-11-11T17:01:12.782Z"
   },
   {
    "duration": 279,
    "start_time": "2021-11-11T17:01:13.040Z"
   },
   {
    "duration": 285,
    "start_time": "2021-11-11T17:01:13.321Z"
   },
   {
    "duration": 26,
    "start_time": "2021-11-11T17:01:13.608Z"
   },
   {
    "duration": 9,
    "start_time": "2021-11-11T17:01:13.636Z"
   },
   {
    "duration": 559,
    "start_time": "2021-11-11T17:01:13.647Z"
   },
   {
    "duration": 193,
    "start_time": "2021-11-11T17:01:14.208Z"
   },
   {
    "duration": 495,
    "start_time": "2021-11-11T17:01:14.407Z"
   },
   {
    "duration": 169,
    "start_time": "2021-11-11T17:01:14.904Z"
   },
   {
    "duration": 208,
    "start_time": "2021-11-11T17:01:15.075Z"
   },
   {
    "duration": 204,
    "start_time": "2021-11-11T17:01:15.284Z"
   },
   {
    "duration": 207,
    "start_time": "2021-11-11T17:01:15.490Z"
   },
   {
    "duration": 16,
    "start_time": "2021-11-11T17:01:38.922Z"
   },
   {
    "duration": 7,
    "start_time": "2021-11-11T17:06:42.616Z"
   },
   {
    "duration": 12,
    "start_time": "2021-11-11T17:06:45.571Z"
   },
   {
    "duration": 18,
    "start_time": "2021-11-11T17:08:46.101Z"
   },
   {
    "duration": 2,
    "start_time": "2021-11-11T17:08:59.768Z"
   },
   {
    "duration": 78,
    "start_time": "2021-11-11T17:08:59.772Z"
   },
   {
    "duration": 176,
    "start_time": "2021-11-11T17:08:59.853Z"
   },
   {
    "duration": 11,
    "start_time": "2021-11-11T17:09:00.031Z"
   },
   {
    "duration": 19,
    "start_time": "2021-11-11T17:09:00.043Z"
   },
   {
    "duration": 35,
    "start_time": "2021-11-11T17:09:00.064Z"
   },
   {
    "duration": 13,
    "start_time": "2021-11-11T17:09:00.101Z"
   },
   {
    "duration": 15,
    "start_time": "2021-11-11T17:09:00.116Z"
   },
   {
    "duration": 6,
    "start_time": "2021-11-11T17:09:00.132Z"
   },
   {
    "duration": 22,
    "start_time": "2021-11-11T17:09:00.139Z"
   },
   {
    "duration": 21,
    "start_time": "2021-11-11T17:09:00.163Z"
   },
   {
    "duration": 17,
    "start_time": "2021-11-11T17:09:00.186Z"
   },
   {
    "duration": 21,
    "start_time": "2021-11-11T17:09:00.205Z"
   },
   {
    "duration": 43,
    "start_time": "2021-11-11T17:09:00.228Z"
   },
   {
    "duration": 13,
    "start_time": "2021-11-11T17:09:00.273Z"
   },
   {
    "duration": 635,
    "start_time": "2021-11-11T17:09:00.288Z"
   },
   {
    "duration": 15,
    "start_time": "2021-11-11T17:09:00.924Z"
   },
   {
    "duration": 403,
    "start_time": "2021-11-11T17:09:00.940Z"
   },
   {
    "duration": 400,
    "start_time": "2021-11-11T17:09:01.347Z"
   },
   {
    "duration": 270,
    "start_time": "2021-11-11T17:09:01.749Z"
   },
   {
    "duration": 278,
    "start_time": "2021-11-11T17:09:02.021Z"
   },
   {
    "duration": 281,
    "start_time": "2021-11-11T17:09:02.300Z"
   },
   {
    "duration": 282,
    "start_time": "2021-11-11T17:09:02.583Z"
   },
   {
    "duration": 362,
    "start_time": "2021-11-11T17:09:02.867Z"
   },
   {
    "duration": 26,
    "start_time": "2021-11-11T17:09:03.231Z"
   },
   {
    "duration": 4,
    "start_time": "2021-11-11T17:09:03.259Z"
   },
   {
    "duration": 543,
    "start_time": "2021-11-11T17:09:03.265Z"
   },
   {
    "duration": 196,
    "start_time": "2021-11-11T17:09:03.810Z"
   },
   {
    "duration": 483,
    "start_time": "2021-11-11T17:09:04.008Z"
   },
   {
    "duration": 173,
    "start_time": "2021-11-11T17:09:04.493Z"
   },
   {
    "duration": 204,
    "start_time": "2021-11-11T17:09:04.667Z"
   },
   {
    "duration": 201,
    "start_time": "2021-11-11T17:09:04.873Z"
   },
   {
    "duration": 198,
    "start_time": "2021-11-11T17:09:05.076Z"
   },
   {
    "duration": 16,
    "start_time": "2021-11-11T17:09:05.276Z"
   },
   {
    "duration": 21,
    "start_time": "2021-11-11T17:12:15.346Z"
   },
   {
    "duration": 32,
    "start_time": "2021-11-11T17:13:26.901Z"
   },
   {
    "duration": 32,
    "start_time": "2021-11-11T17:13:35.760Z"
   },
   {
    "duration": 31,
    "start_time": "2021-11-11T17:15:14.249Z"
   },
   {
    "duration": 30,
    "start_time": "2021-11-11T17:19:07.488Z"
   },
   {
    "duration": 132,
    "start_time": "2021-11-11T17:20:04.377Z"
   },
   {
    "duration": 30,
    "start_time": "2021-11-11T17:20:14.051Z"
   },
   {
    "duration": 30,
    "start_time": "2021-11-11T17:21:08.419Z"
   },
   {
    "duration": 30,
    "start_time": "2021-11-11T17:25:19.189Z"
   },
   {
    "duration": 32,
    "start_time": "2021-11-11T17:25:44.975Z"
   },
   {
    "duration": 10757,
    "start_time": "2021-11-11T17:26:59.454Z"
   },
   {
    "duration": 11637,
    "start_time": "2021-11-11T17:27:18.526Z"
   },
   {
    "duration": 46,
    "start_time": "2021-11-11T17:28:26.447Z"
   },
   {
    "duration": 29,
    "start_time": "2021-11-11T17:29:27.875Z"
   },
   {
    "duration": 3,
    "start_time": "2021-11-11T17:29:39.454Z"
   },
   {
    "duration": 76,
    "start_time": "2021-11-11T17:29:39.459Z"
   },
   {
    "duration": 99,
    "start_time": "2021-11-11T17:29:39.537Z"
   },
   {
    "duration": 11,
    "start_time": "2021-11-11T17:29:39.639Z"
   },
   {
    "duration": 6,
    "start_time": "2021-11-11T17:29:39.652Z"
   },
   {
    "duration": 48,
    "start_time": "2021-11-11T17:29:39.660Z"
   },
   {
    "duration": 11,
    "start_time": "2021-11-11T17:29:39.711Z"
   },
   {
    "duration": 11,
    "start_time": "2021-11-11T17:29:39.725Z"
   },
   {
    "duration": 5,
    "start_time": "2021-11-11T17:29:39.738Z"
   },
   {
    "duration": 13,
    "start_time": "2021-11-11T17:29:39.745Z"
   },
   {
    "duration": 7,
    "start_time": "2021-11-11T17:29:39.760Z"
   },
   {
    "duration": 9,
    "start_time": "2021-11-11T17:29:39.806Z"
   },
   {
    "duration": 7,
    "start_time": "2021-11-11T17:29:39.817Z"
   },
   {
    "duration": 11,
    "start_time": "2021-11-11T17:29:39.826Z"
   },
   {
    "duration": 4,
    "start_time": "2021-11-11T17:29:39.839Z"
   },
   {
    "duration": 709,
    "start_time": "2021-11-11T17:29:39.845Z"
   },
   {
    "duration": 13,
    "start_time": "2021-11-11T17:29:40.555Z"
   },
   {
    "duration": 363,
    "start_time": "2021-11-11T17:29:40.570Z"
   },
   {
    "duration": 387,
    "start_time": "2021-11-11T17:29:40.937Z"
   },
   {
    "duration": 263,
    "start_time": "2021-11-11T17:29:41.326Z"
   },
   {
    "duration": 272,
    "start_time": "2021-11-11T17:29:41.591Z"
   },
   {
    "duration": 261,
    "start_time": "2021-11-11T17:29:41.865Z"
   },
   {
    "duration": 267,
    "start_time": "2021-11-11T17:29:42.127Z"
   },
   {
    "duration": 293,
    "start_time": "2021-11-11T17:29:42.395Z"
   },
   {
    "duration": 33,
    "start_time": "2021-11-11T17:29:42.689Z"
   },
   {
    "duration": 12,
    "start_time": "2021-11-11T17:29:42.724Z"
   },
   {
    "duration": 687,
    "start_time": "2021-11-11T17:29:42.738Z"
   },
   {
    "duration": 196,
    "start_time": "2021-11-11T17:29:43.427Z"
   },
   {
    "duration": 581,
    "start_time": "2021-11-11T17:29:43.625Z"
   },
   {
    "duration": 264,
    "start_time": "2021-11-11T17:29:44.209Z"
   },
   {
    "duration": 315,
    "start_time": "2021-11-11T17:29:44.476Z"
   },
   {
    "duration": 320,
    "start_time": "2021-11-11T17:29:44.793Z"
   },
   {
    "duration": 219,
    "start_time": "2021-11-11T17:29:45.115Z"
   },
   {
    "duration": 29,
    "start_time": "2021-11-11T17:29:45.336Z"
   },
   {
    "duration": 31,
    "start_time": "2021-11-11T17:30:22.947Z"
   },
   {
    "duration": 40,
    "start_time": "2021-11-11T17:31:01.515Z"
   },
   {
    "duration": 210,
    "start_time": "2021-11-11T17:34:50.598Z"
   },
   {
    "duration": 202,
    "start_time": "2021-11-11T17:36:14.389Z"
   },
   {
    "duration": 193,
    "start_time": "2021-11-11T17:37:48.805Z"
   },
   {
    "duration": 197,
    "start_time": "2021-11-11T17:39:08.586Z"
   },
   {
    "duration": 198,
    "start_time": "2021-11-11T17:39:32.885Z"
   },
   {
    "duration": 8,
    "start_time": "2021-11-11T17:40:01.562Z"
   },
   {
    "duration": 1346,
    "start_time": "2021-11-11T17:40:03.004Z"
   },
   {
    "duration": 8,
    "start_time": "2021-11-11T17:40:27.291Z"
   },
   {
    "duration": 1238,
    "start_time": "2021-11-11T17:40:28.147Z"
   },
   {
    "duration": 8,
    "start_time": "2021-11-11T17:40:39.083Z"
   },
   {
    "duration": 1430,
    "start_time": "2021-11-11T17:40:39.435Z"
   },
   {
    "duration": 8,
    "start_time": "2021-11-11T17:42:23.528Z"
   },
   {
    "duration": 1239,
    "start_time": "2021-11-11T17:44:41.231Z"
   },
   {
    "duration": 1283,
    "start_time": "2021-11-11T17:46:47.391Z"
   },
   {
    "duration": 185,
    "start_time": "2021-11-11T17:47:43.085Z"
   },
   {
    "duration": 185,
    "start_time": "2021-11-11T17:49:04.747Z"
   },
   {
    "duration": 185,
    "start_time": "2021-11-11T17:49:33.244Z"
   },
   {
    "duration": 185,
    "start_time": "2021-11-11T17:49:39.402Z"
   },
   {
    "duration": 300,
    "start_time": "2021-11-11T17:50:12.859Z"
   },
   {
    "duration": 567,
    "start_time": "2021-11-11T17:50:16.930Z"
   },
   {
    "duration": 171,
    "start_time": "2021-11-11T17:54:43.314Z"
   },
   {
    "duration": 337,
    "start_time": "2021-11-11T17:55:44.617Z"
   },
   {
    "duration": 328,
    "start_time": "2021-11-11T17:58:06.966Z"
   },
   {
    "duration": 175,
    "start_time": "2021-11-11T18:03:38.592Z"
   },
   {
    "duration": 362,
    "start_time": "2021-11-11T18:03:50.968Z"
   },
   {
    "duration": 591,
    "start_time": "2021-11-11T18:05:44.017Z"
   },
   {
    "duration": 372,
    "start_time": "2021-11-11T18:09:12.717Z"
   },
   {
    "duration": 718,
    "start_time": "2021-11-11T18:09:17.828Z"
   },
   {
    "duration": 565,
    "start_time": "2021-11-11T18:10:10.233Z"
   },
   {
    "duration": 595,
    "start_time": "2021-11-11T18:10:25.244Z"
   },
   {
    "duration": 368,
    "start_time": "2021-11-11T18:25:52.814Z"
   },
   {
    "duration": 6,
    "start_time": "2021-11-11T18:25:59.876Z"
   },
   {
    "duration": 7,
    "start_time": "2021-11-11T18:26:11.788Z"
   },
   {
    "duration": 5,
    "start_time": "2021-11-11T18:26:25.941Z"
   },
   {
    "duration": 6,
    "start_time": "2021-11-11T18:26:56.225Z"
   },
   {
    "duration": 779,
    "start_time": "2021-11-11T18:36:16.190Z"
   },
   {
    "duration": 1334,
    "start_time": "2021-11-11T18:36:22.483Z"
   },
   {
    "duration": 1529,
    "start_time": "2021-11-11T18:36:34.645Z"
   },
   {
    "duration": 1196,
    "start_time": "2021-11-11T18:37:29.390Z"
   },
   {
    "duration": 1357,
    "start_time": "2021-11-11T18:37:49.051Z"
   },
   {
    "duration": 112,
    "start_time": "2021-11-11T18:52:39.078Z"
   },
   {
    "duration": 2,
    "start_time": "2021-11-11T18:58:50.767Z"
   },
   {
    "duration": 85,
    "start_time": "2021-11-11T18:58:50.773Z"
   },
   {
    "duration": 84,
    "start_time": "2021-11-11T18:58:50.861Z"
   },
   {
    "duration": 12,
    "start_time": "2021-11-11T18:58:50.947Z"
   },
   {
    "duration": 49,
    "start_time": "2021-11-11T18:58:50.960Z"
   },
   {
    "duration": 21,
    "start_time": "2021-11-11T18:58:51.011Z"
   },
   {
    "duration": 20,
    "start_time": "2021-11-11T18:58:51.034Z"
   },
   {
    "duration": 19,
    "start_time": "2021-11-11T18:58:51.056Z"
   },
   {
    "duration": 11,
    "start_time": "2021-11-11T18:58:51.079Z"
   },
   {
    "duration": 27,
    "start_time": "2021-11-11T18:58:51.093Z"
   },
   {
    "duration": 17,
    "start_time": "2021-11-11T18:58:51.122Z"
   },
   {
    "duration": 9,
    "start_time": "2021-11-11T18:58:51.141Z"
   },
   {
    "duration": 7,
    "start_time": "2021-11-11T18:58:51.151Z"
   },
   {
    "duration": 12,
    "start_time": "2021-11-11T18:58:51.160Z"
   },
   {
    "duration": 5,
    "start_time": "2021-11-11T18:58:51.174Z"
   },
   {
    "duration": 635,
    "start_time": "2021-11-11T18:58:51.181Z"
   },
   {
    "duration": 15,
    "start_time": "2021-11-11T18:58:51.817Z"
   },
   {
    "duration": 346,
    "start_time": "2021-11-11T18:58:51.834Z"
   },
   {
    "duration": 513,
    "start_time": "2021-11-11T18:58:52.182Z"
   },
   {
    "duration": 267,
    "start_time": "2021-11-11T18:58:52.696Z"
   },
   {
    "duration": 274,
    "start_time": "2021-11-11T18:58:52.965Z"
   },
   {
    "duration": 266,
    "start_time": "2021-11-11T18:58:53.240Z"
   },
   {
    "duration": 275,
    "start_time": "2021-11-11T18:58:53.508Z"
   },
   {
    "duration": 272,
    "start_time": "2021-11-11T18:58:53.786Z"
   },
   {
    "duration": 25,
    "start_time": "2021-11-11T18:58:54.060Z"
   },
   {
    "duration": 21,
    "start_time": "2021-11-11T18:58:54.086Z"
   },
   {
    "duration": 515,
    "start_time": "2021-11-11T18:58:54.109Z"
   },
   {
    "duration": 202,
    "start_time": "2021-11-11T18:58:54.626Z"
   },
   {
    "duration": 544,
    "start_time": "2021-11-11T18:58:54.831Z"
   },
   {
    "duration": 173,
    "start_time": "2021-11-11T18:58:55.377Z"
   },
   {
    "duration": 200,
    "start_time": "2021-11-11T18:58:55.552Z"
   },
   {
    "duration": 205,
    "start_time": "2021-11-11T18:58:55.754Z"
   },
   {
    "duration": 205,
    "start_time": "2021-11-11T18:58:55.961Z"
   },
   {
    "duration": 51,
    "start_time": "2021-11-11T18:58:56.168Z"
   },
   {
    "duration": 229,
    "start_time": "2021-11-11T18:58:56.220Z"
   },
   {
    "duration": 9,
    "start_time": "2021-11-11T18:58:56.451Z"
   },
   {
    "duration": 1368,
    "start_time": "2021-11-11T18:58:56.462Z"
   },
   {
    "duration": 205,
    "start_time": "2021-11-11T18:58:57.831Z"
   },
   {
    "duration": 190,
    "start_time": "2021-11-11T18:58:58.038Z"
   },
   {
    "duration": 336,
    "start_time": "2021-11-11T18:58:58.230Z"
   },
   {
    "duration": 578,
    "start_time": "2021-11-11T18:58:58.568Z"
   },
   {
    "duration": 946,
    "start_time": "2021-11-12T11:12:47.299Z"
   },
   {
    "duration": 84,
    "start_time": "2021-11-12T11:12:48.248Z"
   },
   {
    "duration": 116,
    "start_time": "2021-11-12T11:12:48.335Z"
   },
   {
    "duration": 15,
    "start_time": "2021-11-12T11:12:48.454Z"
   },
   {
    "duration": 5,
    "start_time": "2021-11-12T11:12:48.471Z"
   },
   {
    "duration": 67,
    "start_time": "2021-11-12T11:12:48.478Z"
   },
   {
    "duration": 20,
    "start_time": "2021-11-12T11:12:48.548Z"
   },
   {
    "duration": 61,
    "start_time": "2021-11-12T11:12:48.572Z"
   },
   {
    "duration": 7,
    "start_time": "2021-11-12T11:12:48.636Z"
   },
   {
    "duration": 15,
    "start_time": "2021-11-12T11:12:48.645Z"
   },
   {
    "duration": 9,
    "start_time": "2021-11-12T11:12:48.662Z"
   },
   {
    "duration": 12,
    "start_time": "2021-11-12T11:12:48.730Z"
   },
   {
    "duration": 12,
    "start_time": "2021-11-12T11:12:48.744Z"
   },
   {
    "duration": 18,
    "start_time": "2021-11-12T11:12:48.758Z"
   },
   {
    "duration": 55,
    "start_time": "2021-11-12T11:12:48.778Z"
   },
   {
    "duration": 1261,
    "start_time": "2021-11-12T11:12:48.835Z"
   },
   {
    "duration": 32,
    "start_time": "2021-11-12T11:12:50.098Z"
   },
   {
    "duration": 604,
    "start_time": "2021-11-12T11:12:50.133Z"
   },
   {
    "duration": 607,
    "start_time": "2021-11-12T11:12:50.739Z"
   },
   {
    "duration": 383,
    "start_time": "2021-11-12T11:12:51.349Z"
   },
   {
    "duration": 427,
    "start_time": "2021-11-12T11:12:51.734Z"
   },
   {
    "duration": 404,
    "start_time": "2021-11-12T11:12:52.164Z"
   },
   {
    "duration": 422,
    "start_time": "2021-11-12T11:12:52.573Z"
   },
   {
    "duration": 533,
    "start_time": "2021-11-12T11:12:52.999Z"
   },
   {
    "duration": 46,
    "start_time": "2021-11-12T11:12:53.534Z"
   },
   {
    "duration": 7,
    "start_time": "2021-11-12T11:12:53.583Z"
   },
   {
    "duration": 778,
    "start_time": "2021-11-12T11:12:53.592Z"
   },
   {
    "duration": 300,
    "start_time": "2021-11-12T11:12:54.373Z"
   },
   {
    "duration": 720,
    "start_time": "2021-11-12T11:12:54.675Z"
   },
   {
    "duration": 344,
    "start_time": "2021-11-12T11:12:55.397Z"
   },
   {
    "duration": 307,
    "start_time": "2021-11-12T11:12:55.744Z"
   },
   {
    "duration": 317,
    "start_time": "2021-11-12T11:12:56.054Z"
   },
   {
    "duration": 308,
    "start_time": "2021-11-12T11:12:56.373Z"
   },
   {
    "duration": 70,
    "start_time": "2021-11-12T11:12:56.684Z"
   },
   {
    "duration": 349,
    "start_time": "2021-11-12T11:12:56.757Z"
   },
   {
    "duration": 22,
    "start_time": "2021-11-12T11:12:57.108Z"
   },
   {
    "duration": 1855,
    "start_time": "2021-11-12T11:12:57.132Z"
   },
   {
    "duration": 303,
    "start_time": "2021-11-12T11:12:58.990Z"
   },
   {
    "duration": 367,
    "start_time": "2021-11-12T11:12:59.297Z"
   },
   {
    "duration": 455,
    "start_time": "2021-11-12T11:12:59.666Z"
   },
   {
    "duration": 916,
    "start_time": "2021-11-12T11:13:00.128Z"
   },
   {
    "duration": 656,
    "start_time": "2021-11-12T18:40:08.523Z"
   },
   {
    "duration": 63,
    "start_time": "2021-11-12T18:40:09.181Z"
   },
   {
    "duration": 438,
    "start_time": "2021-11-12T18:45:01.144Z"
   },
   {
    "duration": 10,
    "start_time": "2021-11-12T18:45:07.974Z"
   },
   {
    "duration": 160,
    "start_time": "2021-11-12T18:47:06.484Z"
   },
   {
    "duration": 119,
    "start_time": "2021-11-12T18:47:31.316Z"
   },
   {
    "duration": 12,
    "start_time": "2021-11-12T18:47:38.979Z"
   },
   {
    "duration": 12,
    "start_time": "2021-11-12T18:47:46.963Z"
   },
   {
    "duration": 10,
    "start_time": "2021-11-12T18:47:53.354Z"
   },
   {
    "duration": 127,
    "start_time": "2021-11-12T18:54:33.550Z"
   },
   {
    "duration": 376,
    "start_time": "2021-11-12T18:54:53.623Z"
   },
   {
    "duration": 48,
    "start_time": "2021-11-12T18:55:04.372Z"
   },
   {
    "duration": 78,
    "start_time": "2021-11-12T18:56:18.701Z"
   },
   {
    "duration": 91,
    "start_time": "2021-11-12T18:56:27.549Z"
   },
   {
    "duration": 57,
    "start_time": "2021-11-12T18:57:17.323Z"
   },
   {
    "duration": 49,
    "start_time": "2021-11-12T18:57:59.787Z"
   },
   {
    "duration": 51,
    "start_time": "2021-11-12T18:58:12.930Z"
   },
   {
    "duration": 3,
    "start_time": "2021-11-12T18:58:25.251Z"
   },
   {
    "duration": 80,
    "start_time": "2021-11-12T18:58:25.255Z"
   },
   {
    "duration": 87,
    "start_time": "2021-11-12T18:58:25.337Z"
   },
   {
    "duration": 12,
    "start_time": "2021-11-12T18:58:25.426Z"
   },
   {
    "duration": 4,
    "start_time": "2021-11-12T18:58:25.440Z"
   },
   {
    "duration": 17,
    "start_time": "2021-11-12T18:58:25.446Z"
   },
   {
    "duration": 7,
    "start_time": "2021-11-12T18:58:25.466Z"
   },
   {
    "duration": 38,
    "start_time": "2021-11-12T18:58:25.475Z"
   },
   {
    "duration": 4,
    "start_time": "2021-11-12T18:58:25.514Z"
   },
   {
    "duration": 13,
    "start_time": "2021-11-12T18:58:25.520Z"
   },
   {
    "duration": 8,
    "start_time": "2021-11-12T18:58:25.535Z"
   },
   {
    "duration": 7,
    "start_time": "2021-11-12T18:58:25.545Z"
   },
   {
    "duration": 5,
    "start_time": "2021-11-12T18:58:25.554Z"
   },
   {
    "duration": 11,
    "start_time": "2021-11-12T18:58:25.560Z"
   },
   {
    "duration": 37,
    "start_time": "2021-11-12T18:58:25.572Z"
   },
   {
    "duration": 538,
    "start_time": "2021-11-12T18:58:25.610Z"
   },
   {
    "duration": 14,
    "start_time": "2021-11-12T18:58:26.150Z"
   },
   {
    "duration": 359,
    "start_time": "2021-11-12T18:58:26.165Z"
   },
   {
    "duration": 342,
    "start_time": "2021-11-12T18:58:26.528Z"
   },
   {
    "duration": 222,
    "start_time": "2021-11-12T18:58:26.872Z"
   },
   {
    "duration": 242,
    "start_time": "2021-11-12T18:58:27.096Z"
   },
   {
    "duration": 246,
    "start_time": "2021-11-12T18:58:27.340Z"
   },
   {
    "duration": 244,
    "start_time": "2021-11-12T18:58:27.588Z"
   },
   {
    "duration": 241,
    "start_time": "2021-11-12T18:58:27.833Z"
   },
   {
    "duration": 32,
    "start_time": "2021-11-12T18:58:28.075Z"
   },
   {
    "duration": 67,
    "start_time": "2021-11-12T18:58:28.109Z"
   },
   {
    "duration": 85,
    "start_time": "2021-11-12T18:58:39.586Z"
   },
   {
    "duration": 87,
    "start_time": "2021-11-12T18:58:46.242Z"
   },
   {
    "duration": 534,
    "start_time": "2021-11-12T18:59:59.241Z"
   },
   {
    "duration": 169,
    "start_time": "2021-11-12T19:00:06.545Z"
   },
   {
    "duration": 541,
    "start_time": "2021-11-12T19:00:12.649Z"
   },
   {
    "duration": 135,
    "start_time": "2021-11-12T19:00:19.720Z"
   },
   {
    "duration": 169,
    "start_time": "2021-11-12T19:00:21.911Z"
   },
   {
    "duration": 168,
    "start_time": "2021-11-12T19:00:24.248Z"
   },
   {
    "duration": 161,
    "start_time": "2021-11-12T19:00:25.774Z"
   },
   {
    "duration": 39,
    "start_time": "2021-11-12T19:00:27.559Z"
   },
   {
    "duration": 182,
    "start_time": "2021-11-12T19:00:30.495Z"
   },
   {
    "duration": 8,
    "start_time": "2021-11-12T19:00:33.079Z"
   },
   {
    "duration": 1004,
    "start_time": "2021-11-12T19:00:33.391Z"
   },
   {
    "duration": 212,
    "start_time": "2021-11-12T19:00:34.808Z"
   },
   {
    "duration": 140,
    "start_time": "2021-11-12T19:00:35.623Z"
   },
   {
    "duration": 292,
    "start_time": "2021-11-12T19:00:36.536Z"
   },
   {
    "duration": 485,
    "start_time": "2021-11-12T19:00:37.727Z"
   },
   {
    "duration": 2,
    "start_time": "2021-11-12T19:05:15.022Z"
   },
   {
    "duration": 82,
    "start_time": "2021-11-12T19:05:15.026Z"
   },
   {
    "duration": 57,
    "start_time": "2021-11-12T19:05:15.110Z"
   },
   {
    "duration": 39,
    "start_time": "2021-11-12T19:05:15.168Z"
   },
   {
    "duration": 4,
    "start_time": "2021-11-12T19:05:15.208Z"
   },
   {
    "duration": 14,
    "start_time": "2021-11-12T19:05:15.214Z"
   },
   {
    "duration": 8,
    "start_time": "2021-11-12T19:05:15.230Z"
   },
   {
    "duration": 6,
    "start_time": "2021-11-12T19:05:15.240Z"
   },
   {
    "duration": 6,
    "start_time": "2021-11-12T19:05:15.247Z"
   },
   {
    "duration": 10,
    "start_time": "2021-11-12T19:05:15.254Z"
   },
   {
    "duration": 42,
    "start_time": "2021-11-12T19:05:15.266Z"
   },
   {
    "duration": 7,
    "start_time": "2021-11-12T19:05:15.310Z"
   },
   {
    "duration": 8,
    "start_time": "2021-11-12T19:05:15.318Z"
   },
   {
    "duration": 15,
    "start_time": "2021-11-12T19:05:15.327Z"
   },
   {
    "duration": 4,
    "start_time": "2021-11-12T19:05:15.343Z"
   },
   {
    "duration": 539,
    "start_time": "2021-11-12T19:05:15.349Z"
   },
   {
    "duration": 17,
    "start_time": "2021-11-12T19:05:15.890Z"
   },
   {
    "duration": 306,
    "start_time": "2021-11-12T19:05:15.908Z"
   },
   {
    "duration": 382,
    "start_time": "2021-11-12T19:05:16.217Z"
   },
   {
    "duration": 218,
    "start_time": "2021-11-12T19:05:16.601Z"
   },
   {
    "duration": 229,
    "start_time": "2021-11-12T19:05:16.820Z"
   },
   {
    "duration": 226,
    "start_time": "2021-11-12T19:05:17.051Z"
   },
   {
    "duration": 236,
    "start_time": "2021-11-12T19:05:17.279Z"
   },
   {
    "duration": 235,
    "start_time": "2021-11-12T19:05:17.517Z"
   },
   {
    "duration": 23,
    "start_time": "2021-11-12T19:05:17.753Z"
   },
   {
    "duration": 102,
    "start_time": "2021-11-12T19:05:17.777Z"
   },
   {
    "duration": 3,
    "start_time": "2021-11-12T19:05:17.881Z"
   },
   {
    "duration": 504,
    "start_time": "2021-11-12T19:05:17.886Z"
   },
   {
    "duration": 182,
    "start_time": "2021-11-12T19:05:18.391Z"
   },
   {
    "duration": 496,
    "start_time": "2021-11-12T19:05:18.574Z"
   },
   {
    "duration": 153,
    "start_time": "2021-11-12T19:05:19.071Z"
   },
   {
    "duration": 178,
    "start_time": "2021-11-12T19:05:19.226Z"
   },
   {
    "duration": 254,
    "start_time": "2021-11-12T19:05:19.406Z"
   },
   {
    "duration": 178,
    "start_time": "2021-11-12T19:05:19.662Z"
   },
   {
    "duration": 36,
    "start_time": "2021-11-12T19:05:19.841Z"
   },
   {
    "duration": 199,
    "start_time": "2021-11-12T19:05:19.879Z"
   },
   {
    "duration": 7,
    "start_time": "2021-11-12T19:05:20.080Z"
   },
   {
    "duration": 1018,
    "start_time": "2021-11-12T19:05:20.088Z"
   },
   {
    "duration": 170,
    "start_time": "2021-11-12T19:05:21.108Z"
   },
   {
    "duration": 155,
    "start_time": "2021-11-12T19:05:21.280Z"
   },
   {
    "duration": 303,
    "start_time": "2021-11-12T19:05:21.437Z"
   },
   {
    "duration": 563,
    "start_time": "2021-11-12T19:05:21.741Z"
   },
   {
    "duration": 673,
    "start_time": "2021-11-17T16:52:35.490Z"
   },
   {
    "duration": 72,
    "start_time": "2021-11-17T16:52:36.165Z"
   },
   {
    "duration": 71,
    "start_time": "2021-11-17T16:52:36.239Z"
   },
   {
    "duration": 12,
    "start_time": "2021-11-17T16:52:36.312Z"
   },
   {
    "duration": 4,
    "start_time": "2021-11-17T16:52:36.325Z"
   },
   {
    "duration": 44,
    "start_time": "2021-11-17T16:52:36.331Z"
   },
   {
    "duration": 8,
    "start_time": "2021-11-17T16:52:36.377Z"
   },
   {
    "duration": 11,
    "start_time": "2021-11-17T16:52:36.387Z"
   },
   {
    "duration": 5,
    "start_time": "2021-11-17T16:52:36.400Z"
   },
   {
    "duration": 17,
    "start_time": "2021-11-17T16:52:36.408Z"
   },
   {
    "duration": 7,
    "start_time": "2021-11-17T16:52:36.427Z"
   },
   {
    "duration": 12,
    "start_time": "2021-11-17T16:52:36.463Z"
   },
   {
    "duration": 6,
    "start_time": "2021-11-17T16:52:36.477Z"
   },
   {
    "duration": 12,
    "start_time": "2021-11-17T16:52:36.484Z"
   },
   {
    "duration": 5,
    "start_time": "2021-11-17T16:52:36.498Z"
   },
   {
    "duration": 594,
    "start_time": "2021-11-17T16:52:36.505Z"
   },
   {
    "duration": 14,
    "start_time": "2021-11-17T16:52:37.101Z"
   },
   {
    "duration": 405,
    "start_time": "2021-11-17T16:52:37.117Z"
   },
   {
    "duration": 359,
    "start_time": "2021-11-17T16:52:37.524Z"
   },
   {
    "duration": 233,
    "start_time": "2021-11-17T16:52:37.885Z"
   },
   {
    "duration": 280,
    "start_time": "2021-11-17T16:52:38.120Z"
   },
   {
    "duration": 250,
    "start_time": "2021-11-17T16:52:38.402Z"
   },
   {
    "duration": 280,
    "start_time": "2021-11-17T16:52:38.654Z"
   },
   {
    "duration": 274,
    "start_time": "2021-11-17T16:52:38.936Z"
   },
   {
    "duration": 25,
    "start_time": "2021-11-17T16:52:39.212Z"
   },
   {
    "duration": 116,
    "start_time": "2021-11-17T16:52:39.238Z"
   },
   {
    "duration": 8,
    "start_time": "2021-11-17T16:52:39.357Z"
   },
   {
    "duration": 516,
    "start_time": "2021-11-17T16:52:39.367Z"
   },
   {
    "duration": 195,
    "start_time": "2021-11-17T16:52:39.884Z"
   },
   {
    "duration": 513,
    "start_time": "2021-11-17T16:52:40.081Z"
   },
   {
    "duration": 250,
    "start_time": "2021-11-17T16:52:40.596Z"
   },
   {
    "duration": 204,
    "start_time": "2021-11-17T16:52:40.848Z"
   },
   {
    "duration": 198,
    "start_time": "2021-11-17T16:52:41.054Z"
   },
   {
    "duration": 209,
    "start_time": "2021-11-17T16:52:41.254Z"
   },
   {
    "duration": 40,
    "start_time": "2021-11-17T16:52:50.951Z"
   },
   {
    "duration": 3,
    "start_time": "2021-11-17T18:44:52.272Z"
   },
   {
    "duration": 77,
    "start_time": "2021-11-17T18:44:52.278Z"
   },
   {
    "duration": 59,
    "start_time": "2021-11-17T18:44:52.357Z"
   },
   {
    "duration": 10,
    "start_time": "2021-11-17T18:44:52.418Z"
   },
   {
    "duration": 4,
    "start_time": "2021-11-17T18:44:52.430Z"
   },
   {
    "duration": 14,
    "start_time": "2021-11-17T18:44:52.464Z"
   },
   {
    "duration": 9,
    "start_time": "2021-11-17T18:44:52.479Z"
   },
   {
    "duration": 8,
    "start_time": "2021-11-17T18:44:52.490Z"
   },
   {
    "duration": 5,
    "start_time": "2021-11-17T18:44:52.501Z"
   },
   {
    "duration": 9,
    "start_time": "2021-11-17T18:44:52.508Z"
   },
   {
    "duration": 48,
    "start_time": "2021-11-17T18:44:52.519Z"
   },
   {
    "duration": 8,
    "start_time": "2021-11-17T18:44:52.569Z"
   },
   {
    "duration": 6,
    "start_time": "2021-11-17T18:44:52.579Z"
   },
   {
    "duration": 13,
    "start_time": "2021-11-17T18:44:52.586Z"
   },
   {
    "duration": 7,
    "start_time": "2021-11-17T18:44:52.601Z"
   },
   {
    "duration": 600,
    "start_time": "2021-11-17T18:44:52.609Z"
   },
   {
    "duration": 15,
    "start_time": "2021-11-17T18:44:53.211Z"
   },
   {
    "duration": 339,
    "start_time": "2021-11-17T18:44:53.227Z"
   },
   {
    "duration": 344,
    "start_time": "2021-11-17T18:44:53.568Z"
   },
   {
    "duration": 293,
    "start_time": "2021-11-17T18:44:53.913Z"
   },
   {
    "duration": 248,
    "start_time": "2021-11-17T18:44:54.207Z"
   },
   {
    "duration": 247,
    "start_time": "2021-11-17T18:44:54.456Z"
   },
   {
    "duration": 262,
    "start_time": "2021-11-17T18:44:54.705Z"
   },
   {
    "duration": 261,
    "start_time": "2021-11-17T18:44:54.971Z"
   },
   {
    "duration": 34,
    "start_time": "2021-11-17T18:44:55.234Z"
   },
   {
    "duration": 106,
    "start_time": "2021-11-17T18:44:55.270Z"
   },
   {
    "duration": 4,
    "start_time": "2021-11-17T18:44:55.378Z"
   },
   {
    "duration": 518,
    "start_time": "2021-11-17T18:44:55.384Z"
   },
   {
    "duration": 193,
    "start_time": "2021-11-17T18:44:55.904Z"
   },
   {
    "duration": 523,
    "start_time": "2021-11-17T18:44:56.099Z"
   },
   {
    "duration": 159,
    "start_time": "2021-11-17T18:44:56.624Z"
   },
   {
    "duration": 191,
    "start_time": "2021-11-17T18:44:56.784Z"
   },
   {
    "duration": 203,
    "start_time": "2021-11-17T18:44:56.976Z"
   },
   {
    "duration": 282,
    "start_time": "2021-11-17T18:44:57.181Z"
   },
   {
    "duration": 39,
    "start_time": "2021-11-17T18:44:57.465Z"
   },
   {
    "duration": 214,
    "start_time": "2021-11-17T18:44:57.506Z"
   },
   {
    "duration": 9,
    "start_time": "2021-11-17T18:44:57.721Z"
   },
   {
    "duration": 1141,
    "start_time": "2021-11-17T18:44:57.732Z"
   },
   {
    "duration": 188,
    "start_time": "2021-11-17T18:44:58.875Z"
   },
   {
    "duration": 174,
    "start_time": "2021-11-17T18:44:59.065Z"
   },
   {
    "duration": 365,
    "start_time": "2021-11-17T18:44:59.241Z"
   },
   {
    "duration": 674,
    "start_time": "2021-11-17T18:44:59.611Z"
   },
   {
    "duration": 4,
    "start_time": "2021-11-17T18:50:30.511Z"
   },
   {
    "duration": 116,
    "start_time": "2021-11-17T18:50:30.520Z"
   },
   {
    "duration": 81,
    "start_time": "2021-11-17T18:50:30.637Z"
   },
   {
    "duration": 11,
    "start_time": "2021-11-17T18:50:30.720Z"
   },
   {
    "duration": 33,
    "start_time": "2021-11-17T18:50:30.733Z"
   },
   {
    "duration": 23,
    "start_time": "2021-11-17T18:50:30.768Z"
   },
   {
    "duration": 18,
    "start_time": "2021-11-17T18:50:30.793Z"
   },
   {
    "duration": 28,
    "start_time": "2021-11-17T18:50:30.812Z"
   },
   {
    "duration": 17,
    "start_time": "2021-11-17T18:50:30.842Z"
   },
   {
    "duration": 23,
    "start_time": "2021-11-17T18:50:30.862Z"
   },
   {
    "duration": 29,
    "start_time": "2021-11-17T18:50:30.887Z"
   },
   {
    "duration": 21,
    "start_time": "2021-11-17T18:50:30.918Z"
   },
   {
    "duration": 17,
    "start_time": "2021-11-17T18:50:30.941Z"
   },
   {
    "duration": 27,
    "start_time": "2021-11-17T18:50:30.960Z"
   },
   {
    "duration": 18,
    "start_time": "2021-11-17T18:50:30.988Z"
   },
   {
    "duration": 579,
    "start_time": "2021-11-17T18:50:31.007Z"
   },
   {
    "duration": 14,
    "start_time": "2021-11-17T18:50:31.588Z"
   },
   {
    "duration": 353,
    "start_time": "2021-11-17T18:50:31.603Z"
   },
   {
    "duration": 351,
    "start_time": "2021-11-17T18:50:31.963Z"
   },
   {
    "duration": 236,
    "start_time": "2021-11-17T18:50:32.316Z"
   },
   {
    "duration": 249,
    "start_time": "2021-11-17T18:50:32.553Z"
   },
   {
    "duration": 248,
    "start_time": "2021-11-17T18:50:32.804Z"
   },
   {
    "duration": 359,
    "start_time": "2021-11-17T18:50:33.054Z"
   },
   {
    "duration": 271,
    "start_time": "2021-11-17T18:50:33.417Z"
   },
   {
    "duration": 26,
    "start_time": "2021-11-17T18:50:33.691Z"
   },
   {
    "duration": 3,
    "start_time": "2021-11-17T18:50:33.719Z"
   },
   {
    "duration": 8,
    "start_time": "2021-11-17T18:50:33.725Z"
   },
   {
    "duration": 522,
    "start_time": "2021-11-17T18:50:33.735Z"
   },
   {
    "duration": 190,
    "start_time": "2021-11-17T18:50:34.263Z"
   },
   {
    "duration": 485,
    "start_time": "2021-11-17T18:50:34.455Z"
   },
   {
    "duration": 167,
    "start_time": "2021-11-17T18:50:34.943Z"
   },
   {
    "duration": 189,
    "start_time": "2021-11-17T18:50:35.111Z"
   },
   {
    "duration": 209,
    "start_time": "2021-11-17T18:50:35.302Z"
   },
   {
    "duration": 185,
    "start_time": "2021-11-17T18:50:35.513Z"
   },
   {
    "duration": 39,
    "start_time": "2021-11-17T18:50:35.700Z"
   },
   {
    "duration": 225,
    "start_time": "2021-11-17T18:50:35.740Z"
   },
   {
    "duration": 9,
    "start_time": "2021-11-17T18:50:35.967Z"
   },
   {
    "duration": 1245,
    "start_time": "2021-11-17T18:50:35.977Z"
   },
   {
    "duration": 182,
    "start_time": "2021-11-17T18:50:37.224Z"
   },
   {
    "duration": 172,
    "start_time": "2021-11-17T18:50:37.407Z"
   },
   {
    "duration": 317,
    "start_time": "2021-11-17T18:50:37.581Z"
   },
   {
    "duration": 545,
    "start_time": "2021-11-17T18:50:37.900Z"
   },
   {
    "duration": 3,
    "start_time": "2021-11-17T18:55:44.689Z"
   },
   {
    "duration": 75,
    "start_time": "2021-11-17T18:55:44.698Z"
   },
   {
    "duration": 88,
    "start_time": "2021-11-17T18:55:44.775Z"
   },
   {
    "duration": 11,
    "start_time": "2021-11-17T18:55:44.865Z"
   },
   {
    "duration": 4,
    "start_time": "2021-11-17T18:55:44.879Z"
   },
   {
    "duration": 17,
    "start_time": "2021-11-17T18:55:44.884Z"
   },
   {
    "duration": 9,
    "start_time": "2021-11-17T18:55:44.903Z"
   },
   {
    "duration": 50,
    "start_time": "2021-11-17T18:55:44.914Z"
   },
   {
    "duration": 7,
    "start_time": "2021-11-17T18:55:44.966Z"
   },
   {
    "duration": 21,
    "start_time": "2021-11-17T18:55:44.975Z"
   },
   {
    "duration": 16,
    "start_time": "2021-11-17T18:55:44.998Z"
   },
   {
    "duration": 17,
    "start_time": "2021-11-17T18:55:45.016Z"
   },
   {
    "duration": 31,
    "start_time": "2021-11-17T18:55:45.035Z"
   },
   {
    "duration": 15,
    "start_time": "2021-11-17T18:55:45.069Z"
   },
   {
    "duration": 5,
    "start_time": "2021-11-17T18:55:45.085Z"
   },
   {
    "duration": 723,
    "start_time": "2021-11-17T18:55:45.091Z"
   },
   {
    "duration": 13,
    "start_time": "2021-11-17T18:55:45.816Z"
   },
   {
    "duration": 349,
    "start_time": "2021-11-17T18:55:45.830Z"
   },
   {
    "duration": 369,
    "start_time": "2021-11-17T18:55:46.181Z"
   },
   {
    "duration": 243,
    "start_time": "2021-11-17T18:55:46.552Z"
   },
   {
    "duration": 262,
    "start_time": "2021-11-17T18:55:46.797Z"
   },
   {
    "duration": 250,
    "start_time": "2021-11-17T18:55:47.063Z"
   },
   {
    "duration": 266,
    "start_time": "2021-11-17T18:55:47.315Z"
   },
   {
    "duration": 266,
    "start_time": "2021-11-17T18:55:47.584Z"
   },
   {
    "duration": 13,
    "start_time": "2021-11-17T18:55:47.852Z"
   },
   {
    "duration": 569,
    "start_time": "2021-11-17T18:55:47.867Z"
   },
   {
    "duration": 319,
    "start_time": "2021-11-17T18:55:48.438Z"
   },
   {
    "duration": 499,
    "start_time": "2021-11-17T18:55:48.759Z"
   },
   {
    "duration": 168,
    "start_time": "2021-11-17T18:55:49.263Z"
   },
   {
    "duration": 199,
    "start_time": "2021-11-17T18:55:49.433Z"
   },
   {
    "duration": 207,
    "start_time": "2021-11-17T18:55:49.634Z"
   },
   {
    "duration": 201,
    "start_time": "2021-11-17T18:55:49.843Z"
   },
   {
    "duration": 51,
    "start_time": "2021-11-17T18:55:50.046Z"
   },
   {
    "duration": 218,
    "start_time": "2021-11-17T18:55:50.099Z"
   },
   {
    "duration": 9,
    "start_time": "2021-11-17T18:55:50.319Z"
   },
   {
    "duration": 1298,
    "start_time": "2021-11-17T18:55:50.330Z"
   },
   {
    "duration": 194,
    "start_time": "2021-11-17T18:55:51.629Z"
   },
   {
    "duration": 180,
    "start_time": "2021-11-17T18:55:51.825Z"
   },
   {
    "duration": 338,
    "start_time": "2021-11-17T18:55:52.006Z"
   },
   {
    "duration": 569,
    "start_time": "2021-11-17T18:55:52.346Z"
   }
  ],
  "kernelspec": {
   "display_name": "Python 3",
   "language": "python",
   "name": "python3"
  },
  "language_info": {
   "codemirror_mode": {
    "name": "ipython",
    "version": 3
   },
   "file_extension": ".py",
   "mimetype": "text/x-python",
   "name": "python",
   "nbconvert_exporter": "python",
   "pygments_lexer": "ipython3",
   "version": "3.7.8"
  },
  "toc": {
   "base_numbering": 1,
   "nav_menu": {},
   "number_sections": true,
   "sideBar": true,
   "skip_h1_title": true,
   "title_cell": "Содержание",
   "title_sidebar": "Contents",
   "toc_cell": true,
   "toc_position": {
    "height": "calc(100% - 180px)",
    "left": "10px",
    "top": "150px",
    "width": "270px"
   },
   "toc_section_display": true,
   "toc_window_display": true
  }
 },
 "nbformat": 4,
 "nbformat_minor": 2
}
