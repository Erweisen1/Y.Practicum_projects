{
 "cells": [
  {
   "cell_type": "markdown",
   "metadata": {
    "id": "E0vqbgi9ay0H"
   },
   "source": [
    "# Яндекс.Музыка"
   ]
  },
  {
   "cell_type": "markdown",
   "metadata": {
    "id": "VUC88oWjTJw2"
   },
   "source": [
    "Сравнение Москвы и Петербурга окружено мифами. Например:\n",
    " * Москва — мегаполис, подчинённый жёсткому ритму рабочей недели;\n",
    " * Петербург — культурная столица, со своими вкусами.\n",
    "\n",
    "На данных Яндекс.Музыки вы сравните поведение пользователей двух столиц.\n",
    "\n",
    "**Цель исследования** — проверьте три гипотезы:\n",
    "1. Активность пользователей зависит от дня недели. Причём в Москве и Петербурге это проявляется по-разному.\n",
    "2. В понедельник утром в Москве преобладают одни жанры, а в Петербурге — другие. Так же и вечером пятницы преобладают разные жанры — в зависимости от города. \n",
    "3. Москва и Петербург предпочитают разные жанры музыки. В Москве чаще слушают поп-музыку, в Петербурге — русский рэп.\n",
    "\n",
    "**Ход исследования**\n",
    "\n",
    "Данные о поведении пользователей вы получите из файла `yandex_music_project.csv`. О качестве данных ничего не известно. Поэтому перед проверкой гипотез понадобится обзор данных. \n",
    "\n",
    "Вы проверите данные на ошибки и оцените их влияние на исследование. Затем, на этапе предобработки вы поищете возможность исправить самые критичные ошибки данных.\n",
    " \n",
    "Таким образом, исследование пройдёт в три этапа:\n",
    " 1. Обзор данных.\n",
    " 2. Предобработка данных.\n",
    " 3. Проверка гипотез.\n",
    "\n"
   ]
  },
  {
   "cell_type": "markdown",
   "metadata": {
    "id": "Ml1hmfXC_Zcs"
   },
   "source": [
    "## Обзор данных\n",
    "\n",
    "Составьте первое представление о данных Яндекс.Музыки.\n",
    "\n",
    "\n"
   ]
  },
  {
   "cell_type": "markdown",
   "metadata": {
    "id": "57eAOGIz_Zcs"
   },
   "source": [
    "Основной инструмент аналитика — `pandas`. Импортируйте эту библиотеку."
   ]
  },
  {
   "cell_type": "code",
   "execution_count": 28,
   "metadata": {
    "id": "AXN7PHPN_Zcs"
   },
   "outputs": [],
   "source": [
    "import pandas as pd"
   ]
  },
  {
   "cell_type": "code",
   "execution_count": 30,
   "metadata": {
    "id": "oWTVX3gW_Zct"
   },
   "outputs": [
    {
     "data": {
      "text/html": [
       "<div>\n",
       "<style scoped>\n",
       "    .dataframe tbody tr th:only-of-type {\n",
       "        vertical-align: middle;\n",
       "    }\n",
       "\n",
       "    .dataframe tbody tr th {\n",
       "        vertical-align: top;\n",
       "    }\n",
       "\n",
       "    .dataframe thead th {\n",
       "        text-align: right;\n",
       "    }\n",
       "</style>\n",
       "<table border=\"1\" class=\"dataframe\">\n",
       "  <thead>\n",
       "    <tr style=\"text-align: right;\">\n",
       "      <th></th>\n",
       "      <th>userID</th>\n",
       "      <th>Track</th>\n",
       "      <th>artist</th>\n",
       "      <th>genre</th>\n",
       "      <th>City</th>\n",
       "      <th>time</th>\n",
       "      <th>Day</th>\n",
       "    </tr>\n",
       "  </thead>\n",
       "  <tbody>\n",
       "    <tr>\n",
       "      <td>0</td>\n",
       "      <td>FFB692EC</td>\n",
       "      <td>Kamigata To Boots</td>\n",
       "      <td>The Mass Missile</td>\n",
       "      <td>rock</td>\n",
       "      <td>Saint-Petersburg</td>\n",
       "      <td>20:28:33</td>\n",
       "      <td>Wednesday</td>\n",
       "    </tr>\n",
       "    <tr>\n",
       "      <td>1</td>\n",
       "      <td>55204538</td>\n",
       "      <td>Delayed Because of Accident</td>\n",
       "      <td>Andreas Rönnberg</td>\n",
       "      <td>rock</td>\n",
       "      <td>Moscow</td>\n",
       "      <td>14:07:09</td>\n",
       "      <td>Friday</td>\n",
       "    </tr>\n",
       "    <tr>\n",
       "      <td>2</td>\n",
       "      <td>20EC38</td>\n",
       "      <td>Funiculì funiculà</td>\n",
       "      <td>Mario Lanza</td>\n",
       "      <td>pop</td>\n",
       "      <td>Saint-Petersburg</td>\n",
       "      <td>20:58:07</td>\n",
       "      <td>Wednesday</td>\n",
       "    </tr>\n",
       "    <tr>\n",
       "      <td>3</td>\n",
       "      <td>A3DD03C9</td>\n",
       "      <td>Dragons in the Sunset</td>\n",
       "      <td>Fire + Ice</td>\n",
       "      <td>folk</td>\n",
       "      <td>Saint-Petersburg</td>\n",
       "      <td>08:37:09</td>\n",
       "      <td>Monday</td>\n",
       "    </tr>\n",
       "    <tr>\n",
       "      <td>4</td>\n",
       "      <td>E2DC1FAE</td>\n",
       "      <td>Soul People</td>\n",
       "      <td>Space Echo</td>\n",
       "      <td>dance</td>\n",
       "      <td>Moscow</td>\n",
       "      <td>08:34:34</td>\n",
       "      <td>Monday</td>\n",
       "    </tr>\n",
       "    <tr>\n",
       "      <td>5</td>\n",
       "      <td>842029A1</td>\n",
       "      <td>Преданная</td>\n",
       "      <td>IMPERVTOR</td>\n",
       "      <td>rusrap</td>\n",
       "      <td>Saint-Petersburg</td>\n",
       "      <td>13:09:41</td>\n",
       "      <td>Friday</td>\n",
       "    </tr>\n",
       "    <tr>\n",
       "      <td>6</td>\n",
       "      <td>4CB90AA5</td>\n",
       "      <td>True</td>\n",
       "      <td>Roman Messer</td>\n",
       "      <td>dance</td>\n",
       "      <td>Moscow</td>\n",
       "      <td>13:00:07</td>\n",
       "      <td>Wednesday</td>\n",
       "    </tr>\n",
       "    <tr>\n",
       "      <td>7</td>\n",
       "      <td>F03E1C1F</td>\n",
       "      <td>Feeling This Way</td>\n",
       "      <td>Polina Griffith</td>\n",
       "      <td>dance</td>\n",
       "      <td>Moscow</td>\n",
       "      <td>20:47:49</td>\n",
       "      <td>Wednesday</td>\n",
       "    </tr>\n",
       "    <tr>\n",
       "      <td>8</td>\n",
       "      <td>8FA1D3BE</td>\n",
       "      <td>И вновь продолжается бой</td>\n",
       "      <td>NaN</td>\n",
       "      <td>ruspop</td>\n",
       "      <td>Moscow</td>\n",
       "      <td>09:17:40</td>\n",
       "      <td>Friday</td>\n",
       "    </tr>\n",
       "    <tr>\n",
       "      <td>9</td>\n",
       "      <td>E772D5C0</td>\n",
       "      <td>Pessimist</td>\n",
       "      <td>NaN</td>\n",
       "      <td>dance</td>\n",
       "      <td>Saint-Petersburg</td>\n",
       "      <td>21:20:49</td>\n",
       "      <td>Wednesday</td>\n",
       "    </tr>\n",
       "  </tbody>\n",
       "</table>\n",
       "</div>"
      ],
      "text/plain": [
       "     userID                        Track            artist   genre  \\\n",
       "0  FFB692EC            Kamigata To Boots  The Mass Missile    rock   \n",
       "1  55204538  Delayed Because of Accident  Andreas Rönnberg    rock   \n",
       "2    20EC38            Funiculì funiculà       Mario Lanza     pop   \n",
       "3  A3DD03C9        Dragons in the Sunset        Fire + Ice    folk   \n",
       "4  E2DC1FAE                  Soul People        Space Echo   dance   \n",
       "5  842029A1                    Преданная         IMPERVTOR  rusrap   \n",
       "6  4CB90AA5                         True      Roman Messer   dance   \n",
       "7  F03E1C1F             Feeling This Way   Polina Griffith   dance   \n",
       "8  8FA1D3BE     И вновь продолжается бой               NaN  ruspop   \n",
       "9  E772D5C0                    Pessimist               NaN   dance   \n",
       "\n",
       "             City        time        Day  \n",
       "0  Saint-Petersburg  20:28:33  Wednesday  \n",
       "1            Moscow  14:07:09     Friday  \n",
       "2  Saint-Petersburg  20:58:07  Wednesday  \n",
       "3  Saint-Petersburg  08:37:09     Monday  \n",
       "4            Moscow  08:34:34     Monday  \n",
       "5  Saint-Petersburg  13:09:41     Friday  \n",
       "6            Moscow  13:00:07  Wednesday  \n",
       "7            Moscow  20:47:49  Wednesday  \n",
       "8            Moscow  09:17:40     Friday  \n",
       "9  Saint-Petersburg  21:20:49  Wednesday  "
      ]
     },
     "execution_count": 30,
     "metadata": {},
     "output_type": "execute_result"
    }
   ],
   "source": [
    "# Чтение файла с данными и сохранение в df\n",
    "df = pd.read_csv('/datasets/yandex_music_project.csv')\n",
    "\n",
    "# Получение первых 10 строк таблицы df\n",
    "df.head(10)"
   ]
  },
  {
   "cell_type": "code",
   "execution_count": 31,
   "metadata": {
    "id": "DSf2kIb-_Zct"
   },
   "outputs": [
    {
     "name": "stdout",
     "output_type": "stream",
     "text": [
      "<class 'pandas.core.frame.DataFrame'>\n",
      "RangeIndex: 65079 entries, 0 to 65078\n",
      "Data columns (total 7 columns):\n",
      "  userID    65079 non-null object\n",
      "Track       63848 non-null object\n",
      "artist      57876 non-null object\n",
      "genre       63881 non-null object\n",
      "  City      65079 non-null object\n",
      "time        65079 non-null object\n",
      "Day         65079 non-null object\n",
      "dtypes: object(7)\n",
      "memory usage: 3.5+ MB\n"
     ]
    }
   ],
   "source": [
    "# Получение общей информации о данных в таблице df\n",
    "df.info()"
   ]
  },
  {
   "cell_type": "markdown",
   "metadata": {
    "id": "TaQ2Iwbr_Zct"
   },
   "source": [
    "Итак, в таблице семь столбцов. Тип данных во всех столбцах — `object`.\n",
    "\n",
    "Согласно документации к данным:\n",
    "* `userID` — идентификатор пользователя;\n",
    "* `Track` — название трека;  \n",
    "* `artist` — имя исполнителя;\n",
    "* `genre` — название жанра;\n",
    "* `City` — город пользователя;\n",
    "* `time` — время начала прослушивания;\n",
    "* `Day` — день недели.\n",
    "\n",
    "В названиях колонок видны три нарушения стиля:\n",
    "1. Строчные буквы сочетаются с прописными.\n",
    "2. Встречаются пробелы.\n",
    "3. Найдите ещё одну проблему в названии колонок и опишите её в этом пункте.\n",
    "\n",
    "\n",
    "\n",
    "Количество значений в столбцах различается. Значит, в данных есть пропущенные значения.\n"
   ]
  },
  {
   "cell_type": "markdown",
   "metadata": {
    "id": "MCB6-dXG_Zct"
   },
   "source": [
    "**Выводы**\n",
    "\n",
    "В каждой строке таблицы — данные о прослушанном треке. Часть колонок описывает саму композицию: название, исполнителя и жанр. Остальные данные рассказывают о пользователе: из какого он города, когда он слушал музыку. \n",
    "\n",
    "Предварительно можно утверждать, что, данных достаточно для проверки гипотез. Но встречаются пропуски в данных, а в названиях колонок — расхождения с хорошим стилем.\n",
    "\n",
    "Чтобы двигаться дальше, нужно устранить проблемы в данных."
   ]
  },
  {
   "cell_type": "markdown",
   "metadata": {
    "id": "SjYF6Ub9_Zct"
   },
   "source": [
    "## Предобработка данных\n",
    "Исправьте стиль в заголовках столбцов, исключите пропуски. Затем проверьте данные на дубликаты."
   ]
  },
  {
   "cell_type": "markdown",
   "metadata": {
    "id": "dIaKXr29_Zct"
   },
   "source": [
    "### Стиль заголовков\n",
    "Выведите на экран названия столбцов:"
   ]
  },
  {
   "cell_type": "code",
   "execution_count": 32,
   "metadata": {
    "id": "oKOTdF_Q_Zct"
   },
   "outputs": [
    {
     "data": {
      "text/plain": [
       "Index(['  userID', 'Track', 'artist', 'genre', '  City  ', 'time', 'Day'], dtype='object')"
      ]
     },
     "execution_count": 32,
     "metadata": {},
     "output_type": "execute_result"
    }
   ],
   "source": [
    "# Перечень названий столбцов таблицы df\n",
    "df.columns"
   ]
  },
  {
   "cell_type": "markdown",
   "metadata": {
    "id": "FPZA3ki8xe7T"
   },
   "source": []
  },
  {
   "cell_type": "markdown",
   "metadata": {
    "id": "zj5534cv_Zct"
   },
   "source": [
    "Приведите названия в соответствие с хорошим стилем:\n",
    "* несколько слов в названии запишите в «змеином_регистре»,\n",
    "* все символы сделайте строчными,\n",
    "* устраните пробелы.\n",
    "\n",
    "Для этого переименуйте колонки так:\n",
    "* `'  userID'` → `'user_id'`;\n",
    "* `'Track'` → `'track'`;\n",
    "* `'  City  '` → `'city'`;\n",
    "* `'Day'` → `'day'`."
   ]
  },
  {
   "cell_type": "code",
   "execution_count": 33,
   "metadata": {
    "id": "ISlFqs5y_Zct"
   },
   "outputs": [],
   "source": [
    "# Переименование столбцов\n",
    "df = df.rename(columns = {'  userID': 'user_id', 'Track': 'track', '  City  ': 'city', 'Day': 'day'})"
   ]
  },
  {
   "cell_type": "markdown",
   "metadata": {
    "id": "1dqbh00J_Zct"
   },
   "source": [
    "Проверьте результат. Для этого ещё раз выведите на экран названия столбцов:"
   ]
  },
  {
   "cell_type": "code",
   "execution_count": 34,
   "metadata": {
    "id": "d4NOAmTW_Zct"
   },
   "outputs": [
    {
     "data": {
      "text/plain": [
       "['user_id', 'track', 'artist', 'genre', 'city', 'time', 'day']"
      ]
     },
     "execution_count": 34,
     "metadata": {},
     "output_type": "execute_result"
    }
   ],
   "source": [
    "# Проверка результатов - перечень названий столбцов\n",
    "df.columns.to_list()"
   ]
  },
  {
   "cell_type": "markdown",
   "metadata": {
    "id": "5ISfbcfY_Zct"
   },
   "source": [
    "### Пропуски значений\n",
    "Сначала посчитайте, сколько в таблице пропущенных значений. Для этого достаточно двух методов `pandas`:"
   ]
  },
  {
   "cell_type": "code",
   "execution_count": 35,
   "metadata": {
    "id": "RskX29qr_Zct"
   },
   "outputs": [
    {
     "data": {
      "text/plain": [
       "user_id       0\n",
       "track      1231\n",
       "artist     7203\n",
       "genre      1198\n",
       "city          0\n",
       "time          0\n",
       "day           0\n",
       "dtype: int64"
      ]
     },
     "execution_count": 35,
     "metadata": {},
     "output_type": "execute_result"
    }
   ],
   "source": [
    "# Подсчёт пропусков\n",
    "df.isna().sum()"
   ]
  },
  {
   "cell_type": "markdown",
   "metadata": {
    "id": "qubhgnlO_Zct"
   },
   "source": [
    "Не все пропущенные значения влияют на исследование. Так в `track` и `artist` пропуски не важны для вашей работы. Достаточно заменить их явными обозначениями.\n",
    "\n",
    "Но пропуски в `genre` могут помешать сравнению музыкальных вкусов в Москве и Санкт-Петербурге. На практике было бы правильно установить причину пропусков и восстановить данные. Такой возможности нет в учебном проекте. Придётся:\n",
    "* заполнить и эти пропуски явными обозначениями,\n",
    "* оценить, насколько они повредят расчётам. "
   ]
  },
  {
   "cell_type": "markdown",
   "metadata": {
    "id": "fSv2laPA_Zct"
   },
   "source": [
    "Замените пропущенные значения в столбцах `track`, `artist` и `genre` на строку `'unknown'`. Для этого создайте список `columns_to_replace`, переберите его элементы циклом `for` и для каждого столбца выполните замену пропущенных значений:"
   ]
  },
  {
   "cell_type": "code",
   "execution_count": 36,
   "metadata": {
    "id": "KplB5qWs_Zct"
   },
   "outputs": [],
   "source": [
    "columns_to_replace = ['track', 'artist', 'genre'] \n",
    "\n",
    "# Перебор названий столбцов в цикле и замена пропущенных значений на 'unknown'\n",
    "for column in columns_to_replace:\n",
    "    df[column] = df[column].fillna('unknown') "
   ]
  },
  {
   "cell_type": "markdown",
   "metadata": {
    "id": "Ilsm-MZo_Zct"
   },
   "source": [
    "Убедитесь, что в таблице не осталось пропусков. Для этого ещё раз посчитайте пропущенные значения."
   ]
  },
  {
   "cell_type": "code",
   "execution_count": 37,
   "metadata": {
    "id": "Tq4nYRX4_Zct"
   },
   "outputs": [
    {
     "data": {
      "text/plain": [
       "user_id    0\n",
       "track      0\n",
       "artist     0\n",
       "genre      0\n",
       "city       0\n",
       "time       0\n",
       "day        0\n",
       "dtype: int64"
      ]
     },
     "execution_count": 37,
     "metadata": {},
     "output_type": "execute_result"
    }
   ],
   "source": [
    "# Подсчёт пропусков\n",
    "df.isna().sum()"
   ]
  },
  {
   "cell_type": "markdown",
   "metadata": {
    "id": "BWKRtBJ3_Zct"
   },
   "source": [
    "### Дубликаты\n",
    "Посчитайте явные дубликаты в таблице одной командой:"
   ]
  },
  {
   "cell_type": "code",
   "execution_count": 38,
   "metadata": {
    "id": "36eES_S0_Zct"
   },
   "outputs": [
    {
     "data": {
      "text/plain": [
       "3826"
      ]
     },
     "execution_count": 38,
     "metadata": {},
     "output_type": "execute_result"
    }
   ],
   "source": [
    "# подсчёт явных дубликатов\n",
    "df.duplicated().sum()"
   ]
  },
  {
   "cell_type": "markdown",
   "metadata": {
    "id": "Ot25h6XR_Zct"
   },
   "source": [
    "Вызовите специальный метод `pandas`, чтобы удалить явные дубликаты:"
   ]
  },
  {
   "cell_type": "code",
   "execution_count": 39,
   "metadata": {
    "id": "exFHq6tt_Zct"
   },
   "outputs": [],
   "source": [
    "# удаление явных дубликатов (с удалением старых индексов и формированием новых)\n",
    "df = df.drop_duplicates().reset_index(drop=True)"
   ]
  },
  {
   "cell_type": "markdown",
   "metadata": {
    "id": "Im2YwBEG_Zct"
   },
   "source": [
    "Ещё раз посчитайте явные дубликаты в таблице — убедитесь, что полностью от них избавились:"
   ]
  },
  {
   "cell_type": "code",
   "execution_count": 40,
   "metadata": {
    "id": "-8PuNWQ0_Zct"
   },
   "outputs": [
    {
     "data": {
      "text/plain": [
       "0"
      ]
     },
     "execution_count": 40,
     "metadata": {},
     "output_type": "execute_result"
    }
   ],
   "source": [
    "# проверка на отсутствие дубликатов\n",
    "df.duplicated().sum()"
   ]
  },
  {
   "cell_type": "markdown",
   "metadata": {
    "id": "QlFBsxAr_Zct"
   },
   "source": [
    "Теперь избавьтесь от неявных дубликатов в колонке `genre`. Например, название одного и того же жанра может быть записано немного по-разному. Такие ошибки тоже повлияют на результат исследования."
   ]
  },
  {
   "cell_type": "markdown",
   "metadata": {
    "id": "eSjWwsOh_Zct"
   },
   "source": [
    "Выведите на экран список уникальных названий жанров, отсортированный в алфавитном порядке. Для этого:\n",
    "* извлеките нужный столбец датафрейма, \n",
    "* примените к нему метод сортировки,\n",
    "* для отсортированного столбца вызовите метод, который вернёт уникальные значения из столбца."
   ]
  },
  {
   "cell_type": "code",
   "execution_count": 41,
   "metadata": {
    "id": "JIUcqzZN_Zct"
   },
   "outputs": [
    {
     "data": {
      "text/plain": [
       "array(['acid', 'acoustic', 'action', 'adult', 'africa', 'afrikaans',\n",
       "       'alternative', 'alternativepunk', 'ambient', 'americana',\n",
       "       'animated', 'anime', 'arabesk', 'arabic', 'arena',\n",
       "       'argentinetango', 'art', 'audiobook', 'author', 'avantgarde',\n",
       "       'axé', 'baile', 'balkan', 'beats', 'bigroom', 'black', 'bluegrass',\n",
       "       'blues', 'bollywood', 'bossa', 'brazilian', 'breakbeat', 'breaks',\n",
       "       'broadway', 'cantautori', 'cantopop', 'canzone', 'caribbean',\n",
       "       'caucasian', 'celtic', 'chamber', 'chanson', 'children', 'chill',\n",
       "       'chinese', 'choral', 'christian', 'christmas', 'classical',\n",
       "       'classicmetal', 'club', 'colombian', 'comedy', 'conjazz',\n",
       "       'contemporary', 'country', 'cuban', 'dance', 'dancehall',\n",
       "       'dancepop', 'dark', 'death', 'deep', 'deutschrock', 'deutschspr',\n",
       "       'dirty', 'disco', 'dnb', 'documentary', 'downbeat', 'downtempo',\n",
       "       'drum', 'dub', 'dubstep', 'eastern', 'easy', 'electronic',\n",
       "       'electropop', 'emo', 'entehno', 'epicmetal', 'estrada', 'ethnic',\n",
       "       'eurofolk', 'european', 'experimental', 'extrememetal', 'fado',\n",
       "       'fairytail', 'film', 'fitness', 'flamenco', 'folk', 'folklore',\n",
       "       'folkmetal', 'folkrock', 'folktronica', 'forró', 'frankreich',\n",
       "       'französisch', 'french', 'funk', 'future', 'gangsta', 'garage',\n",
       "       'german', 'ghazal', 'gitarre', 'glitch', 'gospel', 'gothic',\n",
       "       'grime', 'grunge', 'gypsy', 'handsup', \"hard'n'heavy\", 'hardcore',\n",
       "       'hardstyle', 'hardtechno', 'hip', 'hip-hop', 'hiphop',\n",
       "       'historisch', 'holiday', 'hop', 'horror', 'house', 'hymn', 'idm',\n",
       "       'independent', 'indian', 'indie', 'indipop', 'industrial',\n",
       "       'inspirational', 'instrumental', 'international', 'irish', 'jam',\n",
       "       'japanese', 'jazz', 'jewish', 'jpop', 'jungle', 'k-pop',\n",
       "       'karadeniz', 'karaoke', 'kayokyoku', 'korean', 'laiko', 'latin',\n",
       "       'latino', 'leftfield', 'local', 'lounge', 'loungeelectronic',\n",
       "       'lovers', 'malaysian', 'mandopop', 'marschmusik', 'meditative',\n",
       "       'mediterranean', 'melodic', 'metal', 'metalcore', 'mexican',\n",
       "       'middle', 'minimal', 'miscellaneous', 'modern', 'mood', 'mpb',\n",
       "       'muslim', 'native', 'neoklassik', 'neue', 'new', 'newage',\n",
       "       'newwave', 'nu', 'nujazz', 'numetal', 'oceania', 'old', 'opera',\n",
       "       'orchestral', 'other', 'piano', 'podcasts', 'pop', 'popdance',\n",
       "       'popelectronic', 'popeurodance', 'poprussian', 'post',\n",
       "       'posthardcore', 'postrock', 'power', 'progmetal', 'progressive',\n",
       "       'psychedelic', 'punjabi', 'punk', 'quebecois', 'ragga', 'ram',\n",
       "       'rancheras', 'rap', 'rave', 'reggae', 'reggaeton', 'regional',\n",
       "       'relax', 'religious', 'retro', 'rhythm', 'rnb', 'rnr', 'rock',\n",
       "       'rockabilly', 'rockalternative', 'rockindie', 'rockother',\n",
       "       'romance', 'roots', 'ruspop', 'rusrap', 'rusrock', 'russian',\n",
       "       'salsa', 'samba', 'scenic', 'schlager', 'self', 'sertanejo',\n",
       "       'shanson', 'shoegazing', 'showtunes', 'singer', 'ska', 'skarock',\n",
       "       'slow', 'smooth', 'soft', 'soul', 'soulful', 'sound', 'soundtrack',\n",
       "       'southern', 'specialty', 'speech', 'spiritual', 'sport',\n",
       "       'stonerrock', 'surf', 'swing', 'synthpop', 'synthrock',\n",
       "       'sängerportrait', 'tango', 'tanzorchester', 'taraftar', 'tatar',\n",
       "       'tech', 'techno', 'teen', 'thrash', 'top', 'traditional',\n",
       "       'tradjazz', 'trance', 'tribal', 'trip', 'triphop', 'tropical',\n",
       "       'türk', 'türkçe', 'ukrrock', 'unknown', 'urban', 'uzbek',\n",
       "       'variété', 'vi', 'videogame', 'vocal', 'western', 'world',\n",
       "       'worldbeat', 'ïîï', 'электроника'], dtype=object)"
      ]
     },
     "execution_count": 41,
     "metadata": {},
     "output_type": "execute_result"
    }
   ],
   "source": [
    "# Просмотр уникальных названий жанров\n",
    "df['genre'].sort_values().unique()"
   ]
  },
  {
   "cell_type": "markdown",
   "metadata": {
    "id": "qej-Qmuo_Zct"
   },
   "source": [
    "Просмотрите список и найдите неявные дубликаты названия `hiphop`. Это могут быть названия с ошибками или альтернативные названия того же жанра.\n",
    "\n",
    "Вы увидите следующие неявные дубликаты:\n",
    "* *hip*,\n",
    "* *hop*,\n",
    "* *hip-hop*.\n",
    "\n",
    "Чтобы очистить от них таблицу, напишите функцию `replace_wrong_genres()` с двумя параметрами: \n",
    "* `wrong_genres` — список дубликатов,\n",
    "* `correct_genre` — строка с правильным значением.\n",
    "\n",
    "Функция должна исправить колонку `genre` в таблице `df`: заменить каждое значение из списка `wrong_genres` на значение из `correct_genre`."
   ]
  },
  {
   "cell_type": "code",
   "execution_count": 42,
   "metadata": {
    "id": "ErNDkmns_Zct"
   },
   "outputs": [],
   "source": [
    "# Функция для замены неявных дубликатов\n",
    "def replace_wrong_genres(wrong_genres, correct_genre):\n",
    "    for wrong_genre in wrong_genres:\n",
    "        df['genre'] = df['genre'].replace(wrong_genre, correct_genre)"
   ]
  },
  {
   "cell_type": "markdown",
   "metadata": {
    "id": "aDoBJxbA_Zct"
   },
   "source": [
    "Вызовите `replace_wrong_genres()` и передайте ей такие аргументы, чтобы она устранила неявные дубликаты: вместо `hip`, `hop` и `hip-hop` в таблице должно быть значение `hiphop`:"
   ]
  },
  {
   "cell_type": "code",
   "execution_count": 43,
   "metadata": {
    "id": "YN5i2hpmSo09"
   },
   "outputs": [],
   "source": [
    "duplicates = ['hip', 'hop', 'hiphop']\n",
    "genre = 'hip-hop' \n",
    "\n",
    "# Устранение неявных дубликатов\n",
    "replace_wrong_genres(duplicates, genre)"
   ]
  },
  {
   "cell_type": "markdown",
   "metadata": {
    "id": "zQKF16_RG15m"
   },
   "source": [
    "Проверьте, что заменили неправильные названия:\n",
    "\n",
    "*   hip\n",
    "*   hop\n",
    "*   hip-hop\n",
    "\n",
    "Выведите отсортированный список уникальных значений столбца `genre`:"
   ]
  },
  {
   "cell_type": "code",
   "execution_count": 44,
   "metadata": {
    "id": "wvixALnFG15m"
   },
   "outputs": [
    {
     "data": {
      "text/plain": [
       "array(['acid', 'acoustic', 'action', 'adult', 'africa', 'afrikaans',\n",
       "       'alternative', 'alternativepunk', 'ambient', 'americana',\n",
       "       'animated', 'anime', 'arabesk', 'arabic', 'arena',\n",
       "       'argentinetango', 'art', 'audiobook', 'author', 'avantgarde',\n",
       "       'axé', 'baile', 'balkan', 'beats', 'bigroom', 'black', 'bluegrass',\n",
       "       'blues', 'bollywood', 'bossa', 'brazilian', 'breakbeat', 'breaks',\n",
       "       'broadway', 'cantautori', 'cantopop', 'canzone', 'caribbean',\n",
       "       'caucasian', 'celtic', 'chamber', 'chanson', 'children', 'chill',\n",
       "       'chinese', 'choral', 'christian', 'christmas', 'classical',\n",
       "       'classicmetal', 'club', 'colombian', 'comedy', 'conjazz',\n",
       "       'contemporary', 'country', 'cuban', 'dance', 'dancehall',\n",
       "       'dancepop', 'dark', 'death', 'deep', 'deutschrock', 'deutschspr',\n",
       "       'dirty', 'disco', 'dnb', 'documentary', 'downbeat', 'downtempo',\n",
       "       'drum', 'dub', 'dubstep', 'eastern', 'easy', 'electronic',\n",
       "       'electropop', 'emo', 'entehno', 'epicmetal', 'estrada', 'ethnic',\n",
       "       'eurofolk', 'european', 'experimental', 'extrememetal', 'fado',\n",
       "       'fairytail', 'film', 'fitness', 'flamenco', 'folk', 'folklore',\n",
       "       'folkmetal', 'folkrock', 'folktronica', 'forró', 'frankreich',\n",
       "       'französisch', 'french', 'funk', 'future', 'gangsta', 'garage',\n",
       "       'german', 'ghazal', 'gitarre', 'glitch', 'gospel', 'gothic',\n",
       "       'grime', 'grunge', 'gypsy', 'handsup', \"hard'n'heavy\", 'hardcore',\n",
       "       'hardstyle', 'hardtechno', 'hip-hop', 'historisch', 'holiday',\n",
       "       'horror', 'house', 'hymn', 'idm', 'independent', 'indian', 'indie',\n",
       "       'indipop', 'industrial', 'inspirational', 'instrumental',\n",
       "       'international', 'irish', 'jam', 'japanese', 'jazz', 'jewish',\n",
       "       'jpop', 'jungle', 'k-pop', 'karadeniz', 'karaoke', 'kayokyoku',\n",
       "       'korean', 'laiko', 'latin', 'latino', 'leftfield', 'local',\n",
       "       'lounge', 'loungeelectronic', 'lovers', 'malaysian', 'mandopop',\n",
       "       'marschmusik', 'meditative', 'mediterranean', 'melodic', 'metal',\n",
       "       'metalcore', 'mexican', 'middle', 'minimal', 'miscellaneous',\n",
       "       'modern', 'mood', 'mpb', 'muslim', 'native', 'neoklassik', 'neue',\n",
       "       'new', 'newage', 'newwave', 'nu', 'nujazz', 'numetal', 'oceania',\n",
       "       'old', 'opera', 'orchestral', 'other', 'piano', 'podcasts', 'pop',\n",
       "       'popdance', 'popelectronic', 'popeurodance', 'poprussian', 'post',\n",
       "       'posthardcore', 'postrock', 'power', 'progmetal', 'progressive',\n",
       "       'psychedelic', 'punjabi', 'punk', 'quebecois', 'ragga', 'ram',\n",
       "       'rancheras', 'rap', 'rave', 'reggae', 'reggaeton', 'regional',\n",
       "       'relax', 'religious', 'retro', 'rhythm', 'rnb', 'rnr', 'rock',\n",
       "       'rockabilly', 'rockalternative', 'rockindie', 'rockother',\n",
       "       'romance', 'roots', 'ruspop', 'rusrap', 'rusrock', 'russian',\n",
       "       'salsa', 'samba', 'scenic', 'schlager', 'self', 'sertanejo',\n",
       "       'shanson', 'shoegazing', 'showtunes', 'singer', 'ska', 'skarock',\n",
       "       'slow', 'smooth', 'soft', 'soul', 'soulful', 'sound', 'soundtrack',\n",
       "       'southern', 'specialty', 'speech', 'spiritual', 'sport',\n",
       "       'stonerrock', 'surf', 'swing', 'synthpop', 'synthrock',\n",
       "       'sängerportrait', 'tango', 'tanzorchester', 'taraftar', 'tatar',\n",
       "       'tech', 'techno', 'teen', 'thrash', 'top', 'traditional',\n",
       "       'tradjazz', 'trance', 'tribal', 'trip', 'triphop', 'tropical',\n",
       "       'türk', 'türkçe', 'ukrrock', 'unknown', 'urban', 'uzbek',\n",
       "       'variété', 'vi', 'videogame', 'vocal', 'western', 'world',\n",
       "       'worldbeat', 'ïîï', 'электроника'], dtype=object)"
      ]
     },
     "execution_count": 44,
     "metadata": {},
     "output_type": "execute_result"
    }
   ],
   "source": [
    "# Проверка на неявные дубликаты\n",
    "df['genre'].sort_values().unique()"
   ]
  },
  {
   "cell_type": "markdown",
   "metadata": {
    "id": "jz6a9-7HQUDd"
   },
   "source": [
    "**Выводы**\n",
    "\n",
    "Предобработка обнаружила три проблемы в данных:\n",
    "\n",
    "- нарушения в стиле заголовков,\n",
    "- пропущенные значения,\n",
    "- дубликаты — явные и неявные.\n",
    "\n",
    "Вы исправили заголовки, чтобы упростить работу с таблицей. Без дубликатов исследование станет более точным.\n",
    "\n",
    "Пропущенные значения вы заменили на `'unknown'`. Ещё предстоит увидеть, не повредят ли исследованию пропуски в колонке `genre`.\n",
    "\n",
    "Теперь можно перейти к проверке гипотез. "
   ]
  },
  {
   "cell_type": "markdown",
   "metadata": {
    "id": "WttZHXH0SqKk"
   },
   "source": [
    "## Проверка гипотез"
   ]
  },
  {
   "cell_type": "markdown",
   "metadata": {
    "id": "Im936VVi_Zcu"
   },
   "source": [
    "### Сравнение поведения пользователей двух столиц"
   ]
  },
  {
   "cell_type": "markdown",
   "metadata": {
    "id": "nwt_MuaL_Zcu"
   },
   "source": [
    "Первая гипотеза утверждает, что пользователи по-разному слушают музыку в Москве и Санкт-Петербурге. Проверьте это предположение по данным о трёх днях недели — понедельнике, среде и пятнице. Для этого:\n",
    "\n",
    "* Разделите пользователей Москвы и Санкт-Петербурга\n",
    "* Сравните, сколько треков послушала каждая группа пользователей в понедельник, среду и пятницу.\n"
   ]
  },
  {
   "cell_type": "markdown",
   "metadata": {
    "id": "8Dw_YMmT_Zcu"
   },
   "source": [
    "Для тренировки сначала выполните каждый из расчётов по отдельности. \n",
    "\n",
    "Оцените активность пользователей в каждом городе. Сгруппируйте данные по городу и посчитайте прослушивания в каждой группе.\n",
    "\n"
   ]
  },
  {
   "cell_type": "code",
   "execution_count": 45,
   "metadata": {
    "id": "0_Qs96oh_Zcu"
   },
   "outputs": [
    {
     "data": {
      "text/plain": [
       "city\n",
       "Moscow              42741\n",
       "Saint-Petersburg    18512\n",
       "Name: user_id, dtype: int64"
      ]
     },
     "execution_count": 45,
     "metadata": {},
     "output_type": "execute_result"
    }
   ],
   "source": [
    "# Подсчёт прослушиваний в каждом городе\n",
    "df.groupby('city')['user_id'].count()"
   ]
  },
  {
   "cell_type": "markdown",
   "metadata": {
    "id": "dzli3w8o_Zcu"
   },
   "source": [
    "В Москве прослушиваний больше, чем в Петербурге. Из этого не следует, что московские пользователи чаще слушают музыку. Просто самих пользователей в Москве больше.\n",
    "\n",
    "Теперь сгруппируйте данные по дню недели и подсчитайте прослушивания в понедельник, среду и пятницу. Учтите, что в данных есть информация только о прослушиваниях только за эти дни.\n"
   ]
  },
  {
   "cell_type": "code",
   "execution_count": 46,
   "metadata": {
    "id": "uZMKjiJz_Zcu"
   },
   "outputs": [
    {
     "data": {
      "text/plain": [
       "day\n",
       "Friday       21840\n",
       "Monday       21354\n",
       "Wednesday    18059\n",
       "Name: user_id, dtype: int64"
      ]
     },
     "execution_count": 46,
     "metadata": {},
     "output_type": "execute_result"
    }
   ],
   "source": [
    "# Подсчёт прослушиваний в каждый из трёх дней\n",
    "df.groupby('day')['user_id'].count()"
   ]
  },
  {
   "cell_type": "markdown",
   "metadata": {
    "id": "cC2tNrlL_Zcu"
   },
   "source": [
    "В среднем пользователи из двух городов менее активны по средам. Но картина может измениться, если рассмотреть каждый город в отдельности."
   ]
  },
  {
   "cell_type": "markdown",
   "metadata": {
    "id": "POzs8bGa_Zcu"
   },
   "source": [
    "Вы видели, как работает группировка по городу и по дням недели. Теперь напишите функцию, которая объединит два эти расчёта.\n",
    "\n",
    "Создайте функцию `number_tracks()`, которая посчитает прослушивания для заданного дня и города. Ей понадобятся два параметра:\n",
    "* день недели,\n",
    "* название города.\n",
    "\n",
    "В функции сохраните в переменную строки исходной таблицы, у которых значение:\n",
    "  * в колонке `day` равно параметру `day`,\n",
    "  * в колонке `city` равно параметру `city`.\n",
    "\n",
    "Для этого примените последовательную фильтрацию с логической индексацией.\n",
    "\n",
    "Затем посчитайте значения в столбце `user_id` получившейся таблицы. Результат сохраните в новую переменную. Верните эту переменную из функции."
   ]
  },
  {
   "cell_type": "code",
   "execution_count": 47,
   "metadata": {
    "id": "Nz3GdQB1_Zcu"
   },
   "outputs": [],
   "source": [
    "# Функция для подсчёта прослушиваний для конкретного города и дня.\n",
    "def number_tracks(day, city):\n",
    "    track_list = df[df['day'] == day]\n",
    "    track_list = track_list[track_list['city'] == city]\n",
    "    track_list_count = track_list['user_id'].count()\n",
    "    return track_list_count"
   ]
  },
  {
   "cell_type": "markdown",
   "metadata": {
    "id": "ytf7xFrFJQ2r"
   },
   "source": [
    "Вызовите `number_tracks()` шесть раз, меняя значение параметров — так, чтобы получить данные для каждого города в каждый из трёх дней."
   ]
  },
  {
   "cell_type": "code",
   "execution_count": 48,
   "metadata": {
    "id": "rJcRATNQ_Zcu"
   },
   "outputs": [
    {
     "data": {
      "text/plain": [
       "15740"
      ]
     },
     "execution_count": 48,
     "metadata": {},
     "output_type": "execute_result"
    }
   ],
   "source": [
    "# Количество прослушиваний в Москве по понедельникам\n",
    "number_tracks('Monday', 'Moscow')"
   ]
  },
  {
   "cell_type": "code",
   "execution_count": 49,
   "metadata": {
    "id": "hq_ncZ5T_Zcu"
   },
   "outputs": [
    {
     "data": {
      "text/plain": [
       "5614"
      ]
     },
     "execution_count": 49,
     "metadata": {},
     "output_type": "execute_result"
    }
   ],
   "source": [
    "# Количество прослушиваний в Санкт-Петербурге по понедельникам\n",
    "number_tracks('Monday', 'Saint-Petersburg')"
   ]
  },
  {
   "cell_type": "code",
   "execution_count": 50,
   "metadata": {
    "id": "_NTy2VPU_Zcu"
   },
   "outputs": [
    {
     "data": {
      "text/plain": [
       "11056"
      ]
     },
     "execution_count": 50,
     "metadata": {},
     "output_type": "execute_result"
    }
   ],
   "source": [
    "# Количество прослушиваний в Москве по средам\n",
    "number_tracks('Wednesday', 'Moscow')"
   ]
  },
  {
   "cell_type": "code",
   "execution_count": 51,
   "metadata": {
    "id": "j2y3TAwo_Zcu"
   },
   "outputs": [
    {
     "data": {
      "text/plain": [
       "7003"
      ]
     },
     "execution_count": 51,
     "metadata": {},
     "output_type": "execute_result"
    }
   ],
   "source": [
    "# Количество прослушиваний в Санкт-Петербурге по средам\n",
    "number_tracks('Wednesday', 'Saint-Petersburg')"
   ]
  },
  {
   "cell_type": "code",
   "execution_count": 52,
   "metadata": {
    "id": "vYDw5u_K_Zcu"
   },
   "outputs": [
    {
     "data": {
      "text/plain": [
       "15945"
      ]
     },
     "execution_count": 52,
     "metadata": {},
     "output_type": "execute_result"
    }
   ],
   "source": [
    "# Количество прослушиваний в Москве по пятницам\n",
    "number_tracks('Friday', 'Moscow')"
   ]
  },
  {
   "cell_type": "code",
   "execution_count": 53,
   "metadata": {
    "id": "8_yzFtW3_Zcu"
   },
   "outputs": [
    {
     "data": {
      "text/plain": [
       "5895"
      ]
     },
     "execution_count": 53,
     "metadata": {},
     "output_type": "execute_result"
    }
   ],
   "source": [
    "# Количество прослушиваний в Санкт-Петербурге по пятницам\n",
    "number_tracks('Friday', 'Saint-Petersburg')"
   ]
  },
  {
   "cell_type": "markdown",
   "metadata": {
    "id": "7QXffbO-_Zcu"
   },
   "source": [
    "Создайте c помощью конструктора `pd.DataFrame` таблицу, где\n",
    "* названия колонок — `['city', 'monday', 'wednesday', 'friday']`;\n",
    "* данные — результаты, которые вы получили с помощью `number_tracks`."
   ]
  },
  {
   "cell_type": "code",
   "execution_count": 54,
   "metadata": {
    "id": "APAcLpOr_Zcu"
   },
   "outputs": [
    {
     "data": {
      "text/html": [
       "<div>\n",
       "<style scoped>\n",
       "    .dataframe tbody tr th:only-of-type {\n",
       "        vertical-align: middle;\n",
       "    }\n",
       "\n",
       "    .dataframe tbody tr th {\n",
       "        vertical-align: top;\n",
       "    }\n",
       "\n",
       "    .dataframe thead th {\n",
       "        text-align: right;\n",
       "    }\n",
       "</style>\n",
       "<table border=\"1\" class=\"dataframe\">\n",
       "  <thead>\n",
       "    <tr style=\"text-align: right;\">\n",
       "      <th></th>\n",
       "      <th>city</th>\n",
       "      <th>monday</th>\n",
       "      <th>wednesday</th>\n",
       "      <th>friday</th>\n",
       "    </tr>\n",
       "  </thead>\n",
       "  <tbody>\n",
       "    <tr>\n",
       "      <td>0</td>\n",
       "      <td>Moscow</td>\n",
       "      <td>15740</td>\n",
       "      <td>11056</td>\n",
       "      <td>15945</td>\n",
       "    </tr>\n",
       "    <tr>\n",
       "      <td>1</td>\n",
       "      <td>Saint-Petersburg</td>\n",
       "      <td>5614</td>\n",
       "      <td>7003</td>\n",
       "      <td>5895</td>\n",
       "    </tr>\n",
       "  </tbody>\n",
       "</table>\n",
       "</div>"
      ],
      "text/plain": [
       "               city  monday  wednesday  friday\n",
       "0            Moscow   15740      11056   15945\n",
       "1  Saint-Petersburg    5614       7003    5895"
      ]
     },
     "metadata": {},
     "output_type": "display_data"
    }
   ],
   "source": [
    "columns = ['city', 'monday', 'wednesday', 'friday']\n",
    "data = [['Moscow', 15740, 11056, 15945],\n",
    "             ['Saint-Petersburg', 5614, 7003, 5895]]\n",
    "\n",
    "# Таблица с результатами\n",
    "results = pd.DataFrame(data = data, columns = columns)\n",
    "display(results)"
   ]
  },
  {
   "cell_type": "code",
   "execution_count": 55,
   "metadata": {},
   "outputs": [
    {
     "data": {
      "text/html": [
       "<div>\n",
       "<style scoped>\n",
       "    .dataframe tbody tr th:only-of-type {\n",
       "        vertical-align: middle;\n",
       "    }\n",
       "\n",
       "    .dataframe tbody tr th {\n",
       "        vertical-align: top;\n",
       "    }\n",
       "\n",
       "    .dataframe thead th {\n",
       "        text-align: right;\n",
       "    }\n",
       "</style>\n",
       "<table border=\"1\" class=\"dataframe\">\n",
       "  <thead>\n",
       "    <tr style=\"text-align: right;\">\n",
       "      <th></th>\n",
       "      <th>Moscow</th>\n",
       "      <th>Saint-Petersburg</th>\n",
       "    </tr>\n",
       "  </thead>\n",
       "  <tbody>\n",
       "    <tr>\n",
       "      <td>Moscow</td>\n",
       "      <td>Тут значение</td>\n",
       "      <td>Тут значение</td>\n",
       "    </tr>\n",
       "    <tr>\n",
       "      <td>Wednesday</td>\n",
       "      <td>Тут значение</td>\n",
       "      <td>Тут значение</td>\n",
       "    </tr>\n",
       "    <tr>\n",
       "      <td>Friday</td>\n",
       "      <td>Тут значение</td>\n",
       "      <td>Тут значение</td>\n",
       "    </tr>\n",
       "  </tbody>\n",
       "</table>\n",
       "</div>"
      ],
      "text/plain": [
       "                 Moscow Saint-Petersburg\n",
       "Moscow     Тут значение     Тут значение\n",
       "Wednesday  Тут значение     Тут значение\n",
       "Friday     Тут значение     Тут значение"
      ]
     },
     "execution_count": 55,
     "metadata": {},
     "output_type": "execute_result"
    }
   ],
   "source": [
    "pd.DataFrame({city : {day : 'Тут значение' for day in ['Moscow','Wednesday', 'Friday'] } for city in ['Moscow','Saint-Petersburg']})"
   ]
  },
  {
   "cell_type": "markdown",
   "metadata": {
    "id": "-EgPIHYu_Zcu"
   },
   "source": [
    "**Выводы**\n",
    "\n",
    "Данные показывают разницу поведения пользователей:\n",
    "\n",
    "- В Москве пик прослушиваний приходится на понедельник и пятницу, а в среду заметен спад.\n",
    "- В Петербурге, наоборот, больше слушают музыку по средам. Активность в понедельник и пятницу здесь почти в равной мере уступает среде.\n",
    "\n",
    "Значит, данные говорят в пользу первой гипотезы."
   ]
  },
  {
   "cell_type": "markdown",
   "metadata": {
    "id": "atZAxtq4_Zcu"
   },
   "source": [
    "### Музыка в начале и в конце недели"
   ]
  },
  {
   "cell_type": "markdown",
   "metadata": {
    "id": "eXrQqXFH_Zcu"
   },
   "source": [
    "Согласно второй гипотезе, утром в понедельник в Москве преобладают одни жанры, а в Петербурге — другие. Так же и вечером пятницы преобладают разные жанры — в зависимости от города."
   ]
  },
  {
   "cell_type": "markdown",
   "metadata": {
    "id": "S8UcW6Hw_Zcu"
   },
   "source": [
    "Сохраните таблицы с данными в две переменные:\n",
    "* по Москве — в `moscow_general`;\n",
    "* по Санкт-Петербургу — в `spb_general`."
   ]
  },
  {
   "cell_type": "code",
   "execution_count": 56,
   "metadata": {
    "id": "qeaFfM_P_Zcu"
   },
   "outputs": [],
   "source": [
    "# Получение таблицы moscow_general из тех строк таблицы df, \n",
    "# для которых значение в столбце 'city' равно 'Moscow'.\n",
    "moscow_general = df[df['city'] == 'Moscow'].reset_index(drop=True)"
   ]
  },
  {
   "cell_type": "code",
   "execution_count": 57,
   "metadata": {
    "id": "ORaVRKto_Zcu"
   },
   "outputs": [],
   "source": [
    "# Получение таблицы spb_general из тех строк таблицы df,\n",
    "# для которых значение в столбце 'city' равно 'Saint-Petersburg'.\n",
    "spb_general = df[df['city'] == 'Saint-Petersburg'].reset_index(drop=True)"
   ]
  },
  {
   "cell_type": "markdown",
   "metadata": {
    "id": "MEJV-CX2_Zcu"
   },
   "source": [
    "Создайте функцию `genre_weekday()` с четырьмя параметрами:\n",
    "* таблица (датафрейм) с данными,\n",
    "* день недели,\n",
    "* начальная временная метка в формате 'hh:mm', \n",
    "* последняя временная метка в формате 'hh:mm'.\n",
    "\n",
    "Функция должна вернуть информацию о топ-10 жанров тех треков, которые прослушивали в указанный день, в промежутке между двумя отметками времени."
   ]
  },
  {
   "cell_type": "code",
   "execution_count": 58,
   "metadata": {
    "id": "laJT9BYl_Zcu"
   },
   "outputs": [],
   "source": [
    "def genre_weekday(table, day, time1, time2):\n",
    "    genre_df = table[table['day'] == day]\n",
    "    genre_df = genre_df[(genre_df['time'] > time1) & (genre_df['time'] < time2)]\n",
    "\n",
    "    genre_df_count = genre_df.groupby('genre')['track'].count()\n",
    "    genre_df_sorted = genre_df_count.sort_values(ascending=False)\n",
    "    return genre_df_sorted.head(10)"
   ]
  },
  {
   "cell_type": "markdown",
   "metadata": {
    "id": "la2s2_PF_Zcu"
   },
   "source": [
    "Cравните результаты функции `genre_weekday()` для Москвы и Санкт-Петербурга в понедельник утром (с 7:00 до 11:00) и в пятницу вечером (с 17:00 до 23:00):"
   ]
  },
  {
   "cell_type": "code",
   "execution_count": 59,
   "metadata": {
    "id": "yz7itPUQ_Zcu"
   },
   "outputs": [
    {
     "data": {
      "text/plain": [
       "genre\n",
       "pop            781\n",
       "dance          549\n",
       "electronic     480\n",
       "rock           474\n",
       "hip-hop        286\n",
       "ruspop         186\n",
       "world          181\n",
       "rusrap         175\n",
       "alternative    164\n",
       "unknown        161\n",
       "Name: track, dtype: int64"
      ]
     },
     "execution_count": 59,
     "metadata": {},
     "output_type": "execute_result"
    }
   ],
   "source": [
    "# Вызов функции для утра понедельника в Москве.\n",
    "genre_weekday(moscow_general, 'Monday', '07:00', '11:00')"
   ]
  },
  {
   "cell_type": "code",
   "execution_count": 60,
   "metadata": {
    "id": "kwUcHPdy_Zcu"
   },
   "outputs": [
    {
     "data": {
      "text/plain": [
       "genre\n",
       "pop            218\n",
       "dance          182\n",
       "rock           162\n",
       "electronic     147\n",
       "hip-hop         80\n",
       "ruspop          64\n",
       "alternative     58\n",
       "rusrap          55\n",
       "jazz            44\n",
       "classical       40\n",
       "Name: track, dtype: int64"
      ]
     },
     "execution_count": 60,
     "metadata": {},
     "output_type": "execute_result"
    }
   ],
   "source": [
    "# Вызов функции для утра понедельника в Петербурге (вместо df — таблица spb_general).\n",
    "genre_weekday(spb_general, 'Monday', '07:00', '11:00')"
   ]
  },
  {
   "cell_type": "code",
   "execution_count": 61,
   "metadata": {
    "id": "EzXVRE1o_Zcu"
   },
   "outputs": [
    {
     "data": {
      "text/plain": [
       "genre\n",
       "pop            713\n",
       "rock           517\n",
       "dance          495\n",
       "electronic     482\n",
       "hip-hop        273\n",
       "world          208\n",
       "ruspop         170\n",
       "alternative    163\n",
       "classical      163\n",
       "rusrap         142\n",
       "Name: track, dtype: int64"
      ]
     },
     "execution_count": 61,
     "metadata": {},
     "output_type": "execute_result"
    }
   ],
   "source": [
    "# Вызов функции для вечера пятницы в Москве.\n",
    "genre_weekday(moscow_general, 'Friday', '17:00', '23:00')"
   ]
  },
  {
   "cell_type": "code",
   "execution_count": 62,
   "metadata": {
    "id": "JZaEKu5v_Zcu"
   },
   "outputs": [
    {
     "data": {
      "text/plain": [
       "genre\n",
       "pop            256\n",
       "rock           216\n",
       "electronic     216\n",
       "dance          210\n",
       "hip-hop         97\n",
       "alternative     63\n",
       "jazz            61\n",
       "classical       60\n",
       "rusrap          59\n",
       "world           54\n",
       "Name: track, dtype: int64"
      ]
     },
     "execution_count": 62,
     "metadata": {},
     "output_type": "execute_result"
    }
   ],
   "source": [
    "# Вызов функции для вечера пятницы в Петербурге.\n",
    "genre_weekday(spb_general, 'Friday', '17:00', '23:00')"
   ]
  },
  {
   "cell_type": "markdown",
   "metadata": {
    "id": "wrCe4MNX_Zcu"
   },
   "source": [
    "**Выводы**\n",
    "\n",
    "Если сравнить топ-10 жанров в понедельник утром, можно сделать такие выводы:\n",
    "\n",
    "1. В Москве и Петербурге слушают похожую музыку. Единственное отличие — в московский рейтинг вошёл жанр “world”, а в петербургский — джаз и классика.\n",
    "\n",
    "2. В Москве пропущенных значений оказалось так много, что значение `'unknown'` заняло десятое место среди самых популярных жанров. Значит, пропущенные значения занимают существенную долю в данных и угрожают достоверности исследования.\n",
    "\n",
    "Вечер пятницы не меняет эту картину. Некоторые жанры поднимаются немного выше, другие спускаются, но в целом топ-10 остаётся тем же самым.\n",
    "\n",
    "Таким образом, вторая гипотеза подтвердилась лишь частично:\n",
    "* Пользователи слушают похожую музыку в начале недели и в конце.\n",
    "* Разница между Москвой и Петербургом не слишком выражена. В Москве чаще слушают русскую популярную музыку, в Петербурге — джаз.\n",
    "\n",
    "Однако пропуски в данных ставят под сомнение этот результат. В Москве их так много, что рейтинг топ-10 мог бы выглядеть иначе, если бы не утерянные  данные о жанрах."
   ]
  },
  {
   "cell_type": "markdown",
   "metadata": {
    "id": "JolODAqr_Zcu"
   },
   "source": [
    "### Жанровые предпочтения в Москве и Петербурге\n",
    "\n",
    "Гипотеза: Петербург — столица рэпа, музыку этого жанра там слушают чаще, чем в Москве.  А Москва — город контрастов, в котором, тем не менее, преобладает поп-музыка."
   ]
  },
  {
   "cell_type": "markdown",
   "metadata": {
    "id": "DlegSvaT_Zcu"
   },
   "source": [
    "Сгруппируйте таблицу `moscow_general` по жанру и посчитайте прослушивания треков каждого жанра методом `count()`. Затем отсортируйте результат в порядке убывания и сохраните его в таблице `moscow_genres`."
   ]
  },
  {
   "cell_type": "code",
   "execution_count": 63,
   "metadata": {
    "id": "r19lIPke_Zcu"
   },
   "outputs": [],
   "source": [
    "# Сортировка получившегося Series в порядке убывания и сохранение в moscow_genres.\n",
    "moscow_genres = moscow_general.groupby('genre')['genre'].count().sort_values(ascending=False)"
   ]
  },
  {
   "cell_type": "markdown",
   "metadata": {
    "id": "6kMuomxTiIr8"
   },
   "source": [
    "Выведите на экран первые десять строк `moscow_genres`:"
   ]
  },
  {
   "cell_type": "code",
   "execution_count": 64,
   "metadata": {
    "id": "WhCSooF8_Zcv"
   },
   "outputs": [
    {
     "data": {
      "text/plain": [
       "genre\n",
       "pop            5892\n",
       "dance          4435\n",
       "rock           3965\n",
       "electronic     3786\n",
       "hip-hop        2096\n",
       "classical      1616\n",
       "world          1432\n",
       "alternative    1379\n",
       "ruspop         1372\n",
       "rusrap         1161\n",
       "Name: genre, dtype: int64"
      ]
     },
     "execution_count": 64,
     "metadata": {},
     "output_type": "execute_result"
    }
   ],
   "source": [
    "# Просмотр первых 10 строк moscow_genres.\n",
    "moscow_genres.head(10)"
   ]
  },
  {
   "cell_type": "markdown",
   "metadata": {
    "id": "cnPG2vnN_Zcv"
   },
   "source": [
    "Теперь повторите то же и для Петербурга.\n",
    "\n",
    "Сгруппируйте таблицу `spb_general` по жанру. Посчитайте прослушивания треков каждого жанра. Результат отсортируйте в порядке убывания и сохраните в таблице `spb_genres`:\n"
   ]
  },
  {
   "cell_type": "code",
   "execution_count": 65,
   "metadata": {
    "id": "gluLIpE7_Zcv"
   },
   "outputs": [],
   "source": [
    "# Сортировка получившегося Series в порядке убывания и сохранение в spb_genres.\n",
    "spb_genres = spb_general.groupby('genre')['genre'].count().sort_values(ascending=False)"
   ]
  },
  {
   "cell_type": "markdown",
   "metadata": {
    "id": "5Doha_ODgyQ8"
   },
   "source": [
    "Выведите на экран первые десять строк `spb_genres`:"
   ]
  },
  {
   "cell_type": "code",
   "execution_count": 66,
   "metadata": {
    "id": "uaGJHjVU_Zcv"
   },
   "outputs": [
    {
     "data": {
      "text/plain": [
       "genre\n",
       "pop            2431\n",
       "dance          1932\n",
       "rock           1879\n",
       "electronic     1736\n",
       "hip-hop         960\n",
       "alternative     649\n",
       "classical       646\n",
       "rusrap          564\n",
       "ruspop          538\n",
       "world           515\n",
       "Name: genre, dtype: int64"
      ]
     },
     "execution_count": 66,
     "metadata": {},
     "output_type": "execute_result"
    }
   ],
   "source": [
    "# Просмотр первых 10 строк spb_genres.\n",
    "spb_genres.head(10) "
   ]
  },
  {
   "cell_type": "markdown",
   "metadata": {
    "id": "RY51YJYu_Zcv"
   },
   "source": [
    "**Выводы**"
   ]
  },
  {
   "cell_type": "markdown",
   "metadata": {
    "id": "nVhnJEm__Zcv"
   },
   "source": [
    "Гипотеза частично подтвердилась:\n",
    "* Поп-музыка — самый популярный жанр в Москве, как и предполагала гипотеза. Более того, в топ-10 жанров встречается близкий жанр — русская популярная музыка.\n",
    "* Вопреки ожиданиям, рэп одинаково популярен в Москве и Петербурге. \n"
   ]
  },
  {
   "cell_type": "markdown",
   "metadata": {
    "id": "ykKQ0N65_Zcv"
   },
   "source": [
    "## Итоги исследования"
   ]
  },
  {
   "cell_type": "markdown",
   "metadata": {
    "id": "tjUwbHb3_Zcv"
   },
   "source": [
    "Вы проверили три гипотезы и установили:\n",
    "\n",
    "1. День недели по-разному влияет на активность пользователей в Москве и Петербурге. \n",
    "\n",
    "Первая гипотеза полностью подтвердилась.\n",
    "\n",
    "2. Музыкальные предпочтения не сильно меняются в течение недели — будь то Москва или Петербург. Небольшие различия заметны в начале недели, по понедельникам:\n",
    "* в Москве слушают музыку жанра “world”,\n",
    "* в Петербурге — джаз и классику.\n",
    "\n",
    "Таким образом, вторая гипотеза подтвердилась лишь отчасти. Этот результат мог оказаться иным, если бы не пропуски в данных.\n",
    "\n",
    "3. Во вкусах пользователей Москвы и Петербурга больше общего чем различий. Вопреки ожиданиям, предпочтения жанров в Петербурге напоминают московские.\n",
    "\n",
    "Третья гипотеза не подтвердилась. Если различия в предпочтениях и существуют, на основной массе пользователей они незаметны.\n",
    "\n",
    "**На практике исследования содержат проверки статистических гипотез.**\n",
    "Из данных одного сервиса не всегда можно сделать вывод о всех жителях города.\n",
    "Проверки статистических гипотез покажут, насколько они достоверны, исходя из имеющихся данных. \n",
    "С методами проверок гипотез вы ещё познакомитесь в следующих темах."
   ]
  }
 ],
 "metadata": {
  "ExecuteTimeLog": [
   {
    "duration": 435,
    "start_time": "2021-10-08T22:34:10.175Z"
   },
   {
    "duration": 728,
    "start_time": "2021-10-08T22:34:17.483Z"
   },
   {
    "duration": 184,
    "start_time": "2021-10-08T22:34:19.811Z"
   },
   {
    "duration": 25,
    "start_time": "2021-10-08T22:34:38.185Z"
   },
   {
    "duration": 16,
    "start_time": "2021-10-08T22:34:47.867Z"
   },
   {
    "duration": 15,
    "start_time": "2021-10-08T22:34:53.092Z"
   },
   {
    "duration": 33,
    "start_time": "2021-10-08T22:35:03.737Z"
   },
   {
    "duration": 424,
    "start_time": "2021-10-09T09:31:00.251Z"
   },
   {
    "duration": 772,
    "start_time": "2021-10-09T09:31:08.749Z"
   },
   {
    "duration": 177,
    "start_time": "2021-10-09T09:31:09.524Z"
   },
   {
    "duration": 26,
    "start_time": "2021-10-09T09:31:09.704Z"
   },
   {
    "duration": 54,
    "start_time": "2021-10-09T09:31:09.732Z"
   },
   {
    "duration": 6,
    "start_time": "2021-10-09T09:31:09.788Z"
   },
   {
    "duration": 28,
    "start_time": "2021-10-09T09:33:05.122Z"
   },
   {
    "duration": 5,
    "start_time": "2021-10-09T09:33:14.722Z"
   },
   {
    "duration": 31,
    "start_time": "2021-10-09T09:33:58.231Z"
   },
   {
    "duration": 29,
    "start_time": "2021-10-09T09:34:16.636Z"
   },
   {
    "duration": 23,
    "start_time": "2021-10-09T09:50:00.664Z"
   },
   {
    "duration": 31,
    "start_time": "2021-10-09T09:50:14.854Z"
   },
   {
    "duration": 21,
    "start_time": "2021-10-09T09:55:52.818Z"
   },
   {
    "duration": 30,
    "start_time": "2021-10-09T09:55:54.949Z"
   },
   {
    "duration": 91,
    "start_time": "2021-10-09T09:56:10.580Z"
   },
   {
    "duration": 77,
    "start_time": "2021-10-09T09:56:38.415Z"
   },
   {
    "duration": 106,
    "start_time": "2021-10-09T09:57:49.190Z"
   },
   {
    "duration": 77,
    "start_time": "2021-10-09T09:58:03.088Z"
   },
   {
    "duration": 359,
    "start_time": "2021-10-09T09:59:43.323Z"
   },
   {
    "duration": 78,
    "start_time": "2021-10-09T10:01:14.782Z"
   },
   {
    "duration": 445,
    "start_time": "2021-10-09T10:01:45.224Z"
   },
   {
    "duration": 81,
    "start_time": "2021-10-09T10:01:57.853Z"
   },
   {
    "duration": 78,
    "start_time": "2021-10-09T10:03:05.622Z"
   },
   {
    "duration": 58,
    "start_time": "2021-10-09T10:07:15.481Z"
   },
   {
    "duration": 4,
    "start_time": "2021-10-09T10:09:44.245Z"
   },
   {
    "duration": 339,
    "start_time": "2021-10-09T10:10:54.224Z"
   },
   {
    "duration": 4,
    "start_time": "2021-10-09T10:11:31.484Z"
   },
   {
    "duration": 317,
    "start_time": "2021-10-09T10:11:32.121Z"
   },
   {
    "duration": 636,
    "start_time": "2021-10-09T10:11:56.669Z"
   },
   {
    "duration": 3,
    "start_time": "2021-10-09T10:12:08.388Z"
   },
   {
    "duration": 624,
    "start_time": "2021-10-09T10:12:09.099Z"
   },
   {
    "duration": 5,
    "start_time": "2021-10-09T10:14:36.186Z"
   },
   {
    "duration": 539,
    "start_time": "2021-10-09T10:39:39.076Z"
   },
   {
    "duration": 1170,
    "start_time": "2021-10-09T10:39:44.929Z"
   },
   {
    "duration": 376,
    "start_time": "2021-10-09T10:39:46.102Z"
   },
   {
    "duration": 83,
    "start_time": "2021-10-09T10:39:46.481Z"
   },
   {
    "duration": 34,
    "start_time": "2021-10-09T10:39:46.567Z"
   },
   {
    "duration": 6,
    "start_time": "2021-10-09T10:39:46.659Z"
   },
   {
    "duration": 26,
    "start_time": "2021-10-09T10:39:46.667Z"
   },
   {
    "duration": 6,
    "start_time": "2021-10-09T10:39:46.758Z"
   },
   {
    "duration": 91,
    "start_time": "2021-10-09T10:39:46.768Z"
   },
   {
    "duration": 22,
    "start_time": "2021-10-09T10:39:46.862Z"
   },
   {
    "duration": 83,
    "start_time": "2021-10-09T10:39:46.887Z"
   },
   {
    "duration": 201,
    "start_time": "2021-10-09T10:39:46.973Z"
   },
   {
    "duration": 207,
    "start_time": "2021-10-09T10:39:47.177Z"
   },
   {
    "duration": 181,
    "start_time": "2021-10-09T10:39:47.387Z"
   },
   {
    "duration": 105,
    "start_time": "2021-10-09T10:39:47.571Z"
   },
   {
    "duration": 4,
    "start_time": "2021-10-09T10:39:47.678Z"
   },
   {
    "duration": 78,
    "start_time": "2021-10-09T10:39:47.684Z"
   },
   {
    "duration": 110,
    "start_time": "2021-10-09T10:39:47.764Z"
   },
   {
    "duration": 4,
    "start_time": "2021-10-09T10:39:47.877Z"
   },
   {
    "duration": 4,
    "start_time": "2021-10-09T10:39:47.884Z"
   },
   {
    "duration": 4,
    "start_time": "2021-10-09T10:39:47.891Z"
   },
   {
    "duration": 67,
    "start_time": "2021-10-09T10:39:47.898Z"
   },
   {
    "duration": 5,
    "start_time": "2021-10-09T10:39:47.967Z"
   },
   {
    "duration": 4,
    "start_time": "2021-10-09T10:39:47.977Z"
   },
   {
    "duration": 6,
    "start_time": "2021-10-09T10:39:47.983Z"
   },
   {
    "duration": 68,
    "start_time": "2021-10-09T10:39:47.991Z"
   },
   {
    "duration": 12,
    "start_time": "2021-10-09T10:39:48.062Z"
   },
   {
    "duration": 6,
    "start_time": "2021-10-09T10:39:48.077Z"
   },
   {
    "duration": 9,
    "start_time": "2021-10-09T10:39:48.085Z"
   },
   {
    "duration": 62,
    "start_time": "2021-10-09T10:39:48.097Z"
   },
   {
    "duration": 7,
    "start_time": "2021-10-09T10:39:48.161Z"
   },
   {
    "duration": 7,
    "start_time": "2021-10-09T10:39:48.170Z"
   },
   {
    "duration": 5,
    "start_time": "2021-10-09T10:39:48.180Z"
   },
   {
    "duration": 9,
    "start_time": "2021-10-09T10:39:48.187Z"
   },
   {
    "duration": 4,
    "start_time": "2021-10-09T10:39:48.259Z"
   },
   {
    "duration": 6,
    "start_time": "2021-10-09T10:39:48.266Z"
   },
   {
    "duration": 5,
    "start_time": "2021-10-09T10:39:48.275Z"
   },
   {
    "duration": 5,
    "start_time": "2021-10-09T10:39:48.283Z"
   },
   {
    "duration": 66,
    "start_time": "2021-10-09T10:39:48.291Z"
   },
   {
    "duration": 13,
    "start_time": "2021-10-09T10:40:46.985Z"
   },
   {
    "duration": 105,
    "start_time": "2021-10-09T10:40:47.864Z"
   },
   {
    "duration": 51,
    "start_time": "2021-10-09T11:21:48.151Z"
   },
   {
    "duration": 6,
    "start_time": "2021-10-09T11:23:15.240Z"
   },
   {
    "duration": 45,
    "start_time": "2021-10-09T11:23:24.564Z"
   },
   {
    "duration": 331,
    "start_time": "2021-10-10T08:10:46.965Z"
   },
   {
    "duration": 744,
    "start_time": "2021-10-10T08:10:51.418Z"
   },
   {
    "duration": 190,
    "start_time": "2021-10-10T08:10:52.165Z"
   },
   {
    "duration": 26,
    "start_time": "2021-10-10T08:10:52.358Z"
   },
   {
    "duration": 44,
    "start_time": "2021-10-10T08:10:52.387Z"
   },
   {
    "duration": 6,
    "start_time": "2021-10-10T08:10:52.433Z"
   },
   {
    "duration": 27,
    "start_time": "2021-10-10T08:10:52.441Z"
   },
   {
    "duration": 30,
    "start_time": "2021-10-10T08:10:52.471Z"
   },
   {
    "duration": 31,
    "start_time": "2021-10-10T08:10:52.505Z"
   },
   {
    "duration": 22,
    "start_time": "2021-10-10T08:10:52.539Z"
   },
   {
    "duration": 59,
    "start_time": "2021-10-10T08:10:52.563Z"
   },
   {
    "duration": 100,
    "start_time": "2021-10-10T08:10:52.624Z"
   },
   {
    "duration": 112,
    "start_time": "2021-10-10T08:10:52.726Z"
   },
   {
    "duration": 86,
    "start_time": "2021-10-10T08:10:52.841Z"
   },
   {
    "duration": 73,
    "start_time": "2021-10-10T08:10:52.929Z"
   },
   {
    "duration": 4,
    "start_time": "2021-10-10T08:10:53.004Z"
   },
   {
    "duration": 16,
    "start_time": "2021-10-10T08:10:53.011Z"
   },
   {
    "duration": 75,
    "start_time": "2021-10-10T08:10:53.030Z"
   },
   {
    "duration": 54,
    "start_time": "2021-10-10T08:10:53.108Z"
   },
   {
    "duration": 76,
    "start_time": "2021-10-10T08:10:53.165Z"
   },
   {
    "duration": 102,
    "start_time": "2021-10-10T08:10:53.244Z"
   },
   {
    "duration": 1454,
    "start_time": "2021-10-10T08:10:51.895Z"
   },
   {
    "duration": 1451,
    "start_time": "2021-10-10T08:10:51.900Z"
   },
   {
    "duration": 1441,
    "start_time": "2021-10-10T08:10:51.911Z"
   },
   {
    "duration": 1437,
    "start_time": "2021-10-10T08:10:51.916Z"
   },
   {
    "duration": 1426,
    "start_time": "2021-10-10T08:10:51.928Z"
   },
   {
    "duration": 1423,
    "start_time": "2021-10-10T08:10:51.933Z"
   },
   {
    "duration": 1419,
    "start_time": "2021-10-10T08:10:51.938Z"
   },
   {
    "duration": 1416,
    "start_time": "2021-10-10T08:10:51.943Z"
   },
   {
    "duration": 1396,
    "start_time": "2021-10-10T08:10:51.964Z"
   },
   {
    "duration": 1391,
    "start_time": "2021-10-10T08:10:51.970Z"
   },
   {
    "duration": 1387,
    "start_time": "2021-10-10T08:10:51.975Z"
   },
   {
    "duration": 1386,
    "start_time": "2021-10-10T08:10:51.977Z"
   },
   {
    "duration": 1384,
    "start_time": "2021-10-10T08:10:51.981Z"
   },
   {
    "duration": 1382,
    "start_time": "2021-10-10T08:10:51.984Z"
   },
   {
    "duration": 1379,
    "start_time": "2021-10-10T08:10:51.988Z"
   },
   {
    "duration": 1377,
    "start_time": "2021-10-10T08:10:51.991Z"
   },
   {
    "duration": 1375,
    "start_time": "2021-10-10T08:10:51.994Z"
   },
   {
    "duration": 1373,
    "start_time": "2021-10-10T08:10:51.998Z"
   },
   {
    "duration": 45,
    "start_time": "2021-10-10T08:11:44.720Z"
   },
   {
    "duration": 4,
    "start_time": "2021-10-10T08:17:21.465Z"
   },
   {
    "duration": 192,
    "start_time": "2021-10-10T08:17:21.471Z"
   },
   {
    "duration": 15,
    "start_time": "2021-10-10T08:17:21.666Z"
   },
   {
    "duration": 44,
    "start_time": "2021-10-10T08:17:21.684Z"
   },
   {
    "duration": 9,
    "start_time": "2021-10-10T08:17:21.730Z"
   },
   {
    "duration": 27,
    "start_time": "2021-10-10T08:17:21.741Z"
   },
   {
    "duration": 28,
    "start_time": "2021-10-10T08:17:21.772Z"
   },
   {
    "duration": 35,
    "start_time": "2021-10-10T08:17:21.803Z"
   },
   {
    "duration": 26,
    "start_time": "2021-10-10T08:17:21.840Z"
   },
   {
    "duration": 47,
    "start_time": "2021-10-10T08:17:21.869Z"
   },
   {
    "duration": 104,
    "start_time": "2021-10-10T08:17:21.919Z"
   },
   {
    "duration": 111,
    "start_time": "2021-10-10T08:17:22.026Z"
   },
   {
    "duration": 88,
    "start_time": "2021-10-10T08:17:22.140Z"
   },
   {
    "duration": 69,
    "start_time": "2021-10-10T08:17:22.231Z"
   },
   {
    "duration": 3,
    "start_time": "2021-10-10T08:17:22.303Z"
   },
   {
    "duration": 21,
    "start_time": "2021-10-10T08:17:22.309Z"
   },
   {
    "duration": 77,
    "start_time": "2021-10-10T08:17:22.333Z"
   },
   {
    "duration": 44,
    "start_time": "2021-10-10T08:17:22.412Z"
   },
   {
    "duration": 64,
    "start_time": "2021-10-10T08:17:22.460Z"
   },
   {
    "duration": 5,
    "start_time": "2021-10-10T08:28:37.861Z"
   },
   {
    "duration": 31,
    "start_time": "2021-10-10T08:29:12.579Z"
   },
   {
    "duration": 29,
    "start_time": "2021-10-10T08:29:22.155Z"
   },
   {
    "duration": 20,
    "start_time": "2021-10-10T08:29:53.851Z"
   },
   {
    "duration": 25,
    "start_time": "2021-10-10T08:30:02.018Z"
   },
   {
    "duration": 27,
    "start_time": "2021-10-10T08:30:38.762Z"
   },
   {
    "duration": 25,
    "start_time": "2021-10-10T08:31:00.746Z"
   },
   {
    "duration": 32,
    "start_time": "2021-10-10T08:31:15.451Z"
   },
   {
    "duration": 27,
    "start_time": "2021-10-10T08:31:31.473Z"
   },
   {
    "duration": 312,
    "start_time": "2021-10-10T08:37:14.718Z"
   },
   {
    "duration": 5,
    "start_time": "2021-10-10T08:38:30.636Z"
   },
   {
    "duration": 23,
    "start_time": "2021-10-10T08:38:31.395Z"
   },
   {
    "duration": 21,
    "start_time": "2021-10-10T08:38:31.795Z"
   },
   {
    "duration": 19,
    "start_time": "2021-10-10T08:38:32.132Z"
   },
   {
    "duration": 19,
    "start_time": "2021-10-10T08:38:32.435Z"
   },
   {
    "duration": 21,
    "start_time": "2021-10-10T08:38:32.707Z"
   },
   {
    "duration": 20,
    "start_time": "2021-10-10T08:38:32.947Z"
   },
   {
    "duration": 320,
    "start_time": "2021-10-10T08:40:14.855Z"
   },
   {
    "duration": 279,
    "start_time": "2021-10-10T08:40:42.810Z"
   },
   {
    "duration": 4,
    "start_time": "2021-10-10T08:40:59.948Z"
   },
   {
    "duration": 201,
    "start_time": "2021-10-10T08:40:59.954Z"
   },
   {
    "duration": 16,
    "start_time": "2021-10-10T08:41:00.158Z"
   },
   {
    "duration": 54,
    "start_time": "2021-10-10T08:41:00.176Z"
   },
   {
    "duration": 14,
    "start_time": "2021-10-10T08:41:00.233Z"
   },
   {
    "duration": 27,
    "start_time": "2021-10-10T08:41:00.250Z"
   },
   {
    "duration": 21,
    "start_time": "2021-10-10T08:41:00.279Z"
   },
   {
    "duration": 41,
    "start_time": "2021-10-10T08:41:00.303Z"
   },
   {
    "duration": 34,
    "start_time": "2021-10-10T08:41:00.348Z"
   },
   {
    "duration": 42,
    "start_time": "2021-10-10T08:41:00.386Z"
   },
   {
    "duration": 106,
    "start_time": "2021-10-10T08:41:00.431Z"
   },
   {
    "duration": 112,
    "start_time": "2021-10-10T08:41:00.540Z"
   },
   {
    "duration": 87,
    "start_time": "2021-10-10T08:41:00.654Z"
   },
   {
    "duration": 69,
    "start_time": "2021-10-10T08:41:00.743Z"
   },
   {
    "duration": 4,
    "start_time": "2021-10-10T08:41:00.815Z"
   },
   {
    "duration": 25,
    "start_time": "2021-10-10T08:41:00.821Z"
   },
   {
    "duration": 76,
    "start_time": "2021-10-10T08:41:00.848Z"
   },
   {
    "duration": 48,
    "start_time": "2021-10-10T08:41:00.926Z"
   },
   {
    "duration": 61,
    "start_time": "2021-10-10T08:41:00.976Z"
   },
   {
    "duration": 4,
    "start_time": "2021-10-10T08:41:01.040Z"
   },
   {
    "duration": 36,
    "start_time": "2021-10-10T08:41:01.047Z"
   },
   {
    "duration": 31,
    "start_time": "2021-10-10T08:41:01.085Z"
   },
   {
    "duration": 22,
    "start_time": "2021-10-10T08:41:01.118Z"
   },
   {
    "duration": 17,
    "start_time": "2021-10-10T08:41:01.143Z"
   },
   {
    "duration": 52,
    "start_time": "2021-10-10T08:41:01.163Z"
   },
   {
    "duration": 19,
    "start_time": "2021-10-10T08:41:01.218Z"
   },
   {
    "duration": 1215,
    "start_time": "2021-10-10T08:41:01.241Z"
   },
   {
    "duration": 295,
    "start_time": "2021-10-10T09:17:14.829Z"
   },
   {
    "duration": 6,
    "start_time": "2021-10-10T09:18:49.571Z"
   },
   {
    "duration": 12,
    "start_time": "2021-10-10T09:19:04.619Z"
   },
   {
    "duration": 13,
    "start_time": "2021-10-10T09:20:47.404Z"
   },
   {
    "duration": 10084,
    "start_time": "2021-10-10T09:33:22.160Z"
   },
   {
    "duration": 6775,
    "start_time": "2021-10-10T09:33:45.471Z"
   },
   {
    "duration": 7410,
    "start_time": "2021-10-10T09:37:27.981Z"
   },
   {
    "duration": 30,
    "start_time": "2021-10-10T09:38:17.203Z"
   },
   {
    "duration": 17,
    "start_time": "2021-10-10T09:39:09.666Z"
   },
   {
    "duration": 18,
    "start_time": "2021-10-10T09:39:13.795Z"
   },
   {
    "duration": 33,
    "start_time": "2021-10-10T09:39:21.082Z"
   },
   {
    "duration": 27,
    "start_time": "2021-10-10T09:39:57.490Z"
   },
   {
    "duration": 90,
    "start_time": "2021-10-10T09:53:56.857Z"
   },
   {
    "duration": 89,
    "start_time": "2021-10-10T09:54:17.110Z"
   },
   {
    "duration": 6,
    "start_time": "2021-10-10T09:54:22.926Z"
   },
   {
    "duration": 7,
    "start_time": "2021-10-10T09:56:36.782Z"
   },
   {
    "duration": 325,
    "start_time": "2021-10-10T10:03:08.015Z"
   },
   {
    "duration": 6,
    "start_time": "2021-10-10T10:03:28.894Z"
   },
   {
    "duration": 6,
    "start_time": "2021-10-10T10:03:45.579Z"
   },
   {
    "duration": 301,
    "start_time": "2021-10-10T10:04:12.062Z"
   },
   {
    "duration": 47,
    "start_time": "2021-10-10T10:04:18.421Z"
   },
   {
    "duration": 5,
    "start_time": "2021-10-10T10:05:23.221Z"
   },
   {
    "duration": 1154,
    "start_time": "2021-10-10T10:06:20.948Z"
   },
   {
    "duration": 6,
    "start_time": "2021-10-10T10:07:12.306Z"
   },
   {
    "duration": 1632,
    "start_time": "2021-10-10T10:08:22.130Z"
   },
   {
    "duration": 5,
    "start_time": "2021-10-10T10:10:35.697Z"
   },
   {
    "duration": 38,
    "start_time": "2021-10-10T10:10:36.432Z"
   },
   {
    "duration": 5,
    "start_time": "2021-10-10T10:18:50.835Z"
   },
   {
    "duration": 599,
    "start_time": "2021-10-10T10:18:51.203Z"
   },
   {
    "duration": 6,
    "start_time": "2021-10-10T10:23:24.774Z"
   },
   {
    "duration": 34,
    "start_time": "2021-10-10T10:23:26.493Z"
   },
   {
    "duration": 29,
    "start_time": "2021-10-10T10:33:16.687Z"
   },
   {
    "duration": 38,
    "start_time": "2021-10-10T10:33:27.470Z"
   },
   {
    "duration": 30,
    "start_time": "2021-10-10T10:33:32.957Z"
   },
   {
    "duration": 35,
    "start_time": "2021-10-10T11:42:24.308Z"
   },
   {
    "duration": 31,
    "start_time": "2021-10-10T11:43:50.026Z"
   },
   {
    "duration": 32,
    "start_time": "2021-10-10T11:43:50.978Z"
   },
   {
    "duration": 33,
    "start_time": "2021-10-10T11:44:34.138Z"
   },
   {
    "duration": 33,
    "start_time": "2021-10-10T11:44:34.338Z"
   },
   {
    "duration": 31,
    "start_time": "2021-10-10T11:44:34.554Z"
   },
   {
    "duration": 31,
    "start_time": "2021-10-10T11:44:34.938Z"
   },
   {
    "duration": 278,
    "start_time": "2021-10-10T11:47:29.272Z"
   },
   {
    "duration": 43,
    "start_time": "2021-10-10T11:47:56.935Z"
   },
   {
    "duration": 54,
    "start_time": "2021-10-10T11:48:23.782Z"
   },
   {
    "duration": 9190,
    "start_time": "2021-10-10T11:48:57.168Z"
   },
   {
    "duration": 52,
    "start_time": "2021-10-10T11:49:15.494Z"
   },
   {
    "duration": 8151,
    "start_time": "2021-10-10T11:49:46.110Z"
   },
   {
    "duration": 54,
    "start_time": "2021-10-10T11:51:37.295Z"
   },
   {
    "duration": 52,
    "start_time": "2021-10-10T11:51:52.271Z"
   },
   {
    "duration": 6,
    "start_time": "2021-10-10T11:54:15.721Z"
   },
   {
    "duration": 35,
    "start_time": "2021-10-10T11:54:16.684Z"
   },
   {
    "duration": 36,
    "start_time": "2021-10-10T11:54:17.721Z"
   },
   {
    "duration": 294,
    "start_time": "2021-10-10T12:04:16.402Z"
   },
   {
    "duration": 31,
    "start_time": "2021-10-10T12:04:37.826Z"
   },
   {
    "duration": 12,
    "start_time": "2021-10-10T12:04:54.801Z"
   },
   {
    "duration": 31,
    "start_time": "2021-10-10T12:06:15.338Z"
   },
   {
    "duration": 12,
    "start_time": "2021-10-10T12:06:16.825Z"
   },
   {
    "duration": 5,
    "start_time": "2021-10-10T12:09:28.950Z"
   },
   {
    "duration": 29,
    "start_time": "2021-10-10T12:09:29.917Z"
   },
   {
    "duration": 19,
    "start_time": "2021-10-10T12:09:30.837Z"
   },
   {
    "duration": 27,
    "start_time": "2021-10-10T12:09:31.141Z"
   },
   {
    "duration": 19,
    "start_time": "2021-10-10T12:09:31.493Z"
   },
   {
    "duration": 30,
    "start_time": "2021-10-10T12:09:33.629Z"
   },
   {
    "duration": 12,
    "start_time": "2021-10-10T12:09:34.733Z"
   },
   {
    "duration": 7093,
    "start_time": "2021-10-10T12:14:02.057Z"
   },
   {
    "duration": -85,
    "start_time": "2021-10-10T12:14:09.238Z"
   },
   {
    "duration": 30,
    "start_time": "2021-10-10T12:14:17.018Z"
   },
   {
    "duration": 17,
    "start_time": "2021-10-10T12:14:17.753Z"
   },
   {
    "duration": 780,
    "start_time": "2021-10-10T12:18:42.974Z"
   },
   {
    "duration": -79,
    "start_time": "2021-10-10T12:18:43.835Z"
   },
   {
    "duration": 11,
    "start_time": "2021-10-10T12:18:50.592Z"
   },
   {
    "duration": 7,
    "start_time": "2021-10-10T12:18:51.349Z"
   },
   {
    "duration": 9,
    "start_time": "2021-10-10T12:19:24.670Z"
   },
   {
    "duration": 7,
    "start_time": "2021-10-10T12:19:39.902Z"
   },
   {
    "duration": 6,
    "start_time": "2021-10-10T12:19:47.390Z"
   },
   {
    "duration": 3,
    "start_time": "2021-10-10T12:23:51.475Z"
   },
   {
    "duration": 225,
    "start_time": "2021-10-10T12:23:51.481Z"
   },
   {
    "duration": 15,
    "start_time": "2021-10-10T12:23:51.709Z"
   },
   {
    "duration": 41,
    "start_time": "2021-10-10T12:23:51.727Z"
   },
   {
    "duration": 6,
    "start_time": "2021-10-10T12:23:51.770Z"
   },
   {
    "duration": 21,
    "start_time": "2021-10-10T12:23:51.801Z"
   },
   {
    "duration": 5,
    "start_time": "2021-10-10T12:23:51.825Z"
   },
   {
    "duration": 35,
    "start_time": "2021-10-10T12:23:51.833Z"
   },
   {
    "duration": 48,
    "start_time": "2021-10-10T12:23:51.871Z"
   },
   {
    "duration": 31,
    "start_time": "2021-10-10T12:23:51.922Z"
   },
   {
    "duration": 115,
    "start_time": "2021-10-10T12:23:51.955Z"
   },
   {
    "duration": 115,
    "start_time": "2021-10-10T12:23:52.073Z"
   },
   {
    "duration": 79,
    "start_time": "2021-10-10T12:23:52.190Z"
   },
   {
    "duration": 74,
    "start_time": "2021-10-10T12:23:52.271Z"
   },
   {
    "duration": 4,
    "start_time": "2021-10-10T12:23:52.347Z"
   },
   {
    "duration": 15,
    "start_time": "2021-10-10T12:23:52.354Z"
   },
   {
    "duration": 80,
    "start_time": "2021-10-10T12:23:52.371Z"
   },
   {
    "duration": 62,
    "start_time": "2021-10-10T12:23:52.453Z"
   },
   {
    "duration": 45,
    "start_time": "2021-10-10T12:23:52.519Z"
   },
   {
    "duration": 4,
    "start_time": "2021-10-10T12:23:52.567Z"
   },
   {
    "duration": 51,
    "start_time": "2021-10-10T12:23:52.573Z"
   },
   {
    "duration": 22,
    "start_time": "2021-10-10T12:23:52.626Z"
   },
   {
    "duration": 50,
    "start_time": "2021-10-10T12:23:52.651Z"
   },
   {
    "duration": 21,
    "start_time": "2021-10-10T12:23:52.704Z"
   },
   {
    "duration": 27,
    "start_time": "2021-10-10T12:23:52.728Z"
   },
   {
    "duration": 54,
    "start_time": "2021-10-10T12:23:52.757Z"
   },
   {
    "duration": 12,
    "start_time": "2021-10-10T12:23:52.813Z"
   },
   {
    "duration": 39,
    "start_time": "2021-10-10T12:23:52.828Z"
   },
   {
    "duration": 54,
    "start_time": "2021-10-10T12:23:52.870Z"
   },
   {
    "duration": 6,
    "start_time": "2021-10-10T12:23:52.926Z"
   },
   {
    "duration": 35,
    "start_time": "2021-10-10T12:23:52.934Z"
   },
   {
    "duration": 20,
    "start_time": "2021-10-10T12:23:53.000Z"
   },
   {
    "duration": 27,
    "start_time": "2021-10-10T12:23:53.023Z"
   },
   {
    "duration": 51,
    "start_time": "2021-10-10T12:23:53.052Z"
   },
   {
    "duration": 11,
    "start_time": "2021-10-10T12:23:53.106Z"
   },
   {
    "duration": 7,
    "start_time": "2021-10-10T12:23:53.119Z"
   },
   {
    "duration": 11,
    "start_time": "2021-10-10T12:23:53.128Z"
   },
   {
    "duration": 6,
    "start_time": "2021-10-10T12:23:53.142Z"
   },
   {
    "duration": 14,
    "start_time": "2021-10-10T14:03:40.817Z"
   },
   {
    "duration": 15,
    "start_time": "2021-10-10T14:03:56.712Z"
   },
   {
    "duration": 5,
    "start_time": "2021-10-10T14:04:03.848Z"
   },
   {
    "duration": 15,
    "start_time": "2021-10-10T14:04:04.945Z"
   },
   {
    "duration": 5,
    "start_time": "2021-10-10T14:04:22.600Z"
   },
   {
    "duration": 16,
    "start_time": "2021-10-10T14:04:23.399Z"
   },
   {
    "duration": 4,
    "start_time": "2021-10-10T14:04:52.002Z"
   },
   {
    "duration": 19,
    "start_time": "2021-10-10T14:04:52.663Z"
   },
   {
    "duration": 3,
    "start_time": "2021-10-10T14:06:47.010Z"
   },
   {
    "duration": 228,
    "start_time": "2021-10-10T14:06:47.017Z"
   },
   {
    "duration": 16,
    "start_time": "2021-10-10T14:06:47.249Z"
   },
   {
    "duration": 59,
    "start_time": "2021-10-10T14:06:47.269Z"
   },
   {
    "duration": 5,
    "start_time": "2021-10-10T14:06:47.330Z"
   },
   {
    "duration": 35,
    "start_time": "2021-10-10T14:06:47.337Z"
   },
   {
    "duration": 5,
    "start_time": "2021-10-10T14:06:47.376Z"
   },
   {
    "duration": 30,
    "start_time": "2021-10-10T14:06:47.400Z"
   },
   {
    "duration": 30,
    "start_time": "2021-10-10T14:06:47.432Z"
   },
   {
    "duration": 55,
    "start_time": "2021-10-10T14:06:47.465Z"
   },
   {
    "duration": 98,
    "start_time": "2021-10-10T14:06:47.522Z"
   },
   {
    "duration": 112,
    "start_time": "2021-10-10T14:06:47.622Z"
   },
   {
    "duration": 93,
    "start_time": "2021-10-10T14:06:47.736Z"
   },
   {
    "duration": 76,
    "start_time": "2021-10-10T14:06:47.832Z"
   },
   {
    "duration": 4,
    "start_time": "2021-10-10T14:06:47.910Z"
   },
   {
    "duration": 26,
    "start_time": "2021-10-10T14:06:47.916Z"
   },
   {
    "duration": 84,
    "start_time": "2021-10-10T14:06:47.945Z"
   },
   {
    "duration": 44,
    "start_time": "2021-10-10T14:06:48.032Z"
   },
   {
    "duration": 59,
    "start_time": "2021-10-10T14:06:48.081Z"
   },
   {
    "duration": 5,
    "start_time": "2021-10-10T14:06:48.143Z"
   },
   {
    "duration": 51,
    "start_time": "2021-10-10T14:06:48.150Z"
   },
   {
    "duration": 20,
    "start_time": "2021-10-10T14:06:48.203Z"
   },
   {
    "duration": 21,
    "start_time": "2021-10-10T14:06:48.226Z"
   },
   {
    "duration": 18,
    "start_time": "2021-10-10T14:06:48.249Z"
   },
   {
    "duration": 54,
    "start_time": "2021-10-10T14:06:48.269Z"
   },
   {
    "duration": 19,
    "start_time": "2021-10-10T14:06:48.327Z"
   },
   {
    "duration": 50,
    "start_time": "2021-10-10T14:06:48.349Z"
   },
   {
    "duration": 47,
    "start_time": "2021-10-10T14:06:48.402Z"
   },
   {
    "duration": 29,
    "start_time": "2021-10-10T14:06:48.452Z"
   },
   {
    "duration": 18,
    "start_time": "2021-10-10T14:06:48.484Z"
   },
   {
    "duration": 36,
    "start_time": "2021-10-10T14:06:48.505Z"
   },
   {
    "duration": 18,
    "start_time": "2021-10-10T14:06:48.544Z"
   },
   {
    "duration": 57,
    "start_time": "2021-10-10T14:06:48.564Z"
   },
   {
    "duration": 18,
    "start_time": "2021-10-10T14:06:48.623Z"
   },
   {
    "duration": 13,
    "start_time": "2021-10-10T14:06:48.644Z"
   },
   {
    "duration": 7,
    "start_time": "2021-10-10T14:06:48.660Z"
   },
   {
    "duration": 11,
    "start_time": "2021-10-10T14:06:48.702Z"
   },
   {
    "duration": 11,
    "start_time": "2021-10-10T14:06:48.716Z"
   },
   {
    "duration": 4,
    "start_time": "2021-10-10T14:07:19.366Z"
   },
   {
    "duration": 28,
    "start_time": "2021-10-10T14:07:20.084Z"
   },
   {
    "duration": 3,
    "start_time": "2021-10-10T14:07:57.476Z"
   },
   {
    "duration": 223,
    "start_time": "2021-10-10T14:07:57.481Z"
   },
   {
    "duration": 14,
    "start_time": "2021-10-10T14:07:57.707Z"
   },
   {
    "duration": 43,
    "start_time": "2021-10-10T14:07:57.724Z"
   },
   {
    "duration": 6,
    "start_time": "2021-10-10T14:07:57.769Z"
   },
   {
    "duration": 39,
    "start_time": "2021-10-10T14:07:57.777Z"
   },
   {
    "duration": 5,
    "start_time": "2021-10-10T14:07:57.819Z"
   },
   {
    "duration": 36,
    "start_time": "2021-10-10T14:07:57.827Z"
   },
   {
    "duration": 53,
    "start_time": "2021-10-10T14:07:57.865Z"
   },
   {
    "duration": 31,
    "start_time": "2021-10-10T14:07:57.920Z"
   },
   {
    "duration": 104,
    "start_time": "2021-10-10T14:07:57.953Z"
   },
   {
    "duration": 111,
    "start_time": "2021-10-10T14:07:58.060Z"
   },
   {
    "duration": 85,
    "start_time": "2021-10-10T14:07:58.173Z"
   },
   {
    "duration": 68,
    "start_time": "2021-10-10T14:07:58.260Z"
   },
   {
    "duration": 13,
    "start_time": "2021-10-10T14:07:58.330Z"
   },
   {
    "duration": 33,
    "start_time": "2021-10-10T14:07:58.345Z"
   },
   {
    "duration": 73,
    "start_time": "2021-10-10T14:07:58.380Z"
   },
   {
    "duration": 61,
    "start_time": "2021-10-10T14:07:58.455Z"
   },
   {
    "duration": 43,
    "start_time": "2021-10-10T14:07:58.520Z"
   },
   {
    "duration": 5,
    "start_time": "2021-10-10T14:07:58.566Z"
   },
   {
    "duration": 44,
    "start_time": "2021-10-10T14:07:58.573Z"
   },
   {
    "duration": 20,
    "start_time": "2021-10-10T14:07:58.620Z"
   },
   {
    "duration": 24,
    "start_time": "2021-10-10T14:07:58.642Z"
   },
   {
    "duration": 43,
    "start_time": "2021-10-10T14:07:58.669Z"
   },
   {
    "duration": 20,
    "start_time": "2021-10-10T14:07:58.714Z"
   },
   {
    "duration": 18,
    "start_time": "2021-10-10T14:07:58.737Z"
   },
   {
    "duration": 44,
    "start_time": "2021-10-10T14:07:58.758Z"
   },
   {
    "duration": 37,
    "start_time": "2021-10-10T14:07:58.804Z"
   },
   {
    "duration": 58,
    "start_time": "2021-10-10T14:07:58.843Z"
   },
   {
    "duration": 5,
    "start_time": "2021-10-10T14:07:58.903Z"
   },
   {
    "duration": 41,
    "start_time": "2021-10-10T14:07:58.911Z"
   },
   {
    "duration": 18,
    "start_time": "2021-10-10T14:07:58.954Z"
   },
   {
    "duration": 46,
    "start_time": "2021-10-10T14:07:58.975Z"
   },
   {
    "duration": 18,
    "start_time": "2021-10-10T14:07:59.023Z"
   },
   {
    "duration": 11,
    "start_time": "2021-10-10T14:07:59.043Z"
   },
   {
    "duration": 44,
    "start_time": "2021-10-10T14:07:59.056Z"
   },
   {
    "duration": 9,
    "start_time": "2021-10-10T14:07:59.102Z"
   },
   {
    "duration": 7,
    "start_time": "2021-10-10T14:07:59.113Z"
   },
   {
    "duration": 6,
    "start_time": "2021-10-10T14:15:14.095Z"
   },
   {
    "duration": 20,
    "start_time": "2021-10-10T14:15:15.182Z"
   },
   {
    "duration": 5,
    "start_time": "2021-10-10T14:15:31.024Z"
   },
   {
    "duration": 21,
    "start_time": "2021-10-10T14:15:31.646Z"
   },
   {
    "duration": 19,
    "start_time": "2021-10-10T14:15:58.734Z"
   },
   {
    "duration": 20,
    "start_time": "2021-10-10T14:15:59.085Z"
   },
   {
    "duration": 18,
    "start_time": "2021-10-10T14:15:59.678Z"
   },
   {
    "duration": 23,
    "start_time": "2021-10-10T14:16:00.254Z"
   },
   {
    "duration": 20,
    "start_time": "2021-10-10T14:16:01.254Z"
   },
   {
    "duration": 12,
    "start_time": "2021-10-10T14:16:06.055Z"
   },
   {
    "duration": 13,
    "start_time": "2021-10-10T14:16:38.510Z"
   },
   {
    "duration": 5,
    "start_time": "2021-10-10T14:18:15.758Z"
   },
   {
    "duration": 24,
    "start_time": "2021-10-10T14:18:17.204Z"
   },
   {
    "duration": 6,
    "start_time": "2021-10-10T14:19:21.076Z"
   },
   {
    "duration": 23,
    "start_time": "2021-10-10T14:19:22.275Z"
   },
   {
    "duration": 3,
    "start_time": "2021-10-10T14:21:04.324Z"
   },
   {
    "duration": 201,
    "start_time": "2021-10-10T14:21:04.329Z"
   },
   {
    "duration": 15,
    "start_time": "2021-10-10T14:21:04.533Z"
   },
   {
    "duration": 52,
    "start_time": "2021-10-10T14:21:04.551Z"
   },
   {
    "duration": 5,
    "start_time": "2021-10-10T14:21:04.606Z"
   },
   {
    "duration": 25,
    "start_time": "2021-10-10T14:21:04.614Z"
   },
   {
    "duration": 5,
    "start_time": "2021-10-10T14:21:04.642Z"
   },
   {
    "duration": 102,
    "start_time": "2021-10-10T14:21:04.650Z"
   },
   {
    "duration": 104,
    "start_time": "2021-10-10T14:21:04.755Z"
   },
   {
    "duration": 84,
    "start_time": "2021-10-10T14:21:04.861Z"
   },
   {
    "duration": 86,
    "start_time": "2021-10-10T14:21:04.948Z"
   },
   {
    "duration": 109,
    "start_time": "2021-10-10T14:21:05.036Z"
   },
   {
    "duration": 85,
    "start_time": "2021-10-10T14:21:05.147Z"
   },
   {
    "duration": 68,
    "start_time": "2021-10-10T14:21:05.234Z"
   },
   {
    "duration": 12,
    "start_time": "2021-10-10T14:21:05.305Z"
   },
   {
    "duration": 42,
    "start_time": "2021-10-10T14:21:05.320Z"
   },
   {
    "duration": 73,
    "start_time": "2021-10-10T14:21:05.365Z"
   },
   {
    "duration": 61,
    "start_time": "2021-10-10T14:21:05.441Z"
   },
   {
    "duration": 47,
    "start_time": "2021-10-10T14:21:05.508Z"
   },
   {
    "duration": 5,
    "start_time": "2021-10-10T14:21:05.559Z"
   },
   {
    "duration": 55,
    "start_time": "2021-10-10T14:21:05.567Z"
   },
   {
    "duration": 21,
    "start_time": "2021-10-10T14:21:05.626Z"
   },
   {
    "duration": 55,
    "start_time": "2021-10-10T14:21:05.650Z"
   },
   {
    "duration": 20,
    "start_time": "2021-10-10T14:21:05.708Z"
   },
   {
    "duration": 22,
    "start_time": "2021-10-10T14:21:05.731Z"
   },
   {
    "duration": 52,
    "start_time": "2021-10-10T14:21:05.756Z"
   },
   {
    "duration": 12,
    "start_time": "2021-10-10T14:21:05.810Z"
   },
   {
    "duration": 39,
    "start_time": "2021-10-10T14:21:05.825Z"
   },
   {
    "duration": 58,
    "start_time": "2021-10-10T14:21:05.866Z"
   },
   {
    "duration": 5,
    "start_time": "2021-10-10T14:21:05.926Z"
   },
   {
    "duration": 38,
    "start_time": "2021-10-10T14:21:05.933Z"
   },
   {
    "duration": 38,
    "start_time": "2021-10-10T14:21:05.973Z"
   },
   {
    "duration": 22,
    "start_time": "2021-10-10T14:21:06.014Z"
   },
   {
    "duration": 17,
    "start_time": "2021-10-10T14:21:06.038Z"
   },
   {
    "duration": 44,
    "start_time": "2021-10-10T14:21:06.057Z"
   },
   {
    "duration": 6,
    "start_time": "2021-10-10T14:21:06.103Z"
   },
   {
    "duration": 11,
    "start_time": "2021-10-10T14:21:06.112Z"
   },
   {
    "duration": 7,
    "start_time": "2021-10-10T14:21:06.125Z"
   },
   {
    "duration": 4,
    "start_time": "2021-10-10T14:35:16.447Z"
   },
   {
    "duration": 14,
    "start_time": "2021-10-10T14:35:17.102Z"
   },
   {
    "duration": 59,
    "start_time": "2021-10-10T14:35:22.558Z"
   },
   {
    "duration": 21,
    "start_time": "2021-10-10T14:35:50.455Z"
   },
   {
    "duration": 15,
    "start_time": "2021-10-10T14:35:55.423Z"
   },
   {
    "duration": 16,
    "start_time": "2021-10-10T14:37:00.696Z"
   },
   {
    "duration": 14,
    "start_time": "2021-10-10T14:37:14.373Z"
   },
   {
    "duration": 3,
    "start_time": "2021-10-10T14:38:15.633Z"
   },
   {
    "duration": 214,
    "start_time": "2021-10-10T14:38:15.640Z"
   },
   {
    "duration": 17,
    "start_time": "2021-10-10T14:38:15.857Z"
   },
   {
    "duration": 46,
    "start_time": "2021-10-10T14:38:15.877Z"
   },
   {
    "duration": 5,
    "start_time": "2021-10-10T14:38:15.926Z"
   },
   {
    "duration": 25,
    "start_time": "2021-10-10T14:38:15.934Z"
   },
   {
    "duration": 5,
    "start_time": "2021-10-10T14:38:15.963Z"
   },
   {
    "duration": 32,
    "start_time": "2021-10-10T14:38:16.002Z"
   },
   {
    "duration": 25,
    "start_time": "2021-10-10T14:38:16.036Z"
   },
   {
    "duration": 56,
    "start_time": "2021-10-10T14:38:16.063Z"
   },
   {
    "duration": 102,
    "start_time": "2021-10-10T14:38:16.122Z"
   },
   {
    "duration": 113,
    "start_time": "2021-10-10T14:38:16.227Z"
   },
   {
    "duration": 86,
    "start_time": "2021-10-10T14:38:16.342Z"
   },
   {
    "duration": 70,
    "start_time": "2021-10-10T14:38:16.431Z"
   },
   {
    "duration": 4,
    "start_time": "2021-10-10T14:38:16.504Z"
   },
   {
    "duration": 19,
    "start_time": "2021-10-10T14:38:16.510Z"
   },
   {
    "duration": 74,
    "start_time": "2021-10-10T14:38:16.532Z"
   },
   {
    "duration": 16,
    "start_time": "2021-10-10T14:38:16.609Z"
   },
   {
    "duration": 14,
    "start_time": "2021-10-10T14:38:16.630Z"
   },
   {
    "duration": 5,
    "start_time": "2021-10-10T14:38:16.647Z"
   },
   {
    "duration": 62,
    "start_time": "2021-10-10T14:38:16.654Z"
   },
   {
    "duration": 19,
    "start_time": "2021-10-10T14:38:16.718Z"
   },
   {
    "duration": 18,
    "start_time": "2021-10-10T14:38:16.740Z"
   },
   {
    "duration": 47,
    "start_time": "2021-10-10T14:38:16.761Z"
   },
   {
    "duration": 23,
    "start_time": "2021-10-10T14:38:16.810Z"
   },
   {
    "duration": 19,
    "start_time": "2021-10-10T14:38:16.835Z"
   },
   {
    "duration": 43,
    "start_time": "2021-10-10T14:38:16.857Z"
   },
   {
    "duration": 23,
    "start_time": "2021-10-10T14:38:16.903Z"
   },
   {
    "duration": 15,
    "start_time": "2021-10-10T14:38:16.928Z"
   },
   {
    "duration": 6,
    "start_time": "2021-10-10T14:38:16.945Z"
   },
   {
    "duration": 59,
    "start_time": "2021-10-10T14:38:16.953Z"
   },
   {
    "duration": 15,
    "start_time": "2021-10-10T14:38:17.014Z"
   },
   {
    "duration": 21,
    "start_time": "2021-10-10T14:38:17.031Z"
   },
   {
    "duration": 49,
    "start_time": "2021-10-10T14:38:17.054Z"
   },
   {
    "duration": 11,
    "start_time": "2021-10-10T14:38:17.105Z"
   },
   {
    "duration": 6,
    "start_time": "2021-10-10T14:38:17.118Z"
   },
   {
    "duration": 9,
    "start_time": "2021-10-10T14:38:17.126Z"
   },
   {
    "duration": 5,
    "start_time": "2021-10-10T14:38:17.137Z"
   },
   {
    "duration": 237,
    "start_time": "2021-10-10T16:32:22.723Z"
   },
   {
    "duration": 621,
    "start_time": "2021-10-10T16:32:25.847Z"
   },
   {
    "duration": 150,
    "start_time": "2021-10-10T16:32:26.470Z"
   },
   {
    "duration": 27,
    "start_time": "2021-10-10T16:32:26.623Z"
   },
   {
    "duration": 26,
    "start_time": "2021-10-10T16:32:26.652Z"
   },
   {
    "duration": 4,
    "start_time": "2021-10-10T16:32:26.680Z"
   },
   {
    "duration": 23,
    "start_time": "2021-10-10T16:32:26.685Z"
   },
   {
    "duration": 7,
    "start_time": "2021-10-10T16:32:26.710Z"
   },
   {
    "duration": 25,
    "start_time": "2021-10-10T16:32:26.748Z"
   },
   {
    "duration": 21,
    "start_time": "2021-10-10T16:32:26.775Z"
   },
   {
    "duration": 25,
    "start_time": "2021-10-10T16:32:26.797Z"
   },
   {
    "duration": 90,
    "start_time": "2021-10-10T16:32:26.823Z"
   },
   {
    "duration": 97,
    "start_time": "2021-10-10T16:32:26.915Z"
   },
   {
    "duration": 63,
    "start_time": "2021-10-10T16:32:27.013Z"
   },
   {
    "duration": 43,
    "start_time": "2021-10-10T16:32:27.078Z"
   },
   {
    "duration": 3,
    "start_time": "2021-10-10T16:32:27.123Z"
   },
   {
    "duration": 32,
    "start_time": "2021-10-10T16:32:27.127Z"
   },
   {
    "duration": 42,
    "start_time": "2021-10-10T16:32:27.160Z"
   },
   {
    "duration": 12,
    "start_time": "2021-10-10T16:32:27.204Z"
   },
   {
    "duration": 37,
    "start_time": "2021-10-10T16:32:27.218Z"
   },
   {
    "duration": 3,
    "start_time": "2021-10-10T16:32:27.257Z"
   },
   {
    "duration": 25,
    "start_time": "2021-10-10T16:32:27.262Z"
   },
   {
    "duration": 16,
    "start_time": "2021-10-10T16:32:27.289Z"
   },
   {
    "duration": 41,
    "start_time": "2021-10-10T16:32:27.308Z"
   },
   {
    "duration": 16,
    "start_time": "2021-10-10T16:32:27.352Z"
   },
   {
    "duration": 19,
    "start_time": "2021-10-10T16:32:27.370Z"
   },
   {
    "duration": 15,
    "start_time": "2021-10-10T16:32:27.391Z"
   },
   {
    "duration": 9,
    "start_time": "2021-10-10T16:32:27.408Z"
   },
   {
    "duration": 9,
    "start_time": "2021-10-10T16:32:27.450Z"
   },
   {
    "duration": 19,
    "start_time": "2021-10-10T16:32:27.460Z"
   },
   {
    "duration": 12,
    "start_time": "2021-10-10T16:32:27.481Z"
   },
   {
    "duration": 4,
    "start_time": "2021-10-10T16:32:27.495Z"
   },
   {
    "duration": 23,
    "start_time": "2021-10-10T16:32:27.501Z"
   },
   {
    "duration": 15,
    "start_time": "2021-10-10T16:32:27.550Z"
   },
   {
    "duration": 18,
    "start_time": "2021-10-10T16:32:27.567Z"
   },
   {
    "duration": 13,
    "start_time": "2021-10-10T16:32:27.586Z"
   },
   {
    "duration": 8,
    "start_time": "2021-10-10T16:32:27.600Z"
   },
   {
    "duration": 41,
    "start_time": "2021-10-10T16:32:27.609Z"
   },
   {
    "duration": 6,
    "start_time": "2021-10-10T16:32:27.652Z"
   },
   {
    "duration": 6,
    "start_time": "2021-10-10T16:32:27.659Z"
   },
   {
    "duration": 411,
    "start_time": "2021-10-11T15:24:10.006Z"
   },
   {
    "duration": 812,
    "start_time": "2021-10-11T15:24:16.746Z"
   },
   {
    "duration": 188,
    "start_time": "2021-10-11T15:24:17.560Z"
   },
   {
    "duration": 29,
    "start_time": "2021-10-11T15:24:17.751Z"
   },
   {
    "duration": 35,
    "start_time": "2021-10-11T15:24:17.782Z"
   },
   {
    "duration": 6,
    "start_time": "2021-10-11T15:24:17.819Z"
   },
   {
    "duration": 25,
    "start_time": "2021-10-11T15:24:19.691Z"
   },
   {
    "duration": 325,
    "start_time": "2021-10-11T15:24:39.426Z"
   },
   {
    "duration": 5,
    "start_time": "2021-10-11T15:24:47.851Z"
   },
   {
    "duration": 374,
    "start_time": "2021-10-11T15:25:54.259Z"
   },
   {
    "duration": 22,
    "start_time": "2021-10-11T15:26:01.681Z"
   },
   {
    "duration": 312,
    "start_time": "2021-10-11T17:27:41.218Z"
   },
   {
    "duration": 742,
    "start_time": "2021-10-11T17:27:45.241Z"
   },
   {
    "duration": 206,
    "start_time": "2021-10-11T17:27:45.986Z"
   },
   {
    "duration": 25,
    "start_time": "2021-10-11T17:27:46.196Z"
   },
   {
    "duration": 56,
    "start_time": "2021-10-11T17:27:46.223Z"
   },
   {
    "duration": 13,
    "start_time": "2021-10-11T17:27:46.282Z"
   },
   {
    "duration": 53,
    "start_time": "2021-10-11T17:27:46.297Z"
   },
   {
    "duration": 4,
    "start_time": "2021-10-11T17:27:51.481Z"
   },
   {
    "duration": 201,
    "start_time": "2021-10-11T17:27:51.488Z"
   },
   {
    "duration": 15,
    "start_time": "2021-10-11T17:27:51.692Z"
   },
   {
    "duration": 35,
    "start_time": "2021-10-11T17:27:51.710Z"
   },
   {
    "duration": 5,
    "start_time": "2021-10-11T17:27:51.748Z"
   },
   {
    "duration": 54,
    "start_time": "2021-10-11T17:27:51.755Z"
   },
   {
    "duration": 6,
    "start_time": "2021-10-11T17:28:10.851Z"
   },
   {
    "duration": 14,
    "start_time": "2021-10-11T17:33:18.755Z"
   },
   {
    "duration": 88,
    "start_time": "2021-10-11T17:33:40.908Z"
   },
   {
    "duration": 87,
    "start_time": "2021-10-11T17:33:49.212Z"
   },
   {
    "duration": 12,
    "start_time": "2021-10-11T17:33:57.210Z"
   },
   {
    "duration": 12,
    "start_time": "2021-10-11T17:39:06.662Z"
   },
   {
    "duration": 12,
    "start_time": "2021-10-11T17:39:17.191Z"
   },
   {
    "duration": 11,
    "start_time": "2021-10-11T17:39:31.206Z"
   },
   {
    "duration": 85,
    "start_time": "2021-10-11T17:58:59.400Z"
   },
   {
    "duration": 78,
    "start_time": "2021-10-11T17:59:49.831Z"
   },
   {
    "duration": 4,
    "start_time": "2021-10-11T17:59:56.253Z"
   },
   {
    "duration": 4,
    "start_time": "2021-10-11T18:00:12.236Z"
   },
   {
    "duration": 96,
    "start_time": "2021-10-11T18:01:27.991Z"
   },
   {
    "duration": 87,
    "start_time": "2021-10-11T18:01:57.348Z"
   },
   {
    "duration": 3,
    "start_time": "2021-10-11T18:08:56.860Z"
   },
   {
    "duration": 206,
    "start_time": "2021-10-11T18:08:56.868Z"
   },
   {
    "duration": 25,
    "start_time": "2021-10-11T18:08:57.077Z"
   },
   {
    "duration": 35,
    "start_time": "2021-10-11T18:08:57.105Z"
   },
   {
    "duration": 5,
    "start_time": "2021-10-11T18:08:57.143Z"
   },
   {
    "duration": 50,
    "start_time": "2021-10-11T18:08:57.150Z"
   },
   {
    "duration": 7,
    "start_time": "2021-10-11T18:08:57.204Z"
   },
   {
    "duration": 34,
    "start_time": "2021-10-11T18:08:57.213Z"
   },
   {
    "duration": 23,
    "start_time": "2021-10-11T18:08:57.249Z"
   },
   {
    "duration": 29,
    "start_time": "2021-10-11T18:08:57.303Z"
   },
   {
    "duration": 104,
    "start_time": "2021-10-11T18:08:57.336Z"
   },
   {
    "duration": 100,
    "start_time": "2021-10-11T18:08:57.443Z"
   },
   {
    "duration": 89,
    "start_time": "2021-10-11T18:08:57.546Z"
   },
   {
    "duration": 73,
    "start_time": "2021-10-11T18:08:57.637Z"
   },
   {
    "duration": 5,
    "start_time": "2021-10-11T18:08:57.713Z"
   },
   {
    "duration": 21,
    "start_time": "2021-10-11T18:08:57.721Z"
   },
   {
    "duration": 76,
    "start_time": "2021-10-11T18:08:57.745Z"
   },
   {
    "duration": 17,
    "start_time": "2021-10-11T18:08:57.824Z"
   },
   {
    "duration": 16,
    "start_time": "2021-10-11T18:08:57.844Z"
   },
   {
    "duration": 39,
    "start_time": "2021-10-11T18:08:57.863Z"
   },
   {
    "duration": 34,
    "start_time": "2021-10-11T18:08:57.905Z"
   },
   {
    "duration": 22,
    "start_time": "2021-10-11T18:08:57.942Z"
   },
   {
    "duration": 47,
    "start_time": "2021-10-11T18:08:57.968Z"
   },
   {
    "duration": 20,
    "start_time": "2021-10-11T18:08:58.018Z"
   },
   {
    "duration": 22,
    "start_time": "2021-10-11T18:08:58.041Z"
   },
   {
    "duration": 49,
    "start_time": "2021-10-11T18:08:58.065Z"
   },
   {
    "duration": 12,
    "start_time": "2021-10-11T18:08:58.116Z"
   },
   {
    "duration": 11,
    "start_time": "2021-10-11T18:08:58.132Z"
   },
   {
    "duration": 55,
    "start_time": "2021-10-11T18:08:58.146Z"
   },
   {
    "duration": 14,
    "start_time": "2021-10-11T18:08:58.204Z"
   },
   {
    "duration": 6,
    "start_time": "2021-10-11T18:08:58.220Z"
   },
   {
    "duration": 42,
    "start_time": "2021-10-11T18:08:58.228Z"
   },
   {
    "duration": 36,
    "start_time": "2021-10-11T18:08:58.273Z"
   },
   {
    "duration": 23,
    "start_time": "2021-10-11T18:08:58.312Z"
   },
   {
    "duration": 21,
    "start_time": "2021-10-11T18:08:58.337Z"
   },
   {
    "duration": 45,
    "start_time": "2021-10-11T18:08:58.360Z"
   },
   {
    "duration": 7,
    "start_time": "2021-10-11T18:08:58.407Z"
   },
   {
    "duration": 17,
    "start_time": "2021-10-11T18:08:58.417Z"
   },
   {
    "duration": 15,
    "start_time": "2021-10-11T18:08:58.436Z"
   }
  ],
  "colab": {
   "collapsed_sections": [
    "E0vqbgi9ay0H",
    "VUC88oWjTJw2"
   ],
   "name": "yandex_music_project_2021.2.ipynb",
   "provenance": []
  },
  "kernelspec": {
   "display_name": "Python 3",
   "language": "python",
   "name": "python3"
  },
  "language_info": {
   "codemirror_mode": {
    "name": "ipython",
    "version": 3
   },
   "file_extension": ".py",
   "mimetype": "text/x-python",
   "name": "python",
   "nbconvert_exporter": "python",
   "pygments_lexer": "ipython3",
   "version": "3.8.5"
  },
  "toc": {
   "base_numbering": 1,
   "nav_menu": {},
   "number_sections": true,
   "sideBar": true,
   "skip_h1_title": true,
   "title_cell": "Table of Contents",
   "title_sidebar": "Contents",
   "toc_cell": false,
   "toc_position": {},
   "toc_section_display": true,
   "toc_window_display": true
  }
 },
 "nbformat": 4,
 "nbformat_minor": 1
}
