{
 "cells": [
  {
   "cell_type": "markdown",
   "metadata": {},
   "source": [
    "# Проверка гипотез по увеличению выручки в интернет-магазине. \n",
    "# Оценка результатов A/B-теста"
   ]
  },
  {
   "cell_type": "markdown",
   "metadata": {},
   "source": [
    "## Описание проекта"
   ]
  },
  {
   "cell_type": "markdown",
   "metadata": {},
   "source": [
    "**Цель:** Приоритизировать гипотезы, подготовленные вместе с отделом маркетинга для увеличения выручки интернет-магазина. Запустить A/B-тест и проанализировать результаты.\n",
    "\n",
    "**Описание данных:** \n",
    "\n",
    "Файл `/datasets/hypothesis.csv`:\n",
    "- Hypothesis — краткое описание гипотезы;\n",
    "- Reach — охват пользователей по 10-балльной шкале;\n",
    "- Impact — влияние на пользователей по 10-балльной шкале;\n",
    "- Confidence — уверенность в гипотезе по 10-балльной шкале;\n",
    "- Efforts — затраты ресурсов на проверку гипотезы по 10-балльной шкале. Чем больше значение Efforts, тем дороже проверка гипотезы.\n",
    "\n",
    "Файл `/datasets/orders.csv`: \n",
    "- transactionId — идентификатор заказа;\n",
    "- visitorId — идентификатор пользователя, совершившего заказ;\n",
    "- date — дата, когда был совершён заказ;\n",
    "- revenue — выручка заказа;\n",
    "- group — группа A/B-теста, в которую попал заказ.\n",
    "\n",
    "Файл `/datasets/visitors.csv`:\n",
    "- date — дата;\n",
    "- group — группа A/B-теста;\n",
    "- visitors — количество пользователей в указанную дату в указанной группе A/B-теста"
   ]
  },
  {
   "cell_type": "code",
   "execution_count": 1,
   "metadata": {},
   "outputs": [],
   "source": [
    "# Выгрузка необходимых библиотек\n",
    "import pandas as pd\n",
    "import scipy.stats as stats\n",
    "import numpy as np\n",
    "import matplotlib.pyplot as plt"
   ]
  },
  {
   "cell_type": "code",
   "execution_count": 2,
   "metadata": {},
   "outputs": [],
   "source": [
    "# Выгрузка массивов данных\n",
    "hypothesis = pd.read_csv('/datasets/hypothesis.csv')\n",
    "orders = pd.read_csv('/datasets/orders.csv', parse_dates=['date'])\n",
    "visitors = pd.read_csv('/datasets/visitors.csv', parse_dates=['date'])"
   ]
  },
  {
   "cell_type": "markdown",
   "metadata": {},
   "source": [
    "## Подготовка данных"
   ]
  },
  {
   "cell_type": "markdown",
   "metadata": {},
   "source": [
    "**Обработка hypothesis:**"
   ]
  },
  {
   "cell_type": "code",
   "execution_count": 3,
   "metadata": {
    "scrolled": true
   },
   "outputs": [
    {
     "data": {
      "text/html": [
       "<div>\n",
       "<style scoped>\n",
       "    .dataframe tbody tr th:only-of-type {\n",
       "        vertical-align: middle;\n",
       "    }\n",
       "\n",
       "    .dataframe tbody tr th {\n",
       "        vertical-align: top;\n",
       "    }\n",
       "\n",
       "    .dataframe thead th {\n",
       "        text-align: right;\n",
       "    }\n",
       "</style>\n",
       "<table border=\"1\" class=\"dataframe\">\n",
       "  <thead>\n",
       "    <tr style=\"text-align: right;\">\n",
       "      <th></th>\n",
       "      <th>Hypothesis</th>\n",
       "      <th>Reach</th>\n",
       "      <th>Impact</th>\n",
       "      <th>Confidence</th>\n",
       "      <th>Efforts</th>\n",
       "    </tr>\n",
       "  </thead>\n",
       "  <tbody>\n",
       "    <tr>\n",
       "      <td>0</td>\n",
       "      <td>Добавить два новых канала привлечения трафика, что позволит привлекать на 30% больше пользователей</td>\n",
       "      <td>3</td>\n",
       "      <td>10</td>\n",
       "      <td>8</td>\n",
       "      <td>6</td>\n",
       "    </tr>\n",
       "    <tr>\n",
       "      <td>1</td>\n",
       "      <td>Запустить собственную службу доставки, что сократит срок доставки заказов</td>\n",
       "      <td>2</td>\n",
       "      <td>5</td>\n",
       "      <td>4</td>\n",
       "      <td>10</td>\n",
       "    </tr>\n",
       "    <tr>\n",
       "      <td>2</td>\n",
       "      <td>Добавить блоки рекомендаций товаров на сайт интернет магазина, чтобы повысить конверсию и средний чек заказа</td>\n",
       "      <td>8</td>\n",
       "      <td>3</td>\n",
       "      <td>7</td>\n",
       "      <td>3</td>\n",
       "    </tr>\n",
       "    <tr>\n",
       "      <td>3</td>\n",
       "      <td>Изменить структура категорий, что увеличит конверсию, т.к. пользователи быстрее найдут нужный товар</td>\n",
       "      <td>8</td>\n",
       "      <td>3</td>\n",
       "      <td>3</td>\n",
       "      <td>8</td>\n",
       "    </tr>\n",
       "    <tr>\n",
       "      <td>4</td>\n",
       "      <td>Изменить цвет фона главной страницы, чтобы увеличить вовлеченность пользователей</td>\n",
       "      <td>3</td>\n",
       "      <td>1</td>\n",
       "      <td>1</td>\n",
       "      <td>1</td>\n",
       "    </tr>\n",
       "    <tr>\n",
       "      <td>5</td>\n",
       "      <td>Добавить страницу отзывов клиентов о магазине, что позволит увеличить количество заказов</td>\n",
       "      <td>3</td>\n",
       "      <td>2</td>\n",
       "      <td>2</td>\n",
       "      <td>3</td>\n",
       "    </tr>\n",
       "    <tr>\n",
       "      <td>6</td>\n",
       "      <td>Показать на главной странице баннеры с актуальными акциями и распродажами, чтобы увеличить конверсию</td>\n",
       "      <td>5</td>\n",
       "      <td>3</td>\n",
       "      <td>8</td>\n",
       "      <td>3</td>\n",
       "    </tr>\n",
       "    <tr>\n",
       "      <td>7</td>\n",
       "      <td>Добавить форму подписки на все основные страницы, чтобы собрать базу клиентов для email-рассылок</td>\n",
       "      <td>10</td>\n",
       "      <td>7</td>\n",
       "      <td>8</td>\n",
       "      <td>5</td>\n",
       "    </tr>\n",
       "    <tr>\n",
       "      <td>8</td>\n",
       "      <td>Запустить акцию, дающую скидку на товар в день рождения</td>\n",
       "      <td>1</td>\n",
       "      <td>9</td>\n",
       "      <td>9</td>\n",
       "      <td>5</td>\n",
       "    </tr>\n",
       "  </tbody>\n",
       "</table>\n",
       "</div>"
      ],
      "text/plain": [
       "                                                                                                     Hypothesis  \\\n",
       "0            Добавить два новых канала привлечения трафика, что позволит привлекать на 30% больше пользователей   \n",
       "1                                     Запустить собственную службу доставки, что сократит срок доставки заказов   \n",
       "2  Добавить блоки рекомендаций товаров на сайт интернет магазина, чтобы повысить конверсию и средний чек заказа   \n",
       "3           Изменить структура категорий, что увеличит конверсию, т.к. пользователи быстрее найдут нужный товар   \n",
       "4                              Изменить цвет фона главной страницы, чтобы увеличить вовлеченность пользователей   \n",
       "5                      Добавить страницу отзывов клиентов о магазине, что позволит увеличить количество заказов   \n",
       "6          Показать на главной странице баннеры с актуальными акциями и распродажами, чтобы увеличить конверсию   \n",
       "7              Добавить форму подписки на все основные страницы, чтобы собрать базу клиентов для email-рассылок   \n",
       "8                                                       Запустить акцию, дающую скидку на товар в день рождения   \n",
       "\n",
       "   Reach  Impact  Confidence  Efforts  \n",
       "0      3      10           8        6  \n",
       "1      2       5           4       10  \n",
       "2      8       3           7        3  \n",
       "3      8       3           3        8  \n",
       "4      3       1           1        1  \n",
       "5      3       2           2        3  \n",
       "6      5       3           8        3  \n",
       "7     10       7           8        5  \n",
       "8      1       9           9        5  "
      ]
     },
     "execution_count": 3,
     "metadata": {},
     "output_type": "execute_result"
    }
   ],
   "source": [
    "pd.options.display.max_colwidth = 300\n",
    "hypothesis"
   ]
  },
  {
   "cell_type": "code",
   "execution_count": 4,
   "metadata": {},
   "outputs": [
    {
     "name": "stdout",
     "output_type": "stream",
     "text": [
      "<class 'pandas.core.frame.DataFrame'>\n",
      "RangeIndex: 9 entries, 0 to 8\n",
      "Data columns (total 5 columns):\n",
      "hypothesis    9 non-null object\n",
      "reach         9 non-null int64\n",
      "impact        9 non-null int64\n",
      "confidence    9 non-null int64\n",
      "efforts       9 non-null int64\n",
      "dtypes: int64(4), object(1)\n",
      "memory usage: 488.0+ bytes\n"
     ]
    }
   ],
   "source": [
    "hypothesis.columns = hypothesis.columns.str.lower()\n",
    "hypothesis.info()"
   ]
  },
  {
   "cell_type": "markdown",
   "metadata": {},
   "source": [
    "**Обработка orders:**"
   ]
  },
  {
   "cell_type": "code",
   "execution_count": 5,
   "metadata": {
    "scrolled": false
   },
   "outputs": [
    {
     "data": {
      "text/html": [
       "<div>\n",
       "<style scoped>\n",
       "    .dataframe tbody tr th:only-of-type {\n",
       "        vertical-align: middle;\n",
       "    }\n",
       "\n",
       "    .dataframe tbody tr th {\n",
       "        vertical-align: top;\n",
       "    }\n",
       "\n",
       "    .dataframe thead th {\n",
       "        text-align: right;\n",
       "    }\n",
       "</style>\n",
       "<table border=\"1\" class=\"dataframe\">\n",
       "  <thead>\n",
       "    <tr style=\"text-align: right;\">\n",
       "      <th></th>\n",
       "      <th>transactionId</th>\n",
       "      <th>visitorId</th>\n",
       "      <th>date</th>\n",
       "      <th>revenue</th>\n",
       "      <th>group</th>\n",
       "    </tr>\n",
       "  </thead>\n",
       "  <tbody>\n",
       "    <tr>\n",
       "      <td>0</td>\n",
       "      <td>3667963787</td>\n",
       "      <td>3312258926</td>\n",
       "      <td>2019-08-15</td>\n",
       "      <td>1650</td>\n",
       "      <td>B</td>\n",
       "    </tr>\n",
       "    <tr>\n",
       "      <td>1</td>\n",
       "      <td>2804400009</td>\n",
       "      <td>3642806036</td>\n",
       "      <td>2019-08-15</td>\n",
       "      <td>730</td>\n",
       "      <td>B</td>\n",
       "    </tr>\n",
       "    <tr>\n",
       "      <td>2</td>\n",
       "      <td>2961555356</td>\n",
       "      <td>4069496402</td>\n",
       "      <td>2019-08-15</td>\n",
       "      <td>400</td>\n",
       "      <td>A</td>\n",
       "    </tr>\n",
       "    <tr>\n",
       "      <td>3</td>\n",
       "      <td>3797467345</td>\n",
       "      <td>1196621759</td>\n",
       "      <td>2019-08-15</td>\n",
       "      <td>9759</td>\n",
       "      <td>B</td>\n",
       "    </tr>\n",
       "    <tr>\n",
       "      <td>4</td>\n",
       "      <td>2282983706</td>\n",
       "      <td>2322279887</td>\n",
       "      <td>2019-08-15</td>\n",
       "      <td>2308</td>\n",
       "      <td>B</td>\n",
       "    </tr>\n",
       "    <tr>\n",
       "      <td>...</td>\n",
       "      <td>...</td>\n",
       "      <td>...</td>\n",
       "      <td>...</td>\n",
       "      <td>...</td>\n",
       "      <td>...</td>\n",
       "    </tr>\n",
       "    <tr>\n",
       "      <td>1192</td>\n",
       "      <td>2662137336</td>\n",
       "      <td>3733762160</td>\n",
       "      <td>2019-08-14</td>\n",
       "      <td>6490</td>\n",
       "      <td>B</td>\n",
       "    </tr>\n",
       "    <tr>\n",
       "      <td>1193</td>\n",
       "      <td>2203539145</td>\n",
       "      <td>370388673</td>\n",
       "      <td>2019-08-14</td>\n",
       "      <td>3190</td>\n",
       "      <td>A</td>\n",
       "    </tr>\n",
       "    <tr>\n",
       "      <td>1194</td>\n",
       "      <td>1807773912</td>\n",
       "      <td>573423106</td>\n",
       "      <td>2019-08-14</td>\n",
       "      <td>10550</td>\n",
       "      <td>A</td>\n",
       "    </tr>\n",
       "    <tr>\n",
       "      <td>1195</td>\n",
       "      <td>1947021204</td>\n",
       "      <td>1614305549</td>\n",
       "      <td>2019-08-14</td>\n",
       "      <td>100</td>\n",
       "      <td>A</td>\n",
       "    </tr>\n",
       "    <tr>\n",
       "      <td>1196</td>\n",
       "      <td>3936777065</td>\n",
       "      <td>2108080724</td>\n",
       "      <td>2019-08-15</td>\n",
       "      <td>202740</td>\n",
       "      <td>B</td>\n",
       "    </tr>\n",
       "  </tbody>\n",
       "</table>\n",
       "<p>1197 rows × 5 columns</p>\n",
       "</div>"
      ],
      "text/plain": [
       "      transactionId   visitorId       date  revenue group\n",
       "0        3667963787  3312258926 2019-08-15     1650     B\n",
       "1        2804400009  3642806036 2019-08-15      730     B\n",
       "2        2961555356  4069496402 2019-08-15      400     A\n",
       "3        3797467345  1196621759 2019-08-15     9759     B\n",
       "4        2282983706  2322279887 2019-08-15     2308     B\n",
       "...             ...         ...        ...      ...   ...\n",
       "1192     2662137336  3733762160 2019-08-14     6490     B\n",
       "1193     2203539145   370388673 2019-08-14     3190     A\n",
       "1194     1807773912   573423106 2019-08-14    10550     A\n",
       "1195     1947021204  1614305549 2019-08-14      100     A\n",
       "1196     3936777065  2108080724 2019-08-15   202740     B\n",
       "\n",
       "[1197 rows x 5 columns]"
      ]
     },
     "execution_count": 5,
     "metadata": {},
     "output_type": "execute_result"
    }
   ],
   "source": [
    "orders"
   ]
  },
  {
   "cell_type": "code",
   "execution_count": 6,
   "metadata": {},
   "outputs": [
    {
     "name": "stdout",
     "output_type": "stream",
     "text": [
      "<class 'pandas.core.frame.DataFrame'>\n",
      "Int64Index: 1197 entries, 0 to 1196\n",
      "Data columns (total 5 columns):\n",
      "transactionId    1197 non-null int64\n",
      "visitorId        1197 non-null int64\n",
      "date             1197 non-null datetime64[ns]\n",
      "revenue          1197 non-null int64\n",
      "group            1197 non-null object\n",
      "dtypes: datetime64[ns](1), int64(3), object(1)\n",
      "memory usage: 56.1+ KB\n"
     ]
    },
    {
     "data": {
      "text/plain": [
       "None"
      ]
     },
     "metadata": {},
     "output_type": "display_data"
    },
    {
     "data": {
      "text/html": [
       "<div>\n",
       "<style scoped>\n",
       "    .dataframe tbody tr th:only-of-type {\n",
       "        vertical-align: middle;\n",
       "    }\n",
       "\n",
       "    .dataframe tbody tr th {\n",
       "        vertical-align: top;\n",
       "    }\n",
       "\n",
       "    .dataframe thead th {\n",
       "        text-align: right;\n",
       "    }\n",
       "</style>\n",
       "<table border=\"1\" class=\"dataframe\">\n",
       "  <thead>\n",
       "    <tr style=\"text-align: right;\">\n",
       "      <th></th>\n",
       "      <th>transactionId</th>\n",
       "      <th>visitorId</th>\n",
       "      <th>revenue</th>\n",
       "    </tr>\n",
       "  </thead>\n",
       "  <tbody>\n",
       "    <tr>\n",
       "      <td>count</td>\n",
       "      <td>1.197000e+03</td>\n",
       "      <td>1.197000e+03</td>\n",
       "      <td>1.197000e+03</td>\n",
       "    </tr>\n",
       "    <tr>\n",
       "      <td>mean</td>\n",
       "      <td>2.155621e+09</td>\n",
       "      <td>2.165960e+09</td>\n",
       "      <td>8.348006e+03</td>\n",
       "    </tr>\n",
       "    <tr>\n",
       "      <td>std</td>\n",
       "      <td>1.229085e+09</td>\n",
       "      <td>1.236014e+09</td>\n",
       "      <td>3.919113e+04</td>\n",
       "    </tr>\n",
       "    <tr>\n",
       "      <td>min</td>\n",
       "      <td>1.062393e+06</td>\n",
       "      <td>5.114589e+06</td>\n",
       "      <td>5.000000e+01</td>\n",
       "    </tr>\n",
       "    <tr>\n",
       "      <td>25%</td>\n",
       "      <td>1.166776e+09</td>\n",
       "      <td>1.111826e+09</td>\n",
       "      <td>1.220000e+03</td>\n",
       "    </tr>\n",
       "    <tr>\n",
       "      <td>50%</td>\n",
       "      <td>2.145194e+09</td>\n",
       "      <td>2.217985e+09</td>\n",
       "      <td>2.978000e+03</td>\n",
       "    </tr>\n",
       "    <tr>\n",
       "      <td>75%</td>\n",
       "      <td>3.237740e+09</td>\n",
       "      <td>3.177606e+09</td>\n",
       "      <td>8.290000e+03</td>\n",
       "    </tr>\n",
       "    <tr>\n",
       "      <td>max</td>\n",
       "      <td>4.293856e+09</td>\n",
       "      <td>4.283872e+09</td>\n",
       "      <td>1.294500e+06</td>\n",
       "    </tr>\n",
       "  </tbody>\n",
       "</table>\n",
       "</div>"
      ],
      "text/plain": [
       "       transactionId     visitorId       revenue\n",
       "count   1.197000e+03  1.197000e+03  1.197000e+03\n",
       "mean    2.155621e+09  2.165960e+09  8.348006e+03\n",
       "std     1.229085e+09  1.236014e+09  3.919113e+04\n",
       "min     1.062393e+06  5.114589e+06  5.000000e+01\n",
       "25%     1.166776e+09  1.111826e+09  1.220000e+03\n",
       "50%     2.145194e+09  2.217985e+09  2.978000e+03\n",
       "75%     3.237740e+09  3.177606e+09  8.290000e+03\n",
       "max     4.293856e+09  4.283872e+09  1.294500e+06"
      ]
     },
     "metadata": {},
     "output_type": "display_data"
    },
    {
     "name": "stdout",
     "output_type": "stream",
     "text": [
      "Начальная дата: 2019-08-01 00:00:00 \n",
      "Конечная дата: 2019-08-31 00:00:00\n"
     ]
    }
   ],
   "source": [
    "orders = orders.drop_duplicates()\n",
    "display(orders.info())\n",
    "display(orders.describe())\n",
    "print('Начальная дата:', orders['date'].min(), '\\nКонечная дата:', orders['date'].max())"
   ]
  },
  {
   "cell_type": "code",
   "execution_count": 7,
   "metadata": {
    "scrolled": false
   },
   "outputs": [
    {
     "name": "stdout",
     "output_type": "stream",
     "text": [
      "Количество пользователей, попавших в обе группы: 89\n"
     ]
    }
   ],
   "source": [
    "print('Количество пользователей, попавших в обе группы:', \n",
    "      orders.query('group == \"A\"')['visitorId'].isin(orders.query('group == \"B\"')['visitorId']).sum())"
   ]
  },
  {
   "cell_type": "markdown",
   "metadata": {},
   "source": [
    "**Обработка visitors:**"
   ]
  },
  {
   "cell_type": "code",
   "execution_count": 8,
   "metadata": {},
   "outputs": [
    {
     "data": {
      "text/html": [
       "<div>\n",
       "<style scoped>\n",
       "    .dataframe tbody tr th:only-of-type {\n",
       "        vertical-align: middle;\n",
       "    }\n",
       "\n",
       "    .dataframe tbody tr th {\n",
       "        vertical-align: top;\n",
       "    }\n",
       "\n",
       "    .dataframe thead th {\n",
       "        text-align: right;\n",
       "    }\n",
       "</style>\n",
       "<table border=\"1\" class=\"dataframe\">\n",
       "  <thead>\n",
       "    <tr style=\"text-align: right;\">\n",
       "      <th></th>\n",
       "      <th>date</th>\n",
       "      <th>group</th>\n",
       "      <th>visitors</th>\n",
       "    </tr>\n",
       "  </thead>\n",
       "  <tbody>\n",
       "    <tr>\n",
       "      <td>0</td>\n",
       "      <td>2019-08-01</td>\n",
       "      <td>A</td>\n",
       "      <td>719</td>\n",
       "    </tr>\n",
       "    <tr>\n",
       "      <td>1</td>\n",
       "      <td>2019-08-02</td>\n",
       "      <td>A</td>\n",
       "      <td>619</td>\n",
       "    </tr>\n",
       "    <tr>\n",
       "      <td>2</td>\n",
       "      <td>2019-08-03</td>\n",
       "      <td>A</td>\n",
       "      <td>507</td>\n",
       "    </tr>\n",
       "    <tr>\n",
       "      <td>3</td>\n",
       "      <td>2019-08-04</td>\n",
       "      <td>A</td>\n",
       "      <td>717</td>\n",
       "    </tr>\n",
       "    <tr>\n",
       "      <td>4</td>\n",
       "      <td>2019-08-05</td>\n",
       "      <td>A</td>\n",
       "      <td>756</td>\n",
       "    </tr>\n",
       "    <tr>\n",
       "      <td>...</td>\n",
       "      <td>...</td>\n",
       "      <td>...</td>\n",
       "      <td>...</td>\n",
       "    </tr>\n",
       "    <tr>\n",
       "      <td>57</td>\n",
       "      <td>2019-08-27</td>\n",
       "      <td>B</td>\n",
       "      <td>720</td>\n",
       "    </tr>\n",
       "    <tr>\n",
       "      <td>58</td>\n",
       "      <td>2019-08-28</td>\n",
       "      <td>B</td>\n",
       "      <td>654</td>\n",
       "    </tr>\n",
       "    <tr>\n",
       "      <td>59</td>\n",
       "      <td>2019-08-29</td>\n",
       "      <td>B</td>\n",
       "      <td>531</td>\n",
       "    </tr>\n",
       "    <tr>\n",
       "      <td>60</td>\n",
       "      <td>2019-08-30</td>\n",
       "      <td>B</td>\n",
       "      <td>490</td>\n",
       "    </tr>\n",
       "    <tr>\n",
       "      <td>61</td>\n",
       "      <td>2019-08-31</td>\n",
       "      <td>B</td>\n",
       "      <td>718</td>\n",
       "    </tr>\n",
       "  </tbody>\n",
       "</table>\n",
       "<p>62 rows × 3 columns</p>\n",
       "</div>"
      ],
      "text/plain": [
       "         date group  visitors\n",
       "0  2019-08-01     A       719\n",
       "1  2019-08-02     A       619\n",
       "2  2019-08-03     A       507\n",
       "3  2019-08-04     A       717\n",
       "4  2019-08-05     A       756\n",
       "..        ...   ...       ...\n",
       "57 2019-08-27     B       720\n",
       "58 2019-08-28     B       654\n",
       "59 2019-08-29     B       531\n",
       "60 2019-08-30     B       490\n",
       "61 2019-08-31     B       718\n",
       "\n",
       "[62 rows x 3 columns]"
      ]
     },
     "execution_count": 8,
     "metadata": {},
     "output_type": "execute_result"
    }
   ],
   "source": [
    "visitors"
   ]
  },
  {
   "cell_type": "code",
   "execution_count": 9,
   "metadata": {
    "scrolled": false
   },
   "outputs": [
    {
     "data": {
      "text/html": [
       "<div>\n",
       "<style scoped>\n",
       "    .dataframe tbody tr th:only-of-type {\n",
       "        vertical-align: middle;\n",
       "    }\n",
       "\n",
       "    .dataframe tbody tr th {\n",
       "        vertical-align: top;\n",
       "    }\n",
       "\n",
       "    .dataframe thead th {\n",
       "        text-align: right;\n",
       "    }\n",
       "</style>\n",
       "<table border=\"1\" class=\"dataframe\">\n",
       "  <thead>\n",
       "    <tr style=\"text-align: right;\">\n",
       "      <th></th>\n",
       "      <th>visitors</th>\n",
       "    </tr>\n",
       "  </thead>\n",
       "  <tbody>\n",
       "    <tr>\n",
       "      <td>count</td>\n",
       "      <td>62.000000</td>\n",
       "    </tr>\n",
       "    <tr>\n",
       "      <td>mean</td>\n",
       "      <td>607.290323</td>\n",
       "    </tr>\n",
       "    <tr>\n",
       "      <td>std</td>\n",
       "      <td>114.400560</td>\n",
       "    </tr>\n",
       "    <tr>\n",
       "      <td>min</td>\n",
       "      <td>361.000000</td>\n",
       "    </tr>\n",
       "    <tr>\n",
       "      <td>25%</td>\n",
       "      <td>534.000000</td>\n",
       "    </tr>\n",
       "    <tr>\n",
       "      <td>50%</td>\n",
       "      <td>624.500000</td>\n",
       "    </tr>\n",
       "    <tr>\n",
       "      <td>75%</td>\n",
       "      <td>710.500000</td>\n",
       "    </tr>\n",
       "    <tr>\n",
       "      <td>max</td>\n",
       "      <td>770.000000</td>\n",
       "    </tr>\n",
       "  </tbody>\n",
       "</table>\n",
       "</div>"
      ],
      "text/plain": [
       "         visitors\n",
       "count   62.000000\n",
       "mean   607.290323\n",
       "std    114.400560\n",
       "min    361.000000\n",
       "25%    534.000000\n",
       "50%    624.500000\n",
       "75%    710.500000\n",
       "max    770.000000"
      ]
     },
     "metadata": {},
     "output_type": "display_data"
    },
    {
     "name": "stdout",
     "output_type": "stream",
     "text": [
      "<class 'pandas.core.frame.DataFrame'>\n",
      "RangeIndex: 62 entries, 0 to 61\n",
      "Data columns (total 3 columns):\n",
      "date        62 non-null datetime64[ns]\n",
      "group       62 non-null object\n",
      "visitors    62 non-null int64\n",
      "dtypes: datetime64[ns](1), int64(1), object(1)\n",
      "memory usage: 1.6+ KB\n"
     ]
    }
   ],
   "source": [
    "display(visitors.describe())\n",
    "visitors.info()"
   ]
  },
  {
   "cell_type": "markdown",
   "metadata": {},
   "source": [
    "### Вывод\n",
    "\n",
    "Были предоставлены 3 массива данных, содержащих информацию о гипотезах, заказах, и количестве пользователей. Для подготовки к дальнейшему анализу потребовалось только изменить названия колонок у `hypothesis`, приведя их к нижнему регистру.\n",
    "\n",
    "89 пользователей попали в обе группы теста, однако это может быть связано с тем, что при первом заказе была показана одна версия, а при втором - уже другая. Удалять таких пользователей не будем, так как они составляют всего 7% от имеющихся данных в orders и уже учтены в таблице visits."
   ]
  },
  {
   "cell_type": "markdown",
   "metadata": {},
   "source": [
    "## Приоритезация гипотез\n",
    "\n",
    "В `hypothesis` 9 гипотез по увеличению выручки интернет-магазина с указанными параметрами reach, impact, confidence, efforts."
   ]
  },
  {
   "cell_type": "markdown",
   "metadata": {},
   "source": [
    "Применим фреймворк `ICE` для приоритизации гипотез:\n",
    "$$ICE = \\frac{Impact * Confidence}{Efforts}$$\n",
    "Отсортируем их по убыванию приоритета."
   ]
  },
  {
   "cell_type": "code",
   "execution_count": 10,
   "metadata": {
    "scrolled": true
   },
   "outputs": [
    {
     "data": {
      "text/html": [
       "<div>\n",
       "<style scoped>\n",
       "    .dataframe tbody tr th:only-of-type {\n",
       "        vertical-align: middle;\n",
       "    }\n",
       "\n",
       "    .dataframe tbody tr th {\n",
       "        vertical-align: top;\n",
       "    }\n",
       "\n",
       "    .dataframe thead th {\n",
       "        text-align: right;\n",
       "    }\n",
       "</style>\n",
       "<table border=\"1\" class=\"dataframe\">\n",
       "  <thead>\n",
       "    <tr style=\"text-align: right;\">\n",
       "      <th></th>\n",
       "      <th>hypothesis</th>\n",
       "      <th>ICE</th>\n",
       "    </tr>\n",
       "  </thead>\n",
       "  <tbody>\n",
       "    <tr>\n",
       "      <td>8</td>\n",
       "      <td>Запустить акцию, дающую скидку на товар в день рождения</td>\n",
       "      <td>16.200</td>\n",
       "    </tr>\n",
       "    <tr>\n",
       "      <td>0</td>\n",
       "      <td>Добавить два новых канала привлечения трафика, что позволит привлекать на 30% больше пользователей</td>\n",
       "      <td>13.333</td>\n",
       "    </tr>\n",
       "    <tr>\n",
       "      <td>7</td>\n",
       "      <td>Добавить форму подписки на все основные страницы, чтобы собрать базу клиентов для email-рассылок</td>\n",
       "      <td>11.200</td>\n",
       "    </tr>\n",
       "    <tr>\n",
       "      <td>6</td>\n",
       "      <td>Показать на главной странице баннеры с актуальными акциями и распродажами, чтобы увеличить конверсию</td>\n",
       "      <td>8.000</td>\n",
       "    </tr>\n",
       "    <tr>\n",
       "      <td>2</td>\n",
       "      <td>Добавить блоки рекомендаций товаров на сайт интернет магазина, чтобы повысить конверсию и средний чек заказа</td>\n",
       "      <td>7.000</td>\n",
       "    </tr>\n",
       "    <tr>\n",
       "      <td>1</td>\n",
       "      <td>Запустить собственную службу доставки, что сократит срок доставки заказов</td>\n",
       "      <td>2.000</td>\n",
       "    </tr>\n",
       "    <tr>\n",
       "      <td>5</td>\n",
       "      <td>Добавить страницу отзывов клиентов о магазине, что позволит увеличить количество заказов</td>\n",
       "      <td>1.333</td>\n",
       "    </tr>\n",
       "    <tr>\n",
       "      <td>3</td>\n",
       "      <td>Изменить структура категорий, что увеличит конверсию, т.к. пользователи быстрее найдут нужный товар</td>\n",
       "      <td>1.125</td>\n",
       "    </tr>\n",
       "    <tr>\n",
       "      <td>4</td>\n",
       "      <td>Изменить цвет фона главной страницы, чтобы увеличить вовлеченность пользователей</td>\n",
       "      <td>1.000</td>\n",
       "    </tr>\n",
       "  </tbody>\n",
       "</table>\n",
       "</div>"
      ],
      "text/plain": [
       "                                                                                                     hypothesis  \\\n",
       "8                                                       Запустить акцию, дающую скидку на товар в день рождения   \n",
       "0            Добавить два новых канала привлечения трафика, что позволит привлекать на 30% больше пользователей   \n",
       "7              Добавить форму подписки на все основные страницы, чтобы собрать базу клиентов для email-рассылок   \n",
       "6          Показать на главной странице баннеры с актуальными акциями и распродажами, чтобы увеличить конверсию   \n",
       "2  Добавить блоки рекомендаций товаров на сайт интернет магазина, чтобы повысить конверсию и средний чек заказа   \n",
       "1                                     Запустить собственную службу доставки, что сократит срок доставки заказов   \n",
       "5                      Добавить страницу отзывов клиентов о магазине, что позволит увеличить количество заказов   \n",
       "3           Изменить структура категорий, что увеличит конверсию, т.к. пользователи быстрее найдут нужный товар   \n",
       "4                              Изменить цвет фона главной страницы, чтобы увеличить вовлеченность пользователей   \n",
       "\n",
       "      ICE  \n",
       "8  16.200  \n",
       "0  13.333  \n",
       "7  11.200  \n",
       "6   8.000  \n",
       "2   7.000  \n",
       "1   2.000  \n",
       "5   1.333  \n",
       "3   1.125  \n",
       "4   1.000  "
      ]
     },
     "execution_count": 10,
     "metadata": {},
     "output_type": "execute_result"
    }
   ],
   "source": [
    "hypothesis['ICE'] = round(hypothesis['impact'] * hypothesis['confidence'] / hypothesis['efforts'], 3)\n",
    "hypothesis_ICE = hypothesis[['hypothesis', 'ICE']].sort_values(by='ICE', ascending=False)\n",
    "hypothesis_ICE"
   ]
  },
  {
   "cell_type": "markdown",
   "metadata": {},
   "source": [
    "Применим фреймворк `RICE` для приоритизации гипотез:\n",
    "$$RICE = \\frac{Rearch * Impact * Confidence}{Efforts}$$\n",
    "Отсортируем их по убыванию приоритета."
   ]
  },
  {
   "cell_type": "code",
   "execution_count": 11,
   "metadata": {
    "scrolled": false
   },
   "outputs": [
    {
     "data": {
      "text/html": [
       "<div>\n",
       "<style scoped>\n",
       "    .dataframe tbody tr th:only-of-type {\n",
       "        vertical-align: middle;\n",
       "    }\n",
       "\n",
       "    .dataframe tbody tr th {\n",
       "        vertical-align: top;\n",
       "    }\n",
       "\n",
       "    .dataframe thead th {\n",
       "        text-align: right;\n",
       "    }\n",
       "</style>\n",
       "<table border=\"1\" class=\"dataframe\">\n",
       "  <thead>\n",
       "    <tr style=\"text-align: right;\">\n",
       "      <th></th>\n",
       "      <th>hypothesis</th>\n",
       "      <th>RICE</th>\n",
       "    </tr>\n",
       "  </thead>\n",
       "  <tbody>\n",
       "    <tr>\n",
       "      <td>7</td>\n",
       "      <td>Добавить форму подписки на все основные страницы, чтобы собрать базу клиентов для email-рассылок</td>\n",
       "      <td>112.0</td>\n",
       "    </tr>\n",
       "    <tr>\n",
       "      <td>2</td>\n",
       "      <td>Добавить блоки рекомендаций товаров на сайт интернет магазина, чтобы повысить конверсию и средний чек заказа</td>\n",
       "      <td>56.0</td>\n",
       "    </tr>\n",
       "    <tr>\n",
       "      <td>0</td>\n",
       "      <td>Добавить два новых канала привлечения трафика, что позволит привлекать на 30% больше пользователей</td>\n",
       "      <td>40.0</td>\n",
       "    </tr>\n",
       "    <tr>\n",
       "      <td>6</td>\n",
       "      <td>Показать на главной странице баннеры с актуальными акциями и распродажами, чтобы увеличить конверсию</td>\n",
       "      <td>40.0</td>\n",
       "    </tr>\n",
       "    <tr>\n",
       "      <td>8</td>\n",
       "      <td>Запустить акцию, дающую скидку на товар в день рождения</td>\n",
       "      <td>16.2</td>\n",
       "    </tr>\n",
       "    <tr>\n",
       "      <td>3</td>\n",
       "      <td>Изменить структура категорий, что увеличит конверсию, т.к. пользователи быстрее найдут нужный товар</td>\n",
       "      <td>9.0</td>\n",
       "    </tr>\n",
       "    <tr>\n",
       "      <td>1</td>\n",
       "      <td>Запустить собственную службу доставки, что сократит срок доставки заказов</td>\n",
       "      <td>4.0</td>\n",
       "    </tr>\n",
       "    <tr>\n",
       "      <td>5</td>\n",
       "      <td>Добавить страницу отзывов клиентов о магазине, что позволит увеличить количество заказов</td>\n",
       "      <td>4.0</td>\n",
       "    </tr>\n",
       "    <tr>\n",
       "      <td>4</td>\n",
       "      <td>Изменить цвет фона главной страницы, чтобы увеличить вовлеченность пользователей</td>\n",
       "      <td>3.0</td>\n",
       "    </tr>\n",
       "  </tbody>\n",
       "</table>\n",
       "</div>"
      ],
      "text/plain": [
       "                                                                                                     hypothesis  \\\n",
       "7              Добавить форму подписки на все основные страницы, чтобы собрать базу клиентов для email-рассылок   \n",
       "2  Добавить блоки рекомендаций товаров на сайт интернет магазина, чтобы повысить конверсию и средний чек заказа   \n",
       "0            Добавить два новых канала привлечения трафика, что позволит привлекать на 30% больше пользователей   \n",
       "6          Показать на главной странице баннеры с актуальными акциями и распродажами, чтобы увеличить конверсию   \n",
       "8                                                       Запустить акцию, дающую скидку на товар в день рождения   \n",
       "3           Изменить структура категорий, что увеличит конверсию, т.к. пользователи быстрее найдут нужный товар   \n",
       "1                                     Запустить собственную службу доставки, что сократит срок доставки заказов   \n",
       "5                      Добавить страницу отзывов клиентов о магазине, что позволит увеличить количество заказов   \n",
       "4                              Изменить цвет фона главной страницы, чтобы увеличить вовлеченность пользователей   \n",
       "\n",
       "    RICE  \n",
       "7  112.0  \n",
       "2   56.0  \n",
       "0   40.0  \n",
       "6   40.0  \n",
       "8   16.2  \n",
       "3    9.0  \n",
       "1    4.0  \n",
       "5    4.0  \n",
       "4    3.0  "
      ]
     },
     "execution_count": 11,
     "metadata": {},
     "output_type": "execute_result"
    }
   ],
   "source": [
    "hypothesis['RICE'] = hypothesis['reach'] * hypothesis['impact'] * hypothesis['confidence'] / hypothesis['efforts']\n",
    "hypothesis_RICE = hypothesis[['hypothesis', 'RICE']].sort_values(by='RICE', ascending=False)\n",
    "hypothesis_RICE"
   ]
  },
  {
   "cell_type": "markdown",
   "metadata": {},
   "source": [
    "### Вывод\n",
    "\n",
    "После применения фреймворка `ICE` наиболее приоритетными оказались гипотезы `8`, `0`, `7`. \n",
    "\n",
    "После применения фреймворка `RICE` наиболее приоритетными оказались гипотезы `7`, `2`, `0`.\n",
    "\n",
    "Это изменение связано с тем, что во втором варианте учитывается четвертый важный параметр - количество пользователей, которых затронет изменение. Таким образом, наиболее приоритетными выбираем гипотезы `7`, `2`, `0`."
   ]
  },
  {
   "cell_type": "markdown",
   "metadata": {},
   "source": [
    "## Анализ A/B-теста"
   ]
  },
  {
   "cell_type": "markdown",
   "metadata": {},
   "source": [
    "### Кумулятивная выручка по группам\n",
    "\n",
    "Построим график кумулятивной выручки по группам"
   ]
  },
  {
   "cell_type": "code",
   "execution_count": 12,
   "metadata": {
    "scrolled": false
   },
   "outputs": [
    {
     "name": "stdout",
     "output_type": "stream",
     "text": [
      "        date group  orders  buyers  revenue  visitors\n",
      "0 2019-08-01     A      24      20   148579       719\n",
      "1 2019-08-01     B      21      20   101217       713\n",
      "2 2019-08-02     A      44      38   242401      1338\n",
      "3 2019-08-02     B      45      43   266748      1294\n",
      "4 2019-08-03     A      68      62   354874      1845\n"
     ]
    }
   ],
   "source": [
    "# создаем массив уникальных пар значений дат и групп теста\n",
    "datesGroups = orders[['date', 'group']].drop_duplicates()\n",
    "\n",
    "# получаем агрегированные кумулятивные по дням данные о заказах\n",
    "datesGroups = orders[['date', 'group']].drop_duplicates()\n",
    "\n",
    "# получаем агрегированные кумулятивные по дням данные о заказах \n",
    "ordersAggregated = datesGroups.apply(\n",
    "    lambda x: orders[\n",
    "        np.logical_and(\n",
    "            orders['date'] <= x['date'], orders['group'] == x['group']\n",
    "        )\n",
    "    ].agg(\n",
    "        {\n",
    "            'date': 'max',\n",
    "            'group': 'max',\n",
    "            'transactionId': 'nunique',\n",
    "            'visitorId': 'nunique',\n",
    "            'revenue': 'sum',\n",
    "        }\n",
    "    ),\n",
    "    axis=1,\n",
    ").sort_values(by=['date', 'group'])\n",
    "\n",
    "# получаем агрегированные кумулятивные по дням данные о посетителях интернет-магазина \n",
    "visitorsAggregated = datesGroups.apply(\n",
    "    lambda x: visitors[\n",
    "        np.logical_and(\n",
    "            visitors['date'] <= x['date'], visitors['group'] == x['group']\n",
    "        )\n",
    "    ].agg({'date': 'max', 'group': 'max', 'visitors': 'sum'}),\n",
    "    axis=1,\n",
    ").sort_values(by=['date', 'group'])\n",
    "\n",
    "# объединяем кумулятивные данные в одной таблице и присваиваем ее столбцам понятные названия\n",
    "cumulativeData = ordersAggregated.merge(\n",
    "    visitorsAggregated, left_on=['date', 'group'], right_on=['date', 'group']\n",
    ")\n",
    "\n",
    "cumulativeData.columns = [\n",
    "    'date',\n",
    "    'group',\n",
    "    'orders',\n",
    "    'buyers',\n",
    "    'revenue',\n",
    "    'visitors',\n",
    "]\n",
    "\n",
    "print(cumulativeData.head(5)) "
   ]
  },
  {
   "cell_type": "code",
   "execution_count": 13,
   "metadata": {
    "scrolled": false
   },
   "outputs": [
    {
     "name": "stderr",
     "output_type": "stream",
     "text": [
      "/opt/conda/lib/python3.7/site-packages/pandas/plotting/_matplotlib/converter.py:103: FutureWarning: Using an implicitly registered datetime converter for a matplotlib plotting method. The converter was registered by pandas on import. Future versions of pandas will require you to explicitly register matplotlib converters.\n",
      "\n",
      "To register the converters:\n",
      "\t>>> from pandas.plotting import register_matplotlib_converters\n",
      "\t>>> register_matplotlib_converters()\n",
      "  warnings.warn(msg, FutureWarning)\n"
     ]
    },
    {
     "data": {
      "image/png": "[encoded data removed]",
      "text/plain": [
       "<Figure size 720x216 with 1 Axes>"
      ]
     },
     "metadata": {
      "needs_background": "light"
     },
     "output_type": "display_data"
    }
   ],
   "source": [
    "cumulativeRevenueA = cumulativeData[cumulativeData['group']=='A'][['date','revenue', 'orders']]\n",
    "cumulativeRevenueB = cumulativeData[cumulativeData['group']=='B'][['date','revenue', 'orders']]\n",
    "\n",
    "plt.figure(figsize=(10,3))\n",
    "plt.plot(cumulativeRevenueA['date'], cumulativeRevenueA['revenue'], label='A')\n",
    "plt.plot(cumulativeRevenueB['date'], cumulativeRevenueB['revenue'], label='B')\n",
    "plt.xticks(rotation=45)\n",
    "plt.title('График кумулятивной выручки по группам')\n",
    "plt.legend()\n",
    "plt.show()"
   ]
  },
  {
   "cell_type": "markdown",
   "metadata": {},
   "source": [
    "**Вывод:**\n",
    "\n",
    "Выручка почти равномерно растет в обеих группах, однако в группе B она стабильно выше, чем у группы А. После 17-го августа 2019-го года происходит резкое увеличение выручки в группе В, при том что в группе А его нет. Возможно, оно обусловлено аномалиями."
   ]
  },
  {
   "cell_type": "markdown",
   "metadata": {},
   "source": [
    "### Кумулятивный средний чек по группам\n",
    "\n",
    "Построим график кумулятивного среднего чека по группам. "
   ]
  },
  {
   "cell_type": "code",
   "execution_count": 14,
   "metadata": {},
   "outputs": [
    {
     "data": {
      "image/png": "[encoded data removed]",
      "text/plain": [
       "<Figure size 720x216 with 1 Axes>"
      ]
     },
     "metadata": {
      "needs_background": "light"
     },
     "output_type": "display_data"
    }
   ],
   "source": [
    "plt.figure(figsize=(10,3))\n",
    "plt.plot(cumulativeRevenueA['date'], cumulativeRevenueA['revenue']/cumulativeRevenueA['orders'], label='A')\n",
    "plt.plot(cumulativeRevenueB['date'], cumulativeRevenueB['revenue']/cumulativeRevenueB['orders'], label='B')\n",
    "plt.xticks(rotation=45)\n",
    "plt.title('График кумулятивного среднего чека по группам')\n",
    "plt.legend()\n",
    "plt.show()"
   ]
  },
  {
   "cell_type": "markdown",
   "metadata": {},
   "source": [
    "**Вывод:**\n",
    "\n",
    "Средний чек в группе B почти всегда выше, чем у группы А. Однако после 17-го августа 2019-го года наблюдается его резкое увеличение, а в группе А нет. Скорее всего, тут дело в аномалии, потому что после этой же даты так же резко увеличивается кумулятивная выручка в группе В."
   ]
  },
  {
   "cell_type": "markdown",
   "metadata": {},
   "source": [
    "### Относительное изменение кумулятивного среднего чека\n",
    "\n",
    "Построим график относительного изменения кумулятивного среднего чека группы B к группе A."
   ]
  },
  {
   "cell_type": "code",
   "execution_count": 15,
   "metadata": {},
   "outputs": [
    {
     "data": {
      "image/png": "[encoded data removed]",
      "text/plain": [
       "<Figure size 720x216 with 1 Axes>"
      ]
     },
     "metadata": {
      "needs_background": "light"
     },
     "output_type": "display_data"
    }
   ],
   "source": [
    "# собираем данные в одном датафрейме\n",
    "mergedCumulativeRevenue = cumulativeRevenueA.merge(cumulativeRevenueB, left_on='date',\n",
    "                                                   right_on='date', how='left', suffixes=['A', 'B'])\n",
    "\n",
    "# cтроим отношение средних чеков\n",
    "plt.figure(figsize=(10,3))\n",
    "plt.plot(mergedCumulativeRevenue['date'],\n",
    "         (mergedCumulativeRevenue['revenueB']/mergedCumulativeRevenue['ordersB'])\n",
    "         /(mergedCumulativeRevenue['revenueA']/mergedCumulativeRevenue['ordersA'])-1)\n",
    "\n",
    "# добавляем ось X\n",
    "plt.axhline(y=0, color='black', linestyle='--') \n",
    "plt.xticks(rotation=45)\n",
    "plt.title('График относильного изменения кумулятивного чека группы B к группе A')\n",
    "plt.show()"
   ]
  },
  {
   "cell_type": "markdown",
   "metadata": {},
   "source": [
    "**Вывод:**\n",
    "\n",
    "Результаты теста значительно и резко менялись несколько раз, возможно в эти даты и были совершены аномальные заказы."
   ]
  },
  {
   "cell_type": "markdown",
   "metadata": {},
   "source": [
    "### Кумулятивная конверсия\n",
    "\n",
    "Построим график кумулятивной конверсии по группам."
   ]
  },
  {
   "cell_type": "code",
   "execution_count": 16,
   "metadata": {},
   "outputs": [
    {
     "data": {
      "image/png": "[encoded data removed]",
      "text/plain": [
       "<Figure size 720x216 with 1 Axes>"
      ]
     },
     "metadata": {
      "needs_background": "light"
     },
     "output_type": "display_data"
    }
   ],
   "source": [
    "# считаем кумулятивную конверсию\n",
    "cumulativeData['conversion'] = cumulativeData['orders']/cumulativeData['visitors']\n",
    "\n",
    "# отделяем данные по группе A\n",
    "cumulativeDataA = cumulativeData[cumulativeData['group']=='A']\n",
    "\n",
    "# отделяем данные по группе B\n",
    "cumulativeDataB = cumulativeData[cumulativeData['group']=='B']\n",
    "\n",
    "# строим графики\n",
    "plt.figure(figsize=(10,3))\n",
    "plt.plot(cumulativeDataA['date'], cumulativeDataA['conversion'], label='A')\n",
    "plt.plot(cumulativeDataB['date'], cumulativeDataB['conversion'], label='B')\n",
    "plt.xticks(rotation=45)\n",
    "plt.title('Кумулятивная конверсия по группам')\n",
    "plt.legend()\n",
    "plt.show()"
   ]
  },
  {
   "cell_type": "markdown",
   "metadata": {},
   "source": [
    "**Вывод:**\n",
    "\n",
    "После 5-го августа 2019-го года у группы В конверсия стабильно значительно выше, чем у группы А."
   ]
  },
  {
   "cell_type": "markdown",
   "metadata": {},
   "source": [
    "### Относительное изменение кумулятивной конверсии\n",
    "\n",
    "Построим график относительного изменения кумулятивной конверсии группы B к группе A."
   ]
  },
  {
   "cell_type": "code",
   "execution_count": 17,
   "metadata": {
    "scrolled": true
   },
   "outputs": [
    {
     "data": {
      "image/png": "[encoded data removed]",
      "text/plain": [
       "<Figure size 936x360 with 1 Axes>"
      ]
     },
     "metadata": {
      "needs_background": "light"
     },
     "output_type": "display_data"
    }
   ],
   "source": [
    "mergedCumulativeConversions = cumulativeDataA[['date','conversion']].merge(\n",
    "                                  cumulativeDataB[['date','conversion']],\n",
    "                                  left_on='date', right_on='date', how='left', suffixes=['A', 'B']\n",
    "                              )\n",
    "\n",
    "plt.figure(figsize=(13,5))\n",
    "plt.plot(mergedCumulativeConversions['date'],\n",
    "         mergedCumulativeConversions['conversionB']/mergedCumulativeConversions['conversionA']-1,\n",
    "         label=\"Относительный прирост конверсии группы B относительно группы A\")\n",
    "plt.legend()\n",
    "plt.title('Относительное изменение кумулятивной конверсии группы B к группе A')\n",
    "plt.axhline(y=0, color='black', linestyle='--')\n",
    "plt.axhline(y=-0.1, color='grey', linestyle='--')\n",
    "plt.axhline(y=0.1, color='grey', linestyle='--')\n",
    "plt.show()"
   ]
  },
  {
   "cell_type": "markdown",
   "metadata": {},
   "source": [
    "**Вывод:**\n",
    "\n",
    "К 9 августа 2019-го года конверсия группы В становится на 10% стабильно лучше, чем в группе А."
   ]
  },
  {
   "cell_type": "markdown",
   "metadata": {},
   "source": [
    "## Определение аномалий"
   ]
  },
  {
   "cell_type": "markdown",
   "metadata": {},
   "source": [
    "### Количество заказов по пользователям\n",
    "\n",
    "Построим точечный график количества заказов по пользователям."
   ]
  },
  {
   "cell_type": "code",
   "execution_count": 18,
   "metadata": {},
   "outputs": [
    {
     "data": {
      "text/html": [
       "<div>\n",
       "<style scoped>\n",
       "    .dataframe tbody tr th:only-of-type {\n",
       "        vertical-align: middle;\n",
       "    }\n",
       "\n",
       "    .dataframe tbody tr th {\n",
       "        vertical-align: top;\n",
       "    }\n",
       "\n",
       "    .dataframe thead th {\n",
       "        text-align: right;\n",
       "    }\n",
       "</style>\n",
       "<table border=\"1\" class=\"dataframe\">\n",
       "  <thead>\n",
       "    <tr style=\"text-align: right;\">\n",
       "      <th></th>\n",
       "      <th>transactionId</th>\n",
       "      <th>visitorId</th>\n",
       "      <th>date</th>\n",
       "      <th>revenue</th>\n",
       "      <th>group</th>\n",
       "    </tr>\n",
       "  </thead>\n",
       "  <tbody>\n",
       "    <tr>\n",
       "      <td>0</td>\n",
       "      <td>3667963787</td>\n",
       "      <td>3312258926</td>\n",
       "      <td>2019-08-15</td>\n",
       "      <td>1650</td>\n",
       "      <td>B</td>\n",
       "    </tr>\n",
       "    <tr>\n",
       "      <td>1</td>\n",
       "      <td>2804400009</td>\n",
       "      <td>3642806036</td>\n",
       "      <td>2019-08-15</td>\n",
       "      <td>730</td>\n",
       "      <td>B</td>\n",
       "    </tr>\n",
       "    <tr>\n",
       "      <td>2</td>\n",
       "      <td>2961555356</td>\n",
       "      <td>4069496402</td>\n",
       "      <td>2019-08-15</td>\n",
       "      <td>400</td>\n",
       "      <td>A</td>\n",
       "    </tr>\n",
       "    <tr>\n",
       "      <td>3</td>\n",
       "      <td>3797467345</td>\n",
       "      <td>1196621759</td>\n",
       "      <td>2019-08-15</td>\n",
       "      <td>9759</td>\n",
       "      <td>B</td>\n",
       "    </tr>\n",
       "    <tr>\n",
       "      <td>4</td>\n",
       "      <td>2282983706</td>\n",
       "      <td>2322279887</td>\n",
       "      <td>2019-08-15</td>\n",
       "      <td>2308</td>\n",
       "      <td>B</td>\n",
       "    </tr>\n",
       "  </tbody>\n",
       "</table>\n",
       "</div>"
      ],
      "text/plain": [
       "   transactionId   visitorId       date  revenue group\n",
       "0     3667963787  3312258926 2019-08-15     1650     B\n",
       "1     2804400009  3642806036 2019-08-15      730     B\n",
       "2     2961555356  4069496402 2019-08-15      400     A\n",
       "3     3797467345  1196621759 2019-08-15     9759     B\n",
       "4     2282983706  2322279887 2019-08-15     2308     B"
      ]
     },
     "execution_count": 18,
     "metadata": {},
     "output_type": "execute_result"
    }
   ],
   "source": [
    "orders.head()"
   ]
  },
  {
   "cell_type": "code",
   "execution_count": 19,
   "metadata": {},
   "outputs": [
    {
     "data": {
      "image/png": "[encoded data removed]",
      "text/plain": [
       "<Figure size 432x288 with 1 Axes>"
      ]
     },
     "metadata": {
      "needs_background": "light"
     },
     "output_type": "display_data"
    },
    {
     "data": {
      "image/png": "[encoded data removed]",
      "text/plain": [
       "<Figure size 432x288 with 1 Axes>"
      ]
     },
     "metadata": {
      "needs_background": "light"
     },
     "output_type": "display_data"
    },
    {
     "data": {
      "text/plain": [
       "1     937\n",
       "2      64\n",
       "3      17\n",
       "5       6\n",
       "4       3\n",
       "11      2\n",
       "9       1\n",
       "8       1\n",
       "Name: orders, dtype: int64"
      ]
     },
     "execution_count": 19,
     "metadata": {},
     "output_type": "execute_result"
    }
   ],
   "source": [
    "ordersByUsers = (\n",
    "    orders.groupby('visitorId', as_index=False)\n",
    "    .agg({'transactionId': pd.Series.nunique})\n",
    "    .sort_values(by='transactionId', ascending=False)\n",
    ")\n",
    "ordersByUsers.columns = ['visitorId', 'orders']\n",
    "\n",
    "plt.hist(ordersByUsers['orders'], bins=10)\n",
    "plt.title('Гистограмма распределения числа заказов по пользователям')\n",
    "plt.xlabel('Количество заказов')\n",
    "plt.ylabel('Количество пользователей')\n",
    "plt.show()\n",
    "\n",
    "x_values = pd.Series(range(0, len(ordersByUsers)))\n",
    "plt.scatter(x_values, ordersByUsers['orders']) \n",
    "plt.title('Диаграмма распределения числа заказов по пользователям')\n",
    "plt.ylabel('Количество заказов')\n",
    "plt.xlabel('Количество пользователей')\n",
    "plt.show()\n",
    "plt.show()\n",
    "\n",
    "ordersByUsers['orders'].value_counts()"
   ]
  },
  {
   "cell_type": "markdown",
   "metadata": {},
   "source": [
    "**Вывод:**\n",
    "\n",
    "У большинства пользователей не более 2 заказов. Однако есть и аномальные пользователи, совершавшиее не менее 4 заказов."
   ]
  },
  {
   "cell_type": "markdown",
   "metadata": {},
   "source": [
    "### Перцентили количества заказов на пользователя\n",
    "\n",
    "Посчитаем 95-й и 99-й перцентили количества заказов на пользователя. Выберем границу для определения аномальных пользователей."
   ]
  },
  {
   "cell_type": "code",
   "execution_count": 20,
   "metadata": {},
   "outputs": [
    {
     "name": "stdout",
     "output_type": "stream",
     "text": [
      "95-й перцентиль количества заказов на пользователя: 2.0\n",
      "99-й перцентиль количества заказов на пользователя: 4.0\n"
     ]
    }
   ],
   "source": [
    "print('95-й перцентиль количества заказов на пользователя:',\n",
    "      np.percentile(ordersByUsers['orders'], [95])[0])\n",
    "print('99-й перцентиль количества заказов на пользователя:',\n",
    "      np.percentile(ordersByUsers['orders'], [99])[0])"
   ]
  },
  {
   "cell_type": "markdown",
   "metadata": {},
   "source": [
    "**Вывод:** \n",
    "\n",
    "Больше 2-х заказов совершают 5% пользователей, больше 4-х заказов - всего 1%."
   ]
  },
  {
   "cell_type": "markdown",
   "metadata": {},
   "source": [
    "### Стоимость заказов\n",
    "\n",
    "Построим точечный график стоимостей заказов."
   ]
  },
  {
   "cell_type": "code",
   "execution_count": 21,
   "metadata": {
    "scrolled": true
   },
   "outputs": [
    {
     "data": {
      "text/plain": [
       "count    1.197000e+03\n",
       "mean     8.348006e+03\n",
       "std      3.919113e+04\n",
       "min      5.000000e+01\n",
       "25%      1.220000e+03\n",
       "50%      2.978000e+03\n",
       "75%      8.290000e+03\n",
       "max      1.294500e+06\n",
       "Name: revenue, dtype: float64"
      ]
     },
     "execution_count": 21,
     "metadata": {},
     "output_type": "execute_result"
    }
   ],
   "source": [
    "orders['revenue'].describe()"
   ]
  },
  {
   "cell_type": "code",
   "execution_count": 22,
   "metadata": {
    "scrolled": true
   },
   "outputs": [
    {
     "data": {
      "image/png": "[encoded data removed]",
      "text/plain": [
       "<Figure size 720x288 with 1 Axes>"
      ]
     },
     "metadata": {
      "needs_background": "light"
     },
     "output_type": "display_data"
    }
   ],
   "source": [
    "plt.figure(figsize=(10,4))\n",
    "plt.hist(orders['revenue'], range=(0, 60000), bins=100)\n",
    "plt.title('Гистограмма распределения сумм заказов на одного пользователя')\n",
    "plt.xlabel('Стоимость, р.')\n",
    "plt.ylabel('Кол-во пользователей')\n",
    "plt.show()"
   ]
  },
  {
   "cell_type": "code",
   "execution_count": 23,
   "metadata": {
    "scrolled": true
   },
   "outputs": [
    {
     "data": {
      "image/png": "[encoded data removed]",
      "text/plain": [
       "<Figure size 720x288 with 1 Axes>"
      ]
     },
     "metadata": {
      "needs_background": "light"
     },
     "output_type": "display_data"
    }
   ],
   "source": [
    "x_values = pd.Series(range(0, len(orders)))\n",
    "\n",
    "plt.figure(figsize=(10,4))\n",
    "plt.scatter(x_values, orders['revenue'])\n",
    "plt.axis([0, 1200, 0, 150000])\n",
    "plt.title('Диаграмма распределения сумм заказов на одного пользователя')\n",
    "plt.ylabel('Стоимость, р.')\n",
    "plt.xlabel('Кол-во пользователей')\n",
    "plt.show()"
   ]
  },
  {
   "cell_type": "markdown",
   "metadata": {},
   "source": [
    "**Вывод:**\n",
    "\n",
    "Большинство пользователей совершает заказы не дороже 25 тысяч руб."
   ]
  },
  {
   "cell_type": "markdown",
   "metadata": {},
   "source": [
    "### Перцентили сумм заказов на пользователя\n",
    "\n",
    "Посчитаем 95-й и 99-й перцентили сумм заказов на пользователя. Выберем границу для определения аномальных пользователей."
   ]
  },
  {
   "cell_type": "code",
   "execution_count": 24,
   "metadata": {},
   "outputs": [
    {
     "name": "stdout",
     "output_type": "stream",
     "text": [
      "95-й перцентиль количества заказов на пользователя: 28000.0\n",
      "99-й перцентиль количества заказов на пользователя: 58233.2\n"
     ]
    }
   ],
   "source": [
    "print('95-й перцентиль количества заказов на пользователя:',\n",
    "      round(np.percentile(orders['revenue'], [95])[0], 2))\n",
    "print('99-й перцентиль количества заказов на пользователя:',\n",
    "      round(np.percentile(orders['revenue'], [99])[0], 2))"
   ]
  },
  {
   "cell_type": "markdown",
   "metadata": {},
   "source": [
    "5% пользователей совершают заказы стоимостью выше 28 тысяч руб., на сумму больше 58 тысяч руб. - всего 1%."
   ]
  },
  {
   "cell_type": "markdown",
   "metadata": {},
   "source": [
    "### Статистическая значимость различий в конверсии по \"сырым\" данным\n",
    "\n",
    "Посчитаем статистическую значимость различий в конверсии между группами по «сырым» данным."
   ]
  },
  {
   "cell_type": "code",
   "execution_count": 25,
   "metadata": {},
   "outputs": [],
   "source": [
    "ordersByUsersA = (\n",
    "    orders[orders['group'] == 'A']\n",
    "    .groupby('visitorId', as_index=False)\n",
    "    .agg({'transactionId': pd.Series.nunique})\n",
    ")\n",
    "ordersByUsersA.columns = ['visitorId', 'orders']\n",
    "\n",
    "ordersByUsersB = (\n",
    "    orders[orders['group'] == 'B']\n",
    "    .groupby('visitorId', as_index=False)\n",
    "    .agg({'transactionId': pd.Series.nunique})\n",
    ")\n",
    "ordersByUsersB.columns = ['visitorId', 'orders'] \n",
    "\n",
    "zerosA = (visitors[visitors['group'] == 'A']['visitors'].sum() - len(ordersByUsersA)) * [0]\n",
    "without_ordersA = pd.Series(data = zerosA, name = 'orders')\n",
    "\n",
    "zerosB = (visitors[visitors['group'] == 'B']['visitors'].sum() - len(ordersByUsersB)) * [0]\n",
    "without_ordersB = pd.Series(data = zerosB, name = 'orders')\n",
    "\n",
    "sampleA = pd.concat([ordersByUsersA['orders'], without_ordersA], axis=0)\n",
    "sampleB = pd.concat([ordersByUsersB['orders'], without_ordersB], axis=0)"
   ]
  },
  {
   "cell_type": "markdown",
   "metadata": {},
   "source": [
    "Сформулируем и проверим следующие гипотезы:\n",
    "\n",
    "**H0** - нулевая гипотеза - статистически значимых различий в конверсии между группами по \"сырым\" данным нет.\n",
    "\n",
    "**H1** - альтернативная гипотеза - статистически значимые различия в конверсии между группами по \"сырым\" данным есть"
   ]
  },
  {
   "cell_type": "code",
   "execution_count": 26,
   "metadata": {},
   "outputs": [
    {
     "name": "stdout",
     "output_type": "stream",
     "text": [
      "Относительный прирост конверсии группы В по отношению к группе А по \"сырым\" данным: 0.138\n",
      "p-value: 0.00840\n",
      "Различия в конверсии между группами по \"сырым\" данным статистически значимы.\n"
     ]
    }
   ],
   "source": [
    "print('Относительный прирост конверсии группы В по отношению к группе А по \"сырым\" данным:',\n",
    "     round(sampleB.mean()/sampleA.mean()-1, 3))\n",
    "print('p-value:', \"{0:.5f}\".format(stats.mannwhitneyu(sampleA, sampleB)[1]))\n",
    "\n",
    "alpha = 0.05\n",
    "results = stats.mannwhitneyu(sampleA, sampleB)\n",
    "if results.pvalue < alpha:\n",
    "    print('Различия в конверсии между группами по \"сырым\" данным статистически значимы.')\n",
    "else:\n",
    "    print('Различий в конверсии между группами по \"сырым\" данным нет.')"
   ]
  },
  {
   "cell_type": "markdown",
   "metadata": {},
   "source": [
    "### Статистическая значимость различий в среднем чеке по \"сырым\" данным"
   ]
  },
  {
   "cell_type": "markdown",
   "metadata": {},
   "source": [
    "Сформулируем и проверим следующие гипотезы:\n",
    "\n",
    "**H0** - нулевая гипотеза - статистически значимых различий в среднем чеке между группами по \"сырым\" данным нет.\n",
    "\n",
    "**H1** - альтернативная гипотеза - статистически значимые различия в среднем чеке между группами по \"сырым\" данным есть"
   ]
  },
  {
   "cell_type": "code",
   "execution_count": 27,
   "metadata": {},
   "outputs": [
    {
     "name": "stdout",
     "output_type": "stream",
     "text": [
      "Относительный прирост среднего чека группы В по отношению к группе А по \"сырым\" данным: 0.259\n",
      "p-value: 0.365\n",
      "Различий в среднем чеке между группами по \"сырым\" данным нет.\n"
     ]
    }
   ],
   "source": [
    "alpha = 0.05\n",
    "results = stats.mannwhitneyu(orders[orders['group']=='A']['revenue'], orders[orders['group']=='B']['revenue'])\n",
    "                          \n",
    "print('Относительный прирост среднего чека группы В по отношению к группе А по \"сырым\" данным:',\n",
    "      \"{0:.3f}\".format(orders[orders['group']=='B']['revenue'].mean()/orders[orders['group']=='A']['revenue'].mean()-1))\n",
    "\n",
    "print('p-value:',\n",
    "      '{0:.3f}'.format(results.pvalue))\n",
    "                             \n",
    "if results.pvalue < alpha:\n",
    "    print('Различия в среднем чеке между группами по \"сырым\" данным статистически значимы.')\n",
    "else:\n",
    "    print('Различий в среднем чеке между группами по \"сырым\" данным нет.')             "
   ]
  },
  {
   "cell_type": "markdown",
   "metadata": {},
   "source": [
    "### Статистическая значимость различий в конверсии по \"очищенным\" данным\n",
    "\n",
    "Посчитаем статистическую значимость различий в конверсии между группами по «очищенным» данным.\n",
    "\n",
    "Более 2-х заказов совершает 5% пользователей, и на сумму больше 28 тысяч руб. покупает тоже только 5%. Возьмем эти данные за границу для определения аномальных пользователей."
   ]
  },
  {
   "cell_type": "code",
   "execution_count": 28,
   "metadata": {},
   "outputs": [],
   "source": [
    "usersWithManyOrders = pd.concat(\n",
    "    [\n",
    "        ordersByUsersA[ordersByUsersA['orders'] > 2]['visitorId'],\n",
    "        ordersByUsersB[ordersByUsersB['orders'] > 2]['visitorId'],\n",
    "    ],\n",
    "    axis=0,\n",
    ")\n",
    "\n",
    "usersWithExpensiveOrders = orders[orders['revenue'] > 28000]['visitorId']\n",
    "abnormalUsers = (\n",
    "    pd.concat([usersWithManyOrders, usersWithExpensiveOrders], axis=0)\n",
    "    .drop_duplicates()\n",
    "    .sort_values()\n",
    ")\n",
    "\n",
    "sampleAFiltered = pd.concat([\n",
    "        ordersByUsersA[np.logical_not(ordersByUsersA['visitorId'].isin(abnormalUsers))]['orders'],\n",
    "        without_ordersA\n",
    "    ],\n",
    "    axis=0,\n",
    ")\n",
    "\n",
    "sampleBFiltered = pd.concat([\n",
    "        ordersByUsersB[np.logical_not(ordersByUsersB['visitorId'].isin(abnormalUsers))]['orders'],\n",
    "        without_ordersB\n",
    "    ],\n",
    "    axis=0,\n",
    ") "
   ]
  },
  {
   "cell_type": "markdown",
   "metadata": {},
   "source": [
    "Сформулируем и проверим следующие гипотезы:\n",
    "\n",
    "**H0** - нулевая гипотеза - статистически значимых различий в конверсии между группами по \"очищенным\" данным нет.\n",
    "\n",
    "**H1** - альтернативная гипотеза - статистически значимые различия в конверсии между группами по \"очищенным\" данным есть"
   ]
  },
  {
   "cell_type": "code",
   "execution_count": 29,
   "metadata": {
    "scrolled": true
   },
   "outputs": [
    {
     "name": "stdout",
     "output_type": "stream",
     "text": [
      "Относительный прирост конверсии группы В по отношению к группе А по \"очищенным\" данным: 0.173\n",
      "p-value: 0.00652\n",
      "Различия в конверсии между группами по \"очищенным\" данным статистически значимы.\n"
     ]
    }
   ],
   "source": [
    "print('Относительный прирост конверсии группы В по отношению к группе А по \"очищенным\" данным:',\n",
    "     round(sampleBFiltered.mean()/sampleAFiltered.mean()-1, 3))\n",
    "print('p-value:', \"{0:.5f}\".format(stats.mannwhitneyu(sampleAFiltered, sampleBFiltered)[1]))\n",
    "\n",
    "alpha = 0.05\n",
    "results = stats.mannwhitneyu(sampleAFiltered, sampleBFiltered)\n",
    "if results.pvalue < alpha:\n",
    "    print('Различия в конверсии между группами по \"очищенным\" данным статистически значимы.')\n",
    "else:\n",
    "    print('Различий в конверсии между группами по \"очищенным\" данным нет.')"
   ]
  },
  {
   "cell_type": "markdown",
   "metadata": {},
   "source": [
    "### Статистическая значимость различий в среднем чеке по \"очищенным\" данным"
   ]
  },
  {
   "cell_type": "markdown",
   "metadata": {},
   "source": [
    "Сформулируем и проверим следующие гипотезы:\n",
    "\n",
    "**H0** - нулевая гипотеза - статистически значимых различий в среднем чеке между группами по \"очищенным\" данным нет.\n",
    "\n",
    "**H1** - альтернативная гипотеза - статистически значимые различия в среднем чеке между группами по \"очищенным\" данным есть"
   ]
  },
  {
   "cell_type": "code",
   "execution_count": 30,
   "metadata": {},
   "outputs": [
    {
     "name": "stdout",
     "output_type": "stream",
     "text": [
      "Относительный прирост среднего чека в группе B по отношению к группе A по \"очищенным\" данным: -0.020\n",
      "p-value: 0.369\n",
      "Различий в среднем чеке между группами по \"очищенным\" данным нет.\n"
     ]
    }
   ],
   "source": [
    "alpha = 0.05\n",
    "results = stats.mannwhitneyu(orders[np.logical_and(orders['group']=='A', np.logical_not(orders['visitorId'].isin(abnormalUsers)))]['revenue'],\n",
    "                             orders[np.logical_and(orders['group']=='B', np.logical_not(orders['visitorId'].isin(abnormalUsers)))]['revenue'])\n",
    "                          \n",
    "print('Относительный прирост среднего чека в группе B по отношению к группе A по \"очищенным\" данным: {:.3f}'.format(\n",
    "orders[np.logical_and(orders['group']=='B', np.logical_not(orders['visitorId'].isin(abnormalUsers)))]['revenue'].mean()\\\n",
    "/orders[np.logical_and(orders['group']=='A', np.logical_not(orders['visitorId'].isin(abnormalUsers)))]['revenue'].mean()-1))\n",
    "\n",
    "print('p-value:',\n",
    "      '{0:.3f}'.format(results.pvalue))\n",
    "                          \n",
    "if results.pvalue < alpha:\n",
    "    print('Различия в среднем чеке между группами по \"очищенным\" данным статистически значимы.')\n",
    "else:\n",
    "    print('Различий в среднем чеке между группами по \"очищенным\" данным нет.')             "
   ]
  },
  {
   "cell_type": "markdown",
   "metadata": {},
   "source": [
    "## Общий вывод"
   ]
  },
  {
   "cell_type": "markdown",
   "metadata": {},
   "source": [
    "На протяжении всего A/B-теста кумулятивные показатели были лучше в группе В. Даже несмотря на то, что были замечены резкие скачки вверх на графике в группе В, выяснено, что это произошло из-за аномалий. \n",
    "\n",
    "После очистки данных конверсия в группе В стала больше на 17%, по отношению к группе А, при том что до очистки этот показатель был равен 14%. Таким образом, можно сделать вывод, что следует остановить A/B-тест и зафиксировать победу группы В."
   ]
  }
 ],
 "metadata": {
  "ExecuteTimeLog": [
   {
    "duration": 406,
    "start_time": "2022-01-24T15:43:02.421Z"
   },
   {
    "duration": 1647,
    "start_time": "2022-01-24T15:43:04.433Z"
   },
   {
    "duration": 79,
    "start_time": "2022-01-24T15:43:06.084Z"
   },
   {
    "duration": 17,
    "start_time": "2022-01-24T15:55:17.117Z"
   },
   {
    "duration": 4,
    "start_time": "2022-01-24T15:56:27.046Z"
   },
   {
    "duration": 10,
    "start_time": "2022-01-24T15:56:37.745Z"
   },
   {
    "duration": 19,
    "start_time": "2022-01-24T15:57:04.245Z"
   },
   {
    "duration": 27,
    "start_time": "2022-01-24T16:01:32.681Z"
   },
   {
    "duration": 32,
    "start_time": "2022-01-24T16:02:26.328Z"
   },
   {
    "duration": 18,
    "start_time": "2022-01-24T16:02:29.129Z"
   },
   {
    "duration": 39,
    "start_time": "2022-01-24T16:04:19.944Z"
   },
   {
    "duration": 38,
    "start_time": "2022-01-24T16:04:42.953Z"
   },
   {
    "duration": 39,
    "start_time": "2022-01-24T16:05:11.304Z"
   },
   {
    "duration": 14,
    "start_time": "2022-01-24T16:08:36.037Z"
   },
   {
    "duration": 8,
    "start_time": "2022-01-24T16:09:17.901Z"
   },
   {
    "duration": 22,
    "start_time": "2022-01-24T16:09:42.211Z"
   },
   {
    "duration": 9331,
    "start_time": "2022-01-24T17:02:57.999Z"
   },
   {
    "duration": 16,
    "start_time": "2022-01-24T17:03:20.348Z"
   },
   {
    "duration": 17,
    "start_time": "2022-01-24T17:03:54.196Z"
   },
   {
    "duration": 16,
    "start_time": "2022-01-24T17:03:58.207Z"
   },
   {
    "duration": 1465,
    "start_time": "2022-01-24T17:04:07.788Z"
   },
   {
    "duration": 82,
    "start_time": "2022-01-24T17:04:09.256Z"
   },
   {
    "duration": 18,
    "start_time": "2022-01-24T17:04:09.341Z"
   },
   {
    "duration": 11,
    "start_time": "2022-01-24T17:04:09.362Z"
   },
   {
    "duration": 19,
    "start_time": "2022-01-24T17:04:09.376Z"
   },
   {
    "duration": 82,
    "start_time": "2022-01-24T17:04:09.398Z"
   },
   {
    "duration": 16,
    "start_time": "2022-01-24T17:04:09.482Z"
   },
   {
    "duration": 58,
    "start_time": "2022-01-24T17:04:09.501Z"
   },
   {
    "duration": 19,
    "start_time": "2022-01-24T17:04:09.562Z"
   },
   {
    "duration": 19,
    "start_time": "2022-01-24T17:04:31.570Z"
   },
   {
    "duration": 16,
    "start_time": "2022-01-24T17:04:41.586Z"
   },
   {
    "duration": 16,
    "start_time": "2022-01-24T17:04:49.297Z"
   },
   {
    "duration": 1482,
    "start_time": "2022-01-24T17:04:59.151Z"
   },
   {
    "duration": 71,
    "start_time": "2022-01-24T17:05:00.636Z"
   },
   {
    "duration": 16,
    "start_time": "2022-01-24T17:05:00.709Z"
   },
   {
    "duration": 22,
    "start_time": "2022-01-24T17:05:00.728Z"
   },
   {
    "duration": 21,
    "start_time": "2022-01-24T17:05:00.753Z"
   },
   {
    "duration": 43,
    "start_time": "2022-01-24T17:05:00.776Z"
   },
   {
    "duration": 38,
    "start_time": "2022-01-24T17:05:00.821Z"
   },
   {
    "duration": 20,
    "start_time": "2022-01-24T17:05:00.862Z"
   },
   {
    "duration": 19,
    "start_time": "2022-01-24T17:05:00.884Z"
   },
   {
    "duration": 17,
    "start_time": "2022-01-24T17:05:41.371Z"
   },
   {
    "duration": 8,
    "start_time": "2022-01-24T17:07:22.994Z"
   },
   {
    "duration": 17,
    "start_time": "2022-01-24T17:08:03.810Z"
   },
   {
    "duration": 1444,
    "start_time": "2022-01-24T17:08:29.808Z"
   },
   {
    "duration": 77,
    "start_time": "2022-01-24T17:08:31.255Z"
   },
   {
    "duration": 18,
    "start_time": "2022-01-24T17:08:31.336Z"
   },
   {
    "duration": 10,
    "start_time": "2022-01-24T17:08:31.357Z"
   },
   {
    "duration": 21,
    "start_time": "2022-01-24T17:08:31.370Z"
   },
   {
    "duration": 70,
    "start_time": "2022-01-24T17:08:31.394Z"
   },
   {
    "duration": 15,
    "start_time": "2022-01-24T17:08:31.466Z"
   },
   {
    "duration": 25,
    "start_time": "2022-01-24T17:08:31.484Z"
   },
   {
    "duration": 501,
    "start_time": "2022-01-24T17:08:31.512Z"
   },
   {
    "duration": 1735,
    "start_time": "2022-01-24T17:08:30.281Z"
   },
   {
    "duration": 16,
    "start_time": "2022-01-24T17:10:02.558Z"
   },
   {
    "duration": 15,
    "start_time": "2022-01-24T17:10:52.703Z"
   },
   {
    "duration": 17,
    "start_time": "2022-01-24T17:11:20.285Z"
   },
   {
    "duration": 1573,
    "start_time": "2022-01-25T11:51:16.121Z"
   },
   {
    "duration": 75,
    "start_time": "2022-01-25T11:51:17.697Z"
   },
   {
    "duration": 17,
    "start_time": "2022-01-25T11:51:17.775Z"
   },
   {
    "duration": 19,
    "start_time": "2022-01-25T11:51:17.795Z"
   },
   {
    "duration": 22,
    "start_time": "2022-01-25T11:51:17.817Z"
   },
   {
    "duration": 60,
    "start_time": "2022-01-25T11:51:17.842Z"
   },
   {
    "duration": 15,
    "start_time": "2022-01-25T11:51:17.904Z"
   },
   {
    "duration": 54,
    "start_time": "2022-01-25T11:51:17.923Z"
   },
   {
    "duration": 16,
    "start_time": "2022-01-25T11:51:17.980Z"
   },
   {
    "duration": 15,
    "start_time": "2022-01-25T11:51:17.998Z"
   },
   {
    "duration": 18,
    "start_time": "2022-01-25T13:31:43.176Z"
   },
   {
    "duration": 16,
    "start_time": "2022-01-25T13:31:45.849Z"
   },
   {
    "duration": 17,
    "start_time": "2022-01-25T14:03:34.229Z"
   },
   {
    "duration": 11,
    "start_time": "2022-01-25T14:03:46.272Z"
   },
   {
    "duration": 10,
    "start_time": "2022-01-25T14:03:53.577Z"
   },
   {
    "duration": 28,
    "start_time": "2022-01-25T14:04:36.585Z"
   },
   {
    "duration": 422,
    "start_time": "2022-01-25T14:15:53.060Z"
   },
   {
    "duration": 306,
    "start_time": "2022-01-25T14:16:02.457Z"
   },
   {
    "duration": 7262,
    "start_time": "2022-01-25T14:16:22.142Z"
   },
   {
    "duration": 7849,
    "start_time": "2022-01-25T14:18:29.032Z"
   },
   {
    "duration": 7937,
    "start_time": "2022-01-25T14:19:27.855Z"
   },
   {
    "duration": 542,
    "start_time": "2022-01-25T14:20:42.584Z"
   },
   {
    "duration": 553,
    "start_time": "2022-01-25T14:20:56.572Z"
   },
   {
    "duration": 315,
    "start_time": "2022-01-25T14:23:14.458Z"
   },
   {
    "duration": 382,
    "start_time": "2022-01-25T14:23:18.744Z"
   },
   {
    "duration": 329,
    "start_time": "2022-01-25T14:23:32.058Z"
   },
   {
    "duration": 297,
    "start_time": "2022-01-25T14:23:39.145Z"
   },
   {
    "duration": 314,
    "start_time": "2022-01-25T14:24:05.490Z"
   },
   {
    "duration": 386,
    "start_time": "2022-01-25T14:25:44.232Z"
   },
   {
    "duration": 289,
    "start_time": "2022-01-25T14:26:15.502Z"
   },
   {
    "duration": 313,
    "start_time": "2022-01-25T14:26:43.004Z"
   },
   {
    "duration": 384,
    "start_time": "2022-01-25T14:27:27.806Z"
   },
   {
    "duration": 401,
    "start_time": "2022-01-25T14:27:35.037Z"
   },
   {
    "duration": 367,
    "start_time": "2022-01-25T14:27:40.213Z"
   },
   {
    "duration": 407,
    "start_time": "2022-01-25T14:27:47.637Z"
   },
   {
    "duration": 436,
    "start_time": "2022-01-25T14:27:59.844Z"
   },
   {
    "duration": 353,
    "start_time": "2022-01-25T14:29:19.059Z"
   },
   {
    "duration": 344,
    "start_time": "2022-01-25T14:29:30.306Z"
   },
   {
    "duration": 456,
    "start_time": "2022-01-25T14:56:12.430Z"
   },
   {
    "duration": 491,
    "start_time": "2022-01-25T14:56:27.685Z"
   },
   {
    "duration": 434,
    "start_time": "2022-01-25T14:56:47.846Z"
   },
   {
    "duration": 446,
    "start_time": "2022-01-25T14:57:11.620Z"
   },
   {
    "duration": 416,
    "start_time": "2022-01-25T14:58:18.210Z"
   },
   {
    "duration": 464,
    "start_time": "2022-01-25T14:58:27.132Z"
   },
   {
    "duration": 475,
    "start_time": "2022-01-25T15:00:17.265Z"
   },
   {
    "duration": 18,
    "start_time": "2022-01-25T15:05:38.542Z"
   },
   {
    "duration": 305,
    "start_time": "2022-01-25T15:06:01.638Z"
   },
   {
    "duration": 330,
    "start_time": "2022-01-25T15:06:26.750Z"
   },
   {
    "duration": 349,
    "start_time": "2022-01-25T15:06:43.949Z"
   },
   {
    "duration": 460,
    "start_time": "2022-01-25T15:07:11.711Z"
   },
   {
    "duration": 340,
    "start_time": "2022-01-25T15:07:26.687Z"
   },
   {
    "duration": 392,
    "start_time": "2022-01-25T15:07:33.196Z"
   },
   {
    "duration": 439,
    "start_time": "2022-01-25T15:07:38.701Z"
   },
   {
    "duration": 316,
    "start_time": "2022-01-25T15:08:05.500Z"
   },
   {
    "duration": 126,
    "start_time": "2022-01-25T16:19:27.524Z"
   },
   {
    "duration": 98,
    "start_time": "2022-01-25T16:19:43.207Z"
   },
   {
    "duration": 380,
    "start_time": "2022-01-25T16:19:48.006Z"
   },
   {
    "duration": 384,
    "start_time": "2022-01-25T16:20:00.286Z"
   },
   {
    "duration": 432,
    "start_time": "2022-01-25T16:20:15.998Z"
   },
   {
    "duration": 489,
    "start_time": "2022-01-25T16:20:49.950Z"
   },
   {
    "duration": 512,
    "start_time": "2022-01-25T16:20:59.007Z"
   },
   {
    "duration": 508,
    "start_time": "2022-01-25T16:21:16.766Z"
   },
   {
    "duration": 515,
    "start_time": "2022-01-25T16:21:47.996Z"
   },
   {
    "duration": 753,
    "start_time": "2022-01-25T16:24:10.569Z"
   },
   {
    "duration": 540,
    "start_time": "2022-01-25T16:24:15.515Z"
   },
   {
    "duration": 566,
    "start_time": "2022-01-25T16:24:50.157Z"
   },
   {
    "duration": 538,
    "start_time": "2022-01-25T16:24:56.314Z"
   },
   {
    "duration": 18,
    "start_time": "2022-01-25T16:32:24.757Z"
   },
   {
    "duration": 488,
    "start_time": "2022-01-25T16:33:04.852Z"
   },
   {
    "duration": 634,
    "start_time": "2022-01-25T16:33:38.212Z"
   },
   {
    "duration": 341,
    "start_time": "2022-01-25T16:35:04.666Z"
   },
   {
    "duration": 305,
    "start_time": "2022-01-25T16:35:15.778Z"
   },
   {
    "duration": 14,
    "start_time": "2022-01-25T16:35:21.988Z"
   },
   {
    "duration": 391,
    "start_time": "2022-01-25T16:35:29.484Z"
   },
   {
    "duration": 18,
    "start_time": "2022-01-25T16:35:37.394Z"
   },
   {
    "duration": 202,
    "start_time": "2022-01-25T16:37:07.242Z"
   },
   {
    "duration": 17,
    "start_time": "2022-01-25T16:37:23.490Z"
   },
   {
    "duration": 210,
    "start_time": "2022-01-25T16:37:31.410Z"
   },
   {
    "duration": 371,
    "start_time": "2022-01-25T16:37:56.833Z"
   },
   {
    "duration": 209,
    "start_time": "2022-01-25T16:38:27.609Z"
   },
   {
    "duration": 231,
    "start_time": "2022-01-25T16:38:35.631Z"
   },
   {
    "duration": 104,
    "start_time": "2022-01-25T16:38:51.114Z"
   },
   {
    "duration": 110,
    "start_time": "2022-01-25T16:38:56.758Z"
   },
   {
    "duration": 98,
    "start_time": "2022-01-25T16:39:07.885Z"
   },
   {
    "duration": 227,
    "start_time": "2022-01-25T16:39:13.206Z"
   },
   {
    "duration": 615,
    "start_time": "2022-01-25T16:40:00.133Z"
   },
   {
    "duration": 527,
    "start_time": "2022-01-25T16:40:07.964Z"
   },
   {
    "duration": 547,
    "start_time": "2022-01-25T16:40:55.638Z"
   },
   {
    "duration": 485,
    "start_time": "2022-01-25T16:41:04.604Z"
   },
   {
    "duration": 1342,
    "start_time": "2022-01-25T16:41:30.157Z"
   },
   {
    "duration": 1360,
    "start_time": "2022-01-25T16:41:44.039Z"
   },
   {
    "duration": 976,
    "start_time": "2022-01-25T16:41:54.413Z"
   },
   {
    "duration": 847,
    "start_time": "2022-01-25T16:42:36.021Z"
   },
   {
    "duration": 1098,
    "start_time": "2022-01-25T16:43:00.341Z"
   },
   {
    "duration": 834,
    "start_time": "2022-01-25T16:43:22.140Z"
   },
   {
    "duration": 881,
    "start_time": "2022-01-25T16:44:11.939Z"
   },
   {
    "duration": 964,
    "start_time": "2022-01-25T16:45:57.840Z"
   },
   {
    "duration": 8,
    "start_time": "2022-01-25T16:52:19.046Z"
   },
   {
    "duration": 7,
    "start_time": "2022-01-25T16:52:33.282Z"
   },
   {
    "duration": 8,
    "start_time": "2022-01-25T16:52:45.901Z"
   },
   {
    "duration": 9,
    "start_time": "2022-01-25T16:52:50.971Z"
   },
   {
    "duration": 291,
    "start_time": "2022-01-25T16:55:13.250Z"
   },
   {
    "duration": 300,
    "start_time": "2022-01-25T16:55:20.305Z"
   },
   {
    "duration": 1424,
    "start_time": "2022-01-25T16:55:36.322Z"
   },
   {
    "duration": 80,
    "start_time": "2022-01-25T16:55:37.749Z"
   },
   {
    "duration": 19,
    "start_time": "2022-01-25T16:55:37.832Z"
   },
   {
    "duration": 16,
    "start_time": "2022-01-25T16:55:37.854Z"
   },
   {
    "duration": 39,
    "start_time": "2022-01-25T16:55:37.873Z"
   },
   {
    "duration": 54,
    "start_time": "2022-01-25T16:55:37.915Z"
   },
   {
    "duration": 14,
    "start_time": "2022-01-25T16:55:37.971Z"
   },
   {
    "duration": 39,
    "start_time": "2022-01-25T16:55:37.989Z"
   },
   {
    "duration": 21,
    "start_time": "2022-01-25T16:55:38.031Z"
   },
   {
    "duration": 15,
    "start_time": "2022-01-25T16:55:38.064Z"
   },
   {
    "duration": 582,
    "start_time": "2022-01-25T16:55:38.082Z"
   },
   {
    "duration": 365,
    "start_time": "2022-01-25T16:55:38.667Z"
   },
   {
    "duration": 350,
    "start_time": "2022-01-25T16:55:39.035Z"
   },
   {
    "duration": 448,
    "start_time": "2022-01-25T16:55:39.387Z"
   },
   {
    "duration": 367,
    "start_time": "2022-01-25T16:55:39.838Z"
   },
   {
    "duration": 557,
    "start_time": "2022-01-25T16:55:40.207Z"
   },
   {
    "duration": 12,
    "start_time": "2022-01-25T16:55:40.767Z"
   },
   {
    "duration": 917,
    "start_time": "2022-01-25T16:55:40.782Z"
   },
   {
    "duration": 8,
    "start_time": "2022-01-25T16:55:41.701Z"
   },
   {
    "duration": 537,
    "start_time": "2022-01-25T16:55:53.564Z"
   },
   {
    "duration": 28,
    "start_time": "2022-01-25T16:56:42.652Z"
   },
   {
    "duration": 15,
    "start_time": "2022-01-25T16:56:51.220Z"
   },
   {
    "duration": 388,
    "start_time": "2022-01-25T17:08:20.083Z"
   },
   {
    "duration": 295,
    "start_time": "2022-01-25T17:08:25.770Z"
   },
   {
    "duration": 98,
    "start_time": "2022-01-25T17:08:38.938Z"
   },
   {
    "duration": 30884,
    "start_time": "2022-01-25T17:08:43.859Z"
   },
   {
    "duration": 3599,
    "start_time": "2022-01-25T17:10:57.483Z"
   },
   {
    "duration": 531,
    "start_time": "2022-01-25T17:11:18.233Z"
   },
   {
    "duration": 716,
    "start_time": "2022-01-25T17:15:22.334Z"
   },
   {
    "duration": 541,
    "start_time": "2022-01-25T17:15:34.926Z"
   },
   {
    "duration": 554,
    "start_time": "2022-01-25T17:15:54.143Z"
   },
   {
    "duration": 517,
    "start_time": "2022-01-25T17:16:23.326Z"
   },
   {
    "duration": 557,
    "start_time": "2022-01-25T17:16:35.117Z"
   },
   {
    "duration": 528,
    "start_time": "2022-01-25T17:16:53.645Z"
   },
   {
    "duration": 573,
    "start_time": "2022-01-25T17:17:00.867Z"
   },
   {
    "duration": 557,
    "start_time": "2022-01-25T17:17:21.564Z"
   },
   {
    "duration": 556,
    "start_time": "2022-01-25T17:18:15.076Z"
   },
   {
    "duration": 702,
    "start_time": "2022-01-25T17:23:57.199Z"
   },
   {
    "duration": 276,
    "start_time": "2022-01-25T17:25:31.726Z"
   },
   {
    "duration": 415,
    "start_time": "2022-01-25T17:25:37.198Z"
   },
   {
    "duration": 488,
    "start_time": "2022-01-25T17:26:20.038Z"
   },
   {
    "duration": 558,
    "start_time": "2022-01-25T17:26:28.530Z"
   },
   {
    "duration": 437,
    "start_time": "2022-01-25T17:26:52.164Z"
   },
   {
    "duration": 418,
    "start_time": "2022-01-25T17:27:02.109Z"
   },
   {
    "duration": 500,
    "start_time": "2022-01-25T17:27:22.428Z"
   },
   {
    "duration": 606,
    "start_time": "2022-01-25T17:28:27.836Z"
   },
   {
    "duration": 7599,
    "start_time": "2022-01-25T17:30:43.545Z"
   },
   {
    "duration": 7,
    "start_time": "2022-01-25T17:34:30.015Z"
   },
   {
    "duration": 8,
    "start_time": "2022-01-25T17:34:54.356Z"
   },
   {
    "duration": 9,
    "start_time": "2022-01-25T17:35:09.445Z"
   },
   {
    "duration": 331,
    "start_time": "2022-01-25T19:07:31.939Z"
   },
   {
    "duration": 8622,
    "start_time": "2022-01-25T19:08:04.666Z"
   },
   {
    "duration": 7486,
    "start_time": "2022-01-25T19:08:17.130Z"
   },
   {
    "duration": 19,
    "start_time": "2022-01-25T19:08:27.833Z"
   },
   {
    "duration": 201,
    "start_time": "2022-01-25T19:09:17.924Z"
   },
   {
    "duration": 511,
    "start_time": "2022-01-25T19:09:36.049Z"
   },
   {
    "duration": 236,
    "start_time": "2022-01-25T19:09:43.482Z"
   },
   {
    "duration": 264,
    "start_time": "2022-01-25T19:19:29.894Z"
   },
   {
    "duration": 6,
    "start_time": "2022-01-25T19:40:26.159Z"
   },
   {
    "duration": 25,
    "start_time": "2022-01-25T19:40:31.565Z"
   },
   {
    "duration": 29,
    "start_time": "2022-01-25T19:41:14.820Z"
   },
   {
    "duration": 17,
    "start_time": "2022-01-25T19:42:57.547Z"
   },
   {
    "duration": 20,
    "start_time": "2022-01-25T19:44:04.491Z"
   },
   {
    "duration": 51,
    "start_time": "2022-01-25T20:30:39.269Z"
   },
   {
    "duration": 21,
    "start_time": "2022-01-25T20:30:45.613Z"
   },
   {
    "duration": 1629,
    "start_time": "2022-01-25T20:31:21.315Z"
   },
   {
    "duration": 82,
    "start_time": "2022-01-25T20:31:22.949Z"
   },
   {
    "duration": 22,
    "start_time": "2022-01-25T20:31:23.035Z"
   },
   {
    "duration": 13,
    "start_time": "2022-01-25T20:31:23.060Z"
   },
   {
    "duration": 21,
    "start_time": "2022-01-25T20:31:23.075Z"
   },
   {
    "duration": 71,
    "start_time": "2022-01-25T20:31:23.098Z"
   },
   {
    "duration": 15,
    "start_time": "2022-01-25T20:31:23.172Z"
   },
   {
    "duration": 61,
    "start_time": "2022-01-25T20:31:23.192Z"
   },
   {
    "duration": 22,
    "start_time": "2022-01-25T20:31:23.256Z"
   },
   {
    "duration": 18,
    "start_time": "2022-01-25T20:31:23.280Z"
   },
   {
    "duration": 614,
    "start_time": "2022-01-25T20:31:23.301Z"
   },
   {
    "duration": 557,
    "start_time": "2022-01-25T20:31:23.918Z"
   },
   {
    "duration": 508,
    "start_time": "2022-01-25T20:31:24.478Z"
   },
   {
    "duration": 437,
    "start_time": "2022-01-25T20:31:24.989Z"
   },
   {
    "duration": 337,
    "start_time": "2022-01-25T20:31:25.429Z"
   },
   {
    "duration": 500,
    "start_time": "2022-01-25T20:31:25.769Z"
   },
   {
    "duration": 12,
    "start_time": "2022-01-25T20:31:26.272Z"
   },
   {
    "duration": 1025,
    "start_time": "2022-01-25T20:31:26.287Z"
   },
   {
    "duration": 7,
    "start_time": "2022-01-25T20:31:27.314Z"
   },
   {
    "duration": 32,
    "start_time": "2022-01-25T20:31:27.323Z"
   },
   {
    "duration": 681,
    "start_time": "2022-01-25T20:31:27.359Z"
   },
   {
    "duration": 455,
    "start_time": "2022-01-25T20:31:28.043Z"
   },
   {
    "duration": 7,
    "start_time": "2022-01-25T20:31:28.504Z"
   },
   {
    "duration": 266,
    "start_time": "2022-01-25T20:31:28.514Z"
   },
   {
    "duration": 7,
    "start_time": "2022-01-25T20:36:23.941Z"
   },
   {
    "duration": 10,
    "start_time": "2022-01-25T20:36:35.860Z"
   },
   {
    "duration": 541,
    "start_time": "2022-01-25T20:37:30.784Z"
   },
   {
    "duration": 4,
    "start_time": "2022-01-25T20:41:02.560Z"
   },
   {
    "duration": 10,
    "start_time": "2022-01-25T20:41:07.241Z"
   },
   {
    "duration": 9,
    "start_time": "2022-01-25T20:45:40.502Z"
   },
   {
    "duration": 11,
    "start_time": "2022-01-25T20:53:48.453Z"
   },
   {
    "duration": 11,
    "start_time": "2022-01-25T20:54:00.149Z"
   },
   {
    "duration": 18,
    "start_time": "2022-01-25T20:56:12.180Z"
   },
   {
    "duration": 17,
    "start_time": "2022-01-25T20:59:33.723Z"
   },
   {
    "duration": 14,
    "start_time": "2022-01-25T20:59:43.086Z"
   },
   {
    "duration": 16,
    "start_time": "2022-01-25T22:48:59.657Z"
   },
   {
    "duration": 15,
    "start_time": "2022-01-25T22:49:16.905Z"
   },
   {
    "duration": 15,
    "start_time": "2022-01-25T22:49:46.539Z"
   },
   {
    "duration": 16,
    "start_time": "2022-01-25T22:51:02.264Z"
   },
   {
    "duration": 23,
    "start_time": "2022-01-25T22:51:32.432Z"
   },
   {
    "duration": 103,
    "start_time": "2022-01-25T23:00:29.529Z"
   },
   {
    "duration": 102,
    "start_time": "2022-01-25T23:00:38.769Z"
   },
   {
    "duration": 106,
    "start_time": "2022-01-25T23:00:51.952Z"
   },
   {
    "duration": 104,
    "start_time": "2022-01-25T23:00:58.456Z"
   },
   {
    "duration": 94,
    "start_time": "2022-01-25T23:01:56.598Z"
   },
   {
    "duration": 105,
    "start_time": "2022-01-25T23:02:02.878Z"
   },
   {
    "duration": 106,
    "start_time": "2022-01-25T23:02:12.953Z"
   },
   {
    "duration": 10,
    "start_time": "2022-01-25T23:05:35.837Z"
   },
   {
    "duration": 99,
    "start_time": "2022-01-25T23:05:55.805Z"
   },
   {
    "duration": 10,
    "start_time": "2022-01-25T23:06:10.875Z"
   },
   {
    "duration": 10,
    "start_time": "2022-01-25T23:06:19.834Z"
   },
   {
    "duration": 10,
    "start_time": "2022-01-25T23:07:00.724Z"
   },
   {
    "duration": 98,
    "start_time": "2022-01-25T23:07:48.355Z"
   },
   {
    "duration": 11,
    "start_time": "2022-01-25T23:07:56.226Z"
   },
   {
    "duration": 132,
    "start_time": "2022-01-25T23:08:07.099Z"
   },
   {
    "duration": 12,
    "start_time": "2022-01-25T23:08:41.723Z"
   },
   {
    "duration": 14,
    "start_time": "2022-01-25T23:09:53.442Z"
   },
   {
    "duration": 16,
    "start_time": "2022-01-25T23:10:29.311Z"
   },
   {
    "duration": 17,
    "start_time": "2022-01-25T23:10:36.095Z"
   },
   {
    "duration": 16,
    "start_time": "2022-01-25T23:11:09.393Z"
   },
   {
    "duration": 7753,
    "start_time": "2022-01-25T23:37:39.266Z"
   },
   {
    "duration": 12,
    "start_time": "2022-01-25T23:40:56.225Z"
   },
   {
    "duration": 19,
    "start_time": "2022-01-25T23:41:27.801Z"
   },
   {
    "duration": 6831,
    "start_time": "2022-01-26T00:02:49.821Z"
   },
   {
    "duration": 17,
    "start_time": "2022-01-26T00:03:01.557Z"
   },
   {
    "duration": 15,
    "start_time": "2022-01-26T00:06:39.697Z"
   },
   {
    "duration": 16,
    "start_time": "2022-01-26T00:09:02.689Z"
   },
   {
    "duration": 113,
    "start_time": "2022-01-26T00:48:57.065Z"
   },
   {
    "duration": 99,
    "start_time": "2022-01-26T00:49:05.345Z"
   },
   {
    "duration": 91,
    "start_time": "2022-01-26T00:49:44.407Z"
   },
   {
    "duration": 108,
    "start_time": "2022-01-26T00:50:11.513Z"
   },
   {
    "duration": 94,
    "start_time": "2022-01-26T00:50:45.888Z"
   },
   {
    "duration": 102,
    "start_time": "2022-01-26T00:52:18.385Z"
   },
   {
    "duration": 111,
    "start_time": "2022-01-26T01:48:52.071Z"
   },
   {
    "duration": 283,
    "start_time": "2022-01-26T01:49:04.408Z"
   },
   {
    "duration": 100,
    "start_time": "2022-01-26T01:49:16.334Z"
   },
   {
    "duration": 103,
    "start_time": "2022-01-26T01:50:12.125Z"
   },
   {
    "duration": 107,
    "start_time": "2022-01-26T01:50:18.604Z"
   },
   {
    "duration": 101,
    "start_time": "2022-01-26T01:50:35.876Z"
   },
   {
    "duration": 108,
    "start_time": "2022-01-26T01:51:40.588Z"
   },
   {
    "duration": 19,
    "start_time": "2022-01-26T01:52:13.539Z"
   },
   {
    "duration": 21,
    "start_time": "2022-01-26T01:52:48.276Z"
   },
   {
    "duration": 1229,
    "start_time": "2022-01-26T01:53:54.077Z"
   },
   {
    "duration": 76,
    "start_time": "2022-01-26T01:53:55.308Z"
   },
   {
    "duration": 16,
    "start_time": "2022-01-26T01:53:55.387Z"
   },
   {
    "duration": 11,
    "start_time": "2022-01-26T01:53:55.405Z"
   },
   {
    "duration": 21,
    "start_time": "2022-01-26T01:53:55.418Z"
   },
   {
    "duration": 39,
    "start_time": "2022-01-26T01:53:55.442Z"
   },
   {
    "duration": 15,
    "start_time": "2022-01-26T01:53:55.484Z"
   },
   {
    "duration": 57,
    "start_time": "2022-01-26T01:53:55.503Z"
   },
   {
    "duration": 15,
    "start_time": "2022-01-26T01:53:55.563Z"
   },
   {
    "duration": 15,
    "start_time": "2022-01-26T01:53:55.580Z"
   },
   {
    "duration": 590,
    "start_time": "2022-01-26T01:53:55.598Z"
   },
   {
    "duration": 351,
    "start_time": "2022-01-26T01:53:56.190Z"
   },
   {
    "duration": 333,
    "start_time": "2022-01-26T01:53:56.549Z"
   },
   {
    "duration": 463,
    "start_time": "2022-01-26T01:53:56.885Z"
   },
   {
    "duration": 341,
    "start_time": "2022-01-26T01:53:57.352Z"
   },
   {
    "duration": 577,
    "start_time": "2022-01-26T01:53:57.695Z"
   },
   {
    "duration": 13,
    "start_time": "2022-01-26T01:53:58.274Z"
   },
   {
    "duration": 863,
    "start_time": "2022-01-26T01:53:58.290Z"
   },
   {
    "duration": 6,
    "start_time": "2022-01-26T01:53:59.156Z"
   },
   {
    "duration": 13,
    "start_time": "2022-01-26T01:53:59.165Z"
   },
   {
    "duration": 646,
    "start_time": "2022-01-26T01:53:59.180Z"
   },
   {
    "duration": 471,
    "start_time": "2022-01-26T01:53:59.828Z"
   },
   {
    "duration": 8,
    "start_time": "2022-01-26T01:54:00.305Z"
   },
   {
    "duration": 250,
    "start_time": "2022-01-26T01:54:00.316Z"
   },
   {
    "duration": 15,
    "start_time": "2022-01-26T01:54:00.569Z"
   },
   {
    "duration": 18,
    "start_time": "2022-01-26T01:54:00.587Z"
   },
   {
    "duration": 41,
    "start_time": "2022-01-26T01:54:00.607Z"
   },
   {
    "duration": 19,
    "start_time": "2022-01-26T01:54:00.651Z"
   },
   {
    "duration": 22,
    "start_time": "2022-01-26T01:54:00.672Z"
   },
   {
    "duration": 1311,
    "start_time": "2022-01-26T01:58:08.027Z"
   },
   {
    "duration": 87,
    "start_time": "2022-01-26T01:58:09.341Z"
   },
   {
    "duration": 20,
    "start_time": "2022-01-26T01:58:09.431Z"
   },
   {
    "duration": 11,
    "start_time": "2022-01-26T01:58:09.455Z"
   },
   {
    "duration": 20,
    "start_time": "2022-01-26T01:58:09.469Z"
   },
   {
    "duration": 71,
    "start_time": "2022-01-26T01:58:09.492Z"
   },
   {
    "duration": 15,
    "start_time": "2022-01-26T01:58:09.566Z"
   },
   {
    "duration": 22,
    "start_time": "2022-01-26T01:58:09.587Z"
   },
   {
    "duration": 15,
    "start_time": "2022-01-26T01:58:09.650Z"
   },
   {
    "duration": 16,
    "start_time": "2022-01-26T01:58:09.668Z"
   },
   {
    "duration": 565,
    "start_time": "2022-01-26T01:58:09.687Z"
   },
   {
    "duration": 356,
    "start_time": "2022-01-26T01:58:10.255Z"
   },
   {
    "duration": 347,
    "start_time": "2022-01-26T01:58:10.614Z"
   },
   {
    "duration": 415,
    "start_time": "2022-01-26T01:58:10.963Z"
   },
   {
    "duration": 327,
    "start_time": "2022-01-26T01:58:11.381Z"
   },
   {
    "duration": 587,
    "start_time": "2022-01-26T01:58:11.711Z"
   },
   {
    "duration": 13,
    "start_time": "2022-01-26T01:58:12.301Z"
   },
   {
    "duration": 849,
    "start_time": "2022-01-26T01:58:12.316Z"
   },
   {
    "duration": 8,
    "start_time": "2022-01-26T01:58:13.167Z"
   },
   {
    "duration": 13,
    "start_time": "2022-01-26T01:58:13.178Z"
   },
   {
    "duration": 635,
    "start_time": "2022-01-26T01:58:13.193Z"
   },
   {
    "duration": 445,
    "start_time": "2022-01-26T01:58:13.831Z"
   },
   {
    "duration": 6,
    "start_time": "2022-01-26T01:58:14.281Z"
   },
   {
    "duration": 250,
    "start_time": "2022-01-26T01:58:14.290Z"
   },
   {
    "duration": 14,
    "start_time": "2022-01-26T01:58:14.549Z"
   },
   {
    "duration": 14,
    "start_time": "2022-01-26T01:58:14.566Z"
   },
   {
    "duration": 17,
    "start_time": "2022-01-26T01:58:14.583Z"
   },
   {
    "duration": 55,
    "start_time": "2022-01-26T01:58:14.602Z"
   },
   {
    "duration": 21,
    "start_time": "2022-01-26T01:58:14.660Z"
   },
   {
    "duration": 1028,
    "start_time": "2022-01-26T08:17:51.245Z"
   },
   {
    "duration": 66,
    "start_time": "2022-01-26T08:17:52.275Z"
   },
   {
    "duration": 11,
    "start_time": "2022-01-26T08:17:52.343Z"
   },
   {
    "duration": 8,
    "start_time": "2022-01-26T08:17:52.356Z"
   },
   {
    "duration": 13,
    "start_time": "2022-01-26T08:17:52.366Z"
   },
   {
    "duration": 25,
    "start_time": "2022-01-26T08:17:52.381Z"
   },
   {
    "duration": 9,
    "start_time": "2022-01-26T08:17:52.408Z"
   },
   {
    "duration": 15,
    "start_time": "2022-01-26T08:17:52.419Z"
   },
   {
    "duration": 10,
    "start_time": "2022-01-26T08:17:52.436Z"
   },
   {
    "duration": 14,
    "start_time": "2022-01-26T08:17:52.447Z"
   },
   {
    "duration": 356,
    "start_time": "2022-01-26T08:17:52.463Z"
   },
   {
    "duration": 240,
    "start_time": "2022-01-26T08:17:52.821Z"
   },
   {
    "duration": 231,
    "start_time": "2022-01-26T08:17:53.063Z"
   },
   {
    "duration": 342,
    "start_time": "2022-01-26T08:17:53.295Z"
   },
   {
    "duration": 223,
    "start_time": "2022-01-26T08:17:53.638Z"
   },
   {
    "duration": 425,
    "start_time": "2022-01-26T08:17:53.863Z"
   },
   {
    "duration": 8,
    "start_time": "2022-01-26T08:17:54.297Z"
   },
   {
    "duration": 602,
    "start_time": "2022-01-26T08:17:54.307Z"
   },
   {
    "duration": 5,
    "start_time": "2022-01-26T08:17:54.910Z"
   },
   {
    "duration": 8,
    "start_time": "2022-01-26T08:17:54.917Z"
   },
   {
    "duration": 455,
    "start_time": "2022-01-26T08:17:54.927Z"
   },
   {
    "duration": 353,
    "start_time": "2022-01-26T08:17:55.384Z"
   },
   {
    "duration": 6,
    "start_time": "2022-01-26T08:17:55.740Z"
   },
   {
    "duration": 130,
    "start_time": "2022-01-26T08:17:55.748Z"
   },
   {
    "duration": 22,
    "start_time": "2022-01-26T08:17:55.880Z"
   },
   {
    "duration": 10,
    "start_time": "2022-01-26T08:17:55.904Z"
   },
   {
    "duration": 11,
    "start_time": "2022-01-26T08:17:55.916Z"
   },
   {
    "duration": 12,
    "start_time": "2022-01-26T08:17:55.928Z"
   },
   {
    "duration": 19,
    "start_time": "2022-01-26T08:17:55.941Z"
   },
   {
    "duration": 371,
    "start_time": "2022-01-26T15:39:40.913Z"
   },
   {
    "duration": 1356,
    "start_time": "2022-01-26T15:39:45.359Z"
   },
   {
    "duration": 66,
    "start_time": "2022-01-26T15:39:46.718Z"
   },
   {
    "duration": 261,
    "start_time": "2022-01-26T15:39:46.787Z"
   },
   {
    "duration": 254,
    "start_time": "2022-01-26T15:39:47.051Z"
   },
   {
    "duration": 647,
    "start_time": "2022-01-26T15:39:47.307Z"
   },
   {
    "duration": 485,
    "start_time": "2022-01-26T15:39:47.957Z"
   },
   {
    "duration": 299,
    "start_time": "2022-01-26T15:39:48.445Z"
   },
   {
    "duration": 498,
    "start_time": "2022-01-26T15:39:48.747Z"
   },
   {
    "duration": 7,
    "start_time": "2022-01-26T15:39:51.667Z"
   },
   {
    "duration": 18,
    "start_time": "2022-01-26T15:40:23.006Z"
   },
   {
    "duration": 9,
    "start_time": "2022-01-26T15:40:34.606Z"
   },
   {
    "duration": 11,
    "start_time": "2022-01-26T15:41:26.526Z"
   },
   {
    "duration": 369,
    "start_time": "2022-01-26T15:43:09.269Z"
   },
   {
    "duration": 34,
    "start_time": "2022-01-26T15:43:19.708Z"
   },
   {
    "duration": 11,
    "start_time": "2022-01-26T15:43:26.548Z"
   },
   {
    "duration": 18,
    "start_time": "2022-01-26T15:43:49.726Z"
   },
   {
    "duration": 18,
    "start_time": "2022-01-26T15:43:58.547Z"
   },
   {
    "duration": 24,
    "start_time": "2022-01-26T15:44:48.050Z"
   },
   {
    "duration": 19,
    "start_time": "2022-01-26T15:45:09.250Z"
   },
   {
    "duration": 25,
    "start_time": "2022-01-26T15:45:21.265Z"
   },
   {
    "duration": 29,
    "start_time": "2022-01-26T15:45:28.769Z"
   },
   {
    "duration": 28,
    "start_time": "2022-01-26T15:45:35.203Z"
   },
   {
    "duration": 17,
    "start_time": "2022-01-26T15:45:58.074Z"
   },
   {
    "duration": 370,
    "start_time": "2022-01-26T15:51:45.301Z"
   },
   {
    "duration": 5,
    "start_time": "2022-01-26T15:53:10.984Z"
   },
   {
    "duration": 470,
    "start_time": "2022-01-26T15:53:10.993Z"
   },
   {
    "duration": 242,
    "start_time": "2022-01-26T15:53:14.292Z"
   },
   {
    "duration": 243,
    "start_time": "2022-01-26T15:54:21.475Z"
   },
   {
    "duration": 11,
    "start_time": "2022-01-26T15:54:28.843Z"
   },
   {
    "duration": 249,
    "start_time": "2022-01-26T15:55:21.450Z"
   },
   {
    "duration": 5,
    "start_time": "2022-01-26T15:55:25.797Z"
   },
   {
    "duration": 21,
    "start_time": "2022-01-26T15:56:24.737Z"
   },
   {
    "duration": 23,
    "start_time": "2022-01-26T15:56:37.986Z"
   },
   {
    "duration": 15,
    "start_time": "2022-01-26T15:56:48.039Z"
   },
   {
    "duration": 254,
    "start_time": "2022-01-26T15:57:09.162Z"
   },
   {
    "duration": 16,
    "start_time": "2022-01-26T15:57:27.241Z"
   },
   {
    "duration": 18,
    "start_time": "2022-01-26T15:58:21.798Z"
   },
   {
    "duration": 4,
    "start_time": "2022-01-26T15:58:26.806Z"
   },
   {
    "duration": 269,
    "start_time": "2022-01-26T15:58:26.816Z"
   },
   {
    "duration": 1609,
    "start_time": "2022-01-26T15:58:35.100Z"
   },
   {
    "duration": 72,
    "start_time": "2022-01-26T15:58:36.714Z"
   },
   {
    "duration": 738,
    "start_time": "2022-01-26T15:58:36.789Z"
   },
   {
    "duration": 17,
    "start_time": "2022-01-26T15:58:44.832Z"
   },
   {
    "duration": 373,
    "start_time": "2022-01-26T15:58:56.746Z"
   },
   {
    "duration": 13,
    "start_time": "2022-01-26T15:58:59.978Z"
   },
   {
    "duration": 9,
    "start_time": "2022-01-26T15:59:02.681Z"
   },
   {
    "duration": 23,
    "start_time": "2022-01-26T15:59:03.658Z"
   },
   {
    "duration": 51,
    "start_time": "2022-01-26T15:59:04.546Z"
   },
   {
    "duration": 383,
    "start_time": "2022-01-26T15:59:05.025Z"
   },
   {
    "duration": 21,
    "start_time": "2022-01-26T15:59:06.328Z"
   },
   {
    "duration": 23,
    "start_time": "2022-01-26T15:59:06.897Z"
   },
   {
    "duration": 18,
    "start_time": "2022-01-26T16:02:02.302Z"
   },
   {
    "duration": 457,
    "start_time": "2022-01-26T16:02:02.324Z"
   },
   {
    "duration": 15,
    "start_time": "2022-01-26T16:02:26.448Z"
   },
   {
    "duration": 242,
    "start_time": "2022-01-26T16:30:53.717Z"
   },
   {
    "duration": 5,
    "start_time": "2022-01-26T16:30:58.586Z"
   },
   {
    "duration": 70,
    "start_time": "2022-01-26T16:30:58.594Z"
   },
   {
    "duration": 12,
    "start_time": "2022-01-26T16:30:58.667Z"
   },
   {
    "duration": 12,
    "start_time": "2022-01-26T16:30:58.682Z"
   },
   {
    "duration": 37,
    "start_time": "2022-01-26T16:30:58.697Z"
   },
   {
    "duration": 45,
    "start_time": "2022-01-26T16:30:58.738Z"
   },
   {
    "duration": 45,
    "start_time": "2022-01-26T16:30:58.787Z"
   },
   {
    "duration": 15,
    "start_time": "2022-01-26T16:30:58.835Z"
   },
   {
    "duration": 27,
    "start_time": "2022-01-26T16:30:58.852Z"
   },
   {
    "duration": 17,
    "start_time": "2022-01-26T16:30:58.882Z"
   },
   {
    "duration": 23,
    "start_time": "2022-01-26T16:30:58.934Z"
   },
   {
    "duration": 590,
    "start_time": "2022-01-26T16:30:58.960Z"
   },
   {
    "duration": 379,
    "start_time": "2022-01-26T16:30:59.553Z"
   },
   {
    "duration": 351,
    "start_time": "2022-01-26T16:30:59.935Z"
   },
   {
    "duration": 497,
    "start_time": "2022-01-26T16:31:00.289Z"
   },
   {
    "duration": 357,
    "start_time": "2022-01-26T16:31:00.789Z"
   },
   {
    "duration": 514,
    "start_time": "2022-01-26T16:31:01.148Z"
   },
   {
    "duration": 12,
    "start_time": "2022-01-26T16:31:01.665Z"
   },
   {
    "duration": 908,
    "start_time": "2022-01-26T16:31:01.682Z"
   },
   {
    "duration": 8,
    "start_time": "2022-01-26T16:31:02.593Z"
   },
   {
    "duration": 31,
    "start_time": "2022-01-26T16:31:02.604Z"
   },
   {
    "duration": 693,
    "start_time": "2022-01-26T16:31:02.639Z"
   },
   {
    "duration": 457,
    "start_time": "2022-01-26T16:31:03.335Z"
   },
   {
    "duration": 9,
    "start_time": "2022-01-26T16:31:03.795Z"
   },
   {
    "duration": 302,
    "start_time": "2022-01-26T16:31:03.806Z"
   },
   {
    "duration": 28,
    "start_time": "2022-01-26T16:31:04.110Z"
   },
   {
    "duration": 19,
    "start_time": "2022-01-26T16:31:04.141Z"
   },
   {
    "duration": 25,
    "start_time": "2022-01-26T16:31:04.163Z"
   },
   {
    "duration": 26,
    "start_time": "2022-01-26T16:31:08.542Z"
   },
   {
    "duration": 20,
    "start_time": "2022-01-26T16:35:55.249Z"
   },
   {
    "duration": 1784,
    "start_time": "2022-01-26T16:45:18.996Z"
   },
   {
    "duration": 68,
    "start_time": "2022-01-26T16:45:20.783Z"
   },
   {
    "duration": 16,
    "start_time": "2022-01-26T16:45:20.855Z"
   },
   {
    "duration": 15,
    "start_time": "2022-01-26T16:45:20.874Z"
   },
   {
    "duration": 22,
    "start_time": "2022-01-26T16:45:20.892Z"
   },
   {
    "duration": 42,
    "start_time": "2022-01-26T16:45:20.934Z"
   },
   {
    "duration": 13,
    "start_time": "2022-01-26T16:45:20.978Z"
   },
   {
    "duration": 48,
    "start_time": "2022-01-26T16:45:20.995Z"
   },
   {
    "duration": 21,
    "start_time": "2022-01-26T16:45:21.046Z"
   },
   {
    "duration": 16,
    "start_time": "2022-01-26T16:45:21.070Z"
   },
   {
    "duration": 53,
    "start_time": "2022-01-26T16:45:21.089Z"
   },
   {
    "duration": 639,
    "start_time": "2022-01-26T16:45:21.145Z"
   },
   {
    "duration": 389,
    "start_time": "2022-01-26T16:45:21.787Z"
   },
   {
    "duration": 360,
    "start_time": "2022-01-26T16:45:22.179Z"
   },
   {
    "duration": 455,
    "start_time": "2022-01-26T16:45:22.541Z"
   },
   {
    "duration": 358,
    "start_time": "2022-01-26T16:45:22.999Z"
   },
   {
    "duration": 672,
    "start_time": "2022-01-26T16:45:23.360Z"
   },
   {
    "duration": 12,
    "start_time": "2022-01-26T16:45:24.035Z"
   },
   {
    "duration": 911,
    "start_time": "2022-01-26T16:45:24.049Z"
   },
   {
    "duration": 6,
    "start_time": "2022-01-26T16:45:24.963Z"
   },
   {
    "duration": 12,
    "start_time": "2022-01-26T16:45:24.972Z"
   },
   {
    "duration": 736,
    "start_time": "2022-01-26T16:45:24.987Z"
   },
   {
    "duration": 476,
    "start_time": "2022-01-26T16:45:25.732Z"
   },
   {
    "duration": 20,
    "start_time": "2022-01-26T16:45:26.212Z"
   },
   {
    "duration": 363,
    "start_time": "2022-01-26T16:45:26.236Z"
   },
   {
    "duration": 30,
    "start_time": "2022-01-26T16:45:26.603Z"
   },
   {
    "duration": 59,
    "start_time": "2022-01-26T16:45:26.636Z"
   },
   {
    "duration": 90,
    "start_time": "2022-01-26T16:45:26.698Z"
   },
   {
    "duration": 20,
    "start_time": "2022-01-26T16:45:26.791Z"
   },
   {
    "duration": 31,
    "start_time": "2022-01-26T16:45:26.815Z"
   },
   {
    "duration": 1439,
    "start_time": "2022-01-27T03:58:44.053Z"
   },
   {
    "duration": 112,
    "start_time": "2022-01-27T03:58:45.495Z"
   },
   {
    "duration": 15,
    "start_time": "2022-01-27T03:58:45.610Z"
   },
   {
    "duration": 9,
    "start_time": "2022-01-27T03:58:45.628Z"
   },
   {
    "duration": 17,
    "start_time": "2022-01-27T03:58:45.639Z"
   },
   {
    "duration": 37,
    "start_time": "2022-01-27T03:58:45.659Z"
   },
   {
    "duration": 42,
    "start_time": "2022-01-27T03:58:45.698Z"
   },
   {
    "duration": 13,
    "start_time": "2022-01-27T03:58:45.744Z"
   },
   {
    "duration": 19,
    "start_time": "2022-01-27T03:58:45.760Z"
   },
   {
    "duration": 52,
    "start_time": "2022-01-27T03:58:45.782Z"
   },
   {
    "duration": 20,
    "start_time": "2022-01-27T03:58:45.836Z"
   },
   {
    "duration": 570,
    "start_time": "2022-01-27T03:58:45.858Z"
   },
   {
    "duration": 361,
    "start_time": "2022-01-27T03:58:46.433Z"
   },
   {
    "duration": 339,
    "start_time": "2022-01-27T03:58:46.796Z"
   },
   {
    "duration": 447,
    "start_time": "2022-01-27T03:58:47.137Z"
   },
   {
    "duration": 337,
    "start_time": "2022-01-27T03:58:47.586Z"
   },
   {
    "duration": 522,
    "start_time": "2022-01-27T03:58:47.933Z"
   },
   {
    "duration": 12,
    "start_time": "2022-01-27T03:58:48.457Z"
   },
   {
    "duration": 886,
    "start_time": "2022-01-27T03:58:48.471Z"
   },
   {
    "duration": 7,
    "start_time": "2022-01-27T03:58:49.360Z"
   },
   {
    "duration": 13,
    "start_time": "2022-01-27T03:58:49.369Z"
   },
   {
    "duration": 670,
    "start_time": "2022-01-27T03:58:49.385Z"
   },
   {
    "duration": 443,
    "start_time": "2022-01-27T03:58:50.059Z"
   },
   {
    "duration": 7,
    "start_time": "2022-01-27T03:58:50.505Z"
   },
   {
    "duration": 245,
    "start_time": "2022-01-27T03:58:50.514Z"
   },
   {
    "duration": 13,
    "start_time": "2022-01-27T03:58:50.762Z"
   },
   {
    "duration": 15,
    "start_time": "2022-01-27T03:58:50.777Z"
   },
   {
    "duration": 42,
    "start_time": "2022-01-27T03:58:50.794Z"
   },
   {
    "duration": 16,
    "start_time": "2022-01-27T03:58:50.839Z"
   },
   {
    "duration": 20,
    "start_time": "2022-01-27T03:58:50.857Z"
   }
  ],
  "kernelspec": {
   "display_name": "Python 3 (ipykernel)",
   "language": "python",
   "name": "python3"
  },
  "language_info": {
   "codemirror_mode": {
    "name": "ipython",
    "version": 3
   },
   "file_extension": ".py",
   "mimetype": "text/x-python",
   "name": "python",
   "nbconvert_exporter": "python",
   "pygments_lexer": "ipython3",
   "version": "3.9.7"
  },
  "toc": {
   "base_numbering": 1,
   "nav_menu": {},
   "number_sections": false,
   "sideBar": true,
   "skip_h1_title": true,
   "title_cell": "Содержание",
   "title_sidebar": "Содержание",
   "toc_cell": false,
   "toc_position": {},
   "toc_section_display": true,
   "toc_window_display": true
  }
 },
 "nbformat": 4,
 "nbformat_minor": 2
}
