{
 "cells": [
  {
   "cell_type": "markdown",
   "metadata": {},
   "source": [
    "# Исследование надёжности заёмщиков\n",
    "\n",
    "Заказчик — кредитный отдел банка. Нужно разобраться, влияет ли семейное положение и количество детей клиента на факт погашения кредита в срок. Для этого рассмотрим несколько предположений:\n",
    "* [Наличие зависимости между наличием детей и возвратом кредита в срок.](#the_first_question)\n",
    "* [Наличие зависимости между семейным положением и возвратом кредита в срок.](#the_second_question)\n",
    "* [Наличие зависимости между уровнем дохода и возвратом кредита в срок.](#the_third_question)\n",
    "* [Влияние разных целей кредита на его возврат в срок.](#the_fourth_question)\n",
    "\n",
    "На основе этих тезисов сделаем вывод о том, как выглядит наиболее надежный заёмщик.\n",
    "\n",
    "Входные данные от банка — статистика о платёжеспособности клиентов.\n",
    "\n",
    "Результаты исследования будут учтены при построении модели **кредитного скоринга** — специальной системы, которая оценивает способность потенциального заёмщика вернуть кредит банку."
   ]
  },
  {
   "cell_type": "markdown",
   "metadata": {},
   "source": [
    "## Изучение общей информации"
   ]
  },
  {
   "cell_type": "code",
   "execution_count": 34,
   "metadata": {},
   "outputs": [],
   "source": [
    "import pandas as pd\n",
    "from pymystem3 import Mystem"
   ]
  },
  {
   "cell_type": "code",
   "execution_count": 35,
   "metadata": {
    "scrolled": true
   },
   "outputs": [
    {
     "name": "stdout",
     "output_type": "stream",
     "text": [
      "Первые 5 строк полученного массива данных:\n"
     ]
    },
    {
     "data": {
      "text/html": [
       "<div>\n",
       "<style scoped>\n",
       "    .dataframe tbody tr th:only-of-type {\n",
       "        vertical-align: middle;\n",
       "    }\n",
       "\n",
       "    .dataframe tbody tr th {\n",
       "        vertical-align: top;\n",
       "    }\n",
       "\n",
       "    .dataframe thead th {\n",
       "        text-align: right;\n",
       "    }\n",
       "</style>\n",
       "<table border=\"1\" class=\"dataframe\">\n",
       "  <thead>\n",
       "    <tr style=\"text-align: right;\">\n",
       "      <th></th>\n",
       "      <th>children</th>\n",
       "      <th>days_employed</th>\n",
       "      <th>dob_years</th>\n",
       "      <th>education</th>\n",
       "      <th>education_id</th>\n",
       "      <th>family_status</th>\n",
       "      <th>family_status_id</th>\n",
       "      <th>gender</th>\n",
       "      <th>income_type</th>\n",
       "      <th>debt</th>\n",
       "      <th>total_income</th>\n",
       "      <th>purpose</th>\n",
       "    </tr>\n",
       "  </thead>\n",
       "  <tbody>\n",
       "    <tr>\n",
       "      <td>0</td>\n",
       "      <td>1</td>\n",
       "      <td>-8437.673028</td>\n",
       "      <td>42</td>\n",
       "      <td>высшее</td>\n",
       "      <td>0</td>\n",
       "      <td>женат / замужем</td>\n",
       "      <td>0</td>\n",
       "      <td>F</td>\n",
       "      <td>сотрудник</td>\n",
       "      <td>0</td>\n",
       "      <td>253875.639453</td>\n",
       "      <td>покупка жилья</td>\n",
       "    </tr>\n",
       "    <tr>\n",
       "      <td>1</td>\n",
       "      <td>1</td>\n",
       "      <td>-4024.803754</td>\n",
       "      <td>36</td>\n",
       "      <td>среднее</td>\n",
       "      <td>1</td>\n",
       "      <td>женат / замужем</td>\n",
       "      <td>0</td>\n",
       "      <td>F</td>\n",
       "      <td>сотрудник</td>\n",
       "      <td>0</td>\n",
       "      <td>112080.014102</td>\n",
       "      <td>приобретение автомобиля</td>\n",
       "    </tr>\n",
       "    <tr>\n",
       "      <td>2</td>\n",
       "      <td>0</td>\n",
       "      <td>-5623.422610</td>\n",
       "      <td>33</td>\n",
       "      <td>Среднее</td>\n",
       "      <td>1</td>\n",
       "      <td>женат / замужем</td>\n",
       "      <td>0</td>\n",
       "      <td>M</td>\n",
       "      <td>сотрудник</td>\n",
       "      <td>0</td>\n",
       "      <td>145885.952297</td>\n",
       "      <td>покупка жилья</td>\n",
       "    </tr>\n",
       "    <tr>\n",
       "      <td>3</td>\n",
       "      <td>3</td>\n",
       "      <td>-4124.747207</td>\n",
       "      <td>32</td>\n",
       "      <td>среднее</td>\n",
       "      <td>1</td>\n",
       "      <td>женат / замужем</td>\n",
       "      <td>0</td>\n",
       "      <td>M</td>\n",
       "      <td>сотрудник</td>\n",
       "      <td>0</td>\n",
       "      <td>267628.550329</td>\n",
       "      <td>дополнительное образование</td>\n",
       "    </tr>\n",
       "    <tr>\n",
       "      <td>4</td>\n",
       "      <td>0</td>\n",
       "      <td>340266.072047</td>\n",
       "      <td>53</td>\n",
       "      <td>среднее</td>\n",
       "      <td>1</td>\n",
       "      <td>гражданский брак</td>\n",
       "      <td>1</td>\n",
       "      <td>F</td>\n",
       "      <td>пенсионер</td>\n",
       "      <td>0</td>\n",
       "      <td>158616.077870</td>\n",
       "      <td>сыграть свадьбу</td>\n",
       "    </tr>\n",
       "  </tbody>\n",
       "</table>\n",
       "</div>"
      ],
      "text/plain": [
       "   children  days_employed  dob_years education  education_id  \\\n",
       "0         1   -8437.673028         42    высшее             0   \n",
       "1         1   -4024.803754         36   среднее             1   \n",
       "2         0   -5623.422610         33   Среднее             1   \n",
       "3         3   -4124.747207         32   среднее             1   \n",
       "4         0  340266.072047         53   среднее             1   \n",
       "\n",
       "      family_status  family_status_id gender income_type  debt   total_income  \\\n",
       "0   женат / замужем                 0      F   сотрудник     0  253875.639453   \n",
       "1   женат / замужем                 0      F   сотрудник     0  112080.014102   \n",
       "2   женат / замужем                 0      M   сотрудник     0  145885.952297   \n",
       "3   женат / замужем                 0      M   сотрудник     0  267628.550329   \n",
       "4  гражданский брак                 1      F   пенсионер     0  158616.077870   \n",
       "\n",
       "                      purpose  \n",
       "0               покупка жилья  \n",
       "1     приобретение автомобиля  \n",
       "2               покупка жилья  \n",
       "3  дополнительное образование  \n",
       "4             сыграть свадьбу  "
      ]
     },
     "execution_count": 35,
     "metadata": {},
     "output_type": "execute_result"
    }
   ],
   "source": [
    "# Изучим первые 5 строк полученных данных.\n",
    "clients = pd.read_csv('/datasets/data.csv').copy()\n",
    "\n",
    "print('Первые 5 строк полученного массива данных:')\n",
    "clients.head()"
   ]
  },
  {
   "cell_type": "code",
   "execution_count": 36,
   "metadata": {
    "scrolled": false
   },
   "outputs": [
    {
     "name": "stdout",
     "output_type": "stream",
     "text": [
      "Последние 5 строк полученного массива данных:\n"
     ]
    },
    {
     "data": {
      "text/html": [
       "<div>\n",
       "<style scoped>\n",
       "    .dataframe tbody tr th:only-of-type {\n",
       "        vertical-align: middle;\n",
       "    }\n",
       "\n",
       "    .dataframe tbody tr th {\n",
       "        vertical-align: top;\n",
       "    }\n",
       "\n",
       "    .dataframe thead th {\n",
       "        text-align: right;\n",
       "    }\n",
       "</style>\n",
       "<table border=\"1\" class=\"dataframe\">\n",
       "  <thead>\n",
       "    <tr style=\"text-align: right;\">\n",
       "      <th></th>\n",
       "      <th>children</th>\n",
       "      <th>days_employed</th>\n",
       "      <th>dob_years</th>\n",
       "      <th>education</th>\n",
       "      <th>education_id</th>\n",
       "      <th>family_status</th>\n",
       "      <th>family_status_id</th>\n",
       "      <th>gender</th>\n",
       "      <th>income_type</th>\n",
       "      <th>debt</th>\n",
       "      <th>total_income</th>\n",
       "      <th>purpose</th>\n",
       "    </tr>\n",
       "  </thead>\n",
       "  <tbody>\n",
       "    <tr>\n",
       "      <td>21520</td>\n",
       "      <td>1</td>\n",
       "      <td>-4529.316663</td>\n",
       "      <td>43</td>\n",
       "      <td>среднее</td>\n",
       "      <td>1</td>\n",
       "      <td>гражданский брак</td>\n",
       "      <td>1</td>\n",
       "      <td>F</td>\n",
       "      <td>компаньон</td>\n",
       "      <td>0</td>\n",
       "      <td>224791.862382</td>\n",
       "      <td>операции с жильем</td>\n",
       "    </tr>\n",
       "    <tr>\n",
       "      <td>21521</td>\n",
       "      <td>0</td>\n",
       "      <td>343937.404131</td>\n",
       "      <td>67</td>\n",
       "      <td>среднее</td>\n",
       "      <td>1</td>\n",
       "      <td>женат / замужем</td>\n",
       "      <td>0</td>\n",
       "      <td>F</td>\n",
       "      <td>пенсионер</td>\n",
       "      <td>0</td>\n",
       "      <td>155999.806512</td>\n",
       "      <td>сделка с автомобилем</td>\n",
       "    </tr>\n",
       "    <tr>\n",
       "      <td>21522</td>\n",
       "      <td>1</td>\n",
       "      <td>-2113.346888</td>\n",
       "      <td>38</td>\n",
       "      <td>среднее</td>\n",
       "      <td>1</td>\n",
       "      <td>гражданский брак</td>\n",
       "      <td>1</td>\n",
       "      <td>M</td>\n",
       "      <td>сотрудник</td>\n",
       "      <td>1</td>\n",
       "      <td>89672.561153</td>\n",
       "      <td>недвижимость</td>\n",
       "    </tr>\n",
       "    <tr>\n",
       "      <td>21523</td>\n",
       "      <td>3</td>\n",
       "      <td>-3112.481705</td>\n",
       "      <td>38</td>\n",
       "      <td>среднее</td>\n",
       "      <td>1</td>\n",
       "      <td>женат / замужем</td>\n",
       "      <td>0</td>\n",
       "      <td>M</td>\n",
       "      <td>сотрудник</td>\n",
       "      <td>1</td>\n",
       "      <td>244093.050500</td>\n",
       "      <td>на покупку своего автомобиля</td>\n",
       "    </tr>\n",
       "    <tr>\n",
       "      <td>21524</td>\n",
       "      <td>2</td>\n",
       "      <td>-1984.507589</td>\n",
       "      <td>40</td>\n",
       "      <td>среднее</td>\n",
       "      <td>1</td>\n",
       "      <td>женат / замужем</td>\n",
       "      <td>0</td>\n",
       "      <td>F</td>\n",
       "      <td>сотрудник</td>\n",
       "      <td>0</td>\n",
       "      <td>82047.418899</td>\n",
       "      <td>на покупку автомобиля</td>\n",
       "    </tr>\n",
       "  </tbody>\n",
       "</table>\n",
       "</div>"
      ],
      "text/plain": [
       "       children  days_employed  dob_years education  education_id  \\\n",
       "21520         1   -4529.316663         43   среднее             1   \n",
       "21521         0  343937.404131         67   среднее             1   \n",
       "21522         1   -2113.346888         38   среднее             1   \n",
       "21523         3   -3112.481705         38   среднее             1   \n",
       "21524         2   -1984.507589         40   среднее             1   \n",
       "\n",
       "          family_status  family_status_id gender income_type  debt  \\\n",
       "21520  гражданский брак                 1      F   компаньон     0   \n",
       "21521   женат / замужем                 0      F   пенсионер     0   \n",
       "21522  гражданский брак                 1      M   сотрудник     1   \n",
       "21523   женат / замужем                 0      M   сотрудник     1   \n",
       "21524   женат / замужем                 0      F   сотрудник     0   \n",
       "\n",
       "        total_income                       purpose  \n",
       "21520  224791.862382             операции с жильем  \n",
       "21521  155999.806512          сделка с автомобилем  \n",
       "21522   89672.561153                  недвижимость  \n",
       "21523  244093.050500  на покупку своего автомобиля  \n",
       "21524   82047.418899         на покупку автомобиля  "
      ]
     },
     "execution_count": 36,
     "metadata": {},
     "output_type": "execute_result"
    }
   ],
   "source": [
    "print('Последние 5 строк полученного массива данных:')\n",
    "clients.tail()"
   ]
  },
  {
   "cell_type": "code",
   "execution_count": 37,
   "metadata": {},
   "outputs": [
    {
     "name": "stdout",
     "output_type": "stream",
     "text": [
      "Выведем произвольные 5 строк полученного массива данных:\n"
     ]
    },
    {
     "data": {
      "text/html": [
       "<div>\n",
       "<style scoped>\n",
       "    .dataframe tbody tr th:only-of-type {\n",
       "        vertical-align: middle;\n",
       "    }\n",
       "\n",
       "    .dataframe tbody tr th {\n",
       "        vertical-align: top;\n",
       "    }\n",
       "\n",
       "    .dataframe thead th {\n",
       "        text-align: right;\n",
       "    }\n",
       "</style>\n",
       "<table border=\"1\" class=\"dataframe\">\n",
       "  <thead>\n",
       "    <tr style=\"text-align: right;\">\n",
       "      <th></th>\n",
       "      <th>children</th>\n",
       "      <th>days_employed</th>\n",
       "      <th>dob_years</th>\n",
       "      <th>education</th>\n",
       "      <th>education_id</th>\n",
       "      <th>family_status</th>\n",
       "      <th>family_status_id</th>\n",
       "      <th>gender</th>\n",
       "      <th>income_type</th>\n",
       "      <th>debt</th>\n",
       "      <th>total_income</th>\n",
       "      <th>purpose</th>\n",
       "    </tr>\n",
       "  </thead>\n",
       "  <tbody>\n",
       "    <tr>\n",
       "      <td>1719</td>\n",
       "      <td>0</td>\n",
       "      <td>374049.572829</td>\n",
       "      <td>58</td>\n",
       "      <td>среднее</td>\n",
       "      <td>1</td>\n",
       "      <td>женат / замужем</td>\n",
       "      <td>0</td>\n",
       "      <td>F</td>\n",
       "      <td>пенсионер</td>\n",
       "      <td>0</td>\n",
       "      <td>190286.376012</td>\n",
       "      <td>покупка жилья для семьи</td>\n",
       "    </tr>\n",
       "    <tr>\n",
       "      <td>16620</td>\n",
       "      <td>1</td>\n",
       "      <td>-321.394320</td>\n",
       "      <td>39</td>\n",
       "      <td>высшее</td>\n",
       "      <td>0</td>\n",
       "      <td>гражданский брак</td>\n",
       "      <td>1</td>\n",
       "      <td>F</td>\n",
       "      <td>компаньон</td>\n",
       "      <td>0</td>\n",
       "      <td>439279.558662</td>\n",
       "      <td>образование</td>\n",
       "    </tr>\n",
       "    <tr>\n",
       "      <td>3584</td>\n",
       "      <td>0</td>\n",
       "      <td>NaN</td>\n",
       "      <td>58</td>\n",
       "      <td>среднее</td>\n",
       "      <td>1</td>\n",
       "      <td>женат / замужем</td>\n",
       "      <td>0</td>\n",
       "      <td>F</td>\n",
       "      <td>пенсионер</td>\n",
       "      <td>0</td>\n",
       "      <td>NaN</td>\n",
       "      <td>получение дополнительного образования</td>\n",
       "    </tr>\n",
       "    <tr>\n",
       "      <td>15021</td>\n",
       "      <td>0</td>\n",
       "      <td>NaN</td>\n",
       "      <td>60</td>\n",
       "      <td>высшее</td>\n",
       "      <td>0</td>\n",
       "      <td>женат / замужем</td>\n",
       "      <td>0</td>\n",
       "      <td>F</td>\n",
       "      <td>пенсионер</td>\n",
       "      <td>1</td>\n",
       "      <td>NaN</td>\n",
       "      <td>автомобили</td>\n",
       "    </tr>\n",
       "    <tr>\n",
       "      <td>8097</td>\n",
       "      <td>0</td>\n",
       "      <td>-940.515480</td>\n",
       "      <td>29</td>\n",
       "      <td>Высшее</td>\n",
       "      <td>0</td>\n",
       "      <td>женат / замужем</td>\n",
       "      <td>0</td>\n",
       "      <td>M</td>\n",
       "      <td>сотрудник</td>\n",
       "      <td>0</td>\n",
       "      <td>239474.422339</td>\n",
       "      <td>операции с недвижимостью</td>\n",
       "    </tr>\n",
       "  </tbody>\n",
       "</table>\n",
       "</div>"
      ],
      "text/plain": [
       "       children  days_employed  dob_years education  education_id  \\\n",
       "1719          0  374049.572829         58   среднее             1   \n",
       "16620         1    -321.394320         39    высшее             0   \n",
       "3584          0            NaN         58   среднее             1   \n",
       "15021         0            NaN         60    высшее             0   \n",
       "8097          0    -940.515480         29    Высшее             0   \n",
       "\n",
       "          family_status  family_status_id gender income_type  debt  \\\n",
       "1719    женат / замужем                 0      F   пенсионер     0   \n",
       "16620  гражданский брак                 1      F   компаньон     0   \n",
       "3584    женат / замужем                 0      F   пенсионер     0   \n",
       "15021   женат / замужем                 0      F   пенсионер     1   \n",
       "8097    женат / замужем                 0      M   сотрудник     0   \n",
       "\n",
       "        total_income                                purpose  \n",
       "1719   190286.376012                покупка жилья для семьи  \n",
       "16620  439279.558662                            образование  \n",
       "3584             NaN  получение дополнительного образования  \n",
       "15021            NaN                             автомобили  \n",
       "8097   239474.422339               операции с недвижимостью  "
      ]
     },
     "execution_count": 37,
     "metadata": {},
     "output_type": "execute_result"
    }
   ],
   "source": [
    "print('Выведем произвольные 5 строк полученного массива данных:')\n",
    "clients.sample(n=5, random_state=10)"
   ]
  },
  {
   "cell_type": "code",
   "execution_count": 38,
   "metadata": {
    "scrolled": false
   },
   "outputs": [
    {
     "name": "stdout",
     "output_type": "stream",
     "text": [
      "<class 'pandas.core.frame.DataFrame'>\n",
      "RangeIndex: 21525 entries, 0 to 21524\n",
      "Data columns (total 12 columns):\n",
      "children            21525 non-null int64\n",
      "days_employed       19351 non-null float64\n",
      "dob_years           21525 non-null int64\n",
      "education           21525 non-null object\n",
      "education_id        21525 non-null int64\n",
      "family_status       21525 non-null object\n",
      "family_status_id    21525 non-null int64\n",
      "gender              21525 non-null object\n",
      "income_type         21525 non-null object\n",
      "debt                21525 non-null int64\n",
      "total_income        19351 non-null float64\n",
      "purpose             21525 non-null object\n",
      "dtypes: float64(2), int64(5), object(5)\n",
      "memory usage: 2.0+ MB\n"
     ]
    }
   ],
   "source": [
    "# Выведем общую информацию о массиве.\n",
    "clients.info()"
   ]
  },
  {
   "cell_type": "code",
   "execution_count": 39,
   "metadata": {
    "scrolled": true
   },
   "outputs": [
    {
     "data": {
      "text/html": [
       "<div>\n",
       "<style scoped>\n",
       "    .dataframe tbody tr th:only-of-type {\n",
       "        vertical-align: middle;\n",
       "    }\n",
       "\n",
       "    .dataframe tbody tr th {\n",
       "        vertical-align: top;\n",
       "    }\n",
       "\n",
       "    .dataframe thead th {\n",
       "        text-align: right;\n",
       "    }\n",
       "</style>\n",
       "<table border=\"1\" class=\"dataframe\">\n",
       "  <thead>\n",
       "    <tr style=\"text-align: right;\">\n",
       "      <th></th>\n",
       "      <th>count</th>\n",
       "      <th>mean</th>\n",
       "      <th>std</th>\n",
       "      <th>min</th>\n",
       "      <th>25%</th>\n",
       "      <th>50%</th>\n",
       "      <th>75%</th>\n",
       "      <th>max</th>\n",
       "    </tr>\n",
       "  </thead>\n",
       "  <tbody>\n",
       "    <tr>\n",
       "      <td>children</td>\n",
       "      <td>21525.0</td>\n",
       "      <td>0.538908</td>\n",
       "      <td>1.381587</td>\n",
       "      <td>-1.000000</td>\n",
       "      <td>0.000000</td>\n",
       "      <td>0.000000</td>\n",
       "      <td>1.000000</td>\n",
       "      <td>2.000000e+01</td>\n",
       "    </tr>\n",
       "    <tr>\n",
       "      <td>days_employed</td>\n",
       "      <td>19351.0</td>\n",
       "      <td>63046.497661</td>\n",
       "      <td>140827.311974</td>\n",
       "      <td>-18388.949901</td>\n",
       "      <td>-2747.423625</td>\n",
       "      <td>-1203.369529</td>\n",
       "      <td>-291.095954</td>\n",
       "      <td>4.017554e+05</td>\n",
       "    </tr>\n",
       "    <tr>\n",
       "      <td>dob_years</td>\n",
       "      <td>21525.0</td>\n",
       "      <td>43.293380</td>\n",
       "      <td>12.574584</td>\n",
       "      <td>0.000000</td>\n",
       "      <td>33.000000</td>\n",
       "      <td>42.000000</td>\n",
       "      <td>53.000000</td>\n",
       "      <td>7.500000e+01</td>\n",
       "    </tr>\n",
       "    <tr>\n",
       "      <td>education_id</td>\n",
       "      <td>21525.0</td>\n",
       "      <td>0.817236</td>\n",
       "      <td>0.548138</td>\n",
       "      <td>0.000000</td>\n",
       "      <td>1.000000</td>\n",
       "      <td>1.000000</td>\n",
       "      <td>1.000000</td>\n",
       "      <td>4.000000e+00</td>\n",
       "    </tr>\n",
       "    <tr>\n",
       "      <td>family_status_id</td>\n",
       "      <td>21525.0</td>\n",
       "      <td>0.972544</td>\n",
       "      <td>1.420324</td>\n",
       "      <td>0.000000</td>\n",
       "      <td>0.000000</td>\n",
       "      <td>0.000000</td>\n",
       "      <td>1.000000</td>\n",
       "      <td>4.000000e+00</td>\n",
       "    </tr>\n",
       "    <tr>\n",
       "      <td>debt</td>\n",
       "      <td>21525.0</td>\n",
       "      <td>0.080883</td>\n",
       "      <td>0.272661</td>\n",
       "      <td>0.000000</td>\n",
       "      <td>0.000000</td>\n",
       "      <td>0.000000</td>\n",
       "      <td>0.000000</td>\n",
       "      <td>1.000000e+00</td>\n",
       "    </tr>\n",
       "    <tr>\n",
       "      <td>total_income</td>\n",
       "      <td>19351.0</td>\n",
       "      <td>167422.302208</td>\n",
       "      <td>102971.566448</td>\n",
       "      <td>20667.263793</td>\n",
       "      <td>103053.152913</td>\n",
       "      <td>145017.937533</td>\n",
       "      <td>203435.067663</td>\n",
       "      <td>2.265604e+06</td>\n",
       "    </tr>\n",
       "  </tbody>\n",
       "</table>\n",
       "</div>"
      ],
      "text/plain": [
       "                    count           mean            std           min  \\\n",
       "children          21525.0       0.538908       1.381587     -1.000000   \n",
       "days_employed     19351.0   63046.497661  140827.311974 -18388.949901   \n",
       "dob_years         21525.0      43.293380      12.574584      0.000000   \n",
       "education_id      21525.0       0.817236       0.548138      0.000000   \n",
       "family_status_id  21525.0       0.972544       1.420324      0.000000   \n",
       "debt              21525.0       0.080883       0.272661      0.000000   \n",
       "total_income      19351.0  167422.302208  102971.566448  20667.263793   \n",
       "\n",
       "                            25%            50%            75%           max  \n",
       "children               0.000000       0.000000       1.000000  2.000000e+01  \n",
       "days_employed      -2747.423625   -1203.369529    -291.095954  4.017554e+05  \n",
       "dob_years             33.000000      42.000000      53.000000  7.500000e+01  \n",
       "education_id           1.000000       1.000000       1.000000  4.000000e+00  \n",
       "family_status_id       0.000000       0.000000       1.000000  4.000000e+00  \n",
       "debt                   0.000000       0.000000       0.000000  1.000000e+00  \n",
       "total_income      103053.152913  145017.937533  203435.067663  2.265604e+06  "
      ]
     },
     "execution_count": 39,
     "metadata": {},
     "output_type": "execute_result"
    }
   ],
   "source": [
    "clients.describe().T"
   ]
  },
  {
   "cell_type": "markdown",
   "metadata": {},
   "source": [
    "Из описания датасета можем видеть, что \n",
    "* Максимальное количество детей `20`, а минимальное `-1`. Эта ошибка могла быть вызвана опечаткой при заполнении массива данных.\n",
    "* Так же видно, что большая часть дней трудового стажа имеет отрицательные величины, а максимальная величина в этой колонке - `401755.4 дней` - превышает продолжительность жизни.\n",
    "* Минимальный возраст клиента - `0 лет`, чего быть не может.\n",
    "* `2174` пропусков содержат столбцы с ежемесячным доходом и трудовым стажем."
   ]
  },
  {
   "cell_type": "markdown",
   "metadata": {},
   "source": [
    "# Вывод"
   ]
  },
  {
   "cell_type": "markdown",
   "metadata": {},
   "source": [
    "**Общая информация о файле с данными:**\n",
    "\n",
    "В каждой строке таблицы содержатся данные о клиенте. Часть колонок описывает самого клиента: возраст, образование, пол, семейное положение и количество детей. Остальные данные рассказывают о финансовом положении: трудовой стаж, тип занятости, ежемесячный доход и наличие задолженности.\n",
    "\n",
    "**Описание записи данных:**\n",
    "\n",
    "Всего в таблице 12 столбцов с различными типами данных, названия колонок записаны без нарушения хорошего стиля. Однако, в данных встречаются пропуски, так как количество значений в столбцах `days_employed` и `total_income` отличается от количества значений в остальных колонках. Помимо пропусков, большая часть дней трудового стажа имеет отрицательные значения, чего быть не должно."
   ]
  },
  {
   "cell_type": "markdown",
   "metadata": {},
   "source": [
    "## Предобработка данных"
   ]
  },
  {
   "cell_type": "markdown",
   "metadata": {},
   "source": [
    "### Обработка пропусков"
   ]
  },
  {
   "cell_type": "code",
   "execution_count": 40,
   "metadata": {
    "scrolled": true
   },
   "outputs": [
    {
     "data": {
      "text/plain": [
       "children               0\n",
       "days_employed       2174\n",
       "dob_years              0\n",
       "education              0\n",
       "education_id           0\n",
       "family_status          0\n",
       "family_status_id       0\n",
       "gender                 0\n",
       "income_type            0\n",
       "debt                   0\n",
       "total_income        2174\n",
       "purpose                0\n",
       "dtype: int64"
      ]
     },
     "execution_count": 40,
     "metadata": {},
     "output_type": "execute_result"
    }
   ],
   "source": [
    "# Просмотрим количество пропусков в каждой колонке.\n",
    "clients.isna().sum()"
   ]
  },
  {
   "cell_type": "code",
   "execution_count": 41,
   "metadata": {
    "scrolled": false
   },
   "outputs": [
    {
     "name": "stdout",
     "output_type": "stream",
     "text": [
      "<class 'pandas.core.frame.DataFrame'>\n",
      "RangeIndex: 21525 entries, 0 to 21524\n",
      "Data columns (total 12 columns):\n",
      "children            21525 non-null int64\n",
      "days_employed       21525 non-null float64\n",
      "dob_years           21525 non-null int64\n",
      "education           21525 non-null object\n",
      "education_id        21525 non-null int64\n",
      "family_status       21525 non-null object\n",
      "family_status_id    21525 non-null int64\n",
      "gender              21525 non-null object\n",
      "income_type         21525 non-null object\n",
      "debt                21525 non-null int64\n",
      "total_income        21525 non-null float64\n",
      "purpose             21525 non-null object\n",
      "dtypes: float64(2), int64(5), object(5)\n",
      "memory usage: 2.0+ MB\n"
     ]
    }
   ],
   "source": [
    "# Найдем медианные значения для ежемесячного дохода и общего трудового стажа в каждой группе.\n",
    "median_values = clients.pivot_table(index='income_type', values=['total_income', 'days_employed'], aggfunc='median')\n",
    "\n",
    "# Объединим полученную сводную таблицу и исходные данные\n",
    "clients_with_medians = clients.merge(median_values, on='income_type', how='left')\n",
    "\n",
    "# Заполним пропуски в трудовом стаже и ежемесячном доходе данными из таблицы с медианными значениями.\n",
    "clients['days_employed'] = clients['days_employed'].fillna(clients_with_medians['days_employed_y'])\n",
    "clients['total_income'] = clients['total_income'].fillna(clients_with_medians['total_income_y'])\n",
    "\n",
    "# Удалим промежуточный датафрейм, который больше не пригодится.\n",
    "del clients_with_medians\n",
    "clients.info()"
   ]
  },
  {
   "cell_type": "code",
   "execution_count": 42,
   "metadata": {
    "scrolled": false
   },
   "outputs": [
    {
     "data": {
      "text/html": [
       "<div>\n",
       "<style scoped>\n",
       "    .dataframe tbody tr th:only-of-type {\n",
       "        vertical-align: middle;\n",
       "    }\n",
       "\n",
       "    .dataframe tbody tr th {\n",
       "        vertical-align: top;\n",
       "    }\n",
       "\n",
       "    .dataframe thead th {\n",
       "        text-align: right;\n",
       "    }\n",
       "</style>\n",
       "<table border=\"1\" class=\"dataframe\">\n",
       "  <thead>\n",
       "    <tr style=\"text-align: right;\">\n",
       "      <th></th>\n",
       "      <th>children</th>\n",
       "      <th>days_employed</th>\n",
       "      <th>dob_years</th>\n",
       "      <th>education</th>\n",
       "      <th>education_id</th>\n",
       "      <th>family_status</th>\n",
       "      <th>family_status_id</th>\n",
       "      <th>gender</th>\n",
       "      <th>income_type</th>\n",
       "      <th>debt</th>\n",
       "      <th>total_income</th>\n",
       "      <th>purpose</th>\n",
       "    </tr>\n",
       "  </thead>\n",
       "  <tbody>\n",
       "    <tr>\n",
       "      <td>0</td>\n",
       "      <td>1</td>\n",
       "      <td>8437.673028</td>\n",
       "      <td>42</td>\n",
       "      <td>высшее</td>\n",
       "      <td>0</td>\n",
       "      <td>женат / замужем</td>\n",
       "      <td>0</td>\n",
       "      <td>F</td>\n",
       "      <td>сотрудник</td>\n",
       "      <td>0</td>\n",
       "      <td>253875.639453</td>\n",
       "      <td>покупка жилья</td>\n",
       "    </tr>\n",
       "    <tr>\n",
       "      <td>1</td>\n",
       "      <td>1</td>\n",
       "      <td>4024.803754</td>\n",
       "      <td>36</td>\n",
       "      <td>среднее</td>\n",
       "      <td>1</td>\n",
       "      <td>женат / замужем</td>\n",
       "      <td>0</td>\n",
       "      <td>F</td>\n",
       "      <td>сотрудник</td>\n",
       "      <td>0</td>\n",
       "      <td>112080.014102</td>\n",
       "      <td>приобретение автомобиля</td>\n",
       "    </tr>\n",
       "    <tr>\n",
       "      <td>2</td>\n",
       "      <td>0</td>\n",
       "      <td>5623.422610</td>\n",
       "      <td>33</td>\n",
       "      <td>Среднее</td>\n",
       "      <td>1</td>\n",
       "      <td>женат / замужем</td>\n",
       "      <td>0</td>\n",
       "      <td>M</td>\n",
       "      <td>сотрудник</td>\n",
       "      <td>0</td>\n",
       "      <td>145885.952297</td>\n",
       "      <td>покупка жилья</td>\n",
       "    </tr>\n",
       "    <tr>\n",
       "      <td>3</td>\n",
       "      <td>3</td>\n",
       "      <td>4124.747207</td>\n",
       "      <td>32</td>\n",
       "      <td>среднее</td>\n",
       "      <td>1</td>\n",
       "      <td>женат / замужем</td>\n",
       "      <td>0</td>\n",
       "      <td>M</td>\n",
       "      <td>сотрудник</td>\n",
       "      <td>0</td>\n",
       "      <td>267628.550329</td>\n",
       "      <td>дополнительное образование</td>\n",
       "    </tr>\n",
       "    <tr>\n",
       "      <td>4</td>\n",
       "      <td>0</td>\n",
       "      <td>340266.072047</td>\n",
       "      <td>53</td>\n",
       "      <td>среднее</td>\n",
       "      <td>1</td>\n",
       "      <td>гражданский брак</td>\n",
       "      <td>1</td>\n",
       "      <td>F</td>\n",
       "      <td>пенсионер</td>\n",
       "      <td>0</td>\n",
       "      <td>158616.077870</td>\n",
       "      <td>сыграть свадьбу</td>\n",
       "    </tr>\n",
       "    <tr>\n",
       "      <td>5</td>\n",
       "      <td>0</td>\n",
       "      <td>926.185831</td>\n",
       "      <td>27</td>\n",
       "      <td>высшее</td>\n",
       "      <td>0</td>\n",
       "      <td>гражданский брак</td>\n",
       "      <td>1</td>\n",
       "      <td>M</td>\n",
       "      <td>компаньон</td>\n",
       "      <td>0</td>\n",
       "      <td>255763.565419</td>\n",
       "      <td>покупка жилья</td>\n",
       "    </tr>\n",
       "    <tr>\n",
       "      <td>6</td>\n",
       "      <td>0</td>\n",
       "      <td>2879.202052</td>\n",
       "      <td>43</td>\n",
       "      <td>высшее</td>\n",
       "      <td>0</td>\n",
       "      <td>женат / замужем</td>\n",
       "      <td>0</td>\n",
       "      <td>F</td>\n",
       "      <td>компаньон</td>\n",
       "      <td>0</td>\n",
       "      <td>240525.971920</td>\n",
       "      <td>операции с жильем</td>\n",
       "    </tr>\n",
       "    <tr>\n",
       "      <td>7</td>\n",
       "      <td>0</td>\n",
       "      <td>152.779569</td>\n",
       "      <td>50</td>\n",
       "      <td>СРЕДНЕЕ</td>\n",
       "      <td>1</td>\n",
       "      <td>женат / замужем</td>\n",
       "      <td>0</td>\n",
       "      <td>M</td>\n",
       "      <td>сотрудник</td>\n",
       "      <td>0</td>\n",
       "      <td>135823.934197</td>\n",
       "      <td>образование</td>\n",
       "    </tr>\n",
       "    <tr>\n",
       "      <td>8</td>\n",
       "      <td>2</td>\n",
       "      <td>6929.865299</td>\n",
       "      <td>35</td>\n",
       "      <td>ВЫСШЕЕ</td>\n",
       "      <td>0</td>\n",
       "      <td>гражданский брак</td>\n",
       "      <td>1</td>\n",
       "      <td>F</td>\n",
       "      <td>сотрудник</td>\n",
       "      <td>0</td>\n",
       "      <td>95856.832424</td>\n",
       "      <td>на проведение свадьбы</td>\n",
       "    </tr>\n",
       "    <tr>\n",
       "      <td>9</td>\n",
       "      <td>0</td>\n",
       "      <td>2188.756445</td>\n",
       "      <td>41</td>\n",
       "      <td>среднее</td>\n",
       "      <td>1</td>\n",
       "      <td>женат / замужем</td>\n",
       "      <td>0</td>\n",
       "      <td>M</td>\n",
       "      <td>сотрудник</td>\n",
       "      <td>0</td>\n",
       "      <td>144425.938277</td>\n",
       "      <td>покупка жилья для семьи</td>\n",
       "    </tr>\n",
       "  </tbody>\n",
       "</table>\n",
       "</div>"
      ],
      "text/plain": [
       "   children  days_employed  dob_years education  education_id  \\\n",
       "0         1    8437.673028         42    высшее             0   \n",
       "1         1    4024.803754         36   среднее             1   \n",
       "2         0    5623.422610         33   Среднее             1   \n",
       "3         3    4124.747207         32   среднее             1   \n",
       "4         0  340266.072047         53   среднее             1   \n",
       "5         0     926.185831         27    высшее             0   \n",
       "6         0    2879.202052         43    высшее             0   \n",
       "7         0     152.779569         50   СРЕДНЕЕ             1   \n",
       "8         2    6929.865299         35    ВЫСШЕЕ             0   \n",
       "9         0    2188.756445         41   среднее             1   \n",
       "\n",
       "      family_status  family_status_id gender income_type  debt   total_income  \\\n",
       "0   женат / замужем                 0      F   сотрудник     0  253875.639453   \n",
       "1   женат / замужем                 0      F   сотрудник     0  112080.014102   \n",
       "2   женат / замужем                 0      M   сотрудник     0  145885.952297   \n",
       "3   женат / замужем                 0      M   сотрудник     0  267628.550329   \n",
       "4  гражданский брак                 1      F   пенсионер     0  158616.077870   \n",
       "5  гражданский брак                 1      M   компаньон     0  255763.565419   \n",
       "6   женат / замужем                 0      F   компаньон     0  240525.971920   \n",
       "7   женат / замужем                 0      M   сотрудник     0  135823.934197   \n",
       "8  гражданский брак                 1      F   сотрудник     0   95856.832424   \n",
       "9   женат / замужем                 0      M   сотрудник     0  144425.938277   \n",
       "\n",
       "                      purpose  \n",
       "0               покупка жилья  \n",
       "1     приобретение автомобиля  \n",
       "2               покупка жилья  \n",
       "3  дополнительное образование  \n",
       "4             сыграть свадьбу  \n",
       "5               покупка жилья  \n",
       "6           операции с жильем  \n",
       "7                 образование  \n",
       "8       на проведение свадьбы  \n",
       "9     покупка жилья для семьи  "
      ]
     },
     "execution_count": 42,
     "metadata": {},
     "output_type": "execute_result"
    }
   ],
   "source": [
    "# Меняем отрицательные значения трудового стажа на положительные.\n",
    "clients['days_employed'] = clients['days_employed'].abs()\n",
    "\n",
    "# Выведем первые 10 строк таблицы.\n",
    "clients.head(10)"
   ]
  },
  {
   "cell_type": "markdown",
   "metadata": {},
   "source": [
    "# Вывод"
   ]
  },
  {
   "cell_type": "markdown",
   "metadata": {},
   "source": [
    "После получения информации о таблице были обнаружены `2174` пропущенных значения в колонках `days_employed` и `total_income`. Это может быть связано с тем, что не все клиенты успели предоставить точные данные или справки о своей работе, которые возможно получить только через обращения в специализированные подразделения. \n",
    "\n",
    "**Изменения:**\n",
    "\n",
    "1. Чтобы заполнить пропуски, были выбраны медианные значения количества рабочих дней и ежемесячного дохода в каждой группе, определенной по типу занятости. Такой выбор обусловлен тем, что среднее арифметическое в качестве замены пропусков может не подойти, так как в колонках могут присутствовать выбросы.\n",
    "\n",
    "\n",
    "2. Так же были заменены отрицательные значения трудового стажа на положительные."
   ]
  },
  {
   "cell_type": "markdown",
   "metadata": {},
   "source": [
    "### Замена типа данных"
   ]
  },
  {
   "cell_type": "code",
   "execution_count": 43,
   "metadata": {
    "scrolled": true
   },
   "outputs": [
    {
     "name": "stdout",
     "output_type": "stream",
     "text": [
      "<class 'pandas.core.frame.DataFrame'>\n",
      "RangeIndex: 21525 entries, 0 to 21524\n",
      "Data columns (total 12 columns):\n",
      "children            21525 non-null int64\n",
      "days_employed       21525 non-null uint32\n",
      "dob_years           21525 non-null int64\n",
      "education           21525 non-null object\n",
      "education_id        21525 non-null uint8\n",
      "family_status       21525 non-null object\n",
      "family_status_id    21525 non-null uint8\n",
      "gender              21525 non-null object\n",
      "income_type         21525 non-null object\n",
      "debt                21525 non-null int64\n",
      "total_income        21525 non-null uint32\n",
      "purpose             21525 non-null object\n",
      "dtypes: int64(3), object(5), uint32(2), uint8(2)\n",
      "memory usage: 1.5+ MB\n"
     ]
    }
   ],
   "source": [
    "# Применим метод astype() для замены вещественного типа данных на целочисленный\n",
    "clients['total_income'] = clients['total_income'].astype('uint32')\n",
    "clients['days_employed'] = clients['days_employed'].astype('uint32')\n",
    "clients['education_id'] = clients['education_id'].astype('uint8')\n",
    "clients['family_status_id'] = clients['family_status_id'].astype('uint8')\n",
    "\n",
    "# Получим информацию о таблице.\n",
    "clients.info()"
   ]
  },
  {
   "cell_type": "markdown",
   "metadata": {},
   "source": [
    "# Вывод"
   ]
  },
  {
   "cell_type": "markdown",
   "metadata": {},
   "source": [
    "Требовалось провести замену вещественного типа данных на целочисленный в столбцах `total_income` и `days_employed`. Для этого был выбран метод `astype()`, так как пропуски в перечисленных колонках были устранены еще на этапе их обработки."
   ]
  },
  {
   "cell_type": "markdown",
   "metadata": {},
   "source": [
    "### Обработка дубликатов"
   ]
  },
  {
   "cell_type": "code",
   "execution_count": 44,
   "metadata": {},
   "outputs": [
    {
     "data": {
      "text/plain": [
       "['F', 'M', 'XNA']"
      ]
     },
     "execution_count": 44,
     "metadata": {},
     "output_type": "execute_result"
    }
   ],
   "source": [
    "# Получим уникальные значения в столбце gender\n",
    "clients['gender'].unique().tolist()"
   ]
  },
  {
   "cell_type": "code",
   "execution_count": 45,
   "metadata": {
    "scrolled": false
   },
   "outputs": [
    {
     "data": {
      "text/plain": [
       "['покупка жилья',\n",
       " 'приобретение автомобиля',\n",
       " 'дополнительное образование',\n",
       " 'сыграть свадьбу',\n",
       " 'операции с жильем',\n",
       " 'образование',\n",
       " 'на проведение свадьбы',\n",
       " 'покупка жилья для семьи',\n",
       " 'покупка недвижимости',\n",
       " 'покупка коммерческой недвижимости',\n",
       " 'покупка жилой недвижимости',\n",
       " 'строительство собственной недвижимости',\n",
       " 'недвижимость',\n",
       " 'строительство недвижимости',\n",
       " 'на покупку подержанного автомобиля',\n",
       " 'на покупку своего автомобиля',\n",
       " 'операции с коммерческой недвижимостью',\n",
       " 'строительство жилой недвижимости',\n",
       " 'жилье',\n",
       " 'операции со своей недвижимостью',\n",
       " 'автомобили',\n",
       " 'заняться образованием',\n",
       " 'сделка с подержанным автомобилем',\n",
       " 'получение образования',\n",
       " 'автомобиль',\n",
       " 'свадьба',\n",
       " 'получение дополнительного образования',\n",
       " 'покупка своего жилья',\n",
       " 'операции с недвижимостью',\n",
       " 'получение высшего образования',\n",
       " 'свой автомобиль',\n",
       " 'сделка с автомобилем',\n",
       " 'профильное образование',\n",
       " 'высшее образование',\n",
       " 'покупка жилья для сдачи',\n",
       " 'на покупку автомобиля',\n",
       " 'ремонт жилью',\n",
       " 'заняться высшим образованием']"
      ]
     },
     "execution_count": 45,
     "metadata": {},
     "output_type": "execute_result"
    }
   ],
   "source": [
    "# Получим уникальные значения в столбце purpose\n",
    "clients['purpose'].unique().tolist()"
   ]
  },
  {
   "cell_type": "code",
   "execution_count": 46,
   "metadata": {},
   "outputs": [
    {
     "data": {
      "text/plain": [
       "['женат / замужем',\n",
       " 'гражданский брак',\n",
       " 'вдовец / вдова',\n",
       " 'в разводе',\n",
       " 'Не женат / не замужем']"
      ]
     },
     "execution_count": 46,
     "metadata": {},
     "output_type": "execute_result"
    }
   ],
   "source": [
    "# Получим уникальные значения в столбце family_status\n",
    "clients['family_status'].unique().tolist()"
   ]
  },
  {
   "cell_type": "code",
   "execution_count": 47,
   "metadata": {
    "scrolled": false
   },
   "outputs": [
    {
     "data": {
      "text/plain": [
       "['высшее',\n",
       " 'среднее',\n",
       " 'Среднее',\n",
       " 'СРЕДНЕЕ',\n",
       " 'ВЫСШЕЕ',\n",
       " 'неоконченное высшее',\n",
       " 'начальное',\n",
       " 'Высшее',\n",
       " 'НЕОКОНЧЕННОЕ ВЫСШЕЕ',\n",
       " 'Неоконченное высшее',\n",
       " 'НАЧАЛЬНОЕ',\n",
       " 'Начальное',\n",
       " 'Ученая степень',\n",
       " 'УЧЕНАЯ СТЕПЕНЬ',\n",
       " 'ученая степень']"
      ]
     },
     "execution_count": 47,
     "metadata": {},
     "output_type": "execute_result"
    }
   ],
   "source": [
    "# Получим уникальные значения в столбце education\n",
    "clients['education'].unique().tolist()"
   ]
  },
  {
   "cell_type": "code",
   "execution_count": 48,
   "metadata": {},
   "outputs": [
    {
     "data": {
      "text/plain": [
       "0"
      ]
     },
     "execution_count": 48,
     "metadata": {},
     "output_type": "execute_result"
    }
   ],
   "source": [
    "# Приводим всю колонку с уровнем образования к нижнему регистру.\n",
    "clients['education'] = clients['education'].str.lower()\n",
    "\n",
    "# Удаляем явные дубликаты.\n",
    "clients = clients.drop_duplicates().reset_index(drop=True)\n",
    "\n",
    "# Проверяем, что дубликатов не осталось.\n",
    "clients.duplicated().sum()"
   ]
  },
  {
   "cell_type": "markdown",
   "metadata": {},
   "source": [
    "# Вывод"
   ]
  },
  {
   "cell_type": "markdown",
   "metadata": {},
   "source": [
    "**Обнаруженные дубликаты:**\n",
    "\n",
    "В колонке с уровнем образования были обнаружены одинаковые названия, записаные символами разного регистра, из-за чего невозможно было сразу же удалить все явные дубликаты. \n",
    "\n",
    "Возможная причина их появления: клиенты невнимательно читали инструкции по заполнению анкет и поэтому по-разному заполняли данный пункт. \n",
    "\n",
    "**Метод поиска дубликатов:**\n",
    "\n",
    "Сначала были просмотрены уникальные значения в столбцах, содержащих категориальные данные. После чего было выяснено, что одинаковые значения содержатся в колонке `education`.\n",
    "\n",
    "**Изменения:**\n",
    "\n",
    "1. Каждое значение в колонке `education` приведено к нижнему регистру методом `str.lower()`\n",
    "2. Удалены все явные дубликаты из таблицы, количество оставшихся явных дубликатов: `0`"
   ]
  },
  {
   "cell_type": "markdown",
   "metadata": {},
   "source": [
    "### Лемматизация"
   ]
  },
  {
   "cell_type": "code",
   "execution_count": 49,
   "metadata": {
    "scrolled": false
   },
   "outputs": [
    {
     "data": {
      "text/plain": [
       "['покупка жилья',\n",
       " 'приобретение автомобиля',\n",
       " 'дополнительное образование',\n",
       " 'сыграть свадьбу',\n",
       " 'операции с жильем',\n",
       " 'образование',\n",
       " 'на проведение свадьбы',\n",
       " 'покупка жилья для семьи',\n",
       " 'покупка недвижимости',\n",
       " 'покупка коммерческой недвижимости',\n",
       " 'покупка жилой недвижимости',\n",
       " 'строительство собственной недвижимости',\n",
       " 'недвижимость',\n",
       " 'строительство недвижимости',\n",
       " 'на покупку подержанного автомобиля',\n",
       " 'на покупку своего автомобиля',\n",
       " 'операции с коммерческой недвижимостью',\n",
       " 'строительство жилой недвижимости',\n",
       " 'жилье',\n",
       " 'операции со своей недвижимостью',\n",
       " 'автомобили',\n",
       " 'заняться образованием',\n",
       " 'сделка с подержанным автомобилем',\n",
       " 'получение образования',\n",
       " 'автомобиль',\n",
       " 'свадьба',\n",
       " 'получение дополнительного образования',\n",
       " 'покупка своего жилья',\n",
       " 'операции с недвижимостью',\n",
       " 'получение высшего образования',\n",
       " 'свой автомобиль',\n",
       " 'сделка с автомобилем',\n",
       " 'профильное образование',\n",
       " 'высшее образование',\n",
       " 'покупка жилья для сдачи',\n",
       " 'на покупку автомобиля',\n",
       " 'ремонт жилью',\n",
       " 'заняться высшим образованием']"
      ]
     },
     "execution_count": 49,
     "metadata": {},
     "output_type": "execute_result"
    }
   ],
   "source": [
    "m = Mystem()\n",
    "\n",
    "# Получим уникальные значения в столбце purpose\n",
    "clients['purpose'].unique().tolist()"
   ]
  },
  {
   "cell_type": "code",
   "execution_count": 50,
   "metadata": {},
   "outputs": [
    {
     "data": {
      "text/html": [
       "<div>\n",
       "<style scoped>\n",
       "    .dataframe tbody tr th:only-of-type {\n",
       "        vertical-align: middle;\n",
       "    }\n",
       "\n",
       "    .dataframe tbody tr th {\n",
       "        vertical-align: top;\n",
       "    }\n",
       "\n",
       "    .dataframe thead th {\n",
       "        text-align: right;\n",
       "    }\n",
       "</style>\n",
       "<table border=\"1\" class=\"dataframe\">\n",
       "  <thead>\n",
       "    <tr style=\"text-align: right;\">\n",
       "      <th></th>\n",
       "      <th>children</th>\n",
       "      <th>days_employed</th>\n",
       "      <th>dob_years</th>\n",
       "      <th>education</th>\n",
       "      <th>education_id</th>\n",
       "      <th>family_status</th>\n",
       "      <th>family_status_id</th>\n",
       "      <th>gender</th>\n",
       "      <th>income_type</th>\n",
       "      <th>debt</th>\n",
       "      <th>total_income</th>\n",
       "      <th>purpose</th>\n",
       "      <th>main_purpose</th>\n",
       "    </tr>\n",
       "  </thead>\n",
       "  <tbody>\n",
       "    <tr>\n",
       "      <td>0</td>\n",
       "      <td>1</td>\n",
       "      <td>8437</td>\n",
       "      <td>42</td>\n",
       "      <td>высшее</td>\n",
       "      <td>0</td>\n",
       "      <td>женат / замужем</td>\n",
       "      <td>0</td>\n",
       "      <td>F</td>\n",
       "      <td>сотрудник</td>\n",
       "      <td>0</td>\n",
       "      <td>253875</td>\n",
       "      <td>покупка жилья</td>\n",
       "      <td>жилье</td>\n",
       "    </tr>\n",
       "    <tr>\n",
       "      <td>1</td>\n",
       "      <td>1</td>\n",
       "      <td>4024</td>\n",
       "      <td>36</td>\n",
       "      <td>среднее</td>\n",
       "      <td>1</td>\n",
       "      <td>женат / замужем</td>\n",
       "      <td>0</td>\n",
       "      <td>F</td>\n",
       "      <td>сотрудник</td>\n",
       "      <td>0</td>\n",
       "      <td>112080</td>\n",
       "      <td>приобретение автомобиля</td>\n",
       "      <td>автомобиль</td>\n",
       "    </tr>\n",
       "    <tr>\n",
       "      <td>2</td>\n",
       "      <td>0</td>\n",
       "      <td>5623</td>\n",
       "      <td>33</td>\n",
       "      <td>среднее</td>\n",
       "      <td>1</td>\n",
       "      <td>женат / замужем</td>\n",
       "      <td>0</td>\n",
       "      <td>M</td>\n",
       "      <td>сотрудник</td>\n",
       "      <td>0</td>\n",
       "      <td>145885</td>\n",
       "      <td>покупка жилья</td>\n",
       "      <td>жилье</td>\n",
       "    </tr>\n",
       "    <tr>\n",
       "      <td>3</td>\n",
       "      <td>3</td>\n",
       "      <td>4124</td>\n",
       "      <td>32</td>\n",
       "      <td>среднее</td>\n",
       "      <td>1</td>\n",
       "      <td>женат / замужем</td>\n",
       "      <td>0</td>\n",
       "      <td>M</td>\n",
       "      <td>сотрудник</td>\n",
       "      <td>0</td>\n",
       "      <td>267628</td>\n",
       "      <td>дополнительное образование</td>\n",
       "      <td>образование</td>\n",
       "    </tr>\n",
       "    <tr>\n",
       "      <td>4</td>\n",
       "      <td>0</td>\n",
       "      <td>340266</td>\n",
       "      <td>53</td>\n",
       "      <td>среднее</td>\n",
       "      <td>1</td>\n",
       "      <td>гражданский брак</td>\n",
       "      <td>1</td>\n",
       "      <td>F</td>\n",
       "      <td>пенсионер</td>\n",
       "      <td>0</td>\n",
       "      <td>158616</td>\n",
       "      <td>сыграть свадьбу</td>\n",
       "      <td>свадьба</td>\n",
       "    </tr>\n",
       "  </tbody>\n",
       "</table>\n",
       "</div>"
      ],
      "text/plain": [
       "   children  days_employed  dob_years education  education_id  \\\n",
       "0         1           8437         42    высшее             0   \n",
       "1         1           4024         36   среднее             1   \n",
       "2         0           5623         33   среднее             1   \n",
       "3         3           4124         32   среднее             1   \n",
       "4         0         340266         53   среднее             1   \n",
       "\n",
       "      family_status  family_status_id gender income_type  debt  total_income  \\\n",
       "0   женат / замужем                 0      F   сотрудник     0        253875   \n",
       "1   женат / замужем                 0      F   сотрудник     0        112080   \n",
       "2   женат / замужем                 0      M   сотрудник     0        145885   \n",
       "3   женат / замужем                 0      M   сотрудник     0        267628   \n",
       "4  гражданский брак                 1      F   пенсионер     0        158616   \n",
       "\n",
       "                      purpose main_purpose  \n",
       "0               покупка жилья        жилье  \n",
       "1     приобретение автомобиля   автомобиль  \n",
       "2               покупка жилья        жилье  \n",
       "3  дополнительное образование  образование  \n",
       "4             сыграть свадьбу      свадьба  "
      ]
     },
     "execution_count": 50,
     "metadata": {},
     "output_type": "execute_result"
    }
   ],
   "source": [
    "# Выделим ключевые слова.\n",
    "main_purposes = ['жилье', 'автомобиль', 'свадьба', 'образование', 'недвижимость']\n",
    "\n",
    "# Создадим функцию, посредством которой произведем лемматизацию\n",
    "# и замену цели получения кредита на более обобщенную.\n",
    "def lemmatize(purpose):\n",
    "    lemma = m.lemmatize(purpose)\n",
    "    for word in main_purposes:\n",
    "        if word in lemma:\n",
    "            lemma = word\n",
    "    return lemma\n",
    "\n",
    "# Применим функцию к колонке с изначальными целями получения кредита.\n",
    "clients['main_purpose'] = clients['purpose'].apply(lemmatize)\n",
    "\n",
    "# Выведем первые 5 строк массива.\n",
    "clients.head()"
   ]
  },
  {
   "cell_type": "code",
   "execution_count": 51,
   "metadata": {},
   "outputs": [
    {
     "data": {
      "text/plain": [
       "недвижимость    6351\n",
       "жилье           4460\n",
       "автомобиль      4306\n",
       "образование     4013\n",
       "свадьба         2324\n",
       "Name: main_purpose, dtype: int64"
      ]
     },
     "execution_count": 51,
     "metadata": {},
     "output_type": "execute_result"
    }
   ],
   "source": [
    "# Количество клиентов с каждой целью:\n",
    "clients['main_purpose'].value_counts()"
   ]
  },
  {
   "cell_type": "code",
   "execution_count": 52,
   "metadata": {},
   "outputs": [
    {
     "data": {
      "text/plain": [
       "недвижимость    10811\n",
       "автомобиль       4306\n",
       "образование      4013\n",
       "свадьба          2324\n",
       "Name: main_purpose, dtype: int64"
      ]
     },
     "execution_count": 52,
     "metadata": {},
     "output_type": "execute_result"
    }
   ],
   "source": [
    "# Так как жилье входит в категорию \"недвижимость\",\n",
    "# то произведем замену.\n",
    "clients.loc[clients['main_purpose'] == 'жилье', 'main_purpose'] = 'недвижимость'\n",
    "\n",
    "# Количество клиентов с каждой целью:\n",
    "clients['main_purpose'].value_counts()"
   ]
  },
  {
   "cell_type": "markdown",
   "metadata": {},
   "source": [
    "# Вывод"
   ]
  },
  {
   "cell_type": "markdown",
   "metadata": {},
   "source": [
    "Чтобы провести лемматизацию были выделены 5 ключевых слов, встречающихся среди всех целей получения кредита. Если одно из них было в изначальной цели, то она заменялась на более обобщенную группу целей.\n",
    "\n",
    "Посредством лемматизации среди всех целей получения кредита удалось выделить 5 основных:\n",
    "* Недвижимость\n",
    "* Жилье\n",
    "* Автомобиль\n",
    "* Образование\n",
    "* Свадьба\n",
    "\n",
    "Но так как жилье это и есть недвижимость, то две эти категории были объединены. В итоге полученные группы целей:\n",
    "* Недвижимость\n",
    "* Автомобиль\n",
    "* Образование\n",
    "* Свадьба"
   ]
  },
  {
   "cell_type": "markdown",
   "metadata": {},
   "source": [
    "### Категоризация данных"
   ]
  },
  {
   "cell_type": "code",
   "execution_count": 53,
   "metadata": {},
   "outputs": [
    {
     "name": "stdout",
     "output_type": "stream",
     "text": [
      "20667 107623.0 142594.0 195820.25 2265604\n"
     ]
    }
   ],
   "source": [
    "# Проведем категоризацию дохода по четырем группам. \n",
    "max_income = clients['total_income'].max()\n",
    "median_income = clients['total_income'].median()\n",
    "median_up_income = clients['total_income'].quantile(0.75)\n",
    "median_down_income = clients['total_income'].quantile(0.25)\n",
    "min_income = clients['total_income'].min()\n",
    "\n",
    "print(min_income, median_down_income, median_income, median_up_income, max_income)"
   ]
  },
  {
   "cell_type": "code",
   "execution_count": 54,
   "metadata": {
    "scrolled": false
   },
   "outputs": [
    {
     "data": {
      "text/html": [
       "<div>\n",
       "<style scoped>\n",
       "    .dataframe tbody tr th:only-of-type {\n",
       "        vertical-align: middle;\n",
       "    }\n",
       "\n",
       "    .dataframe tbody tr th {\n",
       "        vertical-align: top;\n",
       "    }\n",
       "\n",
       "    .dataframe thead th {\n",
       "        text-align: right;\n",
       "    }\n",
       "</style>\n",
       "<table border=\"1\" class=\"dataframe\">\n",
       "  <thead>\n",
       "    <tr style=\"text-align: right;\">\n",
       "      <th></th>\n",
       "      <th>children</th>\n",
       "      <th>days_employed</th>\n",
       "      <th>dob_years</th>\n",
       "      <th>education</th>\n",
       "      <th>education_id</th>\n",
       "      <th>family_status</th>\n",
       "      <th>family_status_id</th>\n",
       "      <th>gender</th>\n",
       "      <th>income_type</th>\n",
       "      <th>debt</th>\n",
       "      <th>total_income</th>\n",
       "      <th>purpose</th>\n",
       "      <th>main_purpose</th>\n",
       "      <th>income_category</th>\n",
       "    </tr>\n",
       "  </thead>\n",
       "  <tbody>\n",
       "    <tr>\n",
       "      <td>0</td>\n",
       "      <td>1</td>\n",
       "      <td>8437</td>\n",
       "      <td>42</td>\n",
       "      <td>высшее</td>\n",
       "      <td>0</td>\n",
       "      <td>женат / замужем</td>\n",
       "      <td>0</td>\n",
       "      <td>F</td>\n",
       "      <td>сотрудник</td>\n",
       "      <td>0</td>\n",
       "      <td>253875</td>\n",
       "      <td>покупка жилья</td>\n",
       "      <td>недвижимость</td>\n",
       "      <td>4</td>\n",
       "    </tr>\n",
       "    <tr>\n",
       "      <td>1</td>\n",
       "      <td>1</td>\n",
       "      <td>4024</td>\n",
       "      <td>36</td>\n",
       "      <td>среднее</td>\n",
       "      <td>1</td>\n",
       "      <td>женат / замужем</td>\n",
       "      <td>0</td>\n",
       "      <td>F</td>\n",
       "      <td>сотрудник</td>\n",
       "      <td>0</td>\n",
       "      <td>112080</td>\n",
       "      <td>приобретение автомобиля</td>\n",
       "      <td>автомобиль</td>\n",
       "      <td>2</td>\n",
       "    </tr>\n",
       "    <tr>\n",
       "      <td>2</td>\n",
       "      <td>0</td>\n",
       "      <td>5623</td>\n",
       "      <td>33</td>\n",
       "      <td>среднее</td>\n",
       "      <td>1</td>\n",
       "      <td>женат / замужем</td>\n",
       "      <td>0</td>\n",
       "      <td>M</td>\n",
       "      <td>сотрудник</td>\n",
       "      <td>0</td>\n",
       "      <td>145885</td>\n",
       "      <td>покупка жилья</td>\n",
       "      <td>недвижимость</td>\n",
       "      <td>3</td>\n",
       "    </tr>\n",
       "    <tr>\n",
       "      <td>3</td>\n",
       "      <td>3</td>\n",
       "      <td>4124</td>\n",
       "      <td>32</td>\n",
       "      <td>среднее</td>\n",
       "      <td>1</td>\n",
       "      <td>женат / замужем</td>\n",
       "      <td>0</td>\n",
       "      <td>M</td>\n",
       "      <td>сотрудник</td>\n",
       "      <td>0</td>\n",
       "      <td>267628</td>\n",
       "      <td>дополнительное образование</td>\n",
       "      <td>образование</td>\n",
       "      <td>4</td>\n",
       "    </tr>\n",
       "    <tr>\n",
       "      <td>4</td>\n",
       "      <td>0</td>\n",
       "      <td>340266</td>\n",
       "      <td>53</td>\n",
       "      <td>среднее</td>\n",
       "      <td>1</td>\n",
       "      <td>гражданский брак</td>\n",
       "      <td>1</td>\n",
       "      <td>F</td>\n",
       "      <td>пенсионер</td>\n",
       "      <td>0</td>\n",
       "      <td>158616</td>\n",
       "      <td>сыграть свадьбу</td>\n",
       "      <td>свадьба</td>\n",
       "      <td>3</td>\n",
       "    </tr>\n",
       "  </tbody>\n",
       "</table>\n",
       "</div>"
      ],
      "text/plain": [
       "   children  days_employed  dob_years education  education_id  \\\n",
       "0         1           8437         42    высшее             0   \n",
       "1         1           4024         36   среднее             1   \n",
       "2         0           5623         33   среднее             1   \n",
       "3         3           4124         32   среднее             1   \n",
       "4         0         340266         53   среднее             1   \n",
       "\n",
       "      family_status  family_status_id gender income_type  debt  total_income  \\\n",
       "0   женат / замужем                 0      F   сотрудник     0        253875   \n",
       "1   женат / замужем                 0      F   сотрудник     0        112080   \n",
       "2   женат / замужем                 0      M   сотрудник     0        145885   \n",
       "3   женат / замужем                 0      M   сотрудник     0        267628   \n",
       "4  гражданский брак                 1      F   пенсионер     0        158616   \n",
       "\n",
       "                      purpose  main_purpose  income_category  \n",
       "0               покупка жилья  недвижимость                4  \n",
       "1     приобретение автомобиля    автомобиль                2  \n",
       "2               покупка жилья  недвижимость                3  \n",
       "3  дополнительное образование   образование                4  \n",
       "4             сыграть свадьбу       свадьба                3  "
      ]
     },
     "execution_count": 54,
     "metadata": {},
     "output_type": "execute_result"
    }
   ],
   "source": [
    "# Создадим функцию, которая будет определять группу уровня дохода.\n",
    "def income_grouper(income):\n",
    "        if min_income <= income <= median_down_income:\n",
    "            return 1\n",
    "        if median_down_income < income <= median_income:\n",
    "            return 2\n",
    "        if median_income < income <= median_up_income:\n",
    "            return 3\n",
    "        if median_up_income < income <= max_income:\n",
    "            return 4\n",
    "\n",
    "clients['income_category'] = clients['total_income'].apply(income_grouper)\n",
    "clients.head()"
   ]
  },
  {
   "cell_type": "code",
   "execution_count": 55,
   "metadata": {},
   "outputs": [
    {
     "data": {
      "text/plain": [
       "2    5479\n",
       "4    5364\n",
       "1    5364\n",
       "3    5247\n",
       "Name: income_category, dtype: int64"
      ]
     },
     "execution_count": 55,
     "metadata": {},
     "output_type": "execute_result"
    }
   ],
   "source": [
    "# Посмотрим, сколько клиентов относится к каждой категории дохода.\n",
    "clients['income_category'].value_counts()"
   ]
  },
  {
   "cell_type": "markdown",
   "metadata": {},
   "source": [
    "# Вывод"
   ]
  },
  {
   "cell_type": "markdown",
   "metadata": {},
   "source": [
    "В соответствии с ежемесячным доходом клиенты были распределены по четырем группам:\n",
    "* К группе 1, где доход находится в интервале `[20667; 107623]`, относится `5364` клиентов\n",
    "* К группе 2, где доход находится в интервале `(10723; 142594]`, относится `5479` клиентов\n",
    "* К группе 3, где доход находится в интервале `(142594; 195820.25]`, относится `5257` клиентов\n",
    "* К группе 4, где доход находится в интервале `(195820.25; 2265604]`, относится `5364` клиентов\n",
    "\n"
   ]
  },
  {
   "cell_type": "markdown",
   "metadata": {},
   "source": [
    "## Исследование зависимостей"
   ]
  },
  {
   "cell_type": "markdown",
   "metadata": {},
   "source": [
    "- **Есть ли зависимость между наличием детей и возвратом кредита в срок?** <a name=\"the_first_question\"></a>"
   ]
  },
  {
   "cell_type": "code",
   "execution_count": 56,
   "metadata": {
    "scrolled": true
   },
   "outputs": [
    {
     "data": {
      "text/plain": [
       " 0     14091\n",
       " 1      4808\n",
       " 2      2052\n",
       " 3       330\n",
       " 20       76\n",
       "-1        47\n",
       " 4        41\n",
       " 5         9\n",
       "Name: children, dtype: int64"
      ]
     },
     "execution_count": 56,
     "metadata": {},
     "output_type": "execute_result"
    }
   ],
   "source": [
    "# Выведем информацию о количестве клиентов на каждое возможное количество детей.\n",
    "clients['children'].value_counts()"
   ]
  },
  {
   "cell_type": "markdown",
   "metadata": {},
   "source": [
    "Скорее всего, здесь имел место человеческий фактор, и вместо значения -1 хотели записать 1, а вместо 20 -  2."
   ]
  },
  {
   "cell_type": "code",
   "execution_count": 57,
   "metadata": {},
   "outputs": [
    {
     "data": {
      "text/plain": [
       "0    14091\n",
       "1     4855\n",
       "2     2128\n",
       "3      330\n",
       "4       41\n",
       "5        9\n",
       "Name: children, dtype: int64"
      ]
     },
     "execution_count": 57,
     "metadata": {},
     "output_type": "execute_result"
    }
   ],
   "source": [
    "# Поменяем данные в таблице в соответствии с ошибками.\n",
    "clients.loc[clients['children'] == 20, 'children'] = 2\n",
    "clients.loc[clients['children'] == -1, 'children'] = 1\n",
    "\n",
    "# Выведем сколько клиентов имеют каждое количество детей. \n",
    "clients['children'].value_counts()"
   ]
  },
  {
   "cell_type": "markdown",
   "metadata": {},
   "source": [
    "Так как в вопросе неважно количество детей, а важно лишь их наличие, то создадим отдельную колонку, в которой определим, есть ли у клиента дети."
   ]
  },
  {
   "cell_type": "code",
   "execution_count": 58,
   "metadata": {
    "scrolled": true
   },
   "outputs": [
    {
     "data": {
      "text/html": [
       "<div>\n",
       "<style scoped>\n",
       "    .dataframe tbody tr th:only-of-type {\n",
       "        vertical-align: middle;\n",
       "    }\n",
       "\n",
       "    .dataframe tbody tr th {\n",
       "        vertical-align: top;\n",
       "    }\n",
       "\n",
       "    .dataframe thead th {\n",
       "        text-align: right;\n",
       "    }\n",
       "</style>\n",
       "<table border=\"1\" class=\"dataframe\">\n",
       "  <thead>\n",
       "    <tr style=\"text-align: right;\">\n",
       "      <th></th>\n",
       "      <th>children</th>\n",
       "      <th>days_employed</th>\n",
       "      <th>dob_years</th>\n",
       "      <th>education</th>\n",
       "      <th>education_id</th>\n",
       "      <th>family_status</th>\n",
       "      <th>family_status_id</th>\n",
       "      <th>gender</th>\n",
       "      <th>income_type</th>\n",
       "      <th>debt</th>\n",
       "      <th>total_income</th>\n",
       "      <th>purpose</th>\n",
       "      <th>main_purpose</th>\n",
       "      <th>income_category</th>\n",
       "      <th>having_children_group</th>\n",
       "    </tr>\n",
       "  </thead>\n",
       "  <tbody>\n",
       "    <tr>\n",
       "      <td>0</td>\n",
       "      <td>1</td>\n",
       "      <td>8437</td>\n",
       "      <td>42</td>\n",
       "      <td>высшее</td>\n",
       "      <td>0</td>\n",
       "      <td>женат / замужем</td>\n",
       "      <td>0</td>\n",
       "      <td>F</td>\n",
       "      <td>сотрудник</td>\n",
       "      <td>0</td>\n",
       "      <td>253875</td>\n",
       "      <td>покупка жилья</td>\n",
       "      <td>недвижимость</td>\n",
       "      <td>4</td>\n",
       "      <td>1</td>\n",
       "    </tr>\n",
       "    <tr>\n",
       "      <td>1</td>\n",
       "      <td>1</td>\n",
       "      <td>4024</td>\n",
       "      <td>36</td>\n",
       "      <td>среднее</td>\n",
       "      <td>1</td>\n",
       "      <td>женат / замужем</td>\n",
       "      <td>0</td>\n",
       "      <td>F</td>\n",
       "      <td>сотрудник</td>\n",
       "      <td>0</td>\n",
       "      <td>112080</td>\n",
       "      <td>приобретение автомобиля</td>\n",
       "      <td>автомобиль</td>\n",
       "      <td>2</td>\n",
       "      <td>1</td>\n",
       "    </tr>\n",
       "    <tr>\n",
       "      <td>2</td>\n",
       "      <td>0</td>\n",
       "      <td>5623</td>\n",
       "      <td>33</td>\n",
       "      <td>среднее</td>\n",
       "      <td>1</td>\n",
       "      <td>женат / замужем</td>\n",
       "      <td>0</td>\n",
       "      <td>M</td>\n",
       "      <td>сотрудник</td>\n",
       "      <td>0</td>\n",
       "      <td>145885</td>\n",
       "      <td>покупка жилья</td>\n",
       "      <td>недвижимость</td>\n",
       "      <td>3</td>\n",
       "      <td>0</td>\n",
       "    </tr>\n",
       "    <tr>\n",
       "      <td>3</td>\n",
       "      <td>3</td>\n",
       "      <td>4124</td>\n",
       "      <td>32</td>\n",
       "      <td>среднее</td>\n",
       "      <td>1</td>\n",
       "      <td>женат / замужем</td>\n",
       "      <td>0</td>\n",
       "      <td>M</td>\n",
       "      <td>сотрудник</td>\n",
       "      <td>0</td>\n",
       "      <td>267628</td>\n",
       "      <td>дополнительное образование</td>\n",
       "      <td>образование</td>\n",
       "      <td>4</td>\n",
       "      <td>1</td>\n",
       "    </tr>\n",
       "    <tr>\n",
       "      <td>4</td>\n",
       "      <td>0</td>\n",
       "      <td>340266</td>\n",
       "      <td>53</td>\n",
       "      <td>среднее</td>\n",
       "      <td>1</td>\n",
       "      <td>гражданский брак</td>\n",
       "      <td>1</td>\n",
       "      <td>F</td>\n",
       "      <td>пенсионер</td>\n",
       "      <td>0</td>\n",
       "      <td>158616</td>\n",
       "      <td>сыграть свадьбу</td>\n",
       "      <td>свадьба</td>\n",
       "      <td>3</td>\n",
       "      <td>0</td>\n",
       "    </tr>\n",
       "  </tbody>\n",
       "</table>\n",
       "</div>"
      ],
      "text/plain": [
       "   children  days_employed  dob_years education  education_id  \\\n",
       "0         1           8437         42    высшее             0   \n",
       "1         1           4024         36   среднее             1   \n",
       "2         0           5623         33   среднее             1   \n",
       "3         3           4124         32   среднее             1   \n",
       "4         0         340266         53   среднее             1   \n",
       "\n",
       "      family_status  family_status_id gender income_type  debt  total_income  \\\n",
       "0   женат / замужем                 0      F   сотрудник     0        253875   \n",
       "1   женат / замужем                 0      F   сотрудник     0        112080   \n",
       "2   женат / замужем                 0      M   сотрудник     0        145885   \n",
       "3   женат / замужем                 0      M   сотрудник     0        267628   \n",
       "4  гражданский брак                 1      F   пенсионер     0        158616   \n",
       "\n",
       "                      purpose  main_purpose  income_category  \\\n",
       "0               покупка жилья  недвижимость                4   \n",
       "1     приобретение автомобиля    автомобиль                2   \n",
       "2               покупка жилья  недвижимость                3   \n",
       "3  дополнительное образование   образование                4   \n",
       "4             сыграть свадьбу       свадьба                3   \n",
       "\n",
       "   having_children_group  \n",
       "0                      1  \n",
       "1                      1  \n",
       "2                      0  \n",
       "3                      1  \n",
       "4                      0  "
      ]
     },
     "execution_count": 58,
     "metadata": {},
     "output_type": "execute_result"
    }
   ],
   "source": [
    "# Если дети есть - группа 1, в противном случае - группа 0.\n",
    "def having_children(amount):\n",
    "    if amount > 0:\n",
    "        return 1\n",
    "    return 0\n",
    "\n",
    "clients['having_children_group'] = clients['children'].apply(having_children)\n",
    "clients.head()"
   ]
  },
  {
   "cell_type": "code",
   "execution_count": 59,
   "metadata": {},
   "outputs": [
    {
     "data": {
      "text/html": [
       "<div>\n",
       "<style scoped>\n",
       "    .dataframe tbody tr th:only-of-type {\n",
       "        vertical-align: middle;\n",
       "    }\n",
       "\n",
       "    .dataframe tbody tr th {\n",
       "        vertical-align: top;\n",
       "    }\n",
       "\n",
       "    .dataframe thead th {\n",
       "        text-align: right;\n",
       "    }\n",
       "</style>\n",
       "<table border=\"1\" class=\"dataframe\">\n",
       "  <thead>\n",
       "    <tr style=\"text-align: right;\">\n",
       "      <th></th>\n",
       "      <th>debt</th>\n",
       "    </tr>\n",
       "    <tr>\n",
       "      <th>having_children_group</th>\n",
       "      <th></th>\n",
       "    </tr>\n",
       "  </thead>\n",
       "  <tbody>\n",
       "    <tr>\n",
       "      <td>0</td>\n",
       "      <td>0.0754</td>\n",
       "    </tr>\n",
       "    <tr>\n",
       "      <td>1</td>\n",
       "      <td>0.0921</td>\n",
       "    </tr>\n",
       "  </tbody>\n",
       "</table>\n",
       "</div>"
      ],
      "text/plain": [
       "                         debt\n",
       "having_children_group        \n",
       "0                      0.0754\n",
       "1                      0.0921"
      ]
     },
     "execution_count": 59,
     "metadata": {},
     "output_type": "execute_result"
    }
   ],
   "source": [
    "# Составим сводную таблицу по количеству детей и наличию задолженности.\n",
    "clients_children_debt = clients.pivot_table(index='having_children_group', values='debt').round(4)\n",
    "\n",
    "clients_children_debt"
   ]
  },
  {
   "cell_type": "markdown",
   "metadata": {},
   "source": [
    "# Вывод"
   ]
  },
  {
   "cell_type": "markdown",
   "metadata": {},
   "source": [
    "Таким образом, существует зависимость между наличием детей и возвратом кредита в срок. \n",
    "Это можно утверждать исходя из того, что вероятность наличия задолженности при наличии детей у клиента составляет `9.2%`,\n",
    "а при отсутствии детей - `7.5%`.\n",
    "\n",
    "Как вариант, это связано с тем, что для людей с детьми первостепенная задача сделать так, чтобы дети ни в чем не нуждались, а уже потом выплачивать задолженность."
   ]
  },
  {
   "cell_type": "markdown",
   "metadata": {},
   "source": [
    "- **Есть ли зависимость между семейным положением и возвратом кредита в срок?** <a name=\"the_second_question\"></a>"
   ]
  },
  {
   "cell_type": "code",
   "execution_count": 60,
   "metadata": {},
   "outputs": [
    {
     "data": {
      "text/html": [
       "<div>\n",
       "<style scoped>\n",
       "    .dataframe tbody tr th:only-of-type {\n",
       "        vertical-align: middle;\n",
       "    }\n",
       "\n",
       "    .dataframe tbody tr th {\n",
       "        vertical-align: top;\n",
       "    }\n",
       "\n",
       "    .dataframe thead th {\n",
       "        text-align: right;\n",
       "    }\n",
       "</style>\n",
       "<table border=\"1\" class=\"dataframe\">\n",
       "  <thead>\n",
       "    <tr style=\"text-align: right;\">\n",
       "      <th>debt</th>\n",
       "      <th>0</th>\n",
       "      <th>1</th>\n",
       "      <th>probability</th>\n",
       "    </tr>\n",
       "    <tr>\n",
       "      <th>family_status</th>\n",
       "      <th></th>\n",
       "      <th></th>\n",
       "      <th></th>\n",
       "    </tr>\n",
       "  </thead>\n",
       "  <tbody>\n",
       "    <tr>\n",
       "      <td>Не женат / не замужем</td>\n",
       "      <td>2536</td>\n",
       "      <td>274</td>\n",
       "      <td>0.098</td>\n",
       "    </tr>\n",
       "    <tr>\n",
       "      <td>гражданский брак</td>\n",
       "      <td>3763</td>\n",
       "      <td>388</td>\n",
       "      <td>0.093</td>\n",
       "    </tr>\n",
       "    <tr>\n",
       "      <td>женат / замужем</td>\n",
       "      <td>11408</td>\n",
       "      <td>931</td>\n",
       "      <td>0.075</td>\n",
       "    </tr>\n",
       "    <tr>\n",
       "      <td>в разводе</td>\n",
       "      <td>1110</td>\n",
       "      <td>85</td>\n",
       "      <td>0.071</td>\n",
       "    </tr>\n",
       "    <tr>\n",
       "      <td>вдовец / вдова</td>\n",
       "      <td>896</td>\n",
       "      <td>63</td>\n",
       "      <td>0.066</td>\n",
       "    </tr>\n",
       "  </tbody>\n",
       "</table>\n",
       "</div>"
      ],
      "text/plain": [
       "debt                       0    1  probability\n",
       "family_status                                 \n",
       "Не женат / не замужем   2536  274        0.098\n",
       "гражданский брак        3763  388        0.093\n",
       "женат / замужем        11408  931        0.075\n",
       "в разводе               1110   85        0.071\n",
       "вдовец / вдова           896   63        0.066"
      ]
     },
     "execution_count": 60,
     "metadata": {},
     "output_type": "execute_result"
    }
   ],
   "source": [
    "# Составим сводную таблицу по семейному положению\n",
    "# и количеству клиентов без задолженностей и с задолженностями.\n",
    "clients_family_status_debt = clients.pivot_table(index = ['family_status'], columns = 'debt', \n",
    "                                                 values = 'income_type', aggfunc = 'count')\n",
    "\n",
    "# Для каждой группы вычислим вероятность возврата кредита в срок.\n",
    "clients_family_status_debt['probability'] = (clients_family_status_debt[1] / \n",
    "                                            (clients_family_status_debt[0] + clients_family_status_debt[1])).round(3)\n",
    "\n",
    "clients_family_status_debt.sort_values(by='probability', ascending=False)"
   ]
  },
  {
   "cell_type": "markdown",
   "metadata": {},
   "source": [
    "# Вывод"
   ]
  },
  {
   "cell_type": "markdown",
   "metadata": {},
   "source": [
    "Если клиент овдовел или в разводе, то вероятность задолженности меньше, чем у остальных групп. Самая большая вероятность невозврата кредита в срок у группы клиентов, которые не состоят в браке.\n",
    "Полученные значения для каждой группы клиентов:\n",
    "* Не женат / не замужем: вероятность задолженности - `9.8%`\n",
    "* Гражданский брак: вероятность задолженности - `9.3%`\n",
    "* Женат / замужем: вероятность задолженности - `7.5%`\n",
    "* В разводе: вероятность задолженности - `7.1%`\n",
    "* Вдовец / вдова: вероятность задолженности - `6.6%`"
   ]
  },
  {
   "cell_type": "markdown",
   "metadata": {},
   "source": [
    "- **Есть ли зависимость между уровнем дохода и возвратом кредита в срок?** <a name=\"the_thierd_question\"></a>"
   ]
  },
  {
   "cell_type": "code",
   "execution_count": 61,
   "metadata": {},
   "outputs": [
    {
     "data": {
      "text/html": [
       "<div>\n",
       "<style scoped>\n",
       "    .dataframe tbody tr th:only-of-type {\n",
       "        vertical-align: middle;\n",
       "    }\n",
       "\n",
       "    .dataframe tbody tr th {\n",
       "        vertical-align: top;\n",
       "    }\n",
       "\n",
       "    .dataframe thead th {\n",
       "        text-align: right;\n",
       "    }\n",
       "</style>\n",
       "<table border=\"1\" class=\"dataframe\">\n",
       "  <thead>\n",
       "    <tr style=\"text-align: right;\">\n",
       "      <th>debt</th>\n",
       "      <th>0</th>\n",
       "      <th>1</th>\n",
       "      <th>probability</th>\n",
       "    </tr>\n",
       "    <tr>\n",
       "      <th>income_category</th>\n",
       "      <th></th>\n",
       "      <th></th>\n",
       "      <th></th>\n",
       "    </tr>\n",
       "  </thead>\n",
       "  <tbody>\n",
       "    <tr>\n",
       "      <td>2</td>\n",
       "      <td>4996</td>\n",
       "      <td>483</td>\n",
       "      <td>0.088</td>\n",
       "    </tr>\n",
       "    <tr>\n",
       "      <td>3</td>\n",
       "      <td>4799</td>\n",
       "      <td>448</td>\n",
       "      <td>0.085</td>\n",
       "    </tr>\n",
       "    <tr>\n",
       "      <td>1</td>\n",
       "      <td>4937</td>\n",
       "      <td>427</td>\n",
       "      <td>0.080</td>\n",
       "    </tr>\n",
       "    <tr>\n",
       "      <td>4</td>\n",
       "      <td>4981</td>\n",
       "      <td>383</td>\n",
       "      <td>0.071</td>\n",
       "    </tr>\n",
       "  </tbody>\n",
       "</table>\n",
       "</div>"
      ],
      "text/plain": [
       "debt                0    1  probability\n",
       "income_category                        \n",
       "2                4996  483        0.088\n",
       "3                4799  448        0.085\n",
       "1                4937  427        0.080\n",
       "4                4981  383        0.071"
      ]
     },
     "execution_count": 61,
     "metadata": {},
     "output_type": "execute_result"
    }
   ],
   "source": [
    "# Составим сводную таблицу по категориям клиентов, в зависимости от их ежемесячного дохода, \n",
    "# и количеству клиентов без задолженностей и с задолженностями.\n",
    "clients_total_income_debt = clients.pivot_table(index = ['income_category'], columns = 'debt', \n",
    "                                                 values = 'income_type', aggfunc = 'count')\n",
    "\n",
    "# Для каждой группы вычислим вероятность возврата кредита в срок.\n",
    "clients_total_income_debt['probability'] = (clients_total_income_debt[1] / \n",
    "                                            (clients_total_income_debt[0] + clients_total_income_debt[1])).round(3)\n",
    "\n",
    "clients_total_income_debt.sort_values(by='probability', ascending=False)"
   ]
  },
  {
   "cell_type": "markdown",
   "metadata": {},
   "source": [
    "# **Вывод**"
   ]
  },
  {
   "cell_type": "markdown",
   "metadata": {},
   "source": [
    "У клиентов из группы с наиболее высоким доходом меньше вероятность задолженности, чем у всех остальных. Однако у клиентов из следующих двух групп, зарабатывающих меньше, вероятность задолженности выше, чем у группы клиентов с наименьшим ежемесячным доходом.\n",
    "\n",
    "Это может быть связано с тем, что клиенты с наименьшим доходом более грамотно распоряжаются финансами."
   ]
  },
  {
   "cell_type": "markdown",
   "metadata": {},
   "source": [
    "- **Как разные цели кредита влияют на его возврат в срок?** <a name=\"the_fourth_question\"></a>"
   ]
  },
  {
   "cell_type": "code",
   "execution_count": 62,
   "metadata": {},
   "outputs": [
    {
     "data": {
      "text/html": [
       "<div>\n",
       "<style scoped>\n",
       "    .dataframe tbody tr th:only-of-type {\n",
       "        vertical-align: middle;\n",
       "    }\n",
       "\n",
       "    .dataframe tbody tr th {\n",
       "        vertical-align: top;\n",
       "    }\n",
       "\n",
       "    .dataframe thead th {\n",
       "        text-align: right;\n",
       "    }\n",
       "</style>\n",
       "<table border=\"1\" class=\"dataframe\">\n",
       "  <thead>\n",
       "    <tr style=\"text-align: right;\">\n",
       "      <th>debt</th>\n",
       "      <th>0</th>\n",
       "      <th>1</th>\n",
       "      <th>probability</th>\n",
       "    </tr>\n",
       "    <tr>\n",
       "      <th>main_purpose</th>\n",
       "      <th></th>\n",
       "      <th></th>\n",
       "      <th></th>\n",
       "    </tr>\n",
       "  </thead>\n",
       "  <tbody>\n",
       "    <tr>\n",
       "      <td>автомобиль</td>\n",
       "      <td>3903</td>\n",
       "      <td>403</td>\n",
       "      <td>0.094</td>\n",
       "    </tr>\n",
       "    <tr>\n",
       "      <td>образование</td>\n",
       "      <td>3643</td>\n",
       "      <td>370</td>\n",
       "      <td>0.092</td>\n",
       "    </tr>\n",
       "    <tr>\n",
       "      <td>свадьба</td>\n",
       "      <td>2138</td>\n",
       "      <td>186</td>\n",
       "      <td>0.080</td>\n",
       "    </tr>\n",
       "    <tr>\n",
       "      <td>недвижимость</td>\n",
       "      <td>10029</td>\n",
       "      <td>782</td>\n",
       "      <td>0.072</td>\n",
       "    </tr>\n",
       "  </tbody>\n",
       "</table>\n",
       "</div>"
      ],
      "text/plain": [
       "debt              0    1  probability\n",
       "main_purpose                         \n",
       "автомобиль     3903  403        0.094\n",
       "образование    3643  370        0.092\n",
       "свадьба        2138  186        0.080\n",
       "недвижимость  10029  782        0.072"
      ]
     },
     "execution_count": 62,
     "metadata": {},
     "output_type": "execute_result"
    }
   ],
   "source": [
    "# Составим сводную таблицу по обобщенным целям клиентов, \n",
    "# и количеству клиентов без задолженностей и с задолженностями.\n",
    "clients_main_purpose_debt = clients.pivot_table(index = ['main_purpose'], columns = 'debt', \n",
    "                                                 values = 'income_type', aggfunc = 'count')\n",
    "\n",
    "# Для каждой группы вычислим вероятность возврата кредита в срок.\n",
    "clients_main_purpose_debt['probability'] = (clients_main_purpose_debt[1] / \n",
    "                                            (clients_main_purpose_debt[0] + clients_main_purpose_debt[1])).round(3)\n",
    "\n",
    "clients_main_purpose_debt.sort_values(by='probability', ascending=False)"
   ]
  },
  {
   "cell_type": "markdown",
   "metadata": {},
   "source": [
    "# Вывод"
   ]
  },
  {
   "cell_type": "markdown",
   "metadata": {},
   "source": [
    "Самая высокая вероятность задолженности у тех клиентов, которые собрались покупать автомобиль - она составляет `9.4%`. \n",
    "Это может быть связано с тем, что после покупки автомобиля появляются дополнительные траты на его же содержание. \n",
    "Наименьшая вероятность задолженности у клиентов, стремящихся приобрести недвижимость - `7.2%`. Далее следуют группы клиентов, которые берут кредит на свадьбу, у них может появиться задолженность с вероятностью `8%`, и группа клиентов, которая оплачивает образование - `9.2%`"
   ]
  },
  {
   "cell_type": "markdown",
   "metadata": {},
   "source": [
    "## Шаг 4. Общий вывод"
   ]
  },
  {
   "cell_type": "markdown",
   "metadata": {},
   "source": [
    "Было проведено исследование по следующим тезисам:\n",
    "\n",
    "* [Наличие зависимости между наличием детей и возвратом кредита в срок.](#the_first_question)\n",
    "* [Наличие зависимости между семейным положением и возвратом кредита в срок.](#the_second_question)\n",
    "* [Наличие зависимости между уровнем дохода и возвратом кредита в срок.](the_third_question)\n",
    "* [Влияние разных целей кредита на его возврат в срок.](the_fourth_question)\n",
    "\n",
    "На основ результатов можно сделать вывод, что \n",
    "* Клиенты `в разводе` или `вдовцы / вдовы` имеют наименьшие вероятности невозврата кредита в срок - `7.1%` и `6.6%` соответственно; Самые ненадежные клиенты же - `не имеющие официального подтверждения отношений`, у них вероятность задолженности - `9.8%`.\n",
    "* Клиенты без детей будут иметь задолженность с шансом `7.5%`, против `9.2%` у клиентов с детьми.\n",
    "* Что касаемо доходов, наименьшая вероятность задолженности будет у зарабатывающих `более 196 тыс.рублей` в месяц - она составляет `7.1%`, в то время как наибольший шанс неоплаты в срок у группы клиентов, зарабатывающих `от 143 тыс.рублей до 196 тыс.рублей` в месяц, он составляет `8.8%`\n",
    "* Наименьшая вероятность задолженности будет у клиентов, которые берут кредит с целью приобретения недвижимости - `7.2%`, когда наибольший шанс невозврата кредита в срок у клиентов, которые собираются покупать автомобиль, - `9.4%`.\n",
    "\n",
    "Таким образом, наиболее надежный заёмщик - это овдовевший клиент без детей, который берет кредит в целях приобретения недвижимости и зарабатывает от 196 тысяч рублей в месяц.\n",
    "\n",
    "Самая же ненадежная категория заёмщиков - холостые клиенты с детьми, стремящиеся приобрести автомобиль и зарабатывающие от 143 тыс.рублей до 196 тыс.рублей в месяц."
   ]
  }
 ],
 "metadata": {
  "ExecuteTimeLog": [
   {
    "duration": 686,
    "start_time": "2021-10-23T17:37:40.196Z"
   },
   {
    "duration": 53,
    "start_time": "2021-10-23T17:38:07.188Z"
   },
   {
    "duration": 83,
    "start_time": "2021-10-23T17:38:19.868Z"
   },
   {
    "duration": 11,
    "start_time": "2021-10-23T17:52:07.719Z"
   },
   {
    "duration": 59,
    "start_time": "2021-10-23T17:52:17.807Z"
   },
   {
    "duration": 12,
    "start_time": "2021-10-23T17:52:18.558Z"
   },
   {
    "duration": 8,
    "start_time": "2021-10-23T18:43:07.974Z"
   },
   {
    "duration": 11,
    "start_time": "2021-10-23T22:00:40.330Z"
   },
   {
    "duration": 4,
    "start_time": "2021-10-23T22:03:34.272Z"
   },
   {
    "duration": 8,
    "start_time": "2021-10-23T22:11:42.066Z"
   },
   {
    "duration": 8,
    "start_time": "2021-10-23T22:14:27.592Z"
   },
   {
    "duration": 25,
    "start_time": "2021-10-23T22:14:34.426Z"
   },
   {
    "duration": 9,
    "start_time": "2021-10-23T22:14:45.765Z"
   },
   {
    "duration": 8,
    "start_time": "2021-10-23T22:14:48.516Z"
   },
   {
    "duration": 116,
    "start_time": "2021-10-23T22:19:40.554Z"
   },
   {
    "duration": 486,
    "start_time": "2021-10-23T22:19:44.440Z"
   },
   {
    "duration": 7,
    "start_time": "2021-10-23T22:19:48.281Z"
   },
   {
    "duration": 60,
    "start_time": "2021-10-23T22:22:45.760Z"
   },
   {
    "duration": 343,
    "start_time": "2021-10-23T22:23:07.838Z"
   },
   {
    "duration": 58,
    "start_time": "2021-10-23T22:23:13.038Z"
   },
   {
    "duration": 7,
    "start_time": "2021-10-23T22:23:32.134Z"
   },
   {
    "duration": 6,
    "start_time": "2021-10-23T22:24:02.284Z"
   },
   {
    "duration": 5,
    "start_time": "2021-10-23T22:24:08.806Z"
   },
   {
    "duration": 4,
    "start_time": "2021-10-23T22:24:17.341Z"
   },
   {
    "duration": 34,
    "start_time": "2021-10-23T22:26:37.235Z"
   },
   {
    "duration": 25,
    "start_time": "2021-10-23T22:26:44.125Z"
   },
   {
    "duration": 9068,
    "start_time": "2021-10-23T22:33:04.941Z"
   },
   {
    "duration": 5,
    "start_time": "2021-10-23T22:42:55.229Z"
   },
   {
    "duration": 26,
    "start_time": "2021-10-23T22:42:56.982Z"
   },
   {
    "duration": 9721,
    "start_time": "2021-10-23T22:47:01.395Z"
   },
   {
    "duration": 357,
    "start_time": "2021-10-23T22:57:55.724Z"
   },
   {
    "duration": 8959,
    "start_time": "2021-10-23T23:04:02.316Z"
   },
   {
    "duration": 5,
    "start_time": "2021-10-23T23:12:50.847Z"
   },
   {
    "duration": 347,
    "start_time": "2021-10-23T23:14:23.243Z"
   },
   {
    "duration": 21,
    "start_time": "2021-10-23T23:14:32.219Z"
   },
   {
    "duration": 11,
    "start_time": "2021-10-23T23:14:50.326Z"
   },
   {
    "duration": 24,
    "start_time": "2021-10-23T23:15:07.988Z"
   },
   {
    "duration": 3,
    "start_time": "2021-10-23T23:18:08.930Z"
   },
   {
    "duration": 2,
    "start_time": "2021-10-23T23:18:13.541Z"
   },
   {
    "duration": 64,
    "start_time": "2021-10-23T23:18:13.545Z"
   },
   {
    "duration": 10,
    "start_time": "2021-10-23T23:18:13.611Z"
   },
   {
    "duration": 10,
    "start_time": "2021-10-23T23:18:13.623Z"
   },
   {
    "duration": 6,
    "start_time": "2021-10-23T23:18:13.634Z"
   },
   {
    "duration": 4,
    "start_time": "2021-10-23T23:18:13.641Z"
   },
   {
    "duration": 51,
    "start_time": "2021-10-23T23:18:13.647Z"
   },
   {
    "duration": 3,
    "start_time": "2021-10-23T23:19:11.758Z"
   },
   {
    "duration": 63,
    "start_time": "2021-10-23T23:19:11.763Z"
   },
   {
    "duration": 10,
    "start_time": "2021-10-23T23:19:11.828Z"
   },
   {
    "duration": 9,
    "start_time": "2021-10-23T23:19:11.840Z"
   },
   {
    "duration": 6,
    "start_time": "2021-10-23T23:19:11.850Z"
   },
   {
    "duration": 22,
    "start_time": "2021-10-23T23:19:11.857Z"
   },
   {
    "duration": 28,
    "start_time": "2021-10-23T23:19:11.881Z"
   },
   {
    "duration": 63,
    "start_time": "2021-10-23T23:22:27.230Z"
   },
   {
    "duration": 13,
    "start_time": "2021-10-23T23:22:28.949Z"
   },
   {
    "duration": 12,
    "start_time": "2021-10-23T23:22:30.348Z"
   },
   {
    "duration": 6,
    "start_time": "2021-10-23T23:22:30.533Z"
   },
   {
    "duration": 6,
    "start_time": "2021-10-23T23:22:31.645Z"
   },
   {
    "duration": 25,
    "start_time": "2021-10-23T23:22:31.845Z"
   },
   {
    "duration": 739,
    "start_time": "2021-10-24T08:38:38.490Z"
   },
   {
    "duration": 561,
    "start_time": "2021-10-24T08:38:44.385Z"
   },
   {
    "duration": 66,
    "start_time": "2021-10-24T08:38:44.948Z"
   },
   {
    "duration": 12,
    "start_time": "2021-10-24T08:38:45.016Z"
   },
   {
    "duration": 10,
    "start_time": "2021-10-24T08:38:45.030Z"
   },
   {
    "duration": 5,
    "start_time": "2021-10-24T08:38:45.042Z"
   },
   {
    "duration": 7,
    "start_time": "2021-10-24T08:38:45.048Z"
   },
   {
    "duration": 5545,
    "start_time": "2021-10-24T08:38:48.238Z"
   },
   {
    "duration": 4529,
    "start_time": "2021-10-24T08:42:43.267Z"
   },
   {
    "duration": 172,
    "start_time": "2021-10-24T08:47:38.272Z"
   },
   {
    "duration": 3,
    "start_time": "2021-10-24T08:48:17.795Z"
   },
   {
    "duration": 57,
    "start_time": "2021-10-24T08:48:17.799Z"
   },
   {
    "duration": 9,
    "start_time": "2021-10-24T08:48:17.858Z"
   },
   {
    "duration": 8,
    "start_time": "2021-10-24T08:48:17.869Z"
   },
   {
    "duration": 15,
    "start_time": "2021-10-24T08:48:17.879Z"
   },
   {
    "duration": 5,
    "start_time": "2021-10-24T08:48:17.895Z"
   },
   {
    "duration": 172,
    "start_time": "2021-10-24T08:48:20.625Z"
   },
   {
    "duration": 4178,
    "start_time": "2021-10-24T08:52:01.741Z"
   },
   {
    "duration": 15,
    "start_time": "2021-10-24T08:52:29.627Z"
   },
   {
    "duration": 9,
    "start_time": "2021-10-24T08:54:16.678Z"
   },
   {
    "duration": 5,
    "start_time": "2021-10-24T08:54:17.095Z"
   },
   {
    "duration": 5,
    "start_time": "2021-10-24T08:54:17.544Z"
   },
   {
    "duration": 15,
    "start_time": "2021-10-24T08:54:18.023Z"
   },
   {
    "duration": 20,
    "start_time": "2021-10-24T08:55:08.649Z"
   },
   {
    "duration": 7,
    "start_time": "2021-10-24T08:55:34.867Z"
   },
   {
    "duration": 5,
    "start_time": "2021-10-24T08:55:56.543Z"
   },
   {
    "duration": 10,
    "start_time": "2021-10-24T08:56:14.551Z"
   },
   {
    "duration": 20,
    "start_time": "2021-10-24T08:56:23.015Z"
   },
   {
    "duration": 13,
    "start_time": "2021-10-24T09:16:36.702Z"
   },
   {
    "duration": 198,
    "start_time": "2021-10-24T09:17:54.406Z"
   },
   {
    "duration": 5,
    "start_time": "2021-10-24T09:18:15.870Z"
   },
   {
    "duration": 5,
    "start_time": "2021-10-24T09:18:16.061Z"
   },
   {
    "duration": 17,
    "start_time": "2021-10-24T09:18:16.229Z"
   },
   {
    "duration": 23,
    "start_time": "2021-10-24T09:25:38.032Z"
   },
   {
    "duration": 23,
    "start_time": "2021-10-24T09:26:19.567Z"
   },
   {
    "duration": 17,
    "start_time": "2021-10-24T09:33:44.041Z"
   },
   {
    "duration": 24,
    "start_time": "2021-10-24T09:33:49.153Z"
   },
   {
    "duration": 25,
    "start_time": "2021-10-24T09:33:56.200Z"
   },
   {
    "duration": 25,
    "start_time": "2021-10-24T09:34:01.248Z"
   },
   {
    "duration": 21,
    "start_time": "2021-10-24T10:06:43.520Z"
   },
   {
    "duration": 23,
    "start_time": "2021-10-24T10:06:48.446Z"
   },
   {
    "duration": 160,
    "start_time": "2021-10-24T10:09:32.668Z"
   },
   {
    "duration": 176,
    "start_time": "2021-10-24T10:09:38.556Z"
   },
   {
    "duration": 174,
    "start_time": "2021-10-24T10:09:57.715Z"
   },
   {
    "duration": 183,
    "start_time": "2021-10-24T10:10:31.370Z"
   },
   {
    "duration": 2,
    "start_time": "2021-10-24T10:11:05.813Z"
   },
   {
    "duration": 66,
    "start_time": "2021-10-24T10:11:05.817Z"
   },
   {
    "duration": 10,
    "start_time": "2021-10-24T10:11:05.886Z"
   },
   {
    "duration": 8,
    "start_time": "2021-10-24T10:11:05.898Z"
   },
   {
    "duration": 24,
    "start_time": "2021-10-24T10:11:08.671Z"
   },
   {
    "duration": 31,
    "start_time": "2021-10-24T10:11:45.154Z"
   },
   {
    "duration": 21,
    "start_time": "2021-10-24T10:14:33.819Z"
   },
   {
    "duration": 178,
    "start_time": "2021-10-24T10:16:14.167Z"
   },
   {
    "duration": 189,
    "start_time": "2021-10-24T10:16:24.383Z"
   },
   {
    "duration": 3,
    "start_time": "2021-10-24T10:16:27.984Z"
   },
   {
    "duration": 59,
    "start_time": "2021-10-24T10:16:27.988Z"
   },
   {
    "duration": 9,
    "start_time": "2021-10-24T10:16:28.049Z"
   },
   {
    "duration": 8,
    "start_time": "2021-10-24T10:16:28.060Z"
   },
   {
    "duration": 21,
    "start_time": "2021-10-24T10:16:30.398Z"
   },
   {
    "duration": 171,
    "start_time": "2021-10-24T10:16:43.974Z"
   },
   {
    "duration": 2,
    "start_time": "2021-10-24T10:16:48.286Z"
   },
   {
    "duration": 58,
    "start_time": "2021-10-24T10:16:48.290Z"
   },
   {
    "duration": 11,
    "start_time": "2021-10-24T10:16:48.350Z"
   },
   {
    "duration": 9,
    "start_time": "2021-10-24T10:16:48.363Z"
   },
   {
    "duration": 44,
    "start_time": "2021-10-24T10:16:48.375Z"
   },
   {
    "duration": 169,
    "start_time": "2021-10-24T10:19:47.356Z"
   },
   {
    "duration": 3,
    "start_time": "2021-10-24T10:20:10.128Z"
   },
   {
    "duration": 54,
    "start_time": "2021-10-24T10:20:10.134Z"
   },
   {
    "duration": 9,
    "start_time": "2021-10-24T10:20:10.190Z"
   },
   {
    "duration": 10,
    "start_time": "2021-10-24T10:20:10.200Z"
   },
   {
    "duration": 35,
    "start_time": "2021-10-24T10:20:10.211Z"
   },
   {
    "duration": 169,
    "start_time": "2021-10-24T10:23:05.172Z"
   },
   {
    "duration": 3,
    "start_time": "2021-10-24T10:23:14.067Z"
   },
   {
    "duration": 60,
    "start_time": "2021-10-24T10:23:14.072Z"
   },
   {
    "duration": 9,
    "start_time": "2021-10-24T10:23:14.134Z"
   },
   {
    "duration": 8,
    "start_time": "2021-10-24T10:23:14.145Z"
   },
   {
    "duration": 4329,
    "start_time": "2021-10-24T10:23:14.155Z"
   },
   {
    "duration": 4074,
    "start_time": "2021-10-24T10:23:29.553Z"
   },
   {
    "duration": 4204,
    "start_time": "2021-10-24T10:24:08.493Z"
   },
   {
    "duration": 34,
    "start_time": "2021-10-24T10:25:30.511Z"
   },
   {
    "duration": 31,
    "start_time": "2021-10-24T10:27:32.453Z"
   },
   {
    "duration": 74,
    "start_time": "2021-10-24T10:27:53.060Z"
   },
   {
    "duration": 2,
    "start_time": "2021-10-24T10:28:59.908Z"
   },
   {
    "duration": 25,
    "start_time": "2021-10-24T10:29:08.451Z"
   },
   {
    "duration": 23,
    "start_time": "2021-10-24T10:30:24.907Z"
   },
   {
    "duration": 170,
    "start_time": "2021-10-24T10:33:16.312Z"
   },
   {
    "duration": 162,
    "start_time": "2021-10-24T10:33:25.512Z"
   },
   {
    "duration": 64,
    "start_time": "2021-10-24T10:33:31.024Z"
   },
   {
    "duration": 190,
    "start_time": "2021-10-24T10:33:35.143Z"
   },
   {
    "duration": 3,
    "start_time": "2021-10-24T10:34:52.846Z"
   },
   {
    "duration": 174,
    "start_time": "2021-10-24T10:35:05.902Z"
   },
   {
    "duration": 3,
    "start_time": "2021-10-24T10:35:15.071Z"
   },
   {
    "duration": 65,
    "start_time": "2021-10-24T10:35:15.076Z"
   },
   {
    "duration": 9,
    "start_time": "2021-10-24T10:35:15.143Z"
   },
   {
    "duration": 9,
    "start_time": "2021-10-24T10:35:15.153Z"
   },
   {
    "duration": 46,
    "start_time": "2021-10-24T10:35:15.163Z"
   },
   {
    "duration": 181,
    "start_time": "2021-10-24T10:35:15.211Z"
   },
   {
    "duration": 191,
    "start_time": "2021-10-24T10:35:28.452Z"
   },
   {
    "duration": 28,
    "start_time": "2021-10-24T10:35:32.638Z"
   },
   {
    "duration": 3,
    "start_time": "2021-10-24T10:35:33.398Z"
   },
   {
    "duration": 13,
    "start_time": "2021-10-24T10:37:35.236Z"
   },
   {
    "duration": 19,
    "start_time": "2021-10-24T10:37:57.196Z"
   },
   {
    "duration": 28,
    "start_time": "2021-10-24T10:38:12.484Z"
   },
   {
    "duration": 13,
    "start_time": "2021-10-24T10:38:12.716Z"
   },
   {
    "duration": 3,
    "start_time": "2021-10-24T10:38:13.155Z"
   },
   {
    "duration": 181,
    "start_time": "2021-10-24T10:44:15.799Z"
   },
   {
    "duration": 184,
    "start_time": "2021-10-24T10:44:30.639Z"
   },
   {
    "duration": 3,
    "start_time": "2021-10-24T10:45:25.048Z"
   },
   {
    "duration": 61,
    "start_time": "2021-10-24T10:45:25.053Z"
   },
   {
    "duration": 10,
    "start_time": "2021-10-24T10:45:25.116Z"
   },
   {
    "duration": 8,
    "start_time": "2021-10-24T10:45:25.128Z"
   },
   {
    "duration": 31,
    "start_time": "2021-10-24T10:45:27.999Z"
   },
   {
    "duration": 181,
    "start_time": "2021-10-24T10:46:08.013Z"
   },
   {
    "duration": 169,
    "start_time": "2021-10-24T10:46:34.022Z"
   },
   {
    "duration": 165,
    "start_time": "2021-10-24T10:47:17.076Z"
   },
   {
    "duration": 3,
    "start_time": "2021-10-24T10:47:20.636Z"
   },
   {
    "duration": 58,
    "start_time": "2021-10-24T10:47:20.641Z"
   },
   {
    "duration": 9,
    "start_time": "2021-10-24T10:47:20.701Z"
   },
   {
    "duration": 8,
    "start_time": "2021-10-24T10:47:20.712Z"
   },
   {
    "duration": 32,
    "start_time": "2021-10-24T10:47:22.672Z"
   },
   {
    "duration": 710,
    "start_time": "2021-10-24T10:48:31.820Z"
   },
   {
    "duration": 3,
    "start_time": "2021-10-24T10:48:44.762Z"
   },
   {
    "duration": 66,
    "start_time": "2021-10-24T10:48:44.767Z"
   },
   {
    "duration": 12,
    "start_time": "2021-10-24T10:48:44.836Z"
   },
   {
    "duration": 10,
    "start_time": "2021-10-24T10:48:44.850Z"
   },
   {
    "duration": 34,
    "start_time": "2021-10-24T10:48:47.540Z"
   },
   {
    "duration": 1551,
    "start_time": "2021-10-24T10:50:00.675Z"
   },
   {
    "duration": -89,
    "start_time": "2021-10-24T10:50:02.316Z"
   },
   {
    "duration": 3,
    "start_time": "2021-10-24T10:50:10.829Z"
   },
   {
    "duration": 61,
    "start_time": "2021-10-24T10:50:10.834Z"
   },
   {
    "duration": 10,
    "start_time": "2021-10-24T10:50:10.897Z"
   },
   {
    "duration": 9,
    "start_time": "2021-10-24T10:50:10.908Z"
   },
   {
    "duration": 44,
    "start_time": "2021-10-24T10:50:13.315Z"
   },
   {
    "duration": 170,
    "start_time": "2021-10-24T10:51:19.186Z"
   },
   {
    "duration": 3,
    "start_time": "2021-10-24T10:51:27.982Z"
   },
   {
    "duration": 58,
    "start_time": "2021-10-24T10:51:27.987Z"
   },
   {
    "duration": 9,
    "start_time": "2021-10-24T10:51:28.047Z"
   },
   {
    "duration": 14,
    "start_time": "2021-10-24T10:51:28.057Z"
   },
   {
    "duration": 33,
    "start_time": "2021-10-24T10:51:28.072Z"
   },
   {
    "duration": 12,
    "start_time": "2021-10-24T10:51:33.951Z"
   },
   {
    "duration": 34,
    "start_time": "2021-10-24T10:52:06.408Z"
   },
   {
    "duration": 13,
    "start_time": "2021-10-24T10:52:06.798Z"
   },
   {
    "duration": 2,
    "start_time": "2021-10-24T10:52:15.056Z"
   },
   {
    "duration": 54,
    "start_time": "2021-10-24T10:52:15.264Z"
   },
   {
    "duration": 10,
    "start_time": "2021-10-24T10:52:15.487Z"
   },
   {
    "duration": 9,
    "start_time": "2021-10-24T10:52:17.151Z"
   },
   {
    "duration": 34,
    "start_time": "2021-10-24T10:52:17.635Z"
   },
   {
    "duration": 12,
    "start_time": "2021-10-24T10:52:18.304Z"
   },
   {
    "duration": 35,
    "start_time": "2021-10-24T10:52:59.784Z"
   },
   {
    "duration": 12,
    "start_time": "2021-10-24T10:53:01.064Z"
   },
   {
    "duration": 288,
    "start_time": "2021-10-24T10:54:59.086Z"
   },
   {
    "duration": 176,
    "start_time": "2021-10-24T10:55:08.734Z"
   },
   {
    "duration": 2,
    "start_time": "2021-10-24T10:55:15.759Z"
   },
   {
    "duration": 56,
    "start_time": "2021-10-24T10:55:15.763Z"
   },
   {
    "duration": 10,
    "start_time": "2021-10-24T10:55:15.821Z"
   },
   {
    "duration": 8,
    "start_time": "2021-10-24T10:55:15.832Z"
   },
   {
    "duration": 35,
    "start_time": "2021-10-24T10:55:18.053Z"
   },
   {
    "duration": 15,
    "start_time": "2021-10-24T10:55:23.856Z"
   },
   {
    "duration": 31,
    "start_time": "2021-10-24T10:58:22.752Z"
   },
   {
    "duration": 12,
    "start_time": "2021-10-24T10:58:23.415Z"
   },
   {
    "duration": 9,
    "start_time": "2021-10-24T11:37:38.891Z"
   },
   {
    "duration": 30,
    "start_time": "2021-10-24T11:37:39.090Z"
   },
   {
    "duration": 12,
    "start_time": "2021-10-24T11:37:39.491Z"
   },
   {
    "duration": 30,
    "start_time": "2021-10-24T11:42:26.843Z"
   },
   {
    "duration": 12,
    "start_time": "2021-10-24T11:42:27.382Z"
   },
   {
    "duration": 2,
    "start_time": "2021-10-24T11:43:03.344Z"
   },
   {
    "duration": 59,
    "start_time": "2021-10-24T11:43:03.348Z"
   },
   {
    "duration": 9,
    "start_time": "2021-10-24T11:43:03.409Z"
   },
   {
    "duration": 9,
    "start_time": "2021-10-24T11:43:03.420Z"
   },
   {
    "duration": 34,
    "start_time": "2021-10-24T11:43:03.430Z"
   },
   {
    "duration": 32,
    "start_time": "2021-10-24T11:43:03.465Z"
   },
   {
    "duration": 3,
    "start_time": "2021-10-24T12:38:10.586Z"
   },
   {
    "duration": 20,
    "start_time": "2021-10-24T12:38:16.538Z"
   },
   {
    "duration": 14,
    "start_time": "2021-10-24T12:38:44.306Z"
   },
   {
    "duration": 12,
    "start_time": "2021-10-24T12:39:13.758Z"
   },
   {
    "duration": 5,
    "start_time": "2021-10-24T12:48:53.648Z"
   },
   {
    "duration": 13,
    "start_time": "2021-10-24T12:49:09.681Z"
   },
   {
    "duration": 13,
    "start_time": "2021-10-24T12:50:08.491Z"
   },
   {
    "duration": 197,
    "start_time": "2021-10-24T15:32:26.934Z"
   },
   {
    "duration": 15,
    "start_time": "2021-10-24T15:32:54.141Z"
   },
   {
    "duration": 15,
    "start_time": "2021-10-24T15:33:03.349Z"
   },
   {
    "duration": 26,
    "start_time": "2021-10-24T15:33:30.220Z"
   },
   {
    "duration": 35,
    "start_time": "2021-10-24T15:33:41.804Z"
   },
   {
    "duration": 7,
    "start_time": "2021-10-24T15:34:28.204Z"
   },
   {
    "duration": 12,
    "start_time": "2021-10-24T15:35:42.132Z"
   },
   {
    "duration": 29,
    "start_time": "2021-10-24T15:41:22.062Z"
   },
   {
    "duration": 217,
    "start_time": "2021-10-24T15:43:51.352Z"
   },
   {
    "duration": 38,
    "start_time": "2021-10-24T15:44:09.004Z"
   },
   {
    "duration": 11,
    "start_time": "2021-10-24T16:33:35.490Z"
   },
   {
    "duration": 2,
    "start_time": "2021-10-24T16:33:40.793Z"
   },
   {
    "duration": 60,
    "start_time": "2021-10-24T16:33:40.797Z"
   },
   {
    "duration": 9,
    "start_time": "2021-10-24T16:33:40.859Z"
   },
   {
    "duration": 10,
    "start_time": "2021-10-24T16:33:43.092Z"
   },
   {
    "duration": 32,
    "start_time": "2021-10-24T16:36:24.199Z"
   },
   {
    "duration": 29,
    "start_time": "2021-10-24T16:40:33.020Z"
   },
   {
    "duration": 31,
    "start_time": "2021-10-24T16:41:55.020Z"
   },
   {
    "duration": 13,
    "start_time": "2021-10-24T17:04:41.760Z"
   },
   {
    "duration": 38,
    "start_time": "2021-10-24T17:50:02.774Z"
   },
   {
    "duration": 5,
    "start_time": "2021-10-24T17:55:46.950Z"
   },
   {
    "duration": 178,
    "start_time": "2021-10-24T17:55:53.429Z"
   },
   {
    "duration": 13,
    "start_time": "2021-10-24T17:56:02.181Z"
   },
   {
    "duration": 188,
    "start_time": "2021-10-24T17:56:10.006Z"
   },
   {
    "duration": 4,
    "start_time": "2021-10-24T17:56:17.965Z"
   },
   {
    "duration": 197,
    "start_time": "2021-10-24T17:56:26.540Z"
   },
   {
    "duration": 5,
    "start_time": "2021-10-24T17:58:32.123Z"
   },
   {
    "duration": 39,
    "start_time": "2021-10-24T17:58:33.148Z"
   },
   {
    "duration": 3,
    "start_time": "2021-10-24T17:58:39.386Z"
   },
   {
    "duration": 58,
    "start_time": "2021-10-24T17:58:39.390Z"
   },
   {
    "duration": 9,
    "start_time": "2021-10-24T17:58:39.450Z"
   },
   {
    "duration": 8,
    "start_time": "2021-10-24T17:58:39.461Z"
   },
   {
    "duration": 45,
    "start_time": "2021-10-24T17:58:39.471Z"
   },
   {
    "duration": 12,
    "start_time": "2021-10-24T17:58:39.518Z"
   },
   {
    "duration": 15,
    "start_time": "2021-10-24T17:58:39.532Z"
   },
   {
    "duration": 3,
    "start_time": "2021-10-24T17:58:50.406Z"
   },
   {
    "duration": 60,
    "start_time": "2021-10-24T17:58:50.411Z"
   },
   {
    "duration": 11,
    "start_time": "2021-10-24T17:58:50.474Z"
   },
   {
    "duration": 20,
    "start_time": "2021-10-24T17:58:50.487Z"
   },
   {
    "duration": 33,
    "start_time": "2021-10-24T17:58:50.509Z"
   },
   {
    "duration": 13,
    "start_time": "2021-10-24T17:58:50.544Z"
   },
   {
    "duration": 13,
    "start_time": "2021-10-24T17:58:50.559Z"
   },
   {
    "duration": 6,
    "start_time": "2021-10-24T17:58:53.618Z"
   },
   {
    "duration": 6,
    "start_time": "2021-10-24T17:59:51.106Z"
   },
   {
    "duration": 180,
    "start_time": "2021-10-24T17:59:56.610Z"
   },
   {
    "duration": 5,
    "start_time": "2021-10-24T18:00:00.650Z"
   },
   {
    "duration": 7,
    "start_time": "2021-10-24T18:00:30.619Z"
   },
   {
    "duration": 5,
    "start_time": "2021-10-24T18:01:13.897Z"
   },
   {
    "duration": 40,
    "start_time": "2021-10-24T18:01:24.234Z"
   },
   {
    "duration": 7,
    "start_time": "2021-10-24T18:04:56.645Z"
   },
   {
    "duration": 6,
    "start_time": "2021-10-24T18:05:03.238Z"
   },
   {
    "duration": 6,
    "start_time": "2021-10-24T18:05:10.102Z"
   },
   {
    "duration": 5,
    "start_time": "2021-10-24T18:07:24.509Z"
   },
   {
    "duration": 5,
    "start_time": "2021-10-24T18:07:58.862Z"
   },
   {
    "duration": 4,
    "start_time": "2021-10-24T18:10:26.857Z"
   },
   {
    "duration": 4,
    "start_time": "2021-10-24T18:35:56.002Z"
   },
   {
    "duration": 57,
    "start_time": "2021-10-24T18:35:56.008Z"
   },
   {
    "duration": 10,
    "start_time": "2021-10-24T18:35:56.067Z"
   },
   {
    "duration": 12,
    "start_time": "2021-10-24T18:35:56.078Z"
   },
   {
    "duration": 28,
    "start_time": "2021-10-24T18:35:56.092Z"
   },
   {
    "duration": 12,
    "start_time": "2021-10-24T18:35:56.122Z"
   },
   {
    "duration": 13,
    "start_time": "2021-10-24T18:35:56.136Z"
   },
   {
    "duration": 4,
    "start_time": "2021-10-24T18:35:56.151Z"
   },
   {
    "duration": 7,
    "start_time": "2021-10-24T18:35:56.157Z"
   },
   {
    "duration": 4,
    "start_time": "2021-10-24T18:35:56.192Z"
   },
   {
    "duration": 5,
    "start_time": "2021-10-24T18:35:56.198Z"
   },
   {
    "duration": 39,
    "start_time": "2021-10-24T18:35:56.204Z"
   },
   {
    "duration": 218,
    "start_time": "2021-10-24T19:01:48.663Z"
   },
   {
    "duration": 3095,
    "start_time": "2021-10-24T19:02:30.248Z"
   },
   {
    "duration": 3318,
    "start_time": "2021-10-24T19:02:37.086Z"
   },
   {
    "duration": 3268,
    "start_time": "2021-10-24T19:04:25.965Z"
   },
   {
    "duration": 5794,
    "start_time": "2021-10-24T19:22:17.393Z"
   },
   {
    "duration": 4396,
    "start_time": "2021-10-24T19:23:05.397Z"
   },
   {
    "duration": 3256,
    "start_time": "2021-10-24T19:23:20.758Z"
   },
   {
    "duration": 394,
    "start_time": "2021-10-25T16:43:33.389Z"
   },
   {
    "duration": 652,
    "start_time": "2021-10-25T16:43:37.478Z"
   },
   {
    "duration": 67,
    "start_time": "2021-10-25T16:43:38.132Z"
   },
   {
    "duration": 17,
    "start_time": "2021-10-25T16:43:38.202Z"
   },
   {
    "duration": 12,
    "start_time": "2021-10-25T16:43:38.220Z"
   },
   {
    "duration": 48,
    "start_time": "2021-10-25T16:43:38.234Z"
   },
   {
    "duration": 14,
    "start_time": "2021-10-25T16:43:38.284Z"
   },
   {
    "duration": 21,
    "start_time": "2021-10-25T16:43:38.300Z"
   },
   {
    "duration": 10,
    "start_time": "2021-10-25T16:43:38.323Z"
   },
   {
    "duration": 7,
    "start_time": "2021-10-25T16:43:38.335Z"
   },
   {
    "duration": 5,
    "start_time": "2021-10-25T16:43:38.343Z"
   },
   {
    "duration": 29,
    "start_time": "2021-10-25T16:43:38.349Z"
   },
   {
    "duration": 44,
    "start_time": "2021-10-25T16:43:38.380Z"
   },
   {
    "duration": 7,
    "start_time": "2021-10-25T16:43:39.508Z"
   },
   {
    "duration": 3360,
    "start_time": "2021-10-25T16:51:22.402Z"
   },
   {
    "duration": 7,
    "start_time": "2021-10-25T16:53:33.939Z"
   },
   {
    "duration": 2801,
    "start_time": "2021-10-25T16:57:38.312Z"
   },
   {
    "duration": 10,
    "start_time": "2021-10-25T16:57:56.104Z"
   },
   {
    "duration": 15,
    "start_time": "2021-10-25T16:58:23.837Z"
   },
   {
    "duration": 4,
    "start_time": "2021-10-25T17:19:46.958Z"
   },
   {
    "duration": 5,
    "start_time": "2021-10-25T17:20:13.280Z"
   },
   {
    "duration": 5,
    "start_time": "2021-10-25T17:21:35.299Z"
   },
   {
    "duration": 260,
    "start_time": "2021-10-25T17:30:40.965Z"
   },
   {
    "duration": 3377,
    "start_time": "2021-10-25T17:30:50.365Z"
   },
   {
    "duration": 3,
    "start_time": "2021-10-25T17:31:11.790Z"
   },
   {
    "duration": 65,
    "start_time": "2021-10-25T17:31:11.795Z"
   },
   {
    "duration": 15,
    "start_time": "2021-10-25T17:31:11.862Z"
   },
   {
    "duration": 10,
    "start_time": "2021-10-25T17:31:11.879Z"
   },
   {
    "duration": 34,
    "start_time": "2021-10-25T17:31:11.891Z"
   },
   {
    "duration": 16,
    "start_time": "2021-10-25T17:31:11.926Z"
   },
   {
    "duration": 43,
    "start_time": "2021-10-25T17:31:11.944Z"
   },
   {
    "duration": 5,
    "start_time": "2021-10-25T17:31:11.991Z"
   },
   {
    "duration": 8,
    "start_time": "2021-10-25T17:31:11.998Z"
   },
   {
    "duration": 8,
    "start_time": "2021-10-25T17:31:12.008Z"
   },
   {
    "duration": 9,
    "start_time": "2021-10-25T17:31:12.017Z"
   },
   {
    "duration": 70,
    "start_time": "2021-10-25T17:31:12.028Z"
   },
   {
    "duration": 27,
    "start_time": "2021-10-25T17:31:12.099Z"
   },
   {
    "duration": 4202,
    "start_time": "2021-10-25T17:31:12.128Z"
   },
   {
    "duration": 8,
    "start_time": "2021-10-25T17:31:16.332Z"
   },
   {
    "duration": 21,
    "start_time": "2021-10-25T17:31:16.341Z"
   },
   {
    "duration": 6,
    "start_time": "2021-10-25T17:31:16.377Z"
   },
   {
    "duration": 270,
    "start_time": "2021-10-25T17:31:16.385Z"
   },
   {
    "duration": 6,
    "start_time": "2021-10-25T17:50:12.386Z"
   },
   {
    "duration": 31,
    "start_time": "2021-10-25T18:00:02.116Z"
   },
   {
    "duration": 6,
    "start_time": "2021-10-25T18:00:04.498Z"
   },
   {
    "duration": 42,
    "start_time": "2021-10-25T18:00:29.076Z"
   },
   {
    "duration": 6,
    "start_time": "2021-10-25T18:03:17.647Z"
   },
   {
    "duration": 66,
    "start_time": "2021-10-25T18:03:18.039Z"
   },
   {
    "duration": 6,
    "start_time": "2021-10-25T18:03:19.015Z"
   },
   {
    "duration": 60,
    "start_time": "2021-10-25T18:18:46.773Z"
   },
   {
    "duration": 7,
    "start_time": "2021-10-25T18:18:48.545Z"
   },
   {
    "duration": 8,
    "start_time": "2021-10-25T18:25:56.342Z"
   },
   {
    "duration": 46,
    "start_time": "2021-10-25T18:27:07.150Z"
   },
   {
    "duration": 7,
    "start_time": "2021-10-25T18:27:09.995Z"
   },
   {
    "duration": 6,
    "start_time": "2021-10-25T18:31:58.618Z"
   },
   {
    "duration": 8,
    "start_time": "2021-10-25T18:41:48.552Z"
   },
   {
    "duration": 9316,
    "start_time": "2021-10-25T18:45:05.214Z"
   },
   {
    "duration": 8755,
    "start_time": "2021-10-25T18:46:09.118Z"
   },
   {
    "duration": 166,
    "start_time": "2021-10-25T18:46:17.710Z"
   },
   {
    "duration": 161,
    "start_time": "2021-10-25T18:46:17.716Z"
   },
   {
    "duration": 158,
    "start_time": "2021-10-25T18:46:17.721Z"
   },
   {
    "duration": 153,
    "start_time": "2021-10-25T18:46:17.727Z"
   },
   {
    "duration": 148,
    "start_time": "2021-10-25T18:46:17.733Z"
   },
   {
    "duration": 145,
    "start_time": "2021-10-25T18:46:17.737Z"
   },
   {
    "duration": 141,
    "start_time": "2021-10-25T18:46:17.742Z"
   },
   {
    "duration": 140,
    "start_time": "2021-10-25T18:46:17.744Z"
   },
   {
    "duration": 137,
    "start_time": "2021-10-25T18:46:17.748Z"
   },
   {
    "duration": 135,
    "start_time": "2021-10-25T18:46:17.751Z"
   },
   {
    "duration": 133,
    "start_time": "2021-10-25T18:46:17.754Z"
   },
   {
    "duration": 131,
    "start_time": "2021-10-25T18:46:17.758Z"
   },
   {
    "duration": 129,
    "start_time": "2021-10-25T18:46:17.761Z"
   },
   {
    "duration": 127,
    "start_time": "2021-10-25T18:46:17.764Z"
   },
   {
    "duration": 115,
    "start_time": "2021-10-25T18:46:17.777Z"
   },
   {
    "duration": 111,
    "start_time": "2021-10-25T18:46:17.782Z"
   },
   {
    "duration": 108,
    "start_time": "2021-10-25T18:46:17.786Z"
   },
   {
    "duration": 106,
    "start_time": "2021-10-25T18:46:17.789Z"
   },
   {
    "duration": 102,
    "start_time": "2021-10-25T18:46:17.794Z"
   },
   {
    "duration": 100,
    "start_time": "2021-10-25T18:46:17.798Z"
   },
   {
    "duration": 12625,
    "start_time": "2021-10-25T18:46:19.966Z"
   },
   {
    "duration": 14,
    "start_time": "2021-10-25T18:46:56.788Z"
   },
   {
    "duration": 14,
    "start_time": "2021-10-25T18:47:45.762Z"
   },
   {
    "duration": 20,
    "start_time": "2021-10-25T18:57:14.588Z"
   },
   {
    "duration": 20,
    "start_time": "2021-10-25T19:00:32.793Z"
   },
   {
    "duration": 364,
    "start_time": "2021-10-25T19:02:50.640Z"
   },
   {
    "duration": 13,
    "start_time": "2021-10-25T19:02:58.639Z"
   },
   {
    "duration": 120,
    "start_time": "2021-10-25T19:04:58.924Z"
   },
   {
    "duration": 114,
    "start_time": "2021-10-25T19:05:05.692Z"
   },
   {
    "duration": 14,
    "start_time": "2021-10-25T19:05:21.894Z"
   },
   {
    "duration": 15,
    "start_time": "2021-10-25T19:05:39.732Z"
   },
   {
    "duration": 370,
    "start_time": "2021-10-25T19:11:34.994Z"
   },
   {
    "duration": 7,
    "start_time": "2021-10-25T19:11:47.159Z"
   },
   {
    "duration": 352,
    "start_time": "2021-10-25T19:28:55.746Z"
   },
   {
    "duration": 25,
    "start_time": "2021-10-25T19:38:47.379Z"
   },
   {
    "duration": 22,
    "start_time": "2021-10-25T19:54:34.695Z"
   },
   {
    "duration": 27,
    "start_time": "2021-10-25T19:55:01.294Z"
   },
   {
    "duration": 20,
    "start_time": "2021-10-25T19:55:17.875Z"
   },
   {
    "duration": 8793,
    "start_time": "2021-10-25T20:13:01.830Z"
   },
   {
    "duration": 29,
    "start_time": "2021-10-25T20:13:41.078Z"
   },
   {
    "duration": 153,
    "start_time": "2021-10-25T20:14:56.029Z"
   },
   {
    "duration": 22,
    "start_time": "2021-10-25T20:15:02.698Z"
   },
   {
    "duration": 23,
    "start_time": "2021-10-25T20:15:37.795Z"
   },
   {
    "duration": 21,
    "start_time": "2021-10-25T22:09:14.767Z"
   },
   {
    "duration": 379,
    "start_time": "2021-10-25T22:09:53.981Z"
   },
   {
    "duration": 22,
    "start_time": "2021-10-25T22:10:18.791Z"
   },
   {
    "duration": 118,
    "start_time": "2021-10-25T22:11:41.293Z"
   },
   {
    "duration": 419,
    "start_time": "2021-10-25T22:11:45.772Z"
   },
   {
    "duration": 116,
    "start_time": "2021-10-25T22:12:09.514Z"
   },
   {
    "duration": 409,
    "start_time": "2021-10-25T22:12:14.907Z"
   },
   {
    "duration": 59,
    "start_time": "2021-10-25T22:12:39.424Z"
   },
   {
    "duration": 22,
    "start_time": "2021-10-25T22:12:54.063Z"
   },
   {
    "duration": 24,
    "start_time": "2021-10-25T22:17:46.162Z"
   },
   {
    "duration": 14,
    "start_time": "2021-10-25T22:18:20.478Z"
   },
   {
    "duration": 3,
    "start_time": "2021-10-25T22:18:36.974Z"
   },
   {
    "duration": 70,
    "start_time": "2021-10-25T22:18:36.978Z"
   },
   {
    "duration": 10,
    "start_time": "2021-10-25T22:18:37.050Z"
   },
   {
    "duration": 22,
    "start_time": "2021-10-25T22:18:37.063Z"
   },
   {
    "duration": 32,
    "start_time": "2021-10-25T22:18:37.087Z"
   },
   {
    "duration": 13,
    "start_time": "2021-10-25T22:18:37.121Z"
   },
   {
    "duration": 16,
    "start_time": "2021-10-25T22:18:37.136Z"
   },
   {
    "duration": 5,
    "start_time": "2021-10-25T22:18:37.178Z"
   },
   {
    "duration": 8,
    "start_time": "2021-10-25T22:18:37.185Z"
   },
   {
    "duration": 5,
    "start_time": "2021-10-25T22:18:37.195Z"
   },
   {
    "duration": 5,
    "start_time": "2021-10-25T22:18:37.201Z"
   },
   {
    "duration": 74,
    "start_time": "2021-10-25T22:18:37.208Z"
   },
   {
    "duration": 27,
    "start_time": "2021-10-25T22:18:37.284Z"
   },
   {
    "duration": 3612,
    "start_time": "2021-10-25T22:18:37.313Z"
   },
   {
    "duration": 8,
    "start_time": "2021-10-25T22:18:40.927Z"
   },
   {
    "duration": 19,
    "start_time": "2021-10-25T22:18:40.937Z"
   },
   {
    "duration": 23,
    "start_time": "2021-10-25T22:18:40.958Z"
   },
   {
    "duration": 51,
    "start_time": "2021-10-25T22:18:40.982Z"
   },
   {
    "duration": 5,
    "start_time": "2021-10-25T22:18:41.035Z"
   },
   {
    "duration": 9,
    "start_time": "2021-10-25T22:18:41.042Z"
   },
   {
    "duration": 34,
    "start_time": "2021-10-25T22:18:41.053Z"
   },
   {
    "duration": 20,
    "start_time": "2021-10-25T22:18:41.088Z"
   },
   {
    "duration": 17,
    "start_time": "2021-10-25T22:18:41.283Z"
   },
   {
    "duration": 23,
    "start_time": "2021-10-25T22:18:45.377Z"
   },
   {
    "duration": 650,
    "start_time": "2021-10-25T22:24:47.956Z"
   },
   {
    "duration": 22,
    "start_time": "2021-10-25T22:25:04.250Z"
   },
   {
    "duration": 24,
    "start_time": "2021-10-25T22:29:44.079Z"
   },
   {
    "duration": 22,
    "start_time": "2021-10-25T22:29:52.532Z"
   },
   {
    "duration": 463,
    "start_time": "2021-10-25T22:30:05.085Z"
   },
   {
    "duration": 22,
    "start_time": "2021-10-25T22:30:10.900Z"
   },
   {
    "duration": 22,
    "start_time": "2021-10-25T22:35:37.041Z"
   },
   {
    "duration": 21,
    "start_time": "2021-10-25T22:39:11.255Z"
   },
   {
    "duration": 423,
    "start_time": "2021-10-25T22:49:56.892Z"
   },
   {
    "duration": 21,
    "start_time": "2021-10-25T22:50:06.045Z"
   },
   {
    "duration": 23,
    "start_time": "2021-10-25T22:55:51.679Z"
   },
   {
    "duration": 21,
    "start_time": "2021-10-25T22:56:13.449Z"
   },
   {
    "duration": 442,
    "start_time": "2021-10-26T08:51:44.601Z"
   },
   {
    "duration": 767,
    "start_time": "2021-10-26T08:51:48.921Z"
   },
   {
    "duration": 92,
    "start_time": "2021-10-26T08:51:49.691Z"
   },
   {
    "duration": 20,
    "start_time": "2021-10-26T08:51:49.785Z"
   },
   {
    "duration": 13,
    "start_time": "2021-10-26T08:52:29.345Z"
   },
   {
    "duration": 62,
    "start_time": "2021-10-26T08:54:04.672Z"
   },
   {
    "duration": 200,
    "start_time": "2021-10-26T08:54:13.625Z"
   },
   {
    "duration": 61,
    "start_time": "2021-10-26T08:54:24.457Z"
   },
   {
    "duration": 57,
    "start_time": "2021-10-26T08:54:35.993Z"
   },
   {
    "duration": 60,
    "start_time": "2021-10-26T08:54:53.823Z"
   },
   {
    "duration": 53,
    "start_time": "2021-10-26T08:56:29.728Z"
   },
   {
    "duration": 21,
    "start_time": "2021-10-26T08:56:38.175Z"
   },
   {
    "duration": 54,
    "start_time": "2021-10-26T08:57:07.733Z"
   },
   {
    "duration": 23,
    "start_time": "2021-10-26T08:57:08.237Z"
   },
   {
    "duration": 4,
    "start_time": "2021-10-26T09:04:19.603Z"
   },
   {
    "duration": 82,
    "start_time": "2021-10-26T09:04:19.818Z"
   },
   {
    "duration": 15,
    "start_time": "2021-10-26T09:04:20.017Z"
   },
   {
    "duration": 12,
    "start_time": "2021-10-26T09:04:23.185Z"
   },
   {
    "duration": 52,
    "start_time": "2021-10-26T09:04:24.104Z"
   },
   {
    "duration": 21,
    "start_time": "2021-10-26T09:04:25.697Z"
   },
   {
    "duration": 21,
    "start_time": "2021-10-26T09:05:10.003Z"
   },
   {
    "duration": 7,
    "start_time": "2021-10-26T09:05:35.600Z"
   },
   {
    "duration": 9,
    "start_time": "2021-10-26T09:05:37.898Z"
   },
   {
    "duration": 8,
    "start_time": "2021-10-26T09:05:40.825Z"
   },
   {
    "duration": 8,
    "start_time": "2021-10-26T09:05:41.374Z"
   },
   {
    "duration": 64,
    "start_time": "2021-10-26T09:05:45.503Z"
   },
   {
    "duration": 10,
    "start_time": "2021-10-26T09:06:41.918Z"
   },
   {
    "duration": 4602,
    "start_time": "2021-10-26T09:07:04.145Z"
   },
   {
    "duration": 3581,
    "start_time": "2021-10-26T09:07:53.740Z"
   },
   {
    "duration": 3565,
    "start_time": "2021-10-26T09:08:13.503Z"
   },
   {
    "duration": 10,
    "start_time": "2021-10-26T09:09:10.501Z"
   },
   {
    "duration": 27,
    "start_time": "2021-10-26T09:09:18.274Z"
   },
   {
    "duration": 10,
    "start_time": "2021-10-26T09:09:20.924Z"
   },
   {
    "duration": 17,
    "start_time": "2021-10-26T09:09:21.187Z"
   },
   {
    "duration": 10,
    "start_time": "2021-10-26T09:09:33.261Z"
   },
   {
    "duration": 17,
    "start_time": "2021-10-26T09:09:33.660Z"
   },
   {
    "duration": 4,
    "start_time": "2021-10-26T09:10:04.068Z"
   },
   {
    "duration": 110,
    "start_time": "2021-10-26T09:10:04.075Z"
   },
   {
    "duration": 18,
    "start_time": "2021-10-26T09:10:04.189Z"
   },
   {
    "duration": 35,
    "start_time": "2021-10-26T09:10:04.210Z"
   },
   {
    "duration": 62,
    "start_time": "2021-10-26T09:10:04.248Z"
   },
   {
    "duration": 30,
    "start_time": "2021-10-26T09:10:04.312Z"
   },
   {
    "duration": 28,
    "start_time": "2021-10-26T09:10:04.345Z"
   },
   {
    "duration": 9,
    "start_time": "2021-10-26T09:10:04.404Z"
   },
   {
    "duration": 30,
    "start_time": "2021-10-26T09:10:04.416Z"
   },
   {
    "duration": 21,
    "start_time": "2021-10-26T09:10:04.449Z"
   },
   {
    "duration": 18,
    "start_time": "2021-10-26T09:10:04.473Z"
   },
   {
    "duration": 120,
    "start_time": "2021-10-26T09:10:04.501Z"
   },
   {
    "duration": 31,
    "start_time": "2021-10-26T09:10:04.624Z"
   },
   {
    "duration": 4586,
    "start_time": "2021-10-26T09:10:04.658Z"
   },
   {
    "duration": 10,
    "start_time": "2021-10-26T09:10:09.247Z"
   },
   {
    "duration": 42,
    "start_time": "2021-10-26T09:10:09.260Z"
   },
   {
    "duration": 10,
    "start_time": "2021-10-26T09:11:50.114Z"
   },
   {
    "duration": 9,
    "start_time": "2021-10-26T09:12:05.484Z"
   },
   {
    "duration": 14,
    "start_time": "2021-10-26T09:19:01.517Z"
   },
   {
    "duration": 12,
    "start_time": "2021-10-26T09:19:14.461Z"
   },
   {
    "duration": 77,
    "start_time": "2021-10-26T09:19:24.188Z"
   },
   {
    "duration": 10,
    "start_time": "2021-10-26T09:19:24.579Z"
   },
   {
    "duration": 86,
    "start_time": "2021-10-26T09:20:24.004Z"
   },
   {
    "duration": 8,
    "start_time": "2021-10-26T09:20:24.187Z"
   },
   {
    "duration": 13,
    "start_time": "2021-10-26T09:20:51.867Z"
   },
   {
    "duration": 77,
    "start_time": "2021-10-26T09:20:52.195Z"
   },
   {
    "duration": 9,
    "start_time": "2021-10-26T09:20:52.714Z"
   },
   {
    "duration": 8,
    "start_time": "2021-10-26T09:22:50.938Z"
   },
   {
    "duration": 18,
    "start_time": "2021-10-26T09:23:14.146Z"
   },
   {
    "duration": 33,
    "start_time": "2021-10-26T09:23:15.072Z"
   },
   {
    "duration": 24,
    "start_time": "2021-10-26T09:23:30.241Z"
   },
   {
    "duration": 41,
    "start_time": "2021-10-26T09:25:45.712Z"
   },
   {
    "duration": 31,
    "start_time": "2021-10-26T09:26:35.224Z"
   },
   {
    "duration": 33,
    "start_time": "2021-10-26T09:33:45.660Z"
   },
   {
    "duration": 639,
    "start_time": "2021-10-26T14:40:55.825Z"
   },
   {
    "duration": 80,
    "start_time": "2021-10-26T14:40:56.466Z"
   },
   {
    "duration": 17,
    "start_time": "2021-10-26T14:40:56.549Z"
   },
   {
    "duration": 16,
    "start_time": "2021-10-26T14:40:56.577Z"
   },
   {
    "duration": 42,
    "start_time": "2021-10-26T14:40:56.596Z"
   },
   {
    "duration": 40,
    "start_time": "2021-10-26T14:40:56.640Z"
   },
   {
    "duration": 28,
    "start_time": "2021-10-26T14:40:56.683Z"
   },
   {
    "duration": 4,
    "start_time": "2021-10-26T14:40:56.714Z"
   },
   {
    "duration": 8,
    "start_time": "2021-10-26T14:40:56.720Z"
   },
   {
    "duration": 7,
    "start_time": "2021-10-26T14:40:56.730Z"
   },
   {
    "duration": 11,
    "start_time": "2021-10-26T14:40:56.738Z"
   },
   {
    "duration": 77,
    "start_time": "2021-10-26T14:40:56.750Z"
   },
   {
    "duration": 6,
    "start_time": "2021-10-26T14:40:56.829Z"
   },
   {
    "duration": 4081,
    "start_time": "2021-10-26T14:40:56.837Z"
   },
   {
    "duration": 7,
    "start_time": "2021-10-26T14:41:00.920Z"
   },
   {
    "duration": 20,
    "start_time": "2021-10-26T14:41:00.929Z"
   },
   {
    "duration": 10,
    "start_time": "2021-10-26T14:41:00.950Z"
   },
   {
    "duration": 60,
    "start_time": "2021-10-26T14:41:00.978Z"
   },
   {
    "duration": 5,
    "start_time": "2021-10-26T14:41:01.039Z"
   },
   {
    "duration": 18,
    "start_time": "2021-10-26T14:41:01.046Z"
   },
   {
    "duration": 39,
    "start_time": "2021-10-26T14:41:01.066Z"
   },
   {
    "duration": 21,
    "start_time": "2021-10-26T14:41:01.106Z"
   },
   {
    "duration": 20,
    "start_time": "2021-10-26T14:41:01.130Z"
   },
   {
    "duration": 58,
    "start_time": "2021-10-26T14:41:01.152Z"
   },
   {
    "duration": 21,
    "start_time": "2021-10-26T14:41:01.212Z"
   },
   {
    "duration": 20,
    "start_time": "2021-10-26T14:41:01.234Z"
   },
   {
    "duration": 132,
    "start_time": "2021-10-27T06:39:08.931Z"
   },
   {
    "duration": 208,
    "start_time": "2021-10-27T06:39:16.463Z"
   },
   {
    "duration": 422,
    "start_time": "2021-10-27T07:14:41.968Z"
   },
   {
    "duration": 348,
    "start_time": "2021-10-27T07:14:45.452Z"
   },
   {
    "duration": 807,
    "start_time": "2021-10-27T07:14:51.643Z"
   },
   {
    "duration": 92,
    "start_time": "2021-10-27T07:14:52.453Z"
   },
   {
    "duration": 17,
    "start_time": "2021-10-27T07:14:53.531Z"
   },
   {
    "duration": 77,
    "start_time": "2021-10-27T07:14:58.772Z"
   },
   {
    "duration": 16,
    "start_time": "2021-10-27T07:14:59.348Z"
   },
   {
    "duration": 17,
    "start_time": "2021-10-27T07:17:11.212Z"
   },
   {
    "duration": 17,
    "start_time": "2021-10-27T07:17:18.201Z"
   },
   {
    "duration": 386,
    "start_time": "2021-10-27T07:17:23.118Z"
   },
   {
    "duration": 17,
    "start_time": "2021-10-27T07:17:27.856Z"
   },
   {
    "duration": 18,
    "start_time": "2021-10-27T07:17:30.680Z"
   },
   {
    "duration": 17,
    "start_time": "2021-10-27T07:17:31.689Z"
   },
   {
    "duration": 17,
    "start_time": "2021-10-27T07:19:01.906Z"
   },
   {
    "duration": 17,
    "start_time": "2021-10-27T07:19:37.520Z"
   },
   {
    "duration": 19,
    "start_time": "2021-10-27T07:23:33.387Z"
   },
   {
    "duration": 19,
    "start_time": "2021-10-27T07:23:36.868Z"
   },
   {
    "duration": 19,
    "start_time": "2021-10-27T07:23:38.108Z"
   },
   {
    "duration": 955,
    "start_time": "2021-10-27T07:24:39.766Z"
   },
   {
    "duration": 20,
    "start_time": "2021-10-27T07:24:45.671Z"
   },
   {
    "duration": 19,
    "start_time": "2021-10-27T07:36:40.076Z"
   },
   {
    "duration": 940,
    "start_time": "2021-10-27T10:17:48.122Z"
   },
   {
    "duration": 99,
    "start_time": "2021-10-27T10:17:49.256Z"
   },
   {
    "duration": 17,
    "start_time": "2021-10-27T10:18:07.944Z"
   },
   {
    "duration": 19,
    "start_time": "2021-10-27T10:18:08.440Z"
   },
   {
    "duration": 80,
    "start_time": "2021-10-27T10:19:54.874Z"
   },
   {
    "duration": 19,
    "start_time": "2021-10-27T10:20:02.230Z"
   },
   {
    "duration": 20,
    "start_time": "2021-10-27T10:20:29.830Z"
   },
   {
    "duration": 48,
    "start_time": "2021-10-27T10:23:52.403Z"
   },
   {
    "duration": 49,
    "start_time": "2021-10-27T10:24:02.196Z"
   },
   {
    "duration": 48,
    "start_time": "2021-10-27T10:24:06.803Z"
   },
   {
    "duration": 47,
    "start_time": "2021-10-27T10:24:12.643Z"
   },
   {
    "duration": 47,
    "start_time": "2021-10-27T10:30:13.254Z"
   },
   {
    "duration": 47,
    "start_time": "2021-10-27T10:33:43.779Z"
   },
   {
    "duration": 97,
    "start_time": "2021-10-27T10:41:43.654Z"
   },
   {
    "duration": 414,
    "start_time": "2021-10-27T11:33:21.611Z"
   },
   {
    "duration": 293,
    "start_time": "2021-10-27T11:33:31.003Z"
   },
   {
    "duration": 4,
    "start_time": "2021-10-27T11:33:35.779Z"
   },
   {
    "duration": 85,
    "start_time": "2021-10-27T11:33:35.786Z"
   },
   {
    "duration": 18,
    "start_time": "2021-10-27T11:33:35.874Z"
   },
   {
    "duration": 44,
    "start_time": "2021-10-27T11:33:35.895Z"
   },
   {
    "duration": 15,
    "start_time": "2021-10-27T11:33:35.942Z"
   },
   {
    "duration": 95,
    "start_time": "2021-10-27T11:33:35.960Z"
   },
   {
    "duration": 13,
    "start_time": "2021-10-27T11:33:36.058Z"
   },
   {
    "duration": 85,
    "start_time": "2021-10-27T11:33:36.074Z"
   },
   {
    "duration": 22,
    "start_time": "2021-10-27T11:33:36.162Z"
   },
   {
    "duration": 4,
    "start_time": "2021-10-27T11:33:45.384Z"
   },
   {
    "duration": 83,
    "start_time": "2021-10-27T11:33:45.390Z"
   },
   {
    "duration": 19,
    "start_time": "2021-10-27T11:33:45.476Z"
   },
   {
    "duration": 44,
    "start_time": "2021-10-27T11:33:45.497Z"
   },
   {
    "duration": 16,
    "start_time": "2021-10-27T11:33:45.543Z"
   },
   {
    "duration": 94,
    "start_time": "2021-10-27T11:33:45.562Z"
   },
   {
    "duration": 12,
    "start_time": "2021-10-27T11:33:45.659Z"
   },
   {
    "duration": 80,
    "start_time": "2021-10-27T11:33:45.674Z"
   },
   {
    "duration": 20,
    "start_time": "2021-10-27T11:33:45.756Z"
   },
   {
    "duration": 47,
    "start_time": "2021-10-27T11:33:45.779Z"
   },
   {
    "duration": 20,
    "start_time": "2021-10-27T11:33:52.736Z"
   },
   {
    "duration": 16,
    "start_time": "2021-10-27T11:34:00.552Z"
   },
   {
    "duration": 277,
    "start_time": "2021-10-27T11:35:58.799Z"
   },
   {
    "duration": 17,
    "start_time": "2021-10-27T11:36:45.600Z"
   },
   {
    "duration": 24,
    "start_time": "2021-10-27T11:36:55.951Z"
   },
   {
    "duration": 19,
    "start_time": "2021-10-27T11:37:12.397Z"
   },
   {
    "duration": 4,
    "start_time": "2021-10-27T12:02:48.538Z"
   },
   {
    "duration": 90,
    "start_time": "2021-10-27T12:02:48.544Z"
   },
   {
    "duration": 17,
    "start_time": "2021-10-27T12:02:48.637Z"
   },
   {
    "duration": 19,
    "start_time": "2021-10-27T12:02:48.657Z"
   },
   {
    "duration": 61,
    "start_time": "2021-10-27T12:02:48.678Z"
   },
   {
    "duration": 50,
    "start_time": "2021-10-27T12:02:48.742Z"
   },
   {
    "duration": 12,
    "start_time": "2021-10-27T12:02:48.822Z"
   },
   {
    "duration": 56,
    "start_time": "2021-10-27T12:02:48.838Z"
   },
   {
    "duration": 21,
    "start_time": "2021-10-27T12:02:48.921Z"
   },
   {
    "duration": 33,
    "start_time": "2021-10-27T12:02:48.944Z"
   },
   {
    "duration": 12,
    "start_time": "2021-10-27T12:02:48.979Z"
   },
   {
    "duration": 32,
    "start_time": "2021-10-27T12:02:48.993Z"
   },
   {
    "duration": 9,
    "start_time": "2021-10-27T12:02:49.028Z"
   },
   {
    "duration": 7,
    "start_time": "2021-10-27T12:02:49.039Z"
   },
   {
    "duration": 105,
    "start_time": "2021-10-27T12:02:49.048Z"
   },
   {
    "duration": 9,
    "start_time": "2021-10-27T12:02:49.155Z"
   },
   {
    "duration": 4557,
    "start_time": "2021-10-27T12:02:49.167Z"
   },
   {
    "duration": 10,
    "start_time": "2021-10-27T12:02:53.727Z"
   },
   {
    "duration": 22,
    "start_time": "2021-10-27T12:02:53.740Z"
   },
   {
    "duration": 12,
    "start_time": "2021-10-27T12:02:53.764Z"
   },
   {
    "duration": 128,
    "start_time": "2021-10-27T12:02:53.822Z"
   },
   {
    "duration": 8,
    "start_time": "2021-10-27T12:02:53.952Z"
   },
   {
    "duration": 8,
    "start_time": "2021-10-27T12:02:53.964Z"
   },
   {
    "duration": 56,
    "start_time": "2021-10-27T12:02:53.975Z"
   },
   {
    "duration": 32,
    "start_time": "2021-10-27T12:02:54.033Z"
   },
   {
    "duration": 57,
    "start_time": "2021-10-27T12:02:54.067Z"
   },
   {
    "duration": 42,
    "start_time": "2021-10-27T12:02:54.126Z"
   },
   {
    "duration": 55,
    "start_time": "2021-10-27T12:02:54.171Z"
   },
   {
    "duration": 32,
    "start_time": "2021-10-27T12:02:54.229Z"
   },
   {
    "duration": 329,
    "start_time": "2021-11-17T16:09:50.172Z"
   },
   {
    "duration": 596,
    "start_time": "2021-11-17T16:09:54.212Z"
   },
   {
    "duration": 83,
    "start_time": "2021-11-17T16:09:54.810Z"
   },
   {
    "duration": 21,
    "start_time": "2021-11-17T16:09:54.895Z"
   },
   {
    "duration": 23,
    "start_time": "2021-11-17T16:09:54.919Z"
   },
   {
    "duration": 11,
    "start_time": "2021-11-17T16:09:54.964Z"
   },
   {
    "duration": 36,
    "start_time": "2021-11-17T16:09:54.977Z"
   },
   {
    "duration": 9,
    "start_time": "2021-11-17T16:09:55.015Z"
   },
   {
    "duration": 64,
    "start_time": "2021-11-17T16:09:55.027Z"
   },
   {
    "duration": 16,
    "start_time": "2021-11-17T16:09:55.094Z"
   },
   {
    "duration": 19,
    "start_time": "2021-11-17T16:09:55.112Z"
   },
   {
    "duration": 5,
    "start_time": "2021-11-17T16:09:55.133Z"
   },
   {
    "duration": 6,
    "start_time": "2021-11-17T16:09:55.163Z"
   },
   {
    "duration": 5,
    "start_time": "2021-11-17T16:09:55.171Z"
   },
   {
    "duration": 6,
    "start_time": "2021-11-17T16:09:55.178Z"
   },
   {
    "duration": 94,
    "start_time": "2021-11-17T16:09:55.187Z"
   },
   {
    "duration": 6,
    "start_time": "2021-11-17T16:09:55.283Z"
   },
   {
    "duration": 4161,
    "start_time": "2021-11-17T16:09:55.291Z"
   },
   {
    "duration": 7,
    "start_time": "2021-11-17T16:09:59.463Z"
   },
   {
    "duration": 17,
    "start_time": "2021-11-17T16:09:59.472Z"
   },
   {
    "duration": 9,
    "start_time": "2021-11-17T16:09:59.490Z"
   },
   {
    "duration": 96,
    "start_time": "2021-11-17T16:09:59.501Z"
   },
   {
    "duration": 5,
    "start_time": "2021-11-17T16:09:59.599Z"
   },
   {
    "duration": 6,
    "start_time": "2021-11-17T16:09:59.607Z"
   },
   {
    "duration": 12,
    "start_time": "2021-11-17T16:09:59.615Z"
   },
   {
    "duration": 50,
    "start_time": "2021-11-17T16:09:59.629Z"
   },
   {
    "duration": 20,
    "start_time": "2021-11-17T16:09:59.681Z"
   },
   {
    "duration": 32,
    "start_time": "2021-11-17T16:09:59.703Z"
   },
   {
    "duration": 42,
    "start_time": "2021-11-17T16:09:59.737Z"
   },
   {
    "duration": 23,
    "start_time": "2021-11-17T16:09:59.781Z"
   },
   {
    "duration": 16,
    "start_time": "2021-11-17T16:11:55.422Z"
   },
   {
    "duration": 3,
    "start_time": "2021-11-17T16:12:22.657Z"
   },
   {
    "duration": 62,
    "start_time": "2021-11-17T16:12:23.865Z"
   },
   {
    "duration": 2,
    "start_time": "2021-11-17T16:15:19.901Z"
   },
   {
    "duration": 70,
    "start_time": "2021-11-17T16:15:19.908Z"
   },
   {
    "duration": 13,
    "start_time": "2021-11-17T16:15:19.980Z"
   },
   {
    "duration": 16,
    "start_time": "2021-11-17T16:15:19.995Z"
   },
   {
    "duration": 25,
    "start_time": "2021-11-17T16:15:20.013Z"
   },
   {
    "duration": 39,
    "start_time": "2021-11-17T16:15:20.065Z"
   },
   {
    "duration": 10,
    "start_time": "2021-11-17T16:15:20.107Z"
   },
   {
    "duration": 69,
    "start_time": "2021-11-17T16:15:20.119Z"
   },
   {
    "duration": 14,
    "start_time": "2021-11-17T16:15:20.191Z"
   },
   {
    "duration": 21,
    "start_time": "2021-11-17T16:15:20.208Z"
   },
   {
    "duration": 5,
    "start_time": "2021-11-17T16:15:20.231Z"
   },
   {
    "duration": 27,
    "start_time": "2021-11-17T16:15:20.238Z"
   },
   {
    "duration": 5,
    "start_time": "2021-11-17T16:15:20.267Z"
   },
   {
    "duration": 10,
    "start_time": "2021-11-17T16:15:20.274Z"
   },
   {
    "duration": 47,
    "start_time": "2021-11-17T16:15:20.286Z"
   },
   {
    "duration": 48,
    "start_time": "2021-11-17T16:15:20.335Z"
   },
   {
    "duration": 3860,
    "start_time": "2021-11-17T16:15:20.385Z"
   },
   {
    "duration": 21,
    "start_time": "2021-11-17T16:15:24.247Z"
   },
   {
    "duration": 34,
    "start_time": "2021-11-17T16:15:24.269Z"
   },
   {
    "duration": 9,
    "start_time": "2021-11-17T16:15:24.305Z"
   },
   {
    "duration": 85,
    "start_time": "2021-11-17T16:15:24.316Z"
   },
   {
    "duration": 6,
    "start_time": "2021-11-17T16:15:24.403Z"
   },
   {
    "duration": 16,
    "start_time": "2021-11-17T16:15:24.410Z"
   },
   {
    "duration": 26,
    "start_time": "2021-11-17T16:15:24.429Z"
   },
   {
    "duration": 22,
    "start_time": "2021-11-17T16:15:24.457Z"
   },
   {
    "duration": 21,
    "start_time": "2021-11-17T16:15:24.481Z"
   },
   {
    "duration": 25,
    "start_time": "2021-11-17T16:15:24.504Z"
   },
   {
    "duration": 47,
    "start_time": "2021-11-17T16:15:24.531Z"
   },
   {
    "duration": 22,
    "start_time": "2021-11-17T16:15:24.580Z"
   }
  ],
  "kernelspec": {
   "display_name": "Python 3",
   "language": "python",
   "name": "python3"
  },
  "language_info": {
   "codemirror_mode": {
    "name": "ipython",
    "version": 3
   },
   "file_extension": ".py",
   "mimetype": "text/x-python",
   "name": "python",
   "nbconvert_exporter": "python",
   "pygments_lexer": "ipython3",
   "version": "3.7.8"
  },
  "toc": {
   "base_numbering": 1,
   "nav_menu": {},
   "number_sections": false,
   "sideBar": true,
   "skip_h1_title": true,
   "title_cell": "Table of Contents",
   "title_sidebar": "Contents",
   "toc_cell": false,
   "toc_position": {},
   "toc_section_display": true,
   "toc_window_display": true
  }
 },
 "nbformat": 4,
 "nbformat_minor": 2
}
