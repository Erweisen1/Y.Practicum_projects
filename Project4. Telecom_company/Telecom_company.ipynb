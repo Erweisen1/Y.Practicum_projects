{
 "cells": [
  {
   "cell_type": "markdown",
   "metadata": {},
   "source": [
    "<div class=\"alert alert-success\">\n",
    "<font size=\"5\"><b>Комментарий ревьюера 2</b></font>\n",
    "\n",
    "Привет, работа выполнена хорошо! Поздравляю со сданным проектом. Надеюсь, он был интересен и познавателен. Успехов в дальнейшем пути :)\n",
    "\n",
    "</div>"
   ]
  },
  {
   "cell_type": "markdown",
   "metadata": {},
   "source": [
    "<div class=\"alert alert-info\">\n",
    "<font size=\"5\"><b>Комментарий ревьюера</b></font>\n",
    "\n",
    "Привет, Дарина! Спасибо, что прислала задание:) Меня зовут Слепцов Артем и я буду проверять твой проект) Ты проделала большую работу над проектом. Он выполнен уже на достойном уровне. Если ты, надеюсь, не против, я буду на ты. Если обращение на ты неприемлемо, то прошу сообщить. \n",
    "\n",
    "Мои комментарии обозначены пометкой **Комментарий ревьюера**. Далее в файле ты сможешь найти их в похожих ячейках:\n",
    "    \n",
    "<div class=\"alert alert-success\">Успех: Если фон комментария зелёный - всё сделано правильно. Рекомендации укажу таким же цветом;</div>\n",
    "        \n",
    "<div class=\"alert alert-warning\">Совет: Оранжевый - некритичные замечания. Если таких замечаний меньше трех - проект может быть принят без их отработки;</div>\n",
    "        \n",
    "<div class=\"alert alert-danger\">Ошибка: Красный - нужно переделать. </div>\n",
    "        \n",
    "Не удаляй эти комментарии, свои же комментарии ты можешь обозначать любым заметным способом. \n",
    "\n",
    "</div>"
   ]
  },
  {
   "cell_type": "markdown",
   "metadata": {},
   "source": [
    "<div class=\"alert alert-info\" style=\"background:#E6E6FA;color:#483D8B\">\n",
    "<font size=\"5\"><b>Комментарий студента</b></font>\n",
    "\n",
    "Привет! Спасибо за ревью, приняла во внимание совет, что необходимо перезапускать ноутбук перед отправкой. Так же спасибо за оставленную ссылку, буду изучать)\n",
    "    \n",
    "</div>"
   ]
  },
  {
   "cell_type": "markdown",
   "metadata": {
    "toc": true
   },
   "source": [
    "<h1>Table of Contents<span class=\"tocSkip\"></span></h1>\n",
    "<div class=\"toc\"><ul class=\"toc-item\"><li><span><a href=\"#Исследование-длительности-звонков\" data-toc-modified-id=\"Исследование-длительности-звонков-1\"><span class=\"toc-item-num\">1&nbsp;&nbsp;</span>Исследование длительности звонков</a></span></li><li><span><a href=\"#Исследование-количества-сообщений\" data-toc-modified-id=\"Исследование-количества-сообщений-2\"><span class=\"toc-item-num\">2&nbsp;&nbsp;</span>Исследование количества сообщений</a></span></li><li><span><a href=\"#Исследование-интернет-трафика\" data-toc-modified-id=\"Исследование-интернет-трафика-3\"><span class=\"toc-item-num\">3&nbsp;&nbsp;</span>Исследование интернет-трафика</a></span></li><li><span><a href=\"#Подготовка-массива-данных-для-дальнейшего-исследования\" data-toc-modified-id=\"Подготовка-массива-данных-для-дальнейшего-исследования-4\"><span class=\"toc-item-num\">4&nbsp;&nbsp;</span>Подготовка массива данных для дальнейшего исследования</a></span></li><li><span><a href=\"#Проверка-гипотез\" data-toc-modified-id=\"Проверка-гипотез-5\"><span class=\"toc-item-num\">5&nbsp;&nbsp;</span>Проверка гипотез</a></span></li></ul></div>"
   ]
  },
  {
   "cell_type": "markdown",
   "metadata": {},
   "source": [
    "# Определение перспективного тарифа для телеком-компании\n",
    "\n",
    "**Цель**: Проанализировать поведение клиентов и сделать вывод — какой тариф лучше.\n",
    "\n",
    "**Описание данных**:\n",
    "\n",
    "Таблица `users` - информация о пользователях;\n",
    "\n",
    "Таблица `calls` - информация о звонках;\n",
    "\n",
    "Таблица `messages` - информация о сообщениях;\n",
    "\n",
    "Таблица `internet` - информация об интернет-сессиях;\n",
    "\n",
    "Таблица `tariffs` - информация о тарифах.\n",
    "\n",
    "**Описание тарифов**:\n",
    "\n",
    "* Тариф «Смарт»\n",
    "\n",
    "1. Ежемесячная плата: 550 рублей\n",
    "2. Включено 500 минут разговора, 50 сообщений и 15 Гб интернет-трафика\n",
    "3. Стоимость услуг сверх тарифного пакета: 1. минута разговора: 3 рубля; 2. сообщение: 3 рубля; 3. 1 Гб интернет-трафика: 200 рублей.\n",
    "\n",
    "* Тариф «Ультра»\n",
    "\n",
    "1. Ежемесячная плата: 1950 рублей\n",
    "2. Включено 3000 минут разговора, 1000 сообщений и 30 Гб интернет-трафика\n",
    "3. Стоимость услуг сверх тарифного пакета: 1. минута разговора: 1 рубль; 2. сообщение: 1 рубль; 3. 1 Гб интернет-трафика: 150 рублей.\n",
    "\n",
    "**Примечание**: \n",
    "* «Мегалайн» всегда округляет секунды до минут, а мегабайты — до гигабайт. Каждый звонок округляется отдельно: даже если он длился всего 1 секунду, будет засчитан как 1 минута.\n",
    "\n",
    "* Для веб-трафика отдельные сессии не считаются. Вместо этого общая сумма за месяц округляется в бо́льшую сторону. \n"
   ]
  },
  {
   "cell_type": "markdown",
   "metadata": {},
   "source": [
    "<div class=\"alert alert-success\">\n",
    "<font size=\"5\"><b>Комментарий ревьюера</b></font>\n",
    "\n",
    "Успех: Вступление в работу очень важно. Так ты поясняешь то, чему она посвящена. \n",
    "\n",
    "</div>"
   ]
  },
  {
   "cell_type": "code",
   "execution_count": 1,
   "metadata": {},
   "outputs": [],
   "source": [
    "# Выгрузка необходимых библиотек\n",
    "import pandas as pd\n",
    "import matplotlib.pyplot as plt\n",
    "import numpy as np\n",
    "from scipy import stats as st"
   ]
  },
  {
   "cell_type": "markdown",
   "metadata": {},
   "source": [
    "<div class=\"alert alert-success\">\n",
    "<font size=\"5\"><b>Комментарий ревьюера</b></font>\n",
    "\n",
    "Успех: Правильно, что весь импорт ты проводишь в первой ячейке работы. Так твой коллега, запускающий работу, будет в курсе используемых в ней библиотек и сможет при необходимости быстро настроить окружение. \n",
    "\n",
    "</div>"
   ]
  },
  {
   "cell_type": "code",
   "execution_count": 2,
   "metadata": {},
   "outputs": [],
   "source": [
    "# Выгрузка массивов данных\n",
    "df_calls = pd.read_csv('/datasets/calls.csv', parse_dates=['call_date']).copy()\n",
    "df_internet = pd.read_csv('/datasets/internet.csv', index_col=0, parse_dates=['session_date']).copy()\n",
    "df_messages = pd.read_csv('/datasets/messages.csv', parse_dates=['message_date'])\n",
    "df_tariffs = pd.read_csv('/datasets/tariffs.csv')\n",
    "df_users = pd.read_csv('/datasets/users.csv', parse_dates=['churn_date', 'reg_date'])"
   ]
  },
  {
   "cell_type": "markdown",
   "metadata": {},
   "source": [
    "# Подготовка данных"
   ]
  },
  {
   "cell_type": "code",
   "execution_count": 3,
   "metadata": {
    "scrolled": false
   },
   "outputs": [
    {
     "data": {
      "text/html": [
       "<div>\n",
       "<style scoped>\n",
       "    .dataframe tbody tr th:only-of-type {\n",
       "        vertical-align: middle;\n",
       "    }\n",
       "\n",
       "    .dataframe tbody tr th {\n",
       "        vertical-align: top;\n",
       "    }\n",
       "\n",
       "    .dataframe thead th {\n",
       "        text-align: right;\n",
       "    }\n",
       "</style>\n",
       "<table border=\"1\" class=\"dataframe\">\n",
       "  <thead>\n",
       "    <tr style=\"text-align: right;\">\n",
       "      <th></th>\n",
       "      <th>user_id</th>\n",
       "      <th>age</th>\n",
       "      <th>churn_date</th>\n",
       "      <th>city</th>\n",
       "      <th>first_name</th>\n",
       "      <th>last_name</th>\n",
       "      <th>reg_date</th>\n",
       "      <th>tariff</th>\n",
       "    </tr>\n",
       "  </thead>\n",
       "  <tbody>\n",
       "    <tr>\n",
       "      <td>0</td>\n",
       "      <td>1000</td>\n",
       "      <td>52</td>\n",
       "      <td>NaT</td>\n",
       "      <td>Краснодар</td>\n",
       "      <td>Рафаил</td>\n",
       "      <td>Верещагин</td>\n",
       "      <td>2018-05-25</td>\n",
       "      <td>ultra</td>\n",
       "    </tr>\n",
       "    <tr>\n",
       "      <td>1</td>\n",
       "      <td>1001</td>\n",
       "      <td>41</td>\n",
       "      <td>NaT</td>\n",
       "      <td>Москва</td>\n",
       "      <td>Иван</td>\n",
       "      <td>Ежов</td>\n",
       "      <td>2018-11-01</td>\n",
       "      <td>smart</td>\n",
       "    </tr>\n",
       "    <tr>\n",
       "      <td>2</td>\n",
       "      <td>1002</td>\n",
       "      <td>59</td>\n",
       "      <td>NaT</td>\n",
       "      <td>Стерлитамак</td>\n",
       "      <td>Евгений</td>\n",
       "      <td>Абрамович</td>\n",
       "      <td>2018-06-17</td>\n",
       "      <td>smart</td>\n",
       "    </tr>\n",
       "    <tr>\n",
       "      <td>3</td>\n",
       "      <td>1003</td>\n",
       "      <td>23</td>\n",
       "      <td>NaT</td>\n",
       "      <td>Москва</td>\n",
       "      <td>Белла</td>\n",
       "      <td>Белякова</td>\n",
       "      <td>2018-08-17</td>\n",
       "      <td>ultra</td>\n",
       "    </tr>\n",
       "    <tr>\n",
       "      <td>4</td>\n",
       "      <td>1004</td>\n",
       "      <td>68</td>\n",
       "      <td>NaT</td>\n",
       "      <td>Новокузнецк</td>\n",
       "      <td>Татьяна</td>\n",
       "      <td>Авдеенко</td>\n",
       "      <td>2018-05-14</td>\n",
       "      <td>ultra</td>\n",
       "    </tr>\n",
       "  </tbody>\n",
       "</table>\n",
       "</div>"
      ],
      "text/plain": [
       "   user_id  age churn_date         city first_name  last_name   reg_date  \\\n",
       "0     1000   52        NaT    Краснодар     Рафаил  Верещагин 2018-05-25   \n",
       "1     1001   41        NaT       Москва       Иван       Ежов 2018-11-01   \n",
       "2     1002   59        NaT  Стерлитамак    Евгений  Абрамович 2018-06-17   \n",
       "3     1003   23        NaT       Москва      Белла   Белякова 2018-08-17   \n",
       "4     1004   68        NaT  Новокузнецк    Татьяна   Авдеенко 2018-05-14   \n",
       "\n",
       "  tariff  \n",
       "0  ultra  \n",
       "1  smart  \n",
       "2  smart  \n",
       "3  ultra  \n",
       "4  ultra  "
      ]
     },
     "execution_count": 3,
     "metadata": {},
     "output_type": "execute_result"
    }
   ],
   "source": [
    "# Изучим информацию о пользователях\n",
    "df_users.head()"
   ]
  },
  {
   "cell_type": "markdown",
   "metadata": {},
   "source": [
    "<div class=\"alert alert-info\">\n",
    "<font size=\"5\"><b>Комментарий ревьюера</b></font>\n",
    "\n",
    "Совет: Я заметил, что ячейки в твоей тетрадке начинаются не с 1. Перед отправкой работы рекомендую перезапускать ноутбук, чтобы убедиться, что все ячейки выполняются корректно.\n",
    "\n",
    "</div>"
   ]
  },
  {
   "cell_type": "code",
   "execution_count": 4,
   "metadata": {
    "scrolled": false
   },
   "outputs": [
    {
     "name": "stdout",
     "output_type": "stream",
     "text": [
      "<class 'pandas.core.frame.DataFrame'>\n",
      "RangeIndex: 500 entries, 0 to 499\n",
      "Data columns (total 8 columns):\n",
      "user_id       500 non-null int64\n",
      "age           500 non-null int64\n",
      "churn_date    38 non-null datetime64[ns]\n",
      "city          500 non-null object\n",
      "first_name    500 non-null object\n",
      "last_name     500 non-null object\n",
      "reg_date      500 non-null datetime64[ns]\n",
      "tariff        500 non-null object\n",
      "dtypes: datetime64[ns](2), int64(2), object(4)\n",
      "memory usage: 31.4+ KB\n"
     ]
    }
   ],
   "source": [
    "df_users.info()"
   ]
  },
  {
   "cell_type": "markdown",
   "metadata": {},
   "source": [
    "<div class=\"alert alert-success\">\n",
    "<font size=\"5\"><b>Комментарий ревьюера </b></font>\n",
    "\n",
    "Успех: Здорово, что ты освоила способ устранения проблем с типом дат в данных уже на стадии их считывания. \n",
    "\n",
    "</div>"
   ]
  },
  {
   "cell_type": "code",
   "execution_count": 5,
   "metadata": {},
   "outputs": [
    {
     "data": {
      "text/html": [
       "<div>\n",
       "<style scoped>\n",
       "    .dataframe tbody tr th:only-of-type {\n",
       "        vertical-align: middle;\n",
       "    }\n",
       "\n",
       "    .dataframe tbody tr th {\n",
       "        vertical-align: top;\n",
       "    }\n",
       "\n",
       "    .dataframe thead th {\n",
       "        text-align: right;\n",
       "    }\n",
       "</style>\n",
       "<table border=\"1\" class=\"dataframe\">\n",
       "  <thead>\n",
       "    <tr style=\"text-align: right;\">\n",
       "      <th></th>\n",
       "      <th>count</th>\n",
       "      <th>mean</th>\n",
       "      <th>std</th>\n",
       "      <th>min</th>\n",
       "      <th>25%</th>\n",
       "      <th>50%</th>\n",
       "      <th>75%</th>\n",
       "      <th>max</th>\n",
       "    </tr>\n",
       "  </thead>\n",
       "  <tbody>\n",
       "    <tr>\n",
       "      <td>user_id</td>\n",
       "      <td>500.0</td>\n",
       "      <td>1249.500</td>\n",
       "      <td>144.481833</td>\n",
       "      <td>1000.0</td>\n",
       "      <td>1124.75</td>\n",
       "      <td>1249.5</td>\n",
       "      <td>1374.25</td>\n",
       "      <td>1499.0</td>\n",
       "    </tr>\n",
       "    <tr>\n",
       "      <td>age</td>\n",
       "      <td>500.0</td>\n",
       "      <td>46.588</td>\n",
       "      <td>16.667630</td>\n",
       "      <td>18.0</td>\n",
       "      <td>32.00</td>\n",
       "      <td>46.0</td>\n",
       "      <td>62.00</td>\n",
       "      <td>75.0</td>\n",
       "    </tr>\n",
       "  </tbody>\n",
       "</table>\n",
       "</div>"
      ],
      "text/plain": [
       "         count      mean         std     min      25%     50%      75%     max\n",
       "user_id  500.0  1249.500  144.481833  1000.0  1124.75  1249.5  1374.25  1499.0\n",
       "age      500.0    46.588   16.667630    18.0    32.00    46.0    62.00    75.0"
      ]
     },
     "execution_count": 5,
     "metadata": {},
     "output_type": "execute_result"
    }
   ],
   "source": [
    "df_users.describe().T"
   ]
  },
  {
   "cell_type": "code",
   "execution_count": 6,
   "metadata": {},
   "outputs": [
    {
     "data": {
      "text/plain": [
       "0"
      ]
     },
     "execution_count": 6,
     "metadata": {},
     "output_type": "execute_result"
    }
   ],
   "source": [
    "df_users.duplicated().sum()"
   ]
  },
  {
   "cell_type": "markdown",
   "metadata": {},
   "source": [
    "В данных не оказалось дубликатов и пропусков, кроме как в колонке с датой прекращения пользования тарифов - там всего 38 непропущенных значений. Это означает, что только 38 пользователей завершили использование тарифа на момент выгрузки данных."
   ]
  },
  {
   "cell_type": "code",
   "execution_count": 7,
   "metadata": {},
   "outputs": [
    {
     "data": {
      "text/html": [
       "<div>\n",
       "<style scoped>\n",
       "    .dataframe tbody tr th:only-of-type {\n",
       "        vertical-align: middle;\n",
       "    }\n",
       "\n",
       "    .dataframe tbody tr th {\n",
       "        vertical-align: top;\n",
       "    }\n",
       "\n",
       "    .dataframe thead th {\n",
       "        text-align: right;\n",
       "    }\n",
       "</style>\n",
       "<table border=\"1\" class=\"dataframe\">\n",
       "  <thead>\n",
       "    <tr style=\"text-align: right;\">\n",
       "      <th></th>\n",
       "      <th>id</th>\n",
       "      <th>call_date</th>\n",
       "      <th>duration</th>\n",
       "      <th>user_id</th>\n",
       "    </tr>\n",
       "  </thead>\n",
       "  <tbody>\n",
       "    <tr>\n",
       "      <td>0</td>\n",
       "      <td>1000_0</td>\n",
       "      <td>2018-07-25</td>\n",
       "      <td>0.00</td>\n",
       "      <td>1000</td>\n",
       "    </tr>\n",
       "    <tr>\n",
       "      <td>1</td>\n",
       "      <td>1000_1</td>\n",
       "      <td>2018-08-17</td>\n",
       "      <td>0.00</td>\n",
       "      <td>1000</td>\n",
       "    </tr>\n",
       "    <tr>\n",
       "      <td>2</td>\n",
       "      <td>1000_2</td>\n",
       "      <td>2018-06-11</td>\n",
       "      <td>2.85</td>\n",
       "      <td>1000</td>\n",
       "    </tr>\n",
       "    <tr>\n",
       "      <td>3</td>\n",
       "      <td>1000_3</td>\n",
       "      <td>2018-09-21</td>\n",
       "      <td>13.80</td>\n",
       "      <td>1000</td>\n",
       "    </tr>\n",
       "    <tr>\n",
       "      <td>4</td>\n",
       "      <td>1000_4</td>\n",
       "      <td>2018-12-15</td>\n",
       "      <td>5.18</td>\n",
       "      <td>1000</td>\n",
       "    </tr>\n",
       "  </tbody>\n",
       "</table>\n",
       "</div>"
      ],
      "text/plain": [
       "       id  call_date  duration  user_id\n",
       "0  1000_0 2018-07-25      0.00     1000\n",
       "1  1000_1 2018-08-17      0.00     1000\n",
       "2  1000_2 2018-06-11      2.85     1000\n",
       "3  1000_3 2018-09-21     13.80     1000\n",
       "4  1000_4 2018-12-15      5.18     1000"
      ]
     },
     "execution_count": 7,
     "metadata": {},
     "output_type": "execute_result"
    }
   ],
   "source": [
    "# Изучим информацию о звонках\n",
    "df_calls.head()"
   ]
  },
  {
   "cell_type": "code",
   "execution_count": 8,
   "metadata": {
    "scrolled": false
   },
   "outputs": [
    {
     "name": "stdout",
     "output_type": "stream",
     "text": [
      "<class 'pandas.core.frame.DataFrame'>\n",
      "RangeIndex: 202607 entries, 0 to 202606\n",
      "Data columns (total 4 columns):\n",
      "id           202607 non-null object\n",
      "call_date    202607 non-null datetime64[ns]\n",
      "duration     202607 non-null float64\n",
      "user_id      202607 non-null int64\n",
      "dtypes: datetime64[ns](1), float64(1), int64(1), object(1)\n",
      "memory usage: 6.2+ MB\n"
     ]
    }
   ],
   "source": [
    "df_calls.info()"
   ]
  },
  {
   "cell_type": "code",
   "execution_count": 9,
   "metadata": {},
   "outputs": [
    {
     "data": {
      "text/html": [
       "<div>\n",
       "<style scoped>\n",
       "    .dataframe tbody tr th:only-of-type {\n",
       "        vertical-align: middle;\n",
       "    }\n",
       "\n",
       "    .dataframe tbody tr th {\n",
       "        vertical-align: top;\n",
       "    }\n",
       "\n",
       "    .dataframe thead th {\n",
       "        text-align: right;\n",
       "    }\n",
       "</style>\n",
       "<table border=\"1\" class=\"dataframe\">\n",
       "  <thead>\n",
       "    <tr style=\"text-align: right;\">\n",
       "      <th></th>\n",
       "      <th>count</th>\n",
       "      <th>mean</th>\n",
       "      <th>std</th>\n",
       "      <th>min</th>\n",
       "      <th>25%</th>\n",
       "      <th>50%</th>\n",
       "      <th>75%</th>\n",
       "      <th>max</th>\n",
       "    </tr>\n",
       "  </thead>\n",
       "  <tbody>\n",
       "    <tr>\n",
       "      <td>duration</td>\n",
       "      <td>202607.0</td>\n",
       "      <td>6.755887</td>\n",
       "      <td>5.843365</td>\n",
       "      <td>0.0</td>\n",
       "      <td>1.3</td>\n",
       "      <td>6.0</td>\n",
       "      <td>10.7</td>\n",
       "      <td>38.0</td>\n",
       "    </tr>\n",
       "    <tr>\n",
       "      <td>user_id</td>\n",
       "      <td>202607.0</td>\n",
       "      <td>1253.940619</td>\n",
       "      <td>144.722751</td>\n",
       "      <td>1000.0</td>\n",
       "      <td>1126.0</td>\n",
       "      <td>1260.0</td>\n",
       "      <td>1379.0</td>\n",
       "      <td>1499.0</td>\n",
       "    </tr>\n",
       "  </tbody>\n",
       "</table>\n",
       "</div>"
      ],
      "text/plain": [
       "             count         mean         std     min     25%     50%     75%  \\\n",
       "duration  202607.0     6.755887    5.843365     0.0     1.3     6.0    10.7   \n",
       "user_id   202607.0  1253.940619  144.722751  1000.0  1126.0  1260.0  1379.0   \n",
       "\n",
       "             max  \n",
       "duration    38.0  \n",
       "user_id   1499.0  "
      ]
     },
     "execution_count": 9,
     "metadata": {},
     "output_type": "execute_result"
    }
   ],
   "source": [
    "df_calls.describe().T"
   ]
  },
  {
   "cell_type": "code",
   "execution_count": 10,
   "metadata": {},
   "outputs": [
    {
     "data": {
      "text/plain": [
       "0"
      ]
     },
     "execution_count": 10,
     "metadata": {},
     "output_type": "execute_result"
    }
   ],
   "source": [
    "df_calls.duplicated().sum()"
   ]
  },
  {
   "cell_type": "markdown",
   "metadata": {},
   "source": [
    "Пропусков и явных дубликатов в данных нет, однако есть звонки с нулевой длительностью. Таким образом обозначены пропущенные звонки, поэтому их удалять не будем. Посмотрим, какую часть они занимают."
   ]
  },
  {
   "cell_type": "code",
   "execution_count": 11,
   "metadata": {
    "scrolled": true
   },
   "outputs": [
    {
     "data": {
      "image/png": "[encoded data removed]",
      "text/plain": [
       "<Figure size 360x216 with 1 Axes>"
      ]
     },
     "metadata": {
      "needs_background": "light"
     },
     "output_type": "display_data"
    }
   ],
   "source": [
    "df_calls.plot(y='duration', kind='hist', bins = 30, grid=True,\n",
    "             title='Длительность звонков', figsize=(5,3))\n",
    "plt.xlabel('Кол-во минут')\n",
    "plt.ylabel('Распространенность')\n",
    "plt.show()"
   ]
  },
  {
   "cell_type": "code",
   "execution_count": 12,
   "metadata": {
    "scrolled": false
   },
   "outputs": [
    {
     "name": "stdout",
     "output_type": "stream",
     "text": [
      "Количество звонков с нулевой продолжительностью: 39613\n",
      "Процент таких звонков от общего количества: 19.55%\n"
     ]
    }
   ],
   "source": [
    "print('Количество звонков с нулевой продолжительностью:',\n",
    "      len(df_calls[df_calls['duration'] == 0]))\n",
    "print('Процент таких звонков от общего количества: {:.2%}'\n",
    "      .format(len(df_calls[df_calls['duration'] == 0]) / len(df_calls)))"
   ]
  },
  {
   "cell_type": "markdown",
   "metadata": {},
   "source": [
    "Для удобства дальнейших исследований можем привести длительность звонков к целому типу, при этом округляя вверх, так как по условию секунды всегда округляются до минут оператором."
   ]
  },
  {
   "cell_type": "code",
   "execution_count": 13,
   "metadata": {
    "scrolled": false
   },
   "outputs": [
    {
     "name": "stdout",
     "output_type": "stream",
     "text": [
      "<class 'pandas.core.frame.DataFrame'>\n",
      "RangeIndex: 202607 entries, 0 to 202606\n",
      "Data columns (total 4 columns):\n",
      "id           202607 non-null object\n",
      "call_date    202607 non-null datetime64[ns]\n",
      "duration     202607 non-null int64\n",
      "user_id      202607 non-null int64\n",
      "dtypes: datetime64[ns](1), int64(2), object(1)\n",
      "memory usage: 6.2+ MB\n"
     ]
    }
   ],
   "source": [
    "df_calls['duration'] = np.ceil(df_calls['duration']).astype('int')\n",
    "df_calls.info()"
   ]
  },
  {
   "cell_type": "markdown",
   "metadata": {},
   "source": [
    "<div class=\"alert alert-success\">\n",
    "<font size=\"5\"><b>Комментарий ревьюера</b></font>\n",
    "\n",
    "Успех: Верно, что округление производится до суммирования. Это согласуется с тем, как оператор фиксирует выручку.\n",
    "\n",
    "</div>"
   ]
  },
  {
   "cell_type": "code",
   "execution_count": 14,
   "metadata": {},
   "outputs": [
    {
     "data": {
      "text/html": [
       "<div>\n",
       "<style scoped>\n",
       "    .dataframe tbody tr th:only-of-type {\n",
       "        vertical-align: middle;\n",
       "    }\n",
       "\n",
       "    .dataframe tbody tr th {\n",
       "        vertical-align: top;\n",
       "    }\n",
       "\n",
       "    .dataframe thead th {\n",
       "        text-align: right;\n",
       "    }\n",
       "</style>\n",
       "<table border=\"1\" class=\"dataframe\">\n",
       "  <thead>\n",
       "    <tr style=\"text-align: right;\">\n",
       "      <th></th>\n",
       "      <th>id</th>\n",
       "      <th>message_date</th>\n",
       "      <th>user_id</th>\n",
       "    </tr>\n",
       "  </thead>\n",
       "  <tbody>\n",
       "    <tr>\n",
       "      <td>0</td>\n",
       "      <td>1000_0</td>\n",
       "      <td>2018-06-27</td>\n",
       "      <td>1000</td>\n",
       "    </tr>\n",
       "    <tr>\n",
       "      <td>1</td>\n",
       "      <td>1000_1</td>\n",
       "      <td>2018-10-08</td>\n",
       "      <td>1000</td>\n",
       "    </tr>\n",
       "    <tr>\n",
       "      <td>2</td>\n",
       "      <td>1000_2</td>\n",
       "      <td>2018-08-04</td>\n",
       "      <td>1000</td>\n",
       "    </tr>\n",
       "    <tr>\n",
       "      <td>3</td>\n",
       "      <td>1000_3</td>\n",
       "      <td>2018-06-16</td>\n",
       "      <td>1000</td>\n",
       "    </tr>\n",
       "    <tr>\n",
       "      <td>4</td>\n",
       "      <td>1000_4</td>\n",
       "      <td>2018-12-05</td>\n",
       "      <td>1000</td>\n",
       "    </tr>\n",
       "  </tbody>\n",
       "</table>\n",
       "</div>"
      ],
      "text/plain": [
       "       id message_date  user_id\n",
       "0  1000_0   2018-06-27     1000\n",
       "1  1000_1   2018-10-08     1000\n",
       "2  1000_2   2018-08-04     1000\n",
       "3  1000_3   2018-06-16     1000\n",
       "4  1000_4   2018-12-05     1000"
      ]
     },
     "execution_count": 14,
     "metadata": {},
     "output_type": "execute_result"
    }
   ],
   "source": [
    "# Изучим информацию о сообщениях\n",
    "df_messages.head()"
   ]
  },
  {
   "cell_type": "code",
   "execution_count": 15,
   "metadata": {
    "scrolled": false
   },
   "outputs": [
    {
     "name": "stdout",
     "output_type": "stream",
     "text": [
      "<class 'pandas.core.frame.DataFrame'>\n",
      "RangeIndex: 123036 entries, 0 to 123035\n",
      "Data columns (total 3 columns):\n",
      "id              123036 non-null object\n",
      "message_date    123036 non-null datetime64[ns]\n",
      "user_id         123036 non-null int64\n",
      "dtypes: datetime64[ns](1), int64(1), object(1)\n",
      "memory usage: 2.8+ MB\n"
     ]
    }
   ],
   "source": [
    "df_messages.info()"
   ]
  },
  {
   "cell_type": "code",
   "execution_count": 16,
   "metadata": {},
   "outputs": [
    {
     "data": {
      "text/plain": [
       "0"
      ]
     },
     "execution_count": 16,
     "metadata": {},
     "output_type": "execute_result"
    }
   ],
   "source": [
    "df_messages.duplicated().sum()"
   ]
  },
  {
   "cell_type": "markdown",
   "metadata": {},
   "source": [
    "Пропущенных значений и явных дубликатов в таблице с информацией о сообщениях не обнаружено."
   ]
  },
  {
   "cell_type": "code",
   "execution_count": 17,
   "metadata": {},
   "outputs": [
    {
     "data": {
      "text/html": [
       "<div>\n",
       "<style scoped>\n",
       "    .dataframe tbody tr th:only-of-type {\n",
       "        vertical-align: middle;\n",
       "    }\n",
       "\n",
       "    .dataframe tbody tr th {\n",
       "        vertical-align: top;\n",
       "    }\n",
       "\n",
       "    .dataframe thead th {\n",
       "        text-align: right;\n",
       "    }\n",
       "</style>\n",
       "<table border=\"1\" class=\"dataframe\">\n",
       "  <thead>\n",
       "    <tr style=\"text-align: right;\">\n",
       "      <th></th>\n",
       "      <th>id</th>\n",
       "      <th>mb_used</th>\n",
       "      <th>session_date</th>\n",
       "      <th>user_id</th>\n",
       "    </tr>\n",
       "  </thead>\n",
       "  <tbody>\n",
       "    <tr>\n",
       "      <td>0</td>\n",
       "      <td>1000_0</td>\n",
       "      <td>112.95</td>\n",
       "      <td>2018-11-25</td>\n",
       "      <td>1000</td>\n",
       "    </tr>\n",
       "    <tr>\n",
       "      <td>1</td>\n",
       "      <td>1000_1</td>\n",
       "      <td>1052.81</td>\n",
       "      <td>2018-09-07</td>\n",
       "      <td>1000</td>\n",
       "    </tr>\n",
       "    <tr>\n",
       "      <td>2</td>\n",
       "      <td>1000_2</td>\n",
       "      <td>1197.26</td>\n",
       "      <td>2018-06-25</td>\n",
       "      <td>1000</td>\n",
       "    </tr>\n",
       "    <tr>\n",
       "      <td>3</td>\n",
       "      <td>1000_3</td>\n",
       "      <td>550.27</td>\n",
       "      <td>2018-08-22</td>\n",
       "      <td>1000</td>\n",
       "    </tr>\n",
       "    <tr>\n",
       "      <td>4</td>\n",
       "      <td>1000_4</td>\n",
       "      <td>302.56</td>\n",
       "      <td>2018-09-24</td>\n",
       "      <td>1000</td>\n",
       "    </tr>\n",
       "  </tbody>\n",
       "</table>\n",
       "</div>"
      ],
      "text/plain": [
       "       id  mb_used session_date  user_id\n",
       "0  1000_0   112.95   2018-11-25     1000\n",
       "1  1000_1  1052.81   2018-09-07     1000\n",
       "2  1000_2  1197.26   2018-06-25     1000\n",
       "3  1000_3   550.27   2018-08-22     1000\n",
       "4  1000_4   302.56   2018-09-24     1000"
      ]
     },
     "execution_count": 17,
     "metadata": {},
     "output_type": "execute_result"
    }
   ],
   "source": [
    "# Изучим информацию об интернет-сессиях\n",
    "df_internet.head()"
   ]
  },
  {
   "cell_type": "code",
   "execution_count": 18,
   "metadata": {
    "scrolled": false
   },
   "outputs": [
    {
     "name": "stdout",
     "output_type": "stream",
     "text": [
      "<class 'pandas.core.frame.DataFrame'>\n",
      "Int64Index: 149396 entries, 0 to 149395\n",
      "Data columns (total 4 columns):\n",
      "id              149396 non-null object\n",
      "mb_used         149396 non-null float64\n",
      "session_date    149396 non-null datetime64[ns]\n",
      "user_id         149396 non-null int64\n",
      "dtypes: datetime64[ns](1), float64(1), int64(1), object(1)\n",
      "memory usage: 5.7+ MB\n"
     ]
    }
   ],
   "source": [
    "df_internet.info()"
   ]
  },
  {
   "cell_type": "code",
   "execution_count": 19,
   "metadata": {
    "scrolled": true
   },
   "outputs": [
    {
     "data": {
      "text/html": [
       "<div>\n",
       "<style scoped>\n",
       "    .dataframe tbody tr th:only-of-type {\n",
       "        vertical-align: middle;\n",
       "    }\n",
       "\n",
       "    .dataframe tbody tr th {\n",
       "        vertical-align: top;\n",
       "    }\n",
       "\n",
       "    .dataframe thead th {\n",
       "        text-align: right;\n",
       "    }\n",
       "</style>\n",
       "<table border=\"1\" class=\"dataframe\">\n",
       "  <thead>\n",
       "    <tr style=\"text-align: right;\">\n",
       "      <th></th>\n",
       "      <th>count</th>\n",
       "      <th>mean</th>\n",
       "      <th>std</th>\n",
       "      <th>min</th>\n",
       "      <th>25%</th>\n",
       "      <th>50%</th>\n",
       "      <th>75%</th>\n",
       "      <th>max</th>\n",
       "    </tr>\n",
       "  </thead>\n",
       "  <tbody>\n",
       "    <tr>\n",
       "      <td>mb_used</td>\n",
       "      <td>149396.0</td>\n",
       "      <td>370.192426</td>\n",
       "      <td>278.300951</td>\n",
       "      <td>0.0</td>\n",
       "      <td>138.1875</td>\n",
       "      <td>348.015</td>\n",
       "      <td>559.5525</td>\n",
       "      <td>1724.83</td>\n",
       "    </tr>\n",
       "    <tr>\n",
       "      <td>user_id</td>\n",
       "      <td>149396.0</td>\n",
       "      <td>1252.099842</td>\n",
       "      <td>144.050823</td>\n",
       "      <td>1000.0</td>\n",
       "      <td>1130.0000</td>\n",
       "      <td>1251.000</td>\n",
       "      <td>1380.0000</td>\n",
       "      <td>1499.00</td>\n",
       "    </tr>\n",
       "  </tbody>\n",
       "</table>\n",
       "</div>"
      ],
      "text/plain": [
       "            count         mean         std     min        25%       50%  \\\n",
       "mb_used  149396.0   370.192426  278.300951     0.0   138.1875   348.015   \n",
       "user_id  149396.0  1252.099842  144.050823  1000.0  1130.0000  1251.000   \n",
       "\n",
       "               75%      max  \n",
       "mb_used   559.5525  1724.83  \n",
       "user_id  1380.0000  1499.00  "
      ]
     },
     "execution_count": 19,
     "metadata": {},
     "output_type": "execute_result"
    }
   ],
   "source": [
    "df_internet.describe().T"
   ]
  },
  {
   "cell_type": "code",
   "execution_count": 20,
   "metadata": {},
   "outputs": [
    {
     "data": {
      "text/plain": [
       "0"
      ]
     },
     "execution_count": 20,
     "metadata": {},
     "output_type": "execute_result"
    }
   ],
   "source": [
    "df_internet.duplicated().sum()"
   ]
  },
  {
   "cell_type": "markdown",
   "metadata": {},
   "source": [
    "Пропусков и явных дубликатов в данных нет, однако есть интернет-сессии с нулевым количеством потраченного трафика. Скорее всего, так обозначены пользователи, которые не пользуются интернетом в целом. Посмотрим, какую часть они составляют."
   ]
  },
  {
   "cell_type": "code",
   "execution_count": 21,
   "metadata": {
    "scrolled": true
   },
   "outputs": [
    {
     "data": {
      "image/png": "[encoded data removed]",
      "text/plain": [
       "<Figure size 360x216 with 1 Axes>"
      ]
     },
     "metadata": {
      "needs_background": "light"
     },
     "output_type": "display_data"
    }
   ],
   "source": [
    "df_internet.plot(y='mb_used', kind='hist', bins=50, grid=True,\n",
    "             title='Интернет-сессия', figsize=(5,3))\n",
    "plt.xlabel('Потраченный трафик (мб)')\n",
    "plt.ylabel('Распространенность')\n",
    "plt.show()"
   ]
  },
  {
   "cell_type": "code",
   "execution_count": 22,
   "metadata": {},
   "outputs": [
    {
     "name": "stdout",
     "output_type": "stream",
     "text": [
      "Количество интернет-сессий без потраченного трафика: 19598\n",
      "Процент таких интернет-сессий от общего количества: 13.12%\n"
     ]
    }
   ],
   "source": [
    "print('Количество интернет-сессий без потраченного трафика:',\n",
    "      len(df_internet[df_internet['mb_used'] == 0]))\n",
    "print('Процент таких интернет-сессий от общего количества: {:.2%}'\n",
    "      .format(len(df_internet[df_internet['mb_used'] == 0]) / len(df_internet)))"
   ]
  },
  {
   "cell_type": "markdown",
   "metadata": {},
   "source": [
    "<div class=\"alert alert-success\">\n",
    "<font size=\"5\"><b>Комментарий ревьюера </b></font>\n",
    "\n",
    "Успех: Верное решение!\n",
    "\n",
    "</div>"
   ]
  },
  {
   "cell_type": "code",
   "execution_count": 23,
   "metadata": {
    "scrolled": false
   },
   "outputs": [
    {
     "data": {
      "text/html": [
       "<div>\n",
       "<style scoped>\n",
       "    .dataframe tbody tr th:only-of-type {\n",
       "        vertical-align: middle;\n",
       "    }\n",
       "\n",
       "    .dataframe tbody tr th {\n",
       "        vertical-align: top;\n",
       "    }\n",
       "\n",
       "    .dataframe thead th {\n",
       "        text-align: right;\n",
       "    }\n",
       "</style>\n",
       "<table border=\"1\" class=\"dataframe\">\n",
       "  <thead>\n",
       "    <tr style=\"text-align: right;\">\n",
       "      <th></th>\n",
       "      <th>messages_included</th>\n",
       "      <th>mb_per_month_included</th>\n",
       "      <th>minutes_included</th>\n",
       "      <th>rub_monthly_fee</th>\n",
       "      <th>rub_per_gb</th>\n",
       "      <th>rub_per_message</th>\n",
       "      <th>rub_per_minute</th>\n",
       "      <th>tariff_name</th>\n",
       "    </tr>\n",
       "  </thead>\n",
       "  <tbody>\n",
       "    <tr>\n",
       "      <td>0</td>\n",
       "      <td>50</td>\n",
       "      <td>15360</td>\n",
       "      <td>500</td>\n",
       "      <td>550</td>\n",
       "      <td>200</td>\n",
       "      <td>3</td>\n",
       "      <td>3</td>\n",
       "      <td>smart</td>\n",
       "    </tr>\n",
       "    <tr>\n",
       "      <td>1</td>\n",
       "      <td>1000</td>\n",
       "      <td>30720</td>\n",
       "      <td>3000</td>\n",
       "      <td>1950</td>\n",
       "      <td>150</td>\n",
       "      <td>1</td>\n",
       "      <td>1</td>\n",
       "      <td>ultra</td>\n",
       "    </tr>\n",
       "  </tbody>\n",
       "</table>\n",
       "</div>"
      ],
      "text/plain": [
       "   messages_included  mb_per_month_included  minutes_included  \\\n",
       "0                 50                  15360               500   \n",
       "1               1000                  30720              3000   \n",
       "\n",
       "   rub_monthly_fee  rub_per_gb  rub_per_message  rub_per_minute tariff_name  \n",
       "0              550         200                3               3       smart  \n",
       "1             1950         150                1               1       ultra  "
      ]
     },
     "execution_count": 23,
     "metadata": {},
     "output_type": "execute_result"
    }
   ],
   "source": [
    "# Изучим информацию о тарифах\n",
    "df_tariffs.head()"
   ]
  },
  {
   "cell_type": "code",
   "execution_count": 24,
   "metadata": {
    "scrolled": true
   },
   "outputs": [
    {
     "name": "stdout",
     "output_type": "stream",
     "text": [
      "<class 'pandas.core.frame.DataFrame'>\n",
      "RangeIndex: 2 entries, 0 to 1\n",
      "Data columns (total 8 columns):\n",
      "messages_included        2 non-null int64\n",
      "mb_per_month_included    2 non-null int64\n",
      "minutes_included         2 non-null int64\n",
      "rub_monthly_fee          2 non-null int64\n",
      "rub_per_gb               2 non-null int64\n",
      "rub_per_message          2 non-null int64\n",
      "rub_per_minute           2 non-null int64\n",
      "tariff_name              2 non-null object\n",
      "dtypes: int64(7), object(1)\n",
      "memory usage: 256.0+ bytes\n"
     ]
    }
   ],
   "source": [
    "df_tariffs.info()"
   ]
  },
  {
   "cell_type": "code",
   "execution_count": 25,
   "metadata": {},
   "outputs": [],
   "source": [
    "df_tariffs['gb_per_month_included'] = np.ceil(df_tariffs['mb_per_month_included'] / 1024)"
   ]
  },
  {
   "cell_type": "markdown",
   "metadata": {},
   "source": [
    "В таблице с тарифами всего две строки, с данными и их типами всё в порядке."
   ]
  },
  {
   "cell_type": "markdown",
   "metadata": {},
   "source": [
    "# Обработка пропущенных значений"
   ]
  },
  {
   "cell_type": "markdown",
   "metadata": {},
   "source": [
    "**Информация о пользователях:**"
   ]
  },
  {
   "cell_type": "code",
   "execution_count": 26,
   "metadata": {
    "scrolled": false
   },
   "outputs": [
    {
     "name": "stdout",
     "output_type": "stream",
     "text": [
      "<class 'pandas.core.frame.DataFrame'>\n",
      "RangeIndex: 500 entries, 0 to 499\n",
      "Data columns (total 8 columns):\n",
      "user_id       500 non-null int64\n",
      "age           500 non-null int64\n",
      "churn_date    38 non-null datetime64[ns]\n",
      "city          500 non-null object\n",
      "first_name    500 non-null object\n",
      "last_name     500 non-null object\n",
      "reg_date      500 non-null datetime64[ns]\n",
      "tariff        500 non-null object\n",
      "dtypes: datetime64[ns](2), int64(2), object(4)\n",
      "memory usage: 31.4+ KB\n"
     ]
    }
   ],
   "source": [
    "df_users.info()"
   ]
  },
  {
   "cell_type": "markdown",
   "metadata": {},
   "source": [
    "В колонке `churn_date` таблицы `users` обнаружено 462 пропуска из 500, но так как этот столбец содержит информацию о дате прекращения использования услуг, то эти пропущенные значения означают, что пользователь все еще пользуется тарифом. Следовательно, изменять эти пропуски не требуется."
   ]
  },
  {
   "cell_type": "markdown",
   "metadata": {},
   "source": [
    "**Информация о звонках:**"
   ]
  },
  {
   "cell_type": "code",
   "execution_count": 27,
   "metadata": {},
   "outputs": [
    {
     "data": {
      "text/plain": [
       "0    39613\n",
       "7    11510\n",
       "6    11457\n",
       "5    11411\n",
       "8    11272\n",
       "Name: duration, dtype: int64"
      ]
     },
     "execution_count": 27,
     "metadata": {},
     "output_type": "execute_result"
    }
   ],
   "source": [
    "df_calls['duration'].value_counts().head()"
   ]
  },
  {
   "cell_type": "markdown",
   "metadata": {},
   "source": [
    "В колонке `duration` таблицы `calls` обнаружено 39613 нулевых значений, что составляет 19.55% от общего количества. Возможная причина их появления в том, что по умолчанию пропущенные звонки обозначаются нулями, или же имела место ошибка сохранения части данных. "
   ]
  },
  {
   "cell_type": "code",
   "execution_count": 28,
   "metadata": {
    "scrolled": false
   },
   "outputs": [
    {
     "data": {
      "text/plain": [
       "count    202607.000000\n",
       "mean          7.158198\n",
       "std           5.959173\n",
       "min           0.000000\n",
       "25%           2.000000\n",
       "50%           6.000000\n",
       "75%          11.000000\n",
       "max          38.000000\n",
       "Name: duration, dtype: float64"
      ]
     },
     "execution_count": 28,
     "metadata": {},
     "output_type": "execute_result"
    }
   ],
   "source": [
    "df_calls['duration'].describe()"
   ]
  },
  {
   "cell_type": "markdown",
   "metadata": {},
   "source": [
    "Выберем ненулевые значения, при этом будем работать не с изначальным массивом, а с его копией, чтобы не потерять исходные данные."
   ]
  },
  {
   "cell_type": "code",
   "execution_count": 29,
   "metadata": {
    "scrolled": false
   },
   "outputs": [
    {
     "data": {
      "text/plain": [
       "count    162994.000000\n",
       "mean          8.897880\n",
       "std           5.353761\n",
       "min           1.000000\n",
       "25%           5.000000\n",
       "50%           8.000000\n",
       "75%          12.000000\n",
       "max          38.000000\n",
       "Name: duration, dtype: float64"
      ]
     },
     "execution_count": 29,
     "metadata": {},
     "output_type": "execute_result"
    }
   ],
   "source": [
    "df_calls = df_calls.query('duration != 0').reset_index(drop=True)\n",
    "df_calls['duration'].describe()"
   ]
  },
  {
   "cell_type": "code",
   "execution_count": 30,
   "metadata": {},
   "outputs": [
    {
     "data": {
      "image/png": "[encoded data removed]",
      "text/plain": [
       "<Figure size 360x216 with 1 Axes>"
      ]
     },
     "metadata": {
      "needs_background": "light"
     },
     "output_type": "display_data"
    }
   ],
   "source": [
    "df_calls.plot(y='duration', kind='hist', bins = 38, grid=True,\n",
    "             title='Длительность звонков', figsize=(5,3))\n",
    "plt.xlabel('Кол-во минут')\n",
    "plt.ylabel('Распространенность')\n",
    "plt.show()"
   ]
  },
  {
   "cell_type": "markdown",
   "metadata": {},
   "source": [
    "Видим, что выброс исчез и среднее значение с медианой увеличились после удаления нулевых значений."
   ]
  },
  {
   "cell_type": "markdown",
   "metadata": {},
   "source": [
    "**Информация об интернет-сессиях:**"
   ]
  },
  {
   "cell_type": "code",
   "execution_count": 31,
   "metadata": {},
   "outputs": [
    {
     "data": {
      "text/plain": [
       "0.00      19598\n",
       "197.56        9\n",
       "447.30        9\n",
       "335.91        9\n",
       "108.95        8\n",
       "Name: mb_used, dtype: int64"
      ]
     },
     "execution_count": 31,
     "metadata": {},
     "output_type": "execute_result"
    }
   ],
   "source": [
    "df_internet['mb_used'].value_counts().head()"
   ]
  },
  {
   "cell_type": "markdown",
   "metadata": {},
   "source": [
    "В колонке `mb_used` таблицы `internet` обнаружено 19598 нулевых значений, что составляет 13.12% от общего количества. Возможная причина их появления в том, что даже если пользователь подключался к интернету, но не совершал никаких действий, то это расценивалось как сессия. Или же нулями обозначается отсутствие использования интернета в целом."
   ]
  },
  {
   "cell_type": "code",
   "execution_count": 32,
   "metadata": {
    "scrolled": false
   },
   "outputs": [
    {
     "data": {
      "text/plain": [
       "count    149396.000000\n",
       "mean        370.192426\n",
       "std         278.300951\n",
       "min           0.000000\n",
       "25%         138.187500\n",
       "50%         348.015000\n",
       "75%         559.552500\n",
       "max        1724.830000\n",
       "Name: mb_used, dtype: float64"
      ]
     },
     "execution_count": 32,
     "metadata": {},
     "output_type": "execute_result"
    }
   ],
   "source": [
    "df_internet['mb_used'].describe()"
   ]
  },
  {
   "cell_type": "markdown",
   "metadata": {},
   "source": [
    "Выберем ненулевые значения, при этом будем работать не с изначальным массивом, а с его копией, чтобы не потерять исходные данные."
   ]
  },
  {
   "cell_type": "code",
   "execution_count": 33,
   "metadata": {
    "scrolled": false
   },
   "outputs": [
    {
     "data": {
      "text/plain": [
       "count    129798.000000\n",
       "mean        426.087210\n",
       "std         255.596447\n",
       "min           0.030000\n",
       "25%         227.460000\n",
       "50%         400.540000\n",
       "75%         592.947500\n",
       "max        1724.830000\n",
       "Name: mb_used, dtype: float64"
      ]
     },
     "execution_count": 33,
     "metadata": {},
     "output_type": "execute_result"
    }
   ],
   "source": [
    "df_internet = df_internet.query('mb_used != 0').reset_index(drop=True)\n",
    "df_internet['mb_used'].describe()"
   ]
  },
  {
   "cell_type": "code",
   "execution_count": 34,
   "metadata": {},
   "outputs": [
    {
     "data": {
      "image/png": "[encoded data removed]",
      "text/plain": [
       "<Figure size 360x216 with 1 Axes>"
      ]
     },
     "metadata": {
      "needs_background": "light"
     },
     "output_type": "display_data"
    }
   ],
   "source": [
    "df_internet.plot(y='mb_used', kind='hist', bins=38, grid=True,\n",
    "             title='Интернет-сессия', figsize=(5,3))\n",
    "plt.xlabel('Потраченный трафик (мб)')\n",
    "plt.ylabel('Распространенность')\n",
    "plt.show()"
   ]
  },
  {
   "cell_type": "markdown",
   "metadata": {},
   "source": [
    "Видим, что выброс исчез и среднее значение с медианой увеличились после удаления нулевых значений."
   ]
  },
  {
   "cell_type": "markdown",
   "metadata": {},
   "source": [
    "<div class=\"alert alert-success\">\n",
    "<font size=\"5\"><b>Комментарий ревьюера </b></font>\n",
    "\n",
    "Успех: Соглашусь с отмеченными причинами появления таких значений. Мы их вполне можем не учитывать в дальнейшем анализе. \n",
    "\n",
    "</div>"
   ]
  },
  {
   "cell_type": "markdown",
   "metadata": {},
   "source": [
    "# Расчеты для каждого пользователя"
   ]
  },
  {
   "cell_type": "code",
   "execution_count": 35,
   "metadata": {
    "scrolled": false
   },
   "outputs": [],
   "source": [
    "# Добавим колонки с номером месяца.\n",
    "df_calls['calls_month'] = df_calls['call_date'].dt.month\n",
    "df_messages['message_month'] = df_messages['message_date'].dt.month\n",
    "df_internet['session_month'] = df_internet['session_date'].dt.month"
   ]
  },
  {
   "cell_type": "code",
   "execution_count": 36,
   "metadata": {},
   "outputs": [
    {
     "data": {
      "text/html": [
       "<div>\n",
       "<style scoped>\n",
       "    .dataframe tbody tr th:only-of-type {\n",
       "        vertical-align: middle;\n",
       "    }\n",
       "\n",
       "    .dataframe tbody tr th {\n",
       "        vertical-align: top;\n",
       "    }\n",
       "\n",
       "    .dataframe thead th {\n",
       "        text-align: right;\n",
       "    }\n",
       "</style>\n",
       "<table border=\"1\" class=\"dataframe\">\n",
       "  <thead>\n",
       "    <tr style=\"text-align: right;\">\n",
       "      <th></th>\n",
       "      <th>user_id</th>\n",
       "      <th>month</th>\n",
       "      <th>calls_count</th>\n",
       "      <th>duration_sum</th>\n",
       "    </tr>\n",
       "  </thead>\n",
       "  <tbody>\n",
       "    <tr>\n",
       "      <td>0</td>\n",
       "      <td>1000</td>\n",
       "      <td>5</td>\n",
       "      <td>17</td>\n",
       "      <td>159</td>\n",
       "    </tr>\n",
       "    <tr>\n",
       "      <td>1</td>\n",
       "      <td>1000</td>\n",
       "      <td>6</td>\n",
       "      <td>28</td>\n",
       "      <td>172</td>\n",
       "    </tr>\n",
       "    <tr>\n",
       "      <td>2</td>\n",
       "      <td>1000</td>\n",
       "      <td>7</td>\n",
       "      <td>41</td>\n",
       "      <td>340</td>\n",
       "    </tr>\n",
       "    <tr>\n",
       "      <td>3</td>\n",
       "      <td>1000</td>\n",
       "      <td>8</td>\n",
       "      <td>42</td>\n",
       "      <td>408</td>\n",
       "    </tr>\n",
       "    <tr>\n",
       "      <td>4</td>\n",
       "      <td>1000</td>\n",
       "      <td>9</td>\n",
       "      <td>46</td>\n",
       "      <td>466</td>\n",
       "    </tr>\n",
       "  </tbody>\n",
       "</table>\n",
       "</div>"
      ],
      "text/plain": [
       "   user_id  month  calls_count  duration_sum\n",
       "0     1000      5           17           159\n",
       "1     1000      6           28           172\n",
       "2     1000      7           41           340\n",
       "3     1000      8           42           408\n",
       "4     1000      9           46           466"
      ]
     },
     "execution_count": 36,
     "metadata": {},
     "output_type": "execute_result"
    }
   ],
   "source": [
    "# Посчитаем количество сделанных звонков и израсходованных минут разговора по месяцам.\n",
    "df_pivot_calls = df_calls.pivot_table(index=['user_id', 'calls_month'], values='duration',\n",
    "                                      aggfunc=['count', 'sum']).reset_index()\n",
    "df_pivot_calls.columns = ['user_id', 'month', 'calls_count', 'duration_sum']\n",
    "df_pivot_calls.head()"
   ]
  },
  {
   "cell_type": "code",
   "execution_count": 37,
   "metadata": {},
   "outputs": [
    {
     "data": {
      "text/html": [
       "<div>\n",
       "<style scoped>\n",
       "    .dataframe tbody tr th:only-of-type {\n",
       "        vertical-align: middle;\n",
       "    }\n",
       "\n",
       "    .dataframe tbody tr th {\n",
       "        vertical-align: top;\n",
       "    }\n",
       "\n",
       "    .dataframe thead th {\n",
       "        text-align: right;\n",
       "    }\n",
       "</style>\n",
       "<table border=\"1\" class=\"dataframe\">\n",
       "  <thead>\n",
       "    <tr style=\"text-align: right;\">\n",
       "      <th></th>\n",
       "      <th>user_id</th>\n",
       "      <th>month</th>\n",
       "      <th>messages_count</th>\n",
       "    </tr>\n",
       "  </thead>\n",
       "  <tbody>\n",
       "    <tr>\n",
       "      <td>0</td>\n",
       "      <td>1000</td>\n",
       "      <td>5</td>\n",
       "      <td>22</td>\n",
       "    </tr>\n",
       "    <tr>\n",
       "      <td>1</td>\n",
       "      <td>1000</td>\n",
       "      <td>6</td>\n",
       "      <td>60</td>\n",
       "    </tr>\n",
       "    <tr>\n",
       "      <td>2</td>\n",
       "      <td>1000</td>\n",
       "      <td>7</td>\n",
       "      <td>75</td>\n",
       "    </tr>\n",
       "    <tr>\n",
       "      <td>3</td>\n",
       "      <td>1000</td>\n",
       "      <td>8</td>\n",
       "      <td>81</td>\n",
       "    </tr>\n",
       "    <tr>\n",
       "      <td>4</td>\n",
       "      <td>1000</td>\n",
       "      <td>9</td>\n",
       "      <td>57</td>\n",
       "    </tr>\n",
       "  </tbody>\n",
       "</table>\n",
       "</div>"
      ],
      "text/plain": [
       "   user_id  month  messages_count\n",
       "0     1000      5              22\n",
       "1     1000      6              60\n",
       "2     1000      7              75\n",
       "3     1000      8              81\n",
       "4     1000      9              57"
      ]
     },
     "execution_count": 37,
     "metadata": {},
     "output_type": "execute_result"
    }
   ],
   "source": [
    "# Количество отправленных сообщений по месяцам.\n",
    "df_pivot_messages = df_messages.pivot_table(index=['user_id', 'message_month'], values='id', \n",
    "                                            aggfunc='count').reset_index()\n",
    "df_pivot_messages.columns = ['user_id', 'month', 'messages_count']\n",
    "df_pivot_messages.head()"
   ]
  },
  {
   "cell_type": "code",
   "execution_count": 38,
   "metadata": {},
   "outputs": [
    {
     "data": {
      "text/html": [
       "<div>\n",
       "<style scoped>\n",
       "    .dataframe tbody tr th:only-of-type {\n",
       "        vertical-align: middle;\n",
       "    }\n",
       "\n",
       "    .dataframe tbody tr th {\n",
       "        vertical-align: top;\n",
       "    }\n",
       "\n",
       "    .dataframe thead th {\n",
       "        text-align: right;\n",
       "    }\n",
       "</style>\n",
       "<table border=\"1\" class=\"dataframe\">\n",
       "  <thead>\n",
       "    <tr style=\"text-align: right;\">\n",
       "      <th></th>\n",
       "      <th>user_id</th>\n",
       "      <th>month</th>\n",
       "      <th>mb_used_sum</th>\n",
       "      <th>gb_used_sum</th>\n",
       "    </tr>\n",
       "  </thead>\n",
       "  <tbody>\n",
       "    <tr>\n",
       "      <td>0</td>\n",
       "      <td>1000</td>\n",
       "      <td>5</td>\n",
       "      <td>2253.49</td>\n",
       "      <td>3.0</td>\n",
       "    </tr>\n",
       "    <tr>\n",
       "      <td>1</td>\n",
       "      <td>1000</td>\n",
       "      <td>6</td>\n",
       "      <td>23233.77</td>\n",
       "      <td>23.0</td>\n",
       "    </tr>\n",
       "    <tr>\n",
       "      <td>2</td>\n",
       "      <td>1000</td>\n",
       "      <td>7</td>\n",
       "      <td>14003.64</td>\n",
       "      <td>14.0</td>\n",
       "    </tr>\n",
       "    <tr>\n",
       "      <td>3</td>\n",
       "      <td>1000</td>\n",
       "      <td>8</td>\n",
       "      <td>14055.93</td>\n",
       "      <td>14.0</td>\n",
       "    </tr>\n",
       "    <tr>\n",
       "      <td>4</td>\n",
       "      <td>1000</td>\n",
       "      <td>9</td>\n",
       "      <td>14568.91</td>\n",
       "      <td>15.0</td>\n",
       "    </tr>\n",
       "  </tbody>\n",
       "</table>\n",
       "</div>"
      ],
      "text/plain": [
       "   user_id  month  mb_used_sum  gb_used_sum\n",
       "0     1000      5      2253.49          3.0\n",
       "1     1000      6     23233.77         23.0\n",
       "2     1000      7     14003.64         14.0\n",
       "3     1000      8     14055.93         14.0\n",
       "4     1000      9     14568.91         15.0"
      ]
     },
     "execution_count": 38,
     "metadata": {},
     "output_type": "execute_result"
    }
   ],
   "source": [
    "# Объем израсходованного интернет-трафика по месяцам.\n",
    "df_pivot_internet = df_internet.pivot_table(index=['user_id', 'session_month'], values='mb_used',\n",
    "                                            aggfunc='sum').reset_index()\n",
    "df_pivot_internet.columns = ['user_id', 'month', 'mb_used_sum']\n",
    "df_pivot_internet['gb_used_sum'] = np.ceil(df_pivot_internet['mb_used_sum'] / 1024)\n",
    "df_pivot_internet.head()"
   ]
  },
  {
   "cell_type": "markdown",
   "metadata": {},
   "source": [
    "<div class=\"alert alert-success\">\n",
    "<font size=\"5\"><b>Комментарий ревьюера</b></font>\n",
    "\n",
    "Успех: Помесячные показатели рассчитаны. Данные подготовлены к дальнейшим расчетам. Округление трафика проведено)\n",
    "\n",
    "</div>"
   ]
  },
  {
   "cell_type": "code",
   "execution_count": 39,
   "metadata": {
    "scrolled": false
   },
   "outputs": [
    {
     "data": {
      "text/html": [
       "<div>\n",
       "<style scoped>\n",
       "    .dataframe tbody tr th:only-of-type {\n",
       "        vertical-align: middle;\n",
       "    }\n",
       "\n",
       "    .dataframe tbody tr th {\n",
       "        vertical-align: top;\n",
       "    }\n",
       "\n",
       "    .dataframe thead th {\n",
       "        text-align: right;\n",
       "    }\n",
       "</style>\n",
       "<table border=\"1\" class=\"dataframe\">\n",
       "  <thead>\n",
       "    <tr style=\"text-align: right;\">\n",
       "      <th></th>\n",
       "      <th>user_id</th>\n",
       "      <th>month</th>\n",
       "      <th>calls_count</th>\n",
       "      <th>duration_sum</th>\n",
       "      <th>messages_count</th>\n",
       "      <th>mb_used_sum</th>\n",
       "      <th>gb_used_sum</th>\n",
       "      <th>tariff</th>\n",
       "      <th>city</th>\n",
       "    </tr>\n",
       "  </thead>\n",
       "  <tbody>\n",
       "    <tr>\n",
       "      <td>0</td>\n",
       "      <td>1000</td>\n",
       "      <td>5.0</td>\n",
       "      <td>17.0</td>\n",
       "      <td>159.0</td>\n",
       "      <td>22.0</td>\n",
       "      <td>2253.49</td>\n",
       "      <td>3.0</td>\n",
       "      <td>ultra</td>\n",
       "      <td>Краснодар</td>\n",
       "    </tr>\n",
       "    <tr>\n",
       "      <td>1</td>\n",
       "      <td>1000</td>\n",
       "      <td>6.0</td>\n",
       "      <td>28.0</td>\n",
       "      <td>172.0</td>\n",
       "      <td>60.0</td>\n",
       "      <td>23233.77</td>\n",
       "      <td>23.0</td>\n",
       "      <td>ultra</td>\n",
       "      <td>Краснодар</td>\n",
       "    </tr>\n",
       "    <tr>\n",
       "      <td>2</td>\n",
       "      <td>1000</td>\n",
       "      <td>7.0</td>\n",
       "      <td>41.0</td>\n",
       "      <td>340.0</td>\n",
       "      <td>75.0</td>\n",
       "      <td>14003.64</td>\n",
       "      <td>14.0</td>\n",
       "      <td>ultra</td>\n",
       "      <td>Краснодар</td>\n",
       "    </tr>\n",
       "    <tr>\n",
       "      <td>3</td>\n",
       "      <td>1000</td>\n",
       "      <td>8.0</td>\n",
       "      <td>42.0</td>\n",
       "      <td>408.0</td>\n",
       "      <td>81.0</td>\n",
       "      <td>14055.93</td>\n",
       "      <td>14.0</td>\n",
       "      <td>ultra</td>\n",
       "      <td>Краснодар</td>\n",
       "    </tr>\n",
       "    <tr>\n",
       "      <td>4</td>\n",
       "      <td>1000</td>\n",
       "      <td>9.0</td>\n",
       "      <td>46.0</td>\n",
       "      <td>466.0</td>\n",
       "      <td>57.0</td>\n",
       "      <td>14568.91</td>\n",
       "      <td>15.0</td>\n",
       "      <td>ultra</td>\n",
       "      <td>Краснодар</td>\n",
       "    </tr>\n",
       "  </tbody>\n",
       "</table>\n",
       "</div>"
      ],
      "text/plain": [
       "   user_id  month  calls_count  duration_sum  messages_count  mb_used_sum  \\\n",
       "0     1000    5.0         17.0         159.0            22.0      2253.49   \n",
       "1     1000    6.0         28.0         172.0            60.0     23233.77   \n",
       "2     1000    7.0         41.0         340.0            75.0     14003.64   \n",
       "3     1000    8.0         42.0         408.0            81.0     14055.93   \n",
       "4     1000    9.0         46.0         466.0            57.0     14568.91   \n",
       "\n",
       "   gb_used_sum tariff       city  \n",
       "0          3.0  ultra  Краснодар  \n",
       "1         23.0  ultra  Краснодар  \n",
       "2         14.0  ultra  Краснодар  \n",
       "3         14.0  ultra  Краснодар  \n",
       "4         15.0  ultra  Краснодар  "
      ]
     },
     "metadata": {},
     "output_type": "display_data"
    },
    {
     "name": "stdout",
     "output_type": "stream",
     "text": [
      "<class 'pandas.core.frame.DataFrame'>\n",
      "Int64Index: 3216 entries, 0 to 3215\n",
      "Data columns (total 9 columns):\n",
      "user_id           3216 non-null int64\n",
      "month             3214 non-null float64\n",
      "calls_count       3168 non-null float64\n",
      "duration_sum      3168 non-null float64\n",
      "messages_count    2717 non-null float64\n",
      "mb_used_sum       3201 non-null float64\n",
      "gb_used_sum       3201 non-null float64\n",
      "tariff            3216 non-null object\n",
      "city              3216 non-null object\n",
      "dtypes: float64(6), int64(1), object(2)\n",
      "memory usage: 251.2+ KB\n"
     ]
    }
   ],
   "source": [
    "# Для расчета выручки объединим полученные сводные таблицы.\n",
    "df_pivot_users = df_pivot_calls.merge(df_pivot_messages, on=['user_id', 'month'], how='outer')\n",
    "df_pivot_users = df_pivot_users.merge(df_pivot_internet, on=['user_id', 'month'], how='outer')\n",
    "df_pivot_users = df_pivot_users.merge(df_users[['user_id', 'tariff', 'city']], on='user_id', how='outer')\n",
    "display(df_pivot_users.head())\n",
    "df_pivot_users.info()"
   ]
  },
  {
   "cell_type": "markdown",
   "metadata": {},
   "source": [
    "<div class=\"alert alert-success\">\n",
    "<font size=\"5\"><b>Комментарий ревьюера</b></font>\n",
    "\n",
    "Успех: Да, именно внешнее соединение нам и нужно в данном случае. Иначе в таблицу не попадут клиенты, которые не пользовались одним из видов услуг оператора в течение конкретного месяца. \n",
    "\n",
    "</div>"
   ]
  },
  {
   "cell_type": "markdown",
   "metadata": {},
   "source": [
    "В итоговой таблице пропуски в колонках `calls_count`, `duration_sum`, `messages_count`, `mb_used_sum`, `gb_used_sum` и `month`.\n",
    "Для столбцов `calls_count` и `duration_sum` одинаковое количество пропущенных значений - `48`, это скорее всего связано с тем, что эти клиенты не пользовались звонками, что и объясняет равное количество пропусков.\n",
    "\n",
    "То же самое и для столбцов `mb_used_sum` и `gb_used_sum` - в них по `15` пропущенных значений. Это значит, что 15 пользователей не использовали интернет.\n",
    "\n",
    "В колонке `messages_count` уже больше пропусков, - `499`, что может быть связано с возросшей популярностью мессенджеров и, как следствие, более редким использованием обычных сообщений. \n",
    "\n",
    "Для столбца `month` выявлено `2` пропущенных значения. Это произошло из-за того, что два абонента подключились и отключились в течение одного месяца. \n",
    "\n",
    "Удалим упомянутых выше двух клиентов и заполним пропуски нулями, руководствуясь тем, что пользователи не совершали никаких действий в конкретный период."
   ]
  },
  {
   "cell_type": "code",
   "execution_count": 40,
   "metadata": {
    "scrolled": false
   },
   "outputs": [
    {
     "name": "stdout",
     "output_type": "stream",
     "text": [
      "<class 'pandas.core.frame.DataFrame'>\n",
      "Int64Index: 3214 entries, 0 to 3213\n",
      "Data columns (total 9 columns):\n",
      "user_id           3214 non-null int64\n",
      "month             3214 non-null float64\n",
      "calls_count       3214 non-null float64\n",
      "duration_sum      3214 non-null float64\n",
      "messages_count    3214 non-null float64\n",
      "mb_used_sum       3214 non-null float64\n",
      "gb_used_sum       3214 non-null float64\n",
      "tariff            3214 non-null object\n",
      "city              3214 non-null object\n",
      "dtypes: float64(6), int64(1), object(2)\n",
      "memory usage: 251.1+ KB\n"
     ]
    }
   ],
   "source": [
    "df_pivot_users.dropna(subset=['month'], inplace=True)\n",
    "df_pivot_users.fillna(0, inplace=True)\n",
    "df_pivot_users.info()"
   ]
  },
  {
   "cell_type": "markdown",
   "metadata": {},
   "source": [
    "<div class=\"alert alert-success\">\n",
    "<font size=\"5\"><b>Комментарий ревьюера </b></font>\n",
    "\n",
    "Успех: Да, не все пользователи используют полный спектр услуг оператора. Пропуски следует заполнить нулями.  \n",
    "\n",
    "</div>"
   ]
  },
  {
   "cell_type": "code",
   "execution_count": 41,
   "metadata": {
    "scrolled": false
   },
   "outputs": [],
   "source": [
    "# Функция для расчета помесячной выручки с каждого пользователя.\n",
    "def revenue_month(row):\n",
    "    revenue = 0\n",
    "    calls_sum = row['duration_sum']\n",
    "    messages_count = row['messages_count']\n",
    "    gb_used_sum = row['gb_used_sum']\n",
    "    tariff = row['tariff']\n",
    "    \n",
    "    difference_calls_sum = calls_sum - int(df_tariffs[df_tariffs['tariff_name'] == tariff]['minutes_included'])\n",
    "    difference_messages_count = messages_count - int(df_tariffs[df_tariffs['tariff_name'] == tariff]['messages_included'])\n",
    "    difference_gb_used_sum = gb_used_sum - int(df_tariffs[df_tariffs['tariff_name'] == tariff]['gb_per_month_included'])\n",
    "    \n",
    "    revenue += int(df_tariffs[df_tariffs['tariff_name'] == tariff]['rub_monthly_fee'])\n",
    "    if difference_calls_sum > 0:\n",
    "        revenue += difference_calls_sum * int(df_tariffs[df_tariffs['tariff_name'] == tariff]['rub_per_minute'])\n",
    "    if difference_messages_count > 0:\n",
    "        revenue += difference_messages_count * int(df_tariffs[df_tariffs['tariff_name'] == tariff]['rub_per_message'])\n",
    "    if difference_gb_used_sum > 0:\n",
    "        revenue += difference_gb_used_sum * int(df_tariffs[df_tariffs['tariff_name'] == tariff]['rub_per_gb'])\n",
    "    \n",
    "    return revenue"
   ]
  },
  {
   "cell_type": "code",
   "execution_count": 42,
   "metadata": {},
   "outputs": [
    {
     "data": {
      "text/html": [
       "<div>\n",
       "<style scoped>\n",
       "    .dataframe tbody tr th:only-of-type {\n",
       "        vertical-align: middle;\n",
       "    }\n",
       "\n",
       "    .dataframe tbody tr th {\n",
       "        vertical-align: top;\n",
       "    }\n",
       "\n",
       "    .dataframe thead th {\n",
       "        text-align: right;\n",
       "    }\n",
       "</style>\n",
       "<table border=\"1\" class=\"dataframe\">\n",
       "  <thead>\n",
       "    <tr style=\"text-align: right;\">\n",
       "      <th></th>\n",
       "      <th>user_id</th>\n",
       "      <th>month</th>\n",
       "      <th>calls_count</th>\n",
       "      <th>duration_sum</th>\n",
       "      <th>messages_count</th>\n",
       "      <th>mb_used_sum</th>\n",
       "      <th>gb_used_sum</th>\n",
       "      <th>tariff</th>\n",
       "      <th>city</th>\n",
       "      <th>month_revenue</th>\n",
       "    </tr>\n",
       "  </thead>\n",
       "  <tbody>\n",
       "    <tr>\n",
       "      <td>3165</td>\n",
       "      <td>1497</td>\n",
       "      <td>10.0</td>\n",
       "      <td>50.0</td>\n",
       "      <td>490.0</td>\n",
       "      <td>20.0</td>\n",
       "      <td>11500.29</td>\n",
       "      <td>12.0</td>\n",
       "      <td>smart</td>\n",
       "      <td>Челябинск</td>\n",
       "      <td>550.0</td>\n",
       "    </tr>\n",
       "    <tr>\n",
       "      <td>426</td>\n",
       "      <td>1066</td>\n",
       "      <td>11.0</td>\n",
       "      <td>79.0</td>\n",
       "      <td>685.0</td>\n",
       "      <td>49.0</td>\n",
       "      <td>17636.32</td>\n",
       "      <td>18.0</td>\n",
       "      <td>smart</td>\n",
       "      <td>Астрахань</td>\n",
       "      <td>1705.0</td>\n",
       "    </tr>\n",
       "    <tr>\n",
       "      <td>329</td>\n",
       "      <td>1053</td>\n",
       "      <td>11.0</td>\n",
       "      <td>79.0</td>\n",
       "      <td>783.0</td>\n",
       "      <td>0.0</td>\n",
       "      <td>14682.17</td>\n",
       "      <td>15.0</td>\n",
       "      <td>ultra</td>\n",
       "      <td>Ростов-на-Дону</td>\n",
       "      <td>1950.0</td>\n",
       "    </tr>\n",
       "    <tr>\n",
       "      <td>232</td>\n",
       "      <td>1036</td>\n",
       "      <td>8.0</td>\n",
       "      <td>60.0</td>\n",
       "      <td>554.0</td>\n",
       "      <td>3.0</td>\n",
       "      <td>16831.79</td>\n",
       "      <td>17.0</td>\n",
       "      <td>smart</td>\n",
       "      <td>Санкт-Петербург</td>\n",
       "      <td>1112.0</td>\n",
       "    </tr>\n",
       "    <tr>\n",
       "      <td>1525</td>\n",
       "      <td>1244</td>\n",
       "      <td>9.0</td>\n",
       "      <td>40.0</td>\n",
       "      <td>338.0</td>\n",
       "      <td>82.0</td>\n",
       "      <td>21968.95</td>\n",
       "      <td>22.0</td>\n",
       "      <td>smart</td>\n",
       "      <td>Москва</td>\n",
       "      <td>2046.0</td>\n",
       "    </tr>\n",
       "  </tbody>\n",
       "</table>\n",
       "</div>"
      ],
      "text/plain": [
       "      user_id  month  calls_count  duration_sum  messages_count  mb_used_sum  \\\n",
       "3165     1497   10.0         50.0         490.0            20.0     11500.29   \n",
       "426      1066   11.0         79.0         685.0            49.0     17636.32   \n",
       "329      1053   11.0         79.0         783.0             0.0     14682.17   \n",
       "232      1036    8.0         60.0         554.0             3.0     16831.79   \n",
       "1525     1244    9.0         40.0         338.0            82.0     21968.95   \n",
       "\n",
       "      gb_used_sum tariff             city  month_revenue  \n",
       "3165         12.0  smart        Челябинск          550.0  \n",
       "426          18.0  smart        Астрахань         1705.0  \n",
       "329          15.0  ultra   Ростов-на-Дону         1950.0  \n",
       "232          17.0  smart  Санкт-Петербург         1112.0  \n",
       "1525         22.0  smart           Москва         2046.0  "
      ]
     },
     "execution_count": 42,
     "metadata": {},
     "output_type": "execute_result"
    }
   ],
   "source": [
    "# Рассчитаем помесячную выручку с каждого пользователя.\n",
    "df_pivot_users['month_revenue'] = df_pivot_users.apply(revenue_month, axis=1)\n",
    "df_pivot_users.sample(n=5, random_state=5)"
   ]
  },
  {
   "cell_type": "markdown",
   "metadata": {},
   "source": [
    "<div class=\"alert alert-success\">\n",
    "<font size=\"5\"><b>Комментарий ревьюера</b></font>\n",
    "\n",
    "Успех: Финальная таблица получена верным образом. Здорово, что она не содержит излишней информации в виде имени или фамилии клиента. Такая информация никак не поможет нам в анализе, поэтому хранить ее повторно не стоит.\n",
    "\n",
    "</div>"
   ]
  },
  {
   "cell_type": "markdown",
   "metadata": {},
   "source": [
    "# Анализ данных"
   ]
  },
  {
   "cell_type": "markdown",
   "metadata": {},
   "source": [
    "## Исследование длительности звонков\n",
    "\n",
    "Опишем поведение клиентов оператора, исходя из выборки и узнаем, сколько минут разговора требуется пользователям каждого тарифа в месяц. Найдём среднее количество, дисперсию и стандартное отклонение, построим гистограммы."
   ]
  },
  {
   "cell_type": "code",
   "execution_count": 43,
   "metadata": {
    "scrolled": false
   },
   "outputs": [
    {
     "name": "stdout",
     "output_type": "stream",
     "text": [
      "Средняя длительность звонков пользователей тарифа \"Ультра\" в месяц: 526.6233502538071\n",
      "Средняя длительность звонков пользователей тарифа \"Смарт\" в месяц: 417.9349484073576\n"
     ]
    }
   ],
   "source": [
    "print('Средняя длительность звонков пользователей тарифа \"Ультра\" в месяц:',\n",
    "      df_pivot_users.query('tariff == \"ultra\"')['duration_sum'].mean())\n",
    "print('Средняя длительность звонков пользователей тарифа \"Смарт\" в месяц:',\n",
    "      df_pivot_users.query('tariff == \"smart\"')['duration_sum'].mean())"
   ]
  },
  {
   "cell_type": "markdown",
   "metadata": {},
   "source": [
    "**Гистограммы средней длительности звонков**\n",
    "\n",
    "Сравнение средней длительности разговора в тарифах:"
   ]
  },
  {
   "cell_type": "code",
   "execution_count": 44,
   "metadata": {
    "scrolled": false
   },
   "outputs": [
    {
     "data": {
      "image/png": "[encoded data removed]",
      "text/plain": [
       "<Figure size 432x288 with 1 Axes>"
      ]
     },
     "metadata": {
      "needs_background": "light"
     },
     "output_type": "display_data"
    }
   ],
   "source": [
    "df_pivot_users.query('tariff == \"smart\"')['duration_sum'].plot(kind='hist', bins=30, alpha=0.7, label='Тариф \"Смарт\"')\n",
    "df_pivot_users.query('tariff == \"ultra\"')['duration_sum'].plot(kind='hist', bins=30, alpha=0.7, label='Тариф \"Ультра\"')\n",
    "plt.title('Средняя длительность звонка')\n",
    "plt.xlabel('Минуты')\n",
    "plt.ylabel('Распространенность')\n",
    "plt.legend()\n",
    "plt.show()"
   ]
  },
  {
   "cell_type": "markdown",
   "metadata": {},
   "source": [
    "Диаграммы размаха средней длительности разговора в тарифах:"
   ]
  },
  {
   "cell_type": "code",
   "execution_count": 45,
   "metadata": {},
   "outputs": [
    {
     "data": {
      "image/png": "[encoded data removed]",
      "text/plain": [
       "<Figure size 432x288 with 1 Axes>"
      ]
     },
     "metadata": {
      "needs_background": "light"
     },
     "output_type": "display_data"
    },
    {
     "data": {
      "image/png": "[encoded data removed]",
      "text/plain": [
       "<Figure size 432x288 with 1 Axes>"
      ]
     },
     "metadata": {
      "needs_background": "light"
     },
     "output_type": "display_data"
    }
   ],
   "source": [
    "df_pivot_users.query('tariff == \"smart\"')['duration_sum'].plot(kind='box', label='Тариф \"Смарт\"')\n",
    "plt.title('Средняя длительность звонка')\n",
    "plt.ylabel('Минуты')\n",
    "plt.show()\n",
    "\n",
    "df_pivot_users.query('tariff == \"ultra\"')['duration_sum'].plot(kind='box', label='Тариф \"Ультра\"')\n",
    "plt.title('Средняя длительность звонка')\n",
    "plt.ylabel('Минуты')\n",
    "plt.show()"
   ]
  },
  {
   "cell_type": "markdown",
   "metadata": {},
   "source": [
    "**Вывод**\n",
    "\n",
    "* Распределение средней продолжительности звонков у пользователей тарифа \"Смарт\" близко к нормальному\n",
    "* Средняя продолжительность звонков у пользователей тарифа \"Ультра\" выше, чем у пользователей тарифа \"Смарт\"\n",
    "* Максимальная продолжительность звонка выше у тарифа \"Ультра№, она составляет `1673 мин.`, когда как у тарифа \"Смарт\" - `1435 мин.`"
   ]
  },
  {
   "cell_type": "markdown",
   "metadata": {},
   "source": [
    "**Стандартное отклонение длительности звонков**"
   ]
  },
  {
   "cell_type": "code",
   "execution_count": 46,
   "metadata": {
    "scrolled": false
   },
   "outputs": [
    {
     "name": "stdout",
     "output_type": "stream",
     "text": [
      "Стандартное отклонение длительности звонков пользователей тарифа \"Ультра\" в месяц: 317.61\n",
      "Стандартное отклонение длительности звонков пользователей тарифа \"Смарт\" в месяц: 190.31\n"
     ]
    }
   ],
   "source": [
    "print('Стандартное отклонение длительности звонков пользователей тарифа \"Ультра\" в месяц: {:.2f}'\n",
    "      .format(df_pivot_users.query('tariff == \"ultra\"')['duration_sum'].std()))\n",
    "print('Стандартное отклонение длительности звонков пользователей тарифа \"Смарт\" в месяц: {:.2f}'\n",
    "      .format(df_pivot_users.query('tariff == \"smart\"')['duration_sum'].std()))"
   ]
  },
  {
   "cell_type": "markdown",
   "metadata": {},
   "source": [
    "**Вывод**\n",
    "\n",
    "Стандартное отклонение для пользователей тарифа \"Ультра\" выше, чем для пользователей тарифа \"Смарт\". Значит, количество минут, которое используют пользователи первого тарифа, имеет менее стабильное значение и может сильно отличаться в каждом месяце от предыдущего. "
   ]
  },
  {
   "cell_type": "markdown",
   "metadata": {},
   "source": [
    "**Дисперсия длительности звонков**"
   ]
  },
  {
   "cell_type": "code",
   "execution_count": 47,
   "metadata": {
    "scrolled": false
   },
   "outputs": [
    {
     "name": "stdout",
     "output_type": "stream",
     "text": [
      "Стандартное отклонение длительности звонков пользователей тарифа \"Ультра\" в месяц: 100873.63339730098\n",
      "Стандартное отклонение длительности звонков пользователей тарифа \"Смарт\" в месяц: 36219.31578434428\n"
     ]
    }
   ],
   "source": [
    "print('Стандартное отклонение длительности звонков пользователей тарифа \"Ультра\" в месяц:',\n",
    "      df_pivot_users.query('tariff == \"ultra\"')['duration_sum'].var())\n",
    "print('Стандартное отклонение длительности звонков пользователей тарифа \"Смарт\" в месяц:',\n",
    "      df_pivot_users.query('tariff == \"smart\"')['duration_sum'].var())"
   ]
  },
  {
   "cell_type": "markdown",
   "metadata": {},
   "source": [
    "**Вывод**\n",
    "\n",
    "Дисперсия длительности звонков для пользователей тарифа \"Ультра\" больше, чем для пользователей тарифа \"Смарт\"."
   ]
  },
  {
   "cell_type": "markdown",
   "metadata": {},
   "source": [
    "## Исследование количества сообщений"
   ]
  },
  {
   "cell_type": "markdown",
   "metadata": {},
   "source": [
    "Опишем поведение клиентов оператора, исходя из выборки и узнаем, сколько сообщений требуется пользователям каждого тарифа в месяц. Найдём среднее количество, дисперсию и стандартное отклонение, построим гистограммы."
   ]
  },
  {
   "cell_type": "code",
   "execution_count": 48,
   "metadata": {
    "scrolled": false
   },
   "outputs": [
    {
     "name": "stdout",
     "output_type": "stream",
     "text": [
      "Среднее количество сообщений пользователей тарифа \"Ультра\" в месяц: 49.36\n",
      "Среднее количество сообщений пользователей тарифа \"Смарт\" в месяц: 33.38\n"
     ]
    }
   ],
   "source": [
    "print('Среднее количество сообщений пользователей тарифа \"Ультра\" в месяц: {:.2f}'\n",
    "      .format(df_pivot_users.query('tariff == \"ultra\"')['messages_count'].mean()))\n",
    "print('Среднее количество сообщений пользователей тарифа \"Смарт\" в месяц: {:.2f}'\n",
    "      .format(df_pivot_users.query('tariff == \"smart\"')['messages_count'].mean()))"
   ]
  },
  {
   "cell_type": "markdown",
   "metadata": {},
   "source": [
    "**Гистограммы среднего количества сообщений**"
   ]
  },
  {
   "cell_type": "code",
   "execution_count": 49,
   "metadata": {
    "scrolled": false
   },
   "outputs": [
    {
     "data": {
      "image/png": "[encoded data removed]",
      "text/plain": [
       "<Figure size 432x288 with 1 Axes>"
      ]
     },
     "metadata": {
      "needs_background": "light"
     },
     "output_type": "display_data"
    }
   ],
   "source": [
    "df_pivot_users.query('tariff == \"smart\"')['messages_count'].plot(kind='hist', bins=30, alpha=0.7, label='Тариф \"Смарт\"')\n",
    "df_pivot_users.query('tariff == \"ultra\"')['messages_count'].plot(kind='hist', bins=30, alpha=0.7, label='Тариф \"Ультра\"')\n",
    "plt.title('Среднее количество сообщений')\n",
    "plt.xlabel('Сообщения')\n",
    "plt.ylabel('Распространенность')\n",
    "plt.legend()\n",
    "plt.show()"
   ]
  },
  {
   "cell_type": "markdown",
   "metadata": {},
   "source": [
    "Диаграммы размаха среднего количества сообщений в тарифах:"
   ]
  },
  {
   "cell_type": "code",
   "execution_count": 50,
   "metadata": {},
   "outputs": [
    {
     "data": {
      "image/png": "[encoded data removed]",
      "text/plain": [
       "<Figure size 432x288 with 1 Axes>"
      ]
     },
     "metadata": {
      "needs_background": "light"
     },
     "output_type": "display_data"
    },
    {
     "data": {
      "image/png": "[encoded data removed]",
      "text/plain": [
       "<Figure size 432x288 with 1 Axes>"
      ]
     },
     "metadata": {
      "needs_background": "light"
     },
     "output_type": "display_data"
    }
   ],
   "source": [
    "df_pivot_users.query('tariff == \"smart\"')['messages_count'].plot(kind='box', label='Тариф \"Смарт\"')\n",
    "plt.title('Среднее количество сообщений')\n",
    "plt.ylabel('Cообщения')\n",
    "plt.show()\n",
    "\n",
    "df_pivot_users.query('tariff == \"ultra\"')['messages_count'].plot(kind='box', label='Тариф \"Ультра\"')\n",
    "plt.title('Среднее количество сообщений')\n",
    "plt.ylabel('Сообщения')\n",
    "plt.show()"
   ]
  },
  {
   "cell_type": "markdown",
   "metadata": {},
   "source": [
    "**Вывод:**\n",
    "\n",
    "Среднее количество сообщений у пользователей тарифа \"Ультра\" больше, чем у пользователей тарифа \"Смарт\" "
   ]
  },
  {
   "cell_type": "markdown",
   "metadata": {},
   "source": [
    "**Стандартное отклонение количества сообщений**"
   ]
  },
  {
   "cell_type": "code",
   "execution_count": 51,
   "metadata": {
    "scrolled": false
   },
   "outputs": [
    {
     "name": "stdout",
     "output_type": "stream",
     "text": [
      "Стандартное отклонение количества сообщений пользователей тарифа \"Ультра\" в месяц: 47.80\n",
      "Стандартное отклонение количества сообщений пользователей тарифа \"Смарт\" в месяц: 28.23\n"
     ]
    }
   ],
   "source": [
    "print('Стандартное отклонение количества сообщений пользователей тарифа \"Ультра\" в месяц: {:.2f}'\n",
    "      .format(df_pivot_users.query('tariff == \"ultra\"')['messages_count'].std()))\n",
    "print('Стандартное отклонение количества сообщений пользователей тарифа \"Смарт\" в месяц: {:.2f}'\n",
    "      .format(df_pivot_users.query('tariff == \"smart\"')['messages_count'].std()))"
   ]
  },
  {
   "cell_type": "markdown",
   "metadata": {},
   "source": [
    "**Вывод**\n",
    "\n",
    "Стандартное отклонение количества сообщений для пользователей тарифа \"Ультра\" выше, чем для пользователей тарифа \"Смарт\". Значит, количество сообщений, которое используют пользователи тарифа \"Ультра\", имеет менее стабильное значение и может сильно отличаться в каждом месяце от предыдущего. "
   ]
  },
  {
   "cell_type": "markdown",
   "metadata": {},
   "source": [
    "**Дисперсия количества сообщений**"
   ]
  },
  {
   "cell_type": "code",
   "execution_count": 52,
   "metadata": {
    "scrolled": false
   },
   "outputs": [
    {
     "name": "stdout",
     "output_type": "stream",
     "text": [
      "Дисперсия количества сообщений пользователей тарифа \"Ультра\" в месяц: 2285.27\n",
      "Дисперсия количества сообщений пользователей тарифа \"Смарт\" в месяц: 796.81\n"
     ]
    }
   ],
   "source": [
    "print('Дисперсия количества сообщений пользователей тарифа \"Ультра\" в месяц: {:.2f}'\n",
    "      .format(df_pivot_users.query('tariff == \"ultra\"')['messages_count'].var()))\n",
    "print('Дисперсия количества сообщений пользователей тарифа \"Смарт\" в месяц: {:.2f}'\n",
    "      .format(df_pivot_users.query('tariff == \"smart\"')['messages_count'].var()))"
   ]
  },
  {
   "cell_type": "markdown",
   "metadata": {},
   "source": [
    "**Вывод**\n",
    "\n",
    "Дисперсия количества сообщений для пользователей тарифа \"Ультра\" больше, чем для пользователей тарифа \"Смарт\"."
   ]
  },
  {
   "cell_type": "markdown",
   "metadata": {},
   "source": [
    "## Исследование интернет-трафика\n",
    "\n",
    "Опишем поведение клиентов оператора, исходя из выборки и узнаем, какой объем интернет-трафика требуется пользователям каждого тарифа в месяц. Найдём среднее количество, дисперсию и стандартное отклонение, построим гистограммы."
   ]
  },
  {
   "cell_type": "code",
   "execution_count": 53,
   "metadata": {
    "scrolled": false
   },
   "outputs": [
    {
     "name": "stdout",
     "output_type": "stream",
     "text": [
      "Среднее количество потраченного интернет-трафика пользователей тарифа \"Ультра\" в месяц: 19.49\n",
      "Среднее количество потраченного интернет-трафика пользователей тарифа \"Смарт\" в месяц: 16.33\n"
     ]
    }
   ],
   "source": [
    "print('Среднее количество потраченного интернет-трафика пользователей тарифа \"Ультра\" в месяц: {:.2f}'\n",
    "      .format(df_pivot_users.query('tariff == \"ultra\"')['gb_used_sum'].mean()))\n",
    "print('Среднее количество потраченного интернет-трафика пользователей тарифа \"Смарт\" в месяц: {:.2f}'\n",
    "      .format(df_pivot_users.query('tariff == \"smart\"')['gb_used_sum'].mean()))"
   ]
  },
  {
   "cell_type": "markdown",
   "metadata": {},
   "source": [
    "**Гистограммы среднего объема интернет-трафика**\n",
    "\n",
    "Сравнение среднего используемого объема интернет-трафика между тарифами:"
   ]
  },
  {
   "cell_type": "code",
   "execution_count": 54,
   "metadata": {
    "scrolled": true
   },
   "outputs": [
    {
     "data": {
      "image/png": "[encoded data removed]",
      "text/plain": [
       "<Figure size 432x288 with 1 Axes>"
      ]
     },
     "metadata": {
      "needs_background": "light"
     },
     "output_type": "display_data"
    }
   ],
   "source": [
    "df_pivot_users.query('tariff == \"smart\"')['gb_used_sum'].plot(kind='hist', bins=35, alpha=0.7, label='Тариф \"Смарт\"')\n",
    "df_pivot_users.query('tariff == \"ultra\"')['gb_used_sum'].plot(kind='hist', bins=35, alpha=0.7, label='Тариф \"Ультра\"')\n",
    "plt.title('Средний объем интернет-трафика')\n",
    "plt.xlabel('Объем (гб.)')\n",
    "plt.ylabel('Распространенность')\n",
    "plt.legend()\n",
    "plt.show()"
   ]
  },
  {
   "cell_type": "markdown",
   "metadata": {},
   "source": [
    "Диаграммы размаха среднего объема потраченного интернет-трафика в тарифах:"
   ]
  },
  {
   "cell_type": "code",
   "execution_count": 55,
   "metadata": {},
   "outputs": [
    {
     "data": {
      "image/png": "[encoded data removed]",
      "text/plain": [
       "<Figure size 432x288 with 1 Axes>"
      ]
     },
     "metadata": {
      "needs_background": "light"
     },
     "output_type": "display_data"
    },
    {
     "data": {
      "image/png": "[encoded data removed]",
      "text/plain": [
       "<Figure size 432x288 with 1 Axes>"
      ]
     },
     "metadata": {
      "needs_background": "light"
     },
     "output_type": "display_data"
    }
   ],
   "source": [
    "df_pivot_users.query('tariff == \"smart\"')['gb_used_sum'].plot(kind='box', label='Тариф \"Смарт\"')\n",
    "plt.title('Средний объем интернет-трафика')\n",
    "plt.ylabel('Объем (гб.)')\n",
    "plt.show()\n",
    "\n",
    "df_pivot_users.query('tariff == \"ultra\"')['gb_used_sum'].plot(kind='box', label='Тариф \"Ультра\"')\n",
    "plt.title('Средний объем интернет-трафика')\n",
    "plt.ylabel('Объем (гб.)')\n",
    "plt.show()"
   ]
  },
  {
   "cell_type": "markdown",
   "metadata": {},
   "source": [
    "**Вывод**\n",
    "\n",
    "Средний объем потраченного интернет-трафика у пользователей тарифа \"Ультра\" выше, чем у пользователей тарифа \"Смарт\""
   ]
  },
  {
   "cell_type": "markdown",
   "metadata": {},
   "source": [
    "**Стандартное отклонение объема интернет-трафика**"
   ]
  },
  {
   "cell_type": "code",
   "execution_count": 56,
   "metadata": {
    "scrolled": false
   },
   "outputs": [
    {
     "name": "stdout",
     "output_type": "stream",
     "text": [
      "Стандартное отклонение объема интернет-трафика пользователей тарифа \"Ультра\" в месяц: 9.85\n",
      "Стандартное отклонение объема интернет-трафика пользователей тарифа \"Смарт\" в месяц: 5.75\n"
     ]
    }
   ],
   "source": [
    "print('Стандартное отклонение объема интернет-трафика пользователей тарифа \"Ультра\" в месяц: {:.2f}'\n",
    "      .format(df_pivot_users.query('tariff == \"ultra\"')['gb_used_sum'].std()))\n",
    "print('Стандартное отклонение объема интернет-трафика пользователей тарифа \"Смарт\" в месяц: {:.2f}'\n",
    "      .format(df_pivot_users.query('tariff == \"smart\"')['gb_used_sum'].std()))"
   ]
  },
  {
   "cell_type": "markdown",
   "metadata": {},
   "source": [
    "**Вывод**\n",
    "\n",
    "Стандартное отклонение для пользователей тарифа \"Ультра\" выше, чем для пользователей тарифа \"Смарт\". Значит, количество интернет-трафика, которое используют пользователи тарифа \"Ультра\", имеет менее стабильное значение и может сильно отличаться в каждом месяце от предыдущего. "
   ]
  },
  {
   "cell_type": "markdown",
   "metadata": {},
   "source": [
    "**Дисперсия объема интернет-трафика**"
   ]
  },
  {
   "cell_type": "code",
   "execution_count": 57,
   "metadata": {
    "scrolled": false
   },
   "outputs": [
    {
     "name": "stdout",
     "output_type": "stream",
     "text": [
      "Дисперсия объема интернет-трафика пользователей тарифа \"Ультра\" в месяц: 97.09\n",
      "Дисперсия объема интернет-трафика пользователей тарифа \"Смарт\" в месяц: 33.03\n"
     ]
    }
   ],
   "source": [
    "print('Дисперсия объема интернет-трафика пользователей тарифа \"Ультра\" в месяц: {:.2f}'\n",
    "      .format(df_pivot_users.query('tariff == \"ultra\"')['gb_used_sum'].var()))\n",
    "print('Дисперсия объема интернет-трафика пользователей тарифа \"Смарт\" в месяц: {:.2f}'\n",
    "      .format(df_pivot_users.query('tariff == \"smart\"')['gb_used_sum'].var()))"
   ]
  },
  {
   "cell_type": "markdown",
   "metadata": {},
   "source": [
    "**Вывод**\n",
    "\n",
    "Дисперсия длительности звонков для пользователей тарифа \"Ультра\" в несколько раз больше, чем для пользователей тарифа \"Смарт\"."
   ]
  },
  {
   "cell_type": "markdown",
   "metadata": {},
   "source": [
    "<div class=\"alert alert-success\">\n",
    "<font size=\"5\"><b>Комментарий ревьюера </b></font>\n",
    "\n",
    "Успех: Базовые статистические параметры получены. Приведены все необходимые графики. Здорово, что графики для одинаковых услуг тарифов приведены на одном рисунке. Так удобнее сравнивать тарифы. Также можно привести график по выручке компании с разбиением по тарифу. \n",
    "    \n",
    "Графики по среднему отклонению и дисперсии не нужны. Достаточно просто сравнения данных показателей для разных тарифов. \n",
    "\n",
    "</div>"
   ]
  },
  {
   "cell_type": "markdown",
   "metadata": {},
   "source": [
    "# Проверка гипотез"
   ]
  },
  {
   "cell_type": "markdown",
   "metadata": {},
   "source": [
    "Требуется проверить следующие гипотезы:\n",
    "\n",
    "* Средняя выручка пользователей тарифов «Ультра» и «Смарт» различаются;\n",
    "* Средняя выручка пользователей из Москвы отличается от выручки пользователей из других регионов.\n",
    "\n",
    "Для этого проведем дополнительные расчеты."
   ]
  },
  {
   "cell_type": "markdown",
   "metadata": {},
   "source": [
    "## Подготовка массива данных для дальнейшего исследования"
   ]
  },
  {
   "cell_type": "code",
   "execution_count": 58,
   "metadata": {
    "scrolled": true
   },
   "outputs": [
    {
     "data": {
      "text/html": [
       "<div>\n",
       "<style scoped>\n",
       "    .dataframe tbody tr th:only-of-type {\n",
       "        vertical-align: middle;\n",
       "    }\n",
       "\n",
       "    .dataframe tbody tr th {\n",
       "        vertical-align: top;\n",
       "    }\n",
       "\n",
       "    .dataframe thead th {\n",
       "        text-align: right;\n",
       "    }\n",
       "</style>\n",
       "<table border=\"1\" class=\"dataframe\">\n",
       "  <thead>\n",
       "    <tr style=\"text-align: right;\">\n",
       "      <th></th>\n",
       "      <th>user_id</th>\n",
       "      <th>age</th>\n",
       "      <th>churn_date</th>\n",
       "      <th>city</th>\n",
       "      <th>first_name</th>\n",
       "      <th>last_name</th>\n",
       "      <th>reg_date</th>\n",
       "      <th>tariff</th>\n",
       "    </tr>\n",
       "  </thead>\n",
       "  <tbody>\n",
       "    <tr>\n",
       "      <td>0</td>\n",
       "      <td>1000</td>\n",
       "      <td>52</td>\n",
       "      <td>NaT</td>\n",
       "      <td>Краснодар</td>\n",
       "      <td>Рафаил</td>\n",
       "      <td>Верещагин</td>\n",
       "      <td>2018-05-25</td>\n",
       "      <td>ultra</td>\n",
       "    </tr>\n",
       "    <tr>\n",
       "      <td>1</td>\n",
       "      <td>1001</td>\n",
       "      <td>41</td>\n",
       "      <td>NaT</td>\n",
       "      <td>Москва</td>\n",
       "      <td>Иван</td>\n",
       "      <td>Ежов</td>\n",
       "      <td>2018-11-01</td>\n",
       "      <td>smart</td>\n",
       "    </tr>\n",
       "    <tr>\n",
       "      <td>2</td>\n",
       "      <td>1002</td>\n",
       "      <td>59</td>\n",
       "      <td>NaT</td>\n",
       "      <td>Стерлитамак</td>\n",
       "      <td>Евгений</td>\n",
       "      <td>Абрамович</td>\n",
       "      <td>2018-06-17</td>\n",
       "      <td>smart</td>\n",
       "    </tr>\n",
       "    <tr>\n",
       "      <td>3</td>\n",
       "      <td>1003</td>\n",
       "      <td>23</td>\n",
       "      <td>NaT</td>\n",
       "      <td>Москва</td>\n",
       "      <td>Белла</td>\n",
       "      <td>Белякова</td>\n",
       "      <td>2018-08-17</td>\n",
       "      <td>ultra</td>\n",
       "    </tr>\n",
       "    <tr>\n",
       "      <td>4</td>\n",
       "      <td>1004</td>\n",
       "      <td>68</td>\n",
       "      <td>NaT</td>\n",
       "      <td>Новокузнецк</td>\n",
       "      <td>Татьяна</td>\n",
       "      <td>Авдеенко</td>\n",
       "      <td>2018-05-14</td>\n",
       "      <td>ultra</td>\n",
       "    </tr>\n",
       "  </tbody>\n",
       "</table>\n",
       "</div>"
      ],
      "text/plain": [
       "   user_id  age churn_date         city first_name  last_name   reg_date  \\\n",
       "0     1000   52        NaT    Краснодар     Рафаил  Верещагин 2018-05-25   \n",
       "1     1001   41        NaT       Москва       Иван       Ежов 2018-11-01   \n",
       "2     1002   59        NaT  Стерлитамак    Евгений  Абрамович 2018-06-17   \n",
       "3     1003   23        NaT       Москва      Белла   Белякова 2018-08-17   \n",
       "4     1004   68        NaT  Новокузнецк    Татьяна   Авдеенко 2018-05-14   \n",
       "\n",
       "  tariff  \n",
       "0  ultra  \n",
       "1  smart  \n",
       "2  smart  \n",
       "3  ultra  \n",
       "4  ultra  "
      ]
     },
     "execution_count": 58,
     "metadata": {},
     "output_type": "execute_result"
    }
   ],
   "source": [
    "df_users.head()"
   ]
  },
  {
   "cell_type": "code",
   "execution_count": 59,
   "metadata": {
    "scrolled": false
   },
   "outputs": [
    {
     "data": {
      "text/html": [
       "<div>\n",
       "<style scoped>\n",
       "    .dataframe tbody tr th:only-of-type {\n",
       "        vertical-align: middle;\n",
       "    }\n",
       "\n",
       "    .dataframe tbody tr th {\n",
       "        vertical-align: top;\n",
       "    }\n",
       "\n",
       "    .dataframe thead th {\n",
       "        text-align: right;\n",
       "    }\n",
       "</style>\n",
       "<table border=\"1\" class=\"dataframe\">\n",
       "  <thead>\n",
       "    <tr style=\"text-align: right;\">\n",
       "      <th></th>\n",
       "      <th>user_id</th>\n",
       "      <th>month</th>\n",
       "      <th>calls_count</th>\n",
       "      <th>duration_sum</th>\n",
       "      <th>messages_count</th>\n",
       "      <th>mb_used_sum</th>\n",
       "      <th>gb_used_sum</th>\n",
       "      <th>tariff</th>\n",
       "      <th>city</th>\n",
       "      <th>month_revenue</th>\n",
       "    </tr>\n",
       "  </thead>\n",
       "  <tbody>\n",
       "    <tr>\n",
       "      <td>0</td>\n",
       "      <td>1000</td>\n",
       "      <td>5.0</td>\n",
       "      <td>17.0</td>\n",
       "      <td>159.0</td>\n",
       "      <td>22.0</td>\n",
       "      <td>2253.49</td>\n",
       "      <td>3.0</td>\n",
       "      <td>ultra</td>\n",
       "      <td>Краснодар</td>\n",
       "      <td>1950.0</td>\n",
       "    </tr>\n",
       "    <tr>\n",
       "      <td>1</td>\n",
       "      <td>1000</td>\n",
       "      <td>6.0</td>\n",
       "      <td>28.0</td>\n",
       "      <td>172.0</td>\n",
       "      <td>60.0</td>\n",
       "      <td>23233.77</td>\n",
       "      <td>23.0</td>\n",
       "      <td>ultra</td>\n",
       "      <td>Краснодар</td>\n",
       "      <td>1950.0</td>\n",
       "    </tr>\n",
       "    <tr>\n",
       "      <td>2</td>\n",
       "      <td>1000</td>\n",
       "      <td>7.0</td>\n",
       "      <td>41.0</td>\n",
       "      <td>340.0</td>\n",
       "      <td>75.0</td>\n",
       "      <td>14003.64</td>\n",
       "      <td>14.0</td>\n",
       "      <td>ultra</td>\n",
       "      <td>Краснодар</td>\n",
       "      <td>1950.0</td>\n",
       "    </tr>\n",
       "    <tr>\n",
       "      <td>3</td>\n",
       "      <td>1000</td>\n",
       "      <td>8.0</td>\n",
       "      <td>42.0</td>\n",
       "      <td>408.0</td>\n",
       "      <td>81.0</td>\n",
       "      <td>14055.93</td>\n",
       "      <td>14.0</td>\n",
       "      <td>ultra</td>\n",
       "      <td>Краснодар</td>\n",
       "      <td>1950.0</td>\n",
       "    </tr>\n",
       "    <tr>\n",
       "      <td>4</td>\n",
       "      <td>1000</td>\n",
       "      <td>9.0</td>\n",
       "      <td>46.0</td>\n",
       "      <td>466.0</td>\n",
       "      <td>57.0</td>\n",
       "      <td>14568.91</td>\n",
       "      <td>15.0</td>\n",
       "      <td>ultra</td>\n",
       "      <td>Краснодар</td>\n",
       "      <td>1950.0</td>\n",
       "    </tr>\n",
       "    <tr>\n",
       "      <td>5</td>\n",
       "      <td>1000</td>\n",
       "      <td>10.0</td>\n",
       "      <td>44.0</td>\n",
       "      <td>350.0</td>\n",
       "      <td>73.0</td>\n",
       "      <td>14702.49</td>\n",
       "      <td>15.0</td>\n",
       "      <td>ultra</td>\n",
       "      <td>Краснодар</td>\n",
       "      <td>1950.0</td>\n",
       "    </tr>\n",
       "    <tr>\n",
       "      <td>6</td>\n",
       "      <td>1000</td>\n",
       "      <td>11.0</td>\n",
       "      <td>37.0</td>\n",
       "      <td>338.0</td>\n",
       "      <td>58.0</td>\n",
       "      <td>14756.47</td>\n",
       "      <td>15.0</td>\n",
       "      <td>ultra</td>\n",
       "      <td>Краснодар</td>\n",
       "      <td>1950.0</td>\n",
       "    </tr>\n",
       "    <tr>\n",
       "      <td>7</td>\n",
       "      <td>1000</td>\n",
       "      <td>12.0</td>\n",
       "      <td>38.0</td>\n",
       "      <td>333.0</td>\n",
       "      <td>70.0</td>\n",
       "      <td>9817.61</td>\n",
       "      <td>10.0</td>\n",
       "      <td>ultra</td>\n",
       "      <td>Краснодар</td>\n",
       "      <td>1950.0</td>\n",
       "    </tr>\n",
       "    <tr>\n",
       "      <td>8</td>\n",
       "      <td>1001</td>\n",
       "      <td>11.0</td>\n",
       "      <td>45.0</td>\n",
       "      <td>430.0</td>\n",
       "      <td>0.0</td>\n",
       "      <td>18429.34</td>\n",
       "      <td>18.0</td>\n",
       "      <td>smart</td>\n",
       "      <td>Москва</td>\n",
       "      <td>1150.0</td>\n",
       "    </tr>\n",
       "    <tr>\n",
       "      <td>9</td>\n",
       "      <td>1001</td>\n",
       "      <td>12.0</td>\n",
       "      <td>47.0</td>\n",
       "      <td>414.0</td>\n",
       "      <td>0.0</td>\n",
       "      <td>14036.66</td>\n",
       "      <td>14.0</td>\n",
       "      <td>smart</td>\n",
       "      <td>Москва</td>\n",
       "      <td>550.0</td>\n",
       "    </tr>\n",
       "    <tr>\n",
       "      <td>10</td>\n",
       "      <td>1002</td>\n",
       "      <td>6.0</td>\n",
       "      <td>14.0</td>\n",
       "      <td>117.0</td>\n",
       "      <td>4.0</td>\n",
       "      <td>10856.82</td>\n",
       "      <td>11.0</td>\n",
       "      <td>smart</td>\n",
       "      <td>Стерлитамак</td>\n",
       "      <td>550.0</td>\n",
       "    </tr>\n",
       "    <tr>\n",
       "      <td>11</td>\n",
       "      <td>1002</td>\n",
       "      <td>7.0</td>\n",
       "      <td>21.0</td>\n",
       "      <td>214.0</td>\n",
       "      <td>11.0</td>\n",
       "      <td>17580.10</td>\n",
       "      <td>18.0</td>\n",
       "      <td>smart</td>\n",
       "      <td>Стерлитамак</td>\n",
       "      <td>1150.0</td>\n",
       "    </tr>\n",
       "    <tr>\n",
       "      <td>12</td>\n",
       "      <td>1002</td>\n",
       "      <td>8.0</td>\n",
       "      <td>37.0</td>\n",
       "      <td>289.0</td>\n",
       "      <td>13.0</td>\n",
       "      <td>20319.26</td>\n",
       "      <td>20.0</td>\n",
       "      <td>smart</td>\n",
       "      <td>Стерлитамак</td>\n",
       "      <td>1550.0</td>\n",
       "    </tr>\n",
       "    <tr>\n",
       "      <td>13</td>\n",
       "      <td>1002</td>\n",
       "      <td>9.0</td>\n",
       "      <td>25.0</td>\n",
       "      <td>206.0</td>\n",
       "      <td>4.0</td>\n",
       "      <td>16691.08</td>\n",
       "      <td>17.0</td>\n",
       "      <td>smart</td>\n",
       "      <td>Стерлитамак</td>\n",
       "      <td>950.0</td>\n",
       "    </tr>\n",
       "    <tr>\n",
       "      <td>14</td>\n",
       "      <td>1002</td>\n",
       "      <td>10.0</td>\n",
       "      <td>24.0</td>\n",
       "      <td>212.0</td>\n",
       "      <td>10.0</td>\n",
       "      <td>13888.25</td>\n",
       "      <td>14.0</td>\n",
       "      <td>smart</td>\n",
       "      <td>Стерлитамак</td>\n",
       "      <td>550.0</td>\n",
       "    </tr>\n",
       "  </tbody>\n",
       "</table>\n",
       "</div>"
      ],
      "text/plain": [
       "    user_id  month  calls_count  duration_sum  messages_count  mb_used_sum  \\\n",
       "0      1000    5.0         17.0         159.0            22.0      2253.49   \n",
       "1      1000    6.0         28.0         172.0            60.0     23233.77   \n",
       "2      1000    7.0         41.0         340.0            75.0     14003.64   \n",
       "3      1000    8.0         42.0         408.0            81.0     14055.93   \n",
       "4      1000    9.0         46.0         466.0            57.0     14568.91   \n",
       "5      1000   10.0         44.0         350.0            73.0     14702.49   \n",
       "6      1000   11.0         37.0         338.0            58.0     14756.47   \n",
       "7      1000   12.0         38.0         333.0            70.0      9817.61   \n",
       "8      1001   11.0         45.0         430.0             0.0     18429.34   \n",
       "9      1001   12.0         47.0         414.0             0.0     14036.66   \n",
       "10     1002    6.0         14.0         117.0             4.0     10856.82   \n",
       "11     1002    7.0         21.0         214.0            11.0     17580.10   \n",
       "12     1002    8.0         37.0         289.0            13.0     20319.26   \n",
       "13     1002    9.0         25.0         206.0             4.0     16691.08   \n",
       "14     1002   10.0         24.0         212.0            10.0     13888.25   \n",
       "\n",
       "    gb_used_sum tariff         city  month_revenue  \n",
       "0           3.0  ultra    Краснодар         1950.0  \n",
       "1          23.0  ultra    Краснодар         1950.0  \n",
       "2          14.0  ultra    Краснодар         1950.0  \n",
       "3          14.0  ultra    Краснодар         1950.0  \n",
       "4          15.0  ultra    Краснодар         1950.0  \n",
       "5          15.0  ultra    Краснодар         1950.0  \n",
       "6          15.0  ultra    Краснодар         1950.0  \n",
       "7          10.0  ultra    Краснодар         1950.0  \n",
       "8          18.0  smart       Москва         1150.0  \n",
       "9          14.0  smart       Москва          550.0  \n",
       "10         11.0  smart  Стерлитамак          550.0  \n",
       "11         18.0  smart  Стерлитамак         1150.0  \n",
       "12         20.0  smart  Стерлитамак         1550.0  \n",
       "13         17.0  smart  Стерлитамак          950.0  \n",
       "14         14.0  smart  Стерлитамак          550.0  "
      ]
     },
     "execution_count": 59,
     "metadata": {},
     "output_type": "execute_result"
    }
   ],
   "source": [
    "df_pivot_users.head(15)"
   ]
  },
  {
   "cell_type": "code",
   "execution_count": 60,
   "metadata": {
    "scrolled": false
   },
   "outputs": [
    {
     "data": {
      "text/plain": [
       "0       1950.0\n",
       "1       1950.0\n",
       "2       1950.0\n",
       "3       1950.0\n",
       "4       1950.0\n",
       "         ...  \n",
       "3204    1950.0\n",
       "3205    1950.0\n",
       "3206    1950.0\n",
       "3207    1950.0\n",
       "3208    1950.0\n",
       "Name: month_revenue, Length: 985, dtype: float64"
      ]
     },
     "execution_count": 60,
     "metadata": {},
     "output_type": "execute_result"
    }
   ],
   "source": [
    "df_pivot_users.query('tariff == \"ultra\"')['month_revenue']"
   ]
  },
  {
   "cell_type": "code",
   "execution_count": 61,
   "metadata": {},
   "outputs": [
    {
     "data": {
      "text/plain": [
       "8       1150.0\n",
       "9        550.0\n",
       "10       550.0\n",
       "11      1150.0\n",
       "12      1550.0\n",
       "         ...  \n",
       "3209     550.0\n",
       "3210     950.0\n",
       "3211    1550.0\n",
       "3212    1150.0\n",
       "3213     950.0\n",
       "Name: month_revenue, Length: 2229, dtype: float64"
      ]
     },
     "execution_count": 61,
     "metadata": {},
     "output_type": "execute_result"
    }
   ],
   "source": [
    "df_pivot_users.query('tariff == \"smart\"')['month_revenue']"
   ]
  },
  {
   "cell_type": "markdown",
   "metadata": {},
   "source": [
    "## Проверка гипотез"
   ]
  },
  {
   "cell_type": "markdown",
   "metadata": {},
   "source": [
    "**Проверим следующую гипотезу:**\n",
    "* Средняя ежемесячная выручка пользователей тарифов «Ультра» и «Смарт» различаются.\n",
    "\n",
    "Пусть нулевая гипотеза H0 - Средняя выручка пользователей тарифов \"Ультра\" и \"Смарт\" равна.\n",
    "\n",
    "Альтернативная гипотеза H1 - Средняя выручка пользователей тарифов \"Ультра\" и \"Смарт\" **не** равна.\n",
    "\n",
    "Решим вопрос о принятии или отвержении нулевой гипотезы по p-value."
   ]
  },
  {
   "cell_type": "code",
   "execution_count": 62,
   "metadata": {
    "scrolled": true
   },
   "outputs": [
    {
     "name": "stdout",
     "output_type": "stream",
     "text": [
      "Дисперсия выборки пользователей тарифа Смарт: 669785.7080064242\n",
      "Дисперсия выборки пользователей тарифа Ультра: 141516.74507861826\n",
      "p-значение: 4.2606313931076085e-250\n",
      "Принимаем альтернативную гипотезу\n"
     ]
    }
   ],
   "source": [
    "sample_ultra = df_pivot_users.query('tariff == \"ultra\"')['month_revenue']\n",
    "sample_smart = df_pivot_users.query('tariff == \"smart\"')['month_revenue']\n",
    "\n",
    "print('Дисперсия выборки пользователей тарифа Смарт:', sample_smart.var(ddof=1))\n",
    "print('Дисперсия выборки пользователей тарифа Ультра:', sample_ultra.var(ddof=1))\n",
    "\n",
    "alpha = 0.05\n",
    "results = st.ttest_ind(sample_ultra, sample_smart, equal_var=False)\n",
    "print('p-значение:', results.pvalue)\n",
    "if results.pvalue < alpha:\n",
    "    print('Принимаем альтернативную гипотезу')\n",
    "else:\n",
    "    print('Принимаем нулевую гипотезу')"
   ]
  },
  {
   "cell_type": "markdown",
   "metadata": {},
   "source": [
    "Так как p-значение мало, то есть основание отвергнуть нулевую гипотезу о том, что средние выручки тарифов равны.\n",
    "\n",
    "**Вывод:**\n",
    "\n",
    "Средняя ежемесячная выручка пользователей тарифов «Ультра» и «Смарт» не равна."
   ]
  },
  {
   "cell_type": "markdown",
   "metadata": {},
   "source": [
    "**Проверим следующую гипотезу:**\n",
    "\n",
    "* Средняя выручка пользователей из Москвы отличается от выручки пользователей из других регионов.\n",
    "\n",
    "Пусть нулевая гипотеза H0 - Средняя выручка пользователей из Москвы **не** отличается от выручки пользователей из других регионов, т.е. выручка равна.\n",
    "\n",
    "Альтернативная гипотеза H1 - Средняя выручка пользователей пользователей из Москвы отличается от выручки пользователей из других регионов.\n",
    "\n",
    "Решим вопрос о принятии или отвержении нулевой гипотезы по p-value."
   ]
  },
  {
   "cell_type": "markdown",
   "metadata": {},
   "source": [
    "<div class=\"alert alert-success\">\n",
    "<font size=\"5\"><b>Комментарий ревьюера</b></font>\n",
    "\n",
    "Успех: Формулировки гипотез верны. \n",
    "</div>"
   ]
  },
  {
   "cell_type": "code",
   "execution_count": 63,
   "metadata": {
    "scrolled": false
   },
   "outputs": [
    {
     "name": "stdout",
     "output_type": "stream",
     "text": [
      "Дисперсия выборки пользователей из Москвы: 565636.467011886\n",
      "Дисперсия выборки пользователей из регионов: 654137.6285218114\n",
      "p-значение: 0.5257376663729298\n",
      "Принимаем нулевую гипотезу\n"
     ]
    }
   ],
   "source": [
    "sample_moscow = df_pivot_users.query('city == \"Москва\"')['month_revenue']\n",
    "sample_regions = df_pivot_users.query('city != \"Москва\"')['month_revenue']\n",
    "\n",
    "print('Дисперсия выборки пользователей из Москвы:', sample_moscow.var(ddof=1))\n",
    "print('Дисперсия выборки пользователей из регионов:', sample_regions.var(ddof=1))\n",
    "\n",
    "alpha = 0.05\n",
    "results = st.ttest_ind(sample_moscow, sample_regions, equal_var=False)\n",
    "print('p-значение:', results.pvalue)\n",
    "if results.pvalue < alpha:\n",
    "    print('Принимаем альтернативную гипотезу')\n",
    "else:\n",
    "    print('Принимаем нулевую гипотезу')"
   ]
  },
  {
   "cell_type": "markdown",
   "metadata": {},
   "source": [
    "Так как р-значение велико, и говорит о том, что с вероятностью 52% различие можно получить случайно, то можем принять нулевую гипотезу. \n",
    "\n",
    "**Вывод:**\n",
    "\n",
    "Средняя выручка пользователей из Москвы не отличается от выручки пользователей из других регионов."
   ]
  },
  {
   "cell_type": "markdown",
   "metadata": {},
   "source": [
    "# Общий вывод"
   ]
  },
  {
   "cell_type": "markdown",
   "metadata": {},
   "source": [
    "Для пользователей тарифов \"Ультра\" и \"Смарт\" характерно различное поведение. \n",
    "\n",
    "Пользователи тарифа \"Ультра\" редко тратят одинаковое количество услуг, разброс этих значений у них намного больше, чем у пользователей тарифа \"Смарт\". \n",
    "\n",
    "Исходя из статистических тестов можно принять следующие гипотезы:\n",
    "\n",
    "* Средняя ежемесячная выручка пользователей тарифов «Ультра» и «Смарт» не равна.\n",
    "* Средняя выручка пользователей из Москвы не отличается от выручки пользователей из других регионов.\n",
    "\n",
    "Так же клиенты тарифа \"Смарт\" больше склонны к трате усредненного количества трафика, сообщений и минут звонков. Так же у тарифа \"Смарт\" суммарная ежемесячная выручка и максимальное значение прибыли выше, чем у тарифа \"Ультра\". Таким образом, можно прийти к тому, что для телеком-компании наиболее перспективным тарифом будет тариф \"Смарт\"."
   ]
  },
  {
   "cell_type": "markdown",
   "metadata": {},
   "source": [
    "<div class=\"alert alert-info\">\n",
    "<font size=\"5\"><b>Комментарий ревьюера</b></font>\n",
    "\n",
    "Если тебе нравится тема визуализации, то можешь изучить и методы библиотеки seaborn. Она позволяет строить довольно презентабельные графики. Рекомендую ресурс https://www.python-graph-gallery.com/. В нем содержится большая библиотека графиков с готовым кодом, который можно использовать при работе.\n",
    "\n",
    "Ты проделала большую работу, молодец!\n",
    "\n",
    "</div>"
   ]
  }
 ],
 "metadata": {
  "ExecuteTimeLog": [
   {
    "duration": 644,
    "start_time": "2021-11-18T13:34:44.372Z"
   },
   {
    "duration": 2,
    "start_time": "2021-11-18T13:38:11.188Z"
   },
   {
    "duration": 526,
    "start_time": "2021-11-18T13:38:11.416Z"
   },
   {
    "duration": 326,
    "start_time": "2021-11-18T13:42:00.134Z"
   },
   {
    "duration": 42,
    "start_time": "2021-11-18T13:42:05.160Z"
   },
   {
    "duration": 21,
    "start_time": "2021-11-18T13:42:24.708Z"
   },
   {
    "duration": 34,
    "start_time": "2021-11-18T13:42:35.157Z"
   },
   {
    "duration": 45,
    "start_time": "2021-11-18T13:43:03.598Z"
   },
   {
    "duration": 109,
    "start_time": "2021-11-18T13:44:44.218Z"
   },
   {
    "duration": 121,
    "start_time": "2021-11-18T13:44:52.179Z"
   },
   {
    "duration": 88,
    "start_time": "2021-11-18T13:45:25.690Z"
   },
   {
    "duration": 387,
    "start_time": "2021-11-18T13:47:15.417Z"
   },
   {
    "duration": 4712,
    "start_time": "2021-11-18T13:47:27.033Z"
   },
   {
    "duration": 713,
    "start_time": "2021-11-18T13:47:35.577Z"
   },
   {
    "duration": 466,
    "start_time": "2021-11-18T13:47:42.224Z"
   },
   {
    "duration": 311,
    "start_time": "2021-11-18T13:48:09.296Z"
   },
   {
    "duration": 261,
    "start_time": "2021-11-18T13:48:18.352Z"
   },
   {
    "duration": 273,
    "start_time": "2021-11-18T13:49:32.823Z"
   },
   {
    "duration": 587,
    "start_time": "2021-11-18T13:50:38.222Z"
   },
   {
    "duration": 3,
    "start_time": "2021-11-18T13:50:56.381Z"
   },
   {
    "duration": 387,
    "start_time": "2021-11-18T13:50:56.573Z"
   },
   {
    "duration": 8,
    "start_time": "2021-11-18T13:50:56.962Z"
   },
   {
    "duration": 21,
    "start_time": "2021-11-18T13:50:57.109Z"
   },
   {
    "duration": 27,
    "start_time": "2021-11-18T13:50:57.622Z"
   },
   {
    "duration": 81,
    "start_time": "2021-11-18T13:50:57.894Z"
   },
   {
    "duration": 535,
    "start_time": "2021-11-18T13:50:58.967Z"
   },
   {
    "duration": 2,
    "start_time": "2021-11-18T13:51:12.270Z"
   },
   {
    "duration": 388,
    "start_time": "2021-11-18T13:51:12.485Z"
   },
   {
    "duration": 7,
    "start_time": "2021-11-18T13:51:12.876Z"
   },
   {
    "duration": 23,
    "start_time": "2021-11-18T13:51:12.997Z"
   },
   {
    "duration": 27,
    "start_time": "2021-11-18T13:51:13.318Z"
   },
   {
    "duration": 78,
    "start_time": "2021-11-18T13:51:13.581Z"
   },
   {
    "duration": 273,
    "start_time": "2021-11-18T13:51:14.477Z"
   },
   {
    "duration": 374,
    "start_time": "2021-11-18T13:51:38.933Z"
   },
   {
    "duration": 242,
    "start_time": "2021-11-18T13:51:44.349Z"
   },
   {
    "duration": 261,
    "start_time": "2021-11-18T13:51:54.918Z"
   },
   {
    "duration": 555,
    "start_time": "2021-11-18T13:52:21.781Z"
   },
   {
    "duration": 534,
    "start_time": "2021-11-18T13:53:05.093Z"
   },
   {
    "duration": 263,
    "start_time": "2021-11-18T13:53:16.795Z"
   },
   {
    "duration": 630,
    "start_time": "2021-11-18T13:53:52.981Z"
   },
   {
    "duration": 258,
    "start_time": "2021-11-18T13:54:00.436Z"
   },
   {
    "duration": 257,
    "start_time": "2021-11-18T13:54:11.771Z"
   },
   {
    "duration": 260,
    "start_time": "2021-11-18T13:54:21.419Z"
   },
   {
    "duration": 247,
    "start_time": "2021-11-18T13:54:27.964Z"
   },
   {
    "duration": 253,
    "start_time": "2021-11-18T13:54:34.075Z"
   },
   {
    "duration": 12,
    "start_time": "2021-11-18T13:54:52.691Z"
   },
   {
    "duration": 10,
    "start_time": "2021-11-18T13:55:30.939Z"
   },
   {
    "duration": 91,
    "start_time": "2021-11-18T13:55:56.074Z"
   },
   {
    "duration": 11,
    "start_time": "2021-11-18T13:56:03.691Z"
   },
   {
    "duration": 8,
    "start_time": "2021-11-18T13:56:14.953Z"
   },
   {
    "duration": 13,
    "start_time": "2021-11-18T13:57:25.449Z"
   },
   {
    "duration": 86,
    "start_time": "2021-11-18T13:57:37.954Z"
   },
   {
    "duration": 87,
    "start_time": "2021-11-18T13:58:42.591Z"
   },
   {
    "duration": 312,
    "start_time": "2021-11-18T13:58:46.951Z"
   },
   {
    "duration": 88,
    "start_time": "2021-11-18T13:59:19.030Z"
   },
   {
    "duration": 84,
    "start_time": "2021-11-18T13:59:21.767Z"
   },
   {
    "duration": 119,
    "start_time": "2021-11-18T13:59:24.958Z"
   },
   {
    "duration": 92,
    "start_time": "2021-11-18T13:59:31.966Z"
   },
   {
    "duration": 13,
    "start_time": "2021-11-18T13:59:54.694Z"
   },
   {
    "duration": 278,
    "start_time": "2021-11-18T14:00:17.526Z"
   },
   {
    "duration": 103,
    "start_time": "2021-11-18T14:00:37.414Z"
   },
   {
    "duration": 14,
    "start_time": "2021-11-18T14:00:42.126Z"
   },
   {
    "duration": 94,
    "start_time": "2021-11-18T14:01:01.669Z"
   },
   {
    "duration": 309,
    "start_time": "2021-11-18T14:01:13.333Z"
   },
   {
    "duration": 87,
    "start_time": "2021-11-18T14:01:15.837Z"
   },
   {
    "duration": 15,
    "start_time": "2021-11-18T14:01:22.197Z"
   },
   {
    "duration": 15,
    "start_time": "2021-11-18T14:01:47.381Z"
   },
   {
    "duration": 283,
    "start_time": "2021-11-18T14:02:05.093Z"
   },
   {
    "duration": 93,
    "start_time": "2021-11-18T14:02:56.156Z"
   },
   {
    "duration": 734,
    "start_time": "2021-11-18T14:03:09.659Z"
   },
   {
    "duration": 89,
    "start_time": "2021-11-18T14:03:16.435Z"
   },
   {
    "duration": 13,
    "start_time": "2021-11-18T14:03:28.356Z"
   },
   {
    "duration": 262,
    "start_time": "2021-11-18T14:12:02.956Z"
   },
   {
    "duration": 14,
    "start_time": "2021-11-18T14:12:03.220Z"
   },
   {
    "duration": 271,
    "start_time": "2021-11-18T14:13:02.635Z"
   },
   {
    "duration": 3,
    "start_time": "2021-11-18T14:13:11.075Z"
   },
   {
    "duration": 414,
    "start_time": "2021-11-18T14:13:11.323Z"
   },
   {
    "duration": 9,
    "start_time": "2021-11-18T14:13:11.739Z"
   },
   {
    "duration": 22,
    "start_time": "2021-11-18T14:13:11.811Z"
   },
   {
    "duration": 31,
    "start_time": "2021-11-18T14:13:12.011Z"
   },
   {
    "duration": 110,
    "start_time": "2021-11-18T14:13:12.435Z"
   },
   {
    "duration": 266,
    "start_time": "2021-11-18T14:13:13.178Z"
   },
   {
    "duration": 283,
    "start_time": "2021-11-18T14:13:15.866Z"
   },
   {
    "duration": 14,
    "start_time": "2021-11-18T14:13:47.122Z"
   },
   {
    "duration": 3,
    "start_time": "2021-11-18T14:13:56.386Z"
   },
   {
    "duration": 387,
    "start_time": "2021-11-18T14:13:57.372Z"
   },
   {
    "duration": 8,
    "start_time": "2021-11-18T14:13:57.761Z"
   },
   {
    "duration": 20,
    "start_time": "2021-11-18T14:13:57.883Z"
   },
   {
    "duration": 30,
    "start_time": "2021-11-18T14:13:58.042Z"
   },
   {
    "duration": 80,
    "start_time": "2021-11-18T14:13:58.241Z"
   },
   {
    "duration": 247,
    "start_time": "2021-11-18T14:13:58.578Z"
   },
   {
    "duration": 18,
    "start_time": "2021-11-18T14:14:00.674Z"
   },
   {
    "duration": 21,
    "start_time": "2021-11-18T14:16:48.376Z"
   },
   {
    "duration": 21,
    "start_time": "2021-11-18T14:17:04.312Z"
   },
   {
    "duration": 255,
    "start_time": "2021-11-18T14:42:53.675Z"
   },
   {
    "duration": 2350,
    "start_time": "2021-11-18T14:43:21.513Z"
   },
   {
    "duration": 1982,
    "start_time": "2021-11-18T14:43:38.202Z"
   },
   {
    "duration": 26,
    "start_time": "2021-11-18T14:44:24.290Z"
   },
   {
    "duration": 295,
    "start_time": "2021-11-18T14:45:39.911Z"
   },
   {
    "duration": 268,
    "start_time": "2021-11-18T14:45:48.791Z"
   },
   {
    "duration": 3,
    "start_time": "2021-11-18T14:46:04.495Z"
   },
   {
    "duration": 533,
    "start_time": "2021-11-18T14:46:04.686Z"
   },
   {
    "duration": 9,
    "start_time": "2021-11-18T14:46:05.221Z"
   },
   {
    "duration": 34,
    "start_time": "2021-11-18T14:46:05.232Z"
   },
   {
    "duration": 309,
    "start_time": "2021-11-18T14:46:05.486Z"
   },
   {
    "duration": 30,
    "start_time": "2021-11-18T14:46:06.007Z"
   },
   {
    "duration": 3,
    "start_time": "2021-11-18T14:46:36.751Z"
   },
   {
    "duration": 365,
    "start_time": "2021-11-18T14:46:36.942Z"
   },
   {
    "duration": 8,
    "start_time": "2021-11-18T14:46:37.595Z"
   },
   {
    "duration": 20,
    "start_time": "2021-11-18T14:46:37.631Z"
   },
   {
    "duration": 30,
    "start_time": "2021-11-18T14:46:37.692Z"
   },
   {
    "duration": 28,
    "start_time": "2021-11-18T14:46:37.723Z"
   },
   {
    "duration": 91,
    "start_time": "2021-11-18T14:46:37.753Z"
   },
   {
    "duration": 9,
    "start_time": "2021-11-18T14:46:50.894Z"
   },
   {
    "duration": 28,
    "start_time": "2021-11-18T14:46:51.590Z"
   },
   {
    "duration": 20,
    "start_time": "2021-11-18T14:47:11.014Z"
   },
   {
    "duration": 22,
    "start_time": "2021-11-18T14:48:37.928Z"
   },
   {
    "duration": 26,
    "start_time": "2021-11-18T14:48:38.284Z"
   },
   {
    "duration": 80,
    "start_time": "2021-11-18T14:48:38.748Z"
   },
   {
    "duration": 25,
    "start_time": "2021-11-18T14:48:42.228Z"
   },
   {
    "duration": 24,
    "start_time": "2021-11-18T14:48:43.277Z"
   },
   {
    "duration": 78,
    "start_time": "2021-11-18T14:48:43.789Z"
   },
   {
    "duration": 28,
    "start_time": "2021-11-18T14:48:49.429Z"
   },
   {
    "duration": 20,
    "start_time": "2021-11-18T14:48:56.629Z"
   },
   {
    "duration": 26,
    "start_time": "2021-11-18T14:48:57.860Z"
   },
   {
    "duration": 79,
    "start_time": "2021-11-18T14:48:58.036Z"
   },
   {
    "duration": 3,
    "start_time": "2021-11-18T14:49:06.034Z"
   },
   {
    "duration": 389,
    "start_time": "2021-11-18T14:49:06.039Z"
   },
   {
    "duration": 8,
    "start_time": "2021-11-18T14:49:06.430Z"
   },
   {
    "duration": 35,
    "start_time": "2021-11-18T14:49:06.440Z"
   },
   {
    "duration": 38,
    "start_time": "2021-11-18T14:49:06.477Z"
   },
   {
    "duration": 26,
    "start_time": "2021-11-18T14:49:06.517Z"
   },
   {
    "duration": 80,
    "start_time": "2021-11-18T14:49:06.545Z"
   },
   {
    "duration": 252,
    "start_time": "2021-11-18T14:49:06.627Z"
   },
   {
    "duration": 14,
    "start_time": "2021-11-18T14:49:06.880Z"
   },
   {
    "duration": 28,
    "start_time": "2021-11-18T14:49:21.413Z"
   },
   {
    "duration": 3,
    "start_time": "2021-11-18T14:49:27.661Z"
   },
   {
    "duration": 394,
    "start_time": "2021-11-18T14:49:27.666Z"
   },
   {
    "duration": 8,
    "start_time": "2021-11-18T14:49:28.062Z"
   },
   {
    "duration": 23,
    "start_time": "2021-11-18T14:49:28.072Z"
   },
   {
    "duration": 40,
    "start_time": "2021-11-18T14:49:28.097Z"
   },
   {
    "duration": 26,
    "start_time": "2021-11-18T14:49:28.139Z"
   },
   {
    "duration": 93,
    "start_time": "2021-11-18T14:49:28.166Z"
   },
   {
    "duration": 248,
    "start_time": "2021-11-18T14:49:28.261Z"
   },
   {
    "duration": 14,
    "start_time": "2021-11-18T14:49:28.511Z"
   },
   {
    "duration": 255,
    "start_time": "2021-11-18T14:51:12.883Z"
   },
   {
    "duration": 15,
    "start_time": "2021-11-18T14:51:13.144Z"
   },
   {
    "duration": 4,
    "start_time": "2021-11-18T14:51:38.941Z"
   },
   {
    "duration": 385,
    "start_time": "2021-11-18T14:51:38.946Z"
   },
   {
    "duration": 7,
    "start_time": "2021-11-18T14:51:39.333Z"
   },
   {
    "duration": 23,
    "start_time": "2021-11-18T14:51:39.342Z"
   },
   {
    "duration": 36,
    "start_time": "2021-11-18T14:51:39.366Z"
   },
   {
    "duration": 45,
    "start_time": "2021-11-18T14:51:39.404Z"
   },
   {
    "duration": 97,
    "start_time": "2021-11-18T14:51:39.451Z"
   },
   {
    "duration": 249,
    "start_time": "2021-11-18T14:51:39.550Z"
   },
   {
    "duration": 14,
    "start_time": "2021-11-18T14:51:39.801Z"
   },
   {
    "duration": 22,
    "start_time": "2021-11-18T14:52:58.803Z"
   },
   {
    "duration": 19,
    "start_time": "2021-11-18T14:53:06.985Z"
   },
   {
    "duration": 20,
    "start_time": "2021-11-18T14:53:13.945Z"
   },
   {
    "duration": 26,
    "start_time": "2021-11-18T14:54:53.695Z"
   },
   {
    "duration": 5,
    "start_time": "2021-11-18T14:55:45.463Z"
   },
   {
    "duration": 266,
    "start_time": "2021-11-18T14:55:52.998Z"
   },
   {
    "duration": 5,
    "start_time": "2021-11-18T14:56:01.927Z"
   },
   {
    "duration": 88,
    "start_time": "2021-11-18T14:58:34.429Z"
   },
   {
    "duration": 251,
    "start_time": "2021-11-18T14:59:56.044Z"
   },
   {
    "duration": 985,
    "start_time": "2021-11-18T15:00:00.203Z"
   },
   {
    "duration": 316,
    "start_time": "2021-11-18T15:00:21.131Z"
   },
   {
    "duration": 273,
    "start_time": "2021-11-18T15:00:29.867Z"
   },
   {
    "duration": 308,
    "start_time": "2021-11-18T15:00:37.842Z"
   },
   {
    "duration": 299,
    "start_time": "2021-11-18T15:01:05.822Z"
   },
   {
    "duration": 23,
    "start_time": "2021-11-18T15:01:15.874Z"
   },
   {
    "duration": 23,
    "start_time": "2021-11-18T15:02:11.777Z"
   },
   {
    "duration": 8,
    "start_time": "2021-11-18T15:10:12.187Z"
   },
   {
    "duration": 17,
    "start_time": "2021-11-18T15:10:28.946Z"
   },
   {
    "duration": 31,
    "start_time": "2021-11-18T15:10:44.994Z"
   },
   {
    "duration": 105,
    "start_time": "2021-11-18T15:27:09.980Z"
   },
   {
    "duration": 277,
    "start_time": "2021-11-18T15:27:14.764Z"
   },
   {
    "duration": 390,
    "start_time": "2021-11-18T15:27:26.030Z"
   },
   {
    "duration": 235,
    "start_time": "2021-11-18T15:27:34.517Z"
   },
   {
    "duration": 272,
    "start_time": "2021-11-18T15:27:46.060Z"
   },
   {
    "duration": 365,
    "start_time": "2021-11-18T15:28:10.036Z"
   },
   {
    "duration": 283,
    "start_time": "2021-11-18T15:28:53.651Z"
   },
   {
    "duration": 287,
    "start_time": "2021-11-18T15:35:05.503Z"
   },
   {
    "duration": 49,
    "start_time": "2021-11-18T15:36:18.517Z"
   },
   {
    "duration": 12,
    "start_time": "2021-11-18T15:43:04.928Z"
   },
   {
    "duration": 21,
    "start_time": "2021-11-18T15:57:39.052Z"
   },
   {
    "duration": 9,
    "start_time": "2021-11-18T15:58:15.779Z"
   },
   {
    "duration": 19,
    "start_time": "2021-11-18T15:59:17.162Z"
   },
   {
    "duration": 9,
    "start_time": "2021-11-18T16:04:23.686Z"
   },
   {
    "duration": 6,
    "start_time": "2021-11-18T16:04:57.790Z"
   },
   {
    "duration": 269,
    "start_time": "2021-11-18T16:05:19.998Z"
   },
   {
    "duration": 7,
    "start_time": "2021-11-18T16:05:26.822Z"
   },
   {
    "duration": 20,
    "start_time": "2021-11-18T16:05:54.340Z"
   },
   {
    "duration": 93,
    "start_time": "2021-11-18T17:00:15.283Z"
   },
   {
    "duration": 10,
    "start_time": "2021-11-18T17:01:04.219Z"
   },
   {
    "duration": 7,
    "start_time": "2021-11-18T17:02:45.705Z"
   },
   {
    "duration": 14,
    "start_time": "2021-11-18T17:02:58.191Z"
   },
   {
    "duration": 37,
    "start_time": "2021-11-18T17:04:03.319Z"
   },
   {
    "duration": 25,
    "start_time": "2021-11-18T17:06:09.919Z"
   },
   {
    "duration": 11,
    "start_time": "2021-11-18T17:06:38.485Z"
   },
   {
    "duration": 8,
    "start_time": "2021-11-18T17:07:21.940Z"
   },
   {
    "duration": 259,
    "start_time": "2021-11-18T17:07:49.294Z"
   },
   {
    "duration": 6,
    "start_time": "2021-11-18T17:07:55.435Z"
   },
   {
    "duration": 4,
    "start_time": "2021-11-19T07:25:10.296Z"
   },
   {
    "duration": 593,
    "start_time": "2021-11-19T07:26:37.633Z"
   },
   {
    "duration": 874,
    "start_time": "2021-11-19T07:26:43.631Z"
   },
   {
    "duration": 552,
    "start_time": "2021-11-19T07:26:44.508Z"
   },
   {
    "duration": 18,
    "start_time": "2021-11-19T07:26:45.064Z"
   },
   {
    "duration": 11,
    "start_time": "2021-11-19T07:26:45.085Z"
   },
   {
    "duration": 30,
    "start_time": "2021-11-19T07:26:45.099Z"
   },
   {
    "duration": 40,
    "start_time": "2021-11-19T07:26:45.131Z"
   },
   {
    "duration": 16,
    "start_time": "2021-11-19T07:26:45.174Z"
   },
   {
    "duration": 15,
    "start_time": "2021-11-19T07:26:45.193Z"
   },
   {
    "duration": 77,
    "start_time": "2021-11-19T07:26:45.212Z"
   },
   {
    "duration": 45,
    "start_time": "2021-11-19T07:26:45.293Z"
   },
   {
    "duration": 165,
    "start_time": "2021-11-19T07:26:45.341Z"
   },
   {
    "duration": 449,
    "start_time": "2021-11-19T07:26:45.509Z"
   },
   {
    "duration": 20,
    "start_time": "2021-11-19T07:26:45.967Z"
   },
   {
    "duration": 96,
    "start_time": "2021-11-19T07:26:45.990Z"
   },
   {
    "duration": 10,
    "start_time": "2021-11-19T07:26:46.089Z"
   },
   {
    "duration": 27,
    "start_time": "2021-11-19T07:26:46.102Z"
   },
   {
    "duration": 89,
    "start_time": "2021-11-19T07:26:46.132Z"
   },
   {
    "duration": 60,
    "start_time": "2021-11-19T07:26:46.224Z"
   },
   {
    "duration": 13,
    "start_time": "2021-11-19T07:26:46.287Z"
   },
   {
    "duration": 27,
    "start_time": "2021-11-19T07:26:46.302Z"
   },
   {
    "duration": 74,
    "start_time": "2021-11-19T07:26:46.332Z"
   },
   {
    "duration": 130,
    "start_time": "2021-11-19T07:26:46.409Z"
   },
   {
    "duration": 489,
    "start_time": "2021-11-19T07:26:46.542Z"
   },
   {
    "duration": 39,
    "start_time": "2021-11-19T07:26:47.034Z"
   },
   {
    "duration": 51,
    "start_time": "2021-11-19T07:26:47.076Z"
   },
   {
    "duration": 42,
    "start_time": "2021-11-19T07:26:47.130Z"
   },
   {
    "duration": 12,
    "start_time": "2021-11-19T07:26:47.179Z"
   },
   {
    "duration": 330,
    "start_time": "2021-11-19T07:26:47.194Z"
   },
   {
    "duration": 33,
    "start_time": "2021-11-19T07:27:05.760Z"
   },
   {
    "duration": 39,
    "start_time": "2021-11-19T07:27:40.727Z"
   },
   {
    "duration": 72,
    "start_time": "2021-11-19T07:30:03.454Z"
   },
   {
    "duration": 517,
    "start_time": "2021-11-19T13:26:00.955Z"
   },
   {
    "duration": 119,
    "start_time": "2021-11-19T13:26:22.213Z"
   },
   {
    "duration": 61,
    "start_time": "2021-11-19T13:26:41.926Z"
   },
   {
    "duration": 65,
    "start_time": "2021-11-19T13:27:59.299Z"
   },
   {
    "duration": 67,
    "start_time": "2021-11-19T13:28:39.727Z"
   },
   {
    "duration": 80,
    "start_time": "2021-11-19T13:28:47.654Z"
   },
   {
    "duration": 398,
    "start_time": "2021-11-19T13:30:28.692Z"
   },
   {
    "duration": 308,
    "start_time": "2021-11-19T13:30:39.955Z"
   },
   {
    "duration": 292,
    "start_time": "2021-11-19T13:31:12.460Z"
   },
   {
    "duration": 39,
    "start_time": "2021-11-19T13:31:43.627Z"
   },
   {
    "duration": 40,
    "start_time": "2021-11-19T13:33:02.632Z"
   },
   {
    "duration": 37,
    "start_time": "2021-11-19T13:35:58.598Z"
   },
   {
    "duration": 33,
    "start_time": "2021-11-19T13:37:06.827Z"
   },
   {
    "duration": 66,
    "start_time": "2021-11-19T13:37:25.478Z"
   },
   {
    "duration": 68,
    "start_time": "2021-11-19T13:37:30.796Z"
   },
   {
    "duration": 33,
    "start_time": "2021-11-19T13:38:11.189Z"
   },
   {
    "duration": 43,
    "start_time": "2021-11-19T13:38:13.717Z"
   },
   {
    "duration": 80,
    "start_time": "2021-11-19T13:38:28.813Z"
   },
   {
    "duration": 93,
    "start_time": "2021-11-19T13:38:29.028Z"
   },
   {
    "duration": 57,
    "start_time": "2021-11-19T13:38:29.499Z"
   },
   {
    "duration": 35,
    "start_time": "2021-11-19T13:38:29.851Z"
   },
   {
    "duration": 653,
    "start_time": "2021-11-19T13:53:58.966Z"
   },
   {
    "duration": 4,
    "start_time": "2021-11-19T13:54:24.606Z"
   },
   {
    "duration": 512,
    "start_time": "2021-11-19T13:54:24.613Z"
   },
   {
    "duration": 22,
    "start_time": "2021-11-19T13:54:25.128Z"
   },
   {
    "duration": 12,
    "start_time": "2021-11-19T13:54:25.153Z"
   },
   {
    "duration": 39,
    "start_time": "2021-11-19T13:54:25.168Z"
   },
   {
    "duration": 8,
    "start_time": "2021-11-19T13:54:25.210Z"
   },
   {
    "duration": 54,
    "start_time": "2021-11-19T13:54:25.221Z"
   },
   {
    "duration": 11,
    "start_time": "2021-11-19T13:54:25.279Z"
   },
   {
    "duration": 72,
    "start_time": "2021-11-19T13:54:25.294Z"
   },
   {
    "duration": 44,
    "start_time": "2021-11-19T13:54:25.369Z"
   },
   {
    "duration": 160,
    "start_time": "2021-11-19T13:54:25.415Z"
   },
   {
    "duration": 434,
    "start_time": "2021-11-19T13:54:25.577Z"
   },
   {
    "duration": 19,
    "start_time": "2021-11-19T13:54:26.013Z"
   },
   {
    "duration": 80,
    "start_time": "2021-11-19T13:54:26.035Z"
   },
   {
    "duration": 10,
    "start_time": "2021-11-19T13:54:26.118Z"
   },
   {
    "duration": 49,
    "start_time": "2021-11-19T13:54:26.130Z"
   },
   {
    "duration": 58,
    "start_time": "2021-11-19T13:54:26.182Z"
   },
   {
    "duration": 56,
    "start_time": "2021-11-19T13:54:26.243Z"
   },
   {
    "duration": 12,
    "start_time": "2021-11-19T13:54:26.301Z"
   },
   {
    "duration": 69,
    "start_time": "2021-11-19T13:54:26.317Z"
   },
   {
    "duration": 43,
    "start_time": "2021-11-19T13:54:26.389Z"
   },
   {
    "duration": 135,
    "start_time": "2021-11-19T13:54:26.434Z"
   },
   {
    "duration": 487,
    "start_time": "2021-11-19T13:54:26.573Z"
   },
   {
    "duration": 16,
    "start_time": "2021-11-19T13:54:27.062Z"
   },
   {
    "duration": 50,
    "start_time": "2021-11-19T13:54:27.081Z"
   },
   {
    "duration": 14,
    "start_time": "2021-11-19T13:54:27.168Z"
   },
   {
    "duration": 11,
    "start_time": "2021-11-19T13:54:27.184Z"
   },
   {
    "duration": 111,
    "start_time": "2021-11-19T13:54:27.198Z"
   },
   {
    "duration": 80,
    "start_time": "2021-11-19T13:54:27.312Z"
   },
   {
    "duration": 44,
    "start_time": "2021-11-19T13:54:27.397Z"
   },
   {
    "duration": 7049,
    "start_time": "2021-11-19T13:54:27.468Z"
   },
   {
    "duration": 59,
    "start_time": "2021-11-19T13:55:12.080Z"
   },
   {
    "duration": 40,
    "start_time": "2021-11-19T13:55:32.911Z"
   },
   {
    "duration": 296,
    "start_time": "2021-11-19T14:01:02.121Z"
   },
   {
    "duration": 1353,
    "start_time": "2021-11-19T14:01:42.315Z"
   },
   {
    "duration": 83,
    "start_time": "2021-11-19T14:02:10.105Z"
   },
   {
    "duration": 85,
    "start_time": "2021-11-19T14:02:10.559Z"
   },
   {
    "duration": 57,
    "start_time": "2021-11-19T14:02:10.736Z"
   },
   {
    "duration": 39,
    "start_time": "2021-11-19T14:02:10.897Z"
   },
   {
    "duration": 332,
    "start_time": "2021-11-19T14:02:11.081Z"
   },
   {
    "duration": 13,
    "start_time": "2021-11-19T14:02:28.288Z"
   },
   {
    "duration": 302,
    "start_time": "2021-11-19T14:02:34.807Z"
   },
   {
    "duration": 12,
    "start_time": "2021-11-19T14:03:36.857Z"
   },
   {
    "duration": 23,
    "start_time": "2021-11-19T14:04:03.525Z"
   },
   {
    "duration": 33,
    "start_time": "2021-11-19T14:05:04.760Z"
   },
   {
    "duration": 32,
    "start_time": "2021-11-19T14:05:36.503Z"
   },
   {
    "duration": 31,
    "start_time": "2021-11-19T14:05:41.718Z"
   },
   {
    "duration": 28,
    "start_time": "2021-11-19T14:05:54.588Z"
   },
   {
    "duration": 39,
    "start_time": "2021-11-19T14:06:10.516Z"
   },
   {
    "duration": 326,
    "start_time": "2021-11-19T14:07:03.957Z"
   },
   {
    "duration": 434,
    "start_time": "2021-11-19T14:07:03.852Z"
   },
   {
    "duration": 395,
    "start_time": "2021-11-19T14:08:20.324Z"
   },
   {
    "duration": 317,
    "start_time": "2021-11-19T14:09:28.972Z"
   },
   {
    "duration": 51,
    "start_time": "2021-11-19T14:09:40.908Z"
   },
   {
    "duration": 5,
    "start_time": "2021-11-19T14:09:54.920Z"
   },
   {
    "duration": 723,
    "start_time": "2021-11-19T14:09:54.929Z"
   },
   {
    "duration": 20,
    "start_time": "2021-11-19T14:09:55.667Z"
   },
   {
    "duration": 14,
    "start_time": "2021-11-19T14:09:55.691Z"
   },
   {
    "duration": 79,
    "start_time": "2021-11-19T14:09:55.707Z"
   },
   {
    "duration": 13,
    "start_time": "2021-11-19T14:09:55.789Z"
   },
   {
    "duration": 17,
    "start_time": "2021-11-19T14:09:55.805Z"
   },
   {
    "duration": 52,
    "start_time": "2021-11-19T14:09:55.827Z"
   },
   {
    "duration": 39,
    "start_time": "2021-11-19T14:09:55.882Z"
   },
   {
    "duration": 89,
    "start_time": "2021-11-19T14:09:55.924Z"
   },
   {
    "duration": 176,
    "start_time": "2021-11-19T14:09:56.016Z"
   },
   {
    "duration": 496,
    "start_time": "2021-11-19T14:09:56.195Z"
   },
   {
    "duration": 20,
    "start_time": "2021-11-19T14:09:56.694Z"
   },
   {
    "duration": 85,
    "start_time": "2021-11-19T14:09:56.717Z"
   },
   {
    "duration": 14,
    "start_time": "2021-11-19T14:09:56.805Z"
   },
   {
    "duration": 53,
    "start_time": "2021-11-19T14:09:56.822Z"
   },
   {
    "duration": 64,
    "start_time": "2021-11-19T14:09:56.878Z"
   },
   {
    "duration": 37,
    "start_time": "2021-11-19T14:09:56.968Z"
   },
   {
    "duration": 12,
    "start_time": "2021-11-19T14:09:57.008Z"
   },
   {
    "duration": 56,
    "start_time": "2021-11-19T14:09:57.023Z"
   },
   {
    "duration": 89,
    "start_time": "2021-11-19T14:09:57.082Z"
   },
   {
    "duration": 117,
    "start_time": "2021-11-19T14:09:57.174Z"
   },
   {
    "duration": 743,
    "start_time": "2021-11-19T14:09:57.298Z"
   },
   {
    "duration": 28,
    "start_time": "2021-11-19T14:09:58.045Z"
   },
   {
    "duration": 50,
    "start_time": "2021-11-19T14:09:58.076Z"
   },
   {
    "duration": 41,
    "start_time": "2021-11-19T14:09:58.129Z"
   },
   {
    "duration": 12,
    "start_time": "2021-11-19T14:09:58.174Z"
   },
   {
    "duration": 125,
    "start_time": "2021-11-19T14:09:58.189Z"
   },
   {
    "duration": 113,
    "start_time": "2021-11-19T14:09:58.317Z"
   },
   {
    "duration": 69,
    "start_time": "2021-11-19T14:09:58.433Z"
   },
   {
    "duration": 312,
    "start_time": "2021-11-19T14:09:58.505Z"
   },
   {
    "duration": 38,
    "start_time": "2021-11-19T14:10:09.579Z"
   },
   {
    "duration": 45,
    "start_time": "2021-11-19T14:37:53.907Z"
   },
   {
    "duration": 7536,
    "start_time": "2021-11-19T14:40:04.953Z"
   },
   {
    "duration": 328,
    "start_time": "2021-11-19T14:40:26.313Z"
   },
   {
    "duration": 428,
    "start_time": "2021-11-19T14:40:43.393Z"
   },
   {
    "duration": 312,
    "start_time": "2021-11-19T14:42:45.231Z"
   },
   {
    "duration": 52,
    "start_time": "2021-11-19T14:43:29.127Z"
   },
   {
    "duration": 60,
    "start_time": "2021-11-19T14:44:24.798Z"
   },
   {
    "duration": 78,
    "start_time": "2021-11-19T14:59:09.929Z"
   },
   {
    "duration": 74,
    "start_time": "2021-11-19T14:59:10.121Z"
   },
   {
    "duration": 43,
    "start_time": "2021-11-19T14:59:10.275Z"
   },
   {
    "duration": 37,
    "start_time": "2021-11-19T14:59:10.431Z"
   },
   {
    "duration": 52,
    "start_time": "2021-11-19T14:59:10.570Z"
   },
   {
    "duration": 4,
    "start_time": "2021-11-19T14:59:10.738Z"
   },
   {
    "duration": 25,
    "start_time": "2021-11-19T15:17:30.051Z"
   },
   {
    "duration": 13,
    "start_time": "2021-11-19T15:17:30.546Z"
   },
   {
    "duration": 420,
    "start_time": "2021-11-19T15:18:07.866Z"
   },
   {
    "duration": 29,
    "start_time": "2021-11-19T15:18:22.090Z"
   },
   {
    "duration": 13,
    "start_time": "2021-11-19T15:18:25.330Z"
   },
   {
    "duration": 6,
    "start_time": "2021-11-19T15:21:42.839Z"
   },
   {
    "duration": 71,
    "start_time": "2021-11-19T15:21:47.525Z"
   },
   {
    "duration": 63,
    "start_time": "2021-11-19T15:21:47.654Z"
   },
   {
    "duration": 42,
    "start_time": "2021-11-19T15:21:47.918Z"
   },
   {
    "duration": 37,
    "start_time": "2021-11-19T15:21:48.199Z"
   },
   {
    "duration": 70,
    "start_time": "2021-11-19T15:21:48.435Z"
   },
   {
    "duration": 9,
    "start_time": "2021-11-19T15:21:48.646Z"
   },
   {
    "duration": 48,
    "start_time": "2021-11-19T15:48:42.609Z"
   },
   {
    "duration": 29,
    "start_time": "2021-11-19T15:48:43.864Z"
   },
   {
    "duration": 7819,
    "start_time": "2021-11-19T15:49:58.641Z"
   },
   {
    "duration": 8155,
    "start_time": "2021-11-19T15:50:55.706Z"
   },
   {
    "duration": 8280,
    "start_time": "2021-11-19T15:52:19.326Z"
   },
   {
    "duration": 12539,
    "start_time": "2021-11-19T15:53:46.068Z"
   },
   {
    "duration": 541,
    "start_time": "2021-11-19T15:54:03.606Z"
   },
   {
    "duration": 62,
    "start_time": "2021-11-19T15:54:08.859Z"
   },
   {
    "duration": 322,
    "start_time": "2021-11-19T15:55:00.973Z"
   },
   {
    "duration": 45,
    "start_time": "2021-11-19T15:55:18.844Z"
   },
   {
    "duration": 4,
    "start_time": "2021-11-19T15:56:49.554Z"
   },
   {
    "duration": 551,
    "start_time": "2021-11-19T15:56:49.561Z"
   },
   {
    "duration": 14,
    "start_time": "2021-11-19T15:56:50.115Z"
   },
   {
    "duration": 12,
    "start_time": "2021-11-19T15:56:50.132Z"
   },
   {
    "duration": 58,
    "start_time": "2021-11-19T15:56:50.147Z"
   },
   {
    "duration": 10,
    "start_time": "2021-11-19T15:56:50.208Z"
   },
   {
    "duration": 15,
    "start_time": "2021-11-19T15:56:50.221Z"
   },
   {
    "duration": 36,
    "start_time": "2021-11-19T15:56:50.240Z"
   },
   {
    "duration": 30,
    "start_time": "2021-11-19T15:56:50.279Z"
   },
   {
    "duration": 75,
    "start_time": "2021-11-19T15:56:50.312Z"
   },
   {
    "duration": 138,
    "start_time": "2021-11-19T15:56:50.390Z"
   },
   {
    "duration": 439,
    "start_time": "2021-11-19T15:56:50.531Z"
   },
   {
    "duration": 19,
    "start_time": "2021-11-19T15:56:50.972Z"
   },
   {
    "duration": 92,
    "start_time": "2021-11-19T15:56:50.994Z"
   },
   {
    "duration": 10,
    "start_time": "2021-11-19T15:56:51.088Z"
   },
   {
    "duration": 24,
    "start_time": "2021-11-19T15:56:51.100Z"
   },
   {
    "duration": 91,
    "start_time": "2021-11-19T15:56:51.126Z"
   },
   {
    "duration": 51,
    "start_time": "2021-11-19T15:56:51.219Z"
   },
   {
    "duration": 13,
    "start_time": "2021-11-19T15:56:51.272Z"
   },
   {
    "duration": 29,
    "start_time": "2021-11-19T15:56:51.287Z"
   },
   {
    "duration": 80,
    "start_time": "2021-11-19T15:56:51.319Z"
   },
   {
    "duration": 110,
    "start_time": "2021-11-19T15:56:51.401Z"
   },
   {
    "duration": 616,
    "start_time": "2021-11-19T15:56:51.515Z"
   },
   {
    "duration": 33,
    "start_time": "2021-11-19T15:56:52.134Z"
   },
   {
    "duration": 46,
    "start_time": "2021-11-19T15:56:52.170Z"
   },
   {
    "duration": 12,
    "start_time": "2021-11-19T15:56:52.219Z"
   },
   {
    "duration": 43,
    "start_time": "2021-11-19T15:56:52.235Z"
   },
   {
    "duration": 10,
    "start_time": "2021-11-19T15:56:52.281Z"
   },
   {
    "duration": 115,
    "start_time": "2021-11-19T15:56:52.294Z"
   },
   {
    "duration": 88,
    "start_time": "2021-11-19T15:56:52.412Z"
   },
   {
    "duration": 41,
    "start_time": "2021-11-19T15:56:52.503Z"
   },
   {
    "duration": 55,
    "start_time": "2021-11-19T15:56:52.547Z"
   },
   {
    "duration": 45,
    "start_time": "2021-11-19T15:56:54.943Z"
   },
   {
    "duration": 46,
    "start_time": "2021-11-19T16:34:37.931Z"
   },
   {
    "duration": 4,
    "start_time": "2021-11-19T16:34:49.592Z"
   },
   {
    "duration": 580,
    "start_time": "2021-11-19T16:34:49.599Z"
   },
   {
    "duration": 17,
    "start_time": "2021-11-19T16:34:50.187Z"
   },
   {
    "duration": 45,
    "start_time": "2021-11-19T16:34:50.207Z"
   },
   {
    "duration": 32,
    "start_time": "2021-11-19T16:34:50.255Z"
   },
   {
    "duration": 13,
    "start_time": "2021-11-19T16:34:50.290Z"
   },
   {
    "duration": 16,
    "start_time": "2021-11-19T16:34:50.306Z"
   },
   {
    "duration": 16,
    "start_time": "2021-11-19T16:34:50.368Z"
   },
   {
    "duration": 47,
    "start_time": "2021-11-19T16:34:50.389Z"
   },
   {
    "duration": 43,
    "start_time": "2021-11-19T16:34:50.468Z"
   },
   {
    "duration": 153,
    "start_time": "2021-11-19T16:34:50.515Z"
   },
   {
    "duration": 466,
    "start_time": "2021-11-19T16:34:50.671Z"
   },
   {
    "duration": 35,
    "start_time": "2021-11-19T16:34:51.140Z"
   },
   {
    "duration": 58,
    "start_time": "2021-11-19T16:34:51.177Z"
   },
   {
    "duration": 33,
    "start_time": "2021-11-19T16:34:51.237Z"
   },
   {
    "duration": 27,
    "start_time": "2021-11-19T16:34:51.272Z"
   },
   {
    "duration": 90,
    "start_time": "2021-11-19T16:34:51.302Z"
   },
   {
    "duration": 37,
    "start_time": "2021-11-19T16:34:51.394Z"
   },
   {
    "duration": 43,
    "start_time": "2021-11-19T16:34:51.434Z"
   },
   {
    "duration": 27,
    "start_time": "2021-11-19T16:34:51.480Z"
   },
   {
    "duration": 74,
    "start_time": "2021-11-19T16:34:51.510Z"
   },
   {
    "duration": 122,
    "start_time": "2021-11-19T16:34:51.586Z"
   },
   {
    "duration": 506,
    "start_time": "2021-11-19T16:34:51.713Z"
   },
   {
    "duration": 16,
    "start_time": "2021-11-19T16:34:52.221Z"
   },
   {
    "duration": 72,
    "start_time": "2021-11-19T16:34:52.240Z"
   },
   {
    "duration": 13,
    "start_time": "2021-11-19T16:34:52.315Z"
   },
   {
    "duration": 43,
    "start_time": "2021-11-19T16:34:52.331Z"
   },
   {
    "duration": 10,
    "start_time": "2021-11-19T16:34:52.377Z"
   },
   {
    "duration": 110,
    "start_time": "2021-11-19T16:34:52.389Z"
   },
   {
    "duration": 82,
    "start_time": "2021-11-19T16:34:52.502Z"
   },
   {
    "duration": 165,
    "start_time": "2021-11-19T16:34:52.587Z"
   },
   {
    "duration": 48,
    "start_time": "2021-11-19T16:34:52.754Z"
   },
   {
    "duration": 72,
    "start_time": "2021-11-19T16:34:52.804Z"
   },
   {
    "duration": 39,
    "start_time": "2021-11-19T16:36:52.739Z"
   },
   {
    "duration": 57,
    "start_time": "2021-11-19T16:37:03.234Z"
   },
   {
    "duration": 39,
    "start_time": "2021-11-19T16:37:22.705Z"
   },
   {
    "duration": 63,
    "start_time": "2021-11-19T16:37:55.135Z"
   },
   {
    "duration": 57,
    "start_time": "2021-11-19T16:39:23.254Z"
   },
   {
    "duration": 71,
    "start_time": "2021-11-19T16:39:50.622Z"
   },
   {
    "duration": 58,
    "start_time": "2021-11-19T16:40:02.679Z"
   },
   {
    "duration": 26,
    "start_time": "2021-11-19T16:40:43.662Z"
   },
   {
    "duration": 41,
    "start_time": "2021-11-19T16:41:04.664Z"
   },
   {
    "duration": 40,
    "start_time": "2021-11-19T16:42:52.904Z"
   },
   {
    "duration": 40,
    "start_time": "2021-11-19T16:42:58.588Z"
   },
   {
    "duration": 36,
    "start_time": "2021-11-19T16:44:30.020Z"
   },
   {
    "duration": 59,
    "start_time": "2021-11-19T16:44:39.339Z"
   },
   {
    "duration": 43,
    "start_time": "2021-11-19T16:44:48.172Z"
   },
   {
    "duration": 497,
    "start_time": "2021-11-19T16:44:56.403Z"
   },
   {
    "duration": 9144,
    "start_time": "2021-11-19T16:45:17.986Z"
   },
   {
    "duration": 7,
    "start_time": "2021-11-19T16:46:22.745Z"
   },
   {
    "duration": 80,
    "start_time": "2021-11-19T16:46:25.036Z"
   },
   {
    "duration": 84,
    "start_time": "2021-11-19T16:46:25.119Z"
   },
   {
    "duration": 68,
    "start_time": "2021-11-19T16:46:25.207Z"
   },
   {
    "duration": 49,
    "start_time": "2021-11-19T16:46:25.278Z"
   },
   {
    "duration": 90,
    "start_time": "2021-11-19T16:46:25.330Z"
   },
   {
    "duration": 581,
    "start_time": "2021-11-19T16:46:32.207Z"
   },
   {
    "duration": 8781,
    "start_time": "2021-11-19T16:46:50.081Z"
   },
   {
    "duration": 513,
    "start_time": "2021-11-19T16:48:04.283Z"
   },
   {
    "duration": 10,
    "start_time": "2021-11-19T16:49:50.239Z"
   },
   {
    "duration": 489,
    "start_time": "2021-11-19T16:50:21.759Z"
   },
   {
    "duration": 52,
    "start_time": "2021-11-19T17:10:51.080Z"
   },
   {
    "duration": 507,
    "start_time": "2021-11-19T17:10:51.858Z"
   },
   {
    "duration": 4,
    "start_time": "2021-11-19T17:11:08.801Z"
   },
   {
    "duration": 536,
    "start_time": "2021-11-19T17:11:08.808Z"
   },
   {
    "duration": 15,
    "start_time": "2021-11-19T17:11:09.347Z"
   },
   {
    "duration": 12,
    "start_time": "2021-11-19T17:11:09.364Z"
   },
   {
    "duration": 32,
    "start_time": "2021-11-19T17:11:09.378Z"
   },
   {
    "duration": 10,
    "start_time": "2021-11-19T17:11:09.413Z"
   },
   {
    "duration": 52,
    "start_time": "2021-11-19T17:11:09.426Z"
   },
   {
    "duration": 15,
    "start_time": "2021-11-19T17:11:09.482Z"
   },
   {
    "duration": 30,
    "start_time": "2021-11-19T17:11:09.500Z"
   },
   {
    "duration": 75,
    "start_time": "2021-11-19T17:11:09.532Z"
   },
   {
    "duration": 146,
    "start_time": "2021-11-19T17:11:09.610Z"
   },
   {
    "duration": 467,
    "start_time": "2021-11-19T17:11:09.758Z"
   },
   {
    "duration": 19,
    "start_time": "2021-11-19T17:11:10.227Z"
   },
   {
    "duration": 57,
    "start_time": "2021-11-19T17:11:10.268Z"
   },
   {
    "duration": 10,
    "start_time": "2021-11-19T17:11:10.327Z"
   },
   {
    "duration": 21,
    "start_time": "2021-11-19T17:11:10.367Z"
   },
   {
    "duration": 86,
    "start_time": "2021-11-19T17:11:10.390Z"
   },
   {
    "duration": 52,
    "start_time": "2021-11-19T17:11:10.479Z"
   },
   {
    "duration": 35,
    "start_time": "2021-11-19T17:11:10.534Z"
   },
   {
    "duration": 34,
    "start_time": "2021-11-19T17:11:10.572Z"
   },
   {
    "duration": 78,
    "start_time": "2021-11-19T17:11:10.609Z"
   },
   {
    "duration": 116,
    "start_time": "2021-11-19T17:11:10.689Z"
   },
   {
    "duration": 500,
    "start_time": "2021-11-19T17:11:10.809Z"
   },
   {
    "duration": 15,
    "start_time": "2021-11-19T17:11:11.311Z"
   },
   {
    "duration": 70,
    "start_time": "2021-11-19T17:11:11.329Z"
   },
   {
    "duration": 11,
    "start_time": "2021-11-19T17:11:11.402Z"
   },
   {
    "duration": 10,
    "start_time": "2021-11-19T17:11:11.416Z"
   },
   {
    "duration": 38,
    "start_time": "2021-11-19T17:11:11.429Z"
   },
   {
    "duration": 98,
    "start_time": "2021-11-19T17:11:11.469Z"
   },
   {
    "duration": 60,
    "start_time": "2021-11-19T17:11:11.569Z"
   },
   {
    "duration": 65,
    "start_time": "2021-11-19T17:11:11.632Z"
   },
   {
    "duration": 39,
    "start_time": "2021-11-19T17:11:11.699Z"
   },
   {
    "duration": 72,
    "start_time": "2021-11-19T17:11:11.740Z"
   },
   {
    "duration": 591,
    "start_time": "2021-11-19T17:11:15.057Z"
   },
   {
    "duration": 530,
    "start_time": "2021-11-19T17:14:07.815Z"
   },
   {
    "duration": 505,
    "start_time": "2021-11-19T17:15:01.014Z"
   },
   {
    "duration": 501,
    "start_time": "2021-11-19T17:18:43.635Z"
   },
   {
    "duration": 499,
    "start_time": "2021-11-19T17:18:53.499Z"
   },
   {
    "duration": 586,
    "start_time": "2021-11-19T17:20:59.089Z"
   },
   {
    "duration": 481,
    "start_time": "2021-11-19T17:22:26.817Z"
   },
   {
    "duration": 501,
    "start_time": "2021-11-19T17:23:34.501Z"
   },
   {
    "duration": 503,
    "start_time": "2021-11-19T17:25:03.693Z"
   },
   {
    "duration": 644,
    "start_time": "2021-11-19T17:29:42.507Z"
   },
   {
    "duration": 556,
    "start_time": "2021-11-19T17:30:55.565Z"
   },
   {
    "duration": 553,
    "start_time": "2021-11-19T17:30:55.569Z"
   },
   {
    "duration": 553,
    "start_time": "2021-11-19T17:30:55.571Z"
   },
   {
    "duration": 551,
    "start_time": "2021-11-19T17:30:55.574Z"
   },
   {
    "duration": 537,
    "start_time": "2021-11-19T17:30:55.589Z"
   },
   {
    "duration": 535,
    "start_time": "2021-11-19T17:30:55.593Z"
   },
   {
    "duration": 533,
    "start_time": "2021-11-19T17:30:55.596Z"
   },
   {
    "duration": 531,
    "start_time": "2021-11-19T17:30:55.600Z"
   },
   {
    "duration": 529,
    "start_time": "2021-11-19T17:30:55.603Z"
   },
   {
    "duration": 526,
    "start_time": "2021-11-19T17:30:55.607Z"
   },
   {
    "duration": 525,
    "start_time": "2021-11-19T17:30:55.610Z"
   },
   {
    "duration": 522,
    "start_time": "2021-11-19T17:30:55.615Z"
   },
   {
    "duration": 521,
    "start_time": "2021-11-19T17:30:55.618Z"
   },
   {
    "duration": 518,
    "start_time": "2021-11-19T17:30:55.622Z"
   },
   {
    "duration": 504,
    "start_time": "2021-11-19T17:30:55.637Z"
   },
   {
    "duration": 502,
    "start_time": "2021-11-19T17:30:55.641Z"
   },
   {
    "duration": 501,
    "start_time": "2021-11-19T17:30:55.643Z"
   },
   {
    "duration": 500,
    "start_time": "2021-11-19T17:30:55.646Z"
   },
   {
    "duration": 498,
    "start_time": "2021-11-19T17:30:55.649Z"
   },
   {
    "duration": 497,
    "start_time": "2021-11-19T17:30:55.651Z"
   },
   {
    "duration": 493,
    "start_time": "2021-11-19T17:30:55.656Z"
   },
   {
    "duration": 491,
    "start_time": "2021-11-19T17:30:55.660Z"
   },
   {
    "duration": 489,
    "start_time": "2021-11-19T17:30:55.663Z"
   },
   {
    "duration": 486,
    "start_time": "2021-11-19T17:30:55.667Z"
   },
   {
    "duration": 483,
    "start_time": "2021-11-19T17:30:55.671Z"
   },
   {
    "duration": 482,
    "start_time": "2021-11-19T17:30:55.674Z"
   },
   {
    "duration": 490,
    "start_time": "2021-11-19T17:30:55.678Z"
   },
   {
    "duration": 487,
    "start_time": "2021-11-19T17:30:55.682Z"
   },
   {
    "duration": 484,
    "start_time": "2021-11-19T17:30:55.686Z"
   },
   {
    "duration": 480,
    "start_time": "2021-11-19T17:30:55.692Z"
   },
   {
    "duration": 477,
    "start_time": "2021-11-19T17:30:55.696Z"
   },
   {
    "duration": 475,
    "start_time": "2021-11-19T17:30:55.700Z"
   },
   {
    "duration": 461,
    "start_time": "2021-11-19T17:30:55.715Z"
   },
   {
    "duration": 459,
    "start_time": "2021-11-19T17:30:55.718Z"
   },
   {
    "duration": 4,
    "start_time": "2021-11-19T17:31:02.491Z"
   },
   {
    "duration": 538,
    "start_time": "2021-11-19T17:31:02.497Z"
   },
   {
    "duration": 16,
    "start_time": "2021-11-19T17:31:03.038Z"
   },
   {
    "duration": 13,
    "start_time": "2021-11-19T17:31:03.056Z"
   },
   {
    "duration": 46,
    "start_time": "2021-11-19T17:31:03.071Z"
   },
   {
    "duration": 12,
    "start_time": "2021-11-19T17:31:03.120Z"
   },
   {
    "duration": 37,
    "start_time": "2021-11-19T17:31:03.134Z"
   },
   {
    "duration": 15,
    "start_time": "2021-11-19T17:31:03.177Z"
   },
   {
    "duration": 71,
    "start_time": "2021-11-19T17:31:03.196Z"
   },
   {
    "duration": 44,
    "start_time": "2021-11-19T17:31:03.270Z"
   },
   {
    "duration": 160,
    "start_time": "2021-11-19T17:31:03.317Z"
   },
   {
    "duration": 486,
    "start_time": "2021-11-19T17:31:03.481Z"
   },
   {
    "duration": 19,
    "start_time": "2021-11-19T17:31:03.970Z"
   },
   {
    "duration": 97,
    "start_time": "2021-11-19T17:31:03.992Z"
   },
   {
    "duration": 11,
    "start_time": "2021-11-19T17:31:04.091Z"
   },
   {
    "duration": 27,
    "start_time": "2021-11-19T17:31:04.104Z"
   },
   {
    "duration": 92,
    "start_time": "2021-11-19T17:31:04.133Z"
   },
   {
    "duration": 60,
    "start_time": "2021-11-19T17:31:04.227Z"
   },
   {
    "duration": 14,
    "start_time": "2021-11-19T17:31:04.289Z"
   },
   {
    "duration": 28,
    "start_time": "2021-11-19T17:31:04.305Z"
   },
   {
    "duration": 76,
    "start_time": "2021-11-19T17:31:04.335Z"
   },
   {
    "duration": 129,
    "start_time": "2021-11-19T17:31:04.414Z"
   },
   {
    "duration": 610,
    "start_time": "2021-11-19T17:31:04.551Z"
   },
   {
    "duration": 19,
    "start_time": "2021-11-19T17:31:05.164Z"
   },
   {
    "duration": 87,
    "start_time": "2021-11-19T17:31:05.187Z"
   },
   {
    "duration": 13,
    "start_time": "2021-11-19T17:31:05.277Z"
   },
   {
    "duration": 17,
    "start_time": "2021-11-19T17:31:05.293Z"
   },
   {
    "duration": 8,
    "start_time": "2021-11-19T17:31:05.312Z"
   },
   {
    "duration": 71,
    "start_time": "2021-11-19T17:31:05.367Z"
   },
   {
    "duration": 82,
    "start_time": "2021-11-19T17:31:05.441Z"
   },
   {
    "duration": 77,
    "start_time": "2021-11-19T17:31:05.526Z"
   },
   {
    "duration": 65,
    "start_time": "2021-11-19T17:31:05.606Z"
   },
   {
    "duration": 58,
    "start_time": "2021-11-19T17:31:05.674Z"
   },
   {
    "duration": 554,
    "start_time": "2021-11-19T17:31:34.031Z"
   },
   {
    "duration": 17,
    "start_time": "2021-11-19T17:31:45.064Z"
   },
   {
    "duration": 563,
    "start_time": "2021-11-19T17:32:23.824Z"
   },
   {
    "duration": 556,
    "start_time": "2021-11-19T17:32:23.832Z"
   },
   {
    "duration": 16,
    "start_time": "2021-11-19T17:32:59.277Z"
   },
   {
    "duration": 557,
    "start_time": "2021-11-19T17:33:37.382Z"
   },
   {
    "duration": 555,
    "start_time": "2021-11-19T17:33:37.386Z"
   },
   {
    "duration": 555,
    "start_time": "2021-11-19T17:33:37.388Z"
   },
   {
    "duration": 31056,
    "start_time": "2021-11-19T17:42:04.311Z"
   },
   {
    "duration": 541,
    "start_time": "2021-11-19T17:42:34.830Z"
   },
   {
    "duration": 4,
    "start_time": "2021-11-19T19:04:55.254Z"
   },
   {
    "duration": 567,
    "start_time": "2021-11-19T19:04:55.262Z"
   },
   {
    "duration": 15,
    "start_time": "2021-11-19T19:04:55.833Z"
   },
   {
    "duration": 11,
    "start_time": "2021-11-19T19:04:55.851Z"
   },
   {
    "duration": 30,
    "start_time": "2021-11-19T19:04:55.865Z"
   },
   {
    "duration": 10,
    "start_time": "2021-11-19T19:04:55.898Z"
   },
   {
    "duration": 57,
    "start_time": "2021-11-19T19:04:55.910Z"
   },
   {
    "duration": 11,
    "start_time": "2021-11-19T19:04:55.970Z"
   },
   {
    "duration": 29,
    "start_time": "2021-11-19T19:04:55.986Z"
   },
   {
    "duration": 78,
    "start_time": "2021-11-19T19:04:56.018Z"
   },
   {
    "duration": 136,
    "start_time": "2021-11-19T19:04:56.098Z"
   },
   {
    "duration": 450,
    "start_time": "2021-11-19T19:04:56.236Z"
   },
   {
    "duration": 19,
    "start_time": "2021-11-19T19:04:56.688Z"
   },
   {
    "duration": 90,
    "start_time": "2021-11-19T19:04:56.709Z"
   },
   {
    "duration": 11,
    "start_time": "2021-11-19T19:04:56.801Z"
   },
   {
    "duration": 24,
    "start_time": "2021-11-19T19:04:56.814Z"
   },
   {
    "duration": 84,
    "start_time": "2021-11-19T19:04:56.841Z"
   },
   {
    "duration": 60,
    "start_time": "2021-11-19T19:04:56.927Z"
   },
   {
    "duration": 11,
    "start_time": "2021-11-19T19:04:56.990Z"
   },
   {
    "duration": 30,
    "start_time": "2021-11-19T19:04:57.003Z"
   },
   {
    "duration": 73,
    "start_time": "2021-11-19T19:04:57.035Z"
   },
   {
    "duration": 141,
    "start_time": "2021-11-19T19:04:57.111Z"
   },
   {
    "duration": 514,
    "start_time": "2021-11-19T19:04:57.255Z"
   },
   {
    "duration": 14,
    "start_time": "2021-11-19T19:04:57.771Z"
   },
   {
    "duration": 48,
    "start_time": "2021-11-19T19:04:57.787Z"
   },
   {
    "duration": 12,
    "start_time": "2021-11-19T19:04:57.867Z"
   },
   {
    "duration": 10,
    "start_time": "2021-11-19T19:04:57.883Z"
   },
   {
    "duration": 9,
    "start_time": "2021-11-19T19:04:57.895Z"
   },
   {
    "duration": 113,
    "start_time": "2021-11-19T19:04:57.907Z"
   },
   {
    "duration": 83,
    "start_time": "2021-11-19T19:04:58.022Z"
   },
   {
    "duration": 41,
    "start_time": "2021-11-19T19:04:58.108Z"
   },
   {
    "duration": 45,
    "start_time": "2021-11-19T19:04:58.168Z"
   },
   {
    "duration": 79,
    "start_time": "2021-11-19T19:04:58.215Z"
   },
   {
    "duration": 28667,
    "start_time": "2021-11-19T19:04:58.297Z"
   },
   {
    "duration": 473,
    "start_time": "2021-11-19T19:05:26.494Z"
   },
   {
    "duration": 28937,
    "start_time": "2021-11-19T19:15:59.259Z"
   },
   {
    "duration": 30244,
    "start_time": "2021-11-19T19:17:49.312Z"
   },
   {
    "duration": 9,
    "start_time": "2021-11-19T19:24:28.884Z"
   },
   {
    "duration": 8,
    "start_time": "2021-11-19T19:24:48.986Z"
   },
   {
    "duration": 3,
    "start_time": "2021-11-19T19:24:50.169Z"
   },
   {
    "duration": 624,
    "start_time": "2021-11-19T19:24:54.977Z"
   },
   {
    "duration": 8,
    "start_time": "2021-11-19T19:25:27.897Z"
   },
   {
    "duration": 18433,
    "start_time": "2021-11-19T19:25:29.312Z"
   },
   {
    "duration": 8,
    "start_time": "2021-11-19T19:29:32.534Z"
   },
   {
    "duration": 17320,
    "start_time": "2021-11-19T19:29:50.403Z"
   },
   {
    "duration": 8,
    "start_time": "2021-11-19T19:32:32.787Z"
   },
   {
    "duration": 17686,
    "start_time": "2021-11-19T19:32:33.459Z"
   },
   {
    "duration": 14,
    "start_time": "2021-11-19T19:35:32.490Z"
   },
   {
    "duration": 31113,
    "start_time": "2021-11-19T19:35:33.600Z"
   },
   {
    "duration": 8,
    "start_time": "2021-11-19T19:36:30.985Z"
   },
   {
    "duration": 571,
    "start_time": "2021-11-19T19:36:33.975Z"
   },
   {
    "duration": 11,
    "start_time": "2021-11-19T19:36:58.953Z"
   },
   {
    "duration": 17824,
    "start_time": "2021-11-19T19:36:59.648Z"
   },
   {
    "duration": 19360,
    "start_time": "2021-11-19T19:44:15.594Z"
   },
   {
    "duration": 18686,
    "start_time": "2021-11-19T19:44:45.242Z"
   },
   {
    "duration": 19840,
    "start_time": "2021-11-19T19:45:17.433Z"
   },
   {
    "duration": 18972,
    "start_time": "2021-11-19T19:50:08.909Z"
   },
   {
    "duration": 17748,
    "start_time": "2021-11-19T19:55:10.474Z"
   },
   {
    "duration": 13,
    "start_time": "2021-11-20T00:41:18.096Z"
   },
   {
    "duration": 23,
    "start_time": "2021-11-20T00:41:44.366Z"
   },
   {
    "duration": 20,
    "start_time": "2021-11-20T00:41:55.535Z"
   },
   {
    "duration": 35,
    "start_time": "2021-11-20T00:42:03.350Z"
   },
   {
    "duration": 39,
    "start_time": "2021-11-20T00:42:10.827Z"
   },
   {
    "duration": 39,
    "start_time": "2021-11-20T00:42:35.584Z"
   },
   {
    "duration": 51,
    "start_time": "2021-11-20T00:42:48.743Z"
   },
   {
    "duration": 113,
    "start_time": "2021-11-20T00:44:03.767Z"
   },
   {
    "duration": 56,
    "start_time": "2021-11-20T00:44:08.294Z"
   },
   {
    "duration": 34,
    "start_time": "2021-11-20T00:44:27.223Z"
   },
   {
    "duration": 36,
    "start_time": "2021-11-20T00:44:45.349Z"
   },
   {
    "duration": 27,
    "start_time": "2021-11-20T00:45:50.211Z"
   },
   {
    "duration": 39,
    "start_time": "2021-11-20T00:46:10.130Z"
   },
   {
    "duration": 44,
    "start_time": "2021-11-20T00:46:38.836Z"
   },
   {
    "duration": 46,
    "start_time": "2021-11-20T00:47:08.411Z"
   },
   {
    "duration": 44,
    "start_time": "2021-11-20T00:47:14.741Z"
   },
   {
    "duration": 284,
    "start_time": "2021-11-21T14:12:48.761Z"
   },
   {
    "duration": 641,
    "start_time": "2021-11-21T14:12:53.108Z"
   },
   {
    "duration": 413,
    "start_time": "2021-11-21T14:12:53.751Z"
   },
   {
    "duration": 13,
    "start_time": "2021-11-21T14:12:54.166Z"
   },
   {
    "duration": 15,
    "start_time": "2021-11-21T14:12:54.181Z"
   },
   {
    "duration": 19,
    "start_time": "2021-11-21T14:12:54.198Z"
   },
   {
    "duration": 12,
    "start_time": "2021-11-21T14:12:54.218Z"
   },
   {
    "duration": 14,
    "start_time": "2021-11-21T14:12:54.232Z"
   },
   {
    "duration": 20,
    "start_time": "2021-11-21T14:12:54.249Z"
   },
   {
    "duration": 24,
    "start_time": "2021-11-21T14:12:54.272Z"
   },
   {
    "duration": 32,
    "start_time": "2021-11-21T14:12:54.298Z"
   },
   {
    "duration": 136,
    "start_time": "2021-11-21T14:12:54.332Z"
   },
   {
    "duration": 276,
    "start_time": "2021-11-21T14:12:54.470Z"
   },
   {
    "duration": 29,
    "start_time": "2021-11-21T14:12:54.748Z"
   },
   {
    "duration": 50,
    "start_time": "2021-11-21T14:12:54.779Z"
   },
   {
    "duration": 7,
    "start_time": "2021-11-21T14:12:54.831Z"
   },
   {
    "duration": 53,
    "start_time": "2021-11-21T14:12:54.839Z"
   },
   {
    "duration": 51,
    "start_time": "2021-11-21T14:12:54.893Z"
   },
   {
    "duration": 24,
    "start_time": "2021-11-21T14:12:54.945Z"
   },
   {
    "duration": 19,
    "start_time": "2021-11-21T14:12:54.971Z"
   },
   {
    "duration": 43,
    "start_time": "2021-11-21T14:12:54.992Z"
   },
   {
    "duration": 42,
    "start_time": "2021-11-21T14:12:55.037Z"
   },
   {
    "duration": 68,
    "start_time": "2021-11-21T14:12:55.081Z"
   },
   {
    "duration": 303,
    "start_time": "2021-11-21T14:12:55.165Z"
   },
   {
    "duration": 14,
    "start_time": "2021-11-21T14:12:55.471Z"
   },
   {
    "duration": 40,
    "start_time": "2021-11-21T14:12:55.487Z"
   },
   {
    "duration": 36,
    "start_time": "2021-11-21T14:12:55.529Z"
   },
   {
    "duration": 8,
    "start_time": "2021-11-21T14:12:55.567Z"
   },
   {
    "duration": 15,
    "start_time": "2021-11-21T14:12:55.577Z"
   },
   {
    "duration": 73,
    "start_time": "2021-11-21T14:12:55.594Z"
   },
   {
    "duration": 128,
    "start_time": "2021-11-21T14:12:55.669Z"
   },
   {
    "duration": 32,
    "start_time": "2021-11-21T14:12:55.799Z"
   },
   {
    "duration": 45,
    "start_time": "2021-11-21T14:12:55.833Z"
   },
   {
    "duration": 30,
    "start_time": "2021-11-21T14:12:55.879Z"
   },
   {
    "duration": 5,
    "start_time": "2021-11-21T14:12:55.911Z"
   },
   {
    "duration": 9786,
    "start_time": "2021-11-21T14:12:55.918Z"
   },
   {
    "duration": 31,
    "start_time": "2021-11-21T14:13:05.705Z"
   },
   {
    "duration": 37,
    "start_time": "2021-11-21T14:14:18.455Z"
   },
   {
    "duration": 214,
    "start_time": "2021-11-21T14:14:59.975Z"
   },
   {
    "duration": 232,
    "start_time": "2021-11-21T14:15:14.014Z"
   },
   {
    "duration": 249,
    "start_time": "2021-11-21T14:15:32.692Z"
   },
   {
    "duration": 237,
    "start_time": "2021-11-21T14:15:47.255Z"
   },
   {
    "duration": 243,
    "start_time": "2021-11-21T14:15:54.286Z"
   },
   {
    "duration": 256,
    "start_time": "2021-11-21T14:16:00.358Z"
   },
   {
    "duration": 246,
    "start_time": "2021-11-21T14:16:46.852Z"
   },
   {
    "duration": 259,
    "start_time": "2021-11-21T14:16:53.547Z"
   },
   {
    "duration": 420,
    "start_time": "2021-11-21T14:19:39.754Z"
   },
   {
    "duration": 248,
    "start_time": "2021-11-21T14:19:48.643Z"
   },
   {
    "duration": 312,
    "start_time": "2021-11-21T14:20:33.713Z"
   },
   {
    "duration": 230,
    "start_time": "2021-11-21T14:20:49.425Z"
   },
   {
    "duration": 242,
    "start_time": "2021-11-21T14:23:35.231Z"
   },
   {
    "duration": 243,
    "start_time": "2021-11-21T14:23:43.895Z"
   },
   {
    "duration": 340,
    "start_time": "2021-11-21T14:30:58.088Z"
   },
   {
    "duration": 240,
    "start_time": "2021-11-21T14:31:13.440Z"
   },
   {
    "duration": 233,
    "start_time": "2021-11-21T14:31:45.992Z"
   },
   {
    "duration": 276,
    "start_time": "2021-11-21T14:31:47.742Z"
   },
   {
    "duration": 411,
    "start_time": "2021-11-21T14:32:04.582Z"
   },
   {
    "duration": 151,
    "start_time": "2021-11-21T14:32:15.688Z"
   },
   {
    "duration": 151,
    "start_time": "2021-11-21T14:32:21.878Z"
   },
   {
    "duration": 251,
    "start_time": "2021-11-21T14:32:32.207Z"
   },
   {
    "duration": 276,
    "start_time": "2021-11-22T15:24:23.749Z"
   },
   {
    "duration": 631,
    "start_time": "2021-11-22T15:24:28.963Z"
   },
   {
    "duration": 342,
    "start_time": "2021-11-22T15:24:29.596Z"
   },
   {
    "duration": 12,
    "start_time": "2021-11-22T15:24:29.940Z"
   },
   {
    "duration": 6,
    "start_time": "2021-11-22T15:24:29.953Z"
   },
   {
    "duration": 16,
    "start_time": "2021-11-22T15:24:29.960Z"
   },
   {
    "duration": 6,
    "start_time": "2021-11-22T15:24:29.977Z"
   },
   {
    "duration": 8,
    "start_time": "2021-11-22T15:24:29.984Z"
   },
   {
    "duration": 7,
    "start_time": "2021-11-22T15:24:29.994Z"
   },
   {
    "duration": 22,
    "start_time": "2021-11-22T15:24:30.004Z"
   },
   {
    "duration": 29,
    "start_time": "2021-11-22T15:24:30.027Z"
   },
   {
    "duration": 98,
    "start_time": "2021-11-22T15:24:30.057Z"
   },
   {
    "duration": 243,
    "start_time": "2021-11-22T15:24:30.157Z"
   },
   {
    "duration": 12,
    "start_time": "2021-11-22T15:24:30.401Z"
   },
   {
    "duration": 40,
    "start_time": "2021-11-22T15:24:30.415Z"
   },
   {
    "duration": 7,
    "start_time": "2021-11-22T15:24:30.457Z"
   },
   {
    "duration": 14,
    "start_time": "2021-11-22T15:24:30.488Z"
   },
   {
    "duration": 48,
    "start_time": "2021-11-22T15:24:30.503Z"
   },
   {
    "duration": 22,
    "start_time": "2021-11-22T15:24:30.553Z"
   },
   {
    "duration": 16,
    "start_time": "2021-11-22T15:24:30.576Z"
   },
   {
    "duration": 15,
    "start_time": "2021-11-22T15:24:30.594Z"
   },
   {
    "duration": 45,
    "start_time": "2021-11-22T15:24:30.611Z"
   },
   {
    "duration": 45,
    "start_time": "2021-11-22T15:24:30.658Z"
   },
   {
    "duration": 269,
    "start_time": "2021-11-22T15:24:30.706Z"
   },
   {
    "duration": 13,
    "start_time": "2021-11-22T15:24:30.977Z"
   },
   {
    "duration": 30,
    "start_time": "2021-11-22T15:24:30.992Z"
   },
   {
    "duration": 7,
    "start_time": "2021-11-22T15:24:31.023Z"
   },
   {
    "duration": 13,
    "start_time": "2021-11-22T15:24:31.031Z"
   },
   {
    "duration": 19,
    "start_time": "2021-11-22T15:24:31.046Z"
   },
   {
    "duration": 49,
    "start_time": "2021-11-22T15:24:31.066Z"
   },
   {
    "duration": 95,
    "start_time": "2021-11-22T15:24:31.116Z"
   },
   {
    "duration": 26,
    "start_time": "2021-11-22T15:24:31.212Z"
   },
   {
    "duration": 24,
    "start_time": "2021-11-22T15:24:31.240Z"
   },
   {
    "duration": 42,
    "start_time": "2021-11-22T15:24:31.265Z"
   },
   {
    "duration": 5,
    "start_time": "2021-11-22T15:24:31.308Z"
   },
   {
    "duration": 8666,
    "start_time": "2021-11-22T15:24:31.314Z"
   },
   {
    "duration": 30,
    "start_time": "2021-11-22T15:24:39.982Z"
   },
   {
    "duration": 259,
    "start_time": "2021-11-22T15:24:40.014Z"
   },
   {
    "duration": 220,
    "start_time": "2021-11-22T15:24:40.275Z"
   },
   {
    "duration": 144,
    "start_time": "2021-11-22T15:24:40.496Z"
   },
   {
    "duration": 12,
    "start_time": "2021-11-22T15:24:40.642Z"
   },
   {
    "duration": 13,
    "start_time": "2021-11-22T15:54:49.805Z"
   },
   {
    "duration": 17,
    "start_time": "2021-11-22T15:54:58.484Z"
   },
   {
    "duration": 14,
    "start_time": "2021-11-22T15:55:28.773Z"
   },
   {
    "duration": 17,
    "start_time": "2021-11-22T15:55:39.293Z"
   },
   {
    "duration": 1026,
    "start_time": "2021-11-22T15:56:18.839Z"
   },
   {
    "duration": 976,
    "start_time": "2021-11-22T15:56:22.695Z"
   },
   {
    "duration": 19,
    "start_time": "2021-11-22T15:56:44.215Z"
   },
   {
    "duration": 17,
    "start_time": "2021-11-22T15:57:00.206Z"
   },
   {
    "duration": 211,
    "start_time": "2021-11-22T15:57:32.954Z"
   },
   {
    "duration": 238,
    "start_time": "2021-11-22T15:57:48.394Z"
   },
   {
    "duration": 221,
    "start_time": "2021-11-22T15:57:53.061Z"
   },
   {
    "duration": 244,
    "start_time": "2021-11-22T16:00:30.849Z"
   },
   {
    "duration": 265,
    "start_time": "2021-11-22T16:00:38.104Z"
   },
   {
    "duration": 355,
    "start_time": "2021-11-22T16:00:50.847Z"
   },
   {
    "duration": 263,
    "start_time": "2021-11-22T16:00:55.615Z"
   },
   {
    "duration": 263,
    "start_time": "2021-11-22T16:01:21.960Z"
   },
   {
    "duration": 270,
    "start_time": "2021-11-22T16:01:45.118Z"
   },
   {
    "duration": 262,
    "start_time": "2021-11-22T16:02:08.504Z"
   },
   {
    "duration": 212,
    "start_time": "2021-11-22T16:02:56.047Z"
   },
   {
    "duration": 84,
    "start_time": "2021-11-22T16:03:08.225Z"
   },
   {
    "duration": 210,
    "start_time": "2021-11-22T16:03:11.660Z"
   },
   {
    "duration": 332,
    "start_time": "2021-11-22T16:03:31.966Z"
   },
   {
    "duration": 225,
    "start_time": "2021-11-22T16:03:32.300Z"
   },
   {
    "duration": 219,
    "start_time": "2021-11-22T16:03:52.125Z"
   },
   {
    "duration": 76,
    "start_time": "2021-11-22T16:04:00.607Z"
   },
   {
    "duration": 238,
    "start_time": "2021-11-22T16:04:04.415Z"
   },
   {
    "duration": 108,
    "start_time": "2021-11-22T16:04:19.181Z"
   },
   {
    "duration": 243,
    "start_time": "2021-11-22T16:04:23.404Z"
   },
   {
    "duration": 212,
    "start_time": "2021-11-22T16:05:13.516Z"
   },
   {
    "duration": 218,
    "start_time": "2021-11-22T16:05:19.732Z"
   },
   {
    "duration": 258,
    "start_time": "2021-11-22T16:05:44.460Z"
   },
   {
    "duration": 199,
    "start_time": "2021-11-22T16:05:58.093Z"
   },
   {
    "duration": 204,
    "start_time": "2021-11-22T16:06:13.963Z"
   },
   {
    "duration": 212,
    "start_time": "2021-11-22T16:06:35.718Z"
   },
   {
    "duration": 95,
    "start_time": "2021-11-22T16:06:56.916Z"
   },
   {
    "duration": 230,
    "start_time": "2021-11-22T16:06:59.762Z"
   },
   {
    "duration": 288,
    "start_time": "2021-11-22T16:07:07.179Z"
   },
   {
    "duration": 222,
    "start_time": "2021-11-22T16:07:12.850Z"
   },
   {
    "duration": 215,
    "start_time": "2021-11-22T16:07:18.917Z"
   },
   {
    "duration": 338,
    "start_time": "2021-11-22T16:07:23.970Z"
   },
   {
    "duration": 309,
    "start_time": "2021-11-22T16:07:28.978Z"
   },
   {
    "duration": 308,
    "start_time": "2021-11-22T16:07:38.266Z"
   },
   {
    "duration": 207,
    "start_time": "2021-11-22T16:07:46.628Z"
   },
   {
    "duration": 171,
    "start_time": "2021-11-22T16:09:05.042Z"
   },
   {
    "duration": 155,
    "start_time": "2021-11-22T16:09:12.233Z"
   },
   {
    "duration": 146,
    "start_time": "2021-11-22T16:09:15.860Z"
   },
   {
    "duration": 218,
    "start_time": "2021-11-22T16:09:37.841Z"
   },
   {
    "duration": 212,
    "start_time": "2021-11-22T16:19:06.955Z"
   },
   {
    "duration": 19,
    "start_time": "2021-11-22T16:58:35.072Z"
   },
   {
    "duration": 260,
    "start_time": "2021-11-22T16:59:18.377Z"
   },
   {
    "duration": 22,
    "start_time": "2021-11-22T16:59:42.576Z"
   },
   {
    "duration": 248,
    "start_time": "2021-11-22T16:59:42.798Z"
   },
   {
    "duration": 423,
    "start_time": "2021-11-22T16:59:51.991Z"
   },
   {
    "duration": 3,
    "start_time": "2021-11-22T17:00:14.595Z"
   },
   {
    "duration": 386,
    "start_time": "2021-11-22T17:00:14.601Z"
   },
   {
    "duration": 8,
    "start_time": "2021-11-22T17:00:14.989Z"
   },
   {
    "duration": 42,
    "start_time": "2021-11-22T17:00:14.998Z"
   },
   {
    "duration": 35,
    "start_time": "2021-11-22T17:00:15.042Z"
   },
   {
    "duration": 19,
    "start_time": "2021-11-22T17:00:15.078Z"
   },
   {
    "duration": 29,
    "start_time": "2021-11-22T17:00:15.099Z"
   },
   {
    "duration": 22,
    "start_time": "2021-11-22T17:00:15.131Z"
   },
   {
    "duration": 42,
    "start_time": "2021-11-22T17:00:15.154Z"
   },
   {
    "duration": 25,
    "start_time": "2021-11-22T17:00:15.198Z"
   },
   {
    "duration": 83,
    "start_time": "2021-11-22T17:00:15.225Z"
   },
   {
    "duration": 235,
    "start_time": "2021-11-22T17:00:15.310Z"
   },
   {
    "duration": 12,
    "start_time": "2021-11-22T17:00:15.546Z"
   },
   {
    "duration": 82,
    "start_time": "2021-11-22T17:00:15.560Z"
   },
   {
    "duration": 7,
    "start_time": "2021-11-22T17:00:15.643Z"
   },
   {
    "duration": 45,
    "start_time": "2021-11-22T17:00:15.652Z"
   },
   {
    "duration": 74,
    "start_time": "2021-11-22T17:00:15.698Z"
   },
   {
    "duration": 30,
    "start_time": "2021-11-22T17:00:15.773Z"
   },
   {
    "duration": 37,
    "start_time": "2021-11-22T17:00:15.804Z"
   },
   {
    "duration": 43,
    "start_time": "2021-11-22T17:00:15.842Z"
   },
   {
    "duration": 55,
    "start_time": "2021-11-22T17:00:15.886Z"
   },
   {
    "duration": 50,
    "start_time": "2021-11-22T17:00:15.942Z"
   },
   {
    "duration": 262,
    "start_time": "2021-11-22T17:00:15.995Z"
   },
   {
    "duration": 9,
    "start_time": "2021-11-22T17:00:16.259Z"
   },
   {
    "duration": 42,
    "start_time": "2021-11-22T17:00:16.270Z"
   },
   {
    "duration": 8,
    "start_time": "2021-11-22T17:00:16.313Z"
   },
   {
    "duration": 19,
    "start_time": "2021-11-22T17:00:16.322Z"
   },
   {
    "duration": 21,
    "start_time": "2021-11-22T17:00:16.343Z"
   },
   {
    "duration": 71,
    "start_time": "2021-11-22T17:00:16.365Z"
   },
   {
    "duration": 43,
    "start_time": "2021-11-22T17:00:16.438Z"
   },
   {
    "duration": 25,
    "start_time": "2021-11-22T17:00:16.482Z"
   },
   {
    "duration": 30,
    "start_time": "2021-11-22T17:00:16.509Z"
   },
   {
    "duration": 25,
    "start_time": "2021-11-22T17:00:16.540Z"
   },
   {
    "duration": 5,
    "start_time": "2021-11-22T17:00:16.587Z"
   },
   {
    "duration": 9124,
    "start_time": "2021-11-22T17:00:16.593Z"
   },
   {
    "duration": 26,
    "start_time": "2021-11-22T17:00:25.719Z"
   },
   {
    "duration": 251,
    "start_time": "2021-11-22T17:00:25.747Z"
   },
   {
    "duration": 221,
    "start_time": "2021-11-22T17:00:25.999Z"
   },
   {
    "duration": 144,
    "start_time": "2021-11-22T17:00:26.221Z"
   },
   {
    "duration": 25,
    "start_time": "2021-11-22T17:00:26.367Z"
   },
   {
    "duration": 338,
    "start_time": "2021-11-22T17:00:26.394Z"
   },
   {
    "duration": 227,
    "start_time": "2021-11-22T17:00:26.733Z"
   },
   {
    "duration": 161,
    "start_time": "2021-11-22T17:00:26.962Z"
   },
   {
    "duration": 17,
    "start_time": "2021-11-22T17:00:27.125Z"
   },
   {
    "duration": 273,
    "start_time": "2021-11-22T17:00:27.144Z"
   },
   {
    "duration": 230,
    "start_time": "2021-11-22T17:00:55.383Z"
   },
   {
    "duration": 178,
    "start_time": "2021-11-22T17:01:25.373Z"
   },
   {
    "duration": 281,
    "start_time": "2021-11-22T17:08:38.748Z"
   },
   {
    "duration": 240,
    "start_time": "2021-11-22T17:09:42.499Z"
   },
   {
    "duration": 285,
    "start_time": "2021-11-22T17:09:46.696Z"
   },
   {
    "duration": 359,
    "start_time": "2021-11-22T17:10:02.448Z"
   },
   {
    "duration": 278,
    "start_time": "2021-11-22T17:10:08.863Z"
   },
   {
    "duration": 265,
    "start_time": "2021-11-22T17:10:14.558Z"
   },
   {
    "duration": 34,
    "start_time": "2021-11-22T17:20:46.948Z"
   },
   {
    "duration": 28,
    "start_time": "2021-11-22T17:21:57.490Z"
   },
   {
    "duration": 231,
    "start_time": "2021-11-22T17:22:05.556Z"
   },
   {
    "duration": 211,
    "start_time": "2021-11-22T17:22:07.087Z"
   },
   {
    "duration": 128,
    "start_time": "2021-11-22T17:22:08.471Z"
   },
   {
    "duration": 22,
    "start_time": "2021-11-22T17:22:10.479Z"
   },
   {
    "duration": 260,
    "start_time": "2021-11-22T17:22:11.655Z"
   },
   {
    "duration": 267,
    "start_time": "2021-11-22T17:22:12.808Z"
   },
   {
    "duration": 158,
    "start_time": "2021-11-22T17:22:13.582Z"
   },
   {
    "duration": 17,
    "start_time": "2021-11-22T17:22:15.448Z"
   },
   {
    "duration": 432,
    "start_time": "2021-11-22T17:22:17.247Z"
   },
   {
    "duration": 206,
    "start_time": "2021-11-22T17:22:17.782Z"
   },
   {
    "duration": 139,
    "start_time": "2021-11-22T17:22:18.557Z"
   },
   {
    "duration": 30,
    "start_time": "2021-11-22T17:28:54.300Z"
   },
   {
    "duration": 29,
    "start_time": "2021-11-22T17:31:18.953Z"
   },
   {
    "duration": 216,
    "start_time": "2021-11-22T17:32:18.640Z"
   },
   {
    "duration": 259,
    "start_time": "2021-11-22T17:32:26.584Z"
   },
   {
    "duration": 250,
    "start_time": "2021-11-22T17:32:46.160Z"
   },
   {
    "duration": 205,
    "start_time": "2021-11-22T17:54:50.405Z"
   },
   {
    "duration": 250,
    "start_time": "2021-11-22T17:55:49.783Z"
   },
   {
    "duration": 364,
    "start_time": "2021-11-22T17:55:54.577Z"
   },
   {
    "duration": 128,
    "start_time": "2021-11-22T18:46:03.111Z"
   },
   {
    "duration": 210,
    "start_time": "2021-11-22T18:46:07.757Z"
   },
   {
    "duration": 131,
    "start_time": "2021-11-22T18:46:09.337Z"
   },
   {
    "duration": 17,
    "start_time": "2021-11-22T19:00:37.739Z"
   },
   {
    "duration": 16,
    "start_time": "2021-11-22T19:00:52.426Z"
   },
   {
    "duration": 250,
    "start_time": "2021-11-22T19:02:15.329Z"
   },
   {
    "duration": 144,
    "start_time": "2021-11-22T19:02:26.449Z"
   },
   {
    "duration": 257,
    "start_time": "2021-11-22T19:02:29.839Z"
   },
   {
    "duration": 288,
    "start_time": "2021-11-22T19:02:52.688Z"
   },
   {
    "duration": 256,
    "start_time": "2021-11-22T19:03:09.190Z"
   },
   {
    "duration": 319,
    "start_time": "2021-11-22T19:03:12.401Z"
   },
   {
    "duration": 303,
    "start_time": "2021-11-22T19:03:24.316Z"
   },
   {
    "duration": 197,
    "start_time": "2021-11-22T19:03:57.751Z"
   },
   {
    "duration": 198,
    "start_time": "2021-11-22T19:04:25.538Z"
   },
   {
    "duration": 144,
    "start_time": "2021-11-22T19:04:39.774Z"
   },
   {
    "duration": 144,
    "start_time": "2021-11-22T19:04:49.773Z"
   },
   {
    "duration": 255,
    "start_time": "2021-11-22T19:55:32.014Z"
   },
   {
    "duration": 223,
    "start_time": "2021-11-22T19:55:39.519Z"
   },
   {
    "duration": 231,
    "start_time": "2021-11-22T19:56:38.899Z"
   },
   {
    "duration": 2,
    "start_time": "2021-11-22T19:56:50.649Z"
   },
   {
    "duration": 344,
    "start_time": "2021-11-22T19:56:50.654Z"
   },
   {
    "duration": 10,
    "start_time": "2021-11-22T19:56:51.000Z"
   },
   {
    "duration": 7,
    "start_time": "2021-11-22T19:56:51.012Z"
   },
   {
    "duration": 19,
    "start_time": "2021-11-22T19:56:51.021Z"
   },
   {
    "duration": 7,
    "start_time": "2021-11-22T19:56:51.042Z"
   },
   {
    "duration": 37,
    "start_time": "2021-11-22T19:56:51.051Z"
   },
   {
    "duration": 8,
    "start_time": "2021-11-22T19:56:51.089Z"
   },
   {
    "duration": 19,
    "start_time": "2021-11-22T19:56:51.100Z"
   },
   {
    "duration": 25,
    "start_time": "2021-11-22T19:56:51.121Z"
   },
   {
    "duration": 97,
    "start_time": "2021-11-22T19:56:51.147Z"
   },
   {
    "duration": 228,
    "start_time": "2021-11-22T19:56:51.246Z"
   },
   {
    "duration": 16,
    "start_time": "2021-11-22T19:56:51.476Z"
   },
   {
    "duration": 35,
    "start_time": "2021-11-22T19:56:51.493Z"
   },
   {
    "duration": 6,
    "start_time": "2021-11-22T19:56:51.530Z"
   },
   {
    "duration": 14,
    "start_time": "2021-11-22T19:56:51.537Z"
   },
   {
    "duration": 56,
    "start_time": "2021-11-22T19:56:51.553Z"
   },
   {
    "duration": 26,
    "start_time": "2021-11-22T19:56:51.610Z"
   },
   {
    "duration": 9,
    "start_time": "2021-11-22T19:56:51.637Z"
   },
   {
    "duration": 16,
    "start_time": "2021-11-22T19:56:51.647Z"
   },
   {
    "duration": 25,
    "start_time": "2021-11-22T19:56:51.687Z"
   },
   {
    "duration": 43,
    "start_time": "2021-11-22T19:56:51.713Z"
   },
   {
    "duration": 266,
    "start_time": "2021-11-22T19:56:51.758Z"
   },
   {
    "duration": 10,
    "start_time": "2021-11-22T19:56:52.027Z"
   },
   {
    "duration": 30,
    "start_time": "2021-11-22T19:56:52.039Z"
   },
   {
    "duration": 20,
    "start_time": "2021-11-22T19:56:52.071Z"
   },
   {
    "duration": 7,
    "start_time": "2021-11-22T19:56:52.092Z"
   },
   {
    "duration": 4,
    "start_time": "2021-11-22T19:56:52.100Z"
   },
   {
    "duration": 45,
    "start_time": "2021-11-22T19:56:52.106Z"
   },
   {
    "duration": 59,
    "start_time": "2021-11-22T19:56:52.153Z"
   },
   {
    "duration": 26,
    "start_time": "2021-11-22T19:56:52.213Z"
   },
   {
    "duration": 23,
    "start_time": "2021-11-22T19:56:52.241Z"
   },
   {
    "duration": 48,
    "start_time": "2021-11-22T19:56:52.266Z"
   },
   {
    "duration": 5,
    "start_time": "2021-11-22T19:56:52.315Z"
   },
   {
    "duration": 9081,
    "start_time": "2021-11-22T19:56:52.322Z"
   },
   {
    "duration": 28,
    "start_time": "2021-11-22T19:57:01.405Z"
   },
   {
    "duration": 254,
    "start_time": "2021-11-22T19:57:01.435Z"
   },
   {
    "duration": 283,
    "start_time": "2021-11-22T19:57:01.691Z"
   },
   {
    "duration": 145,
    "start_time": "2021-11-22T19:57:01.976Z"
   },
   {
    "duration": 19,
    "start_time": "2021-11-22T19:57:02.123Z"
   },
   {
    "duration": 278,
    "start_time": "2021-11-22T19:57:02.144Z"
   },
   {
    "duration": 220,
    "start_time": "2021-11-22T19:57:02.424Z"
   },
   {
    "duration": 167,
    "start_time": "2021-11-22T19:57:02.645Z"
   },
   {
    "duration": 18,
    "start_time": "2021-11-22T19:57:02.814Z"
   },
   {
    "duration": 407,
    "start_time": "2021-11-22T19:57:02.834Z"
   },
   {
    "duration": 209,
    "start_time": "2021-11-22T19:57:03.242Z"
   },
   {
    "duration": 143,
    "start_time": "2021-11-22T19:57:03.452Z"
   },
   {
    "duration": 26,
    "start_time": "2021-11-22T19:57:03.596Z"
   },
   {
    "duration": 265,
    "start_time": "2021-11-22T19:57:03.623Z"
   },
   {
    "duration": 264,
    "start_time": "2021-11-22T19:57:03.889Z"
   },
   {
    "duration": 139,
    "start_time": "2021-11-22T19:57:04.154Z"
   },
   {
    "duration": 17,
    "start_time": "2021-11-22T19:57:04.295Z"
   },
   {
    "duration": 341,
    "start_time": "2021-11-22T19:57:04.314Z"
   },
   {
    "duration": 295,
    "start_time": "2021-11-22T19:57:04.657Z"
   },
   {
    "duration": 172,
    "start_time": "2021-11-22T19:57:04.953Z"
   },
   {
    "duration": 235,
    "start_time": "2021-11-22T19:57:10.487Z"
   },
   {
    "duration": 224,
    "start_time": "2021-11-22T19:59:14.215Z"
   },
   {
    "duration": 17,
    "start_time": "2021-11-22T20:00:30.938Z"
   },
   {
    "duration": 279,
    "start_time": "2021-11-22T20:06:21.884Z"
   },
   {
    "duration": 85,
    "start_time": "2021-11-22T20:06:29.356Z"
   },
   {
    "duration": 278,
    "start_time": "2021-11-22T20:06:32.877Z"
   },
   {
    "duration": 333,
    "start_time": "2021-11-22T20:07:52.955Z"
   },
   {
    "duration": 204,
    "start_time": "2021-11-22T20:08:19.819Z"
   },
   {
    "duration": 196,
    "start_time": "2021-11-22T20:08:29.635Z"
   },
   {
    "duration": 202,
    "start_time": "2021-11-22T20:08:36.115Z"
   },
   {
    "duration": 143,
    "start_time": "2021-11-22T20:09:07.276Z"
   },
   {
    "duration": 145,
    "start_time": "2021-11-22T20:10:01.529Z"
   },
   {
    "duration": 25,
    "start_time": "2021-11-22T22:13:59.717Z"
   },
   {
    "duration": 230,
    "start_time": "2021-11-22T22:22:20.601Z"
   },
   {
    "duration": 224,
    "start_time": "2021-11-22T22:22:27.140Z"
   },
   {
    "duration": 226,
    "start_time": "2021-11-22T22:22:33.996Z"
   },
   {
    "duration": 300,
    "start_time": "2021-11-22T22:22:45.460Z"
   },
   {
    "duration": 646,
    "start_time": "2021-11-23T13:54:33.182Z"
   },
   {
    "duration": 374,
    "start_time": "2021-11-23T13:54:33.830Z"
   },
   {
    "duration": 12,
    "start_time": "2021-11-23T13:54:34.206Z"
   },
   {
    "duration": 8,
    "start_time": "2021-11-23T13:54:34.220Z"
   },
   {
    "duration": 20,
    "start_time": "2021-11-23T13:54:34.230Z"
   },
   {
    "duration": 7,
    "start_time": "2021-11-23T13:54:34.251Z"
   },
   {
    "duration": 9,
    "start_time": "2021-11-23T13:54:34.260Z"
   },
   {
    "duration": 10,
    "start_time": "2021-11-23T13:54:34.271Z"
   },
   {
    "duration": 22,
    "start_time": "2021-11-23T13:54:34.283Z"
   },
   {
    "duration": 58,
    "start_time": "2021-11-23T13:54:34.306Z"
   },
   {
    "duration": 97,
    "start_time": "2021-11-23T13:54:34.365Z"
   },
   {
    "duration": 265,
    "start_time": "2021-11-23T13:54:34.464Z"
   },
   {
    "duration": 22,
    "start_time": "2021-11-23T13:54:34.730Z"
   },
   {
    "duration": 44,
    "start_time": "2021-11-23T13:54:34.754Z"
   },
   {
    "duration": 7,
    "start_time": "2021-11-23T13:54:34.800Z"
   },
   {
    "duration": 16,
    "start_time": "2021-11-23T13:54:34.809Z"
   },
   {
    "duration": 38,
    "start_time": "2021-11-23T13:54:34.845Z"
   },
   {
    "duration": 23,
    "start_time": "2021-11-23T13:54:34.885Z"
   },
   {
    "duration": 8,
    "start_time": "2021-11-23T13:54:34.909Z"
   },
   {
    "duration": 38,
    "start_time": "2021-11-23T13:54:34.919Z"
   },
   {
    "duration": 28,
    "start_time": "2021-11-23T13:54:34.958Z"
   },
   {
    "duration": 92,
    "start_time": "2021-11-23T13:54:34.988Z"
   },
   {
    "duration": 290,
    "start_time": "2021-11-23T13:54:35.084Z"
   },
   {
    "duration": 10,
    "start_time": "2021-11-23T13:54:35.377Z"
   },
   {
    "duration": 31,
    "start_time": "2021-11-23T13:54:35.389Z"
   },
   {
    "duration": 24,
    "start_time": "2021-11-23T13:54:35.421Z"
   },
   {
    "duration": 9,
    "start_time": "2021-11-23T13:54:35.447Z"
   },
   {
    "duration": 12,
    "start_time": "2021-11-23T13:54:35.457Z"
   },
   {
    "duration": 58,
    "start_time": "2021-11-23T13:54:35.471Z"
   },
   {
    "duration": 108,
    "start_time": "2021-11-23T13:54:35.531Z"
   },
   {
    "duration": 32,
    "start_time": "2021-11-23T13:54:35.645Z"
   },
   {
    "duration": 28,
    "start_time": "2021-11-23T13:54:35.678Z"
   },
   {
    "duration": 49,
    "start_time": "2021-11-23T13:54:35.708Z"
   },
   {
    "duration": 5,
    "start_time": "2021-11-23T13:54:35.759Z"
   },
   {
    "duration": 9778,
    "start_time": "2021-11-23T13:54:35.766Z"
   },
   {
    "duration": 30,
    "start_time": "2021-11-23T13:54:45.546Z"
   },
   {
    "duration": 267,
    "start_time": "2021-11-23T13:54:45.577Z"
   },
   {
    "duration": 239,
    "start_time": "2021-11-23T13:54:45.846Z"
   },
   {
    "duration": 159,
    "start_time": "2021-11-23T13:54:46.087Z"
   },
   {
    "duration": 19,
    "start_time": "2021-11-23T13:54:46.247Z"
   },
   {
    "duration": 297,
    "start_time": "2021-11-23T13:54:46.267Z"
   },
   {
    "duration": 254,
    "start_time": "2021-11-23T13:54:46.566Z"
   },
   {
    "duration": 171,
    "start_time": "2021-11-23T13:54:46.822Z"
   },
   {
    "duration": 20,
    "start_time": "2021-11-23T13:54:46.994Z"
   },
   {
    "duration": 393,
    "start_time": "2021-11-23T13:54:47.015Z"
   },
   {
    "duration": 220,
    "start_time": "2021-11-23T13:54:47.410Z"
   },
   {
    "duration": 159,
    "start_time": "2021-11-23T13:54:47.632Z"
   },
   {
    "duration": 28,
    "start_time": "2021-11-23T13:54:47.793Z"
   },
   {
    "duration": 349,
    "start_time": "2021-11-23T13:54:47.822Z"
   },
   {
    "duration": 232,
    "start_time": "2021-11-23T13:54:48.173Z"
   },
   {
    "duration": 146,
    "start_time": "2021-11-23T13:54:48.407Z"
   },
   {
    "duration": 17,
    "start_time": "2021-11-23T13:54:48.555Z"
   },
   {
    "duration": 367,
    "start_time": "2021-11-23T13:54:48.573Z"
   },
   {
    "duration": 324,
    "start_time": "2021-11-23T13:54:48.942Z"
   },
   {
    "duration": 167,
    "start_time": "2021-11-23T13:54:49.268Z"
   },
   {
    "duration": 24,
    "start_time": "2021-11-23T13:54:49.437Z"
   },
   {
    "duration": 317,
    "start_time": "2021-11-23T13:54:49.462Z"
   },
   {
    "duration": 223,
    "start_time": "2021-11-23T13:54:49.781Z"
   },
   {
    "duration": 166,
    "start_time": "2021-11-23T13:54:50.006Z"
   },
   {
    "duration": 26,
    "start_time": "2021-11-23T13:54:50.173Z"
   },
   {
    "duration": 323,
    "start_time": "2021-11-23T13:54:50.201Z"
   },
   {
    "duration": 223,
    "start_time": "2021-11-23T13:54:50.525Z"
   },
   {
    "duration": 151,
    "start_time": "2021-11-23T13:54:50.750Z"
   },
   {
    "duration": 17,
    "start_time": "2021-11-23T13:54:50.903Z"
   },
   {
    "duration": 313,
    "start_time": "2021-11-23T13:54:50.922Z"
   },
   {
    "duration": 232,
    "start_time": "2021-11-23T13:54:51.244Z"
   },
   {
    "duration": 170,
    "start_time": "2021-11-23T13:54:51.478Z"
   },
   {
    "duration": 18,
    "start_time": "2021-11-23T13:54:51.654Z"
   },
   {
    "duration": 341,
    "start_time": "2021-11-23T13:54:51.675Z"
   },
   {
    "duration": 241,
    "start_time": "2021-11-23T13:54:52.017Z"
   },
   {
    "duration": 156,
    "start_time": "2021-11-23T13:54:52.261Z"
   },
   {
    "duration": 340,
    "start_time": "2021-11-23T13:59:02.373Z"
   },
   {
    "duration": 295,
    "start_time": "2021-11-23T13:59:14.552Z"
   },
   {
    "duration": 206,
    "start_time": "2021-11-23T14:04:14.123Z"
   },
   {
    "duration": 212,
    "start_time": "2021-11-23T14:04:23.602Z"
   },
   {
    "duration": 227,
    "start_time": "2021-11-23T14:04:26.880Z"
   },
   {
    "duration": 148,
    "start_time": "2021-11-23T14:05:01.384Z"
   },
   {
    "duration": 20,
    "start_time": "2021-11-23T14:09:31.797Z"
   },
   {
    "duration": 280,
    "start_time": "2021-11-23T14:10:38.444Z"
   },
   {
    "duration": 126,
    "start_time": "2021-11-23T14:10:46.661Z"
   },
   {
    "duration": 416,
    "start_time": "2021-11-23T14:10:51.553Z"
   },
   {
    "duration": 281,
    "start_time": "2021-11-23T14:12:37.218Z"
   },
   {
    "duration": 159,
    "start_time": "2021-11-23T14:13:18.405Z"
   },
   {
    "duration": 149,
    "start_time": "2021-11-23T14:16:40.300Z"
   },
   {
    "duration": 18,
    "start_time": "2021-11-23T14:17:21.774Z"
   },
   {
    "duration": 18,
    "start_time": "2021-11-23T14:17:27.326Z"
   },
   {
    "duration": 303,
    "start_time": "2021-11-23T14:17:56.751Z"
   },
   {
    "duration": 281,
    "start_time": "2021-11-23T14:18:04.357Z"
   },
   {
    "duration": 223,
    "start_time": "2021-11-23T14:19:18.579Z"
   },
   {
    "duration": 157,
    "start_time": "2021-11-23T14:20:04.125Z"
   },
   {
    "duration": 142,
    "start_time": "2021-11-23T14:20:14.827Z"
   },
   {
    "duration": 19,
    "start_time": "2021-11-23T14:26:07.333Z"
   },
   {
    "duration": 14,
    "start_time": "2021-11-23T14:44:04.828Z"
   },
   {
    "duration": 11,
    "start_time": "2021-11-23T14:44:09.690Z"
   },
   {
    "duration": 11,
    "start_time": "2021-11-23T14:44:13.240Z"
   },
   {
    "duration": 21,
    "start_time": "2021-11-23T14:49:45.766Z"
   },
   {
    "duration": 419,
    "start_time": "2021-11-23T14:50:37.868Z"
   },
   {
    "duration": 3,
    "start_time": "2021-11-23T14:50:47.093Z"
   },
   {
    "duration": 467,
    "start_time": "2021-11-23T14:50:47.098Z"
   },
   {
    "duration": 9,
    "start_time": "2021-11-23T14:50:47.567Z"
   },
   {
    "duration": 27,
    "start_time": "2021-11-23T14:50:47.578Z"
   },
   {
    "duration": 31,
    "start_time": "2021-11-23T14:50:47.607Z"
   },
   {
    "duration": 9,
    "start_time": "2021-11-23T14:50:47.640Z"
   },
   {
    "duration": 29,
    "start_time": "2021-11-23T14:50:47.651Z"
   },
   {
    "duration": 25,
    "start_time": "2021-11-23T14:50:47.682Z"
   },
   {
    "duration": 29,
    "start_time": "2021-11-23T14:50:47.709Z"
   },
   {
    "duration": 27,
    "start_time": "2021-11-23T14:50:47.740Z"
   },
   {
    "duration": 81,
    "start_time": "2021-11-23T14:50:47.769Z"
   },
   {
    "duration": 260,
    "start_time": "2021-11-23T14:50:47.852Z"
   },
   {
    "duration": 14,
    "start_time": "2021-11-23T14:50:48.114Z"
   },
   {
    "duration": 39,
    "start_time": "2021-11-23T14:50:48.145Z"
   },
   {
    "duration": 7,
    "start_time": "2021-11-23T14:50:48.186Z"
   },
   {
    "duration": 28,
    "start_time": "2021-11-23T14:50:48.194Z"
   },
   {
    "duration": 50,
    "start_time": "2021-11-23T14:50:48.224Z"
   },
   {
    "duration": 24,
    "start_time": "2021-11-23T14:50:48.276Z"
   },
   {
    "duration": 8,
    "start_time": "2021-11-23T14:50:48.384Z"
   },
   {
    "duration": 29,
    "start_time": "2021-11-23T14:50:48.395Z"
   },
   {
    "duration": 33,
    "start_time": "2021-11-23T14:50:48.426Z"
   },
   {
    "duration": 47,
    "start_time": "2021-11-23T14:50:48.461Z"
   },
   {
    "duration": 293,
    "start_time": "2021-11-23T14:50:48.509Z"
   },
   {
    "duration": 12,
    "start_time": "2021-11-23T14:50:48.804Z"
   },
   {
    "duration": 46,
    "start_time": "2021-11-23T14:50:48.817Z"
   },
   {
    "duration": 7,
    "start_time": "2021-11-23T14:50:48.865Z"
   },
   {
    "duration": 32,
    "start_time": "2021-11-23T14:50:48.873Z"
   },
   {
    "duration": 15,
    "start_time": "2021-11-23T14:50:48.907Z"
   },
   {
    "duration": 74,
    "start_time": "2021-11-23T14:50:48.924Z"
   },
   {
    "duration": 45,
    "start_time": "2021-11-23T14:50:49.000Z"
   },
   {
    "duration": 31,
    "start_time": "2021-11-23T14:50:49.047Z"
   },
   {
    "duration": 26,
    "start_time": "2021-11-23T14:50:49.079Z"
   },
   {
    "duration": 44,
    "start_time": "2021-11-23T14:50:49.107Z"
   },
   {
    "duration": 4,
    "start_time": "2021-11-23T14:50:49.153Z"
   },
   {
    "duration": 9542,
    "start_time": "2021-11-23T14:50:49.159Z"
   },
   {
    "duration": 41,
    "start_time": "2021-11-23T14:50:58.704Z"
   },
   {
    "duration": 260,
    "start_time": "2021-11-23T14:50:58.747Z"
   },
   {
    "duration": 235,
    "start_time": "2021-11-23T14:50:59.009Z"
   },
   {
    "duration": 151,
    "start_time": "2021-11-23T14:50:59.246Z"
   },
   {
    "duration": 19,
    "start_time": "2021-11-23T14:50:59.399Z"
   },
   {
    "duration": 479,
    "start_time": "2021-11-23T14:50:59.421Z"
   },
   {
    "duration": 260,
    "start_time": "2021-11-23T14:50:59.902Z"
   },
   {
    "duration": 194,
    "start_time": "2021-11-23T14:51:00.165Z"
   },
   {
    "duration": 24,
    "start_time": "2021-11-23T14:51:00.361Z"
   },
   {
    "duration": 593,
    "start_time": "2021-11-23T14:51:00.387Z"
   },
   {
    "duration": 349,
    "start_time": "2021-11-23T14:51:00.982Z"
   },
   {
    "duration": 232,
    "start_time": "2021-11-23T14:51:01.334Z"
   },
   {
    "duration": 41,
    "start_time": "2021-11-23T14:51:01.569Z"
   },
   {
    "duration": 297,
    "start_time": "2021-11-23T14:51:01.611Z"
   },
   {
    "duration": 258,
    "start_time": "2021-11-23T14:51:01.910Z"
   },
   {
    "duration": 167,
    "start_time": "2021-11-23T14:51:02.170Z"
   },
   {
    "duration": 20,
    "start_time": "2021-11-23T14:51:02.339Z"
   },
   {
    "duration": 312,
    "start_time": "2021-11-23T14:51:02.360Z"
   },
   {
    "duration": 353,
    "start_time": "2021-11-23T14:51:02.682Z"
   },
   {
    "duration": 212,
    "start_time": "2021-11-23T14:51:03.042Z"
   },
   {
    "duration": 19,
    "start_time": "2021-11-23T14:51:03.256Z"
   },
   {
    "duration": 388,
    "start_time": "2021-11-23T14:51:03.277Z"
   },
   {
    "duration": 228,
    "start_time": "2021-11-23T14:51:03.667Z"
   },
   {
    "duration": 176,
    "start_time": "2021-11-23T14:51:03.897Z"
   },
   {
    "duration": 30,
    "start_time": "2021-11-23T14:51:04.074Z"
   },
   {
    "duration": 356,
    "start_time": "2021-11-23T14:51:04.105Z"
   },
   {
    "duration": 329,
    "start_time": "2021-11-23T14:51:04.463Z"
   },
   {
    "duration": 220,
    "start_time": "2021-11-23T14:51:04.794Z"
   },
   {
    "duration": 32,
    "start_time": "2021-11-23T14:51:05.016Z"
   },
   {
    "duration": 429,
    "start_time": "2021-11-23T14:51:05.050Z"
   },
   {
    "duration": 354,
    "start_time": "2021-11-23T14:51:05.481Z"
   },
   {
    "duration": 347,
    "start_time": "2021-11-23T14:51:05.837Z"
   },
   {
    "duration": 26,
    "start_time": "2021-11-23T14:51:06.186Z"
   },
   {
    "duration": 461,
    "start_time": "2021-11-23T14:51:06.214Z"
   },
   {
    "duration": 349,
    "start_time": "2021-11-23T14:51:06.677Z"
   },
   {
    "duration": 236,
    "start_time": "2021-11-23T14:51:07.029Z"
   },
   {
    "duration": 15,
    "start_time": "2021-11-23T14:51:07.267Z"
   },
   {
    "duration": 16,
    "start_time": "2021-11-23T14:51:11.437Z"
   },
   {
    "duration": 10,
    "start_time": "2021-11-23T14:51:12.641Z"
   },
   {
    "duration": 777,
    "start_time": "2021-11-23T14:51:15.737Z"
   },
   {
    "duration": 10,
    "start_time": "2021-11-23T14:53:13.083Z"
   },
   {
    "duration": 15,
    "start_time": "2021-11-23T14:53:28.600Z"
   },
   {
    "duration": 15,
    "start_time": "2021-11-23T14:57:20.853Z"
   },
   {
    "duration": 16,
    "start_time": "2021-11-23T15:13:00.199Z"
   },
   {
    "duration": 1051,
    "start_time": "2021-11-23T15:14:59.569Z"
   },
   {
    "duration": 1300,
    "start_time": "2021-11-23T15:16:14.663Z"
   },
   {
    "duration": 14,
    "start_time": "2021-11-23T15:16:35.900Z"
   },
   {
    "duration": 283,
    "start_time": "2021-11-23T15:16:46.602Z"
   },
   {
    "duration": 14,
    "start_time": "2021-11-23T15:18:05.196Z"
   },
   {
    "duration": 15,
    "start_time": "2021-11-23T15:18:24.749Z"
   },
   {
    "duration": 17,
    "start_time": "2021-11-23T15:18:30.050Z"
   },
   {
    "duration": 17,
    "start_time": "2021-11-23T15:21:36.846Z"
   },
   {
    "duration": 3,
    "start_time": "2021-11-23T15:21:46.588Z"
   },
   {
    "duration": 408,
    "start_time": "2021-11-23T15:21:46.593Z"
   },
   {
    "duration": 9,
    "start_time": "2021-11-23T15:21:47.002Z"
   },
   {
    "duration": 26,
    "start_time": "2021-11-23T15:21:47.013Z"
   },
   {
    "duration": 20,
    "start_time": "2021-11-23T15:21:47.040Z"
   },
   {
    "duration": 5,
    "start_time": "2021-11-23T15:21:47.062Z"
   },
   {
    "duration": 11,
    "start_time": "2021-11-23T15:21:47.069Z"
   },
   {
    "duration": 9,
    "start_time": "2021-11-23T15:21:47.081Z"
   },
   {
    "duration": 21,
    "start_time": "2021-11-23T15:21:47.091Z"
   },
   {
    "duration": 55,
    "start_time": "2021-11-23T15:21:47.113Z"
   },
   {
    "duration": 105,
    "start_time": "2021-11-23T15:21:47.169Z"
   },
   {
    "duration": 249,
    "start_time": "2021-11-23T15:21:47.275Z"
   },
   {
    "duration": 27,
    "start_time": "2021-11-23T15:21:47.526Z"
   },
   {
    "duration": 38,
    "start_time": "2021-11-23T15:21:47.555Z"
   },
   {
    "duration": 7,
    "start_time": "2021-11-23T15:21:47.595Z"
   },
   {
    "duration": 23,
    "start_time": "2021-11-23T15:21:47.604Z"
   },
   {
    "duration": 56,
    "start_time": "2021-11-23T15:21:47.629Z"
   },
   {
    "duration": 24,
    "start_time": "2021-11-23T15:21:47.687Z"
   },
   {
    "duration": 8,
    "start_time": "2021-11-23T15:21:47.715Z"
   },
   {
    "duration": 33,
    "start_time": "2021-11-23T15:21:47.725Z"
   },
   {
    "duration": 28,
    "start_time": "2021-11-23T15:21:47.760Z"
   },
   {
    "duration": 63,
    "start_time": "2021-11-23T15:21:47.790Z"
   },
   {
    "duration": 279,
    "start_time": "2021-11-23T15:21:47.855Z"
   },
   {
    "duration": 13,
    "start_time": "2021-11-23T15:21:48.136Z"
   },
   {
    "duration": 32,
    "start_time": "2021-11-23T15:21:48.151Z"
   },
   {
    "duration": 8,
    "start_time": "2021-11-23T15:21:48.185Z"
   },
   {
    "duration": 7,
    "start_time": "2021-11-23T15:21:48.195Z"
   },
   {
    "duration": 4,
    "start_time": "2021-11-23T15:21:48.204Z"
   },
   {
    "duration": 78,
    "start_time": "2021-11-23T15:21:48.210Z"
   },
   {
    "duration": 64,
    "start_time": "2021-11-23T15:21:48.289Z"
   },
   {
    "duration": 27,
    "start_time": "2021-11-23T15:21:48.355Z"
   },
   {
    "duration": 24,
    "start_time": "2021-11-23T15:21:48.384Z"
   },
   {
    "duration": 52,
    "start_time": "2021-11-23T15:21:48.410Z"
   },
   {
    "duration": 4,
    "start_time": "2021-11-23T15:21:48.464Z"
   },
   {
    "duration": 9310,
    "start_time": "2021-11-23T15:21:48.470Z"
   },
   {
    "duration": 28,
    "start_time": "2021-11-23T15:21:57.782Z"
   },
   {
    "duration": 258,
    "start_time": "2021-11-23T15:21:57.811Z"
   },
   {
    "duration": 310,
    "start_time": "2021-11-23T15:21:58.071Z"
   },
   {
    "duration": 154,
    "start_time": "2021-11-23T15:21:58.384Z"
   },
   {
    "duration": 17,
    "start_time": "2021-11-23T15:21:58.544Z"
   },
   {
    "duration": 297,
    "start_time": "2021-11-23T15:21:58.563Z"
   },
   {
    "duration": 228,
    "start_time": "2021-11-23T15:21:58.862Z"
   },
   {
    "duration": 164,
    "start_time": "2021-11-23T15:21:59.091Z"
   },
   {
    "duration": 17,
    "start_time": "2021-11-23T15:21:59.257Z"
   },
   {
    "duration": 400,
    "start_time": "2021-11-23T15:21:59.276Z"
   },
   {
    "duration": 228,
    "start_time": "2021-11-23T15:21:59.678Z"
   },
   {
    "duration": 159,
    "start_time": "2021-11-23T15:21:59.907Z"
   },
   {
    "duration": 30,
    "start_time": "2021-11-23T15:22:00.067Z"
   },
   {
    "duration": 289,
    "start_time": "2021-11-23T15:22:00.099Z"
   },
   {
    "duration": 304,
    "start_time": "2021-11-23T15:22:00.390Z"
   },
   {
    "duration": 157,
    "start_time": "2021-11-23T15:22:00.696Z"
   },
   {
    "duration": 23,
    "start_time": "2021-11-23T15:22:00.855Z"
   },
   {
    "duration": 309,
    "start_time": "2021-11-23T15:22:00.880Z"
   },
   {
    "duration": 235,
    "start_time": "2021-11-23T15:22:01.191Z"
   },
   {
    "duration": 170,
    "start_time": "2021-11-23T15:22:01.431Z"
   },
   {
    "duration": 20,
    "start_time": "2021-11-23T15:22:01.604Z"
   },
   {
    "duration": 314,
    "start_time": "2021-11-23T15:22:01.626Z"
   },
   {
    "duration": 255,
    "start_time": "2021-11-23T15:22:01.945Z"
   },
   {
    "duration": 173,
    "start_time": "2021-11-23T15:22:02.202Z"
   },
   {
    "duration": 28,
    "start_time": "2021-11-23T15:22:02.377Z"
   },
   {
    "duration": 380,
    "start_time": "2021-11-23T15:22:02.407Z"
   },
   {
    "duration": 231,
    "start_time": "2021-11-23T15:22:02.789Z"
   },
   {
    "duration": 151,
    "start_time": "2021-11-23T15:22:03.022Z"
   },
   {
    "duration": 18,
    "start_time": "2021-11-23T15:22:03.175Z"
   },
   {
    "duration": 305,
    "start_time": "2021-11-23T15:22:03.194Z"
   },
   {
    "duration": 228,
    "start_time": "2021-11-23T15:22:03.501Z"
   },
   {
    "duration": 156,
    "start_time": "2021-11-23T15:22:03.731Z"
   },
   {
    "duration": 17,
    "start_time": "2021-11-23T15:22:03.888Z"
   },
   {
    "duration": 291,
    "start_time": "2021-11-23T15:22:03.906Z"
   },
   {
    "duration": 271,
    "start_time": "2021-11-23T15:22:04.198Z"
   },
   {
    "duration": 156,
    "start_time": "2021-11-23T15:22:04.471Z"
   },
   {
    "duration": 16,
    "start_time": "2021-11-23T15:22:04.629Z"
   },
   {
    "duration": 32,
    "start_time": "2021-11-23T15:22:04.646Z"
   },
   {
    "duration": 29,
    "start_time": "2021-11-23T15:22:04.679Z"
   },
   {
    "duration": 26,
    "start_time": "2021-11-23T15:22:04.710Z"
   },
   {
    "duration": 497,
    "start_time": "2021-11-23T15:32:26.361Z"
   },
   {
    "duration": 181,
    "start_time": "2021-11-23T15:33:25.235Z"
   },
   {
    "duration": 3318,
    "start_time": "2021-11-23T15:33:35.863Z"
   },
   {
    "duration": 329,
    "start_time": "2021-11-23T15:33:54.632Z"
   },
   {
    "duration": 233,
    "start_time": "2021-11-23T15:33:59.721Z"
   },
   {
    "duration": 241,
    "start_time": "2021-11-23T15:34:05.223Z"
   },
   {
    "duration": 266,
    "start_time": "2021-11-23T15:34:27.362Z"
   },
   {
    "duration": 89,
    "start_time": "2021-11-23T15:35:41.191Z"
   },
   {
    "duration": 336,
    "start_time": "2021-11-23T15:35:44.949Z"
   },
   {
    "duration": 240,
    "start_time": "2021-11-23T15:39:38.273Z"
   },
   {
    "duration": 127,
    "start_time": "2021-11-23T15:40:34.290Z"
   },
   {
    "duration": 255,
    "start_time": "2021-11-23T15:40:38.106Z"
   },
   {
    "duration": 265,
    "start_time": "2021-11-23T15:40:47.697Z"
   },
   {
    "duration": 88,
    "start_time": "2021-11-23T15:49:49.666Z"
   },
   {
    "duration": 9596,
    "start_time": "2021-11-23T15:49:56.977Z"
   },
   {
    "duration": 648,
    "start_time": "2021-11-23T15:50:22.508Z"
   },
   {
    "duration": 442,
    "start_time": "2021-11-23T16:46:55.914Z"
   },
   {
    "duration": 402,
    "start_time": "2021-11-23T16:47:09.585Z"
   },
   {
    "duration": 259,
    "start_time": "2021-11-23T16:48:24.746Z"
   },
   {
    "duration": 291,
    "start_time": "2021-11-23T16:49:48.112Z"
   },
   {
    "duration": 268,
    "start_time": "2021-11-23T16:50:13.663Z"
   },
   {
    "duration": 259,
    "start_time": "2021-11-23T16:50:24.358Z"
   },
   {
    "duration": 242,
    "start_time": "2021-11-23T16:51:08.820Z"
   },
   {
    "duration": 257,
    "start_time": "2021-11-23T16:51:27.693Z"
   },
   {
    "duration": 18,
    "start_time": "2021-11-23T17:06:31.478Z"
   },
   {
    "duration": 8,
    "start_time": "2021-11-23T17:06:52.816Z"
   },
   {
    "duration": 8,
    "start_time": "2021-11-23T17:07:20.847Z"
   },
   {
    "duration": 8,
    "start_time": "2021-11-23T17:07:27.660Z"
   },
   {
    "duration": 8,
    "start_time": "2021-11-23T17:07:58.791Z"
   },
   {
    "duration": 36,
    "start_time": "2021-11-23T17:09:32.639Z"
   },
   {
    "duration": 5,
    "start_time": "2021-11-23T17:10:50.965Z"
   },
   {
    "duration": 6,
    "start_time": "2021-11-23T17:11:20.283Z"
   },
   {
    "duration": 12,
    "start_time": "2021-11-23T17:11:43.284Z"
   },
   {
    "duration": 9,
    "start_time": "2021-11-23T17:11:52.067Z"
   },
   {
    "duration": 5,
    "start_time": "2021-11-23T17:11:52.802Z"
   },
   {
    "duration": 8,
    "start_time": "2021-11-23T17:12:14.189Z"
   },
   {
    "duration": 8,
    "start_time": "2021-11-23T17:12:19.487Z"
   },
   {
    "duration": 125,
    "start_time": "2021-11-23T17:12:28.901Z"
   },
   {
    "duration": 10,
    "start_time": "2021-11-23T17:12:38.755Z"
   },
   {
    "duration": 10,
    "start_time": "2021-11-23T17:13:34.042Z"
   },
   {
    "duration": 7,
    "start_time": "2021-11-23T17:21:03.124Z"
   },
   {
    "duration": 6,
    "start_time": "2021-11-23T17:21:19.547Z"
   },
   {
    "duration": 6,
    "start_time": "2021-11-23T17:21:42.197Z"
   },
   {
    "duration": 7,
    "start_time": "2021-11-23T17:21:53.771Z"
   },
   {
    "duration": 6,
    "start_time": "2021-11-23T17:22:05.067Z"
   },
   {
    "duration": 8,
    "start_time": "2021-11-23T17:26:24.175Z"
   },
   {
    "duration": 7,
    "start_time": "2021-11-23T17:26:56.896Z"
   },
   {
    "duration": 8,
    "start_time": "2021-11-23T17:27:23.615Z"
   },
   {
    "duration": 8,
    "start_time": "2021-11-23T17:27:26.447Z"
   },
   {
    "duration": 89,
    "start_time": "2021-11-23T17:28:07.179Z"
   },
   {
    "duration": 100,
    "start_time": "2021-11-23T17:28:24.446Z"
   },
   {
    "duration": 6,
    "start_time": "2021-11-23T17:28:46.214Z"
   },
   {
    "duration": 8,
    "start_time": "2021-11-23T17:29:54.648Z"
   },
   {
    "duration": 7,
    "start_time": "2021-11-23T17:30:13.117Z"
   },
   {
    "duration": 88,
    "start_time": "2021-11-23T17:30:32.813Z"
   },
   {
    "duration": 120,
    "start_time": "2021-11-23T17:30:44.972Z"
   },
   {
    "duration": 7,
    "start_time": "2021-11-23T17:30:55.396Z"
   },
   {
    "duration": 7,
    "start_time": "2021-11-23T17:31:06.404Z"
   },
   {
    "duration": 7,
    "start_time": "2021-11-23T17:32:10.196Z"
   },
   {
    "duration": 12,
    "start_time": "2021-11-23T17:32:33.811Z"
   },
   {
    "duration": 16,
    "start_time": "2021-11-23T17:33:01.011Z"
   },
   {
    "duration": 6,
    "start_time": "2021-11-23T17:33:10.811Z"
   },
   {
    "duration": 18,
    "start_time": "2021-11-23T17:33:21.060Z"
   },
   {
    "duration": 14,
    "start_time": "2021-11-23T17:33:42.402Z"
   },
   {
    "duration": 16,
    "start_time": "2021-11-23T17:33:51.818Z"
   },
   {
    "duration": 16,
    "start_time": "2021-11-23T17:33:56.827Z"
   },
   {
    "duration": 16,
    "start_time": "2021-11-23T17:34:11.566Z"
   },
   {
    "duration": 6,
    "start_time": "2021-11-23T17:34:20.487Z"
   },
   {
    "duration": 3,
    "start_time": "2021-11-23T22:58:18.457Z"
   },
   {
    "duration": 369,
    "start_time": "2021-11-23T22:58:18.462Z"
   },
   {
    "duration": 9,
    "start_time": "2021-11-23T22:58:18.833Z"
   },
   {
    "duration": 12,
    "start_time": "2021-11-23T22:58:18.844Z"
   },
   {
    "duration": 17,
    "start_time": "2021-11-23T22:58:18.857Z"
   },
   {
    "duration": 7,
    "start_time": "2021-11-23T22:58:18.876Z"
   },
   {
    "duration": 22,
    "start_time": "2021-11-23T22:58:18.886Z"
   },
   {
    "duration": 18,
    "start_time": "2021-11-23T22:58:18.910Z"
   },
   {
    "duration": 26,
    "start_time": "2021-11-23T22:58:18.930Z"
   },
   {
    "duration": 26,
    "start_time": "2021-11-23T22:58:18.957Z"
   },
   {
    "duration": 88,
    "start_time": "2021-11-23T22:58:18.984Z"
   },
   {
    "duration": 246,
    "start_time": "2021-11-23T22:58:19.074Z"
   },
   {
    "duration": 13,
    "start_time": "2021-11-23T22:58:19.321Z"
   },
   {
    "duration": 40,
    "start_time": "2021-11-23T22:58:19.344Z"
   },
   {
    "duration": 7,
    "start_time": "2021-11-23T22:58:19.385Z"
   },
   {
    "duration": 14,
    "start_time": "2021-11-23T22:58:19.394Z"
   },
   {
    "duration": 62,
    "start_time": "2021-11-23T22:58:19.410Z"
   },
   {
    "duration": 24,
    "start_time": "2021-11-23T22:58:19.474Z"
   },
   {
    "duration": 8,
    "start_time": "2021-11-23T22:58:19.502Z"
   },
   {
    "duration": 38,
    "start_time": "2021-11-23T22:58:19.513Z"
   },
   {
    "duration": 25,
    "start_time": "2021-11-23T22:58:19.553Z"
   },
   {
    "duration": 64,
    "start_time": "2021-11-23T22:58:19.580Z"
   },
   {
    "duration": 264,
    "start_time": "2021-11-23T22:58:19.646Z"
   },
   {
    "duration": 10,
    "start_time": "2021-11-23T22:58:19.912Z"
   },
   {
    "duration": 43,
    "start_time": "2021-11-23T22:58:19.924Z"
   },
   {
    "duration": 7,
    "start_time": "2021-11-23T22:58:19.968Z"
   },
   {
    "duration": 7,
    "start_time": "2021-11-23T22:58:19.976Z"
   },
   {
    "duration": 4,
    "start_time": "2021-11-23T22:58:19.985Z"
   },
   {
    "duration": 66,
    "start_time": "2021-11-23T22:58:19.991Z"
   },
   {
    "duration": 44,
    "start_time": "2021-11-23T22:58:20.059Z"
   },
   {
    "duration": 40,
    "start_time": "2021-11-23T22:58:20.105Z"
   },
   {
    "duration": 24,
    "start_time": "2021-11-23T22:58:20.147Z"
   },
   {
    "duration": 26,
    "start_time": "2021-11-23T22:58:20.173Z"
   },
   {
    "duration": 4,
    "start_time": "2021-11-23T22:58:20.201Z"
   },
   {
    "duration": 9173,
    "start_time": "2021-11-23T22:58:20.207Z"
   },
   {
    "duration": 27,
    "start_time": "2021-11-23T22:58:29.382Z"
   },
   {
    "duration": 260,
    "start_time": "2021-11-23T22:58:29.410Z"
   },
   {
    "duration": 222,
    "start_time": "2021-11-23T22:58:29.672Z"
   },
   {
    "duration": 259,
    "start_time": "2021-11-23T22:58:29.896Z"
   },
   {
    "duration": 18,
    "start_time": "2021-11-23T22:58:30.156Z"
   },
   {
    "duration": 296,
    "start_time": "2021-11-23T22:58:30.176Z"
   },
   {
    "duration": 226,
    "start_time": "2021-11-23T22:58:30.474Z"
   },
   {
    "duration": 160,
    "start_time": "2021-11-23T22:58:30.701Z"
   },
   {
    "duration": 17,
    "start_time": "2021-11-23T22:58:30.862Z"
   },
   {
    "duration": 310,
    "start_time": "2021-11-23T22:58:30.881Z"
   },
   {
    "duration": 221,
    "start_time": "2021-11-23T22:58:31.193Z"
   },
   {
    "duration": 150,
    "start_time": "2021-11-23T22:58:31.415Z"
   },
   {
    "duration": 26,
    "start_time": "2021-11-23T22:58:31.566Z"
   },
   {
    "duration": 275,
    "start_time": "2021-11-23T22:58:31.594Z"
   },
   {
    "duration": 233,
    "start_time": "2021-11-23T22:58:31.871Z"
   },
   {
    "duration": 150,
    "start_time": "2021-11-23T22:58:32.106Z"
   },
   {
    "duration": 17,
    "start_time": "2021-11-23T22:58:32.258Z"
   },
   {
    "duration": 282,
    "start_time": "2021-11-23T22:58:32.277Z"
   },
   {
    "duration": 338,
    "start_time": "2021-11-23T22:58:32.561Z"
   },
   {
    "duration": 161,
    "start_time": "2021-11-23T22:58:32.903Z"
   },
   {
    "duration": 16,
    "start_time": "2021-11-23T22:58:33.066Z"
   },
   {
    "duration": 304,
    "start_time": "2021-11-23T22:58:33.084Z"
   },
   {
    "duration": 217,
    "start_time": "2021-11-23T22:58:33.390Z"
   },
   {
    "duration": 157,
    "start_time": "2021-11-23T22:58:33.609Z"
   },
   {
    "duration": 29,
    "start_time": "2021-11-23T22:58:33.768Z"
   },
   {
    "duration": 298,
    "start_time": "2021-11-23T22:58:33.799Z"
   },
   {
    "duration": 219,
    "start_time": "2021-11-23T22:58:34.099Z"
   },
   {
    "duration": 152,
    "start_time": "2021-11-23T22:58:34.320Z"
   },
   {
    "duration": 17,
    "start_time": "2021-11-23T22:58:34.473Z"
   },
   {
    "duration": 369,
    "start_time": "2021-11-23T22:58:34.492Z"
   },
   {
    "duration": 211,
    "start_time": "2021-11-23T22:58:34.863Z"
   },
   {
    "duration": 156,
    "start_time": "2021-11-23T22:58:35.076Z"
   },
   {
    "duration": 22,
    "start_time": "2021-11-23T22:58:35.234Z"
   },
   {
    "duration": 406,
    "start_time": "2021-11-23T22:58:35.257Z"
   },
   {
    "duration": 229,
    "start_time": "2021-11-23T22:58:35.664Z"
   },
   {
    "duration": 146,
    "start_time": "2021-11-23T22:58:35.894Z"
   },
   {
    "duration": 10,
    "start_time": "2021-11-23T22:58:36.041Z"
   },
   {
    "duration": 14,
    "start_time": "2021-11-23T22:58:36.053Z"
   },
   {
    "duration": 15,
    "start_time": "2021-11-23T22:58:36.069Z"
   },
   {
    "duration": 13,
    "start_time": "2021-11-23T22:58:36.085Z"
   },
   {
    "duration": 273,
    "start_time": "2021-11-23T22:58:36.100Z"
   },
   {
    "duration": 14,
    "start_time": "2021-11-23T22:58:36.375Z"
   },
   {
    "duration": 5,
    "start_time": "2021-11-23T22:58:36.391Z"
   },
   {
    "duration": 9,
    "start_time": "2021-11-23T22:58:36.397Z"
   },
   {
    "duration": 8,
    "start_time": "2021-11-23T22:58:36.408Z"
   },
   {
    "duration": 968,
    "start_time": "2021-11-24T08:48:46.782Z"
   },
   {
    "duration": 360,
    "start_time": "2021-11-24T08:48:47.751Z"
   },
   {
    "duration": 11,
    "start_time": "2021-11-24T08:48:48.113Z"
   },
   {
    "duration": 9,
    "start_time": "2021-11-24T08:48:48.126Z"
   },
   {
    "duration": 22,
    "start_time": "2021-11-24T08:48:48.137Z"
   },
   {
    "duration": 8,
    "start_time": "2021-11-24T08:48:48.160Z"
   },
   {
    "duration": 25,
    "start_time": "2021-11-24T08:48:48.169Z"
   },
   {
    "duration": 15,
    "start_time": "2021-11-24T08:48:48.196Z"
   },
   {
    "duration": 26,
    "start_time": "2021-11-24T08:48:48.213Z"
   },
   {
    "duration": 27,
    "start_time": "2021-11-24T08:48:48.241Z"
   },
   {
    "duration": 85,
    "start_time": "2021-11-24T08:48:48.269Z"
   },
   {
    "duration": 249,
    "start_time": "2021-11-24T08:48:48.356Z"
   },
   {
    "duration": 14,
    "start_time": "2021-11-24T08:48:48.607Z"
   },
   {
    "duration": 42,
    "start_time": "2021-11-24T08:48:48.622Z"
   },
   {
    "duration": 23,
    "start_time": "2021-11-24T08:48:48.665Z"
   },
   {
    "duration": 18,
    "start_time": "2021-11-24T08:48:48.689Z"
   },
   {
    "duration": 41,
    "start_time": "2021-11-24T08:48:48.708Z"
   },
   {
    "duration": 23,
    "start_time": "2021-11-24T08:48:48.751Z"
   },
   {
    "duration": 15,
    "start_time": "2021-11-24T08:48:48.776Z"
   },
   {
    "duration": 22,
    "start_time": "2021-11-24T08:48:48.793Z"
   },
   {
    "duration": 32,
    "start_time": "2021-11-24T08:48:48.816Z"
   },
   {
    "duration": 63,
    "start_time": "2021-11-24T08:48:48.850Z"
   },
   {
    "duration": 274,
    "start_time": "2021-11-24T08:48:48.915Z"
   },
   {
    "duration": 10,
    "start_time": "2021-11-24T08:48:49.191Z"
   },
   {
    "duration": 30,
    "start_time": "2021-11-24T08:48:49.203Z"
   },
   {
    "duration": 7,
    "start_time": "2021-11-24T08:48:49.234Z"
   },
   {
    "duration": 6,
    "start_time": "2021-11-24T08:48:49.245Z"
   },
   {
    "duration": 10,
    "start_time": "2021-11-24T08:48:49.253Z"
   },
   {
    "duration": 47,
    "start_time": "2021-11-24T08:48:49.288Z"
   },
   {
    "duration": 57,
    "start_time": "2021-11-24T08:48:49.336Z"
   },
   {
    "duration": 27,
    "start_time": "2021-11-24T08:48:49.395Z"
   },
   {
    "duration": 26,
    "start_time": "2021-11-24T08:48:49.423Z"
   },
   {
    "duration": 47,
    "start_time": "2021-11-24T08:48:49.451Z"
   },
   {
    "duration": 5,
    "start_time": "2021-11-24T08:48:49.499Z"
   },
   {
    "duration": 9517,
    "start_time": "2021-11-24T08:48:49.506Z"
   },
   {
    "duration": 26,
    "start_time": "2021-11-24T08:48:59.024Z"
   },
   {
    "duration": 250,
    "start_time": "2021-11-24T08:48:59.051Z"
   },
   {
    "duration": 218,
    "start_time": "2021-11-24T08:48:59.302Z"
   },
   {
    "duration": 147,
    "start_time": "2021-11-24T08:48:59.521Z"
   },
   {
    "duration": 22,
    "start_time": "2021-11-24T08:48:59.670Z"
   },
   {
    "duration": 277,
    "start_time": "2021-11-24T08:48:59.694Z"
   },
   {
    "duration": 217,
    "start_time": "2021-11-24T08:48:59.973Z"
   },
   {
    "duration": 229,
    "start_time": "2021-11-24T08:49:00.192Z"
   },
   {
    "duration": 20,
    "start_time": "2021-11-24T08:49:00.422Z"
   },
   {
    "duration": 313,
    "start_time": "2021-11-24T08:49:00.443Z"
   },
   {
    "duration": 212,
    "start_time": "2021-11-24T08:49:00.757Z"
   },
   {
    "duration": 148,
    "start_time": "2021-11-24T08:49:00.971Z"
   },
   {
    "duration": 26,
    "start_time": "2021-11-24T08:49:01.120Z"
   },
   {
    "duration": 271,
    "start_time": "2021-11-24T08:49:01.148Z"
   },
   {
    "duration": 220,
    "start_time": "2021-11-24T08:49:01.420Z"
   },
   {
    "duration": 148,
    "start_time": "2021-11-24T08:49:01.641Z"
   },
   {
    "duration": 16,
    "start_time": "2021-11-24T08:49:01.791Z"
   },
   {
    "duration": 300,
    "start_time": "2021-11-24T08:49:01.808Z"
   },
   {
    "duration": 294,
    "start_time": "2021-11-24T08:49:02.110Z"
   },
   {
    "duration": 157,
    "start_time": "2021-11-24T08:49:02.405Z"
   },
   {
    "duration": 25,
    "start_time": "2021-11-24T08:49:02.563Z"
   },
   {
    "duration": 281,
    "start_time": "2021-11-24T08:49:02.590Z"
   },
   {
    "duration": 208,
    "start_time": "2021-11-24T08:49:02.872Z"
   },
   {
    "duration": 159,
    "start_time": "2021-11-24T08:49:03.081Z"
   },
   {
    "duration": 26,
    "start_time": "2021-11-24T08:49:03.241Z"
   },
   {
    "duration": 302,
    "start_time": "2021-11-24T08:49:03.268Z"
   },
   {
    "duration": 209,
    "start_time": "2021-11-24T08:49:03.571Z"
   },
   {
    "duration": 139,
    "start_time": "2021-11-24T08:49:03.782Z"
   },
   {
    "duration": 16,
    "start_time": "2021-11-24T08:49:03.923Z"
   },
   {
    "duration": 277,
    "start_time": "2021-11-24T08:49:03.941Z"
   },
   {
    "duration": 283,
    "start_time": "2021-11-24T08:49:04.219Z"
   },
   {
    "duration": 148,
    "start_time": "2021-11-24T08:49:04.503Z"
   },
   {
    "duration": 20,
    "start_time": "2021-11-24T08:49:04.653Z"
   },
   {
    "duration": 291,
    "start_time": "2021-11-24T08:49:04.688Z"
   },
   {
    "duration": 224,
    "start_time": "2021-11-24T08:49:04.988Z"
   },
   {
    "duration": 151,
    "start_time": "2021-11-24T08:49:05.213Z"
   },
   {
    "duration": 9,
    "start_time": "2021-11-24T08:49:05.366Z"
   },
   {
    "duration": 19,
    "start_time": "2021-11-24T08:49:05.376Z"
   },
   {
    "duration": 14,
    "start_time": "2021-11-24T08:49:05.397Z"
   },
   {
    "duration": 12,
    "start_time": "2021-11-24T08:49:05.412Z"
   },
   {
    "duration": 252,
    "start_time": "2021-11-24T08:49:05.425Z"
   },
   {
    "duration": 19,
    "start_time": "2021-11-24T08:49:05.679Z"
   },
   {
    "duration": 5,
    "start_time": "2021-11-24T08:49:05.700Z"
   },
   {
    "duration": 7,
    "start_time": "2021-11-24T08:49:05.707Z"
   },
   {
    "duration": 9,
    "start_time": "2021-11-24T08:49:05.716Z"
   },
   {
    "duration": 447,
    "start_time": "2021-11-24T11:28:15.006Z"
   },
   {
    "duration": 1373,
    "start_time": "2021-11-24T11:28:17.641Z"
   },
   {
    "duration": 539,
    "start_time": "2021-11-24T11:28:19.017Z"
   },
   {
    "duration": 4,
    "start_time": "2021-11-24T11:28:28.863Z"
   },
   {
    "duration": 696,
    "start_time": "2021-11-24T11:28:28.873Z"
   },
   {
    "duration": 26,
    "start_time": "2021-11-24T11:28:29.572Z"
   },
   {
    "duration": 13,
    "start_time": "2021-11-24T11:28:29.602Z"
   },
   {
    "duration": 63,
    "start_time": "2021-11-24T11:28:29.619Z"
   },
   {
    "duration": 12,
    "start_time": "2021-11-24T11:28:29.685Z"
   },
   {
    "duration": 22,
    "start_time": "2021-11-24T11:28:29.700Z"
   },
   {
    "duration": 18,
    "start_time": "2021-11-24T11:28:29.725Z"
   },
   {
    "duration": 28,
    "start_time": "2021-11-24T11:28:29.781Z"
   },
   {
    "duration": 40,
    "start_time": "2021-11-24T11:28:29.812Z"
   },
   {
    "duration": 134,
    "start_time": "2021-11-24T11:28:29.855Z"
   },
   {
    "duration": 456,
    "start_time": "2021-11-24T11:28:29.992Z"
   },
   {
    "duration": 17,
    "start_time": "2021-11-24T11:28:30.450Z"
   },
   {
    "duration": 60,
    "start_time": "2021-11-24T11:28:30.482Z"
   },
   {
    "duration": 11,
    "start_time": "2021-11-24T11:28:30.545Z"
   },
   {
    "duration": 48,
    "start_time": "2021-11-24T11:28:30.558Z"
   },
   {
    "duration": 77,
    "start_time": "2021-11-24T11:28:30.608Z"
   },
   {
    "duration": 36,
    "start_time": "2021-11-24T11:28:30.687Z"
   },
   {
    "duration": 11,
    "start_time": "2021-11-24T11:28:30.725Z"
   },
   {
    "duration": 399,
    "start_time": "2021-11-24T13:12:58.874Z"
   },
   {
    "duration": 4,
    "start_time": "2021-11-24T13:13:02.919Z"
   },
   {
    "duration": 345,
    "start_time": "2021-11-24T13:13:04.007Z"
   },
   {
    "duration": 568,
    "start_time": "2021-11-24T13:13:11.249Z"
   },
   {
    "duration": 18,
    "start_time": "2021-11-24T13:13:15.654Z"
   },
   {
    "duration": 9,
    "start_time": "2021-11-24T13:13:19.127Z"
   },
   {
    "duration": 30,
    "start_time": "2021-11-24T13:13:29.167Z"
   },
   {
    "duration": 10,
    "start_time": "2021-11-24T13:13:29.765Z"
   },
   {
    "duration": 2563,
    "start_time": "2021-11-24T13:18:01.282Z"
   },
   {
    "duration": 17,
    "start_time": "2021-11-24T13:18:03.848Z"
   },
   {
    "duration": 14,
    "start_time": "2021-11-24T13:18:03.868Z"
   },
   {
    "duration": 33,
    "start_time": "2021-11-24T13:18:09.907Z"
   },
   {
    "duration": 10,
    "start_time": "2021-11-24T13:18:10.424Z"
   },
   {
    "duration": 13,
    "start_time": "2021-11-24T13:18:11.745Z"
   },
   {
    "duration": 28,
    "start_time": "2021-11-24T13:18:21.568Z"
   },
   {
    "duration": 56,
    "start_time": "2021-11-24T13:18:26.222Z"
   },
   {
    "duration": 116,
    "start_time": "2021-11-24T13:18:27.082Z"
   },
   {
    "duration": 418,
    "start_time": "2021-11-24T13:18:28.436Z"
   },
   {
    "duration": 17,
    "start_time": "2021-11-24T13:18:29.358Z"
   },
   {
    "duration": 23,
    "start_time": "2021-11-24T13:18:30.528Z"
   },
   {
    "duration": 10,
    "start_time": "2021-11-24T13:18:31.758Z"
   },
   {
    "duration": 18,
    "start_time": "2021-11-24T13:18:32.735Z"
   },
   {
    "duration": 51,
    "start_time": "2021-11-24T13:18:34.707Z"
   },
   {
    "duration": 11,
    "start_time": "2021-11-24T13:18:36.689Z"
   },
   {
    "duration": 16,
    "start_time": "2021-11-24T13:18:38.592Z"
   },
   {
    "duration": 35,
    "start_time": "2021-11-24T13:18:40.915Z"
   },
   {
    "duration": 55,
    "start_time": "2021-11-24T13:18:41.459Z"
   },
   {
    "duration": 467,
    "start_time": "2021-11-24T13:18:43.065Z"
   },
   {
    "duration": 14,
    "start_time": "2021-11-24T13:18:43.597Z"
   },
   {
    "duration": 23,
    "start_time": "2021-11-24T13:18:45.681Z"
   },
   {
    "duration": 3,
    "start_time": "2021-11-24T13:39:22.605Z"
   },
   {
    "duration": 14,
    "start_time": "2021-11-24T13:52:27.476Z"
   },
   {
    "duration": 4,
    "start_time": "2021-11-24T13:52:27.997Z"
   },
   {
    "duration": 12,
    "start_time": "2021-11-24T13:52:30.093Z"
   },
   {
    "duration": 9,
    "start_time": "2021-11-24T13:52:38.427Z"
   },
   {
    "duration": 13,
    "start_time": "2021-11-24T13:52:39.011Z"
   },
   {
    "duration": 111,
    "start_time": "2021-11-24T14:11:10.827Z"
   },
   {
    "duration": 100,
    "start_time": "2021-11-24T14:11:18.306Z"
   },
   {
    "duration": 106,
    "start_time": "2021-11-24T14:11:23.282Z"
   },
   {
    "duration": 19,
    "start_time": "2021-11-24T14:12:05.072Z"
   },
   {
    "duration": 17,
    "start_time": "2021-11-24T14:12:10.582Z"
   },
   {
    "duration": 10,
    "start_time": "2021-11-24T14:32:34.761Z"
   },
   {
    "duration": 607,
    "start_time": "2021-11-24T14:58:29.471Z"
   },
   {
    "duration": 648,
    "start_time": "2021-11-24T14:58:34.832Z"
   },
   {
    "duration": 25,
    "start_time": "2021-11-24T14:59:12.837Z"
   },
   {
    "duration": 26,
    "start_time": "2021-11-24T14:59:33.775Z"
   },
   {
    "duration": 73,
    "start_time": "2021-11-24T15:00:41.780Z"
   },
   {
    "duration": 87,
    "start_time": "2021-11-24T15:00:57.669Z"
   },
   {
    "duration": 14,
    "start_time": "2021-11-24T15:01:43.048Z"
   },
   {
    "duration": 27,
    "start_time": "2021-11-24T15:01:43.836Z"
   },
   {
    "duration": 124,
    "start_time": "2021-11-24T15:01:44.721Z"
   },
   {
    "duration": 302,
    "start_time": "2021-11-24T15:03:52.652Z"
   },
   {
    "duration": 95,
    "start_time": "2021-11-24T15:03:57.292Z"
   },
   {
    "duration": 56,
    "start_time": "2021-11-24T15:05:16.651Z"
   },
   {
    "duration": 32,
    "start_time": "2021-11-24T15:08:03.040Z"
   },
   {
    "duration": 431,
    "start_time": "2021-11-24T15:10:22.119Z"
   },
   {
    "duration": 452,
    "start_time": "2021-11-24T15:10:31.030Z"
   },
   {
    "duration": 21,
    "start_time": "2021-11-24T15:13:47.539Z"
   },
   {
    "duration": 14,
    "start_time": "2021-11-24T15:15:53.005Z"
   },
   {
    "duration": 24,
    "start_time": "2021-11-24T15:22:51.951Z"
   },
   {
    "duration": 24,
    "start_time": "2021-11-24T15:23:18.555Z"
   },
   {
    "duration": 18,
    "start_time": "2021-11-24T15:33:44.206Z"
   },
   {
    "duration": 31,
    "start_time": "2021-11-24T15:34:50.878Z"
   },
   {
    "duration": 525,
    "start_time": "2021-11-24T15:38:06.681Z"
   },
   {
    "duration": 77,
    "start_time": "2021-11-24T15:47:14.097Z"
   },
   {
    "duration": 102,
    "start_time": "2021-11-24T15:47:14.656Z"
   },
   {
    "duration": 60,
    "start_time": "2021-11-24T15:47:15.633Z"
   },
   {
    "duration": 35,
    "start_time": "2021-11-24T15:47:16.489Z"
   },
   {
    "duration": 48,
    "start_time": "2021-11-24T15:47:23.079Z"
   },
   {
    "duration": 8,
    "start_time": "2021-11-24T16:09:21.288Z"
   },
   {
    "duration": 10,
    "start_time": "2021-11-24T16:09:27.322Z"
   },
   {
    "duration": 8,
    "start_time": "2021-11-24T16:10:02.791Z"
   },
   {
    "duration": 10,
    "start_time": "2021-11-24T16:10:10.311Z"
   },
   {
    "duration": 664,
    "start_time": "2021-11-24T16:11:08.263Z"
   },
   {
    "duration": 101,
    "start_time": "2021-11-24T16:12:11.586Z"
   },
   {
    "duration": 361,
    "start_time": "2021-11-24T16:13:11.626Z"
   },
   {
    "duration": 308,
    "start_time": "2021-11-24T16:16:22.626Z"
   },
   {
    "duration": 13,
    "start_time": "2021-11-24T16:16:39.153Z"
   },
   {
    "duration": 12,
    "start_time": "2021-11-24T16:20:33.158Z"
   },
   {
    "duration": 12,
    "start_time": "2021-11-24T16:21:26.387Z"
   },
   {
    "duration": 11483,
    "start_time": "2021-11-24T16:21:27.074Z"
   },
   {
    "duration": 8160,
    "start_time": "2021-11-24T16:22:00.971Z"
   },
   {
    "duration": 3,
    "start_time": "2021-11-24T16:22:11.631Z"
   },
   {
    "duration": 839,
    "start_time": "2021-11-24T16:22:11.643Z"
   },
   {
    "duration": 15,
    "start_time": "2021-11-24T16:22:12.485Z"
   },
   {
    "duration": 16,
    "start_time": "2021-11-24T16:22:12.503Z"
   },
   {
    "duration": 28,
    "start_time": "2021-11-24T16:22:12.522Z"
   },
   {
    "duration": 33,
    "start_time": "2021-11-24T16:22:12.553Z"
   },
   {
    "duration": 14,
    "start_time": "2021-11-24T16:22:12.589Z"
   },
   {
    "duration": 21,
    "start_time": "2021-11-24T16:22:12.606Z"
   },
   {
    "duration": 68,
    "start_time": "2021-11-24T16:22:12.635Z"
   },
   {
    "duration": 140,
    "start_time": "2021-11-24T16:22:12.706Z"
   },
   {
    "duration": 527,
    "start_time": "2021-11-24T16:22:12.849Z"
   },
   {
    "duration": 18,
    "start_time": "2021-11-24T16:22:13.382Z"
   },
   {
    "duration": 26,
    "start_time": "2021-11-24T16:22:13.402Z"
   },
   {
    "duration": 11,
    "start_time": "2021-11-24T16:22:13.430Z"
   },
   {
    "duration": 16,
    "start_time": "2021-11-24T16:22:13.482Z"
   },
   {
    "duration": 83,
    "start_time": "2021-11-24T16:22:13.501Z"
   },
   {
    "duration": 17,
    "start_time": "2021-11-24T16:22:13.588Z"
   },
   {
    "duration": 31,
    "start_time": "2021-11-24T16:22:13.608Z"
   },
   {
    "duration": 77,
    "start_time": "2021-11-24T16:22:13.642Z"
   },
   {
    "duration": 95,
    "start_time": "2021-11-24T16:22:13.723Z"
   },
   {
    "duration": 608,
    "start_time": "2021-11-24T16:22:13.820Z"
   },
   {
    "duration": 14,
    "start_time": "2021-11-24T16:22:14.430Z"
   },
   {
    "duration": 4,
    "start_time": "2021-11-24T16:22:14.446Z"
   },
   {
    "duration": 33,
    "start_time": "2021-11-24T16:22:14.456Z"
   },
   {
    "duration": 9,
    "start_time": "2021-11-24T16:22:14.492Z"
   },
   {
    "duration": 7,
    "start_time": "2021-11-24T16:22:14.504Z"
   },
   {
    "duration": 11,
    "start_time": "2021-11-24T16:22:14.514Z"
   },
   {
    "duration": 61,
    "start_time": "2021-11-24T16:22:14.527Z"
   },
   {
    "duration": 17,
    "start_time": "2021-11-24T16:22:14.590Z"
   },
   {
    "duration": 26,
    "start_time": "2021-11-24T16:22:14.609Z"
   },
   {
    "duration": 496,
    "start_time": "2021-11-24T16:22:14.638Z"
   },
   {
    "duration": 23,
    "start_time": "2021-11-24T16:22:15.137Z"
   },
   {
    "duration": 30,
    "start_time": "2021-11-24T16:22:15.162Z"
   },
   {
    "duration": 26,
    "start_time": "2021-11-24T16:22:15.194Z"
   },
   {
    "duration": 515,
    "start_time": "2021-11-24T16:22:15.222Z"
   },
   {
    "duration": 75,
    "start_time": "2021-11-24T16:22:15.739Z"
   },
   {
    "duration": 71,
    "start_time": "2021-11-24T16:22:15.817Z"
   },
   {
    "duration": 42,
    "start_time": "2021-11-24T16:22:15.891Z"
   },
   {
    "duration": 64,
    "start_time": "2021-11-24T16:22:15.936Z"
   },
   {
    "duration": 48,
    "start_time": "2021-11-24T16:22:16.003Z"
   },
   {
    "duration": 33,
    "start_time": "2021-11-24T16:22:16.053Z"
   },
   {
    "duration": 10,
    "start_time": "2021-11-24T16:22:16.089Z"
   },
   {
    "duration": 17781,
    "start_time": "2021-11-24T16:22:16.102Z"
   },
   {
    "duration": 48,
    "start_time": "2021-11-24T16:23:06.089Z"
   },
   {
    "duration": 52,
    "start_time": "2021-11-24T17:11:53.395Z"
   },
   {
    "duration": 12,
    "start_time": "2021-11-24T17:12:47.798Z"
   },
   {
    "duration": 7,
    "start_time": "2021-11-24T17:12:56.430Z"
   },
   {
    "duration": 70,
    "start_time": "2021-11-24T17:13:15.843Z"
   },
   {
    "duration": 3,
    "start_time": "2021-11-24T17:13:15.916Z"
   },
   {
    "duration": 661,
    "start_time": "2021-11-24T17:13:15.922Z"
   },
   {
    "duration": 18,
    "start_time": "2021-11-24T17:13:16.585Z"
   },
   {
    "duration": 14,
    "start_time": "2021-11-24T17:13:16.605Z"
   },
   {
    "duration": 40,
    "start_time": "2021-11-24T17:13:16.622Z"
   },
   {
    "duration": 23,
    "start_time": "2021-11-24T17:13:16.668Z"
   },
   {
    "duration": 27,
    "start_time": "2021-11-24T17:13:16.694Z"
   },
   {
    "duration": 33,
    "start_time": "2021-11-24T17:13:16.724Z"
   },
   {
    "duration": 56,
    "start_time": "2021-11-24T17:13:16.760Z"
   },
   {
    "duration": 170,
    "start_time": "2021-11-24T17:13:16.819Z"
   },
   {
    "duration": 450,
    "start_time": "2021-11-24T17:13:16.992Z"
   },
   {
    "duration": 36,
    "start_time": "2021-11-24T17:13:17.445Z"
   },
   {
    "duration": 31,
    "start_time": "2021-11-24T17:13:17.484Z"
   },
   {
    "duration": 21,
    "start_time": "2021-11-24T17:13:17.518Z"
   },
   {
    "duration": 48,
    "start_time": "2021-11-24T17:13:17.542Z"
   },
   {
    "duration": 70,
    "start_time": "2021-11-24T17:13:17.593Z"
   },
   {
    "duration": 16,
    "start_time": "2021-11-24T17:13:17.683Z"
   },
   {
    "duration": 23,
    "start_time": "2021-11-24T17:13:17.702Z"
   },
   {
    "duration": 76,
    "start_time": "2021-11-24T17:13:17.727Z"
   },
   {
    "duration": 60,
    "start_time": "2021-11-24T17:13:17.805Z"
   },
   {
    "duration": 523,
    "start_time": "2021-11-24T17:13:17.882Z"
   },
   {
    "duration": 19,
    "start_time": "2021-11-24T17:13:18.408Z"
   },
   {
    "duration": 4,
    "start_time": "2021-11-24T17:13:18.430Z"
   },
   {
    "duration": 50,
    "start_time": "2021-11-24T17:13:18.436Z"
   },
   {
    "duration": 12,
    "start_time": "2021-11-24T17:13:18.488Z"
   },
   {
    "duration": 9,
    "start_time": "2021-11-24T17:13:18.503Z"
   },
   {
    "duration": 15,
    "start_time": "2021-11-24T17:13:18.515Z"
   },
   {
    "duration": 49,
    "start_time": "2021-11-24T17:13:18.533Z"
   },
   {
    "duration": 19,
    "start_time": "2021-11-24T17:13:18.586Z"
   },
   {
    "duration": 28,
    "start_time": "2021-11-24T17:13:18.607Z"
   },
   {
    "duration": 505,
    "start_time": "2021-11-24T17:13:18.638Z"
   },
   {
    "duration": 38,
    "start_time": "2021-11-24T17:13:19.145Z"
   },
   {
    "duration": 19,
    "start_time": "2021-11-24T17:13:19.185Z"
   },
   {
    "duration": 30,
    "start_time": "2021-11-24T17:13:19.208Z"
   },
   {
    "duration": 564,
    "start_time": "2021-11-24T17:13:19.241Z"
   },
   {
    "duration": 81,
    "start_time": "2021-11-24T17:13:19.808Z"
   },
   {
    "duration": 118,
    "start_time": "2021-11-24T17:13:19.892Z"
   },
   {
    "duration": 45,
    "start_time": "2021-11-24T17:13:20.012Z"
   },
   {
    "duration": 68,
    "start_time": "2021-11-24T17:13:20.060Z"
   },
   {
    "duration": 175,
    "start_time": "2021-11-24T17:13:20.130Z"
   },
   {
    "duration": 16,
    "start_time": "2021-11-24T17:13:20.308Z"
   },
   {
    "duration": 11,
    "start_time": "2021-11-24T17:13:20.327Z"
   },
   {
    "duration": 18332,
    "start_time": "2021-11-24T17:13:20.340Z"
   },
   {
    "duration": 12,
    "start_time": "2021-11-24T17:13:50.995Z"
   },
   {
    "duration": 4,
    "start_time": "2021-11-24T17:14:10.463Z"
   },
   {
    "duration": 729,
    "start_time": "2021-11-24T17:14:10.474Z"
   },
   {
    "duration": 18,
    "start_time": "2021-11-24T17:14:11.206Z"
   },
   {
    "duration": 11,
    "start_time": "2021-11-24T17:14:11.227Z"
   },
   {
    "duration": 52,
    "start_time": "2021-11-24T17:14:11.241Z"
   },
   {
    "duration": 17,
    "start_time": "2021-11-24T17:14:11.296Z"
   },
   {
    "duration": 15,
    "start_time": "2021-11-24T17:14:11.316Z"
   },
   {
    "duration": 57,
    "start_time": "2021-11-24T17:14:11.334Z"
   },
   {
    "duration": 41,
    "start_time": "2021-11-24T17:14:11.395Z"
   },
   {
    "duration": 143,
    "start_time": "2021-11-24T17:14:11.440Z"
   },
   {
    "duration": 489,
    "start_time": "2021-11-24T17:14:11.586Z"
   },
   {
    "duration": 22,
    "start_time": "2021-11-24T17:14:12.081Z"
   },
   {
    "duration": 28,
    "start_time": "2021-11-24T17:14:12.106Z"
   },
   {
    "duration": 10,
    "start_time": "2021-11-24T17:14:12.137Z"
   },
   {
    "duration": 49,
    "start_time": "2021-11-24T17:14:12.150Z"
   },
   {
    "duration": 102,
    "start_time": "2021-11-24T17:14:12.203Z"
   },
   {
    "duration": 12,
    "start_time": "2021-11-24T17:14:12.308Z"
   },
   {
    "duration": 25,
    "start_time": "2021-11-24T17:14:12.323Z"
   },
   {
    "duration": 70,
    "start_time": "2021-11-24T17:14:12.351Z"
   },
   {
    "duration": 95,
    "start_time": "2021-11-24T17:14:12.424Z"
   },
   {
    "duration": 645,
    "start_time": "2021-11-24T17:14:12.522Z"
   },
   {
    "duration": 26,
    "start_time": "2021-11-24T17:14:13.170Z"
   },
   {
    "duration": 4,
    "start_time": "2021-11-24T17:14:13.199Z"
   },
   {
    "duration": 20,
    "start_time": "2021-11-24T17:14:13.210Z"
   },
   {
    "duration": 14,
    "start_time": "2021-11-24T17:14:13.233Z"
   },
   {
    "duration": 37,
    "start_time": "2021-11-24T17:14:13.249Z"
   },
   {
    "duration": 17,
    "start_time": "2021-11-24T17:14:13.289Z"
   },
   {
    "duration": 21,
    "start_time": "2021-11-24T17:14:13.309Z"
   },
   {
    "duration": 21,
    "start_time": "2021-11-24T17:14:13.333Z"
   },
   {
    "duration": 37,
    "start_time": "2021-11-24T17:14:13.381Z"
   },
   {
    "duration": 520,
    "start_time": "2021-11-24T17:14:13.420Z"
   },
   {
    "duration": 23,
    "start_time": "2021-11-24T17:14:13.943Z"
   },
   {
    "duration": 21,
    "start_time": "2021-11-24T17:14:13.983Z"
   },
   {
    "duration": 28,
    "start_time": "2021-11-24T17:14:14.007Z"
   },
   {
    "duration": 548,
    "start_time": "2021-11-24T17:14:14.037Z"
   },
   {
    "duration": 66,
    "start_time": "2021-11-24T17:14:14.588Z"
   },
   {
    "duration": 85,
    "start_time": "2021-11-24T17:14:14.657Z"
   },
   {
    "duration": 61,
    "start_time": "2021-11-24T17:14:14.745Z"
   },
   {
    "duration": 35,
    "start_time": "2021-11-24T17:14:14.808Z"
   },
   {
    "duration": 81,
    "start_time": "2021-11-24T17:14:14.845Z"
   },
   {
    "duration": 11,
    "start_time": "2021-11-24T17:14:14.928Z"
   },
   {
    "duration": 397,
    "start_time": "2021-11-24T17:17:42.782Z"
   },
   {
    "duration": 13,
    "start_time": "2021-11-24T17:18:07.956Z"
   },
   {
    "duration": 20,
    "start_time": "2021-11-24T17:18:15.876Z"
   },
   {
    "duration": 16,
    "start_time": "2021-11-24T17:18:54.914Z"
   },
   {
    "duration": 8,
    "start_time": "2021-11-24T17:18:58.268Z"
   },
   {
    "duration": 17686,
    "start_time": "2021-11-24T17:18:58.560Z"
   },
   {
    "duration": 5,
    "start_time": "2021-11-24T17:19:16.374Z"
   },
   {
    "duration": 693,
    "start_time": "2021-11-24T17:19:16.382Z"
   },
   {
    "duration": 17,
    "start_time": "2021-11-24T17:19:17.078Z"
   },
   {
    "duration": 13,
    "start_time": "2021-11-24T17:19:17.099Z"
   },
   {
    "duration": 33,
    "start_time": "2021-11-24T17:19:17.115Z"
   },
   {
    "duration": 37,
    "start_time": "2021-11-24T17:19:17.151Z"
   },
   {
    "duration": 14,
    "start_time": "2021-11-24T17:19:17.193Z"
   },
   {
    "duration": 25,
    "start_time": "2021-11-24T17:19:17.210Z"
   },
   {
    "duration": 70,
    "start_time": "2021-11-24T17:19:17.237Z"
   },
   {
    "duration": 177,
    "start_time": "2021-11-24T17:19:17.310Z"
   },
   {
    "duration": 517,
    "start_time": "2021-11-24T17:19:17.490Z"
   },
   {
    "duration": 19,
    "start_time": "2021-11-24T17:19:18.009Z"
   },
   {
    "duration": 25,
    "start_time": "2021-11-24T17:19:18.030Z"
   },
   {
    "duration": 12,
    "start_time": "2021-11-24T17:19:18.083Z"
   },
   {
    "duration": 22,
    "start_time": "2021-11-24T17:19:18.098Z"
   },
   {
    "duration": 89,
    "start_time": "2021-11-24T17:19:18.123Z"
   },
   {
    "duration": 13,
    "start_time": "2021-11-24T17:19:18.214Z"
   },
   {
    "duration": 18,
    "start_time": "2021-11-24T17:19:18.230Z"
   },
   {
    "duration": 68,
    "start_time": "2021-11-24T17:19:18.253Z"
   },
   {
    "duration": 91,
    "start_time": "2021-11-24T17:19:18.324Z"
   },
   {
    "duration": 609,
    "start_time": "2021-11-24T17:19:18.417Z"
   },
   {
    "duration": 15,
    "start_time": "2021-11-24T17:19:19.028Z"
   },
   {
    "duration": 3,
    "start_time": "2021-11-24T17:19:19.046Z"
   },
   {
    "duration": 45,
    "start_time": "2021-11-24T17:19:19.051Z"
   },
   {
    "duration": 23,
    "start_time": "2021-11-24T17:19:19.099Z"
   },
   {
    "duration": 8,
    "start_time": "2021-11-24T17:19:19.125Z"
   },
   {
    "duration": 12,
    "start_time": "2021-11-24T17:19:19.136Z"
   },
   {
    "duration": 38,
    "start_time": "2021-11-24T17:19:19.151Z"
   },
   {
    "duration": 21,
    "start_time": "2021-11-24T17:19:19.192Z"
   },
   {
    "duration": 27,
    "start_time": "2021-11-24T17:19:19.216Z"
   },
   {
    "duration": 497,
    "start_time": "2021-11-24T17:19:19.246Z"
   },
   {
    "duration": 38,
    "start_time": "2021-11-24T17:19:19.746Z"
   },
   {
    "duration": 19,
    "start_time": "2021-11-24T17:19:19.786Z"
   },
   {
    "duration": 39,
    "start_time": "2021-11-24T17:19:19.808Z"
   },
   {
    "duration": 535,
    "start_time": "2021-11-24T17:19:19.850Z"
   },
   {
    "duration": 71,
    "start_time": "2021-11-24T17:19:20.388Z"
   },
   {
    "duration": 97,
    "start_time": "2021-11-24T17:19:20.462Z"
   },
   {
    "duration": 65,
    "start_time": "2021-11-24T17:19:20.561Z"
   },
   {
    "duration": 56,
    "start_time": "2021-11-24T17:19:20.628Z"
   },
   {
    "duration": 171,
    "start_time": "2021-11-24T17:19:20.686Z"
   },
   {
    "duration": 30,
    "start_time": "2021-11-24T17:19:20.859Z"
   },
   {
    "duration": 9,
    "start_time": "2021-11-24T17:19:20.891Z"
   },
   {
    "duration": 18845,
    "start_time": "2021-11-24T17:19:20.903Z"
   },
   {
    "duration": 62,
    "start_time": "2021-11-24T17:19:39.750Z"
   },
   {
    "duration": 49,
    "start_time": "2021-11-24T17:25:27.840Z"
   },
   {
    "duration": 62,
    "start_time": "2021-11-24T17:25:34.097Z"
   },
   {
    "duration": 65,
    "start_time": "2021-11-24T17:26:14.582Z"
   },
   {
    "duration": 4,
    "start_time": "2021-11-24T17:26:54.596Z"
   },
   {
    "duration": 685,
    "start_time": "2021-11-24T17:26:54.607Z"
   },
   {
    "duration": 17,
    "start_time": "2021-11-24T17:26:55.295Z"
   },
   {
    "duration": 25,
    "start_time": "2021-11-24T17:26:55.316Z"
   },
   {
    "duration": 43,
    "start_time": "2021-11-24T17:26:55.343Z"
   },
   {
    "duration": 10,
    "start_time": "2021-11-24T17:26:55.389Z"
   },
   {
    "duration": 15,
    "start_time": "2021-11-24T17:26:55.401Z"
   },
   {
    "duration": 25,
    "start_time": "2021-11-24T17:26:55.418Z"
   },
   {
    "duration": 89,
    "start_time": "2021-11-24T17:26:55.447Z"
   },
   {
    "duration": 166,
    "start_time": "2021-11-24T17:26:55.540Z"
   },
   {
    "duration": 676,
    "start_time": "2021-11-24T17:26:55.709Z"
   },
   {
    "duration": 22,
    "start_time": "2021-11-24T17:26:56.388Z"
   },
   {
    "duration": 35,
    "start_time": "2021-11-24T17:26:56.413Z"
   },
   {
    "duration": 41,
    "start_time": "2021-11-24T17:26:56.451Z"
   },
   {
    "duration": 17,
    "start_time": "2021-11-24T17:26:56.495Z"
   },
   {
    "duration": 76,
    "start_time": "2021-11-24T17:26:56.515Z"
   },
   {
    "duration": 18,
    "start_time": "2021-11-24T17:26:56.593Z"
   },
   {
    "duration": 16,
    "start_time": "2021-11-24T17:26:56.614Z"
   },
   {
    "duration": 75,
    "start_time": "2021-11-24T17:26:56.632Z"
   },
   {
    "duration": 86,
    "start_time": "2021-11-24T17:26:56.710Z"
   },
   {
    "duration": 740,
    "start_time": "2021-11-24T17:26:56.799Z"
   },
   {
    "duration": 18,
    "start_time": "2021-11-24T17:26:57.542Z"
   },
   {
    "duration": 21,
    "start_time": "2021-11-24T17:26:57.563Z"
   },
   {
    "duration": 18,
    "start_time": "2021-11-24T17:26:57.590Z"
   },
   {
    "duration": 10,
    "start_time": "2021-11-24T17:26:57.613Z"
   },
   {
    "duration": 12,
    "start_time": "2021-11-24T17:26:57.625Z"
   },
   {
    "duration": 44,
    "start_time": "2021-11-24T17:26:57.639Z"
   },
   {
    "duration": 14,
    "start_time": "2021-11-24T17:26:57.687Z"
   },
   {
    "duration": 21,
    "start_time": "2021-11-24T17:26:57.704Z"
   },
   {
    "duration": 67,
    "start_time": "2021-11-24T17:26:57.727Z"
   },
   {
    "duration": 485,
    "start_time": "2021-11-24T17:26:57.796Z"
   },
   {
    "duration": 24,
    "start_time": "2021-11-24T17:26:58.284Z"
   },
   {
    "duration": 18,
    "start_time": "2021-11-24T17:26:58.311Z"
   },
   {
    "duration": 63,
    "start_time": "2021-11-24T17:26:58.332Z"
   },
   {
    "duration": 543,
    "start_time": "2021-11-24T17:26:58.398Z"
   },
   {
    "duration": 83,
    "start_time": "2021-11-24T17:26:58.944Z"
   },
   {
    "duration": 78,
    "start_time": "2021-11-24T17:26:59.030Z"
   },
   {
    "duration": 42,
    "start_time": "2021-11-24T17:26:59.111Z"
   },
   {
    "duration": 70,
    "start_time": "2021-11-24T17:26:59.156Z"
   },
   {
    "duration": 87,
    "start_time": "2021-11-24T17:26:59.230Z"
   },
   {
    "duration": 17,
    "start_time": "2021-11-24T17:26:59.321Z"
   },
   {
    "duration": 8,
    "start_time": "2021-11-24T17:26:59.340Z"
   },
   {
    "duration": 18420,
    "start_time": "2021-11-24T17:26:59.351Z"
   },
   {
    "duration": 65,
    "start_time": "2021-11-24T17:27:33.449Z"
   },
   {
    "duration": 62,
    "start_time": "2021-11-24T17:27:34.509Z"
   },
   {
    "duration": 69,
    "start_time": "2021-11-24T17:27:38.897Z"
   },
   {
    "duration": 62,
    "start_time": "2021-11-24T17:28:04.624Z"
   },
   {
    "duration": 73,
    "start_time": "2021-11-24T17:28:05.432Z"
   },
   {
    "duration": 5,
    "start_time": "2021-11-24T17:28:37.245Z"
   },
   {
    "duration": 718,
    "start_time": "2021-11-24T17:28:37.252Z"
   },
   {
    "duration": 15,
    "start_time": "2021-11-24T17:28:37.973Z"
   },
   {
    "duration": 14,
    "start_time": "2021-11-24T17:28:37.993Z"
   },
   {
    "duration": 27,
    "start_time": "2021-11-24T17:28:38.010Z"
   },
   {
    "duration": 8,
    "start_time": "2021-11-24T17:28:38.039Z"
   },
   {
    "duration": 44,
    "start_time": "2021-11-24T17:28:38.050Z"
   },
   {
    "duration": 24,
    "start_time": "2021-11-24T17:28:38.097Z"
   },
   {
    "duration": 74,
    "start_time": "2021-11-24T17:28:38.125Z"
   },
   {
    "duration": 124,
    "start_time": "2021-11-24T17:28:38.202Z"
   },
   {
    "duration": 456,
    "start_time": "2021-11-24T17:28:38.329Z"
   },
   {
    "duration": 24,
    "start_time": "2021-11-24T17:28:38.788Z"
   },
   {
    "duration": 23,
    "start_time": "2021-11-24T17:28:38.815Z"
   },
   {
    "duration": 41,
    "start_time": "2021-11-24T17:28:38.841Z"
   },
   {
    "duration": 17,
    "start_time": "2021-11-24T17:28:38.884Z"
   },
   {
    "duration": 78,
    "start_time": "2021-11-24T17:28:38.904Z"
   },
   {
    "duration": 15,
    "start_time": "2021-11-24T17:28:38.985Z"
   },
   {
    "duration": 23,
    "start_time": "2021-11-24T17:28:39.003Z"
   },
   {
    "duration": 73,
    "start_time": "2021-11-24T17:28:39.029Z"
   },
   {
    "duration": 60,
    "start_time": "2021-11-24T17:28:39.105Z"
   },
   {
    "duration": 506,
    "start_time": "2021-11-24T17:28:39.167Z"
   },
   {
    "duration": 23,
    "start_time": "2021-11-24T17:28:39.676Z"
   },
   {
    "duration": 4,
    "start_time": "2021-11-24T17:28:39.702Z"
   },
   {
    "duration": 17,
    "start_time": "2021-11-24T17:28:39.709Z"
   },
   {
    "duration": 17,
    "start_time": "2021-11-24T17:28:39.729Z"
   },
   {
    "duration": 8,
    "start_time": "2021-11-24T17:28:39.782Z"
   },
   {
    "duration": 14,
    "start_time": "2021-11-24T17:28:39.797Z"
   },
   {
    "duration": 13,
    "start_time": "2021-11-24T17:28:39.814Z"
   },
   {
    "duration": 61,
    "start_time": "2021-11-24T17:28:39.829Z"
   },
   {
    "duration": 29,
    "start_time": "2021-11-24T17:28:39.893Z"
   },
   {
    "duration": 489,
    "start_time": "2021-11-24T17:28:39.925Z"
   },
   {
    "duration": 20,
    "start_time": "2021-11-24T17:28:40.417Z"
   },
   {
    "duration": 16,
    "start_time": "2021-11-24T17:28:40.440Z"
   },
   {
    "duration": 52,
    "start_time": "2021-11-24T17:28:40.458Z"
   },
   {
    "duration": 532,
    "start_time": "2021-11-24T17:28:40.513Z"
   },
   {
    "duration": 78,
    "start_time": "2021-11-24T17:28:41.048Z"
   },
   {
    "duration": 80,
    "start_time": "2021-11-24T17:28:41.129Z"
   },
   {
    "duration": 42,
    "start_time": "2021-11-24T17:28:41.212Z"
   },
   {
    "duration": 62,
    "start_time": "2021-11-24T17:28:41.257Z"
   },
   {
    "duration": 179,
    "start_time": "2021-11-24T17:28:41.322Z"
   },
   {
    "duration": 16,
    "start_time": "2021-11-24T17:28:41.503Z"
   },
   {
    "duration": 10,
    "start_time": "2021-11-24T17:28:41.522Z"
   },
   {
    "duration": 25238,
    "start_time": "2021-11-24T17:29:05.948Z"
   },
   {
    "duration": 614,
    "start_time": "2021-11-24T17:29:54.984Z"
   },
   {
    "duration": 495,
    "start_time": "2021-11-24T17:30:06.431Z"
   },
   {
    "duration": 73,
    "start_time": "2021-11-24T17:30:16.294Z"
   },
   {
    "duration": 4,
    "start_time": "2021-11-24T17:30:29.288Z"
   },
   {
    "duration": 617,
    "start_time": "2021-11-24T17:30:29.298Z"
   },
   {
    "duration": 15,
    "start_time": "2021-11-24T17:30:29.918Z"
   },
   {
    "duration": 9,
    "start_time": "2021-11-24T17:30:29.936Z"
   },
   {
    "duration": 26,
    "start_time": "2021-11-24T17:30:29.948Z"
   },
   {
    "duration": 15,
    "start_time": "2021-11-24T17:30:29.976Z"
   },
   {
    "duration": 12,
    "start_time": "2021-11-24T17:30:29.993Z"
   },
   {
    "duration": 40,
    "start_time": "2021-11-24T17:30:30.007Z"
   },
   {
    "duration": 78,
    "start_time": "2021-11-24T17:30:30.053Z"
   },
   {
    "duration": 163,
    "start_time": "2021-11-24T17:30:30.135Z"
   },
   {
    "duration": 431,
    "start_time": "2021-11-24T17:30:30.301Z"
   },
   {
    "duration": 18,
    "start_time": "2021-11-24T17:30:30.734Z"
   },
   {
    "duration": 48,
    "start_time": "2021-11-24T17:30:30.755Z"
   },
   {
    "duration": 13,
    "start_time": "2021-11-24T17:30:30.806Z"
   },
   {
    "duration": 29,
    "start_time": "2021-11-24T17:30:30.822Z"
   },
   {
    "duration": 58,
    "start_time": "2021-11-24T17:30:30.883Z"
   },
   {
    "duration": 12,
    "start_time": "2021-11-24T17:30:30.943Z"
   },
   {
    "duration": 33,
    "start_time": "2021-11-24T17:30:30.958Z"
   },
   {
    "duration": 38,
    "start_time": "2021-11-24T17:30:30.993Z"
   },
   {
    "duration": 90,
    "start_time": "2021-11-24T17:30:31.034Z"
   },
   {
    "duration": 495,
    "start_time": "2021-11-24T17:30:31.126Z"
   },
   {
    "duration": 13,
    "start_time": "2021-11-24T17:30:31.623Z"
   },
   {
    "duration": 2,
    "start_time": "2021-11-24T17:30:31.639Z"
   },
   {
    "duration": 41,
    "start_time": "2021-11-24T17:30:31.646Z"
   },
   {
    "duration": 16,
    "start_time": "2021-11-24T17:30:31.690Z"
   },
   {
    "duration": 24,
    "start_time": "2021-11-24T17:30:31.708Z"
   },
   {
    "duration": 24,
    "start_time": "2021-11-24T17:30:31.734Z"
   },
   {
    "duration": 23,
    "start_time": "2021-11-24T17:30:31.760Z"
   },
   {
    "duration": 17,
    "start_time": "2021-11-24T17:30:31.785Z"
   },
   {
    "duration": 27,
    "start_time": "2021-11-24T17:30:31.804Z"
   },
   {
    "duration": 490,
    "start_time": "2021-11-24T17:30:31.834Z"
   },
   {
    "duration": 23,
    "start_time": "2021-11-24T17:30:32.326Z"
   },
   {
    "duration": 38,
    "start_time": "2021-11-24T17:30:32.351Z"
   },
   {
    "duration": 27,
    "start_time": "2021-11-24T17:30:32.391Z"
   },
   {
    "duration": 533,
    "start_time": "2021-11-24T17:30:32.423Z"
   },
   {
    "duration": 77,
    "start_time": "2021-11-24T17:30:32.959Z"
   },
   {
    "duration": 429,
    "start_time": "2021-11-24T17:31:48.628Z"
   },
   {
    "duration": 632,
    "start_time": "2021-11-24T17:31:53.650Z"
   },
   {
    "duration": 450,
    "start_time": "2021-11-24T17:32:00.811Z"
   },
   {
    "duration": 396,
    "start_time": "2021-11-24T17:32:09.120Z"
   },
   {
    "duration": 578,
    "start_time": "2021-11-24T17:32:14.324Z"
   },
   {
    "duration": 357,
    "start_time": "2021-11-24T17:32:26.000Z"
   },
   {
    "duration": 340,
    "start_time": "2021-11-24T17:32:30.418Z"
   },
   {
    "duration": 408,
    "start_time": "2021-11-24T17:32:35.151Z"
   },
   {
    "duration": 476,
    "start_time": "2021-11-24T17:32:40.816Z"
   },
   {
    "duration": 5,
    "start_time": "2021-11-24T18:25:36.215Z"
   },
   {
    "duration": 870,
    "start_time": "2021-11-24T18:25:36.224Z"
   },
   {
    "duration": 39,
    "start_time": "2021-11-24T18:25:37.098Z"
   },
   {
    "duration": 25,
    "start_time": "2021-11-24T18:25:37.140Z"
   },
   {
    "duration": 49,
    "start_time": "2021-11-24T18:25:37.168Z"
   },
   {
    "duration": 21,
    "start_time": "2021-11-24T18:25:37.220Z"
   },
   {
    "duration": 12,
    "start_time": "2021-11-24T18:25:37.244Z"
   },
   {
    "duration": 30,
    "start_time": "2021-11-24T18:25:37.259Z"
   },
   {
    "duration": 41,
    "start_time": "2021-11-24T18:25:37.295Z"
   },
   {
    "duration": 130,
    "start_time": "2021-11-24T18:25:37.340Z"
   },
   {
    "duration": 425,
    "start_time": "2021-11-24T18:25:37.473Z"
   },
   {
    "duration": 20,
    "start_time": "2021-11-24T18:25:37.901Z"
   },
   {
    "duration": 25,
    "start_time": "2021-11-24T18:25:37.924Z"
   },
   {
    "duration": 37,
    "start_time": "2021-11-24T18:25:37.951Z"
   },
   {
    "duration": 21,
    "start_time": "2021-11-24T18:25:37.990Z"
   },
   {
    "duration": 87,
    "start_time": "2021-11-24T18:25:38.013Z"
   },
   {
    "duration": 12,
    "start_time": "2021-11-24T18:25:38.103Z"
   },
   {
    "duration": 23,
    "start_time": "2021-11-24T18:25:38.117Z"
   },
   {
    "duration": 61,
    "start_time": "2021-11-24T18:25:38.143Z"
   },
   {
    "duration": 57,
    "start_time": "2021-11-24T18:25:38.206Z"
   },
   {
    "duration": 466,
    "start_time": "2021-11-24T18:25:38.282Z"
   },
   {
    "duration": 14,
    "start_time": "2021-11-24T18:25:38.750Z"
   },
   {
    "duration": 4,
    "start_time": "2021-11-24T18:25:38.782Z"
   },
   {
    "duration": 14,
    "start_time": "2021-11-24T18:25:38.791Z"
   },
   {
    "duration": 17,
    "start_time": "2021-11-24T18:25:38.809Z"
   },
   {
    "duration": 7,
    "start_time": "2021-11-24T18:25:38.828Z"
   },
   {
    "duration": 16,
    "start_time": "2021-11-24T18:25:38.837Z"
   },
   {
    "duration": 10,
    "start_time": "2021-11-24T18:25:38.882Z"
   },
   {
    "duration": 16,
    "start_time": "2021-11-24T18:25:38.894Z"
   },
   {
    "duration": 25,
    "start_time": "2021-11-24T18:25:38.913Z"
   },
   {
    "duration": 499,
    "start_time": "2021-11-24T18:25:38.940Z"
   },
   {
    "duration": 24,
    "start_time": "2021-11-24T18:25:39.441Z"
   },
   {
    "duration": 22,
    "start_time": "2021-11-24T18:25:39.483Z"
   },
   {
    "duration": 33,
    "start_time": "2021-11-24T18:25:39.508Z"
   },
   {
    "duration": 891,
    "start_time": "2021-11-24T18:25:39.544Z"
   },
   {
    "duration": 432,
    "start_time": "2021-11-24T18:30:28.207Z"
   },
   {
    "duration": 423,
    "start_time": "2021-11-24T18:30:33.786Z"
   },
   {
    "duration": 445,
    "start_time": "2021-11-24T18:30:37.966Z"
   },
   {
    "duration": 424,
    "start_time": "2021-11-24T18:30:48.869Z"
   },
   {
    "duration": 62,
    "start_time": "2021-11-24T18:31:35.326Z"
   },
   {
    "duration": 5,
    "start_time": "2021-11-24T18:31:53.936Z"
   },
   {
    "duration": 750,
    "start_time": "2021-11-24T18:31:53.945Z"
   },
   {
    "duration": 24,
    "start_time": "2021-11-24T18:31:54.699Z"
   },
   {
    "duration": 13,
    "start_time": "2021-11-24T18:31:54.728Z"
   },
   {
    "duration": 73,
    "start_time": "2021-11-24T18:31:54.744Z"
   },
   {
    "duration": 13,
    "start_time": "2021-11-24T18:31:54.821Z"
   },
   {
    "duration": 45,
    "start_time": "2021-11-24T18:31:54.838Z"
   },
   {
    "duration": 31,
    "start_time": "2021-11-24T18:31:54.887Z"
   },
   {
    "duration": 87,
    "start_time": "2021-11-24T18:31:54.925Z"
   },
   {
    "duration": 201,
    "start_time": "2021-11-24T18:31:55.016Z"
   },
   {
    "duration": 657,
    "start_time": "2021-11-24T18:31:55.220Z"
   },
   {
    "duration": 24,
    "start_time": "2021-11-24T18:31:55.881Z"
   },
   {
    "duration": 29,
    "start_time": "2021-11-24T18:31:55.908Z"
   },
   {
    "duration": 46,
    "start_time": "2021-11-24T18:31:55.940Z"
   },
   {
    "duration": 26,
    "start_time": "2021-11-24T18:31:55.988Z"
   },
   {
    "duration": 79,
    "start_time": "2021-11-24T18:31:56.017Z"
   },
   {
    "duration": 17,
    "start_time": "2021-11-24T18:31:56.099Z"
   },
   {
    "duration": 26,
    "start_time": "2021-11-24T18:31:56.119Z"
   },
   {
    "duration": 64,
    "start_time": "2021-11-24T18:31:56.147Z"
   },
   {
    "duration": 82,
    "start_time": "2021-11-24T18:31:56.214Z"
   },
   {
    "duration": 528,
    "start_time": "2021-11-24T18:31:56.299Z"
   },
   {
    "duration": 22,
    "start_time": "2021-11-24T18:31:56.830Z"
   },
   {
    "duration": 30,
    "start_time": "2021-11-24T18:31:56.855Z"
   },
   {
    "duration": 33,
    "start_time": "2021-11-24T18:31:56.893Z"
   },
   {
    "duration": 13,
    "start_time": "2021-11-24T18:31:56.930Z"
   },
   {
    "duration": 10,
    "start_time": "2021-11-24T18:31:56.947Z"
   },
   {
    "duration": 70,
    "start_time": "2021-11-24T18:31:56.984Z"
   },
   {
    "duration": 20,
    "start_time": "2021-11-24T18:31:57.058Z"
   },
   {
    "duration": 35,
    "start_time": "2021-11-24T18:31:57.081Z"
   },
   {
    "duration": 33,
    "start_time": "2021-11-24T18:31:57.119Z"
   },
   {
    "duration": 578,
    "start_time": "2021-11-24T18:31:57.155Z"
   },
   {
    "duration": 28,
    "start_time": "2021-11-24T18:31:57.735Z"
   },
   {
    "duration": 24,
    "start_time": "2021-11-24T18:31:57.781Z"
   },
   {
    "duration": 35,
    "start_time": "2021-11-24T18:31:57.809Z"
   },
   {
    "duration": 493,
    "start_time": "2021-11-24T18:31:57.846Z"
   },
   {
    "duration": 80,
    "start_time": "2021-11-24T18:31:58.341Z"
   },
   {
    "duration": 40,
    "start_time": "2021-11-24T18:39:43.127Z"
   },
   {
    "duration": 44,
    "start_time": "2021-11-24T18:40:15.238Z"
   },
   {
    "duration": 525,
    "start_time": "2021-11-24T18:40:20.647Z"
   },
   {
    "duration": 36,
    "start_time": "2021-11-24T18:40:39.160Z"
   },
   {
    "duration": 428,
    "start_time": "2021-11-24T18:40:40.843Z"
   },
   {
    "duration": 474,
    "start_time": "2021-11-24T18:40:45.822Z"
   },
   {
    "duration": 434,
    "start_time": "2021-11-24T18:40:50.093Z"
   },
   {
    "duration": 21,
    "start_time": "2021-11-24T18:40:55.803Z"
   },
   {
    "duration": 17,
    "start_time": "2021-11-24T18:40:57.105Z"
   },
   {
    "duration": 32,
    "start_time": "2021-11-24T18:40:58.772Z"
   },
   {
    "duration": 482,
    "start_time": "2021-11-24T18:40:58.806Z"
   },
   {
    "duration": 63,
    "start_time": "2021-11-24T18:41:00.479Z"
   },
   {
    "duration": 56,
    "start_time": "2021-11-24T18:41:03.921Z"
   },
   {
    "duration": 41,
    "start_time": "2021-11-24T18:41:04.837Z"
   },
   {
    "duration": 4,
    "start_time": "2021-11-24T18:41:20.090Z"
   },
   {
    "duration": 631,
    "start_time": "2021-11-24T18:41:20.098Z"
   },
   {
    "duration": 16,
    "start_time": "2021-11-24T18:41:20.732Z"
   },
   {
    "duration": 13,
    "start_time": "2021-11-24T18:41:20.751Z"
   },
   {
    "duration": 30,
    "start_time": "2021-11-24T18:41:20.767Z"
   },
   {
    "duration": 11,
    "start_time": "2021-11-24T18:41:20.800Z"
   },
   {
    "duration": 12,
    "start_time": "2021-11-24T18:41:20.816Z"
   },
   {
    "duration": 57,
    "start_time": "2021-11-24T18:41:20.832Z"
   },
   {
    "duration": 40,
    "start_time": "2021-11-24T18:41:20.891Z"
   },
   {
    "duration": 132,
    "start_time": "2021-11-24T18:41:20.933Z"
   },
   {
    "duration": 414,
    "start_time": "2021-11-24T18:41:21.068Z"
   },
   {
    "duration": 19,
    "start_time": "2021-11-24T18:41:21.485Z"
   },
   {
    "duration": 23,
    "start_time": "2021-11-24T18:41:21.506Z"
   },
   {
    "duration": 10,
    "start_time": "2021-11-24T18:41:21.531Z"
   },
   {
    "duration": 50,
    "start_time": "2021-11-24T18:41:21.544Z"
   },
   {
    "duration": 51,
    "start_time": "2021-11-24T18:41:21.597Z"
   },
   {
    "duration": 34,
    "start_time": "2021-11-24T18:41:21.651Z"
   },
   {
    "duration": 17,
    "start_time": "2021-11-24T18:41:21.687Z"
   },
   {
    "duration": 75,
    "start_time": "2021-11-24T18:41:21.711Z"
   },
   {
    "duration": 64,
    "start_time": "2021-11-24T18:41:21.790Z"
   },
   {
    "duration": 491,
    "start_time": "2021-11-24T18:41:21.857Z"
   },
   {
    "duration": 15,
    "start_time": "2021-11-24T18:41:22.350Z"
   },
   {
    "duration": 3,
    "start_time": "2021-11-24T18:41:22.382Z"
   },
   {
    "duration": 14,
    "start_time": "2021-11-24T18:41:22.387Z"
   },
   {
    "duration": 9,
    "start_time": "2021-11-24T18:41:22.403Z"
   },
   {
    "duration": 6,
    "start_time": "2021-11-24T18:41:22.415Z"
   },
   {
    "duration": 10,
    "start_time": "2021-11-24T18:41:22.424Z"
   },
   {
    "duration": 54,
    "start_time": "2021-11-24T18:41:22.437Z"
   },
   {
    "duration": 16,
    "start_time": "2021-11-24T18:41:22.493Z"
   },
   {
    "duration": 31,
    "start_time": "2021-11-24T18:41:22.512Z"
   },
   {
    "duration": 477,
    "start_time": "2021-11-24T18:41:22.546Z"
   },
   {
    "duration": 22,
    "start_time": "2021-11-24T18:41:23.026Z"
   },
   {
    "duration": 42,
    "start_time": "2021-11-24T18:41:23.050Z"
   },
   {
    "duration": 29,
    "start_time": "2021-11-24T18:41:23.094Z"
   },
   {
    "duration": 437,
    "start_time": "2021-11-24T18:41:23.125Z"
   },
   {
    "duration": 69,
    "start_time": "2021-11-24T18:41:23.564Z"
   },
   {
    "duration": 80,
    "start_time": "2021-11-24T18:41:23.635Z"
   },
   {
    "duration": 40,
    "start_time": "2021-11-24T18:41:23.718Z"
   },
   {
    "duration": 172,
    "start_time": "2021-11-24T18:41:23.760Z"
   },
   {
    "duration": 60,
    "start_time": "2021-11-24T18:41:23.935Z"
   },
   {
    "duration": 16,
    "start_time": "2021-11-24T18:41:31.908Z"
   },
   {
    "duration": 7,
    "start_time": "2021-11-24T18:41:37.713Z"
   },
   {
    "duration": 5,
    "start_time": "2021-11-24T18:41:58.625Z"
   },
   {
    "duration": 612,
    "start_time": "2021-11-24T18:41:58.632Z"
   },
   {
    "duration": 15,
    "start_time": "2021-11-24T18:41:59.247Z"
   },
   {
    "duration": 11,
    "start_time": "2021-11-24T18:41:59.264Z"
   },
   {
    "duration": 29,
    "start_time": "2021-11-24T18:41:59.278Z"
   },
   {
    "duration": 9,
    "start_time": "2021-11-24T18:41:59.309Z"
   },
   {
    "duration": 12,
    "start_time": "2021-11-24T18:41:59.323Z"
   },
   {
    "duration": 58,
    "start_time": "2021-11-24T18:41:59.338Z"
   },
   {
    "duration": 43,
    "start_time": "2021-11-24T18:41:59.399Z"
   },
   {
    "duration": 148,
    "start_time": "2021-11-24T18:41:59.445Z"
   },
   {
    "duration": 472,
    "start_time": "2021-11-24T18:41:59.596Z"
   },
   {
    "duration": 29,
    "start_time": "2021-11-24T18:42:00.072Z"
   },
   {
    "duration": 27,
    "start_time": "2021-11-24T18:42:00.104Z"
   },
   {
    "duration": 20,
    "start_time": "2021-11-24T18:42:00.135Z"
   },
   {
    "duration": 31,
    "start_time": "2021-11-24T18:42:00.182Z"
   },
   {
    "duration": 74,
    "start_time": "2021-11-24T18:42:00.216Z"
   },
   {
    "duration": 13,
    "start_time": "2021-11-24T18:42:00.292Z"
   },
   {
    "duration": 38,
    "start_time": "2021-11-24T18:42:00.308Z"
   },
   {
    "duration": 50,
    "start_time": "2021-11-24T18:42:00.349Z"
   },
   {
    "duration": 60,
    "start_time": "2021-11-24T18:42:00.403Z"
   },
   {
    "duration": 506,
    "start_time": "2021-11-24T18:42:00.483Z"
   },
   {
    "duration": 14,
    "start_time": "2021-11-24T18:42:00.994Z"
   },
   {
    "duration": 37,
    "start_time": "2021-11-24T18:42:01.011Z"
   },
   {
    "duration": 33,
    "start_time": "2021-11-24T18:42:01.051Z"
   },
   {
    "duration": 35,
    "start_time": "2021-11-24T18:42:01.087Z"
   },
   {
    "duration": 31,
    "start_time": "2021-11-24T18:42:01.124Z"
   },
   {
    "duration": 57,
    "start_time": "2021-11-24T18:42:01.157Z"
   },
   {
    "duration": 37,
    "start_time": "2021-11-24T18:42:01.217Z"
   },
   {
    "duration": 37,
    "start_time": "2021-11-24T18:42:01.257Z"
   },
   {
    "duration": 44,
    "start_time": "2021-11-24T18:42:01.296Z"
   },
   {
    "duration": 553,
    "start_time": "2021-11-24T18:42:01.343Z"
   },
   {
    "duration": 30,
    "start_time": "2021-11-24T18:42:01.900Z"
   },
   {
    "duration": 49,
    "start_time": "2021-11-24T18:42:01.933Z"
   },
   {
    "duration": 41,
    "start_time": "2021-11-24T18:42:01.985Z"
   },
   {
    "duration": 704,
    "start_time": "2021-11-24T18:42:02.029Z"
   },
   {
    "duration": 87,
    "start_time": "2021-11-24T18:42:02.736Z"
   },
   {
    "duration": 104,
    "start_time": "2021-11-24T18:42:02.826Z"
   },
   {
    "duration": 73,
    "start_time": "2021-11-24T18:42:02.933Z"
   },
   {
    "duration": 52,
    "start_time": "2021-11-24T18:42:03.009Z"
   },
   {
    "duration": 85,
    "start_time": "2021-11-24T18:42:03.063Z"
   },
   {
    "duration": 44,
    "start_time": "2021-11-24T18:42:03.151Z"
   },
   {
    "duration": 12,
    "start_time": "2021-11-24T18:42:03.198Z"
   },
   {
    "duration": 25796,
    "start_time": "2021-11-24T18:42:03.213Z"
   },
   {
    "duration": 325,
    "start_time": "2021-11-24T19:09:52.006Z"
   },
   {
    "duration": 17,
    "start_time": "2021-11-24T19:10:14.550Z"
   },
   {
    "duration": 19,
    "start_time": "2021-11-24T19:10:20.592Z"
   },
   {
    "duration": 327,
    "start_time": "2021-11-24T19:14:32.179Z"
   },
   {
    "duration": 310,
    "start_time": "2021-11-24T19:30:00.098Z"
   },
   {
    "duration": 10,
    "start_time": "2021-11-24T19:30:06.694Z"
   },
   {
    "duration": 12,
    "start_time": "2021-11-24T19:30:32.860Z"
   },
   {
    "duration": 13,
    "start_time": "2021-11-24T19:30:33.621Z"
   },
   {
    "duration": 45,
    "start_time": "2021-11-24T19:32:21.100Z"
   },
   {
    "duration": 4,
    "start_time": "2021-11-24T19:57:13.148Z"
   },
   {
    "duration": 663,
    "start_time": "2021-11-24T19:57:13.159Z"
   },
   {
    "duration": 16,
    "start_time": "2021-11-24T19:57:13.825Z"
   },
   {
    "duration": 10,
    "start_time": "2021-11-24T19:57:13.844Z"
   },
   {
    "duration": 29,
    "start_time": "2021-11-24T19:57:13.857Z"
   },
   {
    "duration": 11,
    "start_time": "2021-11-24T19:57:13.889Z"
   },
   {
    "duration": 12,
    "start_time": "2021-11-24T19:57:13.903Z"
   },
   {
    "duration": 22,
    "start_time": "2021-11-24T19:57:13.918Z"
   },
   {
    "duration": 47,
    "start_time": "2021-11-24T19:57:13.985Z"
   },
   {
    "duration": 140,
    "start_time": "2021-11-24T19:57:14.035Z"
   },
   {
    "duration": 422,
    "start_time": "2021-11-24T19:57:14.182Z"
   },
   {
    "duration": 19,
    "start_time": "2021-11-24T19:57:14.606Z"
   },
   {
    "duration": 55,
    "start_time": "2021-11-24T19:57:14.627Z"
   },
   {
    "duration": 11,
    "start_time": "2021-11-24T19:57:14.685Z"
   },
   {
    "duration": 15,
    "start_time": "2021-11-24T19:57:14.699Z"
   },
   {
    "duration": 87,
    "start_time": "2021-11-24T19:57:14.717Z"
   },
   {
    "duration": 18,
    "start_time": "2021-11-24T19:57:14.807Z"
   },
   {
    "duration": 27,
    "start_time": "2021-11-24T19:57:14.828Z"
   },
   {
    "duration": 54,
    "start_time": "2021-11-24T19:57:14.883Z"
   },
   {
    "duration": 105,
    "start_time": "2021-11-24T19:57:14.940Z"
   },
   {
    "duration": 806,
    "start_time": "2021-11-24T19:57:15.048Z"
   },
   {
    "duration": 26,
    "start_time": "2021-11-24T19:57:15.856Z"
   },
   {
    "duration": 11,
    "start_time": "2021-11-24T19:57:15.885Z"
   },
   {
    "duration": 9,
    "start_time": "2021-11-24T19:57:15.902Z"
   },
   {
    "duration": 7,
    "start_time": "2021-11-24T19:57:15.915Z"
   },
   {
    "duration": 11,
    "start_time": "2021-11-24T19:57:15.925Z"
   },
   {
    "duration": 55,
    "start_time": "2021-11-24T19:57:15.939Z"
   },
   {
    "duration": 18,
    "start_time": "2021-11-24T19:57:15.997Z"
   },
   {
    "duration": 66,
    "start_time": "2021-11-24T19:57:16.018Z"
   },
   {
    "duration": 457,
    "start_time": "2021-11-24T19:57:16.087Z"
   },
   {
    "duration": 58,
    "start_time": "2021-11-24T19:57:16.548Z"
   },
   {
    "duration": 19,
    "start_time": "2021-11-24T19:57:16.609Z"
   },
   {
    "duration": 58,
    "start_time": "2021-11-24T19:57:16.631Z"
   },
   {
    "duration": 622,
    "start_time": "2021-11-24T19:57:16.692Z"
   },
   {
    "duration": 94,
    "start_time": "2021-11-24T19:57:17.317Z"
   },
   {
    "duration": 86,
    "start_time": "2021-11-24T19:57:17.414Z"
   },
   {
    "duration": 46,
    "start_time": "2021-11-24T19:57:17.503Z"
   },
   {
    "duration": 79,
    "start_time": "2021-11-24T19:57:17.552Z"
   },
   {
    "duration": 71,
    "start_time": "2021-11-24T19:57:17.634Z"
   },
   {
    "duration": 16,
    "start_time": "2021-11-24T19:57:17.708Z"
   },
   {
    "duration": 10,
    "start_time": "2021-11-24T19:57:17.727Z"
   },
   {
    "duration": 17456,
    "start_time": "2021-11-24T19:57:17.740Z"
   },
   {
    "duration": 12,
    "start_time": "2021-11-24T19:57:35.199Z"
   },
   {
    "duration": 826,
    "start_time": "2021-11-24T19:58:50.102Z"
   },
   {
    "duration": 1390,
    "start_time": "2021-11-24T19:59:55.654Z"
   },
   {
    "duration": 630,
    "start_time": "2021-11-24T19:59:57.047Z"
   },
   {
    "duration": 19,
    "start_time": "2021-11-24T19:59:57.680Z"
   },
   {
    "duration": 14,
    "start_time": "2021-11-24T19:59:57.703Z"
   },
   {
    "duration": 68,
    "start_time": "2021-11-24T19:59:57.720Z"
   },
   {
    "duration": 11,
    "start_time": "2021-11-24T19:59:57.791Z"
   },
   {
    "duration": 14,
    "start_time": "2021-11-24T19:59:57.805Z"
   },
   {
    "duration": 21,
    "start_time": "2021-11-24T19:59:57.822Z"
   },
   {
    "duration": 76,
    "start_time": "2021-11-24T19:59:57.846Z"
   },
   {
    "duration": 153,
    "start_time": "2021-11-24T19:59:57.924Z"
   },
   {
    "duration": 432,
    "start_time": "2021-11-24T19:59:58.082Z"
   },
   {
    "duration": 19,
    "start_time": "2021-11-24T19:59:58.517Z"
   },
   {
    "duration": 53,
    "start_time": "2021-11-24T19:59:58.538Z"
   },
   {
    "duration": 10,
    "start_time": "2021-11-24T19:59:58.593Z"
   },
   {
    "duration": 18,
    "start_time": "2021-11-24T19:59:58.606Z"
   },
   {
    "duration": 102,
    "start_time": "2021-11-24T19:59:58.627Z"
   },
   {
    "duration": 17,
    "start_time": "2021-11-24T19:59:58.732Z"
   },
   {
    "duration": 47,
    "start_time": "2021-11-24T19:59:58.752Z"
   },
   {
    "duration": 50,
    "start_time": "2021-11-24T19:59:58.802Z"
   },
   {
    "duration": 76,
    "start_time": "2021-11-24T19:59:58.854Z"
   },
   {
    "duration": 577,
    "start_time": "2021-11-24T19:59:58.932Z"
   },
   {
    "duration": 16,
    "start_time": "2021-11-24T19:59:59.511Z"
   },
   {
    "duration": 12,
    "start_time": "2021-11-24T19:59:59.532Z"
   },
   {
    "duration": 39,
    "start_time": "2021-11-24T19:59:59.547Z"
   },
   {
    "duration": 12,
    "start_time": "2021-11-24T19:59:59.589Z"
   },
   {
    "duration": 8,
    "start_time": "2021-11-24T19:59:59.604Z"
   },
   {
    "duration": 13,
    "start_time": "2021-11-24T19:59:59.615Z"
   },
   {
    "duration": 53,
    "start_time": "2021-11-24T19:59:59.630Z"
   },
   {
    "duration": 37,
    "start_time": "2021-11-24T19:59:59.685Z"
   },
   {
    "duration": 717,
    "start_time": "2021-11-24T19:59:59.725Z"
   },
   {
    "duration": 38,
    "start_time": "2021-11-24T20:00:00.445Z"
   },
   {
    "duration": 19,
    "start_time": "2021-11-24T20:00:00.486Z"
   },
   {
    "duration": 31,
    "start_time": "2021-11-24T20:00:00.507Z"
   },
   {
    "duration": 464,
    "start_time": "2021-11-24T20:00:00.540Z"
   },
   {
    "duration": 75,
    "start_time": "2021-11-24T20:00:01.007Z"
   },
   {
    "duration": 68,
    "start_time": "2021-11-24T20:00:01.085Z"
   },
   {
    "duration": 58,
    "start_time": "2021-11-24T20:00:01.156Z"
   },
   {
    "duration": 36,
    "start_time": "2021-11-24T20:00:01.216Z"
   },
   {
    "duration": 69,
    "start_time": "2021-11-24T20:00:01.255Z"
   },
   {
    "duration": 15,
    "start_time": "2021-11-24T20:00:01.327Z"
   },
   {
    "duration": 37,
    "start_time": "2021-11-24T20:00:01.345Z"
   },
   {
    "duration": 17461,
    "start_time": "2021-11-24T20:00:01.386Z"
   },
   {
    "duration": 13,
    "start_time": "2021-11-24T20:00:18.850Z"
   },
   {
    "duration": 27,
    "start_time": "2021-11-24T20:00:18.866Z"
   },
   {
    "duration": 1476,
    "start_time": "2021-11-25T07:14:53.067Z"
   },
   {
    "duration": 656,
    "start_time": "2021-11-25T07:14:54.546Z"
   },
   {
    "duration": 19,
    "start_time": "2021-11-25T07:14:55.205Z"
   },
   {
    "duration": 13,
    "start_time": "2021-11-25T07:14:55.227Z"
   },
   {
    "duration": 30,
    "start_time": "2021-11-25T07:14:55.242Z"
   },
   {
    "duration": 9,
    "start_time": "2021-11-25T07:14:55.274Z"
   },
   {
    "duration": 13,
    "start_time": "2021-11-25T07:14:55.285Z"
   },
   {
    "duration": 20,
    "start_time": "2021-11-25T07:14:55.302Z"
   },
   {
    "duration": 80,
    "start_time": "2021-11-25T07:14:55.325Z"
   },
   {
    "duration": 147,
    "start_time": "2021-11-25T07:14:55.407Z"
   },
   {
    "duration": 436,
    "start_time": "2021-11-25T07:14:55.557Z"
   },
   {
    "duration": 19,
    "start_time": "2021-11-25T07:14:55.995Z"
   },
   {
    "duration": 54,
    "start_time": "2021-11-25T07:14:56.017Z"
   },
   {
    "duration": 11,
    "start_time": "2021-11-25T07:14:56.073Z"
   },
   {
    "duration": 17,
    "start_time": "2021-11-25T07:14:56.086Z"
   },
   {
    "duration": 83,
    "start_time": "2021-11-25T07:14:56.105Z"
   },
   {
    "duration": 12,
    "start_time": "2021-11-25T07:14:56.190Z"
   },
   {
    "duration": 20,
    "start_time": "2021-11-25T07:14:56.204Z"
   },
   {
    "duration": 66,
    "start_time": "2021-11-25T07:14:56.227Z"
   },
   {
    "duration": 72,
    "start_time": "2021-11-25T07:14:56.296Z"
   },
   {
    "duration": 483,
    "start_time": "2021-11-25T07:14:56.371Z"
   },
   {
    "duration": 18,
    "start_time": "2021-11-25T07:14:56.857Z"
   },
   {
    "duration": 12,
    "start_time": "2021-11-25T07:14:56.881Z"
   },
   {
    "duration": 13,
    "start_time": "2021-11-25T07:14:56.897Z"
   },
   {
    "duration": 13,
    "start_time": "2021-11-25T07:14:56.912Z"
   },
   {
    "duration": 40,
    "start_time": "2021-11-25T07:14:56.928Z"
   },
   {
    "duration": 11,
    "start_time": "2021-11-25T07:14:56.970Z"
   },
   {
    "duration": 17,
    "start_time": "2021-11-25T07:14:56.984Z"
   },
   {
    "duration": 72,
    "start_time": "2021-11-25T07:14:57.003Z"
   },
   {
    "duration": 482,
    "start_time": "2021-11-25T07:14:57.077Z"
   },
   {
    "duration": 26,
    "start_time": "2021-11-25T07:14:57.561Z"
   },
   {
    "duration": 17,
    "start_time": "2021-11-25T07:14:57.589Z"
   },
   {
    "duration": 59,
    "start_time": "2021-11-25T07:14:57.609Z"
   },
   {
    "duration": 435,
    "start_time": "2021-11-25T07:14:57.671Z"
   },
   {
    "duration": 75,
    "start_time": "2021-11-25T07:14:58.109Z"
   },
   {
    "duration": 66,
    "start_time": "2021-11-25T07:14:58.186Z"
   },
   {
    "duration": 49,
    "start_time": "2021-11-25T07:14:58.255Z"
   },
   {
    "duration": 35,
    "start_time": "2021-11-25T07:14:58.306Z"
   },
   {
    "duration": 46,
    "start_time": "2021-11-25T07:14:58.368Z"
   },
   {
    "duration": 16,
    "start_time": "2021-11-25T07:14:58.416Z"
   },
   {
    "duration": 37,
    "start_time": "2021-11-25T07:14:58.435Z"
   },
   {
    "duration": 17721,
    "start_time": "2021-11-25T07:14:58.475Z"
   },
   {
    "duration": 12,
    "start_time": "2021-11-25T07:15:16.199Z"
   },
   {
    "duration": 16,
    "start_time": "2021-11-25T07:15:16.214Z"
   },
   {
    "duration": 72,
    "start_time": "2021-11-25T07:15:16.233Z"
   },
   {
    "duration": 466,
    "start_time": "2021-11-25T07:15:16.308Z"
   },
   {
    "duration": 415,
    "start_time": "2021-11-25T07:15:16.777Z"
   },
   {
    "duration": 356,
    "start_time": "2021-11-25T07:15:17.194Z"
   },
   {
    "duration": 34,
    "start_time": "2021-11-25T07:15:17.552Z"
   },
   {
    "duration": 622,
    "start_time": "2021-11-25T07:15:17.589Z"
   },
   {
    "duration": 496,
    "start_time": "2021-11-25T07:15:18.213Z"
   },
   {
    "duration": 306,
    "start_time": "2021-11-25T07:15:18.711Z"
   },
   {
    "duration": 29,
    "start_time": "2021-11-25T07:15:19.019Z"
   },
   {
    "duration": 561,
    "start_time": "2021-11-25T07:15:19.067Z"
   },
   {
    "duration": 417,
    "start_time": "2021-11-25T07:15:19.631Z"
   },
   {
    "duration": 285,
    "start_time": "2021-11-25T07:15:20.051Z"
   },
   {
    "duration": 65,
    "start_time": "2021-11-25T07:15:20.339Z"
   },
   {
    "duration": 497,
    "start_time": "2021-11-25T07:15:20.407Z"
   },
   {
    "duration": 485,
    "start_time": "2021-11-25T07:15:20.907Z"
   },
   {
    "duration": 274,
    "start_time": "2021-11-25T07:15:21.395Z"
   },
   {
    "duration": 29,
    "start_time": "2021-11-25T07:15:21.673Z"
   },
   {
    "duration": 538,
    "start_time": "2021-11-25T07:15:21.705Z"
   },
   {
    "duration": 390,
    "start_time": "2021-11-25T07:15:22.245Z"
   },
   {
    "duration": 291,
    "start_time": "2021-11-25T07:15:22.638Z"
   },
   {
    "duration": 42,
    "start_time": "2021-11-25T07:15:22.931Z"
   },
   {
    "duration": 527,
    "start_time": "2021-11-25T07:15:22.975Z"
   },
   {
    "duration": 385,
    "start_time": "2021-11-25T07:15:23.504Z"
   },
   {
    "duration": 287,
    "start_time": "2021-11-25T07:15:23.899Z"
   },
   {
    "duration": 48,
    "start_time": "2021-11-25T07:15:24.189Z"
   },
   {
    "duration": 604,
    "start_time": "2021-11-25T07:15:24.267Z"
   },
   {
    "duration": 401,
    "start_time": "2021-11-25T07:15:24.873Z"
   },
   {
    "duration": 275,
    "start_time": "2021-11-25T07:15:25.278Z"
   },
   {
    "duration": 35,
    "start_time": "2021-11-25T07:15:25.556Z"
   },
   {
    "duration": 535,
    "start_time": "2021-11-25T07:15:25.594Z"
   },
   {
    "duration": 410,
    "start_time": "2021-11-25T07:15:26.132Z"
   },
   {
    "duration": 271,
    "start_time": "2021-11-25T07:15:26.545Z"
   },
   {
    "duration": 29,
    "start_time": "2021-11-25T07:15:26.819Z"
   },
   {
    "duration": 515,
    "start_time": "2021-11-25T07:15:26.868Z"
   },
   {
    "duration": 414,
    "start_time": "2021-11-25T07:15:27.385Z"
   },
   {
    "duration": 274,
    "start_time": "2021-11-25T07:15:27.801Z"
   },
   {
    "duration": 16,
    "start_time": "2021-11-25T07:15:28.077Z"
   },
   {
    "duration": 17,
    "start_time": "2021-11-25T07:15:28.096Z"
   },
   {
    "duration": 57,
    "start_time": "2021-11-25T07:15:28.116Z"
   },
   {
    "duration": 23,
    "start_time": "2021-11-25T07:15:28.175Z"
   },
   {
    "duration": 567,
    "start_time": "2021-11-25T07:15:28.200Z"
   },
   {
    "duration": 26,
    "start_time": "2021-11-25T07:15:28.769Z"
   },
   {
    "duration": 12,
    "start_time": "2021-11-25T07:15:28.797Z"
   },
   {
    "duration": 13,
    "start_time": "2021-11-25T07:15:28.812Z"
   },
   {
    "duration": 48,
    "start_time": "2021-11-25T07:15:28.827Z"
   },
   {
    "duration": 37,
    "start_time": "2021-11-25T07:20:18.401Z"
   },
   {
    "duration": 14,
    "start_time": "2021-11-25T07:21:32.508Z"
   },
   {
    "duration": 23,
    "start_time": "2021-11-25T07:21:49.163Z"
   },
   {
    "duration": 25,
    "start_time": "2021-11-25T07:21:54.035Z"
   },
   {
    "duration": 21,
    "start_time": "2021-11-25T07:27:47.585Z"
   },
   {
    "duration": 314,
    "start_time": "2021-11-25T07:39:36.958Z"
   },
   {
    "duration": 299,
    "start_time": "2021-11-25T07:39:40.896Z"
   },
   {
    "duration": 196,
    "start_time": "2021-11-25T07:39:53.625Z"
   },
   {
    "duration": 355,
    "start_time": "2021-11-25T07:39:56.149Z"
   },
   {
    "duration": 354,
    "start_time": "2021-11-25T07:40:05.075Z"
   },
   {
    "duration": 442,
    "start_time": "2021-11-25T07:40:06.187Z"
   },
   {
    "duration": 355,
    "start_time": "2021-11-25T07:40:15.263Z"
   },
   {
    "duration": 367,
    "start_time": "2021-11-25T07:40:30.862Z"
   },
   {
    "duration": 438,
    "start_time": "2021-11-25T09:06:34.968Z"
   },
   {
    "duration": 1446,
    "start_time": "2021-11-25T09:06:42.776Z"
   },
   {
    "duration": 682,
    "start_time": "2021-11-25T09:06:44.225Z"
   },
   {
    "duration": 21,
    "start_time": "2021-11-25T09:06:44.910Z"
   },
   {
    "duration": 12,
    "start_time": "2021-11-25T09:06:44.934Z"
   },
   {
    "duration": 33,
    "start_time": "2021-11-25T09:06:44.949Z"
   },
   {
    "duration": 10,
    "start_time": "2021-11-25T09:06:44.984Z"
   },
   {
    "duration": 18,
    "start_time": "2021-11-25T09:06:44.996Z"
   },
   {
    "duration": 44,
    "start_time": "2021-11-25T09:06:45.018Z"
   },
   {
    "duration": 45,
    "start_time": "2021-11-25T09:06:45.065Z"
   },
   {
    "duration": 149,
    "start_time": "2021-11-25T09:06:45.113Z"
   },
   {
    "duration": 426,
    "start_time": "2021-11-25T09:06:45.265Z"
   },
   {
    "duration": 19,
    "start_time": "2021-11-25T09:06:45.694Z"
   },
   {
    "duration": 52,
    "start_time": "2021-11-25T09:06:45.716Z"
   },
   {
    "duration": 11,
    "start_time": "2021-11-25T09:06:45.771Z"
   },
   {
    "duration": 24,
    "start_time": "2021-11-25T09:06:45.784Z"
   },
   {
    "duration": 78,
    "start_time": "2021-11-25T09:06:45.811Z"
   },
   {
    "duration": 12,
    "start_time": "2021-11-25T09:06:45.892Z"
   },
   {
    "duration": 20,
    "start_time": "2021-11-25T09:06:45.907Z"
   },
   {
    "duration": 59,
    "start_time": "2021-11-25T09:06:45.929Z"
   },
   {
    "duration": 83,
    "start_time": "2021-11-25T09:06:45.990Z"
   },
   {
    "duration": 490,
    "start_time": "2021-11-25T09:06:46.076Z"
   },
   {
    "duration": 18,
    "start_time": "2021-11-25T09:06:46.569Z"
   },
   {
    "duration": 13,
    "start_time": "2021-11-25T09:06:46.593Z"
   },
   {
    "duration": 10,
    "start_time": "2021-11-25T09:06:46.609Z"
   },
   {
    "duration": 14,
    "start_time": "2021-11-25T09:06:46.659Z"
   },
   {
    "duration": 9,
    "start_time": "2021-11-25T09:06:46.675Z"
   },
   {
    "duration": 13,
    "start_time": "2021-11-25T09:06:46.688Z"
   },
   {
    "duration": 56,
    "start_time": "2021-11-25T09:06:46.703Z"
   },
   {
    "duration": 38,
    "start_time": "2021-11-25T09:06:46.762Z"
   },
   {
    "duration": 472,
    "start_time": "2021-11-25T09:06:46.802Z"
   },
   {
    "duration": 24,
    "start_time": "2021-11-25T09:06:47.276Z"
   },
   {
    "duration": 18,
    "start_time": "2021-11-25T09:06:47.302Z"
   },
   {
    "duration": 57,
    "start_time": "2021-11-25T09:06:47.323Z"
   },
   {
    "duration": 467,
    "start_time": "2021-11-25T09:06:47.383Z"
   },
   {
    "duration": 62,
    "start_time": "2021-11-25T09:06:47.859Z"
   },
   {
    "duration": 82,
    "start_time": "2021-11-25T09:06:47.924Z"
   },
   {
    "duration": 52,
    "start_time": "2021-11-25T09:06:48.009Z"
   },
   {
    "duration": 37,
    "start_time": "2021-11-25T09:06:48.063Z"
   },
   {
    "duration": 72,
    "start_time": "2021-11-25T09:06:48.102Z"
   },
   {
    "duration": 15,
    "start_time": "2021-11-25T09:06:48.176Z"
   },
   {
    "duration": 8,
    "start_time": "2021-11-25T09:06:48.193Z"
   },
   {
    "duration": 16974,
    "start_time": "2021-11-25T09:06:48.203Z"
   },
   {
    "duration": 24,
    "start_time": "2021-11-25T09:07:05.179Z"
   },
   {
    "duration": 451,
    "start_time": "2021-11-25T09:07:05.205Z"
   },
   {
    "duration": 2374,
    "start_time": "2021-11-25T09:07:03.284Z"
   },
   {
    "duration": 2363,
    "start_time": "2021-11-25T09:07:03.297Z"
   },
   {
    "duration": 2354,
    "start_time": "2021-11-25T09:07:03.307Z"
   },
   {
    "duration": 2344,
    "start_time": "2021-11-25T09:07:03.319Z"
   },
   {
    "duration": 435,
    "start_time": "2021-11-25T09:09:40.935Z"
   },
   {
    "duration": 349,
    "start_time": "2021-11-25T09:10:51.494Z"
   },
   {
    "duration": 395,
    "start_time": "2021-11-25T09:11:03.392Z"
   },
   {
    "duration": 376,
    "start_time": "2021-11-25T09:13:34.638Z"
   },
   {
    "duration": 51,
    "start_time": "2021-11-25T09:19:29.123Z"
   },
   {
    "duration": 359,
    "start_time": "2021-11-25T09:19:33.717Z"
   },
   {
    "duration": 457,
    "start_time": "2021-11-25T09:19:34.079Z"
   },
   {
    "duration": 4,
    "start_time": "2021-11-25T09:20:01.028Z"
   },
   {
    "duration": 725,
    "start_time": "2021-11-25T09:20:01.038Z"
   },
   {
    "duration": 15,
    "start_time": "2021-11-25T09:20:01.765Z"
   },
   {
    "duration": 17,
    "start_time": "2021-11-25T09:20:01.783Z"
   },
   {
    "duration": 34,
    "start_time": "2021-11-25T09:20:01.802Z"
   },
   {
    "duration": 22,
    "start_time": "2021-11-25T09:20:01.838Z"
   },
   {
    "duration": 12,
    "start_time": "2021-11-25T09:20:01.863Z"
   },
   {
    "duration": 22,
    "start_time": "2021-11-25T09:20:01.877Z"
   },
   {
    "duration": 72,
    "start_time": "2021-11-25T09:20:01.903Z"
   },
   {
    "duration": 131,
    "start_time": "2021-11-25T09:20:01.978Z"
   },
   {
    "duration": 425,
    "start_time": "2021-11-25T09:20:02.111Z"
   },
   {
    "duration": 29,
    "start_time": "2021-11-25T09:20:02.538Z"
   },
   {
    "duration": 24,
    "start_time": "2021-11-25T09:20:02.569Z"
   },
   {
    "duration": 11,
    "start_time": "2021-11-25T09:20:02.595Z"
   },
   {
    "duration": 25,
    "start_time": "2021-11-25T09:20:02.608Z"
   },
   {
    "duration": 52,
    "start_time": "2021-11-25T09:20:02.660Z"
   },
   {
    "duration": 12,
    "start_time": "2021-11-25T09:20:02.714Z"
   },
   {
    "duration": 42,
    "start_time": "2021-11-25T09:20:02.728Z"
   },
   {
    "duration": 614,
    "start_time": "2021-11-25T09:20:02.772Z"
   },
   {
    "duration": 71,
    "start_time": "2021-11-25T09:20:03.388Z"
   },
   {
    "duration": 475,
    "start_time": "2021-11-25T09:20:03.462Z"
   },
   {
    "duration": 26,
    "start_time": "2021-11-25T09:20:03.939Z"
   },
   {
    "duration": 12,
    "start_time": "2021-11-25T09:20:03.968Z"
   },
   {
    "duration": 9,
    "start_time": "2021-11-25T09:20:03.985Z"
   },
   {
    "duration": 7,
    "start_time": "2021-11-25T09:20:03.997Z"
   },
   {
    "duration": 13,
    "start_time": "2021-11-25T09:20:04.006Z"
   },
   {
    "duration": 41,
    "start_time": "2021-11-25T09:20:04.022Z"
   },
   {
    "duration": 17,
    "start_time": "2021-11-25T09:20:04.066Z"
   },
   {
    "duration": 31,
    "start_time": "2021-11-25T09:20:04.086Z"
   },
   {
    "duration": 475,
    "start_time": "2021-11-25T09:20:04.121Z"
   },
   {
    "duration": 26,
    "start_time": "2021-11-25T09:20:04.599Z"
   },
   {
    "duration": 44,
    "start_time": "2021-11-25T09:20:04.628Z"
   },
   {
    "duration": 32,
    "start_time": "2021-11-25T09:20:04.674Z"
   },
   {
    "duration": 445,
    "start_time": "2021-11-25T09:20:04.709Z"
   },
   {
    "duration": 63,
    "start_time": "2021-11-25T09:20:05.160Z"
   },
   {
    "duration": 88,
    "start_time": "2021-11-25T09:20:05.226Z"
   },
   {
    "duration": 62,
    "start_time": "2021-11-25T09:20:05.318Z"
   },
   {
    "duration": 37,
    "start_time": "2021-11-25T09:20:05.384Z"
   },
   {
    "duration": 73,
    "start_time": "2021-11-25T09:20:05.423Z"
   },
   {
    "duration": 15,
    "start_time": "2021-11-25T09:20:05.498Z"
   },
   {
    "duration": 9,
    "start_time": "2021-11-25T09:20:05.515Z"
   },
   {
    "duration": 16901,
    "start_time": "2021-11-25T09:20:05.527Z"
   },
   {
    "duration": 36,
    "start_time": "2021-11-25T09:20:22.430Z"
   },
   {
    "duration": 34,
    "start_time": "2021-11-25T09:20:22.468Z"
   },
   {
    "duration": 369,
    "start_time": "2021-11-25T09:20:22.505Z"
   },
   {
    "duration": 431,
    "start_time": "2021-11-25T09:20:22.876Z"
   },
   {
    "duration": 349,
    "start_time": "2021-11-25T09:23:37.396Z"
   },
   {
    "duration": 22,
    "start_time": "2021-11-25T09:24:06.494Z"
   },
   {
    "duration": 24,
    "start_time": "2021-11-25T09:24:15.014Z"
   },
   {
    "duration": 28,
    "start_time": "2021-11-25T09:35:12.907Z"
   },
   {
    "duration": 24,
    "start_time": "2021-11-25T09:37:01.899Z"
   },
   {
    "duration": 153,
    "start_time": "2021-11-25T09:37:24.211Z"
   },
   {
    "duration": 32,
    "start_time": "2021-11-25T09:37:28.925Z"
   },
   {
    "duration": 480,
    "start_time": "2021-11-25T09:42:03.162Z"
   },
   {
    "duration": 462,
    "start_time": "2021-11-25T09:42:12.568Z"
   },
   {
    "duration": 528,
    "start_time": "2021-11-25T09:42:22.526Z"
   },
   {
    "duration": 773,
    "start_time": "2021-11-25T09:43:24.159Z"
   },
   {
    "duration": 499,
    "start_time": "2021-11-25T09:43:41.797Z"
   },
   {
    "duration": 412,
    "start_time": "2021-11-25T09:45:46.225Z"
   },
   {
    "duration": 468,
    "start_time": "2021-11-25T09:46:01.324Z"
   },
   {
    "duration": 581,
    "start_time": "2021-11-25T09:47:41.095Z"
   },
   {
    "duration": 627,
    "start_time": "2021-11-25T09:47:54.029Z"
   },
   {
    "duration": 142,
    "start_time": "2021-11-25T09:49:09.905Z"
   },
   {
    "duration": 826,
    "start_time": "2021-11-25T09:49:20.376Z"
   },
   {
    "duration": 527,
    "start_time": "2021-11-25T09:49:27.566Z"
   },
   {
    "duration": 529,
    "start_time": "2021-11-25T09:49:47.565Z"
   },
   {
    "duration": 495,
    "start_time": "2021-11-25T09:50:25.287Z"
   },
   {
    "duration": 583,
    "start_time": "2021-11-25T09:50:31.767Z"
   },
   {
    "duration": 498,
    "start_time": "2021-11-25T09:50:56.471Z"
   },
   {
    "duration": 502,
    "start_time": "2021-11-25T09:51:25.111Z"
   },
   {
    "duration": 493,
    "start_time": "2021-11-25T09:51:38.679Z"
   },
   {
    "duration": 522,
    "start_time": "2021-11-25T09:51:43.857Z"
   },
   {
    "duration": 26730,
    "start_time": "2021-11-25T09:53:03.878Z"
   },
   {
    "duration": 50827,
    "start_time": "2021-11-25T09:53:57.604Z"
   },
   {
    "duration": 60814,
    "start_time": "2021-11-25T09:55:22.981Z"
   },
   {
    "duration": 3,
    "start_time": "2021-11-25T09:59:14.527Z"
   },
   {
    "duration": 3,
    "start_time": "2021-11-25T09:59:15.199Z"
   },
   {
    "duration": 3,
    "start_time": "2021-11-25T09:59:15.769Z"
   },
   {
    "duration": 4,
    "start_time": "2021-11-25T09:59:16.440Z"
   },
   {
    "duration": 3,
    "start_time": "2021-11-25T10:02:32.781Z"
   },
   {
    "duration": 39346,
    "start_time": "2021-11-25T10:06:05.047Z"
   },
   {
    "duration": 11745,
    "start_time": "2021-11-25T10:09:35.003Z"
   },
   {
    "duration": 31272,
    "start_time": "2021-11-25T10:16:03.282Z"
   },
   {
    "duration": 11584,
    "start_time": "2021-11-25T10:17:58.637Z"
   },
   {
    "duration": 741,
    "start_time": "2021-11-25T10:18:29.809Z"
   },
   {
    "duration": 3,
    "start_time": "2021-11-25T10:19:19.683Z"
   },
   {
    "duration": 273,
    "start_time": "2021-11-25T10:52:24.780Z"
   },
   {
    "duration": 526,
    "start_time": "2021-11-25T10:52:50.594Z"
   },
   {
    "duration": 276,
    "start_time": "2021-11-25T10:53:06.487Z"
   },
   {
    "duration": 333,
    "start_time": "2021-11-25T10:53:13.970Z"
   },
   {
    "duration": 240,
    "start_time": "2021-11-25T11:01:38.403Z"
   },
   {
    "duration": 630,
    "start_time": "2021-11-25T11:02:48.491Z"
   },
   {
    "duration": 312,
    "start_time": "2021-11-25T11:02:59.052Z"
   },
   {
    "duration": 438,
    "start_time": "2021-11-25T11:03:28.013Z"
   },
   {
    "duration": 857,
    "start_time": "2021-11-25T11:03:34.864Z"
   },
   {
    "duration": 516,
    "start_time": "2021-11-25T11:06:06.597Z"
   },
   {
    "duration": 499,
    "start_time": "2021-11-25T11:06:13.748Z"
   },
   {
    "duration": 481,
    "start_time": "2021-11-25T11:06:46.705Z"
   },
   {
    "duration": 461,
    "start_time": "2021-11-25T11:06:59.362Z"
   },
   {
    "duration": 389,
    "start_time": "2021-11-25T11:08:24.510Z"
   },
   {
    "duration": 482,
    "start_time": "2021-11-25T11:08:37.945Z"
   },
   {
    "duration": 546,
    "start_time": "2021-11-25T11:11:36.308Z"
   },
   {
    "duration": 461,
    "start_time": "2021-11-25T11:11:42.810Z"
   },
   {
    "duration": 667,
    "start_time": "2021-11-25T11:12:38.453Z"
   },
   {
    "duration": 452,
    "start_time": "2021-11-25T11:13:07.710Z"
   },
   {
    "duration": 514,
    "start_time": "2021-11-25T11:15:47.779Z"
   },
   {
    "duration": 259,
    "start_time": "2021-11-25T11:15:56.866Z"
   },
   {
    "duration": 271,
    "start_time": "2021-11-25T11:16:06.570Z"
   },
   {
    "duration": 279,
    "start_time": "2021-11-25T11:16:31.452Z"
   },
   {
    "duration": 276,
    "start_time": "2021-11-25T11:16:38.993Z"
   },
   {
    "duration": 366,
    "start_time": "2021-11-25T11:16:53.816Z"
   },
   {
    "duration": 671,
    "start_time": "2021-11-25T11:17:33.382Z"
   },
   {
    "duration": 643,
    "start_time": "2021-11-25T11:17:45.385Z"
   },
   {
    "duration": 247,
    "start_time": "2021-11-25T11:17:57.488Z"
   },
   {
    "duration": 244,
    "start_time": "2021-11-25T11:18:05.631Z"
   },
   {
    "duration": 285,
    "start_time": "2021-11-25T11:18:31.761Z"
   },
   {
    "duration": 252,
    "start_time": "2021-11-25T11:18:34.288Z"
   },
   {
    "duration": 451,
    "start_time": "2021-11-25T11:22:09.341Z"
   },
   {
    "duration": 23,
    "start_time": "2021-11-25T11:28:33.278Z"
   },
   {
    "duration": 17,
    "start_time": "2021-11-25T11:28:38.893Z"
   },
   {
    "duration": 18,
    "start_time": "2021-11-25T11:29:14.544Z"
   },
   {
    "duration": 15,
    "start_time": "2021-11-25T11:29:28.319Z"
   },
   {
    "duration": 13,
    "start_time": "2021-11-25T11:29:36.645Z"
   },
   {
    "duration": 13,
    "start_time": "2021-11-25T11:30:10.618Z"
   },
   {
    "duration": 13,
    "start_time": "2021-11-25T11:30:36.699Z"
   },
   {
    "duration": 472,
    "start_time": "2021-11-25T11:31:42.318Z"
   },
   {
    "duration": 14,
    "start_time": "2021-11-25T11:40:30.782Z"
   },
   {
    "duration": 703,
    "start_time": "2021-11-25T11:43:00.689Z"
   },
   {
    "duration": 644,
    "start_time": "2021-11-25T11:43:13.721Z"
   },
   {
    "duration": 520,
    "start_time": "2021-11-25T11:43:42.534Z"
   },
   {
    "duration": 431,
    "start_time": "2021-11-25T11:45:38.999Z"
   },
   {
    "duration": 495,
    "start_time": "2021-11-25T11:46:22.872Z"
   },
   {
    "duration": 15,
    "start_time": "2021-11-25T11:47:09.570Z"
   },
   {
    "duration": 14,
    "start_time": "2021-11-25T11:47:31.997Z"
   },
   {
    "duration": 14,
    "start_time": "2021-11-25T11:48:12.068Z"
   },
   {
    "duration": 13,
    "start_time": "2021-11-25T11:48:16.790Z"
   },
   {
    "duration": 115,
    "start_time": "2021-11-25T11:48:36.638Z"
   },
   {
    "duration": 13,
    "start_time": "2021-11-25T11:48:43.150Z"
   },
   {
    "duration": 13,
    "start_time": "2021-11-25T11:49:24.046Z"
   },
   {
    "duration": 540,
    "start_time": "2021-11-25T11:50:00.261Z"
   },
   {
    "duration": 14,
    "start_time": "2021-11-25T11:52:28.297Z"
   },
   {
    "duration": 15,
    "start_time": "2021-11-25T11:53:31.908Z"
   },
   {
    "duration": 13,
    "start_time": "2021-11-25T11:54:03.233Z"
   },
   {
    "duration": 13,
    "start_time": "2021-11-25T11:59:23.337Z"
   },
   {
    "duration": 14,
    "start_time": "2021-11-25T12:10:43.645Z"
   },
   {
    "duration": 614,
    "start_time": "2021-11-25T12:11:47.969Z"
   },
   {
    "duration": 570,
    "start_time": "2021-11-25T12:12:08.350Z"
   },
   {
    "duration": 436,
    "start_time": "2021-11-25T12:12:49.418Z"
   },
   {
    "duration": 436,
    "start_time": "2021-11-25T12:13:11.115Z"
   },
   {
    "duration": 442,
    "start_time": "2021-11-25T12:13:34.149Z"
   },
   {
    "duration": 14,
    "start_time": "2021-11-25T12:15:41.552Z"
   },
   {
    "duration": 12,
    "start_time": "2021-11-25T12:16:57.758Z"
   },
   {
    "duration": 13,
    "start_time": "2021-11-25T12:17:43.812Z"
   },
   {
    "duration": 16,
    "start_time": "2021-11-25T12:59:41.072Z"
   },
   {
    "duration": 18,
    "start_time": "2021-11-25T12:59:42.728Z"
   },
   {
    "duration": 33,
    "start_time": "2021-11-25T12:59:43.837Z"
   },
   {
    "duration": 25,
    "start_time": "2021-11-25T12:59:55.437Z"
   },
   {
    "duration": 18,
    "start_time": "2021-11-25T13:00:11.413Z"
   },
   {
    "duration": 29,
    "start_time": "2021-11-25T13:00:22.331Z"
   },
   {
    "duration": 4,
    "start_time": "2021-11-25T13:00:31.581Z"
   },
   {
    "duration": 784,
    "start_time": "2021-11-25T13:00:31.590Z"
   },
   {
    "duration": 14,
    "start_time": "2021-11-25T13:00:32.377Z"
   },
   {
    "duration": 11,
    "start_time": "2021-11-25T13:00:32.394Z"
   },
   {
    "duration": 53,
    "start_time": "2021-11-25T13:00:32.408Z"
   },
   {
    "duration": 11,
    "start_time": "2021-11-25T13:00:32.464Z"
   },
   {
    "duration": 12,
    "start_time": "2021-11-25T13:00:32.478Z"
   },
   {
    "duration": 27,
    "start_time": "2021-11-25T13:00:32.493Z"
   },
   {
    "duration": 77,
    "start_time": "2021-11-25T13:00:32.525Z"
   },
   {
    "duration": 150,
    "start_time": "2021-11-25T13:00:32.605Z"
   },
   {
    "duration": 443,
    "start_time": "2021-11-25T13:00:32.759Z"
   },
   {
    "duration": 19,
    "start_time": "2021-11-25T13:00:33.205Z"
   },
   {
    "duration": 48,
    "start_time": "2021-11-25T13:00:33.227Z"
   },
   {
    "duration": 12,
    "start_time": "2021-11-25T13:00:33.278Z"
   },
   {
    "duration": 23,
    "start_time": "2021-11-25T13:00:33.292Z"
   },
   {
    "duration": 80,
    "start_time": "2021-11-25T13:00:33.318Z"
   },
   {
    "duration": 13,
    "start_time": "2021-11-25T13:00:33.401Z"
   },
   {
    "duration": 43,
    "start_time": "2021-11-25T13:00:33.416Z"
   },
   {
    "duration": 36,
    "start_time": "2021-11-25T13:00:33.462Z"
   },
   {
    "duration": 86,
    "start_time": "2021-11-25T13:00:33.500Z"
   },
   {
    "duration": 528,
    "start_time": "2021-11-25T13:00:33.589Z"
   },
   {
    "duration": 16,
    "start_time": "2021-11-25T13:00:34.120Z"
   },
   {
    "duration": 33,
    "start_time": "2021-11-25T13:00:34.138Z"
   },
   {
    "duration": 19,
    "start_time": "2021-11-25T13:00:34.177Z"
   },
   {
    "duration": 10,
    "start_time": "2021-11-25T13:00:34.200Z"
   },
   {
    "duration": 12,
    "start_time": "2021-11-25T13:00:34.213Z"
   },
   {
    "duration": 33,
    "start_time": "2021-11-25T13:00:34.228Z"
   },
   {
    "duration": 18,
    "start_time": "2021-11-25T13:00:34.264Z"
   },
   {
    "duration": 43,
    "start_time": "2021-11-25T13:00:34.285Z"
   },
   {
    "duration": 633,
    "start_time": "2021-11-25T13:00:34.331Z"
   },
   {
    "duration": 26,
    "start_time": "2021-11-25T13:00:34.966Z"
   },
   {
    "duration": 18,
    "start_time": "2021-11-25T13:00:34.994Z"
   },
   {
    "duration": 65,
    "start_time": "2021-11-25T13:00:35.015Z"
   },
   {
    "duration": 473,
    "start_time": "2021-11-25T13:00:35.083Z"
   },
   {
    "duration": 68,
    "start_time": "2021-11-25T13:00:35.559Z"
   },
   {
    "duration": 96,
    "start_time": "2021-11-25T13:00:35.630Z"
   },
   {
    "duration": 58,
    "start_time": "2021-11-25T13:00:35.729Z"
   },
   {
    "duration": 69,
    "start_time": "2021-11-25T13:00:35.790Z"
   },
   {
    "duration": 72,
    "start_time": "2021-11-25T13:00:35.863Z"
   },
   {
    "duration": 35,
    "start_time": "2021-11-25T13:00:35.938Z"
   },
   {
    "duration": 8,
    "start_time": "2021-11-25T13:00:35.975Z"
   },
   {
    "duration": 17442,
    "start_time": "2021-11-25T13:00:35.987Z"
   },
   {
    "duration": 2,
    "start_time": "2021-11-25T13:00:53.432Z"
   },
   {
    "duration": 38,
    "start_time": "2021-11-25T13:00:53.437Z"
   },
   {
    "duration": 11,
    "start_time": "2021-11-25T13:00:53.478Z"
   },
   {
    "duration": 17,
    "start_time": "2021-11-25T13:00:53.491Z"
   },
   {
    "duration": 25,
    "start_time": "2021-11-25T13:00:53.511Z"
   },
   {
    "duration": 650,
    "start_time": "2021-11-25T13:00:53.539Z"
   },
   {
    "duration": 485,
    "start_time": "2021-11-25T13:00:54.192Z"
   },
   {
    "duration": 14,
    "start_time": "2021-11-25T13:00:54.680Z"
   },
   {
    "duration": 23,
    "start_time": "2021-11-25T13:00:54.696Z"
   },
   {
    "duration": 38,
    "start_time": "2021-11-25T13:00:54.721Z"
   },
   {
    "duration": 544,
    "start_time": "2021-11-25T13:00:54.761Z"
   },
   {
    "duration": 695,
    "start_time": "2021-11-25T13:00:55.308Z"
   },
   {
    "duration": 17,
    "start_time": "2021-11-25T13:00:56.006Z"
   },
   {
    "duration": 42,
    "start_time": "2021-11-25T13:00:56.026Z"
   },
   {
    "duration": 14,
    "start_time": "2021-11-25T13:00:56.071Z"
   },
   {
    "duration": 704,
    "start_time": "2021-11-25T13:00:56.087Z"
   },
   {
    "duration": 730,
    "start_time": "2021-11-25T13:00:56.794Z"
   },
   {
    "duration": 32,
    "start_time": "2021-11-25T13:00:57.528Z"
   },
   {
    "duration": 18,
    "start_time": "2021-11-25T13:00:57.563Z"
   },
   {
    "duration": 15,
    "start_time": "2021-11-25T13:00:57.584Z"
   },
   {
    "duration": 57,
    "start_time": "2021-11-25T13:00:57.602Z"
   },
   {
    "duration": 26,
    "start_time": "2021-11-25T13:00:57.661Z"
   },
   {
    "duration": 36,
    "start_time": "2021-11-25T13:00:57.690Z"
   },
   {
    "duration": 477,
    "start_time": "2021-11-25T13:12:22.960Z"
   },
   {
    "duration": 34,
    "start_time": "2021-11-25T13:12:55.556Z"
   },
   {
    "duration": 10,
    "start_time": "2021-11-25T13:13:26.149Z"
   },
   {
    "duration": 405,
    "start_time": "2021-11-25T13:14:07.008Z"
   },
   {
    "duration": 382,
    "start_time": "2021-11-25T13:14:23.864Z"
   },
   {
    "duration": 385,
    "start_time": "2021-11-25T13:14:42.319Z"
   },
   {
    "duration": 12,
    "start_time": "2021-11-25T13:14:50.391Z"
   },
   {
    "duration": 9,
    "start_time": "2021-11-25T13:15:57.143Z"
   },
   {
    "duration": 11,
    "start_time": "2021-11-25T13:17:12.222Z"
   },
   {
    "duration": 383,
    "start_time": "2021-11-25T13:19:56.191Z"
   },
   {
    "duration": 153,
    "start_time": "2021-11-25T13:20:14.626Z"
   },
   {
    "duration": 154,
    "start_time": "2021-11-25T13:20:24.366Z"
   },
   {
    "duration": 144,
    "start_time": "2021-11-25T13:20:37.803Z"
   },
   {
    "duration": 124,
    "start_time": "2021-11-25T13:20:45.913Z"
   },
   {
    "duration": 125,
    "start_time": "2021-11-25T13:20:55.570Z"
   },
   {
    "duration": 134,
    "start_time": "2021-11-25T13:21:41.121Z"
   },
   {
    "duration": 134,
    "start_time": "2021-11-25T13:22:06.269Z"
   },
   {
    "duration": 126,
    "start_time": "2021-11-25T13:22:17.118Z"
   },
   {
    "duration": 12,
    "start_time": "2021-11-25T13:22:52.856Z"
   },
   {
    "duration": 13,
    "start_time": "2021-11-25T13:22:59.808Z"
   },
   {
    "duration": 9,
    "start_time": "2021-11-25T13:24:06.471Z"
   },
   {
    "duration": 10,
    "start_time": "2021-11-25T13:24:14.382Z"
   },
   {
    "duration": 425,
    "start_time": "2021-11-25T13:29:40.627Z"
   },
   {
    "duration": 15,
    "start_time": "2021-11-25T13:29:58.045Z"
   },
   {
    "duration": 30,
    "start_time": "2021-11-25T14:01:54.415Z"
   },
   {
    "duration": 18,
    "start_time": "2021-11-25T14:02:00.151Z"
   },
   {
    "duration": 11,
    "start_time": "2021-11-25T14:02:44.939Z"
   },
   {
    "duration": 157,
    "start_time": "2021-11-25T14:03:08.867Z"
   },
   {
    "duration": 25,
    "start_time": "2021-11-25T14:03:12.816Z"
   },
   {
    "duration": 26,
    "start_time": "2021-11-25T14:05:36.633Z"
   },
   {
    "duration": 24,
    "start_time": "2021-11-25T14:05:59.804Z"
   },
   {
    "duration": 28,
    "start_time": "2021-11-25T14:07:19.695Z"
   },
   {
    "duration": 3,
    "start_time": "2021-11-25T14:08:32.355Z"
   },
   {
    "duration": 4,
    "start_time": "2021-11-25T14:08:33.154Z"
   },
   {
    "duration": 3,
    "start_time": "2021-11-25T14:08:45.178Z"
   },
   {
    "duration": 3,
    "start_time": "2021-11-25T14:08:46.881Z"
   },
   {
    "duration": 5,
    "start_time": "2021-11-25T14:08:51.077Z"
   },
   {
    "duration": 3,
    "start_time": "2021-11-25T14:09:24.122Z"
   },
   {
    "duration": 13,
    "start_time": "2021-11-25T14:10:52.378Z"
   },
   {
    "duration": 11,
    "start_time": "2021-11-25T14:11:18.744Z"
   },
   {
    "duration": 7,
    "start_time": "2021-11-25T14:12:24.520Z"
   },
   {
    "duration": 9,
    "start_time": "2021-11-25T14:12:34.395Z"
   },
   {
    "duration": 1628,
    "start_time": "2021-11-25T14:12:43.494Z"
   },
   {
    "duration": 649,
    "start_time": "2021-11-25T14:12:45.125Z"
   },
   {
    "duration": 19,
    "start_time": "2021-11-25T14:12:45.777Z"
   },
   {
    "duration": 10,
    "start_time": "2021-11-25T14:12:45.798Z"
   },
   {
    "duration": 29,
    "start_time": "2021-11-25T14:12:45.811Z"
   },
   {
    "duration": 9,
    "start_time": "2021-11-25T14:12:45.858Z"
   },
   {
    "duration": 14,
    "start_time": "2021-11-25T14:12:45.870Z"
   },
   {
    "duration": 20,
    "start_time": "2021-11-25T14:12:45.889Z"
   },
   {
    "duration": 88,
    "start_time": "2021-11-25T14:12:45.913Z"
   },
   {
    "duration": 161,
    "start_time": "2021-11-25T14:12:46.004Z"
   },
   {
    "duration": 460,
    "start_time": "2021-11-25T14:12:46.168Z"
   },
   {
    "duration": 41,
    "start_time": "2021-11-25T14:12:46.631Z"
   },
   {
    "duration": 31,
    "start_time": "2021-11-25T14:12:46.675Z"
   },
   {
    "duration": 11,
    "start_time": "2021-11-25T14:12:46.709Z"
   },
   {
    "duration": 46,
    "start_time": "2021-11-25T14:12:46.723Z"
   },
   {
    "duration": 51,
    "start_time": "2021-11-25T14:12:46.772Z"
   },
   {
    "duration": 11,
    "start_time": "2021-11-25T14:12:46.825Z"
   },
   {
    "duration": 18,
    "start_time": "2021-11-25T14:12:46.858Z"
   },
   {
    "duration": 35,
    "start_time": "2021-11-25T14:12:46.879Z"
   },
   {
    "duration": 87,
    "start_time": "2021-11-25T14:12:46.916Z"
   },
   {
    "duration": 476,
    "start_time": "2021-11-25T14:12:47.006Z"
   },
   {
    "duration": 14,
    "start_time": "2021-11-25T14:12:47.484Z"
   },
   {
    "duration": 12,
    "start_time": "2021-11-25T14:12:47.504Z"
   },
   {
    "duration": 9,
    "start_time": "2021-11-25T14:12:47.519Z"
   },
   {
    "duration": 12,
    "start_time": "2021-11-25T14:12:47.560Z"
   },
   {
    "duration": 9,
    "start_time": "2021-11-25T14:12:47.575Z"
   },
   {
    "duration": 12,
    "start_time": "2021-11-25T14:12:47.586Z"
   },
   {
    "duration": 16,
    "start_time": "2021-11-25T14:12:47.601Z"
   },
   {
    "duration": 71,
    "start_time": "2021-11-25T14:12:47.620Z"
   },
   {
    "duration": 453,
    "start_time": "2021-11-25T14:12:47.693Z"
   },
   {
    "duration": 27,
    "start_time": "2021-11-25T14:12:48.148Z"
   },
   {
    "duration": 16,
    "start_time": "2021-11-25T14:12:48.177Z"
   },
   {
    "duration": 28,
    "start_time": "2021-11-25T14:12:48.196Z"
   },
   {
    "duration": 470,
    "start_time": "2021-11-25T14:12:48.226Z"
   },
   {
    "duration": 74,
    "start_time": "2021-11-25T14:12:48.698Z"
   },
   {
    "duration": 64,
    "start_time": "2021-11-25T14:12:48.775Z"
   },
   {
    "duration": 55,
    "start_time": "2021-11-25T14:12:48.842Z"
   },
   {
    "duration": 36,
    "start_time": "2021-11-25T14:12:48.900Z"
   },
   {
    "duration": 49,
    "start_time": "2021-11-25T14:12:48.959Z"
   },
   {
    "duration": 48,
    "start_time": "2021-11-25T14:12:49.011Z"
   },
   {
    "duration": 9,
    "start_time": "2021-11-25T14:12:49.063Z"
   },
   {
    "duration": 16725,
    "start_time": "2021-11-25T14:12:49.074Z"
   },
   {
    "duration": 3,
    "start_time": "2021-11-25T14:13:05.801Z"
   },
   {
    "duration": 20,
    "start_time": "2021-11-25T14:13:05.807Z"
   },
   {
    "duration": 9,
    "start_time": "2021-11-25T14:13:05.830Z"
   },
   {
    "duration": 21,
    "start_time": "2021-11-25T14:13:05.842Z"
   },
   {
    "duration": 17,
    "start_time": "2021-11-25T14:13:05.866Z"
   },
   {
    "duration": 531,
    "start_time": "2021-11-25T14:13:05.885Z"
   },
   {
    "duration": 533,
    "start_time": "2021-11-25T14:13:06.419Z"
   },
   {
    "duration": 14,
    "start_time": "2021-11-25T14:13:06.955Z"
   },
   {
    "duration": 12,
    "start_time": "2021-11-25T14:13:06.971Z"
   },
   {
    "duration": 12,
    "start_time": "2021-11-25T14:13:06.986Z"
   },
   {
    "duration": 570,
    "start_time": "2021-11-25T14:13:07.000Z"
   },
   {
    "duration": 453,
    "start_time": "2021-11-25T14:13:07.572Z"
   },
   {
    "duration": 12,
    "start_time": "2021-11-25T14:13:08.028Z"
   },
   {
    "duration": 29,
    "start_time": "2021-11-25T14:13:08.043Z"
   },
   {
    "duration": 11,
    "start_time": "2021-11-25T14:13:08.075Z"
   },
   {
    "duration": 579,
    "start_time": "2021-11-25T14:13:08.089Z"
   },
   {
    "duration": 449,
    "start_time": "2021-11-25T14:13:08.671Z"
   },
   {
    "duration": 13,
    "start_time": "2021-11-25T14:13:09.122Z"
   },
   {
    "duration": 509,
    "start_time": "2021-11-25T14:13:09.138Z"
   },
   {
    "duration": 2277,
    "start_time": "2021-11-25T14:13:07.373Z"
   },
   {
    "duration": 2267,
    "start_time": "2021-11-25T14:13:07.384Z"
   },
   {
    "duration": 2259,
    "start_time": "2021-11-25T14:13:07.394Z"
   },
   {
    "duration": 2240,
    "start_time": "2021-11-25T14:13:07.414Z"
   },
   {
    "duration": 2235,
    "start_time": "2021-11-25T14:13:07.421Z"
   },
   {
    "duration": 2224,
    "start_time": "2021-11-25T14:13:07.434Z"
   },
   {
    "duration": 2215,
    "start_time": "2021-11-25T14:13:07.444Z"
   },
   {
    "duration": 2208,
    "start_time": "2021-11-25T14:13:07.453Z"
   },
   {
    "duration": 2198,
    "start_time": "2021-11-25T14:13:07.464Z"
   },
   {
    "duration": 2190,
    "start_time": "2021-11-25T14:13:07.473Z"
   },
   {
    "duration": 2182,
    "start_time": "2021-11-25T14:13:07.483Z"
   },
   {
    "duration": 2173,
    "start_time": "2021-11-25T14:13:07.493Z"
   },
   {
    "duration": 2164,
    "start_time": "2021-11-25T14:13:07.503Z"
   },
   {
    "duration": 2157,
    "start_time": "2021-11-25T14:13:07.512Z"
   },
   {
    "duration": 2132,
    "start_time": "2021-11-25T14:13:07.538Z"
   },
   {
    "duration": 503,
    "start_time": "2021-11-25T14:13:40.339Z"
   },
   {
    "duration": 14,
    "start_time": "2021-11-25T14:13:46.672Z"
   },
   {
    "duration": 11097,
    "start_time": "2021-11-25T14:13:51.012Z"
   },
   {
    "duration": 15,
    "start_time": "2021-11-25T14:14:28.411Z"
   },
   {
    "duration": 22,
    "start_time": "2021-11-25T14:14:30.107Z"
   },
   {
    "duration": 10198,
    "start_time": "2021-11-25T14:14:57.812Z"
   },
   {
    "duration": 28,
    "start_time": "2021-11-25T14:17:46.070Z"
   },
   {
    "duration": 40,
    "start_time": "2021-11-25T14:19:36.199Z"
   },
   {
    "duration": 25,
    "start_time": "2021-11-25T14:21:02.036Z"
   },
   {
    "duration": 37,
    "start_time": "2021-11-25T14:22:20.511Z"
   },
   {
    "duration": 1461,
    "start_time": "2021-11-25T14:22:30.253Z"
   },
   {
    "duration": 664,
    "start_time": "2021-11-25T14:22:31.717Z"
   },
   {
    "duration": 20,
    "start_time": "2021-11-25T14:22:32.385Z"
   },
   {
    "duration": 22,
    "start_time": "2021-11-25T14:22:32.408Z"
   },
   {
    "duration": 39,
    "start_time": "2021-11-25T14:22:32.433Z"
   },
   {
    "duration": 9,
    "start_time": "2021-11-25T14:22:32.475Z"
   },
   {
    "duration": 16,
    "start_time": "2021-11-25T14:22:32.486Z"
   },
   {
    "duration": 21,
    "start_time": "2021-11-25T14:22:32.505Z"
   },
   {
    "duration": 67,
    "start_time": "2021-11-25T14:22:32.530Z"
   },
   {
    "duration": 157,
    "start_time": "2021-11-25T14:22:32.599Z"
   },
   {
    "duration": 432,
    "start_time": "2021-11-25T14:22:32.759Z"
   },
   {
    "duration": 20,
    "start_time": "2021-11-25T14:22:33.193Z"
   },
   {
    "duration": 52,
    "start_time": "2021-11-25T14:22:33.215Z"
   },
   {
    "duration": 11,
    "start_time": "2021-11-25T14:22:33.269Z"
   },
   {
    "duration": 17,
    "start_time": "2021-11-25T14:22:33.282Z"
   },
   {
    "duration": 85,
    "start_time": "2021-11-25T14:22:33.301Z"
   },
   {
    "duration": 11,
    "start_time": "2021-11-25T14:22:33.389Z"
   },
   {
    "duration": 18,
    "start_time": "2021-11-25T14:22:33.403Z"
   },
   {
    "duration": 55,
    "start_time": "2021-11-25T14:22:33.424Z"
   },
   {
    "duration": 78,
    "start_time": "2021-11-25T14:22:33.482Z"
   },
   {
    "duration": 460,
    "start_time": "2021-11-25T14:22:33.563Z"
   },
   {
    "duration": 14,
    "start_time": "2021-11-25T14:22:34.025Z"
   },
   {
    "duration": 12,
    "start_time": "2021-11-25T14:22:34.062Z"
   },
   {
    "duration": 15,
    "start_time": "2021-11-25T14:22:34.078Z"
   },
   {
    "duration": 14,
    "start_time": "2021-11-25T14:22:34.095Z"
   },
   {
    "duration": 13,
    "start_time": "2021-11-25T14:22:34.111Z"
   },
   {
    "duration": 34,
    "start_time": "2021-11-25T14:22:34.127Z"
   },
   {
    "duration": 15,
    "start_time": "2021-11-25T14:22:34.164Z"
   },
   {
    "duration": 32,
    "start_time": "2021-11-25T14:22:34.182Z"
   },
   {
    "duration": 455,
    "start_time": "2021-11-25T14:22:34.216Z"
   },
   {
    "duration": 23,
    "start_time": "2021-11-25T14:22:34.673Z"
   },
   {
    "duration": 17,
    "start_time": "2021-11-25T14:22:34.699Z"
   },
   {
    "duration": 62,
    "start_time": "2021-11-25T14:22:34.719Z"
   },
   {
    "duration": 428,
    "start_time": "2021-11-25T14:22:34.784Z"
   },
   {
    "duration": 73,
    "start_time": "2021-11-25T14:22:35.215Z"
   },
   {
    "duration": 71,
    "start_time": "2021-11-25T14:22:35.291Z"
   },
   {
    "duration": 42,
    "start_time": "2021-11-25T14:22:35.365Z"
   },
   {
    "duration": 60,
    "start_time": "2021-11-25T14:22:35.410Z"
   },
   {
    "duration": 44,
    "start_time": "2021-11-25T14:22:35.472Z"
   },
   {
    "duration": 14,
    "start_time": "2021-11-25T14:22:35.519Z"
   },
   {
    "duration": 7,
    "start_time": "2021-11-25T14:22:35.560Z"
   },
   {
    "duration": 17049,
    "start_time": "2021-11-25T14:22:35.570Z"
   },
   {
    "duration": 3,
    "start_time": "2021-11-25T14:22:52.622Z"
   },
   {
    "duration": 19,
    "start_time": "2021-11-25T14:22:52.627Z"
   },
   {
    "duration": 14,
    "start_time": "2021-11-25T14:22:52.648Z"
   },
   {
    "duration": 23,
    "start_time": "2021-11-25T14:22:52.665Z"
   },
   {
    "duration": 17,
    "start_time": "2021-11-25T14:22:52.691Z"
   },
   {
    "duration": 502,
    "start_time": "2021-11-25T14:22:52.710Z"
   },
   {
    "duration": 544,
    "start_time": "2021-11-25T14:22:53.215Z"
   },
   {
    "duration": 14,
    "start_time": "2021-11-25T14:22:53.761Z"
   },
   {
    "duration": 13,
    "start_time": "2021-11-25T14:22:53.777Z"
   },
   {
    "duration": 12,
    "start_time": "2021-11-25T14:22:53.792Z"
   },
   {
    "duration": 557,
    "start_time": "2021-11-25T14:22:53.806Z"
   },
   {
    "duration": 450,
    "start_time": "2021-11-25T14:22:54.365Z"
   },
   {
    "duration": 13,
    "start_time": "2021-11-25T14:22:54.818Z"
   },
   {
    "duration": 33,
    "start_time": "2021-11-25T14:22:54.834Z"
   },
   {
    "duration": 11,
    "start_time": "2021-11-25T14:22:54.870Z"
   },
   {
    "duration": 556,
    "start_time": "2021-11-25T14:22:54.883Z"
   },
   {
    "duration": 445,
    "start_time": "2021-11-25T14:22:55.442Z"
   },
   {
    "duration": 12,
    "start_time": "2021-11-25T14:22:55.890Z"
   },
   {
    "duration": 15,
    "start_time": "2021-11-25T14:22:55.905Z"
   },
   {
    "duration": 39,
    "start_time": "2021-11-25T14:22:55.923Z"
   },
   {
    "duration": 23,
    "start_time": "2021-11-25T14:22:55.964Z"
   },
   {
    "duration": 71,
    "start_time": "2021-11-25T14:22:55.990Z"
   },
   {
    "duration": 4,
    "start_time": "2021-11-25T14:22:56.064Z"
   },
   {
    "duration": 5,
    "start_time": "2021-11-25T14:22:56.071Z"
   },
   {
    "duration": 8,
    "start_time": "2021-11-25T14:22:56.079Z"
   },
   {
    "duration": 4,
    "start_time": "2021-11-25T14:22:56.095Z"
   },
   {
    "duration": 10,
    "start_time": "2021-11-25T14:22:56.102Z"
   },
   {
    "duration": 7,
    "start_time": "2021-11-25T14:22:56.115Z"
   },
   {
    "duration": 36,
    "start_time": "2021-11-25T14:22:56.124Z"
   },
   {
    "duration": 4,
    "start_time": "2021-11-25T14:22:56.165Z"
   },
   {
    "duration": 18,
    "start_time": "2021-11-25T14:22:56.172Z"
   },
   {
    "duration": 13,
    "start_time": "2021-11-25T14:22:56.192Z"
   },
   {
    "duration": 452,
    "start_time": "2021-11-25T14:25:41.136Z"
   },
   {
    "duration": 26,
    "start_time": "2021-11-25T14:25:47.448Z"
   },
   {
    "duration": 436,
    "start_time": "2021-11-25T14:26:42.856Z"
   },
   {
    "duration": 19,
    "start_time": "2021-11-25T14:27:28.431Z"
   },
   {
    "duration": 40,
    "start_time": "2021-11-25T14:28:39.838Z"
   },
   {
    "duration": 1562,
    "start_time": "2021-11-25T14:29:02.110Z"
   },
   {
    "duration": 644,
    "start_time": "2021-11-25T14:29:03.675Z"
   },
   {
    "duration": 21,
    "start_time": "2021-11-25T14:29:04.322Z"
   },
   {
    "duration": 12,
    "start_time": "2021-11-25T14:29:04.347Z"
   },
   {
    "duration": 30,
    "start_time": "2021-11-25T14:29:04.362Z"
   },
   {
    "duration": 11,
    "start_time": "2021-11-25T14:29:04.394Z"
   },
   {
    "duration": 13,
    "start_time": "2021-11-25T14:29:04.408Z"
   },
   {
    "duration": 21,
    "start_time": "2021-11-25T14:29:04.464Z"
   },
   {
    "duration": 45,
    "start_time": "2021-11-25T14:29:04.488Z"
   },
   {
    "duration": 167,
    "start_time": "2021-11-25T14:29:04.535Z"
   },
   {
    "duration": 446,
    "start_time": "2021-11-25T14:29:04.705Z"
   },
   {
    "duration": 22,
    "start_time": "2021-11-25T14:29:05.158Z"
   },
   {
    "duration": 29,
    "start_time": "2021-11-25T14:29:05.184Z"
   },
   {
    "duration": 45,
    "start_time": "2021-11-25T14:29:05.217Z"
   },
   {
    "duration": 22,
    "start_time": "2021-11-25T14:29:05.265Z"
   },
   {
    "duration": 84,
    "start_time": "2021-11-25T14:29:05.290Z"
   },
   {
    "duration": 14,
    "start_time": "2021-11-25T14:29:05.377Z"
   },
   {
    "duration": 22,
    "start_time": "2021-11-25T14:29:05.394Z"
   },
   {
    "duration": 65,
    "start_time": "2021-11-25T14:29:05.419Z"
   },
   {
    "duration": 54,
    "start_time": "2021-11-25T14:29:05.487Z"
   },
   {
    "duration": 578,
    "start_time": "2021-11-25T14:29:05.559Z"
   },
   {
    "duration": 32,
    "start_time": "2021-11-25T14:29:06.140Z"
   },
   {
    "duration": 17,
    "start_time": "2021-11-25T14:29:06.182Z"
   },
   {
    "duration": 11,
    "start_time": "2021-11-25T14:29:06.204Z"
   },
   {
    "duration": 49,
    "start_time": "2021-11-25T14:29:06.218Z"
   },
   {
    "duration": 10,
    "start_time": "2021-11-25T14:29:06.269Z"
   },
   {
    "duration": 13,
    "start_time": "2021-11-25T14:29:06.282Z"
   },
   {
    "duration": 18,
    "start_time": "2021-11-25T14:29:06.298Z"
   },
   {
    "duration": 75,
    "start_time": "2021-11-25T14:29:06.319Z"
   },
   {
    "duration": 457,
    "start_time": "2021-11-25T14:29:06.396Z"
   },
   {
    "duration": 24,
    "start_time": "2021-11-25T14:29:06.855Z"
   },
   {
    "duration": 16,
    "start_time": "2021-11-25T14:29:06.881Z"
   },
   {
    "duration": 61,
    "start_time": "2021-11-25T14:29:06.899Z"
   },
   {
    "duration": 430,
    "start_time": "2021-11-25T14:29:06.962Z"
   },
   {
    "duration": 73,
    "start_time": "2021-11-25T14:29:07.395Z"
   },
   {
    "duration": 65,
    "start_time": "2021-11-25T14:29:07.470Z"
   },
   {
    "duration": 53,
    "start_time": "2021-11-25T14:29:07.538Z"
   },
   {
    "duration": 35,
    "start_time": "2021-11-25T14:29:07.594Z"
   },
   {
    "duration": 70,
    "start_time": "2021-11-25T14:29:07.632Z"
   },
   {
    "duration": 16,
    "start_time": "2021-11-25T14:29:07.705Z"
   },
   {
    "duration": 38,
    "start_time": "2021-11-25T14:29:07.724Z"
   },
   {
    "duration": 16926,
    "start_time": "2021-11-25T14:29:07.764Z"
   },
   {
    "duration": 3,
    "start_time": "2021-11-25T14:29:24.692Z"
   },
   {
    "duration": 25,
    "start_time": "2021-11-25T14:29:24.697Z"
   },
   {
    "duration": 14,
    "start_time": "2021-11-25T14:29:24.724Z"
   },
   {
    "duration": 23,
    "start_time": "2021-11-25T14:29:24.741Z"
   },
   {
    "duration": 21,
    "start_time": "2021-11-25T14:29:24.767Z"
   },
   {
    "duration": 522,
    "start_time": "2021-11-25T14:29:24.790Z"
   },
   {
    "duration": 552,
    "start_time": "2021-11-25T14:29:25.314Z"
   },
   {
    "duration": 16,
    "start_time": "2021-11-25T14:29:25.868Z"
   },
   {
    "duration": 13,
    "start_time": "2021-11-25T14:29:25.886Z"
   },
   {
    "duration": 23,
    "start_time": "2021-11-25T14:29:25.902Z"
   },
   {
    "duration": 559,
    "start_time": "2021-11-25T14:29:25.928Z"
   },
   {
    "duration": 496,
    "start_time": "2021-11-25T14:29:26.490Z"
   },
   {
    "duration": 12,
    "start_time": "2021-11-25T14:29:26.989Z"
   },
   {
    "duration": 16,
    "start_time": "2021-11-25T14:29:27.004Z"
   },
   {
    "duration": 44,
    "start_time": "2021-11-25T14:29:27.023Z"
   },
   {
    "duration": 579,
    "start_time": "2021-11-25T14:29:27.069Z"
   },
   {
    "duration": 471,
    "start_time": "2021-11-25T14:29:27.651Z"
   },
   {
    "duration": 14,
    "start_time": "2021-11-25T14:29:28.124Z"
   },
   {
    "duration": 14,
    "start_time": "2021-11-25T14:29:28.161Z"
   },
   {
    "duration": 17,
    "start_time": "2021-11-25T14:29:28.178Z"
   },
   {
    "duration": 21,
    "start_time": "2021-11-25T14:29:28.198Z"
   },
   {
    "duration": 595,
    "start_time": "2021-11-25T14:29:28.222Z"
   },
   {
    "duration": 2260,
    "start_time": "2021-11-25T14:29:26.560Z"
   },
   {
    "duration": 2250,
    "start_time": "2021-11-25T14:29:26.571Z"
   },
   {
    "duration": 2240,
    "start_time": "2021-11-25T14:29:26.583Z"
   },
   {
    "duration": 2232,
    "start_time": "2021-11-25T14:29:26.593Z"
   },
   {
    "duration": 2223,
    "start_time": "2021-11-25T14:29:26.604Z"
   },
   {
    "duration": 449,
    "start_time": "2021-11-25T14:31:41.660Z"
   },
   {
    "duration": 35,
    "start_time": "2021-11-25T14:31:56.237Z"
   },
   {
    "duration": 35,
    "start_time": "2021-11-25T14:34:02.081Z"
   },
   {
    "duration": 38,
    "start_time": "2021-11-25T14:34:11.912Z"
   },
   {
    "duration": 37,
    "start_time": "2021-11-25T14:35:01.412Z"
   },
   {
    "duration": 42,
    "start_time": "2021-11-25T14:35:07.578Z"
   },
   {
    "duration": 41,
    "start_time": "2021-11-25T14:35:14.526Z"
   },
   {
    "duration": 1380,
    "start_time": "2021-11-25T14:36:12.039Z"
   },
   {
    "duration": 648,
    "start_time": "2021-11-25T14:36:13.422Z"
   },
   {
    "duration": 19,
    "start_time": "2021-11-25T14:36:14.073Z"
   },
   {
    "duration": 22,
    "start_time": "2021-11-25T14:36:14.095Z"
   },
   {
    "duration": 41,
    "start_time": "2021-11-25T14:36:14.119Z"
   },
   {
    "duration": 9,
    "start_time": "2021-11-25T14:36:14.163Z"
   },
   {
    "duration": 20,
    "start_time": "2021-11-25T14:36:14.174Z"
   },
   {
    "duration": 27,
    "start_time": "2021-11-25T14:36:14.197Z"
   },
   {
    "duration": 66,
    "start_time": "2021-11-25T14:36:14.227Z"
   },
   {
    "duration": 137,
    "start_time": "2021-11-25T14:36:14.295Z"
   },
   {
    "duration": 425,
    "start_time": "2021-11-25T14:36:14.434Z"
   },
   {
    "duration": 19,
    "start_time": "2021-11-25T14:36:14.861Z"
   },
   {
    "duration": 27,
    "start_time": "2021-11-25T14:36:14.883Z"
   },
   {
    "duration": 11,
    "start_time": "2021-11-25T14:36:14.912Z"
   },
   {
    "duration": 47,
    "start_time": "2021-11-25T14:36:14.925Z"
   },
   {
    "duration": 57,
    "start_time": "2021-11-25T14:36:14.975Z"
   },
   {
    "duration": 33,
    "start_time": "2021-11-25T14:36:15.035Z"
   },
   {
    "duration": 24,
    "start_time": "2021-11-25T14:36:15.071Z"
   },
   {
    "duration": 35,
    "start_time": "2021-11-25T14:36:15.097Z"
   },
   {
    "duration": 73,
    "start_time": "2021-11-25T14:36:15.135Z"
   },
   {
    "duration": 575,
    "start_time": "2021-11-25T14:36:15.211Z"
   },
   {
    "duration": 13,
    "start_time": "2021-11-25T14:36:15.789Z"
   },
   {
    "duration": 11,
    "start_time": "2021-11-25T14:36:15.808Z"
   },
   {
    "duration": 18,
    "start_time": "2021-11-25T14:36:15.823Z"
   },
   {
    "duration": 17,
    "start_time": "2021-11-25T14:36:15.860Z"
   },
   {
    "duration": 12,
    "start_time": "2021-11-25T14:36:15.879Z"
   },
   {
    "duration": 23,
    "start_time": "2021-11-25T14:36:15.893Z"
   },
   {
    "duration": 20,
    "start_time": "2021-11-25T14:36:15.919Z"
   },
   {
    "duration": 52,
    "start_time": "2021-11-25T14:36:15.941Z"
   },
   {
    "duration": 671,
    "start_time": "2021-11-25T14:36:15.996Z"
   },
   {
    "duration": 24,
    "start_time": "2021-11-25T14:36:16.670Z"
   },
   {
    "duration": 18,
    "start_time": "2021-11-25T14:36:16.696Z"
   },
   {
    "duration": 65,
    "start_time": "2021-11-25T14:36:16.716Z"
   },
   {
    "duration": 438,
    "start_time": "2021-11-25T14:36:16.783Z"
   },
   {
    "duration": 71,
    "start_time": "2021-11-25T14:36:17.224Z"
   },
   {
    "duration": 80,
    "start_time": "2021-11-25T14:36:17.297Z"
   },
   {
    "duration": 44,
    "start_time": "2021-11-25T14:36:17.380Z"
   },
   {
    "duration": 61,
    "start_time": "2021-11-25T14:36:17.426Z"
   },
   {
    "duration": 44,
    "start_time": "2021-11-25T14:36:17.489Z"
   },
   {
    "duration": 34,
    "start_time": "2021-11-25T14:36:17.536Z"
   },
   {
    "duration": 19,
    "start_time": "2021-11-25T14:36:17.572Z"
   },
   {
    "duration": 16685,
    "start_time": "2021-11-25T14:36:17.594Z"
   },
   {
    "duration": 3,
    "start_time": "2021-11-25T14:36:34.282Z"
   },
   {
    "duration": 7,
    "start_time": "2021-11-25T14:36:34.287Z"
   },
   {
    "duration": 6,
    "start_time": "2021-11-25T14:36:34.297Z"
   },
   {
    "duration": 9,
    "start_time": "2021-11-25T14:36:34.306Z"
   },
   {
    "duration": 15,
    "start_time": "2021-11-25T14:36:34.317Z"
   },
   {
    "duration": 502,
    "start_time": "2021-11-25T14:36:34.360Z"
   },
   {
    "duration": 561,
    "start_time": "2021-11-25T14:36:34.864Z"
   },
   {
    "duration": 12,
    "start_time": "2021-11-25T14:36:35.428Z"
   },
   {
    "duration": 12,
    "start_time": "2021-11-25T14:36:35.459Z"
   },
   {
    "duration": 21,
    "start_time": "2021-11-25T14:36:35.474Z"
   },
   {
    "duration": 713,
    "start_time": "2021-11-25T14:36:35.498Z"
   },
   {
    "duration": 445,
    "start_time": "2021-11-25T14:36:36.214Z"
   },
   {
    "duration": 14,
    "start_time": "2021-11-25T14:36:36.661Z"
   },
   {
    "duration": 27,
    "start_time": "2021-11-25T14:36:36.677Z"
   },
   {
    "duration": 18,
    "start_time": "2021-11-25T14:36:36.706Z"
   },
   {
    "duration": 559,
    "start_time": "2021-11-25T14:36:36.726Z"
   },
   {
    "duration": 453,
    "start_time": "2021-11-25T14:36:37.287Z"
   },
   {
    "duration": 21,
    "start_time": "2021-11-25T14:36:37.743Z"
   },
   {
    "duration": 16,
    "start_time": "2021-11-25T14:36:37.767Z"
   },
   {
    "duration": 19,
    "start_time": "2021-11-25T14:36:37.786Z"
   },
   {
    "duration": 53,
    "start_time": "2021-11-25T14:36:37.808Z"
   },
   {
    "duration": 35,
    "start_time": "2021-11-25T14:36:44.193Z"
   },
   {
    "duration": 409,
    "start_time": "2021-11-25T14:38:12.775Z"
   },
   {
    "duration": 9493,
    "start_time": "2021-11-25T14:38:23.503Z"
   },
   {
    "duration": 19,
    "start_time": "2021-11-25T14:38:33.993Z"
   },
   {
    "duration": 382,
    "start_time": "2021-11-25T14:39:45.092Z"
   },
   {
    "duration": 10,
    "start_time": "2021-11-25T14:41:35.520Z"
   },
   {
    "duration": 10,
    "start_time": "2021-11-25T14:41:59.310Z"
   },
   {
    "duration": 19,
    "start_time": "2021-11-25T15:32:44.389Z"
   },
   {
    "duration": 535,
    "start_time": "2021-11-25T15:32:55.454Z"
   },
   {
    "duration": 613,
    "start_time": "2021-11-25T15:33:17.837Z"
   },
   {
    "duration": 535,
    "start_time": "2021-11-25T15:33:47.037Z"
   },
   {
    "duration": 21,
    "start_time": "2021-11-25T15:33:56.492Z"
   },
   {
    "duration": 21,
    "start_time": "2021-11-25T15:34:11.884Z"
   },
   {
    "duration": 25,
    "start_time": "2021-11-25T15:38:53.017Z"
   },
   {
    "duration": 12,
    "start_time": "2021-11-25T15:42:18.853Z"
   },
   {
    "duration": 10,
    "start_time": "2021-11-25T15:43:20.262Z"
   },
   {
    "duration": 493,
    "start_time": "2021-11-25T15:49:08.982Z"
   },
   {
    "duration": 133,
    "start_time": "2021-11-25T15:49:20.928Z"
   },
   {
    "duration": 13,
    "start_time": "2021-11-25T15:49:26.598Z"
   },
   {
    "duration": 8,
    "start_time": "2021-11-25T15:52:36.483Z"
   },
   {
    "duration": 10,
    "start_time": "2021-11-25T15:52:48.481Z"
   },
   {
    "duration": 13,
    "start_time": "2021-11-25T15:53:25.469Z"
   },
   {
    "duration": 19,
    "start_time": "2021-11-25T15:53:31.184Z"
   },
   {
    "duration": 10,
    "start_time": "2021-11-25T15:58:18.983Z"
   },
   {
    "duration": 18,
    "start_time": "2021-11-25T15:58:47.127Z"
   },
   {
    "duration": 15,
    "start_time": "2021-11-25T16:01:58.783Z"
   },
   {
    "duration": 14,
    "start_time": "2021-11-25T16:02:34.350Z"
   },
   {
    "duration": 11,
    "start_time": "2021-11-25T16:02:38.548Z"
   },
   {
    "duration": 11156,
    "start_time": "2021-11-25T16:06:30.495Z"
   },
   {
    "duration": 18,
    "start_time": "2021-11-25T16:06:43.121Z"
   },
   {
    "duration": 11,
    "start_time": "2021-11-25T16:07:00.058Z"
   },
   {
    "duration": 8,
    "start_time": "2021-11-25T16:07:12.346Z"
   },
   {
    "duration": 410,
    "start_time": "2021-11-25T16:08:02.890Z"
   },
   {
    "duration": 11,
    "start_time": "2021-11-25T16:08:10.209Z"
   },
   {
    "duration": 390,
    "start_time": "2021-11-25T16:08:23.615Z"
   },
   {
    "duration": 504,
    "start_time": "2021-11-25T16:08:37.280Z"
   },
   {
    "duration": 11,
    "start_time": "2021-11-25T16:08:51.825Z"
   },
   {
    "duration": 1471,
    "start_time": "2021-11-25T16:09:10.550Z"
   },
   {
    "duration": 648,
    "start_time": "2021-11-25T16:09:12.027Z"
   },
   {
    "duration": 21,
    "start_time": "2021-11-25T16:09:12.679Z"
   },
   {
    "duration": 11,
    "start_time": "2021-11-25T16:09:12.703Z"
   },
   {
    "duration": 51,
    "start_time": "2021-11-25T16:09:12.717Z"
   },
   {
    "duration": 11,
    "start_time": "2021-11-25T16:09:12.771Z"
   },
   {
    "duration": 17,
    "start_time": "2021-11-25T16:09:12.785Z"
   },
   {
    "duration": 55,
    "start_time": "2021-11-25T16:09:12.808Z"
   },
   {
    "duration": 43,
    "start_time": "2021-11-25T16:09:12.867Z"
   },
   {
    "duration": 142,
    "start_time": "2021-11-25T16:09:12.912Z"
   },
   {
    "duration": 424,
    "start_time": "2021-11-25T16:09:13.056Z"
   },
   {
    "duration": 18,
    "start_time": "2021-11-25T16:09:13.483Z"
   },
   {
    "duration": 29,
    "start_time": "2021-11-25T16:09:13.504Z"
   },
   {
    "duration": 11,
    "start_time": "2021-11-25T16:09:13.560Z"
   },
   {
    "duration": 42,
    "start_time": "2021-11-25T16:09:13.573Z"
   },
   {
    "duration": 57,
    "start_time": "2021-11-25T16:09:13.618Z"
   },
   {
    "duration": 12,
    "start_time": "2021-11-25T16:09:13.678Z"
   },
   {
    "duration": 37,
    "start_time": "2021-11-25T16:09:13.692Z"
   },
   {
    "duration": 44,
    "start_time": "2021-11-25T16:09:13.731Z"
   },
   {
    "duration": 50,
    "start_time": "2021-11-25T16:09:13.777Z"
   },
   {
    "duration": 635,
    "start_time": "2021-11-25T16:09:13.830Z"
   },
   {
    "duration": 14,
    "start_time": "2021-11-25T16:09:14.468Z"
   },
   {
    "duration": 11,
    "start_time": "2021-11-25T16:09:14.485Z"
   },
   {
    "duration": 13,
    "start_time": "2021-11-25T16:09:14.499Z"
   },
   {
    "duration": 48,
    "start_time": "2021-11-25T16:09:14.514Z"
   },
   {
    "duration": 9,
    "start_time": "2021-11-25T16:09:14.568Z"
   },
   {
    "duration": 16,
    "start_time": "2021-11-25T16:09:14.581Z"
   },
   {
    "duration": 16,
    "start_time": "2021-11-25T16:09:14.600Z"
   },
   {
    "duration": 63,
    "start_time": "2021-11-25T16:09:14.619Z"
   },
   {
    "duration": 448,
    "start_time": "2021-11-25T16:09:14.685Z"
   },
   {
    "duration": 31,
    "start_time": "2021-11-25T16:09:15.135Z"
   },
   {
    "duration": 16,
    "start_time": "2021-11-25T16:09:15.168Z"
   },
   {
    "duration": 29,
    "start_time": "2021-11-25T16:09:15.187Z"
   },
   {
    "duration": 555,
    "start_time": "2021-11-25T16:09:15.218Z"
   },
   {
    "duration": 59,
    "start_time": "2021-11-25T16:09:15.775Z"
   },
   {
    "duration": 75,
    "start_time": "2021-11-25T16:09:15.837Z"
   },
   {
    "duration": 55,
    "start_time": "2021-11-25T16:09:15.915Z"
   },
   {
    "duration": 34,
    "start_time": "2021-11-25T16:09:15.973Z"
   },
   {
    "duration": 70,
    "start_time": "2021-11-25T16:09:16.010Z"
   },
   {
    "duration": 14,
    "start_time": "2021-11-25T16:09:16.083Z"
   },
   {
    "duration": 9,
    "start_time": "2021-11-25T16:09:16.100Z"
   },
   {
    "duration": 17051,
    "start_time": "2021-11-25T16:09:16.112Z"
   },
   {
    "duration": 3,
    "start_time": "2021-11-25T16:09:33.165Z"
   },
   {
    "duration": 8,
    "start_time": "2021-11-25T16:09:33.170Z"
   },
   {
    "duration": 8,
    "start_time": "2021-11-25T16:09:33.180Z"
   },
   {
    "duration": 17,
    "start_time": "2021-11-25T16:09:33.190Z"
   },
   {
    "duration": 19,
    "start_time": "2021-11-25T16:09:33.209Z"
   },
   {
    "duration": 529,
    "start_time": "2021-11-25T16:09:33.230Z"
   },
   {
    "duration": 461,
    "start_time": "2021-11-25T16:09:33.762Z"
   },
   {
    "duration": 13,
    "start_time": "2021-11-25T16:09:34.226Z"
   },
   {
    "duration": 13,
    "start_time": "2021-11-25T16:09:34.260Z"
   },
   {
    "duration": 20,
    "start_time": "2021-11-25T16:09:34.276Z"
   },
   {
    "duration": 612,
    "start_time": "2021-11-25T16:09:34.298Z"
   },
   {
    "duration": 665,
    "start_time": "2021-11-25T16:09:34.912Z"
   },
   {
    "duration": 13,
    "start_time": "2021-11-25T16:09:35.579Z"
   },
   {
    "duration": 26,
    "start_time": "2021-11-25T16:09:35.594Z"
   },
   {
    "duration": 26,
    "start_time": "2021-11-25T16:09:35.622Z"
   },
   {
    "duration": 684,
    "start_time": "2021-11-25T16:09:35.650Z"
   },
   {
    "duration": 482,
    "start_time": "2021-11-25T16:09:36.337Z"
   },
   {
    "duration": 14,
    "start_time": "2021-11-25T16:09:36.821Z"
   },
   {
    "duration": 39,
    "start_time": "2021-11-25T16:09:36.837Z"
   },
   {
    "duration": 41,
    "start_time": "2021-11-25T16:09:36.879Z"
   },
   {
    "duration": 37,
    "start_time": "2021-11-25T16:09:36.923Z"
   },
   {
    "duration": 35,
    "start_time": "2021-11-25T16:09:36.962Z"
   },
   {
    "duration": 674,
    "start_time": "2021-11-25T16:09:37.000Z"
   },
   {
    "duration": 26,
    "start_time": "2021-11-25T16:09:37.676Z"
   },
   {
    "duration": 30,
    "start_time": "2021-11-25T16:09:37.704Z"
   },
   {
    "duration": 30,
    "start_time": "2021-11-25T16:09:37.737Z"
   },
   {
    "duration": 15,
    "start_time": "2021-11-25T16:09:37.770Z"
   },
   {
    "duration": 13,
    "start_time": "2021-11-25T16:13:49.625Z"
   },
   {
    "duration": 322,
    "start_time": "2021-11-25T16:15:24.823Z"
   },
   {
    "duration": 497,
    "start_time": "2021-11-25T16:15:30.207Z"
   },
   {
    "duration": 337,
    "start_time": "2021-11-25T16:15:35.007Z"
   },
   {
    "duration": 323,
    "start_time": "2021-11-25T16:15:39.287Z"
   },
   {
    "duration": 626,
    "start_time": "2021-11-25T16:16:05.537Z"
   },
   {
    "duration": 408,
    "start_time": "2021-11-25T16:16:16.614Z"
   },
   {
    "duration": 16,
    "start_time": "2021-11-25T16:16:24.484Z"
   },
   {
    "duration": 7,
    "start_time": "2021-11-25T16:18:04.966Z"
   },
   {
    "duration": 6,
    "start_time": "2021-11-25T16:18:59.449Z"
   },
   {
    "duration": 1497,
    "start_time": "2021-11-25T16:19:18.439Z"
   },
   {
    "duration": 676,
    "start_time": "2021-11-25T16:19:19.939Z"
   },
   {
    "duration": 21,
    "start_time": "2021-11-25T16:19:20.619Z"
   },
   {
    "duration": 11,
    "start_time": "2021-11-25T16:19:20.644Z"
   },
   {
    "duration": 37,
    "start_time": "2021-11-25T16:19:20.658Z"
   },
   {
    "duration": 9,
    "start_time": "2021-11-25T16:19:20.698Z"
   },
   {
    "duration": 11,
    "start_time": "2021-11-25T16:19:20.710Z"
   },
   {
    "duration": 57,
    "start_time": "2021-11-25T16:19:20.728Z"
   },
   {
    "duration": 81,
    "start_time": "2021-11-25T16:19:20.789Z"
   },
   {
    "duration": 184,
    "start_time": "2021-11-25T16:19:20.873Z"
   },
   {
    "duration": 716,
    "start_time": "2021-11-25T16:19:21.060Z"
   },
   {
    "duration": 22,
    "start_time": "2021-11-25T16:19:21.780Z"
   },
   {
    "duration": 59,
    "start_time": "2021-11-25T16:19:21.805Z"
   },
   {
    "duration": 12,
    "start_time": "2021-11-25T16:19:21.866Z"
   },
   {
    "duration": 20,
    "start_time": "2021-11-25T16:19:21.881Z"
   },
   {
    "duration": 84,
    "start_time": "2021-11-25T16:19:21.904Z"
   },
   {
    "duration": 12,
    "start_time": "2021-11-25T16:19:21.991Z"
   },
   {
    "duration": 24,
    "start_time": "2021-11-25T16:19:22.006Z"
   },
   {
    "duration": 63,
    "start_time": "2021-11-25T16:19:22.032Z"
   },
   {
    "duration": 81,
    "start_time": "2021-11-25T16:19:22.098Z"
   },
   {
    "duration": 506,
    "start_time": "2021-11-25T16:19:22.182Z"
   },
   {
    "duration": 15,
    "start_time": "2021-11-25T16:19:22.690Z"
   },
   {
    "duration": 12,
    "start_time": "2021-11-25T16:19:22.713Z"
   },
   {
    "duration": 38,
    "start_time": "2021-11-25T16:19:22.729Z"
   },
   {
    "duration": 15,
    "start_time": "2021-11-25T16:19:22.770Z"
   },
   {
    "duration": 8,
    "start_time": "2021-11-25T16:19:22.788Z"
   },
   {
    "duration": 17,
    "start_time": "2021-11-25T16:19:22.798Z"
   },
   {
    "duration": 49,
    "start_time": "2021-11-25T16:19:22.817Z"
   },
   {
    "duration": 35,
    "start_time": "2021-11-25T16:19:22.869Z"
   },
   {
    "duration": 492,
    "start_time": "2021-11-25T16:19:22.906Z"
   },
   {
    "duration": 24,
    "start_time": "2021-11-25T16:19:23.401Z"
   },
   {
    "duration": 42,
    "start_time": "2021-11-25T16:19:23.428Z"
   },
   {
    "duration": 32,
    "start_time": "2021-11-25T16:19:23.472Z"
   },
   {
    "duration": 477,
    "start_time": "2021-11-25T16:19:23.506Z"
   },
   {
    "duration": 75,
    "start_time": "2021-11-25T16:19:23.985Z"
   },
   {
    "duration": 111,
    "start_time": "2021-11-25T16:19:24.063Z"
   },
   {
    "duration": 64,
    "start_time": "2021-11-25T16:19:24.178Z"
   },
   {
    "duration": 53,
    "start_time": "2021-11-25T16:19:24.245Z"
   },
   {
    "duration": 72,
    "start_time": "2021-11-25T16:19:24.301Z"
   },
   {
    "duration": 18,
    "start_time": "2021-11-25T16:19:24.376Z"
   },
   {
    "duration": 11,
    "start_time": "2021-11-25T16:19:24.397Z"
   },
   {
    "duration": 18430,
    "start_time": "2021-11-25T16:19:24.411Z"
   },
   {
    "duration": 3,
    "start_time": "2021-11-25T16:19:42.843Z"
   },
   {
    "duration": 3,
    "start_time": "2021-11-25T16:19:42.859Z"
   },
   {
    "duration": 7,
    "start_time": "2021-11-25T16:19:42.864Z"
   },
   {
    "duration": 8,
    "start_time": "2021-11-25T16:19:42.873Z"
   },
   {
    "duration": 21,
    "start_time": "2021-11-25T16:19:42.884Z"
   },
   {
    "duration": 575,
    "start_time": "2021-11-25T16:19:42.908Z"
   },
   {
    "duration": 586,
    "start_time": "2021-11-25T16:19:43.486Z"
   },
   {
    "duration": 16,
    "start_time": "2021-11-25T16:19:44.074Z"
   },
   {
    "duration": 18,
    "start_time": "2021-11-25T16:19:44.093Z"
   },
   {
    "duration": 12,
    "start_time": "2021-11-25T16:19:44.114Z"
   },
   {
    "duration": 577,
    "start_time": "2021-11-25T16:19:44.129Z"
   },
   {
    "duration": 475,
    "start_time": "2021-11-25T16:19:44.708Z"
   },
   {
    "duration": 15,
    "start_time": "2021-11-25T16:19:45.186Z"
   },
   {
    "duration": 15,
    "start_time": "2021-11-25T16:19:45.204Z"
   },
   {
    "duration": 47,
    "start_time": "2021-11-25T16:19:45.222Z"
   },
   {
    "duration": 565,
    "start_time": "2021-11-25T16:19:45.272Z"
   },
   {
    "duration": 471,
    "start_time": "2021-11-25T16:19:45.840Z"
   },
   {
    "duration": 13,
    "start_time": "2021-11-25T16:19:46.314Z"
   },
   {
    "duration": 37,
    "start_time": "2021-11-25T16:19:46.330Z"
   },
   {
    "duration": 16,
    "start_time": "2021-11-25T16:19:46.369Z"
   },
   {
    "duration": 24,
    "start_time": "2021-11-25T16:19:46.387Z"
   },
   {
    "duration": 64,
    "start_time": "2021-11-25T16:19:46.413Z"
   },
   {
    "duration": 550,
    "start_time": "2021-11-25T16:19:46.480Z"
   },
   {
    "duration": 36,
    "start_time": "2021-11-25T16:19:47.033Z"
   },
   {
    "duration": 10,
    "start_time": "2021-11-25T16:19:47.072Z"
   },
   {
    "duration": 507,
    "start_time": "2021-11-25T16:19:47.090Z"
   },
   {
    "duration": 2155,
    "start_time": "2021-11-25T16:19:45.445Z"
   },
   {
    "duration": 2134,
    "start_time": "2021-11-25T16:19:45.467Z"
   },
   {
    "duration": 2123,
    "start_time": "2021-11-25T16:19:45.479Z"
   },
   {
    "duration": 544,
    "start_time": "2021-11-25T16:20:37.081Z"
   },
   {
    "duration": 16,
    "start_time": "2021-11-25T16:20:51.494Z"
   },
   {
    "duration": 12,
    "start_time": "2021-11-25T16:21:05.811Z"
   },
   {
    "duration": 1412,
    "start_time": "2021-11-25T16:21:15.245Z"
   },
   {
    "duration": 628,
    "start_time": "2021-11-25T16:21:16.659Z"
   },
   {
    "duration": 19,
    "start_time": "2021-11-25T16:21:17.290Z"
   },
   {
    "duration": 16,
    "start_time": "2021-11-25T16:21:17.312Z"
   },
   {
    "duration": 30,
    "start_time": "2021-11-25T16:21:17.331Z"
   },
   {
    "duration": 9,
    "start_time": "2021-11-25T16:21:17.363Z"
   },
   {
    "duration": 12,
    "start_time": "2021-11-25T16:21:17.375Z"
   },
   {
    "duration": 26,
    "start_time": "2021-11-25T16:21:17.391Z"
   },
   {
    "duration": 76,
    "start_time": "2021-11-25T16:21:17.421Z"
   },
   {
    "duration": 147,
    "start_time": "2021-11-25T16:21:17.499Z"
   },
   {
    "duration": 462,
    "start_time": "2021-11-25T16:21:17.648Z"
   },
   {
    "duration": 19,
    "start_time": "2021-11-25T16:21:18.112Z"
   },
   {
    "duration": 46,
    "start_time": "2021-11-25T16:21:18.134Z"
   },
   {
    "duration": 10,
    "start_time": "2021-11-25T16:21:18.183Z"
   },
   {
    "duration": 19,
    "start_time": "2021-11-25T16:21:18.195Z"
   },
   {
    "duration": 87,
    "start_time": "2021-11-25T16:21:18.217Z"
   },
   {
    "duration": 12,
    "start_time": "2021-11-25T16:21:18.306Z"
   },
   {
    "duration": 20,
    "start_time": "2021-11-25T16:21:18.320Z"
   },
   {
    "duration": 50,
    "start_time": "2021-11-25T16:21:18.343Z"
   },
   {
    "duration": 82,
    "start_time": "2021-11-25T16:21:18.397Z"
   },
   {
    "duration": 493,
    "start_time": "2021-11-25T16:21:18.482Z"
   },
   {
    "duration": 16,
    "start_time": "2021-11-25T16:21:18.978Z"
   },
   {
    "duration": 13,
    "start_time": "2021-11-25T16:21:19.000Z"
   },
   {
    "duration": 42,
    "start_time": "2021-11-25T16:21:19.017Z"
   },
   {
    "duration": 12,
    "start_time": "2021-11-25T16:21:19.061Z"
   },
   {
    "duration": 9,
    "start_time": "2021-11-25T16:21:19.075Z"
   },
   {
    "duration": 12,
    "start_time": "2021-11-25T16:21:19.086Z"
   },
   {
    "duration": 16,
    "start_time": "2021-11-25T16:21:19.100Z"
   },
   {
    "duration": 72,
    "start_time": "2021-11-25T16:21:19.118Z"
   },
   {
    "duration": 467,
    "start_time": "2021-11-25T16:21:19.192Z"
   },
   {
    "duration": 24,
    "start_time": "2021-11-25T16:21:19.662Z"
   },
   {
    "duration": 18,
    "start_time": "2021-11-25T16:21:19.688Z"
   },
   {
    "duration": 62,
    "start_time": "2021-11-25T16:21:19.708Z"
   },
   {
    "duration": 448,
    "start_time": "2021-11-25T16:21:19.773Z"
   },
   {
    "duration": 73,
    "start_time": "2021-11-25T16:21:20.223Z"
   },
   {
    "duration": 72,
    "start_time": "2021-11-25T16:21:20.299Z"
   },
   {
    "duration": 42,
    "start_time": "2021-11-25T16:21:20.373Z"
   },
   {
    "duration": 60,
    "start_time": "2021-11-25T16:21:20.418Z"
   },
   {
    "duration": 53,
    "start_time": "2021-11-25T16:21:20.481Z"
   },
   {
    "duration": 27,
    "start_time": "2021-11-25T16:21:20.537Z"
   },
   {
    "duration": 11,
    "start_time": "2021-11-25T16:21:20.567Z"
   },
   {
    "duration": 16823,
    "start_time": "2021-11-25T16:21:20.581Z"
   },
   {
    "duration": 2,
    "start_time": "2021-11-25T16:21:37.407Z"
   },
   {
    "duration": 24,
    "start_time": "2021-11-25T16:21:37.412Z"
   },
   {
    "duration": 19,
    "start_time": "2021-11-25T16:21:37.439Z"
   },
   {
    "duration": 26,
    "start_time": "2021-11-25T16:21:37.460Z"
   },
   {
    "duration": 17,
    "start_time": "2021-11-25T16:21:37.489Z"
   },
   {
    "duration": 526,
    "start_time": "2021-11-25T16:21:37.508Z"
   },
   {
    "duration": 550,
    "start_time": "2021-11-25T16:21:38.036Z"
   },
   {
    "duration": 14,
    "start_time": "2021-11-25T16:21:38.589Z"
   },
   {
    "duration": 14,
    "start_time": "2021-11-25T16:21:38.606Z"
   },
   {
    "duration": 44,
    "start_time": "2021-11-25T16:21:38.622Z"
   },
   {
    "duration": 538,
    "start_time": "2021-11-25T16:21:38.668Z"
   },
   {
    "duration": 463,
    "start_time": "2021-11-25T16:21:39.209Z"
   },
   {
    "duration": 14,
    "start_time": "2021-11-25T16:21:39.676Z"
   },
   {
    "duration": 15,
    "start_time": "2021-11-25T16:21:39.693Z"
   },
   {
    "duration": 51,
    "start_time": "2021-11-25T16:21:39.711Z"
   },
   {
    "duration": 564,
    "start_time": "2021-11-25T16:21:39.764Z"
   },
   {
    "duration": 474,
    "start_time": "2021-11-25T16:21:40.330Z"
   },
   {
    "duration": 14,
    "start_time": "2021-11-25T16:21:40.807Z"
   },
   {
    "duration": 42,
    "start_time": "2021-11-25T16:21:40.823Z"
   },
   {
    "duration": 16,
    "start_time": "2021-11-25T16:21:40.867Z"
   },
   {
    "duration": 20,
    "start_time": "2021-11-25T16:21:40.885Z"
   },
   {
    "duration": 61,
    "start_time": "2021-11-25T16:21:40.908Z"
   },
   {
    "duration": 572,
    "start_time": "2021-11-25T16:21:40.972Z"
   },
   {
    "duration": 31,
    "start_time": "2021-11-25T16:21:41.546Z"
   },
   {
    "duration": 11,
    "start_time": "2021-11-25T16:21:41.580Z"
   },
   {
    "duration": 13,
    "start_time": "2021-11-25T16:21:41.601Z"
   },
   {
    "duration": 52,
    "start_time": "2021-11-25T16:21:41.618Z"
   },
   {
    "duration": 1047,
    "start_time": "2021-11-26T06:45:13.887Z"
   },
   {
    "duration": 468,
    "start_time": "2021-11-26T06:45:14.936Z"
   },
   {
    "duration": 13,
    "start_time": "2021-11-26T06:45:15.406Z"
   },
   {
    "duration": 26,
    "start_time": "2021-11-26T06:45:15.421Z"
   },
   {
    "duration": 46,
    "start_time": "2021-11-26T06:45:15.449Z"
   },
   {
    "duration": 27,
    "start_time": "2021-11-26T06:45:15.497Z"
   },
   {
    "duration": 30,
    "start_time": "2021-11-26T06:45:15.526Z"
   },
   {
    "duration": 17,
    "start_time": "2021-11-26T06:45:15.559Z"
   },
   {
    "duration": 49,
    "start_time": "2021-11-26T06:45:15.579Z"
   },
   {
    "duration": 98,
    "start_time": "2021-11-26T06:45:15.630Z"
   },
   {
    "duration": 284,
    "start_time": "2021-11-26T06:45:15.730Z"
   },
   {
    "duration": 15,
    "start_time": "2021-11-26T06:45:16.016Z"
   },
   {
    "duration": 26,
    "start_time": "2021-11-26T06:45:16.044Z"
   },
   {
    "duration": 9,
    "start_time": "2021-11-26T06:45:16.072Z"
   },
   {
    "duration": 27,
    "start_time": "2021-11-26T06:45:16.083Z"
   },
   {
    "duration": 51,
    "start_time": "2021-11-26T06:45:16.112Z"
   },
   {
    "duration": 9,
    "start_time": "2021-11-26T06:45:16.165Z"
   },
   {
    "duration": 26,
    "start_time": "2021-11-26T06:45:16.175Z"
   },
   {
    "duration": 37,
    "start_time": "2021-11-26T06:45:16.202Z"
   },
   {
    "duration": 37,
    "start_time": "2021-11-26T06:45:16.241Z"
   },
   {
    "duration": 287,
    "start_time": "2021-11-26T06:45:16.280Z"
   },
   {
    "duration": 13,
    "start_time": "2021-11-26T06:45:16.569Z"
   },
   {
    "duration": 14,
    "start_time": "2021-11-26T06:45:16.586Z"
   },
   {
    "duration": 11,
    "start_time": "2021-11-26T06:45:16.603Z"
   },
   {
    "duration": 41,
    "start_time": "2021-11-26T06:45:16.616Z"
   },
   {
    "duration": 9,
    "start_time": "2021-11-26T06:45:16.659Z"
   },
   {
    "duration": 35,
    "start_time": "2021-11-26T06:45:16.670Z"
   },
   {
    "duration": 31,
    "start_time": "2021-11-26T06:45:16.707Z"
   },
   {
    "duration": 32,
    "start_time": "2021-11-26T06:45:16.740Z"
   },
   {
    "duration": 267,
    "start_time": "2021-11-26T06:45:16.774Z"
   },
   {
    "duration": 16,
    "start_time": "2021-11-26T06:45:17.042Z"
   },
   {
    "duration": 21,
    "start_time": "2021-11-26T06:45:17.059Z"
   },
   {
    "duration": 36,
    "start_time": "2021-11-26T06:45:17.082Z"
   },
   {
    "duration": 280,
    "start_time": "2021-11-26T06:45:17.120Z"
   },
   {
    "duration": 50,
    "start_time": "2021-11-26T06:45:17.402Z"
   },
   {
    "duration": 45,
    "start_time": "2021-11-26T06:45:17.454Z"
   },
   {
    "duration": 44,
    "start_time": "2021-11-26T06:45:17.500Z"
   },
   {
    "duration": 24,
    "start_time": "2021-11-26T06:45:17.546Z"
   },
   {
    "duration": 27,
    "start_time": "2021-11-26T06:45:17.571Z"
   },
   {
    "duration": 9,
    "start_time": "2021-11-26T06:45:17.599Z"
   },
   {
    "duration": 21,
    "start_time": "2021-11-26T06:45:17.609Z"
   },
   {
    "duration": 9826,
    "start_time": "2021-11-26T06:45:17.644Z"
   },
   {
    "duration": 2,
    "start_time": "2021-11-26T06:45:27.471Z"
   },
   {
    "duration": 17,
    "start_time": "2021-11-26T06:45:27.475Z"
   },
   {
    "duration": 23,
    "start_time": "2021-11-26T06:45:27.494Z"
   },
   {
    "duration": 19,
    "start_time": "2021-11-26T06:45:27.519Z"
   },
   {
    "duration": 26,
    "start_time": "2021-11-26T06:45:27.540Z"
   },
   {
    "duration": 307,
    "start_time": "2021-11-26T06:45:27.567Z"
   },
   {
    "duration": 346,
    "start_time": "2021-11-26T06:45:27.875Z"
   },
   {
    "duration": 8,
    "start_time": "2021-11-26T06:45:28.223Z"
   },
   {
    "duration": 24,
    "start_time": "2021-11-26T06:45:28.233Z"
   },
   {
    "duration": 21,
    "start_time": "2021-11-26T06:45:28.258Z"
   },
   {
    "duration": 308,
    "start_time": "2021-11-26T06:45:28.280Z"
   },
   {
    "duration": 275,
    "start_time": "2021-11-26T06:45:28.590Z"
   },
   {
    "duration": 9,
    "start_time": "2021-11-26T06:45:28.866Z"
   },
   {
    "duration": 28,
    "start_time": "2021-11-26T06:45:28.876Z"
   },
   {
    "duration": 41,
    "start_time": "2021-11-26T06:45:28.905Z"
   },
   {
    "duration": 320,
    "start_time": "2021-11-26T06:45:28.947Z"
   },
   {
    "duration": 353,
    "start_time": "2021-11-26T06:45:29.268Z"
   },
   {
    "duration": 11,
    "start_time": "2021-11-26T06:45:29.623Z"
   },
   {
    "duration": 21,
    "start_time": "2021-11-26T06:45:29.645Z"
   },
   {
    "duration": 29,
    "start_time": "2021-11-26T06:45:29.668Z"
   },
   {
    "duration": 31,
    "start_time": "2021-11-26T06:45:29.699Z"
   },
   {
    "duration": 31,
    "start_time": "2021-11-26T06:45:29.731Z"
   },
   {
    "duration": 325,
    "start_time": "2021-11-26T06:45:29.764Z"
   },
   {
    "duration": 17,
    "start_time": "2021-11-26T06:45:30.091Z"
   },
   {
    "duration": 31,
    "start_time": "2021-11-26T06:45:30.110Z"
   },
   {
    "duration": 24,
    "start_time": "2021-11-26T06:45:30.145Z"
   },
   {
    "duration": 27,
    "start_time": "2021-11-26T06:45:30.171Z"
   },
   {
    "duration": 18,
    "start_time": "2021-11-26T06:45:47.737Z"
   },
   {
    "duration": 16,
    "start_time": "2021-11-26T06:49:12.346Z"
   },
   {
    "duration": 8,
    "start_time": "2021-11-26T06:49:39.762Z"
   },
   {
    "duration": 8,
    "start_time": "2021-11-26T06:49:50.541Z"
   },
   {
    "duration": 11,
    "start_time": "2021-11-26T06:50:35.687Z"
   },
   {
    "duration": 17,
    "start_time": "2021-11-26T06:50:49.845Z"
   },
   {
    "duration": 5,
    "start_time": "2021-11-26T06:51:10.611Z"
   },
   {
    "duration": 351,
    "start_time": "2021-11-26T06:51:16.235Z"
   },
   {
    "duration": 8,
    "start_time": "2021-11-26T06:51:24.548Z"
   },
   {
    "duration": 75,
    "start_time": "2021-11-26T06:51:45.788Z"
   },
   {
    "duration": 6,
    "start_time": "2021-11-26T06:51:59.319Z"
   },
   {
    "duration": 7,
    "start_time": "2021-11-26T06:52:06.748Z"
   },
   {
    "duration": 532,
    "start_time": "2021-11-26T18:59:00.412Z"
   },
   {
    "duration": 1515,
    "start_time": "2021-11-26T18:59:05.853Z"
   },
   {
    "duration": 748,
    "start_time": "2021-11-26T18:59:07.371Z"
   },
   {
    "duration": 18,
    "start_time": "2021-11-26T18:59:08.122Z"
   },
   {
    "duration": 10,
    "start_time": "2021-11-26T18:59:08.143Z"
   },
   {
    "duration": 45,
    "start_time": "2021-11-26T18:59:08.156Z"
   },
   {
    "duration": 9,
    "start_time": "2021-11-26T18:59:08.203Z"
   },
   {
    "duration": 11,
    "start_time": "2021-11-26T18:59:08.215Z"
   },
   {
    "duration": 21,
    "start_time": "2021-11-26T18:59:08.230Z"
   },
   {
    "duration": 81,
    "start_time": "2021-11-26T18:59:08.254Z"
   },
   {
    "duration": 145,
    "start_time": "2021-11-26T18:59:08.338Z"
   },
   {
    "duration": 451,
    "start_time": "2021-11-26T18:59:08.485Z"
   },
   {
    "duration": 19,
    "start_time": "2021-11-26T18:59:08.939Z"
   },
   {
    "duration": 52,
    "start_time": "2021-11-26T18:59:08.961Z"
   },
   {
    "duration": 12,
    "start_time": "2021-11-26T18:59:09.015Z"
   },
   {
    "duration": 17,
    "start_time": "2021-11-26T18:59:09.030Z"
   },
   {
    "duration": 95,
    "start_time": "2021-11-26T18:59:09.050Z"
   },
   {
    "duration": 14,
    "start_time": "2021-11-26T18:59:09.148Z"
   },
   {
    "duration": 42,
    "start_time": "2021-11-26T18:59:09.165Z"
   },
   {
    "duration": 34,
    "start_time": "2021-11-26T18:59:09.210Z"
   },
   {
    "duration": 102,
    "start_time": "2021-11-26T18:59:09.247Z"
   },
   {
    "duration": 482,
    "start_time": "2021-11-26T18:59:09.351Z"
   },
   {
    "duration": 14,
    "start_time": "2021-11-26T18:59:09.836Z"
   },
   {
    "duration": 44,
    "start_time": "2021-11-26T18:59:09.856Z"
   },
   {
    "duration": 9,
    "start_time": "2021-11-26T18:59:09.904Z"
   },
   {
    "duration": 14,
    "start_time": "2021-11-26T18:59:09.917Z"
   },
   {
    "duration": 12,
    "start_time": "2021-11-26T18:59:09.935Z"
   },
   {
    "duration": 11,
    "start_time": "2021-11-26T18:59:09.951Z"
   },
   {
    "duration": 20,
    "start_time": "2021-11-26T18:59:10.000Z"
   },
   {
    "duration": 37,
    "start_time": "2021-11-26T18:59:10.022Z"
   },
   {
    "duration": 478,
    "start_time": "2021-11-26T18:59:10.062Z"
   },
   {
    "duration": 23,
    "start_time": "2021-11-26T18:59:10.543Z"
   },
   {
    "duration": 42,
    "start_time": "2021-11-26T18:59:10.569Z"
   },
   {
    "duration": 29,
    "start_time": "2021-11-26T18:59:10.613Z"
   },
   {
    "duration": 475,
    "start_time": "2021-11-26T18:59:10.644Z"
   },
   {
    "duration": 63,
    "start_time": "2021-11-26T18:59:11.122Z"
   },
   {
    "duration": 72,
    "start_time": "2021-11-26T18:59:11.187Z"
   },
   {
    "duration": 65,
    "start_time": "2021-11-26T18:59:11.261Z"
   },
   {
    "duration": 35,
    "start_time": "2021-11-26T18:59:11.329Z"
   },
   {
    "duration": 71,
    "start_time": "2021-11-26T18:59:11.367Z"
   },
   {
    "duration": 19,
    "start_time": "2021-11-26T18:59:11.441Z"
   },
   {
    "duration": 38,
    "start_time": "2021-11-26T18:59:11.463Z"
   },
   {
    "duration": 19745,
    "start_time": "2021-11-26T18:59:11.504Z"
   },
   {
    "duration": 17,
    "start_time": "2021-11-26T18:59:31.251Z"
   },
   {
    "duration": 742,
    "start_time": "2021-11-26T18:59:31.270Z"
   },
   {
    "duration": 464,
    "start_time": "2021-11-26T18:59:32.014Z"
   },
   {
    "duration": 21,
    "start_time": "2021-11-26T18:59:32.480Z"
   },
   {
    "duration": 29,
    "start_time": "2021-11-26T18:59:32.504Z"
   },
   {
    "duration": 27,
    "start_time": "2021-11-26T18:59:32.535Z"
   },
   {
    "duration": 1015,
    "start_time": "2021-11-26T18:59:32.565Z"
   },
   {
    "duration": 458,
    "start_time": "2021-11-26T18:59:33.583Z"
   },
   {
    "duration": 19,
    "start_time": "2021-11-26T18:59:34.044Z"
   },
   {
    "duration": 42,
    "start_time": "2021-11-26T18:59:34.066Z"
   },
   {
    "duration": 18,
    "start_time": "2021-11-26T18:59:34.112Z"
   },
   {
    "duration": 564,
    "start_time": "2021-11-26T18:59:34.133Z"
   },
   {
    "duration": 461,
    "start_time": "2021-11-26T18:59:34.701Z"
   },
   {
    "duration": 14,
    "start_time": "2021-11-26T18:59:35.165Z"
   },
   {
    "duration": 26,
    "start_time": "2021-11-26T18:59:35.182Z"
   },
   {
    "duration": 16,
    "start_time": "2021-11-26T18:59:35.211Z"
   },
   {
    "duration": 26,
    "start_time": "2021-11-26T18:59:35.229Z"
   },
   {
    "duration": 48,
    "start_time": "2021-11-26T18:59:35.258Z"
   },
   {
    "duration": 13,
    "start_time": "2021-11-26T18:59:35.309Z"
   },
   {
    "duration": 20,
    "start_time": "2021-11-26T18:59:35.328Z"
   },
   {
    "duration": 12,
    "start_time": "2021-11-26T19:06:40.450Z"
   },
   {
    "duration": 451,
    "start_time": "2021-11-26T19:07:10.694Z"
   },
   {
    "duration": 20,
    "start_time": "2021-11-26T19:08:27.041Z"
   },
   {
    "duration": 2782,
    "start_time": "2021-11-26T19:15:41.054Z"
   },
   {
    "duration": 49,
    "start_time": "2021-11-26T19:15:51.166Z"
   },
   {
    "duration": 17,
    "start_time": "2021-11-26T19:16:01.068Z"
   },
   {
    "duration": 9095,
    "start_time": "2021-11-26T19:16:21.312Z"
   },
   {
    "duration": 17610,
    "start_time": "2021-11-26T19:17:22.324Z"
   },
   {
    "duration": 4,
    "start_time": "2021-11-26T19:18:04.745Z"
   },
   {
    "duration": 729,
    "start_time": "2021-11-26T19:18:04.755Z"
   },
   {
    "duration": 20,
    "start_time": "2021-11-26T19:18:05.487Z"
   },
   {
    "duration": 20,
    "start_time": "2021-11-26T19:18:05.511Z"
   },
   {
    "duration": 26,
    "start_time": "2021-11-26T19:18:05.534Z"
   },
   {
    "duration": 9,
    "start_time": "2021-11-26T19:18:05.562Z"
   },
   {
    "duration": 12,
    "start_time": "2021-11-26T19:18:05.601Z"
   },
   {
    "duration": 21,
    "start_time": "2021-11-26T19:18:05.616Z"
   },
   {
    "duration": 70,
    "start_time": "2021-11-26T19:18:05.641Z"
   },
   {
    "duration": 140,
    "start_time": "2021-11-26T19:18:05.714Z"
   },
   {
    "duration": 537,
    "start_time": "2021-11-26T19:18:05.857Z"
   },
   {
    "duration": 18,
    "start_time": "2021-11-26T19:18:06.400Z"
   },
   {
    "duration": 28,
    "start_time": "2021-11-26T19:18:06.421Z"
   },
   {
    "duration": 11,
    "start_time": "2021-11-26T19:18:06.452Z"
   },
   {
    "duration": 49,
    "start_time": "2021-11-26T19:18:06.465Z"
   },
   {
    "duration": 60,
    "start_time": "2021-11-26T19:18:06.517Z"
   },
   {
    "duration": 29,
    "start_time": "2021-11-26T19:18:06.579Z"
   },
   {
    "duration": 20,
    "start_time": "2021-11-26T19:18:06.612Z"
   },
   {
    "duration": 78,
    "start_time": "2021-11-26T19:18:06.635Z"
   },
   {
    "duration": 61,
    "start_time": "2021-11-26T19:18:06.716Z"
   },
   {
    "duration": 499,
    "start_time": "2021-11-26T19:18:06.780Z"
   },
   {
    "duration": 26,
    "start_time": "2021-11-26T19:18:07.282Z"
   },
   {
    "duration": 13,
    "start_time": "2021-11-26T19:18:07.310Z"
   },
   {
    "duration": 8,
    "start_time": "2021-11-26T19:18:07.332Z"
   },
   {
    "duration": 7,
    "start_time": "2021-11-26T19:18:07.345Z"
   },
   {
    "duration": 10,
    "start_time": "2021-11-26T19:18:07.402Z"
   },
   {
    "duration": 15,
    "start_time": "2021-11-26T19:18:07.415Z"
   },
   {
    "duration": 17,
    "start_time": "2021-11-26T19:18:07.432Z"
   },
   {
    "duration": 72,
    "start_time": "2021-11-26T19:18:07.451Z"
   },
   {
    "duration": 545,
    "start_time": "2021-11-26T19:18:07.526Z"
   },
   {
    "duration": 36,
    "start_time": "2021-11-26T19:18:08.074Z"
   },
   {
    "duration": 24,
    "start_time": "2021-11-26T19:18:08.112Z"
   },
   {
    "duration": 30,
    "start_time": "2021-11-26T19:18:08.138Z"
   },
   {
    "duration": 471,
    "start_time": "2021-11-26T19:18:08.170Z"
   },
   {
    "duration": 78,
    "start_time": "2021-11-26T19:18:08.643Z"
   },
   {
    "duration": 57,
    "start_time": "2021-11-26T19:18:08.723Z"
   },
   {
    "duration": 56,
    "start_time": "2021-11-26T19:18:08.783Z"
   },
   {
    "duration": 62,
    "start_time": "2021-11-26T19:18:08.842Z"
   },
   {
    "duration": 61,
    "start_time": "2021-11-26T19:18:08.907Z"
   },
   {
    "duration": 36,
    "start_time": "2021-11-26T19:18:08.971Z"
   },
   {
    "duration": 8,
    "start_time": "2021-11-26T19:18:09.009Z"
   },
   {
    "duration": 17898,
    "start_time": "2021-11-26T19:18:09.020Z"
   },
   {
    "duration": 12,
    "start_time": "2021-11-26T19:18:26.920Z"
   },
   {
    "duration": 539,
    "start_time": "2021-11-26T19:18:26.934Z"
   },
   {
    "duration": 476,
    "start_time": "2021-11-26T19:18:27.475Z"
   },
   {
    "duration": 13,
    "start_time": "2021-11-26T19:18:27.953Z"
   },
   {
    "duration": 33,
    "start_time": "2021-11-26T19:18:27.968Z"
   },
   {
    "duration": 13,
    "start_time": "2021-11-26T19:18:28.003Z"
   },
   {
    "duration": 542,
    "start_time": "2021-11-26T19:18:28.018Z"
   },
   {
    "duration": 461,
    "start_time": "2021-11-26T19:18:28.563Z"
   },
   {
    "duration": 12,
    "start_time": "2021-11-26T19:18:29.026Z"
   },
   {
    "duration": 17,
    "start_time": "2021-11-26T19:18:29.040Z"
   },
   {
    "duration": 41,
    "start_time": "2021-11-26T19:18:29.059Z"
   },
   {
    "duration": 658,
    "start_time": "2021-11-26T19:18:29.103Z"
   },
   {
    "duration": 500,
    "start_time": "2021-11-26T19:18:29.763Z"
   },
   {
    "duration": 15,
    "start_time": "2021-11-26T19:18:30.265Z"
   },
   {
    "duration": 32,
    "start_time": "2021-11-26T19:18:30.282Z"
   },
   {
    "duration": 20,
    "start_time": "2021-11-26T19:18:30.316Z"
   },
   {
    "duration": 31,
    "start_time": "2021-11-26T19:18:30.338Z"
   },
   {
    "duration": 16,
    "start_time": "2021-11-26T19:18:54.201Z"
   },
   {
    "duration": 16,
    "start_time": "2021-11-26T19:19:00.123Z"
   },
   {
    "duration": 1429,
    "start_time": "2021-11-26T19:38:47.842Z"
   },
   {
    "duration": 701,
    "start_time": "2021-11-26T19:38:49.274Z"
   },
   {
    "duration": 21,
    "start_time": "2021-11-26T19:38:49.978Z"
   },
   {
    "duration": 22,
    "start_time": "2021-11-26T19:38:50.002Z"
   },
   {
    "duration": 32,
    "start_time": "2021-11-26T19:38:50.027Z"
   },
   {
    "duration": 13,
    "start_time": "2021-11-26T19:38:50.062Z"
   },
   {
    "duration": 33,
    "start_time": "2021-11-26T19:38:50.078Z"
   },
   {
    "duration": 22,
    "start_time": "2021-11-26T19:38:50.115Z"
   },
   {
    "duration": 70,
    "start_time": "2021-11-26T19:38:50.140Z"
   },
   {
    "duration": 145,
    "start_time": "2021-11-26T19:38:50.213Z"
   },
   {
    "duration": 481,
    "start_time": "2021-11-26T19:38:50.360Z"
   },
   {
    "duration": 20,
    "start_time": "2021-11-26T19:38:50.844Z"
   },
   {
    "duration": 54,
    "start_time": "2021-11-26T19:38:50.867Z"
   },
   {
    "duration": 11,
    "start_time": "2021-11-26T19:38:50.924Z"
   },
   {
    "duration": 23,
    "start_time": "2021-11-26T19:38:50.938Z"
   },
   {
    "duration": 86,
    "start_time": "2021-11-26T19:38:50.963Z"
   },
   {
    "duration": 12,
    "start_time": "2021-11-26T19:38:51.052Z"
   },
   {
    "duration": 49,
    "start_time": "2021-11-26T19:38:51.067Z"
   },
   {
    "duration": 38,
    "start_time": "2021-11-26T19:38:51.118Z"
   },
   {
    "duration": 85,
    "start_time": "2021-11-26T19:38:51.159Z"
   },
   {
    "duration": 505,
    "start_time": "2021-11-26T19:38:51.247Z"
   },
   {
    "duration": 15,
    "start_time": "2021-11-26T19:38:51.755Z"
   },
   {
    "duration": 33,
    "start_time": "2021-11-26T19:38:51.778Z"
   },
   {
    "duration": 10,
    "start_time": "2021-11-26T19:38:51.814Z"
   },
   {
    "duration": 12,
    "start_time": "2021-11-26T19:38:51.827Z"
   },
   {
    "duration": 12,
    "start_time": "2021-11-26T19:38:51.842Z"
   },
   {
    "duration": 51,
    "start_time": "2021-11-26T19:38:51.857Z"
   },
   {
    "duration": 21,
    "start_time": "2021-11-26T19:38:51.910Z"
   },
   {
    "duration": 35,
    "start_time": "2021-11-26T19:38:51.934Z"
   },
   {
    "duration": 486,
    "start_time": "2021-11-26T19:38:51.972Z"
   },
   {
    "duration": 24,
    "start_time": "2021-11-26T19:38:52.460Z"
   },
   {
    "duration": 17,
    "start_time": "2021-11-26T19:38:52.500Z"
   },
   {
    "duration": 30,
    "start_time": "2021-11-26T19:38:52.520Z"
   },
   {
    "duration": 480,
    "start_time": "2021-11-26T19:38:52.553Z"
   },
   {
    "duration": 76,
    "start_time": "2021-11-26T19:38:53.036Z"
   },
   {
    "duration": 67,
    "start_time": "2021-11-26T19:38:53.114Z"
   },
   {
    "duration": 59,
    "start_time": "2021-11-26T19:38:53.184Z"
   },
   {
    "duration": 70,
    "start_time": "2021-11-26T19:38:53.247Z"
   },
   {
    "duration": 51,
    "start_time": "2021-11-26T19:38:53.319Z"
   },
   {
    "duration": 38,
    "start_time": "2021-11-26T19:38:53.372Z"
   },
   {
    "duration": 9,
    "start_time": "2021-11-26T19:38:53.412Z"
   },
   {
    "duration": 17862,
    "start_time": "2021-11-26T19:38:53.423Z"
   },
   {
    "duration": 20,
    "start_time": "2021-11-26T19:39:11.288Z"
   },
   {
    "duration": 560,
    "start_time": "2021-11-26T19:39:11.310Z"
   },
   {
    "duration": 492,
    "start_time": "2021-11-26T19:39:11.872Z"
   },
   {
    "duration": 13,
    "start_time": "2021-11-26T19:39:12.367Z"
   },
   {
    "duration": 30,
    "start_time": "2021-11-26T19:39:12.382Z"
   },
   {
    "duration": 12,
    "start_time": "2021-11-26T19:39:12.415Z"
   },
   {
    "duration": 674,
    "start_time": "2021-11-26T19:39:12.429Z"
   },
   {
    "duration": 473,
    "start_time": "2021-11-26T19:39:13.106Z"
   },
   {
    "duration": 25,
    "start_time": "2021-11-26T19:39:13.582Z"
   },
   {
    "duration": 28,
    "start_time": "2021-11-26T19:39:13.610Z"
   },
   {
    "duration": 22,
    "start_time": "2021-11-26T19:39:13.640Z"
   },
   {
    "duration": 581,
    "start_time": "2021-11-26T19:39:13.665Z"
   },
   {
    "duration": 495,
    "start_time": "2021-11-26T19:39:14.249Z"
   },
   {
    "duration": 14,
    "start_time": "2021-11-26T19:39:14.747Z"
   },
   {
    "duration": 37,
    "start_time": "2021-11-26T19:39:14.763Z"
   },
   {
    "duration": 16,
    "start_time": "2021-11-26T19:39:14.803Z"
   },
   {
    "duration": 36,
    "start_time": "2021-11-26T19:39:14.822Z"
   },
   {
    "duration": 15,
    "start_time": "2021-11-26T19:39:14.860Z"
   },
   {
    "duration": 29,
    "start_time": "2021-11-26T19:39:14.878Z"
   },
   {
    "duration": 19,
    "start_time": "2021-11-26T19:39:14.909Z"
   },
   {
    "duration": 16,
    "start_time": "2021-11-26T19:39:14.930Z"
   }
  ],
  "kernelspec": {
   "display_name": "Python 3",
   "language": "python",
   "name": "python3"
  },
  "language_info": {
   "codemirror_mode": {
    "name": "ipython",
    "version": 3
   },
   "file_extension": ".py",
   "mimetype": "text/x-python",
   "name": "python",
   "nbconvert_exporter": "python",
   "pygments_lexer": "ipython3",
   "version": "3.8.5"
  },
  "toc": {
   "base_numbering": 1,
   "nav_menu": {},
   "number_sections": true,
   "sideBar": true,
   "skip_h1_title": true,
   "title_cell": "Table of Contents",
   "title_sidebar": "Contents",
   "toc_cell": true,
   "toc_position": {},
   "toc_section_display": true,
   "toc_window_display": false
  }
 },
 "nbformat": 4,
 "nbformat_minor": 2
}
